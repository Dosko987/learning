{
  "nbformat": 4,
  "nbformat_minor": 0,
  "metadata": {
    "colab": {
      "name": "LinearProg.ipynb",
      "provenance": [],
      "toc_visible": true,
      "include_colab_link": true
    },
    "kernelspec": {
      "name": "python3",
      "display_name": "Python 3"
    }
  },
  "cells": [
    {
      "cell_type": "markdown",
      "metadata": {
        "id": "view-in-github",
        "colab_type": "text"
      },
      "source": [
        "<a href=\"https://colab.research.google.com/github/hrbolek/learning/blob/master/operanalyst/linearprog.ipynb\" target=\"_parent\"><img src=\"https://colab.research.google.com/assets/colab-badge.svg\" alt=\"Open In Colab\"/></a>"
      ]
    },
    {
      "cell_type": "code",
      "metadata": {
        "id": "MNGyqgmSeXjd"
      },
      "source": [
        ""
      ],
      "execution_count": null,
      "outputs": []
    },
    {
      "cell_type": "markdown",
      "metadata": {
        "id": "IrEXprUrJG_D"
      },
      "source": [
        "https://math.feld.cvut.cz/bohata/oth/p6.pdf\n",
        "http://labe.felk.cvut.cz/~tkrajnik/sdu/slides/slides9.pdf"
      ]
    },
    {
      "cell_type": "markdown",
      "metadata": {
        "id": "DjI7Wb_dcleK"
      },
      "source": [
        "# Lineární programování"
      ]
    },
    {
      "cell_type": "markdown",
      "metadata": {
        "id": "d70j49q_1rZC"
      },
      "source": [
        "$max\\{c^Tx:Ax\\le b\\}$"
      ]
    },
    {
      "cell_type": "markdown",
      "metadata": {
        "id": "QTEHo2FmcGlK"
      },
      "source": [
        "## Kanonický tvar úlohy lineárního programování"
      ]
    },
    {
      "cell_type": "markdown",
      "metadata": {
        "id": "J90AeBjO2F5W"
      },
      "source": [
        "$max\\{c^Tx:Ax = b, x \\le 0\\}$"
      ]
    },
    {
      "cell_type": "markdown",
      "metadata": {
        "id": "ONxPPb8KcL77"
      },
      "source": [
        "## Převedení úlohy lineárního programování na kanonický tvar"
      ]
    },
    {
      "cell_type": "markdown",
      "metadata": {
        "id": "i7Gnj8yT2RE0"
      },
      "source": [
        "### Úloha na minimum na úlohu na maximum"
      ]
    },
    {
      "cell_type": "markdown",
      "metadata": {
        "id": "0pBfNE9r2XA0"
      },
      "source": [
        "$max\\{c^Tx:Ax\\le b\\}$\n",
        "\n",
        "$min\\{-c^Tx:Ax\\le b\\}$"
      ]
    },
    {
      "cell_type": "markdown",
      "metadata": {
        "id": "qW-VCM9C2gz3"
      },
      "source": [
        "### Úloha s nerovnostmi na úlohu s rovnostmi"
      ]
    },
    {
      "cell_type": "markdown",
      "metadata": {
        "id": "l_-tSBe0cgGa"
      },
      "source": [
        "#### Příklad\n",
        "\n",
        "$$f(x)=x_1+3x_2 \\to max$$\n",
        "$$-2x_1+x_2\\le 5$$\n",
        "$$-3x_1+x_2=7$$\n",
        "$$x_1\\ge 0, x_2\\ge 0$$"
      ]
    },
    {
      "cell_type": "markdown",
      "metadata": {
        "id": "aQ5TFlhcdlD8"
      },
      "source": [
        "#### Řešení\n",
        "$$f(x)=x_1+3x_2 \\to max$$\n",
        "$$-2x_1+x_2+x_3= 5$$\n",
        "$$-3x_1+x_2=7$$\n",
        "$$x_1\\ge 0, x_2\\ge 0, x_3\\ge 0$$"
      ]
    },
    {
      "cell_type": "markdown",
      "metadata": {
        "id": "ccclK7GA2rjI"
      },
      "source": [
        ""
      ]
    },
    {
      "cell_type": "markdown",
      "metadata": {
        "id": "YcCe4d0cvyHQ"
      },
      "source": [
        "## Příklady"
      ]
    },
    {
      "cell_type": "markdown",
      "metadata": {
        "id": "3yxGZd44v1gV"
      },
      "source": [
        "### Příklad 1"
      ]
    },
    {
      "cell_type": "markdown",
      "metadata": {
        "id": "mZGIzCEVv5jl"
      },
      "source": [
        "Surový materiál je dodáván v délce 7 m. Požadavek je produkovat délky 2.3 m (A), 1.9 m (B) a 0.8 m (C) v počtech A 60 ks, B 90 ks a C 320 ks. Stanovte minimální počet kusů surového materiálu."
      ]
    },
    {
      "cell_type": "code",
      "metadata": {
        "id": "HtoI84V9LVw0"
      },
      "source": [
        "delkaZdroje = 7\n",
        "delkyVysledku = (2.3, 1.9, 0.8) \n",
        "poctyVysledku = (60, 90, 320)"
      ],
      "execution_count": null,
      "outputs": []
    },
    {
      "cell_type": "code",
      "metadata": {
        "id": "Ewu3eDat2lQt",
        "outputId": "cf80fb49-50da-43e7-fb8c-64b51eeb817c",
        "colab": {
          "base_uri": "https://localhost:8080/",
          "height": 201
        }
      },
      "source": [
        "def cutIt(source, results):\n",
        "  '''\n",
        "  Pocita mozne rozrezani materialu, \n",
        "  zdrojovy material je source, results cilove delky\n",
        "  '''\n",
        "  \n",
        "  noyield = True # zadny vysledek nebyl vygenerovan\n",
        "  for current in results:\n",
        "    \n",
        "    if current <= source: # rez lze provest jen tehdy, pokud je surovina delsi nez vysledek\n",
        "      \n",
        "      # zjistime mozne rezy ze zbytku\n",
        "      for cutting in cutIt(source - current, results):\n",
        "        if len(cutting) == 0:\n",
        "          # rez je \"nerez\", vracena prazdna konfigurace\n",
        "          noyield = False\n",
        "          yield [current] # vysledna konfigurace rezu tedy obsahuje jen jeden prvek\n",
        "          continue\n",
        "        if current >= max(cutting):\n",
        "          # vraceny cutting je serazen podle velikost, tedy zastupuje vsechny ekvivalentni kombinace \n",
        "          noyield = False\n",
        "          yield [current, *cutting]\n",
        "  if noyield:\n",
        "    # zadna konfigurace rezu nebyla vracena, musime vratit prazdnou konfiguraci\n",
        "    yield []\n",
        "\n",
        "for index, possibleCut in enumerate(cutIt(delkaZdroje, delkyVysledku)):\n",
        "  print(index, '.\\tcut:', possibleCut, '\\tΣ', sum(possibleCut))"
      ],
      "execution_count": null,
      "outputs": [
        {
          "output_type": "stream",
          "text": [
            "0 .\tcut: [2.3, 2.3, 2.3] \tΣ 6.8999999999999995\n",
            "1 .\tcut: [2.3, 2.3, 1.9] \tΣ 6.5\n",
            "2 .\tcut: [2.3, 2.3, 0.8, 0.8, 0.8] \tΣ 6.999999999999999\n",
            "3 .\tcut: [2.3, 1.9, 1.9, 0.8] \tΣ 6.8999999999999995\n",
            "4 .\tcut: [2.3, 1.9, 0.8, 0.8, 0.8] \tΣ 6.599999999999999\n",
            "5 .\tcut: [2.3, 0.8, 0.8, 0.8, 0.8, 0.8] \tΣ 6.299999999999999\n",
            "6 .\tcut: [1.9, 1.9, 1.9, 0.8] \tΣ 6.499999999999999\n",
            "7 .\tcut: [1.9, 1.9, 0.8, 0.8, 0.8] \tΣ 6.199999999999999\n",
            "8 .\tcut: [1.9, 0.8, 0.8, 0.8, 0.8, 0.8, 0.8] \tΣ 6.699999999999999\n",
            "9 .\tcut: [0.8, 0.8, 0.8, 0.8, 0.8, 0.8, 0.8, 0.8] \tΣ 6.3999999999999995\n"
          ],
          "name": "stdout"
        }
      ]
    },
    {
      "cell_type": "code",
      "metadata": {
        "id": "92lOo9ET9Oae",
        "outputId": "a3144174-b58a-438c-c9e4-b3263c80964e",
        "colab": {
          "base_uri": "https://localhost:8080/",
          "height": 201
        }
      },
      "source": [
        "def countIt(configuration, results):\n",
        "  result = {}\n",
        "  for item in results:\n",
        "    result[item] = 0\n",
        "  for item in configuration:\n",
        "    result[item] += 1\n",
        "  return result\n",
        "\n",
        "def countAll(configurations, results):\n",
        "  for configuration in configurations:\n",
        "    yield countIt(configuration, results)\n",
        "\n",
        "variants = list(countAll(cutIt(delkaZdroje, delkyVysledku), delkyVysledku))\n",
        "\n",
        "for index, possibleCut in enumerate(variants):\n",
        "  print(index, '.\\tcut:', possibleCut, '\\tΣ', sum(map(lambda x: x[0] * x[1], possibleCut.items())))"
      ],
      "execution_count": null,
      "outputs": [
        {
          "output_type": "stream",
          "text": [
            "0 .\tcut: {2.3: 3, 1.9: 0, 0.8: 0} \tΣ 6.8999999999999995\n",
            "1 .\tcut: {2.3: 2, 1.9: 1, 0.8: 0} \tΣ 6.5\n",
            "2 .\tcut: {2.3: 2, 1.9: 0, 0.8: 3} \tΣ 7.0\n",
            "3 .\tcut: {2.3: 1, 1.9: 2, 0.8: 1} \tΣ 6.8999999999999995\n",
            "4 .\tcut: {2.3: 1, 1.9: 1, 0.8: 3} \tΣ 6.6\n",
            "5 .\tcut: {2.3: 1, 1.9: 0, 0.8: 5} \tΣ 6.3\n",
            "6 .\tcut: {2.3: 0, 1.9: 3, 0.8: 1} \tΣ 6.499999999999999\n",
            "7 .\tcut: {2.3: 0, 1.9: 2, 0.8: 3} \tΣ 6.2\n",
            "8 .\tcut: {2.3: 0, 1.9: 1, 0.8: 6} \tΣ 6.700000000000001\n",
            "9 .\tcut: {2.3: 0, 1.9: 0, 0.8: 8} \tΣ 6.4\n"
          ],
          "name": "stdout"
        }
      ]
    },
    {
      "cell_type": "code",
      "metadata": {
        "id": "N0db3Jm6KNwu",
        "outputId": "379f579c-b9dd-413a-a6d3-847104704516",
        "colab": {
          "base_uri": "https://localhost:8080/",
          "height": 90
        }
      },
      "source": [
        "for result, count in zip(delkyVysledku, poctyVysledku):\n",
        "  for index, variant in enumerate(variants):\n",
        "    if (variant[result] == 0):\n",
        "      print('\\t\\t', end='')\n",
        "    else:\n",
        "      print('\\t + ', variant[result], ' * x', index, sep='', end='')\n",
        "  print('\\t >=', count)\n",
        "  \n",
        "for index, variant in enumerate(variants):\n",
        "  print(' + x', index, sep='', end='')\n",
        "print(' -> min')\n"
      ],
      "execution_count": null,
      "outputs": [
        {
          "output_type": "stream",
          "text": [
            "\t + 3 * x0\t + 2 * x1\t + 2 * x2\t + 1 * x3\t + 1 * x4\t + 1 * x5\t\t\t\t\t\t\t\t\t >= 60\n",
            "\t\t\t + 1 * x1\t\t\t + 2 * x3\t + 1 * x4\t\t\t + 3 * x6\t + 2 * x7\t + 1 * x8\t\t\t >= 90\n",
            "\t\t\t\t\t + 3 * x2\t + 1 * x3\t + 3 * x4\t + 5 * x5\t + 1 * x6\t + 3 * x7\t + 6 * x8\t + 8 * x9\t >= 320\n",
            " + x0 + x1 + x2 + x3 + x4 + x5 + x6 + x7 + x8 + x9 -> min\n"
          ],
          "name": "stdout"
        }
      ]
    },
    {
      "cell_type": "code",
      "metadata": {
        "id": "8ogTKTuvPBnF",
        "outputId": "a5c6ccdb-0c3a-454c-84f8-b483b9504fb0",
        "colab": {
          "base_uri": "https://localhost:8080/",
          "height": 294
        }
      },
      "source": [
        "#https://docs.scipy.org/doc/scipy/reference/generated/scipy.optimize.linprog.html\n",
        "from scipy.optimize import linprog\n",
        "c = [1] * len(variants)\n",
        "bounds=[(0, None)] * len(variants)\n",
        "Ax = [0] * len(variants)\n",
        "A = [[*Ax] for item in delkyVysledku]\n",
        "print(A)\n",
        "for i, result, count in zip(range(1000), delkyVysledku, poctyVysledku):\n",
        "  for j, variant in enumerate(variants):\n",
        "    A[i][j] = -variant[result]\n",
        "\n",
        "b = [-value for value in delkyVysledku]\n",
        "\n",
        "print(A)\n",
        "print(b)\n",
        "print(c)\n",
        "print(bounds)\n",
        "res = linprog(c, A_ub=A, b_ub=b, bounds=bounds, method='revised simplex')\n",
        "print(res)"
      ],
      "execution_count": null,
      "outputs": [
        {
          "output_type": "stream",
          "text": [
            "[[0, 0, 0, 0, 0, 0, 0, 0, 0, 0], [0, 0, 0, 0, 0, 0, 0, 0, 0, 0], [0, 0, 0, 0, 0, 0, 0, 0, 0, 0]]\n",
            "[[-3, -2, -2, -1, -1, -1, 0, 0, 0, 0], [0, -1, 0, -2, -1, 0, -3, -2, -1, 0], [0, 0, -3, -1, -3, -5, -1, -3, -6, -8]]\n",
            "[-2.3, -1.9, -0.8]\n",
            "[1, 1, 1, 1, 1, 1, 1, 1, 1, 1]\n",
            "[(None, None), (None, None), (None, None), (None, None), (None, None), (None, None), (None, None), (None, None), (None, None), (None, None)]\n",
            "     con: array([], dtype=float64)\n",
            "     fun: 1.26875\n",
            " message: 'The problem is unbounded, as the simplex algorithm found a basic feasible solution from which there is a direction with negative reduced cost in which all decision variables increase.'\n",
            "     nit: 5\n",
            "   slack: array([0.00000000e+00, 4.44089210e-16, 2.22044605e-16])\n",
            "  status: 3\n",
            " success: False\n",
            "       x: array([ 0.     ,  0.     ,  0.     ,  2.3    ,  0.     ,  0.     ,\n",
            "        0.     , -1.35   ,  0.     ,  0.31875])\n"
          ],
          "name": "stdout"
        }
      ]
    },
    {
      "cell_type": "code",
      "metadata": {
        "id": "jO-61g8eZecu",
        "outputId": "f0501d96-9c5f-4d13-b978-c2ac67e2230c",
        "colab": {
          "base_uri": "https://localhost:8080/",
          "height": 184
        }
      },
      "source": [
        "c = [-1, 4, 1]\n",
        "A = [[-3, 1, 1], [1, 2, 1]]\n",
        "b = [6, 4]\n",
        "x0_bounds = (None, None)\n",
        "x1_bounds = (-3, None)\n",
        "x2_bounds = (None, None)\n",
        "from scipy.optimize import linprog\n",
        "res = linprog(c, A_ub=A, b_ub=b, bounds=[x0_bounds, x1_bounds, x2_bounds], method='revised simplex')\n",
        "print(res)"
      ],
      "execution_count": null,
      "outputs": [
        {
          "output_type": "stream",
          "text": [
            "     con: array([], dtype=float64)\n",
            "     fun: -22.0\n",
            " message: 'The problem is unbounded, as the simplex algorithm found a basic feasible solution from which there is a direction with negative reduced cost in which all decision variables increase.'\n",
            "     nit: 1\n",
            "   slack: array([39.,  0.])\n",
            "  status: 3\n",
            " success: False\n",
            "       x: array([10., -3.,  0.])\n"
          ],
          "name": "stdout"
        }
      ]
    },
    {
      "cell_type": "code",
      "metadata": {
        "id": "PSyF5IpgeJMN"
      },
      "source": [
        ""
      ],
      "execution_count": null,
      "outputs": []
    },
    {
      "cell_type": "markdown",
      "metadata": {
        "id": "eUIG51Eje3Kz"
      },
      "source": [
        "#### Příklad\n",
        "$$f(x)=3x_1+2x_2 \\to max$$\n",
        "$$2x_1+x_2\\le 100$$\n",
        "$$x_1+x_2\\le 80$$\n",
        "$$x_1 \\le 40$$\n",
        "$$x_1\\ge 0, x_2\\ge 0$$"
      ]
    },
    {
      "cell_type": "markdown",
      "metadata": {
        "id": "7Gzpib0SejSG"
      },
      "source": [
        ""
      ]
    },
    {
      "cell_type": "code",
      "metadata": {
        "id": "GIxnlCRLgIbE",
        "outputId": "ae372bbf-7801-4b85-f476-2cbacf97136c",
        "colab": {
          "base_uri": "https://localhost:8080/",
          "height": 623
        }
      },
      "source": [
        "import numpy as np\n",
        "import matplotlib.pyplot as plt\n",
        "\n",
        "def createLinearFunc2D(a1, a2, b=0):\n",
        "  def func(x1):\n",
        "    result = (a1 * x1 - b) / (-a2)\n",
        "    return result\n",
        "  return func\n",
        "\n",
        "def plot(*f, xmin=0, xmax=10, ymin=0, ymax=10):\n",
        "  x = np.linspace(xmin, xmax)\n",
        "  for func in f:\n",
        "    y = func(x)\n",
        "    plt.plot(x, y)\n",
        "  plt.show()\n",
        "\n",
        "f1 = createLinearFunc2D(2, 1, 100)\n",
        "f2 = createLinearFunc2D(1, 1, 80)\n",
        "f3 = createLinearFunc2D(1, 0, 40)\n",
        "nx1 = createLinearFunc2D(1, 0, 0)\n",
        "nx2 = createLinearFunc2D(0, 1, 0)\n",
        "\n",
        "plot(f1, f2, f3, nx1, nx2, xmax=80,ymax=80)\n",
        "plt.show()\n",
        "\n",
        "def plotf2D(a1, a2, b, xmin=0, xmax=10, ymin=0, ymax=10):\n",
        "  # a1 * x1 + a2 * x2 = b\n",
        "  def byx(x):\n",
        "    result = (a1 * x - b) / (-a2)\n",
        "    return result\n",
        "  def byy(y):\n",
        "    result = (a2 * y - b) / (-a1)\n",
        "    return result\n",
        "\n",
        "  if abs(a1) < abs(a2):\n",
        "    x = np.linspace(xmin, xmax)\n",
        "    y = byx(x)\n",
        "    plt.plot(x, y)\n",
        "  else:\n",
        "    y = np.linspace(ymin, ymax)\n",
        "    x = byy(y)\n",
        "    plt.plot(x, y)\n",
        "\n",
        "plotf2D(2, 1, 100, xmax=80,ymax=80)\n",
        "plotf2D(1, 1, 80, xmax=80,ymax=80)\n",
        "plotf2D(1, 0, 40, xmax=80,ymax=80)\n",
        "plotf2D(1, 0, 0, xmax=80,ymax=80)\n",
        "plotf2D(0, 1, 0, xmax=80,ymax=80)\n",
        "plt.grid(which='both')\n",
        "#plt.gca()\n",
        "plt.show()    "
      ],
      "execution_count": 12,
      "outputs": [
        {
          "output_type": "stream",
          "text": [
            "/usr/local/lib/python3.6/dist-packages/ipykernel_launcher.py:6: RuntimeWarning: divide by zero encountered in true_divide\n",
            "  \n",
            "/usr/local/lib/python3.6/dist-packages/ipykernel_launcher.py:6: RuntimeWarning: divide by zero encountered in true_divide\n",
            "  \n",
            "/usr/local/lib/python3.6/dist-packages/ipykernel_launcher.py:6: RuntimeWarning: invalid value encountered in true_divide\n",
            "  \n"
          ],
          "name": "stderr"
        },
        {
          "output_type": "display_data",
          "data": {
            "image/png": "[encoded data removed]",
            "text/plain": [
              "<Figure size 432x288 with 1 Axes>"
            ]
          },
          "metadata": {
            "tags": [],
            "needs_background": "light"
          }
        },
        {
          "output_type": "display_data",
          "data": {
            "image/png": "[encoded data removed]",
            "text/plain": [
              "<Figure size 432x288 with 1 Axes>"
            ]
          },
          "metadata": {
            "tags": [],
            "needs_background": "light"
          }
        }
      ]
    }
  ]
}