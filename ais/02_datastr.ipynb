{
  "nbformat": 4,
  "nbformat_minor": 0,
  "metadata": {
    "colab": {
      "name": "02_datastr.ipynb",
      "provenance": [],
      "toc_visible": true,
      "authorship_tag": "ABX9TyOMUhztbaSJfG15hTEy03jR",
      "include_colab_link": true
    },
    "kernelspec": {
      "name": "python3",
      "display_name": "Python 3"
    },
    "language_info": {
      "name": "python"
    }
  },
  "cells": [
    {
      "cell_type": "markdown",
      "metadata": {
        "id": "view-in-github",
        "colab_type": "text"
      },
      "source": [
        "<a href=\"https://colab.research.google.com/github/hrbolek/learning/blob/master/ais/02_datastr.ipynb\" target=\"_parent\"><img src=\"https://colab.research.google.com/assets/colab-badge.svg\" alt=\"Open In Colab\"/></a>"
      ]
    },
    {
      "cell_type": "markdown",
      "metadata": {
        "id": "sJNR1E0ztJZM"
      },
      "source": [
        "# Datové struktury"
      ]
    },
    {
      "cell_type": "markdown",
      "metadata": {
        "id": "phipGOJ8saKF"
      },
      "source": [
        "- Datové struktury\n",
        "    - Elementární datové struktury\n",
        "        - Znak\n",
        "        - Číslo (IEEE 754)\n",
        "        - Bool\n",
        "    - Komplexní datové struktury\n",
        "        - List (Python)\n",
        "        - Dict (Python)\n",
        "        - Tree\n",
        "        - Graph\n",
        "    - Principiální algoritmy pro práci s datovými strukturami\n",
        "        - Třídění\n",
        "        - Vyhledávání \n",
        "        - Výpočetní složitost"
      ]
    },
    {
      "cell_type": "markdown",
      "metadata": {
        "id": "GkQ__rXZtO_m"
      },
      "source": [
        "## Elementární datové struktury"
      ]
    },
    {
      "cell_type": "markdown",
      "metadata": {
        "id": "Y7QStLaytRFa"
      },
      "source": [
        "## Komplexní datové struktury"
      ]
    },
    {
      "cell_type": "markdown",
      "metadata": {
        "id": "Aap_MfYEtR7b"
      },
      "source": [
        "## Principiální algoritmy pro práci s datovými strukturami"
      ]
    }
  ]
}