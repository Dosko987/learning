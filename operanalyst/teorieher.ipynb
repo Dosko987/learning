{
  "nbformat": 4,
  "nbformat_minor": 0,
  "metadata": {
    "colab": {
      "name": "TeorieHer.ipynb",
      "provenance": [],
      "authorship_tag": "ABX9TyNPGRl0PmOQqvCYL4OVZzMh",
      "include_colab_link": true
    },
    "kernelspec": {
      "name": "python3",
      "display_name": "Python 3"
    }
  },
  "cells": [
    {
      "cell_type": "markdown",
      "metadata": {
        "id": "view-in-github",
        "colab_type": "text"
      },
      "source": [
        "<a href=\"https://colab.research.google.com/github/hrbolek/learning/blob/master/operanalyst/teorieher.ipynb\" target=\"_parent\"><img src=\"https://colab.research.google.com/assets/colab-badge.svg\" alt=\"Open In Colab\"/></a>"
      ]
    },
    {
      "cell_type": "markdown",
      "metadata": {
        "id": "8TNZCcYEGJnZ"
      },
      "source": [
        "# Teorie Her"
      ]
    },
    {
      "cell_type": "markdown",
      "metadata": {
        "id": "4AL8RghsGMej"
      },
      "source": [
        "## Rozdělení"
      ]
    },
    {
      "cell_type": "markdown",
      "metadata": {
        "id": "B5DEFjNLGWEP"
      },
      "source": [
        "Podle ceny\n",
        "- hry s nulovým součtem\n",
        "- hry s nenulovým součtem\n",
        "\n",
        "Podle vzahu hráčů\n",
        "- hry antagonistické\n",
        "- hry kooperativní\n",
        "- hry proti přírodě\n",
        "\n",
        "Podle počtu strategií\n",
        "- konečné hry\n",
        "- nekonečné hry"
      ]
    },
    {
      "cell_type": "markdown",
      "metadata": {
        "id": "6Qmk3tadGQOc"
      },
      "source": [
        "## Maticové hry"
      ]
    },
    {
      "cell_type": "markdown",
      "metadata": {
        "id": "4OykJaPwG9jg"
      },
      "source": [
        "Hra \"Kámen-nůžky-papír\"\n",
        "\n",
        "3 strategie obou hráčů \n",
        "- kámen\n",
        "- nůžky\n",
        "- papír\n",
        "\n",
        "Výsledek hry\n",
        "- kámen vs. kámen = 0\n",
        "- kámen vs. nůžky = 1\n",
        "- kámen vs. papír = -1\n",
        "- nůžky vs. kámen = -1\n",
        "- nůžky vs. nůžky = 0\n",
        "- nůžky vs. papír = 1\n",
        "- papír vs. kámen = 1\n",
        "- papír vs. nůžky = -1\n",
        "- papír vs. papír = 0\n",
        "\n",
        "Vyjádřeno v matici\n",
        "\n",
        "$$\\begin{pmatrix}\n",
        "0 & 1 & -1 \\\\\n",
        "-1 & 0 & 1 \\\\\n",
        "1 & -1 & 0 \n",
        "\\end{pamtrix}$$"
      ]
    },
    {
      "cell_type": "code",
      "metadata": {
        "id": "-QKVllVCG3kL"
      },
      "source": [
        ""
      ],
      "execution_count": null,
      "outputs": []
    },
    {
      "cell_type": "code",
      "metadata": {
        "id": "hoJo52WMFnNp"
      },
      "source": [
        ""
      ],
      "execution_count": null,
      "outputs": []
    }
  ]
}