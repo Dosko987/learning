{
  "nbformat": 4,
  "nbformat_minor": 0,
  "metadata": {
    "colab": {
      "name": "maptheory.ipynb",
      "provenance": [],
      "toc_visible": true,
      "authorship_tag": "ABX9TyOenpPanrU/U5XL6pPTg9gB",
      "include_colab_link": true
    },
    "kernelspec": {
      "name": "python3",
      "display_name": "Python 3"
    }
  },
  "cells": [
    {
      "cell_type": "markdown",
      "metadata": {
        "id": "view-in-github",
        "colab_type": "text"
      },
      "source": [
        "<a href=\"https://colab.research.google.com/github/hrbolek/learning/blob/master/simulation/maptheory.ipynb\" target=\"_parent\"><img src=\"https://colab.research.google.com/assets/colab-badge.svg\" alt=\"Open In Colab\"/></a>"
      ]
    },
    {
      "cell_type": "markdown",
      "metadata": {
        "id": "wH-I8RfqcN2G",
        "colab_type": "text"
      },
      "source": [
        "# Teorie pro práci s mapami"
      ]
    },
    {
      "cell_type": "markdown",
      "metadata": {
        "id": "PZUxxhE_cTjL",
        "colab_type": "text"
      },
      "source": [
        "## Matematické základy"
      ]
    },
    {
      "cell_type": "markdown",
      "metadata": {
        "id": "QbFgY671cXaa",
        "colab_type": "text"
      },
      "source": [
        "### Lineární transformace"
      ]
    },
    {
      "cell_type": "markdown",
      "metadata": {
        "id": "EAArmTJGcb5l",
        "colab_type": "text"
      },
      "source": [
        "Chceme-li na určitém intervalu zobrazit jiný interval, můžeme toto provést s pomocí tzv. lineární transformace.\n",
        "\n",
        "Nechť zobrazovaný interval má rozsah $<a_0;a_1>$ a má být zobrazen na interval $<b_0;b_1>$. Hledáme funkci $f$, pro kterou platí $f(a_0)=b_0$ a $f(a_1)=b_1$. Vzhledem k povaze úlohy je dostatečné konstatovat, že tato funkce je ve tvaru $f(x) = k \\cdot x + c$. Odtud lze napsat soustavu rovnic\n",
        "$$\n",
        "b_0=k \\cdot a_0 + c \\\\\n",
        "b_1=k \\cdot a_1 + c\n",
        "$$\n",
        "\n",
        "Jedná se o systém dvou lineráních rovnic o dvou neznámých, jehož řešení je triviální."
      ]
    },
    {
      "cell_type": "code",
      "metadata": {
        "id": "0JeKM_EMb8FM",
        "colab_type": "code",
        "colab": {}
      },
      "source": [
        ""
      ],
      "execution_count": null,
      "outputs": []
    }
  ]
}