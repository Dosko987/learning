{
  "nbformat": 4,
  "nbformat_minor": 0,
  "metadata": {
    "colab": {
      "name": "LinearProg.ipynb",
      "provenance": [],
      "toc_visible": true,
      "authorship_tag": "ABX9TyOkh6MNf5htTCMHnBmI2rrt",
      "include_colab_link": true
    },
    "kernelspec": {
      "name": "python3",
      "display_name": "Python 3"
    }
  },
  "cells": [
    {
      "cell_type": "markdown",
      "metadata": {
        "id": "view-in-github",
        "colab_type": "text"
      },
      "source": [
        "<a href=\"https://colab.research.google.com/github/hrbolek/learning/blob/master/operanalyst/linearprog.ipynb\" target=\"_parent\"><img src=\"https://colab.research.google.com/assets/colab-badge.svg\" alt=\"Open In Colab\"/></a>"
      ]
    },
    {
      "cell_type": "code",
      "metadata": {
        "id": "MNGyqgmSeXjd",
        "colab_type": "code",
        "colab": {}
      },
      "source": [
        ""
      ],
      "execution_count": 40,
      "outputs": []
    },
    {
      "cell_type": "markdown",
      "metadata": {
        "id": "YcCe4d0cvyHQ",
        "colab_type": "text"
      },
      "source": [
        "## Příklady"
      ]
    },
    {
      "cell_type": "markdown",
      "metadata": {
        "id": "3yxGZd44v1gV",
        "colab_type": "text"
      },
      "source": [
        "### Příklad 1"
      ]
    },
    {
      "cell_type": "markdown",
      "metadata": {
        "id": "mZGIzCEVv5jl",
        "colab_type": "text"
      },
      "source": [
        "Surový materiál je dodáván v délce 7 m. Požadavek je produkovat délky 2.3 m (A), 1.9 m (B) a 0.8 m (C) v počtech A 60 ks, B 90 ks a C 320 ks. Stanovte minimální počet kusů surového materiálu."
      ]
    },
    {
      "cell_type": "code",
      "metadata": {
        "id": "HtoI84V9LVw0",
        "colab_type": "code",
        "colab": {}
      },
      "source": [
        "delkaZdroje = 7\n",
        "delkyVysledku = (2.3, 1.9, 0.8) \n",
        "poctyVysledku = (60, 90, 320)"
      ],
      "execution_count": 41,
      "outputs": []
    },
    {
      "cell_type": "code",
      "metadata": {
        "id": "Ewu3eDat2lQt",
        "colab_type": "code",
        "colab": {
          "base_uri": "https://localhost:8080/",
          "height": 201
        },
        "outputId": "cf80fb49-50da-43e7-fb8c-64b51eeb817c"
      },
      "source": [
        "def cutIt(source, results):\n",
        "  '''\n",
        "  Pocita mozne rozrezani materialu, \n",
        "  zdrojovy material je source, results cilove delky\n",
        "  '''\n",
        "  \n",
        "  noyield = True # zadny vysledek nebyl vygenerovan\n",
        "  for current in results:\n",
        "    \n",
        "    if current <= source: # rez lze provest jen tehdy, pokud je surovina delsi nez vysledek\n",
        "      \n",
        "      # zjistime mozne rezy ze zbytku\n",
        "      for cutting in cutIt(source - current, results):\n",
        "        if len(cutting) == 0:\n",
        "          # rez je \"nerez\", vracena prazdna konfigurace\n",
        "          noyield = False\n",
        "          yield [current] # vysledna konfigurace rezu tedy obsahuje jen jeden prvek\n",
        "          continue\n",
        "        if current >= max(cutting):\n",
        "          # vraceny cutting je serazen podle velikost, tedy zastupuje vsechny ekvivalentni kombinace \n",
        "          noyield = False\n",
        "          yield [current, *cutting]\n",
        "  if noyield:\n",
        "    # zadna konfigurace rezu nebyla vracena, musime vratit prazdnou konfiguraci\n",
        "    yield []\n",
        "\n",
        "for index, possibleCut in enumerate(cutIt(delkaZdroje, delkyVysledku)):\n",
        "  print(index, '.\\tcut:', possibleCut, '\\tΣ', sum(possibleCut))"
      ],
      "execution_count": 42,
      "outputs": [
        {
          "output_type": "stream",
          "text": [
            "0 .\tcut: [2.3, 2.3, 2.3] \tΣ 6.8999999999999995\n",
            "1 .\tcut: [2.3, 2.3, 1.9] \tΣ 6.5\n",
            "2 .\tcut: [2.3, 2.3, 0.8, 0.8, 0.8] \tΣ 6.999999999999999\n",
            "3 .\tcut: [2.3, 1.9, 1.9, 0.8] \tΣ 6.8999999999999995\n",
            "4 .\tcut: [2.3, 1.9, 0.8, 0.8, 0.8] \tΣ 6.599999999999999\n",
            "5 .\tcut: [2.3, 0.8, 0.8, 0.8, 0.8, 0.8] \tΣ 6.299999999999999\n",
            "6 .\tcut: [1.9, 1.9, 1.9, 0.8] \tΣ 6.499999999999999\n",
            "7 .\tcut: [1.9, 1.9, 0.8, 0.8, 0.8] \tΣ 6.199999999999999\n",
            "8 .\tcut: [1.9, 0.8, 0.8, 0.8, 0.8, 0.8, 0.8] \tΣ 6.699999999999999\n",
            "9 .\tcut: [0.8, 0.8, 0.8, 0.8, 0.8, 0.8, 0.8, 0.8] \tΣ 6.3999999999999995\n"
          ],
          "name": "stdout"
        }
      ]
    },
    {
      "cell_type": "code",
      "metadata": {
        "id": "92lOo9ET9Oae",
        "colab_type": "code",
        "colab": {
          "base_uri": "https://localhost:8080/",
          "height": 201
        },
        "outputId": "a3144174-b58a-438c-c9e4-b3263c80964e"
      },
      "source": [
        "def countIt(configuration, results):\n",
        "  result = {}\n",
        "  for item in results:\n",
        "    result[item] = 0\n",
        "  for item in configuration:\n",
        "    result[item] += 1\n",
        "  return result\n",
        "\n",
        "def countAll(configurations, results):\n",
        "  for configuration in configurations:\n",
        "    yield countIt(configuration, results)\n",
        "\n",
        "variants = list(countAll(cutIt(delkaZdroje, delkyVysledku), delkyVysledku))\n",
        "\n",
        "for index, possibleCut in enumerate(variants):\n",
        "  print(index, '.\\tcut:', possibleCut, '\\tΣ', sum(map(lambda x: x[0] * x[1], possibleCut.items())))"
      ],
      "execution_count": 43,
      "outputs": [
        {
          "output_type": "stream",
          "text": [
            "0 .\tcut: {2.3: 3, 1.9: 0, 0.8: 0} \tΣ 6.8999999999999995\n",
            "1 .\tcut: {2.3: 2, 1.9: 1, 0.8: 0} \tΣ 6.5\n",
            "2 .\tcut: {2.3: 2, 1.9: 0, 0.8: 3} \tΣ 7.0\n",
            "3 .\tcut: {2.3: 1, 1.9: 2, 0.8: 1} \tΣ 6.8999999999999995\n",
            "4 .\tcut: {2.3: 1, 1.9: 1, 0.8: 3} \tΣ 6.6\n",
            "5 .\tcut: {2.3: 1, 1.9: 0, 0.8: 5} \tΣ 6.3\n",
            "6 .\tcut: {2.3: 0, 1.9: 3, 0.8: 1} \tΣ 6.499999999999999\n",
            "7 .\tcut: {2.3: 0, 1.9: 2, 0.8: 3} \tΣ 6.2\n",
            "8 .\tcut: {2.3: 0, 1.9: 1, 0.8: 6} \tΣ 6.700000000000001\n",
            "9 .\tcut: {2.3: 0, 1.9: 0, 0.8: 8} \tΣ 6.4\n"
          ],
          "name": "stdout"
        }
      ]
    },
    {
      "cell_type": "code",
      "metadata": {
        "id": "N0db3Jm6KNwu",
        "colab_type": "code",
        "colab": {
          "base_uri": "https://localhost:8080/",
          "height": 90
        },
        "outputId": "379f579c-b9dd-413a-a6d3-847104704516"
      },
      "source": [
        "for result, count in zip(delkyVysledku, poctyVysledku):\n",
        "  for index, variant in enumerate(variants):\n",
        "    if (variant[result] == 0):\n",
        "      print('\\t\\t', end='')\n",
        "    else:\n",
        "      print('\\t + ', variant[result], ' * x', index, sep='', end='')\n",
        "  print('\\t >=', count)\n",
        "  \n",
        "for index, variant in enumerate(variants):\n",
        "  print(' + x', index, sep='', end='')\n",
        "print(' -> min')\n"
      ],
      "execution_count": 44,
      "outputs": [
        {
          "output_type": "stream",
          "text": [
            "\t + 3 * x0\t + 2 * x1\t + 2 * x2\t + 1 * x3\t + 1 * x4\t + 1 * x5\t\t\t\t\t\t\t\t\t >= 60\n",
            "\t\t\t + 1 * x1\t\t\t + 2 * x3\t + 1 * x4\t\t\t + 3 * x6\t + 2 * x7\t + 1 * x8\t\t\t >= 90\n",
            "\t\t\t\t\t + 3 * x2\t + 1 * x3\t + 3 * x4\t + 5 * x5\t + 1 * x6\t + 3 * x7\t + 6 * x8\t + 8 * x9\t >= 320\n",
            " + x0 + x1 + x2 + x3 + x4 + x5 + x6 + x7 + x8 + x9 -> min\n"
          ],
          "name": "stdout"
        }
      ]
    },
    {
      "cell_type": "code",
      "metadata": {
        "id": "8ogTKTuvPBnF",
        "colab_type": "code",
        "colab": {
          "base_uri": "https://localhost:8080/",
          "height": 472
        },
        "outputId": "2d3019d2-f920-4cf4-d75d-4516e8943be6"
      },
      "source": [
        "#https://docs.scipy.org/doc/scipy/reference/generated/scipy.optimize.linprog.html\n",
        "from scipy.optimize import linprog\n",
        "c = [1] * len(delkyVysledku)\n",
        "\n",
        "Ax = [0] * len(delkyVysledku)\n",
        "A = [[*Ax] for item in variants]\n",
        "print(A)\n",
        "for i, result, count in zip(range(1000), delkyVysledku, poctyVysledku):\n",
        "  for j, variant in enumerate(variants):\n",
        "    A[j][i] = -variant[result]\n",
        "\n",
        "b = [-value for value in delkyVysledku]\n",
        "\n",
        "print(A)\n",
        "print(b)\n",
        "print(c)\n",
        "\n",
        "res = linprog(c, A_ub=A, b_ub=b, method='revised simplex')\n",
        "print(res)"
      ],
      "execution_count": 58,
      "outputs": [
        {
          "output_type": "stream",
          "text": [
            "[[0, 0, 0], [0, 0, 0], [0, 0, 0], [0, 0, 0], [0, 0, 0], [0, 0, 0], [0, 0, 0], [0, 0, 0], [0, 0, 0], [0, 0, 0]]\n",
            "[[-3, 0, 0], [-2, -1, 0], [-2, 0, -3], [-1, -2, -1], [-1, -1, -3], [-1, 0, -5], [0, -3, -1], [0, -2, -3], [0, -1, -6], [0, 0, -8]]\n",
            "[-2.3, -1.9, -0.8]\n",
            "[1, 1, 1]\n"
          ],
          "name": "stdout"
        },
        {
          "output_type": "error",
          "ename": "ValueError",
          "evalue": "ignored",
          "traceback": [
            "\u001b[0;31m---------------------------------------------------------------------------\u001b[0m",
            "\u001b[0;31mValueError\u001b[0m                                Traceback (most recent call last)",
            "\u001b[0;32m<ipython-input-58-2a575a87885e>\u001b[0m in \u001b[0;36m<module>\u001b[0;34m()\u001b[0m\n\u001b[1;32m     16\u001b[0m \u001b[0mprint\u001b[0m\u001b[0;34m(\u001b[0m\u001b[0mc\u001b[0m\u001b[0;34m)\u001b[0m\u001b[0;34m\u001b[0m\u001b[0;34m\u001b[0m\u001b[0m\n\u001b[1;32m     17\u001b[0m \u001b[0;34m\u001b[0m\u001b[0m\n\u001b[0;32m---> 18\u001b[0;31m \u001b[0mres\u001b[0m \u001b[0;34m=\u001b[0m \u001b[0mlinprog\u001b[0m\u001b[0;34m(\u001b[0m\u001b[0mc\u001b[0m\u001b[0;34m,\u001b[0m \u001b[0mA_ub\u001b[0m\u001b[0;34m=\u001b[0m\u001b[0mA\u001b[0m\u001b[0;34m,\u001b[0m \u001b[0mb_ub\u001b[0m\u001b[0;34m=\u001b[0m\u001b[0mb\u001b[0m\u001b[0;34m,\u001b[0m \u001b[0mmethod\u001b[0m\u001b[0;34m=\u001b[0m\u001b[0;34m'revised simplex'\u001b[0m\u001b[0;34m)\u001b[0m\u001b[0;34m\u001b[0m\u001b[0;34m\u001b[0m\u001b[0m\n\u001b[0m\u001b[1;32m     19\u001b[0m \u001b[0mprint\u001b[0m\u001b[0;34m(\u001b[0m\u001b[0mres\u001b[0m\u001b[0;34m)\u001b[0m\u001b[0;34m\u001b[0m\u001b[0;34m\u001b[0m\u001b[0m\n",
            "\u001b[0;32m/usr/local/lib/python3.6/dist-packages/scipy/optimize/_linprog.py\u001b[0m in \u001b[0;36mlinprog\u001b[0;34m(c, A_ub, b_ub, A_eq, b_eq, bounds, method, callback, options, x0)\u001b[0m\n\u001b[1;32m    515\u001b[0m \u001b[0;34m\u001b[0m\u001b[0m\n\u001b[1;32m    516\u001b[0m     c, A_ub, b_ub, A_eq, b_eq, bounds, solver_options, x0 = _parse_linprog(\n\u001b[0;32m--> 517\u001b[0;31m         c, A_ub, b_ub, A_eq, b_eq, bounds, options, x0)\n\u001b[0m\u001b[1;32m    518\u001b[0m     \u001b[0mtol\u001b[0m \u001b[0;34m=\u001b[0m \u001b[0msolver_options\u001b[0m\u001b[0;34m.\u001b[0m\u001b[0mget\u001b[0m\u001b[0;34m(\u001b[0m\u001b[0;34m'tol'\u001b[0m\u001b[0;34m,\u001b[0m \u001b[0;36m1e-9\u001b[0m\u001b[0;34m)\u001b[0m\u001b[0;34m\u001b[0m\u001b[0;34m\u001b[0m\u001b[0m\n\u001b[1;32m    519\u001b[0m \u001b[0;34m\u001b[0m\u001b[0m\n",
            "\u001b[0;32m/usr/local/lib/python3.6/dist-packages/scipy/optimize/_linprog_util.py\u001b[0m in \u001b[0;36m_parse_linprog\u001b[0;34m(c, A_ub, b_ub, A_eq, b_eq, bounds, options, x0)\u001b[0m\n\u001b[1;32m    878\u001b[0m     \u001b[0;31m# Convert lists to numpy arrays, etc...\u001b[0m\u001b[0;34m\u001b[0m\u001b[0;34m\u001b[0m\u001b[0;34m\u001b[0m\u001b[0m\n\u001b[1;32m    879\u001b[0m     c, A_ub, b_ub, A_eq, b_eq, bounds, x0 = _clean_inputs(\n\u001b[0;32m--> 880\u001b[0;31m         c, A_ub, b_ub, A_eq, b_eq, bounds, x0)\n\u001b[0m\u001b[1;32m    881\u001b[0m     \u001b[0;32mreturn\u001b[0m \u001b[0mc\u001b[0m\u001b[0;34m,\u001b[0m \u001b[0mA_ub\u001b[0m\u001b[0;34m,\u001b[0m \u001b[0mb_ub\u001b[0m\u001b[0;34m,\u001b[0m \u001b[0mA_eq\u001b[0m\u001b[0;34m,\u001b[0m \u001b[0mb_eq\u001b[0m\u001b[0;34m,\u001b[0m \u001b[0mbounds\u001b[0m\u001b[0;34m,\u001b[0m \u001b[0msolver_options\u001b[0m\u001b[0;34m,\u001b[0m \u001b[0mx0\u001b[0m\u001b[0;34m\u001b[0m\u001b[0;34m\u001b[0m\u001b[0m\n\u001b[1;32m    882\u001b[0m \u001b[0;34m\u001b[0m\u001b[0m\n",
            "\u001b[0;32m/usr/local/lib/python3.6/dist-packages/scipy/optimize/_linprog_util.py\u001b[0m in \u001b[0;36m_clean_inputs\u001b[0;34m(c, A_ub, b_ub, A_eq, b_eq, bounds, x0)\u001b[0m\n\u001b[1;32m    235\u001b[0m         \u001b[0;32mif\u001b[0m \u001b[0mb_ub\u001b[0m\u001b[0;34m.\u001b[0m\u001b[0mshape\u001b[0m \u001b[0;34m!=\u001b[0m \u001b[0;34m(\u001b[0m\u001b[0mn_ub\u001b[0m\u001b[0;34m,\u001b[0m\u001b[0;34m)\u001b[0m\u001b[0;34m:\u001b[0m\u001b[0;34m\u001b[0m\u001b[0;34m\u001b[0m\u001b[0m\n\u001b[1;32m    236\u001b[0m             raise ValueError(\n\u001b[0;32m--> 237\u001b[0;31m                 \u001b[0;34m\"Invalid input for linprog: b_ub must be a 1D array; b_ub \"\u001b[0m\u001b[0;34m\u001b[0m\u001b[0;34m\u001b[0m\u001b[0m\n\u001b[0m\u001b[1;32m    238\u001b[0m                 \u001b[0;34m\"must not have more than one non-singleton dimension and \"\u001b[0m\u001b[0;34m\u001b[0m\u001b[0;34m\u001b[0m\u001b[0m\n\u001b[1;32m    239\u001b[0m                 \u001b[0;34m\"the number of rows in A_ub must equal the number of values \"\u001b[0m\u001b[0;34m\u001b[0m\u001b[0;34m\u001b[0m\u001b[0m\n",
            "\u001b[0;31mValueError\u001b[0m: Invalid input for linprog: b_ub must be a 1D array; b_ub must not have more than one non-singleton dimension and the number of rows in A_ub must equal the number of values in b_ub"
          ]
        }
      ]
    }
  ]
}