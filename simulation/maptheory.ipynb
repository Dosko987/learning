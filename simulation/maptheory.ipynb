{
  "nbformat": 4,
  "nbformat_minor": 0,
  "metadata": {
    "colab": {
      "name": "maptheory.ipynb",
      "provenance": [],
      "toc_visible": true,
      "authorship_tag": "ABX9TyM3oOlo4MMvmIS2p3dkmdVt",
      "include_colab_link": true
    },
    "kernelspec": {
      "name": "python3",
      "display_name": "Python 3"
    }
  },
  "cells": [
    {
      "cell_type": "markdown",
      "metadata": {
        "id": "view-in-github",
        "colab_type": "text"
      },
      "source": [
        "<a href=\"https://colab.research.google.com/github/hrbolek/learning/blob/master/simulation/maptheory.ipynb\" target=\"_parent\"><img src=\"https://colab.research.google.com/assets/colab-badge.svg\" alt=\"Open In Colab\"/></a>"
      ]
    },
    {
      "cell_type": "markdown",
      "metadata": {
        "id": "wH-I8RfqcN2G",
        "colab_type": "text"
      },
      "source": [
        "# Teorie pro práci s mapami"
      ]
    },
    {
      "cell_type": "markdown",
      "metadata": {
        "id": "PZUxxhE_cTjL",
        "colab_type": "text"
      },
      "source": [
        "## Matematické základy"
      ]
    },
    {
      "cell_type": "markdown",
      "metadata": {
        "id": "QbFgY671cXaa",
        "colab_type": "text"
      },
      "source": [
        "### Lineární transformace"
      ]
    },
    {
      "cell_type": "markdown",
      "metadata": {
        "id": "EAArmTJGcb5l",
        "colab_type": "text"
      },
      "source": [
        "Chceme-li na určitém intervalu zobrazit jiný interval, můžeme toto provést s pomocí tzv. lineární transformace.\n",
        "\n",
        "Nechť zobrazovaný interval má rozsah $<a_0;a_1>$ a má být zobrazen na interval $<b_0;b_1>$. Hledáme funkci $f$, pro kterou platí $f(a_0)=b_0$ a $f(a_1)=b_1$. Vzhledem k povaze úlohy je dostatečné konstatovat, že tato funkce je ve tvaru $f(x) = k \\cdot x + c$. Odtud lze napsat soustavu rovnic\n",
        "$$b_0=k \\cdot a_0 + c$$\n",
        "$$b_1=k \\cdot a_1 + c$$\n",
        "Jedná se o systém dvou lineráních rovnic o dvou neznámých, jehož řešení je triviální.\n",
        "$$b_0-b_1=k \\cdot(a_0 - a_1)$$\n",
        "odtud\n",
        "$$k = \\frac{b_0-b_1}{a_0 - a_1}$$\n",
        "$$c = b_0 - a_0 \\cdot \\frac{b_0-b_1}{a_0 - a_1}$$\n"
      ]
    },
    {
      "cell_type": "code",
      "metadata": {
        "id": "0JeKM_EMb8FM",
        "colab_type": "code",
        "colab": {
          "base_uri": "https://localhost:8080/",
          "height": 54
        },
        "outputId": "9ad78bab-44d0-415e-88e5-707c1ca2838e"
      },
      "source": [
        "b0 = 0\n",
        "b1 = 5\n",
        "a0 = 45000\n",
        "a1 = 50000\n",
        "\n",
        "k = (b0 - b1) / (a0 - a1)\n",
        "c = b0 - a0 * k\n",
        "def transform(x):\n",
        "  result = k * x + c\n",
        "  return result\n",
        "\n",
        "print(a0, '=>', transform(a0), '\\t', b0)\n",
        "print(a1, '=>', transform(a1), '\\t', b1)"
      ],
      "execution_count": 3,
      "outputs": [
        {
          "output_type": "stream",
          "text": [
            "45000 => 0.0 \t 0\n",
            "50000 => 5.0 \t 5\n"
          ],
          "name": "stdout"
        }
      ]
    },
    {
      "cell_type": "markdown",
      "metadata": {
        "id": "D8L09Dldih7M",
        "colab_type": "text"
      },
      "source": [
        "### Lineární transformace 2D"
      ]
    },
    {
      "cell_type": "markdown",
      "metadata": {
        "id": "PRjw_81-ioGk",
        "colab_type": "text"
      },
      "source": [
        "Při práci s mapou určujeme nikoliv souřadnici jednu, ale dvě. To znamená, že poloha na mapě je určena dvěma hodnotami.\n",
        "$$X=(x_x, x_y)$$\n",
        "V nejjednodušší variantě to znamená, že lineární transformace je definována v prostoru $R \\times R$. Jeví se, že pro popis takové transformace jsou potřeba 4 body. Vzhledem ke skutečnosti, že u mapy se požaduje stejné měřítko v obou osách, tedy koeficient $c$ je shodný pro obě osy, mohly by nám stačit dva body.\n",
        "$$b_{x0}=k_x \\cdot a_{x0} + c$$\n",
        "$$b_{x1}=k_x \\cdot a_{x1} + c$$\n",
        "$$b_{y0}=k_y \\cdot a_{y0} + c$$\n",
        "$$b_{y1}=k_y \\cdot a_{y1} + c$$\n",
        "Ve výše uvedené soustavě jsou tři neznámé $k_x$, $k_y$ a $c$. Soustava má ovšem čtyři rovnice. Lze ji rozdělit na dvě soustavy o dvou neznámých a aplikovat postup v předchozí podkapitole.\n"
      ]
    },
    {
      "cell_type": "code",
      "metadata": {
        "id": "yzvjZNztlPe9",
        "colab_type": "code",
        "colab": {
          "base_uri": "https://localhost:8080/",
          "height": 54
        },
        "outputId": "070f302e-6e05-40f5-e795-5868e3fb41d8"
      },
      "source": [
        "b0 = {'x':0, 'y':0}\n",
        "b1 = {'x':5, 'y':5}\n",
        "a0 = {'x':45000, 'y':45000}\n",
        "a1 = {'x':50000, 'y':50000}\n",
        "\n",
        "k_x = (b0['x'] - b1['x']) / (a0['x'] - a1['y'])\n",
        "c = b0['x'] - a0['x'] * k_x\n",
        "k_y = (b0['y'] - b1['y']) / (a0['y'] - a1['y'])\n",
        "\n",
        "def transform2D(X):\n",
        "  result = {\n",
        "      'x': k_x * X['x'] + c,\n",
        "      'y': k_y * X['y'] + c\n",
        "      }\n",
        "  return result\n",
        "\n",
        "print(a0, '=>', transform2D(a0), '\\t', b0)\n",
        "print(a1, '=>', transform2D(a1), '\\t', b1)"
      ],
      "execution_count": 7,
      "outputs": [
        {
          "output_type": "stream",
          "text": [
            "{'x': 45000, 'y': 45000} => {'x': 0.0, 'y': 0.0} \t {'x': 0, 'y': 0}\n",
            "{'x': 50000, 'y': 50000} => {'x': 5.0, 'y': 5.0} \t {'x': 5, 'y': 5}\n"
          ],
          "name": "stdout"
        }
      ]
    },
    {
      "cell_type": "markdown",
      "metadata": {
        "id": "HoFiFOtua_Ei",
        "colab_type": "text"
      },
      "source": [
        "### Lineární transformace II"
      ]
    },
    {
      "cell_type": "markdown",
      "metadata": {
        "id": "p35SLcl2bEql",
        "colab_type": "text"
      },
      "source": [
        "Vztahy v první podkapitole mohou být prezentovány ve vektorové formě.\n",
        "$$\\vec{b_0}=k \\cdot \\vec{a_0} + c$$\n",
        "Je vhodné si vzpomenout na lineární algebru a tyto vztahy uvést v maticovém tvaru\n",
        "$$\\vec{b_0}=K \\cdot \\vec{a_0}$$\n",
        "kde \n",
        "$$\\vec{b_0}=\\begin{pmatrix}\n",
        "b_{x0}\\\\\n",
        "b_{y0}\\\\\n",
        "1\n",
        "\\end{pmatrix}$$\n",
        "$$\\vec{a_0}=\\begin{pmatrix}\n",
        "a_{x0}\\\\\n",
        "a_{y0}\\\\\n",
        "1\n",
        "\\end{pmatrix}$$\n",
        "$$K=\\begin{pmatrix}\n",
        "k & 0 & c_x\\\\\n",
        "0 & k & c_y\\\\\n",
        "0 & 0 & 1\n",
        "\\end{pmatrix}$$\n",
        "tedy v celkovém zápisu\n",
        "$$\\begin{pmatrix}\n",
        "b_{x0}\\\\\n",
        "b_{y0}\\\\\n",
        "1\n",
        "\\end{pmatrix}\n",
        "=\n",
        "\\begin{pmatrix}\n",
        "k & 0 & c_x\\\\\n",
        "0 & k & c_y\\\\\n",
        "0 & 0 & 1\n",
        "\\end{pmatrix}\n",
        "\\cdot\n",
        "\\begin{pmatrix}\n",
        "a_{x0}\\\\\n",
        "a_{y0}\\\\\n",
        "1\n",
        "\\end{pmatrix}$$\n"
      ]
    },
    {
      "cell_type": "markdown",
      "metadata": {
        "id": "QcHbN0FIdzOM",
        "colab_type": "text"
      },
      "source": [
        "### Lineární transformace III"
      ]
    },
    {
      "cell_type": "markdown",
      "metadata": {
        "id": "WVf9_Z5bd3Ix",
        "colab_type": "text"
      },
      "source": [
        ""
      ]
    }
  ]
}