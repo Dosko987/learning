{
  "nbformat": 4,
  "nbformat_minor": 0,
  "metadata": {
    "colab": {
      "name": "FunctionalProgramming.ipynb",
      "provenance": [],
      "authorship_tag": "ABX9TyNVBVVcw+S9kMTel14TVjpw",
      "include_colab_link": true
    },
    "kernelspec": {
      "name": "python3",
      "display_name": "Python 3"
    }
  },
  "cells": [
    {
      "cell_type": "markdown",
      "metadata": {
        "id": "view-in-github",
        "colab_type": "text"
      },
      "source": [
        "<a href=\"https://colab.research.google.com/github/hrbolek/learning/blob/master/itsystems/functprog.ipynb\" target=\"_parent\"><img src=\"https://colab.research.google.com/assets/colab-badge.svg\" alt=\"Open In Colab\"/></a>"
      ]
    },
    {
      "cell_type": "markdown",
      "metadata": {
        "id": "-zuJwZM1Ipyr",
        "colab_type": "text"
      },
      "source": [
        "# Functional Programming"
      ]
    },
    {
      "cell_type": "markdown",
      "metadata": {
        "id": "vXgdE3GnIuFY",
        "colab_type": "text"
      },
      "source": [
        "Heavily inspired by https://weblogs.asp.net/dixin/lambda-calculus-via-c-2-boolean-and-logic"
      ]
    },
    {
      "cell_type": "code",
      "metadata": {
        "id": "upmzYekKLzcR",
        "colab_type": "code",
        "colab": {}
      },
      "source": [
        "def true(t, f):\n",
        "  return t\n",
        "def false(t, f):\n",
        "  return f"
      ],
      "execution_count": 26,
      "outputs": []
    },
    {
      "cell_type": "code",
      "metadata": {
        "id": "LKTqpJmNH4cD",
        "colab_type": "code",
        "colab": {}
      },
      "source": [
        "true = lambda t: lambda f: t\n",
        "false = lambda t: lambda f: f"
      ],
      "execution_count": 27,
      "outputs": []
    },
    {
      "cell_type": "code",
      "metadata": {
        "id": "owtC3uqHRgjQ",
        "colab_type": "code",
        "colab": {}
      },
      "source": [
        "def true(t):\n",
        "  def truetrue(f):\n",
        "    return t\n",
        "  return truetrue\n",
        "\n",
        "def false(t):\n",
        "  def falsefalse(f):\n",
        "    return f\n",
        "  return falsefalse"
      ],
      "execution_count": 28,
      "outputs": []
    },
    {
      "cell_type": "code",
      "metadata": {
        "id": "8oJXib85Jhou",
        "colab_type": "code",
        "colab": {}
      },
      "source": [
        "def testDualOperator(operator):\n",
        "  print(\"op\", \"op\", \"result\", sep=\"\\t\")\n",
        "  print(\"-\"*30)\n",
        "  print(True, True, operator(true)(true) == true, sep=\"\\t\")\n",
        "  print(False, True, operator(false)(true) == true, sep=\"\\t\")\n",
        "  print(True, False, operator(true)(false) == true, sep=\"\\t\")\n",
        "  print(False, False, operator(false)(false) == true, sep=\"\\t\")\n",
        "  print()\n",
        "  \n",
        "def testOperator(operator):\n",
        "  print(\"op\", \"op\", \"result\", sep=\"\\t\")\n",
        "  print(\"-\"*30)\n",
        "  print(True, True, operator(true)(true), sep=\"\\t\")\n",
        "  print(False, True, operator(false)(true), sep=\"\\t\")\n",
        "  print(True, False, operator(true)(false), sep=\"\\t\")\n",
        "  print(False, False, operator(false)(false), sep=\"\\t\")\n",
        "  print()"
      ],
      "execution_count": 29,
      "outputs": []
    },
    {
      "cell_type": "code",
      "metadata": {
        "id": "A0buYcPPI4nc",
        "colab_type": "code",
        "colab": {
          "base_uri": "https://localhost:8080/",
          "height": 274
        },
        "outputId": "d8fec881-e5e8-4f3e-a5de-7c427edbd28a"
      },
      "source": [
        "And = lambda a: lambda b: a(b)(false)\n",
        "testDualOperator(And)\n",
        "testOperator(And)"
      ],
      "execution_count": 30,
      "outputs": [
        {
          "output_type": "stream",
          "text": [
            "op\top\tresult\n",
            "------------------------------\n",
            "True\tTrue\tTrue\n",
            "False\tTrue\tFalse\n",
            "True\tFalse\tFalse\n",
            "False\tFalse\tFalse\n",
            "\n",
            "op\top\tresult\n",
            "------------------------------\n",
            "True\tTrue\t<function true at 0x7f6ae3fc9378>\n",
            "False\tTrue\t<function false at 0x7f6ae40c0b70>\n",
            "True\tFalse\t<function false at 0x7f6ae40c0b70>\n",
            "False\tFalse\t<function false at 0x7f6ae40c0b70>\n",
            "\n"
          ],
          "name": "stdout"
        }
      ]
    },
    {
      "cell_type": "code",
      "metadata": {
        "id": "0XdX4UHaMSUG",
        "colab_type": "code",
        "colab": {
          "base_uri": "https://localhost:8080/",
          "height": 274
        },
        "outputId": "c1259638-03e4-429c-d3b2-2596626a21e0"
      },
      "source": [
        "Or = lambda a: lambda b: a(true)(b)\n",
        "testDualOperator(Or)\n",
        "testOperator(Or)"
      ],
      "execution_count": 31,
      "outputs": [
        {
          "output_type": "stream",
          "text": [
            "op\top\tresult\n",
            "------------------------------\n",
            "True\tTrue\tTrue\n",
            "False\tTrue\tTrue\n",
            "True\tFalse\tTrue\n",
            "False\tFalse\tFalse\n",
            "\n",
            "op\top\tresult\n",
            "------------------------------\n",
            "True\tTrue\t<function true at 0x7f6ae3fc9378>\n",
            "False\tTrue\t<function true at 0x7f6ae3fc9378>\n",
            "True\tFalse\t<function true at 0x7f6ae3fc9378>\n",
            "False\tFalse\t<function false at 0x7f6ae40c0b70>\n",
            "\n"
          ],
          "name": "stdout"
        }
      ]
    },
    {
      "cell_type": "code",
      "metadata": {
        "id": "xz3d4WK3MtFS",
        "colab_type": "code",
        "colab": {
          "base_uri": "https://localhost:8080/",
          "height": 274
        },
        "outputId": "7b502424-b344-4a52-b89d-c721b9dc841e"
      },
      "source": [
        "Not = lambda a: lambda b: a(false)(true)\n",
        "testDualOperator(Not)\n",
        "testOperator(Not)"
      ],
      "execution_count": 51,
      "outputs": [
        {
          "output_type": "stream",
          "text": [
            "op\top\tresult\n",
            "------------------------------\n",
            "True\tTrue\tFalse\n",
            "False\tTrue\tTrue\n",
            "True\tFalse\tFalse\n",
            "False\tFalse\tTrue\n",
            "\n",
            "op\top\tresult\n",
            "------------------------------\n",
            "True\tTrue\t<function false at 0x7f6ae40c0b70>\n",
            "False\tTrue\t<function true at 0x7f6ae3fc9378>\n",
            "True\tFalse\t<function false at 0x7f6ae40c0b70>\n",
            "False\tFalse\t<function true at 0x7f6ae3fc9378>\n",
            "\n"
          ],
          "name": "stdout"
        }
      ]
    },
    {
      "cell_type": "code",
      "metadata": {
        "id": "N4Zw-ol1RPIy",
        "colab_type": "code",
        "colab": {
          "base_uri": "https://localhost:8080/",
          "height": 146
        },
        "outputId": "b3b32d46-587c-4790-c104-b434de5d5efd"
      },
      "source": [
        "testOperator(Not(Not)(false))"
      ],
      "execution_count": 56,
      "outputs": [
        {
          "output_type": "stream",
          "text": [
            "op\top\tresult\n",
            "------------------------------\n",
            "True\tTrue\t<function true at 0x7f6ae3fc9378>\n",
            "False\tTrue\t<function false at 0x7f6ae40c0b70>\n",
            "True\tFalse\t<function true at 0x7f6ae3fc9378>\n",
            "False\tFalse\t<function false at 0x7f6ae40c0b70>\n",
            "\n"
          ],
          "name": "stdout"
        }
      ]
    },
    {
      "cell_type": "code",
      "metadata": {
        "id": "RqT7AhOkS3Wf",
        "colab_type": "code",
        "colab": {
          "base_uri": "https://localhost:8080/",
          "height": 182
        },
        "outputId": "e49304ab-c28c-41ac-c2c0-d76df33d25ea"
      },
      "source": [
        "testOperator(Not(Not))\n",
        "print(Not(Not(true)))\n",
        "print(Not(Not(false)))"
      ],
      "execution_count": 46,
      "outputs": [
        {
          "output_type": "stream",
          "text": [
            "op\top\tresult\n",
            "------------------------------\n",
            "True\tTrue\t<function true.<locals>.truetrue at 0x7f6ae3fc7a60>\n",
            "False\tTrue\t<function true.<locals>.truetrue at 0x7f6ae3fc7a60>\n",
            "True\tFalse\t<function true.<locals>.truetrue at 0x7f6ae3fc7a60>\n",
            "False\tFalse\t<function true.<locals>.truetrue at 0x7f6ae3fc7a60>\n",
            "\n",
            "<function <lambda>.<locals>.<lambda> at 0x7f6ae3fc7ae8>\n",
            "<function <lambda>.<locals>.<lambda> at 0x7f6ae3fc76a8>\n"
          ],
          "name": "stdout"
        }
      ]
    },
    {
      "cell_type": "code",
      "metadata": {
        "id": "_ibegs-mNsKU",
        "colab_type": "code",
        "colab": {}
      },
      "source": [
        "If = lambda Condition: lambda Then: lambda Else: Condition(Then)(Else)\n",
        "#If2 = If()"
      ],
      "execution_count": 34,
      "outputs": []
    }
  ]
}