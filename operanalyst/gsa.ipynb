{
  "nbformat": 4,
  "nbformat_minor": 0,
  "metadata": {
    "colab": {
      "name": "gsa.ipynb",
      "provenance": [],
      "authorship_tag": "ABX9TyNvMw9Str+XbTON1OCwEusV",
      "include_colab_link": true
    },
    "kernelspec": {
      "name": "python3",
      "display_name": "Python 3"
    }
  },
  "cells": [
    {
      "cell_type": "markdown",
      "metadata": {
        "id": "view-in-github",
        "colab_type": "text"
      },
      "source": [
        "<a href=\"https://colab.research.google.com/github/hrbolek/learning/blob/master/operanalyst/gsa.ipynb\" target=\"_parent\"><img src=\"https://colab.research.google.com/assets/colab-badge.svg\" alt=\"Open In Colab\"/></a>"
      ]
    },
    {
      "cell_type": "markdown",
      "metadata": {
        "id": "XQ4W_LG1RYxj",
        "colab_type": "text"
      },
      "source": [
        "# Gravity Search Algorithm"
      ]
    },
    {
      "cell_type": "code",
      "metadata": {
        "id": "vA50bkwoRHhn",
        "colab_type": "code",
        "colab": {}
      },
      "source": [
        ""
      ],
      "execution_count": 0,
      "outputs": []
    },
    {
      "cell_type": "markdown",
      "metadata": {
        "id": "Kn-Pa-DlRve6",
        "colab_type": "text"
      },
      "source": [
        "## Funkce pro vytvoření jedince"
      ]
    },
    {
      "cell_type": "code",
      "metadata": {
        "id": "a8JthQoQRxXi",
        "colab_type": "code",
        "colab": {}
      },
      "source": [
        "def create():\n",
        "  result = {}\n",
        "  result['position']['x'] = rnd() * 10 - 5\n",
        "  result['position']['y'] = rnd() * 10 - 5\n",
        "  result['velocity']['x'] = 0\n",
        "  result['velocity']['y'] = 0\n",
        "  result['force']['x'] = 0\n",
        "  result['force']['y'] = 0\n",
        "  result['mass'] = 1\n",
        "  return result"
      ],
      "execution_count": 0,
      "outputs": []
    },
    {
      "cell_type": "markdown",
      "metadata": {
        "id": "boxaD59WR2S_",
        "colab_type": "text"
      },
      "source": [
        "## Funkce pro vyhodnocení jedince\n",
        "Definuje kriteriální funkci. Implementované algoritmy optimalizují na maximum."
      ]
    },
    {
      "cell_type": "code",
      "metadata": {
        "id": "_ruWC3NnR24p",
        "colab_type": "code",
        "colab": {}
      },
      "source": [
        "def evaluate(member):\n",
        "  return -(member['position']['x'] * member['position']['x'] + member['position']['y'] * member['position']['y'])"
      ],
      "execution_count": 0,
      "outputs": []
    },
    {
      "cell_type": "markdown",
      "metadata": {
        "id": "utaOEzRVR-35",
        "colab_type": "text"
      },
      "source": [
        "## Zobrazení soustavy"
      ]
    },
    {
      "cell_type": "code",
      "metadata": {
        "id": "79PcyWSfR_5S",
        "colab_type": "code",
        "colab": {}
      },
      "source": [
        "def plotSystem(system, title):\n",
        "  x = []\n",
        "  y = []\n",
        "  for member in system:\n",
        "    x.append(member['position']['x'])\n",
        "    y.append(member['position']['y'])\n",
        "\n",
        "  plt.plot(x, y, 'ko', ms=3)\n",
        "  plt.title(title)\n",
        "  plt.show()"
      ],
      "execution_count": 0,
      "outputs": []
    },
    {
      "cell_type": "code",
      "metadata": {
        "id": "G0Hzzrc5Rdrd",
        "colab_type": "code",
        "colab": {}
      },
      "source": [
        "def calculateMass(system, f):\n",
        "  for member in system:\n",
        "    member['value'] = f(member)\n",
        "  \n",
        "  minimum = system[0]['value']\n",
        "  maximum = minimum\n",
        "  sumation = 0\n",
        "\n",
        "  for member in system:\n",
        "    cValue = member['value']\n",
        "    sumation = sumation + cValue\n",
        "    if cValue < minimum:\n",
        "      minimum = cValue\n",
        "    if cValue > maximum:\n",
        "      maximum = cValue\n",
        "\n",
        "  func = lambda cValue: (cValue - minimum) / (maximum - minimum)\n",
        "  if maximum > minimum:\n",
        "    func = lambda cValue: 1\n",
        "\n",
        "  for member in system:\n",
        "    cValue = member['value']\n",
        "    member['mass'] = func(cValue)\n",
        "  \n"
      ],
      "execution_count": 0,
      "outputs": []
    },
    {
      "cell_type": "code",
      "metadata": {
        "id": "eGkUTIVw2hSP",
        "colab_type": "code",
        "colab": {}
      },
      "source": [
        "from math import sqrt\n",
        "def calculateForce(memberA, memberB, g):\n",
        "  result = {'x': 0, 'y': 0}\n",
        "  distance = {\n",
        "      'x': memberB['position']['x'] - memberA['position']['x'],\n",
        "      'y': memberB['position']['y'] - memberA['position']['y']\n",
        "              }\n",
        "  distanceAbs = sqrt(distance['x'] * distance['x'] + distance['y'] * distance['x'])\n",
        "  # F = g * MA * MB / (d * d)\n",
        "  F = g * memberA['mass'] * memberB['mass'] / (distanceAbs * distanceAbs)\n",
        "  result['x'] = F * distance['x'] / distanceAbs\n",
        "  result['y'] = F * distance['y'] / distanceAbs\n",
        "  return result\n",
        "\n",
        "def calculateForces(system, g):\n",
        "  for member in system:\n",
        "    member['force'] = {'x': 0, 'y': 0}\n",
        "\n",
        "  for memberA in system:\n",
        "    sumForce = {'x': 0, 'y': 0}\n",
        "    for memberB in system:\n",
        "      if memberA == memberB:\n",
        "        continue\n",
        "      currentForce = calculateForce(memberA, memberB)\n",
        "      sumForce['x'] = sumForce['x'] + currentForce['x']\n",
        "      sumForce['y'] = sumForce['y'] + currentForce['y']\n",
        "    memberA['force'] = sumForce\n",
        "  return system\n",
        "\n",
        "def calculateAccelerations(system):\n",
        "  for member in system:\n",
        "    # F = m * a\n",
        "    force = member['force']\n",
        "    mass = member['mass']\n",
        "    member['acceleration'] = {'x': force['x'] / mass, 'y': force['y'] / mass }\n",
        "  return system\n",
        "\n",
        "def calculateVelocities(system, dt)::\n",
        "  for member in system:\n",
        "    acceleration = member['acceleration']\n",
        "    velocity = member['velocity']\n",
        "    member['velocity'] = {\n",
        "        'x': velocity['x'] + dt * acceleration['x'],\n",
        "        'y': velocity['y'] + dt * acceleration['y']}\n",
        "  return system\n",
        "\n",
        "def calculatePositions(system, dt):\n",
        "  for member in system:\n",
        "    position = member['position']\n",
        "    velocity = member['velocity']\n",
        "    member['position'] = {\n",
        "        'x': position['x'] + dt * velocity['x'],\n",
        "        'y': position['y'] + dt * velocity['y']}\n",
        "  return system\n"
      ],
      "execution_count": 0,
      "outputs": []
    },
    {
      "cell_type": "code",
      "metadata": {
        "id": "d_hCG4Un2Zy4",
        "colab_type": "code",
        "colab": {}
      },
      "source": [
        "def simulationStep(system):\n",
        "  calculatePositions(system)\n",
        "  calculateMass(system, f = evaluate)\n",
        "  calculateForces(system, g = 1)\n",
        "  calculateAccelerations(system)\n",
        "  calculateVelocities(system)"
      ],
      "execution_count": 0,
      "outputs": []
    }
  ]
}