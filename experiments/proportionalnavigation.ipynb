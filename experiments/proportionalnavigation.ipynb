{
  "nbformat": 4,
  "nbformat_minor": 0,
  "metadata": {
    "colab": {
      "name": "proportinalNavigation.ipynb",
      "provenance": [],
      "authorship_tag": "ABX9TyM94mm29VrJwMA7zfomKIR0",
      "include_colab_link": true
    },
    "kernelspec": {
      "name": "python3",
      "display_name": "Python 3"
    }
  },
  "cells": [
    {
      "cell_type": "markdown",
      "metadata": {
        "id": "view-in-github",
        "colab_type": "text"
      },
      "source": [
        "<a href=\"https://colab.research.google.com/github/hrbolek/learning/blob/master/experiments/proportionalnavigation.ipynb\" target=\"_parent\"><img src=\"https://colab.research.google.com/assets/colab-badge.svg\" alt=\"Open In Colab\"/></a>"
      ]
    },
    {
      "cell_type": "code",
      "metadata": {
        "id": "hJjCvw6ekatc",
        "colab_type": "code",
        "colab": {}
      },
      "source": [
        "import numpy as np\n",
        "import matplotlib.pyplot as plt\n",
        "plt.rcParams[\"figure.figsize\"] = (9,6)"
      ],
      "execution_count": 0,
      "outputs": []
    },
    {
      "cell_type": "code",
      "metadata": {
        "id": "6GKK9YZokx0n",
        "colab_type": "code",
        "colab": {}
      },
      "source": [
        "targetVelocity = [1, 0]\n",
        "targetPosition = [1, 10]\n",
        "targetState = [*targetVelocity, *targetPosition]\n",
        "\n",
        "rocketVelocity = [0, 2]\n",
        "rocketPosition = [0, 0]\n",
        "rocketState = [*rocketVelocity, *rocketPosition]"
      ],
      "execution_count": 0,
      "outputs": []
    },
    {
      "cell_type": "code",
      "metadata": {
        "id": "-2RIXQ-zlRrn",
        "colab_type": "code",
        "colab": {}
      },
      "source": [
        "def plotThem(*points):\n",
        "  ax = plt.axes()\n",
        "  opt = {'head_width': 0.4, 'head_length': 0.4, 'width': 0.2,\n",
        "        'length_includes_head': True}\n",
        "  #ax.set_aspect('equal')\n",
        "  for point in points:\n",
        "    position = point[2:]\n",
        "    velocity = point[:2]\n",
        "    ax.plot([position[0], position[0] + velocity[0]], [position[1], position[1] + velocity[1]])\n",
        "    ax.arrow(position[0], position[1], velocity[0], velocity[1], head_width=0.125)#, head_length=0.125)#, fc='r', ec='k')\n",
        "    #ax.arrow(position[0], position[1], velocity[0], velocity[1], fc='r', **opt)\n",
        "    #ax.arrow(position[0], position[1], velocity[0], velocity[1], head_width=0.05, head_length=0.1, fc='k', ec='k')\n",
        "\n",
        "    #ax.arrow(0, 0, 1.5, 1.5, head_width=0.05, head_length=0.1, fc='k', ec='k')\n",
        "    #ax.quiver(position[0], position[1], velocity[0], velocity[1])#, scale=1)\n",
        "    #print(position[0], position[1], velocity[0], velocity[1])\n",
        "  return ax\n",
        "\n"
      ],
      "execution_count": 0,
      "outputs": []
    },
    {
      "cell_type": "code",
      "metadata": {
        "id": "lpBWnZHbmTRg",
        "colab_type": "code",
        "colab": {
          "base_uri": "https://localhost:8080/",
          "height": 411
        },
        "outputId": "6fd06941-ed80-40c1-c3d0-6bdd5cfdf04c"
      },
      "source": [
        "from math import sqrt\n",
        "def calculateStateDerivation(rocket, target):\n",
        "    currentPosition = rocket[2:]\n",
        "    currentVelocity = rocket[:2]\n",
        "    currentVelocityAbs = sqrt(currentVelocity[0] * currentVelocity[0] + currentVelocity[1] * currentVelocity[1])\n",
        "    currentVelocityDirection = [currentVelocity[0] / currentVelocityAbs, currentVelocity[1] / currentVelocityAbs]\n",
        "\n",
        "    targetPosition = target[2:]\n",
        "    targetVelocity  = target[:2]\n",
        "    targetVelocityEscapeAbs = targetVelocity[0] * currentVelocityDirection[0] + targetVelocity[1] * currentVelocityDirection[1]\n",
        "    targetVelocityEscape = [targetVelocityEscapeAbs * currentVelocityDirection[0] + targetVelocityEscapeAbs * currentVelocityDirection[1]]\n",
        "    targetVelocityManeuver = [targetVelocity[0] - targetVelocityEscape[0], targetVelocity[1] - targetVelocityEscape[1]]\n",
        "    targetVelocityManeuverAbs = sqrt(targetVelocityManeuver[0] * targetVelocityManeuver[0] + targetVelocityManeuver[1] * targetVelocityManeuver[1])\n",
        "\n",
        "    positionR = [targetPosition[0] - currentPosition[0], targetPosition[1] - currentPosition[1]]\n",
        "    velocityR = [targetVelocity[0] - currentVelocity[0], targetVelocity[1] - currentVelocity[1]]\n",
        "    positionRAbs = np.linalg.norm(positionR) # abs of vector\n",
        "    velocityRAbs = np.linalg.norm(velocityR) # abs of vector\n",
        "\n",
        "    omega = targetVelocityManeuverAbs / positionRAbs\n",
        "\n",
        "    neededAcceleration = -n * velocityRAbs / currentVelocityAbs * \\\n",
        "      np.cross(currentVelocity, omega)\n",
        "    result = [*neededAcceleration, *currentVelocity]\n",
        "\n",
        "print(targetState)\n",
        "print(rocketState)\n",
        "ax = plotThem(targetState, rocketState)\n",
        "ax.set_aspect('equal')\n",
        "plt.grid(which='both')"
      ],
      "execution_count": 165,
      "outputs": [
        {
          "output_type": "stream",
          "text": [
            "[1, 0, 1, 10]\n",
            "[0, 2, 0, 0]\n"
          ],
          "name": "stdout"
        },
        {
          "output_type": "display_data",
          "data": {
            "image/png": "[encoded data removed]",
            "text/plain": [
              "<Figure size 648x432 with 1 Axes>"
            ]
          },
          "metadata": {
            "tags": [],
            "needs_background": "light"
          }
        }
      ]
    },
    {
      "cell_type": "code",
      "metadata": {
        "id": "9y82G7zwncM4",
        "colab_type": "code",
        "colab": {
          "base_uri": "https://localhost:8080/",
          "height": 378
        },
        "outputId": "4f4272a8-e2b6-46b4-bf25-f6bee1a5d453"
      },
      "source": [
        "ax = plt.axes()\n",
        "ax.arrow(0, 0, 0.5, 0.5, head_width=0.05, head_length=0.1, fc='k', ec='k')\n",
        "plt.show()"
      ],
      "execution_count": 166,
      "outputs": [
        {
          "output_type": "display_data",
          "data": {
            "image/png": "[encoded data removed]",
            "text/plain": [
              "<Figure size 648x432 with 1 Axes>"
            ]
          },
          "metadata": {
            "tags": [],
            "needs_background": "light"
          }
        }
      ]
    },
    {
      "cell_type": "code",
      "metadata": {
        "id": "buEhipZFqI8n",
        "colab_type": "code",
        "colab": {
          "base_uri": "https://localhost:8080/",
          "height": 390
        },
        "outputId": "64c76757-682c-4624-cd14-cb3b9bab5845"
      },
      "source": [
        "fig, ax = plt.subplots()\n",
        "\n",
        "x_pos = 0\n",
        "y_pos = 0\n",
        "x_direct = 2\n",
        "y_direct = 1\n",
        "\n",
        "ax.quiver(x_pos, y_pos, x_direct, y_direct)\n",
        "ax.set_title('Quiver plot with one arrow')\n",
        "\n",
        "plt.show()\n"
      ],
      "execution_count": 167,
      "outputs": [
        {
          "output_type": "display_data",
          "data": {
            "image/png": "[encoded data removed]",
            "text/plain": [
              "<Figure size 648x432 with 1 Axes>"
            ]
          },
          "metadata": {
            "tags": [],
            "needs_background": "light"
          }
        }
      ]
    }
  ]
}