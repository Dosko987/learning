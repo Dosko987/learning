{
  "nbformat": 4,
  "nbformat_minor": 0,
  "metadata": {
    "colab": {
      "name": "02_datastr.ipynb",
      "provenance": [],
      "toc_visible": true,
      "authorship_tag": "ABX9TyO/W2hFDYQjQaZ6ZFiC5xNp",
      "include_colab_link": true
    },
    "kernelspec": {
      "name": "python3",
      "display_name": "Python 3"
    },
    "language_info": {
      "name": "python"
    }
  },
  "cells": [
    {
      "cell_type": "markdown",
      "metadata": {
        "id": "view-in-github",
        "colab_type": "text"
      },
      "source": [
        "<a href=\"https://colab.research.google.com/github/hrbolek/learning/blob/master/ais/02_datastr.ipynb\" target=\"_parent\"><img src=\"https://colab.research.google.com/assets/colab-badge.svg\" alt=\"Open In Colab\"/></a>"
      ]
    },
    {
      "cell_type": "markdown",
      "metadata": {
        "id": "sJNR1E0ztJZM"
      },
      "source": [
        "# Datové struktury"
      ]
    },
    {
      "cell_type": "markdown",
      "metadata": {
        "id": "phipGOJ8saKF"
      },
      "source": [
        "- Datové struktury\n",
        "    - Elementární datové struktury\n",
        "        - Znak\n",
        "        - Číslo (IEEE 754)\n",
        "        - Bool\n",
        "    - Komplexní datové struktury\n",
        "        - List (Python)\n",
        "        - Dict (Python)\n",
        "        - Tree\n",
        "        - Graph\n",
        "    - Principiální algoritmy pro práci s datovými strukturami\n",
        "        - Třídění\n",
        "        - Vyhledávání \n",
        "        - Výpočetní složitost"
      ]
    },
    {
      "cell_type": "markdown",
      "metadata": {
        "id": "GkQ__rXZtO_m"
      },
      "source": [
        "## Elementární datové struktury"
      ]
    },
    {
      "cell_type": "markdown",
      "metadata": {
        "id": "2voSE9Owfm0g"
      },
      "source": [
        "### Čísla"
      ]
    },
    {
      "cell_type": "markdown",
      "metadata": {
        "id": "mv2HD2r7fpPy"
      },
      "source": [
        "Pravděpodobně historicky první datová prvek ukládaný v počítači. Rozlišujeme celá čísla a čísla s desetinnou čárkou (tečkou). Obecně je vhodné mít na paměti, že jakákoliv data jsou v paměti počítači zakódována v posloupnosti bitů (bytů). Celá čísla se aktuálně používají v podobě, která je adekvátní 2, 4, či 8 bytům.\n",
        "\n",
        "Čísla s desetinnou čárkou definuje norma IEEE 754 v podobě 4, 8 a 10 bytů.\n",
        "\n",
        "> Kolik možných kombinací odpovídá 8 bytům?\n",
        ">\n",
        "> Kolik různých desetinných čísel znáte?\n",
        "> \n",
        "> Jaké komplikace z této skutečnosti vyplývají?"
      ]
    },
    {
      "cell_type": "code",
      "metadata": {
        "id": "HV3xeDk5hbJu",
        "outputId": "7e14aa9f-0ad4-455b-e7e4-71e6fad77bb8",
        "colab": {
          "base_uri": "https://localhost:8080/"
        }
      },
      "source": [
        "end = 0.8\n",
        "start = 0\n",
        "delta = 0.1\n",
        "\n",
        "currentValue = start\n",
        "index = 0\n",
        "while currentValue < end:\n",
        "    print(index, '\\t', currentValue)\n",
        "    currentValue = currentValue + delta\n",
        "    index = index + 1 "
      ],
      "execution_count": 9,
      "outputs": [
        {
          "output_type": "stream",
          "name": "stdout",
          "text": [
            "0 \t 0\n",
            "1 \t 0.1\n",
            "2 \t 0.2\n",
            "3 \t 0.30000000000000004\n",
            "4 \t 0.4\n",
            "5 \t 0.5\n",
            "6 \t 0.6\n",
            "7 \t 0.7\n",
            "8 \t 0.7999999999999999\n"
          ]
        }
      ]
    },
    {
      "cell_type": "markdown",
      "metadata": {
        "id": "GwznyTAXkMJR"
      },
      "source": [
        "Čísla s periodickým vyjádřením\n",
        "\n",
        "$\\frac{1}{3}=0.3333$ ?\n",
        "\n",
        "> Jaký tvar má číslo 0.1 paměti za předpokladu, že se jedná o implementaci podle IEEE 754, varianta 8 bytů?\n",
        "> "
      ]
    },
    {
      "cell_type": "code",
      "metadata": {
        "id": "jDkd5n0akJvQ"
      },
      "source": [
        ""
      ],
      "execution_count": null,
      "outputs": []
    },
    {
      "cell_type": "markdown",
      "metadata": {
        "id": "AfCEnhQci78b"
      },
      "source": [
        "### Znak"
      ]
    },
    {
      "cell_type": "markdown",
      "metadata": {
        "id": "acmxDJVIjAe0"
      },
      "source": [
        "Potřeba ukládat text v počítači vedla k vytvoření datového typu znak. Historicky byl znak reprezentován 1 bytem.\n",
        "\n",
        "> Kolik možných kombinací odpovídá 1 bytu?\n",
        "> \n",
        "> Kolik znaků znáte?\n",
        "> \n",
        "> Jaké komplikace z této skutečnosti vyplývají?\n",
        "> \n",
        "> Jaké řešení bylo implementováno?\n",
        "\n"
      ]
    },
    {
      "cell_type": "code",
      "metadata": {
        "id": "7h4_0mf8jxQp",
        "outputId": "6258d2ac-f897-46db-aa1e-e31aabee39e7",
        "colab": {
          "base_uri": "https://localhost:8080/"
        }
      },
      "source": [
        "import sys\n",
        "\n",
        "print(sys.getsizeof(''))\n",
        "print(sys.getsizeof('A'))\n",
        "print(sys.getsizeof('Á'))"
      ],
      "execution_count": 15,
      "outputs": [
        {
          "output_type": "stream",
          "name": "stdout",
          "text": [
            "53\n",
            "50\n",
            "74\n"
          ]
        }
      ]
    },
    {
      "cell_type": "markdown",
      "metadata": {
        "id": "Y7QStLaytRFa"
      },
      "source": [
        "## Komplexní datové struktury"
      ]
    },
    {
      "cell_type": "markdown",
      "metadata": {
        "id": "Aap_MfYEtR7b"
      },
      "source": [
        "## Principiální algoritmy pro práci s datovými strukturami"
      ]
    }
  ]
}