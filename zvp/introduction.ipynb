{
  "nbformat": 4,
  "nbformat_minor": 0,
  "metadata": {
    "colab": {
      "name": "intro.ipynb",
      "provenance": [],
      "authorship_tag": "ABX9TyN4blFmL2GYxN3NSQMLWG8g",
      "include_colab_link": true
    },
    "kernelspec": {
      "name": "python3",
      "display_name": "Python 3"
    },
    "language_info": {
      "name": "python"
    }
  },
  "cells": [
    {
      "cell_type": "markdown",
      "metadata": {
        "id": "view-in-github",
        "colab_type": "text"
      },
      "source": [
        "<a href=\"https://colab.research.google.com/github/hrbolek/learning/blob/master/zvp/introduction.ipynb\" target=\"_parent\"><img src=\"https://colab.research.google.com/assets/colab-badge.svg\" alt=\"Open In Colab\"/></a>"
      ]
    },
    {
      "cell_type": "markdown",
      "metadata": {
        "id": "Vy10dlN_5vda"
      },
      "source": [
        "Prezenční studium\n",
        "- legislativní prostředí p\n",
        "- financování projektů ppss\n",
        "- metody vědecké práce ppsss\n",
        "- zveřejňování a ochrana výsledků ps\n",
        "\n",
        "Kombinované studium\n",
        "- legislativní prostředí p\n",
        "- financování projektů pp\n",
        "- metody vědecké práce s\n",
        "- zveřejňování a ochrana výsledků s"
      ]
    }
  ]
}