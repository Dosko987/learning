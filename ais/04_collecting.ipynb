{
  "nbformat": 4,
  "nbformat_minor": 0,
  "metadata": {
    "colab": {
      "name": "04_collecting.ipynb",
      "provenance": [],
      "authorship_tag": "ABX9TyO0s4pWdRfQ5NrzZhz9sp5/",
      "include_colab_link": true
    },
    "kernelspec": {
      "name": "python3",
      "display_name": "Python 3"
    },
    "language_info": {
      "name": "python"
    }
  },
  "cells": [
    {
      "cell_type": "markdown",
      "metadata": {
        "id": "view-in-github",
        "colab_type": "text"
      },
      "source": [
        "<a href=\"https://colab.research.google.com/github/hrbolek/learning/blob/master/ais/04_collecting.ipynb\" target=\"_parent\"><img src=\"https://colab.research.google.com/assets/colab-badge.svg\" alt=\"Open In Colab\"/></a>"
      ]
    },
    {
      "cell_type": "markdown",
      "metadata": {
        "id": "Cy9xclO0Ecvs"
      },
      "source": [
        "# Získávání dat"
      ]
    },
    {
      "cell_type": "code",
      "metadata": {
        "id": "oX2SdIKVEr3G"
      },
      "source": [
        "from IPython.display import HTML\n",
        "\n",
        "def YVideo(id, t=None):\n",
        "# Youtube\n",
        "    if t is None:\n",
        "        fullStr = f'<iframe width=\"560\" height=\"315\" src=\"https://www.youtube.com/embed/{id}?rel=0&amp;controls=0&amp;showinfo=0\" frameborder=\"0\" allowfullscreen></iframe>'\n",
        "    else:\n",
        "        fullStr = f'<iframe width=\"560\" height=\"315\" src=\"https://www.youtube.com/embed/{id}?start={t}&amp;controls=0&amp;showinfo=0\" frameborder=\"0\" allowfullscreen></iframe>'\n",
        "    return HTML(fullStr)"
      ],
      "execution_count": 1,
      "outputs": []
    },
    {
      "cell_type": "markdown",
      "metadata": {
        "id": "fat5fcTuEdrj"
      },
      "source": [
        "- Získávání dat\n",
        "    - Zdroje s API\n",
        "        - OData\n",
        "        - REST\n",
        "        - SWAGGER\n",
        "        - další standardy\n",
        "    - Zdroje bez API\n",
        "    - Textové zdroje"
      ]
    },
    {
      "cell_type": "markdown",
      "metadata": {
        "id": "eNn6qS7cEf2b"
      },
      "source": [
        "## Zdroje s API"
      ]
    },
    {
      "cell_type": "markdown",
      "metadata": {
        "id": "TOr7DgZWEiWI"
      },
      "source": [
        "## Zdroje bez API"
      ]
    },
    {
      "cell_type": "markdown",
      "metadata": {
        "id": "Wvc3S1ME7jRg"
      },
      "source": [
        "Zdroje, které nejsou předem strukturované, tedy zdroje bez API je nezbytné strukturalizovat. Mezi významné zdroje z této oblasti patří textové zdroje na internetu. Zdroje na internetu vznikají s využitím výpočetní techniky (jsou generované) na základě již strukturalizovaných dat, typicky uložených v databázi.\n",
        "\n",
        "Struktura je obvykle identifikovatelná i v textu webové (HTML) stránky. Mnohdy lze dokonce vysledovat entity a relační vztahy mezi nimi. Příkladem může být zpravodajský internetový deník, který na své hlavní stránce odkazuje na jednotlivé články. Hlavní stránka se tak tváří jako částečný index článků. V článcích lze často nalézt entity odstavec a také odkazy na související články. Toto je příklad relace.\n",
        "\n",
        "Vzhledem k potřebě zpracování článků je samozřejmé, že redakce používají webová prostředí pro správu obsahu, který je následně ukládán v (non)SQL databázích, odkud je promítán do šablon a výsledek tvoří články, které si čtenáři prohlíží. Odhalení odlišností mezi šablonou a obsahem vede k identifikaci datových struktur.\n",
        "\n"
      ]
    },
    {
      "cell_type": "markdown",
      "metadata": {
        "id": "jHYBfPX-9YIR"
      },
      "source": [
        "### Regulární výrazy"
      ]
    },
    {
      "cell_type": "markdown",
      "metadata": {
        "id": "-gnfSsvh9buu"
      },
      "source": [
        "Regulární výrazy představují mechanismus s jehož pomocí lze vyhledávat v textu řetězce aniž by byl předem znám jejich přesný obsah. Regulární výraz je předpisem, který je následně textovát vůči prohledávanému textu a jesliže jeho část odpovídá předpisu je tato část označena jako hledaná.\n",
        "\n",
        "Regulární výrazy jsou široce používaným nástrojem napříč platformami a jazyky. Regulární výraz v jazyku Javascript je použitelný v jazyku Python, či dalších jazycích a samozřejmě i naopak."
      ]
    },
    {
      "cell_type": "markdown",
      "metadata": {
        "id": "UmgmQdkLCmiE"
      },
      "source": [
        "Oficiální dokumentace \n",
        "[(python re doc)](https://docs.python.org/3/library/re.html)\n",
        "\n",
        "> **Povinné video**\n",
        ">\n",
        "> [[5 Minute Tutorial] Regular Expressions (Regex) in Python 6 min](https://www.youtube.com/watch?v=UQQsYXa1EHs)\n",
        "\n",
        "\n",
        "\n"
      ]
    },
    {
      "cell_type": "code",
      "metadata": {
        "colab": {
          "base_uri": "https://localhost:8080/",
          "height": 336
        },
        "id": "_PRnWbEGE2iV",
        "outputId": "d0c1dde4-7a11-4d28-d30f-8c1c9ad4a5fa"
      },
      "source": [
        "YVideo('https://www.youtube.com/watch?v=UQQsYXa1EHs')"
      ],
      "execution_count": 4,
      "outputs": [
        {
          "output_type": "execute_result",
          "data": {
            "text/html": [
              "<iframe width=\"560\" height=\"315\" src=\"https://www.youtube.com/embed/https://www.youtube.com/watch?v=UQQsYXa1EHs?rel=0&amp;controls=0&amp;showinfo=0\" frameborder=\"0\" allowfullscreen></iframe>"
            ],
            "text/plain": [
              "<IPython.core.display.HTML object>"
            ]
          },
          "metadata": {},
          "execution_count": 4
        }
      ]
    },
    {
      "cell_type": "markdown",
      "metadata": {
        "id": "haEMxiQfE6dL"
      },
      "source": [
        "\n",
        "> **Doporučené video**\n",
        ">\n",
        "> [Python Tutorial: re Module - How to Write and Match Regular Expressions (Regex) 53 min](https://www.youtube.com/watch?v=K8L6KVGG-7o)"
      ]
    },
    {
      "cell_type": "code",
      "metadata": {
        "colab": {
          "base_uri": "https://localhost:8080/",
          "height": 336
        },
        "id": "yftI-lNwFCxQ",
        "outputId": "7207c961-9877-4f33-cc47-db57fd46cd06"
      },
      "source": [
        "YVideo('https://www.youtube.com/watch?v=K8L6KVGG-7o')"
      ],
      "execution_count": 5,
      "outputs": [
        {
          "output_type": "execute_result",
          "data": {
            "text/html": [
              "<iframe width=\"560\" height=\"315\" src=\"https://www.youtube.com/embed/https://www.youtube.com/watch?v=K8L6KVGG-7o?rel=0&amp;controls=0&amp;showinfo=0\" frameborder=\"0\" allowfullscreen></iframe>"
            ],
            "text/plain": [
              "<IPython.core.display.HTML object>"
            ]
          },
          "metadata": {},
          "execution_count": 5
        }
      ]
    },
    {
      "cell_type": "code",
      "metadata": {
        "id": "aGdR7ruxCuTa"
      },
      "source": [
        "import re\n",
        "\n"
      ],
      "execution_count": null,
      "outputs": []
    },
    {
      "cell_type": "markdown",
      "metadata": {
        "id": "N06VFcp6EkXx"
      },
      "source": [
        "## Textové zdroje"
      ]
    },
    {
      "cell_type": "code",
      "metadata": {
        "id": "Py102TsCl55y"
      },
      "source": [
        ""
      ],
      "execution_count": null,
      "outputs": []
    }
  ]
}