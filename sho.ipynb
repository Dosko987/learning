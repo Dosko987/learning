{
  "nbformat": 4,
  "nbformat_minor": 0,
  "metadata": {
    "colab": {
      "name": "sho.ipynb",
      "provenance": [],
      "collapsed_sections": [],
      "toc_visible": true,
      "include_colab_link": true
    },
    "kernelspec": {
      "name": "python3",
      "display_name": "Python 3"
    }
  },
  "cells": [
    {
      "cell_type": "markdown",
      "metadata": {
        "id": "view-in-github",
        "colab_type": "text"
      },
      "source": [
        "<a href=\"https://colab.research.google.com/github/hrbolek/learning/blob/master/sho.ipynb\" target=\"_parent\"><img src=\"https://colab.research.google.com/assets/colab-badge.svg\" alt=\"Open In Colab\"/></a>"
      ]
    },
    {
      "cell_type": "code",
      "metadata": {
        "id": "ClR7CuGeHKes",
        "colab_type": "code",
        "colab": {}
      },
      "source": [
        ""
      ],
      "execution_count": 101,
      "outputs": []
    },
    {
      "cell_type": "markdown",
      "metadata": {
        "id": "vWXMRKo5i4tf",
        "colab_type": "text"
      },
      "source": [
        "# Využití statistického modelování\n",
        "Vyhodnotíme chování systému hromadné obsluhy pomocí statistického modelování. Prostředkem bude událostní simulace.\n"
      ]
    },
    {
      "cell_type": "code",
      "metadata": {
        "id": "BDO4Ka6DNKKB",
        "colab_type": "code",
        "colab": {}
      },
      "source": [
        "import matplotlib.pyplot as plt\n",
        "plt.rcParams[\"figure.figsize\"] = (15,10)"
      ],
      "execution_count": 102,
      "outputs": []
    },
    {
      "cell_type": "markdown",
      "metadata": {
        "id": "P3meTeWeaJuk",
        "colab_type": "text"
      },
      "source": [
        "# Teorie hromadné obsluhy\n",
        "## Krátké připomenutí\n",
        "Kandalova notace\n",
        "\n",
        "Systémy M/M/1, M/M/n\n",
        "\n",
        "Pro systém M/M/1 platí rovnice o průměrné délce fronty\n",
        "\n",
        "$L = \\frac{\\lambda}{\\mu}$\n",
        "\n",
        "kde L je  průměrná délka fronty\n",
        "\n",
        "$\\lambda$ je intenzita toku požadavků\n",
        "\n",
        "$\\mu$ je intenzita obsluhy\n",
        "\n",
        "odkaz https://en.wikipedia.org/wiki/Queueing_theory"
      ]
    },
    {
      "cell_type": "markdown",
      "metadata": {
        "id": "SPCw91sfKmJm",
        "colab_type": "text"
      },
      "source": [
        "## Generování náhodných čísel pro Poisonův tok\n",
        "Poisonův tok je model např. příchodu zákazníků k přepážce, kde jsou obsluhováni. Pro modelování potřebujeme generovat posloupno příchodů. Interval mezi jednotlivými příchody lze generovat podle následujícího vztahu\n",
        "\n",
        "$r'=-\\frac{1}{\\lambda}ln(r)$\n",
        "\n",
        "kde $r$ je náhodné číslo s rovnoměrným rozložením a $r'$ je náhodný interval mezi dvěma příchody.\n",
        "\n",
        "Stejným vztahem lze vypočítat náhodnou délku obsluhy (pro systémy M/M/1 nebo M/M/n)\n",
        "\n",
        "https://preshing.com/20111007/how-to-generate-random-timings-for-a-poisson-process/"
      ]
    },
    {
      "cell_type": "code",
      "metadata": {
        "id": "NnwTMv0NJYQP",
        "colab_type": "code",
        "colab": {}
      },
      "source": [
        "from random import random\n",
        "from math import log as ln\n",
        "\n",
        "def rndEx(rnd, lam):\n",
        "  x = rnd()\n",
        "  result = (-1 / lam) * ln(x) #https://preshing.com/20111007/how-to-generate-random-timings-for-a-poisson-process/\n",
        "  return result"
      ],
      "execution_count": 103,
      "outputs": []
    },
    {
      "cell_type": "markdown",
      "metadata": {
        "id": "TwSsPJ6y0Nb3",
        "colab_type": "text"
      },
      "source": [
        "## Událostní kalendář\n",
        "Třída pro událostní simulaci. Událostní simulace umožňuje spouštění událostí - akcí v časové souslednosti bez ohledu na souslednost plánování."
      ]
    },
    {
      "cell_type": "code",
      "metadata": {
        "id": "kNdFHrQuYr9P",
        "colab_type": "code",
        "colab": {}
      },
      "source": [
        "class EventCalendar:\n",
        "  _queue = []\n",
        "  def __init__(self):\n",
        "    pass\n",
        "\n",
        "  #Metoda pro vykonání jednoho kroku simulace\n",
        "  def Step(self):\n",
        "    #setřídit frontu / list událostí podle položky time / čas\n",
        "    self._queue.sort(key = lambda item: item['time'])\n",
        "    \n",
        "    #z fronty odstraň nejstarší událost\n",
        "    currentEvent = self._queue.pop(0)\n",
        "\n",
        "    #vyvolej funkci, která je spojena s danou událostí\n",
        "    func = currentEvent['executor']\n",
        "    time = currentEvent['time']\n",
        "    result = func(time, **currentEvent['kwargs'])\n",
        "    if not (result is None):\n",
        "      # toto je pro pripad, kdy func vraci posloupnost navazujicich udalosti\n",
        "      # func muze byt generatorem :)\n",
        "      self.AddEventGenerator(result)\n",
        "\n",
        "    #vrať událost, která byla zpracována\n",
        "    return currentEvent\n",
        "\n",
        "\n",
        "  #Metoda pro získání informace o času nejstarší události, \n",
        "  #tj. události, která bude zpracována jako první\n",
        "  def PrepareNext(self):\n",
        "    #setřídit frontu / list událostí podle položky time / čas\n",
        "    self._queue.sort(key = lambda item: item['time'])\n",
        "    #vrať čas nejstarší události\n",
        "    return self._queue[0]['time']\n",
        "\n",
        "  #Vložení události do fronty událostí, \n",
        "  #futureTime - čas, kdy bude událost vyvolána\n",
        "  #f - funkce, která bude v čase události vykonána / volána\n",
        "  def AddEvent(self, futureTime, f, **kwargs):\n",
        "    self._queue.append({'time': futureTime, 'executor': f, 'kwargs': kwargs})\n",
        "    return self\n",
        "\n",
        "  #Vložení posloupnosti událostí do fronty událostí\n",
        "  def AddEventGenerator(self, generator):\n",
        "    if generator is None:\n",
        "      return\n",
        "    generator = iter(generator)\n",
        "    \n",
        "    def generatorEvent(time, hook, generator, kwargs):\n",
        "        result = hook(time, **kwargs)\n",
        "        self.AddEventGenerator(result)\n",
        "        try:\n",
        "          nextEvent = next(generator) # dalsi udalost v posloupnosti\n",
        "          #print('AddEventGenerator\\tnext\\t', nextEvent)\n",
        "        except StopIteration:\n",
        "          pass\n",
        "        else:\n",
        "          futureTime = nextEvent[0] # cas, kdy ma byt vykonano\n",
        "          func = nextEvent[1] # co ma byt vykonano\n",
        "          kwargs = {} if len(nextEvent) < 3 else nextEvent[2] # dodatecne parametry\n",
        "          self.AddEvent(futureTime, generatorEvent, hook = func, generator = generator, kwargs = kwargs)\n",
        "\n",
        "    try:\n",
        "      firstEvent = next(generator) # prvni, ziskame Tuple o trech prvcich\n",
        "    except StopIteration:\n",
        "      pass\n",
        "    else:\n",
        "      futureTime = firstEvent[0] # cas dalsi udalosti\n",
        "      func = firstEvent[1] # co ma byt vykonano\n",
        "      kwargs = {} if len(firstEvent) < 3 else firstEvent[2] # dodatecne parametry\n",
        "      \n",
        "      self.AddEvent(futureTime, generatorEvent, hook = func, generator = generator, kwargs = kwargs)  \n",
        "    pass\n",
        "\n",
        "  def asIterator(self):\n",
        "    while len(self._queue) > 0:\n",
        "      yield self.Step()\n"
      ],
      "execution_count": 104,
      "outputs": []
    },
    {
      "cell_type": "markdown",
      "metadata": {
        "id": "C0nbXFjzoiTL",
        "colab_type": "text"
      },
      "source": [
        "### Příklad použití I"
      ]
    },
    {
      "cell_type": "code",
      "metadata": {
        "id": "a8-mAg73onbh",
        "colab_type": "code",
        "colab": {
          "base_uri": "https://localhost:8080/",
          "height": 237
        },
        "outputId": "6f07b7f6-4972-4bc8-fe7f-d515e5e0255e"
      },
      "source": [
        "calendar = EventCalendar()\n",
        "def eventPrinter(time, calendar, value):\n",
        "  print('At time\\t', time, '\\tvalue is\\t', value)\n",
        "  if time < 5:\n",
        "    calendar.AddEvent(time + random(), eventPrinter, calendar = calendar, value = value + 1)\n",
        "\n",
        "calendar.AddEvent(0, eventPrinter, calendar = calendar, value = 0)\n",
        "for item in calendar.asIterator():\n",
        "  pass"
      ],
      "execution_count": 105,
      "outputs": [
        {
          "output_type": "stream",
          "text": [
            "At time\t 0 \tvalue is\t 0\n",
            "At time\t 0.9776518059808005 \tvalue is\t 1\n",
            "At time\t 1.6602366586179653 \tvalue is\t 2\n",
            "At time\t 1.7393931222413026 \tvalue is\t 3\n",
            "At time\t 1.8483418167614372 \tvalue is\t 4\n",
            "At time\t 2.427927058035444 \tvalue is\t 5\n",
            "At time\t 2.7905266847675074 \tvalue is\t 6\n",
            "At time\t 3.1946721024661464 \tvalue is\t 7\n",
            "At time\t 3.285478920907579 \tvalue is\t 8\n",
            "At time\t 3.9318707142676677 \tvalue is\t 9\n",
            "At time\t 4.815780380813038 \tvalue is\t 10\n",
            "At time\t 5.78190946656367 \tvalue is\t 11\n"
          ],
          "name": "stdout"
        }
      ]
    },
    {
      "cell_type": "markdown",
      "metadata": {
        "id": "VTucT4mPqGKr",
        "colab_type": "text"
      },
      "source": [
        "### Příklad použití II"
      ]
    },
    {
      "cell_type": "code",
      "metadata": {
        "id": "gLLzNKnrqIkB",
        "colab_type": "code",
        "colab": {
          "base_uri": "https://localhost:8080/",
          "height": 201
        },
        "outputId": "e700730e-dd9d-48e2-97cc-bc3be290cc4a"
      },
      "source": [
        "calendar = EventCalendar()\n",
        "def createEvents(time, calendar):\n",
        "  value = 0\n",
        "  while time < 5:\n",
        "    yield time, eventPrinterII, {'value': value}\n",
        "    time = time + random()\n",
        "    value = value + 1\n",
        "\n",
        "def eventPrinterII(time, value):\n",
        "  print('At time\\t', time, '\\tvalue is\\t', value)\n",
        "\n",
        "calendar.AddEvent(0, createEvents, calendar = calendar)\n",
        "for item in calendar.asIterator():\n",
        "  pass"
      ],
      "execution_count": 106,
      "outputs": [
        {
          "output_type": "stream",
          "text": [
            "At time\t 0 \tvalue is\t 0\n",
            "At time\t 0.0597783422930277 \tvalue is\t 1\n",
            "At time\t 0.6639737220570807 \tvalue is\t 2\n",
            "At time\t 1.2435933701103177 \tvalue is\t 3\n",
            "At time\t 1.3173736189776266 \tvalue is\t 4\n",
            "At time\t 2.1349372170622547 \tvalue is\t 5\n",
            "At time\t 2.9835839150122903 \tvalue is\t 6\n",
            "At time\t 3.2853920641226577 \tvalue is\t 7\n",
            "At time\t 4.0415417613873155 \tvalue is\t 8\n",
            "At time\t 4.909285637900256 \tvalue is\t 9\n"
          ],
          "name": "stdout"
        }
      ]
    },
    {
      "cell_type": "markdown",
      "metadata": {
        "id": "VCPlBUj8TDt4",
        "colab_type": "text"
      },
      "source": [
        "### Příklad použití III"
      ]
    },
    {
      "cell_type": "code",
      "metadata": {
        "id": "fycn4CuSTG4J",
        "colab_type": "code",
        "colab": {
          "base_uri": "https://localhost:8080/",
          "height": 256
        },
        "outputId": "fb2ce86e-b53c-4d5a-ce47-5f49dfdeba96"
      },
      "source": [
        "calendar = EventCalendar()\n",
        "def eventPrinterIII(time, calendar, value):\n",
        "  print('At time\\t', time, '\\tvalue is\\t', value)\n",
        "  if time < 5:\n",
        "    yield time + random(), eventPrinterIII, {'calendar': calendar, 'value': value + 1}\n",
        "\n",
        "calendar.AddEvent(0, eventPrinterIII, calendar = calendar, value = 0)\n",
        "for item in calendar.asIterator():\n",
        "  pass"
      ],
      "execution_count": 107,
      "outputs": [
        {
          "output_type": "stream",
          "text": [
            "At time\t 0 \tvalue is\t 0\n",
            "At time\t 0.36875462285080207 \tvalue is\t 1\n",
            "At time\t 0.4243753225779665 \tvalue is\t 2\n",
            "At time\t 0.6984401625377159 \tvalue is\t 3\n",
            "At time\t 1.4605868399849875 \tvalue is\t 4\n",
            "At time\t 1.5371825469773448 \tvalue is\t 5\n",
            "At time\t 1.7594732322205902 \tvalue is\t 6\n",
            "At time\t 2.640113411083108 \tvalue is\t 7\n",
            "At time\t 2.7637508263949035 \tvalue is\t 8\n",
            "At time\t 3.4530036476174426 \tvalue is\t 9\n",
            "At time\t 3.9187358478792755 \tvalue is\t 10\n",
            "At time\t 4.491406347450479 \tvalue is\t 11\n",
            "At time\t 5.194867144767929 \tvalue is\t 12\n"
          ],
          "name": "stdout"
        }
      ]
    },
    {
      "cell_type": "markdown",
      "metadata": {
        "id": "4owOIMRW473D",
        "colab_type": "text"
      },
      "source": [
        "## Třída popisující systém hromadné obsluhy ver. 1"
      ]
    },
    {
      "cell_type": "code",
      "metadata": {
        "id": "OxZAjopGbMld",
        "colab_type": "code",
        "colab": {}
      },
      "source": [
        "class QueueSystem:\n",
        "  \n",
        "  _queue = [] #Fronta požadavků\n",
        "  _inService = None #obsluhovaný požadavek\n",
        "  _fLambda = None #funkce pro výpočet intervalů\n",
        "  _fNy = None #funkce pro výpočet intervalů\n",
        "\n",
        "  def __init__(self):\n",
        "    pass\n",
        "\n",
        "  #Inicializace simulace,\n",
        "  #eventCalendar - událostní kalendář, je do něj vložena inicializační událost\n",
        "  #fLambda - funkce generující intervaly mezi příchody dvou požadavků\n",
        "  #fNy - funkce generující délky obsluhy\n",
        "  def InitSimulation(self, eventCalendar, fLambda = lambda : 1, fNy = lambda : 0.5):\n",
        "    self._fLambda = fLambda\n",
        "    self._fNy = fNy\n",
        "    eventCalendar.AddEvent(0, self.IncomingEvent, eventCalendar = eventCalendar)\n",
        "    pass\n",
        "\n",
        "  #Událost příchodu požadavku\n",
        "  def IncomingEvent(self, time, eventCalendar):\n",
        "    #Vložení požadavku do fronty\n",
        "    self._queue.append({'incTime': time})\n",
        "    #Naplánování pokusu o zahájení obsluhy\n",
        "    eventCalendar.AddEvent(time, self.tryBeginServiceEvent, eventCalendar = eventCalendar)\n",
        "    #Naplánování opakované události příchodu nového požadavku\n",
        "    eventCalendar.AddEvent(time + self._fLambda(), self.IncomingEvent, eventCalendar = eventCalendar)\n",
        "    pass\n",
        "\n",
        "  #Událost pokus o zahájení obsluhy\n",
        "  def tryBeginServiceEvent(self, time, eventCalendar):\n",
        "    #je místo obsluhy volné?\n",
        "    if self._inService is None:\n",
        "      #místo obsluhy je volné\n",
        "      #je něco ve frontě?\n",
        "      if len(self._queue) > 0:\n",
        "        #něco je frontě\n",
        "        #výpočet času konce obsluhy\n",
        "        endTime = time + self._fNy()\n",
        "        #přesun požadavku z fronty do místa obsluhy\n",
        "        self._inService = {\n",
        "            **self._queue.pop(), 'serTime': time, 'endTime': endTime}\n",
        "        #naplánování obsluhy\n",
        "        eventCalendar.AddEvent(endTime, self.endServiceEvent, eventCalendar = eventCalendar)\n",
        "\n",
        "    pass\n",
        "\n",
        "  def endServiceEvent(self, time, eventCalendar):\n",
        "    #print('endServiceEvent', event)\n",
        "    self._inService = None\n",
        "    eventCalendar.AddEvent(time, self.tryBeginServiceEvent, eventCalendar = eventCalendar)\n",
        "    pass\n"
      ],
      "execution_count": 108,
      "outputs": []
    },
    {
      "cell_type": "markdown",
      "metadata": {
        "id": "67SFTpfVZl46",
        "colab_type": "text"
      },
      "source": [
        "## Třída popisující systém hromadné obsluhy ver. 2"
      ]
    },
    {
      "cell_type": "code",
      "metadata": {
        "id": "LFszUXG7ZnE7",
        "colab_type": "code",
        "colab": {}
      },
      "source": [
        "class QueueSystem:\n",
        "  \n",
        "  _queue = [] #Fronta požadavků\n",
        "  _inService = None #obsluhovaný požadavek\n",
        "  _fLambda = None #funkce pro výpočet intervalů\n",
        "  _fNy = None #funkce pro výpočet intervalů\n",
        "\n",
        "  def __init__(self):\n",
        "    pass\n",
        "\n",
        "  #Inicializace simulace,\n",
        "  #eventCalendar - událostní kalendář, je do něj vložena inicializační událost\n",
        "  #fLambda - funkce generující intervaly mezi příchody dvou požadavků\n",
        "  #fNy - funkce generující délky obsluhy\n",
        "  def InitSimulation(self, eventCalendar, fLambda = lambda : 1, fNy = lambda : 0.5):\n",
        "    self._fLambda = fLambda\n",
        "    self._fNy = fNy\n",
        "    eventCalendar.AddEvent(0, self.IncomingEvent)\n",
        "    pass\n",
        "\n",
        "  #Událost příchodu požadavku\n",
        "  def IncomingEvent(self, time):\n",
        "    #Vložení požadavku do fronty\n",
        "    self._queue.append({'incTime': time})\n",
        "    #Naplánování pokusu o zahájení obsluhy\n",
        "    #srovnej s verzi 1.0 \n",
        "    #eventCalendar.AddEvent(time, self.tryBeginServiceEvent, eventCalendar = eventCalendar)\n",
        "    yield time, self.tryBeginServiceEvent\n",
        "\n",
        "    #Naplánování opakované události příchodu nového požadavku\n",
        "    #srovnej s verzi 1.0 \n",
        "    #eventCalendar.AddEvent(time + self._fLambda(), self.IncomingEvent, eventCalendar = eventCalendar)\n",
        "    yield time + self._fLambda(), self.IncomingEvent\n",
        "    pass\n",
        "\n",
        "  #Událost pokus o zahájení obsluhy\n",
        "  def tryBeginServiceEvent(self, time):\n",
        "    #je místo obsluhy volné?\n",
        "    if self._inService is None:\n",
        "      #místo obsluhy je volné\n",
        "      #je něco ve frontě?\n",
        "      if len(self._queue) > 0:\n",
        "        #něco je frontě\n",
        "        #výpočet času konce obsluhy\n",
        "        endTime = time + self._fNy()\n",
        "        #přesun požadavku z fronty do místa obsluhy\n",
        "        self._inService = {\n",
        "            **self._queue.pop(), 'serTime': time, 'endTime': endTime}\n",
        "        #naplánování obsluhy\n",
        "        #srovnej s verzi 1.0 \n",
        "        #eventCalendar.AddEvent(endTime, self.endServiceEvent, eventCalendar = eventCalendar)\n",
        "        yield endTime, self.endServiceEvent\n",
        "    pass\n",
        "\n",
        "  def endServiceEvent(self, time):\n",
        "    #print('endServiceEvent', event)\n",
        "    self._inService = None\n",
        "    #srovnej s verzi 1.0 \n",
        "    #eventCalendar.AddEvent(time, self.tryBeginServiceEvent, eventCalendar = eventCalendar)\n",
        "    yield time, self.tryBeginServiceEvent\n",
        "    pass\n"
      ],
      "execution_count": 109,
      "outputs": []
    },
    {
      "cell_type": "markdown",
      "metadata": {
        "id": "mQaCm7VdxhKV",
        "colab_type": "text"
      },
      "source": [
        "## Sběr statistických dat\n",
        "Třída umožňuje registrovat funkce, které vyčíslují hodnotu sledovaného ukazatele. Současně poskytuje metodu pro získání statistických údajů."
      ]
    },
    {
      "cell_type": "code",
      "metadata": {
        "id": "pi0tUl-ETh8y",
        "colab_type": "code",
        "colab": {}
      },
      "source": [
        "class StatisticCollector:\n",
        "  \n",
        "  #_collection = [] #úložiště pro statistiku\n",
        "  #_currentTime = 0 #čas posledního sběru statistik\n",
        "\n",
        "  def __init__(self, currentTime = 0):\n",
        "    self._collection = []\n",
        "    self._currentTime = currentTime\n",
        "\n",
        "  #přidání statistické hodnoty k vyčíslování\n",
        "  def Add(self, name, func):\n",
        "    self._collection.append({'name': name, 'func': func, 'sum': 0, 'time': 0})\n",
        "\n",
        "  #vyčíslení registrovaných statistik\n",
        "  def EvaluateAll(self, currentTime):\n",
        "    #časový interval od posledního sběru\n",
        "    deltaTime = currentTime - self._currentTime\n",
        "    #pro všechny registrované statistické ukazatele\n",
        "    for item in self._collection:\n",
        "      #získání aktuálního hodnoty statistického ukazatele\n",
        "      func = item['func']\n",
        "      funcValue = func()\n",
        "      \n",
        "      #výpočet sumy\n",
        "      item['sum'] = item['sum'] + funcValue * deltaTime\n",
        "      #výpočet času, po který je ukazatel sledován\n",
        "      item['time'] = item['time'] + deltaTime\n",
        "    \n",
        "    #záznam posledního sběru statistických ukazatelů\n",
        "    self._currentTime = currentTime\n",
        "\n",
        "  #návrat aktuálních hodnot statistických ukazatelů\n",
        "  def GetValues(self):\n",
        "    for item in self._collection:\n",
        "      #po jednotlivých položkách\n",
        "      if item['time'] > 0:\n",
        "        #v průběhu simulace, čas je kladný\n",
        "        yield {\n",
        "            'name': item['name'], \n",
        "            'value': item['sum'] / item['time'], 'valid': True}\n",
        "      else:\n",
        "        #počátek sběru, čas je nulový, nelze počítat průměr podle času\n",
        "        yield {'name': item['name'], 'value': item['sum'], 'valid': False}\n",
        "              \n",
        "\n"
      ],
      "execution_count": 110,
      "outputs": []
    },
    {
      "cell_type": "markdown",
      "metadata": {
        "id": "J_I6vR81kaQP",
        "colab_type": "text"
      },
      "source": [
        "## Simulace \n",
        "Tato simulace je připravena jako systém M/M/1. Jestliže budou změněny funkce pro generování intervalu mezi dvěma příchody, případně funkce pro generování délky obsluhy a tyto funkce nebudou generovat náhodná čísla s exponenciálním rozdělením (Poisonův tok), neumíme je algebraicky spočítat. Tato simulace ovšem stále dokáže stanovit parametry systému SHO."
      ]
    },
    {
      "cell_type": "code",
      "metadata": {
        "id": "HxSzLBIWmJ3w",
        "colab_type": "code",
        "colab": {}
      },
      "source": [
        "def plotResults(timeLine, resultsStore):\n",
        "  #tisku grafu statistických ukazatelů\n",
        "  if len(resultsStore) > 0:\n",
        "    plt.subplot(2, 2, 1)\n",
        "    plt.title(resultsStore[0]['name'])\n",
        "    plt.plot(timeLine, resultsStore[0]['values'], label = resultsStore[0]['name'])\n",
        "    plt.legend(loc = 'best')\n",
        "    plt.xlabel('$t[s]$')\n",
        "    plt.grid(which = 'both')\n",
        "  if len(resultsStore) > 1:\n",
        "    plt.subplot(2, 2, 2)\n",
        "    plt.title(resultsStore[1]['name'])\n",
        "    plt.plot(timeLine, resultsStore[1]['values'], label = resultsStore[1]['name'])\n",
        "    plt.legend(loc = 'best')\n",
        "    plt.xlabel('$t[s]$')\n",
        "    plt.grid(which = 'both')\n",
        "  if len(resultsStore) > 2:\n",
        "    plt.subplot(2, 2, 3)\n",
        "    plt.title(resultsStore[2]['name'])\n",
        "    plt.plot(timeLine, resultsStore[2]['values'], label = resultsStore[2]['name'])\n",
        "    plt.legend(loc = 'best')\n",
        "    plt.xlabel('$t[s]$')\n",
        "    plt.grid(which = 'both')\n",
        "  if len(resultsStore) > 3:\n",
        "    plt.subplot(2, 2, 4)\n",
        "    plt.title(resultsStore[3]['name'])\n",
        "    plt.plot(timeLine, resultsStore[3]['values'], label = resultsStore[3]['name'])\n",
        "    plt.legend(loc = 'best')\n",
        "    plt.xlabel('$t[s]$')\n",
        "    plt.grid(which = 'both')\n",
        "  plt.show()"
      ],
      "execution_count": 111,
      "outputs": []
    },
    {
      "cell_type": "code",
      "metadata": {
        "id": "aJPoHASXmVt2",
        "colab_type": "code",
        "colab": {}
      },
      "source": [
        "def runSim(λFunc, µFunc, steps, density):\n",
        "  calendar = EventCalendar()\n",
        "\n",
        "  #inicializace systému hromadné obsluhy\n",
        "  queue = QueueSystem()\n",
        "  queue.InitSimulation(calendar, λFunc, µFunc)\n",
        "\n",
        "  #inicializace statistiky\n",
        "  statisticCollector = StatisticCollector()\n",
        "  statisticCollector.Add('Průměrná délka fronty', lambda : len(queue._queue))\n",
        "  statisticCollector.Add('Obsluha je volná', lambda : queue._inService is None)\n",
        "  statisticCollector.Add('Fronta je delší než 5', lambda : len(queue._queue) > 5)\n",
        "\n",
        "  #inicializace úložiště pro vývoj statistických ukazatelů\n",
        "  resultsStore = []\n",
        "  for data in statisticCollector.GetValues():\n",
        "    resultsStore.append({'name': data['name'], 'values': [data['value']]})\n",
        "  timeLine = [0]\n",
        "\n",
        "  #cyklus simulace\n",
        "  for i in range(0, steps):\n",
        "    #zjisti cas nasledujici udalosti\n",
        "    nextTime = calendar.PrepareNext()\n",
        "    #posbirej statistiky\n",
        "    statisticCollector.EvaluateAll(nextTime)\n",
        "    if i % density == 0:\n",
        "      #tento výsledek je třeba uložit\n",
        "      timeLine.append(nextTime)\n",
        "      #uloz statistiky do pameti / maximálně 20 statistik / lze zvětšit\n",
        "      for i, data in zip(range(0, 20), statisticCollector.GetValues()):\n",
        "        resultsStore[i]['values'].append(data['value'])\n",
        "\n",
        "    #udelej jeden krok simulace\n",
        "    currentEvent = calendar.Step()\n",
        "  return timeLine, resultsStore"
      ],
      "execution_count": 112,
      "outputs": []
    },
    {
      "cell_type": "code",
      "metadata": {
        "id": "6Stbvg0eQ44w",
        "colab_type": "code",
        "colab": {
          "base_uri": "https://localhost:8080/",
          "height": 663
        },
        "outputId": "af610434-6a16-4ab0-f4ea-b18f18f168d7"
      },
      "source": [
        "µ = 2\n",
        "λ = 1\n",
        "print('expected queue length', λ / µ)\n",
        "if λ < µ:\n",
        "  print('system is stable')\n",
        "else:\n",
        "  print('system is not stable')\n",
        "\n",
        "#funkce pro generovani nahodnych cisel s exponencialnim rozdelenim\n",
        "queueIntervalFunc = lambda : rndEx(random, λ)\n",
        "#funkce pro generovani nahodnych cisel s exponencialnim rozdelenim\n",
        "serviceIntervalFunc = lambda : rndEx(random, µ)\n",
        "\n",
        "density = 10000\n",
        "timeLine, resultsStore = runSim(queueIntervalFunc, serviceIntervalFunc, 100 * density, density)\n",
        "plotResults(timeLine, resultsStore)"
      ],
      "execution_count": 113,
      "outputs": [
        {
          "output_type": "stream",
          "text": [
            "expected queue length 0.5\n",
            "system is stable\n"
          ],
          "name": "stdout"
        },
        {
          "output_type": "display_data",
          "data": {
            "image/png": "[encoded data removed]",
            "text/plain": [
              "<Figure size 1080x720 with 3 Axes>"
            ]
          },
          "metadata": {
            "tags": [],
            "needs_background": "light"
          }
        }
      ]
    },
    {
      "cell_type": "markdown",
      "metadata": {
        "id": "o4DFxeVXqG9F",
        "colab_type": "text"
      },
      "source": [
        "## Simulace netypického SHO\n",
        "V dalším textu je simulován SHO, který není typu M/M/1. Jeho tok požadavků je určen jinou náhodnou veličinou, v tomto případě je konstantní s intervalem mezi požadavky 2s. Délka obsluhy je určena náhodnou veličinou s exponenciálním rozdělením."
      ]
    },
    {
      "cell_type": "code",
      "metadata": {
        "id": "3jUUVXK1qF6T",
        "colab_type": "code",
        "colab": {}
      },
      "source": [
        "µ = 0.6\n",
        "queueIntervalFunc = lambda : 2\n",
        "#funkce pro generovani nahodnych cisel s exponencialnim rozdelenim\n",
        "serviceIntervalFunc = lambda : rndEx(random, µ)\n",
        "\n",
        "density = 10000\n",
        "timeLine, resultsStore = runSim(queueIntervalFunc, serviceIntervalFunc, 100 * density, density)\n",
        "plotResults(timeLine, resultsStore)"
      ],
      "execution_count": null,
      "outputs": []
    },
    {
      "cell_type": "code",
      "metadata": {
        "id": "lIdvean0j3Hm",
        "colab_type": "code",
        "colab": {}
      },
      "source": [
        ""
      ],
      "execution_count": null,
      "outputs": []
    }
  ]
}