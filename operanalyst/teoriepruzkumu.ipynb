{
  "nbformat": 4,
  "nbformat_minor": 0,
  "metadata": {
    "colab": {
      "name": "TeoriePrůzkumu.ipynb",
      "provenance": [],
      "authorship_tag": "ABX9TyOm3J2f8MvWMSZfoeCuHezo",
      "include_colab_link": true
    },
    "kernelspec": {
      "name": "python3",
      "display_name": "Python 3"
    }
  },
  "cells": [
    {
      "cell_type": "markdown",
      "metadata": {
        "id": "view-in-github",
        "colab_type": "text"
      },
      "source": [
        "<a href=\"https://colab.research.google.com/github/hrbolek/learning/blob/master/operanalyst/teoriepruzkumu.ipynb\" target=\"_parent\"><img src=\"https://colab.research.google.com/assets/colab-badge.svg\" alt=\"Open In Colab\"/></a>"
      ]
    },
    {
      "cell_type": "markdown",
      "metadata": {
        "id": "xNZjmDTouU0n"
      },
      "source": [
        "# Teorie průzkumu"
      ]
    },
    {
      "cell_type": "markdown",
      "metadata": {
        "id": "_Kt2OOdauW8l"
      },
      "source": [
        "## Úvaha"
      ]
    },
    {
      "cell_type": "markdown",
      "metadata": {
        "id": "RdY90JOSub8b"
      },
      "source": [
        "Představte si, že máte prostor rozdělený na dvě části. Zvolíte si jednu část, kterou zkontrolujete. Protivník si taktéž zvolí část, kde bude přítomen. V případě, kdy zvolíte stejný prostor, vyhráváte, v opačném případě prohráváte.\n",
        "\n",
        "Tento problém lze popsat pomocí maticové hry a vyřešit jako úlohu lineárního programování."
      ]
    },
    {
      "cell_type": "markdown",
      "metadata": {
        "id": "yRidtkqewBwn"
      },
      "source": [
        "$$max\\{v:A^Tx^B- \\begin{pmatrix}v \\\\\n",
        "v \\\\\n",
        "\\vdots \\\\\n",
        "v\n",
        "\\end{pmatrix} \\ge 0, \\sum_{i=1}^nx_i^B=1,x^B \\ge 0, v \\in R\\}$$"
      ]
    },
    {
      "cell_type": "markdown",
      "metadata": {
        "id": "0oOrxcBs4i08"
      },
      "source": [
        "## Pravděpodobnost setkání"
      ]
    },
    {
      "cell_type": "markdown",
      "metadata": {
        "id": "W-M4kMI14ljN"
      },
      "source": [
        "https://www.mathpages.com/home/kmath124/kmath124.htm\n",
        "\n",
        "Mějme dvě náhodné proměnné s rovnoměrným rozdělením pravděpodobností na intervalu $<0;1>$. Jaká je pravděpodobnost, že jejich hodnoty jsou od sebe vzdálené maximálně $q$? \n",
        "\n",
        "$$P_2=2q-q^2$$\n",
        "\n",
        "\n",
        "\n"
      ]
    },
    {
      "cell_type": "code",
      "metadata": {
        "colab": {
          "base_uri": "https://localhost:8080/",
          "height": 863
        },
        "id": "m9ADt5oaLQv7",
        "outputId": "b89bca00-825d-4155-9c3e-274187d85db7"
      },
      "source": [
        "import matplotlib.pyplot as plt\n",
        "plt.rcParams[\"figure.figsize\"] = (20, 15)\n",
        "                                  \n",
        "def drawPicture(q):\n",
        "  a = {'x': [q, 1], 'y': [0, 1 - q]}\n",
        "  b = {'x': [0, 1 - q], 'y': [q, 1]}\n",
        "  c = {'x': [0, 1], 'y': [0, 1]}\n",
        "  d = {'x': [0, 1, 1, 0, 0], 'y': [0, 0, 1, 1, 0]}\n",
        "  all = [a, b, c, d]\n",
        "  for i in all:\n",
        "    plt.plot(i['x'], i['y'])\n",
        "  plt.legend(['Poloha B - dolní mez', 'Poloha B - horní mez', 'Poloha A', 'Prostor'], loc='lower right')\n",
        "  plt.grid('both')\n",
        "  plt.gca().set_aspect('equal')\n",
        "\n",
        "drawPicture(0.2)"
      ],
      "execution_count": 1,
      "outputs": [
        {
          "output_type": "display_data",
          "data": {
            "image/png": "[encoded data removed]",
            "text/plain": [
              "<Figure size 1440x1080 with 1 Axes>"
            ]
          },
          "metadata": {
            "tags": [],
            "needs_background": "light"
          }
        }
      ]
    },
    {
      "cell_type": "markdown",
      "metadata": {
        "id": "jcIu-jkKdDSo"
      },
      "source": [
        "Úlohu o setkání lze řešit v čase. Jaká je pravděpodobnost setkání dvou lidí, jestliže na dané místo dorazí někdy v čase $<t;t+1[h]>$ a na místě setrvají právě $\\Delta t [h]$. Čas lze zobrazit stejně jako v úloze výše a tedy výpočet je naprosto stejný."
      ]
    },
    {
      "cell_type": "markdown",
      "metadata": {
        "id": "_MRzk-bbQQCr"
      },
      "source": [
        "Zobecněný vztah pro $n$ náhodných proměnných je\n",
        "\n",
        "$$P_n=nq^{n-1}-(n-1)q^n$$"
      ]
    },
    {
      "cell_type": "markdown",
      "metadata": {
        "id": "hgP8-NpTgm3p"
      },
      "source": [
        "## Doplňkový studijní materiál"
      ]
    },
    {
      "cell_type": "markdown",
      "metadata": {
        "id": "hE97TOV4grA6"
      },
      "source": [
        "https://www.youtube.com/watch?v=YXLVjCKVP7U\n",
        "\n",
        "https://www.youtube.com/watch?v=ce3kUWkY9IY\n",
        "\n",
        "https://www.youtube.com/watch?v=3xAIWiTJCvE\n",
        "\n",
        "https://stats.libretexts.org/Courses/Saint_Mary%27s_College_Notre_Dame/MATH_345__-_Probability_(Kuter)/4%3A_Continuous_Random_Variables/4.1%3A_Probability_Density_Functions_(PDFs)_and_Cumulative_Distribution_Functions_(CDFs)_for_Continuous_Random_Variables"
      ]
    },
    {
      "cell_type": "markdown",
      "metadata": {
        "id": "1lvl16T1BeXM"
      },
      "source": [
        "## Simulační přístup"
      ]
    },
    {
      "cell_type": "markdown",
      "metadata": {
        "id": "Xm5FoSVUpLMo"
      },
      "source": [
        "### Rozmístění v rovině"
      ]
    },
    {
      "cell_type": "code",
      "metadata": {
        "colab": {
          "base_uri": "https://localhost:8080/",
          "height": 269
        },
        "id": "UiMVOBu8RvhB",
        "outputId": "69007f94-c8d8-4bef-89cd-7606afcf34ba"
      },
      "source": [
        "import random\n",
        "from cycler import cycler\n",
        "\n",
        "def plotPoints(count, size):\n",
        "  figure, axes = plt.subplots()\n",
        "\n",
        "  colors = iter(cycler(\"color\", plt.cm.tab20c.colors))\n",
        "  for i in range(count):\n",
        "    a = (random.random(), random.random())\n",
        "    color = next(colors)\n",
        "    draw_circle = plt.Circle(a, size, **color)\n",
        "    axes.add_artist(draw_circle)\n",
        "\n",
        "  axes.set_aspect(1)\n",
        "  plt.grid('both')\n",
        "  plt.show()\n",
        "\n",
        "plotPoints(10, 0.1)  "
      ],
      "execution_count": 3,
      "outputs": [
        {
          "output_type": "display_data",
          "data": {
            "image/png": "[encoded data removed]",
            "text/plain": [
              "<Figure size 432x288 with 1 Axes>"
            ]
          },
          "metadata": {
            "tags": [],
            "needs_background": "light"
          }
        }
      ]
    },
    {
      "cell_type": "markdown",
      "metadata": {
        "id": "mS-8TIecd7B6"
      },
      "source": [
        "### Výpočet pravděpodobnosti pomocí simulace"
      ]
    },
    {
      "cell_type": "markdown",
      "metadata": {
        "id": "fFskuQEUhvG1"
      },
      "source": [
        "$$P=\\frac{\\sum_{x \\in X} f(x)}{\\lVert {X} \\rVert }$$"
      ]
    },
    {
      "cell_type": "code",
      "metadata": {
        "id": "HdtyMs00eCWl"
      },
      "source": [
        "def simProbability(func, count=10000):\n",
        "  sum = 0\n",
        "  for i in range(count):\n",
        "    if func():\n",
        "      sum += 1\n",
        "  return sum / count"
      ],
      "execution_count": 4,
      "outputs": []
    },
    {
      "cell_type": "markdown",
      "metadata": {
        "id": "gRU3R9-CizvC"
      },
      "source": [
        "Výpočet hodnoty funkce kumulativní pravděpodobnosti"
      ]
    },
    {
      "cell_type": "code",
      "metadata": {
        "colab": {
          "base_uri": "https://localhost:8080/"
        },
        "id": "BcXt41QRi5Eo",
        "outputId": "8d764b97-9766-4cd9-a7df-9576350634c5"
      },
      "source": [
        "def func(limit):\n",
        "  value = random.random()\n",
        "  return value < limit\n",
        "\n",
        "f = lambda:func(0.2)\n",
        "P = simProbability(f, 10000)\n",
        "print(0.2, P)"
      ],
      "execution_count": 5,
      "outputs": [
        {
          "output_type": "stream",
          "text": [
            "0.2 0.1982\n"
          ],
          "name": "stdout"
        }
      ]
    },
    {
      "cell_type": "markdown",
      "metadata": {
        "id": "J3_xmrNEd3yV"
      },
      "source": [
        "Náhodný bod v rovině a v prostoru"
      ]
    },
    {
      "cell_type": "code",
      "metadata": {
        "id": "HFX55FmatRFq"
      },
      "source": [
        "import random\n",
        "from math import sqrt\n",
        "\n",
        "def randomPoint2D():\n",
        "  return random.random(), random.random()\n",
        "\n",
        "def randomPoint3D():\n",
        "  return random.random(), random.random(), random.random()  "
      ],
      "execution_count": 6,
      "outputs": []
    },
    {
      "cell_type": "markdown",
      "metadata": {
        "id": "G7P7IvsZkK_x"
      },
      "source": [
        "Hra na programování"
      ]
    },
    {
      "cell_type": "code",
      "metadata": {
        "id": "UiFrCXx8jqEX"
      },
      "source": [
        "def createFunc(f, count):\n",
        "  def result(limit):\n",
        "    bf = lambda:f(limit)\n",
        "    return simProbability(bf, count)\n",
        "  return result"
      ],
      "execution_count": 10,
      "outputs": []
    },
    {
      "cell_type": "markdown",
      "metadata": {
        "id": "dmFDTEJPkYa-"
      },
      "source": [
        "Tvorba funkce kumulativní pravděpodobnosti"
      ]
    },
    {
      "cell_type": "code",
      "metadata": {
        "id": "DRN36ntYlDWQ"
      },
      "source": [
        "def func(limit):\n",
        "  value = random.random()\n",
        "  return value < limit\n",
        "  \n",
        "cdf = createFunc(func, 10000)"
      ],
      "execution_count": 12,
      "outputs": []
    },
    {
      "cell_type": "code",
      "metadata": {
        "colab": {
          "base_uri": "https://localhost:8080/",
          "height": 283
        },
        "id": "1ZDmxW9mkdFJ",
        "outputId": "bff7ccf6-9ccc-43f8-cb3f-4031a0c8ab73"
      },
      "source": [
        "xx = [i / 100 for i in range(100)]\n",
        "yy = [cdf(x) for x in xx]\n",
        "plt.plot(xx, yy)"
      ],
      "execution_count": 13,
      "outputs": [
        {
          "output_type": "execute_result",
          "data": {
            "text/plain": [
              "[<matplotlib.lines.Line2D at 0x7ff95ff63358>]"
            ]
          },
          "metadata": {
            "tags": []
          },
          "execution_count": 13
        },
        {
          "output_type": "display_data",
          "data": {
            "image/png": "[encoded data removed]",
            "text/plain": [
              "<Figure size 432x288 with 1 Axes>"
            ]
          },
          "metadata": {
            "tags": [],
            "needs_background": "light"
          }
        }
      ]
    },
    {
      "cell_type": "markdown",
      "metadata": {
        "id": "cLR0td0rgM4V"
      },
      "source": [
        "Výpočet funkce kumulativní pravděpodobnosti"
      ]
    },
    {
      "cell_type": "code",
      "metadata": {
        "id": "h9oODGhATjuQ"
      },
      "source": [
        "def simIt(experimentFunc):\n",
        "  xx = []\n",
        "  yy = []\n",
        "\n",
        "  count = 100\n",
        "  for i in range(count):\n",
        "    x = i / count\n",
        "    func = lambda : experimentFunc(x)\n",
        "    probability = simProbability(10000, func)\n",
        "    xx.append(x)\n",
        "    yy.append(probability)\n",
        "  return xx, yy\n",
        "  \n",
        "def plotIt(xx, yy):\n",
        "  plt.plot(xx, yy)\n",
        "  plt.grid('both')\n",
        "  plt.gca().set_aspect('equal')\n",
        "  plt.title('Pravděpodobnost zjištění v závislosti na pozorovací vzdálenosti')\n",
        "  plt.xlabel('Pozorovací vzdálenost')\n",
        "  plt.ylabel('Pravděpodobnost')"
      ],
      "execution_count": 15,
      "outputs": []
    },
    {
      "cell_type": "markdown",
      "metadata": {
        "id": "ki2PjE2xeNL2"
      },
      "source": [
        "Je žádoucí si uvědomit, že z hlediska matematického popisu je stejné řešit úlohu v R a čase a úlohu v RxR."
      ]
    },
    {
      "cell_type": "markdown",
      "metadata": {
        "id": "kEsxHMh9nj-o"
      },
      "source": [
        "Obecná funkce pro test, zda dva body jsou v předpokládáné vzdálenosti"
      ]
    },
    {
      "cell_type": "code",
      "metadata": {
        "id": "fWC10EvKepWI"
      },
      "source": [
        "def distanceTest(a, b, distance):\n",
        "  total = 0\n",
        "  for ai, bi in zip(a, b):\n",
        "    delta = ai - bi\n",
        "    total = total + delta * delta\n",
        "    \n",
        "  return sqrt(total) < distance"
      ],
      "execution_count": 16,
      "outputs": []
    },
    {
      "cell_type": "markdown",
      "metadata": {
        "id": "_LqkwxmHfge_"
      },
      "source": [
        "Pozorování jedním pozorovatelem je ekvivalentní situaci, kdy pozorovatel je od pozorovaného ve vzdálenosti, ze které je schopen pozorovat."
      ]
    },
    {
      "cell_type": "code",
      "metadata": {
        "id": "3BBCy4ojXaGx"
      },
      "source": [
        "def twoPointsIn2D(distance):\n",
        "  a = randomPoint2D()\n",
        "  b = randomPoint2D()\n",
        "  return distanceTest(a, b, distance)"
      ],
      "execution_count": 17,
      "outputs": []
    },
    {
      "cell_type": "code",
      "metadata": {
        "colab": {
          "base_uri": "https://localhost:8080/",
          "height": 343
        },
        "id": "kk0pAw_qXlO_",
        "outputId": "114e0140-ec0f-4120-924d-f8217ea2fabb"
      },
      "source": [
        "xx, yy = simIt(twoPointsIn2D) \n",
        "plotIt(xx, yy)"
      ],
      "execution_count": 18,
      "outputs": [
        {
          "output_type": "error",
          "ename": "TypeError",
          "evalue": "ignored",
          "traceback": [
            "\u001b[0;31m---------------------------------------------------------------------------\u001b[0m",
            "\u001b[0;31mTypeError\u001b[0m                                 Traceback (most recent call last)",
            "\u001b[0;32m<ipython-input-18-2432612c5cb1>\u001b[0m in \u001b[0;36m<module>\u001b[0;34m()\u001b[0m\n\u001b[0;32m----> 1\u001b[0;31m \u001b[0mxx\u001b[0m\u001b[0;34m,\u001b[0m \u001b[0myy\u001b[0m \u001b[0;34m=\u001b[0m \u001b[0msimIt\u001b[0m\u001b[0;34m(\u001b[0m\u001b[0mtwoPointsIn2D\u001b[0m\u001b[0;34m)\u001b[0m\u001b[0;34m\u001b[0m\u001b[0;34m\u001b[0m\u001b[0m\n\u001b[0m\u001b[1;32m      2\u001b[0m \u001b[0mplotIt\u001b[0m\u001b[0;34m(\u001b[0m\u001b[0mxx\u001b[0m\u001b[0;34m,\u001b[0m \u001b[0myy\u001b[0m\u001b[0;34m)\u001b[0m\u001b[0;34m\u001b[0m\u001b[0;34m\u001b[0m\u001b[0m\n",
            "\u001b[0;32m<ipython-input-15-bcc2ddabe5c5>\u001b[0m in \u001b[0;36msimIt\u001b[0;34m(experimentFunc)\u001b[0m\n\u001b[1;32m      7\u001b[0m     \u001b[0mx\u001b[0m \u001b[0;34m=\u001b[0m \u001b[0mi\u001b[0m \u001b[0;34m/\u001b[0m \u001b[0mcount\u001b[0m\u001b[0;34m\u001b[0m\u001b[0;34m\u001b[0m\u001b[0m\n\u001b[1;32m      8\u001b[0m     \u001b[0mfunc\u001b[0m \u001b[0;34m=\u001b[0m \u001b[0;32mlambda\u001b[0m \u001b[0;34m:\u001b[0m \u001b[0mexperimentFunc\u001b[0m\u001b[0;34m(\u001b[0m\u001b[0mx\u001b[0m\u001b[0;34m)\u001b[0m\u001b[0;34m\u001b[0m\u001b[0;34m\u001b[0m\u001b[0m\n\u001b[0;32m----> 9\u001b[0;31m     \u001b[0mprobability\u001b[0m \u001b[0;34m=\u001b[0m \u001b[0msimProbability\u001b[0m\u001b[0;34m(\u001b[0m\u001b[0;36m10000\u001b[0m\u001b[0;34m,\u001b[0m \u001b[0mfunc\u001b[0m\u001b[0;34m)\u001b[0m\u001b[0;34m\u001b[0m\u001b[0;34m\u001b[0m\u001b[0m\n\u001b[0m\u001b[1;32m     10\u001b[0m     \u001b[0mxx\u001b[0m\u001b[0;34m.\u001b[0m\u001b[0mappend\u001b[0m\u001b[0;34m(\u001b[0m\u001b[0mx\u001b[0m\u001b[0;34m)\u001b[0m\u001b[0;34m\u001b[0m\u001b[0;34m\u001b[0m\u001b[0m\n\u001b[1;32m     11\u001b[0m     \u001b[0myy\u001b[0m\u001b[0;34m.\u001b[0m\u001b[0mappend\u001b[0m\u001b[0;34m(\u001b[0m\u001b[0mprobability\u001b[0m\u001b[0;34m)\u001b[0m\u001b[0;34m\u001b[0m\u001b[0;34m\u001b[0m\u001b[0m\n",
            "\u001b[0;32m<ipython-input-4-d9fae3a52128>\u001b[0m in \u001b[0;36msimProbability\u001b[0;34m(func, count)\u001b[0m\n\u001b[1;32m      1\u001b[0m \u001b[0;32mdef\u001b[0m \u001b[0msimProbability\u001b[0m\u001b[0;34m(\u001b[0m\u001b[0mfunc\u001b[0m\u001b[0;34m,\u001b[0m \u001b[0mcount\u001b[0m\u001b[0;34m=\u001b[0m\u001b[0;36m10000\u001b[0m\u001b[0;34m)\u001b[0m\u001b[0;34m:\u001b[0m\u001b[0;34m\u001b[0m\u001b[0;34m\u001b[0m\u001b[0m\n\u001b[1;32m      2\u001b[0m   \u001b[0msum\u001b[0m \u001b[0;34m=\u001b[0m \u001b[0;36m0\u001b[0m\u001b[0;34m\u001b[0m\u001b[0;34m\u001b[0m\u001b[0m\n\u001b[0;32m----> 3\u001b[0;31m   \u001b[0;32mfor\u001b[0m \u001b[0mi\u001b[0m \u001b[0;32min\u001b[0m \u001b[0mrange\u001b[0m\u001b[0;34m(\u001b[0m\u001b[0mcount\u001b[0m\u001b[0;34m)\u001b[0m\u001b[0;34m:\u001b[0m\u001b[0;34m\u001b[0m\u001b[0;34m\u001b[0m\u001b[0m\n\u001b[0m\u001b[1;32m      4\u001b[0m     \u001b[0;32mif\u001b[0m \u001b[0mfunc\u001b[0m\u001b[0;34m(\u001b[0m\u001b[0;34m)\u001b[0m\u001b[0;34m:\u001b[0m\u001b[0;34m\u001b[0m\u001b[0;34m\u001b[0m\u001b[0m\n\u001b[1;32m      5\u001b[0m       \u001b[0msum\u001b[0m \u001b[0;34m+=\u001b[0m \u001b[0;36m1\u001b[0m\u001b[0;34m\u001b[0m\u001b[0;34m\u001b[0m\u001b[0m\n",
            "\u001b[0;31mTypeError\u001b[0m: 'function' object cannot be interpreted as an integer"
          ]
        }
      ]
    },
    {
      "cell_type": "markdown",
      "metadata": {
        "id": "EhAyfIXvfkhv"
      },
      "source": [
        "Pozorování dvěma pozorovateli je ekvivalentní situaci, kdy alespoň jeden z pozorovatelů je v potřebné vzdálenosti."
      ]
    },
    {
      "cell_type": "code",
      "metadata": {
        "id": "rFYw00fXXCJk"
      },
      "source": [
        "def threePointsIn2D(distance):\n",
        "  a = randomPoint()\n",
        "  b = randomPoint()\n",
        "  c = randomPoint()\n",
        "  return distanceTest(a, b, distance) or distanceTest(a, c, distance)"
      ],
      "execution_count": null,
      "outputs": []
    },
    {
      "cell_type": "code",
      "metadata": {
        "id": "Jhve4g-gXnM-"
      },
      "source": [
        "simIt(threePointsIn)"
      ],
      "execution_count": null,
      "outputs": []
    },
    {
      "cell_type": "markdown",
      "metadata": {
        "id": "fJctKmQ3qiYz"
      },
      "source": [
        "Prostor 3D"
      ]
    },
    {
      "cell_type": "markdown",
      "metadata": {
        "id": "6JA565hqqmbC"
      },
      "source": [
        ""
      ]
    },
    {
      "cell_type": "code",
      "metadata": {
        "id": "uUMJEGFTq1ja"
      },
      "source": [
        "def twoPointsIn3D(distance):\n",
        "  a = randomPoint3D()\n",
        "  b = randomPoint3D()\n",
        "  return distanceTest(a, b, distance)"
      ],
      "execution_count": null,
      "outputs": []
    },
    {
      "cell_type": "code",
      "metadata": {
        "id": "xExHK6Qrq-OJ"
      },
      "source": [
        "xx, yy = simIt(twoPointsIn3D) \n",
        "plotIt(xx, yy)"
      ],
      "execution_count": null,
      "outputs": []
    },
    {
      "cell_type": "code",
      "metadata": {
        "id": "HqoULkA-SDbq"
      },
      "source": [
        "import matplotlib.pyplot as plt\n",
        "\n",
        "figure, axes = plt.subplots()\n",
        "draw_circle = plt.Circle((0.5, 0.5), 0.3)\n",
        "\n",
        "axes.set_aspect(1)\n",
        "axes.add_artist(draw_circle)\n",
        "plt.title('Circle')\n",
        "plt.show()"
      ],
      "execution_count": null,
      "outputs": []
    }
  ]
}