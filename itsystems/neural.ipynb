{
  "nbformat": 4,
  "nbformat_minor": 0,
  "metadata": {
    "colab": {
      "name": "neural.ipynb",
      "provenance": [],
      "authorship_tag": "ABX9TyP0A0UxvruBWv6KbleCe0d1",
      "include_colab_link": true
    },
    "kernelspec": {
      "name": "python3",
      "display_name": "Python 3"
    }
  },
  "cells": [
    {
      "cell_type": "markdown",
      "metadata": {
        "id": "view-in-github",
        "colab_type": "text"
      },
      "source": [
        "<a href=\"https://colab.research.google.com/github/hrbolek/learning/blob/master/itsystems/neural.ipynb\" target=\"_parent\"><img src=\"https://colab.research.google.com/assets/colab-badge.svg\" alt=\"Open In Colab\"/></a>"
      ]
    },
    {
      "cell_type": "code",
      "metadata": {
        "id": "ji10Z5Hcvjoq",
        "colab_type": "code",
        "colab": {}
      },
      "source": [
        "import scipy.signal as signal"
      ],
      "execution_count": 0,
      "outputs": []
    },
    {
      "cell_type": "code",
      "metadata": {
        "id": "imNbUh_xv6_t",
        "colab_type": "code",
        "colab": {
          "base_uri": "https://localhost:8080/",
          "height": 35
        },
        "outputId": "392d5ed7-24b3-47c2-bf59-61c3640252b1"
      },
      "source": [
        "numerator = [1]\n",
        "denominator = [1, 1]\n",
        "deltaTime = 0.01\n",
        "discrete = signal.cont2discrete((numerator, denominator), deltaTime)\n",
        "print(discrete)"
      ],
      "execution_count": 10,
      "outputs": [
        {
          "output_type": "stream",
          "text": [
            "(array([[0.        , 0.00995017]]), array([ 1.        , -0.99004983]), 0.01)\n"
          ],
          "name": "stdout"
        }
      ]
    },
    {
      "cell_type": "markdown",
      "metadata": {
        "id": "EluSXfsg21cM",
        "colab_type": "text"
      },
      "source": [
        "$\\frac{Y(s)}{U(s)}=\\frac{K}{Ts+1}$\n",
        "\n",
        "$Y(s) \\cdot (Ts+1)=U(s) \\cdot K$\n",
        "\n",
        "$Ty'(t)+y(t)=Ku(t)$\n",
        "\n",
        "$y'(t)+\\frac{1}{T}y(t)=\\frac{K}{T}u(t)$\n",
        "\n",
        "$y'(t)=\\frac{K}{T}u(t)-\\frac{1}{T}y(t)$\n",
        "\n",
        "Euler:\n",
        "\n",
        "$\\lim\\limits_{dt \\to 0} \\frac{y(t+dt)-y(t)}{dt} =\\frac{K}{T}u(t)-\\frac{1}{T}y(t)$\n",
        "\n",
        "$\\frac{y(t+dt)-y(t)}{dt} =\\frac{K}{T}u(t)-\\frac{1}{T}y(t)$\n",
        "\n",
        "$y(t+dt)-y(t) =dt \\left( \\frac{K}{T}u(t)-\\frac{1}{T}y(t) \\right)$\n",
        "\n",
        "$y(t+dt) =y(t) + dt \\left( \\frac{K}{T}u(t)-\\frac{1}{T}y(t) \\right)$"
      ]
    },
    {
      "cell_type": "code",
      "metadata": {
        "id": "RKArR82j1czj",
        "colab_type": "code",
        "colab": {}
      },
      "source": [
        "def createFilter1Order(K, T, deltaTime, y0 = 0):\n",
        "  k1 = K / T\n",
        "  k2 = 1 / T\n",
        "  def filter(u):\n",
        "    currentState = y0\n",
        "    for item in u:\n",
        "      result = currentState + deltaTime * (k1 * u - k2 * currentState)\n",
        "      currentState = result\n",
        "      yield result\n",
        "  return filter"
      ],
      "execution_count": 0,
      "outputs": []
    },
    {
      "cell_type": "code",
      "metadata": {
        "id": "aky9kPjLAir7",
        "colab_type": "code",
        "colab": {}
      },
      "source": [
        "def createTimeGenerator(T0, deltaTime):\n",
        "  def time():\n",
        "    currentTime = T0\n",
        "    while True:\n",
        "      yield currentTime\n",
        "      currentTime = currentTime + deltaTime"
      ],
      "execution_count": 0,
      "outputs": []
    },
    {
      "cell_type": "code",
      "metadata": {
        "id": "2Az_FobW6V00",
        "colab_type": "code",
        "colab": {}
      },
      "source": [
        "def u(gen):\n",
        "  for item in gen:\n",
        "    yield 1"
      ],
      "execution_count": 0,
      "outputs": []
    },
    {
      "cell_type": "code",
      "metadata": {
        "id": "wKVKVkORAS3x",
        "colab_type": "code",
        "colab": {}
      },
      "source": [
        "system = createFilter1Order(2, 1, 0.01)\n",
        "y = "
      ],
      "execution_count": 0,
      "outputs": []
    }
  ]
}