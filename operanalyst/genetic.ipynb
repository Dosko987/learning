{
  "nbformat": 4,
  "nbformat_minor": 0,
  "metadata": {
    "colab": {
      "name": "genetic.ipynb",
      "provenance": [],
      "authorship_tag": "ABX9TyP4gFywfsqxegUUUsRQWYw8",
      "include_colab_link": true
    },
    "kernelspec": {
      "name": "python3",
      "display_name": "Python 3"
    }
  },
  "cells": [
    {
      "cell_type": "markdown",
      "metadata": {
        "id": "view-in-github",
        "colab_type": "text"
      },
      "source": [
        "<a href=\"https://colab.research.google.com/github/hrbolek/learning/blob/master/operanalyst/genetic.ipynb\" target=\"_parent\"><img src=\"https://colab.research.google.com/assets/colab-badge.svg\" alt=\"Open In Colab\"/></a>"
      ]
    },
    {
      "cell_type": "markdown",
      "metadata": {
        "id": "158AH686Q3dr",
        "colab_type": "text"
      },
      "source": [
        "# Optimalizace s využitím genetických algoritmů"
      ]
    },
    {
      "cell_type": "code",
      "metadata": {
        "id": "RT9L6OP9RWW9",
        "colab_type": "code",
        "colab": {}
      },
      "source": [
        "import matplotlib.pyplot as plt\n",
        "from random import random as rnd"
      ],
      "execution_count": 0,
      "outputs": []
    },
    {
      "cell_type": "code",
      "metadata": {
        "id": "8YwFJs3GRyYI",
        "colab_type": "code",
        "colab": {
          "base_uri": "https://localhost:8080/",
          "height": 35
        },
        "outputId": "20672fe1-355f-4c51-8b29-e41342ec39d4"
      },
      "source": [
        "print(rnd())"
      ],
      "execution_count": 6,
      "outputs": [
        {
          "output_type": "stream",
          "text": [
            "0.24920058588562954\n"
          ],
          "name": "stdout"
        }
      ]
    },
    {
      "cell_type": "code",
      "metadata": {
        "id": "gNQKo_S-RLrA",
        "colab_type": "code",
        "colab": {}
      },
      "source": [
        "def create():\n",
        "  result = {}\n",
        "  result['x'] = rnd() * 10 - 5\n",
        "  result['y'] = rnd() * 10 - 5\n",
        "  return result"
      ],
      "execution_count": 0,
      "outputs": []
    },
    {
      "cell_type": "code",
      "metadata": {
        "id": "y4P63aviQiaq",
        "colab_type": "code",
        "colab": {}
      },
      "source": [
        "def evaluate(member):\n",
        "  return member['x'] * member['x'] + member['y'] * member['y']"
      ],
      "execution_count": 0,
      "outputs": []
    },
    {
      "cell_type": "code",
      "metadata": {
        "id": "UtgFxcfBSRto",
        "colab_type": "code",
        "colab": {}
      },
      "source": [
        "def cross(memberA, memberB):\n",
        "  result = {}\n",
        "  weight = rnd()\n",
        "  if (weight < 0.5):\n",
        "    result['x'] = memberA['x']\n",
        "    result['y'] = memberB['y']\n",
        "  else: \n",
        "    result['x'] = memberB['x']\n",
        "    result['y'] = memberA['y']\n",
        "  return result"
      ],
      "execution_count": 0,
      "outputs": []
    },
    {
      "cell_type": "code",
      "metadata": {
        "id": "CY6qvC3gXkBs",
        "colab_type": "code",
        "colab": {}
      },
      "source": [
        "def cross2(memberA, memberB):\n",
        "  result = {}\n",
        "  weight = rnd()\n",
        "  if (weight < 0.25):\n",
        "    result['x'] = memberA['x']\n",
        "    result['y'] = memberA['y']\n",
        "  elif (weight < 0.5): \n",
        "    result['x'] = memberA['x']\n",
        "    result['y'] = memberB['y']\n",
        "  elif (weight < 0.75): \n",
        "    result['x'] = memberB['x']\n",
        "    result['y'] = memberA['y']\n",
        "  else:\n",
        "    result['x'] = memberB['x']\n",
        "    result['y'] = memberB['y']\n",
        "  return result"
      ],
      "execution_count": 0,
      "outputs": []
    },
    {
      "cell_type": "code",
      "metadata": {
        "id": "LdjEfhPfV8gg",
        "colab_type": "code",
        "colab": {}
      },
      "source": [
        "def mutate(member):\n",
        "  result = {**member}\n",
        "  weight = rnd()\n",
        "  randomPos = create()\n",
        "  result['x'] = weight * result['x'] + (1 - weight) * randomPos['x']\n",
        "  result['y'] = weight * result['y'] + (1 - weight) * randomPos['y']\n",
        "  return result"
      ],
      "execution_count": 0,
      "outputs": []
    },
    {
      "cell_type": "code",
      "metadata": {
        "id": "YVk27G0wSpUg",
        "colab_type": "code",
        "colab": {}
      },
      "source": [
        "def evaluateGeneration(generation, evaluateF):\n",
        "  for member in generation:\n",
        "    value = evaluateF(member)\n",
        "    member['value'] = value\n",
        "  return generation"
      ],
      "execution_count": 0,
      "outputs": []
    },
    {
      "cell_type": "code",
      "metadata": {
        "id": "tfyIvJmiTOJ3",
        "colab_type": "code",
        "colab": {}
      },
      "source": [
        "def selectParent(generation, sumValue):\n",
        "  rnumber = rnd() * sumValue\n",
        "  for member in generation:\n",
        "    memberValue = member['value']\n",
        "    if (rnumber < memberValue):\n",
        "      return member\n",
        "    rnumber = rnumber - memberValue\n",
        "  return generation[-1]\n",
        "\n",
        "\n",
        "def newGeneration(generation, crossF, mutationF):\n",
        "  result = []\n",
        "  count = len(generation)\n",
        "  membersToSurvive = count * percentage\n",
        "  for index in range(0, count)):\n",
        "    if (index < membersToSurvive):\n",
        "      result.push({**member}) #prezil, prevedeme do nove generace\n",
        "    else:\n",
        "      result.push(createF()) #nahrazen nahodnym\n",
        "  return result"
      ],
      "execution_count": 0,
      "outputs": []
    },
    {
      "cell_type": "code",
      "metadata": {
        "id": "MKSRd60eUsrY",
        "colab_type": "code",
        "colab": {}
      },
      "source": [
        "def oneIteration(generation, percentage, evaluateF, createF, crossF):\n",
        "  evaluateGeneration(generation, evaluateF) #vyhodnot\n",
        "  generation.sort(key = lambda item: item['value']) #setrid\n",
        "  result = newGeneration(generation, percentage, createF)\n",
        "  "
      ],
      "execution_count": 0,
      "outputs": []
    }
  ]
}