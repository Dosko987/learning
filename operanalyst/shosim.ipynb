{
  "nbformat": 4,
  "nbformat_minor": 0,
  "metadata": {
    "colab": {
      "name": "SHOSimulace.ipynb",
      "provenance": [],
      "authorship_tag": "ABX9TyPoJ3LVhKR8G7Mw5tKNyVEb",
      "include_colab_link": true
    },
    "kernelspec": {
      "name": "python3",
      "display_name": "Python 3"
    }
  },
  "cells": [
    {
      "cell_type": "markdown",
      "metadata": {
        "id": "view-in-github",
        "colab_type": "text"
      },
      "source": [
        "<a href=\"https://colab.research.google.com/github/hrbolek/learning/blob/master/operanalyst/shosim.ipynb\" target=\"_parent\"><img src=\"https://colab.research.google.com/assets/colab-badge.svg\" alt=\"Open In Colab\"/></a>"
      ]
    },
    {
      "cell_type": "markdown",
      "metadata": {
        "id": "s1ri0sOJPP1M"
      },
      "source": [
        "# Teorie hromadné obsluhy"
      ]
    },
    {
      "cell_type": "markdown",
      "metadata": {
        "id": "GWFs2L7IPQQI"
      },
      "source": [
        "## Krátké připomenutí\n",
        "Kandalova notace\n",
        "\n",
        "Systémy M/M/1, M/M/n\n",
        "\n",
        "Pro systém M/M/1 platí rovnice o průměrné délce fronty\n",
        "\n",
        "$L = \\frac{\\lambda}{\\mu}$\n",
        "\n",
        "kde L je  průměrná délka fronty\n",
        "\n",
        "$\\lambda$ je intenzita toku požadavků\n",
        "\n",
        "$\\mu$ je intenzita obsluhy\n",
        "\n",
        "odkaz https://en.wikipedia.org/wiki/Queueing_theory"
      ]
    },
    {
      "cell_type": "markdown",
      "metadata": {
        "id": "jKgaFMd2PdhU"
      },
      "source": [
        "## Simulace toku požadavků"
      ]
    },
    {
      "cell_type": "markdown",
      "metadata": {
        "id": "cT8rQFS6PiC-"
      },
      "source": [
        "### Poisonův tok"
      ]
    },
    {
      "cell_type": "markdown",
      "metadata": {
        "id": "c60mgWOsPokb"
      },
      "source": [
        "Poisonův tok je model např. příchodu zákazníků k přepážce, kde jsou obsluhováni. Pro modelování potřebujeme generovat posloupnost příchodů. Interval mezi jednotlivými příchody lze generovat podle následujícího vztahu\n",
        "\n",
        "$r'=-\\frac{1}{\\lambda}ln(r)$\n",
        "\n",
        "kde $r$ je náhodné číslo s rovnoměrným rozložením a $r'$ je náhodný interval mezi dvěma příchody.\n",
        "\n",
        "Stejným vztahem lze vypočítat náhodnou délku obsluhy (pro systémy M/M/1 nebo M/M/n)\n",
        "\n",
        "https://preshing.com/20111007/how-to-generate-random-timings-for-a-poisson-process/"
      ]
    },
    {
      "cell_type": "code",
      "metadata": {
        "id": "fSNsN8NVcx3I"
      },
      "source": [
        "import numpy as np\n",
        "from numpy.random import Generator, exponential\n",
        "\n",
        "import matplotlib.pyplot as plt\n",
        "from pylab import rcParams\n",
        "rcParams['figure.figsize'] = 15, 10"
      ],
      "execution_count": 48,
      "outputs": []
    },
    {
      "cell_type": "code",
      "metadata": {
        "id": "yr5btoT4Pyni"
      },
      "source": [
        "from random import random\n",
        "from math import log as ln\n",
        "\n",
        "def rndEx(rnd, lam):\n",
        "  x = rnd()\n",
        "  result = (-1 / lam) * ln(x) #https://preshing.com/20111007/how-to-generate-random-timings-for-a-poisson-process/\n",
        "  return result"
      ],
      "execution_count": 49,
      "outputs": []
    },
    {
      "cell_type": "markdown",
      "metadata": {
        "id": "1e5k7NzNeMbW"
      },
      "source": [
        "### Graf četností"
      ]
    },
    {
      "cell_type": "code",
      "metadata": {
        "id": "jk7yHHuCceEs",
        "outputId": "5bf65291-d4e5-46bc-945c-c3919635f256",
        "colab": {
          "base_uri": "https://localhost:8080/",
          "height": 606
        }
      },
      "source": [
        "lam = 0.5\n",
        "data = exponential(1 / lam, 1000)\n",
        "plt.hist(data)\n",
        "plt.grid('both')\n",
        "plt.xlabel('Hodnota')\n",
        "plt.ylabel('Četnost');"
      ],
      "execution_count": 50,
      "outputs": [
        {
          "output_type": "display_data",
          "data": {
            "image/png": "[encoded data removed]",
            "text/plain": [
              "<Figure size 1080x720 with 1 Axes>"
            ]
          },
          "metadata": {
            "tags": [],
            "needs_background": "light"
          }
        }
      ]
    },
    {
      "cell_type": "markdown",
      "metadata": {
        "id": "5vCoNH48buFI"
      },
      "source": [
        "### Časová posloupnost / vznik požadavků"
      ]
    },
    {
      "cell_type": "code",
      "metadata": {
        "id": "D_eG7uL0P5f4",
        "outputId": "fd26c4fe-5493-495a-a4f9-ac96b5f06b68",
        "colab": {
          "base_uri": "https://localhost:8080/",
          "height": 622
        }
      },
      "source": [
        "def plotFlow(maxTime, lam, color):\n",
        "  currentTime = 0\n",
        "  while currentTime < maxTime:\n",
        "    currentTime = currentTime + rndEx(random, lam)\n",
        "    plt.axvline(x = currentTime, color =color)\n",
        "\n",
        "plotFlow(30, 0.5, color='red')    \n",
        "plotFlow(30, 1, color='green')    \n",
        "plt.title('Dva toky s různou intenzitou')\n",
        "plt.xlabel('Čas');"
      ],
      "execution_count": 51,
      "outputs": [
        {
          "output_type": "display_data",
          "data": {
            "image/png": "[encoded data removed]",
            "text/plain": [
              "<Figure size 1080x720 with 1 Axes>"
            ]
          },
          "metadata": {
            "tags": [],
            "needs_background": "light"
          }
        }
      ]
    },
    {
      "cell_type": "markdown",
      "metadata": {
        "id": "Vn4bBljWb_3I"
      },
      "source": [
        ""
      ]
    },
    {
      "cell_type": "code",
      "metadata": {
        "id": "NhyiZqoDcB79"
      },
      "source": [
        "def generateSequence(maxTime, lam):\n",
        "  result = []\n",
        "  currentTime = 0\n",
        "  while currentTime < maxTime:\n",
        "    currentTime = currentTime + rndEx(random, lam)\n",
        "    result.append(currentTime)\n",
        "  return result"
      ],
      "execution_count": 52,
      "outputs": []
    },
    {
      "cell_type": "markdown",
      "metadata": {
        "id": "TwSsPJ6y0Nb3"
      },
      "source": [
        "## Událostní kalendář pro událostní simulaci"
      ]
    },
    {
      "cell_type": "markdown",
      "metadata": {
        "id": "qnYy24QHesJM"
      },
      "source": [
        "Třída pro událostní simulaci. Událostní simulace umožňuje spouštění událostí - akcí v časové souslednosti bez ohledu na souslednost plánování."
      ]
    },
    {
      "cell_type": "code",
      "metadata": {
        "id": "kNdFHrQuYr9P"
      },
      "source": [
        "class EventCalendar:\n",
        "  def __init__(self):\n",
        "    self._queue = []\n",
        "    pass\n",
        "\n",
        "  #Metoda pro vykonání jednoho kroku simulace\n",
        "  def Step(self):\n",
        "    #z fronty odstraň nejstarší událost\n",
        "    currentEvent = self._queue.pop(0)\n",
        "\n",
        "    #vyvolej funkci, která je spojena s danou událostí\n",
        "    func = currentEvent['executor']\n",
        "    time = currentEvent['time']\n",
        "    result = func(time, **currentEvent['kwargs'])\n",
        "    \n",
        "    currentEvent['result'] = result\n",
        "    #vrať událost, která byla zpracována\n",
        "    return currentEvent\n",
        "\n",
        "  #Metoda pro získání informace o času nejstarší události, \n",
        "  #tj. události, která bude zpracována jako první\n",
        "  def PrepareNext(self):\n",
        "    #vrať čas nejstarší události\n",
        "    return self._queue[0]['time']\n",
        "\n",
        "  #Vložení události do fronty událostí, \n",
        "  #futureTime - čas, kdy bude událost vyvolána\n",
        "  #f - funkce, která bude v čase události vykonána / volána\n",
        "  def AddEvent(self, futureTime, f, **kwargs):\n",
        "    self._queue.append({'time': futureTime, 'executor': f, 'kwargs': kwargs})\n",
        "    #setřídit frontu / list událostí podle položky time / čas\n",
        "    self._queue.sort(key = lambda item: item['time'])\n",
        "    return self\n",
        "\n",
        "  def __iter__(self):  # we can return self here, because __next__ is implemented\n",
        "      return self\n",
        "\n",
        "  def __next__(self):\n",
        "    return self.Step()\n"
      ],
      "execution_count": 53,
      "outputs": []
    },
    {
      "cell_type": "markdown",
      "metadata": {
        "id": "zoX54i_Bf3aX"
      },
      "source": [
        "### Použití událostní simulace"
      ]
    },
    {
      "cell_type": "code",
      "metadata": {
        "id": "2adGO-SSf6hm",
        "outputId": "7875ec6e-6596-4e45-cf16-2d19696f6a67",
        "colab": {
          "base_uri": "https://localhost:8080/"
        }
      },
      "source": [
        "calendar = EventCalendar()\n",
        "\n",
        "def eventPrinter(time, calendar, value):\n",
        "  print(f'At time\\t{time}\\tvalue is\\t{value}')\n",
        "  calendar.AddEvent(time + random(), eventPrinter, calendar = calendar, value = value + 1)\n",
        "\n",
        "calendar.AddEvent(0, eventPrinter, calendar = calendar, value = 0)\n",
        "\n",
        "for event in calendar:\n",
        "  print(f\"I have served event in time {event['time']}\")\n",
        "  if event['time'] > 5:\n",
        "    break"
      ],
      "execution_count": 54,
      "outputs": [
        {
          "output_type": "stream",
          "text": [
            "At time\t0\tvalue is\t0\n",
            "I have served event in time 0\n",
            "At time\t0.9827805936217582\tvalue is\t1\n",
            "I have served event in time 0.9827805936217582\n",
            "At time\t1.486389125289279\tvalue is\t2\n",
            "I have served event in time 1.486389125289279\n",
            "At time\t2.2868567017535533\tvalue is\t3\n",
            "I have served event in time 2.2868567017535533\n",
            "At time\t2.311904016784448\tvalue is\t4\n",
            "I have served event in time 2.311904016784448\n",
            "At time\t2.316121715271793\tvalue is\t5\n",
            "I have served event in time 2.316121715271793\n",
            "At time\t2.9644206103794604\tvalue is\t6\n",
            "I have served event in time 2.9644206103794604\n",
            "At time\t3.019252359768531\tvalue is\t7\n",
            "I have served event in time 3.019252359768531\n",
            "At time\t3.8897517080146873\tvalue is\t8\n",
            "I have served event in time 3.8897517080146873\n",
            "At time\t4.835978423783464\tvalue is\t9\n",
            "I have served event in time 4.835978423783464\n",
            "At time\t5.809805425528103\tvalue is\t10\n",
            "I have served event in time 5.809805425528103\n"
          ],
          "name": "stdout"
        }
      ]
    },
    {
      "cell_type": "markdown",
      "metadata": {
        "id": "SB-03vFkg_GY"
      },
      "source": [
        "## První simulace SHO"
      ]
    },
    {
      "cell_type": "code",
      "metadata": {
        "id": "d91IS5KQha8m"
      },
      "source": [
        "λ = 1\n",
        "µ = 2"
      ],
      "execution_count": 55,
      "outputs": []
    },
    {
      "cell_type": "markdown",
      "metadata": {
        "id": "RTirtXE1hIcI"
      },
      "source": [
        "### Příchod požadavku"
      ]
    },
    {
      "cell_type": "code",
      "metadata": {
        "id": "To6tYAD1hF9s"
      },
      "source": [
        "queue = []\n",
        "def customerArrived(time, calendar):\n",
        "  deltaTime = exponential(1 / λ, 1)[0] #jeden čas\n",
        "  calendar.AddEvent(time + deltaTime, customerArrived, calendar=calendar)\n",
        "  calendar.AddEvent(time, tryBeginService, calendar=calendar)\n",
        "  newCustomer = {'enterTime': time}\n",
        "  queue.append(newCustomer)  "
      ],
      "execution_count": 56,
      "outputs": []
    },
    {
      "cell_type": "markdown",
      "metadata": {
        "id": "Khe5ZQvOh9ML"
      },
      "source": [
        "### Obsluha požadavku"
      ]
    },
    {
      "cell_type": "code",
      "metadata": {
        "id": "NDHW9Zagh9Wc"
      },
      "source": [
        "servicePlace = {'inService': None}\n",
        "\n",
        "def tryBeginService(time, calendar):\n",
        "  if servicePlace['inService'] is None:\n",
        "    if len(queue) > 0:\n",
        "      customer = queue.pop()\n",
        "      timeOfEnd = exponential(1 / µ, 1)[0] #jeden čas\n",
        "      calendar.AddEvent(time + timeOfEnd, endService, calendar=calendar)\n",
        "      customer['beginService'] = time\n",
        "      customer['endService'] = time + timeOfEnd\n",
        "      servicePlace['inService'] = customer\n",
        "\n",
        "def endService(time, calendar):\n",
        "  finishedCustomer = servicePlace['inService']\n",
        "  servicePlace['inService'] = None\n",
        "  calendar.AddEvent(time, tryBeginService, calendar=calendar)\n",
        "  return finishedCustomer"
      ],
      "execution_count": 57,
      "outputs": []
    },
    {
      "cell_type": "markdown",
      "metadata": {
        "id": "wBUT5Edyk736"
      },
      "source": [
        "### Sběr statistických ukazatelů"
      ]
    },
    {
      "cell_type": "markdown",
      "metadata": {
        "id": "BTIsF2CklZaz"
      },
      "source": [
        "#### Délka fronty"
      ]
    },
    {
      "cell_type": "code",
      "metadata": {
        "id": "wvh4oHzSlh7M"
      },
      "source": [
        "queueStatistic = {'cumulativeValue': 0, 'value': 0, 'time': 0}\n",
        "def checkQueueLength(time):\n",
        "  deltaTime = time - queueStatistic['time']\n",
        "  queueStatistic['time'] = time\n",
        "  queueStatistic['cumulativeValue'] += deltaTime * queueStatistic['value']\n",
        "  queueStatistic['value'] = len(queue) \n",
        "\n",
        "def getAvgLength():\n",
        "  if queueStatistic['time'] > 0:\n",
        "    return queueStatistic['cumulativeValue'] / queueStatistic['time']\n",
        "  else:\n",
        "    return 0"
      ],
      "execution_count": 58,
      "outputs": []
    },
    {
      "cell_type": "markdown",
      "metadata": {
        "id": "phwmFfgKlbpf"
      },
      "source": [
        "#### Obsluha volná"
      ]
    },
    {
      "cell_type": "code",
      "metadata": {
        "id": "_04n8kmGlJ4Z"
      },
      "source": [
        "serviceFull = {'cumulativeValue': 0, 'value': 0, 'time': 0}\n",
        "def checkServiceFull(time):\n",
        "  deltaTime = time - serviceFull['time']\n",
        "  serviceFull['time'] = time\n",
        "  serviceFull['cumulativeValue'] += deltaTime * serviceFull['value']\n",
        "  serviceFull['value'] = 0\n",
        "  if servicePlace['inService'] is None:\n",
        "    serviceFull['value'] = 1\n",
        "\n",
        "def getServiceAvailableProbability():\n",
        "  if serviceFull['time'] > 0:  \n",
        "    return serviceFull['cumulativeValue'] / serviceFull['time']    \n",
        "  else:\n",
        "    return 0"
      ],
      "execution_count": 59,
      "outputs": []
    },
    {
      "cell_type": "markdown",
      "metadata": {
        "id": "zYQH66G1kbjs"
      },
      "source": [
        "### Běh simulace"
      ]
    },
    {
      "cell_type": "code",
      "metadata": {
        "id": "EC88MN-4hqu3"
      },
      "source": [
        "calendar = EventCalendar()\n",
        "\n",
        "times = []\n",
        "lengths = []\n",
        "probability = []\n",
        "\n",
        "calendar.AddEvent(0, customerArrived, calendar=calendar)\n",
        "\n",
        "for event in calendar:\n",
        "  #print(event)\n",
        "  currentTime = event['time']\n",
        "  checkQueueLength(currentTime)\n",
        "  checkServiceFull(currentTime)\n",
        "\n",
        "  times.append(currentTime)\n",
        "  lengths.append(getAvgLength())\n",
        "  probability.append(getServiceAvailableProbability())\n",
        "\n",
        "  finishedCustomer = event['result']\n",
        "  if not finishedCustomer is None:\n",
        "    pass\n",
        "  if event['time'] > 10000:\n",
        "    break"
      ],
      "execution_count": 60,
      "outputs": []
    },
    {
      "cell_type": "markdown",
      "metadata": {
        "id": "Vm40leS6oVhC"
      },
      "source": [
        "### Výsledek simulace"
      ]
    },
    {
      "cell_type": "markdown",
      "metadata": {
        "id": "KkwfODg6y-Uo"
      },
      "source": [
        "#### Textový výstup"
      ]
    },
    {
      "cell_type": "code",
      "metadata": {
        "id": "vz8DMETFy-kN",
        "outputId": "959d79aa-785b-44ac-b99a-2a5857307d8e",
        "colab": {
          "base_uri": "https://localhost:8080/"
        }
      },
      "source": [
        "print(f'Průměrná délka fronty je {getAvgLength()}')\n",
        "print(f'Pravděpodobnost, že obsluha bude volná {getServiceAvailableProbability()}')"
      ],
      "execution_count": 61,
      "outputs": [
        {
          "output_type": "stream",
          "text": [
            "Průměrná délka fronty je 0.5409430413842197\n",
            "Pravděpodobnost, že obsluha bude volná 0.4907587284327553\n"
          ],
          "name": "stdout"
        }
      ]
    },
    {
      "cell_type": "markdown",
      "metadata": {
        "id": "zYlbDZisyeXc"
      },
      "source": [
        "#### Délka fronty"
      ]
    },
    {
      "cell_type": "code",
      "metadata": {
        "id": "6mRJpF60oZfR",
        "outputId": "a75c4b43-74b3-414f-e138-781ac1a2e379",
        "colab": {
          "base_uri": "https://localhost:8080/",
          "height": 595
        }
      },
      "source": [
        "plt.plot(times, lengths)\n",
        "plt.grid()"
      ],
      "execution_count": 62,
      "outputs": [
        {
          "output_type": "display_data",
          "data": {
            "image/png": "[encoded data removed]",
            "text/plain": [
              "<Figure size 1080x720 with 1 Axes>"
            ]
          },
          "metadata": {
            "tags": [],
            "needs_background": "light"
          }
        }
      ]
    },
    {
      "cell_type": "markdown",
      "metadata": {
        "id": "9xm_nEmkyfZw"
      },
      "source": [
        "#### Pravděpodobnost"
      ]
    },
    {
      "cell_type": "code",
      "metadata": {
        "id": "949uS9j6yft9",
        "outputId": "bf4158ba-1b81-4aa7-9ceb-e1b2da4f8faa",
        "colab": {
          "base_uri": "https://localhost:8080/",
          "height": 593
        }
      },
      "source": [
        "plt.plot(times, probability)\n",
        "plt.grid()"
      ],
      "execution_count": 63,
      "outputs": [
        {
          "output_type": "display_data",
          "data": {
            "image/png": "[encoded data removed]",
            "text/plain": [
              "<Figure size 1080x720 with 1 Axes>"
            ]
          },
          "metadata": {
            "tags": [],
            "needs_background": "light"
          }
        }
      ]
    }
  ]
}