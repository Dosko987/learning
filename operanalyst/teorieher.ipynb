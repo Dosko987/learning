{
  "nbformat": 4,
  "nbformat_minor": 0,
  "metadata": {
    "colab": {
      "name": "TeorieHer.ipynb",
      "provenance": [],
      "toc_visible": true,
      "authorship_tag": "ABX9TyO5GpNV2d9jDZ8Vd6EUSO2E",
      "include_colab_link": true
    },
    "kernelspec": {
      "name": "python3",
      "display_name": "Python 3"
    }
  },
  "cells": [
    {
      "cell_type": "markdown",
      "metadata": {
        "id": "view-in-github",
        "colab_type": "text"
      },
      "source": [
        "<a href=\"https://colab.research.google.com/github/hrbolek/learning/blob/master/operanalyst/teorieher.ipynb\" target=\"_parent\"><img src=\"https://colab.research.google.com/assets/colab-badge.svg\" alt=\"Open In Colab\"/></a>"
      ]
    },
    {
      "cell_type": "markdown",
      "metadata": {
        "id": "8TNZCcYEGJnZ"
      },
      "source": [
        "# Teorie Her"
      ]
    },
    {
      "cell_type": "markdown",
      "metadata": {
        "id": "4AL8RghsGMej"
      },
      "source": [
        "## Rozdělení\n",
        "\n",
        "\n",
        "http://euler.fd.cvut.cz/predmety/game_theory/\n",
        "\n",
        "http://euler.fd.cvut.cz/predmety/teorie_her/\n"
      ]
    },
    {
      "cell_type": "markdown",
      "metadata": {
        "id": "B5DEFjNLGWEP"
      },
      "source": [
        "Podle ceny\n",
        "- hry s nulovým součtem\n",
        "- hry s nenulovým součtem\n",
        "\n",
        "Podle vzahu hráčů\n",
        "- hry antagonistické\n",
        "- hry kooperativní\n",
        "- hry proti přírodě\n",
        "\n",
        "Podle počtu strategií\n",
        "- konečné hry\n",
        "- nekonečné hry"
      ]
    },
    {
      "cell_type": "markdown",
      "metadata": {
        "id": "6Qmk3tadGQOc"
      },
      "source": [
        "## Maticové hry"
      ]
    },
    {
      "cell_type": "markdown",
      "metadata": {
        "id": "4OykJaPwG9jg"
      },
      "source": [
        "Hra \"Kámen-nůžky-papír\"\n",
        "\n",
        "3 strategie obou hráčů \n",
        "- kámen\n",
        "- nůžky\n",
        "- papír\n",
        "\n",
        "Výsledek hry\n",
        "- kámen vs. kámen = 0\n",
        "- kámen vs. nůžky = 1\n",
        "- kámen vs. papír = -1\n",
        "- nůžky vs. kámen = -1\n",
        "- nůžky vs. nůžky = 0\n",
        "- nůžky vs. papír = 1\n",
        "- papír vs. kámen = 1\n",
        "- papír vs. nůžky = -1\n",
        "- papír vs. papír = 0\n",
        "\n",
        "Vyjádřeno v matici výher (odtud maticová hra)\n",
        "\n",
        "$$H=\\begin{pmatrix}\n",
        "0 & 1 & -1 \\\\\n",
        "-1 & 0 & 1 \\\\\n",
        "1 & -1 & 0 \n",
        "\\end{pmatrix}$$\n",
        "\n",
        "Strategie hráče A je představena řádky\n",
        "$$h_1=\\begin{pmatrix}\n",
        "0 & 1 & -1\n",
        "\\end{pmatrix}$$\n",
        "$$h_2=\\begin{pmatrix}\n",
        "-1 & 0 & 1\n",
        "\\end{pmatrix}$$\n",
        "$$h_3=\\begin{pmatrix}\n",
        "1 & -1 & 0\n",
        "\\end{pmatrix}$$\n",
        "\n",
        "Strategie hráče B je představena sloupci\n",
        "$$g_1=\\begin{pmatrix}\n",
        "0 \\\\\n",
        "-1 \\\\\n",
        "1\n",
        "\\end{pmatrix}$$\n",
        "$$g_2=\\begin{pmatrix}\n",
        "1 \\\\\n",
        "0 \\\\\n",
        "-1 \n",
        "\\end{pmatrix}$$\n",
        "$$g_3=\\begin{pmatrix}\n",
        "-1 \\\\\n",
        "1 \\\\\n",
        "0\n",
        "\\end{pmatrix}$$\n",
        "\n",
        "matice výher pro hráče B je transponovanou maticí matice výher pro hráče A\n",
        "$$G=H^T=\\begin{pmatrix}\n",
        "0 & -1 & 1 \\\\\n",
        "1 & 0 & -1 \\\\\n",
        "-1 & 1 & 0 \n",
        "\\end{pmatrix}$$\n",
        "\n",
        "Jestliže hráč A volí strategii $i$ a hráč B volí strategii $j$, potom výhra hráče A je dána prvkem $g_{ij}$ a výhra hráče B je dána prvkem $h_{ij}$. Protože $g_{ij} +h_{ij}=0$, klasifikujeme tuto hru jako hru s nulovým součtem.\n",
        "\n"
      ]
    },
    {
      "cell_type": "markdown",
      "metadata": {
        "id": "s8xx0IPnU9sV"
      },
      "source": [
        "## Čisté strategie"
      ]
    },
    {
      "cell_type": "markdown",
      "metadata": {
        "id": "wU9qd_TtppVK"
      },
      "source": [
        "$$A=\\begin{pmatrix}\n",
        "4 & 3 & 2 & 5 \\\\\n",
        "-10 & 2 & 0 & -1 \\\\\n",
        "7 & 5 & 2 & 3 \\\\\n",
        "0 & 8  & -4 & -5\n",
        "\\end{pmatrix}$$\n",
        "V jednotlivých řádcích hledáme maximum a z takto získaných maxim vybereme minimum.\n",
        "$$\\overline v =\\min_i \\max_j a_{ij}=2$$\n",
        "V jednotlivých sloupcích hledáme minimum a z takto získaných minim vybereme maximum.\n",
        "$$\\underline v = \\max_i \\min_j a_{ij}=2$$\n",
        "Protože\n",
        "$$\\underline v = \\overline v$$\n",
        "má hra sedlový bod, cena hry je \n",
        "$$v=\\underline v = \\overline v$$\n",
        "a optimální strategie pro prvního hráče je strategie č. 1, alternativně č. 3 \n",
        "$$\\begin{pmatrix}\n",
        "4 & 3 & 2 & 6\n",
        "\\end{pmatrix}$$\n",
        "pro druhého hráče je optimální strategií strategie č. 3\n",
        "$$\\begin{pmatrix}\n",
        "2 \\\\\n",
        "0 \\\\\n",
        "2 \\\\\n",
        "-4\n",
        "\\end{pmatrix}$$\n",
        "\n"
      ]
    },
    {
      "cell_type": "markdown",
      "metadata": {
        "id": "tDnhyew4oqcp"
      },
      "source": [
        "$$A=\\begin{pmatrix}\n",
        "5 & 1 \\\\\n",
        "3 & 4\n",
        "\\end{pmatrix}$$\n",
        "\n",
        "$$\\overline v=\\min_i \\max_j a_{ij}=4$$\n",
        "$$\\underline v = \\max_i \\min_j a_{ij}=3$$\n",
        "\n",
        "Hra nemá sedlový bod a nemá řešení v čistých strategiích."
      ]
    },
    {
      "cell_type": "markdown",
      "metadata": {
        "id": "Lu921qMCVA30"
      },
      "source": [
        "## Smíšené strategie"
      ]
    },
    {
      "cell_type": "markdown",
      "metadata": {
        "id": "zxx1Rmc4VDTB"
      },
      "source": [
        "### Optimální řešení ve smíšených strategiích"
      ]
    },
    {
      "cell_type": "markdown",
      "metadata": {
        "id": "0jDryUvVVILZ"
      },
      "source": [
        "Hráč A volí smíšenou strategii $s^A=(s_1^A, s_2^A, ..., s_n^A)$. Hráč B volí smíšenou strategii $s^B=(s_1^B, s_2^B, ..., s_n^B)$.\n",
        "\n",
        "\n",
        "$$max\\{v:A^Ts^A- \\begin{pmatrix}v \\\\\n",
        "v \\\\\n",
        "\\vdots \\\\\n",
        "v\n",
        "\\end{pmatrix} \\ge 0, \\sum_{i=1}^ns_i^A=1,s^A \\ge 0, v \\in R\\}$$\n",
        "\n",
        "$$min\\{w:As^B- \\begin{pmatrix}w \\\\\n",
        "w \\\\\n",
        "\\vdots \\\\\n",
        "w\n",
        "\\end{pmatrix} \\le 0, \\sum_{i=1}^ns_i^B=1,s^B \\ge 0, w \\in R\\}$$\n",
        "\n",
        "\n",
        "\n"
      ]
    },
    {
      "cell_type": "markdown",
      "metadata": {
        "id": "kZMHCPuX9BR7"
      },
      "source": [
        "### Příklad"
      ]
    },
    {
      "cell_type": "markdown",
      "metadata": {
        "id": "RIb2gsZ5lIz6"
      },
      "source": [
        "Vyřešte hru kámen-nůžky-papír\n",
        "\n",
        "$$H=\\begin{pmatrix}\n",
        "0 & 1 & -1 \\\\\n",
        "-1 & 0 & 1 \\\\\n",
        "1 & -1 & 0 \n",
        "\\end{pmatrix}$$\n",
        "\n",
        "$$f(s^A)=v \\to max$$\n",
        "\n",
        "$$\\begin{matrix}\n",
        " & -s_2^A & +s_3^A & -v & \\ge & 0 \\\\\n",
        " s_1^A & & -s_3^A & -v & \\ge & 0 \\\\\n",
        " -s_1^A & +s_2^A & & -v & \\ge & 0 \\\\\n",
        " s_1^A & +s_2^A & +s_3^A & &=& 1\n",
        "\\end{matrix}\n",
        "$$\n",
        "\n",
        "\n",
        "$$g(s^B)=w \\to min$$\n",
        "\n",
        "$$\\begin{matrix}\n",
        " & s_2^B & -s_3^B & -w & \\le & 0 \\\\\n",
        " -s_1^B & & +s_3^B & -w & \\le & 0 \\\\\n",
        " s_1^B & -s_2^B & & -w & \\le & 0 \\\\\n",
        " s_1^B & +s_2^B & +s_3^B & &=& 1\n",
        "\\end{matrix}\n",
        "$$\n"
      ]
    },
    {
      "cell_type": "markdown",
      "metadata": {
        "id": "xhAGkVQU_Qj-"
      },
      "source": [
        "### Řešení"
      ]
    },
    {
      "cell_type": "code",
      "metadata": {
        "id": "11jX_sSQ_StK",
        "outputId": "1f49408a-951a-4e52-af2b-5c4811f21a4e",
        "colab": {
          "base_uri": "https://localhost:8080/",
          "height": 90
        }
      },
      "source": [
        "!pip install pulp"
      ],
      "execution_count": null,
      "outputs": [
        {
          "output_type": "stream",
          "text": [
            "Requirement already satisfied: pulp in /usr/local/lib/python3.6/dist-packages (2.3.1)\n",
            "Requirement already satisfied: amply>=0.1.2 in /usr/local/lib/python3.6/dist-packages (from pulp) (0.1.4)\n",
            "Requirement already satisfied: docutils>=0.3 in /usr/local/lib/python3.6/dist-packages (from amply>=0.1.2->pulp) (0.16)\n",
            "Requirement already satisfied: pyparsing in /usr/local/lib/python3.6/dist-packages (from amply>=0.1.2->pulp) (2.4.7)\n"
          ],
          "name": "stdout"
        }
      ]
    },
    {
      "cell_type": "code",
      "metadata": {
        "id": "F-8YL9M9Hii8",
        "outputId": "2aae637c-bce8-477a-eaf0-f3b27f930624",
        "colab": {
          "base_uri": "https://localhost:8080/",
          "height": 54
        }
      },
      "source": [
        "from pulp import *\n",
        "probA = LpProblem(\"Game\", LpMaximize)\n",
        "sA1 = LpVariable(\"sA1\", 0, 1000)\n",
        "sA2 = LpVariable(\"sA2\", 0, 1000)\n",
        "sA3 = LpVariable(\"sA3\", 0, 1000)\n",
        "v = LpVariable(\"v\", 0, 1000)\n",
        "probA += (-sA2+sA3-v >= 0)\n",
        "probA += (sA1-sA3-v >= 0)\n",
        "probA += (-sA1+sA2-v >= 0)\n",
        "probA += (sA1+sA2+sA3 == 1)\n",
        "probA += (v)\n",
        "status = probA.solve()\n",
        "\n",
        "print(f'sA1={value(sA1)}, sA2={value(sA2)}, sA3={value(sA3)}, v={value(v)}')\n",
        "print(LpStatus[status])"
      ],
      "execution_count": null,
      "outputs": [
        {
          "output_type": "stream",
          "text": [
            "sA1=0.33333333, sA2=0.33333333, sA3=0.33333333, v=0.0\n",
            "Optimal\n"
          ],
          "name": "stdout"
        }
      ]
    },
    {
      "cell_type": "code",
      "metadata": {
        "id": "-QKVllVCG3kL",
        "outputId": "5baec7c6-7baa-47f8-afd4-71361b1e1989",
        "colab": {
          "base_uri": "https://localhost:8080/",
          "height": 54
        }
      },
      "source": [
        "from pulp import *\n",
        "prob = LpProblem(\"Game\", LpMaximize)\n",
        "x1 = LpVariable(\"x1\", 0, 1000)\n",
        "x2 = LpVariable(\"x2\", 0, 1000)\n",
        "x3 = LpVariable(\"x3\", 0, 1000)\n",
        "prob += (x2 -x3 <= 1)\n",
        "prob += (-x1+x3 <= 1)\n",
        "prob += (x1-x2 <= 1)\n",
        "prob += (x1 + x2 + x3)\n",
        "status = prob.solve()\n",
        "\n",
        "print(f'x1={value(x1)}, x2={value(x2)} , x3={value(x3)}')\n",
        "print(LpStatus[status])"
      ],
      "execution_count": null,
      "outputs": [
        {
          "output_type": "stream",
          "text": [
            "x1=1000.0, x2=1000.0 , x3=1000.0\n",
            "Optimal\n"
          ],
          "name": "stdout"
        }
      ]
    },
    {
      "cell_type": "code",
      "metadata": {
        "id": "hX3StlqhCOPk",
        "outputId": "b8c970fd-c43f-4496-9162-95868aa92979",
        "colab": {
          "base_uri": "https://localhost:8080/",
          "height": 54
        }
      },
      "source": [
        "from pulp import *\n",
        "prob = LpProblem(\"Game\", LpMaximize)\n",
        "x1 = LpVariable(\"x1\", 0, 1000)\n",
        "x2 = LpVariable(\"x2\", 0, 1000)\n",
        "x3 = LpVariable(\"x3\", 0, 1000)\n",
        "prob += (3*x2 +x3 <= 1)\n",
        "prob += (x1+3*x3 <= 1)\n",
        "prob += (3*x1+x2 <= 1)\n",
        "prob += (x1 + x2 + x3)\n",
        "status = prob.solve()\n",
        "\n",
        "print(f'x1={value(x1)}, x2={value(x2)} , x3={value(x3)}')\n",
        "print(LpStatus[status])"
      ],
      "execution_count": null,
      "outputs": [
        {
          "output_type": "stream",
          "text": [
            "x1=0.25, x2=0.25 , x3=0.25\n",
            "Optimal\n"
          ],
          "name": "stdout"
        }
      ]
    },
    {
      "cell_type": "code",
      "metadata": {
        "id": "ZERKtCN0FtAD",
        "outputId": "ec4ef455-2a75-4808-d596-bf4d569aef81",
        "colab": {
          "base_uri": "https://localhost:8080/",
          "height": 54
        }
      },
      "source": [
        "from pulp import *\n",
        "prob = LpProblem(\"Game\", LpMinimize)\n",
        "x1 = LpVariable(\"x1\", 0, 1000)\n",
        "x2 = LpVariable(\"x2\", 0, 1000)\n",
        "x3 = LpVariable(\"x3\", 0, 1000)\n",
        "prob += (x2 -x3 >= 1)\n",
        "prob += (-x1+x3 >= 1)\n",
        "prob += (x1-x2 >= 1)\n",
        "prob += (x1 + x2 + x3)\n",
        "status = prob.solve()\n",
        "\n",
        "print(f'x1={value(x1)}, x2={value(x2)} , x3={value(x3)}')\n",
        "print(LpStatus[status])"
      ],
      "execution_count": null,
      "outputs": [
        {
          "output_type": "stream",
          "text": [
            "x1=1.0, x2=0.0 , x3=2.0\n",
            "Infeasible\n"
          ],
          "name": "stdout"
        }
      ]
    },
    {
      "cell_type": "code",
      "metadata": {
        "id": "xuZkAAuvGxVT",
        "outputId": "5133a962-85f4-42a7-bc05-4fe1105c9082",
        "colab": {
          "base_uri": "https://localhost:8080/",
          "height": 54
        }
      },
      "source": [
        "from pulp import *\n",
        "prob = LpProblem(\"Game\", LpMinimize)\n",
        "x1 = LpVariable(\"x1\", 0, 1000)\n",
        "x2 = LpVariable(\"x2\", 0, 1000)\n",
        "x3 = LpVariable(\"x3\", 0, 1000)\n",
        "v = LpVariable(\"v\", 0, 1000)\n",
        "prob += (x2 -x3-v <= 0)\n",
        "prob += (-x1+x3-v <= 0)\n",
        "prob += (x1-x2-v <= 0)\n",
        "prob += (x1+x2+x3 == 1)\n",
        "prob += (v)\n",
        "status = prob.solve()\n",
        "\n",
        "print(f'x1={value(x1)}, x2={value(x2)}, x3={value(x3)}, v={value(v)}')\n",
        "print(LpStatus[status])"
      ],
      "execution_count": null,
      "outputs": [
        {
          "output_type": "stream",
          "text": [
            "x1=0.33333333, x2=0.33333333, x3=0.33333333, v=0.0\n",
            "Optimal\n"
          ],
          "name": "stdout"
        }
      ]
    },
    {
      "cell_type": "markdown",
      "metadata": {
        "id": "4TqozlXSFxQz"
      },
      "source": [
        "## Algoritmus řešení hry s pomocí iterací"
      ]
    },
    {
      "cell_type": "markdown",
      "metadata": {
        "id": "vceM7jhv954-"
      },
      "source": [
        "### Normalizace strategie"
      ]
    },
    {
      "cell_type": "markdown",
      "metadata": {
        "id": "4Lybba_Z98Rz"
      },
      "source": [
        "Postup, při kterém z četností vypočítáme pravděpodobnosti."
      ]
    },
    {
      "cell_type": "code",
      "metadata": {
        "id": "X2wu5nym92Jo"
      },
      "source": [
        "def normalizeStrategy(strategy):\n",
        "  s = sum(strategy)\n",
        "  result = []\n",
        "  for p in strategy:\n",
        "    result.append(p / s)\n",
        "  return result\n",
        "\n",
        "def normalizeStrategy(strategy):\n",
        "  s = sum(strategy)\n",
        "  result = [p / s for p in strategy]\n",
        "  return result"
      ],
      "execution_count": 6,
      "outputs": []
    },
    {
      "cell_type": "markdown",
      "metadata": {
        "id": "nDu50Z9BBgqu"
      },
      "source": [
        "### Výstup informace o hře, včetně smíšených strategií"
      ]
    },
    {
      "cell_type": "code",
      "metadata": {
        "id": "qE0JXoJa-OvO"
      },
      "source": [
        "def printGame(strategies, gameMatrices):\n",
        "  strategyA = normalizeStrategy(strategies[0])\n",
        "  strategyB = normalizeStrategy(strategies[1])\n",
        "  gameA = gameMatrices[0]\n",
        "  gameB = gameMatrices[1]\n",
        "\n",
        "  print('\\t', end='')\n",
        "  for item in strategyB:\n",
        "    print(f'{item:.2f}\\t', end='')\n",
        "  print()\n",
        "  for index, value in enumerate(strategyA):\n",
        "    print(f'{value:.2f}\\t', end='')\n",
        "    for mItem in gameA[index]:\n",
        "      print(f'{mItem}\\t', end='')\n",
        "    print()"
      ],
      "execution_count": 16,
      "outputs": []
    },
    {
      "cell_type": "markdown",
      "metadata": {
        "id": "ScpOOBmrBvcp"
      },
      "source": [
        "### Krok hráče A"
      ]
    },
    {
      "cell_type": "markdown",
      "metadata": {
        "id": "1Gf7kh8QC1nD"
      },
      "source": [
        "Hráč A na základě předchozích tahů hráče B volí čistou strategii, která mu maximalizuje zisk"
      ]
    },
    {
      "cell_type": "code",
      "metadata": {
        "id": "OhSj8NK3B040"
      },
      "source": [
        "def findMax(data):\n",
        "  maxValue = None\n",
        "  maxIndex = 0\n",
        "  for index, item in enumerate(data):\n",
        "    if (maxValue is None):\n",
        "      maxValue = item\n",
        "      maxIndex = index\n",
        "    elif (maxValue < item):\n",
        "      maxValue = item\n",
        "      maxIndex = index\n",
        "  return maxValue, maxIndex\n",
        "\n",
        "def playerAStep(mixedStrategy, gameMatrix):\n",
        "  costs = [0] * len(gameMatrix[0])\n",
        "  for pureStrategy, row in zip(mixedStrategy, gameMatrix):\n",
        "    for index, hItem in enumerate(row):\n",
        "      costs[index] += pureStrategy * hItem\n",
        "  \n",
        "  maxValue, maxIndex = findMax(costs)\n",
        "  maxIndex = 0\n",
        "  maxValue = costs[0]\n",
        "  for index, cost in enumerate(costs):\n",
        "    if cost > maxValue:\n",
        "      maxValue = cost\n",
        "      maxIndex = index\n",
        "  \n",
        "  return maxIndex"
      ],
      "execution_count": 27,
      "outputs": []
    },
    {
      "cell_type": "markdown",
      "metadata": {
        "id": "x4eXrwYtDCg0"
      },
      "source": [
        "### Krok hráče B"
      ]
    },
    {
      "cell_type": "markdown",
      "metadata": {
        "id": "lviVBAFxDHmT"
      },
      "source": [
        "Hráč B na základě předchozích tahů hráče A volí čistou strategii, která mu minimalizuje ztrátu"
      ]
    },
    {
      "cell_type": "code",
      "metadata": {
        "id": "IiXTkxhxB2fE"
      },
      "source": [
        "def playerBStep(mixedStrategy, gameMatrix):\n",
        "  costs = [0] * len(gameMatrix[0])\n",
        "  for pureStrategy, row in zip(mixedStrategy, gameMatrix):\n",
        "    for index, hItem in enumerate(row):\n",
        "      costs[index] += pureStrategy * hItem\n",
        "  \n",
        "  minIndex = 0\n",
        "  minValue = costs[0]\n",
        "  for index, cost in enumerate(costs):\n",
        "    if cost < minValue:\n",
        "      minValue = cost\n",
        "      minIndex = index\n",
        "  \n",
        "  return minIndex"
      ],
      "execution_count": 28,
      "outputs": []
    },
    {
      "cell_type": "markdown",
      "metadata": {
        "id": "puctxswfDNYJ"
      },
      "source": [
        "### Jeden krok v iteraci hry"
      ]
    },
    {
      "cell_type": "markdown",
      "metadata": {
        "id": "rSIMdNHMDQjB"
      },
      "source": [
        "Jeden krok se skládá z tahů obou hráčů."
      ]
    },
    {
      "cell_type": "code",
      "metadata": {
        "id": "tvbkJtQnB4ER"
      },
      "source": [
        "def gameStep(strategies, gameMatrices):\n",
        "  strategyA = [*strategies[0]]\n",
        "  strategyB = [*strategies[1]]\n",
        "  gameA = gameMatrices[0]\n",
        "  gameB = gameMatrices[1]\n",
        "\n",
        "  pureStrategyB = playerBStep(strategyA, gameA)\n",
        "  strategyB[pureStrategyB] += 1\n",
        "\n",
        "  pureStrategyA = playerAStep(strategyB, gameB)\n",
        "  strategyA[pureStrategyA] += 1\n",
        "\n",
        "  return strategyA, strategyB"
      ],
      "execution_count": 29,
      "outputs": []
    },
    {
      "cell_type": "markdown",
      "metadata": {
        "id": "4EmYZm0-CCS-"
      },
      "source": [
        "### Řešení hry"
      ]
    },
    {
      "cell_type": "code",
      "metadata": {
        "id": "4AHrQAOm1Kfn",
        "outputId": "ba9b3ffc-7f0f-4f49-eff6-20e5b0c557b8",
        "colab": {
          "base_uri": "https://localhost:8080/"
        }
      },
      "source": [
        "H = [[0, 1, -1], [-1, 0, 1], [1, -1, 0]]\n",
        "G = [[0, -1, 1], [1, 0, -1], [-1, 1, 0]]\n",
        "\n",
        "strategyA = [1, 0, 0]\n",
        "strategyB = [1, 0, 0]\n",
        "for index in range(10000):\n",
        "  strategyA, strategyB = gameStep((strategyA, strategyB), (H, G))\n",
        "  if index % 1000 == 0:\n",
        "    printGame((strategyA, strategyB), (H, G))\n",
        "    print('-'*30)\n",
        "    #print(normalizeStrategy(strategyA), normalizeStrategy(strategyB))\n"
      ],
      "execution_count": 30,
      "outputs": [
        {
          "output_type": "stream",
          "text": [
            "\t0.50\t0.00\t0.50\t\n",
            "0.50\t0\t1\t-1\t\n",
            "0.00\t-1\t0\t1\t\n",
            "0.50\t1\t-1\t0\t\n",
            "------------------------------\n",
            "\t0.33\t0.34\t0.33\t\n",
            "0.35\t0\t1\t-1\t\n",
            "0.32\t-1\t0\t1\t\n",
            "0.33\t1\t-1\t0\t\n",
            "------------------------------\n",
            "\t0.32\t0.33\t0.34\t\n",
            "0.34\t0\t1\t-1\t\n",
            "0.34\t-1\t0\t1\t\n",
            "0.33\t1\t-1\t0\t\n",
            "------------------------------\n",
            "\t0.33\t0.34\t0.33\t\n",
            "0.34\t0\t1\t-1\t\n",
            "0.33\t-1\t0\t1\t\n",
            "0.33\t1\t-1\t0\t\n",
            "------------------------------\n",
            "\t0.33\t0.34\t0.33\t\n",
            "0.34\t0\t1\t-1\t\n",
            "0.33\t-1\t0\t1\t\n",
            "0.33\t1\t-1\t0\t\n",
            "------------------------------\n",
            "\t0.34\t0.33\t0.33\t\n",
            "0.33\t0\t1\t-1\t\n",
            "0.34\t-1\t0\t1\t\n",
            "0.33\t1\t-1\t0\t\n",
            "------------------------------\n",
            "\t0.34\t0.33\t0.33\t\n",
            "0.33\t0\t1\t-1\t\n",
            "0.33\t-1\t0\t1\t\n",
            "0.34\t1\t-1\t0\t\n",
            "------------------------------\n",
            "\t0.34\t0.33\t0.33\t\n",
            "0.33\t0\t1\t-1\t\n",
            "0.33\t-1\t0\t1\t\n",
            "0.34\t1\t-1\t0\t\n",
            "------------------------------\n",
            "\t0.33\t0.33\t0.34\t\n",
            "0.33\t0\t1\t-1\t\n",
            "0.34\t-1\t0\t1\t\n",
            "0.33\t1\t-1\t0\t\n",
            "------------------------------\n",
            "\t0.33\t0.34\t0.33\t\n",
            "0.33\t0\t1\t-1\t\n",
            "0.33\t-1\t0\t1\t\n",
            "0.34\t1\t-1\t0\t\n",
            "------------------------------\n"
          ],
          "name": "stdout"
        }
      ]
    }
  ]
}