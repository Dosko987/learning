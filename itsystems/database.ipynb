{
  "nbformat": 4,
  "nbformat_minor": 0,
  "metadata": {
    "colab": {
      "name": "database.ipynb",
      "provenance": [],
      "authorship_tag": "ABX9TyOjVEyR6Y0qFpainZtd/vJo",
      "include_colab_link": true
    },
    "kernelspec": {
      "name": "python3",
      "display_name": "Python 3"
    }
  },
  "cells": [
    {
      "cell_type": "markdown",
      "metadata": {
        "id": "view-in-github",
        "colab_type": "text"
      },
      "source": [
        "<a href=\"https://colab.research.google.com/github/hrbolek/learning/blob/master/itsystems/database.ipynb\" target=\"_parent\"><img src=\"https://colab.research.google.com/assets/colab-badge.svg\" alt=\"Open In Colab\"/></a>"
      ]
    },
    {
      "cell_type": "markdown",
      "metadata": {
        "id": "O0wenB8ALtF3",
        "colab_type": "text"
      },
      "source": [
        "# Databázové systémy\n",
        "\n",
        "##  Úvod\n",
        "\n",
        "Databázové systémy slouží k ukládání dat. \n",
        "\n",
        "Data lze podle charakteru rozdělit do dvou základních kategorií:\n",
        "- Homogenní data\n",
        "- Heterogenní data\n",
        "\n",
        "Homogeními daty rozumíme data, která mají stejnou strukturu narozdíl od heterogenních dat, kde je struktura odlišná.\n",
        "\n",
        "Homogenní data lze přirovnat k tabulce v Excelu, která má definovaný počet sloupců a těchnto sloupcích jsou uloženy hodnoty.\n"
      ]
    },
    {
      "cell_type": "markdown",
      "metadata": {
        "id": "Ut8cjCqANU12",
        "colab_type": "text"
      },
      "source": [
        "## Pár úvah nad datovými toky\n",
        "V případě velkých datových objemů není žádoucí a mnohdy ani možné zpracovávat datové celky. Pole (```list```, ```array``` apod.) je zpracováváno po prvcích."
      ]
    },
    {
      "cell_type": "code",
      "metadata": {
        "id": "7SkeJNg9OwSs",
        "colab_type": "code",
        "colab": {
          "base_uri": "https://localhost:8080/",
          "height": 35
        },
        "outputId": "7f1de321-0b15-4a69-e207-7c30497dcbff"
      },
      "source": [
        "data = [0, 1, 2, 3]\n",
        "def oldFashioned(data, cislo):\n",
        "  result = []\n",
        "  for item in data:\n",
        "    result.append(item + cislo)\n",
        "  return result\n",
        "\n",
        "prictenoOld = oldFashioned(data, 2)\n",
        "print(data, '-->', prictenoOld)"
      ],
      "execution_count": 10,
      "outputs": [
        {
          "output_type": "stream",
          "text": [
            "[0, 1, 2, 3] --> [2, 3, 4, 5]\n"
          ],
          "name": "stdout"
        }
      ]
    },
    {
      "cell_type": "code",
      "metadata": {
        "id": "UnR33j1sQpvh",
        "colab_type": "code",
        "colab": {
          "base_uri": "https://localhost:8080/",
          "height": 35
        },
        "outputId": "82541998-5b2c-4416-9651-ca3426901092"
      },
      "source": [
        "def newWay(data, cislo):\n",
        "  for item in data:\n",
        "    yield item + cislo\n",
        "\n",
        "prictenoNew = list(newWay(data, 2))\n",
        "print(data, '-->', prictenoNew)    "
      ],
      "execution_count": 12,
      "outputs": [
        {
          "output_type": "stream",
          "text": [
            "[0, 1, 2, 3] --> [2, 3, 4, 5]\n"
          ],
          "name": "stdout"
        }
      ]
    },
    {
      "cell_type": "markdown",
      "metadata": {
        "id": "0g0G68sbRORb",
        "colab_type": "text"
      },
      "source": [
        "### Proč ```list()```"
      ]
    },
    {
      "cell_type": "code",
      "metadata": {
        "id": "8-01EYQFRV3z",
        "colab_type": "code",
        "colab": {
          "base_uri": "https://localhost:8080/",
          "height": 72
        },
        "outputId": "cdc5633c-12e6-49cb-f07b-250d8c51aaee"
      },
      "source": [
        "prictenoWOList = (newWay(data, 2))\n",
        "print(data, '-->', prictenoWOList)    \n",
        "print('Spustime vypocet')\n",
        "pricteno2List = list(newWay(data, 2))\n",
        "print(data, '-->', pricteno2List)    \n"
      ],
      "execution_count": 13,
      "outputs": [
        {
          "output_type": "stream",
          "text": [
            "[0, 1, 2, 3] --> <generator object newWay at 0x7f4b13b62f68>\n",
            "Spustime vypocet\n",
            "[0, 1, 2, 3] --> [2, 3, 4, 5]\n"
          ],
          "name": "stdout"
        }
      ]
    },
    {
      "cell_type": "markdown",
      "metadata": {
        "id": "hn8g7jSqRtLM",
        "colab_type": "text"
      },
      "source": [
        "### Generators\n",
        "funkce s výrazem ```yield``` jsou generátory. Používají se v mnoha programovacích jazycích, příkladem budiž Python, Javascript, C# a další. Výsledkem takové funkce není návratový hodnota ale generátor, což je objekt s definovanými vlastnosti a metodami. Jedna z jeho metod (typicky ```next```) jejímž opakovaným voláním lze získat hodnoty tvořící zpracovávanou sekvenci.\n",
        "\n",
        "V příkladu je funkce ```list``` použita na převod generátoru na seznam. Teprve v tuto chvíli dojde k výpočtu. Pečlivě si prostudujte následující řádky kódu. "
      ]
    },
    {
      "cell_type": "code",
      "metadata": {
        "id": "3G2UR6uyS2rr",
        "colab_type": "code",
        "colab": {
          "base_uri": "https://localhost:8080/",
          "height": 146
        },
        "outputId": "98d95bfb-f14a-49ad-d521-b20fa03e9dd5"
      },
      "source": [
        "def demo(data, cislo):\n",
        "  for item in data:\n",
        "    print('pricitam', item, '+', cislo, '=', item + cislo)\n",
        "    yield item + cislo\n",
        "\n",
        "generator = demo(data, 2)\n",
        "print('generator:', data, '-->', generator)    \n",
        "print('Teprve ted spustime vypocet')\n",
        "vysledek = list(generator)\n",
        "print('výsledek', data, '-->', vysledek)        "
      ],
      "execution_count": 16,
      "outputs": [
        {
          "output_type": "stream",
          "text": [
            "generator: [0, 1, 2, 3] --> <generator object demo at 0x7f4b13a6d150>\n",
            "Teprve ted spustime vypocet\n",
            "pricitam 0 + 2 = 2\n",
            "pricitam 1 + 2 = 3\n",
            "pricitam 2 + 2 = 4\n",
            "pricitam 3 + 2 = 5\n",
            "výsledek [0, 1, 2, 3] --> [2, 3, 4, 5]\n"
          ],
          "name": "stdout"
        }
      ]
    },
    {
      "cell_type": "markdown",
      "metadata": {
        "id": "haNZVo9oTypm",
        "colab_type": "text"
      },
      "source": [
        "### Generators II\n",
        "Generátory jsou fakticky stavové automaty. S výhodou je lze používat při definování posloupnosti akcí nad datovým tokem. Fakticky jsou základem operačních systémů. "
      ]
    },
    {
      "cell_type": "markdown",
      "metadata": {
        "id": "Ma-lKgD7UaXC",
        "colab_type": "text"
      },
      "source": [
        "Budiž funkce\n",
        "\n",
        "$g_1(x)=x + 1$\n",
        "\n",
        "$g_2(x)=x+2$\n",
        "\n",
        "Obě funkce lze zobecnit pomocí funkce\n",
        "\n",
        "$f(x, y)= x+ y$\n",
        "\n",
        "neboť \n",
        "\n",
        "$g_1(x) = f(x, 1)$\n",
        "\n",
        "$g_2(x)=f(x,2)$\n",
        "\n",
        "Lze definovat funkcionál\n",
        "$F$, pro který platí\n",
        "\n",
        "$F(f, 2)=g_1$\n",
        "\n",
        "$F(f, 2)=g_2$\n",
        "\n",
        "Funkcionály jsou základem funkcionálního programování. Pro funkcionální programování je možné využít např. jazyka F#. Prvky funcionálního programování jsou ale dostupné (a mnohdy i využívané) v jazycích Python, Javascript, C#."
      ]
    },
    {
      "cell_type": "code",
      "metadata": {
        "id": "VL6MuwumRIAW",
        "colab_type": "code",
        "colab": {
          "base_uri": "https://localhost:8080/",
          "height": 72
        },
        "outputId": "a7da75b3-2b82-4747-83c3-a6fcd0479c52"
      },
      "source": [
        "def f(x, y):\n",
        "  return x + y\n",
        "\n",
        "def F(f, x):\n",
        "  def g(y):\n",
        "    return f(x, y)\n",
        "  return g\n",
        "\n",
        "g1 = F(f, 1)\n",
        "g2 = F(f, 2)\n",
        "\n",
        "print('f(5, 10) =', f(5, 10))\n",
        "print('g1(3) =', g1(3))\n",
        "print('g2(3) =', g2(3))"
      ],
      "execution_count": 17,
      "outputs": [
        {
          "output_type": "stream",
          "text": [
            "f(5, 10) = 15\n",
            "g1(3) = 4\n",
            "g2(3) = 5\n"
          ],
          "name": "stdout"
        }
      ]
    },
    {
      "cell_type": "code",
      "metadata": {
        "id": "ZHw60YTKI1ju",
        "colab_type": "code",
        "colab": {}
      },
      "source": [
        "import pandas as pd\n"
      ],
      "execution_count": 0,
      "outputs": []
    },
    {
      "cell_type": "markdown",
      "metadata": {
        "id": "hieohvWAH8Py",
        "colab_type": "text"
      },
      "source": [
        "### Příklad homogenních dat\n"
      ]
    },
    {
      "cell_type": "code",
      "metadata": {
        "id": "gZDLRQ_0IAJW",
        "colab_type": "code",
        "colab": {}
      },
      "source": [
        "dataStudents = [\n",
        "  (1,'Monique Davis',400,'Literature','Monique@someOtherSchool.edu','2017-08-16 15:34:50','2017-09-02 19:33:56'),\n",
        "\t(2,'Teri Gutierrez',800,'Programming','Teri@someOtherSchool.edu','2017-08-16 15:34:50','2017-09-02 19:33:56'),\n",
        "  (3,'Spencer Pautier',1000,'Programming','Spencer@someOtherSchool.edu','2017-08-16 15:34:50','2017-09-02 19:33:56'),\n",
        "  (4,'Louis Ramsey',1200,'Programming','Louis@someOtherSchool.edu','2017-08-16 15:34:50','2017-09-02 19:33:56'),\n",
        "  (5,'Alvin Greene',1200,'Programming','Alvin@someOtherSchool.edu','2017-08-16 15:34:50','2017-09-02 19:33:56'),\n",
        "  (6,'Sophie Freeman',1200,'Programming','Sophie@someOtherSchool.edu','2017-08-16 15:34:50','2017-09-02 19:33:56'),\n",
        "  (7,'Edgar Frank \\\"Ted\\\" \\\"Codd\\\"',2400,'Computer Science','Edgar@someOtherSchool.edu','2017-08-16 15:35:33','2017-09-02 19:33:56'),\n",
        "  (8,'Donald D. Chamberlin',2400,'Computer Science','Donald@someOtherSchool.edu','2017-08-16 15:35:33','2017-09-02 19:33:56'),\n",
        "  (9,'Raymond F. Boyce',2400,'Computer Science','Raymond@someOtherSchool.edu','2017-08-16 15:35:33','2017-09-02 19:33:56')]"
      ],
      "execution_count": 0,
      "outputs": []
    },
    {
      "cell_type": "code",
      "metadata": {
        "id": "qQVBSni0Xh9W",
        "colab_type": "code",
        "colab": {}
      },
      "source": [
        "dataContactInfo = [\n",
        "  (1,'Monique.Davis@freeCodeCamp.org','555-555-5551',97111),\n",
        "  (2,'Teri.Gutierrez@freeCodeCamp.org','555-555-5552',97112),\n",
        "  (3,'Spencer.Pautier@freeCodeCamp.org','555-555-5553',97113),\n",
        "  (4,'Louis.Ramsey@freeCodeCamp.org','555-555-5554',0),\n",
        "  (5,'Alvin.Green@freeCodeCamp.org','555-555-5555',97115),\n",
        "  (6,'Sophie.Freeman@freeCodeCamp.org','555-555-5556',97116),\n",
        "  (7,'Maximo.Smith@freeCodeCamp.org','555-555-5557',97117),\n",
        "  (8,'Michael.Roach@freeCodeCamp.ort','555-555-5558',97118)\n",
        "]"
      ],
      "execution_count": 0,
      "outputs": []
    },
    {
      "cell_type": "code",
      "metadata": {
        "id": "xM90-9qXIZme",
        "colab_type": "code",
        "colab": {
          "base_uri": "https://localhost:8080/",
          "height": 646
        },
        "outputId": "1a91cea8-a15b-43fc-df45-1cdf8e57e9ab"
      },
      "source": [
        "def dataSource():\n",
        "  for item in dataStudents:\n",
        "    yield item\n",
        "\n",
        "def tuple2dictionary(names, item):\n",
        "  result = {}\n",
        "  for name, value in zip(names, item):\n",
        "    result[name] = value\n",
        "  return result\n",
        "\n",
        "def tuple2dictionarySeq(names, sequence):\n",
        "  for item in sequence:\n",
        "    yield tuple2dictionary(names, item)\n",
        "\n",
        "namesStudents = ['studentID', 'FullName', 'sat_score', 'programOfStudy', 'schoolEmailAdr', 'rcd_Created', 'rcd_Updated']\n",
        "namesContacts = ['studentID', 'studentEmailAddr',  'student-phone-cell', 'student-US-zipcode']\n",
        "\n",
        "\n",
        "display(pd.DataFrame(dataSource()))\n",
        "display(pd.DataFrame(tuple2dictionarySeq(names=names, sequence=dataSource())))"
      ],
      "execution_count": 7,
      "outputs": [
        {
          "output_type": "display_data",
          "data": {
            "text/html": [
              "<div>\n",
              "<style scoped>\n",
              "    .dataframe tbody tr th:only-of-type {\n",
              "        vertical-align: middle;\n",
              "    }\n",
              "\n",
              "    .dataframe tbody tr th {\n",
              "        vertical-align: top;\n",
              "    }\n",
              "\n",
              "    .dataframe thead th {\n",
              "        text-align: right;\n",
              "    }\n",
              "</style>\n",
              "<table border=\"1\" class=\"dataframe\">\n",
              "  <thead>\n",
              "    <tr style=\"text-align: right;\">\n",
              "      <th></th>\n",
              "      <th>0</th>\n",
              "      <th>1</th>\n",
              "      <th>2</th>\n",
              "      <th>3</th>\n",
              "      <th>4</th>\n",
              "      <th>5</th>\n",
              "      <th>6</th>\n",
              "    </tr>\n",
              "  </thead>\n",
              "  <tbody>\n",
              "    <tr>\n",
              "      <th>0</th>\n",
              "      <td>1</td>\n",
              "      <td>Monique Davis</td>\n",
              "      <td>400</td>\n",
              "      <td>Literature</td>\n",
              "      <td>Monique@someOtherSchool.edu</td>\n",
              "      <td>2017-08-16 15:34:50</td>\n",
              "      <td>2017-09-02 19:33:56</td>\n",
              "    </tr>\n",
              "    <tr>\n",
              "      <th>1</th>\n",
              "      <td>2</td>\n",
              "      <td>Teri Gutierrez</td>\n",
              "      <td>800</td>\n",
              "      <td>Programming</td>\n",
              "      <td>Teri@someOtherSchool.edu</td>\n",
              "      <td>2017-08-16 15:34:50</td>\n",
              "      <td>2017-09-02 19:33:56</td>\n",
              "    </tr>\n",
              "    <tr>\n",
              "      <th>2</th>\n",
              "      <td>3</td>\n",
              "      <td>Spencer Pautier</td>\n",
              "      <td>1000</td>\n",
              "      <td>Programming</td>\n",
              "      <td>Spencer@someOtherSchool.edu</td>\n",
              "      <td>2017-08-16 15:34:50</td>\n",
              "      <td>2017-09-02 19:33:56</td>\n",
              "    </tr>\n",
              "    <tr>\n",
              "      <th>3</th>\n",
              "      <td>4</td>\n",
              "      <td>Louis Ramsey</td>\n",
              "      <td>1200</td>\n",
              "      <td>Programming</td>\n",
              "      <td>Louis@someOtherSchool.edu</td>\n",
              "      <td>2017-08-16 15:34:50</td>\n",
              "      <td>2017-09-02 19:33:56</td>\n",
              "    </tr>\n",
              "    <tr>\n",
              "      <th>4</th>\n",
              "      <td>5</td>\n",
              "      <td>Alvin Greene</td>\n",
              "      <td>1200</td>\n",
              "      <td>Programming</td>\n",
              "      <td>Alvin@someOtherSchool.edu</td>\n",
              "      <td>2017-08-16 15:34:50</td>\n",
              "      <td>2017-09-02 19:33:56</td>\n",
              "    </tr>\n",
              "    <tr>\n",
              "      <th>5</th>\n",
              "      <td>6</td>\n",
              "      <td>Sophie Freeman</td>\n",
              "      <td>1200</td>\n",
              "      <td>Programming</td>\n",
              "      <td>Sophie@someOtherSchool.edu</td>\n",
              "      <td>2017-08-16 15:34:50</td>\n",
              "      <td>2017-09-02 19:33:56</td>\n",
              "    </tr>\n",
              "    <tr>\n",
              "      <th>6</th>\n",
              "      <td>7</td>\n",
              "      <td>Edgar Frank \"Ted\"\" Codd\"</td>\n",
              "      <td>2400</td>\n",
              "      <td>Computer Science</td>\n",
              "      <td>Edgar@someOtherSchool.edu</td>\n",
              "      <td>2017-08-16 15:35:33</td>\n",
              "      <td>2017-09-02 19:33:56</td>\n",
              "    </tr>\n",
              "    <tr>\n",
              "      <th>7</th>\n",
              "      <td>8</td>\n",
              "      <td>Donald D. Chamberlin</td>\n",
              "      <td>2400</td>\n",
              "      <td>Computer Science</td>\n",
              "      <td>Donald@someOtherSchool.edu</td>\n",
              "      <td>2017-08-16 15:35:33</td>\n",
              "      <td>2017-09-02 19:33:56</td>\n",
              "    </tr>\n",
              "    <tr>\n",
              "      <th>8</th>\n",
              "      <td>9</td>\n",
              "      <td>Raymond F. Boyce</td>\n",
              "      <td>2400</td>\n",
              "      <td>Computer Science</td>\n",
              "      <td>Raymond@someOtherSchool.edu</td>\n",
              "      <td>2017-08-16 15:35:33</td>\n",
              "      <td>2017-09-02 19:33:56</td>\n",
              "    </tr>\n",
              "  </tbody>\n",
              "</table>\n",
              "</div>"
            ],
            "text/plain": [
              "   0                         1  ...                    5                    6\n",
              "0  1             Monique Davis  ...  2017-08-16 15:34:50  2017-09-02 19:33:56\n",
              "1  2            Teri Gutierrez  ...  2017-08-16 15:34:50  2017-09-02 19:33:56\n",
              "2  3           Spencer Pautier  ...  2017-08-16 15:34:50  2017-09-02 19:33:56\n",
              "3  4              Louis Ramsey  ...  2017-08-16 15:34:50  2017-09-02 19:33:56\n",
              "4  5              Alvin Greene  ...  2017-08-16 15:34:50  2017-09-02 19:33:56\n",
              "5  6            Sophie Freeman  ...  2017-08-16 15:34:50  2017-09-02 19:33:56\n",
              "6  7  Edgar Frank \"Ted\"\" Codd\"  ...  2017-08-16 15:35:33  2017-09-02 19:33:56\n",
              "7  8      Donald D. Chamberlin  ...  2017-08-16 15:35:33  2017-09-02 19:33:56\n",
              "8  9          Raymond F. Boyce  ...  2017-08-16 15:35:33  2017-09-02 19:33:56\n",
              "\n",
              "[9 rows x 7 columns]"
            ]
          },
          "metadata": {
            "tags": []
          }
        },
        {
          "output_type": "display_data",
          "data": {
            "text/html": [
              "<div>\n",
              "<style scoped>\n",
              "    .dataframe tbody tr th:only-of-type {\n",
              "        vertical-align: middle;\n",
              "    }\n",
              "\n",
              "    .dataframe tbody tr th {\n",
              "        vertical-align: top;\n",
              "    }\n",
              "\n",
              "    .dataframe thead th {\n",
              "        text-align: right;\n",
              "    }\n",
              "</style>\n",
              "<table border=\"1\" class=\"dataframe\">\n",
              "  <thead>\n",
              "    <tr style=\"text-align: right;\">\n",
              "      <th></th>\n",
              "      <th>studentID</th>\n",
              "      <th>FullName</th>\n",
              "      <th>sat_score</th>\n",
              "      <th>programOfStudy</th>\n",
              "      <th>schoolEmailAdr</th>\n",
              "      <th>rcd_Created</th>\n",
              "      <th>rcd_Updated</th>\n",
              "    </tr>\n",
              "  </thead>\n",
              "  <tbody>\n",
              "    <tr>\n",
              "      <th>0</th>\n",
              "      <td>1</td>\n",
              "      <td>Monique Davis</td>\n",
              "      <td>400</td>\n",
              "      <td>Literature</td>\n",
              "      <td>Monique@someOtherSchool.edu</td>\n",
              "      <td>2017-08-16 15:34:50</td>\n",
              "      <td>2017-09-02 19:33:56</td>\n",
              "    </tr>\n",
              "    <tr>\n",
              "      <th>1</th>\n",
              "      <td>2</td>\n",
              "      <td>Teri Gutierrez</td>\n",
              "      <td>800</td>\n",
              "      <td>Programming</td>\n",
              "      <td>Teri@someOtherSchool.edu</td>\n",
              "      <td>2017-08-16 15:34:50</td>\n",
              "      <td>2017-09-02 19:33:56</td>\n",
              "    </tr>\n",
              "    <tr>\n",
              "      <th>2</th>\n",
              "      <td>3</td>\n",
              "      <td>Spencer Pautier</td>\n",
              "      <td>1000</td>\n",
              "      <td>Programming</td>\n",
              "      <td>Spencer@someOtherSchool.edu</td>\n",
              "      <td>2017-08-16 15:34:50</td>\n",
              "      <td>2017-09-02 19:33:56</td>\n",
              "    </tr>\n",
              "    <tr>\n",
              "      <th>3</th>\n",
              "      <td>4</td>\n",
              "      <td>Louis Ramsey</td>\n",
              "      <td>1200</td>\n",
              "      <td>Programming</td>\n",
              "      <td>Louis@someOtherSchool.edu</td>\n",
              "      <td>2017-08-16 15:34:50</td>\n",
              "      <td>2017-09-02 19:33:56</td>\n",
              "    </tr>\n",
              "    <tr>\n",
              "      <th>4</th>\n",
              "      <td>5</td>\n",
              "      <td>Alvin Greene</td>\n",
              "      <td>1200</td>\n",
              "      <td>Programming</td>\n",
              "      <td>Alvin@someOtherSchool.edu</td>\n",
              "      <td>2017-08-16 15:34:50</td>\n",
              "      <td>2017-09-02 19:33:56</td>\n",
              "    </tr>\n",
              "    <tr>\n",
              "      <th>5</th>\n",
              "      <td>6</td>\n",
              "      <td>Sophie Freeman</td>\n",
              "      <td>1200</td>\n",
              "      <td>Programming</td>\n",
              "      <td>Sophie@someOtherSchool.edu</td>\n",
              "      <td>2017-08-16 15:34:50</td>\n",
              "      <td>2017-09-02 19:33:56</td>\n",
              "    </tr>\n",
              "    <tr>\n",
              "      <th>6</th>\n",
              "      <td>7</td>\n",
              "      <td>Edgar Frank \"Ted\"\" Codd\"</td>\n",
              "      <td>2400</td>\n",
              "      <td>Computer Science</td>\n",
              "      <td>Edgar@someOtherSchool.edu</td>\n",
              "      <td>2017-08-16 15:35:33</td>\n",
              "      <td>2017-09-02 19:33:56</td>\n",
              "    </tr>\n",
              "    <tr>\n",
              "      <th>7</th>\n",
              "      <td>8</td>\n",
              "      <td>Donald D. Chamberlin</td>\n",
              "      <td>2400</td>\n",
              "      <td>Computer Science</td>\n",
              "      <td>Donald@someOtherSchool.edu</td>\n",
              "      <td>2017-08-16 15:35:33</td>\n",
              "      <td>2017-09-02 19:33:56</td>\n",
              "    </tr>\n",
              "    <tr>\n",
              "      <th>8</th>\n",
              "      <td>9</td>\n",
              "      <td>Raymond F. Boyce</td>\n",
              "      <td>2400</td>\n",
              "      <td>Computer Science</td>\n",
              "      <td>Raymond@someOtherSchool.edu</td>\n",
              "      <td>2017-08-16 15:35:33</td>\n",
              "      <td>2017-09-02 19:33:56</td>\n",
              "    </tr>\n",
              "  </tbody>\n",
              "</table>\n",
              "</div>"
            ],
            "text/plain": [
              "   studentID  ...          rcd_Updated\n",
              "0          1  ...  2017-09-02 19:33:56\n",
              "1          2  ...  2017-09-02 19:33:56\n",
              "2          3  ...  2017-09-02 19:33:56\n",
              "3          4  ...  2017-09-02 19:33:56\n",
              "4          5  ...  2017-09-02 19:33:56\n",
              "5          6  ...  2017-09-02 19:33:56\n",
              "6          7  ...  2017-09-02 19:33:56\n",
              "7          8  ...  2017-09-02 19:33:56\n",
              "8          9  ...  2017-09-02 19:33:56\n",
              "\n",
              "[9 rows x 7 columns]"
            ]
          },
          "metadata": {
            "tags": []
          }
        }
      ]
    },
    {
      "cell_type": "markdown",
      "metadata": {
        "id": "cnE_vGr32l4P",
        "colab_type": "text"
      },
      "source": [
        "## Doplňkové studijní zdroje\n",
        "\n",
        "https://www.w3schools.com/sql/\n",
        "\n"
      ]
    },
    {
      "cell_type": "markdown",
      "metadata": {
        "id": "A_xDQNd234Yk",
        "colab_type": "text"
      },
      "source": [
        "## Relační algebra\n",
        "\n",
        "Operátory \n",
        "- Sjednocení, \n",
        "- Průnik, \n",
        "- Rozdíl (podobnost s operacemi nad množinami není náhodná)\n",
        "---\n",
        "- Selekce,\n",
        "- Kartézký součin,\n",
        "- Přejmenování,\n"
      ]
    },
    {
      "cell_type": "code",
      "metadata": {
        "id": "XOHOOCg2Xein",
        "colab_type": "code",
        "colab": {}
      },
      "source": [
        ""
      ],
      "execution_count": 0,
      "outputs": []
    },
    {
      "cell_type": "markdown",
      "metadata": {
        "id": "rQIgrN141zD6",
        "colab_type": "text"
      },
      "source": [
        " ## MySQL\n",
        "\n",
        " V prostředí MySQL (viz první stack) s pomocí phpMyAdmin spusťte následující SQL příkaz převzato [odtud](https://github.com/SteveChevalier/Distilling-Data/blob/master/schema_data_01_Student%20Schema%20and%20Data.sql)\n",
        "```sql\n",
        "-- ---------------------------------------------------\n",
        "-- Part I - Create and Load Student Schema\n",
        "-- ---------------------------------------------------\n",
        "-- Create Schema (database) and set as default\n",
        "CREATE DATABASE IF NOT EXISTS `student_examples`;\n",
        "USE `student_examples`;\n",
        "\n",
        "-- create student and student contact tables\n",
        "DROP TABLE IF EXISTS `student`; \n",
        "CREATE TABLE `student` (\n",
        "  `studentID` int(11) NOT NULL AUTO_INCREMENT,\n",
        "  `FullName` text,\n",
        "  `sat_score` int(11) DEFAULT NULL,\n",
        "  `programOfStudy` text,\n",
        "  `schoolEmailAdr` text,\n",
        "  `rcd_Created` datetime DEFAULT CURRENT_TIMESTAMP,\n",
        "  `rcd_Updated` timestamp NOT NULL DEFAULT CURRENT_TIMESTAMP ON UPDATE CURRENT_TIMESTAMP,\n",
        "  PRIMARY KEY (`studentID`));\n",
        "  \n",
        "DROP TABLE IF EXISTS `student-contact-info`;\n",
        "CREATE TABLE `student-contact-info` (\n",
        "  `studentID` int(11) DEFAULT NULL,\n",
        "  `studentEmailAddr` text,\n",
        "  `student-phone-cell` text,\n",
        "  `student-US-zipcode` int(11) DEFAULT NULL);\n",
        "\n",
        "-- Load data\n",
        "INSERT INTO `student` \n",
        "\tVALUES (1,'Monique Davis',400,'Literature','Monique@someOtherSchool.edu','2017-08-16 15:34:50','2017-09-02 19:33:56'),\n",
        "\t\t(2,'Teri Gutierrez',800,'Programming','Teri@someOtherSchool.edu','2017-08-16 15:34:50','2017-09-02 19:33:56'),\n",
        "        (3,'Spencer Pautier',1000,'Programming','Spencer@someOtherSchool.edu','2017-08-16 15:34:50','2017-09-02 19:33:56'),\n",
        "        (4,'Louis Ramsey',1200,'Programming','Louis@someOtherSchool.edu','2017-08-16 15:34:50','2017-09-02 19:33:56'),\n",
        "        (5,'Alvin Greene',1200,'Programming','Alvin@someOtherSchool.edu','2017-08-16 15:34:50','2017-09-02 19:33:56'),\n",
        "        (6,'Sophie Freeman',1200,'Programming','Sophie@someOtherSchool.edu','2017-08-16 15:34:50','2017-09-02 19:33:56'),\n",
        "        (7,'Edgar Frank \\\"Ted\\\"\\\" Codd\\\"',2400,'Computer Science','Edgar@someOtherSchool.edu','2017-08-16 15:35:33','2017-09-02 19:33:56'),\n",
        "        (8,'Donald D. Chamberlin',2400,'Computer Science','Donald@someOtherSchool.edu','2017-08-16 15:35:33','2017-09-02 19:33:56'),\n",
        "        (9,'Raymond F. Boyce',2400,'Computer Science','Raymond@someOtherSchool.edu','2017-08-16 15:35:33','2017-09-02 19:33:56');\n",
        "\n",
        "INSERT INTO `student-contact-info` \n",
        "\tVALUES (1,'Monique.Davis@freeCodeCamp.org','555-555-5551',97111),\n",
        "    (2,'Teri.Gutierrez@freeCodeCamp.org','555-555-5552',97112),\n",
        "    (3,'Spencer.Pautier@freeCodeCamp.org','555-555-5553',97113),\n",
        "    (4,'Louis.Ramsey@freeCodeCamp.org','555-555-5554',0),\n",
        "    (5,'Alvin.Green@freeCodeCamp.org','555-555-5555',97115),\n",
        "    (6,'Sophie.Freeman@freeCodeCamp.org','555-555-5556',97116),\n",
        "    (7,'Maximo.Smith@freeCodeCamp.org','555-555-5557',97117),\n",
        "    (8,'Michael.Roach@freeCodeCamp.ort','555-555-5558',97118);\n",
        "\n",
        "\n",
        "-- end Part I schema create and data import\n",
        "```"
      ]
    },
    {
      "cell_type": "code",
      "metadata": {
        "id": "_FyStCMwLdmM",
        "colab_type": "code",
        "colab": {}
      },
      "source": [
        ""
      ],
      "execution_count": 0,
      "outputs": []
    }
  ]
}