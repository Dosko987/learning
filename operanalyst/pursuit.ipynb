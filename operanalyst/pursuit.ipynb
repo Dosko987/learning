{
  "nbformat": 4,
  "nbformat_minor": 0,
  "metadata": {
    "colab": {
      "name": "pursuit.ipynb",
      "provenance": [],
      "toc_visible": true,
      "authorship_tag": "ABX9TyMTOdrAaDthm+jkQ1HNuXZw",
      "include_colab_link": true
    },
    "kernelspec": {
      "name": "python3",
      "display_name": "Python 3"
    }
  },
  "cells": [
    {
      "cell_type": "markdown",
      "metadata": {
        "id": "view-in-github",
        "colab_type": "text"
      },
      "source": [
        "<a href=\"https://colab.research.google.com/github/hrbolek/learning/blob/master/operanalyst/pursuit.ipynb\" target=\"_parent\"><img src=\"https://colab.research.google.com/assets/colab-badge.svg\" alt=\"Open In Colab\"/></a>"
      ]
    },
    {
      "cell_type": "markdown",
      "metadata": {
        "id": "0HSfyRMBYgXA"
      },
      "source": [
        "# Teorie pronásledování"
      ]
    },
    {
      "cell_type": "markdown",
      "metadata": {
        "id": "8rWXtUF0HLmt"
      },
      "source": [
        "Teorie pronásledování popisuje situaci, kdy jeden objekt uniká druhému. Schopnost uniknout či schopnost dostihnout jsou závislé na mnoha atributech. V prvotním úsudku je jasné, že rozhodující bude vzájemná rychlost. Jestliže unikající bude mít vyšší rychlost a prostředí je homogenní, tedy neovlivňuje rychlost, stíhající unikajícího nikdy nedostihne. Naopak ve stejném prostředí, pokud rychlost unikajícího je menší než stíhajícího, stíhající unikajícího dostihne. A nic na tom nezmění ani Ezopova bajka Zajíc a želva [zde](https://cs.wikisource.org/wiki/Bajky_Lafont%C3%A9novy/Zaj%C3%ADc_a_%C5%BEelva) ani starořecký paradox Achiles a želva [zde](https://cs.wikipedia.org/wiki/Achilles_a_%C5%BEelva), prapůvod integrálního počtu.\n",
        "\n",
        "Bude-li prostředí heterogenní, je situace daleko složitější. V heterogenním prostředí existují překážky, s jejichž pomocí může unikající efektivně provádět manévr a prodlužovat čas střetu i za předpokladu, že jeho rychlost je menší, než rychlost stíhajícího.\n",
        "\n",
        "Nezanedbatelným aspektem jsou energetické nároky a schopnosti manévru. Oba tyto atributy mohou přispět ke vzniku situací, kdy unikající s menší rychlostí není nikdy dostižen.\n",
        "\n",
        "Pro zkoumání tohoto konfliktu lze použít mnohé metody operační analýzy. Teorie her a dynamické programování jsou dvě z nich. \n",
        "\n",
        "V tomto textu provedeme několik simulačních experimentů, které dají přehled o základních scénařích."
      ]
    },
    {
      "cell_type": "markdown",
      "metadata": {
        "id": "jmic6EHBYksL"
      },
      "source": [
        "## Nevyhnutelné importy"
      ]
    },
    {
      "cell_type": "code",
      "metadata": {
        "id": "x4TCogtp_PVB"
      },
      "source": [
        "import numpy as np\n",
        "import pandas as pd\n",
        "import matplotlib.pyplot as plt \n",
        "\n",
        "#smallImages = False\n",
        "smallImages = True\n",
        "if smallImages:\n",
        "  plt.rcParams[\"font.size\"] = \"10\"\n",
        "  plt.rcParams[\"figure.figsize\"] = (15, 10)\n",
        "else:\n",
        "  plt.rcParams[\"font.size\"] = \"18\"\n",
        "  plt.rcParams[\"figure.figsize\"] = (25, 24)"
      ],
      "execution_count": null,
      "outputs": []
    },
    {
      "cell_type": "markdown",
      "metadata": {
        "id": "hPnSghVgYn_0"
      },
      "source": [
        "## Zobrazení datových výstupů"
      ]
    },
    {
      "cell_type": "code",
      "metadata": {
        "id": "YMqfvVYsCGCL",
        "outputId": "33b97ce0-78ff-4e9c-901e-23ff1d1dfe86",
        "colab": {
          "base_uri": "https://localhost:8080/",
          "height": 921
        }
      },
      "source": [
        "def displayData(data):\n",
        "  display(pd.DataFrame(data))\n",
        "\n",
        "def plotData(data, x = 0, y = 1, ax = None):\n",
        "  df = pd.DataFrame(data)\n",
        "  newax = None\n",
        "  if ax is None:\n",
        "    newax = df.plot.line(x = x, y = y)\n",
        "  else:\n",
        "    newax = df.plot.line(x = x, y = y, ax = ax)\n",
        "  return newax\n",
        "\n",
        "#=================#\n",
        "# example of use  #\n",
        "#=================#\n",
        "#data = [(0, 0), (1, 1), (2, 4), (3, 9), (4, 16), (5, 25), (6, 36), (7, 49)]\n",
        "data = [\n",
        "  {'x': 0, 'y': 0}, {'x': 1, 'y': 1}, {'x': 2, 'y': 4},\n",
        "  {'x': 3, 'y': 9}, {'x': 4, 'y': 16}, {'x': 5, 'y': 25},\n",
        "  {'x': 6, 'y': 36}, {'x': 7, 'y': 49}, {'x': 8, 'y': 64},\n",
        "]\n",
        "plotData(data)\n",
        "plt.grid(which='both')\n",
        "displayData(data)"
      ],
      "execution_count": null,
      "outputs": [
        {
          "output_type": "display_data",
          "data": {
            "text/html": [
              "<div>\n",
              "<style scoped>\n",
              "    .dataframe tbody tr th:only-of-type {\n",
              "        vertical-align: middle;\n",
              "    }\n",
              "\n",
              "    .dataframe tbody tr th {\n",
              "        vertical-align: top;\n",
              "    }\n",
              "\n",
              "    .dataframe thead th {\n",
              "        text-align: right;\n",
              "    }\n",
              "</style>\n",
              "<table border=\"1\" class=\"dataframe\">\n",
              "  <thead>\n",
              "    <tr style=\"text-align: right;\">\n",
              "      <th></th>\n",
              "      <th>x</th>\n",
              "      <th>y</th>\n",
              "    </tr>\n",
              "  </thead>\n",
              "  <tbody>\n",
              "    <tr>\n",
              "      <th>0</th>\n",
              "      <td>0</td>\n",
              "      <td>0</td>\n",
              "    </tr>\n",
              "    <tr>\n",
              "      <th>1</th>\n",
              "      <td>1</td>\n",
              "      <td>1</td>\n",
              "    </tr>\n",
              "    <tr>\n",
              "      <th>2</th>\n",
              "      <td>2</td>\n",
              "      <td>4</td>\n",
              "    </tr>\n",
              "    <tr>\n",
              "      <th>3</th>\n",
              "      <td>3</td>\n",
              "      <td>9</td>\n",
              "    </tr>\n",
              "    <tr>\n",
              "      <th>4</th>\n",
              "      <td>4</td>\n",
              "      <td>16</td>\n",
              "    </tr>\n",
              "    <tr>\n",
              "      <th>5</th>\n",
              "      <td>5</td>\n",
              "      <td>25</td>\n",
              "    </tr>\n",
              "    <tr>\n",
              "      <th>6</th>\n",
              "      <td>6</td>\n",
              "      <td>36</td>\n",
              "    </tr>\n",
              "    <tr>\n",
              "      <th>7</th>\n",
              "      <td>7</td>\n",
              "      <td>49</td>\n",
              "    </tr>\n",
              "    <tr>\n",
              "      <th>8</th>\n",
              "      <td>8</td>\n",
              "      <td>64</td>\n",
              "    </tr>\n",
              "  </tbody>\n",
              "</table>\n",
              "</div>"
            ],
            "text/plain": [
              "   x   y\n",
              "0  0   0\n",
              "1  1   1\n",
              "2  2   4\n",
              "3  3   9\n",
              "4  4  16\n",
              "5  5  25\n",
              "6  6  36\n",
              "7  7  49\n",
              "8  8  64"
            ]
          },
          "metadata": {
            "tags": []
          }
        },
        {
          "output_type": "display_data",
          "data": {
            "image/png": "[encoded data removed]",
            "text/plain": [
              "<Figure size 1080x720 with 1 Axes>"
            ]
          },
          "metadata": {
            "tags": [],
            "needs_background": "light"
          }
        }
      ]
    },
    {
      "cell_type": "markdown",
      "metadata": {
        "id": "AcrHM4uGYsWc"
      },
      "source": [
        "## Pomocné funkce"
      ]
    },
    {
      "cell_type": "code",
      "metadata": {
        "id": "9PaWmWMuClQE"
      },
      "source": [
        "def Vector(*args):\n",
        "  return np.array(args)"
      ],
      "execution_count": null,
      "outputs": []
    },
    {
      "cell_type": "code",
      "metadata": {
        "id": "tJBeR3_9E4II"
      },
      "source": [
        "def multimap(generator, **maps):\n",
        "  for item in generator:\n",
        "    result = {}\n",
        "    for key, func in maps.items():\n",
        "      result[key] = func(item)\n",
        "    yield result"
      ],
      "execution_count": null,
      "outputs": []
    },
    {
      "cell_type": "code",
      "metadata": {
        "id": "53PozLDNBM4h"
      },
      "source": [
        "def take(generator, count = 100):\n",
        "  for index, item in enumerate(generator):\n",
        "    if index == count: \n",
        "      break\n",
        "    yield item"
      ],
      "execution_count": null,
      "outputs": []
    },
    {
      "cell_type": "code",
      "metadata": {
        "id": "z-TKMXqnBjOe"
      },
      "source": [
        "def select(generator, name):\n",
        "  for item in generator:\n",
        "    yield item[name]"
      ],
      "execution_count": null,
      "outputs": []
    },
    {
      "cell_type": "code",
      "metadata": {
        "id": "Y52TdL_hLcyg"
      },
      "source": [
        "def untilPlusOne(generator, f):\n",
        "  for item in generator:\n",
        "    yield item\n",
        "    if f(item):\n",
        "      break"
      ],
      "execution_count": null,
      "outputs": []
    },
    {
      "cell_type": "markdown",
      "metadata": {
        "id": "HFoya4K5YznX"
      },
      "source": [
        "## Pronásledovaný"
      ]
    },
    {
      "cell_type": "code",
      "metadata": {
        "id": "fD4ZrfQT_Pc7"
      },
      "source": [
        "def createRunner(position, velocity, t0 = 0, dt = 1):\n",
        "  def runner():\n",
        "    currentTime = t0\n",
        "    currentPosition = position\n",
        "    while True:\n",
        "      yield {'t': currentTime, 'rpos': currentPosition}\n",
        "      currentPosition = currentPosition + dt * velocity\n",
        "      currentTime = currentTime + dt\n",
        "  return runner"
      ],
      "execution_count": null,
      "outputs": []
    },
    {
      "cell_type": "code",
      "metadata": {
        "id": "szx6L8eFAnUY",
        "outputId": "57ee7aeb-966b-427f-853f-400d21174948",
        "colab": {
          "base_uri": "https://localhost:8080/",
          "height": 606
        }
      },
      "source": [
        "myRunner = createRunner(Vector(100, 0), Vector(10, 10))\n",
        "results = take(select(myRunner(), 'rpos'), 100)\n",
        "plotData(results)\n",
        "plt.grid(which = 'both')  \n",
        "plt.gca().set_aspect('equal')"
      ],
      "execution_count": null,
      "outputs": [
        {
          "output_type": "display_data",
          "data": {
            "image/png": "[encoded data removed]",
            "text/plain": [
              "<Figure size 1080x720 with 1 Axes>"
            ]
          },
          "metadata": {
            "tags": [],
            "needs_background": "light"
          }
        }
      ]
    },
    {
      "cell_type": "markdown",
      "metadata": {
        "id": "CfsaJuaxY41b"
      },
      "source": [
        "## Pronásledující"
      ]
    },
    {
      "cell_type": "code",
      "metadata": {
        "id": "w_Zbai8eCci0"
      },
      "source": [
        "def createFollower(position, v0, t0 = 0, resultName = 'fpos'):\n",
        "  def follower(runner):\n",
        "    currentPosition = position\n",
        "    currentTime = t0\n",
        "    #currentVelocity = v0\n",
        "    for state in runner:\n",
        "      runnerPosition = state['rpos']\n",
        "      runnerTime = state['t']\n",
        "\n",
        "      deltaTime = runnerTime - currentTime\n",
        "      headToRunner = runnerPosition - currentPosition\n",
        "      headToRunnerAbs = np.linalg.norm(headToRunner)\n",
        "      \n",
        "      velocity = headToRunner / headToRunnerAbs * v0\n",
        "      currentPosition = currentPosition + deltaTime * velocity\n",
        "      yield {**state, resultName: currentPosition}\n",
        "\n",
        "      currentTime = runnerTime\n",
        "\n",
        "  return follower"
      ],
      "execution_count": null,
      "outputs": []
    },
    {
      "cell_type": "code",
      "metadata": {
        "id": "-BEzQsGJFb-c",
        "outputId": "0df4433b-c356-4fc3-b86c-bdebd61b35d3",
        "colab": {
          "base_uri": "https://localhost:8080/",
          "height": 970
        }
      },
      "source": [
        "myRunner = createRunner(Vector(100, 0), Vector(10, 10), dt = 0.1)\n",
        "myFollower = createFollower(Vector(0, 0), 20)\n",
        "\n",
        "maps = {\n",
        "    't': lambda item: item['t'],\n",
        "    'rx': lambda item: item['rpos'][0],\n",
        "    'ry': lambda item: item['rpos'][1],\n",
        "    'fx': lambda item: item['fpos'][0],\n",
        "    'fy': lambda item: item['fpos'][1]\n",
        "    }\n",
        "\n",
        "results = list(take(multimap(myFollower(myRunner()), **maps), 150))\n",
        "displayData(results)\n",
        "\n",
        "ax = plotData(results, 'rx', 'ry')\n",
        "ax = plotData(results, 'fx', 'fy', ax = ax)\n",
        "plt.grid(which = 'both')  \n",
        "plt.gca().set_aspect('equal')"
      ],
      "execution_count": null,
      "outputs": [
        {
          "output_type": "display_data",
          "data": {
            "text/html": [
              "<div>\n",
              "<style scoped>\n",
              "    .dataframe tbody tr th:only-of-type {\n",
              "        vertical-align: middle;\n",
              "    }\n",
              "\n",
              "    .dataframe tbody tr th {\n",
              "        vertical-align: top;\n",
              "    }\n",
              "\n",
              "    .dataframe thead th {\n",
              "        text-align: right;\n",
              "    }\n",
              "</style>\n",
              "<table border=\"1\" class=\"dataframe\">\n",
              "  <thead>\n",
              "    <tr style=\"text-align: right;\">\n",
              "      <th></th>\n",
              "      <th>t</th>\n",
              "      <th>rx</th>\n",
              "      <th>ry</th>\n",
              "      <th>fx</th>\n",
              "      <th>fy</th>\n",
              "    </tr>\n",
              "  </thead>\n",
              "  <tbody>\n",
              "    <tr>\n",
              "      <th>0</th>\n",
              "      <td>0.0</td>\n",
              "      <td>100.0</td>\n",
              "      <td>0.0</td>\n",
              "      <td>0.000000</td>\n",
              "      <td>0.000000</td>\n",
              "    </tr>\n",
              "    <tr>\n",
              "      <th>1</th>\n",
              "      <td>0.1</td>\n",
              "      <td>101.0</td>\n",
              "      <td>1.0</td>\n",
              "      <td>1.999902</td>\n",
              "      <td>0.019801</td>\n",
              "    </tr>\n",
              "    <tr>\n",
              "      <th>2</th>\n",
              "      <td>0.2</td>\n",
              "      <td>102.0</td>\n",
              "      <td>2.0</td>\n",
              "      <td>3.999510</td>\n",
              "      <td>0.059397</td>\n",
              "    </tr>\n",
              "    <tr>\n",
              "      <th>3</th>\n",
              "      <td>0.3</td>\n",
              "      <td>103.0</td>\n",
              "      <td>3.0</td>\n",
              "      <td>5.998628</td>\n",
              "      <td>0.118777</td>\n",
              "    </tr>\n",
              "    <tr>\n",
              "      <th>4</th>\n",
              "      <td>0.4</td>\n",
              "      <td>104.0</td>\n",
              "      <td>4.0</td>\n",
              "      <td>7.997062</td>\n",
              "      <td>0.197922</td>\n",
              "    </tr>\n",
              "    <tr>\n",
              "      <th>...</th>\n",
              "      <td>...</td>\n",
              "      <td>...</td>\n",
              "      <td>...</td>\n",
              "      <td>...</td>\n",
              "      <td>...</td>\n",
              "    </tr>\n",
              "    <tr>\n",
              "      <th>145</th>\n",
              "      <td>14.5</td>\n",
              "      <td>245.0</td>\n",
              "      <td>145.0</td>\n",
              "      <td>243.013106</td>\n",
              "      <td>143.014850</td>\n",
              "    </tr>\n",
              "    <tr>\n",
              "      <th>146</th>\n",
              "      <td>14.6</td>\n",
              "      <td>246.0</td>\n",
              "      <td>146.0</td>\n",
              "      <td>244.427733</td>\n",
              "      <td>144.428651</td>\n",
              "    </tr>\n",
              "    <tr>\n",
              "      <th>147</th>\n",
              "      <td>14.7</td>\n",
              "      <td>247.0</td>\n",
              "      <td>147.0</td>\n",
              "      <td>245.842199</td>\n",
              "      <td>145.842612</td>\n",
              "    </tr>\n",
              "    <tr>\n",
              "      <th>148</th>\n",
              "      <td>14.8</td>\n",
              "      <td>248.0</td>\n",
              "      <td>148.0</td>\n",
              "      <td>247.256548</td>\n",
              "      <td>147.256690</td>\n",
              "    </tr>\n",
              "    <tr>\n",
              "      <th>149</th>\n",
              "      <td>14.9</td>\n",
              "      <td>249.0</td>\n",
              "      <td>149.0</td>\n",
              "      <td>248.670819</td>\n",
              "      <td>148.670846</td>\n",
              "    </tr>\n",
              "  </tbody>\n",
              "</table>\n",
              "<p>150 rows × 5 columns</p>\n",
              "</div>"
            ],
            "text/plain": [
              "        t     rx     ry          fx          fy\n",
              "0     0.0  100.0    0.0    0.000000    0.000000\n",
              "1     0.1  101.0    1.0    1.999902    0.019801\n",
              "2     0.2  102.0    2.0    3.999510    0.059397\n",
              "3     0.3  103.0    3.0    5.998628    0.118777\n",
              "4     0.4  104.0    4.0    7.997062    0.197922\n",
              "..    ...    ...    ...         ...         ...\n",
              "145  14.5  245.0  145.0  243.013106  143.014850\n",
              "146  14.6  246.0  146.0  244.427733  144.428651\n",
              "147  14.7  247.0  147.0  245.842199  145.842612\n",
              "148  14.8  248.0  148.0  247.256548  147.256690\n",
              "149  14.9  249.0  149.0  248.670819  148.670846\n",
              "\n",
              "[150 rows x 5 columns]"
            ]
          },
          "metadata": {
            "tags": []
          }
        },
        {
          "output_type": "display_data",
          "data": {
            "image/png": "[encoded data removed]",
            "text/plain": [
              "<Figure size 1080x720 with 1 Axes>"
            ]
          },
          "metadata": {
            "tags": [],
            "needs_background": "light"
          }
        }
      ]
    },
    {
      "cell_type": "markdown",
      "metadata": {
        "id": "Ny32iJkKZGtc"
      },
      "source": [
        "## Rozhodčí (test střetu)"
      ]
    },
    {
      "cell_type": "code",
      "metadata": {
        "id": "fFzV0ibpKBE_"
      },
      "source": [
        "def createJudge(distanceLimit = 10, runnerName = 'rpos', followerName = 'fpos', jName = 'judgement'):\n",
        "  def judge(dataSequence):\n",
        "    for item in dataSequence:\n",
        "      distance = np.linalg.norm(item[runnerName] - item[followerName])\n",
        "      result = distance <= distanceLimit\n",
        "      yield {**item, jName: result}\n",
        "  return judge"
      ],
      "execution_count": null,
      "outputs": []
    },
    {
      "cell_type": "code",
      "metadata": {
        "id": "0mTkrMHcK0en",
        "outputId": "dcd4b3f6-1e39-40d7-9e92-e59f28b5b035",
        "colab": {
          "base_uri": "https://localhost:8080/",
          "height": 35
        }
      },
      "source": [
        "def experiment(runnerPos, runnerVelocity, followerPos, followerVelocity):\n",
        "  myRunner = createRunner(runnerPos, runnerVelocity, dt = 0.1)\n",
        "  myFollower = createFollower(followerPos, followerVelocity)\n",
        "  myJudge = createJudge(distanceLimit = 5)\n",
        "\n",
        "  results = untilPlusOne(myJudge(myFollower(myRunner())), lambda item: item['judgement'])\n",
        "  #results = myJudge(myFollower(myRunner()))\n",
        "  litem = {}\n",
        "  for item in results:\n",
        "    litem = item\n",
        "  return litem\n",
        "\n",
        "print(experiment(Vector(100, 0), Vector(10, 10), Vector(0, 0), 20))"
      ],
      "execution_count": null,
      "outputs": [
        {
          "output_type": "stream",
          "text": [
            "{'t': 14.199999999999966, 'rpos': array([242., 142.]), 'fpos': array([238.76777382, 138.77490287]), 'judgement': True}\n"
          ],
          "name": "stdout"
        }
      ]
    },
    {
      "cell_type": "markdown",
      "metadata": {
        "id": "LWCP66E3ZNdl"
      },
      "source": [
        "## Appoloniova křivka (jeden pronásledující)"
      ]
    },
    {
      "cell_type": "code",
      "metadata": {
        "id": "z7jAYl-fPBf5",
        "outputId": "6f35d393-df76-4573-e9f6-52861c03031d",
        "colab": {
          "base_uri": "https://localhost:8080/",
          "height": 606
        }
      },
      "source": [
        "from math import sin, cos, pi\n",
        "\n",
        "def multiExperiment(runnerPos, runnerVelocity, followerPos, followerVelocity):\n",
        "  count = 48\n",
        "  deltaAngle = 2 * pi / count\n",
        "  deltaAngle2 = deltaAngle / 2\n",
        "  for index in range(count):\n",
        "    currentAngle = index * deltaAngle + deltaAngle2\n",
        "    currentVelocity = Vector(runnerVelocity * cos(currentAngle), runnerVelocity * sin(currentAngle))\n",
        "    meetingPoint = experiment(runnerPos, currentVelocity, followerPos, followerVelocity)\n",
        "    yield meetingPoint\n",
        "\n",
        "\n",
        "results = list(multimap(multiExperiment(Vector(100, 0), 14.2, Vector(0, 0), 20), **maps))\n",
        "ax = plotData(results, 'rx', 'ry')\n",
        "plt.grid(which = 'both')  \n",
        "plt.gca().set_aspect('equal')"
      ],
      "execution_count": null,
      "outputs": [
        {
          "output_type": "display_data",
          "data": {
            "image/png": "[encoded data removed]",
            "text/plain": [
              "<Figure size 1080x720 with 1 Axes>"
            ]
          },
          "metadata": {
            "tags": [],
            "needs_background": "light"
          }
        }
      ]
    },
    {
      "cell_type": "markdown",
      "metadata": {
        "id": "EQp0vkcGhUWU"
      },
      "source": [
        "## Appoloniova křivka (dva pronásledující)"
      ]
    },
    {
      "cell_type": "code",
      "metadata": {
        "id": "AHxijezsaB4X",
        "outputId": "72dbb0b2-06a8-4be5-938a-a15afa648bbb",
        "colab": {
          "base_uri": "https://localhost:8080/",
          "height": 1000
        }
      },
      "source": [
        "maps = {\n",
        "    't': lambda item: item['t'],\n",
        "    'rx': lambda item: item['rpos'][0],\n",
        "    'ry': lambda item: item['rpos'][1],\n",
        "    'fxA': lambda item: item['fposA'][0],\n",
        "    'fyA': lambda item: item['fposA'][1],\n",
        "    'fxB': lambda item: item['fposB'][0],\n",
        "    'fyB': lambda item: item['fposB'][1],\n",
        "    }\n",
        "\n",
        "\n",
        "def experiment2(runnerPos, runnerVelocity, followerPosA, followerPosB, followerVelocity):\n",
        "  myRunner = createRunner(runnerPos, runnerVelocity, dt = 0.1)\n",
        "  myFollowerA = createFollower(followerPosA, followerVelocity, resultName='fposA')\n",
        "  myFollowerB = createFollower(followerPosB, followerVelocity, resultName='fposB')\n",
        "  myJudgeA = createJudge(distanceLimit = 5, jName = 'judgementA', followerName='fposA')\n",
        "  myJudgeB = createJudge(distanceLimit = 5, jName = 'judgementB', followerName='fposB')\n",
        "\n",
        "\n",
        "  followersWithRunner = myFollowerB(myFollowerA(myRunner()))\n",
        "  withJudges = myJudgeB(myJudgeA(followersWithRunner))\n",
        "\n",
        "  results = untilPlusOne(withJudges, lambda item: (item['judgementA'] != False) | (item['judgementB'] != False))\n",
        "  return results\n",
        "\n",
        "results = list(multimap(experiment2(Vector(100, 0), Vector(10, 10), Vector(0, 50), Vector(0, -50), 20), **maps))\n",
        "displayData(results)\n",
        "ax = plotData(results, 'rx', 'ry')\n",
        "ax = plotData(results, 'fxA', 'fyA', ax = ax)\n",
        "ax = plotData(results, 'fxB', 'fyB', ax = ax)\n",
        "plt.grid(which = 'both')  \n",
        "plt.gca().set_aspect('equal')"
      ],
      "execution_count": null,
      "outputs": [
        {
          "output_type": "display_data",
          "data": {
            "text/html": [
              "<div>\n",
              "<style scoped>\n",
              "    .dataframe tbody tr th:only-of-type {\n",
              "        vertical-align: middle;\n",
              "    }\n",
              "\n",
              "    .dataframe tbody tr th {\n",
              "        vertical-align: top;\n",
              "    }\n",
              "\n",
              "    .dataframe thead th {\n",
              "        text-align: right;\n",
              "    }\n",
              "</style>\n",
              "<table border=\"1\" class=\"dataframe\">\n",
              "  <thead>\n",
              "    <tr style=\"text-align: right;\">\n",
              "      <th></th>\n",
              "      <th>t</th>\n",
              "      <th>rx</th>\n",
              "      <th>ry</th>\n",
              "      <th>fxA</th>\n",
              "      <th>fyA</th>\n",
              "      <th>fxB</th>\n",
              "      <th>fyB</th>\n",
              "    </tr>\n",
              "  </thead>\n",
              "  <tbody>\n",
              "    <tr>\n",
              "      <th>0</th>\n",
              "      <td>0.0</td>\n",
              "      <td>100.0</td>\n",
              "      <td>0.0</td>\n",
              "      <td>0.000000</td>\n",
              "      <td>50.000000</td>\n",
              "      <td>0.000000</td>\n",
              "      <td>-50.000000</td>\n",
              "    </tr>\n",
              "    <tr>\n",
              "      <th>1</th>\n",
              "      <td>0.1</td>\n",
              "      <td>101.0</td>\n",
              "      <td>1.0</td>\n",
              "      <td>1.799416</td>\n",
              "      <td>49.127016</td>\n",
              "      <td>1.785305</td>\n",
              "      <td>-49.098509</td>\n",
              "    </tr>\n",
              "    <tr>\n",
              "      <th>2</th>\n",
              "      <td>0.2</td>\n",
              "      <td>102.0</td>\n",
              "      <td>2.0</td>\n",
              "      <td>3.609236</td>\n",
              "      <td>48.275809</td>\n",
              "      <td>3.567055</td>\n",
              "      <td>-48.190012</td>\n",
              "    </tr>\n",
              "    <tr>\n",
              "      <th>3</th>\n",
              "      <td>0.3</td>\n",
              "      <td>103.0</td>\n",
              "      <td>3.0</td>\n",
              "      <td>5.429291</td>\n",
              "      <td>47.446713</td>\n",
              "      <td>5.345245</td>\n",
              "      <td>-47.274566</td>\n",
              "    </tr>\n",
              "    <tr>\n",
              "      <th>4</th>\n",
              "      <td>0.4</td>\n",
              "      <td>104.0</td>\n",
              "      <td>4.0</td>\n",
              "      <td>7.259403</td>\n",
              "      <td>46.640060</td>\n",
              "      <td>7.119869</td>\n",
              "      <td>-46.352227</td>\n",
              "    </tr>\n",
              "    <tr>\n",
              "      <th>...</th>\n",
              "      <td>...</td>\n",
              "      <td>...</td>\n",
              "      <td>...</td>\n",
              "      <td>...</td>\n",
              "      <td>...</td>\n",
              "      <td>...</td>\n",
              "      <td>...</td>\n",
              "    </tr>\n",
              "    <tr>\n",
              "      <th>124</th>\n",
              "      <td>12.4</td>\n",
              "      <td>224.0</td>\n",
              "      <td>124.0</td>\n",
              "      <td>218.859275</td>\n",
              "      <td>118.931589</td>\n",
              "      <td>197.365398</td>\n",
              "      <td>98.645444</td>\n",
              "    </tr>\n",
              "    <tr>\n",
              "      <th>125</th>\n",
              "      <td>12.5</td>\n",
              "      <td>225.0</td>\n",
              "      <td>125.0</td>\n",
              "      <td>220.281840</td>\n",
              "      <td>120.337401</td>\n",
              "      <td>198.812735</td>\n",
              "      <td>100.025739</td>\n",
              "    </tr>\n",
              "    <tr>\n",
              "      <th>126</th>\n",
              "      <td>12.6</td>\n",
              "      <td>226.0</td>\n",
              "      <td>126.0</td>\n",
              "      <td>221.702941</td>\n",
              "      <td>121.744694</td>\n",
              "      <td>200.258840</td>\n",
              "      <td>101.407325</td>\n",
              "    </tr>\n",
              "    <tr>\n",
              "      <th>127</th>\n",
              "      <td>12.7</td>\n",
              "      <td>227.0</td>\n",
              "      <td>127.0</td>\n",
              "      <td>223.122739</td>\n",
              "      <td>123.153301</td>\n",
              "      <td>201.703741</td>\n",
              "      <td>102.790170</td>\n",
              "    </tr>\n",
              "    <tr>\n",
              "      <th>128</th>\n",
              "      <td>12.8</td>\n",
              "      <td>228.0</td>\n",
              "      <td>128.0</td>\n",
              "      <td>224.541390</td>\n",
              "      <td>124.563063</td>\n",
              "      <td>203.147464</td>\n",
              "      <td>104.174245</td>\n",
              "    </tr>\n",
              "  </tbody>\n",
              "</table>\n",
              "<p>129 rows × 7 columns</p>\n",
              "</div>"
            ],
            "text/plain": [
              "        t     rx     ry         fxA         fyA         fxB         fyB\n",
              "0     0.0  100.0    0.0    0.000000   50.000000    0.000000  -50.000000\n",
              "1     0.1  101.0    1.0    1.799416   49.127016    1.785305  -49.098509\n",
              "2     0.2  102.0    2.0    3.609236   48.275809    3.567055  -48.190012\n",
              "3     0.3  103.0    3.0    5.429291   47.446713    5.345245  -47.274566\n",
              "4     0.4  104.0    4.0    7.259403   46.640060    7.119869  -46.352227\n",
              "..    ...    ...    ...         ...         ...         ...         ...\n",
              "124  12.4  224.0  124.0  218.859275  118.931589  197.365398   98.645444\n",
              "125  12.5  225.0  125.0  220.281840  120.337401  198.812735  100.025739\n",
              "126  12.6  226.0  126.0  221.702941  121.744694  200.258840  101.407325\n",
              "127  12.7  227.0  127.0  223.122739  123.153301  201.703741  102.790170\n",
              "128  12.8  228.0  128.0  224.541390  124.563063  203.147464  104.174245\n",
              "\n",
              "[129 rows x 7 columns]"
            ]
          },
          "metadata": {
            "tags": []
          }
        },
        {
          "output_type": "display_data",
          "data": {
            "image/png": "[encoded data removed]",
            "text/plain": [
              "<Figure size 1080x720 with 1 Axes>"
            ]
          },
          "metadata": {
            "tags": [],
            "needs_background": "light"
          }
        }
      ]
    },
    {
      "cell_type": "code",
      "metadata": {
        "id": "UufpvfR2ebro",
        "outputId": "38a2cb95-e17c-4913-aab5-3c2bc5040169",
        "colab": {
          "base_uri": "https://localhost:8080/",
          "height": 35
        }
      },
      "source": [
        "def experiment2(runnerPos, runnerVelocity, followerPosA, followerPosB, followerVelocity):\n",
        "  myRunner = createRunner(runnerPos, runnerVelocity, dt = 0.1)\n",
        "  myFollowerA = createFollower(followerPosA, followerVelocity, resultName='fposA')\n",
        "  myFollowerB = createFollower(followerPosB, followerVelocity, resultName='fposB')\n",
        "  myJudgeA = createJudge(distanceLimit = 5, jName = 'judgementA', followerName='fposA')\n",
        "  myJudgeB = createJudge(distanceLimit = 5, jName = 'judgementB', followerName='fposB')\n",
        "\n",
        "\n",
        "  followersWithRunner = myFollowerB(myFollowerA(myRunner()))\n",
        "  withJudges = myJudgeB(myJudgeA(followersWithRunner))\n",
        "\n",
        "  results = untilPlusOne(withJudges, lambda item: (item['judgementA'] != False) | (item['judgementB'] != False))\n",
        "  #results = myJudge(myFollower(myRunner()))\n",
        "  litem = {}\n",
        "  for item in results:\n",
        "    litem = item\n",
        "  return litem\n",
        "\n",
        "print(experiment2(Vector(100, 0), Vector(10, 10), Vector(0, 50), Vector(0, -50), 20))\n"
      ],
      "execution_count": null,
      "outputs": [
        {
          "output_type": "stream",
          "text": [
            "{'t': 12.79999999999997, 'rpos': array([228., 128.]), 'fposA': array([224.54139022, 124.56306257]), 'fposB': array([203.14746415, 104.17424522]), 'judgementA': True, 'judgementB': False}\n"
          ],
          "name": "stdout"
        }
      ]
    },
    {
      "cell_type": "code",
      "metadata": {
        "id": "nR2HnLVUc1mN",
        "outputId": "689a7a3e-900d-4615-cf78-5244e21a6bbc",
        "colab": {
          "base_uri": "https://localhost:8080/",
          "height": 606
        }
      },
      "source": [
        "def multiExperiment2(runnerPos, runnerVelocity, followerPosA, followerPosB, followerVelocity):\n",
        "  count = 48\n",
        "  deltaAngle = 2 * pi / count\n",
        "  deltaAngle2 = deltaAngle / 2\n",
        "  for index in range(count):\n",
        "    currentAngle = index * deltaAngle + deltaAngle2\n",
        "    currentVelocity = Vector(runnerVelocity * cos(currentAngle), runnerVelocity * sin(currentAngle))\n",
        "    meetingPoint = experiment2(runnerPos, currentVelocity, followerPosA, followerPosB, followerVelocity)\n",
        "    yield meetingPoint\n",
        "\n",
        "\n",
        "results = list(multimap(multiExperiment2(Vector(100, 0), 14.2, Vector(0, 75), Vector(0, -75), 20), **maps))\n",
        "ax = plotData(results, 'rx', 'ry')\n",
        "plt.grid(which = 'both')  \n",
        "plt.gca().set_aspect('equal')"
      ],
      "execution_count": null,
      "outputs": [
        {
          "output_type": "display_data",
          "data": {
            "image/png": "[encoded data removed]",
            "text/plain": [
              "<Figure size 1080x720 with 1 Axes>"
            ]
          },
          "metadata": {
            "tags": [],
            "needs_background": "light"
          }
        }
      ]
    }
  ]
}