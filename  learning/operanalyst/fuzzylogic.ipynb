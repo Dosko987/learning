{
  "nbformat": 4,
  "nbformat_minor": 0,
  "metadata": {
    "colab": {
      "name": "FuzzyLogic.ipynb",
      "provenance": [],
      "authorship_tag": "ABX9TyNenW+lykL/GloUsYdN4Ofy",
      "include_colab_link": true
    },
    "kernelspec": {
      "name": "python3",
      "display_name": "Python 3"
    },
    "language_info": {
      "name": "python"
    }
  },
  "cells": [
    {
      "cell_type": "markdown",
      "metadata": {
        "id": "view-in-github",
        "colab_type": "text"
      },
      "source": [
        "<a href=\"https://colab.research.google.com/github/hrbolek/learning/blob/master/%20learning/operanalyst/fuzzylogic.ipynb\" target=\"_parent\"><img src=\"https://colab.research.google.com/assets/colab-badge.svg\" alt=\"Open In Colab\"/></a>"
      ]
    },
    {
      "cell_type": "markdown",
      "metadata": {
        "id": "u94MT4BsoDrs"
      },
      "source": [
        "Fuzzy logické systémy"
      ]
    },
    {
      "cell_type": "markdown",
      "metadata": {
        "id": "iSV4v3-GoIMV"
      },
      "source": [
        "## Booleova algebra"
      ]
    },
    {
      "cell_type": "markdown",
      "metadata": {
        "id": "u0zo4esKpFA4"
      },
      "source": [
        "Booleova algebra předpokládá, že každý výrok je buď pravdivý nebo nepravdivý.\n",
        "Číslo X je buď rovno 0 nebo není. Žádné \"mezihodnoty\" neexistují."
      ]
    },
    {
      "cell_type": "markdown",
      "metadata": {
        "id": "X9FbRYBzoMik"
      },
      "source": [
        "Pravdivostní tabulka pro operátor AND\n",
        "\n",
        "| X | Y | X & Y|\n",
        "|:-:|:-:|:----:|\n",
        "| 0 | 0 |   0  |\n",
        "| 0 | 1 |   0  |\n",
        "| 1 | 0 |   0  |\n",
        "| 1 | 1 |   1  |\n",
        "\n",
        "Pravdivostní tabulka pro operátor OR\n",
        "\n",
        "| X | Y | X \\| Y|\n",
        "|:-:|:-:|:----:|\n",
        "| 0 | 0 |   0  |\n",
        "| 0 | 1 |   1  |\n",
        "| 1 | 0 |   1  |\n",
        "| 1 | 1 |   1  |\n"
      ]
    },
    {
      "cell_type": "code",
      "metadata": {
        "id": "4SdljFgidCQB"
      },
      "source": [
        ""
      ],
      "execution_count": null,
      "outputs": []
    }
  ]
}