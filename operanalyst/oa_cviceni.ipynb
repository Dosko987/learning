{
  "nbformat": 4,
  "nbformat_minor": 0,
  "metadata": {
    "colab": {
      "name": "OAcviceni.ipynb",
      "provenance": [],
      "authorship_tag": "ABX9TyOshuVqDWG5XQCB7zoH8Ac7",
      "include_colab_link": true
    },
    "kernelspec": {
      "name": "python3",
      "display_name": "Python 3"
    },
    "language_info": {
      "name": "python"
    }
  },
  "cells": [
    {
      "cell_type": "markdown",
      "metadata": {
        "id": "view-in-github",
        "colab_type": "text"
      },
      "source": [
        "<a href=\"https://colab.research.google.com/github/hrbolek/learning/blob/master/operanalyst/oa_cviceni.ipynb\" target=\"_parent\"><img src=\"https://colab.research.google.com/assets/colab-badge.svg\" alt=\"Open In Colab\"/></a>"
      ]
    },
    {
      "cell_type": "markdown",
      "metadata": {
        "id": "Vz-4d9PfKfJV"
      },
      "source": [
        "# Příprava pro výpočty"
      ]
    },
    {
      "cell_type": "code",
      "metadata": {
        "id": "ENJmSdSjKd7z"
      },
      "source": [
        "!pip install pulp"
      ],
      "execution_count": null,
      "outputs": []
    },
    {
      "cell_type": "markdown",
      "metadata": {
        "id": "eMh6gTuzLKN0"
      },
      "source": [
        "## Rychlý návod"
      ]
    },
    {
      "cell_type": "markdown",
      "metadata": {
        "id": "KbDJR-81LPEK"
      },
      "source": [
        ""
      ]
    },
    {
      "cell_type": "code",
      "metadata": {
        "id": "49XHzJwELPir"
      },
      "source": [
        ""
      ],
      "execution_count": null,
      "outputs": []
    },
    {
      "cell_type": "markdown",
      "metadata": {
        "id": "XQmfH_0gKPvI"
      },
      "source": [
        "# Úloha A"
      ]
    },
    {
      "cell_type": "markdown",
      "metadata": {
        "id": "XQTfdsWULCcs"
      },
      "source": [
        "## Zadání"
      ]
    },
    {
      "cell_type": "markdown",
      "metadata": {
        "id": "TD534AMFLBlz"
      },
      "source": [
        "Společnost vyrábí 3 druhy balených čajů (A, B a C), každý se skládá ze tří\n",
        "surovin (čaje S1, S2 a S3). Formulujte úlohu jako úlohu lineárního\n",
        "programování a určete, kolik kusů čaje A, B a C se má vyrobit, abychom\n",
        "maximalizovali zisk z prodeje s respektem na skladové zásoby surovin S1, S2 a\n",
        "S3. Určete zisk z prodeje.\n",
        "\n",
        "|      | S1       | S2       | S3       | Cena      |\n",
        "|:----:|:--------:|:--------:|:--------:|:---------:|\n",
        "|Čaj A | 10 g/kus | 20 g/kus | 10 g/kus | 4 Kč/kus  |\n",
        "|Čaj B | 10 g/kus | 10 g/kus | 30 g/kus | 7 Kč/kus  |\n",
        "|Čaj C | 20 g/kus | 20 g/kus | 20 g/kus | 8 Kč/kus  |\n",
        "|Sklad | 40 kg    | 50 kg    | 60 kg    |           |"
      ]
    },
    {
      "cell_type": "code",
      "metadata": {
        "id": "7e-locKYJ2qb"
      },
      "source": [
        ""
      ],
      "execution_count": null,
      "outputs": []
    },
    {
      "cell_type": "markdown",
      "metadata": {
        "id": "g_-s88VFLXva"
      },
      "source": [
        "# Úloha B"
      ]
    },
    {
      "cell_type": "markdown",
      "metadata": {
        "id": "vyd0ier8LaEn"
      },
      "source": [
        "## Zadání"
      ]
    },
    {
      "cell_type": "markdown",
      "metadata": {
        "id": "AYOZIRqgLbl5"
      },
      "source": [
        ""
      ]
    }
  ]
}