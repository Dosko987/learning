{
  "nbformat": 4,
  "nbformat_minor": 0,
  "metadata": {
    "colab": {
      "name": "python_cviceni_01.ipynb",
      "provenance": [],
      "toc_visible": true,
      "authorship_tag": "ABX9TyPlgjFp813zDJzKSYFRZeQC",
      "include_colab_link": true
    },
    "kernelspec": {
      "name": "python3",
      "display_name": "Python 3"
    },
    "language_info": {
      "name": "python"
    }
  },
  "cells": [
    {
      "cell_type": "markdown",
      "metadata": {
        "id": "view-in-github",
        "colab_type": "text"
      },
      "source": [
        "<a href=\"https://colab.research.google.com/github/hrbolek/learning/blob/master/ais/python_cviceni_01.ipynb\" target=\"_parent\"><img src=\"https://colab.research.google.com/assets/colab-badge.svg\" alt=\"Open In Colab\"/></a>"
      ]
    },
    {
      "cell_type": "markdown",
      "metadata": {
        "id": "X9xQYLNKfJmf"
      },
      "source": [
        "## Příklad "
      ]
    },
    {
      "cell_type": "markdown",
      "metadata": {
        "id": "Jo3wshCvfrwu"
      },
      "source": [
        "### Zadání"
      ]
    },
    {
      "cell_type": "markdown",
      "metadata": {
        "id": "n59G0CLCfMoC"
      },
      "source": [
        "Zjistěte, zda hodnota `value` je sudá"
      ]
    },
    {
      "cell_type": "code",
      "metadata": {
        "id": "LMOwbJtbfNQQ"
      },
      "source": [
        "value = 2\n",
        "\n",
        "# neco"
      ],
      "execution_count": null,
      "outputs": []
    },
    {
      "cell_type": "markdown",
      "metadata": {
        "id": "cxznsmn5fpu9"
      },
      "source": [
        "### Řešení"
      ]
    },
    {
      "cell_type": "code",
      "metadata": {
        "cellView": "form",
        "colab": {
          "base_uri": "https://localhost:8080/"
        },
        "id": "JZnnEkOjf2hH",
        "outputId": "7ae93de5-637f-46de-e484-fe413159c3db"
      },
      "source": [
        "#@title\n",
        "value = 2\n",
        "\n",
        "value % 2 == 0"
      ],
      "execution_count": 1,
      "outputs": [
        {
          "output_type": "execute_result",
          "data": {
            "text/plain": [
              "False"
            ]
          },
          "metadata": {},
          "execution_count": 1
        }
      ]
    },
    {
      "cell_type": "markdown",
      "metadata": {
        "id": "Xqxs74pxfcZ6"
      },
      "source": [
        "## Příklad"
      ]
    },
    {
      "cell_type": "markdown",
      "metadata": {
        "id": "xguqI4t2fdAi"
      },
      "source": [
        "### Zadání"
      ]
    },
    {
      "cell_type": "markdown",
      "metadata": {
        "id": "1BMlpZppgQ7_"
      },
      "source": [
        "Zjistěte, zda text obsahuje středník"
      ]
    },
    {
      "cell_type": "code",
      "metadata": {
        "id": "hcsonK28fdOS"
      },
      "source": [
        "aStr = 'banana;apple'\n",
        "\n",
        "# neco"
      ],
      "execution_count": 3,
      "outputs": []
    },
    {
      "cell_type": "markdown",
      "metadata": {
        "id": "zYE4E7r5ghtQ"
      },
      "source": [
        "### Řešení"
      ]
    },
    {
      "cell_type": "code",
      "metadata": {
        "cellView": "form",
        "colab": {
          "base_uri": "https://localhost:8080/"
        },
        "id": "JpinNkmugjm4",
        "outputId": "0185cec6-9abf-4e89-a680-954389c1eea2"
      },
      "source": [
        "#@title\n",
        "aStr = 'banana;apple'\n",
        "\n",
        "';' in aStr"
      ],
      "execution_count": 2,
      "outputs": [
        {
          "output_type": "execute_result",
          "data": {
            "text/plain": [
              "True"
            ]
          },
          "metadata": {},
          "execution_count": 2
        }
      ]
    },
    {
      "cell_type": "markdown",
      "metadata": {
        "id": "bvT5_vHegz_o"
      },
      "source": [
        "## Příklad"
      ]
    },
    {
      "cell_type": "markdown",
      "metadata": {
        "id": "ncXgVC0zg38B"
      },
      "source": [
        "### Zadání"
      ]
    },
    {
      "cell_type": "markdown",
      "metadata": {
        "id": "0mNbJJH4g1um"
      },
      "source": [
        "Do seznamu vložte další prvek"
      ]
    },
    {
      "cell_type": "code",
      "metadata": {
        "id": "XQuO5awLgnP3"
      },
      "source": [
        "data = ['banana', 'orange', 'apple']\n",
        "\n",
        "# neco\n",
        "# neco"
      ],
      "execution_count": null,
      "outputs": []
    },
    {
      "cell_type": "markdown",
      "metadata": {
        "id": "aQmH32E2iCta"
      },
      "source": [
        "### Řešení"
      ]
    },
    {
      "cell_type": "code",
      "metadata": {
        "cellView": "form",
        "colab": {
          "base_uri": "https://localhost:8080/"
        },
        "id": "VKFSG9rliEyE",
        "outputId": "0174cb2e-e2c3-47a9-da86-df3c97c960f8"
      },
      "source": [
        "#@title\n",
        "data = ['banana', 'orange', 'apple']\n",
        "\n",
        "data.append('ananas')\n",
        "print(data)"
      ],
      "execution_count": 4,
      "outputs": [
        {
          "output_type": "stream",
          "name": "stdout",
          "text": [
            "['banana', 'orange', 'apple', 'ananas']\n"
          ]
        }
      ]
    },
    {
      "cell_type": "markdown",
      "metadata": {
        "id": "krJPqkiWiQmj"
      },
      "source": [
        "## Příklad"
      ]
    },
    {
      "cell_type": "markdown",
      "metadata": {
        "id": "oIW1wclmiTYh"
      },
      "source": [
        "### Zadání"
      ]
    },
    {
      "cell_type": "markdown",
      "metadata": {
        "id": "ufojcLJpiW8p"
      },
      "source": [
        "Zjistěte hodnotu prvku s indexem 1"
      ]
    },
    {
      "cell_type": "code",
      "metadata": {
        "id": "3dY3tGIHifaY"
      },
      "source": [
        "data = ['banana', 'orange', 'apple']\n",
        "\n",
        "# neco"
      ],
      "execution_count": null,
      "outputs": []
    },
    {
      "cell_type": "markdown",
      "metadata": {
        "id": "WUzlRZzyiiKh"
      },
      "source": [
        "### Řešení"
      ]
    },
    {
      "cell_type": "code",
      "metadata": {
        "colab": {
          "base_uri": "https://localhost:8080/",
          "height": 36
        },
        "id": "SCff3vYfiVYB",
        "outputId": "d52db6d7-af2b-47ce-e86a-64b5be4481df"
      },
      "source": [
        "data = ['banana', 'orange', 'apple']\n",
        "\n",
        "data[1]"
      ],
      "execution_count": 5,
      "outputs": [
        {
          "output_type": "execute_result",
          "data": {
            "application/vnd.google.colaboratory.intrinsic+json": {
              "type": "string"
            },
            "text/plain": [
              "'orange'"
            ]
          },
          "metadata": {},
          "execution_count": 5
        }
      ]
    },
    {
      "cell_type": "markdown",
      "metadata": {
        "id": "sx1q0cZYipfv"
      },
      "source": [
        "## Příklad"
      ]
    },
    {
      "cell_type": "markdown",
      "metadata": {
        "id": "RmZyR3Q4irNY"
      },
      "source": [
        "### Zadání"
      ]
    },
    {
      "cell_type": "markdown",
      "metadata": {
        "id": "tPDccOL_isL4"
      },
      "source": [
        "Zjistěte hodnotu předposledního prvku"
      ]
    },
    {
      "cell_type": "code",
      "metadata": {
        "id": "NO3L6Bk6ixtc"
      },
      "source": [
        "data = ['banana', 'orange', 'apple']\n",
        "\n",
        "# neco"
      ],
      "execution_count": null,
      "outputs": []
    },
    {
      "cell_type": "markdown",
      "metadata": {
        "id": "DdzaCbXiisPH"
      },
      "source": [
        "### Řešení"
      ]
    },
    {
      "cell_type": "code",
      "metadata": {
        "cellView": "form",
        "colab": {
          "base_uri": "https://localhost:8080/",
          "height": 36
        },
        "id": "fqI-n-eRi1zg",
        "outputId": "6f7baaff-e9a8-45ec-9a50-92bb4613d203"
      },
      "source": [
        "#@title\n",
        "data = ['banana', 'orange', 'apple']\n",
        "\n",
        "data[-1]"
      ],
      "execution_count": 6,
      "outputs": [
        {
          "output_type": "execute_result",
          "data": {
            "application/vnd.google.colaboratory.intrinsic+json": {
              "type": "string"
            },
            "text/plain": [
              "'apple'"
            ]
          },
          "metadata": {},
          "execution_count": 6
        }
      ]
    },
    {
      "cell_type": "markdown",
      "metadata": {
        "id": "qtVdGBE_isSE"
      },
      "source": [
        "## Příklad"
      ]
    },
    {
      "cell_type": "markdown",
      "metadata": {
        "id": "RdKhLGbKjCvB"
      },
      "source": [
        "### Zadání"
      ]
    },
    {
      "cell_type": "markdown",
      "metadata": {
        "id": "ZJsn3wWXjEVk"
      },
      "source": [
        "Rozdělte text na jednotlivé prvky, jako oddělovač uvažujte středník"
      ]
    },
    {
      "cell_type": "code",
      "metadata": {
        "id": "7lbm-l3yiLNz"
      },
      "source": [
        "dataStr = 'banana;orange;apple'\n",
        "\n",
        "# neco"
      ],
      "execution_count": null,
      "outputs": []
    },
    {
      "cell_type": "markdown",
      "metadata": {
        "id": "_pF_CQfUjUHo"
      },
      "source": [
        "### Řešení"
      ]
    },
    {
      "cell_type": "code",
      "metadata": {
        "cellView": "form",
        "colab": {
          "base_uri": "https://localhost:8080/"
        },
        "id": "b2DKidppjWIB",
        "outputId": "b9ef2887-c8bc-4001-c778-b1a0e73e13c7"
      },
      "source": [
        "#@title\n",
        "dataStr = 'banana;orange;apple'\n",
        "\n",
        "dataStr.split(';')"
      ],
      "execution_count": 7,
      "outputs": [
        {
          "output_type": "execute_result",
          "data": {
            "text/plain": [
              "['banana', 'orange', 'apple']"
            ]
          },
          "metadata": {},
          "execution_count": 7
        }
      ]
    },
    {
      "cell_type": "markdown",
      "metadata": {
        "id": "Xq3tJKhNjeQ-"
      },
      "source": [
        "## Příklad"
      ]
    },
    {
      "cell_type": "markdown",
      "metadata": {
        "id": "5x3GpJNpjg2h"
      },
      "source": [
        "### Řešení"
      ]
    },
    {
      "cell_type": "markdown",
      "metadata": {
        "id": "RvqfnSGljjq0"
      },
      "source": [
        "Vypište prvky listu v řádcích"
      ]
    },
    {
      "cell_type": "code",
      "metadata": {
        "id": "AJuSaXezjqpj"
      },
      "source": [
        "data = ['banana', 'orange', 'apple']\n",
        "\n",
        "# neco\n",
        "# neco"
      ],
      "execution_count": null,
      "outputs": []
    },
    {
      "cell_type": "markdown",
      "metadata": {
        "id": "OOyqlfX8jrAh"
      },
      "source": [
        "### Řešení"
      ]
    },
    {
      "cell_type": "code",
      "metadata": {
        "colab": {
          "base_uri": "https://localhost:8080/"
        },
        "cellView": "form",
        "id": "FTSvwhOlj1Lq",
        "outputId": "bd140ad1-f1d2-42cf-dc69-3c48ae1984df"
      },
      "source": [
        "#@title\n",
        "data = ['banana', 'orange', 'apple']\n",
        "\n",
        "for item in data:\n",
        "    print(item)"
      ],
      "execution_count": 9,
      "outputs": [
        {
          "output_type": "stream",
          "name": "stdout",
          "text": [
            "banana\n",
            "orange\n",
            "apple\n"
          ]
        }
      ]
    },
    {
      "cell_type": "markdown",
      "metadata": {
        "id": "XPmY5tb1j-az"
      },
      "source": [
        "## Příklad"
      ]
    },
    {
      "cell_type": "markdown",
      "metadata": {
        "id": "HI-F9FeukAjb"
      },
      "source": [
        "### Zadání"
      ]
    },
    {
      "cell_type": "markdown",
      "metadata": {
        "id": "CKIGR9Kmkm1W"
      },
      "source": [
        "Vypište prvky listu v řádcích, při tisku vypište také index"
      ]
    },
    {
      "cell_type": "code",
      "metadata": {
        "id": "KDSQlctTkCRR"
      },
      "source": [
        "data = ['banana', 'orange', 'apple']\n",
        "\n",
        "# neco\n",
        "# neco"
      ],
      "execution_count": null,
      "outputs": []
    },
    {
      "cell_type": "markdown",
      "metadata": {
        "id": "cEUYFvO7ktbX"
      },
      "source": [
        "### Řešení"
      ]
    },
    {
      "cell_type": "code",
      "metadata": {
        "colab": {
          "base_uri": "https://localhost:8080/"
        },
        "cellView": "form",
        "id": "2T9NPa5Xj7Hh",
        "outputId": "5e1c6df8-3e3b-47cc-d12d-3cc4dc598dfb"
      },
      "source": [
        "#@title\n",
        "data = ['banana', 'orange', 'apple']\n",
        "\n",
        "for index, item in enumerate(data):\n",
        "    print(index, item)"
      ],
      "execution_count": 11,
      "outputs": [
        {
          "output_type": "stream",
          "name": "stdout",
          "text": [
            "0 banana\n",
            "1 orange\n",
            "2 apple\n"
          ]
        }
      ]
    },
    {
      "cell_type": "markdown",
      "metadata": {
        "id": "THsE5XrTmyJf"
      },
      "source": [
        "## Příklad"
      ]
    },
    {
      "cell_type": "markdown",
      "metadata": {
        "id": "B_1Ttr1omz5Y"
      },
      "source": [
        "### Zadání"
      ]
    },
    {
      "cell_type": "markdown",
      "metadata": {
        "id": "KbZKCz-km8vA"
      },
      "source": [
        "Sečtěte čísla v list (pomocí cyklu)"
      ]
    },
    {
      "cell_type": "code",
      "metadata": {
        "id": "En11b2QGm12Q"
      },
      "source": [
        "data = [1, 5, 6, 4, 2]\n",
        "\n",
        "# neco\n",
        "# neco\n",
        "# neco\n",
        "# neco"
      ],
      "execution_count": null,
      "outputs": []
    },
    {
      "cell_type": "markdown",
      "metadata": {
        "id": "75_6d-HUnDA7"
      },
      "source": [
        "### Řešení"
      ]
    },
    {
      "cell_type": "code",
      "metadata": {
        "cellView": "form",
        "colab": {
          "base_uri": "https://localhost:8080/"
        },
        "id": "-Q568RsBnGnL",
        "outputId": "5857471d-79ed-4666-d31d-14709bf7d5c4"
      },
      "source": [
        "#@title\n",
        "data = [1, 5, 6, 4, 2]\n",
        "\n",
        "total = 0\n",
        "for item in data:\n",
        "    total = total + item\n",
        "total"
      ],
      "execution_count": 14,
      "outputs": [
        {
          "output_type": "execute_result",
          "data": {
            "text/plain": [
              "18"
            ]
          },
          "metadata": {},
          "execution_count": 14
        }
      ]
    },
    {
      "cell_type": "markdown",
      "metadata": {
        "id": "TwUJF6tjnW62"
      },
      "source": [
        "## Příklad"
      ]
    },
    {
      "cell_type": "markdown",
      "metadata": {
        "id": "toK7jNF0nVBD"
      },
      "source": [
        "### Zadání"
      ]
    },
    {
      "cell_type": "markdown",
      "metadata": {
        "id": "lEqNpao2nbM2"
      },
      "source": [
        "Sečtěte čísla v list (pomocí vestavěné funkce)"
      ]
    },
    {
      "cell_type": "code",
      "metadata": {
        "id": "HSHJkajkngW2"
      },
      "source": [
        "data = [1, 5, 6, 4, 2]\n",
        "\n",
        "# neco"
      ],
      "execution_count": null,
      "outputs": []
    },
    {
      "cell_type": "markdown",
      "metadata": {
        "id": "Rz1EFUAmnlpY"
      },
      "source": [
        "### Řešení"
      ]
    },
    {
      "cell_type": "code",
      "metadata": {
        "cellView": "form",
        "colab": {
          "base_uri": "https://localhost:8080/"
        },
        "id": "n6jkqMFwniU4",
        "outputId": "0119157f-c43d-4851-8023-6a2041f72809"
      },
      "source": [
        "#@title\n",
        "data = [1, 5, 6, 4, 2]\n",
        "\n",
        "sum(data)"
      ],
      "execution_count": 15,
      "outputs": [
        {
          "output_type": "execute_result",
          "data": {
            "text/plain": [
              "18"
            ]
          },
          "metadata": {},
          "execution_count": 15
        }
      ]
    },
    {
      "cell_type": "markdown",
      "metadata": {
        "id": "qwoIbprRk8KG"
      },
      "source": [
        "## Příklad"
      ]
    },
    {
      "cell_type": "markdown",
      "metadata": {
        "id": "FwkD6n9Kk-Hi"
      },
      "source": [
        "### Zadání"
      ]
    },
    {
      "cell_type": "markdown",
      "metadata": {
        "id": "1fJQ8NFElAoq"
      },
      "source": [
        "Zjistěte, zda struktura obsahuje klíč `name`"
      ]
    },
    {
      "cell_type": "code",
      "metadata": {
        "id": "azxOeGiUk0hE"
      },
      "source": [
        "data = {'name': 'John', 'age': 25}\n",
        "\n",
        "#neco"
      ],
      "execution_count": null,
      "outputs": []
    },
    {
      "cell_type": "markdown",
      "metadata": {
        "id": "9Mk1HcislPfV"
      },
      "source": [
        "### Řešení"
      ]
    },
    {
      "cell_type": "code",
      "metadata": {
        "cellView": "form",
        "colab": {
          "base_uri": "https://localhost:8080/"
        },
        "id": "FjpMbrTflR5h",
        "outputId": "bc7911f8-26d6-4671-9287-a14cb65fcd88"
      },
      "source": [
        "#@title\n",
        "data = {'name': 'John', 'age': 25}\n",
        "\n",
        "'name' in data"
      ],
      "execution_count": 12,
      "outputs": [
        {
          "output_type": "execute_result",
          "data": {
            "text/plain": [
              "True"
            ]
          },
          "metadata": {},
          "execution_count": 12
        }
      ]
    },
    {
      "cell_type": "markdown",
      "metadata": {
        "id": "GsMF_r62lYj4"
      },
      "source": [
        "## Příklad"
      ]
    },
    {
      "cell_type": "markdown",
      "metadata": {
        "id": "bPkuB_wBla94"
      },
      "source": [
        "### Zadání"
      ]
    },
    {
      "cell_type": "markdown",
      "metadata": {
        "id": "5NL9dvxglcuL"
      },
      "source": [
        "Zjistěte hodnotu uloženou pod klíčem `age`"
      ]
    },
    {
      "cell_type": "code",
      "metadata": {
        "id": "HfC0jyd2ljiC"
      },
      "source": [
        "data = {'name': 'John', 'age': 25}\n",
        "\n",
        "#neco"
      ],
      "execution_count": null,
      "outputs": []
    },
    {
      "cell_type": "markdown",
      "metadata": {
        "id": "FdaHpTzclk0L"
      },
      "source": [
        "### Řešení"
      ]
    },
    {
      "cell_type": "code",
      "metadata": {
        "cellView": "form",
        "id": "NV9fiOL2lml8"
      },
      "source": [
        "#@title\n",
        "data = {'name': 'John', 'age': 25}\n",
        "\n",
        "data['age']"
      ],
      "execution_count": null,
      "outputs": []
    },
    {
      "cell_type": "markdown",
      "metadata": {
        "id": "VJ-3VF-olqKP"
      },
      "source": [
        "## Příklad"
      ]
    },
    {
      "cell_type": "markdown",
      "metadata": {
        "id": "gOTarsobltfl"
      },
      "source": [
        "### Zadání"
      ]
    },
    {
      "cell_type": "markdown",
      "metadata": {
        "id": "ypU02i57luql"
      },
      "source": [
        "Vypište v řádcích jméno klíče a jeho hodnotu"
      ]
    },
    {
      "cell_type": "code",
      "metadata": {
        "id": "60HMIMGtl6_3"
      },
      "source": [
        "data = {'name': 'John', 'age': 25}\n",
        "\n",
        "# neco\n",
        "# neco"
      ],
      "execution_count": null,
      "outputs": []
    },
    {
      "cell_type": "markdown",
      "metadata": {
        "id": "76__nfRPlunU"
      },
      "source": [
        "### Řešení"
      ]
    },
    {
      "cell_type": "code",
      "metadata": {
        "cellView": "form",
        "colab": {
          "base_uri": "https://localhost:8080/"
        },
        "id": "gNUApqIVlVvd",
        "outputId": "fe90a217-0808-45a3-b518-aea05a26f1f6"
      },
      "source": [
        "#@title\n",
        "data = {'name': 'John', 'age': 25}\n",
        "\n",
        "for key, value in data.items():\n",
        "    print(key, value)"
      ],
      "execution_count": 13,
      "outputs": [
        {
          "output_type": "stream",
          "name": "stdout",
          "text": [
            "name John\n",
            "age 25\n"
          ]
        }
      ]
    },
    {
      "cell_type": "markdown",
      "metadata": {
        "id": "1HUE7OdBpPwK"
      },
      "source": [
        "## Příklad"
      ]
    },
    {
      "cell_type": "markdown",
      "metadata": {
        "id": "OcaxxXBdpV-W"
      },
      "source": [
        "### Zadání"
      ]
    },
    {
      "cell_type": "markdown",
      "metadata": {
        "id": "c2_EbdXYplAr"
      },
      "source": [
        "Napište funkci, která vrací hodnotu `1`"
      ]
    },
    {
      "cell_type": "code",
      "metadata": {
        "colab": {
          "base_uri": "https://localhost:8080/",
          "height": 135
        },
        "id": "eRpOwqKumNvp",
        "outputId": "e58b0dd4-8123-4d70-eb54-d3badf71e23c"
      },
      "source": [
        "def func():\n",
        "    # neco\n",
        "\n",
        "func()"
      ],
      "execution_count": 19,
      "outputs": [
        {
          "output_type": "error",
          "ename": "SyntaxError",
          "evalue": "ignored",
          "traceback": [
            "\u001b[0;36m  File \u001b[0;32m\"<ipython-input-19-8b5d85ea2e84>\"\u001b[0;36m, line \u001b[0;32m2\u001b[0m\n\u001b[0;31m    # neco\u001b[0m\n\u001b[0m          ^\u001b[0m\n\u001b[0;31mSyntaxError\u001b[0m\u001b[0;31m:\u001b[0m unexpected EOF while parsing\n"
          ]
        }
      ]
    },
    {
      "cell_type": "markdown",
      "metadata": {
        "id": "6FVrgGugpcDI"
      },
      "source": [
        "### Řešení"
      ]
    },
    {
      "cell_type": "code",
      "metadata": {
        "cellView": "form",
        "id": "dHv5jD6xpgCk",
        "outputId": "842cbe64-eea7-4af5-f034-155d06459c0b",
        "colab": {
          "base_uri": "https://localhost:8080/"
        }
      },
      "source": [
        "#@title\n",
        "def func():\n",
        "    return 1\n",
        "\n",
        "func()"
      ],
      "execution_count": 20,
      "outputs": [
        {
          "output_type": "execute_result",
          "data": {
            "text/plain": [
              "1"
            ]
          },
          "metadata": {},
          "execution_count": 20
        }
      ]
    },
    {
      "cell_type": "markdown",
      "metadata": {
        "id": "wTVbyIe3pR08"
      },
      "source": [
        "## Příklad"
      ]
    },
    {
      "cell_type": "markdown",
      "metadata": {
        "id": "a0JNn_OepZl2"
      },
      "source": [
        "### Zadání"
      ]
    },
    {
      "cell_type": "markdown",
      "metadata": {
        "id": "7wHqW7qZqOT7"
      },
      "source": [
        "Napište funkci, která k parametru přičte 1 a výslednou hodnotu vrátí"
      ]
    },
    {
      "cell_type": "code",
      "metadata": {
        "id": "XNWtOql0pero"
      },
      "source": [
        "def func(par):\n",
        "    # neco\n",
        "\n",
        "func(2)"
      ],
      "execution_count": null,
      "outputs": []
    },
    {
      "cell_type": "markdown",
      "metadata": {
        "id": "kes8yc8Hpe8K"
      },
      "source": [
        "### Řešení"
      ]
    },
    {
      "cell_type": "code",
      "metadata": {
        "cellView": "form",
        "id": "OoRvwJtBpfnO",
        "outputId": "23570eff-18ea-4412-dc29-d3794422a226",
        "colab": {
          "base_uri": "https://localhost:8080/"
        }
      },
      "source": [
        "#@title\n",
        "def func(par):\n",
        "    return par + 1\n",
        "\n",
        "func(2)"
      ],
      "execution_count": 21,
      "outputs": [
        {
          "output_type": "execute_result",
          "data": {
            "text/plain": [
              "3"
            ]
          },
          "metadata": {},
          "execution_count": 21
        }
      ]
    },
    {
      "cell_type": "markdown",
      "metadata": {
        "id": "OGHMJT_mpSrt"
      },
      "source": [
        "## Příklad"
      ]
    },
    {
      "cell_type": "markdown",
      "metadata": {
        "id": "TettvluBpaQL"
      },
      "source": [
        "### Zadání"
      ]
    },
    {
      "cell_type": "markdown",
      "metadata": {
        "id": "hZX0HbA1qrDk"
      },
      "source": [
        ""
      ]
    },
    {
      "cell_type": "code",
      "metadata": {
        "id": "XF-ChABKpgvK"
      },
      "source": [
        ""
      ],
      "execution_count": null,
      "outputs": []
    },
    {
      "cell_type": "markdown",
      "metadata": {
        "id": "IMTTVLYSpg46"
      },
      "source": [
        "### Řešení"
      ]
    },
    {
      "cell_type": "code",
      "metadata": {
        "id": "3K21SJlyphMi"
      },
      "source": [
        ""
      ],
      "execution_count": null,
      "outputs": []
    },
    {
      "cell_type": "markdown",
      "metadata": {
        "id": "T-lIN5kPpTib"
      },
      "source": [
        "## Příklad"
      ]
    },
    {
      "cell_type": "markdown",
      "metadata": {
        "id": "5NYU0R68pa1L"
      },
      "source": [
        "### Zadání"
      ]
    },
    {
      "cell_type": "code",
      "metadata": {
        "id": "l1rvBnBnph_Q"
      },
      "source": [
        ""
      ],
      "execution_count": null,
      "outputs": []
    },
    {
      "cell_type": "markdown",
      "metadata": {
        "id": "Vj7skv7Lpije"
      },
      "source": [
        "### Řešení"
      ]
    },
    {
      "cell_type": "code",
      "metadata": {
        "id": "1ANNCXK9pi8B"
      },
      "source": [
        ""
      ],
      "execution_count": null,
      "outputs": []
    }
  ]
}