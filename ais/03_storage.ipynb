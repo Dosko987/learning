{
  "nbformat": 4,
  "nbformat_minor": 0,
  "metadata": {
    "colab": {
      "name": "03_storage.ipynb",
      "provenance": [],
      "toc_visible": true,
      "authorship_tag": "ABX9TyOWP0lpIbuO4h52vQ++Yv83",
      "include_colab_link": true
    },
    "kernelspec": {
      "name": "python3",
      "display_name": "Python 3"
    },
    "language_info": {
      "name": "python"
    }
  },
  "cells": [
    {
      "cell_type": "markdown",
      "metadata": {
        "id": "view-in-github",
        "colab_type": "text"
      },
      "source": [
        "<a href=\"https://colab.research.google.com/github/hrbolek/learning/blob/master/ais/03_storage.ipynb\" target=\"_parent\"><img src=\"https://colab.research.google.com/assets/colab-badge.svg\" alt=\"Open In Colab\"/></a>"
      ]
    },
    {
      "cell_type": "markdown",
      "metadata": {
        "id": "k-TIFPKtD4NT"
      },
      "source": [
        "# Ukládání dat"
      ]
    },
    {
      "cell_type": "markdown",
      "metadata": {
        "id": "WNp9gHrIDsUk"
      },
      "source": [
        "Úkládání dat\n",
        "\n",
        "- Homogenní datové struktury\n",
        "- Heterogenní datové struktury\n",
        "- Operace nad datovými strukturami\n",
        "  - Filter\n",
        "  - Map\n",
        "  - Reduce\n",
        "- SQL (SQLAlchemy Python)\n",
        "- GraphQL (Graphene Python)\n",
        "\n"
      ]
    },
    {
      "cell_type": "markdown",
      "metadata": {
        "id": "U2AJ0PmcD9Qq"
      },
      "source": [
        "## Homogenní datové struktury"
      ]
    },
    {
      "cell_type": "markdown",
      "metadata": {
        "id": "wUc70kIsYIPF"
      },
      "source": [
        "Homogenní datové struktury jsou charakterizované \"stejností\". Velmi často jsou spojovány s tabulkami v SQL databázích. Tyto tabulky mají definici, které je společná pro všechny záznamy.\n",
        "\n",
        "V jazyku Python je ekvivalentem seznam (list), jehož položky jsou slovníky (dictionary), případně instance specifické třídy (class). V případě dictionary se předpokládá, že všechny mají stejný seznam klíčů, což je důležité pro zpracování dat pomocí funkcí, které mohou předpokládat přítomnost hodnot.\n",
        "\n"
      ]
    },
    {
      "cell_type": "markdown",
      "metadata": {
        "id": "-Kg8SGX0EAqj"
      },
      "source": [
        "## Heterogenní datové struktury"
      ]
    },
    {
      "cell_type": "markdown",
      "metadata": {
        "id": "zMMSonodEDwG"
      },
      "source": [
        "## Operace nad datovými strukturami"
      ]
    },
    {
      "cell_type": "markdown",
      "metadata": {
        "id": "TqvjKJEPEMeH"
      },
      "source": [
        "## SQL / SQLAlchemy"
      ]
    },
    {
      "cell_type": "markdown",
      "metadata": {
        "id": "BHG-EYFAENza"
      },
      "source": [
        "## GraphQL (Graphene)"
      ]
    },
    {
      "cell_type": "code",
      "metadata": {
        "id": "9MBOCjaeEG3F"
      },
      "source": [
        ""
      ],
      "execution_count": null,
      "outputs": []
    },
    {
      "cell_type": "code",
      "metadata": {
        "id": "Py102TsCl55y"
      },
      "source": [
        ""
      ],
      "execution_count": null,
      "outputs": []
    }
  ]
}