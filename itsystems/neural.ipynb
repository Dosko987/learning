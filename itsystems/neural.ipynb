{
  "nbformat": 4,
  "nbformat_minor": 0,
  "metadata": {
    "colab": {
      "name": "neural.ipynb",
      "provenance": [],
      "authorship_tag": "ABX9TyMNi6XGoZ74D6nCyg2Lg0ne",
      "include_colab_link": true
    },
    "kernelspec": {
      "name": "python3",
      "display_name": "Python 3"
    }
  },
  "cells": [
    {
      "cell_type": "markdown",
      "metadata": {
        "id": "view-in-github",
        "colab_type": "text"
      },
      "source": [
        "<a href=\"https://colab.research.google.com/github/hrbolek/learning/blob/master/itsystems/neural.ipynb\" target=\"_parent\"><img src=\"https://colab.research.google.com/assets/colab-badge.svg\" alt=\"Open In Colab\"/></a>"
      ]
    },
    {
      "cell_type": "markdown",
      "metadata": {
        "id": "NuXUh-rr2w5E",
        "colab_type": "text"
      },
      "source": [
        "# RNN as predictor for signal value"
      ]
    },
    {
      "cell_type": "code",
      "metadata": {
        "id": "ji10Z5Hcvjoq",
        "colab_type": "code",
        "colab": {}
      },
      "source": [
        "import scipy.signal as signal\n",
        "import matplotlib.pyplot as plt\n",
        "import pandas as pd\n",
        "\n",
        "#https://github.com/nerush/aind2-rnn/blob/master/RNN_project.ipynb\n",
        "#https://www.youtube.com/watch?v=tPYj3fFJGjk"
      ],
      "execution_count": 0,
      "outputs": []
    },
    {
      "cell_type": "code",
      "metadata": {
        "id": "imNbUh_xv6_t",
        "colab_type": "code",
        "colab": {
          "base_uri": "https://localhost:8080/",
          "height": 35
        },
        "outputId": "5167403e-22eb-4f4a-b3d2-7a548f7402d1"
      },
      "source": [
        "numerator = [1]\n",
        "denominator = [1, 1]\n",
        "deltaTime = 0.01\n",
        "discrete = signal.cont2discrete((numerator, denominator), deltaTime)\n",
        "print(discrete)"
      ],
      "execution_count": 201,
      "outputs": [
        {
          "output_type": "stream",
          "text": [
            "(array([[0.        , 0.00995017]]), array([ 1.        , -0.99004983]), 0.01)\n"
          ],
          "name": "stdout"
        }
      ]
    },
    {
      "cell_type": "markdown",
      "metadata": {
        "id": "cU2ynFv14YKV",
        "colab_type": "text"
      },
      "source": [
        "## Preparation"
      ]
    },
    {
      "cell_type": "markdown",
      "metadata": {
        "id": "WLYzP81s8U8S",
        "colab_type": "text"
      },
      "source": [
        "### Pandas function"
      ]
    },
    {
      "cell_type": "code",
      "metadata": {
        "id": "BRRw7Hoz8VJ2",
        "colab_type": "code",
        "colab": {
          "base_uri": "https://localhost:8080/",
          "height": 437
        },
        "outputId": "5a6c25f1-abf4-4029-85fe-574fef891c32"
      },
      "source": [
        "def plotSignal(data, x = 0, y = 1, ax = None):\n",
        "  df = pd.DataFrame(data)\n",
        "  #display(df)\n",
        "  newax = None\n",
        "  if ax is None:\n",
        "    newax = df.plot.line(x = 0, y = y)\n",
        "  else:\n",
        "    newax = df.plot.line(x = 0, y = y, ax = ax)\n",
        "  return newax\n",
        "\n",
        "def displaySignal(data):\n",
        "  df = pd.DataFrame(data)\n",
        "  display(df)\n",
        "\n",
        "#example of use\n",
        "data = [(0, 0), (1, 1), (2, 4), (3, 9)]\n",
        "plotSignal(data)\n",
        "displaySignal(data)"
      ],
      "execution_count": 202,
      "outputs": [
        {
          "output_type": "display_data",
          "data": {
            "text/html": [
              "<div>\n",
              "<style scoped>\n",
              "    .dataframe tbody tr th:only-of-type {\n",
              "        vertical-align: middle;\n",
              "    }\n",
              "\n",
              "    .dataframe tbody tr th {\n",
              "        vertical-align: top;\n",
              "    }\n",
              "\n",
              "    .dataframe thead th {\n",
              "        text-align: right;\n",
              "    }\n",
              "</style>\n",
              "<table border=\"1\" class=\"dataframe\">\n",
              "  <thead>\n",
              "    <tr style=\"text-align: right;\">\n",
              "      <th></th>\n",
              "      <th>0</th>\n",
              "      <th>1</th>\n",
              "    </tr>\n",
              "  </thead>\n",
              "  <tbody>\n",
              "    <tr>\n",
              "      <th>0</th>\n",
              "      <td>0</td>\n",
              "      <td>0</td>\n",
              "    </tr>\n",
              "    <tr>\n",
              "      <th>1</th>\n",
              "      <td>1</td>\n",
              "      <td>1</td>\n",
              "    </tr>\n",
              "    <tr>\n",
              "      <th>2</th>\n",
              "      <td>2</td>\n",
              "      <td>4</td>\n",
              "    </tr>\n",
              "    <tr>\n",
              "      <th>3</th>\n",
              "      <td>3</td>\n",
              "      <td>9</td>\n",
              "    </tr>\n",
              "  </tbody>\n",
              "</table>\n",
              "</div>"
            ],
            "text/plain": [
              "   0  1\n",
              "0  0  0\n",
              "1  1  1\n",
              "2  2  4\n",
              "3  3  9"
            ]
          },
          "metadata": {
            "tags": []
          }
        },
        {
          "output_type": "display_data",
          "data": {
            "image/png": "[encoded data removed]",
            "text/plain": [
              "<Figure size 432x288 with 1 Axes>"
            ]
          },
          "metadata": {
            "tags": []
          }
        }
      ]
    },
    {
      "cell_type": "markdown",
      "metadata": {
        "id": "-P2WlbdQ231g",
        "colab_type": "text"
      },
      "source": [
        "### Function for connection of multiple state systems\n",
        "\n",
        "$F(f_1, f_2, f_3, ..., f_n)(g)=f_n(...f_3(f_2(f_1(g))))$\n",
        "```python\n",
        "connect(f1, f2, f3)(g)\n",
        "```\n",
        "or\n",
        "```python\n",
        "f3(f2(f1(g)))\n",
        "```"
      ]
    },
    {
      "cell_type": "code",
      "metadata": {
        "id": "OiAWOvuMViwq",
        "colab_type": "code",
        "colab": {}
      },
      "source": [
        "def connect(*F):\n",
        "  def connected(g):\n",
        "    result = g\n",
        "    for f in F:\n",
        "      result = f(result)\n",
        "    return result\n",
        "  return connected"
      ],
      "execution_count": 0,
      "outputs": []
    },
    {
      "cell_type": "markdown",
      "metadata": {
        "id": "CMunfeLJ8TBe",
        "colab_type": "text"
      },
      "source": [
        "### Time source system"
      ]
    },
    {
      "cell_type": "code",
      "metadata": {
        "id": "aky9kPjLAir7",
        "colab_type": "code",
        "colab": {
          "base_uri": "https://localhost:8080/",
          "height": 297
        },
        "outputId": "adb0b34f-de14-47a6-d25d-58227d5c4c08"
      },
      "source": [
        "def createTimeGenerator(endTime, startTime = 0, deltaTime = 0.01):\n",
        "  def time():\n",
        "    currentTime = startTime\n",
        "    while True:\n",
        "      yield (currentTime, currentTime)\n",
        "      currentTime = currentTime + deltaTime\n",
        "      if currentTime > endTime:\n",
        "        break\n",
        "  return time\n",
        "\n",
        "# example of use\n",
        "timeFunc = createTimeGenerator(startTime = 0, endTime = 10, deltaTime = 0.01)()\n",
        "plotSignal(timeFunc)"
      ],
      "execution_count": 204,
      "outputs": [
        {
          "output_type": "execute_result",
          "data": {
            "text/plain": [
              "<matplotlib.axes._subplots.AxesSubplot at 0x7fa810c59780>"
            ]
          },
          "metadata": {
            "tags": []
          },
          "execution_count": 204
        },
        {
          "output_type": "display_data",
          "data": {
            "image/png": "[encoded data removed]",
            "text/plain": [
              "<Figure size 432x288 with 1 Axes>"
            ]
          },
          "metadata": {
            "tags": []
          }
        }
      ]
    },
    {
      "cell_type": "markdown",
      "metadata": {
        "id": "zAaBsIxk3vuo",
        "colab_type": "text"
      },
      "source": [
        "### Step source system\n",
        "This is not used in code"
      ]
    },
    {
      "cell_type": "code",
      "metadata": {
        "id": "2Az_FobW6V00",
        "colab_type": "code",
        "colab": {
          "base_uri": "https://localhost:8080/",
          "height": 297
        },
        "outputId": "296d385d-4b5e-4437-d6ae-31e1994e9460"
      },
      "source": [
        "def createStep(stepTime):\n",
        "  def u(gen):\n",
        "    for (time, value) in gen:\n",
        "      if (time < stepTime):\n",
        "        yield (time, 0)\n",
        "      else:\n",
        "        yield (time, 1)\n",
        "  return u\n",
        "\n",
        "# example of use\n",
        "timeFunc = createTimeGenerator(startTime = 0, endTime = 10, deltaTime = 0.01)\n",
        "step = createStep(1)\n",
        "plotSignal(step(timeFunc()))"
      ],
      "execution_count": 205,
      "outputs": [
        {
          "output_type": "execute_result",
          "data": {
            "text/plain": [
              "<matplotlib.axes._subplots.AxesSubplot at 0x7fa81493b898>"
            ]
          },
          "metadata": {
            "tags": []
          },
          "execution_count": 205
        },
        {
          "output_type": "display_data",
          "data": {
            "image/png": "[encoded data removed]",
            "text/plain": [
              "<Figure size 432x288 with 1 Axes>"
            ]
          },
          "metadata": {
            "tags": []
          }
        }
      ]
    },
    {
      "cell_type": "markdown",
      "metadata": {
        "id": "F3Zft9_A3Z2-",
        "colab_type": "text"
      },
      "source": [
        "### Just 1st order state system "
      ]
    },
    {
      "cell_type": "markdown",
      "metadata": {
        "id": "EluSXfsg21cM",
        "colab_type": "text"
      },
      "source": [
        "$\\frac{Y(s)}{U(s)}=\\frac{K}{Ts+1}$\n",
        "\n",
        "$Y(s) \\cdot (Ts+1)=U(s) \\cdot K$\n",
        "\n",
        "$Ty'(t)+y(t)=Ku(t)$\n",
        "\n",
        "$y'(t)+\\frac{1}{T}y(t)=\\frac{K}{T}u(t)$\n",
        "\n",
        "$y'(t)=\\frac{K}{T}u(t)-\\frac{1}{T}y(t)$\n",
        "\n",
        "Euler:\n",
        "\n",
        "$\\lim\\limits_{dt \\to 0} \\frac{y(t+dt)-y(t)}{dt} =\\frac{K}{T}u(t)-\\frac{1}{T}y(t)$\n",
        "\n",
        "$\\frac{y(t+dt)-y(t)}{dt} =\\frac{K}{T}u(t)-\\frac{1}{T}y(t)$\n",
        "\n",
        "$y(t+dt)-y(t) =dt \\left( \\frac{K}{T}u(t)-\\frac{1}{T}y(t) \\right)$\n",
        "\n",
        "$y(t+dt) =y(t) + dt \\left( \\frac{K}{T}u(t)-\\frac{1}{T}y(t) \\right)$"
      ]
    },
    {
      "cell_type": "code",
      "metadata": {
        "id": "RKArR82j1czj",
        "colab_type": "code",
        "colab": {
          "base_uri": "https://localhost:8080/",
          "height": 686
        },
        "outputId": "ad3c6b73-13d6-4c3f-b748-f8429356d4b9"
      },
      "source": [
        "def createFilter1Order(K, T, deltaTime, y0 = 0):\n",
        "  k1 = K / T\n",
        "  k2 = 1 / T\n",
        "  def filter(u):\n",
        "    currentState = y0\n",
        "    for time, value in u:\n",
        "      result = currentState + deltaTime * (k1 * value - k2 * currentState)\n",
        "      currentState = result\n",
        "      yield (time, result)\n",
        "  return filter\n",
        "\n",
        "# example of use\n",
        "timeFunc = createTimeGenerator(startTime = 0, endTime = 10, deltaTime = 0.01)\n",
        "step = createStep(1)\n",
        "system = createFilter1Order(1, 1, deltaTime)\n",
        "\n",
        "simulation = connect(step, system)\n",
        "plotSignal(simulation(timeFunc()))\n",
        "displaySignal(simulation(timeFunc()))"
      ],
      "execution_count": 206,
      "outputs": [
        {
          "output_type": "display_data",
          "data": {
            "text/html": [
              "<div>\n",
              "<style scoped>\n",
              "    .dataframe tbody tr th:only-of-type {\n",
              "        vertical-align: middle;\n",
              "    }\n",
              "\n",
              "    .dataframe tbody tr th {\n",
              "        vertical-align: top;\n",
              "    }\n",
              "\n",
              "    .dataframe thead th {\n",
              "        text-align: right;\n",
              "    }\n",
              "</style>\n",
              "<table border=\"1\" class=\"dataframe\">\n",
              "  <thead>\n",
              "    <tr style=\"text-align: right;\">\n",
              "      <th></th>\n",
              "      <th>0</th>\n",
              "      <th>1</th>\n",
              "    </tr>\n",
              "  </thead>\n",
              "  <tbody>\n",
              "    <tr>\n",
              "      <th>0</th>\n",
              "      <td>0.00</td>\n",
              "      <td>0.000000</td>\n",
              "    </tr>\n",
              "    <tr>\n",
              "      <th>1</th>\n",
              "      <td>0.01</td>\n",
              "      <td>0.000000</td>\n",
              "    </tr>\n",
              "    <tr>\n",
              "      <th>2</th>\n",
              "      <td>0.02</td>\n",
              "      <td>0.000000</td>\n",
              "    </tr>\n",
              "    <tr>\n",
              "      <th>3</th>\n",
              "      <td>0.03</td>\n",
              "      <td>0.000000</td>\n",
              "    </tr>\n",
              "    <tr>\n",
              "      <th>4</th>\n",
              "      <td>0.04</td>\n",
              "      <td>0.000000</td>\n",
              "    </tr>\n",
              "    <tr>\n",
              "      <th>...</th>\n",
              "      <td>...</td>\n",
              "      <td>...</td>\n",
              "    </tr>\n",
              "    <tr>\n",
              "      <th>996</th>\n",
              "      <td>9.96</td>\n",
              "      <td>0.999878</td>\n",
              "    </tr>\n",
              "    <tr>\n",
              "      <th>997</th>\n",
              "      <td>9.97</td>\n",
              "      <td>0.999880</td>\n",
              "    </tr>\n",
              "    <tr>\n",
              "      <th>998</th>\n",
              "      <td>9.98</td>\n",
              "      <td>0.999881</td>\n",
              "    </tr>\n",
              "    <tr>\n",
              "      <th>999</th>\n",
              "      <td>9.99</td>\n",
              "      <td>0.999882</td>\n",
              "    </tr>\n",
              "    <tr>\n",
              "      <th>1000</th>\n",
              "      <td>10.00</td>\n",
              "      <td>0.999883</td>\n",
              "    </tr>\n",
              "  </tbody>\n",
              "</table>\n",
              "<p>1001 rows × 2 columns</p>\n",
              "</div>"
            ],
            "text/plain": [
              "          0         1\n",
              "0      0.00  0.000000\n",
              "1      0.01  0.000000\n",
              "2      0.02  0.000000\n",
              "3      0.03  0.000000\n",
              "4      0.04  0.000000\n",
              "...     ...       ...\n",
              "996    9.96  0.999878\n",
              "997    9.97  0.999880\n",
              "998    9.98  0.999881\n",
              "999    9.99  0.999882\n",
              "1000  10.00  0.999883\n",
              "\n",
              "[1001 rows x 2 columns]"
            ]
          },
          "metadata": {
            "tags": []
          }
        },
        {
          "output_type": "display_data",
          "data": {
            "image/png": "[encoded data removed]",
            "text/plain": [
              "<Figure size 432x288 with 1 Axes>"
            ]
          },
          "metadata": {
            "tags": []
          }
        }
      ]
    },
    {
      "cell_type": "markdown",
      "metadata": {
        "id": "2a13zDrw3kqg",
        "colab_type": "text"
      },
      "source": [
        "### Just 2nd order system"
      ]
    },
    {
      "cell_type": "markdown",
      "metadata": {
        "id": "XTCUt2rbL1sF",
        "colab_type": "text"
      },
      "source": [
        "$\\frac{Y(s)}{U(s)}=\\frac{Ts+1}{As^2+Bs+1}$\n",
        "\n",
        "$Ay''(t)+By'(t)+y(t)=Tu'(t)+u(t)$\n",
        "\n",
        "$Ay''(t)=Tu'(t)+u(t)-By'(t)-y(t)$\n",
        "\n",
        "$Ay''(t)=Tu'(t)-By'(t)+u(t)-y(t)$\n",
        "\n",
        "$y''(t)=\\frac{T}{A}u'(t)-\\frac{B}{A}y'(t)+\\frac{1}{A}u(t)-\\frac{1}{A}y(t)$\n",
        "\n",
        "$y(t)=x_1(t)$\n",
        "\n",
        "$x'_1(t)=\\frac{T}{A}u(t)-\\frac{B}{A}x_1(t) + x_2(t)$\n",
        "\n",
        "$x'_2(t)=\\frac{1}{A}u(t)-\\frac{1}{A}x_1(t)$\n",
        "\n"
      ]
    },
    {
      "cell_type": "code",
      "metadata": {
        "id": "Q1SoS0R2L2B-",
        "colab_type": "code",
        "colab": {
          "base_uri": "https://localhost:8080/",
          "height": 686
        },
        "outputId": "cf1eb3b1-82bf-4813-9133-992f6d61e716"
      },
      "source": [
        "def createFilter2Order(T, A, B, deltaTime, x10 = 0, x20 = 0):\n",
        "  def filter(u):\n",
        "    x1 = x10\n",
        "    x2 = x20\n",
        "    for time, value in u:\n",
        "      nx1 = x1 + deltaTime *((T / A) * value - B / A * x1 + x2)\n",
        "      nx2 = x2 + deltaTime * ((1 / A) * value - 1 / A * x1)\n",
        "      yield (time, nx1)\n",
        "      x1 = nx1\n",
        "      x2 = nx2\n",
        "  return filter\n",
        "\n",
        "# example of use\n",
        "timeFunc = createTimeGenerator(startTime = 0, endTime = 10, deltaTime = 0.01)\n",
        "step = createStep(1)\n",
        "system = createFilter2Order(1, 1, 1, deltaTime)\n",
        "\n",
        "simulation = connect(step, system)\n",
        "plotSignal(simulation(timeFunc()))\n",
        "displaySignal(simulation(timeFunc()))  "
      ],
      "execution_count": 207,
      "outputs": [
        {
          "output_type": "display_data",
          "data": {
            "text/html": [
              "<div>\n",
              "<style scoped>\n",
              "    .dataframe tbody tr th:only-of-type {\n",
              "        vertical-align: middle;\n",
              "    }\n",
              "\n",
              "    .dataframe tbody tr th {\n",
              "        vertical-align: top;\n",
              "    }\n",
              "\n",
              "    .dataframe thead th {\n",
              "        text-align: right;\n",
              "    }\n",
              "</style>\n",
              "<table border=\"1\" class=\"dataframe\">\n",
              "  <thead>\n",
              "    <tr style=\"text-align: right;\">\n",
              "      <th></th>\n",
              "      <th>0</th>\n",
              "      <th>1</th>\n",
              "    </tr>\n",
              "  </thead>\n",
              "  <tbody>\n",
              "    <tr>\n",
              "      <th>0</th>\n",
              "      <td>0.00</td>\n",
              "      <td>0.000000</td>\n",
              "    </tr>\n",
              "    <tr>\n",
              "      <th>1</th>\n",
              "      <td>0.01</td>\n",
              "      <td>0.000000</td>\n",
              "    </tr>\n",
              "    <tr>\n",
              "      <th>2</th>\n",
              "      <td>0.02</td>\n",
              "      <td>0.000000</td>\n",
              "    </tr>\n",
              "    <tr>\n",
              "      <th>3</th>\n",
              "      <td>0.03</td>\n",
              "      <td>0.000000</td>\n",
              "    </tr>\n",
              "    <tr>\n",
              "      <th>4</th>\n",
              "      <td>0.04</td>\n",
              "      <td>0.000000</td>\n",
              "    </tr>\n",
              "    <tr>\n",
              "      <th>...</th>\n",
              "      <td>...</td>\n",
              "      <td>...</td>\n",
              "    </tr>\n",
              "    <tr>\n",
              "      <th>996</th>\n",
              "      <td>9.96</td>\n",
              "      <td>1.006112</td>\n",
              "    </tr>\n",
              "    <tr>\n",
              "      <th>997</th>\n",
              "      <td>9.97</td>\n",
              "      <td>1.006184</td>\n",
              "    </tr>\n",
              "    <tr>\n",
              "      <th>998</th>\n",
              "      <td>9.98</td>\n",
              "      <td>1.006255</td>\n",
              "    </tr>\n",
              "    <tr>\n",
              "      <th>999</th>\n",
              "      <td>9.99</td>\n",
              "      <td>1.006324</td>\n",
              "    </tr>\n",
              "    <tr>\n",
              "      <th>1000</th>\n",
              "      <td>10.00</td>\n",
              "      <td>1.006392</td>\n",
              "    </tr>\n",
              "  </tbody>\n",
              "</table>\n",
              "<p>1001 rows × 2 columns</p>\n",
              "</div>"
            ],
            "text/plain": [
              "          0         1\n",
              "0      0.00  0.000000\n",
              "1      0.01  0.000000\n",
              "2      0.02  0.000000\n",
              "3      0.03  0.000000\n",
              "4      0.04  0.000000\n",
              "...     ...       ...\n",
              "996    9.96  1.006112\n",
              "997    9.97  1.006184\n",
              "998    9.98  1.006255\n",
              "999    9.99  1.006324\n",
              "1000  10.00  1.006392\n",
              "\n",
              "[1001 rows x 2 columns]"
            ]
          },
          "metadata": {
            "tags": []
          }
        },
        {
          "output_type": "display_data",
          "data": {
            "image/png": "[encoded data removed]",
            "text/plain": [
              "<Figure size 432x288 with 1 Axes>"
            ]
          },
          "metadata": {
            "tags": []
          }
        }
      ]
    },
    {
      "cell_type": "markdown",
      "metadata": {
        "id": "ZVgx91H13vCM",
        "colab_type": "text"
      },
      "source": [
        "### Random signal source"
      ]
    },
    {
      "cell_type": "code",
      "metadata": {
        "id": "0T3IC8fsWpmN",
        "colab_type": "code",
        "colab": {
          "base_uri": "https://localhost:8080/",
          "height": 687
        },
        "outputId": "2218270c-1ea1-46ad-b03d-69c9c472ac01"
      },
      "source": [
        "from random import random as rnd\n",
        "from random import seed\n",
        "def createRandomSignal(startValue = 0, stepValue = 10):\n",
        "  def u(gen):\n",
        "    currentValue = startValue\n",
        "    for (time, value) in gen:\n",
        "      r = 2 * rnd() - 1\n",
        "      yield time, stepValue * r\n",
        "  return u\n",
        "\n",
        "# example of use\n",
        "timeFunc = createTimeGenerator(startTime = 0, endTime = 10, deltaTime = 0.01)\n",
        "rSignal = createRandomSignal()\n",
        "system = createFilter2Order(1, 1, 1, deltaTime)\n",
        "\n",
        "simulation = connect(rSignal, system)\n",
        "plotSignal(simulation(timeFunc()))\n",
        "displaySignal(simulation(timeFunc()))"
      ],
      "execution_count": 208,
      "outputs": [
        {
          "output_type": "display_data",
          "data": {
            "text/html": [
              "<div>\n",
              "<style scoped>\n",
              "    .dataframe tbody tr th:only-of-type {\n",
              "        vertical-align: middle;\n",
              "    }\n",
              "\n",
              "    .dataframe tbody tr th {\n",
              "        vertical-align: top;\n",
              "    }\n",
              "\n",
              "    .dataframe thead th {\n",
              "        text-align: right;\n",
              "    }\n",
              "</style>\n",
              "<table border=\"1\" class=\"dataframe\">\n",
              "  <thead>\n",
              "    <tr style=\"text-align: right;\">\n",
              "      <th></th>\n",
              "      <th>0</th>\n",
              "      <th>1</th>\n",
              "    </tr>\n",
              "  </thead>\n",
              "  <tbody>\n",
              "    <tr>\n",
              "      <th>0</th>\n",
              "      <td>0.00</td>\n",
              "      <td>-0.060388</td>\n",
              "    </tr>\n",
              "    <tr>\n",
              "      <th>1</th>\n",
              "      <td>0.01</td>\n",
              "      <td>-0.116793</td>\n",
              "    </tr>\n",
              "    <tr>\n",
              "      <th>2</th>\n",
              "      <td>0.02</td>\n",
              "      <td>-0.136474</td>\n",
              "    </tr>\n",
              "    <tr>\n",
              "      <th>3</th>\n",
              "      <td>0.03</td>\n",
              "      <td>-0.123020</td>\n",
              "    </tr>\n",
              "    <tr>\n",
              "      <th>4</th>\n",
              "      <td>0.04</td>\n",
              "      <td>-0.142973</td>\n",
              "    </tr>\n",
              "    <tr>\n",
              "      <th>...</th>\n",
              "      <td>...</td>\n",
              "      <td>...</td>\n",
              "    </tr>\n",
              "    <tr>\n",
              "      <th>996</th>\n",
              "      <td>9.96</td>\n",
              "      <td>-0.553334</td>\n",
              "    </tr>\n",
              "    <tr>\n",
              "      <th>997</th>\n",
              "      <td>9.97</td>\n",
              "      <td>-0.584527</td>\n",
              "    </tr>\n",
              "    <tr>\n",
              "      <th>998</th>\n",
              "      <td>9.98</td>\n",
              "      <td>-0.657549</td>\n",
              "    </tr>\n",
              "    <tr>\n",
              "      <th>999</th>\n",
              "      <td>9.99</td>\n",
              "      <td>-0.735168</td>\n",
              "    </tr>\n",
              "    <tr>\n",
              "      <th>1000</th>\n",
              "      <td>10.00</td>\n",
              "      <td>-0.744618</td>\n",
              "    </tr>\n",
              "  </tbody>\n",
              "</table>\n",
              "<p>1001 rows × 2 columns</p>\n",
              "</div>"
            ],
            "text/plain": [
              "          0         1\n",
              "0      0.00 -0.060388\n",
              "1      0.01 -0.116793\n",
              "2      0.02 -0.136474\n",
              "3      0.03 -0.123020\n",
              "4      0.04 -0.142973\n",
              "...     ...       ...\n",
              "996    9.96 -0.553334\n",
              "997    9.97 -0.584527\n",
              "998    9.98 -0.657549\n",
              "999    9.99 -0.735168\n",
              "1000  10.00 -0.744618\n",
              "\n",
              "[1001 rows x 2 columns]"
            ]
          },
          "metadata": {
            "tags": []
          }
        },
        {
          "output_type": "display_data",
          "data": {
            "image/png": "[encoded data removed]",
            "text/plain": [
              "<Figure size 432x288 with 1 Axes>"
            ]
          },
          "metadata": {
            "tags": []
          }
        }
      ]
    },
    {
      "cell_type": "markdown",
      "metadata": {
        "id": "Sn4Ja3gi4N3a",
        "colab_type": "text"
      },
      "source": [
        "## Getting data for training\n",
        "### Signal generation"
      ]
    },
    {
      "cell_type": "code",
      "metadata": {
        "id": "eHt3Zs0a7sbX",
        "colab_type": "code",
        "colab": {
          "base_uri": "https://localhost:8080/",
          "height": 686
        },
        "outputId": "4c02ada2-2913-46fc-e846-9c945e72e245"
      },
      "source": [
        "def createFilteredRandomSignal(endTime = 10):\n",
        "  deltaTime = 0.01\n",
        "  system = connect(\n",
        "  #    createStep(stepTime = 1),\n",
        "      createRandomSignal(10, 1),\n",
        "      createFilter1Order(2, 1, deltaTime)\n",
        "  )\n",
        "\n",
        "  timeFunc = createTimeGenerator(startTime = 0, deltaTime = deltaTime, endTime = endTime)\n",
        "  output = list(system(timeFunc()))\n",
        "  return output\n",
        "\n",
        "#example of use\n",
        "seed(30) # important for deterministic results\n",
        "randomSignal = createFilteredRandomSignal(20)\n",
        "plotSignal(randomSignal)\n",
        "displaySignal(randomSignal)"
      ],
      "execution_count": 209,
      "outputs": [
        {
          "output_type": "display_data",
          "data": {
            "text/html": [
              "<div>\n",
              "<style scoped>\n",
              "    .dataframe tbody tr th:only-of-type {\n",
              "        vertical-align: middle;\n",
              "    }\n",
              "\n",
              "    .dataframe tbody tr th {\n",
              "        vertical-align: top;\n",
              "    }\n",
              "\n",
              "    .dataframe thead th {\n",
              "        text-align: right;\n",
              "    }\n",
              "</style>\n",
              "<table border=\"1\" class=\"dataframe\">\n",
              "  <thead>\n",
              "    <tr style=\"text-align: right;\">\n",
              "      <th></th>\n",
              "      <th>0</th>\n",
              "      <th>1</th>\n",
              "    </tr>\n",
              "  </thead>\n",
              "  <tbody>\n",
              "    <tr>\n",
              "      <th>0</th>\n",
              "      <td>0.00</td>\n",
              "      <td>0.001563</td>\n",
              "    </tr>\n",
              "    <tr>\n",
              "      <th>1</th>\n",
              "      <td>0.01</td>\n",
              "      <td>-0.006885</td>\n",
              "    </tr>\n",
              "    <tr>\n",
              "      <th>2</th>\n",
              "      <td>0.02</td>\n",
              "      <td>-0.025614</td>\n",
              "    </tr>\n",
              "    <tr>\n",
              "      <th>3</th>\n",
              "      <td>0.03</td>\n",
              "      <td>-0.019213</td>\n",
              "    </tr>\n",
              "    <tr>\n",
              "      <th>4</th>\n",
              "      <td>0.04</td>\n",
              "      <td>-0.030620</td>\n",
              "    </tr>\n",
              "    <tr>\n",
              "      <th>...</th>\n",
              "      <td>...</td>\n",
              "      <td>...</td>\n",
              "    </tr>\n",
              "    <tr>\n",
              "      <th>1995</th>\n",
              "      <td>19.95</td>\n",
              "      <td>0.035524</td>\n",
              "    </tr>\n",
              "    <tr>\n",
              "      <th>1996</th>\n",
              "      <td>19.96</td>\n",
              "      <td>0.029857</td>\n",
              "    </tr>\n",
              "    <tr>\n",
              "      <th>1997</th>\n",
              "      <td>19.97</td>\n",
              "      <td>0.034640</td>\n",
              "    </tr>\n",
              "    <tr>\n",
              "      <th>1998</th>\n",
              "      <td>19.98</td>\n",
              "      <td>0.025148</td>\n",
              "    </tr>\n",
              "    <tr>\n",
              "      <th>1999</th>\n",
              "      <td>19.99</td>\n",
              "      <td>0.018310</td>\n",
              "    </tr>\n",
              "  </tbody>\n",
              "</table>\n",
              "<p>2000 rows × 2 columns</p>\n",
              "</div>"
            ],
            "text/plain": [
              "          0         1\n",
              "0      0.00  0.001563\n",
              "1      0.01 -0.006885\n",
              "2      0.02 -0.025614\n",
              "3      0.03 -0.019213\n",
              "4      0.04 -0.030620\n",
              "...     ...       ...\n",
              "1995  19.95  0.035524\n",
              "1996  19.96  0.029857\n",
              "1997  19.97  0.034640\n",
              "1998  19.98  0.025148\n",
              "1999  19.99  0.018310\n",
              "\n",
              "[2000 rows x 2 columns]"
            ]
          },
          "metadata": {
            "tags": []
          }
        },
        {
          "output_type": "display_data",
          "data": {
            "image/png": "[encoded data removed]",
            "text/plain": [
              "<Figure size 432x288 with 1 Axes>"
            ]
          },
          "metadata": {
            "tags": []
          }
        }
      ]
    },
    {
      "cell_type": "markdown",
      "metadata": {
        "id": "r8ceORd66d8a",
        "colab_type": "text"
      },
      "source": [
        "### Data transformation into training set"
      ]
    },
    {
      "cell_type": "code",
      "metadata": {
        "id": "zzUtbjsw6eVV",
        "colab_type": "code",
        "colab": {
          "base_uri": "https://localhost:8080/",
          "height": 704
        },
        "outputId": "c5b333ee-ba07-4f31-d1a8-c41a3262433f"
      },
      "source": [
        "def createWindowFunc(windowSize = 10):\n",
        "  def windowFunc(gen):\n",
        "    bufferT = []\n",
        "    bufferV = []\n",
        "    for time, value in gen:\n",
        "      if len(bufferT) == windowSize:\n",
        "        yield (*bufferT, time, *bufferV, value)\n",
        "      bufferT.append(time)\n",
        "      bufferV.append(value)\n",
        "      if len(bufferT) > windowSize:\n",
        "        bufferT.pop(0)\n",
        "        bufferV.pop(0)\n",
        "  return windowFunc\n",
        "\n",
        "# example of use  \n",
        "windowFunc = createWindowFunc(windowSize = 10)\n",
        "seed(30) # important for deterministic results\n",
        "randomSignal = createFilteredRandomSignal(20)\n",
        "windowedData = list(windowFunc(randomSignal)) #list means store data permanently\n",
        "displaySignal(windowedData)\n",
        "plotSignal(windowedData, x = 0, y = 14)"
      ],
      "execution_count": 210,
      "outputs": [
        {
          "output_type": "display_data",
          "data": {
            "text/html": [
              "<div>\n",
              "<style scoped>\n",
              "    .dataframe tbody tr th:only-of-type {\n",
              "        vertical-align: middle;\n",
              "    }\n",
              "\n",
              "    .dataframe tbody tr th {\n",
              "        vertical-align: top;\n",
              "    }\n",
              "\n",
              "    .dataframe thead th {\n",
              "        text-align: right;\n",
              "    }\n",
              "</style>\n",
              "<table border=\"1\" class=\"dataframe\">\n",
              "  <thead>\n",
              "    <tr style=\"text-align: right;\">\n",
              "      <th></th>\n",
              "      <th>0</th>\n",
              "      <th>1</th>\n",
              "      <th>2</th>\n",
              "      <th>3</th>\n",
              "      <th>4</th>\n",
              "      <th>5</th>\n",
              "      <th>6</th>\n",
              "      <th>7</th>\n",
              "      <th>8</th>\n",
              "      <th>9</th>\n",
              "      <th>10</th>\n",
              "      <th>11</th>\n",
              "      <th>12</th>\n",
              "      <th>13</th>\n",
              "      <th>14</th>\n",
              "      <th>15</th>\n",
              "      <th>16</th>\n",
              "      <th>17</th>\n",
              "      <th>18</th>\n",
              "      <th>19</th>\n",
              "      <th>20</th>\n",
              "      <th>21</th>\n",
              "    </tr>\n",
              "  </thead>\n",
              "  <tbody>\n",
              "    <tr>\n",
              "      <th>0</th>\n",
              "      <td>0.00</td>\n",
              "      <td>0.01</td>\n",
              "      <td>0.02</td>\n",
              "      <td>0.03</td>\n",
              "      <td>0.04</td>\n",
              "      <td>0.05</td>\n",
              "      <td>0.06</td>\n",
              "      <td>0.07</td>\n",
              "      <td>0.08</td>\n",
              "      <td>0.09</td>\n",
              "      <td>0.10</td>\n",
              "      <td>0.001563</td>\n",
              "      <td>-0.006885</td>\n",
              "      <td>-0.025614</td>\n",
              "      <td>-0.019213</td>\n",
              "      <td>-0.030620</td>\n",
              "      <td>-0.040023</td>\n",
              "      <td>-0.043735</td>\n",
              "      <td>-0.037634</td>\n",
              "      <td>-0.017705</td>\n",
              "      <td>-0.019067</td>\n",
              "      <td>0.000863</td>\n",
              "    </tr>\n",
              "    <tr>\n",
              "      <th>1</th>\n",
              "      <td>0.01</td>\n",
              "      <td>0.02</td>\n",
              "      <td>0.03</td>\n",
              "      <td>0.04</td>\n",
              "      <td>0.05</td>\n",
              "      <td>0.06</td>\n",
              "      <td>0.07</td>\n",
              "      <td>0.08</td>\n",
              "      <td>0.09</td>\n",
              "      <td>0.10</td>\n",
              "      <td>0.11</td>\n",
              "      <td>-0.006885</td>\n",
              "      <td>-0.025614</td>\n",
              "      <td>-0.019213</td>\n",
              "      <td>-0.030620</td>\n",
              "      <td>-0.040023</td>\n",
              "      <td>-0.043735</td>\n",
              "      <td>-0.037634</td>\n",
              "      <td>-0.017705</td>\n",
              "      <td>-0.019067</td>\n",
              "      <td>0.000863</td>\n",
              "      <td>0.020557</td>\n",
              "    </tr>\n",
              "    <tr>\n",
              "      <th>2</th>\n",
              "      <td>0.02</td>\n",
              "      <td>0.03</td>\n",
              "      <td>0.04</td>\n",
              "      <td>0.05</td>\n",
              "      <td>0.06</td>\n",
              "      <td>0.07</td>\n",
              "      <td>0.08</td>\n",
              "      <td>0.09</td>\n",
              "      <td>0.10</td>\n",
              "      <td>0.11</td>\n",
              "      <td>0.12</td>\n",
              "      <td>-0.025614</td>\n",
              "      <td>-0.019213</td>\n",
              "      <td>-0.030620</td>\n",
              "      <td>-0.040023</td>\n",
              "      <td>-0.043735</td>\n",
              "      <td>-0.037634</td>\n",
              "      <td>-0.017705</td>\n",
              "      <td>-0.019067</td>\n",
              "      <td>0.000863</td>\n",
              "      <td>0.020557</td>\n",
              "      <td>0.010059</td>\n",
              "    </tr>\n",
              "    <tr>\n",
              "      <th>3</th>\n",
              "      <td>0.03</td>\n",
              "      <td>0.04</td>\n",
              "      <td>0.05</td>\n",
              "      <td>0.06</td>\n",
              "      <td>0.07</td>\n",
              "      <td>0.08</td>\n",
              "      <td>0.09</td>\n",
              "      <td>0.10</td>\n",
              "      <td>0.11</td>\n",
              "      <td>0.12</td>\n",
              "      <td>0.13</td>\n",
              "      <td>-0.019213</td>\n",
              "      <td>-0.030620</td>\n",
              "      <td>-0.040023</td>\n",
              "      <td>-0.043735</td>\n",
              "      <td>-0.037634</td>\n",
              "      <td>-0.017705</td>\n",
              "      <td>-0.019067</td>\n",
              "      <td>0.000863</td>\n",
              "      <td>0.020557</td>\n",
              "      <td>0.010059</td>\n",
              "      <td>-0.007136</td>\n",
              "    </tr>\n",
              "    <tr>\n",
              "      <th>4</th>\n",
              "      <td>0.04</td>\n",
              "      <td>0.05</td>\n",
              "      <td>0.06</td>\n",
              "      <td>0.07</td>\n",
              "      <td>0.08</td>\n",
              "      <td>0.09</td>\n",
              "      <td>0.10</td>\n",
              "      <td>0.11</td>\n",
              "      <td>0.12</td>\n",
              "      <td>0.13</td>\n",
              "      <td>0.14</td>\n",
              "      <td>-0.030620</td>\n",
              "      <td>-0.040023</td>\n",
              "      <td>-0.043735</td>\n",
              "      <td>-0.037634</td>\n",
              "      <td>-0.017705</td>\n",
              "      <td>-0.019067</td>\n",
              "      <td>0.000863</td>\n",
              "      <td>0.020557</td>\n",
              "      <td>0.010059</td>\n",
              "      <td>-0.007136</td>\n",
              "      <td>-0.020669</td>\n",
              "    </tr>\n",
              "    <tr>\n",
              "      <th>...</th>\n",
              "      <td>...</td>\n",
              "      <td>...</td>\n",
              "      <td>...</td>\n",
              "      <td>...</td>\n",
              "      <td>...</td>\n",
              "      <td>...</td>\n",
              "      <td>...</td>\n",
              "      <td>...</td>\n",
              "      <td>...</td>\n",
              "      <td>...</td>\n",
              "      <td>...</td>\n",
              "      <td>...</td>\n",
              "      <td>...</td>\n",
              "      <td>...</td>\n",
              "      <td>...</td>\n",
              "      <td>...</td>\n",
              "      <td>...</td>\n",
              "      <td>...</td>\n",
              "      <td>...</td>\n",
              "      <td>...</td>\n",
              "      <td>...</td>\n",
              "      <td>...</td>\n",
              "    </tr>\n",
              "    <tr>\n",
              "      <th>1985</th>\n",
              "      <td>19.85</td>\n",
              "      <td>19.86</td>\n",
              "      <td>19.87</td>\n",
              "      <td>19.88</td>\n",
              "      <td>19.89</td>\n",
              "      <td>19.90</td>\n",
              "      <td>19.91</td>\n",
              "      <td>19.92</td>\n",
              "      <td>19.93</td>\n",
              "      <td>19.94</td>\n",
              "      <td>19.95</td>\n",
              "      <td>-0.019775</td>\n",
              "      <td>-0.000727</td>\n",
              "      <td>0.012182</td>\n",
              "      <td>-0.005423</td>\n",
              "      <td>-0.016071</td>\n",
              "      <td>-0.004492</td>\n",
              "      <td>-0.000591</td>\n",
              "      <td>0.018376</td>\n",
              "      <td>0.029343</td>\n",
              "      <td>0.042555</td>\n",
              "      <td>0.035524</td>\n",
              "    </tr>\n",
              "    <tr>\n",
              "      <th>1986</th>\n",
              "      <td>19.86</td>\n",
              "      <td>19.87</td>\n",
              "      <td>19.88</td>\n",
              "      <td>19.89</td>\n",
              "      <td>19.90</td>\n",
              "      <td>19.91</td>\n",
              "      <td>19.92</td>\n",
              "      <td>19.93</td>\n",
              "      <td>19.94</td>\n",
              "      <td>19.95</td>\n",
              "      <td>19.96</td>\n",
              "      <td>-0.000727</td>\n",
              "      <td>0.012182</td>\n",
              "      <td>-0.005423</td>\n",
              "      <td>-0.016071</td>\n",
              "      <td>-0.004492</td>\n",
              "      <td>-0.000591</td>\n",
              "      <td>0.018376</td>\n",
              "      <td>0.029343</td>\n",
              "      <td>0.042555</td>\n",
              "      <td>0.035524</td>\n",
              "      <td>0.029857</td>\n",
              "    </tr>\n",
              "    <tr>\n",
              "      <th>1987</th>\n",
              "      <td>19.87</td>\n",
              "      <td>19.88</td>\n",
              "      <td>19.89</td>\n",
              "      <td>19.90</td>\n",
              "      <td>19.91</td>\n",
              "      <td>19.92</td>\n",
              "      <td>19.93</td>\n",
              "      <td>19.94</td>\n",
              "      <td>19.95</td>\n",
              "      <td>19.96</td>\n",
              "      <td>19.97</td>\n",
              "      <td>0.012182</td>\n",
              "      <td>-0.005423</td>\n",
              "      <td>-0.016071</td>\n",
              "      <td>-0.004492</td>\n",
              "      <td>-0.000591</td>\n",
              "      <td>0.018376</td>\n",
              "      <td>0.029343</td>\n",
              "      <td>0.042555</td>\n",
              "      <td>0.035524</td>\n",
              "      <td>0.029857</td>\n",
              "      <td>0.034640</td>\n",
              "    </tr>\n",
              "    <tr>\n",
              "      <th>1988</th>\n",
              "      <td>19.88</td>\n",
              "      <td>19.89</td>\n",
              "      <td>19.90</td>\n",
              "      <td>19.91</td>\n",
              "      <td>19.92</td>\n",
              "      <td>19.93</td>\n",
              "      <td>19.94</td>\n",
              "      <td>19.95</td>\n",
              "      <td>19.96</td>\n",
              "      <td>19.97</td>\n",
              "      <td>19.98</td>\n",
              "      <td>-0.005423</td>\n",
              "      <td>-0.016071</td>\n",
              "      <td>-0.004492</td>\n",
              "      <td>-0.000591</td>\n",
              "      <td>0.018376</td>\n",
              "      <td>0.029343</td>\n",
              "      <td>0.042555</td>\n",
              "      <td>0.035524</td>\n",
              "      <td>0.029857</td>\n",
              "      <td>0.034640</td>\n",
              "      <td>0.025148</td>\n",
              "    </tr>\n",
              "    <tr>\n",
              "      <th>1989</th>\n",
              "      <td>19.89</td>\n",
              "      <td>19.90</td>\n",
              "      <td>19.91</td>\n",
              "      <td>19.92</td>\n",
              "      <td>19.93</td>\n",
              "      <td>19.94</td>\n",
              "      <td>19.95</td>\n",
              "      <td>19.96</td>\n",
              "      <td>19.97</td>\n",
              "      <td>19.98</td>\n",
              "      <td>19.99</td>\n",
              "      <td>-0.016071</td>\n",
              "      <td>-0.004492</td>\n",
              "      <td>-0.000591</td>\n",
              "      <td>0.018376</td>\n",
              "      <td>0.029343</td>\n",
              "      <td>0.042555</td>\n",
              "      <td>0.035524</td>\n",
              "      <td>0.029857</td>\n",
              "      <td>0.034640</td>\n",
              "      <td>0.025148</td>\n",
              "      <td>0.018310</td>\n",
              "    </tr>\n",
              "  </tbody>\n",
              "</table>\n",
              "<p>1990 rows × 22 columns</p>\n",
              "</div>"
            ],
            "text/plain": [
              "         0      1      2      3   ...        18        19        20        21\n",
              "0      0.00   0.01   0.02   0.03  ... -0.037634 -0.017705 -0.019067  0.000863\n",
              "1      0.01   0.02   0.03   0.04  ... -0.017705 -0.019067  0.000863  0.020557\n",
              "2      0.02   0.03   0.04   0.05  ... -0.019067  0.000863  0.020557  0.010059\n",
              "3      0.03   0.04   0.05   0.06  ...  0.000863  0.020557  0.010059 -0.007136\n",
              "4      0.04   0.05   0.06   0.07  ...  0.020557  0.010059 -0.007136 -0.020669\n",
              "...     ...    ...    ...    ...  ...       ...       ...       ...       ...\n",
              "1985  19.85  19.86  19.87  19.88  ...  0.018376  0.029343  0.042555  0.035524\n",
              "1986  19.86  19.87  19.88  19.89  ...  0.029343  0.042555  0.035524  0.029857\n",
              "1987  19.87  19.88  19.89  19.90  ...  0.042555  0.035524  0.029857  0.034640\n",
              "1988  19.88  19.89  19.90  19.91  ...  0.035524  0.029857  0.034640  0.025148\n",
              "1989  19.89  19.90  19.91  19.92  ...  0.029857  0.034640  0.025148  0.018310\n",
              "\n",
              "[1990 rows x 22 columns]"
            ]
          },
          "metadata": {
            "tags": []
          }
        },
        {
          "output_type": "execute_result",
          "data": {
            "text/plain": [
              "<matplotlib.axes._subplots.AxesSubplot at 0x7fa812147fd0>"
            ]
          },
          "metadata": {
            "tags": []
          },
          "execution_count": 210
        },
        {
          "output_type": "display_data",
          "data": {
            "image/png": "[encoded data removed]",
            "text/plain": [
              "<Figure size 432x288 with 1 Axes>"
            ]
          },
          "metadata": {
            "tags": []
          }
        }
      ]
    },
    {
      "cell_type": "code",
      "metadata": {
        "id": "R6UmUQV96nyP",
        "colab_type": "code",
        "colab": {
          "base_uri": "https://localhost:8080/",
          "height": 623
        },
        "outputId": "977d7f73-7329-4a86-83bf-500c88c07de5"
      },
      "source": [
        "def fromOutputToTrain(systemOutput, windowSize = 10):\n",
        "  windowFunc = createWindowFunc(windowSize)\n",
        "  windowOutput = windowFunc(systemOutput)\n",
        "  windowOutputAsDataFrame = pd.DataFrame(windowOutput)\n",
        "  #display(windowOutputAsDataFrame)\n",
        "  fromIndex = windowSize + 1\n",
        "  toIndex = 2 * windowSize + 1\n",
        "  x_df = windowOutputAsDataFrame[range(fromIndex, toIndex)]\n",
        "  y_df = windowOutputAsDataFrame[toIndex]\n",
        "  y_train = y_df.to_numpy() \n",
        "  X_train = x_df.to_numpy()\n",
        "  X_train = np.asarray(np.reshape(X_train, (X_train.shape[0], windowSize, 1)))\n",
        "\n",
        "  return (X_train, y_train)\n",
        "\n",
        "# example of use  \n",
        "seed(30) # important for deterministic results\n",
        "randomSignal = list(createFilteredRandomSignal(20)) #list means store data permanently\n",
        "X, y = fromOutputToTrain(randomSignal, windowSize=10)\n",
        "display(X[:3])\n",
        "display(y[:3])\n",
        "#plotSignal(windowedData, x = 0, y = 14)  "
      ],
      "execution_count": 211,
      "outputs": [
        {
          "output_type": "display_data",
          "data": {
            "text/plain": [
              "array([[[ 0.00156326],\n",
              "        [-0.00688451],\n",
              "        [-0.02561419],\n",
              "        [-0.01921262],\n",
              "        [-0.03062014],\n",
              "        [-0.04002286],\n",
              "        [-0.04373471],\n",
              "        [-0.03763423],\n",
              "        [-0.01770544],\n",
              "        [-0.01906707]],\n",
              "\n",
              "       [[-0.00688451],\n",
              "        [-0.02561419],\n",
              "        [-0.01921262],\n",
              "        [-0.03062014],\n",
              "        [-0.04002286],\n",
              "        [-0.04373471],\n",
              "        [-0.03763423],\n",
              "        [-0.01770544],\n",
              "        [-0.01906707],\n",
              "        [ 0.000863  ]],\n",
              "\n",
              "       [[-0.02561419],\n",
              "        [-0.01921262],\n",
              "        [-0.03062014],\n",
              "        [-0.04002286],\n",
              "        [-0.04373471],\n",
              "        [-0.03763423],\n",
              "        [-0.01770544],\n",
              "        [-0.01906707],\n",
              "        [ 0.000863  ],\n",
              "        [ 0.02055725]]])"
            ]
          },
          "metadata": {
            "tags": []
          }
        },
        {
          "output_type": "display_data",
          "data": {
            "text/plain": [
              "array([0.000863  , 0.02055725, 0.0100587 ])"
            ]
          },
          "metadata": {
            "tags": []
          }
        }
      ]
    },
    {
      "cell_type": "code",
      "metadata": {
        "id": "FYXABMajj7Gb",
        "colab_type": "code",
        "colab": {
          "base_uri": "https://localhost:8080/",
          "height": 1000
        },
        "outputId": "58343240-2a23-48c5-c457-d252423184c7"
      },
      "source": [
        "windowSize = 10\n",
        "\n",
        "system2 = connect(\n",
        "#    system,\n",
        "    createRandomSignal(10, 1),\n",
        "    createFilter2Order(1, 1, 1, deltaTime = deltaTime)\n",
        ")\n",
        "timeFunc = createTimeGenerator(startTime = 0, deltaTime = deltaTime, endTime = 10)\n",
        "output2 = list(system2(timeFunc()))\n",
        "seed(30)\n",
        "df = pd.DataFrame(output2) # data to Pandas dataframe\n",
        "df.plot.line(x=0, y=1) # plot timeline\n",
        "\n",
        "window = createWindowFunc(windowSize = windowSize) # function for transformation to samples\n",
        "output3 = list(window(output2)) # samples\n",
        "df3 = pd.DataFrame(output3) # to dataframe\n",
        "\n",
        "df3.plot.line(x=0,y=[11,16,21])\n",
        "\n",
        "x_df = df3[range(11,21)] # select subdataframe (eg. submatrix)\n",
        "y_df = df3[21] # select subdataframe (eg. submatrix)\n",
        "\n",
        "#print(output3[0])\n",
        "#display(df3.to_numpy())\n",
        "display(df3.head())\n",
        "display(y_df.head())\n",
        "display(x_df.head())\n",
        "\n",
        "#training data\n",
        "y_train = y_df.to_numpy() \n",
        "X_train = x_df.to_numpy()\n",
        "X_train = np.asarray(np.reshape(X_train, (X_train.shape[0], windowSize, 1)))"
      ],
      "execution_count": 212,
      "outputs": [
        {
          "output_type": "display_data",
          "data": {
            "text/html": [
              "<div>\n",
              "<style scoped>\n",
              "    .dataframe tbody tr th:only-of-type {\n",
              "        vertical-align: middle;\n",
              "    }\n",
              "\n",
              "    .dataframe tbody tr th {\n",
              "        vertical-align: top;\n",
              "    }\n",
              "\n",
              "    .dataframe thead th {\n",
              "        text-align: right;\n",
              "    }\n",
              "</style>\n",
              "<table border=\"1\" class=\"dataframe\">\n",
              "  <thead>\n",
              "    <tr style=\"text-align: right;\">\n",
              "      <th></th>\n",
              "      <th>0</th>\n",
              "      <th>1</th>\n",
              "      <th>2</th>\n",
              "      <th>3</th>\n",
              "      <th>4</th>\n",
              "      <th>5</th>\n",
              "      <th>6</th>\n",
              "      <th>7</th>\n",
              "      <th>8</th>\n",
              "      <th>9</th>\n",
              "      <th>10</th>\n",
              "      <th>11</th>\n",
              "      <th>12</th>\n",
              "      <th>13</th>\n",
              "      <th>14</th>\n",
              "      <th>15</th>\n",
              "      <th>16</th>\n",
              "      <th>17</th>\n",
              "      <th>18</th>\n",
              "      <th>19</th>\n",
              "      <th>20</th>\n",
              "      <th>21</th>\n",
              "    </tr>\n",
              "  </thead>\n",
              "  <tbody>\n",
              "    <tr>\n",
              "      <th>0</th>\n",
              "      <td>0.00</td>\n",
              "      <td>0.01</td>\n",
              "      <td>0.02</td>\n",
              "      <td>0.03</td>\n",
              "      <td>0.04</td>\n",
              "      <td>0.05</td>\n",
              "      <td>0.06</td>\n",
              "      <td>0.07</td>\n",
              "      <td>0.08</td>\n",
              "      <td>0.09</td>\n",
              "      <td>0.10</td>\n",
              "      <td>0.001981</td>\n",
              "      <td>0.005565</td>\n",
              "      <td>0.000846</td>\n",
              "      <td>-0.006367</td>\n",
              "      <td>-0.010366</td>\n",
              "      <td>-0.010995</td>\n",
              "      <td>-0.010538</td>\n",
              "      <td>-0.012108</td>\n",
              "      <td>-0.004005</td>\n",
              "      <td>0.005065</td>\n",
              "      <td>0.009449</td>\n",
              "    </tr>\n",
              "    <tr>\n",
              "      <th>1</th>\n",
              "      <td>0.01</td>\n",
              "      <td>0.02</td>\n",
              "      <td>0.03</td>\n",
              "      <td>0.04</td>\n",
              "      <td>0.05</td>\n",
              "      <td>0.06</td>\n",
              "      <td>0.07</td>\n",
              "      <td>0.08</td>\n",
              "      <td>0.09</td>\n",
              "      <td>0.10</td>\n",
              "      <td>0.11</td>\n",
              "      <td>0.005565</td>\n",
              "      <td>0.000846</td>\n",
              "      <td>-0.006367</td>\n",
              "      <td>-0.010366</td>\n",
              "      <td>-0.010995</td>\n",
              "      <td>-0.010538</td>\n",
              "      <td>-0.012108</td>\n",
              "      <td>-0.004005</td>\n",
              "      <td>0.005065</td>\n",
              "      <td>0.009449</td>\n",
              "      <td>0.004498</td>\n",
              "    </tr>\n",
              "    <tr>\n",
              "      <th>2</th>\n",
              "      <td>0.02</td>\n",
              "      <td>0.03</td>\n",
              "      <td>0.04</td>\n",
              "      <td>0.05</td>\n",
              "      <td>0.06</td>\n",
              "      <td>0.07</td>\n",
              "      <td>0.08</td>\n",
              "      <td>0.09</td>\n",
              "      <td>0.10</td>\n",
              "      <td>0.11</td>\n",
              "      <td>0.12</td>\n",
              "      <td>0.000846</td>\n",
              "      <td>-0.006367</td>\n",
              "      <td>-0.010366</td>\n",
              "      <td>-0.010995</td>\n",
              "      <td>-0.010538</td>\n",
              "      <td>-0.012108</td>\n",
              "      <td>-0.004005</td>\n",
              "      <td>0.005065</td>\n",
              "      <td>0.009449</td>\n",
              "      <td>0.004498</td>\n",
              "      <td>0.005965</td>\n",
              "    </tr>\n",
              "    <tr>\n",
              "      <th>3</th>\n",
              "      <td>0.03</td>\n",
              "      <td>0.04</td>\n",
              "      <td>0.05</td>\n",
              "      <td>0.06</td>\n",
              "      <td>0.07</td>\n",
              "      <td>0.08</td>\n",
              "      <td>0.09</td>\n",
              "      <td>0.10</td>\n",
              "      <td>0.11</td>\n",
              "      <td>0.12</td>\n",
              "      <td>0.13</td>\n",
              "      <td>-0.006367</td>\n",
              "      <td>-0.010366</td>\n",
              "      <td>-0.010995</td>\n",
              "      <td>-0.010538</td>\n",
              "      <td>-0.012108</td>\n",
              "      <td>-0.004005</td>\n",
              "      <td>0.005065</td>\n",
              "      <td>0.009449</td>\n",
              "      <td>0.004498</td>\n",
              "      <td>0.005965</td>\n",
              "      <td>0.015792</td>\n",
              "    </tr>\n",
              "    <tr>\n",
              "      <th>4</th>\n",
              "      <td>0.04</td>\n",
              "      <td>0.05</td>\n",
              "      <td>0.06</td>\n",
              "      <td>0.07</td>\n",
              "      <td>0.08</td>\n",
              "      <td>0.09</td>\n",
              "      <td>0.10</td>\n",
              "      <td>0.11</td>\n",
              "      <td>0.12</td>\n",
              "      <td>0.13</td>\n",
              "      <td>0.14</td>\n",
              "      <td>-0.010366</td>\n",
              "      <td>-0.010995</td>\n",
              "      <td>-0.010538</td>\n",
              "      <td>-0.012108</td>\n",
              "      <td>-0.004005</td>\n",
              "      <td>0.005065</td>\n",
              "      <td>0.009449</td>\n",
              "      <td>0.004498</td>\n",
              "      <td>0.005965</td>\n",
              "      <td>0.015792</td>\n",
              "      <td>0.014973</td>\n",
              "    </tr>\n",
              "  </tbody>\n",
              "</table>\n",
              "</div>"
            ],
            "text/plain": [
              "     0     1     2     3   ...        18        19        20        21\n",
              "0  0.00  0.01  0.02  0.03  ... -0.012108 -0.004005  0.005065  0.009449\n",
              "1  0.01  0.02  0.03  0.04  ... -0.004005  0.005065  0.009449  0.004498\n",
              "2  0.02  0.03  0.04  0.05  ...  0.005065  0.009449  0.004498  0.005965\n",
              "3  0.03  0.04  0.05  0.06  ...  0.009449  0.004498  0.005965  0.015792\n",
              "4  0.04  0.05  0.06  0.07  ...  0.004498  0.005965  0.015792  0.014973\n",
              "\n",
              "[5 rows x 22 columns]"
            ]
          },
          "metadata": {
            "tags": []
          }
        },
        {
          "output_type": "display_data",
          "data": {
            "text/plain": [
              "0    0.009449\n",
              "1    0.004498\n",
              "2    0.005965\n",
              "3    0.015792\n",
              "4    0.014973\n",
              "Name: 21, dtype: float64"
            ]
          },
          "metadata": {
            "tags": []
          }
        },
        {
          "output_type": "display_data",
          "data": {
            "text/html": [
              "<div>\n",
              "<style scoped>\n",
              "    .dataframe tbody tr th:only-of-type {\n",
              "        vertical-align: middle;\n",
              "    }\n",
              "\n",
              "    .dataframe tbody tr th {\n",
              "        vertical-align: top;\n",
              "    }\n",
              "\n",
              "    .dataframe thead th {\n",
              "        text-align: right;\n",
              "    }\n",
              "</style>\n",
              "<table border=\"1\" class=\"dataframe\">\n",
              "  <thead>\n",
              "    <tr style=\"text-align: right;\">\n",
              "      <th></th>\n",
              "      <th>11</th>\n",
              "      <th>12</th>\n",
              "      <th>13</th>\n",
              "      <th>14</th>\n",
              "      <th>15</th>\n",
              "      <th>16</th>\n",
              "      <th>17</th>\n",
              "      <th>18</th>\n",
              "      <th>19</th>\n",
              "      <th>20</th>\n",
              "    </tr>\n",
              "  </thead>\n",
              "  <tbody>\n",
              "    <tr>\n",
              "      <th>0</th>\n",
              "      <td>0.001981</td>\n",
              "      <td>0.005565</td>\n",
              "      <td>0.000846</td>\n",
              "      <td>-0.006367</td>\n",
              "      <td>-0.010366</td>\n",
              "      <td>-0.010995</td>\n",
              "      <td>-0.010538</td>\n",
              "      <td>-0.012108</td>\n",
              "      <td>-0.004005</td>\n",
              "      <td>0.005065</td>\n",
              "    </tr>\n",
              "    <tr>\n",
              "      <th>1</th>\n",
              "      <td>0.005565</td>\n",
              "      <td>0.000846</td>\n",
              "      <td>-0.006367</td>\n",
              "      <td>-0.010366</td>\n",
              "      <td>-0.010995</td>\n",
              "      <td>-0.010538</td>\n",
              "      <td>-0.012108</td>\n",
              "      <td>-0.004005</td>\n",
              "      <td>0.005065</td>\n",
              "      <td>0.009449</td>\n",
              "    </tr>\n",
              "    <tr>\n",
              "      <th>2</th>\n",
              "      <td>0.000846</td>\n",
              "      <td>-0.006367</td>\n",
              "      <td>-0.010366</td>\n",
              "      <td>-0.010995</td>\n",
              "      <td>-0.010538</td>\n",
              "      <td>-0.012108</td>\n",
              "      <td>-0.004005</td>\n",
              "      <td>0.005065</td>\n",
              "      <td>0.009449</td>\n",
              "      <td>0.004498</td>\n",
              "    </tr>\n",
              "    <tr>\n",
              "      <th>3</th>\n",
              "      <td>-0.006367</td>\n",
              "      <td>-0.010366</td>\n",
              "      <td>-0.010995</td>\n",
              "      <td>-0.010538</td>\n",
              "      <td>-0.012108</td>\n",
              "      <td>-0.004005</td>\n",
              "      <td>0.005065</td>\n",
              "      <td>0.009449</td>\n",
              "      <td>0.004498</td>\n",
              "      <td>0.005965</td>\n",
              "    </tr>\n",
              "    <tr>\n",
              "      <th>4</th>\n",
              "      <td>-0.010366</td>\n",
              "      <td>-0.010995</td>\n",
              "      <td>-0.010538</td>\n",
              "      <td>-0.012108</td>\n",
              "      <td>-0.004005</td>\n",
              "      <td>0.005065</td>\n",
              "      <td>0.009449</td>\n",
              "      <td>0.004498</td>\n",
              "      <td>0.005965</td>\n",
              "      <td>0.015792</td>\n",
              "    </tr>\n",
              "  </tbody>\n",
              "</table>\n",
              "</div>"
            ],
            "text/plain": [
              "         11        12        13  ...        18        19        20\n",
              "0  0.001981  0.005565  0.000846  ... -0.012108 -0.004005  0.005065\n",
              "1  0.005565  0.000846 -0.006367  ... -0.004005  0.005065  0.009449\n",
              "2  0.000846 -0.006367 -0.010366  ...  0.005065  0.009449  0.004498\n",
              "3 -0.006367 -0.010366 -0.010995  ...  0.009449  0.004498  0.005965\n",
              "4 -0.010366 -0.010995 -0.010538  ...  0.004498  0.005965  0.015792\n",
              "\n",
              "[5 rows x 10 columns]"
            ]
          },
          "metadata": {
            "tags": []
          }
        },
        {
          "output_type": "display_data",
          "data": {
            "image/png": "[encoded data removed]",
            "text/plain": [
              "<Figure size 432x288 with 1 Axes>"
            ]
          },
          "metadata": {
            "tags": []
          }
        },
        {
          "output_type": "display_data",
          "data": {
            "image/png": "[encoded data removed]",
            "text/plain": [
              "<Figure size 432x288 with 1 Axes>"
            ]
          },
          "metadata": {
            "tags": []
          }
        }
      ]
    },
    {
      "cell_type": "markdown",
      "metadata": {
        "id": "LjasABg7EClB",
        "colab_type": "text"
      },
      "source": [
        "### Training RNN"
      ]
    },
    {
      "cell_type": "code",
      "metadata": {
        "id": "m_zacgu7qnWi",
        "colab_type": "code",
        "colab": {}
      },
      "source": [
        "import numpy as np\n",
        "\n",
        "import tensorflow as tf\n",
        "\n",
        "from keras.models import Sequential\n",
        "from keras.layers import Dense, Activation\n",
        "from keras.layers import LSTM\n",
        "\n",
        "def createNNModel(signal, windowSize):\n",
        "    model = tf.keras.Sequential()\n",
        "    model.add(tf.keras.layers.LSTM(units=5, input_shape=(windowSize, 1)))\n",
        "    model.add(tf.keras.layers.Dense(units=1))\n",
        "    \n",
        "    optimizer = tf.keras.optimizers.RMSprop(lr=0.001, rho=0.9, epsilon=1e-08, decay=0.0)\n",
        "    model.compile(loss='mean_squared_error', optimizer=optimizer)\n",
        "\n",
        "    X, y = fromOutputToTrain(signal, windowSize=10)\n",
        "    model.fit(X_train, y_train, epochs=1000, batch_size=50, verbose=0)\n",
        "    return model\n",
        "\"\"\"\n",
        "# and window-size into a set of input/output pairs for use with our RNN model\n",
        "def window_transform_series(series, window_size):\n",
        "    # containers for input/output pairs\n",
        "    X = [series[i:i + window_size] for i in range(len(series) - window_size)]\n",
        "    y = series[window_size:]\n",
        "\n",
        "    # reshape each \n",
        "    X = np.asarray(X)\n",
        "    X.shape = (np.shape(X)[0:2])\n",
        "    y = np.asarray(y)\n",
        "    y.shape = (len(y), 1)\n",
        "\n",
        "    return X, y\n",
        "\n",
        "\n",
        "# TODO: build an RNN to perform regression on our time series input/output data\n",
        "def buildRNN(window_size):\n",
        "    model = tf.keras.Sequential()\n",
        "    model.add(tf.keras.layers.LSTM(units=5, input_shape=(window_size, 1)))\n",
        "    model.add(tf.keras.layers.Dense(units=1))\n",
        "    return model\n",
        "\n",
        "def old():\n",
        "    output2a = list(map(lambda item: item[0], output2))\n",
        "    print(output2a)\n",
        "    #print(window_transform_series(output2a, windowSize))\n",
        "    model = buildRNN(windowSize)\n",
        "    optimizer = tf.keras.optimizers.RMSprop(lr=0.001, rho=0.9, epsilon=1e-08, decay=0.0)\n",
        "    model.compile(loss='mean_squared_error', optimizer=optimizer)\n",
        "    model.fit(X_train, y_train, epochs=1000, batch_size=50, verbose=0)\n",
        "\n",
        "    return model\n",
        "\"\"\"\n",
        "\n",
        "# example of use    \n",
        "seed(30) # important for deterministic results\n",
        "randomSignal = list(createFilteredRandomSignal(20)) #list means store data permanently\n",
        "model = createNNModel(randomSignal, windowSize = 10)"
      ],
      "execution_count": 0,
      "outputs": []
    },
    {
      "cell_type": "markdown",
      "metadata": {
        "id": "LxxSUiHJG7GS",
        "colab_type": "text"
      },
      "source": [
        "### RNN use"
      ]
    },
    {
      "cell_type": "code",
      "metadata": {
        "id": "KKU-TwU2G7YR",
        "colab_type": "code",
        "colab": {}
      },
      "source": [
        "seed(30) # important for deterministic results\n",
        "randomSignalExtended = list(createFilteredRandomSignal(30)) #list means store data permanently\n",
        "X_test, y_test = fromOutputToTrain(randomSignalExtended, windowSize)\n",
        "\n",
        "testing_error = model.evaluate(X_test, y_test, verbose=0)\n",
        "print('testing error = ' + str(testing_error))\n",
        "\n",
        "test_predict = model.predict(X_test)\n",
        "#display(test_predict)\n",
        "plt.plot(y_test, 'r-')\n",
        "plt.plot(test_predict, 'g-')\n",
        "plt.grid(which='both')\n",
        "plt.show()\n"
      ],
      "execution_count": 0,
      "outputs": []
    },
    {
      "cell_type": "code",
      "metadata": {
        "id": "T10FT0T0RNL2",
        "colab_type": "code",
        "colab": {}
      },
      "source": [
        "# for some reason this is quite slow\n",
        "def createFortuneTeller(model, windowSize):\n",
        "  def fortuneTeller(g):\n",
        "    buffer = []\n",
        "    for time, value in g:\n",
        "      buffer.append([value])\n",
        "      if len(buffer) < windowSize:\n",
        "        yield time, value\n",
        "      else:\n",
        "        nextValue = model.predict([buffer])\n",
        "        yield time, nextValue[0][0]\n",
        "        buffer.pop(0)\n",
        "  return fortuneTeller\n",
        "  \n",
        "seed(30) # important for deterministic results\n",
        "randomSignalExtended = list(createFilteredRandomSignal(30)) #list means store data permanently\n",
        "predictiveSystem = createFortuneTeller(model = model, windowSize = 10)\n",
        "predictedSignal = list(predictiveSystem(randomSignalExtended))\n",
        "plotSignal(predictedSignal)\n",
        "#displaySignal(predictedSignal)\n"
      ],
      "execution_count": 0,
      "outputs": []
    },
    {
      "cell_type": "code",
      "metadata": {
        "id": "Bn2ItvT9Rop9",
        "colab_type": "code",
        "colab": {
          "base_uri": "https://localhost:8080/",
          "height": 686
        },
        "outputId": "ee33740b-3b64-4bb7-aebd-f4e015e23ecb"
      },
      "source": [
        "# for some reason this is quite slow\n",
        "def createFarFortuneTeller(model, windowSize, selfPredictionSize = 5):\n",
        "  def fortuneTeller(g):\n",
        "    buffer = []\n",
        "    bufferT = []\n",
        "    selfPredicted = []\n",
        "    selfPredictedT = []\n",
        "    cnt = -1\n",
        "    for time, value in g:\n",
        "      buffer.append([value])\n",
        "      bufferT.append(time)\n",
        "      if len(buffer) < windowSize:\n",
        "        yield time, value\n",
        "      else:\n",
        "        #dataFeed = [*buffer, *selfPredicted]\n",
        "        lastItemfromBuffer = (windowSize - len(selfPredicted))\n",
        "        dataFeed = buffer[lastItemfromBuffer:] + selfPredicted\n",
        "        dataFeed = list(dataFeed)\n",
        "        #print(dataFeed)\n",
        "        print('buffer:', buffer)\n",
        "        print('bufferT:', bufferT)\n",
        "        print('selfPredicted:', selfPredicted)\n",
        "        print('selfPredictedT:', selfPredictedT)\n",
        "        cnt = cnt + 1\n",
        "        if cnt > windowSize + selfPredictionSize:\n",
        "          break\n",
        "        nextValue = model.predict([dataFeed])[0][0]\n",
        "        yield time, nextValue\n",
        "        selfPredicted.append([nextValue])\n",
        "        selfPredictedT.append(time)\n",
        "        if len(selfPredicted) > selfPredictionSize:\n",
        "          selfPredicted.pop(0)\n",
        "          selfPredictedT.pop(0)\n",
        "        buffer.pop(0)\n",
        "        bufferT.pop(0)\n",
        "\n",
        "  return fortuneTeller\n",
        "  \n",
        "seed(30) # important for deterministic results\n",
        "randomSignalExtended = list(createFilteredRandomSignal(30)) #list means store data permanently\n",
        "predictiveSystem = createFarFortuneTeller(model = model, windowSize = 10, selfPredictionSize = 0)\n",
        "predictedSignal = list(predictiveSystem(randomSignalExtended))\n",
        "ax = plotSignal(randomSignalExtended)\n",
        "plotSignal(predictedSignal, ax = ax)\n",
        "displaySignal(predictedSignal)"
      ],
      "execution_count": 200,
      "outputs": [
        {
          "output_type": "display_data",
          "data": {
            "text/html": [
              "<div>\n",
              "<style scoped>\n",
              "    .dataframe tbody tr th:only-of-type {\n",
              "        vertical-align: middle;\n",
              "    }\n",
              "\n",
              "    .dataframe tbody tr th {\n",
              "        vertical-align: top;\n",
              "    }\n",
              "\n",
              "    .dataframe thead th {\n",
              "        text-align: right;\n",
              "    }\n",
              "</style>\n",
              "<table border=\"1\" class=\"dataframe\">\n",
              "  <thead>\n",
              "    <tr style=\"text-align: right;\">\n",
              "      <th></th>\n",
              "      <th>0</th>\n",
              "      <th>1</th>\n",
              "    </tr>\n",
              "  </thead>\n",
              "  <tbody>\n",
              "    <tr>\n",
              "      <th>0</th>\n",
              "      <td>0.00</td>\n",
              "      <td>0.001563</td>\n",
              "    </tr>\n",
              "    <tr>\n",
              "      <th>1</th>\n",
              "      <td>0.01</td>\n",
              "      <td>-0.006885</td>\n",
              "    </tr>\n",
              "    <tr>\n",
              "      <th>2</th>\n",
              "      <td>0.02</td>\n",
              "      <td>-0.025614</td>\n",
              "    </tr>\n",
              "    <tr>\n",
              "      <th>3</th>\n",
              "      <td>0.03</td>\n",
              "      <td>-0.019213</td>\n",
              "    </tr>\n",
              "    <tr>\n",
              "      <th>4</th>\n",
              "      <td>0.04</td>\n",
              "      <td>-0.030620</td>\n",
              "    </tr>\n",
              "    <tr>\n",
              "      <th>...</th>\n",
              "      <td>...</td>\n",
              "      <td>...</td>\n",
              "    </tr>\n",
              "    <tr>\n",
              "      <th>114</th>\n",
              "      <td>1.14</td>\n",
              "      <td>0.059600</td>\n",
              "    </tr>\n",
              "    <tr>\n",
              "      <th>115</th>\n",
              "      <td>1.15</td>\n",
              "      <td>0.070029</td>\n",
              "    </tr>\n",
              "    <tr>\n",
              "      <th>116</th>\n",
              "      <td>1.16</td>\n",
              "      <td>0.073933</td>\n",
              "    </tr>\n",
              "    <tr>\n",
              "      <th>117</th>\n",
              "      <td>1.17</td>\n",
              "      <td>0.089606</td>\n",
              "    </tr>\n",
              "    <tr>\n",
              "      <th>118</th>\n",
              "      <td>1.18</td>\n",
              "      <td>0.082184</td>\n",
              "    </tr>\n",
              "  </tbody>\n",
              "</table>\n",
              "<p>119 rows × 2 columns</p>\n",
              "</div>"
            ],
            "text/plain": [
              "        0         1\n",
              "0    0.00  0.001563\n",
              "1    0.01 -0.006885\n",
              "2    0.02 -0.025614\n",
              "3    0.03 -0.019213\n",
              "4    0.04 -0.030620\n",
              "..    ...       ...\n",
              "114  1.14  0.059600\n",
              "115  1.15  0.070029\n",
              "116  1.16  0.073933\n",
              "117  1.17  0.089606\n",
              "118  1.18  0.082184\n",
              "\n",
              "[119 rows x 2 columns]"
            ]
          },
          "metadata": {
            "tags": []
          }
        },
        {
          "output_type": "display_data",
          "data": {
            "image/png": "[encoded data removed]",
            "text/plain": [
              "<Figure size 432x288 with 1 Axes>"
            ]
          },
          "metadata": {
            "tags": []
          }
        }
      ]
    },
    {
      "cell_type": "code",
      "metadata": {
        "id": "ms8zAf_IuVkS",
        "colab_type": "code",
        "colab": {
          "base_uri": "https://localhost:8080/",
          "height": 320
        },
        "outputId": "5a31099e-3846-4ea0-8991-134a47a4b0e4"
      },
      "source": [
        "training_error = model.evaluate(X_train, y_train, verbose=0)\n",
        "print('training error = ' + str(training_error))\n",
        "\n",
        "def fromOutputToTrain(systemOutput, windowSize = 10):\n",
        "  windowFunc = createWindowFunc(windowSize)\n",
        "  windowOutput = windowFunc(systemOutput)\n",
        "  windowOutputAsDataFrame = pd.DataFrame(windowOutput)\n",
        "  #display(windowOutputAsDataFrame)\n",
        "  fromIndex = windowSize + 1\n",
        "  toIndex = 2 * windowSize + 1\n",
        "  x_df = windowOutputAsDataFrame[range(fromIndex, toIndex)]\n",
        "  y_df = windowOutputAsDataFrame[toIndex]\n",
        "  y_train = y_df.to_numpy() \n",
        "  X_train = x_df.to_numpy()\n",
        "  X_train = np.asarray(np.reshape(X_train, (X_train.shape[0], windowSize, 1)))\n",
        "\n",
        "  return (X_train, y_train)\n",
        "\n",
        "X_train, y_train = fromOutputToTrain(output2, windowSize)\n",
        "\n",
        "#display(y_train)\n",
        "#display(X_train)\n",
        "\n",
        "system3 = connect(\n",
        "#    system,\n",
        "    createRandomSignal(10, 1),\n",
        "    createFilter2Order(1, 1, 1, deltaTime = deltaTime)\n",
        ")\n",
        "timeFunc = createTimeGenerator(startTime = 0, deltaTime = deltaTime, endTime = 30)\n",
        "seed(30)\n",
        "output3 = list(system3(timeFunc()))\n",
        "X_test, y_test = fromOutputToTrain(output3, windowSize)\n",
        "\n",
        "\n",
        "print(len(output3),len(X_test))\n",
        "\n",
        "testing_error = model.evaluate(X_test, y_test, verbose=0)\n",
        "print('testing error = ' + str(testing_error))\n",
        "\n",
        "test_predict = model.predict(X_test)\n",
        "#display(test_predict)\n",
        "plt.plot(y_test, 'r-')\n",
        "plt.plot(test_predict, 'g-')\n",
        "plt.grid(which='both')\n",
        "#pd.DataFrame(output3)#.tail()"
      ],
      "execution_count": 104,
      "outputs": [
        {
          "output_type": "stream",
          "text": [
            "training error = 3.6195986467646435e-05\n",
            "3000 2990\n",
            "testing error = 3.643751551862806e-05\n"
          ],
          "name": "stdout"
        },
        {
          "output_type": "display_data",
          "data": {
            "image/png": "[encoded data removed]",
            "text/plain": [
              "<Figure size 432x288 with 1 Axes>"
            ]
          },
          "metadata": {
            "tags": []
          }
        }
      ]
    }
  ]
}