{
  "nbformat": 4,
  "nbformat_minor": 0,
  "metadata": {
    "colab": {
      "name": "FuzzyLogic.ipynb",
      "provenance": [],
      "authorship_tag": "ABX9TyP1iqoPdkUa0PgrtPGxz65d",
      "include_colab_link": true
    },
    "kernelspec": {
      "name": "python3",
      "display_name": "Python 3"
    },
    "language_info": {
      "name": "python"
    }
  },
  "cells": [
    {
      "cell_type": "markdown",
      "metadata": {
        "id": "view-in-github",
        "colab_type": "text"
      },
      "source": [
        "<a href=\"https://colab.research.google.com/github/hrbolek/learning/blob/master/%20learning/operanalyst/fuzzylogic.ipynb\" target=\"_parent\"><img src=\"https://colab.research.google.com/assets/colab-badge.svg\" alt=\"Open In Colab\"/></a>"
      ]
    },
    {
      "cell_type": "markdown",
      "metadata": {
        "id": "u94MT4BsoDrs"
      },
      "source": [
        "# Fuzzy logické systémy"
      ]
    },
    {
      "cell_type": "markdown",
      "metadata": {
        "id": "atM72xd1tX1K"
      },
      "source": [
        "> **Doporučené video**\n",
        "> \n",
        "> [Machine Intelligence - Lecture 17 (Fuzzy Logic, Fuzzy Inference) 1h 22min](https://www.youtube.com/watch?v=TReelsVxWxg)"
      ]
    },
    {
      "cell_type": "markdown",
      "metadata": {
        "id": "iSV4v3-GoIMV"
      },
      "source": [
        "## Booleova algebra"
      ]
    },
    {
      "cell_type": "markdown",
      "metadata": {
        "id": "u0zo4esKpFA4"
      },
      "source": [
        "Booleova algebra předpokládá, že každý výrok je buď pravdivý nebo nepravdivý.\n",
        "Číslo X je buď rovno 0 nebo není. Žádné \"mezihodnoty\" neexistují.\n",
        "\n",
        "Možné logické proměnné jsou tedy `True` a `False`"
      ]
    },
    {
      "cell_type": "markdown",
      "metadata": {
        "id": "X9FbRYBzoMik"
      },
      "source": [
        "Pravdivostní tabulka pro operátor AND\n",
        "\n",
        "| X | Y | (X and Y)|\n",
        "|:-:|:-:|:----:|\n",
        "| 0 | 0 |   0  |\n",
        "| 0 | 1 |   0  |\n",
        "| 1 | 0 |   0  |\n",
        "| 1 | 1 |   1  |\n",
        "\n",
        "Pravdivostní tabulka pro operátor OR\n",
        "\n",
        "| X | Y | (X or Y)|\n",
        "|:-:|:-:|:----:|\n",
        "| 0 | 0 |   0  |\n",
        "| 0 | 1 |   1  |\n",
        "| 1 | 0 |   1  |\n",
        "| 1 | 1 |   1  |\n"
      ]
    },
    {
      "cell_type": "code",
      "metadata": {
        "id": "5Yt80g5cqbpL"
      },
      "source": [
        "def createBoolTest(trueValue, falseValue):\n",
        "    def test(func):\n",
        "        print(func)\n",
        "        print('True\\tTrue\\t', func(trueValue)(trueValue) == trueValue)\n",
        "        print('False\\tTrue\\t', func(falseValue)(trueValue) == trueValue)\n",
        "        print('True\\tFalse\\t', func(trueValue)(falseValue) == trueValue)\n",
        "        print('False\\tFalse\\t', func(falseValue)(falseValue) == trueValue)\n",
        "    return test"
      ],
      "execution_count": 2,
      "outputs": []
    },
    {
      "cell_type": "code",
      "metadata": {
        "colab": {
          "base_uri": "https://localhost:8080/"
        },
        "id": "YmzPJILDqrTm",
        "outputId": "32aed809-0af2-4565-9516-8a5af424eef1"
      },
      "source": [
        "boolTest = createBoolTest(True, False)\n",
        "def And(a):\n",
        "    def AndAnd(b):\n",
        "        return a & b\n",
        "    return AndAnd\n",
        "\n",
        "def Or(a):\n",
        "    def OrOr(b):\n",
        "        return a | b\n",
        "    return OrOr\n",
        "\n",
        "boolTest(Or)\n",
        "print('-'*10)\n",
        "boolTest(And)"
      ],
      "execution_count": 3,
      "outputs": [
        {
          "output_type": "stream",
          "text": [
            "<function Or at 0x7f7660b41ef0>\n",
            "True\tTrue\t True\n",
            "False\tTrue\t True\n",
            "True\tFalse\t True\n",
            "False\tFalse\t False\n",
            "----------\n",
            "<function And at 0x7f7660b41b00>\n",
            "True\tTrue\t True\n",
            "False\tTrue\t False\n",
            "True\tFalse\t False\n",
            "False\tFalse\t False\n"
          ],
          "name": "stdout"
        }
      ]
    },
    {
      "cell_type": "markdown",
      "metadata": {
        "id": "eQJhK1__qQTN"
      },
      "source": [
        "## Fuzzy algebra"
      ]
    },
    {
      "cell_type": "markdown",
      "metadata": {
        "id": "yN7H0jIprIcQ"
      },
      "source": [
        "Fuzzy algebra předpokládá, že každá hodnota na intervalu $<0;1>$ je možnou / přípustnou hodnotou."
      ]
    },
    {
      "cell_type": "code",
      "metadata": {
        "colab": {
          "base_uri": "https://localhost:8080/",
          "height": 761
        },
        "id": "ZeDapos_rZLG",
        "outputId": "06d6c7e0-2a0b-4ece-dd34-eb8011d36fb5"
      },
      "source": [
        "import matplotlib.pyplot as plt\n",
        "\n",
        "def plotFuzzyVariable(value):\n",
        "    plt.plot([0, 0, 1, 1], [0, 1, 0, 0])\n",
        "    plt.plot([0, 0, 1, 1], [0, 0, 1, 0])\n",
        "    plt.plot([value, value], [0, 1])\n",
        "    plt.show()\n",
        "\n",
        "plotFuzzyVariable(0)\n",
        "plotFuzzyVariable(0.5)\n",
        "plotFuzzyVariable(1)"
      ],
      "execution_count": 4,
      "outputs": [
        {
          "output_type": "display_data",
          "data": {
            "image/png": "[encoded data removed]",
            "text/plain": [
              "<Figure size 432x288 with 1 Axes>"
            ]
          },
          "metadata": {
            "tags": [],
            "needs_background": "light"
          }
        },
        {
          "output_type": "display_data",
          "data": {
            "image/png": "[encoded data removed]",
            "text/plain": [
              "<Figure size 432x288 with 1 Axes>"
            ]
          },
          "metadata": {
            "tags": [],
            "needs_background": "light"
          }
        },
        {
          "output_type": "display_data",
          "data": {
            "image/png": "[encoded data removed]",
            "text/plain": [
              "<Figure size 432x288 with 1 Axes>"
            ]
          },
          "metadata": {
            "tags": [],
            "needs_background": "light"
          }
        }
      ]
    },
    {
      "cell_type": "code",
      "metadata": {
        "id": "4SdljFgidCQB",
        "colab": {
          "base_uri": "https://localhost:8080/"
        },
        "outputId": "73dfafc0-0e86-4225-fd6d-de46686d9d0f"
      },
      "source": [
        "def fuzzyAnd(a):\n",
        "    def fuzzyAndAnd(b):\n",
        "        return min(a, b)\n",
        "    return fuzzyAndAnd\n",
        "\n",
        "def fuzzyOr(a):\n",
        "    def fuzzyOrOr(b):\n",
        "        return max(a, b)\n",
        "    return fuzzyOrOr\n",
        "\n",
        "boolTest = createBoolTest(1, 0)\n",
        "\n",
        "boolTest(fuzzyOr)\n",
        "print('-'*10)\n",
        "boolTest(fuzzyAnd)\n"
      ],
      "execution_count": 5,
      "outputs": [
        {
          "output_type": "stream",
          "text": [
            "<function fuzzyOr at 0x7f766052fd40>\n",
            "True\tTrue\t True\n",
            "False\tTrue\t True\n",
            "True\tFalse\t True\n",
            "False\tFalse\t False\n",
            "----------\n",
            "<function fuzzyAnd at 0x7f766052f3b0>\n",
            "True\tTrue\t True\n",
            "False\tTrue\t False\n",
            "True\tFalse\t False\n",
            "False\tFalse\t False\n"
          ],
          "name": "stdout"
        }
      ]
    },
    {
      "cell_type": "code",
      "metadata": {
        "colab": {
          "base_uri": "https://localhost:8080/"
        },
        "id": "pwoFUkhjuNm-",
        "outputId": "bde87ddd-8a38-4846-cf54-3c071eba3251"
      },
      "source": [
        "boolTest = createBoolTest(0.7, 0.3)\n",
        "\n",
        "boolTest(fuzzyOr)\n",
        "print('-'*10)\n",
        "boolTest(fuzzyAnd)"
      ],
      "execution_count": 6,
      "outputs": [
        {
          "output_type": "stream",
          "text": [
            "<function fuzzyOr at 0x7f766052fd40>\n",
            "True\tTrue\t True\n",
            "False\tTrue\t True\n",
            "True\tFalse\t True\n",
            "False\tFalse\t False\n",
            "----------\n",
            "<function fuzzyAnd at 0x7f766052f3b0>\n",
            "True\tTrue\t True\n",
            "False\tTrue\t False\n",
            "True\tFalse\t False\n",
            "False\tFalse\t False\n"
          ],
          "name": "stdout"
        }
      ]
    },
    {
      "cell_type": "code",
      "metadata": {
        "colab": {
          "base_uri": "https://localhost:8080/"
        },
        "id": "QIUaOz34ulQf",
        "outputId": "54fb1620-b418-40a6-cef7-0f8e0cbe417e"
      },
      "source": [
        "boolTest = createBoolTest(0.51, 0.49)\n",
        "\n",
        "boolTest(fuzzyOr)\n",
        "print('-'*10)\n",
        "boolTest(fuzzyAnd)"
      ],
      "execution_count": 8,
      "outputs": [
        {
          "output_type": "stream",
          "text": [
            "<function fuzzyOr at 0x7f766052fd40>\n",
            "True\tTrue\t True\n",
            "False\tTrue\t True\n",
            "True\tFalse\t True\n",
            "False\tFalse\t False\n",
            "----------\n",
            "<function fuzzyAnd at 0x7f766052f3b0>\n",
            "True\tTrue\t True\n",
            "False\tTrue\t False\n",
            "True\tFalse\t False\n",
            "False\tFalse\t False\n"
          ],
          "name": "stdout"
        }
      ]
    },
    {
      "cell_type": "markdown",
      "metadata": {
        "id": "VA104CTbk6NS"
      },
      "source": [
        "## Universum"
      ]
    },
    {
      "cell_type": "code",
      "metadata": {
        "colab": {
          "base_uri": "https://localhost:8080/",
          "height": 283
        },
        "id": "cEEqNPILk9Vf",
        "outputId": "4eb9a6de-f739-4f5d-c39a-b401d8827322"
      },
      "source": [
        "fuzzyUniversum = [0, 1, 2, 3, 4, 5, 6, 7, 8, 9, 10]\n",
        "def fuzzyVectorCreator(values=fuzzyUniversum, leftDelta=2, rightDelta=2):\n",
        "    def resultFunc(value):\n",
        "        leftValue = max(value - leftDelta, values[0])\n",
        "        rightValue = min(value + rightDelta, values[-1])\n",
        "        \n",
        "        result = []\n",
        "        for item in values:\n",
        "            if item < leftValue:\n",
        "                result.append(0)\n",
        "            elif item == value:\n",
        "                result.append(1)\n",
        "            elif item < value:\n",
        "                resultItem = (item - leftValue) / leftDelta\n",
        "                result.append(resultItem)\n",
        "            elif item <= rightValue:\n",
        "                resultItem = (rightValue - item) / rightDelta\n",
        "                result.append(resultItem)\n",
        "                pass\n",
        "            else:\n",
        "                result.append(0)\n",
        "        return result\n",
        "    return resultFunc\n",
        "\n",
        "fuzzyMapper = fuzzyVectorCreator()\n",
        "fuzzyVectorA = fuzzyMapper(4.0)\n",
        "fuzzyVectorB = fuzzyMapper(6.0)\n",
        "fuzzyVectorC = fuzzyMapper(0.0)\n",
        "fuzzyVectorD = fuzzyMapper(10)\n",
        "\n",
        "plt.plot(fuzzyUniversum, fuzzyVectorA)\n",
        "plt.plot(fuzzyUniversum, fuzzyVectorB)\n",
        "plt.plot(fuzzyUniversum, fuzzyVectorC)\n",
        "plt.plot(fuzzyUniversum, fuzzyVectorD)\n",
        "print(fuzzyVectorD)"
      ],
      "execution_count": 38,
      "outputs": [
        {
          "output_type": "stream",
          "text": [
            "[0, 0, 0, 0, 0, 0, 0, 0, 0.0, 0.5, 1]\n"
          ],
          "name": "stdout"
        },
        {
          "output_type": "display_data",
          "data": {
            "image/png": "[encoded data removed]",
            "text/plain": [
              "<Figure size 432x288 with 1 Axes>"
            ]
          },
          "metadata": {
            "tags": [],
            "needs_background": "light"
          }
        }
      ]
    },
    {
      "cell_type": "code",
      "metadata": {
        "colab": {
          "base_uri": "https://localhost:8080/",
          "height": 283
        },
        "id": "tFxjGfgoohIa",
        "outputId": "3b6b9b16-9cae-4213-f7d0-27dd4fbfdbc4"
      },
      "source": [
        "def fuzzyVectorAnd(x, y):\n",
        "    result = []\n",
        "    for xItem, yItem in zip(x, y):\n",
        "        result.append(min(xItem, yItem))\n",
        "    return result\n",
        "\n",
        "def fuzzyVectorOr(x, y):\n",
        "    result = []\n",
        "    for xItem, yItem in zip(x, y):\n",
        "        result.append(max(xItem, yItem))\n",
        "    return result  \n",
        "\n",
        "fuzzyVectorA = fuzzyMapper(4.0)\n",
        "fuzzyVectorB = fuzzyMapper(6.0)\n",
        "andVector = fuzzyVectorAnd(fuzzyVectorA, fuzzyVectorB)\n",
        "orVector = fuzzyVectorOr(fuzzyVectorA, fuzzyVectorB)\n",
        "\n",
        "#plt.plot(fuzzyVectorA)\n",
        "#plt.plot(fuzzyVectorB)\n",
        "plt.plot(andVector)\n",
        "plt.plot(orVector)"
      ],
      "execution_count": 40,
      "outputs": [
        {
          "output_type": "execute_result",
          "data": {
            "text/plain": [
              "[<matplotlib.lines.Line2D at 0x7f765bf1e710>]"
            ]
          },
          "metadata": {
            "tags": []
          },
          "execution_count": 40
        },
        {
          "output_type": "display_data",
          "data": {
            "image/png": "[encoded data removed]",
            "text/plain": [
              "<Figure size 432x288 with 1 Axes>"
            ]
          },
          "metadata": {
            "tags": [],
            "needs_background": "light"
          }
        }
      ]
    },
    {
      "cell_type": "markdown",
      "metadata": {
        "id": "jiJTiTV3uqZH"
      },
      "source": [
        "## Názvosloví"
      ]
    },
    {
      "cell_type": "markdown",
      "metadata": {
        "id": "UzWCFGh1utV-"
      },
      "source": [
        "Antecedent\n",
        "\n",
        "Consequent\n",
        "\n"
      ]
    },
    {
      "cell_type": "markdown",
      "metadata": {
        "id": "ajkb-V1auE9W"
      },
      "source": [
        "## Pravidla"
      ]
    },
    {
      "cell_type": "markdown",
      "metadata": {
        "id": "Swi9_mEluG2X"
      },
      "source": [
        "Situace v restauraci, rozhodování o spropitném.\n",
        "Hodnotíme jídlo a obsluhu. Pro hodnocení jídla volíme stupnici:\n",
        "- špatné\n",
        "- dobré\n",
        "- vynikající\n",
        "\n",
        "Pro hodnocení obsluhy volíme stupnici:\n",
        "- špatná\n",
        "- dobrá\n",
        "- skvělá\n",
        "\n",
        "Pro spropitné si stanovujeme tato pravidla:\n",
        "- **jestliže** jídlo bylo vynikající **nebo** obsluha byla skvělá je spropitné **vysoké**\n",
        "- **jestliže** obsluha byla dobrá je spropitné **střední**\n",
        "- **jestliže** jídlo bylo špatné **a** obsluha byla špatná je spropitné **nízké**"
      ]
    },
    {
      "cell_type": "code",
      "metadata": {
        "id": "eF6xtnGWr1kv"
      },
      "source": [
        ""
      ],
      "execution_count": null,
      "outputs": []
    }
  ]
}