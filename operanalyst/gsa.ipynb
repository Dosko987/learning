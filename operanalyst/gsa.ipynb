{
  "nbformat": 4,
  "nbformat_minor": 0,
  "metadata": {
    "colab": {
      "name": "gsa.ipynb",
      "provenance": [],
      "toc_visible": true,
      "authorship_tag": "ABX9TyOH1Tj3fQvQatHf2H00ZEt6",
      "include_colab_link": true
    },
    "kernelspec": {
      "name": "python3",
      "display_name": "Python 3"
    }
  },
  "cells": [
    {
      "cell_type": "markdown",
      "metadata": {
        "id": "view-in-github",
        "colab_type": "text"
      },
      "source": [
        "<a href=\"https://colab.research.google.com/github/hrbolek/learning/blob/master/operanalyst/gsa.ipynb\" target=\"_parent\"><img src=\"https://colab.research.google.com/assets/colab-badge.svg\" alt=\"Open In Colab\"/></a>"
      ]
    },
    {
      "cell_type": "markdown",
      "metadata": {
        "id": "XQ4W_LG1RYxj",
        "colab_type": "text"
      },
      "source": [
        "# Gravity Search Algorithm"
      ]
    },
    {
      "cell_type": "code",
      "metadata": {
        "id": "vA50bkwoRHhn",
        "colab_type": "code",
        "colab": {}
      },
      "source": [
        "from random import random as rnd\n",
        "import matplotlib.pyplot as plt\n",
        "import pandas as pd"
      ],
      "execution_count": 0,
      "outputs": []
    },
    {
      "cell_type": "markdown",
      "metadata": {
        "id": "Kn-Pa-DlRve6",
        "colab_type": "text"
      },
      "source": [
        "## Funkce pro vytvoření jedince"
      ]
    },
    {
      "cell_type": "code",
      "metadata": {
        "id": "a8JthQoQRxXi",
        "colab_type": "code",
        "colab": {}
      },
      "source": [
        "def createMember():\n",
        "  result = {}\n",
        "  result['position'] = {'x': rnd() * 10 - 5, 'y': rnd() * 10 - 5}\n",
        "  result['velocity'] = {'x': 0, 'y': 0}\n",
        "  result['force'] = {'x': 0, 'y': 0}\n",
        "  result['mass'] = 1\n",
        "  return result"
      ],
      "execution_count": 0,
      "outputs": []
    },
    {
      "cell_type": "markdown",
      "metadata": {
        "id": "yi-eEwohBToT",
        "colab_type": "text"
      },
      "source": [
        "## Funkce pro vytvoření skupiny / systému"
      ]
    },
    {
      "cell_type": "code",
      "metadata": {
        "id": "kt0zJME6-lRv",
        "colab_type": "code",
        "colab": {}
      },
      "source": [
        "def createSystem(count, createFunc):\n",
        "  result = [] \n",
        "  for i in range(count):\n",
        "    member = createFunc()\n",
        "    result.append(member)\n",
        "  return result\n",
        "                 "
      ],
      "execution_count": 0,
      "outputs": []
    },
    {
      "cell_type": "markdown",
      "metadata": {
        "id": "boxaD59WR2S_",
        "colab_type": "text"
      },
      "source": [
        "## Funkce pro vyhodnocení jedince\n",
        "Definuje kriteriální funkci. Implementované algoritmy optimalizují na maximum."
      ]
    },
    {
      "cell_type": "code",
      "metadata": {
        "id": "_ruWC3NnR24p",
        "colab_type": "code",
        "colab": {}
      },
      "source": [
        "def evaluate(member):\n",
        "  return -(member['position']['x'] * member['position']['x'] + member['position']['y'] * member['position']['y'])"
      ],
      "execution_count": 0,
      "outputs": []
    },
    {
      "cell_type": "markdown",
      "metadata": {
        "id": "utaOEzRVR-35",
        "colab_type": "text"
      },
      "source": [
        "## Zobrazení soustavy"
      ]
    },
    {
      "cell_type": "code",
      "metadata": {
        "id": "79PcyWSfR_5S",
        "colab_type": "code",
        "colab": {}
      },
      "source": [
        "def plotSystem(system, title):\n",
        "  x = []\n",
        "  y = []\n",
        "  for member in system:\n",
        "    x.append(member['position']['x'])\n",
        "    y.append(member['position']['y'])\n",
        "\n",
        "  plt.plot(x, y, 'ko', ms=3)\n",
        "  plt.title(title)\n",
        "  plt.show()"
      ],
      "execution_count": 0,
      "outputs": []
    },
    {
      "cell_type": "markdown",
      "metadata": {
        "id": "9NknEoDC-eBR",
        "colab_type": "text"
      },
      "source": [
        "## Výpočet hmotností částic"
      ]
    },
    {
      "cell_type": "code",
      "metadata": {
        "id": "G0Hzzrc5Rdrd",
        "colab_type": "code",
        "colab": {}
      },
      "source": [
        "def calculateMass(system, f):\n",
        "  for member in system:\n",
        "    member['value'] = f(member)\n",
        "  \n",
        "  minimum = system[0]['value']\n",
        "  maximum = minimum\n",
        "  sumation = 0\n",
        "\n",
        "  for member in system:\n",
        "    cValue = member['value']\n",
        "    sumation = sumation + cValue\n",
        "    if cValue < minimum:\n",
        "      minimum = cValue\n",
        "    if cValue > maximum:\n",
        "      maximum = cValue\n",
        "\n",
        "  func = lambda cValue: 1\n",
        "  if maximum > minimum:\n",
        "    func = lambda cValue: (cValue - minimum) / (maximum - minimum)\n",
        "\n",
        "  sumM = 0\n",
        "  for member in system:\n",
        "    cValue = member['value']\n",
        "    cMass = func(cValue)\n",
        "    member['mass'] = cMass\n",
        "    sumM = sumM + cMass\n",
        "\n",
        "  for member in system:\n",
        "    member['mass'] = member['mass'] / sumM\n",
        "\n",
        "  return system\n",
        "  \n"
      ],
      "execution_count": 0,
      "outputs": []
    },
    {
      "cell_type": "markdown",
      "metadata": {
        "id": "Trs-2JKF-l4_",
        "colab_type": "text"
      },
      "source": [
        "## Výpočet silového působení"
      ]
    },
    {
      "cell_type": "code",
      "metadata": {
        "id": "eGkUTIVw2hSP",
        "colab_type": "code",
        "colab": {}
      },
      "source": [
        "from math import sqrt\n",
        "def calculateForce(memberA, memberB, g):\n",
        "  result = {'x': 0, 'y': 0}\n",
        "  distance = {\n",
        "      'x': memberB['position']['x'] - memberA['position']['x'],\n",
        "      'y': memberB['position']['y'] - memberA['position']['y']\n",
        "              }\n",
        "  distanceAbs = sqrt(distance['x'] * distance['x'] + distance['y'] * distance['y'])\n",
        "  # F = g * MA * MB / (d * d)\n",
        "  F = g * memberA['mass'] * memberB['mass'] / (distanceAbs * distanceAbs)\n",
        "  result['x'] = F * distance['x'] / distanceAbs\n",
        "  result['y'] = F * distance['y'] / distanceAbs\n",
        "  return result\n",
        "\n",
        "def calculateForces(system, g):\n",
        "  for member in system:\n",
        "    member['force'] = {'x': 0, 'y': 0}\n",
        "\n",
        "  for memberA in system:\n",
        "    sumForce = {'x': 0, 'y': 0}\n",
        "    for memberB in system:\n",
        "      if memberA == memberB:\n",
        "        continue\n",
        "      currentForce = calculateForce(memberA, memberB, g)\n",
        "      sumForce['x'] = sumForce['x'] + currentForce['x']\n",
        "      sumForce['y'] = sumForce['y'] + currentForce['y']\n",
        "    memberA['force'] = sumForce\n",
        "  return system\n",
        "\n"
      ],
      "execution_count": 0,
      "outputs": []
    },
    {
      "cell_type": "markdown",
      "metadata": {
        "id": "8AAked7u-sSP",
        "colab_type": "text"
      },
      "source": [
        "## Výpočet pohybu"
      ]
    },
    {
      "cell_type": "code",
      "metadata": {
        "id": "FUEly8TA-wpe",
        "colab_type": "code",
        "colab": {}
      },
      "source": [
        "def calculateAccelerations(system):\n",
        "  for member in system:\n",
        "    # F = m * a\n",
        "    force = member['force']\n",
        "    mass = member['mass'] + 1e-3\n",
        "    member['acceleration'] = {'x': force['x'] / mass, 'y': force['y'] / mass }\n",
        "  return system\n",
        "\n",
        "def calculateVelocities(system, dt, decelerationCoef = 0.1):\n",
        "  for member in system:\n",
        "    acceleration = member['acceleration']\n",
        "    velocity = member['velocity']\n",
        "    r = rnd()\n",
        "    member['velocity'] = {\n",
        "        'x': r * decelerationCoef * velocity['x'] + dt * acceleration['x'],\n",
        "        'y': r * decelerationCoef * velocity['y'] + dt * acceleration['y']}\n",
        "  return system\n",
        "\n",
        "def calculatePositions(system, dt):\n",
        "  for member in system:\n",
        "    position = member['position']\n",
        "    velocity = member['velocity']\n",
        "    member['position'] = {\n",
        "        'x': position['x'] + dt * velocity['x'],\n",
        "        'y': position['y'] + dt * velocity['y']}\n",
        "  return system\n"
      ],
      "execution_count": 0,
      "outputs": []
    },
    {
      "cell_type": "markdown",
      "metadata": {
        "id": "lBCcQxjg-0eJ",
        "colab_type": "text"
      },
      "source": [
        "## Výpočet gravitační konstanty"
      ]
    },
    {
      "cell_type": "code",
      "metadata": {
        "id": "r86pBso_mRDx",
        "colab_type": "code",
        "colab": {
          "base_uri": "https://localhost:8080/",
          "height": 265
        },
        "outputId": "151479c5-7b0c-4e6a-f256-29da219669a0"
      },
      "source": [
        "import math\n",
        "\n",
        "def G(initialValue, alpha, maxiter):\n",
        "  coefficient = math.e ** (-alpha / maxiter)\n",
        "  currentValue = initialValue\n",
        "  while True:\n",
        "    yield currentValue\n",
        "    currentValue = currentValue * coefficient\n",
        "\n",
        "\n",
        "x = []\n",
        "y = []\n",
        "g = G(10, 0.1, 100)\n",
        "for cx, cy in zip(range(100), g):\n",
        "  x = x + [cx]\n",
        "  y = y + [cy]\n",
        "\n",
        "plt.plot(x, y)\n",
        "plt.grid(which='both')\n",
        "plt.show()"
      ],
      "execution_count": 171,
      "outputs": [
        {
          "output_type": "display_data",
          "data": {
            "image/png": "[encoded data removed]",
            "text/plain": [
              "<Figure size 432x288 with 1 Axes>"
            ]
          },
          "metadata": {
            "tags": [],
            "needs_background": "light"
          }
        }
      ]
    },
    {
      "cell_type": "markdown",
      "metadata": {
        "id": "56JwBJ2jBcwz",
        "colab_type": "text"
      },
      "source": [
        "## Výpočet celkové energie systému"
      ]
    },
    {
      "cell_type": "code",
      "metadata": {
        "id": "ZF0buSHVe1ZF",
        "colab_type": "code",
        "colab": {}
      },
      "source": [
        "def calculateEnergy(system):\n",
        "  result = 0\n",
        "  for s in system:\n",
        "    v2 = s['position']['x'] * s['position']['x'] + s['position']['y'] * s['position']['y']\n",
        "    m = s['mass']\n",
        "    E = 0.5 * m * v2\n",
        "    result = result + E\n",
        "  return result"
      ],
      "execution_count": 0,
      "outputs": []
    },
    {
      "cell_type": "markdown",
      "metadata": {
        "id": "oJzmqA2J-bwV",
        "colab_type": "text"
      },
      "source": [
        "## Simulace"
      ]
    },
    {
      "cell_type": "code",
      "metadata": {
        "id": "d_hCG4Un2Zy4",
        "colab_type": "code",
        "colab": {}
      },
      "source": [
        "def simulationStep(system, dt, g):\n",
        "  calculatePositions(system, dt)\n",
        "  calculateMass(system, f = evaluate)\n",
        "  calculateForces(system, g = g)\n",
        "  calculateAccelerations(system)\n",
        "  calculateVelocities(system, dt)"
      ],
      "execution_count": 0,
      "outputs": []
    },
    {
      "cell_type": "code",
      "metadata": {
        "id": "Tmx1RvDj-1Rw",
        "colab_type": "code",
        "outputId": "ff13f8fd-1801-4f22-f67b-466800ff4b00",
        "colab": {
          "base_uri": "https://localhost:8080/",
          "height": 879
        }
      },
      "source": [
        "system = createSystem(20, createMember)\n",
        "\n",
        "plotSystem(system, title='1st')\n",
        "\n",
        "iterations = 1000\n",
        "E = []\n",
        "for i, g in zip(range(iterations), G(initialValue = 0.981, alpha = 0.1, maxiter = iterations)):\n",
        "  simulationStep(system, dt = 1, g = g)\n",
        "  E.append(calculateEnergy(system))\n",
        "  system.sort(key = lambda item: item['value'])\n",
        "\n",
        "plt.plot(E)\n",
        "#plt.label('Energy')\n",
        "plt.show()\n",
        "\n",
        "plotSystem(system, title='2nd')\n",
        "\n",
        "#systemDF = pd.DataFrame(system)\n",
        "#display(systemDF)\n",
        "\n",
        "print(system[0])\n",
        "print(system[5])\n",
        "print(system[-1])"
      ],
      "execution_count": 174,
      "outputs": [
        {
          "output_type": "display_data",
          "data": {
            "image/png": "[encoded data removed]",
            "text/plain": [
              "<Figure size 432x288 with 1 Axes>"
            ]
          },
          "metadata": {
            "tags": [],
            "needs_background": "light"
          }
        },
        {
          "output_type": "display_data",
          "data": {
            "image/png": "[encoded data removed]",
            "text/plain": [
              "<Figure size 432x288 with 1 Axes>"
            ]
          },
          "metadata": {
            "tags": [],
            "needs_background": "light"
          }
        },
        {
          "output_type": "display_data",
          "data": {
            "image/png": "[encoded data removed]",
            "text/plain": [
              "<Figure size 432x288 with 1 Axes>"
            ]
          },
          "metadata": {
            "tags": [],
            "needs_background": "light"
          }
        },
        {
          "output_type": "stream",
          "text": [
            "{'position': {'x': 79618.68110887281, 'y': 83498.85268826115}, 'velocity': {'x': 0.0, 'y': 0.0}, 'force': {'x': 0.0, 'y': 0.0}, 'mass': 0.0, 'value': -13311192781.772316, 'acceleration': {'x': 0.0, 'y': 0.0}}\n",
            "{'position': {'x': 350.82952893114697, 'y': 435.00565112048105}, 'velocity': {'x': -1.4383150587431383e-06, 'y': -1.9323703598237494e-06}, 'force': {'x': -7.836876875503765e-08, 'y': -1.0528811852894829e-07}, 'mass': 0.05544231626025645, 'value': -312311.27487680415, 'acceleration': {'x': -1.3884754196422056e-06, 'y': -1.8654110161507732e-06}}\n",
            "{'position': {'x': -1.1721031534351272, 'y': -1.1403818044130594}, 'velocity': {'x': 0.013859591591450561, 'y': -0.00828365370249426}, 'force': {'x': 0.0007223379407855525, 'y': -0.0004316932890839193}, 'mass': 0.0554436170842134, 'value': -2.6742964621289547, 'acceleration': {'x': 0.012797513307976531, 'y': -0.007648221559575755}}\n"
          ],
          "name": "stdout"
        }
      ]
    }
  ]
}