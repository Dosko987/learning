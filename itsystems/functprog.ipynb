{
  "nbformat": 4,
  "nbformat_minor": 0,
  "metadata": {
    "colab": {
      "name": "FunctionalProgramming.ipynb",
      "provenance": [],
      "authorship_tag": "ABX9TyMSOcnkvJA9N52q1p16nZC+",
      "include_colab_link": true
    },
    "kernelspec": {
      "name": "python3",
      "display_name": "Python 3"
    }
  },
  "cells": [
    {
      "cell_type": "markdown",
      "metadata": {
        "id": "view-in-github",
        "colab_type": "text"
      },
      "source": [
        "<a href=\"https://colab.research.google.com/github/hrbolek/learning/blob/master/itsystems/functprog.ipynb\" target=\"_parent\"><img src=\"https://colab.research.google.com/assets/colab-badge.svg\" alt=\"Open In Colab\"/></a>"
      ]
    },
    {
      "cell_type": "markdown",
      "metadata": {
        "id": "-zuJwZM1Ipyr",
        "colab_type": "text"
      },
      "source": [
        "# Functional Programming"
      ]
    },
    {
      "cell_type": "markdown",
      "metadata": {
        "id": "vXgdE3GnIuFY",
        "colab_type": "text"
      },
      "source": [
        "Heavily inspired by https://weblogs.asp.net/dixin/lambda-calculus-via-c-2-boolean-and-logic"
      ]
    },
    {
      "cell_type": "code",
      "metadata": {
        "id": "LKTqpJmNH4cD",
        "colab_type": "code",
        "colab": {}
      },
      "source": [
        "true = lambda t: lambda f: t\n",
        "false = lambda t: lambda f: f"
      ],
      "execution_count": 1,
      "outputs": []
    },
    {
      "cell_type": "code",
      "metadata": {
        "id": "8oJXib85Jhou",
        "colab_type": "code",
        "colab": {}
      },
      "source": [
        "def testDualOperator(operator):\n",
        "  print(\"op\", \"op\", \"result\", sep=\"\\t\")\n",
        "  print(\"-\"*30)\n",
        "  print(True, True, operator(true)(true) == true, sep=\"\\t\")\n",
        "  print(False, True, operator(false)(true) == true, sep=\"\\t\")\n",
        "  print(True, False, operator(true)(false) == true, sep=\"\\t\")\n",
        "  print(False, False, operator(false)(false) == true, sep=\"\\t\")"
      ],
      "execution_count": 10,
      "outputs": []
    },
    {
      "cell_type": "code",
      "metadata": {
        "id": "A0buYcPPI4nc",
        "colab_type": "code",
        "colab": {
          "base_uri": "https://localhost:8080/",
          "height": 127
        },
        "outputId": "6739c530-8b41-474b-c3f4-de9ccffa16e8"
      },
      "source": [
        "And = lambda a: lambda b: a(b)(false)\n",
        "testDualOperator(And)"
      ],
      "execution_count": 11,
      "outputs": [
        {
          "output_type": "stream",
          "text": [
            "op\top\tresult\n",
            "------------------------------\n",
            "True\tTrue\tTrue\n",
            "False\tTrue\tFalse\n",
            "True\tFalse\tFalse\n",
            "False\tFalse\tFalse\n"
          ],
          "name": "stdout"
        }
      ]
    }
  ]
}