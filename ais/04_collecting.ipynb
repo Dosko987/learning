{
 "cells": [
  {
   "cell_type": "markdown",
   "metadata": {
    "id": "Cy9xclO0Ecvs"
   },
   "source": [
    "# Získávání dat"
   ]
  },
  {
   "cell_type": "code",
   "execution_count": null,
   "metadata": {
    "id": "oX2SdIKVEr3G"
   },
   "outputs": [],
   "source": [
    "from IPython.display import HTML\n",
    "\n",
    "def YVideo(id, t=None):\n",
    "# Youtube\n",
    "    if t is None:\n",
    "        fullStr = f'<iframe width=\"560\" height=\"315\" src=\"https://www.youtube.com/embed/{id}?rel=0&amp;controls=0&amp;showinfo=0\" frameborder=\"0\" allowfullscreen></iframe>'\n",
    "    else:\n",
    "        fullStr = f'<iframe width=\"560\" height=\"315\" src=\"https://www.youtube.com/embed/{id}?start={t}&amp;controls=0&amp;showinfo=0\" frameborder=\"0\" allowfullscreen></iframe>'\n",
    "    return HTML(fullStr)"
   ]
  },
  {
   "cell_type": "markdown",
   "metadata": {
    "id": "fat5fcTuEdrj"
   },
   "source": [
    "- Získávání dat\n",
    "    - Zdroje s API\n",
    "        - OData\n",
    "        - REST\n",
    "        - SWAGGER\n",
    "        - další standardy\n",
    "    - Zdroje bez API\n",
    "    - Textové zdroje"
   ]
  },
  {
   "cell_type": "markdown",
   "metadata": {
    "id": "eNn6qS7cEf2b"
   },
   "source": [
    "## Zdroje s API"
   ]
  },
  {
   "cell_type": "markdown",
   "metadata": {
    "id": "_it3ZFU7AtvZ"
   },
   "source": [
    "U zdrojů s API se předpokládá dostupnost dokumentace. Přestože známe více standardů (OData, Swagger), komunikace probíhá vždy přes HTTP se specifickými verby (verbs), pro čtení GET. Při zápisu POST, PUT a DELETE, či dalšími specifickými verby."
   ]
  },
  {
   "cell_type": "markdown",
   "metadata": {
    "id": "JwcbzbqxBWBM"
   },
   "source": [
    "Specifickou pozornost je nutné věnovat GraphQL, který je systémově velmi často nad API REST, což lze využít pro systémovou integraci jednotlivých API endpointů."
   ]
  },
  {
   "cell_type": "markdown",
   "metadata": {
    "id": "TOr7DgZWEiWI"
   },
   "source": [
    "## Zdroje bez API"
   ]
  },
  {
   "cell_type": "markdown",
   "metadata": {
    "id": "Wvc3S1ME7jRg"
   },
   "source": [
    "Zdroje, které nejsou předem strukturované, tedy zdroje bez API je nezbytné strukturalizovat. Mezi významné zdroje z této oblasti patří textové zdroje na internetu. Zdroje na internetu vznikají s využitím výpočetní techniky (jsou generované) na základě již strukturalizovaných dat, typicky uložených v databázi.\n",
    "\n",
    "Struktura je obvykle identifikovatelná i v textu webové (HTML) stránky. Mnohdy lze dokonce vysledovat entity a relační vztahy mezi nimi. Příkladem může být zpravodajský internetový deník, který na své hlavní stránce odkazuje na jednotlivé články. Hlavní stránka se tak tváří jako částečný index článků. V článcích lze často nalézt entity odstavec a také odkazy na související články. Toto je příklad relace.\n",
    "\n",
    "Vzhledem k potřebě zpracování článků je samozřejmé, že redakce používají webová prostředí pro správu obsahu, který je následně ukládán v (non)SQL databázích, odkud je promítán do šablon a výsledek tvoří články, které si čtenáři prohlíží. Odhalení odlišností mezi šablonou a obsahem vede k identifikaci datových struktur.\n",
    "\n"
   ]
  },
  {
   "cell_type": "markdown",
   "metadata": {
    "id": "jHYBfPX-9YIR"
   },
   "source": [
    "### Regulární výrazy I"
   ]
  },
  {
   "cell_type": "markdown",
   "metadata": {
    "id": "-gnfSsvh9buu"
   },
   "source": [
    "Regulární výrazy představují mechanismus s jehož pomocí lze vyhledávat v textu řetězce aniž by byl předem znám jejich přesný obsah. Regulární výraz je předpisem, který je následně textovát vůči prohledávanému textu a jesliže jeho část odpovídá předpisu je tato část označena jako hledaná.\n",
    "\n",
    "Regulární výrazy jsou široce používaným nástrojem napříč platformami a jazyky. Regulární výraz v jazyku Javascript je použitelný v jazyku Python, či dalších jazycích a samozřejmě i naopak."
   ]
  },
  {
   "cell_type": "markdown",
   "metadata": {
    "id": "UmgmQdkLCmiE"
   },
   "source": [
    "Oficiální dokumentace \n",
    "[(python re doc)](https://docs.python.org/3/library/re.html).\n",
    "\n",
    "Online nástroj pro tvorbu výrazů [regex](https://regex101.com/). Pordporuje více jazyků včetně jazyka Python.\n",
    "\n",
    "> **Povinné video**\n",
    ">\n",
    "> [[5 Minute Tutorial] Regular Expressions (Regex) in Python 6 min](https://www.youtube.com/watch?v=UQQsYXa1EHs)\n",
    "\n",
    "\n",
    "\n"
   ]
  },
  {
   "cell_type": "code",
   "execution_count": null,
   "metadata": {
    "colab": {
     "base_uri": "https://localhost:8080/",
     "height": 336
    },
    "id": "_PRnWbEGE2iV",
    "outputId": "d0c1dde4-7a11-4d28-d30f-8c1c9ad4a5fa"
   },
   "outputs": [
    {
     "data": {
      "text/html": [
       "<iframe width=\"560\" height=\"315\" src=\"https://www.youtube.com/embed/https://www.youtube.com/watch?v=UQQsYXa1EHs?rel=0&amp;controls=0&amp;showinfo=0\" frameborder=\"0\" allowfullscreen></iframe>"
      ],
      "text/plain": [
       "<IPython.core.display.HTML object>"
      ]
     },
     "execution_count": 4,
     "metadata": {},
     "output_type": "execute_result"
    }
   ],
   "source": [
    "YVideo('https://www.youtube.com/watch?v=UQQsYXa1EHs')"
   ]
  },
  {
   "cell_type": "markdown",
   "metadata": {
    "id": "haEMxiQfE6dL"
   },
   "source": [
    "\n",
    "> **Doporučené video**\n",
    ">\n",
    "> [Python Tutorial: re Module - How to Write and Match Regular Expressions (Regex) 53 min](https://www.youtube.com/watch?v=K8L6KVGG-7o)"
   ]
  },
  {
   "cell_type": "code",
   "execution_count": null,
   "metadata": {
    "colab": {
     "base_uri": "https://localhost:8080/",
     "height": 336
    },
    "id": "yftI-lNwFCxQ",
    "outputId": "7207c961-9877-4f33-cc47-db57fd46cd06"
   },
   "outputs": [
    {
     "data": {
      "text/html": [
       "<iframe width=\"560\" height=\"315\" src=\"https://www.youtube.com/embed/https://www.youtube.com/watch?v=K8L6KVGG-7o?rel=0&amp;controls=0&amp;showinfo=0\" frameborder=\"0\" allowfullscreen></iframe>"
      ],
      "text/plain": [
       "<IPython.core.display.HTML object>"
      ]
     },
     "execution_count": 5,
     "metadata": {},
     "output_type": "execute_result"
    }
   ],
   "source": [
    "YVideo('https://www.youtube.com/watch?v=K8L6KVGG-7o')"
   ]
  },
  {
   "cell_type": "code",
   "execution_count": null,
   "metadata": {
    "id": "aGdR7ruxCuTa"
   },
   "outputs": [],
   "source": [
    "import re\n",
    "\n"
   ]
  },
  {
   "cell_type": "markdown",
   "metadata": {
    "id": "settled-technology"
   },
   "source": [
    "### Webové stránky"
   ]
  },
  {
   "cell_type": "code",
   "execution_count": null,
   "metadata": {
    "id": "logical-rubber",
    "outputId": "672cc412-1ed5-4e35-f32a-11209194f6ec"
   },
   "outputs": [
    {
     "name": "stdout",
     "output_type": "stream",
     "text": [
      "Requirement already satisfied: requests_ntlm in /opt/conda/lib/python3.8/site-packages (1.1.0)\n",
      "Requirement already satisfied: cryptography>=1.3 in /opt/conda/lib/python3.8/site-packages (from requests_ntlm) (3.4.6)\n",
      "Requirement already satisfied: requests>=2.0.0 in /opt/conda/lib/python3.8/site-packages (from requests_ntlm) (2.25.1)\n",
      "Requirement already satisfied: ntlm-auth>=1.0.2 in /opt/conda/lib/python3.8/site-packages (from requests_ntlm) (1.5.0)\n",
      "Requirement already satisfied: cffi>=1.12 in /opt/conda/lib/python3.8/site-packages (from cryptography>=1.3->requests_ntlm) (1.14.5)\n",
      "Requirement already satisfied: pycparser in /opt/conda/lib/python3.8/site-packages (from cffi>=1.12->cryptography>=1.3->requests_ntlm) (2.20)\n",
      "Requirement already satisfied: urllib3<1.27,>=1.21.1 in /opt/conda/lib/python3.8/site-packages (from requests>=2.0.0->requests_ntlm) (1.26.4)\n",
      "Requirement already satisfied: certifi>=2017.4.17 in /opt/conda/lib/python3.8/site-packages (from requests>=2.0.0->requests_ntlm) (2020.12.5)\n",
      "Requirement already satisfied: chardet<5,>=3.0.2 in /opt/conda/lib/python3.8/site-packages (from requests>=2.0.0->requests_ntlm) (4.0.0)\n",
      "Requirement already satisfied: idna<3,>=2.5 in /opt/conda/lib/python3.8/site-packages (from requests>=2.0.0->requests_ntlm) (2.10)\n"
     ]
    }
   ],
   "source": [
    "!pip install requests_ntlm"
   ]
  },
  {
   "cell_type": "code",
   "execution_count": null,
   "metadata": {
    "id": "capable-socket"
   },
   "outputs": [],
   "source": [
    "import getpass\n",
    "import urllib.request, json\n",
    "from requests_ntlm import HttpNtlmAuth"
   ]
  },
  {
   "cell_type": "code",
   "execution_count": null,
   "metadata": {
    "id": "stupid-greenhouse",
    "outputId": "1aac0bf5-3e20-43f9-f8d1-2087b6248df8"
   },
   "outputs": [
    {
     "name": "stdin",
     "output_type": "stream",
     "text": [
      " ··············\n"
     ]
    }
   ],
   "source": [
    "url = ''\n",
    "people = [633]\n",
    "password = getpass.getpass()\n",
    "user = 'UNIVO\\\\stefeka'"
   ]
  },
  {
   "cell_type": "code",
   "execution_count": null,
   "metadata": {
    "id": "framed-tractor",
    "outputId": "0cf2f37d-0c5f-49fe-c7f9-1b189eb6bc36"
   },
   "outputs": [
    {
     "name": "stdout",
     "output_type": "stream",
     "text": [
      "\n",
      "   \n",
      "\n",
      "<!DOCTYPE html>\n",
      "\n",
      "<html>\n",
      "<head>\n",
      "  <meta charset=\"utf-8\" />\n",
      "  <meta name=\"viewport\" content=\"width=device-width, initial-scale=1.0\">\n",
      "  <title>RozvrhyOsoba</title>\n",
      "  <link href=\"/UOAPI/Content/css?v=oQnauHsqXdVBkuWhCiSRZpmRifmLkzjqiI7oah75sjQ1\" rel=\"stylesheet\"/>\n",
      "\n",
      "  <script src=\"/UOAPI/bundles/modernizr?v=inCVuEFe6J4Q07A0AcRsbJic_UE5MwpRMNGcOtk94TE1\"></script>\n",
      "\n",
      "</head>\n",
      "<body><table class=\"table table-striped table-condensed\">\n",
      "  <thead>\n",
      "    <tr>\n",
      "      <th>Datum</th>\n",
      "      <th>Začátek</th>\n",
      "      <th>Konec</th>\n",
      "      <th>Typ lekce</th>\n",
      "      <th>Předmět</th>\n",
      "      <th>Předmět Uic</th>\n",
      "      <th>Učebna</th>\n",
      "      <th>Vyučující</th>\n",
      "      <th>Vyučující Uco</th>\n",
      "      <th>Učební skupina</th>\n",
      "      <th>Učební skupina Uic</th>\n",
      "    </tr>\n",
      "  </thead>\n",
      "  <tbody>\n",
      "      <tr>\n",
      "    <td>05. 11. 2020</td>\n",
      "    <td>8:00</td>\n",
      "    <td>11:20</td>\n",
      "    <td>semin&#225;ř</td>\n",
      "    \n",
      "    \n",
      "\n",
      "    \n",
      "\n",
      "\n",
      "<td>Rozhran&#237; člověk – stroj / T8</td>\n",
      "<td>04416</td>\n",
      "\n",
      "    <td>DISTAN\n"
     ]
    }
   ],
   "source": [
    "from functools import lru_cache\n",
    "import requests\n",
    "\n",
    "@lru_cache\n",
    "def readTbl(UCO):\n",
    "    url = f'https://apl.unob.cz/UOAPI/Rozvrhy/Osoba/{UCO}'\n",
    "    page = requests.get(url, auth = HttpNtlmAuth(user, password))\n",
    "    content = page.content.decode('utf8')\n",
    "    return content\n",
    "\n",
    "data = readTbl(633)\n",
    "print(data[:1000])"
   ]
  },
  {
   "cell_type": "code",
   "execution_count": null,
   "metadata": {
    "id": "understanding-glance"
   },
   "outputs": [],
   "source": [
    "data = readTbl(633)\n",
    "print(data[:1000])"
   ]
  },
  {
   "cell_type": "markdown",
   "metadata": {
    "id": "behavioral-library"
   },
   "source": [
    "### Regulární výrazy II"
   ]
  },
  {
   "cell_type": "markdown",
   "metadata": {
    "id": "missing-bermuda"
   },
   "source": [
    "https://docs.python.org/3/library/re.html"
   ]
  },
  {
   "cell_type": "code",
   "execution_count": null,
   "metadata": {
    "id": "pressed-clarity",
    "outputId": "67642ac1-2db8-4182-98c8-b64a27c0c42b"
   },
   "outputs": [
    {
     "name": "stdout",
     "output_type": "stream",
     "text": [
      "<re.Match object; span=(811, 832), match='<td>05. 11. 2020</td>'>\n",
      "<td>05. 11. 2020</td>\n"
     ]
    }
   ],
   "source": [
    "import re\n",
    "data = readTbl(633)\n",
    "m = re.search(r'(<td>[^<]*</td>)', data)\n",
    "print(m)\n",
    "radek = m.group(0)\n",
    "print(radek)"
   ]
  },
  {
   "cell_type": "markdown",
   "metadata": {
    "id": "powered-withdrawal"
   },
   "source": [
    "#### Zástupné znaky"
   ]
  },
  {
   "cell_type": "markdown",
   "metadata": {
    "id": "injured-condition"
   },
   "source": [
    "- `a-z`, `A-Z`, `0-9`\n",
    "- `\\d`, `\\s`"
   ]
  },
  {
   "cell_type": "code",
   "execution_count": null,
   "metadata": {
    "id": "virtual-mineral",
    "outputId": "79fc3679-8f81-4d4b-e0d8-5340a8390b09"
   },
   "outputs": [
    {
     "name": "stdout",
     "output_type": "stream",
     "text": [
      "<re.Match object; span=(4, 5), match='a'>\n"
     ]
    }
   ],
   "source": [
    "strData = 'kniha, album, almanach'\n",
    "pattern = r'a'\n",
    "\n",
    "m = re.search(pattern, strData)\n",
    "print(m)\n"
   ]
  },
  {
   "cell_type": "markdown",
   "metadata": {
    "id": "instrumental-office"
   },
   "source": [
    "#### Množiny"
   ]
  },
  {
   "cell_type": "markdown",
   "metadata": {
    "id": "julian-trunk"
   },
   "source": [
    "- pozitivní skupina `[]`\n",
    "- negativní skupina `[^]`"
   ]
  },
  {
   "cell_type": "code",
   "execution_count": null,
   "metadata": {
    "id": "after-specific",
    "outputId": "29af1c67-2832-4fe0-9217-6300cc8949f8"
   },
   "outputs": [
    {
     "name": "stdout",
     "output_type": "stream",
     "text": [
      "<re.Match object; span=(9, 11), match='bu'>\n"
     ]
    }
   ],
   "source": [
    "strData = 'kniha, album, almanach'\n",
    "pattern = r'[aeiou]'\n",
    "\n",
    "m = re.search(pattern, strData)\n",
    "print(m)"
   ]
  },
  {
   "cell_type": "code",
   "execution_count": null,
   "metadata": {
    "id": "marine-contemporary",
    "outputId": "b92cd965-a67f-45e2-f79a-cdc7e9391cea"
   },
   "outputs": [
    {
     "name": "stdout",
     "output_type": "stream",
     "text": [
      "<re.Match object; span=(0, 1), match='k'>\n"
     ]
    }
   ],
   "source": [
    "strData = 'kniha, album, almanach'\n",
    "pattern = r'[a-z]'\n",
    "\n",
    "m = re.search(pattern, strData)\n",
    "print(m)"
   ]
  },
  {
   "cell_type": "markdown",
   "metadata": {
    "id": "pregnant-agency"
   },
   "source": [
    "#### Kvantifikátory"
   ]
  },
  {
   "cell_type": "markdown",
   "metadata": {
    "id": "korean-washer"
   },
   "source": [
    "- `*`\n",
    "- `+`\n",
    "- `{2, 5}`"
   ]
  },
  {
   "cell_type": "code",
   "execution_count": null,
   "metadata": {
    "id": "sporting-sequence",
    "outputId": "69c5d763-57a4-400c-c7a8-9b8b3b497eca"
   },
   "outputs": [
    {
     "name": "stdout",
     "output_type": "stream",
     "text": [
      "<re.Match object; span=(0, 5), match='kniha'>\n"
     ]
    }
   ],
   "source": [
    "strData = 'kniha, album, almanach'\n",
    "pattern = r'[a-z]+'\n",
    "\n",
    "m = re.search(pattern, strData)\n",
    "print(m)"
   ]
  },
  {
   "cell_type": "markdown",
   "metadata": {
    "id": "protecting-storm"
   },
   "source": [
    "#### Zachycení (Capturing)"
   ]
  },
  {
   "cell_type": "markdown",
   "metadata": {
    "id": "electoral-sewing"
   },
   "source": [
    "- `()`"
   ]
  },
  {
   "cell_type": "code",
   "execution_count": null,
   "metadata": {
    "id": "rolled-minute",
    "outputId": "c978142b-c29f-4a23-8000-57affc7a624c"
   },
   "outputs": [
    {
     "name": "stdout",
     "output_type": "stream",
     "text": [
      "<re.Match object; span=(0, 5), match='kniha'>\n",
      "k\n"
     ]
    }
   ],
   "source": [
    "strData = 'kniha, album, almanach'\n",
    "pattern = r'([a-z])[a-z]+'\n",
    "\n",
    "m = re.search(pattern, strData)\n",
    "print(m)\n",
    "print(m.group(1))"
   ]
  },
  {
   "cell_type": "code",
   "execution_count": null,
   "metadata": {
    "id": "intense-catch",
    "outputId": "943da640-ddd6-40a2-976b-87d5b74f82e0"
   },
   "outputs": [
    {
     "name": "stdout",
     "output_type": "stream",
     "text": [
      "(([0-9])|([0-3][0-9]))\\.(([0-9])|([0-1][0-9]))\\.([1-2][0-9]{3,3})\n",
      "<re.Match object; span=(7, 16), match='15.7.2021'>\n",
      "15\n",
      "7\n",
      "2021\n"
     ]
    }
   ],
   "source": [
    "strData = 'kniha, 15.7.2021, 03.05.2021, almanach'\n",
    "pattern = r'(([0-9])|([0-3][0-9]))\\.(([0-9])|([0-1][0-9]))\\.([1-2][0-9]{3,3})'\n",
    "\n",
    "#crlf = '\\r\\n'\n",
    "\n",
    "print(pattern)\n",
    "\n",
    "m = re.search(pattern, strData)\n",
    "print(m)\n",
    "print(m.group(1))\n",
    "print(m.group(4))\n",
    "print(m.group(7))"
   ]
  },
  {
   "cell_type": "code",
   "execution_count": null,
   "metadata": {
    "id": "partial-dialogue",
    "outputId": "d4ed4a36-55f0-4523-be7b-adb511830440"
   },
   "outputs": [
    {
     "name": "stdout",
     "output_type": "stream",
     "text": [
      "\n",
      "    <td>05. 11. 2020</td>\n",
      "    <td>8:00</td>\n",
      "    <td>11:20</td>\n",
      "    <td>semin&#225;ř</td>\n",
      "    \n",
      "    \n",
      "\n",
      "    \n",
      "\n",
      "\n",
      "<td>Rozhran&#237; člověk – stroj / T8</td>\n",
      "<td>04416</td>\n",
      "\n",
      "    <td>DISTANČNĚ</td>\n",
      "    <td>Štefek A.</td>\n",
      "    <td>633</td>\n",
      "    <td>9PHAV-C (2019)</td>\n",
      "    <td>20878</td>\n",
      "  \n"
     ]
    }
   ],
   "source": [
    "data = readTbl(633)\n",
    "m = re.search(r'(?:<tr>)([^<]*(?:<td>[^<]*</td>[^<]*)*)(?:</tr>)', data)\n",
    "#m = re.search(r'(?:<tr>)(?:[^<]*(?:<td>([^<]+)</td>[^<]*)*)(?:</tr>)', data)\n",
    "#radek = m.group(0)\n",
    "#print(radek)\n",
    "radek = m.group(1)\n",
    "print(radek)"
   ]
  },
  {
   "cell_type": "code",
   "execution_count": null,
   "metadata": {
    "id": "military-boulder",
    "outputId": "7a5a4059-2f2f-44a8-e393-25c5cc0533e6"
   },
   "outputs": [
    {
     "name": "stdout",
     "output_type": "stream",
     "text": [
      "0 \n",
      "    <td>20. 10. 2020<\n",
      "1 \n",
      "    <td>22. 10. 2020<\n",
      "2 \n",
      "    <td>27. 10. 2020<\n",
      "3 \n",
      "    <td>27. 10. 2020<\n",
      "4 \n",
      "    <td>29. 10. 2020<\n",
      "5 \n",
      "    <td>30. 10. 2020<\n",
      "6 \n",
      "    <td>04. 11. 2020<\n",
      "7 \n",
      "    <td>04. 11. 2020<\n",
      "8 \n",
      "    <td>04. 11. 2020<\n",
      "9 \n",
      "    <td>05. 11. 2020<\n",
      "10 \n",
      "    <td>10. 11. 2020<\n"
     ]
    }
   ],
   "source": [
    "data = readTbl(633)\n",
    "regTester = re.compile(r'(?:<tr>)([^<]*(?:<td>[^<]*</td>[^<]*)*)(?:</tr>)')\n",
    "matches = regTester.findall(data)\n",
    "result = []\n",
    "for _ in matches:\n",
    "    result.append(_)\n",
    "\n",
    "for index, item in enumerate(result):\n",
    "    print(index, item[:23])\n",
    "    if index > 9:\n",
    "        break"
   ]
  },
  {
   "cell_type": "code",
   "execution_count": null,
   "metadata": {
    "id": "Py102TsCl55y"
   },
   "outputs": [],
   "source": []
  }
 ],
 "metadata": {
  "colab": {
   "name": "04_collecting.ipynb",
   "provenance": [],
   "toc_visible": true
  },
  "kernelspec": {
   "display_name": "Python 3 (ipykernel)",
   "language": "python",
   "name": "python3"
  },
  "language_info": {
   "codemirror_mode": {
    "name": "ipython",
    "version": 3
   },
   "file_extension": ".py",
   "mimetype": "text/x-python",
   "name": "python",
   "nbconvert_exporter": "python",
   "pygments_lexer": "ipython3",
   "version": "3.9.7"
  }
 },
 "nbformat": 4,
 "nbformat_minor": 4
}
