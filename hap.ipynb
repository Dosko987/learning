{
  "nbformat": 4,
  "nbformat_minor": 0,
  "metadata": {
    "colab": {
      "name": "hap.ipynb",
      "provenance": [],
      "authorship_tag": "ABX9TyNgMYw2WdHsFvmJjRwMhuek",
      "include_colab_link": true
    },
    "kernelspec": {
      "name": "python3",
      "display_name": "Python 3"
    },
    "language_info": {
      "name": "python"
    }
  },
  "cells": [
    {
      "cell_type": "markdown",
      "metadata": {
        "id": "view-in-github",
        "colab_type": "text"
      },
      "source": [
        "<a href=\"https://colab.research.google.com/github/hrbolek/learning/blob/master/hap.ipynb\" target=\"_parent\"><img src=\"https://colab.research.google.com/assets/colab-badge.svg\" alt=\"Open In Colab\"/></a>"
      ]
    },
    {
      "cell_type": "markdown",
      "metadata": {
        "id": "GQEVd1l26LRY"
      },
      "source": [
        "# Hodnocení akademických pracovníků na Univerzitě obrany"
      ]
    },
    {
      "cell_type": "markdown",
      "metadata": {
        "id": "sT9zCKfN6WzM"
      },
      "source": [
        "## Pomocný kód\n",
        "\n",
        "![purple-divider](https://user-images.githubusercontent.com/7065401/52071927-c1cd7100-2562-11e9-908a-dde91ba14e59.png)"
      ]
    },
    {
      "cell_type": "markdown",
      "metadata": {
        "id": "KwRr_rpN6Sxn"
      },
      "source": [
        "## Platforma pro tuto prezentaci\n",
        "\n",
        "![purple-divider](https://user-images.githubusercontent.com/7065401/52071927-c1cd7100-2562-11e9-908a-dde91ba14e59.png)"
      ]
    },
    {
      "cell_type": "markdown",
      "metadata": {
        "id": "NmCp70ym8XOg"
      },
      "source": [
        "Tuto prezentaci jsem vytvořil na platformě Jupyter, která spojuje programovací nástroje s interaktivním prostředím přístupným prostřednictvím webových služeb. Posluchač / student může takový výstup, jako máte před sebou, sledovat pasivně v rámci výkladu, ale i aktivně, za předpokladu, že připravený text obsahuje i části kódu připravené s cílem umožnit experimentování typu \"co se stane, když...\""
      ]
    },
    {
      "cell_type": "markdown",
      "metadata": {
        "id": "nFFxfVEE89gn"
      },
      "source": [
        "### Jupyter"
      ]
    },
    {
      "cell_type": "markdown",
      "metadata": {
        "id": "A9zlkWh5-K7f"
      },
      "source": [
        "Mnoho učitelů, především vysokoškolských, ale i vědeckých pracovníků hledá prostředí, ve kterém by bylo možno vytvářet texty a doplňovat je výpočty. V relativně nedávné době (cca rok 2014) byl veřejnosti představen projekt **[Jupyter](https://jupyter.org/)**. "
      ]
    },
    {
      "cell_type": "markdown",
      "metadata": {
        "id": "39qMtD1o-O_e"
      },
      "source": [
        "Projekt **Jupyter** představuje možnost integrace běžného textu a dílčích výpočtů. Primárně dílčí výpočty bylo možno dělat v programovacím jazyce Python, který je do dnes v této oblasti dominantní, ale portfolio jazyků se významně rozšířilo a dnes je možné používat prakticky všechny jazyky, a to včetně jazyků **C++**, **Javascript** a **R**. Uživatele **Matlabu** může překvapit, jak blízko Jupyter je jak z hlediska syntaxe, tak i z hlediska dostupných knihoven včetně knihovny pro vizualizaci výsledků."
      ]
    },
    {
      "cell_type": "markdown",
      "metadata": {
        "id": "jpMek37j-RcI"
      },
      "source": [
        "Jupyter je opensourcové řešení. Pro práci s ním je k dispozici celá řada nástrojů, pro jejich využití není potřeba instalovat speciální programy. Máte-li ale potřebu si vytvořit vlastní prostředí, lze to udělat jak na stolním počítači, se kterým pracujete jen vy, tak i na serveru a tento sdílet s ostatními.\n",
        "\n"
      ]
    },
    {
      "cell_type": "markdown",
      "metadata": {
        "id": "NV9O2FOE9_zh"
      },
      "source": [
        "\n",
        "\n",
        "\n",
        "\n",
        "\n",
        "\n",
        "\n",
        "\n",
        "Součástí produktu jsou knihovny **[Matplotlib](https://matplotlib.org/)** pro grafické výstupy, **[Scipy](https://www.scipy.org/)** pro matematické výpočty, řešení diferenciálních rovnic, symbolické výpočty apod., **[NumPy](https://numpy.org/)** pro Lineární algebru, ale i Fourierovu transformaci, **[Pandas](https://pandas.pydata.org/)** pro datovou anylýzu.\n",
        "\n",
        "Zajímavým prostředím je [Kaggle](https://www.kaggle.com/). Jedná se o platformu pro vyhlašování soutěží."
      ]
    },
    {
      "cell_type": "markdown",
      "metadata": {
        "id": "4PXw2kRSIx5I"
      },
      "source": [
        "### Nástroje"
      ]
    },
    {
      "cell_type": "markdown",
      "metadata": {
        "id": "UySFDt0mI1oR"
      },
      "source": [
        "Pravděpodobně nejoblíběnějším \"volným\" nástrojem je **[Google Colab](https://colab.research.google.com)**, který poskytuje prostředí, ve kterém lze vytvářet, spouštět, ukládat či jiným způsobem zpracovávat tzv. **\"notebooky\"**, což je právě propojení volného textu a dílčích výpočtů."
      ]
    },
    {
      "cell_type": "markdown",
      "metadata": {
        "id": "CW8-Gs8D-V2m"
      },
      "source": [
        "Dalším nástrojem je **[Github](https://github.com)**, který je poskytován firmou Microsoft obecně pro správu zdrojových kódů, spolupráci na nich, jejich historii, apod. Github umožňuje integraci s Google Colab, kdy lze notebooky uložené v Githubu otevírat v prostředí Google Colab, zde spouštět a upravovat a zpětně ukládat do Githubu. Dokument, který nyní čtete vznikal právě tímto způsobem. Byl editován v prostředí Google Colab a ukládán na Github. Třetí nástrojem, který je vhodné zmínit je **[NBViewer](https://nbviewer.jupyter.org/)** a **[MyBinder](https://mybinder.org/)**. NBViewer umožňuje komfortněji prohlížet notebooky, MyBinder je umožňuje spouštět."
      ]
    },
    {
      "cell_type": "markdown",
      "metadata": {
        "id": "I4s3mvwG-dqe"
      },
      "source": [
        "Do rodiny produktů kolem Jupyteru patří i další. Jedná se o nástroj konverze notebooku do jiných formátů, **pdf**, **LaTEX** i dalších. Tímto nástrojem je **[NBConvert](https://nbconvert.readthedocs.io/en/latest/)**, který je integrovaný v instalacích Jupyteru. Není možné nezmínit nástroje jako je **[PaperMill](https://papermill.readthedocs.io/en/latest/)**, či **[Voilá](https://voila-gallery.org/)**, které patří zcela jistě do skupiny nástrojů pro velmi pokročilé uživatele. V roce 2019 byl založen projekt **[Jupyter-book](https://jupyterbook.org/intro.html)**, který umožňuje konverzi notebooků do webových stránek (knih) či do pdf. "
      ]
    },
    {
      "cell_type": "markdown",
      "metadata": {
        "id": "LBOlblQ3I3wI"
      },
      "source": [
        "### Aktivity"
      ]
    },
    {
      "cell_type": "markdown",
      "metadata": {
        "id": "PTnm326O-jO4"
      },
      "source": [
        "Vznikají aktivity, jejichž cílem je zakonzervovat výstupy z vědeckého výzkumu a publikovat tento stav. Díky tomu kdokoliv může ověřit, že výpočty nebyly zmanipulovány. Příkladem služby je **[CodeOcean](https://codeocean.com/)**. Jedná se o tzv reprodukovatelnou vědu. Na jednu archivovanou práci z oblasti BioInformatiky se můžete podívat zde **[FMRIPrep: a robust preprocessing pipeline for functional MRI](https://codeocean.com/capsule/3568017/tree/v1)**."
      ]
    },
    {
      "cell_type": "markdown",
      "metadata": {
        "id": "UoMXZftyI6hq"
      },
      "source": [
        "### Využití ve světě"
      ]
    },
    {
      "cell_type": "markdown",
      "metadata": {
        "id": "7HzypepP-FEm"
      },
      "source": [
        "Ve světě se produkt používá na celé řadě univerzit. Některé jsou vyjmenovány níže.\n",
        "\n",
        "- [MIT](https://supercloud.mit.edu/jupyter-notebooks)\n",
        "\n",
        "- [Standford](https://web.stanford.edu/group/farmshare/cgi-bin/wiki/index.php/Jupyter)\n",
        "\n",
        "- [Berkeley](https://bids.berkeley.edu/research/project-jupyter)\n",
        "\n",
        "- [Harward](https://atg.fas.harvard.edu/jupyterhub)\n",
        "\n",
        "- [UK](https://jupyter.kam.mff.cuni.cz/hub/login)\n",
        "\n",
        "- [MUNI](https://it.muni.cz/phil/lindat-clariah/clanky/jupyter-notebooks-v-humanitnich-vedach) \n",
        "\n",
        "- [Lomonosova univerzita](https://hub.vsb.fbb.msu.ru/hub/login)\n",
        "\n",
        "- [Univerzita v Heidelbergu](https://jupyter.kip.uni-heidelberg.de/hub/login)"
      ]
    },
    {
      "cell_type": "markdown",
      "metadata": {
        "id": "Xe3CpKiF78Ho"
      },
      "source": [
        "## Vícekriteriální hodnocení\n",
        "\n",
        "![purple-divider](https://user-images.githubusercontent.com/7065401/52071927-c1cd7100-2562-11e9-908a-dde91ba14e59.png)"
      ]
    },
    {
      "cell_type": "markdown",
      "metadata": {
        "id": "DR4NEwiU-1Ae"
      },
      "source": [
        "Úloha, při níž provádíme výběr nejlepší varianty, případně výběr nejhorší varianty je optimalizační úlohou. V takových úlohách je nutné definovat kritérium, jehož využitím / aplikací můžeme provést porovnání dvou přípustných řešení a konstatovat, které z řešení je lepší."
      ]
    },
    {
      "cell_type": "markdown",
      "metadata": {
        "id": "wpwnE3wjATPg"
      },
      "source": [
        "Označme nyní přípustné řešení jako $x_i \\in X$, kde $X$ je možina všech přípustných řešení, hodnotu kriteriální funkce $y_i=f(x_i)$. Hledáme-li přípustné řešení, které maximalizuje kriteriální funkci, potom řešení $x^*$ je hledaným řešení, jestliže $\\forall_{x\\in X}:x^*\\ge x$. "
      ]
    },
    {
      "cell_type": "markdown",
      "metadata": {
        "id": "9ffn_Gf3Bdq1"
      },
      "source": [
        "V případě, kdy pro hodnocení nepoužíváme pouze jedno kritérium, mluvíme o vícekriteriální optimalizaci. \n",
        "\n",
        "Nejjednodušším přístupem k řešení takové úlohy je stanovení vah pro jednotlivá kritéria a faktické převedení vektorové kriteriální funkce na funkci skalární.\n",
        "\n",
        "Předpokládejme, že máme množinu kritérií $F=\\{f_1, f_2, \\dots, f_n\\}$. Každému kritérii $f_i$ přiřadíme jeho váhu $\\alpha_i$. Výsledné kritérium lze poté vyjádřit jako $f(x)=\\sum_{i=0}^n f_i(x)$."
      ]
    },
    {
      "cell_type": "markdown",
      "metadata": {
        "id": "FRGJJLsGCtTF"
      },
      "source": [
        "Úloha hodnocení akademických pracovníků je fakticky optimalizační úlohou, při níž je definováno více kritérií. Zcela automaticky se vybaví dvě kritéria a to je vytížení ve výuce a výsledky tvůrčí činnosti. Na základě výše uvedených vztahů se nabízí jednotlivým kritérií přiřadit váhy a pokrýt celé hodnocení jedinou matematicky definovanou funkcí.\n",
        "\n",
        "Pro hodnocení akademických pracovníků na Univerzitě obrany je využito vícekriteriálního hodnocení založeného na fuzzy logice."
      ]
    },
    {
      "cell_type": "markdown",
      "metadata": {
        "id": "dzWd-zHf7_kx"
      },
      "source": [
        "## Fuzzy logika\n",
        "\n",
        "![purple-divider](https://user-images.githubusercontent.com/7065401/52071927-c1cd7100-2562-11e9-908a-dde91ba14e59.png)"
      ]
    },
    {
      "cell_type": "markdown",
      "metadata": {
        "id": "GaDGpxs3HjYU"
      },
      "source": [
        "### Booleova algebra"
      ]
    },
    {
      "cell_type": "markdown",
      "metadata": {
        "id": "7CpEw6_pDsNI"
      },
      "source": [
        "Fuzzy logika je matematická oblast, která binarní svět rozšiřuje o další možné stavy. Nejdříve si připomeňme operace z Booleovy algebry."
      ]
    },
    {
      "cell_type": "code",
      "metadata": {
        "colab": {
          "base_uri": "https://localhost:8080/"
        },
        "id": "RnuDwqtBD8qy",
        "outputId": "40b2ec32-1a72-4cd6-f637-efde70d0e5ba"
      },
      "source": [
        "a = True\n",
        "b = False\n",
        "c = a and b\n",
        "print(a, b, c)"
      ],
      "execution_count": 21,
      "outputs": [
        {
          "output_type": "stream",
          "text": [
            "True False False\n"
          ],
          "name": "stdout"
        }
      ]
    },
    {
      "cell_type": "markdown",
      "metadata": {
        "id": "YZFtBFV_ENET"
      },
      "source": [
        "Booleova algebra používá dvě hodnoty (výše uvedené jako `True` a `False`). Pravděpodobně všichni znáte celou řadu operátorů jako jsou `or` a `and`.\n",
        "\n",
        "Podívejme se na jednoduché pravdivostní tabulky."
      ]
    },
    {
      "cell_type": "code",
      "metadata": {
        "id": "a1CJ_IuIEqLm"
      },
      "source": [
        "def pravdivostniTabulka(trueValue, falseValue, function):\n",
        "    print('- P tabulka', '-'*30)\n",
        "    print(function)\n",
        "    print('-'*42)\n",
        "    print(falseValue, falseValue, function(falseValue, falseValue), sep='\\t')\n",
        "    print(trueValue, falseValue, function(trueValue, falseValue), sep='\\t')\n",
        "    print(falseValue, trueValue, function(falseValue, trueValue), sep='\\t')\n",
        "    print(trueValue, trueValue, function(trueValue, trueValue), sep='\\t')\n",
        "    print('='*42)\n",
        "\n",
        "def orFunction(a, b):\n",
        "    return a or b\n",
        "\n",
        "def andFunction(a, b):\n",
        "    return a and b"
      ],
      "execution_count": 34,
      "outputs": []
    },
    {
      "cell_type": "code",
      "metadata": {
        "colab": {
          "base_uri": "https://localhost:8080/"
        },
        "id": "yxhOeboZFK07",
        "outputId": "8955c446-cbb2-4a0d-c0fc-edbf55c2b81c"
      },
      "source": [
        "pravdivostniTabulka(True, False, orFunction)\n",
        "pravdivostniTabulka(True, False, andFunction)"
      ],
      "execution_count": 35,
      "outputs": [
        {
          "output_type": "stream",
          "text": [
            "- P tabulka ------------------------------\n",
            "<function orFunction at 0x7f3eb78613b0>\n",
            "------------------------------------------\n",
            "False\tFalse\tFalse\n",
            "True\tFalse\tTrue\n",
            "False\tTrue\tTrue\n",
            "True\tTrue\tTrue\n",
            "==========================================\n",
            "- P tabulka ------------------------------\n",
            "<function andFunction at 0x7f3eb78b7dd0>\n",
            "------------------------------------------\n",
            "False\tFalse\tFalse\n",
            "True\tFalse\tFalse\n",
            "False\tTrue\tFalse\n",
            "True\tTrue\tTrue\n",
            "==========================================\n"
          ],
          "name": "stdout"
        }
      ]
    },
    {
      "cell_type": "markdown",
      "metadata": {
        "id": "0ml7Spj7Ho4M"
      },
      "source": [
        "### Fuzzy hodnoty a funkce"
      ]
    },
    {
      "cell_type": "markdown",
      "metadata": {
        "id": "7HxIrcTvF5fS"
      },
      "source": [
        "Výsledky, které jsme dostali odpovídají předpokladům. Fuzzy logika je založena na myšlence, že lidé používají neurčitosti ve svých vyjádřeních. Příkladem je např. vyjádření: \"Myslím si, že spíše přijde.\" Mlhavá hodnota výroku nabývá hodnot z intervalu $<0;1>$, kde hodnota $0$ odpovídá `False` a hodnota $1$ odpovídá hodnotě `True`.\n",
        "\n",
        "Jakým způsobem ale realizovat operace jako jsou `or` a `and`."
      ]
    },
    {
      "cell_type": "code",
      "metadata": {
        "id": "0qZqfA_EGyOv"
      },
      "source": [
        "def fuzzyOr(a, b):\n",
        "    return max(a, b)\n",
        "\n",
        "def fuzzyAnd(a, b):\n",
        "    return min(a, b)"
      ],
      "execution_count": 36,
      "outputs": []
    },
    {
      "cell_type": "code",
      "metadata": {
        "colab": {
          "base_uri": "https://localhost:8080/"
        },
        "id": "EVFFzPZJG_QC",
        "outputId": "bc419caa-59ce-4079-ec49-798571e2f165"
      },
      "source": [
        "pravdivostniTabulka(1, 0, fuzzyOr)\n",
        "pravdivostniTabulka(1, 0, fuzzyAnd)"
      ],
      "execution_count": 37,
      "outputs": [
        {
          "output_type": "stream",
          "text": [
            "- P tabulka ------------------------------\n",
            "<function fuzzyOr at 0x7f3eb7878290>\n",
            "------------------------------------------\n",
            "0\t0\t0\n",
            "1\t0\t1\n",
            "0\t1\t1\n",
            "1\t1\t1\n",
            "==========================================\n",
            "- P tabulka ------------------------------\n",
            "<function fuzzyAnd at 0x7f3eb7878a70>\n",
            "------------------------------------------\n",
            "0\t0\t0\n",
            "1\t0\t0\n",
            "0\t1\t0\n",
            "1\t1\t1\n",
            "==========================================\n"
          ],
          "name": "stdout"
        }
      ]
    },
    {
      "cell_type": "markdown",
      "metadata": {
        "id": "4grmY1vTHGqx"
      },
      "source": [
        "Podívejme se, jak budou vypadat pravdivostní tabulky, pokud použijeme jiné hodnoty."
      ]
    },
    {
      "cell_type": "code",
      "metadata": {
        "colab": {
          "base_uri": "https://localhost:8080/"
        },
        "id": "ezSXQvIKHP7E",
        "outputId": "c3612d41-7c45-4aaa-c0d7-d805ffbf58e4"
      },
      "source": [
        "pravdivostniTabulka(0.6, 0.4, fuzzyOr)\n",
        "pravdivostniTabulka(0.6, 0.4, fuzzyAnd)"
      ],
      "execution_count": 38,
      "outputs": [
        {
          "output_type": "stream",
          "text": [
            "- P tabulka ------------------------------\n",
            "<function fuzzyOr at 0x7f3eb7878290>\n",
            "------------------------------------------\n",
            "0.4\t0.4\t0.4\n",
            "0.6\t0.4\t0.6\n",
            "0.4\t0.6\t0.6\n",
            "0.6\t0.6\t0.6\n",
            "==========================================\n",
            "- P tabulka ------------------------------\n",
            "<function fuzzyAnd at 0x7f3eb7878a70>\n",
            "------------------------------------------\n",
            "0.4\t0.4\t0.4\n",
            "0.6\t0.4\t0.4\n",
            "0.4\t0.6\t0.4\n",
            "0.6\t0.6\t0.6\n",
            "==========================================\n"
          ],
          "name": "stdout"
        }
      ]
    },
    {
      "cell_type": "markdown",
      "metadata": {
        "id": "OFZU6_0tHzV3"
      },
      "source": [
        "### Fuzzyfikace"
      ]
    },
    {
      "cell_type": "markdown",
      "metadata": {
        "id": "pbLRzpCRIQlT"
      },
      "source": [
        "Pro fuzzyfikaci se používají funkce příslušnosti (membership function). Funkce příslušnosti umožňují vyjádřit například, co znamená pojem \"velmi špatný\" ve vztahu hodnocení v rozsahu 0-10 \"hvězdiček\".\n",
        "\n",
        "- 0 hvězdiček - určitě \"velmi špatný\"\n",
        "- 1 hvězdička - asi \"velmi špatný\"\n",
        "- 2 hvězdičky - neznamenají \"velmi špatný\""
      ]
    },
    {
      "cell_type": "code",
      "metadata": {
        "id": "sMTfy0mBuPu6"
      },
      "source": [
        "# import knihovny pro vizualizaci (velmi podobné funkcionality jako v Matlabu) \n",
        "import matplotlib.pyplot as plt"
      ],
      "execution_count": 2,
      "outputs": []
    },
    {
      "cell_type": "code",
      "metadata": {
        "id": "jTVISwituU0t"
      },
      "source": [
        "fuzzyUniversum = [0, 1, 2, 3, 4, 5, 6, 7, 8, 9, 10]\n",
        "\n",
        "def fuzzyVectorCreator(values=fuzzyUniversum):\n",
        "    'funkce pro vytvoření membership funkce nad definovaným universem'\n",
        "    def resultFunc(value, leftDelta=2, rightDelta=2):\n",
        "        leftValue = max(value - leftDelta, values[0])\n",
        "        rightValue = min(value + rightDelta, values[-1])\n",
        "        \n",
        "        result = []\n",
        "        for item in values:\n",
        "            if item < leftValue:\n",
        "                result.append(0)\n",
        "            elif item == value:\n",
        "                result.append(1)\n",
        "            elif item < value:\n",
        "                resultItem = (item - leftValue) / leftDelta\n",
        "                result.append(resultItem)\n",
        "            elif item <= rightValue:\n",
        "                resultItem = (rightValue - item) / rightDelta\n",
        "                result.append(resultItem)\n",
        "            else:\n",
        "                result.append(0)\n",
        "        return result\n",
        "    return resultFunc"
      ],
      "execution_count": 3,
      "outputs": []
    },
    {
      "cell_type": "code",
      "metadata": {
        "id": "2M_ywW10uZh0",
        "outputId": "158d47cb-3346-4cf4-f6c7-face3ff11b75",
        "colab": {
          "base_uri": "https://localhost:8080/",
          "height": 283
        }
      },
      "source": [
        "fuzzyMapper = fuzzyVectorCreator()\n",
        "fuzzyVectorA = fuzzyMapper(0.0)\n",
        "\n",
        "plt.plot(fuzzyUniversum, fuzzyVectorA)\n",
        "print(fuzzyVectorA)"
      ],
      "execution_count": 5,
      "outputs": [
        {
          "output_type": "stream",
          "text": [
            "[1, 0.5, 0.0, 0, 0, 0, 0, 0, 0, 0, 0]\n"
          ],
          "name": "stdout"
        },
        {
          "output_type": "display_data",
          "data": {
            "image/png": "[encoded data removed]",
            "text/plain": [
              "<Figure size 432x288 with 1 Axes>"
            ]
          },
          "metadata": {
            "tags": [],
            "needs_background": "light"
          }
        }
      ]
    },
    {
      "cell_type": "code",
      "metadata": {
        "id": "4HAdP70LuLoV",
        "outputId": "7ee21846-d02c-4ead-f2ee-f77a8b0bc8ef",
        "colab": {
          "base_uri": "https://localhost:8080/",
          "height": 283
        }
      },
      "source": [
        "fuzzyMapper = fuzzyVectorCreator()\n",
        "mfVelmiSpatne = fuzzyMapper(0.0)\n",
        "mfSpatne = fuzzyMapper(3.0)\n",
        "mfPrumerne = fuzzyMapper(5.0)\n",
        "mfDobre = fuzzyMapper(7.0)\n",
        "mfVelmiDobre = fuzzyMapper(10)\n",
        "\n",
        "plt.plot(fuzzyUniversum, mfVelmiSpatne)\n",
        "plt.plot(fuzzyUniversum, mfSpatne)\n",
        "plt.plot(fuzzyUniversum, mfPrumerne)\n",
        "plt.plot(fuzzyUniversum, mfDobre)\n",
        "plt.plot(fuzzyUniversum, mfVelmiDobre)\n",
        "print(mfPrumerne)"
      ],
      "execution_count": 7,
      "outputs": [
        {
          "output_type": "stream",
          "text": [
            "[0, 0, 0, 0.0, 0.5, 1, 0.5, 0.0, 0, 0, 0]\n"
          ],
          "name": "stdout"
        },
        {
          "output_type": "display_data",
          "data": {
            "image/png": "[encoded data removed]",
            "text/plain": [
              "<Figure size 432x288 with 1 Axes>"
            ]
          },
          "metadata": {
            "tags": [],
            "needs_background": "light"
          }
        }
      ]
    },
    {
      "cell_type": "markdown",
      "metadata": {
        "id": "b1XdMYNqwqBK"
      },
      "source": [
        "Špatné a dobré jídlo, špatná a dobrá obsluha"
      ]
    },
    {
      "cell_type": "markdown",
      "metadata": {
        "id": "SveKOBPXH9lS"
      },
      "source": [
        "### Pravidlový systém"
      ]
    },
    {
      "cell_type": "markdown",
      "metadata": {
        "id": "rsbk-8bcIbzh"
      },
      "source": [
        "Pravidlový systém umožňuje definici if then pravidel nad fuzzy hodnotami."
      ]
    },
    {
      "cell_type": "markdown",
      "metadata": {
        "id": "llnYw8A8IAWB"
      },
      "source": [
        "### Defuzzyfikace"
      ]
    },
    {
      "cell_type": "markdown",
      "metadata": {
        "id": "aRN0LHjWIB_S"
      },
      "source": [
        "### Příklad (spropitné)"
      ]
    },
    {
      "cell_type": "markdown",
      "metadata": {
        "id": "OKzHg6mv8B5U"
      },
      "source": [
        "## Využití fuzzy logiky pro hodnocení (HAP)\n",
        "\n",
        "![purple-divider](https://user-images.githubusercontent.com/7065401/52071927-c1cd7100-2562-11e9-908a-dde91ba14e59.png)"
      ]
    },
    {
      "cell_type": "markdown",
      "metadata": {
        "id": "wflu8jEQ8Jr2"
      },
      "source": [
        "## Závěr\n",
        "\n",
        "![purple-divider](https://user-images.githubusercontent.com/7065401/52071927-c1cd7100-2562-11e9-908a-dde91ba14e59.png)"
      ]
    },
    {
      "cell_type": "code",
      "metadata": {
        "id": "n8DGpflr4z6Q"
      },
      "source": [
        ""
      ],
      "execution_count": null,
      "outputs": []
    }
  ]
}