{
  "nbformat": 4,
  "nbformat_minor": 0,
  "metadata": {
    "colab": {
      "name": "LinearProg.ipynb",
      "provenance": [],
      "authorship_tag": "ABX9TyNbVd3rQMmr0eZ3TAQI0o2r",
      "include_colab_link": true
    },
    "kernelspec": {
      "name": "python3",
      "display_name": "Python 3"
    }
  },
  "cells": [
    {
      "cell_type": "markdown",
      "metadata": {
        "id": "view-in-github",
        "colab_type": "text"
      },
      "source": [
        "<a href=\"https://colab.research.google.com/github/hrbolek/learning/blob/master/operanalyst/linearprog.ipynb\" target=\"_parent\"><img src=\"https://colab.research.google.com/assets/colab-badge.svg\" alt=\"Open In Colab\"/></a>"
      ]
    },
    {
      "cell_type": "code",
      "metadata": {
        "id": "MNGyqgmSeXjd",
        "colab_type": "code",
        "colab": {}
      },
      "source": [
        ""
      ],
      "execution_count": null,
      "outputs": []
    },
    {
      "cell_type": "markdown",
      "metadata": {
        "id": "YcCe4d0cvyHQ",
        "colab_type": "text"
      },
      "source": [
        "## Příklady"
      ]
    },
    {
      "cell_type": "markdown",
      "metadata": {
        "id": "3yxGZd44v1gV",
        "colab_type": "text"
      },
      "source": [
        "### Příklad 1"
      ]
    },
    {
      "cell_type": "markdown",
      "metadata": {
        "id": "mZGIzCEVv5jl",
        "colab_type": "text"
      },
      "source": [
        "Surový materiál je dodáván v délce 7 m. Požadavek je produkovat délky 2.3 m (A), 1.9 m (B) a 0.8 m (C) v počtech A 60 ks, B 90 ks a C 320 ks. Stanovte minimální počet kusů surového materiálu."
      ]
    },
    {
      "cell_type": "code",
      "metadata": {
        "id": "Ewu3eDat2lQt",
        "colab_type": "code",
        "colab": {
          "base_uri": "https://localhost:8080/",
          "height": 201
        },
        "outputId": "de8eab35-d641-43e2-9b97-c1409d5231f1"
      },
      "source": [
        "def cutIt(source, *results):\n",
        "  '''\n",
        "  Pocita mozne rozrezani materialu, \n",
        "  zdrojovy material je source, results cilove delky\n",
        "  '''\n",
        "  \n",
        "  noyield = True # zadny vysledek nebyl vygenerovan\n",
        "  for current in results:\n",
        "    \n",
        "    if current <= source: # rez lze provest jen tehdy, pokud je surovina delsi nez vysledek\n",
        "      \n",
        "      # zjistime mozne rezy ze zbytku\n",
        "      for cutting in cutIt(source - current, *results):\n",
        "        if len(cutting) == 0:\n",
        "          # rez je \"nerez\", vracena prazdna kombinace\n",
        "          noyield = False\n",
        "          yield [current] # vysledna konfigurace rezu tedy obsahuje jen jeden prvek\n",
        "          continue\n",
        "        if current >= max(cutting):\n",
        "          # vraceny cutting je serazen podle velikost, tedy zastupuje vsechny ekvivalentni kombinace \n",
        "          noyield = False\n",
        "          yield [current, *cutting]\n",
        "  if noyield:\n",
        "    # zadna konfigurace rezu nebyla vracena, musime vratit prazdnou konfiguraci\n",
        "    yield []\n",
        "\n",
        "for index, possibleCut in enumerate(cutIt(7, 2.3, 1.9, 0.8)):\n",
        "  print('cut:', possibleCut, '\\tΣ', sum(possibleCut))"
      ],
      "execution_count": 9,
      "outputs": [
        {
          "output_type": "stream",
          "text": [
            "cut: [2.3, 2.3, 2.3] \tΣ 6.8999999999999995\n",
            "cut: [2.3, 2.3, 1.9] \tΣ 6.5\n",
            "cut: [2.3, 2.3, 0.8, 0.8, 0.8] \tΣ 6.999999999999999\n",
            "cut: [2.3, 1.9, 1.9, 0.8] \tΣ 6.8999999999999995\n",
            "cut: [2.3, 1.9, 0.8, 0.8, 0.8] \tΣ 6.599999999999999\n",
            "cut: [2.3, 0.8, 0.8, 0.8, 0.8, 0.8] \tΣ 6.299999999999999\n",
            "cut: [1.9, 1.9, 1.9, 0.8] \tΣ 6.499999999999999\n",
            "cut: [1.9, 1.9, 0.8, 0.8, 0.8] \tΣ 6.199999999999999\n",
            "cut: [1.9, 0.8, 0.8, 0.8, 0.8, 0.8, 0.8] \tΣ 6.699999999999999\n",
            "cut: [0.8, 0.8, 0.8, 0.8, 0.8, 0.8, 0.8, 0.8] \tΣ 6.3999999999999995\n"
          ],
          "name": "stdout"
        }
      ]
    }
  ]
}