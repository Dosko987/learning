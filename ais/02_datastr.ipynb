{
  "nbformat": 4,
  "nbformat_minor": 0,
  "metadata": {
    "colab": {
      "name": "02_datastr.ipynb",
      "provenance": [],
      "toc_visible": true
    },
    "kernelspec": {
      "name": "python3",
      "display_name": "Python 3"
    },
    "language_info": {
      "name": "python"
    }
  },
  "cells": [
    {
      "cell_type": "markdown",
      "metadata": {
        "id": "sJNR1E0ztJZM"
      },
      "source": [
        "# Datové struktury"
      ]
    },
    {
      "cell_type": "code",
      "metadata": {
        "id": "YqW0ChQBtA9f"
      },
      "source": [
        "from IPython.display import HTML\n",
        "\n",
        "def YVideo(id, t=None):\n",
        "# Youtube\n",
        "    if t is None:\n",
        "        fullStr = f'<iframe width=\"560\" height=\"315\" src=\"https://www.youtube.com/embed/{id}?rel=0&amp;controls=0&amp;showinfo=0\" frameborder=\"0\" allowfullscreen></iframe>'\n",
        "    else:\n",
        "        fullStr = f'<iframe width=\"560\" height=\"315\" src=\"https://www.youtube.com/embed/{id}?start={t}&amp;controls=0&amp;showinfo=0\" frameborder=\"0\" allowfullscreen></iframe>'\n",
        "    return HTML(fullStr)"
      ],
      "execution_count": 18,
      "outputs": []
    },
    {
      "cell_type": "markdown",
      "metadata": {
        "id": "phipGOJ8saKF"
      },
      "source": [
        "- Datové struktury\n",
        "    - Elementární datové struktury\n",
        "        - Znak\n",
        "        - Číslo (IEEE 754)\n",
        "        - Bool\n",
        "    - Komplexní datové struktury\n",
        "        - List (Python)\n",
        "        - Dict (Python)\n",
        "        - Tree\n",
        "        - Graph\n",
        "    - Principiální algoritmy pro práci s datovými strukturami\n",
        "        - Třídění\n",
        "        - Vyhledávání \n",
        "        - Výpočetní složitost"
      ]
    },
    {
      "cell_type": "markdown",
      "metadata": {
        "id": "GkQ__rXZtO_m"
      },
      "source": [
        "## Elementární datové struktury"
      ]
    },
    {
      "cell_type": "markdown",
      "metadata": {
        "id": "2voSE9Owfm0g"
      },
      "source": [
        "### Čísla"
      ]
    },
    {
      "cell_type": "markdown",
      "metadata": {
        "id": "mv2HD2r7fpPy"
      },
      "source": [
        "Pravděpodobně historicky první datový prvek ukládaný v počítači. Rozlišujeme celá čísla a čísla s desetinnou čárkou (tečkou). Obecně je vhodné mít na paměti, že jakákoliv data jsou v paměti počítači zakódována v posloupnosti bitů (bytů). Celá čísla se aktuálně používají v podobě, která je adekvátní 2, 4, či 8 bytům.\n",
        "\n",
        "Čísla s desetinnou čárkou definuje norma IEEE 754 v podobě 4, 8 a 10 bytů.\n",
        "\n",
        "> Kolik možných kombinací odpovídá 8 bytům?\n",
        ">\n",
        "> Kolik různých desetinných čísel znáte?\n",
        "> \n",
        "> Jaké komplikace z této skutečnosti vyplývají?"
      ]
    },
    {
      "cell_type": "code",
      "metadata": {
        "colab": {
          "base_uri": "https://localhost:8080/"
        },
        "id": "HV3xeDk5hbJu",
        "outputId": "7e14aa9f-0ad4-455b-e7e4-71e6fad77bb8"
      },
      "source": [
        "end = 0.8\n",
        "start = 0\n",
        "delta = 0.1\n",
        "\n",
        "currentValue = start\n",
        "index = 0\n",
        "while currentValue < end:\n",
        "    print(index, '\\t', currentValue)\n",
        "    currentValue = currentValue + delta\n",
        "    index = index + 1 "
      ],
      "execution_count": null,
      "outputs": [
        {
          "output_type": "stream",
          "name": "stdout",
          "text": [
            "0 \t 0\n",
            "1 \t 0.1\n",
            "2 \t 0.2\n",
            "3 \t 0.30000000000000004\n",
            "4 \t 0.4\n",
            "5 \t 0.5\n",
            "6 \t 0.6\n",
            "7 \t 0.7\n",
            "8 \t 0.7999999999999999\n"
          ]
        }
      ]
    },
    {
      "cell_type": "code",
      "metadata": {
        "colab": {
          "base_uri": "https://localhost:8080/"
        },
        "id": "cjKFiY4sd2J6",
        "outputId": "6be26306-5c27-4241-f3a8-86bd42155291"
      },
      "source": [
        "value = 0.1\n",
        "print(0.125 - value)"
      ],
      "execution_count": null,
      "outputs": [
        {
          "output_type": "stream",
          "name": "stdout",
          "text": [
            "0.024999999999999994\n"
          ]
        }
      ]
    },
    {
      "cell_type": "markdown",
      "metadata": {
        "id": "GwznyTAXkMJR"
      },
      "source": [
        "Čísla s periodickým vyjádřením\n",
        "\n",
        "$\\frac{1}{3}=0.3333$ ?\n",
        "\n",
        "> Jaký tvar má číslo 0.1 v paměti za předpokladu, že se jedná o implementaci podle IEEE 754, varianta 8 bytů?\n",
        "> "
      ]
    },
    {
      "cell_type": "code",
      "metadata": {
        "id": "jDkd5n0akJvQ",
        "colab": {
          "base_uri": "https://localhost:8080/"
        },
        "outputId": "f9c47110-9d89-49ac-e397-58ec82e20b91"
      },
      "source": [
        "data = 0.1\n",
        "cValue = 0.5\n",
        "while data > 1e-15:\n",
        "    cValue = cValue / 2\n",
        "    if data > cValue:\n",
        "        print('1', end='')\n",
        "        data = data - cValue\n",
        "    else:\n",
        "        print('0', end='')\n",
        "    "
      ],
      "execution_count": null,
      "outputs": [
        {
          "output_type": "stream",
          "name": "stdout",
          "text": [
            "001100110011001100110011001100110011001100110011"
          ]
        }
      ]
    },
    {
      "cell_type": "markdown",
      "metadata": {
        "id": "_jmb-RS1e-uH"
      },
      "source": [
        "[IEEE-754 Floating Point Converter](https://www.h-schmidt.net/FloatConverter/IEEE754.html)"
      ]
    },
    {
      "cell_type": "markdown",
      "metadata": {
        "id": "AfCEnhQci78b"
      },
      "source": [
        "### Znak"
      ]
    },
    {
      "cell_type": "markdown",
      "metadata": {
        "id": "acmxDJVIjAe0"
      },
      "source": [
        "Potřeba ukládat text v počítači vedla k vytvoření datového typu znak. Historicky byl znak reprezentován 1 bytem.\n",
        "\n",
        "> Kolik možných kombinací odpovídá 1 bytu?\n",
        "> \n",
        "> Kolik znaků znáte?\n",
        "> \n",
        "> Jaké komplikace z této skutečnosti vyplývají?\n",
        "> \n",
        "> Jaké řešení bylo implementováno?\n",
        "\n"
      ]
    },
    {
      "cell_type": "code",
      "metadata": {
        "colab": {
          "base_uri": "https://localhost:8080/"
        },
        "id": "7h4_0mf8jxQp",
        "outputId": "6258d2ac-f897-46db-aa1e-e31aabee39e7"
      },
      "source": [
        "import sys\n",
        "\n",
        "print(sys.getsizeof(''))\n",
        "print(sys.getsizeof('A'))\n",
        "print(sys.getsizeof('Á'))"
      ],
      "execution_count": null,
      "outputs": [
        {
          "output_type": "stream",
          "name": "stdout",
          "text": [
            "53\n",
            "50\n",
            "74\n"
          ]
        }
      ]
    },
    {
      "cell_type": "code",
      "metadata": {
        "colab": {
          "base_uri": "https://localhost:8080/"
        },
        "id": "2PgHo_mmnhkq",
        "outputId": "47b35dba-d740-4e3d-80e9-ed9eaf5c8d2e"
      },
      "source": [
        "print(sys.getsizeof('Á'))\n",
        "print(sys.getsizeof('ÁB'))\n",
        "print(sys.getsizeof('ÁČ'))\n",
        "print(sys.getsizeof('ÁČĎ'))\n",
        "print(sys.getsizeof('ÁČĎÉ'))"
      ],
      "execution_count": null,
      "outputs": [
        {
          "output_type": "stream",
          "name": "stdout",
          "text": [
            "74\n",
            "75\n",
            "78\n",
            "80\n",
            "82\n"
          ]
        }
      ]
    },
    {
      "cell_type": "code",
      "metadata": {
        "colab": {
          "base_uri": "https://localhost:8080/"
        },
        "id": "AU-iCDmBn87q",
        "outputId": "6ace5d79-65e0-494a-862a-2a69c6bb0d47"
      },
      "source": [
        "text = '\\U00000394'\n",
        "print(sys.getsizeof(text))\n",
        "print(sys.getsizeof(text + 'Á'))"
      ],
      "execution_count": null,
      "outputs": [
        {
          "output_type": "stream",
          "name": "stdout",
          "text": [
            "76\n",
            "78\n"
          ]
        }
      ]
    },
    {
      "cell_type": "markdown",
      "metadata": {
        "id": "Y7QStLaytRFa"
      },
      "source": [
        "## Komplexní datové struktury"
      ]
    },
    {
      "cell_type": "markdown",
      "metadata": {
        "id": "1knT42cghoOU"
      },
      "source": [
        "> **Doporučené video**\n",
        ">\n",
        "> [Data Structures & Algorithms Tutorial 20 dílů](https://www.youtube.com/playlist?list=PLeo1K3hjS3uu_n_a__MI_KktGTLYopZ12)"
      ]
    },
    {
      "cell_type": "markdown",
      "metadata": {
        "id": "yfOCb3sFo9Aa"
      },
      "source": [
        "### List"
      ]
    },
    {
      "cell_type": "code",
      "metadata": {
        "id": "bJOiNPpopT48"
      },
      "source": [
        "data = [0, 1]"
      ],
      "execution_count": null,
      "outputs": []
    },
    {
      "cell_type": "markdown",
      "metadata": {
        "id": "QnVVSvY9tCzl"
      },
      "source": [
        "Implementace / organizace v paměti počítače (na úrovni strojového kódu). \n",
        "\n",
        "Ekvivalence s tabulkou v databázi. Tabulka má záznamy, list má položky."
      ]
    },
    {
      "cell_type": "markdown",
      "metadata": {
        "id": "MKZdUwDyB1SW"
      },
      "source": [
        "Role hvězdičky pro práci s listem `*data`"
      ]
    },
    {
      "cell_type": "code",
      "metadata": {
        "id": "yLfDLOw3B9J0",
        "colab": {
          "base_uri": "https://localhost:8080/"
        },
        "outputId": "726f3c86-fea1-48cb-f355-207d7e0b6714"
      },
      "source": [
        "data = [0, 1, 2, 3, 4]\n",
        "first, *others, last = data\n",
        "print(first, others, last)"
      ],
      "execution_count": null,
      "outputs": [
        {
          "output_type": "stream",
          "name": "stdout",
          "text": [
            "0 [1, 2, 3] 4\n"
          ]
        }
      ]
    },
    {
      "cell_type": "code",
      "metadata": {
        "id": "hj_vtNnPCOi9",
        "colab": {
          "base_uri": "https://localhost:8080/"
        },
        "outputId": "a711ac3a-72ac-43f4-ef96-ff0d58b4242e"
      },
      "source": [
        "def printList(*args):\n",
        "    for arg in args:\n",
        "        print(arg)\n",
        "\n",
        "printList(0, 1, 2, 3, 'a', 'b', 'c')\n",
        "printList([0, 1, 2, 3], ['a', 'b', 'c'])"
      ],
      "execution_count": null,
      "outputs": [
        {
          "output_type": "stream",
          "name": "stdout",
          "text": [
            "0\n",
            "1\n",
            "2\n",
            "3\n",
            "a\n",
            "b\n",
            "c\n",
            "[0, 1, 2, 3]\n",
            "['a', 'b', 'c']\n"
          ]
        }
      ]
    },
    {
      "cell_type": "markdown",
      "metadata": {
        "id": "wVSgLVUNiEi6"
      },
      "source": [
        "#### Datové struktury odvozené z listu (array)"
      ]
    },
    {
      "cell_type": "markdown",
      "metadata": {
        "id": "OYICyvE3iKMb"
      },
      "source": [
        "- Queue / fronta FIFO [asynchronní fronty](https://docs.python.org/3/library/asyncio-queue.html)\n",
        "- Stack / zásobník LIFO [asynchronní fronty](https://docs.python.org/3/library/asyncio-queue.html)\n",
        "\n"
      ]
    },
    {
      "cell_type": "markdown",
      "metadata": {
        "id": "PqHqM9W1jOYE"
      },
      "source": [
        "#### Queue"
      ]
    },
    {
      "cell_type": "code",
      "metadata": {
        "colab": {
          "base_uri": "https://localhost:8080/"
        },
        "id": "RkEO8mWcjSK-",
        "outputId": "0a8d4d9f-1720-43b0-f731-efbc419c80dd"
      },
      "source": [
        "data = []\n",
        "data.append(1)\n",
        "data.append(2)\n",
        "data.append(3)\n",
        "print(data)\n",
        "item, *data = data\n",
        "print(item, data)\n"
      ],
      "execution_count": 1,
      "outputs": [
        {
          "output_type": "stream",
          "name": "stdout",
          "text": [
            "[1, 2, 3]\n",
            "1 [2, 3]\n"
          ]
        }
      ]
    },
    {
      "cell_type": "markdown",
      "metadata": {
        "id": "ztsVIorEjq6Y"
      },
      "source": [
        "#### Stack"
      ]
    },
    {
      "cell_type": "code",
      "metadata": {
        "colab": {
          "base_uri": "https://localhost:8080/"
        },
        "id": "2zeIKo4vjs8u",
        "outputId": "e7e95c94-c664-4780-ca96-a1f4df78e9ec"
      },
      "source": [
        "data = []\n",
        "data.append(1)\n",
        "data.append(2)\n",
        "data.append(3)\n",
        "print(data)\n",
        "*data, item = data\n",
        "print(data, item)"
      ],
      "execution_count": 2,
      "outputs": [
        {
          "output_type": "stream",
          "name": "stdout",
          "text": [
            "[1, 2, 3]\n",
            "[1, 2] 3\n"
          ]
        }
      ]
    },
    {
      "cell_type": "markdown",
      "metadata": {
        "id": "QZA47qLFo_vN"
      },
      "source": [
        "### Dictionary"
      ]
    },
    {
      "cell_type": "code",
      "metadata": {
        "id": "cQIptJmqxwmz"
      },
      "source": [
        "data = {'value': 0}"
      ],
      "execution_count": 3,
      "outputs": []
    },
    {
      "cell_type": "markdown",
      "metadata": {
        "id": "PJTZS0zIBC5a"
      },
      "source": [
        "Množina pojmenovaných hodnot. Podle jazyka mohou být jména omezena."
      ]
    },
    {
      "cell_type": "code",
      "metadata": {
        "id": "g8Pc_MVZBLW4",
        "colab": {
          "base_uri": "https://localhost:8080/"
        },
        "outputId": "9498e6b8-723c-49ee-8032-1fa14452268c"
      },
      "source": [
        "data2 = {1: 'ahoj', 'x': 5}\n",
        "print(data2)"
      ],
      "execution_count": 4,
      "outputs": [
        {
          "output_type": "stream",
          "name": "stdout",
          "text": [
            "{1: 'ahoj', 'x': 5}\n"
          ]
        }
      ]
    },
    {
      "cell_type": "markdown",
      "metadata": {
        "id": "BbmB54QUBXoS"
      },
      "source": [
        "Implementace / organizace v paměti počítače (na úrovni strojového kódu). \n",
        "\n",
        "Ekvivalence s tabulkou v databázi. Tabulka má záznamy s unikátním id (klíč), dictionary má (unikátní) klíče a pro každý klíč hodnotu."
      ]
    },
    {
      "cell_type": "markdown",
      "metadata": {
        "id": "q1Kr4uJYCo7A"
      },
      "source": [
        "Role dvojhvězdičky pro práci s dictionary"
      ]
    },
    {
      "cell_type": "code",
      "metadata": {
        "id": "I_dGXCpiCvbb",
        "colab": {
          "base_uri": "https://localhost:8080/"
        },
        "outputId": "403d00c4-c7d9-4ae3-d285-b3f90c5c8528"
      },
      "source": [
        "data = {'name': 'John', 'age': 5}\n",
        "print(data)\n",
        "newData = {**data, 'age': 6}\n",
        "print(data)\n",
        "print(newData)"
      ],
      "execution_count": 5,
      "outputs": [
        {
          "output_type": "stream",
          "name": "stdout",
          "text": [
            "{'name': 'John', 'age': 5}\n",
            "{'name': 'John', 'age': 5}\n",
            "{'name': 'John', 'age': 6}\n"
          ]
        }
      ]
    },
    {
      "cell_type": "code",
      "metadata": {
        "id": "0eRYPRSMC-mY",
        "colab": {
          "base_uri": "https://localhost:8080/"
        },
        "outputId": "6bd0dc96-af85-47c8-be66-d030dfbc54fa"
      },
      "source": [
        "def printDict(**kwargs):\n",
        "    for key, value in kwargs.items():\n",
        "        print(key, value)\n",
        "\n",
        "printDict(a=1, b='hi')"
      ],
      "execution_count": 6,
      "outputs": [
        {
          "output_type": "stream",
          "name": "stdout",
          "text": [
            "a 1\n",
            "b hi\n"
          ]
        }
      ]
    },
    {
      "cell_type": "markdown",
      "metadata": {
        "id": "iSxljF_Ax07D"
      },
      "source": [
        "### Strom"
      ]
    },
    {
      "cell_type": "markdown",
      "metadata": {
        "id": "7a6k5kSd33_2"
      },
      "source": [
        "[Wiki](https://en.wikipedia.org/wiki/Tree_(data_structure))\n",
        "\n",
        "Strom je definován:\n",
        "- množinou vrcholů (uzlů) \n",
        "- kořenovým vrcholem\n",
        "- funkcí, která každému vrcholu přiřazuje datovou strukturu\n",
        "\n",
        "Kořenový vrchol nemá rodiče,\n",
        "každý další vrchol má právě jednoho rodiče.\n",
        "\n",
        "> **Doporučené video**\n",
        ">\n",
        "> [Tree (General Tree) - Data Structures & Algorithms Tutorials In Python #9 23 min](https://www.youtube.com/watch?v=4r_XR9fUPhQ)\n",
        "\n",
        "\n",
        "\n"
      ]
    },
    {
      "cell_type": "code",
      "metadata": {
        "colab": {
          "base_uri": "https://localhost:8080/",
          "height": 336
        },
        "id": "7hl26zl6uF1K",
        "outputId": "3763ac9e-d0ae-44e0-9903-851797e1f42e"
      },
      "source": [
        "YVideo('4r_XR9fUPhQ')"
      ],
      "execution_count": null,
      "outputs": [
        {
          "output_type": "execute_result",
          "data": {
            "text/html": [
              "<iframe width=\"560\" height=\"315\" src=\"https://www.youtube.com/embed/4r_XR9fUPhQ?rel=0&amp;controls=0&amp;showinfo=0\" frameborder=\"0\" allowfullscreen></iframe>"
            ],
            "text/plain": [
              "<IPython.core.display.HTML object>"
            ]
          },
          "metadata": {},
          "execution_count": 37
        }
      ]
    },
    {
      "cell_type": "markdown",
      "metadata": {
        "id": "ngO5ugViuI3a"
      },
      "source": [
        "Knihovna implementující datovou strukturu strom v jazyku Python [treelib](https://github.com/caesar0301/treelib)."
      ]
    },
    {
      "cell_type": "code",
      "metadata": {
        "colab": {
          "base_uri": "https://localhost:8080/"
        },
        "id": "Exlv1gurmOzN",
        "outputId": "5366cd3d-1a36-4d5b-9a9e-7c003fb2f258"
      },
      "source": [
        "pip install treelib"
      ],
      "execution_count": 7,
      "outputs": [
        {
          "output_type": "stream",
          "name": "stdout",
          "text": [
            "Collecting treelib\n",
            "  Downloading treelib-1.6.1.tar.gz (24 kB)\n",
            "Requirement already satisfied: future in /usr/local/lib/python3.7/dist-packages (from treelib) (0.16.0)\n",
            "Building wheels for collected packages: treelib\n",
            "  Building wheel for treelib (setup.py) ... \u001b[?25l\u001b[?25hdone\n",
            "  Created wheel for treelib: filename=treelib-1.6.1-py3-none-any.whl size=18386 sha256=2eab711f0b8658ab8ba2306b01a564ad892c80875a7f73c61f396a3aa7564315\n",
            "  Stored in directory: /root/.cache/pip/wheels/89/be/94/2c6d949ce599d1443426d83ba4dc93cd35c0f4638260930a53\n",
            "Successfully built treelib\n",
            "Installing collected packages: treelib\n",
            "Successfully installed treelib-1.6.1\n"
          ]
        }
      ]
    },
    {
      "cell_type": "code",
      "metadata": {
        "colab": {
          "base_uri": "https://localhost:8080/"
        },
        "id": "nRt_P681mNmU",
        "outputId": "1c5b108d-27b3-4755-b930-f01a1416a4f6"
      },
      "source": [
        "from treelib import Node, Tree\n",
        "tree = Tree()\n",
        "tree.create_node(\"Harry\", \"harry\")  # root node\n",
        "tree.create_node(\"Jane\", \"jane\", parent=\"harry\")\n",
        "tree.create_node(\"Bill\", \"bill\", parent=\"harry\")\n",
        "tree.create_node(\"Diane\", \"diane\", parent=\"jane\")\n",
        "tree.create_node(\"Mary\", \"mary\", parent=\"diane\")\n",
        "tree.create_node(\"Mark\", \"mark\", parent=\"jane\")\n",
        "tree.show()"
      ],
      "execution_count": 8,
      "outputs": [
        {
          "output_type": "stream",
          "name": "stdout",
          "text": [
            "Harry\n",
            "├── Bill\n",
            "└── Jane\n",
            "    ├── Diane\n",
            "    │   └── Mary\n",
            "    └── Mark\n",
            "\n"
          ]
        }
      ]
    },
    {
      "cell_type": "markdown",
      "metadata": {
        "id": "9X-OpK9wx3TC"
      },
      "source": [
        "### Graf"
      ]
    },
    {
      "cell_type": "markdown",
      "metadata": {
        "id": "Ir7phZ_B38tf"
      },
      "source": [
        "[Wiki](https://en.wikipedia.org/wiki/Graph_(abstract_data_type))\n",
        "\n",
        "Graf je definován (viz předmět teorie grafů):\n",
        "- množinou vrcholů (uzlů)\n",
        "- množinou hran, přičemž hrany jsou svázány se dvěma vrcholy \n",
        "- funkcí, která každé hraně (každému vrcholu) přiřazuje datovou strukturu\n",
        "\n",
        "> **Doporučené video**\n",
        ">\n",
        "> [Graph Introduction - Data Structures & Algorithms Tutorials In Python #12 32 min](https://www.youtube.com/watch?v=j0IYCyBdzfA)"
      ]
    },
    {
      "cell_type": "code",
      "metadata": {
        "colab": {
          "base_uri": "https://localhost:8080/",
          "height": 336
        },
        "id": "IGl0ycegvglk",
        "outputId": "f8ca0c94-4d34-4e3a-ba75-97d2c184f6b9"
      },
      "source": [
        "YVideo('j0IYCyBdzfA')"
      ],
      "execution_count": null,
      "outputs": [
        {
          "output_type": "execute_result",
          "data": {
            "text/html": [
              "<iframe width=\"560\" height=\"315\" src=\"https://www.youtube.com/embed/j0IYCyBdzfA?rel=0&amp;controls=0&amp;showinfo=0\" frameborder=\"0\" allowfullscreen></iframe>"
            ],
            "text/plain": [
              "<IPython.core.display.HTML object>"
            ]
          },
          "metadata": {},
          "execution_count": 43
        }
      ]
    },
    {
      "cell_type": "markdown",
      "metadata": {
        "id": "AkXUFouJJTZ7"
      },
      "source": [
        "### Třídy"
      ]
    },
    {
      "cell_type": "markdown",
      "metadata": {
        "id": "MMS_pAFZJV3b"
      },
      "source": [
        "Třídy jsou spojeny s objektovým programováním, kde se zmiňují hlavně tyto pojmy:\n",
        "\n",
        "- encapsulation / zapouzdření\n",
        "- inheritance / dědičnost\n",
        "- polymorfism / mnohotvárnost\n",
        "\n",
        "Právě zapouzdření je úzce spojeno s datovými strukturami. Zapouzdření zabezpečuje v \"jednom pouzdře\" všechna data a metody pro práci s nimi.\n",
        "\n",
        "Pokud se budeme soustředit na pouhá data, uvidíme datovou strukturu, jejíž položky mohou být různého typu. Všimněte si souvislosti s datovým modelem (SQLAlchemy) a s reprezentací datového modelu - tabulkou (v databázi)."
      ]
    },
    {
      "cell_type": "code",
      "metadata": {
        "id": "HeklBA71ScYk",
        "colab": {
          "base_uri": "https://localhost:8080/"
        },
        "outputId": "eacea31e-d642-4215-ea73-fb4ac36d1c5e"
      },
      "source": [
        "!pip install sqlalchemy"
      ],
      "execution_count": 9,
      "outputs": [
        {
          "output_type": "stream",
          "name": "stdout",
          "text": [
            "Requirement already satisfied: sqlalchemy in /usr/local/lib/python3.7/dist-packages (1.4.25)\n",
            "Requirement already satisfied: importlib-metadata in /usr/local/lib/python3.7/dist-packages (from sqlalchemy) (4.8.1)\n",
            "Requirement already satisfied: greenlet!=0.4.17 in /usr/local/lib/python3.7/dist-packages (from sqlalchemy) (1.1.2)\n",
            "Requirement already satisfied: zipp>=0.5 in /usr/local/lib/python3.7/dist-packages (from importlib-metadata->sqlalchemy) (3.6.0)\n",
            "Requirement already satisfied: typing-extensions>=3.6.4 in /usr/local/lib/python3.7/dist-packages (from importlib-metadata->sqlalchemy) (3.7.4.3)\n"
          ]
        }
      ]
    },
    {
      "cell_type": "code",
      "metadata": {
        "id": "ZP_XhRZeKglS"
      },
      "source": [
        "from sqlalchemy import Column, String, Integer, ForeignKey\n",
        "from sqlalchemy.orm import relationship, backref\n",
        "from sqlalchemy.ext.declarative import declarative_base\n",
        "\n",
        "Base = declarative_base()\n",
        "\n",
        "class User(Base):\n",
        "    __tablename__ = 'users'\n",
        "\n",
        "    id = Column(Integer, primary_key=True)\n",
        "    name = Column(String(200), nullable=False)\n",
        "    surname = Column(String(200), nullable=False)\n",
        "    \n"
      ],
      "execution_count": null,
      "outputs": []
    },
    {
      "cell_type": "markdown",
      "metadata": {
        "id": "FO7Ns1ugN7pA"
      },
      "source": [
        "### Další typy (Python)"
      ]
    },
    {
      "cell_type": "markdown",
      "metadata": {
        "id": "dJTbR0W_N9mf"
      },
      "source": [
        "- Tuple\n",
        "- Named Tuple"
      ]
    },
    {
      "cell_type": "code",
      "metadata": {
        "id": "uvjKVkNFNhug",
        "outputId": "b29db7f6-7ea5-412b-fa83-72edf7c4e045",
        "colab": {
          "base_uri": "https://localhost:8080/"
        }
      },
      "source": [
        "data = (12, 23, 78)\n",
        "print(data)"
      ],
      "execution_count": 10,
      "outputs": [
        {
          "output_type": "stream",
          "name": "stdout",
          "text": [
            "(12, 23, 78)\n"
          ]
        }
      ]
    },
    {
      "cell_type": "code",
      "metadata": {
        "id": "Xvhxqj_UNsiW"
      },
      "source": [
        "def funct(a, b):\n",
        "    c = a + b\n",
        "    d = a * b\n",
        "    return (c, d)"
      ],
      "execution_count": null,
      "outputs": []
    },
    {
      "cell_type": "markdown",
      "metadata": {
        "id": "pxsQzpV9tel1"
      },
      "source": [
        "### Koncept Immutable"
      ]
    },
    {
      "cell_type": "markdown",
      "metadata": {
        "id": "N4RFSxSetjw6"
      },
      "source": [
        "Immutable datová struktura je datová struktura, kterou nelze změnit. V programu tedy (v extrému) existují jen konstanty.\n",
        "\n",
        "**Redux** - knihovna, která na konceptu staví řešení pro správu dat ve webové aplikaci.\n",
        "\n",
        "Příklad, který je konceptem řešen."
      ]
    },
    {
      "cell_type": "code",
      "metadata": {
        "colab": {
          "base_uri": "https://localhost:8080/"
        },
        "id": "9jopNzFmuGv5",
        "outputId": "886e61cf-9ae2-4ed9-f740-0c6dabf855aa"
      },
      "source": [
        "def changeName(data, value):\n",
        "    data['name'] = value\n",
        "    return data\n",
        "\n",
        "input = {'name': 'John'}\n",
        "result = changeName(input, 'Julie')\n",
        "print('result', result)\n",
        "print('input', input)"
      ],
      "execution_count": 11,
      "outputs": [
        {
          "output_type": "stream",
          "name": "stdout",
          "text": [
            "result {'name': 'Julie'}\n",
            "input {'name': 'Julie'}\n"
          ]
        }
      ]
    },
    {
      "cell_type": "markdown",
      "metadata": {
        "id": "gaTVbE7cwUGL"
      },
      "source": [
        "Řešení v duchu konceptu immutable"
      ]
    },
    {
      "cell_type": "code",
      "metadata": {
        "colab": {
          "base_uri": "https://localhost:8080/"
        },
        "id": "ouX0tYSxwXjL",
        "outputId": "3c1d9962-dba0-456b-d816-c706a3ce9538"
      },
      "source": [
        "def changeName(data, value):\n",
        "    result = {**data, 'name': value}\n",
        "    return result\n",
        "\n",
        "input = {'name': 'John'}\n",
        "result = changeName(input, 'Julie')\n",
        "print('result:', result)\n",
        "print('input:', input)"
      ],
      "execution_count": 12,
      "outputs": [
        {
          "output_type": "stream",
          "name": "stdout",
          "text": [
            "result: {'name': 'Julie'}\n",
            "input: {'name': 'John'}\n"
          ]
        }
      ]
    },
    {
      "cell_type": "markdown",
      "metadata": {
        "id": "ALavCzYzuiXV"
      },
      "source": [
        "Side effect functions - funkce s vedlejšími efekty je funkce, při svém běhu změní i hodnoty mimo tělo funkce. Velmi často jsou takové funkce i závislé na hodnotách externích proměnných. Funkce se závislostí na vnějším prostředí je velmi obtížně testovatelnou funkcí. Proto je potencionálním chybovým místem v kódu. Navíc se tyto chyby velmi špatně hledají.\n",
        "\n",
        "**Pozor**\n",
        "\n",
        "V jazyku Python lze i funkci chápat (a použít) jako proměnnou. Jinak řečeno, do názvu, který reprezentuje funkci lze uložit jinou funkci (i číslo). "
      ]
    },
    {
      "cell_type": "code",
      "metadata": {
        "colab": {
          "base_uri": "https://localhost:8080/"
        },
        "id": "BTL3DkRC-EF6",
        "outputId": "7a68bff9-4717-4f0a-ac38-015911b28eaa"
      },
      "source": [
        "def add(a, b):\n",
        "    return a + b\n",
        "\n",
        "add = lambda c, d: c * d\n",
        "\n",
        "print(add(2, 3))"
      ],
      "execution_count": 13,
      "outputs": [
        {
          "output_type": "stream",
          "name": "stdout",
          "text": [
            "6\n"
          ]
        }
      ]
    },
    {
      "cell_type": "code",
      "metadata": {
        "id": "f_TAaCLs-ZUW",
        "colab": {
          "base_uri": "https://localhost:8080/"
        },
        "outputId": "f373b5b4-2ebc-4bbd-825b-961eff3f9e3a"
      },
      "source": [
        "def add(a, b):\n",
        "    return a + b\n",
        "\n",
        "def sum(dataArray):\n",
        "    acc = 0\n",
        "    for item in dataArray:\n",
        "        acc = add(acc, item)\n",
        "    return acc\n",
        "\n",
        "print(sum([0, 1, 2, 3, 4]))\n",
        "add = lambda c, d: c * d # nova definice add, chovani sum se zmeni\n",
        "print(sum([0, 1, 2, 3, 4]))"
      ],
      "execution_count": 14,
      "outputs": [
        {
          "output_type": "stream",
          "name": "stdout",
          "text": [
            "10\n",
            "0\n"
          ]
        }
      ]
    },
    {
      "cell_type": "markdown",
      "metadata": {
        "id": "Aap_MfYEtR7b"
      },
      "source": [
        "## Principiální algoritmy pro práci s datovými strukturami"
      ]
    },
    {
      "cell_type": "markdown",
      "metadata": {
        "id": "q__aVGEwpLGg"
      },
      "source": [
        "### Předávání parametrů funkci"
      ]
    },
    {
      "cell_type": "code",
      "metadata": {
        "colab": {
          "base_uri": "https://localhost:8080/"
        },
        "id": "nQpBSdM2wxUI",
        "outputId": "f86f7739-0095-4310-9daa-eac44ac06267"
      },
      "source": [
        "def inc(value):\n",
        "    value = value + 1\n",
        "    return value\n",
        "\n",
        "input = 5\n",
        "result = inc(input)\n",
        "print('result:', result)\n",
        "print('input:', input)"
      ],
      "execution_count": 15,
      "outputs": [
        {
          "output_type": "stream",
          "name": "stdout",
          "text": [
            "result: 6\n",
            "input: 5\n"
          ]
        }
      ]
    },
    {
      "cell_type": "markdown",
      "metadata": {
        "id": "bZSKUVgbxHGj"
      },
      "source": [
        "Srovnejte s funkcí `changeName` definované výše. \n",
        "\n",
        ">\n",
        "> **Jak si vysvětlíte skutečnost, že obdobné funkce fungují odlišně?**\n",
        ">"
      ]
    },
    {
      "cell_type": "markdown",
      "metadata": {
        "id": "DPaHeFPZz6Ck"
      },
      "source": [
        "### Algoritmus třídění"
      ]
    },
    {
      "cell_type": "markdown",
      "metadata": {
        "id": "dI6jBAPGz-Xt"
      },
      "source": [
        "#### Bubble Sort"
      ]
    },
    {
      "cell_type": "markdown",
      "metadata": {
        "id": "ckUs8SLOnMh7"
      },
      "source": [
        "https://www.geeksforgeeks.org/python-program-for-bubble-sort/"
      ]
    },
    {
      "cell_type": "code",
      "metadata": {
        "colab": {
          "base_uri": "https://localhost:8080/"
        },
        "id": "0cWnby3PnFhG",
        "outputId": "ffd0263b-0de3-49b0-8057-3b468a8744ac"
      },
      "source": [
        "# taken from https://www.geeksforgeeks.org/python-program-for-bubble-sort/\n",
        "# Python program for implementation of Bubble Sort\n",
        "\n",
        "def bubbleSort(arr):\n",
        "\tn = len(arr)\n",
        "\n",
        "\t# Traverse through all array elements\n",
        "\tfor i in range(n-1):\n",
        "\t# range(n) also work but outer loop will repeat one time more than needed.\n",
        "\n",
        "\t\t# Last i elements are already in place\n",
        "\t\tfor j in range(0, n-i-1):\n",
        "\n",
        "\t\t\t# traverse the array from 0 to n-i-1\n",
        "\t\t\t# Swap if the element found is greater\n",
        "\t\t\t# than the next element\n",
        "\t\t\tif arr[j] > arr[j + 1] :\n",
        "\t\t\t\tarr[j], arr[j + 1] = arr[j + 1], arr[j]\n",
        "\n",
        "# Driver code to test above\n",
        "arr = [64, 34, 25, 12, 22, 11, 90]\n",
        "\n",
        "bubbleSort(arr)\n",
        "\n",
        "print (\"Sorted array is:\")\n",
        "for i in range(len(arr)):\n",
        "\tprint (\"% d\" % arr[i]),\n"
      ],
      "execution_count": 16,
      "outputs": [
        {
          "output_type": "stream",
          "name": "stdout",
          "text": [
            "Sorted array is:\n",
            " 11\n",
            " 12\n",
            " 22\n",
            " 25\n",
            " 34\n",
            " 64\n",
            " 90\n"
          ]
        }
      ]
    },
    {
      "cell_type": "markdown",
      "metadata": {
        "id": "_xjSGYlJnluW"
      },
      "source": [
        "#### Merge Sort"
      ]
    },
    {
      "cell_type": "markdown",
      "metadata": {
        "id": "enI4wdK7nyxx"
      },
      "source": [
        "https://www.geeksforgeeks.org/merge-sort/"
      ]
    },
    {
      "cell_type": "code",
      "metadata": {
        "colab": {
          "base_uri": "https://localhost:8080/"
        },
        "id": "pwWQE7uTnmFI",
        "outputId": "39f231d6-e806-4850-b59d-33e035a89229"
      },
      "source": [
        "# taken from https://www.geeksforgeeks.org/merge-sort/\n",
        "# Python program for implementation of MergeSort\n",
        "def mergeSort(arr):\n",
        "    if len(arr) > 1:\n",
        "  \n",
        "         # Finding the mid of the array\n",
        "        mid = len(arr)//2\n",
        "  \n",
        "        # Dividing the array elements\n",
        "        L = arr[:mid]\n",
        "  \n",
        "        # into 2 halves\n",
        "        R = arr[mid:]\n",
        "  \n",
        "        # Sorting the first half\n",
        "        mergeSort(L)\n",
        "  \n",
        "        # Sorting the second half\n",
        "        mergeSort(R)\n",
        "  \n",
        "        i = j = k = 0\n",
        "  \n",
        "        # Copy data to temp arrays L[] and R[]\n",
        "        while i < len(L) and j < len(R):\n",
        "            if L[i] < R[j]:\n",
        "                arr[k] = L[i]\n",
        "                i += 1\n",
        "            else:\n",
        "                arr[k] = R[j]\n",
        "                j += 1\n",
        "            k += 1\n",
        "  \n",
        "        # Checking if any element was left\n",
        "        while i < len(L):\n",
        "            arr[k] = L[i]\n",
        "            i += 1\n",
        "            k += 1\n",
        "  \n",
        "        while j < len(R):\n",
        "            arr[k] = R[j]\n",
        "            j += 1\n",
        "            k += 1\n",
        "\n",
        "# Driver code to test above\n",
        "arr = [64, 34, 25, 12, 22, 11, 90]\n",
        "\n",
        "mergeSort(arr)\n",
        "\n",
        "print (\"Sorted array is:\")\n",
        "for i in range(len(arr)):\n",
        "\tprint (\"% d\" % arr[i]),\n"
      ],
      "execution_count": null,
      "outputs": [
        {
          "output_type": "stream",
          "name": "stdout",
          "text": [
            "Sorted array is:\n",
            " 11\n",
            " 12\n",
            " 22\n",
            " 25\n",
            " 34\n",
            " 64\n",
            " 90\n"
          ]
        }
      ]
    },
    {
      "cell_type": "markdown",
      "metadata": {
        "id": "p6tPj5kGoD0t"
      },
      "source": [
        "#### Shell Sort"
      ]
    },
    {
      "cell_type": "markdown",
      "metadata": {
        "id": "bZqVFfFsoG5h"
      },
      "source": [
        "https://www.geeksforgeeks.org/python-program-for-shellsort/"
      ]
    },
    {
      "cell_type": "code",
      "metadata": {
        "colab": {
          "base_uri": "https://localhost:8080/"
        },
        "id": "9pihhcKnoEAd",
        "outputId": "b2e8c401-1ba3-4a3d-c784-04f6bbf411dc"
      },
      "source": [
        "# taken from https://www.geeksforgeeks.org/python-program-for-shellsort/ (improved)\n",
        "def shellSort(arr):\n",
        "  \n",
        "    # Start with a big gap, then reduce the gap\n",
        "    n = len(arr)\n",
        "    n = n - n % 2\n",
        "    gap = n // 2\n",
        "  \n",
        "    # Do a gapped insertion sort for this gap size.\n",
        "    # The first gap elements a[0..gap-1] are already in gapped \n",
        "    # order keep adding one more element until the entire array\n",
        "    # is gap sorted\n",
        "    while gap > 0:\n",
        "  \n",
        "        for i in range(gap, n):\n",
        "  \n",
        "            # add a[i] to the elements that have been gap sorted\n",
        "            # save a[i] in temp and make a hole at position i\n",
        "            temp = arr[i]\n",
        "  \n",
        "            # shift earlier gap-sorted elements up until the correct\n",
        "            # location for a[i] is found\n",
        "            j = i\n",
        "            while  j >= gap and arr[j-gap] >temp:\n",
        "                arr[j] = arr[j-gap]\n",
        "                j -= gap\n",
        "  \n",
        "            # put temp (the original a[i]) in its correct location\n",
        "            arr[j] = temp\n",
        "\n",
        "        if gap == 1:\n",
        "            break\n",
        "        gap = gap - gap % 2\n",
        "        gap = gap // 2\n",
        "\n",
        "# Driver code to test above\n",
        "arr = [64, 34, 25, 12, 22, 11, 90]\n",
        "\n",
        "shellSort(arr)\n",
        "\n",
        "print (\"Sorted array is:\")\n",
        "for i in range(len(arr)):\n",
        "\tprint (\"% d\" % arr[i]),"
      ],
      "execution_count": 17,
      "outputs": [
        {
          "output_type": "stream",
          "name": "stdout",
          "text": [
            "Sorted array is:\n",
            " 11\n",
            " 12\n",
            " 22\n",
            " 25\n",
            " 34\n",
            " 64\n",
            " 90\n"
          ]
        }
      ]
    },
    {
      "cell_type": "markdown",
      "metadata": {
        "id": "iigl9IGer213"
      },
      "source": [
        "> **Doporučené video**\n",
        "> \n",
        "> [Srovnání algoritmů třídění](https://youtu.be/GIvjJwzrHBU?t=789)"
      ]
    },
    {
      "cell_type": "code",
      "metadata": {
        "colab": {
          "base_uri": "https://localhost:8080/",
          "height": 336
        },
        "id": "LD7LgOTFsayd",
        "outputId": "743b958f-fed6-4aa4-c35f-61f018587e59"
      },
      "source": [
        "YVideo('GIvjJwzrHBU', t=789)"
      ],
      "execution_count": 19,
      "outputs": [
        {
          "output_type": "execute_result",
          "data": {
            "text/html": [
              "<iframe width=\"560\" height=\"315\" src=\"https://www.youtube.com/embed/GIvjJwzrHBU?start=789&amp;controls=0&amp;showinfo=0\" frameborder=\"0\" allowfullscreen></iframe>"
            ],
            "text/plain": [
              "<IPython.core.display.HTML object>"
            ]
          },
          "metadata": {},
          "execution_count": 19
        }
      ]
    },
    {
      "cell_type": "markdown",
      "metadata": {
        "id": "v0JIcmkOtVrT"
      },
      "source": [
        "### Přístup k rozsáhlým datovým strukturám"
      ]
    },
    {
      "cell_type": "markdown",
      "metadata": {
        "id": "qbwjyLxTzCK0"
      },
      "source": [
        "Hra / sázka. Pomocí deseti otázek, na které lze odpovědět ano/ne, zjistím jaké číslo z rozsahu 0-1000 (1023) si protivník myslí. Jakým způsobem?\n",
        "\n",
        "**Důsledek**\n",
        "\n",
        "> \n",
        "> Datové struktury v databázi mají primární, unikátní klíč\n",
        "> \n",
        "\n",
        "**Otázka**\n",
        "\n",
        ">\n",
        "> Kolik \"otázek\" je potřeba pro nalezení záznamu pomocí jeho ID v tabulce o velikosti 4TB s očekávanou délkou záznamu 1kB?\n",
        ">"
      ]
    },
    {
      "cell_type": "markdown",
      "metadata": {
        "id": "6rxsYPXKv4QT"
      },
      "source": [
        "Binární strom"
      ]
    },
    {
      "cell_type": "code",
      "metadata": {
        "id": "7vmtfJYV0UZU",
        "colab": {
          "base_uri": "https://localhost:8080/"
        },
        "outputId": "e9b162a7-536b-45ea-c4d3-8fe3f43b2173"
      },
      "source": [
        "def quess(low, high):\n",
        "    if low == high:\n",
        "        return f'it is {low}'\n",
        "\n",
        "    middle = (low + high) // 2\n",
        "    q = input(f'it is lower than {middle}? ')\n",
        "    if q in ['1', 'A', 'a', 'Y', 'y']:\n",
        "        result = quess(low, middle - 1)\n",
        "    else:\n",
        "        result = quess(middle, high)\n",
        "\n",
        "    return result\n",
        "\n",
        "\n",
        "print('save a value from inteval <0; 1023>')\n",
        "val = quess(0, 1023)\n",
        "print(val)"
      ],
      "execution_count": null,
      "outputs": [
        {
          "output_type": "stream",
          "name": "stdout",
          "text": [
            "quess value in inteval <0; 1023>\n",
            "it is lower than 511?y\n",
            "it is lower than 255?n\n",
            "it is lower than 382?n\n",
            "it is lower than 446?y\n",
            "it is lower than 413?n\n",
            "it is lower than 429?y\n",
            "it is lower than 420?n\n",
            "it is lower than 424?y\n",
            "it is lower than 421?n\n",
            "it is lower than 422?y\n",
            "it is 421\n"
          ]
        }
      ]
    },
    {
      "cell_type": "code",
      "metadata": {
        "colab": {
          "base_uri": "https://localhost:8080/",
          "height": 36
        },
        "id": "aA0UGkfqV2l7",
        "outputId": "e0e770ac-9ff4-4f61-8d61-3d0eabf9caf4"
      },
      "source": [
        "def createDecisionTree(low, high):\n",
        "    if low == high:\n",
        "        return lambda value: f'It is {value}'\n",
        "    else:\n",
        "      middle = (low + high) // 2\n",
        "      #print(low, middle, high)\n",
        "      leftBranch = createDecisionTree(low, middle)\n",
        "      rightBranch = createDecisionTree(middle + 1, high)\n",
        "      return lambda value: leftBranch(value) if value < middle else rightBranch(value)\n",
        "\n",
        "decisionTree = createDecisionTree(0, 1023)\n",
        "decisionTree(421)"
      ],
      "execution_count": null,
      "outputs": [
        {
          "output_type": "execute_result",
          "data": {
            "application/vnd.google.colaboratory.intrinsic+json": {
              "type": "string"
            },
            "text/plain": [
              "'It is 421'"
            ]
          },
          "metadata": {},
          "execution_count": 17
        }
      ]
    },
    {
      "cell_type": "code",
      "metadata": {
        "colab": {
          "base_uri": "https://localhost:8080/"
        },
        "id": "vwZXX9LnY5ei",
        "outputId": "2031e80e-a5ea-4ce5-f590-15f9a47b1278"
      },
      "source": [
        "def createFinder(sortedList):\n",
        "    lastIndex = len(sortedList) - 1\n",
        "    if lastIndex == 0:\n",
        "        return lambda value, offset = 0: offset\n",
        "    else:\n",
        "        middleIndex = len(sortedList) // 2 \n",
        "        #print(0, middleIndex, lastIndex, sortedList)\n",
        "        valueAt = sortedList[middleIndex]\n",
        "        leftFinder = createFinder(sortedList[:middleIndex])\n",
        "        rightFinder = createFinder(sortedList[middleIndex:])\n",
        "        #return lambda value, offset = 0: rightFinder(value, offset + middleIndex) if value > valueAt else leftFinder(value, offset)\n",
        "        return lambda value, offset = 0:  leftFinder(value, offset) if value < valueAt else rightFinder(value, offset + middleIndex)\n",
        "\n",
        "inputList = [0, 25, 59, 123, 785, 899, 1000]\n",
        "finder = createFinder(inputList)\n",
        "for item in inputList:\n",
        "    print(item, '->', finder(item))"
      ],
      "execution_count": 21,
      "outputs": [
        {
          "output_type": "stream",
          "name": "stdout",
          "text": [
            "0 -> 0\n",
            "25 -> 1\n",
            "59 -> 2\n",
            "123 -> 3\n",
            "785 -> 4\n",
            "899 -> 5\n",
            "1000 -> 6\n"
          ]
        }
      ]
    },
    {
      "cell_type": "code",
      "metadata": {
        "colab": {
          "base_uri": "https://localhost:8080/"
        },
        "id": "KrWEg9KVeOrQ",
        "outputId": "c337d037-23ee-47d8-d178-785376e99edb"
      },
      "source": [
        "%%timeit\n",
        "for item in inputList:\n",
        "    _ = finder(item)"
      ],
      "execution_count": 22,
      "outputs": [
        {
          "output_type": "stream",
          "name": "stdout",
          "text": [
            "The slowest run took 4.69 times longer than the fastest. This could mean that an intermediate result is being cached.\n",
            "100000 loops, best of 5: 3.57 µs per loop\n"
          ]
        }
      ]
    },
    {
      "cell_type": "code",
      "metadata": {
        "colab": {
          "base_uri": "https://localhost:8080/"
        },
        "id": "u0lPljU0l6le",
        "outputId": "566274e5-ae0e-439c-f8a0-3a0255985ae5"
      },
      "source": [
        "%%timeit\n",
        "for item in inputList:\n",
        "    _ = inputList.index(item)"
      ],
      "execution_count": 23,
      "outputs": [
        {
          "output_type": "stream",
          "name": "stdout",
          "text": [
            "The slowest run took 4.63 times longer than the fastest. This could mean that an intermediate result is being cached.\n",
            "1000000 loops, best of 5: 1.41 µs per loop\n"
          ]
        }
      ]
    },
    {
      "cell_type": "markdown",
      "metadata": {
        "id": "OYNs37sJmZZ5"
      },
      "source": [
        "Vytvořte vyhledávání bez využití `index`. Kód doplňte do následující funkce."
      ]
    },
    {
      "cell_type": "code",
      "metadata": {
        "id": "xivPe8I3mi35",
        "outputId": "4d22302d-b067-40e9-a970-af9ac7b40b15",
        "colab": {
          "base_uri": "https://localhost:8080/"
        }
      },
      "source": [
        "def myIndex(data=[0, 1, 2, 3], value=2):\n",
        "    for index, item in zip(data, range(len(data))):\n",
        "        if item == value:\n",
        "            return index\n",
        "\n",
        "print([0, 1, 2, 3].index(2))\n",
        "print(myIndex())\n",
        "data=[0, 1, 2, 3]\n",
        "for item in data:\n",
        "    print(item, '->', myIndex(data, item))"
      ],
      "execution_count": 26,
      "outputs": [
        {
          "output_type": "stream",
          "name": "stdout",
          "text": [
            "2\n",
            "2\n",
            "0 -> 0\n",
            "1 -> 1\n",
            "2 -> 2\n",
            "3 -> 3\n"
          ]
        }
      ]
    },
    {
      "cell_type": "markdown",
      "metadata": {
        "id": "ArjteUpwm34j"
      },
      "source": [
        "Ověřte si rychlost implementovaného algoritmu"
      ]
    },
    {
      "cell_type": "code",
      "metadata": {
        "colab": {
          "base_uri": "https://localhost:8080/"
        },
        "id": "PSauXvPDmpBH",
        "outputId": "0ab8f5ea-7384-4a92-eb78-a2281dc68b05"
      },
      "source": [
        "%%timeit\n",
        "for item in inputList:\n",
        "    _ = myIndex(inputList, item)"
      ],
      "execution_count": null,
      "outputs": [
        {
          "output_type": "stream",
          "name": "stdout",
          "text": [
            "The slowest run took 4.71 times longer than the fastest. This could mean that an intermediate result is being cached.\n",
            "1000000 loops, best of 5: 883 ns per loop\n"
          ]
        }
      ]
    },
    {
      "cell_type": "code",
      "metadata": {
        "id": "7uvsk8XUmvK5"
      },
      "source": [
        ""
      ],
      "execution_count": null,
      "outputs": []
    }
  ]
}