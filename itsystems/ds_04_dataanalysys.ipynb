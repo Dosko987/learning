{
 "cells": [
  {
   "cell_type": "markdown",
   "id": "aggregate-apple",
   "metadata": {},
   "source": [
    "# Datové zdroje"
   ]
  },
  {
   "cell_type": "markdown",
   "id": "verified-purse",
   "metadata": {},
   "source": [
    "## Webové stránky"
   ]
  },
  {
   "cell_type": "code",
   "execution_count": 2,
   "id": "established-failure",
   "metadata": {},
   "outputs": [
    {
     "name": "stdout",
     "output_type": "stream",
     "text": [
      "Collecting requests_ntlm\n",
      "  Using cached requests_ntlm-1.1.0-py2.py3-none-any.whl (5.7 kB)\n",
      "Requirement already satisfied: requests>=2.0.0 in /opt/conda/lib/python3.8/site-packages (from requests_ntlm) (2.25.1)\n",
      "Requirement already satisfied: cryptography>=1.3 in /opt/conda/lib/python3.8/site-packages (from requests_ntlm) (3.4.6)\n",
      "Collecting ntlm-auth>=1.0.2\n",
      "  Using cached ntlm_auth-1.5.0-py2.py3-none-any.whl (29 kB)\n",
      "Requirement already satisfied: cffi>=1.12 in /opt/conda/lib/python3.8/site-packages (from cryptography>=1.3->requests_ntlm) (1.14.5)\n",
      "Requirement already satisfied: pycparser in /opt/conda/lib/python3.8/site-packages (from cffi>=1.12->cryptography>=1.3->requests_ntlm) (2.20)\n",
      "Requirement already satisfied: chardet<5,>=3.0.2 in /opt/conda/lib/python3.8/site-packages (from requests>=2.0.0->requests_ntlm) (4.0.0)\n",
      "Requirement already satisfied: idna<3,>=2.5 in /opt/conda/lib/python3.8/site-packages (from requests>=2.0.0->requests_ntlm) (2.10)\n",
      "Requirement already satisfied: urllib3<1.27,>=1.21.1 in /opt/conda/lib/python3.8/site-packages (from requests>=2.0.0->requests_ntlm) (1.26.4)\n",
      "Requirement already satisfied: certifi>=2017.4.17 in /opt/conda/lib/python3.8/site-packages (from requests>=2.0.0->requests_ntlm) (2020.12.5)\n",
      "Installing collected packages: ntlm-auth, requests-ntlm\n",
      "Successfully installed ntlm-auth-1.5.0 requests-ntlm-1.1.0\n"
     ]
    }
   ],
   "source": [
    "!pip install requests_ntlm"
   ]
  },
  {
   "cell_type": "code",
   "execution_count": 3,
   "id": "precise-entrepreneur",
   "metadata": {},
   "outputs": [],
   "source": [
    "import getpass\n",
    "import urllib.request, json\n",
    "from requests_ntlm import HttpNtlmAuth"
   ]
  },
  {
   "cell_type": "code",
   "execution_count": 4,
   "id": "professional-temperature",
   "metadata": {},
   "outputs": [
    {
     "name": "stdin",
     "output_type": "stream",
     "text": [
      " ··············\n"
     ]
    }
   ],
   "source": [
    "url = ''\n",
    "people = [633]\n",
    "password = getpass.getpass()\n",
    "user = 'UNIVO\\\\stefeka'"
   ]
  },
  {
   "cell_type": "code",
   "execution_count": 6,
   "id": "theoretical-lingerie",
   "metadata": {},
   "outputs": [
    {
     "name": "stdout",
     "output_type": "stream",
     "text": [
      "\n",
      "   \n",
      "\n",
      "<!DOCTYPE html>\n",
      "\n",
      "<html>\n",
      "<head>\n",
      "  <meta charset=\"utf-8\" />\n",
      "  <meta name=\"viewport\" content=\"width=device-width, initial-scale=1.0\">\n",
      "  <title>RozvrhyOsoba</title>\n",
      "  <link href=\"/UOAPI/Content/css?v=oQnauHsqXdVBkuWhCiSRZpmRifmLkzjqiI7oah75sjQ1\" rel=\"stylesheet\"/>\n",
      "\n",
      "  <script src=\"/UOAPI/bundles/modernizr?v=inCVuEFe6J4Q07A0AcRsbJic_UE5MwpRMNGcOtk94TE1\"></script>\n",
      "\n",
      "</head>\n",
      "<body><table class=\"table table-striped table-condensed\">\n",
      "  <thead>\n",
      "    <tr>\n",
      "      <th>Datum</th>\n",
      "      <th>Začátek</th>\n",
      "      <th>Konec</th>\n",
      "      <th>Typ lekce</th>\n",
      "      <th>Předmět</th>\n",
      "      <th>Předmět Uic</th>\n",
      "      <th>Učebna</th>\n",
      "      <th>Vyučující</th>\n",
      "      <th>Vyučující Uco</th>\n",
      "      <th>Učební skupina</th>\n",
      "      <th>Učební skupina Uic</th>\n",
      "    </tr>\n",
      "  </thead>\n",
      "  <tbody>\n",
      "      <tr>\n",
      "    <td>13. 10. 2020</td>\n",
      "    <td>11:40</td>\n",
      "    <td>13:10</td>\n",
      "    <td>předn&#225;ška</td>\n",
      "    \n",
      "    \n",
      "\n",
      "    \n",
      "\n",
      "\n",
      "<td>Operačn&#237; anal&#253;za ve vojenstv&#237; / T1</td>\n",
      "<td>01265</td\n"
     ]
    }
   ],
   "source": [
    "from functools import lru_cache\n",
    "import requests\n",
    "\n",
    "@lru_cache\n",
    "def readTbl(UCO):\n",
    "    url = f'https://apl.unob.cz/UOAPI/Rozvrhy/Osoba/{UCO}'\n",
    "    page = requests.get(url, auth = HttpNtlmAuth(user, password))\n",
    "    content = page.content.decode('utf8')\n",
    "    return content\n",
    "\n",
    "data = readTbl(633)\n",
    "print(data[:1000])"
   ]
  },
  {
   "cell_type": "markdown",
   "id": "supported-briefing",
   "metadata": {},
   "source": [
    "## Regulární výrazy"
   ]
  },
  {
   "cell_type": "markdown",
   "id": "essential-classification",
   "metadata": {},
   "source": [
    "https://docs.python.org/3/library/re.html"
   ]
  },
  {
   "cell_type": "code",
   "execution_count": 19,
   "id": "peaceful-suite",
   "metadata": {},
   "outputs": [
    {
     "name": "stdout",
     "output_type": "stream",
     "text": [
      "<tr>\n",
      "    <td>13. 10. 2020</td>\n",
      "    <td>11:40</td>\n",
      "    <td>13:10</td>\n",
      "    <td>předn&#225;ška</td>\n",
      "    \n",
      "    \n",
      "\n",
      "    \n",
      "\n",
      "\n",
      "<td>Operačn&#237; anal&#253;za ve vojenstv&#237; / T1</td>\n",
      "<td>01265</td>\n",
      "\n",
      "    <td>DISTANČN&#205;</td>\n",
      "    <td>Štefek A.</td>\n",
      "    <td>633</td>\n",
      "    <td>5ASV (2017)</td>\n",
      "    <td>20953</td>\n",
      "  </tr>\n"
     ]
    }
   ],
   "source": [
    "import re\n",
    "\n",
    "data = readTbl(633)\n",
    "m = re.search(r'(?:<tr>)([^<]*(?:<td>[^<]*</td>[^<]*)*)(?:</tr>)', data)\n",
    "radek = m.group(0)\n",
    "print(radek)"
   ]
  },
  {
   "cell_type": "code",
   "execution_count": 53,
   "id": "cubic-mississippi",
   "metadata": {},
   "outputs": [
    {
     "name": "stdout",
     "output_type": "stream",
     "text": [
      "0 \n",
      "    <td>\n",
      "1 \n",
      "    <td>\n",
      "2 \n",
      "    <td>\n",
      "3 \n",
      "    <td>\n",
      "4 \n",
      "    <td>\n",
      "5 \n",
      "    <td>\n",
      "6 \n",
      "    <td>\n",
      "7 \n",
      "    <td>\n",
      "8 \n",
      "    <td>\n",
      "9 \n",
      "    <td>\n",
      "10 \n",
      "    <td>\n"
     ]
    }
   ],
   "source": [
    "data = readTbl(633)\n",
    "regTester = re.compile(r'(?:<tr>)([^<]*(?:<td>[^<]*</td>[^<]*)*)(?:</tr>)')\n",
    "matches = regTester.findall(data)\n",
    "result = []\n",
    "for _ in matches:\n",
    "    result.append(_)\n",
    "\n",
    "for index, item in enumerate(result):\n",
    "    print(index, item[:10])\n",
    "    if index > 9:\n",
    "        break"
   ]
  },
  {
   "cell_type": "markdown",
   "id": "beginning-floor",
   "metadata": {},
   "source": [
    "## Mapování"
   ]
  },
  {
   "cell_type": "markdown",
   "id": "touched-thumbnail",
   "metadata": {},
   "source": [
    "### Selector"
   ]
  },
  {
   "cell_type": "code",
   "execution_count": 15,
   "id": "difficult-phase",
   "metadata": {},
   "outputs": [
    {
     "name": "stdout",
     "output_type": "stream",
     "text": [
      "got from item =>  \n",
      "   \n",
      "\n",
      "<!DOCTYPE html>\n",
      "\n",
      "<html>\n",
      "<head>\n",
      "  <meta charset=\"utf-8\" />\n",
      "  <meta name=\"viewport\" cont\n"
     ]
    }
   ],
   "source": [
    "def createSelector(keyName):\n",
    "    def select(item):\n",
    "        return item[keyName]\n",
    "    return select\n",
    "\n",
    "data = {'id': 633, 'page': readTbl(633)}\n",
    "selector = createSelector('page')\n",
    "print(f'got from item => ', selector(data)[:100])"
   ]
  },
  {
   "cell_type": "markdown",
   "id": "conscious-buyer",
   "metadata": {},
   "source": [
    "### Mapper"
   ]
  },
  {
   "cell_type": "code",
   "execution_count": 35,
   "id": "sophisticated-indonesian",
   "metadata": {},
   "outputs": [
    {
     "name": "stdout",
     "output_type": "stream",
     "text": [
      "\n",
      "    <td>13. 10. 2020</td>\n",
      "    <td>11:40</td>\n",
      "    <td>13:10</td>\n",
      "    <td>přednáška</td>\n",
      "    \n",
      "    \n",
      "\n",
      "    \n",
      "\n",
      "\n",
      "<td>Operační analýza ve vojenství / T1</td>\n",
      "<td>01265</td>\n",
      "\n",
      "    <td>DISTANČNÍ</td>\n",
      "    <td>Štefek A.</td>\n",
      "    <td>633</td>\n",
      "    <td>5ASV (2017)</td>\n",
      "    <td>20953</td>\n",
      "  \n",
      "------------------------------\n",
      "\n",
      "    <td>14. 10. 2020</td>\n",
      "    <td>11:40</td>\n",
      "    <td>13:10</td>\n",
      "    <td>přednáška</td>\n",
      "    \n",
      "    \n",
      "\n",
      "    \n",
      "\n",
      "\n",
      "<td>Operační analýza ve vojenství / T2</td>\n",
      "<td>01265</td>\n",
      "\n",
      "    <td>DISTANČNÍ</td>\n",
      "    <td>Štefek A.</td>\n",
      "    <td>633</td>\n",
      "    <td>5ASV (2017)</td>\n",
      "    <td>20953</td>\n",
      "  \n"
     ]
    }
   ],
   "source": [
    "import html\n",
    "\n",
    "def getRows(item):\n",
    "    regTester = re.compile(r'(?:<tr>)([^<]*(?:<td>[^<]*</td>[^<]*)*)(?:</tr>)')\n",
    "    matches = regTester.findall(item)\n",
    "    result = []\n",
    "    for m in matches:\n",
    "        result.append(html.unescape(m))\n",
    "    return result\n",
    "\n",
    "data = {'id': 633, 'page': readTbl(633)}\n",
    "selector = createSelector('page')\n",
    "rows = getRows(selector(data)) \n",
    "print(rows[0])\n",
    "print('-'*30)\n",
    "print(rows[1])"
   ]
  },
  {
   "cell_type": "code",
   "execution_count": 36,
   "id": "rising-costume",
   "metadata": {},
   "outputs": [
    {
     "name": "stdout",
     "output_type": "stream",
     "text": [
      "['13. 10. 2020', '11:40', '13:10', 'přednáška', 'Operační analýza ve vojenství / T1', '01265', 'DISTANČNÍ', 'Štefek A.', '633', '5ASV (2017)', '20953']\n"
     ]
    }
   ],
   "source": [
    "def getCells(item):\n",
    "    regTester = re.compile(r'(?:<td>)([^<]*)(?:</td>)')\n",
    "    matches = regTester.findall(item)\n",
    "    result = []\n",
    "    for _ in matches:\n",
    "        result.append(_)\n",
    "    return result\n",
    "\n",
    "cells = getCells(rows[0])\n",
    "print(cells)"
   ]
  },
  {
   "cell_type": "markdown",
   "id": "upset-launch",
   "metadata": {},
   "source": [
    "### Capsule"
   ]
  },
  {
   "cell_type": "code",
   "execution_count": 57,
   "id": "eleven-maple",
   "metadata": {},
   "outputs": [],
   "source": [
    "def createCapsule(selector, func, coupling):\n",
    "    def result(item):\n",
    "        return coupling(item, func(selector(item)))\n",
    "    return result"
   ]
  },
  {
   "cell_type": "code",
   "execution_count": 58,
   "id": "homeless-threshold",
   "metadata": {},
   "outputs": [
    {
     "name": "stdout",
     "output_type": "stream",
     "text": [
      "dict_keys(['id', 'page'])\n",
      "\n",
      "   \n",
      "\n",
      "<!DOCTYPE html>\n",
      "\n",
      "<html>\n",
      "<head>\n",
      "  <meta charset=\"utf-8\" />\n",
      "  <meta name=\"viewport\" cont\n"
     ]
    }
   ],
   "source": [
    "selector = selector = createSelector('id')\n",
    "coupling = lambda item, result: {**item, 'page': result}\n",
    "capsuleRead = createCapsule(selector, readTbl, coupling)\n",
    "\n",
    "data = {'id': 633, 'page': readTbl(633)}\n",
    "result = capsuleRead(data)\n",
    "print(result.keys())\n",
    "print(result['page'][:100])"
   ]
  },
  {
   "cell_type": "code",
   "execution_count": 59,
   "id": "creative-tobago",
   "metadata": {},
   "outputs": [
    {
     "name": "stdout",
     "output_type": "stream",
     "text": [
      "633\n",
      "------------------------------\n",
      "\n",
      "   \n",
      "\n",
      "<!DOCTYPE html>\n",
      "\n",
      "<html>\n",
      "<head>\n",
      "  <meta charset=\"utf-8\" />\n",
      "  <meta name=\"viewport\" cont\n",
      "------------------------------\n",
      "['\\r\\n    <td>13. 10. 2020</td>\\r\\n    <td>11:40</td>\\r\\n    <td>13:10</td>\\r\\n    <td>přednáška</td>\\r\\n    \\r\\n    \\r\\n\\r\\n    \\r\\n\\r\\n\\r\\n<td>Operační analýza ve vojenství / T1</td>\\r\\n<td>01265</td>\\r\\n\\r\\n    <td>DISTANČNÍ</td>\\r\\n    <td>Štefek A.</td>\\r\\n    <td>633</td>\\r\\n    <td>5ASV (2017)</td>\\r\\n    <td>20953</td>\\r\\n  ', '\\r\\n    <td>14. 10. 2020</td>\\r\\n    <td>11:40</td>\\r\\n    <td>13:10</td>\\r\\n    <td>přednáška</td>\\r\\n    \\r\\n    \\r\\n\\r\\n    \\r\\n\\r\\n\\r\\n<td>Operační analýza ve vojenství / T2</td>\\r\\n<td>01265</td>\\r\\n\\r\\n    <td>DISTANČNÍ</td>\\r\\n    <td>Štefek A.</td>\\r\\n    <td>633</td>\\r\\n    <td>5ASV (2017)</td>\\r\\n    <td>20953</td>\\r\\n  ']\n"
     ]
    }
   ],
   "source": [
    "selector = selector = createSelector('page')\n",
    "coupling = lambda item, result: {**item, 'rows': result}\n",
    "capsuleRows = createCapsule(selector, getRows, coupling)\n",
    "\n",
    "data = {'id': 633, 'page': readTbl(633)}\n",
    "result = capsuleRows(data)\n",
    "print(result['id'])\n",
    "print('-'*30)\n",
    "print(result['page'][:100])\n",
    "print('-'*30)\n",
    "print(result['rows'][:2])"
   ]
  },
  {
   "cell_type": "code",
   "execution_count": 66,
   "id": "checked-avatar",
   "metadata": {},
   "outputs": [
    {
     "name": "stdout",
     "output_type": "stream",
     "text": [
      "['13. 10. 2020', '11:40', '13:10', 'přednáška', 'Operační analýza ve vojenství / T1', '01265', 'DISTANČNÍ', 'Štefek A.', '633', '5ASV (2017)', '20953']\n",
      "------------------------------\n",
      "['14. 10. 2020', '11:40', '13:10', 'přednáška', 'Operační analýza ve vojenství / T2', '01265', 'DISTANČNÍ', 'Štefek A.', '633', '5ASV (2017)', '20953']\n"
     ]
    }
   ],
   "source": [
    "selectorR = createSelector('rows')\n",
    "couplingR = lambda item, result: {**item, 'lessons': result}\n",
    "processor = lambda array: list(map(getCells, array))\n",
    "\n",
    "capsuleCells = createCapsule(selectorR, processor, couplingR)\n",
    "data = {'id': 633, 'page': readTbl(633)}\n",
    "result = capsuleRows(data)\n",
    "result = capsuleCells(result)\n",
    "\n",
    "print(result['lessons'][0])\n",
    "print('-'*30)\n",
    "print(result['lessons'][1])"
   ]
  },
  {
   "cell_type": "markdown",
   "id": "contrary-lesson",
   "metadata": {},
   "source": [
    "## Redukce"
   ]
  },
  {
   "cell_type": "code",
   "execution_count": 65,
   "id": "insured-cardiff",
   "metadata": {},
   "outputs": [
    {
     "name": "stdout",
     "output_type": "stream",
     "text": [
      "9\n"
     ]
    }
   ],
   "source": [
    "from functools import reduce\n",
    "\n",
    "def count(acc, item):\n",
    "    return acc + 1\n",
    "\n",
    "result = reduce(count, range(9), 0)\n",
    "print(result)"
   ]
  },
  {
   "cell_type": "code",
   "execution_count": 75,
   "id": "freelance-parker",
   "metadata": {},
   "outputs": [
    {
     "name": "stdout",
     "output_type": "stream",
     "text": [
      "14\n"
     ]
    }
   ],
   "source": [
    "capsuleCountLessons = createCapsule(\n",
    "    createSelector('lessons'),\n",
    "    len,\n",
    "    lambda item, result: {**item, 'lessonsCount': result}\n",
    ")\n",
    "\n",
    "r2 = capsuleCountLessons(result)\n",
    "print(r2['lessonsCount'])"
   ]
  },
  {
   "cell_type": "markdown",
   "id": "governing-owner",
   "metadata": {},
   "source": [
    "## Multiple Functions"
   ]
  },
  {
   "cell_type": "code",
   "execution_count": 67,
   "id": "exempt-quest",
   "metadata": {},
   "outputs": [],
   "source": [
    "def joinFunc(*funcs):\n",
    "    def process(data):\n",
    "        result = data\n",
    "        for func in funcs:\n",
    "            result = func(result)\n",
    "        return result\n",
    "    return process"
   ]
  },
  {
   "cell_type": "code",
   "execution_count": 76,
   "id": "technical-vintage",
   "metadata": {},
   "outputs": [
    {
     "name": "stdout",
     "output_type": "stream",
     "text": [
      "['13. 10. 2020', '11:40', '13:10', 'přednáška', 'Operační analýza ve vojenství / T1', '01265', 'DISTANČNÍ', 'Štefek A.', '633', '5ASV (2017)', '20953']\n",
      "------------------------------\n",
      "['14. 10. 2020', '11:40', '13:10', 'přednáška', 'Operační analýza ve vojenství / T2', '01265', 'DISTANČNÍ', 'Štefek A.', '633', '5ASV (2017)', '20953']\n"
     ]
    }
   ],
   "source": [
    "joinedFuncs = joinFunc(capsuleRead, capsuleRows, capsuleCells, capsuleCountLessons)\n",
    "data = {'id': 633, 'page': readTbl(633)}\n",
    "result = joinedFuncs(data)\n",
    "\n",
    "print(result['lessons'][0])\n",
    "print('-'*30)\n",
    "print(result['lessons'][1])"
   ]
  },
  {
   "cell_type": "markdown",
   "id": "tutorial-agency",
   "metadata": {},
   "source": [
    "## Multiple data"
   ]
  },
  {
   "cell_type": "code",
   "execution_count": 77,
   "id": "eastern-accessory",
   "metadata": {},
   "outputs": [
    {
     "name": "stdout",
     "output_type": "stream",
     "text": [
      "101\n",
      "['13. 10. 2020', '11:40', '13:10', 'přednáška', 'Operační analýza ve vojenství / T1', '01265', 'DISTANČNÍ', 'Štefek A.', '633', '5ASV (2017)', '20953']\n",
      "------------------------------\n",
      "['14. 10. 2020', '11:40', '13:10', 'přednáška', 'Operační analýza ve vojenství / T2', '01265', 'DISTANČNÍ', 'Štefek A.', '633', '5ASV (2017)', '20953']\n",
      "==============================\n",
      "14\n",
      "['13. 10. 2020', '9:50', '11:20', 'přednáška', 'Konstrukce a provoz protiletadlových systémů / T5', '05348', 'DISTANČNÍ', 'Hamtil I.', '571', '5ASV (2017)', '20953']\n",
      "------------------------------\n",
      "['14. 10. 2020', '9:50', '11:20', 'přednáška', 'Konstrukce a provoz protiletadlových systémů / T6', '05348', 'DISTANČNÍ', 'Hamtil I.', '571', '5ASV (2017)', '20953']\n",
      "==============================\n"
     ]
    }
   ],
   "source": [
    "source = [633, 571]\n",
    "dataM = [{'id': id} for id in source]\n",
    "results = list(map(joinedFuncs, dataM))\n",
    "\n",
    "for result in results:\n",
    "    print(result['lessonsCount'])\n",
    "    print(result['lessons'][0])\n",
    "    print('-'*30)\n",
    "    print(result['lessons'][1])    \n",
    "    print('='*30)"
   ]
  },
  {
   "cell_type": "code",
   "execution_count": null,
   "id": "textile-award",
   "metadata": {},
   "outputs": [],
   "source": []
  }
 ],
 "metadata": {
  "kernelspec": {
   "display_name": "Python 3",
   "language": "python",
   "name": "python3"
  },
  "language_info": {
   "codemirror_mode": {
    "name": "ipython",
    "version": 3
   },
   "file_extension": ".py",
   "mimetype": "text/x-python",
   "name": "python",
   "nbconvert_exporter": "python",
   "pygments_lexer": "ipython3",
   "version": "3.8.8"
  }
 },
 "nbformat": 4,
 "nbformat_minor": 5
}
