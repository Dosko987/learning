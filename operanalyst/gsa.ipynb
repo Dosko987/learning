{
  "nbformat": 4,
  "nbformat_minor": 0,
  "metadata": {
    "colab": {
      "name": "gsa.ipynb",
      "provenance": [],
      "toc_visible": true,
      "authorship_tag": "ABX9TyNnEhODa9cLmErEiAc9MXCx",
      "include_colab_link": true
    },
    "kernelspec": {
      "name": "python3",
      "display_name": "Python 3"
    }
  },
  "cells": [
    {
      "cell_type": "markdown",
      "metadata": {
        "id": "view-in-github",
        "colab_type": "text"
      },
      "source": [
        "<a href=\"https://colab.research.google.com/github/hrbolek/learning/blob/master/operanalyst/gsa.ipynb\" target=\"_parent\"><img src=\"https://colab.research.google.com/assets/colab-badge.svg\" alt=\"Open In Colab\"/></a>"
      ]
    },
    {
      "cell_type": "markdown",
      "metadata": {
        "id": "XQ4W_LG1RYxj",
        "colab_type": "text"
      },
      "source": [
        "# Gravity Search Algorithm"
      ]
    },
    {
      "cell_type": "code",
      "metadata": {
        "id": "vA50bkwoRHhn",
        "colab_type": "code",
        "colab": {}
      },
      "source": [
        "from random import random as rnd\n",
        "import matplotlib.pyplot as plt\n"
      ],
      "execution_count": 0,
      "outputs": []
    },
    {
      "cell_type": "markdown",
      "metadata": {
        "id": "Kn-Pa-DlRve6",
        "colab_type": "text"
      },
      "source": [
        "## Funkce pro vytvoření jedince"
      ]
    },
    {
      "cell_type": "code",
      "metadata": {
        "id": "a8JthQoQRxXi",
        "colab_type": "code",
        "colab": {}
      },
      "source": [
        "def createMember():\n",
        "  result = {}\n",
        "  result['position'] = {'x': rnd() * 10 - 5, 'y': rnd() * 10 - 5}\n",
        "  result['velocity'] = {'x': 0, 'y': 0}\n",
        "  result['force'] = {'x': 0, 'y': 0}\n",
        "  result['mass'] = 1\n",
        "  return result"
      ],
      "execution_count": 0,
      "outputs": []
    },
    {
      "cell_type": "markdown",
      "metadata": {
        "id": "boxaD59WR2S_",
        "colab_type": "text"
      },
      "source": [
        "## Funkce pro vyhodnocení jedince\n",
        "Definuje kriteriální funkci. Implementované algoritmy optimalizují na maximum."
      ]
    },
    {
      "cell_type": "code",
      "metadata": {
        "id": "_ruWC3NnR24p",
        "colab_type": "code",
        "colab": {}
      },
      "source": [
        "def evaluate(member):\n",
        "  return -(member['position']['x'] * member['position']['x'] + member['position']['y'] * member['position']['y'])"
      ],
      "execution_count": 0,
      "outputs": []
    },
    {
      "cell_type": "markdown",
      "metadata": {
        "id": "utaOEzRVR-35",
        "colab_type": "text"
      },
      "source": [
        "## Zobrazení soustavy"
      ]
    },
    {
      "cell_type": "code",
      "metadata": {
        "id": "79PcyWSfR_5S",
        "colab_type": "code",
        "colab": {}
      },
      "source": [
        "def plotSystem(system, title):\n",
        "  x = []\n",
        "  y = []\n",
        "  for member in system:\n",
        "    x.append(member['position']['x'])\n",
        "    y.append(member['position']['y'])\n",
        "\n",
        "  plt.plot(x, y, 'ko', ms=3)\n",
        "  plt.title(title)\n",
        "  plt.show()"
      ],
      "execution_count": 0,
      "outputs": []
    },
    {
      "cell_type": "code",
      "metadata": {
        "id": "G0Hzzrc5Rdrd",
        "colab_type": "code",
        "colab": {}
      },
      "source": [
        "def calculateMass(system, f):\n",
        "  for member in system:\n",
        "    member['value'] = f(member)\n",
        "  \n",
        "  minimum = system[0]['value']\n",
        "  maximum = minimum\n",
        "  sumation = 0\n",
        "\n",
        "  for member in system:\n",
        "    cValue = member['value']\n",
        "    sumation = sumation + cValue\n",
        "    if cValue < minimum:\n",
        "      minimum = cValue\n",
        "    if cValue > maximum:\n",
        "      maximum = cValue\n",
        "\n",
        "  func = lambda cValue: (cValue - minimum) / (maximum - minimum)\n",
        "  if maximum > minimum:\n",
        "    func = lambda cValue: 1\n",
        "\n",
        "  for member in system:\n",
        "    cValue = member['value']\n",
        "    member['mass'] = func(cValue)\n",
        "  \n"
      ],
      "execution_count": 0,
      "outputs": []
    },
    {
      "cell_type": "code",
      "metadata": {
        "id": "eGkUTIVw2hSP",
        "colab_type": "code",
        "colab": {}
      },
      "source": [
        "from math import sqrt\n",
        "def calculateForce(memberA, memberB, g):\n",
        "  result = {'x': 0, 'y': 0}\n",
        "  distance = {\n",
        "      'x': memberB['position']['x'] - memberA['position']['x'],\n",
        "      'y': memberB['position']['y'] - memberA['position']['y']\n",
        "              }\n",
        "  distanceAbs = sqrt(distance['x'] * distance['x'] + distance['y'] * distance['x'])\n",
        "  # F = g * MA * MB / (d * d)\n",
        "  F = g * memberA['mass'] * memberB['mass'] / (distanceAbs * distanceAbs)\n",
        "  result['x'] = F * distance['x'] / distanceAbs\n",
        "  result['y'] = F * distance['y'] / distanceAbs\n",
        "  return result\n",
        "\n",
        "def calculateForces(system, g):\n",
        "  for member in system:\n",
        "    member['force'] = {'x': 0, 'y': 0}\n",
        "\n",
        "  for memberA in system:\n",
        "    sumForce = {'x': 0, 'y': 0}\n",
        "    for memberB in system:\n",
        "      if memberA == memberB:\n",
        "        continue\n",
        "      currentForce = calculateForce(memberA, memberB, g)\n",
        "      sumForce['x'] = sumForce['x'] + currentForce['x']\n",
        "      sumForce['y'] = sumForce['y'] + currentForce['y']\n",
        "    memberA['force'] = sumForce\n",
        "  return system\n",
        "\n",
        "def calculateAccelerations(system):\n",
        "  for member in system:\n",
        "    # F = m * a\n",
        "    force = member['force']\n",
        "    mass = member['mass']\n",
        "    member['acceleration'] = {'x': force['x'] / mass, 'y': force['y'] / mass }\n",
        "  return system\n",
        "\n",
        "def calculateVelocities(system, dt):\n",
        "  for member in system:\n",
        "    acceleration = member['acceleration']\n",
        "    velocity = member['velocity']\n",
        "    member['velocity'] = {\n",
        "        'x': velocity['x'] + dt * acceleration['x'],\n",
        "        'y': velocity['y'] + dt * acceleration['y']}\n",
        "  return system\n",
        "\n",
        "def calculatePositions(system, dt):\n",
        "  for member in system:\n",
        "    position = member['position']\n",
        "    velocity = member['velocity']\n",
        "    member['position'] = {\n",
        "        'x': position['x'] + dt * velocity['x'],\n",
        "        'y': position['y'] + dt * velocity['y']}\n",
        "  return system\n"
      ],
      "execution_count": 0,
      "outputs": []
    },
    {
      "cell_type": "markdown",
      "metadata": {
        "id": "oJzmqA2J-bwV",
        "colab_type": "text"
      },
      "source": [
        "## Simulace"
      ]
    },
    {
      "cell_type": "code",
      "metadata": {
        "id": "d_hCG4Un2Zy4",
        "colab_type": "code",
        "colab": {}
      },
      "source": [
        "def simulationStep(system, dt, g):\n",
        "  calculatePositions(system, dt)\n",
        "  calculateMass(system, f = evaluate)\n",
        "  calculateForces(system, g = g)\n",
        "  calculateAccelerations(system, dt)\n",
        "  calculateVelocities(system, dt)"
      ],
      "execution_count": 0,
      "outputs": []
    },
    {
      "cell_type": "code",
      "metadata": {
        "id": "kt0zJME6-lRv",
        "colab_type": "code",
        "colab": {}
      },
      "source": [
        "def createSystem(count, createFunc):\n",
        "  result = [] \n",
        "  for i in range(count):\n",
        "    member = createFunc()\n",
        "    result.append(member)\n",
        "  return result\n",
        "                 "
      ],
      "execution_count": 0,
      "outputs": []
    },
    {
      "cell_type": "code",
      "metadata": {
        "id": "Tmx1RvDj-1Rw",
        "colab_type": "code",
        "colab": {
          "base_uri": "https://localhost:8080/",
          "height": 644
        },
        "outputId": "786b9082-bd7c-4b93-ca90-c135dc5e95b9"
      },
      "source": [
        "system = createSystem(10, createMember)\n",
        "plotSystem(system, title='1st')\n",
        "\n",
        "simulationStep(system, dt=1, g = 9.81)\n",
        "plotSystem(system, title='2nd')"
      ],
      "execution_count": 62,
      "outputs": [
        {
          "output_type": "display_data",
          "data": {
            "image/png": "[encoded data removed]",
            "text/plain": [
              "<Figure size 432x288 with 1 Axes>"
            ]
          },
          "metadata": {
            "tags": [],
            "needs_background": "light"
          }
        },
        {
          "output_type": "error",
          "ename": "ValueError",
          "evalue": "ignored",
          "traceback": [
            "\u001b[0;31m---------------------------------------------------------------------------\u001b[0m",
            "\u001b[0;31mValueError\u001b[0m                                Traceback (most recent call last)",
            "\u001b[0;32m<ipython-input-62-fa55109f8a50>\u001b[0m in \u001b[0;36m<module>\u001b[0;34m()\u001b[0m\n\u001b[1;32m      2\u001b[0m \u001b[0mplotSystem\u001b[0m\u001b[0;34m(\u001b[0m\u001b[0msystem\u001b[0m\u001b[0;34m,\u001b[0m \u001b[0mtitle\u001b[0m\u001b[0;34m=\u001b[0m\u001b[0;34m'1st'\u001b[0m\u001b[0;34m)\u001b[0m\u001b[0;34m\u001b[0m\u001b[0;34m\u001b[0m\u001b[0m\n\u001b[1;32m      3\u001b[0m \u001b[0;34m\u001b[0m\u001b[0m\n\u001b[0;32m----> 4\u001b[0;31m \u001b[0msimulationStep\u001b[0m\u001b[0;34m(\u001b[0m\u001b[0msystem\u001b[0m\u001b[0;34m,\u001b[0m \u001b[0mdt\u001b[0m\u001b[0;34m=\u001b[0m\u001b[0;36m1\u001b[0m\u001b[0;34m,\u001b[0m \u001b[0mg\u001b[0m \u001b[0;34m=\u001b[0m \u001b[0;36m9.81\u001b[0m\u001b[0;34m)\u001b[0m\u001b[0;34m\u001b[0m\u001b[0;34m\u001b[0m\u001b[0m\n\u001b[0m\u001b[1;32m      5\u001b[0m \u001b[0mplotSystem\u001b[0m\u001b[0;34m(\u001b[0m\u001b[0msystem\u001b[0m\u001b[0;34m,\u001b[0m \u001b[0mtitle\u001b[0m\u001b[0;34m=\u001b[0m\u001b[0;34m'2nd'\u001b[0m\u001b[0;34m)\u001b[0m\u001b[0;34m\u001b[0m\u001b[0;34m\u001b[0m\u001b[0m\n",
            "\u001b[0;32m<ipython-input-60-e2f031d1fe2f>\u001b[0m in \u001b[0;36msimulationStep\u001b[0;34m(system, dt, g)\u001b[0m\n\u001b[1;32m      2\u001b[0m   \u001b[0mcalculatePositions\u001b[0m\u001b[0;34m(\u001b[0m\u001b[0msystem\u001b[0m\u001b[0;34m,\u001b[0m \u001b[0mdt\u001b[0m\u001b[0;34m)\u001b[0m\u001b[0;34m\u001b[0m\u001b[0;34m\u001b[0m\u001b[0m\n\u001b[1;32m      3\u001b[0m   \u001b[0mcalculateMass\u001b[0m\u001b[0;34m(\u001b[0m\u001b[0msystem\u001b[0m\u001b[0;34m,\u001b[0m \u001b[0mf\u001b[0m \u001b[0;34m=\u001b[0m \u001b[0mevaluate\u001b[0m\u001b[0;34m)\u001b[0m\u001b[0;34m\u001b[0m\u001b[0;34m\u001b[0m\u001b[0m\n\u001b[0;32m----> 4\u001b[0;31m   \u001b[0mcalculateForces\u001b[0m\u001b[0;34m(\u001b[0m\u001b[0msystem\u001b[0m\u001b[0;34m,\u001b[0m \u001b[0mg\u001b[0m \u001b[0;34m=\u001b[0m \u001b[0mg\u001b[0m\u001b[0;34m)\u001b[0m\u001b[0;34m\u001b[0m\u001b[0;34m\u001b[0m\u001b[0m\n\u001b[0m\u001b[1;32m      5\u001b[0m   \u001b[0mcalculateAccelerations\u001b[0m\u001b[0;34m(\u001b[0m\u001b[0msystem\u001b[0m\u001b[0;34m,\u001b[0m \u001b[0mdt\u001b[0m\u001b[0;34m)\u001b[0m\u001b[0;34m\u001b[0m\u001b[0;34m\u001b[0m\u001b[0m\n\u001b[1;32m      6\u001b[0m   \u001b[0mcalculateVelocities\u001b[0m\u001b[0;34m(\u001b[0m\u001b[0msystem\u001b[0m\u001b[0;34m,\u001b[0m \u001b[0mdt\u001b[0m\u001b[0;34m)\u001b[0m\u001b[0;34m\u001b[0m\u001b[0;34m\u001b[0m\u001b[0m\n",
            "\u001b[0;32m<ipython-input-59-cee87d8e6e86>\u001b[0m in \u001b[0;36mcalculateForces\u001b[0;34m(system, g)\u001b[0m\n\u001b[1;32m     22\u001b[0m       \u001b[0;32mif\u001b[0m \u001b[0mmemberA\u001b[0m \u001b[0;34m==\u001b[0m \u001b[0mmemberB\u001b[0m\u001b[0;34m:\u001b[0m\u001b[0;34m\u001b[0m\u001b[0;34m\u001b[0m\u001b[0m\n\u001b[1;32m     23\u001b[0m         \u001b[0;32mcontinue\u001b[0m\u001b[0;34m\u001b[0m\u001b[0;34m\u001b[0m\u001b[0m\n\u001b[0;32m---> 24\u001b[0;31m       \u001b[0mcurrentForce\u001b[0m \u001b[0;34m=\u001b[0m \u001b[0mcalculateForce\u001b[0m\u001b[0;34m(\u001b[0m\u001b[0mmemberA\u001b[0m\u001b[0;34m,\u001b[0m \u001b[0mmemberB\u001b[0m\u001b[0;34m,\u001b[0m \u001b[0mg\u001b[0m\u001b[0;34m)\u001b[0m\u001b[0;34m\u001b[0m\u001b[0;34m\u001b[0m\u001b[0m\n\u001b[0m\u001b[1;32m     25\u001b[0m       \u001b[0msumForce\u001b[0m\u001b[0;34m[\u001b[0m\u001b[0;34m'x'\u001b[0m\u001b[0;34m]\u001b[0m \u001b[0;34m=\u001b[0m \u001b[0msumForce\u001b[0m\u001b[0;34m[\u001b[0m\u001b[0;34m'x'\u001b[0m\u001b[0;34m]\u001b[0m \u001b[0;34m+\u001b[0m \u001b[0mcurrentForce\u001b[0m\u001b[0;34m[\u001b[0m\u001b[0;34m'x'\u001b[0m\u001b[0;34m]\u001b[0m\u001b[0;34m\u001b[0m\u001b[0;34m\u001b[0m\u001b[0m\n\u001b[1;32m     26\u001b[0m       \u001b[0msumForce\u001b[0m\u001b[0;34m[\u001b[0m\u001b[0;34m'y'\u001b[0m\u001b[0;34m]\u001b[0m \u001b[0;34m=\u001b[0m \u001b[0msumForce\u001b[0m\u001b[0;34m[\u001b[0m\u001b[0;34m'y'\u001b[0m\u001b[0;34m]\u001b[0m \u001b[0;34m+\u001b[0m \u001b[0mcurrentForce\u001b[0m\u001b[0;34m[\u001b[0m\u001b[0;34m'y'\u001b[0m\u001b[0;34m]\u001b[0m\u001b[0;34m\u001b[0m\u001b[0;34m\u001b[0m\u001b[0m\n",
            "\u001b[0;32m<ipython-input-59-cee87d8e6e86>\u001b[0m in \u001b[0;36mcalculateForce\u001b[0;34m(memberA, memberB, g)\u001b[0m\n\u001b[1;32m      6\u001b[0m       \u001b[0;34m'y'\u001b[0m\u001b[0;34m:\u001b[0m \u001b[0mmemberB\u001b[0m\u001b[0;34m[\u001b[0m\u001b[0;34m'position'\u001b[0m\u001b[0;34m]\u001b[0m\u001b[0;34m[\u001b[0m\u001b[0;34m'y'\u001b[0m\u001b[0;34m]\u001b[0m \u001b[0;34m-\u001b[0m \u001b[0mmemberA\u001b[0m\u001b[0;34m[\u001b[0m\u001b[0;34m'position'\u001b[0m\u001b[0;34m]\u001b[0m\u001b[0;34m[\u001b[0m\u001b[0;34m'y'\u001b[0m\u001b[0;34m]\u001b[0m\u001b[0;34m\u001b[0m\u001b[0;34m\u001b[0m\u001b[0m\n\u001b[1;32m      7\u001b[0m               }\n\u001b[0;32m----> 8\u001b[0;31m   \u001b[0mdistanceAbs\u001b[0m \u001b[0;34m=\u001b[0m \u001b[0msqrt\u001b[0m\u001b[0;34m(\u001b[0m\u001b[0mdistance\u001b[0m\u001b[0;34m[\u001b[0m\u001b[0;34m'x'\u001b[0m\u001b[0;34m]\u001b[0m \u001b[0;34m*\u001b[0m \u001b[0mdistance\u001b[0m\u001b[0;34m[\u001b[0m\u001b[0;34m'x'\u001b[0m\u001b[0;34m]\u001b[0m \u001b[0;34m+\u001b[0m \u001b[0mdistance\u001b[0m\u001b[0;34m[\u001b[0m\u001b[0;34m'y'\u001b[0m\u001b[0;34m]\u001b[0m \u001b[0;34m*\u001b[0m \u001b[0mdistance\u001b[0m\u001b[0;34m[\u001b[0m\u001b[0;34m'x'\u001b[0m\u001b[0;34m]\u001b[0m\u001b[0;34m)\u001b[0m\u001b[0;34m\u001b[0m\u001b[0;34m\u001b[0m\u001b[0m\n\u001b[0m\u001b[1;32m      9\u001b[0m   \u001b[0;31m# F = g * MA * MB / (d * d)\u001b[0m\u001b[0;34m\u001b[0m\u001b[0;34m\u001b[0m\u001b[0;34m\u001b[0m\u001b[0m\n\u001b[1;32m     10\u001b[0m   \u001b[0mF\u001b[0m \u001b[0;34m=\u001b[0m \u001b[0mg\u001b[0m \u001b[0;34m*\u001b[0m \u001b[0mmemberA\u001b[0m\u001b[0;34m[\u001b[0m\u001b[0;34m'mass'\u001b[0m\u001b[0;34m]\u001b[0m \u001b[0;34m*\u001b[0m \u001b[0mmemberB\u001b[0m\u001b[0;34m[\u001b[0m\u001b[0;34m'mass'\u001b[0m\u001b[0;34m]\u001b[0m \u001b[0;34m/\u001b[0m \u001b[0;34m(\u001b[0m\u001b[0mdistanceAbs\u001b[0m \u001b[0;34m*\u001b[0m \u001b[0mdistanceAbs\u001b[0m\u001b[0;34m)\u001b[0m\u001b[0;34m\u001b[0m\u001b[0;34m\u001b[0m\u001b[0m\n",
            "\u001b[0;31mValueError\u001b[0m: math domain error"
          ]
        }
      ]
    }
  ]
}