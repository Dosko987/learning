{
  "nbformat": 4,
  "nbformat_minor": 0,
  "metadata": {
    "colab": {
      "name": "dynprog.ipynb",
      "provenance": [],
      "authorship_tag": "ABX9TyPDrNQHhppZMTPWTKKOHgLp",
      "include_colab_link": true
    },
    "kernelspec": {
      "name": "python3",
      "display_name": "Python 3"
    }
  },
  "cells": [
    {
      "cell_type": "markdown",
      "metadata": {
        "id": "view-in-github",
        "colab_type": "text"
      },
      "source": [
        "<a href=\"https://colab.research.google.com/github/hrbolek/learning/blob/master/operanalyst/dynprog.ipynb\" target=\"_parent\"><img src=\"https://colab.research.google.com/assets/colab-badge.svg\" alt=\"Open In Colab\"/></a>"
      ]
    },
    {
      "cell_type": "code",
      "metadata": {
        "id": "t2IkBJMfjV2P"
      },
      "source": [
        ""
      ],
      "execution_count": null,
      "outputs": []
    },
    {
      "cell_type": "markdown",
      "metadata": {
        "id": "XM_-1LXXkcVW"
      },
      "source": [
        "# Dynamické programování"
      ]
    },
    {
      "cell_type": "markdown",
      "metadata": {
        "id": "i7UMJQJokf23"
      },
      "source": [
        "## Princip optimality"
      ]
    },
    {
      "cell_type": "markdown",
      "metadata": {
        "id": "0Hvx5HNykjnA"
      },
      "source": [
        "Dynamické programování je motoda operační analýzy, která je určena pro optimalizaci problému, který lze rozdělit do etap. Předpokládejme, že těchto etap je $n$. Potom při řízení můžeme v každé etapě použít řízení $u_i$, čímž ovlivňujeme vývoj stavu řízeného systému. Tento systém nabývá postupně stavů $x_i$. Z matematického hlediska jak řízení $u_i$, tak stavy $x_i$ mohou být vektory.\n",
        "\n",
        "Cílem je optimalizovat účelovou funkci \n",
        "\n",
        "$$J=\\sum_{i=0}^{n-1}I_i$$\n",
        "\n",
        "kde $J$ a $I_i$ jsou např. spotřeba, náklady, apod.\n",
        "\n",
        "Optimálním řešením je posloupnost vektorů $u=(u_0^*, u_1^*, \\dots, u_n^*)$."
      ]
    },
    {
      "cell_type": "markdown",
      "metadata": {
        "id": "uo-t9RSrone3"
      },
      "source": [
        "R. Bellman formuloval princip optimality: \n",
        "> \"Optimální strategie hledá optimální pokračování operace vzhledem ke stavu, který nastal v důsledku přijetí předchozího rozhodnutí.\"\n",
        "\n"
      ]
    }
  ]
}