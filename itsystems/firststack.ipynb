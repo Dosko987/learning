{
  "nbformat": 4,
  "nbformat_minor": 0,
  "metadata": {
    "colab": {
      "name": "virtual.ipynb",
      "provenance": [],
      "authorship_tag": "ABX9TyNHhCsu1MwzusV5vlbrZ3RA",
      "include_colab_link": true
    },
    "kernelspec": {
      "name": "python3",
      "display_name": "Python 3"
    }
  },
  "cells": [
    {
      "cell_type": "markdown",
      "metadata": {
        "id": "view-in-github",
        "colab_type": "text"
      },
      "source": [
        "<a href=\"https://colab.research.google.com/github/hrbolek/learning/blob/master/itsystems/firststack.ipynb\" target=\"_parent\"><img src=\"https://colab.research.google.com/assets/colab-badge.svg\" alt=\"Open In Colab\"/></a>"
      ]
    },
    {
      "cell_type": "markdown",
      "metadata": {
        "id": "QMXOa3QIbLj6",
        "colab_type": "text"
      },
      "source": [
        "# První stack\n",
        "Toto je trochu předbíhání, ale určitě to zvládnete.\n",
        "S využitím Portaineru vytvořte stack:\n",
        "```yaml\n",
        "version: '3.1'\n",
        "services:\n",
        "\n",
        "  db:\n",
        "    image: mysql:5.6\n",
        "    restart: always\n",
        "    environment:\n",
        "      MYSQL_ROOT_PASSWORD: example\n",
        "    ports:\n",
        "      - 3333:3306\n",
        "\n",
        "  php:\n",
        "    image: phpmyadmin/phpmyadmin\n",
        "    environment:\n",
        "       - PMA_ARBITRARY=1\n",
        "       - PMA_HOST=db\n",
        "    restart: always\n",
        "    ports:\n",
        "       - 8081:80\n",
        "    links:\n",
        "       - db\n",
        "```\n",
        "Ve webovém rozhraní Portaineru si najdete položku Stacks, viz následující obrázek.\n",
        "![Portainer 1](https://raw.githubusercontent.com/hrbolek/learning/master/itsystems/images/portainer_stacks_01.png)\n",
        "\n",
        "Zvolte Add stack a podle následujícího obrázku vložte definici stacku a proveďte deploy (tlačítko není na obrázku vidět).\n",
        "![Portainer 2](https://raw.githubusercontent.com/hrbolek/learning/master/itsystems/images/portainer_stacks_02.png)\n"
      ]
    },
    {
      "cell_type": "markdown",
      "metadata": {
        "id": "14os3UAVyVHD",
        "colab_type": "text"
      },
      "source": [
        "# Experimenty\n",
        "Deploy chvíli trvá, takže trpělivost. Následně můžete vyzkoušet toto:\n",
        "## Simulace selhání kontejneru\n",
        "Přejděte do Containers, zvolte kontejner a klikněte na červené tlačítko Kill. Stránku obnovte a potvrďte si, že kontejner naběhne sám. \n"
      ]
    }
  ]
}