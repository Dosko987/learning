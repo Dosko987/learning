{
 "cells": [
  {
   "cell_type": "markdown",
   "metadata": {},
   "source": [
    "# Klient webové aplikace"
   ]
  },
  {
   "cell_type": "markdown",
   "metadata": {},
   "source": [
    "## Značkovací jazyky"
   ]
  },
  {
   "cell_type": "markdown",
   "metadata": {},
   "source": [
    "Značkovací jazyky představují (https://cs.wikipedia.org/wiki/Zna%C4%8Dkovac%C3%AD_jazyk) textovou informaci doplněnou o značky - řízení zobrazování informace. Z hlediska vývoje webu jsou důležité HTML, CSS, SVG, XML. K značkovacím jazykům ovšem řadíme i další jako např. Markdown (https://www.markdownguide.org/), ReStructuredText RST (https://github.com/qtproject/learning-guides/blob/master/handbook/getting-to-know-the-markup-language.rst). S Markdown a RST se můžete často setkat při tvorbě dokumentace k software. Dosti často používaným formátem je i RichTextFormat RTF (https://cs.wikipedia.org/wiki/Rich_Text_Format), který pochází z Microsoftu a dodnes se používá pro uložení dokumentů. Ještě zmíníme LaTEX (https://www.latex-project.org/)."
   ]
  },
  {
   "cell_type": "markdown",
   "metadata": {},
   "source": [
    "### HTML"
   ]
  },
  {
   "cell_type": "markdown",
   "metadata": {},
   "source": [
    "HTML 5\n",
    "\n",
    "https://www.w3schools.com/html/\n",
    "\n",
    "https://www.w3schools.com/tags/\n",
    "\n",
    "XHTML\n",
    "\n",
    "https://www.w3schools.com/html/html_xhtml.asp\n",
    "\n",
    "> **Doporučené video**\n",
    "> \n",
    "> [Learn HTML5 - full course with code samples 53 min](https://www.youtube.com/watch?v=DPnqb74Smug)"
   ]
  },
  {
   "cell_type": "markdown",
   "metadata": {},
   "source": [
    "### SVG"
   ]
  },
  {
   "cell_type": "markdown",
   "metadata": {},
   "source": [
    "https://developer.mozilla.org/en-US/docs/Web/SVG\n",
    "\n",
    "https://www.w3schools.com/graphics/svg_intro.asp\n",
    "\n",
    "> **Doporučené video**\n",
    "> \n",
    "> [SVG playlist, 13 lekcí po cca 5 min ](https://www.youtube.com/watch?v=PQxtlY19kto&list=PLL8woMHwr36F2tCFnWTbVBQAGQ6nTcXOO)"
   ]
  },
  {
   "cell_type": "markdown",
   "metadata": {},
   "source": [
    "### XML"
   ]
  },
  {
   "cell_type": "markdown",
   "metadata": {},
   "source": [
    "XML je značkovací jazyk, který do jisté míry pokrývá potřeby standardizovaného datového přenosu. Přestože setkání s ním nelze v prostředí webu vyloučit, častější je užití JSON.\n",
    "XML je využíváno např. we WSDL službách. V ČR je to např. v [EET](https://www.etrzby.cz/assets/cs/prilohy/EET_popis_rozhrani_v3.1.pdf).\n",
    "\n",
    "https://www.w3.org/XML/\n",
    "\n",
    "https://www.w3schools.com/xml/xml_whatis.asp\n",
    "\n"
   ]
  },
  {
   "cell_type": "markdown",
   "metadata": {},
   "source": [
    "## Prvky webové stránky"
   ]
  },
  {
   "cell_type": "markdown",
   "metadata": {},
   "source": [
    "## UI vs. Data"
   ]
  },
  {
   "cell_type": "markdown",
   "metadata": {},
   "source": [
    "Je důležité oddělit správu dat od uživatelského rozhraní. Tvorba rozhraní pro stroj (API) umožňuje budoucí napojení na další systémy. Současně jsou splněny podmínky pro možné úpravy UI bez ohledu na funkcionalitu."
   ]
  },
  {
   "cell_type": "markdown",
   "metadata": {},
   "source": [
    "### CSS"
   ]
  },
  {
   "cell_type": "markdown",
   "metadata": {},
   "source": [
    "https://www.w3schools.com/css/\n",
    "\n",
    "CSS je nedílnou součástí návrhu UI. Slouží k definici stylů jednotlivých prvků.\n",
    "\n",
    "> **Doporučené video**\n",
    ">\n",
    "> [HTML Full Course - Build a Website Tutorial 2h](https://www.youtube.com/watch?v=pQN-pnXPaVg)"
   ]
  },
  {
   "cell_type": "markdown",
   "metadata": {},
   "source": [
    "### Responzivní web"
   ]
  },
  {
   "cell_type": "markdown",
   "metadata": {},
   "source": [
    "Problém mnoha zařízení s různým rozlišením. Cílem je proper user experience.\n",
    "https://www.youtube.com/watch?v=SRec90j6lTY\n",
    "\n",
    "https://www.interaction-design.org/literature/topics/ux-design\n",
    "\n",
    "Mobile first\n",
    "Vývoj primárně pro mobilní zařízení\n",
    "\n",
    "> **Doporučené video**\n",
    "> \n",
    "> [Introduction To Responsive Web Design - HTML & CSS Tutorial 4h 15min](https://www.youtube.com/watch?v=srvUrASNj0s)"
   ]
  },
  {
   "cell_type": "markdown",
   "metadata": {},
   "source": [
    "### Bootstrap"
   ]
  },
  {
   "cell_type": "markdown",
   "metadata": {},
   "source": [
    "Boostrap je frondend knihovna, která řeší problém responzivního webu. Místo jednoduchých prvků ```div```, ```table``` apod. definuje ```Card```, ```Carousel```, ```Dialog```. Tím usnadňuje a zrychluje vývoj UI. Přitom zůstává možnost změn (templates). Celý projekt a dokumentace jsou dostupné na https://getbootstrap.com/. Lze využít tutorialu https://www.w3schools.com/bootstrap4/bootstrap_get_started.asp.\n",
    "\n",
    "Aktuálně je k dispozici [Bootstrap](https://getbootstrap.com/docs/5.0/getting-started/introduction/) v.5 (beta), na webových stránkách a v aplikacích se stále setkáte i s Bootstrap v.3. Bootstrap je také základní knihovnou, kterou má ve svých boilerplates pro .NET Visual Studio.\n",
    "\n",
    "> **Doporučené video**\n",
    "> \n",
    "> [Bootstrap 5 tutorial - crash course for beginners in 1.5H (February 2021)](https://www.youtube.com/watch?v=c9B4TPnak1A)"
   ]
  },
  {
   "cell_type": "markdown",
   "metadata": {},
   "source": [
    "### Bootstrap alternativy"
   ]
  },
  {
   "cell_type": "markdown",
   "metadata": {},
   "source": [
    "Foundation (https://get.foundation/)\n",
    "\n",
    "Bulma (https://bulma.io/)\n",
    "\n",
    "Materialize (https://materializecss.com/)"
   ]
  },
  {
   "cell_type": "markdown",
   "metadata": {},
   "source": [
    "## Jazyky třídy Javascript"
   ]
  },
  {
   "cell_type": "markdown",
   "metadata": {},
   "source": [
    "[**Javascript**](https://developer.mozilla.org/en-US/docs/Web/JavaScript) vznikl jako jazyk pro obsluhu UI v rámci webové stránky. Jeho vývoj je relativně rychlý a podléha standardizaci ECMA. První standard pochází z roku 1998 pod názvem ECMAScript. Problém je akceptace standardů ve webových prohlížečích. Nelze se zcela spolehnout na to, že standard jazyka, který byl zvolen pro vývoj aplikace bude na cílových platformách dostupný, přitom práve toto je základní podmínkou úspěšnosti projektu. Řešením je využití ECMA verze, která je podporována významnou většinou prohlížečů (90%), předepsání potřebného prohlížeče odběrateli apod. Naštěstí je k dispozici Javascript to Javascript compiler, který umožňuje překlad z nejnovějších verzí do starších verzí. Tento compilerem je založen na projektu [**Babel**](https://babeljs.io/). Javascript se tak stává assemblerem 21. století. Toho využívají další firmy či uskupení a přicházejí s jazyky, u kterých je překlad do Javascriptu. Sem patří [**TypeScript**](https://www.typescriptlang.org/) od Microsoftu. Typescript je volitelně typovým jazykem. Zavedení typů do jazyka umožňuje odhalit část chyb již ve fázi překladu. Tuto tezi podporuje i citát f. Slack:\n",
    "> First, we were surprised by the number of small bugs we found when converting our code. Second, we underestimated how powerful editor integration is. Typescript was such a boon to our stability and sanity that we started using it for all new code within days of starting the conversion\"\n",
    "\n",
    "[**CoffeeScript**](https://coffeescript.org/) je dalším jazykem , jehož cílovou platformou je Javascript. Někomu může CoffeeScript připomínat Python. Mimochodem existuje [Transcript](https://www.transcrypt.org/), což je compiler z Pythonu do Javascriptu.\n",
    "\n",
    "https://www.w3schools.com/js/DEFAULT.asp\n",
    "\n",
    "> **Doporučené video**\n",
    "> \n",
    "> [Learn JavaScript - Full Course for Beginners 3h 26min](https://www.youtube.com/watch?v=PkZNo7MFNFg)"
   ]
  },
  {
   "cell_type": "markdown",
   "metadata": {},
   "source": [
    "### Základní prvky jazyka Javascript"
   ]
  },
  {
   "cell_type": "markdown",
   "metadata": {},
   "source": [
    "Javascript rozlišuje pouze datové typy ```number```, ```string```, ```boolean``` a vše ostatní je ```object```.\n",
    "Proměnné, pole, dictionary,\n",
    "cykly (for in, for of) a podmínky\n",
    "funkce\n",
    "třídy"
   ]
  },
  {
   "cell_type": "markdown",
   "metadata": {},
   "source": [
    "#### Proměnné"
   ]
  },
  {
   "cell_type": "markdown",
   "metadata": {},
   "source": [
    "Proměnnou zavádíte pomocí klíčových slov ```let``` nebo ```const```. Ve starších kódech se lze setkat s ```var```, případně jsou proměnné použity k uložení výsledků výrazů, aniž by byly uvozeny klíčovým slovem. Takové proměnné mohou mít v některých verzích jazyka specifický význam a silně se nedoporučuje je používat. Proto jiné verze jazyka mohou považovat za chybu je-li proměnná použita pro uložení hodnoty aniž by předtím byla uvozena pomocí klíčového slova ```let```.\n",
    "\n",
    "Klíčové slovo ```const``` se používá pro uložení výsledků výrazů, které již nesmí být přepsány (koncept immutable)."
   ]
  },
  {
   "cell_type": "markdown",
   "metadata": {},
   "source": [
    "Základní datové typy"
   ]
  },
  {
   "cell_type": "code",
   "execution_count": 1,
   "metadata": {},
   "outputs": [
    {
     "name": "stdout",
     "output_type": "stream",
     "text": [
      "\u001b[33m10\u001b[39m\n"
     ]
    }
   ],
   "source": [
    "const cislo = 10; //proměnná typu number\n",
    "console.log(cislo);"
   ]
  },
  {
   "cell_type": "code",
   "execution_count": 2,
   "metadata": {},
   "outputs": [
    {
     "name": "stdout",
     "output_type": "stream",
     "text": [
      "text\n",
      "text v uvozovkach\n"
     ]
    }
   ],
   "source": [
    "const retezec = 'text'; //proměnná typu string\n",
    "console.log(retezec);\n",
    "const retezec2 = \"text v uvozovkach\";\n",
    "console.log(retezec2);"
   ]
  },
  {
   "cell_type": "code",
   "execution_count": 3,
   "metadata": {},
   "outputs": [
    {
     "name": "stdout",
     "output_type": "stream",
     "text": [
      "\u001b[33mtrue\u001b[39m\n"
     ]
    }
   ],
   "source": [
    "const pravda = true; //proměnná typu boolean\n",
    "console.log(pravda);"
   ]
  },
  {
   "cell_type": "markdown",
   "metadata": {},
   "source": [
    "Operátory"
   ]
  },
  {
   "cell_type": "code",
   "execution_count": 4,
   "metadata": {},
   "outputs": [
    {
     "name": "stdout",
     "output_type": "stream",
     "text": [
      "\u001b[33m8\u001b[39m\n"
     ]
    }
   ],
   "source": [
    "const a = 5;\n",
    "const b = 2;\n",
    "let c = a + b;\n",
    "c = c + 1;\n",
    "console.log(c);"
   ]
  },
  {
   "cell_type": "code",
   "execution_count": 5,
   "metadata": {},
   "outputs": [
    {
     "name": "stdout",
     "output_type": "stream",
     "text": [
      "\u001b[33m49\u001b[39m\n"
     ]
    }
   ],
   "source": [
    "const a = 5e+1; //50\n",
    "const b = 2;\n",
    "let c = a - b;\n",
    "c = c + 1;\n",
    "console.log(c);"
   ]
  },
  {
   "cell_type": "code",
   "execution_count": 6,
   "metadata": {},
   "outputs": [
    {
     "name": "stdout",
     "output_type": "stream",
     "text": [
      "\u001b[33m12.594095010923853\u001b[39m\n",
      "\u001b[33m5.010923853632221\u001b[39m\n"
     ]
    }
   ],
   "source": [
    "const a = 5.12584564789;\n",
    "const b = 2.45697897987;\n",
    "let c = a * b;\n",
    "console.log(c);\n",
    "c = (c - 12.59409) * 1000000;\n",
    "console.log(c);"
   ]
  },
  {
   "cell_type": "code",
   "execution_count": 7,
   "metadata": {},
   "outputs": [
    {
     "name": "stdout",
     "output_type": "stream",
     "text": [
      "a2\n"
     ]
    }
   ],
   "source": [
    "const a = 'a';\n",
    "const b = 2;\n",
    "let c = a + b; //automaticka konverze\n",
    "console.log(c);"
   ]
  },
  {
   "cell_type": "markdown",
   "metadata": {},
   "source": [
    "Další datové typy"
   ]
  },
  {
   "cell_type": "code",
   "execution_count": 8,
   "metadata": {},
   "outputs": [
    {
     "name": "stdout",
     "output_type": "stream",
     "text": [
      "\u001b[90mundefined\u001b[39m\n",
      "UNDEFINED\n"
     ]
    }
   ],
   "source": [
    "let c; //undefined\n",
    "console.log(c);\n",
    "if (typeof c === 'undefined') {\n",
    "    console.log('UNDEFINED');\n",
    "}"
   ]
  },
  {
   "cell_type": "code",
   "execution_count": 9,
   "metadata": {},
   "outputs": [
    {
     "name": "stdout",
     "output_type": "stream",
     "text": [
      "\u001b[1mnull\u001b[22m\n",
      "NULL\n"
     ]
    }
   ],
   "source": [
    "let c = null; //definovaně prázdný\n",
    "console.log(c);\n",
    "//*\n",
    "if (c == null) {\n",
    "    console.log('NULL');\n",
    "}\n",
    "//*/"
   ]
  },
  {
   "cell_type": "code",
   "execution_count": 10,
   "metadata": {},
   "outputs": [
    {
     "name": "stdout",
     "output_type": "stream",
     "text": [
      "[ \u001b[33m1\u001b[39m, \u001b[33m2\u001b[39m, \u001b[33m3\u001b[39m ]\n"
     ]
    }
   ],
   "source": [
    "const pole = [1, 2, 3];\n",
    "console.log(pole);"
   ]
  },
  {
   "cell_type": "code",
   "execution_count": 11,
   "metadata": {},
   "outputs": [
    {
     "name": "stdout",
     "output_type": "stream",
     "text": [
      "[ \u001b[32m'mrkev'\u001b[39m, \u001b[32m'brukev'\u001b[39m, \u001b[32m'cibule'\u001b[39m ]\n"
     ]
    }
   ],
   "source": [
    "const poleStr = ['mrkev', 'brukev', 'cibule'];\n",
    "console.log(poleStr);"
   ]
  },
  {
   "cell_type": "code",
   "execution_count": null,
   "metadata": {},
   "outputs": [],
   "source": []
  },
  {
   "cell_type": "code",
   "execution_count": 12,
   "metadata": {},
   "outputs": [
    {
     "name": "stdout",
     "output_type": "stream",
     "text": [
      "{ name: \u001b[32m'jmeno'\u001b[39m, value: \u001b[32m'hodnota'\u001b[39m }\n"
     ]
    }
   ],
   "source": [
    "const data = {name: 'jmeno', value: 'hodnota'};\n",
    "console.log(data);"
   ]
  },
  {
   "cell_type": "markdown",
   "metadata": {},
   "source": [
    "Operace a funkce nad řetězci"
   ]
  },
  {
   "cell_type": "code",
   "execution_count": 13,
   "metadata": {},
   "outputs": [
    {
     "name": "stdout",
     "output_type": "stream",
     "text": [
      "h\n",
      "\u001b[33m4\u001b[39m\n"
     ]
    }
   ],
   "source": [
    "const pozdrav = \"Ahoj\";\n",
    "console.log(pozdrav[1]);\n",
    "console.log(pozdrav.length);"
   ]
  },
  {
   "cell_type": "code",
   "execution_count": 14,
   "metadata": {},
   "outputs": [
    {
     "name": "stdout",
     "output_type": "stream",
     "text": [
      "ahoj\n"
     ]
    }
   ],
   "source": [
    "let pozdrav = \"Ahoj\";\n",
    "pozdrav = pozdrav.replace('A', 'a')\n",
    "console.log(pozdrav);"
   ]
  },
  {
   "cell_type": "code",
   "execution_count": 15,
   "metadata": {},
   "outputs": [
    {
     "name": "stdout",
     "output_type": "stream",
     "text": [
      "AHOJ\n"
     ]
    }
   ],
   "source": [
    "let pozdrav = \"Ahoj\";\n",
    "pozdrav = pozdrav.toUpperCase()\n",
    "console.log(pozdrav);"
   ]
  },
  {
   "cell_type": "code",
   "execution_count": 16,
   "metadata": {},
   "outputs": [
    {
     "name": "stdout",
     "output_type": "stream",
     "text": [
      "ahoj\n"
     ]
    }
   ],
   "source": [
    "let pozdrav = \"Ahoj\";\n",
    "pozdrav = pozdrav.toLowerCase()\n",
    "console.log(pozdrav);"
   ]
  },
  {
   "cell_type": "code",
   "execution_count": 17,
   "metadata": {},
   "outputs": [
    {
     "name": "stdout",
     "output_type": "stream",
     "text": [
      "Ahoj Hrbolek\n",
      "Ahoj Hrbolek\n"
     ]
    }
   ],
   "source": [
    "let jmeno = 'Hrbolek';\n",
    "let pozdrav = \"Ahoj\";\n",
    "pozdrav = pozdrav + ' ' + jmeno;\n",
    "console.log(pozdrav);\n",
    "\n",
    "pozdrav = \"Ahoj\";\n",
    "pozdrav = pozdrav.concat(' ', jmeno);\n",
    "console.log(pozdrav);"
   ]
  },
  {
   "cell_type": "code",
   "execution_count": 18,
   "metadata": {},
   "outputs": [
    {
     "name": "stdout",
     "output_type": "stream",
     "text": [
      "zdar\n",
      "zd\n"
     ]
    }
   ],
   "source": [
    "let pozdrav = \"Nazdar světe\";\n",
    "console.log(pozdrav.substr(2, 4)); //od 2. znaku 4 znaky\n",
    "console.log(pozdrav.substring(2, 4)); //od 2. znaku do 4. znaku"
   ]
  },
  {
   "cell_type": "code",
   "execution_count": 19,
   "metadata": {},
   "outputs": [
    {
     "name": "stdout",
     "output_type": "stream",
     "text": [
      "[ \u001b[32m'Nazdar'\u001b[39m, \u001b[32m'světe'\u001b[39m ]\n"
     ]
    }
   ],
   "source": [
    "let pozdrav = \"Nazdar světe\";\n",
    "console.log(pozdrav.split(' ')); //použít mezery jako oddělovací znak"
   ]
  },
  {
   "cell_type": "code",
   "execution_count": 20,
   "metadata": {},
   "outputs": [
    {
     "name": "stdout",
     "output_type": "stream",
     "text": [
      "\u001b[33m7\u001b[39m\n"
     ]
    }
   ],
   "source": [
    "let pozdrav = \"Nazdar světe\";\n",
    "console.log(pozdrav.indexOf('sv')); //nalézt index výskytu řetězce 'sv'"
   ]
  },
  {
   "cell_type": "code",
   "execution_count": 21,
   "metadata": {},
   "outputs": [
    {
     "name": "stdout",
     "output_type": "stream",
     "text": [
      "\u001b[33m1\u001b[39m\n",
      "\u001b[33m4\u001b[39m\n"
     ]
    }
   ],
   "source": [
    "let pozdrav = \"Nazdar světe\";\n",
    "console.log(pozdrav.indexOf('a')); //index prvního výskytu\n",
    "console.log(pozdrav.lastIndexOf('a')); //index posledního výskytu"
   ]
  },
  {
   "cell_type": "code",
   "execution_count": 22,
   "metadata": {},
   "outputs": [
    {
     "name": "stdout",
     "output_type": "stream",
     "text": [
      "Nazdar%20sv%u011Bte\n"
     ]
    }
   ],
   "source": [
    "let pozdrav = \"Nazdar světe\";\n",
    "console.log(escape(pozdrav)); "
   ]
  },
  {
   "cell_type": "code",
   "execution_count": 23,
   "metadata": {},
   "outputs": [
    {
     "name": "stdout",
     "output_type": "stream",
     "text": [
      "Nazdar světe\n"
     ]
    }
   ],
   "source": [
    "let pozdravEsc = \"Nazdar%20sv%u011Bte\";\n",
    "console.log(unescape(pozdravEsc)); "
   ]
  },
  {
   "cell_type": "code",
   "execution_count": 24,
   "metadata": {},
   "outputs": [
    {
     "name": "stdout",
     "output_type": "stream",
     "text": [
      "\u001b[33m1.25\u001b[39m\n",
      "\u001b[33m1.25\u001b[39m\n"
     ]
    }
   ],
   "source": [
    "let text = '1.25';\n",
    "let value = parseFloat(text);\n",
    "console.log(value);\n",
    "let value2 = Number(text);\n",
    "console.log(value2);"
   ]
  },
  {
   "cell_type": "code",
   "execution_count": 25,
   "metadata": {},
   "outputs": [
    {
     "name": "stdout",
     "output_type": "stream",
     "text": [
      "\u001b[33m1\u001b[39m\n"
     ]
    }
   ],
   "source": [
    "let text = '1.25';\n",
    "let value = parseInt(text);\n",
    "console.log(value);"
   ]
  },
  {
   "cell_type": "markdown",
   "metadata": {},
   "source": [
    "Funkce nad čísly"
   ]
  },
  {
   "cell_type": "code",
   "execution_count": 26,
   "metadata": {},
   "outputs": [
    {
     "name": "stdout",
     "output_type": "stream",
     "text": [
      "\u001b[33mInfinity\u001b[39m\n",
      "\u001b[33mfalse\u001b[39m\n"
     ]
    }
   ],
   "source": [
    "let a = 5;\n",
    "let b = 0;\n",
    "let c = a / b;\n",
    "console.log(c);\n",
    "console.log(isFinite(c));"
   ]
  },
  {
   "cell_type": "code",
   "execution_count": 27,
   "metadata": {},
   "outputs": [
    {
     "name": "stdout",
     "output_type": "stream",
     "text": [
      "\u001b[33mNaN\u001b[39m\n",
      "\u001b[33mtrue\u001b[39m\n"
     ]
    }
   ],
   "source": [
    "let a = 0;\n",
    "let b = 0;\n",
    "let c = a / b;\n",
    "console.log(c);\n",
    "console.log(isNaN(c));"
   ]
  },
  {
   "cell_type": "code",
   "execution_count": 28,
   "metadata": {},
   "outputs": [
    {
     "name": "stdout",
     "output_type": "stream",
     "text": [
      "\u001b[33m1\u001b[39m\n",
      "\u001b[33m1.1428571428571428\u001b[39m\n"
     ]
    }
   ],
   "source": [
    "let a = 8 % 7;\n",
    "let b = 8 / 7;\n",
    "console.log(a);\n",
    "console.log(b);"
   ]
  },
  {
   "cell_type": "code",
   "execution_count": 29,
   "metadata": {},
   "outputs": [
    {
     "name": "stdout",
     "output_type": "stream",
     "text": [
      "\u001b[33m2\u001b[39m\n",
      "\u001b[33m32\u001b[39m\n"
     ]
    }
   ],
   "source": [
    "let a = 8 >> 2;\n",
    "let b = 8 << 2;\n",
    "console.log(a);\n",
    "console.log(b);"
   ]
  },
  {
   "cell_type": "code",
   "execution_count": 30,
   "metadata": {},
   "outputs": [
    {
     "name": "stdout",
     "output_type": "stream",
     "text": [
      "\u001b[33m1.7976931348623157e+308\u001b[39m\n",
      "\u001b[33m5e-324\u001b[39m\n"
     ]
    }
   ],
   "source": [
    "console.log(Number.MAX_VALUE);\n",
    "console.log(Number.MIN_VALUE);"
   ]
  },
  {
   "cell_type": "markdown",
   "metadata": {},
   "source": [
    "#### Cyklus for in"
   ]
  },
  {
   "cell_type": "code",
   "execution_count": 31,
   "metadata": {},
   "outputs": [
    {
     "name": "stdout",
     "output_type": "stream",
     "text": [
      "0\n",
      "1\n",
      "2\n"
     ]
    }
   ],
   "source": [
    "const poleStr = ['mrkev', 'brukev', 'cibule'];\n",
    "for(let s in poleStr) {\n",
    "    console.log(s);\n",
    "}"
   ]
  },
  {
   "cell_type": "code",
   "execution_count": 32,
   "metadata": {},
   "outputs": [
    {
     "name": "stdout",
     "output_type": "stream",
     "text": [
      "name\n",
      "value\n"
     ]
    }
   ],
   "source": [
    "const data = {name: 'jmeno', value: 'hodnota'};\n",
    "for(let s in data) {\n",
    "    console.log(s);\n",
    "}"
   ]
  },
  {
   "cell_type": "markdown",
   "metadata": {},
   "source": [
    "#### Cyklus for of"
   ]
  },
  {
   "cell_type": "markdown",
   "metadata": {},
   "source": [
    "```of``` volá iterator, takže prvek jej musí mít."
   ]
  },
  {
   "cell_type": "code",
   "execution_count": 33,
   "metadata": {},
   "outputs": [
    {
     "name": "stdout",
     "output_type": "stream",
     "text": [
      "mrkev\n",
      "brukev\n",
      "cibule\n"
     ]
    }
   ],
   "source": [
    "const poleStr = ['mrkev', 'brukev', 'cibule'];\n",
    "for(let s of poleStr) {\n",
    "    console.log(s);\n",
    "}"
   ]
  },
  {
   "cell_type": "markdown",
   "metadata": {},
   "source": [
    "#### Podmínky"
   ]
  },
  {
   "cell_type": "code",
   "execution_count": 34,
   "metadata": {},
   "outputs": [
    {
     "name": "stdout",
     "output_type": "stream",
     "text": [
      "Pravda\n"
     ]
    }
   ],
   "source": [
    "const cond = true;\n",
    "if (cond) {\n",
    "    console.log('Pravda');\n",
    "} else {\n",
    "    console.log('Nepravda');\n",
    "}"
   ]
  },
  {
   "cell_type": "code",
   "execution_count": 35,
   "metadata": {},
   "outputs": [
    {
     "name": "stdout",
     "output_type": "stream",
     "text": [
      "Dobrý večer\n"
     ]
    }
   ],
   "source": [
    "const cas = 18;\n",
    "if (cas < 12) {\n",
    "    console.log('Dobré ráno');\n",
    "} else if (cas < 20) {\n",
    "    console.log('Dobrý večer');\n",
    "} else {\n",
    "    console.log('Dobrou noc');\n",
    "}"
   ]
  },
  {
   "cell_type": "code",
   "execution_count": 57,
   "metadata": {},
   "outputs": [
    {
     "name": "stderr",
     "output_type": "stream",
     "text": [
      "6:8 - Type '\"6\"' is not comparable to type '\"5\"'.\n"
     ]
    }
   ],
   "source": [
    "const denVTydnu = \"5\";\n",
    "switch(denVTydnu) {\n",
    "  case \"5\":\n",
    "    console.log('Five');\n",
    "    break;\n",
    "  case \"6\":\n",
    "    console.log('Six');\n",
    "    break;\n",
    "  default:\n",
    "    console.log('Not five nor six');\n",
    "} "
   ]
  },
  {
   "cell_type": "markdown",
   "metadata": {},
   "source": [
    "#### Funkce"
   ]
  },
  {
   "cell_type": "code",
   "execution_count": 41,
   "metadata": {},
   "outputs": [
    {
     "name": "stdout",
     "output_type": "stream",
     "text": [
      "\u001b[33m21\u001b[39m\n"
     ]
    }
   ],
   "source": [
    "function secti(a, b) {\n",
    "    return a + b;\n",
    "}\n",
    "\n",
    "const c = secti(1, 20);\n",
    "console.log(c);"
   ]
  },
  {
   "cell_type": "markdown",
   "metadata": {},
   "source": [
    "#### Anonymní Funkce"
   ]
  },
  {
   "cell_type": "code",
   "execution_count": 42,
   "metadata": {},
   "outputs": [
    {
     "name": "stdout",
     "output_type": "stream",
     "text": [
      "\u001b[33m101\u001b[39m\n"
     ]
    }
   ],
   "source": [
    "const add = (a, b) => a + b;\n",
    "\n",
    "const c = add(1, 100);\n",
    "console.log(c);"
   ]
  },
  {
   "cell_type": "markdown",
   "metadata": {},
   "source": [
    "#### Třídy"
   ]
  },
  {
   "cell_type": "code",
   "execution_count": 43,
   "metadata": {},
   "outputs": [
    {
     "name": "stdout",
     "output_type": "stream",
     "text": [
      "\u001b[33m10\u001b[39m\n"
     ]
    }
   ],
   "source": [
    "function Rect(height, width) {\n",
    "    this.height = height;\n",
    "    this.width = width;\n",
    "}\n",
    "\n",
    "const r = new Rect(10, 20);\n",
    "console.log(r.height);"
   ]
  },
  {
   "cell_type": "code",
   "execution_count": 44,
   "metadata": {},
   "outputs": [
    {
     "name": "stdout",
     "output_type": "stream",
     "text": [
      "\u001b[33m10\u001b[39m\n"
     ]
    }
   ],
   "source": [
    "class Rectangle {\n",
    "  constructor(height, width) {\n",
    "    this.height = height;\n",
    "    this.width = width;\n",
    "  }\n",
    "}\n",
    "\n",
    "const r = new Rectangle(10, 20);\n",
    "console.log(r.height);"
   ]
  },
  {
   "cell_type": "markdown",
   "metadata": {},
   "source": [
    "### Pokročilé prvky jazyka Javascript"
   ]
  },
  {
   "cell_type": "markdown",
   "metadata": {},
   "source": [
    "#### Ternary operator"
   ]
  },
  {
   "cell_type": "code",
   "execution_count": 45,
   "metadata": {},
   "outputs": [
    {
     "name": "stdout",
     "output_type": "stream",
     "text": [
      "Ano\n"
     ]
    }
   ],
   "source": [
    "let a = true;\n",
    "let result = a ? 'Ano' : 'Ne';\n",
    "console.log(result);"
   ]
  },
  {
   "cell_type": "markdown",
   "metadata": {},
   "source": [
    "Ternary operator v Javascriptu\n",
    "https://developer.mozilla.org/en-US/docs/Web/JavaScript/Reference/Operators/Conditional_Operator\n",
    "\n",
    "---\n",
    "```javascript\n",
    "condition ? valueIfTrue : valueIfFalse\n",
    "```\n",
    "---"
   ]
  },
  {
   "cell_type": "markdown",
   "metadata": {},
   "source": [
    "#### Three Dots"
   ]
  },
  {
   "cell_type": "code",
   "execution_count": 46,
   "metadata": {},
   "outputs": [
    {
     "name": "stdout",
     "output_type": "stream",
     "text": [
      "{ name: \u001b[32m'prijmeni'\u001b[39m, value: \u001b[32m'hodnota'\u001b[39m }\n",
      "{ name: \u001b[32m'jmeno'\u001b[39m, value: \u001b[32m'hodnota'\u001b[39m }\n"
     ]
    }
   ],
   "source": [
    "const data = {name: 'jmeno', value: 'hodnota'};\n",
    "const data2 = {...data, name: 'prijmeni'};\n",
    "console.log(data2);\n",
    "const data3 = {name: 'prijmeni', ...data};\n",
    "console.log(data3);"
   ]
  },
  {
   "cell_type": "code",
   "execution_count": 47,
   "metadata": {},
   "outputs": [
    {
     "name": "stdout",
     "output_type": "stream",
     "text": [
      "[ \u001b[32m'mrkev'\u001b[39m, \u001b[32m'brukev'\u001b[39m, \u001b[32m'cibule'\u001b[39m, \u001b[32m'jablko'\u001b[39m ]\n"
     ]
    }
   ],
   "source": [
    "const pole = ['mrkev', 'brukev', 'cibule'];\n",
    "const pole2 = [...pole, 'jablko'];\n",
    "console.log(pole2);"
   ]
  },
  {
   "cell_type": "markdown",
   "metadata": {},
   "source": [
    "#### Destrukturalizace"
   ]
  },
  {
   "cell_type": "markdown",
   "metadata": {},
   "source": [
    "Destrukturalizace\n",
    "\n",
    "```javascript\n",
    "{value, name} = props\n",
    "[value, name] = array\n",
    "```\n"
   ]
  },
  {
   "cell_type": "code",
   "execution_count": 48,
   "metadata": {},
   "outputs": [
    {
     "name": "stdout",
     "output_type": "stream",
     "text": [
      "jmeno\n",
      "hodnota\n"
     ]
    }
   ],
   "source": [
    "const data = {name: 'jmeno', value: 'hodnota', description: 'description'};\n",
    "const {name, value} = data;\n",
    "console.log(name);\n",
    "console.log(value);"
   ]
  },
  {
   "cell_type": "code",
   "execution_count": 49,
   "metadata": {},
   "outputs": [
    {
     "name": "stdout",
     "output_type": "stream",
     "text": [
      "jmeno\n",
      "hodnota\n"
     ]
    }
   ],
   "source": [
    "const data = {name: 'jmeno', value: 'hodnota', description: 'description'};\n",
    "const {name, value} = data;\n",
    "console.log(name);\n",
    "console.log(value);"
   ]
  },
  {
   "cell_type": "code",
   "execution_count": 50,
   "metadata": {},
   "outputs": [
    {
     "name": "stdout",
     "output_type": "stream",
     "text": [
      "Praha\n",
      "Brno\n"
     ]
    }
   ],
   "source": [
    "const a = ['Praha', 'Brno', 'Ostrava'];\n",
    "const [x, y] = a\n",
    "console.log(x);\n",
    "console.log(y);"
   ]
  },
  {
   "cell_type": "code",
   "execution_count": 51,
   "metadata": {},
   "outputs": [
    {
     "name": "stdout",
     "output_type": "stream",
     "text": [
      "Praha\n",
      "Brno\n",
      "[ \u001b[32m'Ostrava'\u001b[39m, \u001b[32m'Bratislava'\u001b[39m ]\n"
     ]
    }
   ],
   "source": [
    "const a = ['Praha', 'Brno', 'Ostrava', 'Bratislava'];\n",
    "const [x, y, ...z] = a\n",
    "console.log(x);\n",
    "console.log(y);\n",
    "console.log(z);"
   ]
  },
  {
   "cell_type": "markdown",
   "metadata": {},
   "source": [
    "#### Asynchronnous Code"
   ]
  },
  {
   "cell_type": "markdown",
   "metadata": {},
   "source": [
    "Asynchonní funkce vrací tzv. [Promise](https://developer.mozilla.org/en-US/docs/Web/JavaScript/Reference/Global_Objects/Promise). Návratová hodnota je tedy zabalena a pro její vyčíslení je  nutné udělat některé operace navíc. Můžete využít tzv. [Callbacku](https://developer.mozilla.org/en-US/docs/Glossary/Callback_function) pomocí metody `then` nebo s pomocí klíčového slova `await` vykonávání kódu pozastavíte do doby, dokud není Promise ve stavu [Resolved](https://developer.mozilla.org/en-US/docs/Web/JavaScript/Reference/Global_Objects/Promise/resolve)."
   ]
  },
  {
   "cell_type": "code",
   "execution_count": 5,
   "metadata": {},
   "outputs": [
    {
     "name": "stdout",
     "output_type": "stream",
     "text": [
      "\u001b[33m1\u001b[39m\n",
      "\u001b[33m1\u001b[39m\n",
      "Promise { \u001b[33m1\u001b[39m }\n"
     ]
    }
   ],
   "source": [
    "async function f() {\n",
    "  return 1;\n",
    "}\n",
    "\n",
    "const print = console.log\n",
    "\n",
    "f().then(print);\n",
    "const result = await f()\n",
    "print(result)\n",
    "print(f())"
   ]
  },
  {
   "cell_type": "markdown",
   "metadata": {},
   "source": [
    "#### Generators"
   ]
  },
  {
   "cell_type": "markdown",
   "metadata": {},
   "source": [
    "[Generator](https://developer.mozilla.org/en-US/docs/Web/JavaScript/Reference/Global_Objects/Generator) je funkce, která ve svém těle využívá klířového slova `yield`. Javascript vyžaduje současně, aby funkce s `yield` byla explicitně označena (znak \\*). Taková funkce vrací speciální objekt, který řídí vykonávání částí kódu uvnitř těla funkce. Běh je vždy po `yield` pozastaven až do doby, kdy je vyžádána další hodnota.\n",
    "\n",
    "Výsledky z generátoru lze získat např. v cyklu `for` pomocí klíčového slova `of`."
   ]
  },
  {
   "cell_type": "code",
   "execution_count": 11,
   "metadata": {},
   "outputs": [
    {
     "name": "stdout",
     "output_type": "stream",
     "text": [
      "lets do it\n",
      "working on result 1\n",
      "\u001b[33m1\u001b[39m\n",
      "working on result 2\n",
      "\u001b[33m2\u001b[39m\n",
      "working on result 2\n",
      "\u001b[33m3\u001b[39m\n"
     ]
    }
   ],
   "source": [
    "const print = console.log\n",
    "\n",
    "function* genFunc() {\n",
    "    print('working on result 1');\n",
    "    yield 1;\n",
    "    print('working on result 2');\n",
    "    yield 2;\n",
    "    print('working on result 3');\n",
    "    yield 3;\n",
    "}\n",
    "\n",
    "print('lets do it')\n",
    "for(const item of genFunc()) {\n",
    "    print(item)\n",
    "}"
   ]
  },
  {
   "cell_type": "markdown",
   "metadata": {},
   "source": [
    "#### JSX"
   ]
  },
  {
   "cell_type": "markdown",
   "metadata": {},
   "source": [
    "JSX je extension, který do jazyka přinesl React. JSX umožňuje psát částo kódu jako by se jednalo o HTML kód. Mezi tagy HTML je možné do složených závorek vložit Javascriptový kód.\n",
    "JSX vyžaduje, aby tagy byly uzavřeny. Javascript překládá JSX do objektu, jehož prvkem může být funkce."
   ]
  },
  {
   "cell_type": "code",
   "execution_count": 17,
   "metadata": {},
   "outputs": [
    {
     "name": "stdout",
     "output_type": "stream",
     "text": [
      "{\n",
      "  \u001b[32m'$$typeof'\u001b[39m: \u001b[32mSymbol(react.element)\u001b[39m,\n",
      "  type: \u001b[32m'div'\u001b[39m,\n",
      "  key: \u001b[1mnull\u001b[22m,\n",
      "  ref: \u001b[1mnull\u001b[22m,\n",
      "  props: { children: [ \u001b[32m'Hello '\u001b[39m, \u001b[32m'Hrbolek'\u001b[39m ] },\n",
      "  _owner: \u001b[1mnull\u001b[22m,\n",
      "  _store: {}\n",
      "}\n",
      "{\n",
      "  \u001b[32m'$$typeof'\u001b[39m: \u001b[32mSymbol(react.element)\u001b[39m,\n",
      "  type: \u001b[36m[Function: NameElement]\u001b[39m,\n",
      "  key: \u001b[1mnull\u001b[22m,\n",
      "  ref: \u001b[1mnull\u001b[22m,\n",
      "  props: { name: \u001b[32m'Hrbolek'\u001b[39m },\n",
      "  _owner: \u001b[1mnull\u001b[22m,\n",
      "  _store: {}\n",
      "}\n",
      "object\n"
     ]
    }
   ],
   "source": [
    "import React from 'react'; //const React = () => null; // Hack\n",
    "import * as tslab from 'tslab';\n",
    "\n",
    "const NameElement = (props) =>\n",
    "    <div>Hello {props.name ? props.name : ''}</div>;\n",
    "\n",
    "console.log(NameElement({name: 'Hrbolek'}));\n",
    "\n",
    "const htmlElement = <NameElement name='Hrbolek'/>;       \n",
    "console.log(htmlElement);\n",
    "console.log(typeof(htmlElement));"
   ]
  },
  {
   "cell_type": "code",
   "execution_count": 53,
   "metadata": {},
   "outputs": [
    {
     "data": {
      "text/html": [
       "<div data-reactroot=\"\">Hello <b>Hrbolek</b></div>"
      ]
     },
     "metadata": {},
     "output_type": "display_data"
    }
   ],
   "source": [
    "import React from 'react'; \n",
    "import ReactDOMServer from 'react-dom/server';\n",
    "import * as tslab from 'tslab';\n",
    "\n",
    "const NameElement = (props) =>\n",
    "    <div>Hello <b>{props.name ? props.name : ''}</b></div>;\n",
    "\n",
    "const htmlElement = <NameElement name='Hrbolek'/>;       \n",
    "const html = ReactDOMServer.renderToString(htmlElement);\n",
    "tslab.display.html(html);"
   ]
  },
  {
   "cell_type": "code",
   "execution_count": 59,
   "metadata": {},
   "outputs": [],
   "source": [
    "import ReactDOMServer from 'react-dom/server';\n",
    "import * as tslab from 'tslab';\n",
    "\n",
    "function DisplayReact(element) {\n",
    "    const html = ReactDOMServer.renderToString(element);\n",
    "    tslab.display.html(html);\n",
    "}"
   ]
  },
  {
   "cell_type": "code",
   "execution_count": 60,
   "metadata": {},
   "outputs": [
    {
     "data": {
      "text/html": [
       "<div data-reactroot=\"\">Hello <b>Hrbolek</b></div>"
      ]
     },
     "metadata": {},
     "output_type": "display_data"
    }
   ],
   "source": [
    "import React from 'react'; \n",
    "const PersonElement = (props) =>\n",
    "    <div>Hello <b>{props.name ? props.name : ''}</b></div>;\n",
    "\n",
    "const htmlElement = <PersonElement name='Hrbolek'/>;       \n",
    "DisplayReact(htmlElement);"
   ]
  },
  {
   "cell_type": "code",
   "execution_count": 61,
   "metadata": {},
   "outputs": [
    {
     "data": {
      "text/html": [
       "<div data-reactroot=\"\">Hello <b>Hrbolek</b></div>"
      ]
     },
     "metadata": {},
     "output_type": "display_data"
    }
   ],
   "source": [
    "import React from 'react'; \n",
    "\n",
    "const htmlElement = <PersonElement name='Hrbolek'/>;       \n",
    "DisplayReact(htmlElement);"
   ]
  },
  {
   "cell_type": "markdown",
   "metadata": {},
   "source": [
    "## Web Assembly"
   ]
  },
  {
   "cell_type": "markdown",
   "metadata": {},
   "source": [
    "Web assembly je relativně nové technologie, definující standard pro spouštění programů a tudíž umožňující vytváření kódů v různých jazycích. Srovnejte s .Net.\n",
    "(https://webassembly.org/)\n",
    "(https://developer.mozilla.org/en-US/docs/WebAssembly)"
   ]
  },
  {
   "cell_type": "markdown",
   "metadata": {},
   "source": [
    "## Knihovny a nástroje"
   ]
  },
  {
   "cell_type": "markdown",
   "metadata": {},
   "source": [
    "### nvm"
   ]
  },
  {
   "cell_type": "markdown",
   "metadata": {},
   "source": [
    "### npm"
   ]
  },
  {
   "cell_type": "markdown",
   "metadata": {},
   "source": [
    "npm je ekosystém balíčků (knihoven) a jejich verzí, umožňující definici jejich závislosti na konkrétní verzi jiného balíčku. Není až tak neobvyklé instalovat si v projektu balíček jen pro jednu funkci v něm obsaženou.\n",
    "https://www.npmjs.com/"
   ]
  },
  {
   "cell_type": "markdown",
   "metadata": {},
   "source": [
    "### Gulp"
   ]
  },
  {
   "cell_type": "markdown",
   "metadata": {},
   "source": [
    "Gulp je systém pro automatizaci dílčích úkonů při správě projektu.\n",
    "https://gulpjs.com/"
   ]
  },
  {
   "cell_type": "markdown",
   "metadata": {},
   "source": [
    "### Uglyfi & Closure Compiler"
   ]
  },
  {
   "cell_type": "markdown",
   "metadata": {},
   "source": [
    "Uglyfi (https://github.com/mishoo/UglifyJS) je nástroj pro zmenšení výsledného - distribuovaného kódu. \n",
    "\n",
    "Closure Compiler (https://developers.google.com/closure/compiler) je produkt Google, který je plnohodnotnou variantou Uglyfi\n",
    "\n",
    "Vedlejším efektem použití těchto knihoven je zvýšení obtížnosti případného reverse engineeringu."
   ]
  },
  {
   "cell_type": "markdown",
   "metadata": {},
   "source": [
    "### jQuery"
   ]
  },
  {
   "cell_type": "markdown",
   "metadata": {},
   "source": [
    "**[jQuery](https://jquery.com/)** je snad nejstarší a dosud používanou knihovnou v Javascriptu. Její cílem je usnadnit manipulaci s DOM v prohlížeči. Je součástí mnoha dalšéch knihoven, např. Bootstrap. "
   ]
  },
  {
   "cell_type": "markdown",
   "metadata": {},
   "source": [
    "### React"
   ]
  },
  {
   "cell_type": "markdown",
   "metadata": {},
   "source": [
    "**[React](https://reactjs.org/)** je \"cutting-edge\" knihovna od Facebooku, která přináší díky funkcionálnímu programování zcela jiné paradigma pro tvorbu webových aplikací. Základním prvkem UI je komponenta, jejichž různé typy jsou do sebe vnořeny a vytvářejí tak funkční celek. Narozdíl od Vue (níže), je komponenta definována jen jako funkce (ano, lze použít třídu...).\n",
    "\n",
    "Srovnání React, Vue a Angluar lze nalézt např. [zde](https://www.codeinwp.com/blog/angular-vs-vue-vs-react/https://www.codeinwp.com/blog/angular-vs-vue-vs-react/)."
   ]
  },
  {
   "cell_type": "markdown",
   "metadata": {},
   "source": [
    "Následující část definuje pomocnou funkci. Díky ní je možné demonstrovat funkcionální paradigma využité u knihovny React."
   ]
  },
  {
   "cell_type": "code",
   "execution_count": 62,
   "metadata": {},
   "outputs": [],
   "source": [
    "import ReactDOMServer from 'react-dom/server';\n",
    "import * as tslab from 'tslab';\n",
    "\n",
    "function DisplayReact(element) {\n",
    "    const html = ReactDOMServer.renderToString(element);\n",
    "    tslab.display.html(html);\n",
    "}"
   ]
  },
  {
   "cell_type": "markdown",
   "metadata": {},
   "source": [
    "Kód níže má čtyři prvky:\n",
    "\n",
    "- import knihovny React\n",
    "- definici komponenty ```PersonElement```\n",
    "- využití komponenty ```PersonElement``` - vytvoření její instance v proměnné ```htmlItem```\n",
    "- zobrazení ```htmlItem```\n",
    "\n",
    "```PersonElement``` je funkce s parametrem ```props```, která vrací expression vyjádřené jako JSX. Můžeme tuto funkci chápat jako mapování parametru ```props``` na html kód. Každá taková funkce je z hlediska knihovny React komponentou. Knihovna React zapouzdřuje parametry komponenty do parametru ```props```. Jeho členy představují parametry komponenty definované při použití. V příkladu níže to je parametr ```name```."
   ]
  },
  {
   "cell_type": "code",
   "execution_count": 63,
   "metadata": {},
   "outputs": [
    {
     "data": {
      "text/html": [
       "<div data-reactroot=\"\">Hello <b>Hrbolek</b></div>"
      ]
     },
     "metadata": {},
     "output_type": "display_data"
    }
   ],
   "source": [
    "import React from 'react'; \n",
    "\n",
    "const PersonElement = (props) =>\n",
    "    <div>Hello <b>{props.name ? props.name : ''}</b></div>;\n",
    "\n",
    "const htmlItem = <PersonElement name='Hrbolek'/>;       \n",
    "\n",
    "DisplayReact(htmlItem);"
   ]
  },
  {
   "cell_type": "markdown",
   "metadata": {},
   "source": [
    "```DepartmentElement``` níže je funkce - komponenta, která využívá komponentu ```PersonElement``` definovanou dříve."
   ]
  },
  {
   "cell_type": "code",
   "execution_count": 88,
   "metadata": {},
   "outputs": [
    {
     "data": {
      "text/html": [
       "<div data-reactroot=\"\"><div>Hello <b>Hrbolek</b></div><div>Hello <b>Kopec</b></div><div>Hello <b>Vrcholek</b></div></div>"
      ]
     },
     "metadata": {},
     "output_type": "display_data"
    }
   ],
   "source": [
    "import React from 'react';\n",
    "\n",
    "const DepartmentElement = (props) => {\n",
    "    const {names} = props;\n",
    "    const people = names.map((item, idx) => <PersonElement key={idx} name={item}/>);\n",
    "    return <div>{people}</div>\n",
    "};\n",
    "\n",
    "const arrayNames = ['Hrbolek', 'Vrcholek'];\n",
    "const htmlItem = <DepartmentElement names={arrayNames}/>;       \n",
    "\n",
    "DisplayReact(htmlItem);"
   ]
  },
  {
   "cell_type": "markdown",
   "metadata": {},
   "source": [
    "### Vue"
   ]
  },
  {
   "cell_type": "markdown",
   "metadata": {},
   "source": [
    "**[Vue](https://vuejs.org/)** je knihovna, která podle slov tvůrců, navazuje na to nejlepší z ReactJS a AngularJS. Využívá komponentního přístupu. Komponenta je uložena ve speciálním souboru .vue a skládá se z předlohy (template) a kódu.\n",
    "\n",
    "Popojení Vue jako frontendu a Pythonu jako backendu je diskutováno např. [zde](https://medium.com/@andrelbaldo/register-login-and-logout-boilerplate-written-in-vue-js-and-python-as-api-5ce57e33774b)."
   ]
  },
  {
   "cell_type": "markdown",
   "metadata": {},
   "source": [
    "### Angular"
   ]
  },
  {
   "cell_type": "markdown",
   "metadata": {},
   "source": [
    "**[Angluar](https://angular.io/)** je knihovna od Google. Pokud je možno volit si knihovnu pro frontend, tuto knihovnu bych volil až jako třetí v pořadí. Některé aktuální trendy naznačují že React a Vue jsou ve frontendu preferovanější a jejich budoucnou \"je silnější\". "
   ]
  },
  {
   "cell_type": "markdown",
   "metadata": {},
   "source": [
    "### Redux"
   ]
  },
  {
   "cell_type": "markdown",
   "metadata": {},
   "source": [
    "Redux je knihovnou (https://redux.js.org/). Dříve tvůrci Redux prezentovali jako myšlenkový koncept. Nejdůležitějším prvkem je centralizace datového úložiště a standardizace přístupu j němu. Obsah tohoto datového úložiště je následně v rámci UI zpřístupněn uživateli. "
   ]
  },
  {
   "cell_type": "markdown",
   "metadata": {},
   "source": [
    "### StoryBook"
   ]
  },
  {
   "cell_type": "markdown",
   "metadata": {},
   "source": [
    "(https://storybook.js.org/)"
   ]
  },
  {
   "cell_type": "code",
   "execution_count": null,
   "metadata": {},
   "outputs": [],
   "source": []
  }
 ],
 "metadata": {
  "kernelspec": {
   "display_name": "JavaScript",
   "language": "javascript",
   "name": "jslab"
  },
  "language_info": {
   "file_extension": ".js",
   "mimetype": "text/javascript",
   "name": "javascript",
   "version": ""
  }
 },
 "nbformat": 4,
 "nbformat_minor": 4
}
