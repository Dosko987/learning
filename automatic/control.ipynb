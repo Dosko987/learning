{
  "nbformat": 4,
  "nbformat_minor": 0,
  "metadata": {
    "colab": {
      "name": "AutomaticControl.ipynb",
      "provenance": [],
      "authorship_tag": "ABX9TyMZz3bRHevyL3StZDQn7PRz",
      "include_colab_link": true
    },
    "kernelspec": {
      "name": "python3",
      "display_name": "Python 3"
    }
  },
  "cells": [
    {
      "cell_type": "markdown",
      "metadata": {
        "id": "view-in-github",
        "colab_type": "text"
      },
      "source": [
        "<a href=\"https://colab.research.google.com/github/hrbolek/learning/blob/master/automatic/control.ipynb\" target=\"_parent\"><img src=\"https://colab.research.google.com/assets/colab-badge.svg\" alt=\"Open In Colab\"/></a>"
      ]
    },
    {
      "cell_type": "markdown",
      "metadata": {
        "id": "-nxKWHO082s7",
        "colab_type": "text"
      },
      "source": [
        "# Automatické řízení\n",
        "\n",
        "Inspirace z [videa](https://www.youtube.com/watch?v=2lQbGQ_cQ3w)\n"
      ]
    },
    {
      "cell_type": "code",
      "metadata": {
        "id": "GM00R7Be8L_Z",
        "colab_type": "code",
        "colab": {}
      },
      "source": [
        "import matplotlib.pyplot as plt\n",
        "import numpy as np\n",
        "import math\n",
        "from scipy import signal\n",
        "%matplotlib inline"
      ],
      "execution_count": 0,
      "outputs": []
    },
    {
      "cell_type": "code",
      "metadata": {
        "id": "8FhV7U7u8V7T",
        "colab_type": "code",
        "colab": {}
      },
      "source": [
        "Kp = 3.0\n",
        "taup = 2.0"
      ],
      "execution_count": 0,
      "outputs": []
    },
    {
      "cell_type": "code",
      "metadata": {
        "id": "Zr-z3D2B9WDX",
        "colab_type": "code",
        "colab": {
          "base_uri": "https://localhost:8080/",
          "height": 265
        },
        "outputId": "26f764a4-7c2c-4c60-9c10-8755bdc52ee1"
      },
      "source": [
        "num = [Kp]\n",
        "den = [taup, 1]\n",
        "sys = signal.TransferFunction(num, den)\n",
        "t, y = signal.step(sys)\n",
        "plt.plot(t, y)\n",
        "plt.grid(which='both')"
      ],
      "execution_count": 9,
      "outputs": [
        {
          "output_type": "display_data",
          "data": {
            "image/png": "[encoded data removed]",
            "text/plain": [
              "<Figure size 432x288 with 1 Axes>"
            ]
          },
          "metadata": {
            "tags": []
          }
        }
      ]
    }
  ]
}