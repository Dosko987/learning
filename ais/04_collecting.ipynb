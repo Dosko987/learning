{
  "nbformat": 4,
  "nbformat_minor": 0,
  "metadata": {
    "colab": {
      "name": "04_collecting.ipynb",
      "provenance": [],
      "authorship_tag": "ABX9TyPlKlQNWCWI/Srz/mUnQD5e",
      "include_colab_link": true
    },
    "kernelspec": {
      "name": "python3",
      "display_name": "Python 3"
    },
    "language_info": {
      "name": "python"
    }
  },
  "cells": [
    {
      "cell_type": "markdown",
      "metadata": {
        "id": "view-in-github",
        "colab_type": "text"
      },
      "source": [
        "<a href=\"https://colab.research.google.com/github/hrbolek/learning/blob/master/ais/04_collecting.ipynb\" target=\"_parent\"><img src=\"https://colab.research.google.com/assets/colab-badge.svg\" alt=\"Open In Colab\"/></a>"
      ]
    },
    {
      "cell_type": "markdown",
      "metadata": {
        "id": "Cy9xclO0Ecvs"
      },
      "source": [
        "# Získávání dat"
      ]
    },
    {
      "cell_type": "markdown",
      "metadata": {
        "id": "fat5fcTuEdrj"
      },
      "source": [
        "- Získávání dat\n",
        "    - Zdroje s API\n",
        "        - OData\n",
        "        - REST\n",
        "        - SWAGGER\n",
        "        - další standardy\n",
        "    - Zdroje bez API\n",
        "    - Textové zdroje"
      ]
    },
    {
      "cell_type": "markdown",
      "metadata": {
        "id": "eNn6qS7cEf2b"
      },
      "source": [
        "## Zdroje s API"
      ]
    },
    {
      "cell_type": "markdown",
      "metadata": {
        "id": "TOr7DgZWEiWI"
      },
      "source": [
        "## Zdroje bez API"
      ]
    },
    {
      "cell_type": "markdown",
      "metadata": {
        "id": "N06VFcp6EkXx"
      },
      "source": [
        "## Textové zdroje"
      ]
    },
    {
      "cell_type": "code",
      "metadata": {
        "id": "Py102TsCl55y"
      },
      "source": [
        ""
      ],
      "execution_count": null,
      "outputs": []
    }
  ]
}