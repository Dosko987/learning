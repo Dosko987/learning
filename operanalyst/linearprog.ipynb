{
  "nbformat": 4,
  "nbformat_minor": 0,
  "metadata": {
    "colab": {
      "name": "LinearProg.ipynb",
      "provenance": [],
      "authorship_tag": "ABX9TyNn2whPhPGfuR9djQR77yyd",
      "include_colab_link": true
    },
    "kernelspec": {
      "name": "python3",
      "display_name": "Python 3"
    }
  },
  "cells": [
    {
      "cell_type": "markdown",
      "metadata": {
        "id": "view-in-github",
        "colab_type": "text"
      },
      "source": [
        "<a href=\"https://colab.research.google.com/github/hrbolek/learning/blob/master/operanalyst/linearprog.ipynb\" target=\"_parent\"><img src=\"https://colab.research.google.com/assets/colab-badge.svg\" alt=\"Open In Colab\"/></a>"
      ]
    },
    {
      "cell_type": "code",
      "metadata": {
        "id": "MNGyqgmSeXjd",
        "colab_type": "code",
        "colab": {}
      },
      "source": [
        ""
      ],
      "execution_count": null,
      "outputs": []
    },
    {
      "cell_type": "markdown",
      "metadata": {
        "id": "YcCe4d0cvyHQ",
        "colab_type": "text"
      },
      "source": [
        "## Příklady"
      ]
    },
    {
      "cell_type": "markdown",
      "metadata": {
        "id": "3yxGZd44v1gV",
        "colab_type": "text"
      },
      "source": [
        "### Příklad 1"
      ]
    },
    {
      "cell_type": "markdown",
      "metadata": {
        "id": "mZGIzCEVv5jl",
        "colab_type": "text"
      },
      "source": [
        "Surový materiál je dodáván v délce 7 m. Požadavek je produkovat délky 2.3 m (A), 1.9 m (B) a 0.8 m (C) v počtech A 60 ks, B 90 ks a C 320 ks. Stanovte minimální počet kusů surového materiálu."
      ]
    },
    {
      "cell_type": "code",
      "metadata": {
        "id": "HtoI84V9LVw0",
        "colab_type": "code",
        "colab": {}
      },
      "source": [
        "delkaZdroje = 7\n",
        "delkyVysledku = (2.3, 1.9, 0.8) \n",
        "poctyVysledku = (60, 90, 320)"
      ],
      "execution_count": 21,
      "outputs": []
    },
    {
      "cell_type": "code",
      "metadata": {
        "id": "Ewu3eDat2lQt",
        "colab_type": "code",
        "colab": {
          "base_uri": "https://localhost:8080/",
          "height": 201
        },
        "outputId": "0449b8b7-9bc7-449d-cb8f-a4ad5e10c047"
      },
      "source": [
        "def cutIt(source, results):\n",
        "  '''\n",
        "  Pocita mozne rozrezani materialu, \n",
        "  zdrojovy material je source, results cilove delky\n",
        "  '''\n",
        "  \n",
        "  noyield = True # zadny vysledek nebyl vygenerovan\n",
        "  for current in results:\n",
        "    \n",
        "    if current <= source: # rez lze provest jen tehdy, pokud je surovina delsi nez vysledek\n",
        "      \n",
        "      # zjistime mozne rezy ze zbytku\n",
        "      for cutting in cutIt(source - current, results):\n",
        "        if len(cutting) == 0:\n",
        "          # rez je \"nerez\", vracena prazdna konfigurace\n",
        "          noyield = False\n",
        "          yield [current] # vysledna konfigurace rezu tedy obsahuje jen jeden prvek\n",
        "          continue\n",
        "        if current >= max(cutting):\n",
        "          # vraceny cutting je serazen podle velikost, tedy zastupuje vsechny ekvivalentni kombinace \n",
        "          noyield = False\n",
        "          yield [current, *cutting]\n",
        "  if noyield:\n",
        "    # zadna konfigurace rezu nebyla vracena, musime vratit prazdnou konfiguraci\n",
        "    yield []\n",
        "\n",
        "for index, possibleCut in enumerate(cutIt(delkaZdroje, delkyVysledku)):\n",
        "  print(index, '.\\tcut:', possibleCut, '\\tΣ', sum(possibleCut))"
      ],
      "execution_count": 23,
      "outputs": [
        {
          "output_type": "stream",
          "text": [
            "0 .\tcut: [2.3, 2.3, 2.3] \tΣ 6.8999999999999995\n",
            "1 .\tcut: [2.3, 2.3, 1.9] \tΣ 6.5\n",
            "2 .\tcut: [2.3, 2.3, 0.8, 0.8, 0.8] \tΣ 6.999999999999999\n",
            "3 .\tcut: [2.3, 1.9, 1.9, 0.8] \tΣ 6.8999999999999995\n",
            "4 .\tcut: [2.3, 1.9, 0.8, 0.8, 0.8] \tΣ 6.599999999999999\n",
            "5 .\tcut: [2.3, 0.8, 0.8, 0.8, 0.8, 0.8] \tΣ 6.299999999999999\n",
            "6 .\tcut: [1.9, 1.9, 1.9, 0.8] \tΣ 6.499999999999999\n",
            "7 .\tcut: [1.9, 1.9, 0.8, 0.8, 0.8] \tΣ 6.199999999999999\n",
            "8 .\tcut: [1.9, 0.8, 0.8, 0.8, 0.8, 0.8, 0.8] \tΣ 6.699999999999999\n",
            "9 .\tcut: [0.8, 0.8, 0.8, 0.8, 0.8, 0.8, 0.8, 0.8] \tΣ 6.3999999999999995\n"
          ],
          "name": "stdout"
        }
      ]
    },
    {
      "cell_type": "code",
      "metadata": {
        "id": "92lOo9ET9Oae",
        "colab_type": "code",
        "colab": {
          "base_uri": "https://localhost:8080/",
          "height": 201
        },
        "outputId": "16b2cdd0-e6ec-4a73-eb65-4f9c88990757"
      },
      "source": [
        "def countIt(configuration, results):\n",
        "  result = {}\n",
        "  for item in results:\n",
        "    result[item] = 0\n",
        "  for item in configuration:\n",
        "    result[item] += 1\n",
        "  return result\n",
        "\n",
        "def countAll(configurations, results):\n",
        "  for configuration in configurations:\n",
        "    yield countIt(configuration, results)\n",
        "\n",
        "variants = list(countAll(cutIt(delkaZdroje, delkyVysledku), delkyVysledku))\n",
        "\n",
        "for index, possibleCut in enumerate(variants):\n",
        "  print(index, '.\\tcut:', possibleCut, '\\tΣ', sum(map(lambda x: x[0] * x[1], possibleCut.items())))"
      ],
      "execution_count": 32,
      "outputs": [
        {
          "output_type": "stream",
          "text": [
            "0 .\tcut: {2.3: 3, 1.9: 0, 0.8: 0} \tΣ 6.8999999999999995\n",
            "1 .\tcut: {2.3: 2, 1.9: 1, 0.8: 0} \tΣ 6.5\n",
            "2 .\tcut: {2.3: 2, 1.9: 0, 0.8: 3} \tΣ 7.0\n",
            "3 .\tcut: {2.3: 1, 1.9: 2, 0.8: 1} \tΣ 6.8999999999999995\n",
            "4 .\tcut: {2.3: 1, 1.9: 1, 0.8: 3} \tΣ 6.6\n",
            "5 .\tcut: {2.3: 1, 1.9: 0, 0.8: 5} \tΣ 6.3\n",
            "6 .\tcut: {2.3: 0, 1.9: 3, 0.8: 1} \tΣ 6.499999999999999\n",
            "7 .\tcut: {2.3: 0, 1.9: 2, 0.8: 3} \tΣ 6.2\n",
            "8 .\tcut: {2.3: 0, 1.9: 1, 0.8: 6} \tΣ 6.700000000000001\n",
            "9 .\tcut: {2.3: 0, 1.9: 0, 0.8: 8} \tΣ 6.4\n"
          ],
          "name": "stdout"
        }
      ]
    },
    {
      "cell_type": "code",
      "metadata": {
        "id": "N0db3Jm6KNwu",
        "colab_type": "code",
        "colab": {
          "base_uri": "https://localhost:8080/",
          "height": 90
        },
        "outputId": "5febde9e-1f00-469b-a25f-c2456f903cc1"
      },
      "source": [
        "for result, count in zip(delkyVysledku, poctyVysledku):\n",
        "  for index, variant in enumerate(variants):\n",
        "    if (variant[result] == 0):\n",
        "      print('\\t\\t', end='')\n",
        "    else:\n",
        "      print('\\t + ', variant[result], ' * x', index, sep='', end='')\n",
        "  print('\\t >=', count)\n",
        "  \n",
        "for index, variant in enumerate(variants):\n",
        "  print(' + x', index, sep='', end='')\n",
        "print(' -> min')\n"
      ],
      "execution_count": 38,
      "outputs": [
        {
          "output_type": "stream",
          "text": [
            "\t + 3 * x0\t + 2 * x1\t + 2 * x2\t + 1 * x3\t + 1 * x4\t + 1 * x5\t\t\t\t\t\t\t\t\t >= 60\n",
            "\t\t\t + 1 * x1\t\t\t + 2 * x3\t + 1 * x4\t\t\t + 3 * x6\t + 2 * x7\t + 1 * x8\t\t\t >= 90\n",
            "\t\t\t\t\t + 3 * x2\t + 1 * x3\t + 3 * x4\t + 5 * x5\t + 1 * x6\t + 3 * x7\t + 6 * x8\t + 8 * x9\t >= 320\n",
            " + x0 + x1 + x2 + x3 + x4 + x5 + x6 + x7 + x8 + x9 -> min\n"
          ],
          "name": "stdout"
        }
      ]
    },
    {
      "cell_type": "code",
      "metadata": {
        "id": "8ogTKTuvPBnF",
        "colab_type": "code",
        "colab": {
          "base_uri": "https://localhost:8080/",
          "height": 54
        },
        "outputId": "843c83cd-0b35-4562-eb44-ebdcf78913eb"
      },
      "source": [
        "#https://docs.scipy.org/doc/scipy/reference/generated/scipy.optimize.linprog.html\n",
        "from scipy.optimize import linprog\n",
        "c = [1] * len(delkyVysledku)\n",
        "A = [([0] * len(variants))] * len(delkyVysledku)\n",
        "print(c)\n",
        "print(A)"
      ],
      "execution_count": 40,
      "outputs": [
        {
          "output_type": "stream",
          "text": [
            "[1, 1, 1]\n",
            "[[0, 0, 0, 0, 0, 0, 0, 0, 0, 0], [0, 0, 0, 0, 0, 0, 0, 0, 0, 0], [0, 0, 0, 0, 0, 0, 0, 0, 0, 0]]\n"
          ],
          "name": "stdout"
        }
      ]
    }
  ]
}