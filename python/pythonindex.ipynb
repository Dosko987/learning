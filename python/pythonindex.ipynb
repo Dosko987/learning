{
  "nbformat": 4,
  "nbformat_minor": 0,
  "metadata": {
    "colab": {
      "name": "pythonindex.ipynb",
      "provenance": [],
      "authorship_tag": "ABX9TyMnKprHeAe9cE9QK5cr8V9x",
      "include_colab_link": true
    },
    "kernelspec": {
      "name": "python3",
      "display_name": "Python 3"
    }
  },
  "cells": [
    {
      "cell_type": "markdown",
      "metadata": {
        "id": "view-in-github",
        "colab_type": "text"
      },
      "source": [
        "<a href=\"https://colab.research.google.com/github/hrbolek/learning/blob/master/python/pythonindex.ipynb\" target=\"_parent\"><img src=\"https://colab.research.google.com/assets/colab-badge.svg\" alt=\"Open In Colab\"/></a>"
      ]
    },
    {
      "cell_type": "markdown",
      "metadata": {
        "id": "cyAxfScgW7OQ",
        "colab_type": "text"
      },
      "source": [
        "# Python"
      ]
    },
    {
      "cell_type": "markdown",
      "metadata": {
        "id": "KRCkLh1OXAB7",
        "colab_type": "text"
      },
      "source": [
        "Úvod  do kurzu\n",
        "\n",
        "Příprava prostředí\n",
        "- Jupyter\n",
        "- Google colab\n",
        "- Github\n",
        "\n",
        "Základní datové struktury\n",
        "- Čísla a jednoduchá aritmetika\n",
        "- Práce s proměnnými\n",
        "- Textové řetězce\n",
        "- Indexování v textu\n",
        "- Výběr části textu\n",
        "- Metody pro práci s textem\n",
        "- Formátování\n",
        "- Výstup ```print()```\n",
        "- Seznamy (list)\n",
        "- Slovníky (dictionary)\n",
        "- (tuple)\n",
        "- množiny (set)\n",
        "- logické proměnné\n",
        "- práce se soubory\n",
        "- test / řešení\n",
        "\n",
        "Operátory komparace\n",
        "- operátory\n",
        "- spojení operátorů s využitím and or\n",
        "\n",
        "Výrazy (statements)\n",
        "- if elif else \n",
        "- for\n",
        "- while\n",
        "\n"
      ]
    },
    {
      "cell_type": "code",
      "metadata": {
        "id": "jvsrIuT2WjPE",
        "colab_type": "code",
        "colab": {}
      },
      "source": [
        ""
      ],
      "execution_count": 0,
      "outputs": []
    }
  ]
}