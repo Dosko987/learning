{
 "cells": [
  {
   "cell_type": "markdown",
   "metadata": {
    "id": "Kdt5HnXEEshc"
   },
   "source": [
    "# Analýza a vizualizace dat"
   ]
  },
  {
   "cell_type": "markdown",
   "metadata": {
    "id": "WqobaqjDEthR"
   },
   "source": [
    "- Analýza a vizualizace dat \n",
    "    - Nástroje pro platformu Python\n",
    "    - Pandas\n",
    "    - Matplotlib\n",
    "    - Další nástroje (numpy, scikit, ...)"
   ]
  },
  {
   "cell_type": "markdown",
   "metadata": {},
   "source": [
    "## Úvodní cvičení"
   ]
  },
  {
   "cell_type": "markdown",
   "metadata": {},
   "source": [
    "### Příprava dat (pro Excel)"
   ]
  },
  {
   "cell_type": "markdown",
   "metadata": {},
   "source": [
    "> **Zadání**\n",
    "> \n",
    "> Vytvořte homogenní strukturu, na základě které vytvoříte kontingenční tabulku (např. v Excelu) počítající sumu hodin\n",
    "> - po učebních skupinách v kombinaci s typem lekce\n",
    "> - po vyučujících v kombinaci s typem lekce\n",
    "> - ...\n"
   ]
  },
  {
   "cell_type": "markdown",
   "metadata": {},
   "source": [
    "Zadání napovídá, že bude potřeba homogenní struktura (tabulka). Je nutné vědět, co to je kontingenční tabulka (pivot table).\n",
    "\n",
    "> **Povinné video**\n",
    ">\n",
    "> [Základy kontingenční tabulky | EduTV 10 min](https://www.youtube.com/watch?v=IWse9RPLDgM)"
   ]
  },
  {
   "cell_type": "markdown",
   "metadata": {},
   "source": [
    "Zadání současně říká, jaká data musí být přítomna.\n",
    "- učební skupina\n",
    "- typ lekce\n",
    "- délka lekce\n",
    "- vyučující\n",
    "- ...\n",
    "- předmět\n",
    "\n",
    "Výchozími daty je json soubor, se kterým jsme již dříve pracovali (aplikace rozvrh hodin).\n"
   ]
  },
  {
   "cell_type": "markdown",
   "metadata": {},
   "source": [
    "> **Mikroúkol**\n",
    ">\n",
    "> Napište funkci pro spojení textů v listu s možností určení oddělovače"
   ]
  },
  {
   "cell_type": "code",
   "execution_count": null,
   "metadata": {},
   "outputs": [],
   "source": [
    "def joinStr(delimiter, strList):\n",
    "    result = ''\n",
    "    \n",
    "    #\n",
    "    #\n",
    "    #\n",
    "    \n",
    "    return result"
   ]
  },
  {
   "cell_type": "markdown",
   "metadata": {},
   "source": [
    "> **Řešení**"
   ]
  },
  {
   "cell_type": "code",
   "execution_count": 11,
   "metadata": {
    "jupyter": {
     "source_hidden": true
    },
    "tags": []
   },
   "outputs": [
    {
     "name": "stdout",
     "output_type": "stream",
     "text": [
      "A, B, C\n"
     ]
    }
   ],
   "source": [
    "def joinStr(delimiter, strList):\n",
    "    result = ''\n",
    "    for index, item in enumerate(strList):\n",
    "        if index == 0:\n",
    "            result = item\n",
    "        else:\n",
    "            result = result + delimiter + item\n",
    "    return result\n",
    "\n",
    "print(joinStr(', ', ['A', 'B', 'C']))"
   ]
  },
  {
   "cell_type": "code",
   "execution_count": 2,
   "metadata": {},
   "outputs": [],
   "source": [
    "import json\n",
    "\n",
    "with open('rozvrh/data.json', encoding='utf-8') as inputFile:\n",
    "    data = json.load(inputFile)"
   ]
  },
  {
   "cell_type": "code",
   "execution_count": 8,
   "metadata": {},
   "outputs": [
    {
     "name": "stdout",
     "output_type": "stream",
     "text": [
      "{'id': '2D2B1C90-F4FF-11EB-9B74-520D00000000', 'typeId': 'F00CB650-9768-11EB-87D2-030800000000', 'startTime': {'hours': 14, 'minutes': 30}, 'endTime': {'hours': 16, 'minutes': 0}, 'dateCode': '2021-11-15', 'date': {'day': 15, 'month': 11, 'year': 2021}, 'categoryId': 1, 'subjectId': 32269, 'subjectName': 'Letecké elektronické systémy II', 'departmentId': 441, 'departmentName': 'FVT-K206', 'topic': '3. Syntéza kmitočtu ', 'topicId': 62645, 'masterId': '62645/2', 'timeslotsId': 1, 'timeslotsName': 'BR', 'lessonOrder': 8, 'lessonFormId': 2, 'lessonFormName': 'CV', 'lessonUnit': 45, 'lessonsCount': 2, 'groupsIds': ['A8CFD4D0-8CA4-11EB-BA48-520D00000000'], 'groupsNames': ['23-3LT-AV-C'], 'groupsEntryYearsIds': [], 'classroomsIds': [331], 'classroomsNames': ['Č1/120'], 'classroomsAreasIds': [2], 'teachersIds': [540], 'teachersNames': ['Němeček, Jiří'], 'teachersDepartmentsIds': [441], 'isLocked': True}\n",
      "{'id': 'C65A0170-F4FE-11EB-9B74-520D00000000', 'typeId': 'EFAE42A0-9768-11EB-87D2-030800000000', 'startTime': {'hours': 9, 'minutes': 50}, 'endTime': {'hours': 11, 'minutes': 20}, 'dateCode': '2021-10-19', 'date': {'day': 19, 'month': 10, 'year': 2021}, 'categoryId': 1, 'subjectId': 32269, 'subjectName': 'Letecké elektronické systémy II', 'departmentId': 441, 'departmentName': 'FVT-K206', 'topic': '1. Letecké rádiové přijímače', 'topicId': 62609, 'masterId': '62609/4', 'timeslotsId': 1, 'timeslotsName': 'BR', 'lessonOrder': 3, 'lessonFormId': 4, 'lessonFormName': 'LAB', 'lessonUnit': 45, 'lessonsCount': 2, 'groupsIds': ['A8CFD4D0-8CA4-11EB-BA48-520D00000000'], 'groupsNames': ['23-3LT-AV-C'], 'groupsEntryYearsIds': [], 'classroomsIds': [332], 'classroomsNames': ['Č1/121'], 'classroomsAreasIds': [2], 'teachersIds': [540], 'teachersNames': ['Němeček, Jiří'], 'teachersDepartmentsIds': [441], 'isLocked': True}\n",
      "{'id': '396CC6C0-F4FF-11EB-9B74-520D00000000', 'typeId': 'F01EB7B0-9768-11EB-87D2-030800000000', 'startTime': {'hours': 11, 'minutes': 40}, 'endTime': {'hours': 13, 'minutes': 10}, 'dateCode': '2021-11-19', 'date': {'day': 19, 'month': 11, 'year': 2021}, 'categoryId': 1, 'subjectId': 32269, 'subjectName': 'Letecké elektronické systémy II', 'departmentId': 441, 'departmentName': 'FVT-K206', 'topic': '3. Syntéza kmitočtu ', 'topicId': 62645, 'masterId': '62645/4', 'timeslotsId': 1, 'timeslotsName': 'BR', 'lessonOrder': 8, 'lessonFormId': 4, 'lessonFormName': 'LAB', 'lessonUnit': 45, 'lessonsCount': 2, 'groupsIds': ['A8CFD4D0-8CA4-11EB-BA48-520D00000000'], 'groupsNames': ['23-3LT-AV-C'], 'groupsEntryYearsIds': [], 'classroomsIds': [332], 'classroomsNames': ['Č1/121'], 'classroomsAreasIds': [2], 'teachersIds': [540], 'teachersNames': ['Němeček, Jiří'], 'teachersDepartmentsIds': [441], 'isLocked': True}\n",
      "{'id': '7B7F24E0-F4FF-11EB-9B74-520D00000000', 'typeId': 'F06843D0-9768-11EB-87D2-030800000000', 'startTime': {'hours': 11, 'minutes': 40}, 'endTime': {'hours': 13, 'minutes': 10}, 'dateCode': '2021-12-14', 'date': {'day': 14, 'month': 12, 'year': 2021}, 'categoryId': 1, 'subjectId': 32269, 'subjectName': 'Letecké elektronické systémy II', 'departmentId': 441, 'departmentName': 'FVT-K206', 'topic': '5. Úhloměrné navigační systémy NDB, VOR, DVOR, TACAN, VORTAC ', 'topicId': 62647, 'masterId': '62647/2', 'timeslotsId': 1, 'timeslotsName': 'BR', 'lessonOrder': 13, 'lessonFormId': 2, 'lessonFormName': 'CV', 'lessonUnit': 45, 'lessonsCount': 2, 'groupsIds': ['A8CFD4D0-8CA4-11EB-BA48-520D00000000'], 'groupsNames': ['23-3LT-AV-C'], 'groupsEntryYearsIds': [], 'classroomsIds': [21], 'classroomsNames': ['Č1/207'], 'classroomsAreasIds': [2], 'teachersIds': [545], 'teachersNames': ['Andrle, Miloš'], 'teachersDepartmentsIds': [441], 'isLocked': True}\n"
     ]
    }
   ],
   "source": [
    "for index, item in enumerate(data['events']):\n",
    "    print(item)\n",
    "    if index > 2:\n",
    "        break"
   ]
  },
  {
   "cell_type": "markdown",
   "metadata": {},
   "source": [
    "Na základě výpisu připravíme mapovací funkci"
   ]
  },
  {
   "cell_type": "markdown",
   "metadata": {},
   "source": [
    "> **Připomenutí**\n",
    "> \n",
    "> Využití generátorů"
   ]
  },
  {
   "cell_type": "code",
   "execution_count": 12,
   "metadata": {},
   "outputs": [
    {
     "name": "stdout",
     "output_type": "stream",
     "text": [
      "[2, 3, 4, 5]\n"
     ]
    }
   ],
   "source": [
    "def updateData(data):\n",
    "    for item in data:\n",
    "        yield item + 1\n",
    "    \n",
    "inputData = [1, 2, 3, 4]\n",
    "resultData = list(updateData(inputData))\n",
    "print(resultData)"
   ]
  },
  {
   "cell_type": "markdown",
   "metadata": {},
   "source": [
    "Implementace funkce"
   ]
  },
  {
   "cell_type": "code",
   "execution_count": 27,
   "metadata": {},
   "outputs": [],
   "source": [
    "def dataExtractor(events):\n",
    "    for item in events:\n",
    "        resultItem = {\n",
    "            'id': item['id'],\n",
    "            'subjectName': item['subjectName'] if 'subjectName' in item else 'unknown',\n",
    "            'departmentName': item['departmentName'] if 'departmentName' in item else 'unknown',\n",
    "            'topic': item['topic'] if 'topic' in item else 'unknown',\n",
    "            'lessonFormName': item['lessonFormName'] if 'lessonFormName' in item else 'unknown',\n",
    "            'lessonsCount': item['lessonsCount'] if 'lessonsCount' in item else 0,\n",
    "            'groups': joinStr(', ', item['groupsNames']) if 'groupsNames' in item else 'unknown',\n",
    "        }\n",
    "        for teacher in item['teachersNames']:\n",
    "            newResult = {\n",
    "                **resultItem, \n",
    "                'teacher': teacher\n",
    "            }\n",
    "            yield newResult\n",
    "    pass"
   ]
  },
  {
   "cell_type": "code",
   "execution_count": 28,
   "metadata": {},
   "outputs": [
    {
     "name": "stdout",
     "output_type": "stream",
     "text": [
      "{'id': '2D2B1C90-F4FF-11EB-9B74-520D00000000', 'subjectName': 'Letecké elektronické systémy II', 'departmentName': 'FVT-K206', 'topic': '3. Syntéza kmitočtu ', 'lessonFormName': 'CV', 'lessonsCount': 2, 'groups': '23-3LT-AV-C', 'teacher': 'Němeček, Jiří'}\n",
      "{'id': 'C65A0170-F4FE-11EB-9B74-520D00000000', 'subjectName': 'Letecké elektronické systémy II', 'departmentName': 'FVT-K206', 'topic': '1. Letecké rádiové přijímače', 'lessonFormName': 'LAB', 'lessonsCount': 2, 'groups': '23-3LT-AV-C', 'teacher': 'Němeček, Jiří'}\n",
      "{'id': '396CC6C0-F4FF-11EB-9B74-520D00000000', 'subjectName': 'Letecké elektronické systémy II', 'departmentName': 'FVT-K206', 'topic': '3. Syntéza kmitočtu ', 'lessonFormName': 'LAB', 'lessonsCount': 2, 'groups': '23-3LT-AV-C', 'teacher': 'Němeček, Jiří'}\n",
      "{'id': '7B7F24E0-F4FF-11EB-9B74-520D00000000', 'subjectName': 'Letecké elektronické systémy II', 'departmentName': 'FVT-K206', 'topic': '5. Úhloměrné navigační systémy NDB, VOR, DVOR, TACAN, VORTAC ', 'lessonFormName': 'CV', 'lessonsCount': 2, 'groups': '23-3LT-AV-C', 'teacher': 'Andrle, Miloš'}\n"
     ]
    }
   ],
   "source": [
    "import json\n",
    "\n",
    "with open('rozvrh/data.json', encoding='utf-8') as inputFile:\n",
    "    data = json.load(inputFile)\n",
    "    \n",
    "dataForPivotTable = list(dataExtractor(data['events']))\n",
    "for index, item in enumerate(dataForPivotTable):\n",
    "    print(item)\n",
    "    if index > 2:\n",
    "        break\n",
    "        "
   ]
  },
  {
   "cell_type": "markdown",
   "metadata": {
    "id": "jnby_IdWEzb1"
   },
   "source": [
    "## Pandas"
   ]
  },
  {
   "cell_type": "markdown",
   "metadata": {},
   "source": [
    "Pandas je jedna z největších knihoven pro Python. Jedná se o opensource! \n",
    "Dokumentaci lze nalézt [zde](https://pandas.pydata.org/).\n",
    "\n",
    "> **Doporučené video**\n",
    ">\n",
    "> [Complete Python Pandas Data Science Tutorial! 1h](https://www.youtube.com/watch?v=vmEHCJofslg)\n"
   ]
  },
  {
   "cell_type": "markdown",
   "metadata": {},
   "source": [
    "### DataFrame"
   ]
  },
  {
   "cell_type": "markdown",
   "metadata": {},
   "source": [
    "Jedním ze základních prvků je [DataFrame](https://pandas.pydata.org/docs/reference/api/pandas.DataFrame.html).\n",
    "\n",
    "Zobrazíme si získaná data v tabulkové podobě."
   ]
  },
  {
   "cell_type": "code",
   "execution_count": 29,
   "metadata": {},
   "outputs": [
    {
     "data": {
      "text/html": [
       "<div>\n",
       "<style scoped>\n",
       "    .dataframe tbody tr th:only-of-type {\n",
       "        vertical-align: middle;\n",
       "    }\n",
       "\n",
       "    .dataframe tbody tr th {\n",
       "        vertical-align: top;\n",
       "    }\n",
       "\n",
       "    .dataframe thead th {\n",
       "        text-align: right;\n",
       "    }\n",
       "</style>\n",
       "<table border=\"1\" class=\"dataframe\">\n",
       "  <thead>\n",
       "    <tr style=\"text-align: right;\">\n",
       "      <th></th>\n",
       "      <th>id</th>\n",
       "      <th>subjectName</th>\n",
       "      <th>departmentName</th>\n",
       "      <th>topic</th>\n",
       "      <th>lessonFormName</th>\n",
       "      <th>lessonsCount</th>\n",
       "      <th>groups</th>\n",
       "      <th>teacher</th>\n",
       "    </tr>\n",
       "  </thead>\n",
       "  <tbody>\n",
       "    <tr>\n",
       "      <th>0</th>\n",
       "      <td>2D2B1C90-F4FF-11EB-9B74-520D00000000</td>\n",
       "      <td>Letecké elektronické systémy II</td>\n",
       "      <td>FVT-K206</td>\n",
       "      <td>3. Syntéza kmitočtu</td>\n",
       "      <td>CV</td>\n",
       "      <td>2</td>\n",
       "      <td>23-3LT-AV-C</td>\n",
       "      <td>Němeček, Jiří</td>\n",
       "    </tr>\n",
       "    <tr>\n",
       "      <th>1</th>\n",
       "      <td>C65A0170-F4FE-11EB-9B74-520D00000000</td>\n",
       "      <td>Letecké elektronické systémy II</td>\n",
       "      <td>FVT-K206</td>\n",
       "      <td>1. Letecké rádiové přijímače</td>\n",
       "      <td>LAB</td>\n",
       "      <td>2</td>\n",
       "      <td>23-3LT-AV-C</td>\n",
       "      <td>Němeček, Jiří</td>\n",
       "    </tr>\n",
       "    <tr>\n",
       "      <th>2</th>\n",
       "      <td>396CC6C0-F4FF-11EB-9B74-520D00000000</td>\n",
       "      <td>Letecké elektronické systémy II</td>\n",
       "      <td>FVT-K206</td>\n",
       "      <td>3. Syntéza kmitočtu</td>\n",
       "      <td>LAB</td>\n",
       "      <td>2</td>\n",
       "      <td>23-3LT-AV-C</td>\n",
       "      <td>Němeček, Jiří</td>\n",
       "    </tr>\n",
       "    <tr>\n",
       "      <th>3</th>\n",
       "      <td>7B7F24E0-F4FF-11EB-9B74-520D00000000</td>\n",
       "      <td>Letecké elektronické systémy II</td>\n",
       "      <td>FVT-K206</td>\n",
       "      <td>5. Úhloměrné navigační systémy NDB, VOR, DVOR,...</td>\n",
       "      <td>CV</td>\n",
       "      <td>2</td>\n",
       "      <td>23-3LT-AV-C</td>\n",
       "      <td>Andrle, Miloš</td>\n",
       "    </tr>\n",
       "    <tr>\n",
       "      <th>4</th>\n",
       "      <td>04E49860-F4FF-11EB-9B74-520D00000000</td>\n",
       "      <td>Letecké elektronické systémy II</td>\n",
       "      <td>FVT-K206</td>\n",
       "      <td>2. Letecké rádiové vysílače</td>\n",
       "      <td>LAB</td>\n",
       "      <td>2</td>\n",
       "      <td>23-3LT-AV-C</td>\n",
       "      <td>Němeček, Jiří</td>\n",
       "    </tr>\n",
       "    <tr>\n",
       "      <th>...</th>\n",
       "      <td>...</td>\n",
       "      <td>...</td>\n",
       "      <td>...</td>\n",
       "      <td>...</td>\n",
       "      <td>...</td>\n",
       "      <td>...</td>\n",
       "      <td>...</td>\n",
       "      <td>...</td>\n",
       "    </tr>\n",
       "    <tr>\n",
       "      <th>69258</th>\n",
       "      <td>0750ACE9-323D-4E14-B3CC-ABCDF66F96C2</td>\n",
       "      <td>unknown</td>\n",
       "      <td>FVL-K105</td>\n",
       "      <td>Válečné studie</td>\n",
       "      <td>ZK</td>\n",
       "      <td>0</td>\n",
       "      <td>5D, 5DVZS, 5CH, 5MIZ, 5MT, 5PZ, 5ŘFZ, 5ŘLZ, 5V...</td>\n",
       "      <td>Staněk, Jaroslav</td>\n",
       "    </tr>\n",
       "    <tr>\n",
       "      <th>69259</th>\n",
       "      <td>DFB9C331-9C9C-4485-B06F-ACCB19E4757E</td>\n",
       "      <td>unknown</td>\n",
       "      <td>FVL-K102</td>\n",
       "      <td>Management</td>\n",
       "      <td>ZK</td>\n",
       "      <td>0</td>\n",
       "      <td>12-5ŘPOS1, 12-5ŘPOS2, 12-5ŘPOS3, 12-5ŘPOS4, 12...</td>\n",
       "      <td>Richter, Jiří</td>\n",
       "    </tr>\n",
       "    <tr>\n",
       "      <th>69260</th>\n",
       "      <td>3292D722-AC2B-49B8-8E48-5B4EFF2084A2</td>\n",
       "      <td>unknown</td>\n",
       "      <td>FVT-K217</td>\n",
       "      <td>Základy elektrotechniky</td>\n",
       "      <td>ZK</td>\n",
       "      <td>0</td>\n",
       "      <td>22-3GMOB-C, 22-3LT-C, 22-3TOMO-C, 22-3ZM-C LAB...</td>\n",
       "      <td>Kohl, Zdeněk</td>\n",
       "    </tr>\n",
       "    <tr>\n",
       "      <th>69261</th>\n",
       "      <td>89D2BBB0-F582-4B6C-B8DB-D1D7D0F789CA</td>\n",
       "      <td>unknown</td>\n",
       "      <td>FVT-K217</td>\n",
       "      <td>Základy elektrotechniky</td>\n",
       "      <td>ZK</td>\n",
       "      <td>0</td>\n",
       "      <td>22-3GMOB-C, 22-3LT-C, 22-3TOMO-C, 22-3ZM-C LAB...</td>\n",
       "      <td>Kohl, Zdeněk</td>\n",
       "    </tr>\n",
       "    <tr>\n",
       "      <th>69262</th>\n",
       "      <td>9412A64E-15A4-4206-ABD8-FB59427D159A</td>\n",
       "      <td>unknown</td>\n",
       "      <td>FVT-K217</td>\n",
       "      <td>Základy elektrotechniky</td>\n",
       "      <td>ZK</td>\n",
       "      <td>0</td>\n",
       "      <td>22-3GMOB-C, 22-3LT-C, 22-3TOMO-C, 22-3ZM-C LAB...</td>\n",
       "      <td>Kohl, Zdeněk</td>\n",
       "    </tr>\n",
       "  </tbody>\n",
       "</table>\n",
       "<p>69263 rows × 8 columns</p>\n",
       "</div>"
      ],
      "text/plain": [
       "                                         id                      subjectName  \\\n",
       "0      2D2B1C90-F4FF-11EB-9B74-520D00000000  Letecké elektronické systémy II   \n",
       "1      C65A0170-F4FE-11EB-9B74-520D00000000  Letecké elektronické systémy II   \n",
       "2      396CC6C0-F4FF-11EB-9B74-520D00000000  Letecké elektronické systémy II   \n",
       "3      7B7F24E0-F4FF-11EB-9B74-520D00000000  Letecké elektronické systémy II   \n",
       "4      04E49860-F4FF-11EB-9B74-520D00000000  Letecké elektronické systémy II   \n",
       "...                                     ...                              ...   \n",
       "69258  0750ACE9-323D-4E14-B3CC-ABCDF66F96C2                          unknown   \n",
       "69259  DFB9C331-9C9C-4485-B06F-ACCB19E4757E                          unknown   \n",
       "69260  3292D722-AC2B-49B8-8E48-5B4EFF2084A2                          unknown   \n",
       "69261  89D2BBB0-F582-4B6C-B8DB-D1D7D0F789CA                          unknown   \n",
       "69262  9412A64E-15A4-4206-ABD8-FB59427D159A                          unknown   \n",
       "\n",
       "      departmentName                                              topic  \\\n",
       "0           FVT-K206                               3. Syntéza kmitočtu    \n",
       "1           FVT-K206                       1. Letecké rádiové přijímače   \n",
       "2           FVT-K206                               3. Syntéza kmitočtu    \n",
       "3           FVT-K206  5. Úhloměrné navigační systémy NDB, VOR, DVOR,...   \n",
       "4           FVT-K206                        2. Letecké rádiové vysílače   \n",
       "...              ...                                                ...   \n",
       "69258       FVL-K105                                     Válečné studie   \n",
       "69259       FVL-K102                                         Management   \n",
       "69260       FVT-K217                            Základy elektrotechniky   \n",
       "69261       FVT-K217                            Základy elektrotechniky   \n",
       "69262       FVT-K217                            Základy elektrotechniky   \n",
       "\n",
       "      lessonFormName  lessonsCount  \\\n",
       "0                 CV             2   \n",
       "1                LAB             2   \n",
       "2                LAB             2   \n",
       "3                 CV             2   \n",
       "4                LAB             2   \n",
       "...              ...           ...   \n",
       "69258             ZK             0   \n",
       "69259             ZK             0   \n",
       "69260             ZK             0   \n",
       "69261             ZK             0   \n",
       "69262             ZK             0   \n",
       "\n",
       "                                                  groups           teacher  \n",
       "0                                            23-3LT-AV-C     Němeček, Jiří  \n",
       "1                                            23-3LT-AV-C     Němeček, Jiří  \n",
       "2                                            23-3LT-AV-C     Němeček, Jiří  \n",
       "3                                            23-3LT-AV-C     Andrle, Miloš  \n",
       "4                                            23-3LT-AV-C     Němeček, Jiří  \n",
       "...                                                  ...               ...  \n",
       "69258  5D, 5DVZS, 5CH, 5MIZ, 5MT, 5PZ, 5ŘFZ, 5ŘLZ, 5V...  Staněk, Jaroslav  \n",
       "69259  12-5ŘPOS1, 12-5ŘPOS2, 12-5ŘPOS3, 12-5ŘPOS4, 12...     Richter, Jiří  \n",
       "69260  22-3GMOB-C, 22-3LT-C, 22-3TOMO-C, 22-3ZM-C LAB...      Kohl, Zdeněk  \n",
       "69261  22-3GMOB-C, 22-3LT-C, 22-3TOMO-C, 22-3ZM-C LAB...      Kohl, Zdeněk  \n",
       "69262  22-3GMOB-C, 22-3LT-C, 22-3TOMO-C, 22-3ZM-C LAB...      Kohl, Zdeněk  \n",
       "\n",
       "[69263 rows x 8 columns]"
      ]
     },
     "execution_count": 29,
     "metadata": {},
     "output_type": "execute_result"
    }
   ],
   "source": [
    "import json\n",
    "import pandas as pd\n",
    "\n",
    "with open('rozvrh/data.json', encoding='utf-8') as inputFile:\n",
    "    data = json.load(inputFile)\n",
    "    \n",
    "df = pd.DataFrame(dataExtractor(data['events']))\n",
    "df"
   ]
  },
  {
   "cell_type": "code",
   "execution_count": 36,
   "metadata": {},
   "outputs": [
    {
     "data": {
      "text/html": [
       "<div>\n",
       "<style scoped>\n",
       "    .dataframe tbody tr th:only-of-type {\n",
       "        vertical-align: middle;\n",
       "    }\n",
       "\n",
       "    .dataframe tbody tr th {\n",
       "        vertical-align: top;\n",
       "    }\n",
       "\n",
       "    .dataframe thead th {\n",
       "        text-align: right;\n",
       "    }\n",
       "</style>\n",
       "<table border=\"1\" class=\"dataframe\">\n",
       "  <thead>\n",
       "    <tr style=\"text-align: right;\">\n",
       "      <th></th>\n",
       "      <th>lessonFormName</th>\n",
       "      <th>CV</th>\n",
       "      <th>EX</th>\n",
       "      <th>J</th>\n",
       "      <th>KOL</th>\n",
       "      <th>KON</th>\n",
       "      <th>KRZ</th>\n",
       "      <th>LAB</th>\n",
       "      <th>P</th>\n",
       "      <th>PV</th>\n",
       "      <th>PX</th>\n",
       "      <th>SEM</th>\n",
       "      <th>SMP</th>\n",
       "      <th>STŽ</th>\n",
       "      <th>SZK</th>\n",
       "      <th>TER</th>\n",
       "      <th>ZK</th>\n",
       "      <th>unknown</th>\n",
       "    </tr>\n",
       "    <tr>\n",
       "      <th>departmentName</th>\n",
       "      <th>teacher</th>\n",
       "      <th></th>\n",
       "      <th></th>\n",
       "      <th></th>\n",
       "      <th></th>\n",
       "      <th></th>\n",
       "      <th></th>\n",
       "      <th></th>\n",
       "      <th></th>\n",
       "      <th></th>\n",
       "      <th></th>\n",
       "      <th></th>\n",
       "      <th></th>\n",
       "      <th></th>\n",
       "      <th></th>\n",
       "      <th></th>\n",
       "      <th></th>\n",
       "      <th></th>\n",
       "    </tr>\n",
       "  </thead>\n",
       "  <tbody>\n",
       "    <tr>\n",
       "      <th rowspan=\"5\" valign=\"top\">CBVSS</th>\n",
       "      <th>Bauer, Miloslav</th>\n",
       "      <td></td>\n",
       "      <td></td>\n",
       "      <td></td>\n",
       "      <td></td>\n",
       "      <td></td>\n",
       "      <td></td>\n",
       "      <td></td>\n",
       "      <td>2.0</td>\n",
       "      <td></td>\n",
       "      <td></td>\n",
       "      <td></td>\n",
       "      <td></td>\n",
       "      <td></td>\n",
       "      <td></td>\n",
       "      <td></td>\n",
       "      <td></td>\n",
       "      <td></td>\n",
       "    </tr>\n",
       "    <tr>\n",
       "      <th>Baxa, Fabian</th>\n",
       "      <td>38.0</td>\n",
       "      <td></td>\n",
       "      <td></td>\n",
       "      <td></td>\n",
       "      <td>734.0</td>\n",
       "      <td></td>\n",
       "      <td></td>\n",
       "      <td>30.0</td>\n",
       "      <td></td>\n",
       "      <td></td>\n",
       "      <td>149.0</td>\n",
       "      <td>8.0</td>\n",
       "      <td></td>\n",
       "      <td></td>\n",
       "      <td></td>\n",
       "      <td>0.0</td>\n",
       "      <td></td>\n",
       "    </tr>\n",
       "    <tr>\n",
       "      <th>Botik, Martin</th>\n",
       "      <td></td>\n",
       "      <td></td>\n",
       "      <td></td>\n",
       "      <td></td>\n",
       "      <td></td>\n",
       "      <td></td>\n",
       "      <td></td>\n",
       "      <td>2.0</td>\n",
       "      <td></td>\n",
       "      <td></td>\n",
       "      <td></td>\n",
       "      <td></td>\n",
       "      <td></td>\n",
       "      <td></td>\n",
       "      <td></td>\n",
       "      <td></td>\n",
       "      <td></td>\n",
       "    </tr>\n",
       "    <tr>\n",
       "      <th>Botík, Martin</th>\n",
       "      <td></td>\n",
       "      <td></td>\n",
       "      <td></td>\n",
       "      <td></td>\n",
       "      <td>12.0</td>\n",
       "      <td></td>\n",
       "      <td></td>\n",
       "      <td></td>\n",
       "      <td></td>\n",
       "      <td></td>\n",
       "      <td>348.0</td>\n",
       "      <td>12.0</td>\n",
       "      <td></td>\n",
       "      <td></td>\n",
       "      <td>36.0</td>\n",
       "      <td></td>\n",
       "      <td></td>\n",
       "    </tr>\n",
       "    <tr>\n",
       "      <th>Brizgalová, Lenka</th>\n",
       "      <td></td>\n",
       "      <td></td>\n",
       "      <td>2.0</td>\n",
       "      <td></td>\n",
       "      <td></td>\n",
       "      <td></td>\n",
       "      <td></td>\n",
       "      <td></td>\n",
       "      <td></td>\n",
       "      <td></td>\n",
       "      <td></td>\n",
       "      <td></td>\n",
       "      <td></td>\n",
       "      <td></td>\n",
       "      <td></td>\n",
       "      <td></td>\n",
       "      <td></td>\n",
       "    </tr>\n",
       "    <tr>\n",
       "      <th>...</th>\n",
       "      <th>...</th>\n",
       "      <td>...</td>\n",
       "      <td>...</td>\n",
       "      <td>...</td>\n",
       "      <td>...</td>\n",
       "      <td>...</td>\n",
       "      <td>...</td>\n",
       "      <td>...</td>\n",
       "      <td>...</td>\n",
       "      <td>...</td>\n",
       "      <td>...</td>\n",
       "      <td>...</td>\n",
       "      <td>...</td>\n",
       "      <td>...</td>\n",
       "      <td>...</td>\n",
       "      <td>...</td>\n",
       "      <td>...</td>\n",
       "      <td>...</td>\n",
       "    </tr>\n",
       "    <tr>\n",
       "      <th rowspan=\"5\" valign=\"top\">ÚOPZHN</th>\n",
       "      <th>Trefilík, Dušan</th>\n",
       "      <td></td>\n",
       "      <td></td>\n",
       "      <td></td>\n",
       "      <td></td>\n",
       "      <td></td>\n",
       "      <td></td>\n",
       "      <td></td>\n",
       "      <td>28.0</td>\n",
       "      <td></td>\n",
       "      <td></td>\n",
       "      <td>4.0</td>\n",
       "      <td></td>\n",
       "      <td></td>\n",
       "      <td></td>\n",
       "      <td></td>\n",
       "      <td></td>\n",
       "      <td></td>\n",
       "    </tr>\n",
       "    <tr>\n",
       "      <th>Zahradníček, Radim</th>\n",
       "      <td></td>\n",
       "      <td></td>\n",
       "      <td></td>\n",
       "      <td></td>\n",
       "      <td></td>\n",
       "      <td></td>\n",
       "      <td></td>\n",
       "      <td>32.0</td>\n",
       "      <td></td>\n",
       "      <td></td>\n",
       "      <td>2.0</td>\n",
       "      <td></td>\n",
       "      <td></td>\n",
       "      <td>0.0</td>\n",
       "      <td></td>\n",
       "      <td>0.0</td>\n",
       "      <td></td>\n",
       "    </tr>\n",
       "    <tr>\n",
       "      <th>Švec, Libor</th>\n",
       "      <td></td>\n",
       "      <td></td>\n",
       "      <td></td>\n",
       "      <td></td>\n",
       "      <td></td>\n",
       "      <td></td>\n",
       "      <td></td>\n",
       "      <td></td>\n",
       "      <td></td>\n",
       "      <td></td>\n",
       "      <td></td>\n",
       "      <td></td>\n",
       "      <td></td>\n",
       "      <td>0.0</td>\n",
       "      <td></td>\n",
       "      <td></td>\n",
       "      <td></td>\n",
       "    </tr>\n",
       "    <tr>\n",
       "      <th>Žeravík, Jiří</th>\n",
       "      <td></td>\n",
       "      <td></td>\n",
       "      <td></td>\n",
       "      <td></td>\n",
       "      <td></td>\n",
       "      <td></td>\n",
       "      <td></td>\n",
       "      <td>54.0</td>\n",
       "      <td></td>\n",
       "      <td></td>\n",
       "      <td></td>\n",
       "      <td></td>\n",
       "      <td></td>\n",
       "      <td></td>\n",
       "      <td></td>\n",
       "      <td></td>\n",
       "      <td></td>\n",
       "    </tr>\n",
       "    <tr>\n",
       "      <th>Žuja, Petr</th>\n",
       "      <td>10.0</td>\n",
       "      <td></td>\n",
       "      <td></td>\n",
       "      <td></td>\n",
       "      <td></td>\n",
       "      <td></td>\n",
       "      <td>54.0</td>\n",
       "      <td>44.0</td>\n",
       "      <td>325.0</td>\n",
       "      <td></td>\n",
       "      <td></td>\n",
       "      <td></td>\n",
       "      <td></td>\n",
       "      <td></td>\n",
       "      <td></td>\n",
       "      <td></td>\n",
       "      <td></td>\n",
       "    </tr>\n",
       "  </tbody>\n",
       "</table>\n",
       "<p>818 rows × 17 columns</p>\n",
       "</div>"
      ],
      "text/plain": [
       "lessonFormName                       CV EX    J KOL    KON KRZ   LAB     P  \\\n",
       "departmentName teacher                                                       \n",
       "CBVSS          Bauer, Miloslav                                         2.0   \n",
       "               Baxa, Fabian        38.0              734.0            30.0   \n",
       "               Botik, Martin                                           2.0   \n",
       "               Botík, Martin                          12.0                   \n",
       "               Brizgalová, Lenka            2.0                              \n",
       "...                                 ... ..  ...  ..    ...  ..   ...   ...   \n",
       "ÚOPZHN         Trefilík, Dušan                                        28.0   \n",
       "               Zahradníček, Radim                                     32.0   \n",
       "               Švec, Libor                                                   \n",
       "               Žeravík, Jiří                                          54.0   \n",
       "               Žuja, Petr          10.0                         54.0  44.0   \n",
       "\n",
       "lessonFormName                        PV PX    SEM   SMP STŽ  SZK   TER   ZK  \\\n",
       "departmentName teacher                                                         \n",
       "CBVSS          Bauer, Miloslav                                                 \n",
       "               Baxa, Fabian                  149.0   8.0                 0.0   \n",
       "               Botik, Martin                                                   \n",
       "               Botík, Martin                 348.0  12.0           36.0        \n",
       "               Brizgalová, Lenka                                               \n",
       "...                                  ... ..    ...   ...  ..  ...   ...  ...   \n",
       "ÚOPZHN         Trefilík, Dušan                 4.0                             \n",
       "               Zahradníček, Radim              2.0            0.0        0.0   \n",
       "               Švec, Libor                                    0.0              \n",
       "               Žeravík, Jiří                                                   \n",
       "               Žuja, Petr          325.0                                       \n",
       "\n",
       "lessonFormName                    unknown  \n",
       "departmentName teacher                     \n",
       "CBVSS          Bauer, Miloslav             \n",
       "               Baxa, Fabian                \n",
       "               Botik, Martin               \n",
       "               Botík, Martin               \n",
       "               Brizgalová, Lenka           \n",
       "...                                   ...  \n",
       "ÚOPZHN         Trefilík, Dušan             \n",
       "               Zahradníček, Radim          \n",
       "               Švec, Libor                 \n",
       "               Žeravík, Jiří               \n",
       "               Žuja, Petr                  \n",
       "\n",
       "[818 rows x 17 columns]"
      ]
     },
     "execution_count": 36,
     "metadata": {},
     "output_type": "execute_result"
    }
   ],
   "source": [
    "import numpy as np\n",
    "pd.pivot_table(df, values='lessonsCount', index=['departmentName', 'teacher'], columns=['lessonFormName'], aggfunc=np.sum, fill_value='')"
   ]
  },
  {
   "cell_type": "markdown",
   "metadata": {},
   "source": [
    "### Selekce"
   ]
  },
  {
   "cell_type": "markdown",
   "metadata": {},
   "source": [
    "### Projekce"
   ]
  },
  {
   "cell_type": "markdown",
   "metadata": {},
   "source": [
    "### Pivot Table"
   ]
  },
  {
   "cell_type": "code",
   "execution_count": null,
   "metadata": {},
   "outputs": [],
   "source": []
  },
  {
   "cell_type": "markdown",
   "metadata": {
    "id": "Bmh3zsogE08B"
   },
   "source": [
    "## Matplotlib"
   ]
  },
  {
   "cell_type": "markdown",
   "metadata": {},
   "source": [
    "### Intro"
   ]
  },
  {
   "cell_type": "markdown",
   "metadata": {},
   "source": [
    "### Liniové grafy"
   ]
  },
  {
   "cell_type": "markdown",
   "metadata": {},
   "source": [
    "### Datové grafy"
   ]
  },
  {
   "cell_type": "markdown",
   "metadata": {
    "id": "9jm-UEl9E2m8"
   },
   "source": [
    "## Další nástroje"
   ]
  },
  {
   "cell_type": "code",
   "execution_count": null,
   "metadata": {
    "id": "Py102TsCl55y"
   },
   "outputs": [],
   "source": []
  }
 ],
 "metadata": {
  "colab": {
   "name": "05_dataanalysis.ipynb",
   "provenance": []
  },
  "kernelspec": {
   "display_name": "Python 3 (ipykernel)",
   "language": "python",
   "name": "python3"
  },
  "language_info": {
   "codemirror_mode": {
    "name": "ipython",
    "version": 3
   },
   "file_extension": ".py",
   "mimetype": "text/x-python",
   "name": "python",
   "nbconvert_exporter": "python",
   "pygments_lexer": "ipython3",
   "version": "3.9.7"
  }
 },
 "nbformat": 4,
 "nbformat_minor": 4
}
