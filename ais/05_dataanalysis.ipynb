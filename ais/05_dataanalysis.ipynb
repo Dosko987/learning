{
 "cells": [
  {
   "cell_type": "markdown",
   "metadata": {
    "id": "Kdt5HnXEEshc"
   },
   "source": [
    "# Analýza a vizualizace dat"
   ]
  },
  {
   "cell_type": "markdown",
   "metadata": {
    "id": "WqobaqjDEthR"
   },
   "source": [
    "- Analýza a vizualizace dat \n",
    "    - Nástroje pro platformu Python\n",
    "    - Pandas\n",
    "    - Matplotlib\n",
    "    - Další nástroje (numpy, scikit, ...)"
   ]
  },
  {
   "cell_type": "markdown",
   "metadata": {},
   "source": [
    "## Úvodní cvičení"
   ]
  },
  {
   "cell_type": "markdown",
   "metadata": {},
   "source": [
    "### Příprava dat (pro Excel)"
   ]
  },
  {
   "cell_type": "markdown",
   "metadata": {},
   "source": [
    "> **Zadání**\n",
    "> \n",
    "> Vytvořte homogenní strukturu, na základě které vytvoříte kontingenční tabulku (např. v Excelu) počítající sumu hodin\n",
    "> - po učebních skupinách v kombinaci s typem lekce\n",
    "> - po vyučujících v kombinaci s typem lekce\n",
    "> - ...\n"
   ]
  },
  {
   "cell_type": "markdown",
   "metadata": {},
   "source": [
    "Zadání napovídá, že bude potřeba homogenní struktura (tabulka). Je nutné vědět, co to je kontingenční tabulka (pivot table).\n",
    "\n",
    "> **Povinné video**\n",
    ">\n",
    "> [Základy kontingenční tabulky | EduTV 10 min](https://www.youtube.com/watch?v=IWse9RPLDgM)"
   ]
  },
  {
   "cell_type": "markdown",
   "metadata": {},
   "source": [
    "Zadání současně říká, jaká data musí být přítomna.\n",
    "- učební skupina\n",
    "- typ lekce\n",
    "- délka lekce\n",
    "- vyučující\n",
    "- ...\n",
    "- předmět\n",
    "\n",
    "Výchozími daty je json soubor, se kterým jsme již dříve pracovali (aplikace rozvrh hodin).\n"
   ]
  },
  {
   "cell_type": "markdown",
   "metadata": {},
   "source": [
    "> **Mikroúkol**\n",
    ">\n",
    "> Napište funkci pro spojení textů v listu s možností určení oddělovače"
   ]
  },
  {
   "cell_type": "code",
   "execution_count": null,
   "metadata": {},
   "outputs": [],
   "source": [
    "def joinStr(delimiter, strList):\n",
    "    result = ''\n",
    "    \n",
    "    for index, item in enumerate(strList):\n",
    "        if index == 0:\n",
    "            result = item\n",
    "        else:\n",
    "            result = delimiter + item\n",
    "    #\n",
    "    #\n",
    "    #\n",
    "    \n",
    "    return result\n",
    "\n",
    "print(joinStr(', ', ['A', 'B', 'C']))"
   ]
  },
  {
   "cell_type": "markdown",
   "metadata": {},
   "source": [
    "> **Řešení**"
   ]
  },
  {
   "cell_type": "code",
   "execution_count": 37,
   "metadata": {
    "tags": []
   },
   "outputs": [
    {
     "name": "stdout",
     "output_type": "stream",
     "text": [
      "A, B, C\n"
     ]
    }
   ],
   "source": [
    "def joinStr(delimiter, strList):\n",
    "    result = ''\n",
    "    for index, item in enumerate(strList):\n",
    "        if index == 0:\n",
    "            result = item\n",
    "        else:\n",
    "            result = result + delimiter + item\n",
    "    return result\n",
    "\n",
    "print(joinStr(', ', ['A', 'B', 'C']))"
   ]
  },
  {
   "cell_type": "code",
   "execution_count": 38,
   "metadata": {},
   "outputs": [],
   "source": [
    "import json\n",
    "\n",
    "with open('rozvrh/data.json', encoding='utf-8') as inputFile:\n",
    "    data = json.load(inputFile)"
   ]
  },
  {
   "cell_type": "code",
   "execution_count": 40,
   "metadata": {},
   "outputs": [
    {
     "name": "stdout",
     "output_type": "stream",
     "text": [
      "dict_keys(['events', 'occurrencesDays', 'timeslots', 'colors', 'subjects', 'departments', 'groups', 'entryYears', 'students', 'teachers', 'classrooms', 'areas', 'categories', 'spheres', 'lessonForms'])\n"
     ]
    }
   ],
   "source": [
    "print(data.keys())"
   ]
  },
  {
   "cell_type": "code",
   "execution_count": 39,
   "metadata": {},
   "outputs": [
    {
     "name": "stdout",
     "output_type": "stream",
     "text": [
      "{'id': '2D2B1C90-F4FF-11EB-9B74-520D00000000', 'typeId': 'F00CB650-9768-11EB-87D2-030800000000', 'startTime': {'hours': 14, 'minutes': 30}, 'endTime': {'hours': 16, 'minutes': 0}, 'dateCode': '2021-11-15', 'date': {'day': 15, 'month': 11, 'year': 2021}, 'categoryId': 1, 'subjectId': 32269, 'subjectName': 'Letecké elektronické systémy II', 'departmentId': 441, 'departmentName': 'FVT-K206', 'topic': '3. Syntéza kmitočtu ', 'topicId': 62645, 'masterId': '62645/2', 'timeslotsId': 1, 'timeslotsName': 'BR', 'lessonOrder': 8, 'lessonFormId': 2, 'lessonFormName': 'CV', 'lessonUnit': 45, 'lessonsCount': 2, 'groupsIds': ['A8CFD4D0-8CA4-11EB-BA48-520D00000000'], 'groupsNames': ['23-3LT-AV-C'], 'groupsEntryYearsIds': [], 'classroomsIds': [331], 'classroomsNames': ['Č1/120'], 'classroomsAreasIds': [2], 'teachersIds': [540], 'teachersNames': ['Němeček, Jiří'], 'teachersDepartmentsIds': [441], 'isLocked': True}\n",
      "{'id': 'C65A0170-F4FE-11EB-9B74-520D00000000', 'typeId': 'EFAE42A0-9768-11EB-87D2-030800000000', 'startTime': {'hours': 9, 'minutes': 50}, 'endTime': {'hours': 11, 'minutes': 20}, 'dateCode': '2021-10-19', 'date': {'day': 19, 'month': 10, 'year': 2021}, 'categoryId': 1, 'subjectId': 32269, 'subjectName': 'Letecké elektronické systémy II', 'departmentId': 441, 'departmentName': 'FVT-K206', 'topic': '1. Letecké rádiové přijímače', 'topicId': 62609, 'masterId': '62609/4', 'timeslotsId': 1, 'timeslotsName': 'BR', 'lessonOrder': 3, 'lessonFormId': 4, 'lessonFormName': 'LAB', 'lessonUnit': 45, 'lessonsCount': 2, 'groupsIds': ['A8CFD4D0-8CA4-11EB-BA48-520D00000000'], 'groupsNames': ['23-3LT-AV-C'], 'groupsEntryYearsIds': [], 'classroomsIds': [332], 'classroomsNames': ['Č1/121'], 'classroomsAreasIds': [2], 'teachersIds': [540], 'teachersNames': ['Němeček, Jiří'], 'teachersDepartmentsIds': [441], 'isLocked': True}\n",
      "{'id': '396CC6C0-F4FF-11EB-9B74-520D00000000', 'typeId': 'F01EB7B0-9768-11EB-87D2-030800000000', 'startTime': {'hours': 11, 'minutes': 40}, 'endTime': {'hours': 13, 'minutes': 10}, 'dateCode': '2021-11-19', 'date': {'day': 19, 'month': 11, 'year': 2021}, 'categoryId': 1, 'subjectId': 32269, 'subjectName': 'Letecké elektronické systémy II', 'departmentId': 441, 'departmentName': 'FVT-K206', 'topic': '3. Syntéza kmitočtu ', 'topicId': 62645, 'masterId': '62645/4', 'timeslotsId': 1, 'timeslotsName': 'BR', 'lessonOrder': 8, 'lessonFormId': 4, 'lessonFormName': 'LAB', 'lessonUnit': 45, 'lessonsCount': 2, 'groupsIds': ['A8CFD4D0-8CA4-11EB-BA48-520D00000000'], 'groupsNames': ['23-3LT-AV-C'], 'groupsEntryYearsIds': [], 'classroomsIds': [332], 'classroomsNames': ['Č1/121'], 'classroomsAreasIds': [2], 'teachersIds': [540], 'teachersNames': ['Němeček, Jiří'], 'teachersDepartmentsIds': [441], 'isLocked': True}\n",
      "{'id': '7B7F24E0-F4FF-11EB-9B74-520D00000000', 'typeId': 'F06843D0-9768-11EB-87D2-030800000000', 'startTime': {'hours': 11, 'minutes': 40}, 'endTime': {'hours': 13, 'minutes': 10}, 'dateCode': '2021-12-14', 'date': {'day': 14, 'month': 12, 'year': 2021}, 'categoryId': 1, 'subjectId': 32269, 'subjectName': 'Letecké elektronické systémy II', 'departmentId': 441, 'departmentName': 'FVT-K206', 'topic': '5. Úhloměrné navigační systémy NDB, VOR, DVOR, TACAN, VORTAC ', 'topicId': 62647, 'masterId': '62647/2', 'timeslotsId': 1, 'timeslotsName': 'BR', 'lessonOrder': 13, 'lessonFormId': 2, 'lessonFormName': 'CV', 'lessonUnit': 45, 'lessonsCount': 2, 'groupsIds': ['A8CFD4D0-8CA4-11EB-BA48-520D00000000'], 'groupsNames': ['23-3LT-AV-C'], 'groupsEntryYearsIds': [], 'classroomsIds': [21], 'classroomsNames': ['Č1/207'], 'classroomsAreasIds': [2], 'teachersIds': [545], 'teachersNames': ['Andrle, Miloš'], 'teachersDepartmentsIds': [441], 'isLocked': True}\n"
     ]
    }
   ],
   "source": [
    "for index, item in enumerate(data['events']):\n",
    "    print(item)\n",
    "    if index > 2:\n",
    "        break"
   ]
  },
  {
   "cell_type": "markdown",
   "metadata": {},
   "source": [
    "Na základě výpisu připravíme mapovací funkci"
   ]
  },
  {
   "cell_type": "markdown",
   "metadata": {},
   "source": [
    "> **Připomenutí**\n",
    "> \n",
    "> Využití generátorů"
   ]
  },
  {
   "cell_type": "code",
   "execution_count": 41,
   "metadata": {},
   "outputs": [
    {
     "name": "stdout",
     "output_type": "stream",
     "text": [
      "[2, 3, 4, 5]\n"
     ]
    }
   ],
   "source": [
    "def updateData(data):\n",
    "    for item in data:\n",
    "        yield item + 1\n",
    "    \n",
    "inputData = [1, 2, 3, 4]\n",
    "resultData = list(updateData(inputData))\n",
    "print(resultData)"
   ]
  },
  {
   "cell_type": "markdown",
   "metadata": {},
   "source": [
    "Implementace funkce"
   ]
  },
  {
   "cell_type": "code",
   "execution_count": 42,
   "metadata": {},
   "outputs": [],
   "source": [
    "def dataExtractor(events):\n",
    "    for item in events:\n",
    "        resultItem = {\n",
    "            'id': item['id'],\n",
    "            'subjectName': item['subjectName'] if 'subjectName' in item else 'unknown',\n",
    "            'departmentName': item['departmentName'] if 'departmentName' in item else 'unknown',\n",
    "            'topic': item['topic'] if 'topic' in item else 'unknown',\n",
    "            'lessonFormName': item['lessonFormName'] if 'lessonFormName' in item else 'unknown',\n",
    "            'lessonsCount': item['lessonsCount'] if 'lessonsCount' in item else 0,\n",
    "            'groups': joinStr(', ', item['groupsNames']) if 'groupsNames' in item else 'unknown',\n",
    "        }\n",
    "        for teacher in item['teachersNames']:\n",
    "            newResult = {\n",
    "                **resultItem, \n",
    "                'teacher': teacher\n",
    "            }\n",
    "            yield newResult\n",
    "    pass"
   ]
  },
  {
   "cell_type": "markdown",
   "metadata": {},
   "source": [
    "Podrobnější rozbor"
   ]
  },
  {
   "cell_type": "code",
   "execution_count": 48,
   "metadata": {},
   "outputs": [],
   "source": [
    "import json\n",
    "\n",
    "with open('rozvrh/data.json', encoding='utf-8') as inputFile:\n",
    "    data = json.load(inputFile)\n",
    "    \n",
    "for index, item in enumerate(data['events']):\n",
    "    if index > 2:\n",
    "        break\n",
    "    resultItem = {\n",
    "        'id': item['id'],\n",
    "        'subjectName': item['subjectName'] if 'subjectName' in item else 'unknown',\n",
    "        'departmentName': item['departmentName'] if 'departmentName' in item else 'unknown',\n",
    "        'topic': item['topic'] if 'topic' in item else 'unknown',\n",
    "        'lessonFormName': item['lessonFormName'] if 'lessonFormName' in item else 'unknown',\n",
    "        'lessonsCount': item['lessonsCount'] if 'lessonsCount' in item else 0,\n",
    "        'groups': joinStr(', ', item['groupsNames']) if 'groupsNames' in item else 'unknown'\n",
    "    } \n",
    "    for teacher in item['teachersNames']:\n",
    "        finalResult = {\n",
    "            **resultItem,\n",
    "            'teacher': joinStr(', ', item['teachersNames']) if 'teachersNames' in item else 'unknown'\n",
    "        }\n",
    "        print(finalResult)\n"
   ]
  },
  {
   "cell_type": "code",
   "execution_count": 49,
   "metadata": {},
   "outputs": [
    {
     "name": "stdout",
     "output_type": "stream",
     "text": [
      "{'id': '2D2B1C90-F4FF-11EB-9B74-520D00000000', 'subjectName': 'Letecké elektronické systémy II', 'departmentName': 'FVT-K206', 'topic': '3. Syntéza kmitočtu ', 'lessonFormName': 'CV', 'lessonsCount': 2, 'groups': '23-3LT-AV-C', 'teacher': 'Němeček, Jiří'}\n",
      "{'id': 'C65A0170-F4FE-11EB-9B74-520D00000000', 'subjectName': 'Letecké elektronické systémy II', 'departmentName': 'FVT-K206', 'topic': '1. Letecké rádiové přijímače', 'lessonFormName': 'LAB', 'lessonsCount': 2, 'groups': '23-3LT-AV-C', 'teacher': 'Němeček, Jiří'}\n",
      "{'id': '396CC6C0-F4FF-11EB-9B74-520D00000000', 'subjectName': 'Letecké elektronické systémy II', 'departmentName': 'FVT-K206', 'topic': '3. Syntéza kmitočtu ', 'lessonFormName': 'LAB', 'lessonsCount': 2, 'groups': '23-3LT-AV-C', 'teacher': 'Němeček, Jiří'}\n",
      "{'id': '7B7F24E0-F4FF-11EB-9B74-520D00000000', 'subjectName': 'Letecké elektronické systémy II', 'departmentName': 'FVT-K206', 'topic': '5. Úhloměrné navigační systémy NDB, VOR, DVOR, TACAN, VORTAC ', 'lessonFormName': 'CV', 'lessonsCount': 2, 'groups': '23-3LT-AV-C', 'teacher': 'Andrle, Miloš'}\n"
     ]
    }
   ],
   "source": [
    "import json\n",
    "\n",
    "with open('rozvrh/data.json', encoding='utf-8') as inputFile:\n",
    "    data = json.load(inputFile)\n",
    "    \n",
    "dataForPivotTable = list(dataExtractor(data['events']))\n",
    "for index, item in enumerate(dataForPivotTable):\n",
    "    print(item)\n",
    "    if index > 2:\n",
    "        break\n",
    "        "
   ]
  },
  {
   "cell_type": "code",
   "execution_count": 58,
   "metadata": {},
   "outputs": [],
   "source": [
    "def getTotal(teacherName, lessonFormName):\n",
    "    total = 0\n",
    "    for item in dataForPivotTable:\n",
    "        if not (item['teacher'] == teacherName):\n",
    "            continue\n",
    "        if not (item['lessonFormName'] == lessonFormName):\n",
    "            continue\n",
    "        # obě podmínky jsou splněny\n",
    "        total = total + item['lessonsCount']\n",
    "    return total\n",
    "\n",
    "teacherName = 'Štefek, Alexandr'\n",
    "lessonFormName = 'CV'\n",
    "\n",
    "print(teacherName, 'CV', getTotal(teacherName, 'CV'))\n",
    "print(teacherName, 'P', getTotal(teacherName, 'P'))\n",
    "print(teacherName, 'S', getTotal(teacherName, 'S'))\n",
    "print(teacherName, 'LC', getTotal(teacherName, 'LC'))"
   ]
  },
  {
   "cell_type": "code",
   "execution_count": 60,
   "metadata": {},
   "outputs": [
    {
     "name": "stdout",
     "output_type": "stream",
     "text": [
      "Štefek, Alexandr {'CV': 2, 'P': 62, 'S': 0, 'LC': 0}\n"
     ]
    }
   ],
   "source": [
    "def getTotals(teacherName, lessonFormNames):\n",
    "    result = {}\n",
    "    for item in lessonFormNames:\n",
    "        result[item] = getTotal(teacherName, item)\n",
    "    return result\n",
    "\n",
    "teacherName = 'Štefek, Alexandr'\n",
    "lessonFormNames = ['CV','P','S', 'LC']\n",
    "print(teacherName, getTotals(teacherName, lessonFormNames))"
   ]
  },
  {
   "cell_type": "markdown",
   "metadata": {},
   "source": [
    "### Kontingenční tabulka"
   ]
  },
  {
   "cell_type": "markdown",
   "metadata": {},
   "source": [
    "Kontingenční tabulka je tabulka, kde v buňce je zobrazen výsledek agregační funkce aplikované na vektor hodnot, který byl získán z dat filtrací podle filtrů určených sloupcem i řádkem."
   ]
  },
  {
   "cell_type": "code",
   "execution_count": 125,
   "metadata": {},
   "outputs": [
    {
     "name": "stdout",
     "output_type": "stream",
     "text": [
      "\t\t P\t LC\t CV\n",
      "Štefek, A. \t19 \t0 \t1 \t\n",
      "Ráčil, T. \t8 \t0 \t0 \t\n"
     ]
    }
   ],
   "source": [
    "rowFilters = {\n",
    "    'Štefek, A.': lambda item: item['teacher'] == 'Štefek, Alexandr',\n",
    "    'Ráčil, T.': lambda item: item['teacher'] == 'Ráčil, Tomáš',   \n",
    "}\n",
    "\n",
    "colFilters = {\n",
    "    'P': lambda item: item['lessonFormName'] == 'P',\n",
    "    'LC': lambda item: item['lessonFormName'] == 'LC',\n",
    "    'CV': lambda item: item['lessonFormName'] == 'CV',\n",
    "}\n",
    "\n",
    "def doubleFilter(filterA, filterB, data):\n",
    "    for item in data:\n",
    "        if not filterA(item):\n",
    "            continue\n",
    "        if not filterB(item):\n",
    "            continue\n",
    "        yield item\n",
    "\n",
    "for rowIndex, (rowFilterName, rowFilter) in enumerate(rowFilters.items()):\n",
    "    if rowIndex == 0:\n",
    "        print('\\t', end='')\n",
    "        for colIndex, (colFilterName, colFilter) in enumerate(colFilters.items()):\n",
    "            print('\\t', colFilterName, end='')\n",
    "        print('')\n",
    "    print(rowFilterName, '\\t', end='')\n",
    "    for colIndex, (colFilterName, colFilter) in enumerate(colFilters.items()):\n",
    "        vectorData = doubleFilter(rowFilter, colFilter, dataForPivotTable)\n",
    "        print(len(list(vectorData)), '\\t', end='')\n",
    "    print()"
   ]
  },
  {
   "cell_type": "markdown",
   "metadata": {},
   "source": [
    "> **Zadání**\n",
    ">\n",
    "> Vytvořte funkci, která vrací `filters` pro libovolnou položku\n",
    "\n",
    "```\n",
    " filters = {\n",
    "    'P': lambda item: item['lessonFormName'] == 'P',\n",
    "    'LC': lambda item: item['lessonFormName'] == 'LC',\n",
    "    'CV': lambda item: item['lessonFormName'] == 'CV',\n",
    "}\n",
    "```\n"
   ]
  },
  {
   "cell_type": "code",
   "execution_count": 133,
   "metadata": {},
   "outputs": [
    {
     "name": "stdout",
     "output_type": "stream",
     "text": [
      "{'P': <function filterCreator.<locals>.filterCV at 0x7f9be3fa29d0>, 'LC': <function filterCreator.<locals>.filterCV at 0x7f9be3fa2040>, 'CV': <function filterCreator.<locals>.filterCV at 0x7f9be3fa2940>, 'EX': <function filterCreator.<locals>.filterCV at 0x7f9be3fa25e0>}\n"
     ]
    },
    {
     "data": {
      "text/plain": [
       "True"
      ]
     },
     "execution_count": 133,
     "metadata": {},
     "output_type": "execute_result"
    }
   ],
   "source": [
    "def filterCV(item):\n",
    "    return item['lessonFormName'] == 'CV'\n",
    "    \n",
    "def filterCreator(key, value):    \n",
    "    def filterCV(item):\n",
    "        return item[key] == value\n",
    "    return filterCV\n",
    "    \n",
    "def createFilters(itemValues, itemName):\n",
    "    result = {}\n",
    "    for itemValue in itemValues:\n",
    "        result[itemValue] = filterCreator(itemName, itemValue)#lambda item: item[itemName] == itemValue\n",
    "        \n",
    "    return result\n",
    "\n",
    "filters = createFilters(['P', 'LC', 'CV', 'EX'], 'lessonFormName')\n",
    "print(filters)\n",
    "filters['CV']({'lessonFormName': 'CV'})"
   ]
  },
  {
   "cell_type": "code",
   "execution_count": null,
   "metadata": {},
   "outputs": [],
   "source": [
    "def createFilters(data, itemName):\n",
    "    result = {}\n",
    "    #\n",
    "    # pro vsechny polozky v data:\n",
    "        # jestlize NECO:\n",
    "            # neco ## pozor, tady je zaludnost lambda nebude stacit PROC?\n",
    "    #\n",
    "    return result"
   ]
  },
  {
   "cell_type": "markdown",
   "metadata": {},
   "source": [
    "> **Řešení**"
   ]
  },
  {
   "cell_type": "code",
   "execution_count": 134,
   "metadata": {
    "tags": []
   },
   "outputs": [
    {
     "name": "stdout",
     "output_type": "stream",
     "text": [
      "CV \t <function createFilter.<locals>.<lambda> at 0x7f9c0ca0d820>\n",
      "LAB \t <function createFilter.<locals>.<lambda> at 0x7f9bfefd5af0>\n",
      "unknown \t <function createFilter.<locals>.<lambda> at 0x7f9be3fa2d30>\n",
      "P \t <function createFilter.<locals>.<lambda> at 0x7f9be3fa2160>\n",
      "SEM \t <function createFilter.<locals>.<lambda> at 0x7f9be3fa2280>\n",
      "PV \t <function createFilter.<locals>.<lambda> at 0x7f9be3fa2c10>\n",
      "EX \t <function createFilter.<locals>.<lambda> at 0x7f9be3fa2700>\n",
      "PX \t <function createFilter.<locals>.<lambda> at 0x7f9be3fa2670>\n",
      "KON \t <function createFilter.<locals>.<lambda> at 0x7f9be3fa24c0>\n",
      "TER \t <function createFilter.<locals>.<lambda> at 0x7f9be3fa2310>\n",
      "SMP \t <function createFilter.<locals>.<lambda> at 0x7f9be3fa2790>\n",
      "SZK \t <function createFilter.<locals>.<lambda> at 0x7f9be3fa2820>\n",
      "J \t <function createFilter.<locals>.<lambda> at 0x7f9be3fa2b80>\n",
      "KRZ \t <function createFilter.<locals>.<lambda> at 0x7f9c01eff160>\n",
      "STŽ \t <function createFilter.<locals>.<lambda> at 0x7f9c01effa60>\n",
      "ZK \t <function createFilter.<locals>.<lambda> at 0x7f9c01eff040>\n",
      "KOL \t <function createFilter.<locals>.<lambda> at 0x7f9c068d54c0>\n"
     ]
    }
   ],
   "source": [
    "def createFilter(itemName, itemValue):\n",
    "    return lambda c: c[itemName] == itemValue\n",
    "\n",
    "def createFilters(data, itemName):\n",
    "    result = {}\n",
    "    for row in data:\n",
    "        itemValue = row[itemName]\n",
    "        if itemValue in result:\n",
    "            continue\n",
    "        result[itemValue] = createFilter(itemName, itemValue)\n",
    "    return result\n",
    "\n",
    "filters = createFilters(dataForPivotTable, 'lessonFormName')\n",
    "for key, value in filters.items():\n",
    "    print(key, '\\t', value)"
   ]
  },
  {
   "cell_type": "markdown",
   "metadata": {},
   "source": [
    "Otestujte si své řešení!"
   ]
  },
  {
   "cell_type": "code",
   "execution_count": 135,
   "metadata": {},
   "outputs": [
    {
     "data": {
      "text/plain": [
       "True"
      ]
     },
     "execution_count": 135,
     "metadata": {},
     "output_type": "execute_result"
    }
   ],
   "source": [
    "filters = createFilters(dataForPivotTable, 'lessonFormName') \n",
    "filters['CV']({'lessonFormName': 'CV'})"
   ]
  },
  {
   "cell_type": "markdown",
   "metadata": {},
   "source": [
    "Využijte své řešení pro generování filtrů pro jinou položku"
   ]
  },
  {
   "cell_type": "code",
   "execution_count": 136,
   "metadata": {},
   "outputs": [
    {
     "name": "stdout",
     "output_type": "stream",
     "text": [
      "dict_keys(['FVT-K206', 'unknown', 'FVL-K102', 'FVL-K111', 'FVT-K205', 'FVT-K202', 'FVT-K216', 'FVZ-K301', 'FVZ-K308', 'FVL-K105', 'FVT-K201', 'FVT-K209', 'CBVSS', 'FVT-K207', 'FVT-K217', 'FVT-K208', 'FVL-K109', 'FVL-K108', 'FVL-K101', 'CJV', 'FVT-K215', 'CTVS', 'FVL-K110', 'FVL-K104', 'FVT-K210', 'FVZ-K302', 'FVT-K203', 'ÚOPZHN', 'FVL-K107', 'FVZ-K306', 'FVZ-K305', 'FVZ-K304', 'FVZ-K307', 'FVZ-K303', 'FVT-K211'])\n"
     ]
    },
    {
     "data": {
      "text/plain": [
       "{'FVT-K206': <function __main__.createFilter.<locals>.<lambda>(c)>,\n",
       " 'unknown': <function __main__.createFilter.<locals>.<lambda>(c)>,\n",
       " 'FVL-K102': <function __main__.createFilter.<locals>.<lambda>(c)>,\n",
       " 'FVL-K111': <function __main__.createFilter.<locals>.<lambda>(c)>,\n",
       " 'FVT-K205': <function __main__.createFilter.<locals>.<lambda>(c)>,\n",
       " 'FVT-K202': <function __main__.createFilter.<locals>.<lambda>(c)>,\n",
       " 'FVT-K216': <function __main__.createFilter.<locals>.<lambda>(c)>,\n",
       " 'FVZ-K301': <function __main__.createFilter.<locals>.<lambda>(c)>,\n",
       " 'FVZ-K308': <function __main__.createFilter.<locals>.<lambda>(c)>,\n",
       " 'FVL-K105': <function __main__.createFilter.<locals>.<lambda>(c)>,\n",
       " 'FVT-K201': <function __main__.createFilter.<locals>.<lambda>(c)>,\n",
       " 'FVT-K209': <function __main__.createFilter.<locals>.<lambda>(c)>,\n",
       " 'CBVSS': <function __main__.createFilter.<locals>.<lambda>(c)>,\n",
       " 'FVT-K207': <function __main__.createFilter.<locals>.<lambda>(c)>,\n",
       " 'FVT-K217': <function __main__.createFilter.<locals>.<lambda>(c)>,\n",
       " 'FVT-K208': <function __main__.createFilter.<locals>.<lambda>(c)>,\n",
       " 'FVL-K109': <function __main__.createFilter.<locals>.<lambda>(c)>,\n",
       " 'FVL-K108': <function __main__.createFilter.<locals>.<lambda>(c)>,\n",
       " 'FVL-K101': <function __main__.createFilter.<locals>.<lambda>(c)>,\n",
       " 'CJV': <function __main__.createFilter.<locals>.<lambda>(c)>,\n",
       " 'FVT-K215': <function __main__.createFilter.<locals>.<lambda>(c)>,\n",
       " 'CTVS': <function __main__.createFilter.<locals>.<lambda>(c)>,\n",
       " 'FVL-K110': <function __main__.createFilter.<locals>.<lambda>(c)>,\n",
       " 'FVL-K104': <function __main__.createFilter.<locals>.<lambda>(c)>,\n",
       " 'FVT-K210': <function __main__.createFilter.<locals>.<lambda>(c)>,\n",
       " 'FVZ-K302': <function __main__.createFilter.<locals>.<lambda>(c)>,\n",
       " 'FVT-K203': <function __main__.createFilter.<locals>.<lambda>(c)>,\n",
       " 'ÚOPZHN': <function __main__.createFilter.<locals>.<lambda>(c)>,\n",
       " 'FVL-K107': <function __main__.createFilter.<locals>.<lambda>(c)>,\n",
       " 'FVZ-K306': <function __main__.createFilter.<locals>.<lambda>(c)>,\n",
       " 'FVZ-K305': <function __main__.createFilter.<locals>.<lambda>(c)>,\n",
       " 'FVZ-K304': <function __main__.createFilter.<locals>.<lambda>(c)>,\n",
       " 'FVZ-K307': <function __main__.createFilter.<locals>.<lambda>(c)>,\n",
       " 'FVZ-K303': <function __main__.createFilter.<locals>.<lambda>(c)>,\n",
       " 'FVT-K211': <function __main__.createFilter.<locals>.<lambda>(c)>}"
      ]
     },
     "execution_count": 136,
     "metadata": {},
     "output_type": "execute_result"
    }
   ],
   "source": [
    "depFilters = createFilters(dataForPivotTable, 'departmentName') \n",
    "print(depFilters.keys())\n",
    "depFilters"
   ]
  },
  {
   "cell_type": "markdown",
   "metadata": {},
   "source": [
    "> **Zadání (na doma :)**\n",
    ">\n",
    "> Vytvořte funkci která vygeneruje kontingenční tabulku"
   ]
  },
  {
   "cell_type": "code",
   "execution_count": null,
   "metadata": {},
   "outputs": [],
   "source": [
    "def kontingencniTabulka(dataRecords, cellItemName, rowItemName, colItemName, aggregationFunc):\n",
    "    # vytvor filtry pro radky\n",
    "    # vytvor filtry pro sloupce\n",
    "    \n",
    "    # pro vsechny radkove filtry\n",
    "        # je-li radek prvnim (s nultym indexem)\n",
    "            # neco\n",
    "            # neco\n",
    "        # pro vsechny sloupcove filtry\n",
    "            # je-li sloupec prvnim (s nultym indexem)\n",
    "                # yield\n",
    "            # filtruj dataRecords na podminky rowFilter & colFilter\n",
    "            # agreguj data ze ziskaneho vektoru\n",
    "            # yield agregovanou hodnotu"
   ]
  },
  {
   "cell_type": "markdown",
   "metadata": {},
   "source": [
    "> **Zadání (na doma :) II**\n",
    ">\n",
    "> Upravte funkci do tvaru, níže\n",
    ">\n",
    "> Uveďte důvody pro využití této definice"
   ]
  },
  {
   "cell_type": "code",
   "execution_count": null,
   "metadata": {},
   "outputs": [],
   "source": [
    "def kontingencniTabulkaDefinition(cellItemName, rowItemName, colItemName, aggregationFunc):\n",
    "    # vytvor filtry pro radky\n",
    "    # vytvor filtry pro sloupce\n",
    "\n",
    "    def create(dataRecords):\n",
    "\n",
    "        # pro vsechny radkove filtry\n",
    "            # je-li radek prvnim (s nultym indexem)\n",
    "                # neco\n",
    "                # neco\n",
    "            # pro vsechny sloupcove filtry\n",
    "                # je-li sloupec prvnim (s nultym indexem)\n",
    "                    # yield\n",
    "                # filtruj dataRecords na podminky rowFilter & colFilter\n",
    "                # agreguj data ze ziskaneho vektoru\n",
    "                # yield agregovanou hodnotu\n",
    "    return create"
   ]
  },
  {
   "cell_type": "markdown",
   "metadata": {
    "id": "jnby_IdWEzb1"
   },
   "source": [
    "## Pandas"
   ]
  },
  {
   "cell_type": "markdown",
   "metadata": {},
   "source": [
    "Pandas je jedna z největších knihoven pro Python. Jedná se o opensource! \n",
    "Dokumentaci lze nalézt [zde](https://pandas.pydata.org/).\n",
    "\n",
    "> **Doporučené video**\n",
    ">\n",
    "> [Complete Python Pandas Data Science Tutorial! 1h](https://www.youtube.com/watch?v=vmEHCJofslg)\n"
   ]
  },
  {
   "cell_type": "markdown",
   "metadata": {},
   "source": [
    "### DataFrame"
   ]
  },
  {
   "cell_type": "markdown",
   "metadata": {},
   "source": [
    "Jedním ze základních prvků je [DataFrame](https://pandas.pydata.org/docs/reference/api/pandas.DataFrame.html).\n",
    "\n",
    "Zobrazíme si získaná data v tabulkové podobě."
   ]
  },
  {
   "cell_type": "code",
   "execution_count": 61,
   "metadata": {},
   "outputs": [
    {
     "data": {
      "text/html": [
       "<div>\n",
       "<style scoped>\n",
       "    .dataframe tbody tr th:only-of-type {\n",
       "        vertical-align: middle;\n",
       "    }\n",
       "\n",
       "    .dataframe tbody tr th {\n",
       "        vertical-align: top;\n",
       "    }\n",
       "\n",
       "    .dataframe thead th {\n",
       "        text-align: right;\n",
       "    }\n",
       "</style>\n",
       "<table border=\"1\" class=\"dataframe\">\n",
       "  <thead>\n",
       "    <tr style=\"text-align: right;\">\n",
       "      <th></th>\n",
       "      <th>id</th>\n",
       "      <th>subjectName</th>\n",
       "      <th>departmentName</th>\n",
       "      <th>topic</th>\n",
       "      <th>lessonFormName</th>\n",
       "      <th>lessonsCount</th>\n",
       "      <th>groups</th>\n",
       "      <th>teacher</th>\n",
       "    </tr>\n",
       "  </thead>\n",
       "  <tbody>\n",
       "    <tr>\n",
       "      <th>0</th>\n",
       "      <td>2D2B1C90-F4FF-11EB-9B74-520D00000000</td>\n",
       "      <td>Letecké elektronické systémy II</td>\n",
       "      <td>FVT-K206</td>\n",
       "      <td>3. Syntéza kmitočtu</td>\n",
       "      <td>CV</td>\n",
       "      <td>2</td>\n",
       "      <td>23-3LT-AV-C</td>\n",
       "      <td>Němeček, Jiří</td>\n",
       "    </tr>\n",
       "    <tr>\n",
       "      <th>1</th>\n",
       "      <td>C65A0170-F4FE-11EB-9B74-520D00000000</td>\n",
       "      <td>Letecké elektronické systémy II</td>\n",
       "      <td>FVT-K206</td>\n",
       "      <td>1. Letecké rádiové přijímače</td>\n",
       "      <td>LAB</td>\n",
       "      <td>2</td>\n",
       "      <td>23-3LT-AV-C</td>\n",
       "      <td>Němeček, Jiří</td>\n",
       "    </tr>\n",
       "    <tr>\n",
       "      <th>2</th>\n",
       "      <td>396CC6C0-F4FF-11EB-9B74-520D00000000</td>\n",
       "      <td>Letecké elektronické systémy II</td>\n",
       "      <td>FVT-K206</td>\n",
       "      <td>3. Syntéza kmitočtu</td>\n",
       "      <td>LAB</td>\n",
       "      <td>2</td>\n",
       "      <td>23-3LT-AV-C</td>\n",
       "      <td>Němeček, Jiří</td>\n",
       "    </tr>\n",
       "    <tr>\n",
       "      <th>3</th>\n",
       "      <td>7B7F24E0-F4FF-11EB-9B74-520D00000000</td>\n",
       "      <td>Letecké elektronické systémy II</td>\n",
       "      <td>FVT-K206</td>\n",
       "      <td>5. Úhloměrné navigační systémy NDB, VOR, DVOR,...</td>\n",
       "      <td>CV</td>\n",
       "      <td>2</td>\n",
       "      <td>23-3LT-AV-C</td>\n",
       "      <td>Andrle, Miloš</td>\n",
       "    </tr>\n",
       "    <tr>\n",
       "      <th>4</th>\n",
       "      <td>04E49860-F4FF-11EB-9B74-520D00000000</td>\n",
       "      <td>Letecké elektronické systémy II</td>\n",
       "      <td>FVT-K206</td>\n",
       "      <td>2. Letecké rádiové vysílače</td>\n",
       "      <td>LAB</td>\n",
       "      <td>2</td>\n",
       "      <td>23-3LT-AV-C</td>\n",
       "      <td>Němeček, Jiří</td>\n",
       "    </tr>\n",
       "    <tr>\n",
       "      <th>...</th>\n",
       "      <td>...</td>\n",
       "      <td>...</td>\n",
       "      <td>...</td>\n",
       "      <td>...</td>\n",
       "      <td>...</td>\n",
       "      <td>...</td>\n",
       "      <td>...</td>\n",
       "      <td>...</td>\n",
       "    </tr>\n",
       "    <tr>\n",
       "      <th>69258</th>\n",
       "      <td>0750ACE9-323D-4E14-B3CC-ABCDF66F96C2</td>\n",
       "      <td>unknown</td>\n",
       "      <td>FVL-K105</td>\n",
       "      <td>Válečné studie</td>\n",
       "      <td>ZK</td>\n",
       "      <td>0</td>\n",
       "      <td>5D, 5DVZS, 5CH, 5MIZ, 5MT, 5PZ, 5ŘFZ, 5ŘLZ, 5V...</td>\n",
       "      <td>Staněk, Jaroslav</td>\n",
       "    </tr>\n",
       "    <tr>\n",
       "      <th>69259</th>\n",
       "      <td>DFB9C331-9C9C-4485-B06F-ACCB19E4757E</td>\n",
       "      <td>unknown</td>\n",
       "      <td>FVL-K102</td>\n",
       "      <td>Management</td>\n",
       "      <td>ZK</td>\n",
       "      <td>0</td>\n",
       "      <td>12-5ŘPOS1, 12-5ŘPOS2, 12-5ŘPOS3, 12-5ŘPOS4, 12...</td>\n",
       "      <td>Richter, Jiří</td>\n",
       "    </tr>\n",
       "    <tr>\n",
       "      <th>69260</th>\n",
       "      <td>3292D722-AC2B-49B8-8E48-5B4EFF2084A2</td>\n",
       "      <td>unknown</td>\n",
       "      <td>FVT-K217</td>\n",
       "      <td>Základy elektrotechniky</td>\n",
       "      <td>ZK</td>\n",
       "      <td>0</td>\n",
       "      <td>22-3GMOB-C, 22-3LT-C, 22-3TOMO-C, 22-3ZM-C LAB...</td>\n",
       "      <td>Kohl, Zdeněk</td>\n",
       "    </tr>\n",
       "    <tr>\n",
       "      <th>69261</th>\n",
       "      <td>89D2BBB0-F582-4B6C-B8DB-D1D7D0F789CA</td>\n",
       "      <td>unknown</td>\n",
       "      <td>FVT-K217</td>\n",
       "      <td>Základy elektrotechniky</td>\n",
       "      <td>ZK</td>\n",
       "      <td>0</td>\n",
       "      <td>22-3GMOB-C, 22-3LT-C, 22-3TOMO-C, 22-3ZM-C LAB...</td>\n",
       "      <td>Kohl, Zdeněk</td>\n",
       "    </tr>\n",
       "    <tr>\n",
       "      <th>69262</th>\n",
       "      <td>9412A64E-15A4-4206-ABD8-FB59427D159A</td>\n",
       "      <td>unknown</td>\n",
       "      <td>FVT-K217</td>\n",
       "      <td>Základy elektrotechniky</td>\n",
       "      <td>ZK</td>\n",
       "      <td>0</td>\n",
       "      <td>22-3GMOB-C, 22-3LT-C, 22-3TOMO-C, 22-3ZM-C LAB...</td>\n",
       "      <td>Kohl, Zdeněk</td>\n",
       "    </tr>\n",
       "  </tbody>\n",
       "</table>\n",
       "<p>69263 rows × 8 columns</p>\n",
       "</div>"
      ],
      "text/plain": [
       "                                         id                      subjectName  \\\n",
       "0      2D2B1C90-F4FF-11EB-9B74-520D00000000  Letecké elektronické systémy II   \n",
       "1      C65A0170-F4FE-11EB-9B74-520D00000000  Letecké elektronické systémy II   \n",
       "2      396CC6C0-F4FF-11EB-9B74-520D00000000  Letecké elektronické systémy II   \n",
       "3      7B7F24E0-F4FF-11EB-9B74-520D00000000  Letecké elektronické systémy II   \n",
       "4      04E49860-F4FF-11EB-9B74-520D00000000  Letecké elektronické systémy II   \n",
       "...                                     ...                              ...   \n",
       "69258  0750ACE9-323D-4E14-B3CC-ABCDF66F96C2                          unknown   \n",
       "69259  DFB9C331-9C9C-4485-B06F-ACCB19E4757E                          unknown   \n",
       "69260  3292D722-AC2B-49B8-8E48-5B4EFF2084A2                          unknown   \n",
       "69261  89D2BBB0-F582-4B6C-B8DB-D1D7D0F789CA                          unknown   \n",
       "69262  9412A64E-15A4-4206-ABD8-FB59427D159A                          unknown   \n",
       "\n",
       "      departmentName                                              topic  \\\n",
       "0           FVT-K206                               3. Syntéza kmitočtu    \n",
       "1           FVT-K206                       1. Letecké rádiové přijímače   \n",
       "2           FVT-K206                               3. Syntéza kmitočtu    \n",
       "3           FVT-K206  5. Úhloměrné navigační systémy NDB, VOR, DVOR,...   \n",
       "4           FVT-K206                        2. Letecké rádiové vysílače   \n",
       "...              ...                                                ...   \n",
       "69258       FVL-K105                                     Válečné studie   \n",
       "69259       FVL-K102                                         Management   \n",
       "69260       FVT-K217                            Základy elektrotechniky   \n",
       "69261       FVT-K217                            Základy elektrotechniky   \n",
       "69262       FVT-K217                            Základy elektrotechniky   \n",
       "\n",
       "      lessonFormName  lessonsCount  \\\n",
       "0                 CV             2   \n",
       "1                LAB             2   \n",
       "2                LAB             2   \n",
       "3                 CV             2   \n",
       "4                LAB             2   \n",
       "...              ...           ...   \n",
       "69258             ZK             0   \n",
       "69259             ZK             0   \n",
       "69260             ZK             0   \n",
       "69261             ZK             0   \n",
       "69262             ZK             0   \n",
       "\n",
       "                                                  groups           teacher  \n",
       "0                                            23-3LT-AV-C     Němeček, Jiří  \n",
       "1                                            23-3LT-AV-C     Němeček, Jiří  \n",
       "2                                            23-3LT-AV-C     Němeček, Jiří  \n",
       "3                                            23-3LT-AV-C     Andrle, Miloš  \n",
       "4                                            23-3LT-AV-C     Němeček, Jiří  \n",
       "...                                                  ...               ...  \n",
       "69258  5D, 5DVZS, 5CH, 5MIZ, 5MT, 5PZ, 5ŘFZ, 5ŘLZ, 5V...  Staněk, Jaroslav  \n",
       "69259  12-5ŘPOS1, 12-5ŘPOS2, 12-5ŘPOS3, 12-5ŘPOS4, 12...     Richter, Jiří  \n",
       "69260  22-3GMOB-C, 22-3LT-C, 22-3TOMO-C, 22-3ZM-C LAB...      Kohl, Zdeněk  \n",
       "69261  22-3GMOB-C, 22-3LT-C, 22-3TOMO-C, 22-3ZM-C LAB...      Kohl, Zdeněk  \n",
       "69262  22-3GMOB-C, 22-3LT-C, 22-3TOMO-C, 22-3ZM-C LAB...      Kohl, Zdeněk  \n",
       "\n",
       "[69263 rows x 8 columns]"
      ]
     },
     "execution_count": 61,
     "metadata": {},
     "output_type": "execute_result"
    }
   ],
   "source": [
    "import json\n",
    "import pandas as pd\n",
    "\n",
    "with open('rozvrh/data.json', encoding='utf-8') as inputFile:\n",
    "    data = json.load(inputFile)\n",
    "    \n",
    "df = pd.DataFrame(dataExtractor(data['events']))\n",
    "df"
   ]
  },
  {
   "cell_type": "markdown",
   "metadata": {},
   "source": [
    "### Projekce"
   ]
  },
  {
   "cell_type": "markdown",
   "metadata": {},
   "source": [
    "#### Zobrazení jednoho sloupce"
   ]
  },
  {
   "cell_type": "code",
   "execution_count": 139,
   "metadata": {},
   "outputs": [
    {
     "name": "stdout",
     "output_type": "stream",
     "text": [
      "<class 'pandas.core.series.Series'>\n"
     ]
    },
    {
     "data": {
      "text/plain": [
       "0        Letecké elektronické systémy II\n",
       "1        Letecké elektronické systémy II\n",
       "2        Letecké elektronické systémy II\n",
       "3        Letecké elektronické systémy II\n",
       "4        Letecké elektronické systémy II\n",
       "                      ...               \n",
       "69258                            unknown\n",
       "69259                            unknown\n",
       "69260                            unknown\n",
       "69261                            unknown\n",
       "69262                            unknown\n",
       "Name: subjectName, Length: 69263, dtype: object"
      ]
     },
     "execution_count": 139,
     "metadata": {},
     "output_type": "execute_result"
    }
   ],
   "source": [
    "print(type(df['subjectName']))\n",
    "df['subjectName']"
   ]
  },
  {
   "cell_type": "code",
   "execution_count": 141,
   "metadata": {},
   "outputs": [
    {
     "data": {
      "text/html": [
       "<div>\n",
       "<style scoped>\n",
       "    .dataframe tbody tr th:only-of-type {\n",
       "        vertical-align: middle;\n",
       "    }\n",
       "\n",
       "    .dataframe tbody tr th {\n",
       "        vertical-align: top;\n",
       "    }\n",
       "\n",
       "    .dataframe thead th {\n",
       "        text-align: right;\n",
       "    }\n",
       "</style>\n",
       "<table border=\"1\" class=\"dataframe\">\n",
       "  <thead>\n",
       "    <tr style=\"text-align: right;\">\n",
       "      <th></th>\n",
       "      <th>id</th>\n",
       "      <th>subjectName</th>\n",
       "      <th>departmentName</th>\n",
       "      <th>topic</th>\n",
       "    </tr>\n",
       "  </thead>\n",
       "  <tbody>\n",
       "    <tr>\n",
       "      <th>0</th>\n",
       "      <td>2D2B1C90-F4FF-11EB-9B74-520D00000000</td>\n",
       "      <td>Letecké elektronické systémy II</td>\n",
       "      <td>FVT-K206</td>\n",
       "      <td>3. Syntéza kmitočtu</td>\n",
       "    </tr>\n",
       "    <tr>\n",
       "      <th>1</th>\n",
       "      <td>C65A0170-F4FE-11EB-9B74-520D00000000</td>\n",
       "      <td>Letecké elektronické systémy II</td>\n",
       "      <td>FVT-K206</td>\n",
       "      <td>1. Letecké rádiové přijímače</td>\n",
       "    </tr>\n",
       "    <tr>\n",
       "      <th>2</th>\n",
       "      <td>396CC6C0-F4FF-11EB-9B74-520D00000000</td>\n",
       "      <td>Letecké elektronické systémy II</td>\n",
       "      <td>FVT-K206</td>\n",
       "      <td>3. Syntéza kmitočtu</td>\n",
       "    </tr>\n",
       "    <tr>\n",
       "      <th>3</th>\n",
       "      <td>7B7F24E0-F4FF-11EB-9B74-520D00000000</td>\n",
       "      <td>Letecké elektronické systémy II</td>\n",
       "      <td>FVT-K206</td>\n",
       "      <td>5. Úhloměrné navigační systémy NDB, VOR, DVOR,...</td>\n",
       "    </tr>\n",
       "    <tr>\n",
       "      <th>4</th>\n",
       "      <td>04E49860-F4FF-11EB-9B74-520D00000000</td>\n",
       "      <td>Letecké elektronické systémy II</td>\n",
       "      <td>FVT-K206</td>\n",
       "      <td>2. Letecké rádiové vysílače</td>\n",
       "    </tr>\n",
       "    <tr>\n",
       "      <th>...</th>\n",
       "      <td>...</td>\n",
       "      <td>...</td>\n",
       "      <td>...</td>\n",
       "      <td>...</td>\n",
       "    </tr>\n",
       "    <tr>\n",
       "      <th>69258</th>\n",
       "      <td>0750ACE9-323D-4E14-B3CC-ABCDF66F96C2</td>\n",
       "      <td>unknown</td>\n",
       "      <td>FVL-K105</td>\n",
       "      <td>Válečné studie</td>\n",
       "    </tr>\n",
       "    <tr>\n",
       "      <th>69259</th>\n",
       "      <td>DFB9C331-9C9C-4485-B06F-ACCB19E4757E</td>\n",
       "      <td>unknown</td>\n",
       "      <td>FVL-K102</td>\n",
       "      <td>Management</td>\n",
       "    </tr>\n",
       "    <tr>\n",
       "      <th>69260</th>\n",
       "      <td>3292D722-AC2B-49B8-8E48-5B4EFF2084A2</td>\n",
       "      <td>unknown</td>\n",
       "      <td>FVT-K217</td>\n",
       "      <td>Základy elektrotechniky</td>\n",
       "    </tr>\n",
       "    <tr>\n",
       "      <th>69261</th>\n",
       "      <td>89D2BBB0-F582-4B6C-B8DB-D1D7D0F789CA</td>\n",
       "      <td>unknown</td>\n",
       "      <td>FVT-K217</td>\n",
       "      <td>Základy elektrotechniky</td>\n",
       "    </tr>\n",
       "    <tr>\n",
       "      <th>69262</th>\n",
       "      <td>9412A64E-15A4-4206-ABD8-FB59427D159A</td>\n",
       "      <td>unknown</td>\n",
       "      <td>FVT-K217</td>\n",
       "      <td>Základy elektrotechniky</td>\n",
       "    </tr>\n",
       "  </tbody>\n",
       "</table>\n",
       "<p>69263 rows × 4 columns</p>\n",
       "</div>"
      ],
      "text/plain": [
       "                                         id                      subjectName  \\\n",
       "0      2D2B1C90-F4FF-11EB-9B74-520D00000000  Letecké elektronické systémy II   \n",
       "1      C65A0170-F4FE-11EB-9B74-520D00000000  Letecké elektronické systémy II   \n",
       "2      396CC6C0-F4FF-11EB-9B74-520D00000000  Letecké elektronické systémy II   \n",
       "3      7B7F24E0-F4FF-11EB-9B74-520D00000000  Letecké elektronické systémy II   \n",
       "4      04E49860-F4FF-11EB-9B74-520D00000000  Letecké elektronické systémy II   \n",
       "...                                     ...                              ...   \n",
       "69258  0750ACE9-323D-4E14-B3CC-ABCDF66F96C2                          unknown   \n",
       "69259  DFB9C331-9C9C-4485-B06F-ACCB19E4757E                          unknown   \n",
       "69260  3292D722-AC2B-49B8-8E48-5B4EFF2084A2                          unknown   \n",
       "69261  89D2BBB0-F582-4B6C-B8DB-D1D7D0F789CA                          unknown   \n",
       "69262  9412A64E-15A4-4206-ABD8-FB59427D159A                          unknown   \n",
       "\n",
       "      departmentName                                              topic  \n",
       "0           FVT-K206                               3. Syntéza kmitočtu   \n",
       "1           FVT-K206                       1. Letecké rádiové přijímače  \n",
       "2           FVT-K206                               3. Syntéza kmitočtu   \n",
       "3           FVT-K206  5. Úhloměrné navigační systémy NDB, VOR, DVOR,...  \n",
       "4           FVT-K206                        2. Letecké rádiové vysílače  \n",
       "...              ...                                                ...  \n",
       "69258       FVL-K105                                     Válečné studie  \n",
       "69259       FVL-K102                                         Management  \n",
       "69260       FVT-K217                            Základy elektrotechniky  \n",
       "69261       FVT-K217                            Základy elektrotechniky  \n",
       "69262       FVT-K217                            Základy elektrotechniky  \n",
       "\n",
       "[69263 rows x 4 columns]"
      ]
     },
     "execution_count": 141,
     "metadata": {},
     "output_type": "execute_result"
    }
   ],
   "source": [
    "df.iloc[0:, [0, 1, 2, 3]]"
   ]
  },
  {
   "cell_type": "markdown",
   "metadata": {},
   "source": [
    "#### Zobrazení \"vybraných sloupců\". Indexem dataframe je list názvů sloupců."
   ]
  },
  {
   "cell_type": "code",
   "execution_count": 82,
   "metadata": {
    "tags": []
   },
   "outputs": [
    {
     "data": {
      "text/html": [
       "<div>\n",
       "<style scoped>\n",
       "    .dataframe tbody tr th:only-of-type {\n",
       "        vertical-align: middle;\n",
       "    }\n",
       "\n",
       "    .dataframe tbody tr th {\n",
       "        vertical-align: top;\n",
       "    }\n",
       "\n",
       "    .dataframe thead th {\n",
       "        text-align: right;\n",
       "    }\n",
       "</style>\n",
       "<table border=\"1\" class=\"dataframe\">\n",
       "  <thead>\n",
       "    <tr style=\"text-align: right;\">\n",
       "      <th></th>\n",
       "      <th>id</th>\n",
       "      <th>subjectName</th>\n",
       "    </tr>\n",
       "  </thead>\n",
       "  <tbody>\n",
       "    <tr>\n",
       "      <th>0</th>\n",
       "      <td>2D2B1C90-F4FF-11EB-9B74-520D00000000</td>\n",
       "      <td>Letecké elektronické systémy II</td>\n",
       "    </tr>\n",
       "    <tr>\n",
       "      <th>1</th>\n",
       "      <td>C65A0170-F4FE-11EB-9B74-520D00000000</td>\n",
       "      <td>Letecké elektronické systémy II</td>\n",
       "    </tr>\n",
       "    <tr>\n",
       "      <th>2</th>\n",
       "      <td>396CC6C0-F4FF-11EB-9B74-520D00000000</td>\n",
       "      <td>Letecké elektronické systémy II</td>\n",
       "    </tr>\n",
       "    <tr>\n",
       "      <th>3</th>\n",
       "      <td>7B7F24E0-F4FF-11EB-9B74-520D00000000</td>\n",
       "      <td>Letecké elektronické systémy II</td>\n",
       "    </tr>\n",
       "    <tr>\n",
       "      <th>4</th>\n",
       "      <td>04E49860-F4FF-11EB-9B74-520D00000000</td>\n",
       "      <td>Letecké elektronické systémy II</td>\n",
       "    </tr>\n",
       "    <tr>\n",
       "      <th>...</th>\n",
       "      <td>...</td>\n",
       "      <td>...</td>\n",
       "    </tr>\n",
       "    <tr>\n",
       "      <th>69258</th>\n",
       "      <td>0750ACE9-323D-4E14-B3CC-ABCDF66F96C2</td>\n",
       "      <td>unknown</td>\n",
       "    </tr>\n",
       "    <tr>\n",
       "      <th>69259</th>\n",
       "      <td>DFB9C331-9C9C-4485-B06F-ACCB19E4757E</td>\n",
       "      <td>unknown</td>\n",
       "    </tr>\n",
       "    <tr>\n",
       "      <th>69260</th>\n",
       "      <td>3292D722-AC2B-49B8-8E48-5B4EFF2084A2</td>\n",
       "      <td>unknown</td>\n",
       "    </tr>\n",
       "    <tr>\n",
       "      <th>69261</th>\n",
       "      <td>89D2BBB0-F582-4B6C-B8DB-D1D7D0F789CA</td>\n",
       "      <td>unknown</td>\n",
       "    </tr>\n",
       "    <tr>\n",
       "      <th>69262</th>\n",
       "      <td>9412A64E-15A4-4206-ABD8-FB59427D159A</td>\n",
       "      <td>unknown</td>\n",
       "    </tr>\n",
       "  </tbody>\n",
       "</table>\n",
       "<p>69263 rows × 2 columns</p>\n",
       "</div>"
      ],
      "text/plain": [
       "                                         id                      subjectName\n",
       "0      2D2B1C90-F4FF-11EB-9B74-520D00000000  Letecké elektronické systémy II\n",
       "1      C65A0170-F4FE-11EB-9B74-520D00000000  Letecké elektronické systémy II\n",
       "2      396CC6C0-F4FF-11EB-9B74-520D00000000  Letecké elektronické systémy II\n",
       "3      7B7F24E0-F4FF-11EB-9B74-520D00000000  Letecké elektronické systémy II\n",
       "4      04E49860-F4FF-11EB-9B74-520D00000000  Letecké elektronické systémy II\n",
       "...                                     ...                              ...\n",
       "69258  0750ACE9-323D-4E14-B3CC-ABCDF66F96C2                          unknown\n",
       "69259  DFB9C331-9C9C-4485-B06F-ACCB19E4757E                          unknown\n",
       "69260  3292D722-AC2B-49B8-8E48-5B4EFF2084A2                          unknown\n",
       "69261  89D2BBB0-F582-4B6C-B8DB-D1D7D0F789CA                          unknown\n",
       "69262  9412A64E-15A4-4206-ABD8-FB59427D159A                          unknown\n",
       "\n",
       "[69263 rows x 2 columns]"
      ]
     },
     "execution_count": 82,
     "metadata": {},
     "output_type": "execute_result"
    }
   ],
   "source": [
    "df[['id', 'subjectName']]"
   ]
  },
  {
   "cell_type": "markdown",
   "metadata": {},
   "source": [
    "#### Vytvoření nového sloupce"
   ]
  },
  {
   "cell_type": "code",
   "execution_count": 142,
   "metadata": {},
   "outputs": [
    {
     "data": {
      "text/html": [
       "<div>\n",
       "<style scoped>\n",
       "    .dataframe tbody tr th:only-of-type {\n",
       "        vertical-align: middle;\n",
       "    }\n",
       "\n",
       "    .dataframe tbody tr th {\n",
       "        vertical-align: top;\n",
       "    }\n",
       "\n",
       "    .dataframe thead th {\n",
       "        text-align: right;\n",
       "    }\n",
       "</style>\n",
       "<table border=\"1\" class=\"dataframe\">\n",
       "  <thead>\n",
       "    <tr style=\"text-align: right;\">\n",
       "      <th></th>\n",
       "      <th>id</th>\n",
       "      <th>subjectName</th>\n",
       "      <th>departmentName</th>\n",
       "      <th>topic</th>\n",
       "      <th>lessonFormName</th>\n",
       "      <th>lessonsCount</th>\n",
       "      <th>groups</th>\n",
       "      <th>teacher</th>\n",
       "      <th>duration</th>\n",
       "      <th>departmentCode</th>\n",
       "    </tr>\n",
       "  </thead>\n",
       "  <tbody>\n",
       "    <tr>\n",
       "      <th>0</th>\n",
       "      <td>2D2B1C90-F4FF-11EB-9B74-520D00000000</td>\n",
       "      <td>Letecké elektronické systémy II</td>\n",
       "      <td>FVT-K206</td>\n",
       "      <td>3. Syntéza kmitočtu</td>\n",
       "      <td>CV</td>\n",
       "      <td>2</td>\n",
       "      <td>23-3LT-AV-C</td>\n",
       "      <td>Němeček, Jiří</td>\n",
       "      <td>90</td>\n",
       "      <td>K206</td>\n",
       "    </tr>\n",
       "    <tr>\n",
       "      <th>1</th>\n",
       "      <td>C65A0170-F4FE-11EB-9B74-520D00000000</td>\n",
       "      <td>Letecké elektronické systémy II</td>\n",
       "      <td>FVT-K206</td>\n",
       "      <td>1. Letecké rádiové přijímače</td>\n",
       "      <td>LAB</td>\n",
       "      <td>2</td>\n",
       "      <td>23-3LT-AV-C</td>\n",
       "      <td>Němeček, Jiří</td>\n",
       "      <td>90</td>\n",
       "      <td>K206</td>\n",
       "    </tr>\n",
       "    <tr>\n",
       "      <th>2</th>\n",
       "      <td>396CC6C0-F4FF-11EB-9B74-520D00000000</td>\n",
       "      <td>Letecké elektronické systémy II</td>\n",
       "      <td>FVT-K206</td>\n",
       "      <td>3. Syntéza kmitočtu</td>\n",
       "      <td>LAB</td>\n",
       "      <td>2</td>\n",
       "      <td>23-3LT-AV-C</td>\n",
       "      <td>Němeček, Jiří</td>\n",
       "      <td>90</td>\n",
       "      <td>K206</td>\n",
       "    </tr>\n",
       "    <tr>\n",
       "      <th>3</th>\n",
       "      <td>7B7F24E0-F4FF-11EB-9B74-520D00000000</td>\n",
       "      <td>Letecké elektronické systémy II</td>\n",
       "      <td>FVT-K206</td>\n",
       "      <td>5. Úhloměrné navigační systémy NDB, VOR, DVOR,...</td>\n",
       "      <td>CV</td>\n",
       "      <td>2</td>\n",
       "      <td>23-3LT-AV-C</td>\n",
       "      <td>Andrle, Miloš</td>\n",
       "      <td>90</td>\n",
       "      <td>K206</td>\n",
       "    </tr>\n",
       "    <tr>\n",
       "      <th>4</th>\n",
       "      <td>04E49860-F4FF-11EB-9B74-520D00000000</td>\n",
       "      <td>Letecké elektronické systémy II</td>\n",
       "      <td>FVT-K206</td>\n",
       "      <td>2. Letecké rádiové vysílače</td>\n",
       "      <td>LAB</td>\n",
       "      <td>2</td>\n",
       "      <td>23-3LT-AV-C</td>\n",
       "      <td>Němeček, Jiří</td>\n",
       "      <td>90</td>\n",
       "      <td>K206</td>\n",
       "    </tr>\n",
       "    <tr>\n",
       "      <th>...</th>\n",
       "      <td>...</td>\n",
       "      <td>...</td>\n",
       "      <td>...</td>\n",
       "      <td>...</td>\n",
       "      <td>...</td>\n",
       "      <td>...</td>\n",
       "      <td>...</td>\n",
       "      <td>...</td>\n",
       "      <td>...</td>\n",
       "      <td>...</td>\n",
       "    </tr>\n",
       "    <tr>\n",
       "      <th>69258</th>\n",
       "      <td>0750ACE9-323D-4E14-B3CC-ABCDF66F96C2</td>\n",
       "      <td>unknown</td>\n",
       "      <td>FVL-K105</td>\n",
       "      <td>Válečné studie</td>\n",
       "      <td>ZK</td>\n",
       "      <td>0</td>\n",
       "      <td>5D, 5DVZS, 5CH, 5MIZ, 5MT, 5PZ, 5ŘFZ, 5ŘLZ, 5V...</td>\n",
       "      <td>Staněk, Jaroslav</td>\n",
       "      <td>0</td>\n",
       "      <td>K105</td>\n",
       "    </tr>\n",
       "    <tr>\n",
       "      <th>69259</th>\n",
       "      <td>DFB9C331-9C9C-4485-B06F-ACCB19E4757E</td>\n",
       "      <td>unknown</td>\n",
       "      <td>FVL-K102</td>\n",
       "      <td>Management</td>\n",
       "      <td>ZK</td>\n",
       "      <td>0</td>\n",
       "      <td>12-5ŘPOS1, 12-5ŘPOS2, 12-5ŘPOS3, 12-5ŘPOS4, 12...</td>\n",
       "      <td>Richter, Jiří</td>\n",
       "      <td>0</td>\n",
       "      <td>K102</td>\n",
       "    </tr>\n",
       "    <tr>\n",
       "      <th>69260</th>\n",
       "      <td>3292D722-AC2B-49B8-8E48-5B4EFF2084A2</td>\n",
       "      <td>unknown</td>\n",
       "      <td>FVT-K217</td>\n",
       "      <td>Základy elektrotechniky</td>\n",
       "      <td>ZK</td>\n",
       "      <td>0</td>\n",
       "      <td>22-3GMOB-C, 22-3LT-C, 22-3TOMO-C, 22-3ZM-C LAB...</td>\n",
       "      <td>Kohl, Zdeněk</td>\n",
       "      <td>0</td>\n",
       "      <td>K217</td>\n",
       "    </tr>\n",
       "    <tr>\n",
       "      <th>69261</th>\n",
       "      <td>89D2BBB0-F582-4B6C-B8DB-D1D7D0F789CA</td>\n",
       "      <td>unknown</td>\n",
       "      <td>FVT-K217</td>\n",
       "      <td>Základy elektrotechniky</td>\n",
       "      <td>ZK</td>\n",
       "      <td>0</td>\n",
       "      <td>22-3GMOB-C, 22-3LT-C, 22-3TOMO-C, 22-3ZM-C LAB...</td>\n",
       "      <td>Kohl, Zdeněk</td>\n",
       "      <td>0</td>\n",
       "      <td>K217</td>\n",
       "    </tr>\n",
       "    <tr>\n",
       "      <th>69262</th>\n",
       "      <td>9412A64E-15A4-4206-ABD8-FB59427D159A</td>\n",
       "      <td>unknown</td>\n",
       "      <td>FVT-K217</td>\n",
       "      <td>Základy elektrotechniky</td>\n",
       "      <td>ZK</td>\n",
       "      <td>0</td>\n",
       "      <td>22-3GMOB-C, 22-3LT-C, 22-3TOMO-C, 22-3ZM-C LAB...</td>\n",
       "      <td>Kohl, Zdeněk</td>\n",
       "      <td>0</td>\n",
       "      <td>K217</td>\n",
       "    </tr>\n",
       "  </tbody>\n",
       "</table>\n",
       "<p>69263 rows × 10 columns</p>\n",
       "</div>"
      ],
      "text/plain": [
       "                                         id                      subjectName  \\\n",
       "0      2D2B1C90-F4FF-11EB-9B74-520D00000000  Letecké elektronické systémy II   \n",
       "1      C65A0170-F4FE-11EB-9B74-520D00000000  Letecké elektronické systémy II   \n",
       "2      396CC6C0-F4FF-11EB-9B74-520D00000000  Letecké elektronické systémy II   \n",
       "3      7B7F24E0-F4FF-11EB-9B74-520D00000000  Letecké elektronické systémy II   \n",
       "4      04E49860-F4FF-11EB-9B74-520D00000000  Letecké elektronické systémy II   \n",
       "...                                     ...                              ...   \n",
       "69258  0750ACE9-323D-4E14-B3CC-ABCDF66F96C2                          unknown   \n",
       "69259  DFB9C331-9C9C-4485-B06F-ACCB19E4757E                          unknown   \n",
       "69260  3292D722-AC2B-49B8-8E48-5B4EFF2084A2                          unknown   \n",
       "69261  89D2BBB0-F582-4B6C-B8DB-D1D7D0F789CA                          unknown   \n",
       "69262  9412A64E-15A4-4206-ABD8-FB59427D159A                          unknown   \n",
       "\n",
       "      departmentName                                              topic  \\\n",
       "0           FVT-K206                               3. Syntéza kmitočtu    \n",
       "1           FVT-K206                       1. Letecké rádiové přijímače   \n",
       "2           FVT-K206                               3. Syntéza kmitočtu    \n",
       "3           FVT-K206  5. Úhloměrné navigační systémy NDB, VOR, DVOR,...   \n",
       "4           FVT-K206                        2. Letecké rádiové vysílače   \n",
       "...              ...                                                ...   \n",
       "69258       FVL-K105                                     Válečné studie   \n",
       "69259       FVL-K102                                         Management   \n",
       "69260       FVT-K217                            Základy elektrotechniky   \n",
       "69261       FVT-K217                            Základy elektrotechniky   \n",
       "69262       FVT-K217                            Základy elektrotechniky   \n",
       "\n",
       "      lessonFormName  lessonsCount  \\\n",
       "0                 CV             2   \n",
       "1                LAB             2   \n",
       "2                LAB             2   \n",
       "3                 CV             2   \n",
       "4                LAB             2   \n",
       "...              ...           ...   \n",
       "69258             ZK             0   \n",
       "69259             ZK             0   \n",
       "69260             ZK             0   \n",
       "69261             ZK             0   \n",
       "69262             ZK             0   \n",
       "\n",
       "                                                  groups           teacher  \\\n",
       "0                                            23-3LT-AV-C     Němeček, Jiří   \n",
       "1                                            23-3LT-AV-C     Němeček, Jiří   \n",
       "2                                            23-3LT-AV-C     Němeček, Jiří   \n",
       "3                                            23-3LT-AV-C     Andrle, Miloš   \n",
       "4                                            23-3LT-AV-C     Němeček, Jiří   \n",
       "...                                                  ...               ...   \n",
       "69258  5D, 5DVZS, 5CH, 5MIZ, 5MT, 5PZ, 5ŘFZ, 5ŘLZ, 5V...  Staněk, Jaroslav   \n",
       "69259  12-5ŘPOS1, 12-5ŘPOS2, 12-5ŘPOS3, 12-5ŘPOS4, 12...     Richter, Jiří   \n",
       "69260  22-3GMOB-C, 22-3LT-C, 22-3TOMO-C, 22-3ZM-C LAB...      Kohl, Zdeněk   \n",
       "69261  22-3GMOB-C, 22-3LT-C, 22-3TOMO-C, 22-3ZM-C LAB...      Kohl, Zdeněk   \n",
       "69262  22-3GMOB-C, 22-3LT-C, 22-3TOMO-C, 22-3ZM-C LAB...      Kohl, Zdeněk   \n",
       "\n",
       "       duration departmentCode  \n",
       "0            90           K206  \n",
       "1            90           K206  \n",
       "2            90           K206  \n",
       "3            90           K206  \n",
       "4            90           K206  \n",
       "...         ...            ...  \n",
       "69258         0           K105  \n",
       "69259         0           K102  \n",
       "69260         0           K217  \n",
       "69261         0           K217  \n",
       "69262         0           K217  \n",
       "\n",
       "[69263 rows x 10 columns]"
      ]
     },
     "execution_count": 142,
     "metadata": {},
     "output_type": "execute_result"
    }
   ],
   "source": [
    "df['duration'] = df['lessonsCount'] * 45\n",
    "df"
   ]
  },
  {
   "cell_type": "code",
   "execution_count": 89,
   "metadata": {},
   "outputs": [
    {
     "data": {
      "text/plain": [
       "pandas.core.series.Series"
      ]
     },
     "execution_count": 89,
     "metadata": {},
     "output_type": "execute_result"
    }
   ],
   "source": [
    "type(df['duration'])"
   ]
  },
  {
   "cell_type": "code",
   "execution_count": 91,
   "metadata": {},
   "outputs": [
    {
     "name": "stdout",
     "output_type": "stream",
     "text": [
      "0 90\n",
      "1 90\n",
      "2 90\n",
      "3 90\n"
     ]
    }
   ],
   "source": [
    "for index, item in enumerate(df['duration']):\n",
    "    print(index, item)\n",
    "    if index > 2:\n",
    "        break"
   ]
  },
  {
   "cell_type": "markdown",
   "metadata": {},
   "source": [
    "#### Uživatelsky definovaná funkce"
   ]
  },
  {
   "cell_type": "code",
   "execution_count": 143,
   "metadata": {},
   "outputs": [
    {
     "data": {
      "text/plain": [
       "0        K206\n",
       "1        K206\n",
       "2        K206\n",
       "3        K206\n",
       "4        K206\n",
       "         ... \n",
       "69258    K105\n",
       "69259    K102\n",
       "69260    K217\n",
       "69261    K217\n",
       "69262    K217\n",
       "Name: departmentCode, Length: 69263, dtype: object"
      ]
     },
     "execution_count": 143,
     "metadata": {},
     "output_type": "execute_result"
    }
   ],
   "source": [
    "def userFunc(pdSeries):\n",
    "    result = []\n",
    "    for item in pdSeries:\n",
    "        result.append(item[4:])\n",
    "    return result\n",
    "\n",
    "df['departmentCode'] = userFunc(df['departmentName'])\n",
    "df['departmentCode']"
   ]
  },
  {
   "cell_type": "code",
   "execution_count": 144,
   "metadata": {},
   "outputs": [
    {
     "data": {
      "text/plain": [
       "0        K206\n",
       "1        K206\n",
       "2        K206\n",
       "3        K206\n",
       "4        K206\n",
       "         ... \n",
       "69258    K105\n",
       "69259    K102\n",
       "69260    K217\n",
       "69261    K217\n",
       "69262    K217\n",
       "Name: departmentCode, Length: 69263, dtype: object"
      ]
     },
     "execution_count": 144,
     "metadata": {},
     "output_type": "execute_result"
    }
   ],
   "source": [
    "df['departmentCode'] = list(map(lambda item: item[4:], df['departmentName']))\n",
    "df['departmentCode']"
   ]
  },
  {
   "cell_type": "code",
   "execution_count": 95,
   "metadata": {},
   "outputs": [
    {
     "data": {
      "text/plain": [
       "0        K206\n",
       "1        K206\n",
       "2        K206\n",
       "3        K206\n",
       "4        K206\n",
       "         ... \n",
       "69258    K105\n",
       "69259    K102\n",
       "69260    K217\n",
       "69261    K217\n",
       "69262    K217\n",
       "Name: departmentCode, Length: 69263, dtype: object"
      ]
     },
     "execution_count": 95,
     "metadata": {},
     "output_type": "execute_result"
    }
   ],
   "source": [
    "df['departmentCode'] = [item[4:] for item in df['departmentName']]\n",
    "df['departmentCode']"
   ]
  },
  {
   "cell_type": "markdown",
   "metadata": {},
   "source": [
    "### Selekce"
   ]
  },
  {
   "cell_type": "markdown",
   "metadata": {},
   "source": [
    "#### Přímý index"
   ]
  },
  {
   "cell_type": "code",
   "execution_count": 113,
   "metadata": {},
   "outputs": [
    {
     "data": {
      "text/html": [
       "<div>\n",
       "<style scoped>\n",
       "    .dataframe tbody tr th:only-of-type {\n",
       "        vertical-align: middle;\n",
       "    }\n",
       "\n",
       "    .dataframe tbody tr th {\n",
       "        vertical-align: top;\n",
       "    }\n",
       "\n",
       "    .dataframe thead th {\n",
       "        text-align: right;\n",
       "    }\n",
       "</style>\n",
       "<table border=\"1\" class=\"dataframe\">\n",
       "  <thead>\n",
       "    <tr style=\"text-align: right;\">\n",
       "      <th></th>\n",
       "      <th>id</th>\n",
       "      <th>subjectName</th>\n",
       "      <th>departmentName</th>\n",
       "      <th>topic</th>\n",
       "      <th>lessonFormName</th>\n",
       "      <th>lessonsCount</th>\n",
       "      <th>groups</th>\n",
       "      <th>teacher</th>\n",
       "      <th>duration</th>\n",
       "      <th>departmentCode</th>\n",
       "    </tr>\n",
       "  </thead>\n",
       "  <tbody>\n",
       "    <tr>\n",
       "      <th>2</th>\n",
       "      <td>396CC6C0-F4FF-11EB-9B74-520D00000000</td>\n",
       "      <td>Letecké elektronické systémy II</td>\n",
       "      <td>FVT-K206</td>\n",
       "      <td>3. Syntéza kmitočtu</td>\n",
       "      <td>LAB</td>\n",
       "      <td>2</td>\n",
       "      <td>23-3LT-AV-C</td>\n",
       "      <td>Němeček, Jiří</td>\n",
       "      <td>90</td>\n",
       "      <td>K206</td>\n",
       "    </tr>\n",
       "  </tbody>\n",
       "</table>\n",
       "</div>"
      ],
      "text/plain": [
       "                                     id                      subjectName  \\\n",
       "2  396CC6C0-F4FF-11EB-9B74-520D00000000  Letecké elektronické systémy II   \n",
       "\n",
       "  departmentName                 topic lessonFormName  lessonsCount  \\\n",
       "2       FVT-K206  3. Syntéza kmitočtu             LAB             2   \n",
       "\n",
       "        groups        teacher  duration departmentCode  \n",
       "2  23-3LT-AV-C  Němeček, Jiří        90           K206  "
      ]
     },
     "execution_count": 113,
     "metadata": {},
     "output_type": "execute_result"
    }
   ],
   "source": [
    "df.loc[[2]]"
   ]
  },
  {
   "cell_type": "code",
   "execution_count": 114,
   "metadata": {},
   "outputs": [
    {
     "data": {
      "text/html": [
       "<div>\n",
       "<style scoped>\n",
       "    .dataframe tbody tr th:only-of-type {\n",
       "        vertical-align: middle;\n",
       "    }\n",
       "\n",
       "    .dataframe tbody tr th {\n",
       "        vertical-align: top;\n",
       "    }\n",
       "\n",
       "    .dataframe thead th {\n",
       "        text-align: right;\n",
       "    }\n",
       "</style>\n",
       "<table border=\"1\" class=\"dataframe\">\n",
       "  <thead>\n",
       "    <tr style=\"text-align: right;\">\n",
       "      <th></th>\n",
       "      <th>id</th>\n",
       "      <th>subjectName</th>\n",
       "      <th>departmentName</th>\n",
       "      <th>topic</th>\n",
       "      <th>lessonFormName</th>\n",
       "      <th>lessonsCount</th>\n",
       "      <th>groups</th>\n",
       "      <th>teacher</th>\n",
       "      <th>duration</th>\n",
       "      <th>departmentCode</th>\n",
       "    </tr>\n",
       "  </thead>\n",
       "  <tbody>\n",
       "    <tr>\n",
       "      <th>2</th>\n",
       "      <td>396CC6C0-F4FF-11EB-9B74-520D00000000</td>\n",
       "      <td>Letecké elektronické systémy II</td>\n",
       "      <td>FVT-K206</td>\n",
       "      <td>3. Syntéza kmitočtu</td>\n",
       "      <td>LAB</td>\n",
       "      <td>2</td>\n",
       "      <td>23-3LT-AV-C</td>\n",
       "      <td>Němeček, Jiří</td>\n",
       "      <td>90</td>\n",
       "      <td>K206</td>\n",
       "    </tr>\n",
       "    <tr>\n",
       "      <th>3</th>\n",
       "      <td>7B7F24E0-F4FF-11EB-9B74-520D00000000</td>\n",
       "      <td>Letecké elektronické systémy II</td>\n",
       "      <td>FVT-K206</td>\n",
       "      <td>5. Úhloměrné navigační systémy NDB, VOR, DVOR,...</td>\n",
       "      <td>CV</td>\n",
       "      <td>2</td>\n",
       "      <td>23-3LT-AV-C</td>\n",
       "      <td>Andrle, Miloš</td>\n",
       "      <td>90</td>\n",
       "      <td>K206</td>\n",
       "    </tr>\n",
       "    <tr>\n",
       "      <th>4</th>\n",
       "      <td>04E49860-F4FF-11EB-9B74-520D00000000</td>\n",
       "      <td>Letecké elektronické systémy II</td>\n",
       "      <td>FVT-K206</td>\n",
       "      <td>2. Letecké rádiové vysílače</td>\n",
       "      <td>LAB</td>\n",
       "      <td>2</td>\n",
       "      <td>23-3LT-AV-C</td>\n",
       "      <td>Němeček, Jiří</td>\n",
       "      <td>90</td>\n",
       "      <td>K206</td>\n",
       "    </tr>\n",
       "    <tr>\n",
       "      <th>5</th>\n",
       "      <td>9A434300-1B6C-11EC-916D-030800000000</td>\n",
       "      <td>unknown</td>\n",
       "      <td>unknown</td>\n",
       "      <td>unknown</td>\n",
       "      <td>unknown</td>\n",
       "      <td>0</td>\n",
       "      <td></td>\n",
       "      <td>Leuchter, Jan</td>\n",
       "      <td>0</td>\n",
       "      <td>own</td>\n",
       "    </tr>\n",
       "    <tr>\n",
       "      <th>6</th>\n",
       "      <td>9A3BF000-1B6C-11EC-916D-030800000000</td>\n",
       "      <td>unknown</td>\n",
       "      <td>unknown</td>\n",
       "      <td>unknown</td>\n",
       "      <td>unknown</td>\n",
       "      <td>0</td>\n",
       "      <td></td>\n",
       "      <td>Leuchter, Jan</td>\n",
       "      <td>0</td>\n",
       "      <td>own</td>\n",
       "    </tr>\n",
       "  </tbody>\n",
       "</table>\n",
       "</div>"
      ],
      "text/plain": [
       "                                     id                      subjectName  \\\n",
       "2  396CC6C0-F4FF-11EB-9B74-520D00000000  Letecké elektronické systémy II   \n",
       "3  7B7F24E0-F4FF-11EB-9B74-520D00000000  Letecké elektronické systémy II   \n",
       "4  04E49860-F4FF-11EB-9B74-520D00000000  Letecké elektronické systémy II   \n",
       "5  9A434300-1B6C-11EC-916D-030800000000                          unknown   \n",
       "6  9A3BF000-1B6C-11EC-916D-030800000000                          unknown   \n",
       "\n",
       "  departmentName                                              topic  \\\n",
       "2       FVT-K206                               3. Syntéza kmitočtu    \n",
       "3       FVT-K206  5. Úhloměrné navigační systémy NDB, VOR, DVOR,...   \n",
       "4       FVT-K206                        2. Letecké rádiové vysílače   \n",
       "5        unknown                                            unknown   \n",
       "6        unknown                                            unknown   \n",
       "\n",
       "  lessonFormName  lessonsCount       groups        teacher  duration  \\\n",
       "2            LAB             2  23-3LT-AV-C  Němeček, Jiří        90   \n",
       "3             CV             2  23-3LT-AV-C  Andrle, Miloš        90   \n",
       "4            LAB             2  23-3LT-AV-C  Němeček, Jiří        90   \n",
       "5        unknown             0               Leuchter, Jan         0   \n",
       "6        unknown             0               Leuchter, Jan         0   \n",
       "\n",
       "  departmentCode  \n",
       "2           K206  \n",
       "3           K206  \n",
       "4           K206  \n",
       "5            own  \n",
       "6            own  "
      ]
     },
     "execution_count": 114,
     "metadata": {},
     "output_type": "execute_result"
    }
   ],
   "source": [
    "df.loc[range(2, 7)]"
   ]
  },
  {
   "cell_type": "markdown",
   "metadata": {},
   "source": [
    "#### Podmínka"
   ]
  },
  {
   "cell_type": "markdown",
   "metadata": {},
   "source": [
    "Všimněte si přímé komparace vybraného sloupce s výrazem"
   ]
  },
  {
   "cell_type": "code",
   "execution_count": 84,
   "metadata": {},
   "outputs": [
    {
     "data": {
      "text/plain": [
       "0         True\n",
       "1         True\n",
       "2         True\n",
       "3         True\n",
       "4         True\n",
       "         ...  \n",
       "69258    False\n",
       "69259    False\n",
       "69260    False\n",
       "69261    False\n",
       "69262    False\n",
       "Name: lessonsCount, Length: 69263, dtype: bool"
      ]
     },
     "execution_count": 84,
     "metadata": {},
     "output_type": "execute_result"
    }
   ],
   "source": [
    "df['lessonsCount'] > 0"
   ]
  },
  {
   "cell_type": "markdown",
   "metadata": {},
   "source": [
    "Zobrazení vybraných řádků, parametrem je vektor logických proměnných."
   ]
  },
  {
   "cell_type": "code",
   "execution_count": 147,
   "metadata": {},
   "outputs": [
    {
     "data": {
      "text/html": [
       "<div>\n",
       "<style scoped>\n",
       "    .dataframe tbody tr th:only-of-type {\n",
       "        vertical-align: middle;\n",
       "    }\n",
       "\n",
       "    .dataframe tbody tr th {\n",
       "        vertical-align: top;\n",
       "    }\n",
       "\n",
       "    .dataframe thead th {\n",
       "        text-align: right;\n",
       "    }\n",
       "</style>\n",
       "<table border=\"1\" class=\"dataframe\">\n",
       "  <thead>\n",
       "    <tr style=\"text-align: right;\">\n",
       "      <th></th>\n",
       "      <th>id</th>\n",
       "      <th>subjectName</th>\n",
       "      <th>departmentName</th>\n",
       "      <th>topic</th>\n",
       "      <th>lessonFormName</th>\n",
       "      <th>lessonsCount</th>\n",
       "      <th>groups</th>\n",
       "      <th>teacher</th>\n",
       "      <th>duration</th>\n",
       "      <th>departmentCode</th>\n",
       "    </tr>\n",
       "  </thead>\n",
       "  <tbody>\n",
       "    <tr>\n",
       "      <th>0</th>\n",
       "      <td>2D2B1C90-F4FF-11EB-9B74-520D00000000</td>\n",
       "      <td>Letecké elektronické systémy II</td>\n",
       "      <td>FVT-K206</td>\n",
       "      <td>3. Syntéza kmitočtu</td>\n",
       "      <td>CV</td>\n",
       "      <td>2</td>\n",
       "      <td>23-3LT-AV-C</td>\n",
       "      <td>Němeček, Jiří</td>\n",
       "      <td>90</td>\n",
       "      <td>K206</td>\n",
       "    </tr>\n",
       "    <tr>\n",
       "      <th>1</th>\n",
       "      <td>C65A0170-F4FE-11EB-9B74-520D00000000</td>\n",
       "      <td>Letecké elektronické systémy II</td>\n",
       "      <td>FVT-K206</td>\n",
       "      <td>1. Letecké rádiové přijímače</td>\n",
       "      <td>LAB</td>\n",
       "      <td>2</td>\n",
       "      <td>23-3LT-AV-C</td>\n",
       "      <td>Němeček, Jiří</td>\n",
       "      <td>90</td>\n",
       "      <td>K206</td>\n",
       "    </tr>\n",
       "    <tr>\n",
       "      <th>2</th>\n",
       "      <td>396CC6C0-F4FF-11EB-9B74-520D00000000</td>\n",
       "      <td>Letecké elektronické systémy II</td>\n",
       "      <td>FVT-K206</td>\n",
       "      <td>3. Syntéza kmitočtu</td>\n",
       "      <td>LAB</td>\n",
       "      <td>2</td>\n",
       "      <td>23-3LT-AV-C</td>\n",
       "      <td>Němeček, Jiří</td>\n",
       "      <td>90</td>\n",
       "      <td>K206</td>\n",
       "    </tr>\n",
       "    <tr>\n",
       "      <th>3</th>\n",
       "      <td>7B7F24E0-F4FF-11EB-9B74-520D00000000</td>\n",
       "      <td>Letecké elektronické systémy II</td>\n",
       "      <td>FVT-K206</td>\n",
       "      <td>5. Úhloměrné navigační systémy NDB, VOR, DVOR,...</td>\n",
       "      <td>CV</td>\n",
       "      <td>2</td>\n",
       "      <td>23-3LT-AV-C</td>\n",
       "      <td>Andrle, Miloš</td>\n",
       "      <td>90</td>\n",
       "      <td>K206</td>\n",
       "    </tr>\n",
       "    <tr>\n",
       "      <th>4</th>\n",
       "      <td>04E49860-F4FF-11EB-9B74-520D00000000</td>\n",
       "      <td>Letecké elektronické systémy II</td>\n",
       "      <td>FVT-K206</td>\n",
       "      <td>2. Letecké rádiové vysílače</td>\n",
       "      <td>LAB</td>\n",
       "      <td>2</td>\n",
       "      <td>23-3LT-AV-C</td>\n",
       "      <td>Němeček, Jiří</td>\n",
       "      <td>90</td>\n",
       "      <td>K206</td>\n",
       "    </tr>\n",
       "    <tr>\n",
       "      <th>...</th>\n",
       "      <td>...</td>\n",
       "      <td>...</td>\n",
       "      <td>...</td>\n",
       "      <td>...</td>\n",
       "      <td>...</td>\n",
       "      <td>...</td>\n",
       "      <td>...</td>\n",
       "      <td>...</td>\n",
       "      <td>...</td>\n",
       "      <td>...</td>\n",
       "    </tr>\n",
       "    <tr>\n",
       "      <th>69246</th>\n",
       "      <td>84ECDED0-0B09-11EC-8109-E50100000000</td>\n",
       "      <td>Pravděpodobnost a statistika</td>\n",
       "      <td>FVL-K101</td>\n",
       "      <td>14. Aplikace statistických metod v bezpečnostn...</td>\n",
       "      <td>CV</td>\n",
       "      <td>2</td>\n",
       "      <td>12-5ŘPOS2</td>\n",
       "      <td>Lacinová, Veronika</td>\n",
       "      <td>90</td>\n",
       "      <td>K101</td>\n",
       "    </tr>\n",
       "    <tr>\n",
       "      <th>69247</th>\n",
       "      <td>E579D940-0B06-11EC-8109-E50100000000</td>\n",
       "      <td>Pravděpodobnost a statistika</td>\n",
       "      <td>FVL-K101</td>\n",
       "      <td>2. Popisná statistika</td>\n",
       "      <td>CV</td>\n",
       "      <td>2</td>\n",
       "      <td>12-5ŘPOS2</td>\n",
       "      <td>Lacinová, Veronika</td>\n",
       "      <td>90</td>\n",
       "      <td>K101</td>\n",
       "    </tr>\n",
       "    <tr>\n",
       "      <th>69248</th>\n",
       "      <td>AE5220D0-0B06-11EC-8109-E50100000000</td>\n",
       "      <td>Pravděpodobnost a statistika</td>\n",
       "      <td>FVL-K101</td>\n",
       "      <td>1. Základní statistické pojmy</td>\n",
       "      <td>CV</td>\n",
       "      <td>2</td>\n",
       "      <td>12-5ŘPOS2</td>\n",
       "      <td>Lacinová, Veronika</td>\n",
       "      <td>90</td>\n",
       "      <td>K101</td>\n",
       "    </tr>\n",
       "    <tr>\n",
       "      <th>69249</th>\n",
       "      <td>57EA4410-0B07-11EC-8109-E50100000000</td>\n",
       "      <td>Pravděpodobnost a statistika</td>\n",
       "      <td>FVL-K101</td>\n",
       "      <td>4. Pravděpodobnost – 2. část (podmíněná pst, p...</td>\n",
       "      <td>CV</td>\n",
       "      <td>2</td>\n",
       "      <td>12-5ŘPOS2</td>\n",
       "      <td>Lacinová, Veronika</td>\n",
       "      <td>90</td>\n",
       "      <td>K101</td>\n",
       "    </tr>\n",
       "    <tr>\n",
       "      <th>69250</th>\n",
       "      <td>6ACAEB10-0B08-11EC-8109-E50100000000</td>\n",
       "      <td>Pravděpodobnost a statistika</td>\n",
       "      <td>FVL-K101</td>\n",
       "      <td>9. Bodové odhady charakteristik základního sou...</td>\n",
       "      <td>CV</td>\n",
       "      <td>2</td>\n",
       "      <td>12-5ŘPOS2</td>\n",
       "      <td>Lacinová, Veronika</td>\n",
       "      <td>90</td>\n",
       "      <td>K101</td>\n",
       "    </tr>\n",
       "  </tbody>\n",
       "</table>\n",
       "<p>67095 rows × 10 columns</p>\n",
       "</div>"
      ],
      "text/plain": [
       "                                         id                      subjectName  \\\n",
       "0      2D2B1C90-F4FF-11EB-9B74-520D00000000  Letecké elektronické systémy II   \n",
       "1      C65A0170-F4FE-11EB-9B74-520D00000000  Letecké elektronické systémy II   \n",
       "2      396CC6C0-F4FF-11EB-9B74-520D00000000  Letecké elektronické systémy II   \n",
       "3      7B7F24E0-F4FF-11EB-9B74-520D00000000  Letecké elektronické systémy II   \n",
       "4      04E49860-F4FF-11EB-9B74-520D00000000  Letecké elektronické systémy II   \n",
       "...                                     ...                              ...   \n",
       "69246  84ECDED0-0B09-11EC-8109-E50100000000     Pravděpodobnost a statistika   \n",
       "69247  E579D940-0B06-11EC-8109-E50100000000     Pravděpodobnost a statistika   \n",
       "69248  AE5220D0-0B06-11EC-8109-E50100000000     Pravděpodobnost a statistika   \n",
       "69249  57EA4410-0B07-11EC-8109-E50100000000     Pravděpodobnost a statistika   \n",
       "69250  6ACAEB10-0B08-11EC-8109-E50100000000     Pravděpodobnost a statistika   \n",
       "\n",
       "      departmentName                                              topic  \\\n",
       "0           FVT-K206                               3. Syntéza kmitočtu    \n",
       "1           FVT-K206                       1. Letecké rádiové přijímače   \n",
       "2           FVT-K206                               3. Syntéza kmitočtu    \n",
       "3           FVT-K206  5. Úhloměrné navigační systémy NDB, VOR, DVOR,...   \n",
       "4           FVT-K206                        2. Letecké rádiové vysílače   \n",
       "...              ...                                                ...   \n",
       "69246       FVL-K101  14. Aplikace statistických metod v bezpečnostn...   \n",
       "69247       FVL-K101                              2. Popisná statistika   \n",
       "69248       FVL-K101                     1. Základní statistické pojmy    \n",
       "69249       FVL-K101  4. Pravděpodobnost – 2. část (podmíněná pst, p...   \n",
       "69250       FVL-K101  9. Bodové odhady charakteristik základního sou...   \n",
       "\n",
       "      lessonFormName  lessonsCount       groups             teacher  duration  \\\n",
       "0                 CV             2  23-3LT-AV-C       Němeček, Jiří        90   \n",
       "1                LAB             2  23-3LT-AV-C       Němeček, Jiří        90   \n",
       "2                LAB             2  23-3LT-AV-C       Němeček, Jiří        90   \n",
       "3                 CV             2  23-3LT-AV-C       Andrle, Miloš        90   \n",
       "4                LAB             2  23-3LT-AV-C       Němeček, Jiří        90   \n",
       "...              ...           ...          ...                 ...       ...   \n",
       "69246             CV             2    12-5ŘPOS2  Lacinová, Veronika        90   \n",
       "69247             CV             2    12-5ŘPOS2  Lacinová, Veronika        90   \n",
       "69248             CV             2    12-5ŘPOS2  Lacinová, Veronika        90   \n",
       "69249             CV             2    12-5ŘPOS2  Lacinová, Veronika        90   \n",
       "69250             CV             2    12-5ŘPOS2  Lacinová, Veronika        90   \n",
       "\n",
       "      departmentCode  \n",
       "0               K206  \n",
       "1               K206  \n",
       "2               K206  \n",
       "3               K206  \n",
       "4               K206  \n",
       "...              ...  \n",
       "69246           K101  \n",
       "69247           K101  \n",
       "69248           K101  \n",
       "69249           K101  \n",
       "69250           K101  \n",
       "\n",
       "[67095 rows x 10 columns]"
      ]
     },
     "execution_count": 147,
     "metadata": {},
     "output_type": "execute_result"
    }
   ],
   "source": [
    "df[df['lessonsCount'] > 0]"
   ]
  },
  {
   "cell_type": "markdown",
   "metadata": {},
   "source": [
    "#### Uživatelsky definovaná funkce"
   ]
  },
  {
   "cell_type": "markdown",
   "metadata": {},
   "source": [
    "### Pivot Table"
   ]
  },
  {
   "cell_type": "code",
   "execution_count": 64,
   "metadata": {},
   "outputs": [
    {
     "data": {
      "text/html": [
       "<div>\n",
       "<style scoped>\n",
       "    .dataframe tbody tr th:only-of-type {\n",
       "        vertical-align: middle;\n",
       "    }\n",
       "\n",
       "    .dataframe tbody tr th {\n",
       "        vertical-align: top;\n",
       "    }\n",
       "\n",
       "    .dataframe thead th {\n",
       "        text-align: right;\n",
       "    }\n",
       "</style>\n",
       "<table border=\"1\" class=\"dataframe\">\n",
       "  <thead>\n",
       "    <tr style=\"text-align: right;\">\n",
       "      <th>lessonFormName</th>\n",
       "      <th>CV</th>\n",
       "      <th>EX</th>\n",
       "      <th>J</th>\n",
       "      <th>KOL</th>\n",
       "      <th>KON</th>\n",
       "      <th>KRZ</th>\n",
       "      <th>LAB</th>\n",
       "      <th>P</th>\n",
       "      <th>PV</th>\n",
       "      <th>PX</th>\n",
       "      <th>SEM</th>\n",
       "      <th>SMP</th>\n",
       "      <th>STŽ</th>\n",
       "      <th>SZK</th>\n",
       "      <th>TER</th>\n",
       "      <th>ZK</th>\n",
       "      <th>unknown</th>\n",
       "    </tr>\n",
       "    <tr>\n",
       "      <th>departmentName</th>\n",
       "      <th></th>\n",
       "      <th></th>\n",
       "      <th></th>\n",
       "      <th></th>\n",
       "      <th></th>\n",
       "      <th></th>\n",
       "      <th></th>\n",
       "      <th></th>\n",
       "      <th></th>\n",
       "      <th></th>\n",
       "      <th></th>\n",
       "      <th></th>\n",
       "      <th></th>\n",
       "      <th></th>\n",
       "      <th></th>\n",
       "      <th></th>\n",
       "      <th></th>\n",
       "    </tr>\n",
       "  </thead>\n",
       "  <tbody>\n",
       "    <tr>\n",
       "      <th>CBVSS</th>\n",
       "      <td>2966.0</td>\n",
       "      <td></td>\n",
       "      <td>2.0</td>\n",
       "      <td></td>\n",
       "      <td>5462.0</td>\n",
       "      <td></td>\n",
       "      <td>266.0</td>\n",
       "      <td>1798.0</td>\n",
       "      <td></td>\n",
       "      <td></td>\n",
       "      <td>3748.0</td>\n",
       "      <td>157.0</td>\n",
       "      <td></td>\n",
       "      <td></td>\n",
       "      <td>144.0</td>\n",
       "      <td>0.0</td>\n",
       "      <td></td>\n",
       "    </tr>\n",
       "    <tr>\n",
       "      <th>CJV</th>\n",
       "      <td>219344.0</td>\n",
       "      <td></td>\n",
       "      <td></td>\n",
       "      <td></td>\n",
       "      <td></td>\n",
       "      <td></td>\n",
       "      <td></td>\n",
       "      <td>96.0</td>\n",
       "      <td></td>\n",
       "      <td></td>\n",
       "      <td>80.0</td>\n",
       "      <td></td>\n",
       "      <td></td>\n",
       "      <td></td>\n",
       "      <td></td>\n",
       "      <td></td>\n",
       "      <td></td>\n",
       "    </tr>\n",
       "    <tr>\n",
       "      <th>CTVS</th>\n",
       "      <td>1195152.0</td>\n",
       "      <td></td>\n",
       "      <td></td>\n",
       "      <td></td>\n",
       "      <td></td>\n",
       "      <td></td>\n",
       "      <td></td>\n",
       "      <td>848.0</td>\n",
       "      <td>109850.0</td>\n",
       "      <td></td>\n",
       "      <td></td>\n",
       "      <td></td>\n",
       "      <td></td>\n",
       "      <td></td>\n",
       "      <td></td>\n",
       "      <td>0.0</td>\n",
       "      <td></td>\n",
       "    </tr>\n",
       "    <tr>\n",
       "      <th>FVL-K101</th>\n",
       "      <td>458.0</td>\n",
       "      <td></td>\n",
       "      <td></td>\n",
       "      <td></td>\n",
       "      <td></td>\n",
       "      <td></td>\n",
       "      <td></td>\n",
       "      <td>618.0</td>\n",
       "      <td></td>\n",
       "      <td></td>\n",
       "      <td>34.0</td>\n",
       "      <td></td>\n",
       "      <td></td>\n",
       "      <td></td>\n",
       "      <td></td>\n",
       "      <td>0.0</td>\n",
       "      <td></td>\n",
       "    </tr>\n",
       "    <tr>\n",
       "      <th>FVL-K102</th>\n",
       "      <td>1390.0</td>\n",
       "      <td></td>\n",
       "      <td></td>\n",
       "      <td></td>\n",
       "      <td></td>\n",
       "      <td></td>\n",
       "      <td></td>\n",
       "      <td>1160.0</td>\n",
       "      <td>6400.0</td>\n",
       "      <td></td>\n",
       "      <td>1105.0</td>\n",
       "      <td></td>\n",
       "      <td></td>\n",
       "      <td>0.0</td>\n",
       "      <td></td>\n",
       "      <td>0.0</td>\n",
       "      <td></td>\n",
       "    </tr>\n",
       "    <tr>\n",
       "      <th>FVL-K104</th>\n",
       "      <td>1038.0</td>\n",
       "      <td></td>\n",
       "      <td></td>\n",
       "      <td></td>\n",
       "      <td></td>\n",
       "      <td></td>\n",
       "      <td></td>\n",
       "      <td>659.0</td>\n",
       "      <td></td>\n",
       "      <td></td>\n",
       "      <td>1358.0</td>\n",
       "      <td></td>\n",
       "      <td></td>\n",
       "      <td></td>\n",
       "      <td></td>\n",
       "      <td></td>\n",
       "      <td></td>\n",
       "    </tr>\n",
       "    <tr>\n",
       "      <th>FVL-K105</th>\n",
       "      <td>470.0</td>\n",
       "      <td>82.0</td>\n",
       "      <td></td>\n",
       "      <td></td>\n",
       "      <td></td>\n",
       "      <td></td>\n",
       "      <td></td>\n",
       "      <td>3318.0</td>\n",
       "      <td></td>\n",
       "      <td>12872.0</td>\n",
       "      <td>1840.0</td>\n",
       "      <td></td>\n",
       "      <td></td>\n",
       "      <td></td>\n",
       "      <td>270.0</td>\n",
       "      <td>0.0</td>\n",
       "      <td></td>\n",
       "    </tr>\n",
       "    <tr>\n",
       "      <th>FVL-K107</th>\n",
       "      <td>445.0</td>\n",
       "      <td></td>\n",
       "      <td></td>\n",
       "      <td></td>\n",
       "      <td></td>\n",
       "      <td></td>\n",
       "      <td></td>\n",
       "      <td>364.0</td>\n",
       "      <td>5360.0</td>\n",
       "      <td></td>\n",
       "      <td>22.0</td>\n",
       "      <td></td>\n",
       "      <td></td>\n",
       "      <td>0.0</td>\n",
       "      <td></td>\n",
       "      <td></td>\n",
       "      <td></td>\n",
       "    </tr>\n",
       "    <tr>\n",
       "      <th>FVL-K108</th>\n",
       "      <td>268.0</td>\n",
       "      <td></td>\n",
       "      <td></td>\n",
       "      <td></td>\n",
       "      <td></td>\n",
       "      <td></td>\n",
       "      <td></td>\n",
       "      <td>120.0</td>\n",
       "      <td>5367.0</td>\n",
       "      <td></td>\n",
       "      <td>96.0</td>\n",
       "      <td></td>\n",
       "      <td></td>\n",
       "      <td></td>\n",
       "      <td></td>\n",
       "      <td>0.0</td>\n",
       "      <td></td>\n",
       "    </tr>\n",
       "    <tr>\n",
       "      <th>FVL-K109</th>\n",
       "      <td>906.0</td>\n",
       "      <td>1832.0</td>\n",
       "      <td></td>\n",
       "      <td></td>\n",
       "      <td></td>\n",
       "      <td>102.0</td>\n",
       "      <td></td>\n",
       "      <td>306.0</td>\n",
       "      <td>1300.0</td>\n",
       "      <td></td>\n",
       "      <td>66.0</td>\n",
       "      <td></td>\n",
       "      <td>648.0</td>\n",
       "      <td>0.0</td>\n",
       "      <td></td>\n",
       "      <td></td>\n",
       "      <td></td>\n",
       "    </tr>\n",
       "    <tr>\n",
       "      <th>FVL-K110</th>\n",
       "      <td>356.0</td>\n",
       "      <td>64.0</td>\n",
       "      <td></td>\n",
       "      <td></td>\n",
       "      <td></td>\n",
       "      <td></td>\n",
       "      <td></td>\n",
       "      <td>860.0</td>\n",
       "      <td>1660.0</td>\n",
       "      <td></td>\n",
       "      <td>144.0</td>\n",
       "      <td></td>\n",
       "      <td></td>\n",
       "      <td>0.0</td>\n",
       "      <td>6696.0</td>\n",
       "      <td>0.0</td>\n",
       "      <td></td>\n",
       "    </tr>\n",
       "    <tr>\n",
       "      <th>FVL-K111</th>\n",
       "      <td>546.0</td>\n",
       "      <td>32.0</td>\n",
       "      <td></td>\n",
       "      <td></td>\n",
       "      <td></td>\n",
       "      <td></td>\n",
       "      <td>8.0</td>\n",
       "      <td>858.0</td>\n",
       "      <td>1124.0</td>\n",
       "      <td></td>\n",
       "      <td>138.0</td>\n",
       "      <td></td>\n",
       "      <td></td>\n",
       "      <td>0.0</td>\n",
       "      <td></td>\n",
       "      <td>0.0</td>\n",
       "      <td></td>\n",
       "    </tr>\n",
       "    <tr>\n",
       "      <th>FVT-K201</th>\n",
       "      <td>1394.0</td>\n",
       "      <td>60.0</td>\n",
       "      <td></td>\n",
       "      <td></td>\n",
       "      <td></td>\n",
       "      <td></td>\n",
       "      <td>214.0</td>\n",
       "      <td>1708.0</td>\n",
       "      <td>6003.0</td>\n",
       "      <td></td>\n",
       "      <td>122.0</td>\n",
       "      <td></td>\n",
       "      <td></td>\n",
       "      <td>0.0</td>\n",
       "      <td></td>\n",
       "      <td>0.0</td>\n",
       "      <td></td>\n",
       "    </tr>\n",
       "    <tr>\n",
       "      <th>FVT-K202</th>\n",
       "      <td>270.0</td>\n",
       "      <td>2654.0</td>\n",
       "      <td></td>\n",
       "      <td></td>\n",
       "      <td></td>\n",
       "      <td></td>\n",
       "      <td>438.0</td>\n",
       "      <td>949.0</td>\n",
       "      <td>1050.0</td>\n",
       "      <td>630.0</td>\n",
       "      <td>176.0</td>\n",
       "      <td></td>\n",
       "      <td></td>\n",
       "      <td>0.0</td>\n",
       "      <td></td>\n",
       "      <td>0.0</td>\n",
       "      <td></td>\n",
       "    </tr>\n",
       "    <tr>\n",
       "      <th>FVT-K203</th>\n",
       "      <td>154.0</td>\n",
       "      <td></td>\n",
       "      <td></td>\n",
       "      <td></td>\n",
       "      <td></td>\n",
       "      <td></td>\n",
       "      <td>118.0</td>\n",
       "      <td>426.0</td>\n",
       "      <td>7006.0</td>\n",
       "      <td>430.0</td>\n",
       "      <td>158.0</td>\n",
       "      <td></td>\n",
       "      <td></td>\n",
       "      <td>0.0</td>\n",
       "      <td></td>\n",
       "      <td>0.0</td>\n",
       "      <td></td>\n",
       "    </tr>\n",
       "    <tr>\n",
       "      <th>FVT-K205</th>\n",
       "      <td>220.0</td>\n",
       "      <td>70.0</td>\n",
       "      <td></td>\n",
       "      <td></td>\n",
       "      <td></td>\n",
       "      <td></td>\n",
       "      <td></td>\n",
       "      <td>1630.0</td>\n",
       "      <td>6372.0</td>\n",
       "      <td>90.0</td>\n",
       "      <td>74.0</td>\n",
       "      <td></td>\n",
       "      <td></td>\n",
       "      <td></td>\n",
       "      <td></td>\n",
       "      <td>0.0</td>\n",
       "      <td></td>\n",
       "    </tr>\n",
       "    <tr>\n",
       "      <th>FVT-K206</th>\n",
       "      <td>374.0</td>\n",
       "      <td>146.0</td>\n",
       "      <td></td>\n",
       "      <td></td>\n",
       "      <td></td>\n",
       "      <td></td>\n",
       "      <td>146.0</td>\n",
       "      <td>1962.0</td>\n",
       "      <td>6238.0</td>\n",
       "      <td></td>\n",
       "      <td>238.0</td>\n",
       "      <td>6.0</td>\n",
       "      <td></td>\n",
       "      <td>0.0</td>\n",
       "      <td></td>\n",
       "      <td>0.0</td>\n",
       "      <td></td>\n",
       "    </tr>\n",
       "    <tr>\n",
       "      <th>FVT-K207</th>\n",
       "      <td>162.0</td>\n",
       "      <td>838.0</td>\n",
       "      <td></td>\n",
       "      <td></td>\n",
       "      <td>32.0</td>\n",
       "      <td></td>\n",
       "      <td>104.0</td>\n",
       "      <td>648.0</td>\n",
       "      <td>568.0</td>\n",
       "      <td></td>\n",
       "      <td>36.0</td>\n",
       "      <td></td>\n",
       "      <td></td>\n",
       "      <td>0.0</td>\n",
       "      <td></td>\n",
       "      <td></td>\n",
       "      <td></td>\n",
       "    </tr>\n",
       "    <tr>\n",
       "      <th>FVT-K208</th>\n",
       "      <td>300.0</td>\n",
       "      <td></td>\n",
       "      <td></td>\n",
       "      <td>8.0</td>\n",
       "      <td></td>\n",
       "      <td></td>\n",
       "      <td>56.0</td>\n",
       "      <td>410.0</td>\n",
       "      <td>1625.0</td>\n",
       "      <td>30.0</td>\n",
       "      <td>244.0</td>\n",
       "      <td></td>\n",
       "      <td></td>\n",
       "      <td></td>\n",
       "      <td></td>\n",
       "      <td>0.0</td>\n",
       "      <td></td>\n",
       "    </tr>\n",
       "    <tr>\n",
       "      <th>FVT-K209</th>\n",
       "      <td>412.0</td>\n",
       "      <td>18.0</td>\n",
       "      <td></td>\n",
       "      <td></td>\n",
       "      <td></td>\n",
       "      <td></td>\n",
       "      <td>5792.0</td>\n",
       "      <td>2695.0</td>\n",
       "      <td>2850.0</td>\n",
       "      <td></td>\n",
       "      <td>140.0</td>\n",
       "      <td>200.0</td>\n",
       "      <td></td>\n",
       "      <td>0.0</td>\n",
       "      <td></td>\n",
       "      <td>0.0</td>\n",
       "      <td></td>\n",
       "    </tr>\n",
       "    <tr>\n",
       "      <th>FVT-K210</th>\n",
       "      <td>956.0</td>\n",
       "      <td></td>\n",
       "      <td></td>\n",
       "      <td></td>\n",
       "      <td></td>\n",
       "      <td></td>\n",
       "      <td>70.0</td>\n",
       "      <td>936.0</td>\n",
       "      <td>6902.0</td>\n",
       "      <td></td>\n",
       "      <td>104.0</td>\n",
       "      <td></td>\n",
       "      <td></td>\n",
       "      <td>0.0</td>\n",
       "      <td>100.0</td>\n",
       "      <td>0.0</td>\n",
       "      <td></td>\n",
       "    </tr>\n",
       "    <tr>\n",
       "      <th>FVT-K211</th>\n",
       "      <td>130.0</td>\n",
       "      <td></td>\n",
       "      <td>6.0</td>\n",
       "      <td></td>\n",
       "      <td></td>\n",
       "      <td></td>\n",
       "      <td>24.0</td>\n",
       "      <td>88.0</td>\n",
       "      <td></td>\n",
       "      <td></td>\n",
       "      <td></td>\n",
       "      <td></td>\n",
       "      <td></td>\n",
       "      <td></td>\n",
       "      <td></td>\n",
       "      <td></td>\n",
       "      <td></td>\n",
       "    </tr>\n",
       "    <tr>\n",
       "      <th>FVT-K215</th>\n",
       "      <td>2428.0</td>\n",
       "      <td></td>\n",
       "      <td></td>\n",
       "      <td></td>\n",
       "      <td></td>\n",
       "      <td></td>\n",
       "      <td>926.0</td>\n",
       "      <td>2440.0</td>\n",
       "      <td></td>\n",
       "      <td></td>\n",
       "      <td></td>\n",
       "      <td></td>\n",
       "      <td></td>\n",
       "      <td></td>\n",
       "      <td></td>\n",
       "      <td>0.0</td>\n",
       "      <td></td>\n",
       "    </tr>\n",
       "    <tr>\n",
       "      <th>FVT-K216</th>\n",
       "      <td>692.0</td>\n",
       "      <td></td>\n",
       "      <td></td>\n",
       "      <td></td>\n",
       "      <td></td>\n",
       "      <td></td>\n",
       "      <td>80.0</td>\n",
       "      <td>726.0</td>\n",
       "      <td></td>\n",
       "      <td></td>\n",
       "      <td>48.0</td>\n",
       "      <td></td>\n",
       "      <td></td>\n",
       "      <td>0.0</td>\n",
       "      <td></td>\n",
       "      <td>0.0</td>\n",
       "      <td></td>\n",
       "    </tr>\n",
       "    <tr>\n",
       "      <th>FVT-K217</th>\n",
       "      <td>442.0</td>\n",
       "      <td></td>\n",
       "      <td></td>\n",
       "      <td></td>\n",
       "      <td></td>\n",
       "      <td></td>\n",
       "      <td>1028.0</td>\n",
       "      <td>1558.0</td>\n",
       "      <td></td>\n",
       "      <td></td>\n",
       "      <td></td>\n",
       "      <td></td>\n",
       "      <td></td>\n",
       "      <td></td>\n",
       "      <td></td>\n",
       "      <td>0.0</td>\n",
       "      <td></td>\n",
       "    </tr>\n",
       "    <tr>\n",
       "      <th>FVZ-K301</th>\n",
       "      <td></td>\n",
       "      <td></td>\n",
       "      <td></td>\n",
       "      <td></td>\n",
       "      <td></td>\n",
       "      <td></td>\n",
       "      <td></td>\n",
       "      <td></td>\n",
       "      <td></td>\n",
       "      <td></td>\n",
       "      <td>18.0</td>\n",
       "      <td></td>\n",
       "      <td></td>\n",
       "      <td>0.0</td>\n",
       "      <td></td>\n",
       "      <td>0.0</td>\n",
       "      <td></td>\n",
       "    </tr>\n",
       "    <tr>\n",
       "      <th>FVZ-K302</th>\n",
       "      <td>97.0</td>\n",
       "      <td></td>\n",
       "      <td></td>\n",
       "      <td></td>\n",
       "      <td></td>\n",
       "      <td></td>\n",
       "      <td></td>\n",
       "      <td>328.0</td>\n",
       "      <td></td>\n",
       "      <td></td>\n",
       "      <td>52.0</td>\n",
       "      <td></td>\n",
       "      <td></td>\n",
       "      <td></td>\n",
       "      <td>188.0</td>\n",
       "      <td>0.0</td>\n",
       "      <td></td>\n",
       "    </tr>\n",
       "    <tr>\n",
       "      <th>FVZ-K303</th>\n",
       "      <td>54.0</td>\n",
       "      <td></td>\n",
       "      <td></td>\n",
       "      <td></td>\n",
       "      <td></td>\n",
       "      <td></td>\n",
       "      <td></td>\n",
       "      <td>51.0</td>\n",
       "      <td></td>\n",
       "      <td></td>\n",
       "      <td>99.0</td>\n",
       "      <td></td>\n",
       "      <td></td>\n",
       "      <td></td>\n",
       "      <td></td>\n",
       "      <td>0.0</td>\n",
       "      <td></td>\n",
       "    </tr>\n",
       "    <tr>\n",
       "      <th>FVZ-K304</th>\n",
       "      <td>60.0</td>\n",
       "      <td></td>\n",
       "      <td></td>\n",
       "      <td></td>\n",
       "      <td></td>\n",
       "      <td></td>\n",
       "      <td></td>\n",
       "      <td>80.0</td>\n",
       "      <td></td>\n",
       "      <td></td>\n",
       "      <td>18.0</td>\n",
       "      <td></td>\n",
       "      <td></td>\n",
       "      <td>0.0</td>\n",
       "      <td></td>\n",
       "      <td>0.0</td>\n",
       "      <td></td>\n",
       "    </tr>\n",
       "    <tr>\n",
       "      <th>FVZ-K305</th>\n",
       "      <td></td>\n",
       "      <td></td>\n",
       "      <td></td>\n",
       "      <td></td>\n",
       "      <td></td>\n",
       "      <td></td>\n",
       "      <td></td>\n",
       "      <td></td>\n",
       "      <td></td>\n",
       "      <td></td>\n",
       "      <td></td>\n",
       "      <td></td>\n",
       "      <td></td>\n",
       "      <td>0.0</td>\n",
       "      <td></td>\n",
       "      <td></td>\n",
       "      <td></td>\n",
       "    </tr>\n",
       "    <tr>\n",
       "      <th>FVZ-K306</th>\n",
       "      <td>4.0</td>\n",
       "      <td></td>\n",
       "      <td></td>\n",
       "      <td></td>\n",
       "      <td></td>\n",
       "      <td></td>\n",
       "      <td></td>\n",
       "      <td>21.0</td>\n",
       "      <td></td>\n",
       "      <td></td>\n",
       "      <td>1.0</td>\n",
       "      <td></td>\n",
       "      <td></td>\n",
       "      <td>0.0</td>\n",
       "      <td></td>\n",
       "      <td></td>\n",
       "      <td></td>\n",
       "    </tr>\n",
       "    <tr>\n",
       "      <th>FVZ-K307</th>\n",
       "      <td>705.0</td>\n",
       "      <td></td>\n",
       "      <td></td>\n",
       "      <td></td>\n",
       "      <td></td>\n",
       "      <td></td>\n",
       "      <td></td>\n",
       "      <td>53.0</td>\n",
       "      <td></td>\n",
       "      <td></td>\n",
       "      <td>14.0</td>\n",
       "      <td></td>\n",
       "      <td></td>\n",
       "      <td></td>\n",
       "      <td></td>\n",
       "      <td>0.0</td>\n",
       "      <td></td>\n",
       "    </tr>\n",
       "    <tr>\n",
       "      <th>FVZ-K308</th>\n",
       "      <td>1360.0</td>\n",
       "      <td></td>\n",
       "      <td></td>\n",
       "      <td></td>\n",
       "      <td></td>\n",
       "      <td></td>\n",
       "      <td></td>\n",
       "      <td>991.0</td>\n",
       "      <td></td>\n",
       "      <td></td>\n",
       "      <td>16.0</td>\n",
       "      <td></td>\n",
       "      <td></td>\n",
       "      <td></td>\n",
       "      <td></td>\n",
       "      <td></td>\n",
       "      <td></td>\n",
       "    </tr>\n",
       "    <tr>\n",
       "      <th>unknown</th>\n",
       "      <td></td>\n",
       "      <td></td>\n",
       "      <td></td>\n",
       "      <td></td>\n",
       "      <td></td>\n",
       "      <td></td>\n",
       "      <td></td>\n",
       "      <td></td>\n",
       "      <td></td>\n",
       "      <td></td>\n",
       "      <td></td>\n",
       "      <td></td>\n",
       "      <td></td>\n",
       "      <td></td>\n",
       "      <td></td>\n",
       "      <td></td>\n",
       "      <td>0.0</td>\n",
       "    </tr>\n",
       "    <tr>\n",
       "      <th>ÚOPZHN</th>\n",
       "      <td>30.0</td>\n",
       "      <td></td>\n",
       "      <td></td>\n",
       "      <td></td>\n",
       "      <td></td>\n",
       "      <td></td>\n",
       "      <td>324.0</td>\n",
       "      <td>432.0</td>\n",
       "      <td>535.0</td>\n",
       "      <td></td>\n",
       "      <td>30.0</td>\n",
       "      <td></td>\n",
       "      <td></td>\n",
       "      <td>0.0</td>\n",
       "      <td></td>\n",
       "      <td>0.0</td>\n",
       "      <td></td>\n",
       "    </tr>\n",
       "  </tbody>\n",
       "</table>\n",
       "</div>"
      ],
      "text/plain": [
       "lessonFormName         CV      EX    J  KOL     KON    KRZ     LAB       P  \\\n",
       "departmentName                                                               \n",
       "CBVSS              2966.0          2.0       5462.0          266.0  1798.0   \n",
       "CJV              219344.0                                             96.0   \n",
       "CTVS            1195152.0                                            848.0   \n",
       "FVL-K101            458.0                                            618.0   \n",
       "FVL-K102           1390.0                                           1160.0   \n",
       "FVL-K104           1038.0                                            659.0   \n",
       "FVL-K105            470.0    82.0                                   3318.0   \n",
       "FVL-K107            445.0                                            364.0   \n",
       "FVL-K108            268.0                                            120.0   \n",
       "FVL-K109            906.0  1832.0                    102.0           306.0   \n",
       "FVL-K110            356.0    64.0                                    860.0   \n",
       "FVL-K111            546.0    32.0                              8.0   858.0   \n",
       "FVT-K201           1394.0    60.0                            214.0  1708.0   \n",
       "FVT-K202            270.0  2654.0                            438.0   949.0   \n",
       "FVT-K203            154.0                                    118.0   426.0   \n",
       "FVT-K205            220.0    70.0                                   1630.0   \n",
       "FVT-K206            374.0   146.0                            146.0  1962.0   \n",
       "FVT-K207            162.0   838.0              32.0          104.0   648.0   \n",
       "FVT-K208            300.0               8.0                   56.0   410.0   \n",
       "FVT-K209            412.0    18.0                           5792.0  2695.0   \n",
       "FVT-K210            956.0                                     70.0   936.0   \n",
       "FVT-K211            130.0          6.0                        24.0    88.0   \n",
       "FVT-K215           2428.0                                    926.0  2440.0   \n",
       "FVT-K216            692.0                                     80.0   726.0   \n",
       "FVT-K217            442.0                                   1028.0  1558.0   \n",
       "FVZ-K301                                                                     \n",
       "FVZ-K302             97.0                                            328.0   \n",
       "FVZ-K303             54.0                                             51.0   \n",
       "FVZ-K304             60.0                                             80.0   \n",
       "FVZ-K305                                                                     \n",
       "FVZ-K306              4.0                                             21.0   \n",
       "FVZ-K307            705.0                                             53.0   \n",
       "FVZ-K308           1360.0                                            991.0   \n",
       "unknown                                                                      \n",
       "ÚOPZHN               30.0                                    324.0   432.0   \n",
       "\n",
       "lessonFormName        PV       PX     SEM    SMP    STŽ  SZK     TER   ZK  \\\n",
       "departmentName                                                              \n",
       "CBVSS                              3748.0  157.0               144.0  0.0   \n",
       "CJV                                  80.0                                   \n",
       "CTVS            109850.0                                              0.0   \n",
       "FVL-K101                             34.0                             0.0   \n",
       "FVL-K102          6400.0           1105.0                0.0          0.0   \n",
       "FVL-K104                           1358.0                                   \n",
       "FVL-K105                  12872.0  1840.0                      270.0  0.0   \n",
       "FVL-K107          5360.0             22.0                0.0                \n",
       "FVL-K108          5367.0             96.0                             0.0   \n",
       "FVL-K109          1300.0             66.0         648.0  0.0                \n",
       "FVL-K110          1660.0            144.0                0.0  6696.0  0.0   \n",
       "FVL-K111          1124.0            138.0                0.0          0.0   \n",
       "FVT-K201          6003.0            122.0                0.0          0.0   \n",
       "FVT-K202          1050.0    630.0   176.0                0.0          0.0   \n",
       "FVT-K203          7006.0    430.0   158.0                0.0          0.0   \n",
       "FVT-K205          6372.0     90.0    74.0                             0.0   \n",
       "FVT-K206          6238.0            238.0    6.0         0.0          0.0   \n",
       "FVT-K207           568.0             36.0                0.0                \n",
       "FVT-K208          1625.0     30.0   244.0                             0.0   \n",
       "FVT-K209          2850.0            140.0  200.0         0.0          0.0   \n",
       "FVT-K210          6902.0            104.0                0.0   100.0  0.0   \n",
       "FVT-K211                                                                    \n",
       "FVT-K215                                                              0.0   \n",
       "FVT-K216                             48.0                0.0          0.0   \n",
       "FVT-K217                                                              0.0   \n",
       "FVZ-K301                             18.0                0.0          0.0   \n",
       "FVZ-K302                             52.0                      188.0  0.0   \n",
       "FVZ-K303                             99.0                             0.0   \n",
       "FVZ-K304                             18.0                0.0          0.0   \n",
       "FVZ-K305                                                 0.0                \n",
       "FVZ-K306                              1.0                0.0                \n",
       "FVZ-K307                             14.0                             0.0   \n",
       "FVZ-K308                             16.0                                   \n",
       "unknown                                                                     \n",
       "ÚOPZHN             535.0             30.0                0.0          0.0   \n",
       "\n",
       "lessonFormName unknown  \n",
       "departmentName          \n",
       "CBVSS                   \n",
       "CJV                     \n",
       "CTVS                    \n",
       "FVL-K101                \n",
       "FVL-K102                \n",
       "FVL-K104                \n",
       "FVL-K105                \n",
       "FVL-K107                \n",
       "FVL-K108                \n",
       "FVL-K109                \n",
       "FVL-K110                \n",
       "FVL-K111                \n",
       "FVT-K201                \n",
       "FVT-K202                \n",
       "FVT-K203                \n",
       "FVT-K205                \n",
       "FVT-K206                \n",
       "FVT-K207                \n",
       "FVT-K208                \n",
       "FVT-K209                \n",
       "FVT-K210                \n",
       "FVT-K211                \n",
       "FVT-K215                \n",
       "FVT-K216                \n",
       "FVT-K217                \n",
       "FVZ-K301                \n",
       "FVZ-K302                \n",
       "FVZ-K303                \n",
       "FVZ-K304                \n",
       "FVZ-K305                \n",
       "FVZ-K306                \n",
       "FVZ-K307                \n",
       "FVZ-K308                \n",
       "unknown            0.0  \n",
       "ÚOPZHN                  "
      ]
     },
     "execution_count": 64,
     "metadata": {},
     "output_type": "execute_result"
    }
   ],
   "source": [
    "import numpy as np\n",
    "pd.pivot_table(df, values='lessonsCount', index=['departmentName'], columns=['lessonFormName'], aggfunc=np.sum, fill_value='')"
   ]
  },
  {
   "cell_type": "markdown",
   "metadata": {},
   "source": [
    "### Vizualizace"
   ]
  },
  {
   "cell_type": "code",
   "execution_count": null,
   "metadata": {},
   "outputs": [],
   "source": []
  },
  {
   "cell_type": "markdown",
   "metadata": {
    "id": "Bmh3zsogE08B"
   },
   "source": [
    "## Matplotlib"
   ]
  },
  {
   "cell_type": "markdown",
   "metadata": {},
   "source": [
    "### Intro"
   ]
  },
  {
   "cell_type": "markdown",
   "metadata": {},
   "source": [
    "Matplotlib je knihovna, která spolu s numpy a pandas patří do \"velké trojice\" podporující datové analýzy.\n",
    "\n",
    "Dokumentace spolu s mnoha příklady a galerií je dostupná zde [https://matplotlib.org/](https://matplotlib.org/)"
   ]
  },
  {
   "cell_type": "markdown",
   "metadata": {},
   "source": [
    "### Liniové grafy"
   ]
  },
  {
   "cell_type": "markdown",
   "metadata": {},
   "source": [
    "Pravděpodobně prvním typem grafu, se kterým jste se v životě setkali je zobrazení závislosti $y$ na $x$. Tuto závislost jste pravděpodobně vykreslovali pomocí spojité křivky.\n",
    "\n",
    "Pro její vykreslení jste měli sadu hodnot pro $x$ a odpovídající sadu hodnot pro $y$."
   ]
  },
  {
   "cell_type": "code",
   "execution_count": 128,
   "metadata": {},
   "outputs": [],
   "source": [
    "def f(x):\n",
    "    return x * x"
   ]
  },
  {
   "cell_type": "code",
   "execution_count": 129,
   "metadata": {},
   "outputs": [
    {
     "name": "stdout",
     "output_type": "stream",
     "text": [
      "[1, 2, 3, 4, 5, 6, 7, 8, 9] [1, 4, 9, 16, 25, 36, 49, 64, 81]\n"
     ]
    }
   ],
   "source": [
    "xx = list(range(1, 10, 1))\n",
    "yy = [f(x) for x in xx]\n",
    "print(xx, yy)"
   ]
  },
  {
   "cell_type": "code",
   "execution_count": 130,
   "metadata": {},
   "outputs": [
    {
     "data": {
      "text/plain": [
       "[<matplotlib.lines.Line2D at 0x7f3564d52040>]"
      ]
     },
     "execution_count": 130,
     "metadata": {},
     "output_type": "execute_result"
    },
    {
     "data": {
      "image/png": "[encoded data removed]",
      "text/plain": [
       "<Figure size 432x288 with 1 Axes>"
      ]
     },
     "metadata": {
      "needs_background": "light"
     },
     "output_type": "display_data"
    }
   ],
   "source": [
    "import matplotlib.pyplot as plt\n",
    "\n",
    "plt.plot(xx, yy)"
   ]
  },
  {
   "cell_type": "markdown",
   "metadata": {},
   "source": [
    "Všimněte si, že:\n",
    "- křivka je zobrazena jako posloupnost úseček\n",
    "- není zachována proporcionalita os\n",
    "\n",
    "Při zobrazení se vždy používají úsečky, které spojují dva body. Jejich minimální délka určuje přesnost zobrazení. Uvědomte si, že zobrazovací prostor (monitor, tiskárna apod.) je složen z bodů, není spojitý, naopak je diskrétní."
   ]
  },
  {
   "cell_type": "markdown",
   "metadata": {},
   "source": [
    "#### Nastavení poměru u os"
   ]
  },
  {
   "cell_type": "code",
   "execution_count": 131,
   "metadata": {},
   "outputs": [
    {
     "data": {
      "image/png": "[encoded data removed]",
      "text/plain": [
       "<Figure size 432x288 with 1 Axes>"
      ]
     },
     "metadata": {
      "needs_background": "light"
     },
     "output_type": "display_data"
    }
   ],
   "source": [
    "plt.plot(xx, yy)\n",
    "ax = plt.gca() \n",
    "ax.set_aspect(0.1)"
   ]
  },
  {
   "cell_type": "markdown",
   "metadata": {},
   "source": [
    "#### Nastavení sítě (grid)"
   ]
  },
  {
   "cell_type": "code",
   "execution_count": 9,
   "metadata": {},
   "outputs": [
    {
     "data": {
      "image/png": "[encoded data removed]",
      "text/plain": [
       "<Figure size 1440x720 with 1 Axes>"
      ]
     },
     "metadata": {
      "needs_background": "light"
     },
     "output_type": "display_data"
    }
   ],
   "source": [
    "plt.figure(figsize=(20,10))\n",
    "plt.plot(xx, yy)\n",
    "ax = plt.gca() \n",
    "ax.set_aspect(0.1)\n",
    "plt.grid('both')"
   ]
  },
  {
   "cell_type": "markdown",
   "metadata": {},
   "source": [
    "#### Legenda"
   ]
  },
  {
   "cell_type": "code",
   "execution_count": 137,
   "metadata": {},
   "outputs": [
    {
     "data": {
      "text/plain": [
       "Text(0, 0.5, 'y')"
      ]
     },
     "execution_count": 137,
     "metadata": {},
     "output_type": "execute_result"
    },
    {
     "data": {
      "image/png": "[encoded data removed]",
      "text/plain": [
       "<Figure size 432x288 with 1 Axes>"
      ]
     },
     "metadata": {
      "needs_background": "light"
     },
     "output_type": "display_data"
    }
   ],
   "source": [
    "xx = list(range(1, 10, 1))\n",
    "yy = [f(x) for x in xx]\n",
    "plt.plot(xx, yy, label='Kv.')\n",
    "plt.legend();\n",
    "plt.xlabel('$x [ms^{-1}]$')\n",
    "plt.ylabel('y')"
   ]
  },
  {
   "cell_type": "markdown",
   "metadata": {},
   "source": [
    "#### Barvičky"
   ]
  },
  {
   "cell_type": "markdown",
   "metadata": {},
   "source": [
    "Třetí parametr u příkazu plot nastavuje styl."
   ]
  },
  {
   "cell_type": "code",
   "execution_count": 138,
   "metadata": {},
   "outputs": [
    {
     "data": {
      "image/png": "[encoded data removed]",
      "text/plain": [
       "<Figure size 432x288 with 1 Axes>"
      ]
     },
     "metadata": {
      "needs_background": "light"
     },
     "output_type": "display_data"
    }
   ],
   "source": [
    "plt.plot(xx, yy, '-ko')\n",
    "plt.plot(xx, yy, '.r')\n",
    "plt.grid('both')"
   ]
  },
  {
   "cell_type": "markdown",
   "metadata": {},
   "source": [
    "Všimněte si opakovaného kreslení s různými styly"
   ]
  },
  {
   "cell_type": "markdown",
   "metadata": {},
   "source": [
    "Dokumentace zde https://matplotlib.org/stable/api/_as_gen/matplotlib.pyplot.plot.html"
   ]
  },
  {
   "cell_type": "markdown",
   "metadata": {},
   "source": [
    "Značky\n",
    "- '.' \n",
    "- ','\n",
    "- 'o'\n",
    "- 'x'\n",
    "- '*'\n",
    "- '<'\n",
    "- '>'\n",
    "- '^'\n",
    "- 'v'\n",
    "\n",
    "Styly čáry\n",
    "- '-'\n",
    "- '--'\n",
    "- '-.'\n",
    "- ':'\n",
    "\n",
    "Barvy\n",
    "- 'b'\n",
    "- 'g'\n",
    "- 'r'\n",
    "- 'c'\n",
    "- 'm'\n",
    "- 'y'\n",
    "- 'k'\n",
    "- 'w'"
   ]
  },
  {
   "cell_type": "code",
   "execution_count": 22,
   "metadata": {},
   "outputs": [
    {
     "data": {
      "image/png": "[encoded data removed]",
      "text/plain": [
       "<Figure size 432x288 with 1 Axes>"
      ]
     },
     "metadata": {
      "needs_background": "light"
     },
     "output_type": "display_data"
    }
   ],
   "source": [
    "yy2 = [y / 2 for y in yy]\n",
    "plt.plot(xx, yy, '-k')\n",
    "plt.plot(xx, yy, 'og')\n",
    "plt.plot(xx, yy2, 'v--c')\n",
    "plt.grid('both')"
   ]
  },
  {
   "cell_type": "markdown",
   "metadata": {},
   "source": [
    "> **Příklad**\n",
    ">\n",
    "> Vykreslete průběh funkce sin na intervalu $<-\\pi,\\pi>$"
   ]
  },
  {
   "cell_type": "code",
   "execution_count": null,
   "metadata": {},
   "outputs": [],
   "source": [
    "from math import pi, sin\n",
    "\n",
    "xx = []\n",
    "yy = []\n",
    "step = # neco\n",
    "for i in range(100):\n",
    "    x = #neco\n",
    "    y = #neco\n",
    "    # neco\n",
    "    # neco\n",
    "    \n",
    "plt.plot(xx, yy)"
   ]
  },
  {
   "cell_type": "markdown",
   "metadata": {},
   "source": [
    "> **Řešení**"
   ]
  },
  {
   "cell_type": "code",
   "execution_count": 140,
   "metadata": {
    "jupyter": {
     "source_hidden": true
    },
    "tags": []
   },
   "outputs": [
    {
     "data": {
      "text/plain": [
       "[<matplotlib.lines.Line2D at 0x7f3567219a90>]"
      ]
     },
     "execution_count": 140,
     "metadata": {},
     "output_type": "execute_result"
    },
    {
     "data": {
      "image/png": "[encoded data removed]",
      "text/plain": [
       "<Figure size 432x288 with 1 Axes>"
      ]
     },
     "metadata": {
      "needs_background": "light"
     },
     "output_type": "display_data"
    }
   ],
   "source": [
    "from math import pi, sin\n",
    "\n",
    "xx = []\n",
    "yy = []\n",
    "step = 2 * pi / 100\n",
    "for i in range(100):\n",
    "    x = -pi + step * i\n",
    "    y = sin(x)\n",
    "    xx.append(x)\n",
    "    yy.append(y)\n",
    "    \n",
    "plt.plot(xx, yy)"
   ]
  },
  {
   "cell_type": "markdown",
   "metadata": {},
   "source": [
    "#### Doplňkové čáry"
   ]
  },
  {
   "cell_type": "code",
   "execution_count": 61,
   "metadata": {},
   "outputs": [
    {
     "data": {
      "text/plain": [
       "<matplotlib.lines.Line2D at 0x7f35660477c0>"
      ]
     },
     "execution_count": 61,
     "metadata": {},
     "output_type": "execute_result"
    },
    {
     "data": {
      "image/png": "[encoded data removed]",
      "text/plain": [
       "<Figure size 432x288 with 1 Axes>"
      ]
     },
     "metadata": {
      "needs_background": "light"
     },
     "output_type": "display_data"
    }
   ],
   "source": [
    "plt.plot(xx, yy)\n",
    "plt.axhline(1, color='r', linewidth=1)\n",
    "plt.axvline(pi/2, color='r', linewidth=1)"
   ]
  },
  {
   "cell_type": "code",
   "execution_count": 141,
   "metadata": {},
   "outputs": [
    {
     "data": {
      "text/plain": [
       "<matplotlib.lines.Line2D at 0x7f35653aa7f0>"
      ]
     },
     "execution_count": 141,
     "metadata": {},
     "output_type": "execute_result"
    },
    {
     "data": {
      "image/png": "[encoded data removed]",
      "text/plain": [
       "<Figure size 432x288 with 1 Axes>"
      ]
     },
     "metadata": {
      "needs_background": "light"
     },
     "output_type": "display_data"
    }
   ],
   "source": [
    "plt.plot(xx, yy)\n",
    "plt.plot([pi/2], [1], 'or')\n",
    "plt.axhline(1, color='r', linewidth=1)\n",
    "plt.axvline(pi/2, color='r', linewidth=1)"
   ]
  },
  {
   "cell_type": "markdown",
   "metadata": {},
   "source": [
    "#### Více výstupů"
   ]
  },
  {
   "cell_type": "code",
   "execution_count": 23,
   "metadata": {},
   "outputs": [
    {
     "data": {
      "image/png": "[encoded data removed]",
      "text/plain": [
       "<Figure size 432x288 with 1 Axes>"
      ]
     },
     "metadata": {
      "needs_background": "light"
     },
     "output_type": "display_data"
    },
    {
     "data": {
      "image/png": "[encoded data removed]",
      "text/plain": [
       "<Figure size 432x288 with 1 Axes>"
      ]
     },
     "metadata": {
      "needs_background": "light"
     },
     "output_type": "display_data"
    }
   ],
   "source": [
    "yy2 = [y / 2 for y in yy]\n",
    "plt.plot(xx, yy, '-k')\n",
    "plt.plot(xx, yy, 'og')\n",
    "plt.grid('both')\n",
    "plt.show()\n",
    "plt.plot(xx, yy2, 'v--c')\n",
    "plt.grid('both')\n",
    "plt.show()"
   ]
  },
  {
   "cell_type": "code",
   "execution_count": 28,
   "metadata": {},
   "outputs": [
    {
     "data": {
      "text/plain": [
       "[<matplotlib.lines.Line2D at 0x7f3566c030d0>]"
      ]
     },
     "execution_count": 28,
     "metadata": {},
     "output_type": "execute_result"
    },
    {
     "data": {
      "image/png": "[encoded data removed]",
      "text/plain": [
       "<Figure size 432x288 with 2 Axes>"
      ]
     },
     "metadata": {
      "needs_background": "light"
     },
     "output_type": "display_data"
    }
   ],
   "source": [
    "plt.figure(1)\n",
    "plt.subplot(211)\n",
    "plt.plot(xx, yy)\n",
    "plt.grid()\n",
    "plt.subplot(212)\n",
    "plt.plot(xx, yy2)"
   ]
  },
  {
   "cell_type": "code",
   "execution_count": 142,
   "metadata": {},
   "outputs": [
    {
     "data": {
      "image/png": "[encoded data removed]",
      "text/plain": [
       "<Figure size 432x288 with 4 Axes>"
      ]
     },
     "metadata": {
      "needs_background": "light"
     },
     "output_type": "display_data"
    }
   ],
   "source": [
    "plt.subplot(221) # 2x2, prvni\n",
    "plt.plot(xx, yy)\n",
    "plt.grid()\n",
    "plt.subplot(222) # 2x2, druhy\n",
    "plt.plot(xx, yy2, 'r') \n",
    "plt.subplot(223)\n",
    "plt.plot(xx, yy2)\n",
    "plt.subplot(224)\n",
    "plt.plot(xx, yy2, 'g')\n",
    "plt.grid()"
   ]
  },
  {
   "cell_type": "markdown",
   "metadata": {},
   "source": [
    "#### Projekce"
   ]
  },
  {
   "cell_type": "code",
   "execution_count": 144,
   "metadata": {},
   "outputs": [
    {
     "data": {
      "text/plain": [
       "[<matplotlib.lines.Line2D at 0x7f3564a2b1f0>,\n",
       " <matplotlib.lines.Line2D at 0x7f3564a2b220>]"
      ]
     },
     "execution_count": 144,
     "metadata": {},
     "output_type": "execute_result"
    },
    {
     "data": {
      "image/png": "[encoded data removed]",
      "text/plain": [
       "<Figure size 432x288 with 1 Axes>"
      ]
     },
     "metadata": {
      "needs_background": "light"
     },
     "output_type": "display_data"
    }
   ],
   "source": [
    "import numpy as np\n",
    "from math import pi, sin\n",
    "\n",
    "xx = np.linspace(-pi, pi, 100)\n",
    "yy1 = np.cos(xx)\n",
    "yy2 = [sin(x) for x in xx]\n",
    "plt.plot(xx, yy1, xx, yy2)"
   ]
  },
  {
   "cell_type": "code",
   "execution_count": 147,
   "metadata": {},
   "outputs": [
    {
     "data": {
      "image/png": "[encoded data removed]",
      "text/plain": [
       "<Figure size 432x288 with 1 Axes>"
      ]
     },
     "metadata": {
      "needs_background": "light"
     },
     "output_type": "display_data"
    }
   ],
   "source": [
    "import numpy as np\n",
    "from math import pi, sin\n",
    "\n",
    "fig = plt.figure()\n",
    "plt.axes(polar=True)\n",
    "xx = np.linspace(-pi, pi, 100)\n",
    "yy1 = np.cos(xx)\n",
    "yy2 = [sin(x) for x in xx]\n",
    "rr = [1 for x in xx]\n",
    "\n",
    "plt.plot(xx, rr, label='circle')\n",
    "plt.plot(xx, yy1, label='cos')\n",
    "plt.plot(xx, yy2, label='sin')\n",
    "\n",
    "plt.legend();"
   ]
  },
  {
   "cell_type": "code",
   "execution_count": null,
   "metadata": {},
   "outputs": [],
   "source": []
  },
  {
   "cell_type": "markdown",
   "metadata": {},
   "source": [
    "### Datové grafy"
   ]
  },
  {
   "cell_type": "markdown",
   "metadata": {},
   "source": [
    "#### Sloupcové"
   ]
  },
  {
   "cell_type": "code",
   "execution_count": 149,
   "metadata": {},
   "outputs": [
    {
     "data": {
      "image/png": "[encoded data removed]",
      "text/plain": [
       "<Figure size 432x288 with 1 Axes>"
      ]
     },
     "metadata": {
      "needs_background": "light"
     },
     "output_type": "display_data"
    }
   ],
   "source": [
    "import random\n",
    "xx = list(range(5))\n",
    "xx = ['A', 'B', 'C', 'D', 'E']\n",
    "yy = [random.random() for x in xx]\n",
    "plt.bar(xx, yy);"
   ]
  },
  {
   "cell_type": "markdown",
   "metadata": {},
   "source": [
    "Počítaný stack bar"
   ]
  },
  {
   "cell_type": "code",
   "execution_count": 150,
   "metadata": {},
   "outputs": [
    {
     "data": {
      "text/plain": [
       "<BarContainer object of 5 artists>"
      ]
     },
     "execution_count": 150,
     "metadata": {},
     "output_type": "execute_result"
    },
    {
     "data": {
      "image/png": "[encoded data removed]",
      "text/plain": [
       "<Figure size 432x288 with 1 Axes>"
      ]
     },
     "metadata": {
      "needs_background": "light"
     },
     "output_type": "display_data"
    }
   ],
   "source": [
    "import random\n",
    "xx = list(range(5))\n",
    "yy = [random.random() for x in xx]\n",
    "yy2 = [y + random.random() for x, y in zip(xx, yy)]\n",
    "\n",
    "plt.bar(xx, yy2)\n",
    "plt.bar(xx, yy)"
   ]
  },
  {
   "cell_type": "markdown",
   "metadata": {},
   "source": [
    "Automatický stack bar"
   ]
  },
  {
   "cell_type": "code",
   "execution_count": 151,
   "metadata": {},
   "outputs": [
    {
     "data": {
      "text/plain": [
       "<BarContainer object of 5 artists>"
      ]
     },
     "execution_count": 151,
     "metadata": {},
     "output_type": "execute_result"
    },
    {
     "data": {
      "image/png": "[encoded data removed]",
      "text/plain": [
       "<Figure size 432x288 with 1 Axes>"
      ]
     },
     "metadata": {
      "needs_background": "light"
     },
     "output_type": "display_data"
    }
   ],
   "source": [
    "import random\n",
    "xx = list(range(5))\n",
    "#yy = [random.random() for x in xx]\n",
    "#yy2 = [random.random() for x in xx]\n",
    "\n",
    "plt.bar(xx, yy)\n",
    "plt.bar(xx, yy2, bottom=yy)"
   ]
  },
  {
   "cell_type": "markdown",
   "metadata": {},
   "source": [
    "#### Koláčové"
   ]
  },
  {
   "cell_type": "code",
   "execution_count": 157,
   "metadata": {},
   "outputs": [
    {
     "data": {
      "image/png": "[encoded data removed]",
      "text/plain": [
       "<Figure size 432x288 with 1 Axes>"
      ]
     },
     "metadata": {},
     "output_type": "display_data"
    }
   ],
   "source": [
    "import random\n",
    "xx = [random.random() for i in range(5)]\n",
    "\n",
    "plt.pie(xx, labels=['A', 'B', 'C', 'D', 'E'])\n",
    "plt.legend();"
   ]
  },
  {
   "cell_type": "code",
   "execution_count": 110,
   "metadata": {},
   "outputs": [
    {
     "data": {
      "image/png": "[encoded data removed]",
      "text/plain": [
       "<Figure size 432x288 with 1 Axes>"
      ]
     },
     "metadata": {},
     "output_type": "display_data"
    }
   ],
   "source": [
    "colorList = ['#9467bd', '#8c564b', '#e377c2', '#7f7f7f', '#bcbd22', '#17becf']\n",
    "plt.pie(xx, colors = colorList);"
   ]
  },
  {
   "cell_type": "markdown",
   "metadata": {},
   "source": [
    "Sunburst"
   ]
  },
  {
   "cell_type": "code",
   "execution_count": 112,
   "metadata": {},
   "outputs": [
    {
     "data": {
      "image/png": "[encoded data removed]",
      "text/plain": [
       "<Figure size 432x288 with 1 Axes>"
      ]
     },
     "metadata": {},
     "output_type": "display_data"
    }
   ],
   "source": [
    "import random\n",
    "#xx = [random.random() for i in range(5)]\n",
    "\n",
    "xx2 = []\n",
    "for x in xx:\n",
    "    ii = [random.random() for i in range(3)]\n",
    "    iisum = sum(ii)\n",
    "    for i in ii:\n",
    "        xx2.append(i / iisum * x)\n",
    "    \n",
    "plt.pie(xx2, radius = 2)\n",
    "plt.pie(xx);"
   ]
  },
  {
   "cell_type": "code",
   "execution_count": 160,
   "metadata": {},
   "outputs": [
    {
     "data": {
      "image/png": "[encoded data removed]",
      "text/plain": [
       "<Figure size 432x288 with 1 Axes>"
      ]
     },
     "metadata": {},
     "output_type": "display_data"
    }
   ],
   "source": [
    "import random\n",
    "\n",
    "def adjust_lightness(color, amount = 0.5):\n",
    "    import matplotlib.colors as mc\n",
    "    import colorsys\n",
    "    try:\n",
    "        c = mc.cnames[color]\n",
    "    except:\n",
    "        c = color\n",
    "    c = colorsys.rgb_to_hls( * mc.to_rgb(c))\n",
    "    return colorsys.hls_to_rgb(c[0], max(0, min(1, amount * c[1])), c[2])\n",
    "\n",
    "\n",
    "colorList = ['#1f77b4', '#ff7f0e', '#2ca02c', '#d62728', '#9467bd', '#8c564b', '#e377c2', '#7f7f7f', '#bcbd22', '#17becf']\n",
    "xx2 = []\n",
    "xx2Colors = []\n",
    "for x, xcolor in zip(xx, colorList):\n",
    "    ii = [random.random() for i in range(3)]\n",
    "    iisum = sum(ii)\n",
    "    for i, adj in zip(ii, [0.6, 0.7, 0.9]):\n",
    "        xx2.append(i / iisum * x)\n",
    "        xx2Colors.append(adjust_lightness(xcolor, amount=adj))\n",
    "    \n",
    "\n",
    "plt.pie(xx2, radius = 2, colors=xx2Colors)\n",
    "plt.pie(xx);"
   ]
  },
  {
   "cell_type": "markdown",
   "metadata": {},
   "source": [
    "#### Histogram"
   ]
  },
  {
   "cell_type": "code",
   "execution_count": 72,
   "metadata": {},
   "outputs": [
    {
     "data": {
      "text/plain": [
       "(array([ 955.,  997., 1006., 1022.,  966.,  974.,  975., 1040., 1015.,\n",
       "        1050.]),\n",
       " array([1.89184137e-04, 1.00168519e-01, 2.00147853e-01, 3.00127188e-01,\n",
       "        4.00106522e-01, 5.00085857e-01, 6.00065191e-01, 7.00044526e-01,\n",
       "        8.00023861e-01, 9.00003195e-01, 9.99982530e-01]),\n",
       " <BarContainer object of 10 artists>)"
      ]
     },
     "execution_count": 72,
     "metadata": {},
     "output_type": "execute_result"
    },
    {
     "data": {
      "image/png": "[encoded data removed]",
      "text/plain": [
       "<Figure size 432x288 with 1 Axes>"
      ]
     },
     "metadata": {
      "needs_background": "light"
     },
     "output_type": "display_data"
    }
   ],
   "source": [
    "import random\n",
    "\n",
    "xx = [random.random() for i in range(10000)]\n",
    "\n",
    "plt.hist(xx)"
   ]
  },
  {
   "cell_type": "code",
   "execution_count": 73,
   "metadata": {},
   "outputs": [
    {
     "data": {
      "text/plain": [
       "(array([  955.,  1952.,  2958.,  3980.,  4946.,  5920.,  6895.,  7935.,\n",
       "         8950., 10000.]),\n",
       " array([1.89184137e-04, 1.00168519e-01, 2.00147853e-01, 3.00127188e-01,\n",
       "        4.00106522e-01, 5.00085857e-01, 6.00065191e-01, 7.00044526e-01,\n",
       "        8.00023861e-01, 9.00003195e-01, 9.99982530e-01]),\n",
       " <BarContainer object of 10 artists>)"
      ]
     },
     "execution_count": 73,
     "metadata": {},
     "output_type": "execute_result"
    },
    {
     "data": {
      "image/png": "[encoded data removed]",
      "text/plain": [
       "<Figure size 432x288 with 1 Axes>"
      ]
     },
     "metadata": {
      "needs_background": "light"
     },
     "output_type": "display_data"
    }
   ],
   "source": [
    "plt.hist(xx, cumulative=True)"
   ]
  },
  {
   "cell_type": "code",
   "execution_count": 74,
   "metadata": {},
   "outputs": [
    {
     "data": {
      "text/plain": [
       "(array([ 955.,  997., 1006., 1022.,  966.,  974.,  975., 1040., 1015.,\n",
       "        1050.]),\n",
       " array([1.89184137e-04, 1.00168519e-01, 2.00147853e-01, 3.00127188e-01,\n",
       "        4.00106522e-01, 5.00085857e-01, 6.00065191e-01, 7.00044526e-01,\n",
       "        8.00023861e-01, 9.00003195e-01, 9.99982530e-01]),\n",
       " <BarContainer object of 10 artists>)"
      ]
     },
     "execution_count": 74,
     "metadata": {},
     "output_type": "execute_result"
    },
    {
     "data": {
      "image/png": "[encoded data removed]",
      "text/plain": [
       "<Figure size 432x288 with 1 Axes>"
      ]
     },
     "metadata": {
      "needs_background": "light"
     },
     "output_type": "display_data"
    }
   ],
   "source": [
    "plt.hist(xx, rwidth=0.5)"
   ]
  },
  {
   "cell_type": "code",
   "execution_count": 76,
   "metadata": {},
   "outputs": [
    {
     "data": {
      "text/plain": [
       "(array([1024.,  980., 1006., 1018.,  973.,  999., 1010.,  991.,  996.,\n",
       "        1003.]),\n",
       " array([2.40679677e-05, 1.00003743e-01, 1.99983419e-01, 2.99963094e-01,\n",
       "        3.99942769e-01, 4.99922444e-01, 5.99902120e-01, 6.99881795e-01,\n",
       "        7.99861470e-01, 8.99841146e-01, 9.99820821e-01]),\n",
       " <BarContainer object of 10 artists>)"
      ]
     },
     "execution_count": 76,
     "metadata": {},
     "output_type": "execute_result"
    },
    {
     "data": {
      "image/png": "[encoded data removed]",
      "text/plain": [
       "<Figure size 432x288 with 1 Axes>"
      ]
     },
     "metadata": {
      "needs_background": "light"
     },
     "output_type": "display_data"
    }
   ],
   "source": [
    "import random\n",
    "\n",
    "xx = [random.random() for i in range(10000)]\n",
    "xx2 = [random.random() for i in range(10000)]\n",
    "\n",
    "plt.hist(xx, rwidth=0.75)\n",
    "plt.hist(xx2, rwidth=0.5)\n"
   ]
  },
  {
   "cell_type": "code",
   "execution_count": 81,
   "metadata": {},
   "outputs": [
    {
     "data": {
      "text/plain": [
       "(array([[1042.,  975.,  998.,  988., 1022.,  969., 1026.,  985.,  957.,\n",
       "         1038.],\n",
       "        [1024.,  981., 1005., 1018.,  974.,  999., 1009.,  992.,  995.,\n",
       "         1003.]]),\n",
       " array([2.40679677e-05, 1.00018308e-01, 2.00012547e-01, 3.00006787e-01,\n",
       "        4.00001027e-01, 4.99995267e-01, 5.99989506e-01, 6.99983746e-01,\n",
       "        7.99977986e-01, 8.99972226e-01, 9.99966465e-01]),\n",
       " <a list of 2 BarContainer objects>)"
      ]
     },
     "execution_count": 81,
     "metadata": {},
     "output_type": "execute_result"
    },
    {
     "data": {
      "image/png": "[encoded data removed]",
      "text/plain": [
       "<Figure size 432x288 with 1 Axes>"
      ]
     },
     "metadata": {
      "needs_background": "light"
     },
     "output_type": "display_data"
    }
   ],
   "source": [
    "plt.hist([xx, xx2], rwidth=0.5)"
   ]
  },
  {
   "cell_type": "code",
   "execution_count": 79,
   "metadata": {},
   "outputs": [
    {
     "data": {
      "text/plain": [
       "(array([[1042.,  975.,  998.,  988., 1022.,  969., 1026.,  985.,  957.,\n",
       "         1038.],\n",
       "        [2066., 1956., 2003., 2006., 1996., 1968., 2035., 1977., 1952.,\n",
       "         2041.]]),\n",
       " array([2.40679677e-05, 1.00018308e-01, 2.00012547e-01, 3.00006787e-01,\n",
       "        4.00001027e-01, 4.99995267e-01, 5.99989506e-01, 6.99983746e-01,\n",
       "        7.99977986e-01, 8.99972226e-01, 9.99966465e-01]),\n",
       " <a list of 2 BarContainer objects>)"
      ]
     },
     "execution_count": 79,
     "metadata": {},
     "output_type": "execute_result"
    },
    {
     "data": {
      "image/png": "[encoded data removed]",
      "text/plain": [
       "<Figure size 432x288 with 1 Axes>"
      ]
     },
     "metadata": {
      "needs_background": "light"
     },
     "output_type": "display_data"
    }
   ],
   "source": [
    "plt.hist([xx, xx2], rwidth=0.5, stacked=True)"
   ]
  },
  {
   "cell_type": "markdown",
   "metadata": {},
   "source": [
    "## Příklady"
   ]
  },
  {
   "cell_type": "markdown",
   "metadata": {},
   "source": [
    "### Hodinová zátěž"
   ]
  },
  {
   "cell_type": "markdown",
   "metadata": {},
   "source": [
    "Načtení dat ze souboru"
   ]
  },
  {
   "cell_type": "code",
   "execution_count": 162,
   "metadata": {},
   "outputs": [],
   "source": [
    "import json\n",
    "\n",
    "with open('rozvrh/data.json', encoding='utf-8') as inputFile:\n",
    "    data = json.load(inputFile)"
   ]
  },
  {
   "cell_type": "code",
   "execution_count": 163,
   "metadata": {},
   "outputs": [],
   "source": [
    "departmentData = {\n",
    "    'K209': {'CV': 44, 'LC': 56, 'P': 78},\n",
    "    'K211': {'CV': 44, 'LC': 56, 'P': 78},\n",
    "}"
   ]
  },
  {
   "cell_type": "markdown",
   "metadata": {},
   "source": [
    "**Příklad**"
   ]
  },
  {
   "cell_type": "markdown",
   "metadata": {},
   "source": [
    "Zjistěte prvky (klíče) v datech `data`"
   ]
  },
  {
   "cell_type": "code",
   "execution_count": null,
   "metadata": {},
   "outputs": [],
   "source": []
  },
  {
   "cell_type": "markdown",
   "metadata": {},
   "source": [
    "**Řešení**"
   ]
  },
  {
   "cell_type": "code",
   "execution_count": 164,
   "metadata": {
    "jupyter": {
     "source_hidden": true
    },
    "tags": []
   },
   "outputs": [
    {
     "data": {
      "text/plain": [
       "dict_keys(['events', 'occurrencesDays', 'timeslots', 'colors', 'subjects', 'departments', 'groups', 'entryYears', 'students', 'teachers', 'classrooms', 'areas', 'categories', 'spheres', 'lessonForms'])"
      ]
     },
     "execution_count": 164,
     "metadata": {},
     "output_type": "execute_result"
    }
   ],
   "source": [
    "data.keys()"
   ]
  },
  {
   "cell_type": "markdown",
   "metadata": {},
   "source": [
    "**Příklad**"
   ]
  },
  {
   "cell_type": "markdown",
   "metadata": {},
   "source": [
    "Vypište první dva prvky v poli `data['departments']`"
   ]
  },
  {
   "cell_type": "code",
   "execution_count": null,
   "metadata": {},
   "outputs": [],
   "source": []
  },
  {
   "cell_type": "markdown",
   "metadata": {},
   "source": [
    "**Řešení**"
   ]
  },
  {
   "cell_type": "code",
   "execution_count": 165,
   "metadata": {
    "jupyter": {
     "source_hidden": true
    },
    "tags": []
   },
   "outputs": [
    {
     "data": {
      "text/plain": [
       "[{'id': 11504, 'name': 'CBVSS'}, {'id': 2890, 'name': 'CJV'}]"
      ]
     },
     "execution_count": 165,
     "metadata": {},
     "output_type": "execute_result"
    }
   ],
   "source": [
    "data['departments'][:2]"
   ]
  },
  {
   "cell_type": "markdown",
   "metadata": {},
   "source": [
    "**Příklad**"
   ]
  },
  {
   "cell_type": "markdown",
   "metadata": {},
   "source": [
    "Inicializujte pomocnou datovou strukturu (dictionary) pro uložení výstupních dat"
   ]
  },
  {
   "cell_type": "code",
   "execution_count": null,
   "metadata": {},
   "outputs": [],
   "source": [
    "departmentData = {\n",
    "    11504: {'name': 'CBVSS','CV': 44, 'LC': 56, 'P': 78},\n",
    "    146: {'name': 'K211', 'CV': 44, 'LC': 56, 'P': 78},\n",
    "}\n",
    "departmentData = {}\n",
    "for department in # neco :\n",
    "    # neco\n",
    "    \n",
    "departmentData"
   ]
  },
  {
   "cell_type": "markdown",
   "metadata": {},
   "source": [
    "**Řešení**"
   ]
  },
  {
   "cell_type": "code",
   "execution_count": 171,
   "metadata": {
    "jupyter": {
     "source_hidden": true
    },
    "tags": []
   },
   "outputs": [
    {
     "data": {
      "text/plain": [
       "{11504: {'name': 'CBVSS'},\n",
       " 2890: {'name': 'CJV'},\n",
       " 2891: {'name': 'CTVS'},\n",
       " 635: {'name': 'FVL-K101'},\n",
       " 11515: {'name': 'FVL-K102'},\n",
       " 8917: {'name': 'FVL-K104'},\n",
       " 11521: {'name': 'FVL-K105'},\n",
       " 641: {'name': 'FVL-K107'},\n",
       " 642: {'name': 'FVL-K108'},\n",
       " 638: {'name': 'FVL-K109'},\n",
       " 11525: {'name': 'FVL-K110'},\n",
       " 11386: {'name': 'FVL-K111'},\n",
       " 380: {'name': 'FVT-K201'},\n",
       " 373: {'name': 'FVT-K202'},\n",
       " 415: {'name': 'FVT-K203'},\n",
       " 448: {'name': 'FVT-K205'},\n",
       " 441: {'name': 'FVT-K206'},\n",
       " 435: {'name': 'FVT-K207'},\n",
       " 462: {'name': 'FVT-K208'},\n",
       " 11533: {'name': 'FVT-K209'},\n",
       " 412: {'name': 'FVT-K210'},\n",
       " 11537: {'name': 'FVT-K211'},\n",
       " 399: {'name': 'FVT-K215'},\n",
       " 386: {'name': 'FVT-K216'},\n",
       " 419: {'name': 'FVT-K217'},\n",
       " 654: {'name': 'FVZ-K301'},\n",
       " 655: {'name': 'FVZ-K302'},\n",
       " 656: {'name': 'FVZ-K303'},\n",
       " 657: {'name': 'FVZ-K304'},\n",
       " 659: {'name': 'FVZ-K306'},\n",
       " 661: {'name': 'FVZ-K307'},\n",
       " 663: {'name': 'FVZ-K308'},\n",
       " 667: {'name': 'ÚOPZHN'}}"
      ]
     },
     "execution_count": 171,
     "metadata": {},
     "output_type": "execute_result"
    }
   ],
   "source": [
    "departmentData = {}\n",
    "for department in data['departments']:\n",
    "    departmentData[department['id']] = {'name': department['name']}\n",
    "    \n",
    "departmentData"
   ]
  },
  {
   "cell_type": "markdown",
   "metadata": {},
   "source": [
    "**Příklad**"
   ]
  },
  {
   "cell_type": "markdown",
   "metadata": {},
   "source": [
    "Vypište první dvě události"
   ]
  },
  {
   "cell_type": "code",
   "execution_count": null,
   "metadata": {},
   "outputs": [],
   "source": []
  },
  {
   "cell_type": "markdown",
   "metadata": {},
   "source": [
    "**Řešení**"
   ]
  },
  {
   "cell_type": "code",
   "execution_count": 169,
   "metadata": {
    "jupyter": {
     "source_hidden": true
    },
    "tags": []
   },
   "outputs": [
    {
     "data": {
      "text/plain": [
       "[{'id': '2D2B1C90-F4FF-11EB-9B74-520D00000000',\n",
       "  'typeId': 'F00CB650-9768-11EB-87D2-030800000000',\n",
       "  'startTime': {'hours': 14, 'minutes': 30},\n",
       "  'endTime': {'hours': 16, 'minutes': 0},\n",
       "  'dateCode': '2021-11-15',\n",
       "  'date': {'day': 15, 'month': 11, 'year': 2021},\n",
       "  'categoryId': 1,\n",
       "  'subjectId': 32269,\n",
       "  'subjectName': 'Letecké elektronické systémy II',\n",
       "  'departmentId': 441,\n",
       "  'departmentName': 'FVT-K206',\n",
       "  'topic': '3. Syntéza kmitočtu ',\n",
       "  'topicId': 62645,\n",
       "  'masterId': '62645/2',\n",
       "  'timeslotsId': 1,\n",
       "  'timeslotsName': 'BR',\n",
       "  'lessonOrder': 8,\n",
       "  'lessonFormId': 2,\n",
       "  'lessonFormName': 'CV',\n",
       "  'lessonUnit': 45,\n",
       "  'lessonsCount': 2,\n",
       "  'groupsIds': ['A8CFD4D0-8CA4-11EB-BA48-520D00000000'],\n",
       "  'groupsNames': ['23-3LT-AV-C'],\n",
       "  'groupsEntryYearsIds': [],\n",
       "  'classroomsIds': [331],\n",
       "  'classroomsNames': ['Č1/120'],\n",
       "  'classroomsAreasIds': [2],\n",
       "  'teachersIds': [540],\n",
       "  'teachersNames': ['Němeček, Jiří'],\n",
       "  'teachersDepartmentsIds': [441],\n",
       "  'isLocked': True},\n",
       " {'id': 'C65A0170-F4FE-11EB-9B74-520D00000000',\n",
       "  'typeId': 'EFAE42A0-9768-11EB-87D2-030800000000',\n",
       "  'startTime': {'hours': 9, 'minutes': 50},\n",
       "  'endTime': {'hours': 11, 'minutes': 20},\n",
       "  'dateCode': '2021-10-19',\n",
       "  'date': {'day': 19, 'month': 10, 'year': 2021},\n",
       "  'categoryId': 1,\n",
       "  'subjectId': 32269,\n",
       "  'subjectName': 'Letecké elektronické systémy II',\n",
       "  'departmentId': 441,\n",
       "  'departmentName': 'FVT-K206',\n",
       "  'topic': '1. Letecké rádiové přijímače',\n",
       "  'topicId': 62609,\n",
       "  'masterId': '62609/4',\n",
       "  'timeslotsId': 1,\n",
       "  'timeslotsName': 'BR',\n",
       "  'lessonOrder': 3,\n",
       "  'lessonFormId': 4,\n",
       "  'lessonFormName': 'LAB',\n",
       "  'lessonUnit': 45,\n",
       "  'lessonsCount': 2,\n",
       "  'groupsIds': ['A8CFD4D0-8CA4-11EB-BA48-520D00000000'],\n",
       "  'groupsNames': ['23-3LT-AV-C'],\n",
       "  'groupsEntryYearsIds': [],\n",
       "  'classroomsIds': [332],\n",
       "  'classroomsNames': ['Č1/121'],\n",
       "  'classroomsAreasIds': [2],\n",
       "  'teachersIds': [540],\n",
       "  'teachersNames': ['Němeček, Jiří'],\n",
       "  'teachersDepartmentsIds': [441],\n",
       "  'isLocked': True}]"
      ]
     },
     "execution_count": 169,
     "metadata": {},
     "output_type": "execute_result"
    }
   ],
   "source": [
    "data['events'][:2]"
   ]
  },
  {
   "cell_type": "markdown",
   "metadata": {},
   "source": [
    "**Příklad**"
   ]
  },
  {
   "cell_type": "markdown",
   "metadata": {},
   "source": [
    "Zjistěte, zda událost ulo6en8 pod indexem 10 obsahuje data v klíči `teachersDepartmentsIds`"
   ]
  },
  {
   "cell_type": "code",
   "execution_count": null,
   "metadata": {},
   "outputs": [],
   "source": [
    "# ziskej udalost\n",
    "# zjisti pritomnost klice"
   ]
  },
  {
   "cell_type": "markdown",
   "metadata": {},
   "source": [
    "**Řešení**"
   ]
  },
  {
   "cell_type": "code",
   "execution_count": 175,
   "metadata": {},
   "outputs": [
    {
     "data": {
      "text/plain": [
       "True"
      ]
     },
     "execution_count": 175,
     "metadata": {},
     "output_type": "execute_result"
    }
   ],
   "source": [
    "event = data['events'][10]\n",
    "'teachersDepartmentsIds' in event"
   ]
  },
  {
   "cell_type": "markdown",
   "metadata": {},
   "source": [
    "**Příklad**"
   ]
  },
  {
   "cell_type": "markdown",
   "metadata": {},
   "source": [
    "Napište funkci, která vrátí `lessonFormName` z události. V případě, kdy typ lekce není určen, vrátí `'<?>'`"
   ]
  },
  {
   "cell_type": "code",
   "execution_count": null,
   "metadata": {},
   "outputs": [],
   "source": [
    "def getLessonFormName(event):\n",
    "    # neco\n",
    "    # test klice\n",
    "    # neco\n",
    "    # neco\n",
    "    \n",
    "getLessonFormName(data['events'][2])"
   ]
  },
  {
   "cell_type": "markdown",
   "metadata": {},
   "source": [
    "**Řešení**"
   ]
  },
  {
   "cell_type": "code",
   "execution_count": 182,
   "metadata": {},
   "outputs": [
    {
     "data": {
      "text/plain": [
       "'LAB'"
      ]
     },
     "execution_count": 182,
     "metadata": {},
     "output_type": "execute_result"
    }
   ],
   "source": [
    "# Varianta A\n",
    "def getLessonFormName(event):\n",
    "    result = '<?>'\n",
    "    if 'lessonFormName' in event:\n",
    "        result = event['lessonFormName']\n",
    "    return result\n",
    "    \n",
    "# Varianta B\n",
    "def getLessonFormName(event):\n",
    "    return event.get('lessonFormName', '<?>')\n",
    "    \n",
    "# Varianta C\n",
    "getLessonFormName = lambda event: event.get('lessonFormName', '<?>')\n",
    "\n",
    "getLessonFormName(data['events'][2])"
   ]
  },
  {
   "cell_type": "markdown",
   "metadata": {},
   "source": [
    "**Příklad**"
   ]
  },
  {
   "cell_type": "markdown",
   "metadata": {},
   "source": [
    "Získejte přehled o všech typech lekcí"
   ]
  },
  {
   "cell_type": "code",
   "execution_count": null,
   "metadata": {},
   "outputs": [],
   "source": [
    "lessonTypes = []\n",
    "for event in data['events']:\n",
    "    lessonFormName = # neco\n",
    "    # neco\n",
    "    # neco\n",
    "    # neco\n",
    "    # neco\n",
    "    lessonTypes.append(lessonFormName)\n",
    "\n",
    "lessonTypes"
   ]
  },
  {
   "cell_type": "markdown",
   "metadata": {},
   "source": [
    "**Řešení**"
   ]
  },
  {
   "cell_type": "code",
   "execution_count": 178,
   "metadata": {
    "jupyter": {
     "source_hidden": true
    },
    "tags": []
   },
   "outputs": [
    {
     "data": {
      "text/plain": [
       "['CV',\n",
       " 'LAB',\n",
       " 'P',\n",
       " 'SEM',\n",
       " 'PV',\n",
       " 'EX',\n",
       " 'PX',\n",
       " 'SMP',\n",
       " 'KON',\n",
       " 'TER',\n",
       " 'SZK',\n",
       " 'J',\n",
       " 'KRZ',\n",
       " 'STŽ',\n",
       " 'ZK',\n",
       " 'KOL']"
      ]
     },
     "execution_count": 178,
     "metadata": {},
     "output_type": "execute_result"
    }
   ],
   "source": [
    "lessonTypes = []\n",
    "for event in data['events']:\n",
    "    lessonFormName = event.get('lessonFormName', None)\n",
    "    if lessonFormName is None:\n",
    "        continue\n",
    "    if lessonFormName in lessonTypes:\n",
    "        continue\n",
    "    lessonTypes.append(lessonFormName)\n",
    "\n",
    "lessonTypes"
   ]
  },
  {
   "cell_type": "markdown",
   "metadata": {},
   "source": [
    "**Příklad**"
   ]
  },
  {
   "cell_type": "markdown",
   "metadata": {},
   "source": [
    "Získejte součty po typech lekcí do pomocné datové struktury"
   ]
  },
  {
   "cell_type": "code",
   "execution_count": null,
   "metadata": {},
   "outputs": [],
   "source": [
    "for event in data['events']:\n",
    "    lessonFormName = # ziskej typ lekce\n",
    "    lessonsCount = # ziskej pocet lekci\n",
    "    if lessonFormName is None:\n",
    "        continue\n",
    "\n",
    "    # pro vsechny deparmenty\n",
    "        departmentRecord = # ziskej z departmentData zaznam\n",
    "        if departmentRecord is None:\n",
    "            #print(f'{departmentId} has not been found', event['teachersNames'])\n",
    "            continue\n",
    "        # pozmen departmentRecord\n",
    "        \n",
    "departmentData"
   ]
  },
  {
   "cell_type": "markdown",
   "metadata": {},
   "source": [
    "**Řešení**"
   ]
  },
  {
   "cell_type": "code",
   "execution_count": 183,
   "metadata": {
    "jupyter": {
     "source_hidden": true
    },
    "tags": []
   },
   "outputs": [
    {
     "data": {
      "text/plain": [
       "{11504: {'name': 'CBVSS',\n",
       "  'P': 3528,\n",
       "  'SEM': 4975,\n",
       "  'SMP': 204,\n",
       "  'CV': 1980,\n",
       "  'TER': 108,\n",
       "  'KON': 1748,\n",
       "  'LAB': 4},\n",
       " 2890: {'name': 'CJV', 'CV': 80226, 'P': 324, 'LAB': 54, 'SEM': 48},\n",
       " 2891: {'name': 'CTVS', 'CV': 268212, 'PV': 22425, 'P': 213},\n",
       " 635: {'name': 'FVL-K101', 'CV': 1332, 'P': 1626},\n",
       " 11515: {'name': 'FVL-K102',\n",
       "  'CV': 3662,\n",
       "  'P': 3028,\n",
       "  'SEM': 2073,\n",
       "  'J': 6,\n",
       "  'PV': 8400},\n",
       " 8917: {'name': 'FVL-K104', 'CV': 2718, 'SEM': 2250, 'P': 2075},\n",
       " 11521: {'name': 'FVL-K105',\n",
       "  'SEM': 3830,\n",
       "  'CV': 1284,\n",
       "  'P': 9570,\n",
       "  'EX': 246,\n",
       "  'TER': 162,\n",
       "  'PX': 38616},\n",
       " 641: {'name': 'FVL-K107', 'CV': 1077, 'P': 996, 'SEM': 60, 'PV': 15612},\n",
       " 642: {'name': 'FVL-K108', 'SEM': 270, 'P': 450, 'CV': 702, 'PV': 1503},\n",
       " 638: {'name': 'FVL-K109',\n",
       "  'PV': 1950,\n",
       "  'CV': 1296,\n",
       "  'SEM': 162,\n",
       "  'P': 882,\n",
       "  'EX': 5496,\n",
       "  'KRZ': 153,\n",
       "  'STŽ': 1944},\n",
       " 11525: {'name': 'FVL-K110',\n",
       "  'CV': 914,\n",
       "  'P': 1647,\n",
       "  'SEM': 1292,\n",
       "  'PV': 3894,\n",
       "  'TER': 7344,\n",
       "  'EX': 192,\n",
       "  'KON': 840},\n",
       " 11386: {'name': 'FVL-K111',\n",
       "  'P': 2406,\n",
       "  'CV': 1502,\n",
       "  'SEM': 404,\n",
       "  'PV': 1776,\n",
       "  'KON': 15,\n",
       "  'LAB': 24,\n",
       "  'EX': 96},\n",
       " 380: {'name': 'FVT-K201',\n",
       "  'P': 2988,\n",
       "  'PV': 9321,\n",
       "  'CV': 1140,\n",
       "  'SEM': 372,\n",
       "  'LAB': 594,\n",
       "  'EX': 135},\n",
       " 373: {'name': 'FVT-K202',\n",
       "  'LAB': 676,\n",
       "  'P': 1725,\n",
       "  'SEM': 320,\n",
       "  'PX': 2520,\n",
       "  'CV': 366,\n",
       "  'PV': 1350,\n",
       "  'EX': 7962},\n",
       " 415: {'name': 'FVT-K203',\n",
       "  'P': 1328,\n",
       "  'SEM': 408,\n",
       "  'CV': 546,\n",
       "  'PV': 13122,\n",
       "  'LAB': 330,\n",
       "  'PX': 645},\n",
       " 448: {'name': 'FVT-K205',\n",
       "  'SEM': 200,\n",
       "  'P': 3122,\n",
       "  'EX': 234,\n",
       "  'PX': 270,\n",
       "  'CV': 585,\n",
       "  'PV': 10442},\n",
       " 441: {'name': 'FVT-K206',\n",
       "  'CV': 1206,\n",
       "  'LAB': 1258,\n",
       "  'P': 7492,\n",
       "  'SEM': 706,\n",
       "  'PV': 18542,\n",
       "  'EX': 246,\n",
       "  'SMP': 18},\n",
       " 435: {'name': 'FVT-K207',\n",
       "  'CV': 1590,\n",
       "  'EX': 936,\n",
       "  'P': 3942,\n",
       "  'LAB': 1524,\n",
       "  'KON': 105,\n",
       "  'SEM': 300,\n",
       "  'PV': 1704},\n",
       " 462: {'name': 'FVT-K208',\n",
       "  'PX': 72,\n",
       "  'P': 894,\n",
       "  'SEM': 444,\n",
       "  'CV': 552,\n",
       "  'PV': 2925,\n",
       "  'LAB': 6,\n",
       "  'KOL': 24},\n",
       " 11533: {'name': 'FVT-K209',\n",
       "  'CV': 1066,\n",
       "  'P': 6123,\n",
       "  'SEM': 168,\n",
       "  'LAB': 12585,\n",
       "  'PX': 18,\n",
       "  'PV': 8550,\n",
       "  'SMP': 600},\n",
       " 412: {'name': 'FVT-K210',\n",
       "  'P': 3762,\n",
       "  'PV': 13752,\n",
       "  'CV': 2067,\n",
       "  'LAB': 210,\n",
       "  'SEM': 180,\n",
       "  'TER': 150},\n",
       " 11537: {'name': 'FVT-K211', 'P': 267, 'CV': 390, 'LAB': 72, 'J': 18},\n",
       " 399: {'name': 'FVT-K215', 'CV': 5586, 'LAB': 1854, 'P': 5760},\n",
       " 386: {'name': 'FVT-K216', 'CV': 1770, 'P': 2854, 'SEM': 136, 'LAB': 194},\n",
       " 419: {'name': 'FVT-K217', 'LAB': 2730, 'P': 3492, 'CV': 1272},\n",
       " 654: {'name': 'FVZ-K301', 'SEM': 54},\n",
       " 655: {'name': 'FVZ-K302', 'P': 804, 'CV': 201, 'SEM': 153, 'TER': 237},\n",
       " 656: {'name': 'FVZ-K303', 'P': 153, 'SEM': 81, 'CV': 54},\n",
       " 657: {'name': 'FVZ-K304', 'P': 180, 'CV': 34, 'SEM': 27},\n",
       " 659: {'name': 'FVZ-K306', 'P': 111, 'SEM': 3, 'CV': 220},\n",
       " 661: {'name': 'FVZ-K307', 'SEM': 18, 'CV': 478, 'P': 75},\n",
       " 663: {'name': 'FVZ-K308', 'P': 1689, 'CV': 2121, 'SEM': 48},\n",
       " 667: {'name': 'ÚOPZHN',\n",
       "  'CV': 72,\n",
       "  'P': 1206,\n",
       "  'SEM': 66,\n",
       "  'PV': 1290,\n",
       "  'LAB': 486}}"
      ]
     },
     "execution_count": 183,
     "metadata": {},
     "output_type": "execute_result"
    }
   ],
   "source": [
    "for event in data['events']:\n",
    "    lessonFormName = event.get('lessonFormName', None)\n",
    "    lessonsCount = event.get('lessonsCount', 0)\n",
    "    if lessonFormName is None:\n",
    "        continue\n",
    "        \n",
    "    for departmentId in event['teachersDepartmentsIds']:\n",
    "        departmentRecord = departmentData.get(departmentId, None)\n",
    "        if departmentRecord is None:\n",
    "            #print(f'{departmentId} has not been found', event['teachersNames'])\n",
    "            continue\n",
    "        departmentRecord[lessonFormName] = departmentRecord.get(lessonFormName, 0) + lessonsCount\n",
    "        \n",
    "departmentData"
   ]
  },
  {
   "cell_type": "markdown",
   "metadata": {},
   "source": [
    "**Příklad**"
   ]
  },
  {
   "cell_type": "markdown",
   "metadata": {},
   "source": [
    "Doplňte do dat sumy plánovaných hodin"
   ]
  },
  {
   "cell_type": "code",
   "execution_count": 190,
   "metadata": {},
   "outputs": [],
   "source": [
    "for id, row in departmentData.items():\n",
    "    # neco\n",
    "    for lessonType in lessonTypes:\n",
    "        # neco\n",
    "        # neco\n",
    "        \n",
    "departmentData"
   ]
  },
  {
   "cell_type": "markdown",
   "metadata": {},
   "source": [
    "**Řešení**"
   ]
  },
  {
   "cell_type": "code",
   "execution_count": 189,
   "metadata": {
    "jupyter": {
     "source_hidden": true
    },
    "tags": []
   },
   "outputs": [
    {
     "data": {
      "text/plain": [
       "{11504: {'name': 'CBVSS',\n",
       "  'P': 3528,\n",
       "  'SEM': 4975,\n",
       "  'SMP': 204,\n",
       "  'CV': 1980,\n",
       "  'TER': 108,\n",
       "  'KON': 1748,\n",
       "  'LAB': 4,\n",
       "  'total': 12547},\n",
       " 2890: {'name': 'CJV',\n",
       "  'CV': 80226,\n",
       "  'P': 324,\n",
       "  'LAB': 54,\n",
       "  'SEM': 48,\n",
       "  'total': 80652},\n",
       " 2891: {'name': 'CTVS', 'CV': 268212, 'PV': 22425, 'P': 213, 'total': 290850},\n",
       " 635: {'name': 'FVL-K101', 'CV': 1332, 'P': 1626, 'total': 2958},\n",
       " 11515: {'name': 'FVL-K102',\n",
       "  'CV': 3662,\n",
       "  'P': 3028,\n",
       "  'SEM': 2073,\n",
       "  'J': 6,\n",
       "  'PV': 8400,\n",
       "  'total': 17169},\n",
       " 8917: {'name': 'FVL-K104', 'CV': 2718, 'SEM': 2250, 'P': 2075, 'total': 7043},\n",
       " 11521: {'name': 'FVL-K105',\n",
       "  'SEM': 3830,\n",
       "  'CV': 1284,\n",
       "  'P': 9570,\n",
       "  'EX': 246,\n",
       "  'TER': 162,\n",
       "  'PX': 38616,\n",
       "  'total': 53708},\n",
       " 641: {'name': 'FVL-K107',\n",
       "  'CV': 1077,\n",
       "  'P': 996,\n",
       "  'SEM': 60,\n",
       "  'PV': 15612,\n",
       "  'total': 17745},\n",
       " 642: {'name': 'FVL-K108',\n",
       "  'SEM': 270,\n",
       "  'P': 450,\n",
       "  'CV': 702,\n",
       "  'PV': 1503,\n",
       "  'total': 2925},\n",
       " 638: {'name': 'FVL-K109',\n",
       "  'PV': 1950,\n",
       "  'CV': 1296,\n",
       "  'SEM': 162,\n",
       "  'P': 882,\n",
       "  'EX': 5496,\n",
       "  'KRZ': 153,\n",
       "  'STŽ': 1944,\n",
       "  'total': 11883},\n",
       " 11525: {'name': 'FVL-K110',\n",
       "  'CV': 914,\n",
       "  'P': 1647,\n",
       "  'SEM': 1292,\n",
       "  'PV': 3894,\n",
       "  'TER': 7344,\n",
       "  'EX': 192,\n",
       "  'KON': 840,\n",
       "  'total': 16123},\n",
       " 11386: {'name': 'FVL-K111',\n",
       "  'P': 2406,\n",
       "  'CV': 1502,\n",
       "  'SEM': 404,\n",
       "  'PV': 1776,\n",
       "  'KON': 15,\n",
       "  'LAB': 24,\n",
       "  'EX': 96,\n",
       "  'total': 6223},\n",
       " 380: {'name': 'FVT-K201',\n",
       "  'P': 2988,\n",
       "  'PV': 9321,\n",
       "  'CV': 1140,\n",
       "  'SEM': 372,\n",
       "  'LAB': 594,\n",
       "  'EX': 135,\n",
       "  'total': 14550},\n",
       " 373: {'name': 'FVT-K202',\n",
       "  'LAB': 676,\n",
       "  'P': 1725,\n",
       "  'SEM': 320,\n",
       "  'PX': 2520,\n",
       "  'CV': 366,\n",
       "  'PV': 1350,\n",
       "  'EX': 7962,\n",
       "  'total': 14919},\n",
       " 415: {'name': 'FVT-K203',\n",
       "  'P': 1328,\n",
       "  'SEM': 408,\n",
       "  'CV': 546,\n",
       "  'PV': 13122,\n",
       "  'LAB': 330,\n",
       "  'PX': 645,\n",
       "  'total': 16379},\n",
       " 448: {'name': 'FVT-K205',\n",
       "  'SEM': 200,\n",
       "  'P': 3122,\n",
       "  'EX': 234,\n",
       "  'PX': 270,\n",
       "  'CV': 585,\n",
       "  'PV': 10442,\n",
       "  'total': 14853},\n",
       " 441: {'name': 'FVT-K206',\n",
       "  'CV': 1206,\n",
       "  'LAB': 1258,\n",
       "  'P': 7492,\n",
       "  'SEM': 706,\n",
       "  'PV': 18542,\n",
       "  'EX': 246,\n",
       "  'SMP': 18,\n",
       "  'total': 29468},\n",
       " 435: {'name': 'FVT-K207',\n",
       "  'CV': 1590,\n",
       "  'EX': 936,\n",
       "  'P': 3942,\n",
       "  'LAB': 1524,\n",
       "  'KON': 105,\n",
       "  'SEM': 300,\n",
       "  'PV': 1704,\n",
       "  'total': 10101},\n",
       " 462: {'name': 'FVT-K208',\n",
       "  'PX': 72,\n",
       "  'P': 894,\n",
       "  'SEM': 444,\n",
       "  'CV': 552,\n",
       "  'PV': 2925,\n",
       "  'LAB': 6,\n",
       "  'KOL': 24,\n",
       "  'total': 4917},\n",
       " 11533: {'name': 'FVT-K209',\n",
       "  'CV': 1066,\n",
       "  'P': 6123,\n",
       "  'SEM': 168,\n",
       "  'LAB': 12585,\n",
       "  'PX': 18,\n",
       "  'PV': 8550,\n",
       "  'SMP': 600,\n",
       "  'total': 29110},\n",
       " 412: {'name': 'FVT-K210',\n",
       "  'P': 3762,\n",
       "  'PV': 13752,\n",
       "  'CV': 2067,\n",
       "  'LAB': 210,\n",
       "  'SEM': 180,\n",
       "  'TER': 150,\n",
       "  'total': 20121},\n",
       " 11537: {'name': 'FVT-K211',\n",
       "  'P': 267,\n",
       "  'CV': 390,\n",
       "  'LAB': 72,\n",
       "  'J': 18,\n",
       "  'total': 747},\n",
       " 399: {'name': 'FVT-K215', 'CV': 5586, 'LAB': 1854, 'P': 5760, 'total': 13200},\n",
       " 386: {'name': 'FVT-K216',\n",
       "  'CV': 1770,\n",
       "  'P': 2854,\n",
       "  'SEM': 136,\n",
       "  'LAB': 194,\n",
       "  'total': 4954},\n",
       " 419: {'name': 'FVT-K217', 'LAB': 2730, 'P': 3492, 'CV': 1272, 'total': 7494},\n",
       " 654: {'name': 'FVZ-K301', 'SEM': 54, 'total': 54},\n",
       " 655: {'name': 'FVZ-K302',\n",
       "  'P': 804,\n",
       "  'CV': 201,\n",
       "  'SEM': 153,\n",
       "  'TER': 237,\n",
       "  'total': 1395},\n",
       " 656: {'name': 'FVZ-K303', 'P': 153, 'SEM': 81, 'CV': 54, 'total': 288},\n",
       " 657: {'name': 'FVZ-K304', 'P': 180, 'CV': 34, 'SEM': 27, 'total': 241},\n",
       " 659: {'name': 'FVZ-K306', 'P': 111, 'SEM': 3, 'CV': 220, 'total': 334},\n",
       " 661: {'name': 'FVZ-K307', 'SEM': 18, 'CV': 478, 'P': 75, 'total': 571},\n",
       " 663: {'name': 'FVZ-K308', 'P': 1689, 'CV': 2121, 'SEM': 48, 'total': 3858},\n",
       " 667: {'name': 'ÚOPZHN',\n",
       "  'CV': 72,\n",
       "  'P': 1206,\n",
       "  'SEM': 66,\n",
       "  'PV': 1290,\n",
       "  'LAB': 486,\n",
       "  'total': 3120}}"
      ]
     },
     "execution_count": 189,
     "metadata": {},
     "output_type": "execute_result"
    }
   ],
   "source": [
    "for id, row in departmentData.items():\n",
    "    row['total'] = 0\n",
    "    for lessonType in lessonTypes:\n",
    "        cnt = row.get(lessonType, 0)\n",
    "        row['total'] = row['total'] + cnt\n",
    "        \n",
    "departmentData"
   ]
  },
  {
   "cell_type": "markdown",
   "metadata": {},
   "source": [
    "**Příklad**"
   ]
  },
  {
   "cell_type": "markdown",
   "metadata": {},
   "source": [
    "Vytvořte vektor názvů departments a vektor jejich celkového počtu odučených hodin"
   ]
  },
  {
   "cell_type": "code",
   "execution_count": null,
   "metadata": {},
   "outputs": [],
   "source": [
    "depNames = []\n",
    "depTotals = []\n",
    "# cyklus\n",
    "    # neco\n",
    "    # neco\n",
    "\n",
    "print(depNames)\n",
    "print(depTotals)"
   ]
  },
  {
   "cell_type": "markdown",
   "metadata": {},
   "source": [
    "**Řešení**"
   ]
  },
  {
   "cell_type": "code",
   "execution_count": 191,
   "metadata": {
    "jupyter": {
     "source_hidden": true
    },
    "tags": []
   },
   "outputs": [
    {
     "name": "stdout",
     "output_type": "stream",
     "text": [
      "['CBVSS', 'CJV', 'CTVS', 'FVL-K101', 'FVL-K102', 'FVL-K104', 'FVL-K105', 'FVL-K107', 'FVL-K108', 'FVL-K109', 'FVL-K110', 'FVL-K111', 'FVT-K201', 'FVT-K202', 'FVT-K203', 'FVT-K205', 'FVT-K206', 'FVT-K207', 'FVT-K208', 'FVT-K209', 'FVT-K210', 'FVT-K211', 'FVT-K215', 'FVT-K216', 'FVT-K217', 'FVZ-K301', 'FVZ-K302', 'FVZ-K303', 'FVZ-K304', 'FVZ-K306', 'FVZ-K307', 'FVZ-K308', 'ÚOPZHN']\n",
      "[12547, 80652, 290850, 2958, 17169, 7043, 53708, 17745, 2925, 11883, 16123, 6223, 14550, 14919, 16379, 14853, 29468, 10101, 4917, 29110, 20121, 747, 13200, 4954, 7494, 54, 1395, 288, 241, 334, 571, 3858, 3120]\n"
     ]
    }
   ],
   "source": [
    "depNames = []\n",
    "depTotals = []\n",
    "for id, row in departmentData.items():\n",
    "    depNames.append(row['name'])\n",
    "    depTotals.append(row['total'])\n",
    "\n",
    "print(depNames)\n",
    "print(depTotals)"
   ]
  },
  {
   "cell_type": "markdown",
   "metadata": {},
   "source": [
    "**Příklad**"
   ]
  },
  {
   "cell_type": "markdown",
   "metadata": {},
   "source": [
    "Vytvořte koláčový graf jehož díly odpovídají položce `total`"
   ]
  },
  {
   "cell_type": "code",
   "execution_count": null,
   "metadata": {},
   "outputs": [],
   "source": [
    "import matplotlib.pyplot as plt\n",
    "\n",
    "# neco;"
   ]
  },
  {
   "cell_type": "markdown",
   "metadata": {},
   "source": [
    "**Řešení**"
   ]
  },
  {
   "cell_type": "code",
   "execution_count": 193,
   "metadata": {
    "jupyter": {
     "source_hidden": true
    },
    "tags": []
   },
   "outputs": [
    {
     "data": {
      "image/png": "[encoded data removed]",
      "text/plain": [
       "<Figure size 432x288 with 1 Axes>"
      ]
     },
     "metadata": {},
     "output_type": "display_data"
    }
   ],
   "source": [
    "import matplotlib.pyplot as plt\n",
    "\n",
    "plt.pie(depTotals, labels=depNames);"
   ]
  },
  {
   "cell_type": "markdown",
   "metadata": {},
   "source": [
    "**Příklad**"
   ]
  },
  {
   "cell_type": "markdown",
   "metadata": {},
   "source": [
    "Vytvořte koláčové grafy po fakultách"
   ]
  },
  {
   "cell_type": "code",
   "execution_count": null,
   "metadata": {},
   "outputs": [],
   "source": []
  },
  {
   "cell_type": "markdown",
   "metadata": {},
   "source": [
    "**Řešení**"
   ]
  },
  {
   "cell_type": "code",
   "execution_count": null,
   "metadata": {},
   "outputs": [],
   "source": []
  }
 ],
 "metadata": {
  "colab": {
   "name": "05_dataanalysis.ipynb",
   "provenance": []
  },
  "kernelspec": {
   "display_name": "Python 3 (ipykernel)",
   "language": "python",
   "name": "python3"
  },
  "language_info": {
   "codemirror_mode": {
    "name": "ipython",
    "version": 3
   },
   "file_extension": ".py",
   "mimetype": "text/x-python",
   "name": "python",
   "nbconvert_exporter": "python",
   "pygments_lexer": "ipython3",
   "version": "3.9.7"
  },
  "toc-autonumbering": true
 },
 "nbformat": 4,
 "nbformat_minor": 4
}
