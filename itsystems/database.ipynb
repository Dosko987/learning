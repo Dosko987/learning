{
  "nbformat": 4,
  "nbformat_minor": 0,
  "metadata": {
    "colab": {
      "name": "database.ipynb",
      "provenance": [],
      "authorship_tag": "ABX9TyOCFxLj1cowTQvJxlxOPyI5",
      "include_colab_link": true
    },
    "kernelspec": {
      "name": "python3",
      "display_name": "Python 3"
    }
  },
  "cells": [
    {
      "cell_type": "markdown",
      "metadata": {
        "id": "view-in-github",
        "colab_type": "text"
      },
      "source": [
        "<a href=\"https://colab.research.google.com/github/hrbolek/learning/blob/master/itsystems/database.ipynb\" target=\"_parent\"><img src=\"https://colab.research.google.com/assets/colab-badge.svg\" alt=\"Open In Colab\"/></a>"
      ]
    },
    {
      "cell_type": "markdown",
      "metadata": {
        "id": "O0wenB8ALtF3",
        "colab_type": "text"
      },
      "source": [
        "# Databázové systémy\n",
        "\n",
        "##  Úvod\n",
        "\n",
        "Databázové systémy slouží k ukládání dat. \n",
        "\n",
        "Data lze podle charakteru rozdělit do dvou základních kategorií:\n",
        "- Homogenní data\n",
        "- Heterogenní data\n",
        "\n",
        "Homogeními daty rozumíme data, která mají stejnou strukturu narozdíl od heterogenních dat, kde je struktura odlišná.\n",
        "\n",
        "Homogenní data lze přirovnat k tabulce v Excelu, která má definovaný počet sloupců a těchnto sloupcích jsou uloženy hodnoty.\n"
      ]
    },
    {
      "cell_type": "code",
      "metadata": {
        "id": "_FyStCMwLdmM",
        "colab_type": "code",
        "colab": {}
      },
      "source": [
        ""
      ],
      "execution_count": 0,
      "outputs": []
    }
  ]
}