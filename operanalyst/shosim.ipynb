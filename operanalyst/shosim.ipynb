{
  "nbformat": 4,
  "nbformat_minor": 0,
  "metadata": {
    "colab": {
      "name": "SHOSimulace.ipynb",
      "provenance": [],
      "toc_visible": true,
      "authorship_tag": "ABX9TyN/6QMaRu7mYHEnr9KQ+frX",
      "include_colab_link": true
    },
    "kernelspec": {
      "name": "python3",
      "display_name": "Python 3"
    }
  },
  "cells": [
    {
      "cell_type": "markdown",
      "metadata": {
        "id": "view-in-github",
        "colab_type": "text"
      },
      "source": [
        "<a href=\"https://colab.research.google.com/github/hrbolek/learning/blob/master/operanalyst/shosim.ipynb\" target=\"_parent\"><img src=\"https://colab.research.google.com/assets/colab-badge.svg\" alt=\"Open In Colab\"/></a>"
      ]
    },
    {
      "cell_type": "markdown",
      "metadata": {
        "id": "s1ri0sOJPP1M"
      },
      "source": [
        "# Teorie hromadné obsluhy"
      ]
    },
    {
      "cell_type": "markdown",
      "metadata": {
        "id": "Xwvnm5uC2f5R"
      },
      "source": [
        "## Teorie"
      ]
    },
    {
      "cell_type": "markdown",
      "metadata": {
        "id": "_8XOIHPS3M8W"
      },
      "source": [
        "### Otázky k vyřešení"
      ]
    },
    {
      "cell_type": "markdown",
      "metadata": {
        "id": "bgDf3eSO3Sqi"
      },
      "source": [
        "- Jak dlouhá bude fronta?\n",
        "- Jak dlouho se ve frontě čeká?\n",
        "- Jaká je pravděpodobnost, že obsluha je volná / nepracuje?"
      ]
    },
    {
      "cell_type": "markdown",
      "metadata": {
        "id": "n4pqlvA32h3E"
      },
      "source": [
        "### Rozdělení"
      ]
    },
    {
      "cell_type": "markdown",
      "metadata": {
        "id": "B5yaQW0b2kMd"
      },
      "source": [
        "- Systémy s čekáním. Požadavek, zákazník, letoun, apod. se zařadí do fronty a čeká na obsluhu.\n",
        "- Systémy s odmítnutím. Požadavek otestuje dostupnost obsluhy a jestliže není obsloužen, systém opouští (letoun).\n",
        "\n",
        "- Systémy s odchodem. Po určité době požadavek systém opouští, aniž by byl obsloužen."
      ]
    },
    {
      "cell_type": "markdown",
      "metadata": {
        "id": "GWFs2L7IPQQI"
      },
      "source": [
        "## Krátké připomenutí\n",
        "Kandalova notace\n",
        "\n",
        "Systémy M/M/1, M/M/n\n",
        "\n",
        "Pro systém M/M/1 platí rovnice o průměrné délce fronty\n",
        "\n",
        "$$L = \\frac{\\lambda}{\\mu}$$\n",
        "\n",
        "kde L je  průměrná délka fronty\n",
        "\n",
        "$\\lambda$ je intenzita toku požadavků\n",
        "\n",
        "$\\mu$ je intenzita obsluhy\n",
        "\n",
        "odkaz https://en.wikipedia.org/wiki/Queueing_theory"
      ]
    },
    {
      "cell_type": "markdown",
      "metadata": {
        "id": "jKgaFMd2PdhU"
      },
      "source": [
        "## Simulace toku požadavků"
      ]
    },
    {
      "cell_type": "markdown",
      "metadata": {
        "id": "cT8rQFS6PiC-"
      },
      "source": [
        "### Poisonův tok"
      ]
    },
    {
      "cell_type": "markdown",
      "metadata": {
        "id": "c60mgWOsPokb"
      },
      "source": [
        "Poisonův tok je model např. příchodu zákazníků k přepážce, kde jsou obsluhováni. Pro modelování potřebujeme generovat posloupnost příchodů. Interval mezi jednotlivými příchody lze generovat podle následujícího vztahu\n",
        "\n",
        "$$r'=-\\frac{1}{\\lambda}ln(r)$$\n",
        "\n",
        "kde $r$ je náhodné číslo s rovnoměrným rozložením a $r'$ je náhodný interval mezi dvěma příchody.\n",
        "\n",
        "Stejným vztahem lze vypočítat náhodnou délku obsluhy (pro systémy M/M/1 nebo M/M/n)\n",
        "\n",
        "https://preshing.com/20111007/how-to-generate-random-timings-for-a-poisson-process/"
      ]
    },
    {
      "cell_type": "code",
      "metadata": {
        "id": "fSNsN8NVcx3I"
      },
      "source": [
        "import numpy as np\n",
        "from numpy.random import Generator, exponential\n",
        "\n",
        "import matplotlib.pyplot as plt\n",
        "from pylab import rcParams\n",
        "rcParams['figure.figsize'] = 15, 10"
      ],
      "execution_count": 3,
      "outputs": []
    },
    {
      "cell_type": "code",
      "metadata": {
        "id": "yr5btoT4Pyni"
      },
      "source": [
        "from random import random\n",
        "from math import log as ln\n",
        "\n",
        "def rndEx(rnd, lam):\n",
        "  x = rnd()\n",
        "  result = (-1 / lam) * ln(x) #https://preshing.com/20111007/how-to-generate-random-timings-for-a-poisson-process/\n",
        "  return result"
      ],
      "execution_count": 4,
      "outputs": []
    },
    {
      "cell_type": "markdown",
      "metadata": {
        "id": "1e5k7NzNeMbW"
      },
      "source": [
        "### Graf četností"
      ]
    },
    {
      "cell_type": "markdown",
      "metadata": {
        "id": "bWb44NRfdwEu"
      },
      "source": [
        "Graf četností ukazuje rozložení generovaných náhodných veličin."
      ]
    },
    {
      "cell_type": "code",
      "metadata": {
        "id": "jk7yHHuCceEs",
        "outputId": "01a1b328-5121-41a4-b204-0ce16e9b54a9",
        "colab": {
          "base_uri": "https://localhost:8080/",
          "height": 606
        }
      },
      "source": [
        "lam = 0.5\n",
        "data = exponential(1 / lam, 1000)\n",
        "plt.hist(data)\n",
        "plt.grid('both')\n",
        "plt.xlabel('Hodnota')\n",
        "plt.ylabel('Četnost');"
      ],
      "execution_count": 5,
      "outputs": [
        {
          "output_type": "display_data",
          "data": {
            "image/png": "[encoded data removed]",
            "text/plain": [
              "<Figure size 1080x720 with 1 Axes>"
            ]
          },
          "metadata": {
            "tags": [],
            "needs_background": "light"
          }
        }
      ]
    },
    {
      "cell_type": "markdown",
      "metadata": {
        "id": "5vCoNH48buFI"
      },
      "source": [
        "### Časová posloupnost / vznik požadavků"
      ]
    },
    {
      "cell_type": "markdown",
      "metadata": {
        "id": "m0ogmlfhd62N"
      },
      "source": [
        "Pokud kumulativně sčítáme generované hodnoty, dostáváme okamžiky příchodů. Níže je zobrazena časová synchronizace dvou různých zdrojů."
      ]
    },
    {
      "cell_type": "code",
      "metadata": {
        "id": "D_eG7uL0P5f4",
        "outputId": "872ce286-fc65-41b2-96e9-099934bf6508",
        "colab": {
          "base_uri": "https://localhost:8080/",
          "height": 622
        }
      },
      "source": [
        "def plotFlow(maxTime, lam, color):\n",
        "  currentTime = 0\n",
        "  while currentTime < maxTime:\n",
        "    currentTime = currentTime + rndEx(random, lam)\n",
        "    plt.axvline(x = currentTime, color =color)\n",
        "\n",
        "plotFlow(30, 0.5, color='red')    \n",
        "plotFlow(30, 1, color='green')    \n",
        "plt.title('Dva toky s různou intenzitou')\n",
        "plt.xlabel('Čas');"
      ],
      "execution_count": 6,
      "outputs": [
        {
          "output_type": "display_data",
          "data": {
            "image/png": "[encoded data removed]",
            "text/plain": [
              "<Figure size 1080x720 with 1 Axes>"
            ]
          },
          "metadata": {
            "tags": [],
            "needs_background": "light"
          }
        }
      ]
    },
    {
      "cell_type": "markdown",
      "metadata": {
        "id": "Vn4bBljWb_3I"
      },
      "source": [
        ""
      ]
    },
    {
      "cell_type": "code",
      "metadata": {
        "id": "NhyiZqoDcB79"
      },
      "source": [
        "def generateSequenceX(maxTime, lam):\n",
        "  result = []\n",
        "  currentTime = 0\n",
        "  while currentTime < maxTime:\n",
        "    currentTime = currentTime + rndEx(random, lam)\n",
        "    result.append(currentTime)\n",
        "  return result"
      ],
      "execution_count": 7,
      "outputs": []
    },
    {
      "cell_type": "markdown",
      "metadata": {
        "id": "TwSsPJ6y0Nb3"
      },
      "source": [
        "## Událostní kalendář pro událostní simulaci"
      ]
    },
    {
      "cell_type": "markdown",
      "metadata": {
        "id": "qnYy24QHesJM"
      },
      "source": [
        "Třída pro událostní simulaci. Událostní simulace umožňuje spouštění událostí - akcí v časové souslednosti bez ohledu na souslednost plánování. \n",
        "\n",
        "Akce jsou v tomto případě popsány funkcemi, které jsou v simulaci volány s předpřipravenými parametry. "
      ]
    },
    {
      "cell_type": "code",
      "metadata": {
        "id": "kNdFHrQuYr9P"
      },
      "source": [
        "class EventCalendar:\n",
        "  def __init__(self):\n",
        "    self._queue = []\n",
        "    pass\n",
        "\n",
        "  #Metoda pro vykonání jednoho kroku simulace\n",
        "  def Step(self):\n",
        "    #z fronty odstraň nejstarší událost\n",
        "    currentEvent = self._queue.pop(0)\n",
        "\n",
        "    #vyvolej funkci, která je spojena s danou událostí\n",
        "    func = currentEvent['executor']\n",
        "    time = currentEvent['time']\n",
        "    result = func(time, **currentEvent['kwargs'])\n",
        "    \n",
        "    currentEvent['result'] = result\n",
        "    #vrať událost, která byla zpracována\n",
        "    return currentEvent\n",
        "\n",
        "  #Metoda pro získání informace o času nejstarší události, \n",
        "  #tj. události, která bude zpracována jako první\n",
        "  def PrepareNext(self):\n",
        "    #vrať čas nejstarší události\n",
        "    return self._queue[0]['time']\n",
        "\n",
        "  #Vložení události do fronty událostí, \n",
        "  #futureTime - čas, kdy bude událost vyvolána\n",
        "  #f - funkce, která bude v čase události vykonána / volána\n",
        "  def AddEvent(self, futureTime, f, **kwargs):\n",
        "    self._queue.append({'time': futureTime, 'executor': f, 'kwargs': kwargs})\n",
        "    #setřídit frontu / list událostí podle položky time / čas\n",
        "    self._queue.sort(key = lambda item: item['time'])\n",
        "    return self\n",
        "\n",
        "  def __iter__(self):  # we can return self here, because __next__ is implemented\n",
        "      return self\n",
        "\n",
        "  def __next__(self):\n",
        "    return self.Step()\n"
      ],
      "execution_count": 8,
      "outputs": []
    },
    {
      "cell_type": "markdown",
      "metadata": {
        "id": "zoX54i_Bf3aX"
      },
      "source": [
        "### Použití událostní simulace"
      ]
    },
    {
      "cell_type": "markdown",
      "metadata": {
        "id": "A97_tVaFeupj"
      },
      "source": [
        "Níže je definována funkce ```eventPrinter```, která vytiskne informaci o stavu simulace a naplánuje další událost."
      ]
    },
    {
      "cell_type": "code",
      "metadata": {
        "id": "2adGO-SSf6hm"
      },
      "source": [
        "def eventPrinter(time, calendar, value):\n",
        "  print(f'At time\\t{time}\\tvalue is\\t{value}')\n",
        "  calendar.AddEvent(time + random(), eventPrinter, calendar = calendar, value = value + 1)"
      ],
      "execution_count": 9,
      "outputs": []
    },
    {
      "cell_type": "markdown",
      "metadata": {
        "id": "LtXk_CSlfRYx"
      },
      "source": [
        "Na základě třídy ```EventCalendar``` je v náhodných čase volána funkce ```eventPrinter```. Tato funkce vytiskne informaci o stavu simulace a naplánuje další událost."
      ]
    },
    {
      "cell_type": "code",
      "metadata": {
        "id": "_hHuJJqHfHOT",
        "outputId": "79d18ae2-3cd3-433b-c965-b01947fe9293",
        "colab": {
          "base_uri": "https://localhost:8080/"
        }
      },
      "source": [
        "calendar = EventCalendar()\n",
        "calendar.AddEvent(0, eventPrinter, calendar = calendar, value = 0)\n",
        "\n",
        "for event in calendar:\n",
        "  print(f\"> At {event['time']} I have served an event\")\n",
        "  if event['time'] > 3:\n",
        "    break"
      ],
      "execution_count": 13,
      "outputs": [
        {
          "output_type": "stream",
          "text": [
            "At time\t0\tvalue is\t0\n",
            "> At 0 I have served an event\n",
            "At time\t0.4709339784946859\tvalue is\t1\n",
            "> At 0.4709339784946859 I have served an event\n",
            "At time\t1.3670373621703007\tvalue is\t2\n",
            "> At 1.3670373621703007 I have served an event\n",
            "At time\t2.116659970758138\tvalue is\t3\n",
            "> At 2.116659970758138 I have served an event\n",
            "At time\t2.6596737630607556\tvalue is\t4\n",
            "> At 2.6596737630607556 I have served an event\n",
            "At time\t3.358473757526105\tvalue is\t5\n",
            "> At 3.358473757526105 I have served an event\n"
          ],
          "name": "stdout"
        }
      ]
    },
    {
      "cell_type": "markdown",
      "metadata": {
        "id": "SB-03vFkg_GY"
      },
      "source": [
        "## Simulace SHO M/M/1"
      ]
    },
    {
      "cell_type": "code",
      "metadata": {
        "id": "d91IS5KQha8m"
      },
      "source": [
        "λ = 1\n",
        "µ = 2"
      ],
      "execution_count": null,
      "outputs": []
    },
    {
      "cell_type": "markdown",
      "metadata": {
        "id": "RTirtXE1hIcI"
      },
      "source": [
        "### Příchod požadavku"
      ]
    },
    {
      "cell_type": "markdown",
      "metadata": {
        "id": "F6ADNRCjgGPP"
      },
      "source": [
        "Ve chvíli, kdy požadavek vstupuje do systému, je tento zařazen do fronty, je naplánován příchod dalšího požadavku a je realizován pokus o zahájení obsluhy požadavku."
      ]
    },
    {
      "cell_type": "code",
      "metadata": {
        "id": "To6tYAD1hF9s"
      },
      "source": [
        "queue = []\n",
        "def customerArrived(time, calendar):\n",
        "\n",
        "  # zařazení požadavku do fronty\n",
        "  newCustomer = {'enterTime': time}\n",
        "  queue.append(newCustomer)\n",
        "\n",
        "  # naplánování dalšího příchodu\n",
        "  deltaTime = exponential(1 / λ, 1)[0] # čas \n",
        "  calendar.AddEvent(time + deltaTime, customerArrived, calendar=calendar)\n",
        "\n",
        "  # pokus o zahájení obsluhy\n",
        "  calendar.AddEvent(time, tryBeginService, calendar=calendar)"
      ],
      "execution_count": null,
      "outputs": []
    },
    {
      "cell_type": "markdown",
      "metadata": {
        "id": "Khe5ZQvOh9ML"
      },
      "source": [
        "### Obsluha požadavku"
      ]
    },
    {
      "cell_type": "markdown",
      "metadata": {
        "id": "iufaxlJWg5UH"
      },
      "source": [
        "Pokus o zahájení obsluhy znamená, že pokud je systém obsluhy volný a fronta není prázdná, je zahájena obsluha. Součástí je také naplánování konce obsluhy."
      ]
    },
    {
      "cell_type": "code",
      "metadata": {
        "id": "NDHW9Zagh9Wc"
      },
      "source": [
        "servicePlace = {'inService': None}\n",
        "\n",
        "def tryBeginService(time, calendar):\n",
        "  if servicePlace['inService'] is None:\n",
        "    if len(queue) > 0:\n",
        "      customer = queue.pop()\n",
        "      timeOfEnd = exponential(1 / µ, 1)[0] #jeden čas\n",
        "      customer['beginService'] = time\n",
        "      customer['endService'] = time + timeOfEnd\n",
        "      servicePlace['inService'] = customer\n",
        "\n",
        "      # Naplánování konce obsluhy\n",
        "      calendar.AddEvent(time + timeOfEnd, endService, calendar=calendar)"
      ],
      "execution_count": null,
      "outputs": []
    },
    {
      "cell_type": "markdown",
      "metadata": {
        "id": "FCD4f8XWhIZn"
      },
      "source": [
        "Konec obsluhy uvolní obsluhu a pokusí se o zahájení obsluhy."
      ]
    },
    {
      "cell_type": "code",
      "metadata": {
        "id": "RxGFHm8RhGLS"
      },
      "source": [
        "def endService(time, calendar):\n",
        "  finishedCustomer = servicePlace['inService']\n",
        "  servicePlace['inService'] = None\n",
        "  calendar.AddEvent(time, tryBeginService, calendar=calendar)\n",
        "  return finishedCustomer"
      ],
      "execution_count": null,
      "outputs": []
    },
    {
      "cell_type": "markdown",
      "metadata": {
        "id": "wBUT5Edyk736"
      },
      "source": [
        "### Sběr statistických ukazatelů"
      ]
    },
    {
      "cell_type": "markdown",
      "metadata": {
        "id": "Vp-mHqUlhhfr"
      },
      "source": [
        "Nezbytnou součástí simulace je sběr statistických ukazatelů. Ty mohou být principiálně dvojího typu:\n",
        "- číslo (např. délka fronty)\n",
        "- logická hodnota (např. zda je obsluha volná)\n",
        "\n",
        "V případě logických hodnot se tyto převádí na hodnoty 0 a 1. Interpretace statistických ukazatelů je poté jako pravděpodobnost, že výrok spojený s logickou hodnotou je pravdivý. Např. pravděpodobnost, že obsluha je volná.\n",
        "\n",
        "Ke každému statistickému údaji potřebujeme dvě operace:\n",
        "- zápis (sběr ukazatele a kumulace hodnot)\n",
        "- čtení hodnoty ukazatele"
      ]
    },
    {
      "cell_type": "markdown",
      "metadata": {
        "id": "BTIsF2CklZaz"
      },
      "source": [
        "#### Délka fronty"
      ]
    },
    {
      "cell_type": "code",
      "metadata": {
        "id": "wvh4oHzSlh7M"
      },
      "source": [
        "queueStatistic = {'cumulativeValue': 0, 'value': 0, 'time': 0}\n",
        "def checkQueueLength(time):\n",
        "  deltaTime = time - queueStatistic['time']\n",
        "  queueStatistic['time'] = time\n",
        "  queueStatistic['cumulativeValue'] += deltaTime * queueStatistic['value']\n",
        "  queueStatistic['value'] = len(queue) \n",
        "\n",
        "def getAvgLength():\n",
        "  if queueStatistic['time'] > 0:\n",
        "    return queueStatistic['cumulativeValue'] / queueStatistic['time']\n",
        "  else:\n",
        "    return 0"
      ],
      "execution_count": null,
      "outputs": []
    },
    {
      "cell_type": "markdown",
      "metadata": {
        "id": "phwmFfgKlbpf"
      },
      "source": [
        "#### Obsluha je volná"
      ]
    },
    {
      "cell_type": "code",
      "metadata": {
        "id": "_04n8kmGlJ4Z"
      },
      "source": [
        "serviceFull = {'cumulativeValue': 0, 'value': 0, 'time': 0}\n",
        "def checkServiceFull(time):\n",
        "  deltaTime = time - serviceFull['time']\n",
        "  serviceFull['time'] = time\n",
        "  serviceFull['cumulativeValue'] += deltaTime * serviceFull['value']\n",
        "  serviceFull['value'] = 0\n",
        "  if servicePlace['inService'] is None:\n",
        "    serviceFull['value'] = 1\n",
        "\n",
        "def getServiceAvailableProbability():\n",
        "  if serviceFull['time'] > 0:  \n",
        "    return serviceFull['cumulativeValue'] / serviceFull['time']    \n",
        "  else:\n",
        "    return 0"
      ],
      "execution_count": null,
      "outputs": []
    },
    {
      "cell_type": "markdown",
      "metadata": {
        "id": "Ov8_4diQzptY"
      },
      "source": [
        "#### Obecný tvar pro libovolnou statistiku"
      ]
    },
    {
      "cell_type": "markdown",
      "metadata": {
        "id": "nYtFZmSyid8O"
      },
      "source": [
        "Jak bylo výše uveden, ke každému statistickému údaji potřebujeme dvě operace:\n",
        "- zápis (sběr ukazatele a kumulace hodnot)\n",
        "- čtení hodnoty ukazatele"
      ]
    },
    {
      "cell_type": "code",
      "metadata": {
        "id": "qKhTYDrwzp_Y"
      },
      "source": [
        "def createStatistic(valueGetter):\n",
        "  data = {'cumulativeValue': 0, 'value': 0, 'time': 0}\n",
        "  def collectData(time):\n",
        "    deltaTime = time - data['time']\n",
        "    data['time'] = time\n",
        "    data['cumulativeValue'] += deltaTime * data['value']\n",
        "    data['value'] = valueGetter()\n",
        "\n",
        "  def getValue():\n",
        "    if data['time'] > 0:  \n",
        "      return data['cumulativeValue'] / data['time']    \n",
        "    else:\n",
        "      return 0  \n",
        "  return collectData, getValue"
      ],
      "execution_count": null,
      "outputs": []
    },
    {
      "cell_type": "code",
      "metadata": {
        "id": "2L79FRN11SSf"
      },
      "source": [
        "def decideIfLengthGT5():\n",
        "  if len(queue) > 5:\n",
        "    return 1\n",
        "  else:\n",
        "    return 0\n",
        "\n",
        "updateLengthGT5, getLengthGT5 = createStatistic(decideIfLengthGT5)"
      ],
      "execution_count": null,
      "outputs": []
    },
    {
      "cell_type": "markdown",
      "metadata": {
        "id": "zYQH66G1kbjs"
      },
      "source": [
        "### Běh simulace"
      ]
    },
    {
      "cell_type": "code",
      "metadata": {
        "id": "EC88MN-4hqu3"
      },
      "source": [
        "calendar = EventCalendar()\n",
        "\n",
        "times = []\n",
        "lengths = []\n",
        "probability = []\n",
        "\n",
        "calendar.AddEvent(0, customerArrived, calendar=calendar)\n",
        "for event in calendar:\n",
        "  #print(event)\n",
        "  currentTime = event['time']\n",
        "  checkQueueLength(currentTime)\n",
        "  checkServiceFull(currentTime)\n",
        "\n",
        "  times.append(currentTime)\n",
        "  lengths.append(getAvgLength())\n",
        "  probability.append(getServiceAvailableProbability())\n",
        "\n",
        "  finishedCustomer = event['result']\n",
        "  if not finishedCustomer is None:\n",
        "    pass\n",
        "  if event['time'] > 10000:\n",
        "    break"
      ],
      "execution_count": null,
      "outputs": []
    },
    {
      "cell_type": "markdown",
      "metadata": {
        "id": "Vm40leS6oVhC"
      },
      "source": [
        "### Výsledek simulace"
      ]
    },
    {
      "cell_type": "markdown",
      "metadata": {
        "id": "KkwfODg6y-Uo"
      },
      "source": [
        "#### Textový výstup"
      ]
    },
    {
      "cell_type": "code",
      "metadata": {
        "id": "vz8DMETFy-kN",
        "outputId": "fba8a635-bb66-495c-ea63-90e62669d348",
        "colab": {
          "base_uri": "https://localhost:8080/"
        }
      },
      "source": [
        "print(f'Průměrná délka fronty je {getAvgLength()}')\n",
        "print(f'Pravděpodobnost, že obsluha bude volná {getServiceAvailableProbability()}')"
      ],
      "execution_count": null,
      "outputs": [
        {
          "output_type": "stream",
          "text": [
            "Průměrná délka fronty je 0.4597000367351561\n",
            "Pravděpodobnost, že obsluha bude volná 0.5075072669019897\n"
          ],
          "name": "stdout"
        }
      ]
    },
    {
      "cell_type": "markdown",
      "metadata": {
        "id": "zYlbDZisyeXc"
      },
      "source": [
        "#### Délka fronty"
      ]
    },
    {
      "cell_type": "code",
      "metadata": {
        "id": "6mRJpF60oZfR",
        "outputId": "8ab6fcd4-7d21-472b-e63d-900fd02c07cd",
        "colab": {
          "base_uri": "https://localhost:8080/",
          "height": 592
        }
      },
      "source": [
        "plt.plot(times, lengths)\n",
        "plt.grid()"
      ],
      "execution_count": null,
      "outputs": [
        {
          "output_type": "display_data",
          "data": {
            "image/png": "[encoded data removed]",
            "text/plain": [
              "<Figure size 1080x720 with 1 Axes>"
            ]
          },
          "metadata": {
            "tags": [],
            "needs_background": "light"
          }
        }
      ]
    },
    {
      "cell_type": "markdown",
      "metadata": {
        "id": "9xm_nEmkyfZw"
      },
      "source": [
        "#### Pravděpodobnost obsluha je volná"
      ]
    },
    {
      "cell_type": "code",
      "metadata": {
        "id": "949uS9j6yft9",
        "outputId": "34e11319-d68a-4921-b024-24998737599e",
        "colab": {
          "base_uri": "https://localhost:8080/",
          "height": 592
        }
      },
      "source": [
        "plt.plot(times, probability)\n",
        "plt.grid()"
      ],
      "execution_count": null,
      "outputs": [
        {
          "output_type": "display_data",
          "data": {
            "image/png": "[encoded data removed]",
            "text/plain": [
              "<Figure size 1080x720 with 1 Axes>"
            ]
          },
          "metadata": {
            "tags": [],
            "needs_background": "light"
          }
        }
      ]
    },
    {
      "cell_type": "markdown",
      "metadata": {
        "id": "03JjdqhJ5PKH"
      },
      "source": [
        "## Simulace SHO M/M/n"
      ]
    },
    {
      "cell_type": "code",
      "metadata": {
        "id": "Rh9GvIge5R44"
      },
      "source": [
        "λ = 4\n",
        "µ = 2\n",
        "n = 3"
      ],
      "execution_count": null,
      "outputs": []
    },
    {
      "cell_type": "markdown",
      "metadata": {
        "id": "yo7PuFNl5lxn"
      },
      "source": [
        "### Příchod požadavku"
      ]
    },
    {
      "cell_type": "code",
      "metadata": {
        "id": "AXwd8NoF5lxq"
      },
      "source": [
        "queue = []\n",
        "def customerArrived(time, calendar):\n",
        "  deltaTime = exponential(1 / λ, 1)[0] #jeden čas\n",
        "  calendar.AddEvent(time + deltaTime, customerArrived, calendar=calendar)\n",
        "  calendar.AddEvent(time, tryBeginService, calendar=calendar)\n",
        "  newCustomer = {'enterTime': time}\n",
        "  queue.append(newCustomer)"
      ],
      "execution_count": null,
      "outputs": []
    },
    {
      "cell_type": "markdown",
      "metadata": {
        "id": "9Y99wKMP5lx9"
      },
      "source": [
        "### Obsluha požadavku"
      ]
    },
    {
      "cell_type": "code",
      "metadata": {
        "id": "iKF5DkY-5lx_"
      },
      "source": [
        "servedRequests = []\n",
        "\n",
        "def tryBeginService(time, calendar):\n",
        "  if len(servedRequests) < n:\n",
        "    if len(queue) > 0:\n",
        "      customer = queue.pop()\n",
        "      timeOfEnd = exponential(1 / µ, 1)[0] #jeden čas\n",
        "      calendar.AddEvent(time + timeOfEnd, endService, calendar=calendar, customer=customer)\n",
        "      customer['beginService'] = time\n",
        "      customer['endService'] = time + timeOfEnd\n",
        "      servedRequests.append(customer)\n",
        "\n",
        "def endService(time, calendar, customer):\n",
        "  servedRequests.remove(customer)\n",
        "  calendar.AddEvent(time, tryBeginService, calendar=calendar)\n",
        "  return customer"
      ],
      "execution_count": null,
      "outputs": []
    },
    {
      "cell_type": "markdown",
      "metadata": {
        "id": "wrsLlvgR6wmF"
      },
      "source": [
        "### Sběr statistických ukazatelů"
      ]
    },
    {
      "cell_type": "markdown",
      "metadata": {
        "id": "54eo543h6wmT"
      },
      "source": [
        "#### Délka fronty"
      ]
    },
    {
      "cell_type": "code",
      "metadata": {
        "id": "KoQ8sEpo6wme"
      },
      "source": [
        "def statQueueLength():\n",
        "  return len(queue)\n",
        "\n",
        "updateStatQueueLength, getStatQueueLength = createStatistic(statQueueLength)"
      ],
      "execution_count": null,
      "outputs": []
    },
    {
      "cell_type": "markdown",
      "metadata": {
        "id": "e7HdVOG86wnI"
      },
      "source": [
        "#### Obsluha volná"
      ]
    },
    {
      "cell_type": "code",
      "metadata": {
        "id": "ZsP23jaL6wnN"
      },
      "source": [
        "def statServiceFull():\n",
        "  if len(servedRequests) >= n:\n",
        "    return 1\n",
        "  else:\n",
        "    return 0\n",
        "\n",
        "updateStatServiceFull, getStatServiceFull = createStatistic(statServiceFull)"
      ],
      "execution_count": null,
      "outputs": []
    },
    {
      "cell_type": "markdown",
      "metadata": {
        "id": "ACZ2XA_o6kzp"
      },
      "source": [
        "### Běh simulace"
      ]
    },
    {
      "cell_type": "code",
      "metadata": {
        "id": "zpXyEGxo6kz3"
      },
      "source": [
        "calendar = EventCalendar()\n",
        "\n",
        "times = []\n",
        "lengths = []\n",
        "probability = []\n",
        "\n",
        "calendar.AddEvent(0, customerArrived, calendar=calendar)\n",
        "for event in calendar:\n",
        "  currentTime = event['time']\n",
        "  updateStatQueueLength(currentTime)\n",
        "  updateStatServiceFull(currentTime)\n",
        "\n",
        "  times.append(currentTime)\n",
        "  lengths.append(getStatQueueLength())\n",
        "  probability.append(getStatServiceFull())\n",
        "\n",
        "  finishedCustomer = event['result']\n",
        "  if not finishedCustomer is None:\n",
        "    pass\n",
        "  if event['time'] > 10000:\n",
        "    break"
      ],
      "execution_count": null,
      "outputs": []
    },
    {
      "cell_type": "markdown",
      "metadata": {
        "id": "JsZekoZg6k0Z"
      },
      "source": [
        "### Výsledek simulace"
      ]
    },
    {
      "cell_type": "markdown",
      "metadata": {
        "id": "386IzMJl6k0c"
      },
      "source": [
        "#### Textový výstup"
      ]
    },
    {
      "cell_type": "code",
      "metadata": {
        "id": "VrYSUYBK6k0g",
        "outputId": "02e02eec-93d2-41a4-ce76-7d4d958a46c6",
        "colab": {
          "base_uri": "https://localhost:8080/"
        }
      },
      "source": [
        "print(f'Průměrná délka fronty je {getStatQueueLength()}')\n",
        "print(f'Pravděpodobnost, že obsluha bude volná {getStatServiceFull()}')"
      ],
      "execution_count": null,
      "outputs": [
        {
          "output_type": "stream",
          "text": [
            "Průměrná délka fronty je 0.8900550380444455\n",
            "Pravděpodobnost, že obsluha bude volná 0.4407912160280959\n"
          ],
          "name": "stdout"
        }
      ]
    },
    {
      "cell_type": "markdown",
      "metadata": {
        "id": "ER4yMP1g6k0x"
      },
      "source": [
        "#### Délka fronty"
      ]
    },
    {
      "cell_type": "code",
      "metadata": {
        "id": "QgAlXh-46k0y",
        "outputId": "2b37f185-15f8-4458-bd52-ca53edde848c",
        "colab": {
          "base_uri": "https://localhost:8080/",
          "height": 592
        }
      },
      "source": [
        "plt.plot(times, lengths)\n",
        "plt.grid()"
      ],
      "execution_count": null,
      "outputs": [
        {
          "output_type": "display_data",
          "data": {
            "image/png": "[encoded data removed]",
            "text/plain": [
              "<Figure size 1080x720 with 1 Axes>"
            ]
          },
          "metadata": {
            "tags": [],
            "needs_background": "light"
          }
        }
      ]
    },
    {
      "cell_type": "markdown",
      "metadata": {
        "id": "7aFFNV7H6k0_"
      },
      "source": [
        "#### Pravděpodobnost obsluha je volná"
      ]
    },
    {
      "cell_type": "code",
      "metadata": {
        "id": "-OEjg9Bk6k1A",
        "outputId": "de8a1211-5f56-494c-d03f-481801e67d1f",
        "colab": {
          "base_uri": "https://localhost:8080/",
          "height": 592
        }
      },
      "source": [
        "plt.plot(times, probability)\n",
        "plt.grid()"
      ],
      "execution_count": null,
      "outputs": [
        {
          "output_type": "display_data",
          "data": {
            "image/png": "[encoded data removed]",
            "text/plain": [
              "<Figure size 1080x720 with 1 Axes>"
            ]
          },
          "metadata": {
            "tags": [],
            "needs_background": "light"
          }
        }
      ]
    }
  ]
}