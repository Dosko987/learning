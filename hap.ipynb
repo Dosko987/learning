{
  "nbformat": 4,
  "nbformat_minor": 0,
  "metadata": {
    "colab": {
      "name": "hap.ipynb",
      "provenance": [],
      "authorship_tag": "ABX9TyN6YqHWY3at1z1LuKgYcY2E",
      "include_colab_link": true
    },
    "kernelspec": {
      "name": "python3",
      "display_name": "Python 3"
    },
    "language_info": {
      "name": "python"
    }
  },
  "cells": [
    {
      "cell_type": "markdown",
      "metadata": {
        "id": "view-in-github",
        "colab_type": "text"
      },
      "source": [
        "<a href=\"https://colab.research.google.com/github/hrbolek/learning/blob/master/hap.ipynb\" target=\"_parent\"><img src=\"https://colab.research.google.com/assets/colab-badge.svg\" alt=\"Open In Colab\"/></a>"
      ]
    },
    {
      "cell_type": "markdown",
      "metadata": {
        "id": "GQEVd1l26LRY"
      },
      "source": [
        "# Hodnocení akademických pracovníků na Univerzitě obrany"
      ]
    },
    {
      "cell_type": "markdown",
      "metadata": {
        "id": "sT9zCKfN6WzM"
      },
      "source": [
        "## Pomocný kód\n",
        "\n",
        "![purple-divider](https://user-images.githubusercontent.com/7065401/52071927-c1cd7100-2562-11e9-908a-dde91ba14e59.png)"
      ]
    },
    {
      "cell_type": "markdown",
      "metadata": {
        "id": "KwRr_rpN6Sxn"
      },
      "source": [
        "## Platforma pro tuto prezentaci\n",
        "\n",
        "![purple-divider](https://user-images.githubusercontent.com/7065401/52071927-c1cd7100-2562-11e9-908a-dde91ba14e59.png)"
      ]
    },
    {
      "cell_type": "markdown",
      "metadata": {
        "id": "NmCp70ym8XOg"
      },
      "source": [
        "Tuto prezentaci jsem vytvořil na platformě Jupyter, která spojuje programovací nástroje s interaktivním prostředím přístupným prostřednictvím webových služeb. Posluchač / student může takový výstup, jako máte před sebou, sledovat pasivně v rámci výkladu, ale i aktivně, za předpokladu, že připravený text obsahuje i části kódu připravené s cílem umožnit experimentování typu \"co se stane, když...\""
      ]
    },
    {
      "cell_type": "markdown",
      "metadata": {
        "id": "nFFxfVEE89gn"
      },
      "source": [
        "### Jupyter"
      ]
    },
    {
      "cell_type": "markdown",
      "metadata": {
        "id": "A9zlkWh5-K7f"
      },
      "source": [
        "Mnoho učitelů, především vysokoškolských, ale i vědeckých pracovníků hledá prostředí, ve kterém by bylo možno vytvářet texty a doplňovat je výpočty. V relativně nedávné době (cca rok 2014) byl veřejnosti představen projekt **[Jupyter](https://jupyter.org/)**. "
      ]
    },
    {
      "cell_type": "markdown",
      "metadata": {
        "id": "39qMtD1o-O_e"
      },
      "source": [
        "Projekt **Jupyter** představuje možnost integrace běžného textu a dílčích výpočtů. Primárně dílčí výpočty bylo možno dělat v programovacím jazyce Python, který je do dnes v této oblasti dominantní, ale portfolio jazyků se významně rozšířilo a dnes je možné používat prakticky všechny jazyky, a to včetně jazyků **C++**, **Javascript** a **R**. Uživatele **Matlabu** může překvapit, jak blízko Jupyter je jak z hlediska syntaxe, tak i z hlediska dostupných knihoven včetně knihovny pro vizualizaci výsledků."
      ]
    },
    {
      "cell_type": "markdown",
      "metadata": {
        "id": "jpMek37j-RcI"
      },
      "source": [
        "Jupyter je opensourcové řešení. Pro práci s ním je k dispozici celá řada nástrojů, pro jejich využití není potřeba instalovat speciální programy. Máte-li ale potřebu si vytvořit vlastní prostředí, lze to udělat jak na stolním počítači, se kterým pracujete jen vy, tak i na serveru a tento sdílet s ostatními.\n",
        "\n",
        "Pravděpodobně nejoblíběnějším \"volným\" nástrojem je **[Google Colab](https://colab.research.google.com)**, který poskytuje prostředí, ve kterém lze vytvářet, spouštět, ukládat či jiným způsobem zpracovávat tzv. **\"notebooky\"**, což je právě propojení volného textu a dílčích výpočtů."
      ]
    },
    {
      "cell_type": "markdown",
      "metadata": {
        "id": "CW8-Gs8D-V2m"
      },
      "source": [
        "Dalším nástrojem je **[Github](https://github.com)**, který je poskytován firmou Microsoft obecně pro správu zdrojových kódů, spolupráci na nich, jejich historii, apod. Github umožňuje integraci s Google Colab, kdy lze notebooky uložené v Githubu otevírat v prostředí Google Colab, zde spouštět a upravovat a zpětně ukládat do Githubu. Dokument, který nyní čtete vznikal právě tímto způsobem. Byl editován v prostředí Google Colab a ukládán na Github. Třetí nástrojem, který je vhodné zmínit je **[NBViewer](https://nbviewer.jupyter.org/)** a **[MyBinder](https://mybinder.org/)**. NBViewer umožňuje komfortněji prohlížet notebooky, MyBinder je umožňuje spouštět."
      ]
    },
    {
      "cell_type": "markdown",
      "metadata": {
        "id": "I4s3mvwG-dqe"
      },
      "source": [
        "Do rodiny produktů kolem Jupyteru patří i další. Jedná se o nástroj konverze notebooku do jiných formátů, **pdf**, **LaTEX** i dalších. Tímto nástrojem je **[NBConvert](https://nbconvert.readthedocs.io/en/latest/)**, který je integrovaný v instalacích Jupyteru. Není možné nezmínit nástroje jako je **[PaperMill](https://papermill.readthedocs.io/en/latest/)**, či **[Voilá](https://voila-gallery.org/)**, které patří zcela jistě do skupiny nástrojů pro velmi pokročilé uživatele. V roce 2019 byl založen projekt **[Jupyter-book](https://jupyterbook.org/intro.html)**, který umožňuje konverzi notebooků do webových stránek (knih) či do pdf. "
      ]
    },
    {
      "cell_type": "markdown",
      "metadata": {
        "id": "PTnm326O-jO4"
      },
      "source": [
        "Vznikají aktivity, jejichž cílem je zakonzervovat výstupy z vědeckého výzkumu a publikovat tento stav. Díky tomu kdokoliv může ověřit, že výpočty nebyly zmanipulovány. Příkladem služby je **[CodeOcean](https://codeocean.com/)**. Jedná se o tzv reprodukovatelnou vědu. Na jednu archivovanou práci z oblasti BioInformatiky se můžete podívat zde **[FMRIPrep: a robust preprocessing pipeline for functional MRI](https://codeocean.com/capsule/3568017/tree/v1)**."
      ]
    },
    {
      "cell_type": "markdown",
      "metadata": {
        "id": "NV9O2FOE9_zh"
      },
      "source": [
        "\n",
        "\n",
        "\n",
        "\n",
        "\n",
        "\n",
        "\n",
        "\n",
        "Součástí produktu jsou knihovny **[Matplotlib](https://matplotlib.org/)** pro grafické výstupy, **[Scipy](https://www.scipy.org/)** pro matematické výpočty, řešení diferenciálních rovnic, symbolické výpočty apod., **[NumPy](https://numpy.org/)** pro Lineární algebru, ale i Fourierovu transformaci, **[Pandas](https://pandas.pydata.org/)** pro datovou anylýzu.\n",
        "\n",
        "Zajímavým prostředím je [Kaggle](https://www.kaggle.com/). Jedná se o platformu pro vyhlašování soutěží."
      ]
    },
    {
      "cell_type": "markdown",
      "metadata": {
        "id": "7HzypepP-FEm"
      },
      "source": [
        "Ve světě se produkt používá na celé řadě univerzit. Některé jsou vyjmenovány níže.\n",
        "\n",
        "- [MIT](https://supercloud.mit.edu/jupyter-notebooks)\n",
        "\n",
        "- [Standford](https://web.stanford.edu/group/farmshare/cgi-bin/wiki/index.php/Jupyter)\n",
        "\n",
        "- [Berkeley](https://bids.berkeley.edu/research/project-jupyter)\n",
        "\n",
        "- [Harward](https://atg.fas.harvard.edu/jupyterhub)\n",
        "\n",
        "- [UK](https://jupyter.kam.mff.cuni.cz/hub/login)\n",
        "\n",
        "- [MUNI](https://it.muni.cz/phil/lindat-clariah/clanky/jupyter-notebooks-v-humanitnich-vedach) \n",
        "\n",
        "- [Lomonosova univerzita](https://hub.vsb.fbb.msu.ru/hub/login)\n",
        "\n",
        "- [Univerzita v Heidelbergu](https://jupyter.kip.uni-heidelberg.de/hub/login)"
      ]
    },
    {
      "cell_type": "markdown",
      "metadata": {
        "id": "Xe3CpKiF78Ho"
      },
      "source": [
        "## Vícekriteriální hodnocení\n",
        "\n",
        "![purple-divider](https://user-images.githubusercontent.com/7065401/52071927-c1cd7100-2562-11e9-908a-dde91ba14e59.png)"
      ]
    },
    {
      "cell_type": "markdown",
      "metadata": {
        "id": "DR4NEwiU-1Ae"
      },
      "source": [
        "Úloha, při níž provádíme výběr nejlepší varianty, případně výběr nejhorší varianty je optimalizační úlohou. V takových úlohách je nutné definovat kritérium, jehož využitím / aplikací můžeme provést porovnání dvou přípustných řešení a konstatovat, které z řešení je lepší."
      ]
    },
    {
      "cell_type": "markdown",
      "metadata": {
        "id": "dzWd-zHf7_kx"
      },
      "source": [
        "## Fuzzy logika\n",
        "\n",
        "![purple-divider](https://user-images.githubusercontent.com/7065401/52071927-c1cd7100-2562-11e9-908a-dde91ba14e59.png)"
      ]
    },
    {
      "cell_type": "markdown",
      "metadata": {
        "id": "OKzHg6mv8B5U"
      },
      "source": [
        "## Využití fuzzy logiky pro hodnocení (HAP)\n",
        "\n",
        "![purple-divider](https://user-images.githubusercontent.com/7065401/52071927-c1cd7100-2562-11e9-908a-dde91ba14e59.png)"
      ]
    },
    {
      "cell_type": "markdown",
      "metadata": {
        "id": "wflu8jEQ8Jr2"
      },
      "source": [
        "## Závěr\n",
        "\n",
        "![purple-divider](https://user-images.githubusercontent.com/7065401/52071927-c1cd7100-2562-11e9-908a-dde91ba14e59.png)"
      ]
    },
    {
      "cell_type": "code",
      "metadata": {
        "id": "n8DGpflr4z6Q"
      },
      "source": [
        ""
      ],
      "execution_count": null,
      "outputs": []
    }
  ]
}