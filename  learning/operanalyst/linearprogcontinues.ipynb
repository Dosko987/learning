{
  "nbformat": 4,
  "nbformat_minor": 0,
  "metadata": {
    "colab": {
      "name": "LinearProgContinues.ipynb",
      "provenance": [],
      "authorship_tag": "ABX9TyMDhdBq/+jiGdZensX8CpIg",
      "include_colab_link": true
    },
    "kernelspec": {
      "name": "python3",
      "display_name": "Python 3"
    }
  },
  "cells": [
    {
      "cell_type": "markdown",
      "metadata": {
        "id": "view-in-github",
        "colab_type": "text"
      },
      "source": [
        "<a href=\"https://colab.research.google.com/github/hrbolek/learning/blob/master/%20learning/operanalyst/linearprogcontinues.ipynb\" target=\"_parent\"><img src=\"https://colab.research.google.com/assets/colab-badge.svg\" alt=\"Open In Colab\"/></a>"
      ]
    },
    {
      "cell_type": "markdown",
      "metadata": {
        "id": "Vu-0OKRFONHl"
      },
      "source": [
        "# Speciální úlohy lineárního programování"
      ]
    },
    {
      "cell_type": "markdown",
      "metadata": {
        "id": "ZScOkcWJOPu0"
      },
      "source": [
        "## Dopravní problém"
      ]
    },
    {
      "cell_type": "markdown",
      "metadata": {
        "id": "EhFCp1-AOSOg"
      },
      "source": [
        "https://www.youtube.com/watch?v=kFd8WgNwokQ\n",
        "\n",
        "https://www.youtube.com/watch?v=Jr7LI-sUEmo\n",
        "\n",
        "Přednáška z konference ESRI v roce 2019:\n",
        "\n",
        "https://www.youtube.com/watch?v=DaB7J3rm_3M\n",
        "\n",
        "https://econweb.ucsd.edu/~jsobel/172aw02/notes8.pdf"
      ]
    },
    {
      "cell_type": "markdown",
      "metadata": {
        "id": "_5EIjsQROUSJ"
      },
      "source": [
        "$$min \\sum_{i=1}^{m} \\sum_{j=1}^{n} c_{ij}x_{ij}$$\n",
        "$$ \\forall_{i=1,...,m} : \\sum_{j=1}^{n} x_{ij} = S_i $$\n",
        "$$ \\forall_{j=1,...,n} : \\sum_{i=1}^{m} x_{ij} = D_j $$"
      ]
    },
    {
      "cell_type": "markdown",
      "metadata": {
        "id": "yNxCwEXXOhnY"
      },
      "source": [
        "### Příklad"
      ]
    },
    {
      "cell_type": "markdown",
      "metadata": {
        "id": "mfxlPIerOWhA"
      },
      "source": [
        "| $D_i \\setminus S_i$ | $S_1$ | $S_2$ | $S_3$ | $S_4$ | $d_i$ |\n",
        "|:--:|:--:|:--:|:--:|:--:|:--:|\n",
        "| $D_1$ | 5 | 6 | 10 | 15 | 10 |\n",
        "| $D_2$ | 7 | 6 | 3 | 10 | 10 |\n",
        "| $D_3$ | 8 | 5 | 15 | 20 | 10 |\n",
        "| $D_4$ | 10 | 20 | 30 | 30 | 10 |\n",
        "| $s_j$ | 3 | 8 | 4 | 25 | 40 |"
      ]
    },
    {
      "cell_type": "markdown",
      "metadata": {
        "id": "IQI30AKqObVK"
      },
      "source": [
        "$$C=\\begin{pmatrix} \n",
        "5 & 6 & 10 & 15\\\\\n",
        "7 & 6 & 3 & 10\\\\\n",
        "8 & 5 & 15 & 20\\\\\n",
        "10 & 20 & 30 & 30\n",
        "\\end{pmatrix}$$\n",
        "$$D=\\begin{pmatrix}\n",
        "10\\\\\n",
        "10\\\\\n",
        "10\\\\\n",
        "10\n",
        "\\end{pmatrix}$$\n",
        "$$S=\\begin{pmatrix}\n",
        "3\\\\\n",
        "8\\\\\n",
        "4\\\\\n",
        "28\n",
        "\\end{pmatrix}$$"
      ]
    },
    {
      "cell_type": "markdown",
      "metadata": {
        "id": "pOUgiFAeOddg"
      },
      "source": [
        "### Řešení v Python"
      ]
    },
    {
      "cell_type": "markdown",
      "metadata": {
        "id": "xBAzYtnaPn5a"
      },
      "source": [
        "#### Implementace Vogelovy aproximační metody"
      ]
    },
    {
      "cell_type": "markdown",
      "metadata": {
        "id": "XHgJwCZ1P2Jx"
      },
      "source": [
        "https://www.youtube.com/watch?v=HVHPBAKTZWw"
      ]
    },
    {
      "cell_type": "code",
      "metadata": {
        "id": "dpFao-DlPviL"
      },
      "source": [
        "from collections import defaultdict\n",
        " \n",
        "def Vogel(costs, demand, supply):\n",
        "    cols = sorted(demand.keys())\n",
        "    res = dict((k, defaultdict(int)) for k in costs)\n",
        "    g = {}\n",
        "    for x in supply:\n",
        "        g[x] = sorted(costs[x].keys(), key=lambda g: costs[x][g])\n",
        "    for x in demand:\n",
        "        g[x] = sorted(costs.keys(), key=lambda g: costs[g][x])\n",
        "\n",
        "    while g:\n",
        "        d = {}\n",
        "        for x in demand:\n",
        "            d[x] = (costs[g[x][1]][x] - costs[g[x][0]][x]) if len(g[x]) > 1 else costs[g[x][0]][x]\n",
        "        s = {}\n",
        "        for x in supply:\n",
        "            s[x] = (costs[x][g[x][1]] - costs[x][g[x][0]]) if len(g[x]) > 1 else costs[x][g[x][0]]\n",
        "        f = max(d, key=lambda n: d[n])\n",
        "        t = max(s, key=lambda n: s[n])\n",
        "        t, f = (f, g[f][0]) if d[f] > s[t] else (g[t][0], t)\n",
        "        v = min(supply[f], demand[t])\n",
        "        res[f][t] += v\n",
        "        demand[t] -= v\n",
        "        if demand[t] == 0:\n",
        "            for k, n in supply.items():\n",
        "                if n != 0:\n",
        "                    g[k].remove(t)\n",
        "            del g[t]\n",
        "            del demand[t]\n",
        "        supply[f] -= v\n",
        "        if supply[f] == 0:\n",
        "            for k, n in demand.items():\n",
        "                if n != 0:\n",
        "                    g[k].remove(f)\n",
        "            del g[f]\n",
        "            del supply[f]\n",
        "    return res"
      ],
      "execution_count": 5,
      "outputs": []
    },
    {
      "cell_type": "code",
      "metadata": {
        "id": "aKZWdnonOoKU"
      },
      "source": [
        "import numpy as np\n",
        "\n",
        "C = {\n",
        "    'd1':{'s1': 5, 's2': 6, 's3': 10, 's4': 15},\n",
        "    'd2':{'s1': 7, 's2': 6, 's3': 3, 's4': 10},\n",
        "    'd3':{'s1': 8, 's2': 5, 's3': 15, 's4': 20},\n",
        "    'd4':{'s1': 10, 's2': 20, 's3': 30, 's4': 30},\n",
        "     }\n",
        "S = {'s1': 3, 's2': 8, 's3': 4, 's4': 28}\n",
        "D = {'d1': 10, 'd2': 10, 'd3': 10, 'd4': 10}\n",
        "\n"
      ],
      "execution_count": 6,
      "outputs": []
    },
    {
      "cell_type": "code",
      "metadata": {
        "id": "xIqJ_t_3P8gD",
        "outputId": "d20ea0b5-1a77-4f34-ab6b-11014e8df15a",
        "colab": {
          "base_uri": "https://localhost:8080/",
          "height": 374
        }
      },
      "source": [
        "res = Vogel({**C}, {**S}, {**D})\n",
        "cols = sorted(D.keys())\n",
        "for n in cols:\n",
        "    print(\"\\t\", n, end='')\n",
        "print()\n",
        "cost = 0\n",
        "for g in sorted(C):\n",
        "    print(g, \"\\t\", end='')\n",
        "    for n in cols:\n",
        "        y = res[g][n]\n",
        "        if y != 0:\n",
        "            print(y, end='')\n",
        "        cost += y * C[g][n]\n",
        "        print(\"\\t\", end='')\n",
        "    print()\n",
        "print(\"\\n\\nTotal Cost = \", cost)"
      ],
      "execution_count": 7,
      "outputs": [
        {
          "output_type": "error",
          "ename": "IndexError",
          "evalue": "ignored",
          "traceback": [
            "\u001b[0;31m---------------------------------------------------------------------------\u001b[0m",
            "\u001b[0;31mIndexError\u001b[0m                                Traceback (most recent call last)",
            "\u001b[0;32m<ipython-input-7-b606600c2b43>\u001b[0m in \u001b[0;36m<module>\u001b[0;34m()\u001b[0m\n\u001b[0;32m----> 1\u001b[0;31m \u001b[0mres\u001b[0m \u001b[0;34m=\u001b[0m \u001b[0mVogel\u001b[0m\u001b[0;34m(\u001b[0m\u001b[0;34m{\u001b[0m\u001b[0;34m**\u001b[0m\u001b[0mC\u001b[0m\u001b[0;34m}\u001b[0m\u001b[0;34m,\u001b[0m \u001b[0;34m{\u001b[0m\u001b[0;34m**\u001b[0m\u001b[0mS\u001b[0m\u001b[0;34m}\u001b[0m\u001b[0;34m,\u001b[0m \u001b[0;34m{\u001b[0m\u001b[0;34m**\u001b[0m\u001b[0mD\u001b[0m\u001b[0;34m}\u001b[0m\u001b[0;34m)\u001b[0m\u001b[0;34m\u001b[0m\u001b[0;34m\u001b[0m\u001b[0m\n\u001b[0m\u001b[1;32m      2\u001b[0m \u001b[0mcols\u001b[0m \u001b[0;34m=\u001b[0m \u001b[0msorted\u001b[0m\u001b[0;34m(\u001b[0m\u001b[0mD\u001b[0m\u001b[0;34m.\u001b[0m\u001b[0mkeys\u001b[0m\u001b[0;34m(\u001b[0m\u001b[0;34m)\u001b[0m\u001b[0;34m)\u001b[0m\u001b[0;34m\u001b[0m\u001b[0;34m\u001b[0m\u001b[0m\n\u001b[1;32m      3\u001b[0m \u001b[0;32mfor\u001b[0m \u001b[0mn\u001b[0m \u001b[0;32min\u001b[0m \u001b[0mcols\u001b[0m\u001b[0;34m:\u001b[0m\u001b[0;34m\u001b[0m\u001b[0;34m\u001b[0m\u001b[0m\n\u001b[1;32m      4\u001b[0m     \u001b[0mprint\u001b[0m\u001b[0;34m(\u001b[0m\u001b[0;34m\"\\t\"\u001b[0m\u001b[0;34m,\u001b[0m \u001b[0mn\u001b[0m\u001b[0;34m,\u001b[0m \u001b[0mend\u001b[0m\u001b[0;34m=\u001b[0m\u001b[0;34m''\u001b[0m\u001b[0;34m)\u001b[0m\u001b[0;34m\u001b[0m\u001b[0;34m\u001b[0m\u001b[0m\n\u001b[1;32m      5\u001b[0m \u001b[0mprint\u001b[0m\u001b[0;34m(\u001b[0m\u001b[0;34m)\u001b[0m\u001b[0;34m\u001b[0m\u001b[0;34m\u001b[0m\u001b[0m\n",
            "\u001b[0;32m<ipython-input-5-1cf8f9e946cd>\u001b[0m in \u001b[0;36mVogel\u001b[0;34m(costs, demand, supply)\u001b[0m\n\u001b[1;32m     13\u001b[0m         \u001b[0md\u001b[0m \u001b[0;34m=\u001b[0m \u001b[0;34m{\u001b[0m\u001b[0;34m}\u001b[0m\u001b[0;34m\u001b[0m\u001b[0;34m\u001b[0m\u001b[0m\n\u001b[1;32m     14\u001b[0m         \u001b[0;32mfor\u001b[0m \u001b[0mx\u001b[0m \u001b[0;32min\u001b[0m \u001b[0mdemand\u001b[0m\u001b[0;34m:\u001b[0m\u001b[0;34m\u001b[0m\u001b[0;34m\u001b[0m\u001b[0m\n\u001b[0;32m---> 15\u001b[0;31m             \u001b[0md\u001b[0m\u001b[0;34m[\u001b[0m\u001b[0mx\u001b[0m\u001b[0;34m]\u001b[0m \u001b[0;34m=\u001b[0m \u001b[0;34m(\u001b[0m\u001b[0mcosts\u001b[0m\u001b[0;34m[\u001b[0m\u001b[0mg\u001b[0m\u001b[0;34m[\u001b[0m\u001b[0mx\u001b[0m\u001b[0;34m]\u001b[0m\u001b[0;34m[\u001b[0m\u001b[0;36m1\u001b[0m\u001b[0;34m]\u001b[0m\u001b[0;34m]\u001b[0m\u001b[0;34m[\u001b[0m\u001b[0mx\u001b[0m\u001b[0;34m]\u001b[0m \u001b[0;34m-\u001b[0m \u001b[0mcosts\u001b[0m\u001b[0;34m[\u001b[0m\u001b[0mg\u001b[0m\u001b[0;34m[\u001b[0m\u001b[0mx\u001b[0m\u001b[0;34m]\u001b[0m\u001b[0;34m[\u001b[0m\u001b[0;36m0\u001b[0m\u001b[0;34m]\u001b[0m\u001b[0;34m]\u001b[0m\u001b[0;34m[\u001b[0m\u001b[0mx\u001b[0m\u001b[0;34m]\u001b[0m\u001b[0;34m)\u001b[0m \u001b[0;32mif\u001b[0m \u001b[0mlen\u001b[0m\u001b[0;34m(\u001b[0m\u001b[0mg\u001b[0m\u001b[0;34m[\u001b[0m\u001b[0mx\u001b[0m\u001b[0;34m]\u001b[0m\u001b[0;34m)\u001b[0m \u001b[0;34m>\u001b[0m \u001b[0;36m1\u001b[0m \u001b[0;32melse\u001b[0m \u001b[0mcosts\u001b[0m\u001b[0;34m[\u001b[0m\u001b[0mg\u001b[0m\u001b[0;34m[\u001b[0m\u001b[0mx\u001b[0m\u001b[0;34m]\u001b[0m\u001b[0;34m[\u001b[0m\u001b[0;36m0\u001b[0m\u001b[0;34m]\u001b[0m\u001b[0;34m]\u001b[0m\u001b[0;34m[\u001b[0m\u001b[0mx\u001b[0m\u001b[0;34m]\u001b[0m\u001b[0;34m\u001b[0m\u001b[0;34m\u001b[0m\u001b[0m\n\u001b[0m\u001b[1;32m     16\u001b[0m         \u001b[0ms\u001b[0m \u001b[0;34m=\u001b[0m \u001b[0;34m{\u001b[0m\u001b[0;34m}\u001b[0m\u001b[0;34m\u001b[0m\u001b[0;34m\u001b[0m\u001b[0m\n\u001b[1;32m     17\u001b[0m         \u001b[0;32mfor\u001b[0m \u001b[0mx\u001b[0m \u001b[0;32min\u001b[0m \u001b[0msupply\u001b[0m\u001b[0;34m:\u001b[0m\u001b[0;34m\u001b[0m\u001b[0;34m\u001b[0m\u001b[0m\n",
            "\u001b[0;31mIndexError\u001b[0m: list index out of range"
          ]
        }
      ]
    }
  ]
}