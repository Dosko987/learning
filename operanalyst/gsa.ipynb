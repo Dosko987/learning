{
  "nbformat": 4,
  "nbformat_minor": 0,
  "metadata": {
    "colab": {
      "name": "gsa.ipynb",
      "provenance": [],
      "toc_visible": true,
      "authorship_tag": "ABX9TyNPc+/b7cfYNckctz53+aBl",
      "include_colab_link": true
    },
    "kernelspec": {
      "name": "python3",
      "display_name": "Python 3"
    }
  },
  "cells": [
    {
      "cell_type": "markdown",
      "metadata": {
        "id": "view-in-github",
        "colab_type": "text"
      },
      "source": [
        "<a href=\"https://colab.research.google.com/github/hrbolek/learning/blob/master/operanalyst/gsa.ipynb\" target=\"_parent\"><img src=\"https://colab.research.google.com/assets/colab-badge.svg\" alt=\"Open In Colab\"/></a>"
      ]
    },
    {
      "cell_type": "markdown",
      "metadata": {
        "id": "XQ4W_LG1RYxj",
        "colab_type": "text"
      },
      "source": [
        "# Gravity Search Algorithm"
      ]
    },
    {
      "cell_type": "code",
      "metadata": {
        "id": "vA50bkwoRHhn",
        "colab_type": "code",
        "colab": {}
      },
      "source": [
        "from random import random as rnd\n",
        "import matplotlib.pyplot as plt\n",
        "import pandas as pd"
      ],
      "execution_count": 0,
      "outputs": []
    },
    {
      "cell_type": "markdown",
      "metadata": {
        "id": "Kn-Pa-DlRve6",
        "colab_type": "text"
      },
      "source": [
        "## Funkce pro vytvoření jedince"
      ]
    },
    {
      "cell_type": "code",
      "metadata": {
        "id": "a8JthQoQRxXi",
        "colab_type": "code",
        "colab": {}
      },
      "source": [
        "def createMember():\n",
        "  result = {}\n",
        "  result['position'] = {'x': rnd() * 10 - 5, 'y': rnd() * 10 - 5}\n",
        "  result['velocity'] = {'x': 0, 'y': 0}\n",
        "  result['force'] = {'x': 0, 'y': 0}\n",
        "  result['mass'] = 1\n",
        "  return result"
      ],
      "execution_count": 0,
      "outputs": []
    },
    {
      "cell_type": "markdown",
      "metadata": {
        "id": "boxaD59WR2S_",
        "colab_type": "text"
      },
      "source": [
        "## Funkce pro vyhodnocení jedince\n",
        "Definuje kriteriální funkci. Implementované algoritmy optimalizují na maximum."
      ]
    },
    {
      "cell_type": "code",
      "metadata": {
        "id": "_ruWC3NnR24p",
        "colab_type": "code",
        "colab": {}
      },
      "source": [
        "def evaluate(member):\n",
        "  return -(member['position']['x'] * member['position']['x'] + member['position']['y'] * member['position']['y'])"
      ],
      "execution_count": 0,
      "outputs": []
    },
    {
      "cell_type": "markdown",
      "metadata": {
        "id": "utaOEzRVR-35",
        "colab_type": "text"
      },
      "source": [
        "## Zobrazení soustavy"
      ]
    },
    {
      "cell_type": "code",
      "metadata": {
        "id": "79PcyWSfR_5S",
        "colab_type": "code",
        "colab": {}
      },
      "source": [
        "def plotSystem(system, title):\n",
        "  x = []\n",
        "  y = []\n",
        "  for member in system:\n",
        "    x.append(member['position']['x'])\n",
        "    y.append(member['position']['y'])\n",
        "\n",
        "  plt.plot(x, y, 'ko', ms=3)\n",
        "  plt.title(title)\n",
        "  plt.show()"
      ],
      "execution_count": 0,
      "outputs": []
    },
    {
      "cell_type": "code",
      "metadata": {
        "id": "G0Hzzrc5Rdrd",
        "colab_type": "code",
        "colab": {}
      },
      "source": [
        "def calculateMass(system, f):\n",
        "  for member in system:\n",
        "    member['value'] = f(member)\n",
        "  \n",
        "  minimum = system[0]['value']\n",
        "  maximum = minimum\n",
        "  sumation = 0\n",
        "\n",
        "  for member in system:\n",
        "    cValue = member['value']\n",
        "    sumation = sumation + cValue\n",
        "    if cValue < minimum:\n",
        "      minimum = cValue\n",
        "    if cValue > maximum:\n",
        "      maximum = cValue\n",
        "\n",
        "  func = lambda cValue: 1\n",
        "  if maximum > minimum:\n",
        "    func = lambda cValue: (cValue - minimum) / (maximum - minimum)\n",
        "\n",
        "  for member in system:\n",
        "    cValue = member['value']\n",
        "    member['mass'] = func(cValue)\n",
        "  \n",
        "  return system\n",
        "  \n"
      ],
      "execution_count": 0,
      "outputs": []
    },
    {
      "cell_type": "code",
      "metadata": {
        "id": "eGkUTIVw2hSP",
        "colab_type": "code",
        "colab": {}
      },
      "source": [
        "from math import sqrt\n",
        "def calculateForce(memberA, memberB, g):\n",
        "  result = {'x': 0, 'y': 0}\n",
        "  distance = {\n",
        "      'x': memberB['position']['x'] - memberA['position']['x'],\n",
        "      'y': memberB['position']['y'] - memberA['position']['y']\n",
        "              }\n",
        "  distanceAbs = sqrt(distance['x'] * distance['x'] + distance['y'] * distance['y'])\n",
        "  # F = g * MA * MB / (d * d)\n",
        "  F = g * memberA['mass'] * memberB['mass'] / (distanceAbs * distanceAbs)\n",
        "  result['x'] = F * distance['x'] / distanceAbs\n",
        "  result['y'] = F * distance['y'] / distanceAbs\n",
        "  return result\n",
        "\n",
        "def calculateForces(system, g):\n",
        "  for member in system:\n",
        "    member['force'] = {'x': 0, 'y': 0}\n",
        "\n",
        "  for memberA in system:\n",
        "    sumForce = {'x': 0, 'y': 0}\n",
        "    for memberB in system:\n",
        "      if memberA == memberB:\n",
        "        continue\n",
        "      currentForce = calculateForce(memberA, memberB, g)\n",
        "      sumForce['x'] = sumForce['x'] + currentForce['x']\n",
        "      sumForce['y'] = sumForce['y'] + currentForce['y']\n",
        "    memberA['force'] = sumForce\n",
        "  return system\n",
        "\n",
        "def calculateAccelerations(system):\n",
        "  for member in system:\n",
        "    # F = m * a\n",
        "    force = member['force']\n",
        "    mass = member['mass'] + 1e-3\n",
        "    member['acceleration'] = {'x': force['x'] / mass, 'y': force['y'] / mass }\n",
        "  return system\n",
        "\n",
        "def calculateVelocities(system, dt, decelerationCoef = 0.9):\n",
        "  for member in system:\n",
        "    acceleration = member['acceleration']\n",
        "    velocity = member['velocity']\n",
        "    member['velocity'] = {\n",
        "        'x': decelerationCoef * velocity['x'] + dt * acceleration['x'],\n",
        "        'y': decelerationCoef * velocity['y'] + dt * acceleration['y']}\n",
        "  return system\n",
        "\n",
        "def calculatePositions(system, dt):\n",
        "  for member in system:\n",
        "    position = member['position']\n",
        "    velocity = member['velocity']\n",
        "    member['position'] = {\n",
        "        'x': position['x'] + dt * velocity['x'],\n",
        "        'y': position['y'] + dt * velocity['y']}\n",
        "  return system\n"
      ],
      "execution_count": 0,
      "outputs": []
    },
    {
      "cell_type": "markdown",
      "metadata": {
        "id": "oJzmqA2J-bwV",
        "colab_type": "text"
      },
      "source": [
        "## Simulace"
      ]
    },
    {
      "cell_type": "code",
      "metadata": {
        "id": "d_hCG4Un2Zy4",
        "colab_type": "code",
        "colab": {}
      },
      "source": [
        "def simulationStep(system, dt, g):\n",
        "  calculatePositions(system, dt)\n",
        "  calculateMass(system, f = evaluate)\n",
        "  calculateForces(system, g = g)\n",
        "  calculateAccelerations(system)\n",
        "  calculateVelocities(system, dt)"
      ],
      "execution_count": 0,
      "outputs": []
    },
    {
      "cell_type": "code",
      "metadata": {
        "id": "kt0zJME6-lRv",
        "colab_type": "code",
        "colab": {}
      },
      "source": [
        "def createSystem(count, createFunc):\n",
        "  result = [] \n",
        "  for i in range(count):\n",
        "    member = createFunc()\n",
        "    result.append(member)\n",
        "  return result\n",
        "                 "
      ],
      "execution_count": 0,
      "outputs": []
    },
    {
      "cell_type": "code",
      "metadata": {
        "id": "ZF0buSHVe1ZF",
        "colab_type": "code",
        "colab": {
          "base_uri": "https://localhost:8080/",
          "height": 537
        },
        "outputId": "8808b01b-c6aa-4fb8-e744-ea4245020a7c"
      },
      "source": [
        "systemDF = pd.DataFrame(system)\n",
        "display(systemDF)\n"
      ],
      "execution_count": 49,
      "outputs": [
        {
          "output_type": "display_data",
          "data": {
            "text/html": [
              "<div>\n",
              "<style scoped>\n",
              "    .dataframe tbody tr th:only-of-type {\n",
              "        vertical-align: middle;\n",
              "    }\n",
              "\n",
              "    .dataframe tbody tr th {\n",
              "        vertical-align: top;\n",
              "    }\n",
              "\n",
              "    .dataframe thead th {\n",
              "        text-align: right;\n",
              "    }\n",
              "</style>\n",
              "<table border=\"1\" class=\"dataframe\">\n",
              "  <thead>\n",
              "    <tr style=\"text-align: right;\">\n",
              "      <th></th>\n",
              "      <th>position</th>\n",
              "      <th>velocity</th>\n",
              "      <th>force</th>\n",
              "      <th>mass</th>\n",
              "      <th>value</th>\n",
              "      <th>acceleration</th>\n",
              "    </tr>\n",
              "  </thead>\n",
              "  <tbody>\n",
              "    <tr>\n",
              "      <th>0</th>\n",
              "      <td>{'x': 1343.1826332612138, 'y': 439.07105993470...</td>\n",
              "      <td>{'x': 0.004411026785352394, 'y': 0.00144034545...</td>\n",
              "      <td>{'x': 0.0, 'y': 0.0}</td>\n",
              "      <td>0.000000</td>\n",
              "      <td>-1.996923e+06</td>\n",
              "      <td>{'x': 0.0, 'y': 0.0}</td>\n",
              "    </tr>\n",
              "    <tr>\n",
              "      <th>1</th>\n",
              "      <td>{'x': 63.82102129774561, 'y': -37.087832338091...</td>\n",
              "      <td>{'x': -0.026279170279209126, 'y': 0.0036330039...</td>\n",
              "      <td>{'x': -0.0026569410047824617, 'y': 0.000382814...</td>\n",
              "      <td>0.997993</td>\n",
              "      <td>-5.448630e+03</td>\n",
              "      <td>{'x': -0.002659618419250868, 'y': 0.0003832006...</td>\n",
              "    </tr>\n",
              "    <tr>\n",
              "      <th>2</th>\n",
              "      <td>{'x': -31.068840840587576, 'y': -155.534903847...</td>\n",
              "      <td>{'x': 0.003344674587254466, 'y': 0.01125212585...</td>\n",
              "      <td>{'x': 0.00012220822790088198, 'y': 0.001883882...</td>\n",
              "      <td>0.988117</td>\n",
              "      <td>-2.515638e+04</td>\n",
              "      <td>{'x': 0.00012355284018969738, 'y': 0.001904610...</td>\n",
              "    </tr>\n",
              "    <tr>\n",
              "      <th>3</th>\n",
              "      <td>{'x': -165.10939103407506, 'y': -51.1499119049...</td>\n",
              "      <td>{'x': 0.017007148291149195, 'y': 0.00706294725...</td>\n",
              "      <td>{'x': 0.0017394589157522667, 'y': 0.0007162376...</td>\n",
              "      <td>0.985751</td>\n",
              "      <td>-2.987742e+04</td>\n",
              "      <td>{'x': 0.0017628140221715677, 'y': 0.0007258542...</td>\n",
              "    </tr>\n",
              "    <tr>\n",
              "      <th>4</th>\n",
              "      <td>{'x': -42.488611053335354, 'y': 16.80270282068...</td>\n",
              "      <td>{'x': -0.006610130779830941, 'y': 0.0048443409...</td>\n",
              "      <td>{'x': -0.0006397850520013494, 'y': 0.000482783...</td>\n",
              "      <td>0.999678</td>\n",
              "      <td>-2.087613e+03</td>\n",
              "      <td>{'x': -0.000639351811188065, 'y': 0.0004824566...</td>\n",
              "    </tr>\n",
              "    <tr>\n",
              "      <th>5</th>\n",
              "      <td>{'x': -13.107740720548861, 'y': -35.6722262111...</td>\n",
              "      <td>{'x': -0.005242957006148573, 'y': 0.0252584249...</td>\n",
              "      <td>{'x': -0.0005352266123635967, 'y': 0.002586748...</td>\n",
              "      <td>1.000000</td>\n",
              "      <td>-1.444321e+03</td>\n",
              "      <td>{'x': -0.0005346919204431536, 'y': 0.002584164...</td>\n",
              "    </tr>\n",
              "    <tr>\n",
              "      <th>6</th>\n",
              "      <td>{'x': -69.19494705872091, 'y': 60.37332277786978}</td>\n",
              "      <td>{'x': 0.012829478072484335, 'y': -0.0293681443...</td>\n",
              "      <td>{'x': 0.0013667896627672944, 'y': -0.003006930...</td>\n",
              "      <td>0.996498</td>\n",
              "      <td>-8.432879e+03</td>\n",
              "      <td>{'x': 0.0013702182178784352, 'y': -0.003014473...</td>\n",
              "    </tr>\n",
              "    <tr>\n",
              "      <th>7</th>\n",
              "      <td>{'x': -108.5284738787024, 'y': 117.67019454082...</td>\n",
              "      <td>{'x': 0.016038971242190978, 'y': -0.0227790905...</td>\n",
              "      <td>{'x': 0.001796228818180135, 'y': -0.0030126081...</td>\n",
              "      <td>0.987882</td>\n",
              "      <td>-2.562470e+04</td>\n",
              "      <td>{'x': 0.0018164230572266318, 'y': -0.003046477...</td>\n",
              "    </tr>\n",
              "    <tr>\n",
              "      <th>8</th>\n",
              "      <td>{'x': 203.86701228145537, 'y': -23.20323602034...</td>\n",
              "      <td>{'x': -0.011583875496143732, 'y': -0.000448355...</td>\n",
              "      <td>{'x': -0.0012072989335514905, 'y': -3.67138447...</td>\n",
              "      <td>0.979626</td>\n",
              "      <td>-4.210015e+04</td>\n",
              "      <td>{'x': -0.001231151224063565, 'y': -3.743919061...</td>\n",
              "    </tr>\n",
              "    <tr>\n",
              "      <th>9</th>\n",
              "      <td>{'x': -1169.2421310007733, 'y': -306.449595489...</td>\n",
              "      <td>{'x': -0.0032881975633785405, 'y': -0.00086418...</td>\n",
              "      <td>{'x': 1.4565978098319953e-05, 'y': 3.785813823...</td>\n",
              "      <td>0.268549</td>\n",
              "      <td>-1.461039e+06</td>\n",
              "      <td>{'x': 5.403826400230208e-05, 'y': 1.4044975591...</td>\n",
              "    </tr>\n",
              "  </tbody>\n",
              "</table>\n",
              "</div>"
            ],
            "text/plain": [
              "                                            position  ...                                       acceleration\n",
              "0  {'x': 1343.1826332612138, 'y': 439.07105993470...  ...                               {'x': 0.0, 'y': 0.0}\n",
              "1  {'x': 63.82102129774561, 'y': -37.087832338091...  ...  {'x': -0.002659618419250868, 'y': 0.0003832006...\n",
              "2  {'x': -31.068840840587576, 'y': -155.534903847...  ...  {'x': 0.00012355284018969738, 'y': 0.001904610...\n",
              "3  {'x': -165.10939103407506, 'y': -51.1499119049...  ...  {'x': 0.0017628140221715677, 'y': 0.0007258542...\n",
              "4  {'x': -42.488611053335354, 'y': 16.80270282068...  ...  {'x': -0.000639351811188065, 'y': 0.0004824566...\n",
              "5  {'x': -13.107740720548861, 'y': -35.6722262111...  ...  {'x': -0.0005346919204431536, 'y': 0.002584164...\n",
              "6  {'x': -69.19494705872091, 'y': 60.37332277786978}  ...  {'x': 0.0013702182178784352, 'y': -0.003014473...\n",
              "7  {'x': -108.5284738787024, 'y': 117.67019454082...  ...  {'x': 0.0018164230572266318, 'y': -0.003046477...\n",
              "8  {'x': 203.86701228145537, 'y': -23.20323602034...  ...  {'x': -0.001231151224063565, 'y': -3.743919061...\n",
              "9  {'x': -1169.2421310007733, 'y': -306.449595489...  ...  {'x': 5.403826400230208e-05, 'y': 1.4044975591...\n",
              "\n",
              "[10 rows x 6 columns]"
            ]
          },
          "metadata": {
            "tags": []
          }
        }
      ]
    },
    {
      "cell_type": "code",
      "metadata": {
        "id": "Tmx1RvDj-1Rw",
        "colab_type": "code",
        "outputId": "6df8c085-280b-4e26-99f9-c1a886dd8818",
        "colab": {
          "base_uri": "https://localhost:8080/",
          "height": 1000
        }
      },
      "source": [
        "system = createSystem(100, createMember)\n",
        "\n",
        "plotSystem(system, title='1st')\n",
        "\n",
        "for i in range(100):\n",
        "  simulationStep(system, dt=1, g = 9.81)\n",
        "\n",
        "plotSystem(system, title='2nd')\n",
        "\n",
        "systemDF = pd.DataFrame(system)\n",
        "display(systemDF)\n",
        "\n"
      ],
      "execution_count": 50,
      "outputs": [
        {
          "output_type": "display_data",
          "data": {
            "image/png": "[encoded data removed]",
            "text/plain": [
              "<Figure size 432x288 with 1 Axes>"
            ]
          },
          "metadata": {
            "tags": [],
            "needs_background": "light"
          }
        },
        {
          "output_type": "display_data",
          "data": {
            "image/png": "[encoded data removed]",
            "text/plain": [
              "<Figure size 432x288 with 1 Axes>"
            ]
          },
          "metadata": {
            "tags": [],
            "needs_background": "light"
          }
        },
        {
          "output_type": "display_data",
          "data": {
            "text/html": [
              "<div>\n",
              "<style scoped>\n",
              "    .dataframe tbody tr th:only-of-type {\n",
              "        vertical-align: middle;\n",
              "    }\n",
              "\n",
              "    .dataframe tbody tr th {\n",
              "        vertical-align: top;\n",
              "    }\n",
              "\n",
              "    .dataframe thead th {\n",
              "        text-align: right;\n",
              "    }\n",
              "</style>\n",
              "<table border=\"1\" class=\"dataframe\">\n",
              "  <thead>\n",
              "    <tr style=\"text-align: right;\">\n",
              "      <th></th>\n",
              "      <th>position</th>\n",
              "      <th>velocity</th>\n",
              "      <th>force</th>\n",
              "      <th>mass</th>\n",
              "      <th>value</th>\n",
              "      <th>acceleration</th>\n",
              "    </tr>\n",
              "  </thead>\n",
              "  <tbody>\n",
              "    <tr>\n",
              "      <th>0</th>\n",
              "      <td>{'x': 25.82161071141911, 'y': 122.74118828846717}</td>\n",
              "      <td>{'x': -0.0008961713908397127, 'y': -0.01643434...</td>\n",
              "      <td>{'x': -0.00014874854907587136, 'y': -0.0016388...</td>\n",
              "      <td>0.999968</td>\n",
              "      <td>-1.573215e+04</td>\n",
              "      <td>{'x': -0.0001486046912894352, 'y': -0.00163725...</td>\n",
              "    </tr>\n",
              "    <tr>\n",
              "      <th>1</th>\n",
              "      <td>{'x': -2078.9436366080895, 'y': -953.439877420...</td>\n",
              "      <td>{'x': -0.004589291277339756, 'y': -0.001880030...</td>\n",
              "      <td>{'x': 0.00015416039115264456, 'y': 9.216367065...</td>\n",
              "      <td>0.987946</td>\n",
              "      <td>-5.231054e+06</td>\n",
              "      <td>{'x': 0.0001558834956812277, 'y': 9.3193816187...</td>\n",
              "    </tr>\n",
              "    <tr>\n",
              "      <th>2</th>\n",
              "      <td>{'x': 1010.9847243375922, 'y': -333.9460840953...</td>\n",
              "      <td>{'x': -0.0036529072113416143, 'y': 0.001674019...</td>\n",
              "      <td>{'x': -0.0006631735801507648, 'y': 0.000265880...</td>\n",
              "      <td>0.997391</td>\n",
              "      <td>-1.133610e+06</td>\n",
              "      <td>{'x': -0.000664242190952513, 'y': 0.0002663085...</td>\n",
              "    </tr>\n",
              "    <tr>\n",
              "      <th>3</th>\n",
              "      <td>{'x': -675.9336145558832, 'y': -866.5437989001...</td>\n",
              "      <td>{'x': 0.0027003558049703393, 'y': 0.0032198478...</td>\n",
              "      <td>{'x': 0.0004680658780360778, 'y': 0.0005769946...</td>\n",
              "      <td>0.997220</td>\n",
              "      <td>-1.207784e+06</td>\n",
              "      <td>{'x': 0.00046890040176025393, 'y': 0.000578023...</td>\n",
              "    </tr>\n",
              "    <tr>\n",
              "      <th>4</th>\n",
              "      <td>{'x': 262.82333704557794, 'y': -1.959757332192...</td>\n",
              "      <td>{'x': 0.17001787918908462, 'y': -1.31041665314...</td>\n",
              "      <td>{'x': -0.012368739176469438, 'y': 0.0039892802...</td>\n",
              "      <td>0.999845</td>\n",
              "      <td>-6.907995e+04</td>\n",
              "      <td>{'x': -0.012358295370362728, 'y': 0.0039859118...</td>\n",
              "    </tr>\n",
              "    <tr>\n",
              "      <th>...</th>\n",
              "      <td>...</td>\n",
              "      <td>...</td>\n",
              "      <td>...</td>\n",
              "      <td>...</td>\n",
              "      <td>...</td>\n",
              "      <td>...</td>\n",
              "    </tr>\n",
              "    <tr>\n",
              "      <th>95</th>\n",
              "      <td>{'x': -352.019936631874, 'y': -298.6302766672372}</td>\n",
              "      <td>{'x': -0.010009036154590029, 'y': -0.025091296...</td>\n",
              "      <td>{'x': -0.0009063380161180581, 'y': -0.00244061...</td>\n",
              "      <td>0.999513</td>\n",
              "      <td>-2.130981e+05</td>\n",
              "      <td>{'x': -0.000905873205261362, 'y': -0.002439358...</td>\n",
              "    </tr>\n",
              "    <tr>\n",
              "      <th>96</th>\n",
              "      <td>{'x': 229.43029154944443, 'y': 14.233862909370...</td>\n",
              "      <td>{'x': 0.02169088416558369, 'y': 0.055635758742...</td>\n",
              "      <td>{'x': -0.002166265867307141, 'y': 0.0030175178...</td>\n",
              "      <td>0.999883</td>\n",
              "      <td>-5.284086e+04</td>\n",
              "      <td>{'x': -0.002164355785570712, 'y': 0.0030148572...</td>\n",
              "    </tr>\n",
              "    <tr>\n",
              "      <th>97</th>\n",
              "      <td>{'x': -101.4072303468762, 'y': 272.5558156653692}</td>\n",
              "      <td>{'x': -0.00030525345728538313, 'y': -0.0482609...</td>\n",
              "      <td>{'x': -6.841512299696616e-06, 'y': -0.00498174...</td>\n",
              "      <td>0.999809</td>\n",
              "      <td>-8.457010e+04</td>\n",
              "      <td>{'x': -6.8359794063880905e-06, 'y': -0.0049777...</td>\n",
              "    </tr>\n",
              "    <tr>\n",
              "      <th>98</th>\n",
              "      <td>{'x': 336.7995343358449, 'y': -822.0881188892297}</td>\n",
              "      <td>{'x': -0.004693393731338679, 'y': 0.0098210446...</td>\n",
              "      <td>{'x': -0.0005678808875593779, 'y': 0.001224093...</td>\n",
              "      <td>0.998185</td>\n",
              "      <td>-7.892628e+05</td>\n",
              "      <td>{'x': -0.0005683440941806801, 'y': 0.001225092...</td>\n",
              "    </tr>\n",
              "    <tr>\n",
              "      <th>99</th>\n",
              "      <td>{'x': -225.1184829759611, 'y': 604.3502688512493}</td>\n",
              "      <td>{'x': -0.003801877684749738, 'y': -0.024176524...</td>\n",
              "      <td>{'x': 9.621339965535655e-05, 'y': -0.003230690...</td>\n",
              "      <td>0.999046</td>\n",
              "      <td>-4.159176e+05</td>\n",
              "      <td>{'x': 9.620901365364183e-05, 'y': -0.003230543...</td>\n",
              "    </tr>\n",
              "  </tbody>\n",
              "</table>\n",
              "<p>100 rows × 6 columns</p>\n",
              "</div>"
            ],
            "text/plain": [
              "                                             position  ...                                       acceleration\n",
              "0   {'x': 25.82161071141911, 'y': 122.74118828846717}  ...  {'x': -0.0001486046912894352, 'y': -0.00163725...\n",
              "1   {'x': -2078.9436366080895, 'y': -953.439877420...  ...  {'x': 0.0001558834956812277, 'y': 9.3193816187...\n",
              "2   {'x': 1010.9847243375922, 'y': -333.9460840953...  ...  {'x': -0.000664242190952513, 'y': 0.0002663085...\n",
              "3   {'x': -675.9336145558832, 'y': -866.5437989001...  ...  {'x': 0.00046890040176025393, 'y': 0.000578023...\n",
              "4   {'x': 262.82333704557794, 'y': -1.959757332192...  ...  {'x': -0.012358295370362728, 'y': 0.0039859118...\n",
              "..                                                ...  ...                                                ...\n",
              "95  {'x': -352.019936631874, 'y': -298.6302766672372}  ...  {'x': -0.000905873205261362, 'y': -0.002439358...\n",
              "96  {'x': 229.43029154944443, 'y': 14.233862909370...  ...  {'x': -0.002164355785570712, 'y': 0.0030148572...\n",
              "97  {'x': -101.4072303468762, 'y': 272.5558156653692}  ...  {'x': -6.8359794063880905e-06, 'y': -0.0049777...\n",
              "98  {'x': 336.7995343358449, 'y': -822.0881188892297}  ...  {'x': -0.0005683440941806801, 'y': 0.001225092...\n",
              "99  {'x': -225.1184829759611, 'y': 604.3502688512493}  ...  {'x': 9.620901365364183e-05, 'y': -0.003230543...\n",
              "\n",
              "[100 rows x 6 columns]"
            ]
          },
          "metadata": {
            "tags": []
          }
        }
      ]
    }
  ]
}