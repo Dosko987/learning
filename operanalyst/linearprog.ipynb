{
  "nbformat": 4,
  "nbformat_minor": 0,
  "metadata": {
    "colab": {
      "name": "LinearProg.ipynb",
      "provenance": [],
      "toc_visible": true,
      "authorship_tag": "ABX9TyOw8GRNbWdMOGi5KJR2WSRv",
      "include_colab_link": true
    },
    "kernelspec": {
      "name": "python3",
      "display_name": "Python 3"
    }
  },
  "cells": [
    {
      "cell_type": "markdown",
      "metadata": {
        "id": "view-in-github",
        "colab_type": "text"
      },
      "source": [
        "<a href=\"https://colab.research.google.com/github/hrbolek/learning/blob/master/operanalyst/linearprog.ipynb\" target=\"_parent\"><img src=\"https://colab.research.google.com/assets/colab-badge.svg\" alt=\"Open In Colab\"/></a>"
      ]
    },
    {
      "cell_type": "code",
      "metadata": {
        "id": "MNGyqgmSeXjd",
        "colab_type": "code",
        "colab": {}
      },
      "source": [
        ""
      ],
      "execution_count": 40,
      "outputs": []
    },
    {
      "cell_type": "markdown",
      "metadata": {
        "id": "DjI7Wb_dcleK",
        "colab_type": "text"
      },
      "source": [
        "# Lineární programování"
      ]
    },
    {
      "cell_type": "markdown",
      "metadata": {
        "id": "QTEHo2FmcGlK",
        "colab_type": "text"
      },
      "source": [
        "## Kanonický tvar úlohy lineárního programování"
      ]
    },
    {
      "cell_type": "markdown",
      "metadata": {
        "id": "ONxPPb8KcL77",
        "colab_type": "text"
      },
      "source": [
        "## Převedení úlohy lineárního programování na kanonický tvar"
      ]
    },
    {
      "cell_type": "markdown",
      "metadata": {
        "id": "YcCe4d0cvyHQ",
        "colab_type": "text"
      },
      "source": [
        "## Příklady"
      ]
    },
    {
      "cell_type": "markdown",
      "metadata": {
        "id": "3yxGZd44v1gV",
        "colab_type": "text"
      },
      "source": [
        "### Příklad 1"
      ]
    },
    {
      "cell_type": "markdown",
      "metadata": {
        "id": "mZGIzCEVv5jl",
        "colab_type": "text"
      },
      "source": [
        "Surový materiál je dodáván v délce 7 m. Požadavek je produkovat délky 2.3 m (A), 1.9 m (B) a 0.8 m (C) v počtech A 60 ks, B 90 ks a C 320 ks. Stanovte minimální počet kusů surového materiálu."
      ]
    },
    {
      "cell_type": "code",
      "metadata": {
        "id": "HtoI84V9LVw0",
        "colab_type": "code",
        "colab": {}
      },
      "source": [
        "delkaZdroje = 7\n",
        "delkyVysledku = (2.3, 1.9, 0.8) \n",
        "poctyVysledku = (60, 90, 320)"
      ],
      "execution_count": 41,
      "outputs": []
    },
    {
      "cell_type": "code",
      "metadata": {
        "id": "Ewu3eDat2lQt",
        "colab_type": "code",
        "colab": {
          "base_uri": "https://localhost:8080/",
          "height": 201
        },
        "outputId": "cf80fb49-50da-43e7-fb8c-64b51eeb817c"
      },
      "source": [
        "def cutIt(source, results):\n",
        "  '''\n",
        "  Pocita mozne rozrezani materialu, \n",
        "  zdrojovy material je source, results cilove delky\n",
        "  '''\n",
        "  \n",
        "  noyield = True # zadny vysledek nebyl vygenerovan\n",
        "  for current in results:\n",
        "    \n",
        "    if current <= source: # rez lze provest jen tehdy, pokud je surovina delsi nez vysledek\n",
        "      \n",
        "      # zjistime mozne rezy ze zbytku\n",
        "      for cutting in cutIt(source - current, results):\n",
        "        if len(cutting) == 0:\n",
        "          # rez je \"nerez\", vracena prazdna konfigurace\n",
        "          noyield = False\n",
        "          yield [current] # vysledna konfigurace rezu tedy obsahuje jen jeden prvek\n",
        "          continue\n",
        "        if current >= max(cutting):\n",
        "          # vraceny cutting je serazen podle velikost, tedy zastupuje vsechny ekvivalentni kombinace \n",
        "          noyield = False\n",
        "          yield [current, *cutting]\n",
        "  if noyield:\n",
        "    # zadna konfigurace rezu nebyla vracena, musime vratit prazdnou konfiguraci\n",
        "    yield []\n",
        "\n",
        "for index, possibleCut in enumerate(cutIt(delkaZdroje, delkyVysledku)):\n",
        "  print(index, '.\\tcut:', possibleCut, '\\tΣ', sum(possibleCut))"
      ],
      "execution_count": 42,
      "outputs": [
        {
          "output_type": "stream",
          "text": [
            "0 .\tcut: [2.3, 2.3, 2.3] \tΣ 6.8999999999999995\n",
            "1 .\tcut: [2.3, 2.3, 1.9] \tΣ 6.5\n",
            "2 .\tcut: [2.3, 2.3, 0.8, 0.8, 0.8] \tΣ 6.999999999999999\n",
            "3 .\tcut: [2.3, 1.9, 1.9, 0.8] \tΣ 6.8999999999999995\n",
            "4 .\tcut: [2.3, 1.9, 0.8, 0.8, 0.8] \tΣ 6.599999999999999\n",
            "5 .\tcut: [2.3, 0.8, 0.8, 0.8, 0.8, 0.8] \tΣ 6.299999999999999\n",
            "6 .\tcut: [1.9, 1.9, 1.9, 0.8] \tΣ 6.499999999999999\n",
            "7 .\tcut: [1.9, 1.9, 0.8, 0.8, 0.8] \tΣ 6.199999999999999\n",
            "8 .\tcut: [1.9, 0.8, 0.8, 0.8, 0.8, 0.8, 0.8] \tΣ 6.699999999999999\n",
            "9 .\tcut: [0.8, 0.8, 0.8, 0.8, 0.8, 0.8, 0.8, 0.8] \tΣ 6.3999999999999995\n"
          ],
          "name": "stdout"
        }
      ]
    },
    {
      "cell_type": "code",
      "metadata": {
        "id": "92lOo9ET9Oae",
        "colab_type": "code",
        "colab": {
          "base_uri": "https://localhost:8080/",
          "height": 201
        },
        "outputId": "a3144174-b58a-438c-c9e4-b3263c80964e"
      },
      "source": [
        "def countIt(configuration, results):\n",
        "  result = {}\n",
        "  for item in results:\n",
        "    result[item] = 0\n",
        "  for item in configuration:\n",
        "    result[item] += 1\n",
        "  return result\n",
        "\n",
        "def countAll(configurations, results):\n",
        "  for configuration in configurations:\n",
        "    yield countIt(configuration, results)\n",
        "\n",
        "variants = list(countAll(cutIt(delkaZdroje, delkyVysledku), delkyVysledku))\n",
        "\n",
        "for index, possibleCut in enumerate(variants):\n",
        "  print(index, '.\\tcut:', possibleCut, '\\tΣ', sum(map(lambda x: x[0] * x[1], possibleCut.items())))"
      ],
      "execution_count": 43,
      "outputs": [
        {
          "output_type": "stream",
          "text": [
            "0 .\tcut: {2.3: 3, 1.9: 0, 0.8: 0} \tΣ 6.8999999999999995\n",
            "1 .\tcut: {2.3: 2, 1.9: 1, 0.8: 0} \tΣ 6.5\n",
            "2 .\tcut: {2.3: 2, 1.9: 0, 0.8: 3} \tΣ 7.0\n",
            "3 .\tcut: {2.3: 1, 1.9: 2, 0.8: 1} \tΣ 6.8999999999999995\n",
            "4 .\tcut: {2.3: 1, 1.9: 1, 0.8: 3} \tΣ 6.6\n",
            "5 .\tcut: {2.3: 1, 1.9: 0, 0.8: 5} \tΣ 6.3\n",
            "6 .\tcut: {2.3: 0, 1.9: 3, 0.8: 1} \tΣ 6.499999999999999\n",
            "7 .\tcut: {2.3: 0, 1.9: 2, 0.8: 3} \tΣ 6.2\n",
            "8 .\tcut: {2.3: 0, 1.9: 1, 0.8: 6} \tΣ 6.700000000000001\n",
            "9 .\tcut: {2.3: 0, 1.9: 0, 0.8: 8} \tΣ 6.4\n"
          ],
          "name": "stdout"
        }
      ]
    },
    {
      "cell_type": "code",
      "metadata": {
        "id": "N0db3Jm6KNwu",
        "colab_type": "code",
        "colab": {
          "base_uri": "https://localhost:8080/",
          "height": 90
        },
        "outputId": "379f579c-b9dd-413a-a6d3-847104704516"
      },
      "source": [
        "for result, count in zip(delkyVysledku, poctyVysledku):\n",
        "  for index, variant in enumerate(variants):\n",
        "    if (variant[result] == 0):\n",
        "      print('\\t\\t', end='')\n",
        "    else:\n",
        "      print('\\t + ', variant[result], ' * x', index, sep='', end='')\n",
        "  print('\\t >=', count)\n",
        "  \n",
        "for index, variant in enumerate(variants):\n",
        "  print(' + x', index, sep='', end='')\n",
        "print(' -> min')\n"
      ],
      "execution_count": 44,
      "outputs": [
        {
          "output_type": "stream",
          "text": [
            "\t + 3 * x0\t + 2 * x1\t + 2 * x2\t + 1 * x3\t + 1 * x4\t + 1 * x5\t\t\t\t\t\t\t\t\t >= 60\n",
            "\t\t\t + 1 * x1\t\t\t + 2 * x3\t + 1 * x4\t\t\t + 3 * x6\t + 2 * x7\t + 1 * x8\t\t\t >= 90\n",
            "\t\t\t\t\t + 3 * x2\t + 1 * x3\t + 3 * x4\t + 5 * x5\t + 1 * x6\t + 3 * x7\t + 6 * x8\t + 8 * x9\t >= 320\n",
            " + x0 + x1 + x2 + x3 + x4 + x5 + x6 + x7 + x8 + x9 -> min\n"
          ],
          "name": "stdout"
        }
      ]
    },
    {
      "cell_type": "code",
      "metadata": {
        "id": "8ogTKTuvPBnF",
        "colab_type": "code",
        "colab": {
          "base_uri": "https://localhost:8080/",
          "height": 294
        },
        "outputId": "a5c6ccdb-0c3a-454c-84f8-b483b9504fb0"
      },
      "source": [
        "#https://docs.scipy.org/doc/scipy/reference/generated/scipy.optimize.linprog.html\n",
        "from scipy.optimize import linprog\n",
        "c = [1] * len(variants)\n",
        "bounds=[(0, None)] * len(variants)\n",
        "Ax = [0] * len(variants)\n",
        "A = [[*Ax] for item in delkyVysledku]\n",
        "print(A)\n",
        "for i, result, count in zip(range(1000), delkyVysledku, poctyVysledku):\n",
        "  for j, variant in enumerate(variants):\n",
        "    A[i][j] = -variant[result]\n",
        "\n",
        "b = [-value for value in delkyVysledku]\n",
        "\n",
        "print(A)\n",
        "print(b)\n",
        "print(c)\n",
        "print(bounds)\n",
        "res = linprog(c, A_ub=A, b_ub=b, bounds=bounds, method='revised simplex')\n",
        "print(res)"
      ],
      "execution_count": 65,
      "outputs": [
        {
          "output_type": "stream",
          "text": [
            "[[0, 0, 0, 0, 0, 0, 0, 0, 0, 0], [0, 0, 0, 0, 0, 0, 0, 0, 0, 0], [0, 0, 0, 0, 0, 0, 0, 0, 0, 0]]\n",
            "[[-3, -2, -2, -1, -1, -1, 0, 0, 0, 0], [0, -1, 0, -2, -1, 0, -3, -2, -1, 0], [0, 0, -3, -1, -3, -5, -1, -3, -6, -8]]\n",
            "[-2.3, -1.9, -0.8]\n",
            "[1, 1, 1, 1, 1, 1, 1, 1, 1, 1]\n",
            "[(None, None), (None, None), (None, None), (None, None), (None, None), (None, None), (None, None), (None, None), (None, None), (None, None)]\n",
            "     con: array([], dtype=float64)\n",
            "     fun: 1.26875\n",
            " message: 'The problem is unbounded, as the simplex algorithm found a basic feasible solution from which there is a direction with negative reduced cost in which all decision variables increase.'\n",
            "     nit: 5\n",
            "   slack: array([0.00000000e+00, 4.44089210e-16, 2.22044605e-16])\n",
            "  status: 3\n",
            " success: False\n",
            "       x: array([ 0.     ,  0.     ,  0.     ,  2.3    ,  0.     ,  0.     ,\n",
            "        0.     , -1.35   ,  0.     ,  0.31875])\n"
          ],
          "name": "stdout"
        }
      ]
    },
    {
      "cell_type": "code",
      "metadata": {
        "id": "jO-61g8eZecu",
        "colab_type": "code",
        "colab": {
          "base_uri": "https://localhost:8080/",
          "height": 184
        },
        "outputId": "f0501d96-9c5f-4d13-b978-c2ac67e2230c"
      },
      "source": [
        "c = [-1, 4, 1]\n",
        "A = [[-3, 1, 1], [1, 2, 1]]\n",
        "b = [6, 4]\n",
        "x0_bounds = (None, None)\n",
        "x1_bounds = (-3, None)\n",
        "x2_bounds = (None, None)\n",
        "from scipy.optimize import linprog\n",
        "res = linprog(c, A_ub=A, b_ub=b, bounds=[x0_bounds, x1_bounds, x2_bounds], method='revised simplex')\n",
        "print(res)"
      ],
      "execution_count": 62,
      "outputs": [
        {
          "output_type": "stream",
          "text": [
            "     con: array([], dtype=float64)\n",
            "     fun: -22.0\n",
            " message: 'The problem is unbounded, as the simplex algorithm found a basic feasible solution from which there is a direction with negative reduced cost in which all decision variables increase.'\n",
            "     nit: 1\n",
            "   slack: array([39.,  0.])\n",
            "  status: 3\n",
            " success: False\n",
            "       x: array([10., -3.,  0.])\n"
          ],
          "name": "stdout"
        }
      ]
    }
  ]
}