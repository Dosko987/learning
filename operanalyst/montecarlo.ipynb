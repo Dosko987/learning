{
  "nbformat": 4,
  "nbformat_minor": 0,
  "metadata": {
    "colab": {
      "name": "MonteCarlo.ipynb",
      "provenance": [],
      "toc_visible": true,
      "authorship_tag": "ABX9TyNxkTCoQ+dM2Md5OiEaiCSZ",
      "include_colab_link": true
    },
    "kernelspec": {
      "name": "python3",
      "display_name": "Python 3"
    }
  },
  "cells": [
    {
      "cell_type": "markdown",
      "metadata": {
        "id": "view-in-github",
        "colab_type": "text"
      },
      "source": [
        "<a href=\"https://colab.research.google.com/github/hrbolek/learning/blob/master/operanalyst/montecarlo.ipynb\" target=\"_parent\"><img src=\"https://colab.research.google.com/assets/colab-badge.svg\" alt=\"Open In Colab\"/></a>"
      ]
    },
    {
      "cell_type": "code",
      "metadata": {
        "id": "T9IMU580GEun"
      },
      "source": [
        ""
      ],
      "execution_count": null,
      "outputs": []
    },
    {
      "cell_type": "markdown",
      "metadata": {
        "id": "uYqVCHpUGmIm"
      },
      "source": [
        "# Metoda Monte Carlo"
      ]
    },
    {
      "cell_type": "markdown",
      "metadata": {
        "id": "OmwatayvEqlW"
      },
      "source": [
        "Převzato z https://github.com/SamuelHunter/Buffon/blob/master/buffon.py"
      ]
    },
    {
      "cell_type": "code",
      "metadata": {
        "id": "Duq7bib1EuGV"
      },
      "source": [
        ""
      ],
      "execution_count": null,
      "outputs": []
    },
    {
      "cell_type": "code",
      "metadata": {
        "id": "l834IVAqE-gL",
        "outputId": "dcfc2ae1-4697-470c-b0e0-f87e84e5aa08",
        "colab": {
          "base_uri": "https://localhost:8080/",
          "height": 338
        }
      },
      "source": [
        "import matplotlib.pyplot as plt\n",
        "import random\n",
        "from math import cos, sin, pi\n",
        "\n",
        "def plotLine(sx, sy, ex, ey):\n",
        "  plt.plot([sx, ex], [sy, ey])\n",
        "\n",
        "#Estimating Pi using Buffon's Needle # www.101compiting.net/estimating-pi-using-buffons-needle\n",
        "#import turtle\n",
        "\n",
        "boardWidth = 40\n",
        "needleLength = 30\n",
        "numberOfNeedles = 50\n",
        "    \n",
        "#myPen = turtle.Turtle()\n",
        "#myPen.hideturtle()\n",
        "#myPen.speed(0)\n",
        "\n",
        "y=180\n",
        "#Draw floor boards\n",
        "#for i in range(0,10):\n",
        "#  myPen.penup()\n",
        "#  myPen.goto(-200,y)\n",
        "#  myPen.pendown()\n",
        "#  myPen.goto(200,y)\n",
        "#  y-=boardWidth\n",
        "\n",
        "#Draw Needles\n",
        "#myPen.color(\"#f442d1\")\n",
        "count = 0\n",
        "for needle in range(0,numberOfNeedles):\n",
        "  xs = random.randint(-180, 180)\n",
        "  ys = random.randint(-180, 180)\n",
        "  angle = random.random() * 2 * pi\n",
        "  xe = xs + needleLength * cos(angle)\n",
        "  ye = ys + needleLength * sin(angle)\n",
        "\n",
        "  if (ys <= 0) and (ye >= 0):\n",
        "    count = count + 1\n",
        "  plotLine(xs, ys, xe, ye)\n",
        "  \n",
        "plt.axhline()\n",
        "\n",
        "print(\"L = \" + str(needleLength))\n",
        "print(\"N = \" + str(numberOfNeedles))\n",
        "print(\"W = \" + str(boardWidth))\n",
        "print(\"C = ???\")\n"
      ],
      "execution_count": 6,
      "outputs": [
        {
          "output_type": "stream",
          "text": [
            "L = 30\n",
            "N = 50\n",
            "W = 40\n",
            "C = ???\n"
          ],
          "name": "stdout"
        },
        {
          "output_type": "display_data",
          "data": {
            "image/png": "[encoded data removed]",
            "text/plain": [
              "<Figure size 432x288 with 1 Axes>"
            ]
          },
          "metadata": {
            "tags": [],
            "needs_background": "light"
          }
        }
      ]
    }
  ]
}