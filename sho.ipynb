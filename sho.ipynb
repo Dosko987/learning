{
  "nbformat": 4,
  "nbformat_minor": 0,
  "metadata": {
    "colab": {
      "name": "sho.ipynb",
      "provenance": [],
      "collapsed_sections": [],
      "toc_visible": true,
      "include_colab_link": true
    },
    "kernelspec": {
      "name": "python3",
      "display_name": "Python 3"
    }
  },
  "cells": [
    {
      "cell_type": "markdown",
      "metadata": {
        "id": "view-in-github",
        "colab_type": "text"
      },
      "source": [
        "<a href=\"https://colab.research.google.com/github/hrbolek/learning/blob/master/sho.ipynb\" target=\"_parent\"><img src=\"https://colab.research.google.com/assets/colab-badge.svg\" alt=\"Open In Colab\"/></a>"
      ]
    },
    {
      "cell_type": "code",
      "metadata": {
        "id": "ClR7CuGeHKes",
        "colab_type": "code",
        "colab": {}
      },
      "source": [
        ""
      ],
      "execution_count": null,
      "outputs": []
    },
    {
      "cell_type": "markdown",
      "metadata": {
        "id": "vWXMRKo5i4tf",
        "colab_type": "text"
      },
      "source": [
        "# Využití statistického modelování\n",
        "Vyhodnotíme chování systému hromadné obsluhy pomocí statistického modelování. Prostředkem bude událostní simulace.\n"
      ]
    },
    {
      "cell_type": "code",
      "metadata": {
        "id": "BDO4Ka6DNKKB",
        "colab_type": "code",
        "colab": {}
      },
      "source": [
        "import matplotlib.pyplot as plt\n",
        "plt.rcParams[\"figure.figsize\"] = (15,10)"
      ],
      "execution_count": 1,
      "outputs": []
    },
    {
      "cell_type": "markdown",
      "metadata": {
        "id": "P3meTeWeaJuk",
        "colab_type": "text"
      },
      "source": [
        "# Teorie hromadné obsluhy\n",
        "## Krátké připomenutí\n",
        "Kandalova notace\n",
        "\n",
        "Systémy M/M/1, M/M/n\n",
        "\n",
        "Pro systém M/M/1 platí rovnice o průměrné délce fronty\n",
        "\n",
        "$L = \\frac{\\lambda}{\\mu}$\n",
        "\n",
        "kde L je  průměrná délka fronty\n",
        "\n",
        "$\\lambda$ je intenzita toku požadavků\n",
        "\n",
        "$\\mu$ je intenzita obsluhy\n",
        "\n",
        "odkaz https://en.wikipedia.org/wiki/Queueing_theory"
      ]
    },
    {
      "cell_type": "markdown",
      "metadata": {
        "id": "SPCw91sfKmJm",
        "colab_type": "text"
      },
      "source": [
        "## Generování náhodných čísel pro Poisonův tok\n",
        "Poisonův tok je model např. příchodu zákazníků k přepážce, kde jsou obsluhováni. Pro modelování potřebujeme generovat posloupno příchodů. Interval mezi jednotlivými příchody lze generovat podle následujícího vztahu\n",
        "\n",
        "$r'=-\\frac{1}{\\lambda}ln(r)$\n",
        "\n",
        "kde $r$ je náhodné číslo s rovnoměrným rozložením a $r'$ je náhodný interval mezi dvěma příchody.\n",
        "\n",
        "Stejným vztahem lze vypočítat náhodnou délku obsluhy (pro systémy M/M/1 nebo M/M/n)\n",
        "\n",
        "https://preshing.com/20111007/how-to-generate-random-timings-for-a-poisson-process/"
      ]
    },
    {
      "cell_type": "code",
      "metadata": {
        "id": "NnwTMv0NJYQP",
        "colab_type": "code",
        "colab": {}
      },
      "source": [
        "from random import random\n",
        "from math import log as ln\n",
        "\n",
        "def rndEx(rnd, lam):\n",
        "  x = rnd()\n",
        "  result = (-1 / lam) * ln(x) #https://preshing.com/20111007/how-to-generate-random-timings-for-a-poisson-process/\n",
        "  return result"
      ],
      "execution_count": 2,
      "outputs": []
    },
    {
      "cell_type": "markdown",
      "metadata": {
        "id": "TwSsPJ6y0Nb3",
        "colab_type": "text"
      },
      "source": [
        "## Událostní kalendář\n",
        "Třída pro událostní simulaci. Událostní simulace umožňuje spouštění událostí - akcí v časové souslednosti bez ohledu na souslednost plánování."
      ]
    },
    {
      "cell_type": "code",
      "metadata": {
        "id": "kNdFHrQuYr9P",
        "colab_type": "code",
        "colab": {}
      },
      "source": [
        "class EventCalendar:\n",
        "  _queue = []\n",
        "  def __init__(self):\n",
        "    pass\n",
        "\n",
        "  #Metoda pro vykonání jednoho kroku simulace\n",
        "  def Step(self):\n",
        "    #setřídit frontu / list událostí podle položky time / čas\n",
        "    self._queue.sort(key = lambda item: item['time'])\n",
        "    \n",
        "    #z fronty odstraň nejstarší událost\n",
        "    currentEvent = self._queue.pop(0)\n",
        "\n",
        "    #vyvolej funkci, která je spojena s danou událostí\n",
        "    func = currentEvent['executor']\n",
        "    result = func(currentEvent, self, **currentEvent['kwargs'])\n",
        "    if not (result is None):\n",
        "      # toto je pro pripad, kdy func vraci posloupnost navazujicich udalosti\n",
        "      # func muze byt generatorem :)\n",
        "      asIter = iter(result) # kdyz to neni iterovatelne (napr. list)\n",
        "      firstEvent = next(asIter) # prvni, ziskame Tuple o trech prvcich\n",
        "      \n",
        "      futureTime = firstEvent[0] # cas dalsi udalost\n",
        "      func = firstEvent[1] # co ma byt vykonano\n",
        "      kwargs = firstEvent[2] # dodatecne parametry\n",
        "      self.AddEvent(futureTime, self.generatorEvent, hook = func, generator = asIter, kwargs = kwargs)\n",
        "\n",
        "    #vrať událost, která byla zpracována\n",
        "    return currentEvent\n",
        "\n",
        "  def generatorEvent(self, event, calendar, hook, generator, kwargs):\n",
        "      hook({'time': event['time'], 'executor': hook, 'kwargs': kwargs}, self, **kwargs)\n",
        "      try:\n",
        "        nextEvent = next(generator) # dalsi udalost v posloupnosti\n",
        "        \n",
        "        futureTime = nextEvent[0] # cas, kdy ma byt vykonano\n",
        "        func = nextEvent[1] # co ma byt vykonano\n",
        "        kwargs = nextEvent[2] # dodatecne parametry\n",
        "        self.AddEvent(futureTime, self.generatorEvent, hook = func, generator = generator, kwargs = kwargs)\n",
        "      except StopIteration:\n",
        "        pass\n",
        "\n",
        "  #Metoda pro získání informace o času nejstarší události, \n",
        "  #tj. události, která bude zpracována jako první\n",
        "  def PrepareNext(self):\n",
        "    #setřídit frontu / list událostí podle položky time / čas\n",
        "    self._queue.sort(key = lambda item: item['time'])\n",
        "    #vrať čas nejstarší události\n",
        "    return self._queue[0]['time']\n",
        "\n",
        "  #Vložení události do fronty událostí, \n",
        "  #futureTime - čas, kdy bude událost vyvolána\n",
        "  #f - funkce, která bude v čase události vykonána / volána\n",
        "  def AddEvent(self, futureTime, f, **kwargs):\n",
        "    self._queue.append({'time': futureTime, 'executor': f, 'kwargs': kwargs})\n",
        "    return self\n",
        "\n",
        "  def asIterator(self):\n",
        "    while len(self._queue) > 0:\n",
        "      yield self.Step()\n"
      ],
      "execution_count": 27,
      "outputs": []
    },
    {
      "cell_type": "markdown",
      "metadata": {
        "id": "C0nbXFjzoiTL",
        "colab_type": "text"
      },
      "source": [
        "### Příklad použití I"
      ]
    },
    {
      "cell_type": "code",
      "metadata": {
        "id": "a8-mAg73onbh",
        "colab_type": "code",
        "colab": {
          "base_uri": "https://localhost:8080/",
          "height": 439
        },
        "outputId": "c8301573-2866-4f28-d8cc-9dbbe130b0b7"
      },
      "source": [
        "import random \n",
        "\n",
        "calendar = EventCalendar()\n",
        "def eventPrinter(event, calendar, value):\n",
        "  print('At time\\t', event['time'], '\\tvalue is\\t', value)\n",
        "  if event['time'] < 10:\n",
        "    calendar.AddEvent(event['time'] + random.random(), eventPrinter, value = value + 1)\n",
        "\n",
        "calendar.AddEvent(0, eventPrinter, value = 0)\n",
        "for item in calendar.asIterator():\n",
        "  pass"
      ],
      "execution_count": 12,
      "outputs": [
        {
          "output_type": "stream",
          "text": [
            "At time\t 0 \tvalue is\t 0\n",
            "At time\t 0.9813656198696308 \tvalue is\t 1\n",
            "At time\t 1.3341571044429328 \tvalue is\t 2\n",
            "At time\t 2.2321196093599482 \tvalue is\t 3\n",
            "At time\t 2.5694724110572906 \tvalue is\t 4\n",
            "At time\t 3.200279560617509 \tvalue is\t 5\n",
            "At time\t 3.763916425544559 \tvalue is\t 6\n",
            "At time\t 4.47799465668383 \tvalue is\t 7\n",
            "At time\t 4.9252405930349274 \tvalue is\t 8\n",
            "At time\t 5.547340512612302 \tvalue is\t 9\n",
            "At time\t 6.1505932098011655 \tvalue is\t 10\n",
            "At time\t 6.984408700775921 \tvalue is\t 11\n",
            "At time\t 7.382536006546508 \tvalue is\t 12\n",
            "At time\t 7.790038048938784 \tvalue is\t 13\n",
            "At time\t 7.799250286092086 \tvalue is\t 14\n",
            "At time\t 7.893376102793 \tvalue is\t 15\n",
            "At time\t 8.445929013765339 \tvalue is\t 16\n",
            "At time\t 9.036231409822719 \tvalue is\t 17\n",
            "At time\t 9.195757662929273 \tvalue is\t 18\n",
            "At time\t 9.207230940593327 \tvalue is\t 19\n",
            "At time\t 9.283415308741318 \tvalue is\t 20\n",
            "At time\t 9.900831629999903 \tvalue is\t 21\n",
            "At time\t 10.613535220328709 \tvalue is\t 22\n"
          ],
          "name": "stdout"
        }
      ]
    },
    {
      "cell_type": "markdown",
      "metadata": {
        "id": "VTucT4mPqGKr",
        "colab_type": "text"
      },
      "source": [
        "### Příklad použití II"
      ]
    },
    {
      "cell_type": "code",
      "metadata": {
        "id": "gLLzNKnrqIkB",
        "colab_type": "code",
        "colab": {
          "base_uri": "https://localhost:8080/",
          "height": 384
        },
        "outputId": "20a6198b-f133-4b46-92b1-2b56942bf538"
      },
      "source": [
        "calendar = EventCalendar()\n",
        "def createEvents(event, calendar):\n",
        "  time = event['time']\n",
        "  value = 0\n",
        "  while time < 10:\n",
        "    yield time, eventPrinterII, {'value': value}\n",
        "    time = time + random.random()\n",
        "    value = value + 1\n",
        "\n",
        "def eventPrinterII(event, calendar, value):\n",
        "  print('At time\\t', event['time'], '\\tvalue is\\t', value)\n",
        "\n",
        "calendar.AddEvent(0, createEvents)\n",
        "for item in calendar.asIterator():\n",
        "  pass"
      ],
      "execution_count": 29,
      "outputs": [
        {
          "output_type": "stream",
          "text": [
            "At time\t 0 \tvalue is\t 0\n",
            "At time\t 0.506911000276801 \tvalue is\t 1\n",
            "At time\t 0.6526440580472104 \tvalue is\t 2\n",
            "At time\t 1.335275588522539 \tvalue is\t 3\n",
            "At time\t 1.4011747786993602 \tvalue is\t 4\n",
            "At time\t 2.1809773907694594 \tvalue is\t 5\n",
            "At time\t 2.258261865702898 \tvalue is\t 6\n",
            "At time\t 3.1818518761527983 \tvalue is\t 7\n",
            "At time\t 4.092917763207383 \tvalue is\t 8\n",
            "At time\t 4.847815246844352 \tvalue is\t 9\n",
            "At time\t 5.06386048227059 \tvalue is\t 10\n",
            "At time\t 5.983230354958142 \tvalue is\t 11\n",
            "At time\t 6.145593880038865 \tvalue is\t 12\n",
            "At time\t 6.657252468920903 \tvalue is\t 13\n",
            "At time\t 6.680356648887144 \tvalue is\t 14\n",
            "At time\t 7.0795989382609354 \tvalue is\t 15\n",
            "At time\t 7.778135769189976 \tvalue is\t 16\n",
            "At time\t 7.903264106333458 \tvalue is\t 17\n",
            "At time\t 8.83087033083136 \tvalue is\t 18\n",
            "At time\t 9.550070812500449 \tvalue is\t 19\n"
          ],
          "name": "stdout"
        }
      ]
    },
    {
      "cell_type": "markdown",
      "metadata": {
        "id": "4owOIMRW473D",
        "colab_type": "text"
      },
      "source": [
        "## Třída popisující systém hromadné obsluhy"
      ]
    },
    {
      "cell_type": "code",
      "metadata": {
        "id": "OxZAjopGbMld",
        "colab_type": "code",
        "colab": {}
      },
      "source": [
        "class QueueSystem:\n",
        "  \n",
        "  _queue = [] #Fronta požadavků\n",
        "  _inService = None #obsluhovaný požadavek\n",
        "  _fLambda = None #funkce pro výpočet intervalů\n",
        "  _fNy = None #funkce pro výpočet intervalů\n",
        "\n",
        "  def __init__(self):\n",
        "    pass\n",
        "\n",
        "  #Inicializace simulace,\n",
        "  #eventCalendar - událostní kalendář, je do něj vložena inicializační událost\n",
        "  #fLambda - funkce generující intervaly mezi příchody dvou požadavků\n",
        "  #fNy - funkce generující délky obsluhy\n",
        "  def InitSimulation(self, eventCalendar, fLambda = lambda : 1, fNy = lambda : 0.5):\n",
        "    self._fLambda = fLambda\n",
        "    self._fNy = fNy\n",
        "    eventCalendar.AddEvent(0, self.IncomingEvent)\n",
        "    pass\n",
        "\n",
        "  #Událost příchodu požadavku\n",
        "  def IncomingEvent(self, event, eventCalendar):\n",
        "    #Vložení požadavku do fronty\n",
        "    self._queue.append({'incTime': event['time']})\n",
        "    #Naplánování pokusu o zahájení obsluhy\n",
        "    eventCalendar.AddEvent(event['time'], self.tryBeginServiceEvent)\n",
        "    #Naplánování opakované události příchodu nového požadavku\n",
        "    eventCalendar.AddEvent(event['time'] + self._fLambda(), self.IncomingEvent)\n",
        "    pass\n",
        "\n",
        "  #Událost pokus o zahájení obsluhy\n",
        "  def tryBeginServiceEvent(self, event, eventCalendar):\n",
        "    #je místo obsluhy volné?\n",
        "    if self._inService is None:\n",
        "      #místo obsluhy je volné\n",
        "      #je něco ve frontě?\n",
        "      if len(self._queue) > 0:\n",
        "        #něco je frontě\n",
        "        #výpočet času konce obsluhy\n",
        "        endTime = event['time'] + self._fNy()\n",
        "        #přesun požadavku z fronty do místa obsluhy\n",
        "        self._inService = {\n",
        "            **self._queue.pop(), 'serTime': event['time'], 'endTime': endTime}\n",
        "        #naplánování obsluhy\n",
        "        eventCalendar.AddEvent(endTime, self.endServiceEvent)\n",
        "\n",
        "    pass\n",
        "\n",
        "  def endServiceEvent(self, event, eventCalendar):\n",
        "    #print('endServiceEvent', event)\n",
        "    self._inService = None\n",
        "    eventCalendar.AddEvent(event['time'], self.tryBeginServiceEvent)\n",
        "    pass\n"
      ],
      "execution_count": null,
      "outputs": []
    },
    {
      "cell_type": "markdown",
      "metadata": {
        "id": "mQaCm7VdxhKV",
        "colab_type": "text"
      },
      "source": [
        "## Sběr statistických dat\n",
        "Třída umožňuje registrovat funkce, které vyčíslují hodnotu sledovaného ukazatele. Současně poskytuje metodu pro získání statistických údajů."
      ]
    },
    {
      "cell_type": "code",
      "metadata": {
        "id": "pi0tUl-ETh8y",
        "colab_type": "code",
        "colab": {}
      },
      "source": [
        "class StatisticCollector:\n",
        "  \n",
        "  _collection = [] #úložiště pro statistiku\n",
        "  _currentTime = 0 #čas posledního sběru statistik\n",
        "\n",
        "  def __init__(self, currentTime = 0):\n",
        "    self._collection = []\n",
        "    self._currentTime = currentTime\n",
        "\n",
        "  #přidání statistické hodnoty k vyčíslování\n",
        "  def Add(self, name, func):\n",
        "    self._collection.append({'name': name, 'func': func, 'sum': 0, 'time': 0})\n",
        "\n",
        "  #vyčíslení registrovaných statistik\n",
        "  def EvaluateAll(self, currentTime):\n",
        "    #časový interval od posledního sběru\n",
        "    deltaTime = currentTime - self._currentTime\n",
        "    #pro všechny registrované statistické ukazatele\n",
        "    for item in self._collection:\n",
        "      #získání aktuálního hodnoty statistického ukazatele\n",
        "      funcValue = item['func']()\n",
        "      \n",
        "      #výpočet sumy\n",
        "      item['sum'] = item['sum'] + funcValue * deltaTime\n",
        "      #výpočet času, po který je ukazatel sledován\n",
        "      item['time'] = item['time'] + deltaTime\n",
        "    \n",
        "    #záznam posledního sběru statistických ukazatelů\n",
        "    self._currentTime = currentTime\n",
        "\n",
        "  #návrat aktuálních hodnot statistických ukazatelů\n",
        "  def GetValues(self):\n",
        "    for item in self._collection:\n",
        "      #po jednotlivých položkách\n",
        "      if item['time'] > 0:\n",
        "        #v průběhu simulace, čas je kladný\n",
        "        yield {\n",
        "            'name': item['name'], \n",
        "            'value': item['sum'] / item['time'], 'valid': True}\n",
        "      else:\n",
        "        #počátek sběru, čas je nulový, nelze počítat průměr podle času\n",
        "        yield {'name': item['name'], 'value': item['sum'], 'valid': False}\n",
        "              \n",
        "\n"
      ],
      "execution_count": null,
      "outputs": []
    },
    {
      "cell_type": "markdown",
      "metadata": {
        "id": "J_I6vR81kaQP",
        "colab_type": "text"
      },
      "source": [
        "## Simulace \n",
        "Tato simulace je připravena jako systém M/M/1. Jestliže budou změněny funkce pro generování intervalu mezi dvěma příchody, případně funkce pro generování délky obsluhy a tyto funkce nebudou generovat náhodná čísla s exponenciálním rozdělením (Poisonův tok), neumíme je algebraicky spočítat. Tato simulace ovšem stále dokáže stanovit parametry systému SHO."
      ]
    },
    {
      "cell_type": "code",
      "metadata": {
        "id": "HxSzLBIWmJ3w",
        "colab_type": "code",
        "colab": {}
      },
      "source": [
        "def plotResults(timeLine, resultsStore):\n",
        "  #tisku grafu statistických ukazatelů\n",
        "  if len(resultsStore) > 0:\n",
        "    plt.subplot(2, 2, 1)\n",
        "    plt.title(resultsStore[0]['name'])\n",
        "    plt.plot(timeLine, resultsStore[0]['values'], label = resultsStore[0]['name'])\n",
        "    plt.legend(loc = 'best')\n",
        "    plt.xlabel('$t[s]$')\n",
        "    plt.grid(which = 'both')\n",
        "  if len(resultsStore) > 1:\n",
        "    plt.subplot(2, 2, 2)\n",
        "    plt.title(resultsStore[1]['name'])\n",
        "    plt.plot(timeLine, resultsStore[1]['values'], label = resultsStore[1]['name'])\n",
        "    plt.legend(loc = 'best')\n",
        "    plt.xlabel('$t[s]$')\n",
        "    plt.grid(which = 'both')\n",
        "  if len(resultsStore) > 2:\n",
        "    plt.subplot(2, 2, 3)\n",
        "    plt.title(resultsStore[2]['name'])\n",
        "    plt.plot(timeLine, resultsStore[2]['values'], label = resultsStore[2]['name'])\n",
        "    plt.legend(loc = 'best')\n",
        "    plt.xlabel('$t[s]$')\n",
        "    plt.grid(which = 'both')\n",
        "  if len(resultsStore) > 3:\n",
        "    plt.subplot(2, 2, 4)\n",
        "    plt.title(resultsStore[3]['name'])\n",
        "    plt.plot(timeLine, resultsStore[3]['values'], label = resultsStore[3]['name'])\n",
        "    plt.legend(loc = 'best')\n",
        "    plt.xlabel('$t[s]$')\n",
        "    plt.grid(which = 'both')\n",
        "  plt.show()"
      ],
      "execution_count": null,
      "outputs": []
    },
    {
      "cell_type": "code",
      "metadata": {
        "id": "aJPoHASXmVt2",
        "colab_type": "code",
        "colab": {}
      },
      "source": [
        "def runSim(λFunc, µFunc, steps, density):\n",
        "  calendar = EventCalendar()\n",
        "\n",
        "  #inicializace systému hromadné obsluhy\n",
        "  queue = QueueSystem()\n",
        "  queue.InitSimulation(calendar, λFunc, µFunc)\n",
        "\n",
        "  #inicializace statistiky\n",
        "  statisticCollector = StatisticCollector()\n",
        "  statisticCollector.Add('Průměrná délka fronty', lambda : len(queue._queue))\n",
        "  statisticCollector.Add('Obsluha je volná', lambda : queue._inService is None)\n",
        "  statisticCollector.Add('Fronta je delší než 5', lambda : len(queue._queue) > 5)\n",
        "\n",
        "  #inicializace úložiště pro vývoj statistických ukazatelů\n",
        "  resultsStore = []\n",
        "  for data in statisticCollector.GetValues():\n",
        "    resultsStore.append({'name': data['name'], 'values': [data['value']]})\n",
        "  timeLine = [0]\n",
        "\n",
        "  #cyklus simulace\n",
        "  for i in range(0, steps):\n",
        "    #zjisti cas nasledujici udalosti\n",
        "    nextTime = calendar.PrepareNext()\n",
        "    #posbirej statistiky\n",
        "    statisticCollector.EvaluateAll(nextTime)\n",
        "    if i % density == 0:\n",
        "      #tento výsledek je třeba uložit\n",
        "      timeLine.append(nextTime)\n",
        "      #uloz statistiky do pameti / maximálně 20 statistik / lze zvětšit\n",
        "      for i, data in zip(range(0, 20), statisticCollector.GetValues()):\n",
        "        resultsStore[i]['values'].append(data['value'])\n",
        "\n",
        "    #udelej jeden krok simulace\n",
        "    currentEvent = calendar.Step()\n",
        "  return timeLine, resultsStore"
      ],
      "execution_count": null,
      "outputs": []
    },
    {
      "cell_type": "code",
      "metadata": {
        "id": "6Stbvg0eQ44w",
        "colab_type": "code",
        "colab": {}
      },
      "source": [
        "µ = 2\n",
        "λ = 1\n",
        "print('expected queue length', λ / µ)\n",
        "if λ < µ:\n",
        "  print('system is stable')\n",
        "else:\n",
        "  print('system is not stable')\n",
        "\n",
        "#funkce pro generovani nahodnych cisel s exponencialnim rozdelenim\n",
        "queueIntervalFunc = lambda : rndEx(random, λ)\n",
        "#funkce pro generovani nahodnych cisel s exponencialnim rozdelenim\n",
        "serviceIntervalFunc = lambda : rndEx(random, µ)\n",
        "\n",
        "density = 10000\n",
        "timeLine, resultsStore = runSim(queueIntervalFunc, serviceIntervalFunc, 100 * density, density)\n",
        "plotResults(timeLine, resultsStore)"
      ],
      "execution_count": null,
      "outputs": []
    },
    {
      "cell_type": "markdown",
      "metadata": {
        "id": "o4DFxeVXqG9F",
        "colab_type": "text"
      },
      "source": [
        "## Simulace netypického SHO\n",
        "V dalším textu je simulován SHO, který není typu M/M/1. Jeho tok požadavků je určen jinou náhodnou veličinou, v tomto případě je konstantní s intervalem mezi požadavky 2s. Délka obsluhy je určena náhodnou veličinou s exponenciálním rozdělením."
      ]
    },
    {
      "cell_type": "code",
      "metadata": {
        "id": "3jUUVXK1qF6T",
        "colab_type": "code",
        "colab": {}
      },
      "source": [
        "µ = 0.6\n",
        "queueIntervalFunc = lambda : 2\n",
        "#funkce pro generovani nahodnych cisel s exponencialnim rozdelenim\n",
        "serviceIntervalFunc = lambda : rndEx(random, µ)\n",
        "\n",
        "density = 10000\n",
        "timeLine, resultsStore = runSim(queueIntervalFunc, serviceIntervalFunc, 100 * density, density)\n",
        "plotResults(timeLine, resultsStore)"
      ],
      "execution_count": null,
      "outputs": []
    },
    {
      "cell_type": "code",
      "metadata": {
        "id": "lIdvean0j3Hm",
        "colab_type": "code",
        "colab": {}
      },
      "source": [
        ""
      ],
      "execution_count": null,
      "outputs": []
    }
  ]
}