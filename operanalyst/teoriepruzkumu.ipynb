{
  "nbformat": 4,
  "nbformat_minor": 0,
  "metadata": {
    "colab": {
      "name": "TeoriePrůzkumu.ipynb",
      "provenance": [],
      "authorship_tag": "ABX9TyMJNWfh8aimxmT+IqSQuh5V",
      "include_colab_link": true
    },
    "kernelspec": {
      "name": "python3",
      "display_name": "Python 3"
    }
  },
  "cells": [
    {
      "cell_type": "markdown",
      "metadata": {
        "id": "view-in-github",
        "colab_type": "text"
      },
      "source": [
        "<a href=\"https://colab.research.google.com/github/hrbolek/learning/blob/master/operanalyst/teoriepruzkumu.ipynb\" target=\"_parent\"><img src=\"https://colab.research.google.com/assets/colab-badge.svg\" alt=\"Open In Colab\"/></a>"
      ]
    },
    {
      "cell_type": "markdown",
      "metadata": {
        "id": "xNZjmDTouU0n"
      },
      "source": [
        "# Teorie průzkumu"
      ]
    },
    {
      "cell_type": "markdown",
      "metadata": {
        "id": "_Kt2OOdauW8l"
      },
      "source": [
        "## Úvaha"
      ]
    },
    {
      "cell_type": "markdown",
      "metadata": {
        "id": "RdY90JOSub8b"
      },
      "source": [
        "Představte si, že máte prostor rozdělený na dvě části. Zvolíte si jednu část, kterou zkontrolujete. Protivník si taktéž zvolí část, kde bude přítomen. V případě, kdy zvolíte stejný prostor, vyhráváte, v opačném případě prohráváte.\n",
        "\n"
      ]
    },
    {
      "cell_type": "markdown",
      "metadata": {
        "id": "yRidtkqewBwn"
      },
      "source": [
        "$$max\\{v:A^Tx^B- \\begin{pmatrix}v \\\\\n",
        "v \\\\\n",
        "\\vdots \\\\\n",
        "v\n",
        "\\end{pmatrix} \\ge 0, \\sum_{i=1}^nx_i^B=1,x^B \\ge 0, v \\in R\\}$$"
      ]
    },
    {
      "cell_type": "markdown",
      "metadata": {
        "id": "0oOrxcBs4i08"
      },
      "source": [
        "## Pravděpodobnost setkání"
      ]
    },
    {
      "cell_type": "markdown",
      "metadata": {
        "id": "W-M4kMI14ljN"
      },
      "source": [
        "https://www.mathpages.com/home/kmath124/kmath124.htm\n",
        "\n",
        "Mějme dvě náhodné proměnné s rovnoměrným rozdělením pravděpodobností na intervalu $<0;1>$. Jaká je pravděpodobnost, že jejich hodnoty jsou od sebe vzdálené maximálně $q$? \n",
        "\n",
        "$$P_2=q$$\n",
        "\n",
        "Zobecněný vztah pro $n$ náhodných proměnných je\n",
        "\n",
        "$$P_n=nq^{n-1}-(n-1)q^n$$\n",
        "\n"
      ]
    },
    {
      "cell_type": "code",
      "metadata": {
        "id": "HFX55FmatRFq"
      },
      "source": [
        "Teorie průzkumu"
      ],
      "execution_count": null,
      "outputs": []
    }
  ]
}