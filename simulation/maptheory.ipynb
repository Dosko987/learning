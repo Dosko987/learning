{
  "nbformat": 4,
  "nbformat_minor": 0,
  "metadata": {
    "colab": {
      "name": "maptheory.ipynb",
      "provenance": [],
      "toc_visible": true,
      "authorship_tag": "ABX9TyNM37gdahRGeTLWutRD+GXv",
      "include_colab_link": true
    },
    "kernelspec": {
      "name": "python3",
      "display_name": "Python 3"
    }
  },
  "cells": [
    {
      "cell_type": "markdown",
      "metadata": {
        "id": "view-in-github",
        "colab_type": "text"
      },
      "source": [
        "<a href=\"https://colab.research.google.com/github/hrbolek/learning/blob/master/simulation/maptheory.ipynb\" target=\"_parent\"><img src=\"https://colab.research.google.com/assets/colab-badge.svg\" alt=\"Open In Colab\"/></a>"
      ]
    },
    {
      "cell_type": "markdown",
      "metadata": {
        "id": "wH-I8RfqcN2G",
        "colab_type": "text"
      },
      "source": [
        "# Teorie pro práci s mapami"
      ]
    },
    {
      "cell_type": "markdown",
      "metadata": {
        "id": "PZUxxhE_cTjL",
        "colab_type": "text"
      },
      "source": [
        "## Matematické základy"
      ]
    },
    {
      "cell_type": "markdown",
      "metadata": {
        "id": "QbFgY671cXaa",
        "colab_type": "text"
      },
      "source": [
        "### Lineární transformace"
      ]
    },
    {
      "cell_type": "markdown",
      "metadata": {
        "id": "EAArmTJGcb5l",
        "colab_type": "text"
      },
      "source": [
        "Chceme-li na určitém intervalu zobrazit jiný interval, můžeme toto provést s pomocí tzv. lineární transformace.\n",
        "\n",
        "Nechť zobrazovaný interval má rozsah $<a_0;a_1>$ a má být zobrazen na interval $<b_0;b_1>$. Hledáme funkci $f$, pro kterou platí $f(a_0)=b_0$ a $f(a_1)=b_1$. Vzhledem k povaze úlohy je dostatečné konstatovat, že tato funkce je ve tvaru $f(x) = k \\cdot x + c$. Odtud lze napsat soustavu rovnic\n",
        "$$b_0=k \\cdot a_0 + c$$\n",
        "$$b_1=k \\cdot a_1 + c$$\n",
        "Jedná se o systém dvou lineráních rovnic o dvou neznámých, jehož řešení je triviální.\n",
        "$$b_0-b_1=k \\cdot(a_0 - a_1)$$\n",
        "odtud\n",
        "$$k = \\frac{b_0-b_1}{a_0 - a_1}$$\n",
        "$$c = b_0 - a_0 \\cdot \\frac{b_0-b_1}{a_0 - a_1}$$\n"
      ]
    },
    {
      "cell_type": "code",
      "metadata": {
        "id": "0JeKM_EMb8FM",
        "colab_type": "code",
        "colab": {
          "base_uri": "https://localhost:8080/",
          "height": 54
        },
        "outputId": "9ad78bab-44d0-415e-88e5-707c1ca2838e"
      },
      "source": [
        "b0 = 0\n",
        "b1 = 5\n",
        "a0 = 45000\n",
        "a1 = 50000\n",
        "\n",
        "k = (b0 - b1) / (a0 - a1)\n",
        "c = b0 - a0 * k\n",
        "def transform(x):\n",
        "  result = k * x + c\n",
        "  return result\n",
        "\n",
        "print(a0, '=>', transform(a0), '\\t', b0)\n",
        "print(a1, '=>', transform(a1), '\\t', b1)"
      ],
      "execution_count": null,
      "outputs": [
        {
          "output_type": "stream",
          "text": [
            "45000 => 0.0 \t 0\n",
            "50000 => 5.0 \t 5\n"
          ],
          "name": "stdout"
        }
      ]
    },
    {
      "cell_type": "markdown",
      "metadata": {
        "id": "D8L09Dldih7M",
        "colab_type": "text"
      },
      "source": [
        "### Lineární transformace 2D"
      ]
    },
    {
      "cell_type": "markdown",
      "metadata": {
        "id": "PRjw_81-ioGk",
        "colab_type": "text"
      },
      "source": [
        "Při práci s mapou určujeme nikoliv souřadnici jednu, ale dvě. To znamená, že poloha na mapě je určena dvěma hodnotami.\n",
        "$$X=(x_x, x_y)$$\n",
        "V nejjednodušší variantě to znamená, že lineární transformace je definována v prostoru $R \\times R$. Jeví se, že pro popis takové transformace jsou potřeba 4 body. Vzhledem ke skutečnosti, že u mapy se požaduje stejné měřítko v obou osách, tedy koeficient $c$ je shodný pro obě osy, mohly by nám stačit dva body.\n",
        "$$b_{x0}=k_x \\cdot a_{x0} + c$$\n",
        "$$b_{x1}=k_x \\cdot a_{x1} + c$$\n",
        "$$b_{y0}=k_y \\cdot a_{y0} + c$$\n",
        "$$b_{y1}=k_y \\cdot a_{y1} + c$$\n",
        "Ve výše uvedené soustavě jsou tři neznámé $k_x$, $k_y$ a $c$. Soustava má ovšem čtyři rovnice. Lze ji rozdělit na dvě soustavy o dvou neznámých a aplikovat postup v předchozí podkapitole.\n"
      ]
    },
    {
      "cell_type": "code",
      "metadata": {
        "id": "yzvjZNztlPe9",
        "colab_type": "code",
        "colab": {
          "base_uri": "https://localhost:8080/",
          "height": 54
        },
        "outputId": "070f302e-6e05-40f5-e795-5868e3fb41d8"
      },
      "source": [
        "b0 = {'x':0, 'y':0}\n",
        "b1 = {'x':5, 'y':5}\n",
        "a0 = {'x':45000, 'y':45000}\n",
        "a1 = {'x':50000, 'y':50000}\n",
        "\n",
        "k_x = (b0['x'] - b1['x']) / (a0['x'] - a1['y'])\n",
        "c = b0['x'] - a0['x'] * k_x\n",
        "k_y = (b0['y'] - b1['y']) / (a0['y'] - a1['y'])\n",
        "\n",
        "def transform2D(X):\n",
        "  result = {\n",
        "      'x': k_x * X['x'] + c,\n",
        "      'y': k_y * X['y'] + c\n",
        "      }\n",
        "  return result\n",
        "\n",
        "print(a0, '=>', transform2D(a0), '\\t', b0)\n",
        "print(a1, '=>', transform2D(a1), '\\t', b1)"
      ],
      "execution_count": null,
      "outputs": [
        {
          "output_type": "stream",
          "text": [
            "{'x': 45000, 'y': 45000} => {'x': 0.0, 'y': 0.0} \t {'x': 0, 'y': 0}\n",
            "{'x': 50000, 'y': 50000} => {'x': 5.0, 'y': 5.0} \t {'x': 5, 'y': 5}\n"
          ],
          "name": "stdout"
        }
      ]
    },
    {
      "cell_type": "markdown",
      "metadata": {
        "id": "HoFiFOtua_Ei",
        "colab_type": "text"
      },
      "source": [
        "### Lineární transformace II"
      ]
    },
    {
      "cell_type": "markdown",
      "metadata": {
        "id": "p35SLcl2bEql",
        "colab_type": "text"
      },
      "source": [
        "Vztahy v první podkapitole mohou být prezentovány ve vektorové formě.\n",
        "$$\\vec{b_0}=k \\cdot \\vec{a_0} + c$$\n",
        "Je vhodné si vzpomenout na lineární algebru a tyto vztahy uvést v maticovém tvaru\n",
        "$$\\vec{b_0}=K \\cdot \\vec{a_0}$$\n",
        "kde \n",
        "$$\\vec{b_0}=\\begin{pmatrix}\n",
        "b_{x0}\\\\\n",
        "b_{y0}\\\\\n",
        "1\n",
        "\\end{pmatrix}$$\n",
        "$$\\vec{a_0}=\\begin{pmatrix}\n",
        "a_{x0}\\\\\n",
        "a_{y0}\\\\\n",
        "1\n",
        "\\end{pmatrix}$$\n",
        "$$K=\\begin{pmatrix}\n",
        "k & 0 & c_x\\\\\n",
        "0 & k & c_y\\\\\n",
        "0 & 0 & 1\n",
        "\\end{pmatrix}$$\n",
        "tedy v celkovém zápisu\n",
        "$$\\begin{pmatrix}\n",
        "b_{x0}\\\\\n",
        "b_{y0}\\\\\n",
        "1\n",
        "\\end{pmatrix}\n",
        "=\n",
        "\\begin{pmatrix}\n",
        "k & 0 & c_x\\\\\n",
        "0 & k & c_y\\\\\n",
        "0 & 0 & 1\n",
        "\\end{pmatrix}\n",
        "\\cdot\n",
        "\\begin{pmatrix}\n",
        "a_{x0}\\\\\n",
        "a_{y0}\\\\\n",
        "1\n",
        "\\end{pmatrix}$$\n"
      ]
    },
    {
      "cell_type": "markdown",
      "metadata": {
        "id": "QcHbN0FIdzOM",
        "colab_type": "text"
      },
      "source": [
        "### Lineární transformace III"
      ]
    },
    {
      "cell_type": "markdown",
      "metadata": {
        "id": "WVf9_Z5bd3Ix",
        "colab_type": "text"
      },
      "source": [
        "Rovnice\n",
        "$$\\vec{b_0}=K \\cdot \\vec{a_0}$$\n",
        "v rozepsaném tvaru\n",
        "$$\\begin{pmatrix}\n",
        "b_{x0}\\\\\n",
        "b_{y0}\\\\\n",
        "1\n",
        "\\end{pmatrix}\n",
        "=\n",
        "\\begin{pmatrix}\n",
        "k & 0 & c_x\\\\\n",
        "0 & k & c_y\\\\\n",
        "0 & 0 & 1\n",
        "\\end{pmatrix}\n",
        "\\cdot\n",
        "\\begin{pmatrix}\n",
        "a_{x0}\\\\\n",
        "a_{y0}\\\\\n",
        "1\n",
        "\\end{pmatrix}$$\n",
        "Umožňuje matici $K$ počítat jako součin matic\n",
        "$$K=K_1 \\cdot K_2 \\cdot K_3 \\dots K_n$$\n",
        "kde jednotlivé matice představují elementární operace\n",
        "- posun\n",
        "$$\\begin{pmatrix}\n",
        "1 & 0 & c_x\\\\\n",
        "0 & 1 & c_y\\\\\n",
        "0 & 0 & 1\n",
        "\\end{pmatrix}\n",
        "$$\n",
        "- zvětšení / zmenšení\n",
        "$$\\begin{pmatrix}\n",
        "z & 0 & 0\\\\\n",
        "0 & z & 0\\\\\n",
        "0 & 0 & 1\n",
        "\\end{pmatrix}\n",
        "$$\n",
        "- otočení\n",
        "$$\\begin{pmatrix}\n",
        "cos(\\alpha) & sin(\\alpha) & 0\\\\\n",
        "-sin(\\alpha) & cos(\\alpha) & 0\\\\\n",
        "0 & 0 & 1\n",
        "\\end{pmatrix}\n",
        "$$\n",
        "\n"
      ]
    },
    {
      "cell_type": "code",
      "metadata": {
        "id": "W2o2GKmojuwU",
        "colab_type": "code",
        "colab": {
          "base_uri": "https://localhost:8080/",
          "height": 265
        },
        "outputId": "91bfc985-6d7c-41ed-83eb-4677c968333d"
      },
      "source": [
        "import matplotlib.pyplot as plt\n",
        "from math import sin, cos, pi, sqrt\n",
        "\n",
        "segments = 8\n",
        "alpha = 2 * pi / segments\n",
        "cosalpha = cos(alpha)\n",
        "sinalpha = sin(alpha)\n",
        "\n",
        "cx = 1.0\n",
        "cy = 0.0\n",
        "\n",
        "x = [cx]\n",
        "y = [cy]\n",
        "for i in range(segments):\n",
        "  ncx = cx * cosalpha - cy * sinalpha\n",
        "  ncy = cx * sinalpha + cy * cosalpha\n",
        "  \n",
        "  cx = ncx\n",
        "  cy = ncy\n",
        "\n",
        "  x.append(cx)\n",
        "  y.append(cy)\n",
        "\n",
        "ax = plt.plot(x, y)\n",
        "plt.gca().set_aspect('equal')"
      ],
      "execution_count": null,
      "outputs": [
        {
          "output_type": "display_data",
          "data": {
            "image/png": "[encoded data removed]",
            "text/plain": [
              "<Figure size 432x288 with 1 Axes>"
            ]
          },
          "metadata": {
            "tags": [],
            "needs_background": "light"
          }
        }
      ]
    },
    {
      "cell_type": "markdown",
      "metadata": {
        "id": "el93vw1khw12",
        "colab_type": "text"
      },
      "source": [
        "## Zobrazení mapy"
      ]
    },
    {
      "cell_type": "markdown",
      "metadata": {
        "id": "_3s7cmtohzXe",
        "colab_type": "text"
      },
      "source": [
        "Při zobrazení mapy je využívána matice zobrazení, kterou jsou násobeny souřadnice a získávány body na obrazovce či na papíru, se kterými má být souřadnice ztotožněna.\n",
        "\n",
        "Využití nástrojů ZoomIn, ZoomOut a Pan je potom realizováno násobením aktuální matice zobrazení a matice definující elementární operaci.\n",
        "\n",
        "Pro čtení souřadnic z mapy je potřeba mít k dispozici inverzní matici zobrazení, kterou se násobí souřadnice na obrazovce a výsledkem jsou reálné souřadnice."
      ]
    },
    {
      "cell_type": "code",
      "metadata": {
        "id": "f_aINhChoUW6",
        "colab_type": "code",
        "colab": {
          "base_uri": "https://localhost:8080/",
          "height": 265
        },
        "outputId": "14258818-ccd1-4cc7-b93b-37ecc5877b31"
      },
      "source": [
        "domecek = [(0, 0), (1, 1), (0, 1), (1, 0), (0, 0), (0, 1), (0.5, 1.5), (1, 1), (1, 0)]\n",
        "x = []\n",
        "y = []\n",
        "for bod in domecek:\n",
        "  x.append(bod[0])\n",
        "  y.append(bod[1])\n",
        "\n",
        "plt.plot(x, y)\n",
        "plt.gca().set_aspect('equal')"
      ],
      "execution_count": null,
      "outputs": [
        {
          "output_type": "display_data",
          "data": {
            "image/png": "[encoded data removed]",
            "text/plain": [
              "<Figure size 432x288 with 1 Axes>"
            ]
          },
          "metadata": {
            "tags": [],
            "needs_background": "light"
          }
        }
      ]
    },
    {
      "cell_type": "code",
      "metadata": {
        "id": "GjFHjHLypkYg",
        "colab_type": "code",
        "colab": {
          "base_uri": "https://localhost:8080/",
          "height": 265
        },
        "outputId": "7e0fac6a-06ea-42df-dda7-a3b4b6790a43"
      },
      "source": [
        "alpha = pi / 4\n",
        "cosalpha = cos(alpha)\n",
        "sinalpha = sin(alpha)\n",
        "\n",
        "matice = [\n",
        "  [1, 0, 5],\n",
        "  [0, 1, 5],\n",
        "  [0, 0, 1]\n",
        "          ]\n",
        "\n",
        "_matice = [\n",
        "  [cosalpha, -sinalpha, 5],\n",
        "  [sinalpha, cosalpha, 5],\n",
        "  [0, 0, 1]\n",
        "          ]\n",
        "\n",
        "_matice = [\n",
        "  [3, 0, 5],\n",
        "  [0, 3, 5],\n",
        "  [0, 0, 1]\n",
        "          ]\n",
        "\n",
        "def transformace(bod):\n",
        "  resultx = bod[0] * matice[0][0] + bod[1] * matice[0][1] + matice[0][2]\n",
        "  resulty = bod[0] * matice[1][0] + bod[1] * matice[1][1] + matice[1][2]  \n",
        "  return (resultx, resulty)\n",
        "\n",
        "novyDomecek = []\n",
        "for bod in domecek:\n",
        "  novyDomecek.append(transformace(bod))\n",
        "\n",
        "x2 = []\n",
        "y2 = []\n",
        "for bod in novyDomecek:\n",
        "  x2.append(bod[0])\n",
        "  y2.append(bod[1])\n",
        "\n",
        "plt.plot(x, y, 'b')\n",
        "plt.plot(x2, y2, 'g')\n",
        "plt.gca().set_aspect('equal')"
      ],
      "execution_count": null,
      "outputs": [
        {
          "output_type": "display_data",
          "data": {
            "image/png": "[encoded data removed]",
            "text/plain": [
              "<Figure size 432x288 with 1 Axes>"
            ]
          },
          "metadata": {
            "tags": [],
            "needs_background": "light"
          }
        }
      ]
    },
    {
      "cell_type": "markdown",
      "metadata": {
        "id": "s5L3nYDirnFT",
        "colab_type": "text"
      },
      "source": [
        "## Geoid a spol."
      ]
    },
    {
      "cell_type": "markdown",
      "metadata": {
        "id": "DHdTHdozrrEG",
        "colab_type": "text"
      },
      "source": [
        "Z Wikipedie:\n",
        "![Geoid](https://upload.wikimedia.org/wikipedia/commons/4/4a/Geoid_undulation_10k_scale.jpg)"
      ]
    },
    {
      "cell_type": "markdown",
      "metadata": {
        "id": "v3AZvQQRsn9R",
        "colab_type": "text"
      },
      "source": [
        ""
      ]
    },
    {
      "cell_type": "markdown",
      "metadata": {
        "id": "Pd1K33U_tcuv",
        "colab_type": "text"
      },
      "source": [
        "### Projekce"
      ]
    },
    {
      "cell_type": "markdown",
      "metadata": {
        "id": "OBAt0s3EtfLE",
        "colab_type": "text"
      },
      "source": [
        "[odkaz](https://is.mendelu.cz/eknihovna/opory/zobraz_cast.pl?cast=59996)\n",
        "\n",
        "Projekce:\n",
        "- do roviny (gnomic, stereographics)\n",
        "- do kužele ()\n",
        "- do válce (mercator, transverse mercator)\n",
        "\n",
        "Projekce:\n",
        "- délkojevná\n",
        "- úhlojevná\n",
        "- plochojevná\n",
        "\n",
        "Není možno kombinovat rastrové podklady s různými projekcemi."
      ]
    },
    {
      "cell_type": "markdown",
      "metadata": {
        "id": "OA4sz9rch7Nh",
        "colab_type": "text"
      },
      "source": [
        "## Souřadné systémy"
      ]
    },
    {
      "cell_type": "markdown",
      "metadata": {
        "id": "ok0xEv6Nh-vQ",
        "colab_type": "text"
      },
      "source": [
        "[odkaz](https://geoportal.cuzk.cz/(S(ktowci4sbplf1azd1ehqh2go))/Default.aspx?mode=TextMeta&side=sit.trans&text=souradsystemy)\n",
        "\n",
        "- JTSK (S-JTSK / Křovákovo zobrazení)\n",
        "- S42 (Varšavská smlouva)\n",
        "- WGS84 (World geodetic system)"
      ]
    },
    {
      "cell_type": "markdown",
      "metadata": {
        "id": "eOajQJ2wngsC",
        "colab_type": "text"
      },
      "source": [
        "# Standardy pro zpracování mapových dat"
      ]
    },
    {
      "cell_type": "markdown",
      "metadata": {
        "id": "neMu-0MHnplZ",
        "colab_type": "text"
      },
      "source": [
        "## Typy souborů"
      ]
    },
    {
      "cell_type": "markdown",
      "metadata": {
        "id": "aSp9RE1YoYuL",
        "colab_type": "text"
      },
      "source": [
        "[Wiki](https://en.wikipedia.org/wiki/GIS_file_formats)\n",
        "\n",
        "Rastrové\n",
        "- TIFF / GeoTIFF\n",
        "- JPEG\n",
        "- PNG\n",
        "- CADRG (MIL) (COMPRESSED ARC DIGITIZED RASTER GRAPHIC)\n",
        "\n",
        "Vektorové\n",
        "- SHP ([shapefile](https://cs.wikipedia.org/wiki/Shapefile))\n",
        "- DGN (Microstation)\n",
        "- VMAP (Vector Maps)\n",
        "\n",
        "Výškopisné\n",
        "- DTED (Digital Terrain Elevation Data)\n",
        "- DMR (Digitální model reliéfu)\n",
        "\n",
        "Speciální využití\n",
        "- TFW (matice zobrazení)"
      ]
    },
    {
      "cell_type": "code",
      "metadata": {
        "id": "pyBzq5PItVz7",
        "colab_type": "code",
        "colab": {
          "base_uri": "https://localhost:8080/",
          "height": 35
        },
        "outputId": "5f509fc9-8069-45e3-899c-f8aed86c876d"
      },
      "source": [
        "tfwSource = \"\"\"10000\n",
        "0\n",
        "0\n",
        "-10000\n",
        "-3683154.58\n",
        "4212096.53\"\"\"\n",
        "def createTransformation(tfwStr):\n",
        "  matrixStr = tfwStr.split('\\n')\n",
        "  matrixCoef = []\n",
        "  for s in matrixStr:\n",
        "    matrixCoef.append(float(s))\n",
        "  print(matrixCoef)  \n",
        "  def Transformation(point):\n",
        "    resultX = matrixCoef[0] * point[0] + matrixCoef[1] * point[1] + matrixCoef[2]\n",
        "    resultY = matrixCoef[3] * point[0] + matrixCoef[4] * point[1] + matrixCoef[5]\n",
        "    return (resultX, resultY)\n",
        "  return Transformation\n",
        "\n",
        "transformation = createTransformation(tfwSource)"
      ],
      "execution_count": 1,
      "outputs": [
        {
          "output_type": "stream",
          "text": [
            "[10000.0, 0.0, 0.0, -10000.0, -3683154.58, 4212096.53]\n"
          ],
          "name": "stdout"
        }
      ]
    },
    {
      "cell_type": "markdown",
      "metadata": {
        "id": "OSAz7Xc4rvnO",
        "colab_type": "text"
      },
      "source": [
        " "
      ]
    }
  ]
}