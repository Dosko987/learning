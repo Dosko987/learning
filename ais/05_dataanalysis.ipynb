{
  "nbformat": 4,
  "nbformat_minor": 0,
  "metadata": {
    "colab": {
      "name": "05_dataanalysis.ipynb",
      "provenance": [],
      "authorship_tag": "ABX9TyPRqWI35yt5Qb07Y+IyY/9P",
      "include_colab_link": true
    },
    "kernelspec": {
      "name": "python3",
      "display_name": "Python 3"
    },
    "language_info": {
      "name": "python"
    }
  },
  "cells": [
    {
      "cell_type": "markdown",
      "metadata": {
        "id": "view-in-github",
        "colab_type": "text"
      },
      "source": [
        "<a href=\"https://colab.research.google.com/github/hrbolek/learning/blob/master/ais/05_dataanalysis.ipynb\" target=\"_parent\"><img src=\"https://colab.research.google.com/assets/colab-badge.svg\" alt=\"Open In Colab\"/></a>"
      ]
    },
    {
      "cell_type": "markdown",
      "metadata": {
        "id": "Kdt5HnXEEshc"
      },
      "source": [
        "# Analýza a vizualizace dat"
      ]
    },
    {
      "cell_type": "markdown",
      "metadata": {
        "id": "WqobaqjDEthR"
      },
      "source": [
        "- Analýza a vizualizace dat \n",
        "    - Nástroje pro platformu Python\n",
        "    - Pandas\n",
        "    - Matplotlib\n",
        "    - Další nástroje (numpy, scikit, ...)"
      ]
    },
    {
      "cell_type": "markdown",
      "metadata": {
        "id": "u5oH0VVMEvxm"
      },
      "source": [
        "Nástroje pro platformu Python"
      ]
    },
    {
      "cell_type": "markdown",
      "metadata": {
        "id": "jnby_IdWEzb1"
      },
      "source": [
        "## Pandas"
      ]
    },
    {
      "cell_type": "markdown",
      "metadata": {
        "id": "Bmh3zsogE08B"
      },
      "source": [
        "## Matplotlib"
      ]
    },
    {
      "cell_type": "markdown",
      "metadata": {
        "id": "9jm-UEl9E2m8"
      },
      "source": [
        "## Další nástroje"
      ]
    },
    {
      "cell_type": "code",
      "metadata": {
        "id": "Py102TsCl55y"
      },
      "source": [
        ""
      ],
      "execution_count": null,
      "outputs": []
    }
  ]
}