{
  "nbformat": 4,
  "nbformat_minor": 0,
  "metadata": {
    "colab": {
      "name": "publishing.ipynb",
      "provenance": [],
      "toc_visible": true,
      "authorship_tag": "ABX9TyNlxD+UxOg4oFYEMQ0W6pVm",
      "include_colab_link": true
    },
    "kernelspec": {
      "name": "python3",
      "display_name": "Python 3"
    },
    "language_info": {
      "name": "python"
    }
  },
  "cells": [
    {
      "cell_type": "markdown",
      "metadata": {
        "id": "view-in-github",
        "colab_type": "text"
      },
      "source": [
        "<a href=\"https://colab.research.google.com/github/hrbolek/learning/blob/master/zvp/publishing.ipynb\" target=\"_parent\"><img src=\"https://colab.research.google.com/assets/colab-badge.svg\" alt=\"Open In Colab\"/></a>"
      ]
    },
    {
      "cell_type": "markdown",
      "source": [
        "# Publikování výsledků"
      ],
      "metadata": {
        "id": "E7Ltb_wQTCv8"
      }
    },
    {
      "cell_type": "markdown",
      "source": [
        "## Principy"
      ],
      "metadata": {
        "id": "UFG-kgFMTFVr"
      }
    },
    {
      "cell_type": "markdown",
      "source": [
        "- Je potřeba mít co publikovat. \n",
        "  - Rešerše\n",
        "  - Vědecké metody \n",
        "  - Prokazatelné výsledky (nebo negatviní zkušenosti 😀 )\n",
        "\n",
        "- Je žádoucní znát recenzní proce"
      ],
      "metadata": {
        "id": "MSX3GBh6TQZb"
      }
    },
    {
      "cell_type": "markdown",
      "source": [
        "## Problémy a pasti"
      ],
      "metadata": {
        "id": "NzeXOEiETIYD"
      }
    },
    {
      "cell_type": "markdown",
      "source": [
        "V případě, kdy si neuvědomíte, co je časopisem požadováno, může se veškeré vaše úsilí minout úspěchem. I skvělý a perfektně zpracovaný výsledek nemusí projít recenzním řízením.\n",
        "\n"
      ],
      "metadata": {
        "id": "0-2Ye1GMTZlW"
      }
    }
  ]
}