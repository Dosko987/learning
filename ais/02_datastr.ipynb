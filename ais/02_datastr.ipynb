{
  "nbformat": 4,
  "nbformat_minor": 0,
  "metadata": {
    "colab": {
      "name": "02_datastr.ipynb",
      "provenance": [],
      "toc_visible": true,
      "authorship_tag": "ABX9TyMW6OhYzbIpAXdQd8Ntb9m9",
      "include_colab_link": true
    },
    "kernelspec": {
      "name": "python3",
      "display_name": "Python 3"
    },
    "language_info": {
      "name": "python"
    }
  },
  "cells": [
    {
      "cell_type": "markdown",
      "metadata": {
        "id": "view-in-github",
        "colab_type": "text"
      },
      "source": [
        "<a href=\"https://colab.research.google.com/github/hrbolek/learning/blob/master/ais/02_datastr.ipynb\" target=\"_parent\"><img src=\"https://colab.research.google.com/assets/colab-badge.svg\" alt=\"Open In Colab\"/></a>"
      ]
    },
    {
      "cell_type": "markdown",
      "metadata": {
        "id": "sJNR1E0ztJZM"
      },
      "source": [
        "# Datové struktury"
      ]
    },
    {
      "cell_type": "markdown",
      "metadata": {
        "id": "phipGOJ8saKF"
      },
      "source": [
        "- Datové struktury\n",
        "    - Elementární datové struktury\n",
        "        - Znak\n",
        "        - Číslo (IEEE 754)\n",
        "        - Bool\n",
        "    - Komplexní datové struktury\n",
        "        - List (Python)\n",
        "        - Dict (Python)\n",
        "        - Tree\n",
        "        - Graph\n",
        "    - Principiální algoritmy pro práci s datovými strukturami\n",
        "        - Třídění\n",
        "        - Vyhledávání \n",
        "        - Výpočetní složitost"
      ]
    },
    {
      "cell_type": "markdown",
      "metadata": {
        "id": "GkQ__rXZtO_m"
      },
      "source": [
        "## Elementární datové struktury"
      ]
    },
    {
      "cell_type": "markdown",
      "metadata": {
        "id": "2voSE9Owfm0g"
      },
      "source": [
        "### Čísla"
      ]
    },
    {
      "cell_type": "markdown",
      "metadata": {
        "id": "mv2HD2r7fpPy"
      },
      "source": [
        "Pravděpodobně historicky první datová prvek ukládaný v počítači. Rozlišujeme celá čísla a čísla s desetinnou čárkou (tečkou). Obecně je vhodné mít na paměti, že jakákoliv data jsou v paměti počítači zakódována v posloupnosti bitů (bytů). Celá čísla se aktuálně používají v podobě, která je adekvátní 2, 4, či 8 bytům.\n",
        "\n",
        "Čísla s desetinnou čárkou definuje norma IEEE 754 v podobě 4, 8 a 10 bytů.\n",
        "\n",
        "> Kolik možných kombinací odpovídá 8 bytům?\n",
        ">\n",
        "> Kolik různých desetinných čísel znáte?\n",
        "> \n",
        "> Jaké komplikace z této skutečnosti vyplývají?"
      ]
    },
    {
      "cell_type": "code",
      "metadata": {
        "colab": {
          "base_uri": "https://localhost:8080/"
        },
        "id": "HV3xeDk5hbJu",
        "outputId": "7e14aa9f-0ad4-455b-e7e4-71e6fad77bb8"
      },
      "source": [
        "end = 0.8\n",
        "start = 0\n",
        "delta = 0.1\n",
        "\n",
        "currentValue = start\n",
        "index = 0\n",
        "while currentValue < end:\n",
        "    print(index, '\\t', currentValue)\n",
        "    currentValue = currentValue + delta\n",
        "    index = index + 1 "
      ],
      "execution_count": 9,
      "outputs": [
        {
          "output_type": "stream",
          "name": "stdout",
          "text": [
            "0 \t 0\n",
            "1 \t 0.1\n",
            "2 \t 0.2\n",
            "3 \t 0.30000000000000004\n",
            "4 \t 0.4\n",
            "5 \t 0.5\n",
            "6 \t 0.6\n",
            "7 \t 0.7\n",
            "8 \t 0.7999999999999999\n"
          ]
        }
      ]
    },
    {
      "cell_type": "markdown",
      "metadata": {
        "id": "GwznyTAXkMJR"
      },
      "source": [
        "Čísla s periodickým vyjádřením\n",
        "\n",
        "$\\frac{1}{3}=0.3333$ ?\n",
        "\n",
        "> Jaký tvar má číslo 0.1 paměti za předpokladu, že se jedná o implementaci podle IEEE 754, varianta 8 bytů?\n",
        "> "
      ]
    },
    {
      "cell_type": "code",
      "metadata": {
        "id": "jDkd5n0akJvQ"
      },
      "source": [
        ""
      ],
      "execution_count": null,
      "outputs": []
    },
    {
      "cell_type": "markdown",
      "metadata": {
        "id": "AfCEnhQci78b"
      },
      "source": [
        "### Znak"
      ]
    },
    {
      "cell_type": "markdown",
      "metadata": {
        "id": "acmxDJVIjAe0"
      },
      "source": [
        "Potřeba ukládat text v počítači vedla k vytvoření datového typu znak. Historicky byl znak reprezentován 1 bytem.\n",
        "\n",
        "> Kolik možných kombinací odpovídá 1 bytu?\n",
        "> \n",
        "> Kolik znaků znáte?\n",
        "> \n",
        "> Jaké komplikace z této skutečnosti vyplývají?\n",
        "> \n",
        "> Jaké řešení bylo implementováno?\n",
        "\n"
      ]
    },
    {
      "cell_type": "code",
      "metadata": {
        "colab": {
          "base_uri": "https://localhost:8080/"
        },
        "id": "7h4_0mf8jxQp",
        "outputId": "6258d2ac-f897-46db-aa1e-e31aabee39e7"
      },
      "source": [
        "import sys\n",
        "\n",
        "print(sys.getsizeof(''))\n",
        "print(sys.getsizeof('A'))\n",
        "print(sys.getsizeof('Á'))"
      ],
      "execution_count": 15,
      "outputs": [
        {
          "output_type": "stream",
          "name": "stdout",
          "text": [
            "53\n",
            "50\n",
            "74\n"
          ]
        }
      ]
    },
    {
      "cell_type": "code",
      "metadata": {
        "colab": {
          "base_uri": "https://localhost:8080/"
        },
        "id": "2PgHo_mmnhkq",
        "outputId": "47b35dba-d740-4e3d-80e9-ed9eaf5c8d2e"
      },
      "source": [
        "print(sys.getsizeof('Á'))\n",
        "print(sys.getsizeof('ÁB'))\n",
        "print(sys.getsizeof('ÁČ'))\n",
        "print(sys.getsizeof('ÁČĎ'))\n",
        "print(sys.getsizeof('ÁČĎÉ'))"
      ],
      "execution_count": 19,
      "outputs": [
        {
          "output_type": "stream",
          "name": "stdout",
          "text": [
            "74\n",
            "75\n",
            "78\n",
            "80\n",
            "82\n"
          ]
        }
      ]
    },
    {
      "cell_type": "code",
      "metadata": {
        "colab": {
          "base_uri": "https://localhost:8080/"
        },
        "id": "AU-iCDmBn87q",
        "outputId": "6ace5d79-65e0-494a-862a-2a69c6bb0d47"
      },
      "source": [
        "text = '\\U00000394'\n",
        "print(sys.getsizeof(text))\n",
        "print(sys.getsizeof(text + 'Á'))"
      ],
      "execution_count": 23,
      "outputs": [
        {
          "output_type": "stream",
          "name": "stdout",
          "text": [
            "76\n",
            "78\n"
          ]
        }
      ]
    },
    {
      "cell_type": "markdown",
      "metadata": {
        "id": "Y7QStLaytRFa"
      },
      "source": [
        "## Komplexní datové struktury"
      ]
    },
    {
      "cell_type": "markdown",
      "metadata": {
        "id": "yfOCb3sFo9Aa"
      },
      "source": [
        "### List"
      ]
    },
    {
      "cell_type": "code",
      "metadata": {
        "id": "bJOiNPpopT48"
      },
      "source": [
        "data = [0, 1]"
      ],
      "execution_count": null,
      "outputs": []
    },
    {
      "cell_type": "markdown",
      "metadata": {
        "id": "QnVVSvY9tCzl"
      },
      "source": [
        "Implementace / organizace v paměti počítače. "
      ]
    },
    {
      "cell_type": "markdown",
      "metadata": {
        "id": "QZA47qLFo_vN"
      },
      "source": [
        "### Dictionary"
      ]
    },
    {
      "cell_type": "code",
      "metadata": {
        "id": "cQIptJmqxwmz"
      },
      "source": [
        "data = {'value': 0}"
      ],
      "execution_count": null,
      "outputs": []
    },
    {
      "cell_type": "markdown",
      "metadata": {
        "id": "iSxljF_Ax07D"
      },
      "source": [
        "### Strom"
      ]
    },
    {
      "cell_type": "markdown",
      "metadata": {
        "id": "7a6k5kSd33_2"
      },
      "source": [
        "[Wiki](https://en.wikipedia.org/wiki/Tree_(data_structure))\n",
        "\n",
        "Knihovna implementující datovou strukturu strom v jazyku Python [anytree](https://github.com/c0fec0de/anytree).\n"
      ]
    },
    {
      "cell_type": "code",
      "metadata": {
        "id": "zTw6EukG5-F8",
        "outputId": "ed63cfdd-f727-4317-9027-2772dd37dadd",
        "colab": {
          "base_uri": "https://localhost:8080/"
        }
      },
      "source": [
        "!pip install anytree"
      ],
      "execution_count": 27,
      "outputs": [
        {
          "output_type": "stream",
          "name": "stdout",
          "text": [
            "Collecting anytree\n",
            "  Downloading anytree-2.8.0-py2.py3-none-any.whl (41 kB)\n",
            "\u001b[?25l\r\u001b[K     |███████▉                        | 10 kB 21.0 MB/s eta 0:00:01\r\u001b[K     |███████████████▊                | 20 kB 28.0 MB/s eta 0:00:01\r\u001b[K     |███████████████████████▋        | 30 kB 15.0 MB/s eta 0:00:01\r\u001b[K     |███████████████████████████████▍| 40 kB 11.3 MB/s eta 0:00:01\r\u001b[K     |████████████████████████████████| 41 kB 405 kB/s \n",
            "\u001b[?25hRequirement already satisfied: six>=1.9.0 in /usr/local/lib/python3.7/dist-packages (from anytree) (1.15.0)\n",
            "Installing collected packages: anytree\n",
            "Successfully installed anytree-2.8.0\n"
          ]
        }
      ]
    },
    {
      "cell_type": "code",
      "metadata": {
        "id": "P59bEMEo6EwZ"
      },
      "source": [
        "from anytree import Node, RenderTree\n",
        "udo = Node(\"Udo\")\n",
        "marc = Node(\"Marc\", parent=udo)\n",
        "lian = Node(\"Lian\", parent=marc)\n",
        "dan = Node(\"Dan\", parent=udo)\n",
        "jet = Node(\"Jet\", parent=dan)\n",
        "jan = Node(\"Jan\", parent=dan)\n",
        "joe = Node(\"Joe\", parent=dan)\n",
        "\n",
        "\n"
      ],
      "execution_count": 28,
      "outputs": []
    },
    {
      "cell_type": "code",
      "metadata": {
        "id": "Mvl9xZ956Qnl",
        "outputId": "e31179af-5844-4fd4-f96a-50a9df9d036b",
        "colab": {
          "base_uri": "https://localhost:8080/",
          "height": 36
        }
      },
      "source": [
        "from anytree.exporter import DotExporter\n",
        "# graphviz needs to be installed for the next line!\n",
        "result = DotExporter(udo)#.to_picture(\"udo.png\")\n",
        "dir(result)\n",
        "result.graph"
      ],
      "execution_count": 34,
      "outputs": [
        {
          "output_type": "execute_result",
          "data": {
            "application/vnd.google.colaboratory.intrinsic+json": {
              "type": "string"
            },
            "text/plain": [
              "'digraph'"
            ]
          },
          "metadata": {},
          "execution_count": 34
        }
      ]
    },
    {
      "cell_type": "markdown",
      "metadata": {
        "id": "9X-OpK9wx3TC"
      },
      "source": [
        "### Graf"
      ]
    },
    {
      "cell_type": "markdown",
      "metadata": {
        "id": "Ir7phZ_B38tf"
      },
      "source": [
        "[Wiki](https://en.wikipedia.org/wiki/Graph_(abstract_data_type))"
      ]
    },
    {
      "cell_type": "markdown",
      "metadata": {
        "id": "pxsQzpV9tel1"
      },
      "source": [
        "### Koncept Immutable"
      ]
    },
    {
      "cell_type": "markdown",
      "metadata": {
        "id": "N4RFSxSetjw6"
      },
      "source": [
        "Immutable datová struktura je datová struktura, kterou nelze změnit. V programu tedy (v extrému) existují jen konstanty.\n",
        "\n",
        "**Redux** - knihovna, která na konceptu staví řešení pro správu dat ve webové aplikaci.\n",
        "\n",
        "Příklad, který je konceptem řešen."
      ]
    },
    {
      "cell_type": "code",
      "metadata": {
        "colab": {
          "base_uri": "https://localhost:8080/"
        },
        "id": "9jopNzFmuGv5",
        "outputId": "9f20b666-00fb-4dd3-eed8-e064f5310ff3"
      },
      "source": [
        "def changeName(data, value):\n",
        "    data['name'] = value\n",
        "    return data\n",
        "\n",
        "input = {'name': 'John'}\n",
        "result = changeName(input, 'Julie')\n",
        "print('result', result)\n",
        "print('input', input)"
      ],
      "execution_count": 24,
      "outputs": [
        {
          "output_type": "stream",
          "name": "stdout",
          "text": [
            "result {'name': 'Julie'}\n",
            "input {'name': 'Julie'}\n"
          ]
        }
      ]
    },
    {
      "cell_type": "markdown",
      "metadata": {
        "id": "gaTVbE7cwUGL"
      },
      "source": [
        "Řešení v duchu konceptu immutable"
      ]
    },
    {
      "cell_type": "code",
      "metadata": {
        "colab": {
          "base_uri": "https://localhost:8080/"
        },
        "id": "ouX0tYSxwXjL",
        "outputId": "3b8ea128-3595-4c30-be3b-0e15486ed9a6"
      },
      "source": [
        "def changeName(data, value):\n",
        "    result = {**data, 'name': value}\n",
        "    return result\n",
        "\n",
        "input = {'name': 'John'}\n",
        "result = changeName(input, 'Julie')\n",
        "print('result:', result)\n",
        "print('input:', input)"
      ],
      "execution_count": 25,
      "outputs": [
        {
          "output_type": "stream",
          "name": "stdout",
          "text": [
            "result {'name': 'Julie'}\n",
            "input {'name': 'John'}\n"
          ]
        }
      ]
    },
    {
      "cell_type": "markdown",
      "metadata": {
        "id": "ALavCzYzuiXV"
      },
      "source": [
        "Side effect functions - funkce s vedlejšími efekty je funkce, při svém běhu změní i hodnoty mimo tělo funkce."
      ]
    },
    {
      "cell_type": "markdown",
      "metadata": {
        "id": "Aap_MfYEtR7b"
      },
      "source": [
        "## Principiální algoritmy pro práci s datovými strukturami"
      ]
    },
    {
      "cell_type": "markdown",
      "metadata": {
        "id": "q__aVGEwpLGg"
      },
      "source": [
        "### Předávání parametrů funkci"
      ]
    },
    {
      "cell_type": "code",
      "metadata": {
        "colab": {
          "base_uri": "https://localhost:8080/"
        },
        "id": "nQpBSdM2wxUI",
        "outputId": "eb86b91a-7087-46b7-945c-c49d5b1433b7"
      },
      "source": [
        "def inc(value):\n",
        "    value = value + 1\n",
        "    return value\n",
        "\n",
        "input = 5\n",
        "result = inc(input)\n",
        "print('result:', result)\n",
        "print('input:', input)"
      ],
      "execution_count": 26,
      "outputs": [
        {
          "output_type": "stream",
          "name": "stdout",
          "text": [
            "result: 6\n",
            "input: 5\n"
          ]
        }
      ]
    },
    {
      "cell_type": "markdown",
      "metadata": {
        "id": "bZSKUVgbxHGj"
      },
      "source": [
        "Srovnejte s funkcí `changeName` definované výše. \n",
        "\n",
        ">\n",
        "> **Jak si vysvětlíte skutečnost, že obdobné funkce fungují odlišně?**\n",
        ">"
      ]
    },
    {
      "cell_type": "markdown",
      "metadata": {
        "id": "DPaHeFPZz6Ck"
      },
      "source": [
        "### Algoritmus třídění"
      ]
    },
    {
      "cell_type": "markdown",
      "metadata": {
        "id": "dI6jBAPGz-Xt"
      },
      "source": [
        ""
      ]
    },
    {
      "cell_type": "markdown",
      "metadata": {
        "id": "v0JIcmkOtVrT"
      },
      "source": [
        "### Přístup k rozsáhlým datovým strukturám"
      ]
    },
    {
      "cell_type": "markdown",
      "metadata": {
        "id": "qbwjyLxTzCK0"
      },
      "source": [
        "Hra / sázka. Pomocí deseti otázek, na které lze odpovědět ano/ne, zjistím jaké číslo z rozsahu 0-1000 (1023) si protivník myslí. Jakým způsobem?\n",
        "\n",
        "**Důsledek**\n",
        "\n",
        "> \n",
        "> Datové struktury v databázi mají primární, unikátní klíč\n",
        "> \n",
        "\n",
        "**Otázka**\n",
        "\n",
        ">\n",
        "> Kolik \"otázek\" je potřeba pro nalezení záznamu pomocí jeho ID v databázi o velikosti 4TB s očekávanou délkou záznamu 1kB?\n",
        ">"
      ]
    },
    {
      "cell_type": "code",
      "metadata": {
        "id": "7vmtfJYV0UZU"
      },
      "source": [
        ""
      ],
      "execution_count": null,
      "outputs": []
    }
  ]
}