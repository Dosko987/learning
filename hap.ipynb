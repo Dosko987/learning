{
  "nbformat": 4,
  "nbformat_minor": 0,
  "metadata": {
    "colab": {
      "name": "hap.ipynb",
      "provenance": [],
      "toc_visible": true,
      "authorship_tag": "ABX9TyPsD0N52nDmNts0AYhBbfzq",
      "include_colab_link": true
    },
    "kernelspec": {
      "name": "python3",
      "display_name": "Python 3"
    },
    "language_info": {
      "name": "python"
    }
  },
  "cells": [
    {
      "cell_type": "markdown",
      "metadata": {
        "id": "view-in-github",
        "colab_type": "text"
      },
      "source": [
        "<a href=\"https://colab.research.google.com/github/hrbolek/learning/blob/master/hap.ipynb\" target=\"_parent\"><img src=\"https://colab.research.google.com/assets/colab-badge.svg\" alt=\"Open In Colab\"/></a>"
      ]
    },
    {
      "cell_type": "markdown",
      "metadata": {
        "id": "GQEVd1l26LRY"
      },
      "source": [
        "# Hodnocení akademických pracovníků na Univerzitě obrany"
      ]
    },
    {
      "cell_type": "markdown",
      "metadata": {
        "id": "KwRr_rpN6Sxn"
      },
      "source": [
        "## Platforma pro tuto prezentaci\n",
        "\n",
        "![purple-divider](https://user-images.githubusercontent.com/7065401/52071927-c1cd7100-2562-11e9-908a-dde91ba14e59.png)"
      ]
    },
    {
      "cell_type": "markdown",
      "metadata": {
        "id": "NmCp70ym8XOg"
      },
      "source": [
        "Tuto prezentaci jsem vytvořil na platformě Jupyter, která spojuje programovací nástroje s interaktivním prostředím přístupným prostřednictvím webových služeb. Posluchač / student může takový výstup, jako máte před sebou, sledovat pasivně v rámci výkladu, ale i aktivně, za předpokladu, že připravený text obsahuje i části kódu připravené s cílem umožnit experimentování typu \"co se stane, když...\""
      ]
    },
    {
      "cell_type": "markdown",
      "metadata": {
        "id": "nFFxfVEE89gn"
      },
      "source": [
        "### Jupyter"
      ]
    },
    {
      "cell_type": "markdown",
      "metadata": {
        "id": "A9zlkWh5-K7f"
      },
      "source": [
        "Mnoho učitelů, především vysokoškolských, ale i vědeckých pracovníků hledá prostředí, ve kterém by bylo možno vytvářet texty a doplňovat je výpočty. V relativně nedávné době (cca rok 2014) byl veřejnosti představen projekt **[Jupyter](https://jupyter.org/)**. "
      ]
    },
    {
      "cell_type": "markdown",
      "metadata": {
        "id": "39qMtD1o-O_e"
      },
      "source": [
        "Projekt **Jupyter** představuje možnost integrace běžného textu a dílčích výpočtů. Primárně dílčí výpočty bylo možno dělat v programovacím jazyce Python, který je do dnes v této oblasti dominantní, ale portfolio jazyků se významně rozšířilo a dnes je možné používat prakticky všechny jazyky, a to včetně jazyků **C++**, **Javascript** a **R**. Uživatele **Matlabu** může překvapit, jak blízko Jupyter je jak z hlediska syntaxe, tak i z hlediska dostupných knihoven včetně knihovny pro vizualizaci výsledků."
      ]
    },
    {
      "cell_type": "markdown",
      "metadata": {
        "id": "jpMek37j-RcI"
      },
      "source": [
        "Jupyter je opensourcové řešení. Pro práci s ním je k dispozici celá řada nástrojů, pro jejich využití není potřeba instalovat speciální programy. Máte-li ale potřebu si vytvořit vlastní prostředí, lze to udělat jak na stolním počítači, se kterým pracujete jen vy, tak i na serveru a tento sdílet s ostatními.\n",
        "\n"
      ]
    },
    {
      "cell_type": "markdown",
      "metadata": {
        "id": "NV9O2FOE9_zh"
      },
      "source": [
        "\n",
        "\n",
        "\n",
        "\n",
        "\n",
        "\n",
        "\n",
        "\n",
        "Součástí produktu jsou knihovny **[Matplotlib](https://matplotlib.org/)** pro grafické výstupy, **[Scipy](https://www.scipy.org/)** pro matematické výpočty, řešení diferenciálních rovnic, symbolické výpočty apod., **[NumPy](https://numpy.org/)** pro Lineární algebru, ale i Fourierovu transformaci, **[Pandas](https://pandas.pydata.org/)** pro datovou anylýzu.\n",
        "\n",
        "Zajímavým prostředím je [Kaggle](https://www.kaggle.com/). Jedná se o platformu pro vyhlašování soutěží."
      ]
    },
    {
      "cell_type": "markdown",
      "metadata": {
        "id": "4PXw2kRSIx5I"
      },
      "source": [
        "### Nástroje"
      ]
    },
    {
      "cell_type": "markdown",
      "metadata": {
        "id": "UySFDt0mI1oR"
      },
      "source": [
        "Pravděpodobně nejoblíběnějším \"volným\" nástrojem je **[Google Colab](https://colab.research.google.com)**, který poskytuje prostředí, ve kterém lze vytvářet, spouštět, ukládat či jiným způsobem zpracovávat tzv. **\"notebooky\"**, což je právě propojení volného textu a dílčích výpočtů."
      ]
    },
    {
      "cell_type": "markdown",
      "metadata": {
        "id": "CW8-Gs8D-V2m"
      },
      "source": [
        "Dalším nástrojem je **[Github](https://github.com)**, který je poskytován firmou Microsoft obecně pro správu zdrojových kódů, spolupráci na nich, jejich historii, apod. Github umožňuje integraci s Google Colab, kdy lze notebooky uložené v Githubu otevírat v prostředí Google Colab, zde spouštět a upravovat a zpětně ukládat do Githubu. Dokument, který nyní čtete vznikal právě tímto způsobem. Byl editován v prostředí Google Colab a ukládán na Github. Třetí nástrojem, který je vhodné zmínit je **[NBViewer](https://nbviewer.jupyter.org/)** a **[MyBinder](https://mybinder.org/)**. NBViewer umožňuje komfortněji prohlížet notebooky, MyBinder je umožňuje spouštět."
      ]
    },
    {
      "cell_type": "markdown",
      "metadata": {
        "id": "I4s3mvwG-dqe"
      },
      "source": [
        "Do rodiny produktů kolem Jupyteru patří i další. Jedná se o nástroj konverze notebooku do jiných formátů, **pdf**, **LaTEX** i dalších. Tímto nástrojem je **[NBConvert](https://nbconvert.readthedocs.io/en/latest/)**, který je integrovaný v instalacích Jupyteru. Není možné nezmínit nástroje jako je **[PaperMill](https://papermill.readthedocs.io/en/latest/)**, či **[Voilá](https://voila-gallery.org/)**, které patří zcela jistě do skupiny nástrojů pro velmi pokročilé uživatele. V roce 2019 byl založen projekt **[Jupyter-book](https://jupyterbook.org/intro.html)**, který umožňuje konverzi notebooků do webových stránek (knih) či do pdf. "
      ]
    },
    {
      "cell_type": "markdown",
      "metadata": {
        "id": "LBOlblQ3I3wI"
      },
      "source": [
        "### Aktivity"
      ]
    },
    {
      "cell_type": "markdown",
      "metadata": {
        "id": "PTnm326O-jO4"
      },
      "source": [
        "Vznikají aktivity, jejichž cílem je zakonzervovat výstupy z vědeckého výzkumu a publikovat tento stav. Díky tomu kdokoliv může ověřit, že výpočty nebyly zmanipulovány. Příkladem služby je **[CodeOcean](https://codeocean.com/)**. Jedná se o tzv reprodukovatelnou vědu. Na jednu archivovanou práci z oblasti BioInformatiky se můžete podívat zde **[FMRIPrep: a robust preprocessing pipeline for functional MRI](https://codeocean.com/capsule/3568017/tree/v1)**."
      ]
    },
    {
      "cell_type": "markdown",
      "metadata": {
        "id": "UoMXZftyI6hq"
      },
      "source": [
        "### Využití ve světě"
      ]
    },
    {
      "cell_type": "markdown",
      "metadata": {
        "id": "7HzypepP-FEm"
      },
      "source": [
        "Ve světě se produkt používá na celé řadě univerzit. Některé jsou vyjmenovány níže.\n",
        "\n",
        "- [MIT](https://supercloud.mit.edu/jupyter-notebooks)\n",
        "\n",
        "- [Standford](https://web.stanford.edu/group/farmshare/cgi-bin/wiki/index.php/Jupyter)\n",
        "\n",
        "- [Berkeley](https://bids.berkeley.edu/research/project-jupyter)\n",
        "\n",
        "- [Harward](https://atg.fas.harvard.edu/jupyterhub)\n",
        "\n",
        "- [UK](https://jupyter.kam.mff.cuni.cz/hub/login)\n",
        "\n",
        "- [MUNI](https://it.muni.cz/phil/lindat-clariah/clanky/jupyter-notebooks-v-humanitnich-vedach) \n",
        "\n",
        "- [Lomonosova univerzita](https://hub.vsb.fbb.msu.ru/hub/login)\n",
        "\n",
        "- [Univerzita v Heidelbergu](https://jupyter.kip.uni-heidelberg.de/hub/login)"
      ]
    },
    {
      "cell_type": "markdown",
      "metadata": {
        "id": "Xe3CpKiF78Ho"
      },
      "source": [
        "## Vícekriteriální hodnocení\n",
        "\n",
        "![purple-divider](https://user-images.githubusercontent.com/7065401/52071927-c1cd7100-2562-11e9-908a-dde91ba14e59.png)"
      ]
    },
    {
      "cell_type": "markdown",
      "metadata": {
        "id": "DR4NEwiU-1Ae"
      },
      "source": [
        "Úloha, při níž provádíme výběr nejlepší varianty, případně výběr nejhorší varianty je optimalizační úlohou. V takových úlohách je nutné definovat kritérium, jehož využitím / aplikací můžeme provést porovnání dvou přípustných řešení a konstatovat, které z řešení je lepší."
      ]
    },
    {
      "cell_type": "markdown",
      "metadata": {
        "id": "wpwnE3wjATPg"
      },
      "source": [
        "Označme nyní přípustné řešení jako $x_i \\in X$, kde $X$ je možina všech přípustných řešení, hodnotu kriteriální funkce $y_i=f(x_i)$. Hledáme-li přípustné řešení, které maximalizuje kriteriální funkci, potom řešení $x^*$ je hledaným řešení, jestliže $\\forall_{x\\in X}:x^*\\ge x$. "
      ]
    },
    {
      "cell_type": "markdown",
      "metadata": {
        "id": "9ffn_Gf3Bdq1"
      },
      "source": [
        "V případě, kdy pro hodnocení nepoužíváme pouze jedno kritérium, mluvíme o vícekriteriální optimalizaci. \n",
        "\n",
        "Nejjednodušším přístupem k řešení takové úlohy je stanovení vah pro jednotlivá kritéria a faktické převedení vektorové kriteriální funkce na funkci skalární.\n",
        "\n",
        "Předpokládejme, že máme množinu kritérií $F=\\{f_1, f_2, \\dots, f_n\\}$. Každému kritérii $f_i$ přiřadíme jeho váhu $\\alpha_i$. Výsledné kritérium lze poté vyjádřit jako $f(x)=\\sum_{i=0}^n f_i(x)$."
      ]
    },
    {
      "cell_type": "markdown",
      "metadata": {
        "id": "FRGJJLsGCtTF"
      },
      "source": [
        "Úloha hodnocení akademických pracovníků je fakticky optimalizační úlohou, při níž je definováno více kritérií. Zcela automaticky se vybaví dvě kritéria a to je vytížení ve výuce a výsledky tvůrčí činnosti. Na základě výše uvedených vztahů se nabízí jednotlivým kritérií přiřadit váhy a pokrýt celé hodnocení jedinou matematicky definovanou funkcí.\n",
        "\n",
        "Pro hodnocení akademických pracovníků na Univerzitě obrany je využito vícekriteriálního hodnocení založeného na fuzzy logice."
      ]
    },
    {
      "cell_type": "markdown",
      "metadata": {
        "id": "dzWd-zHf7_kx"
      },
      "source": [
        "## Fuzzy logika\n",
        "\n",
        "![purple-divider](https://user-images.githubusercontent.com/7065401/52071927-c1cd7100-2562-11e9-908a-dde91ba14e59.png)"
      ]
    },
    {
      "cell_type": "markdown",
      "metadata": {
        "id": "GaDGpxs3HjYU"
      },
      "source": [
        "### Booleova algebra"
      ]
    },
    {
      "cell_type": "markdown",
      "metadata": {
        "id": "7CpEw6_pDsNI"
      },
      "source": [
        "Fuzzy logika je matematická oblast, která binarní svět rozšiřuje o další možné stavy. Nejdříve si připomeňme operace z Booleovy algebry."
      ]
    },
    {
      "cell_type": "code",
      "metadata": {
        "colab": {
          "base_uri": "https://localhost:8080/"
        },
        "id": "RnuDwqtBD8qy",
        "outputId": "3cde6196-4d1f-41b9-95e0-3771856329c7"
      },
      "source": [
        "a = True\n",
        "b = False\n",
        "c = a and b\n",
        "print(a, b, c)"
      ],
      "execution_count": 2,
      "outputs": [
        {
          "output_type": "stream",
          "text": [
            "True False False\n"
          ],
          "name": "stdout"
        }
      ]
    },
    {
      "cell_type": "markdown",
      "metadata": {
        "id": "YZFtBFV_ENET"
      },
      "source": [
        "Booleova algebra používá dvě hodnoty (výše uvedené jako `True` a `False`). Pravděpodobně všichni znáte celou řadu operátorů jako jsou `or` a `and`.\n",
        "\n",
        "Podívejme se na jednoduché pravdivostní tabulky."
      ]
    },
    {
      "cell_type": "code",
      "metadata": {
        "id": "a1CJ_IuIEqLm"
      },
      "source": [
        "def pravdivostniTabulka(trueValue, falseValue, function):\n",
        "    print('- P tabulka', '-'*30)\n",
        "    print(function)\n",
        "    print('-'*42)\n",
        "    print(falseValue, falseValue, function(falseValue, falseValue), sep='\\t')\n",
        "    print(trueValue, falseValue, function(trueValue, falseValue), sep='\\t')\n",
        "    print(falseValue, trueValue, function(falseValue, trueValue), sep='\\t')\n",
        "    print(trueValue, trueValue, function(trueValue, trueValue), sep='\\t')\n",
        "    print('='*42)\n",
        "\n",
        "def orFunction(a, b):\n",
        "    return a or b\n",
        "\n",
        "def andFunction(a, b):\n",
        "    return a and b"
      ],
      "execution_count": 3,
      "outputs": []
    },
    {
      "cell_type": "code",
      "metadata": {
        "colab": {
          "base_uri": "https://localhost:8080/"
        },
        "id": "yxhOeboZFK07",
        "outputId": "f0da57ef-e39e-498c-8095-9ae79221c817"
      },
      "source": [
        "pravdivostniTabulka(True, False, orFunction)\n",
        "pravdivostniTabulka(True, False, andFunction)"
      ],
      "execution_count": 4,
      "outputs": [
        {
          "output_type": "stream",
          "text": [
            "- P tabulka ------------------------------\n",
            "<function orFunction at 0x7fe4bc02bcb0>\n",
            "------------------------------------------\n",
            "False\tFalse\tFalse\n",
            "True\tFalse\tTrue\n",
            "False\tTrue\tTrue\n",
            "True\tTrue\tTrue\n",
            "==========================================\n",
            "- P tabulka ------------------------------\n",
            "<function andFunction at 0x7fe4bc02bef0>\n",
            "------------------------------------------\n",
            "False\tFalse\tFalse\n",
            "True\tFalse\tFalse\n",
            "False\tTrue\tFalse\n",
            "True\tTrue\tTrue\n",
            "==========================================\n"
          ],
          "name": "stdout"
        }
      ]
    },
    {
      "cell_type": "markdown",
      "metadata": {
        "id": "0ml7Spj7Ho4M"
      },
      "source": [
        "### Fuzzy hodnoty a funkce"
      ]
    },
    {
      "cell_type": "markdown",
      "metadata": {
        "id": "7HxIrcTvF5fS"
      },
      "source": [
        "Výsledky, které jsme dostali odpovídají předpokladům. Fuzzy logika je založena na myšlence, že lidé používají neurčitosti ve svých vyjádřeních. Příkladem je např. vyjádření: \"Myslím si, že spíše přijde.\" Mlhavá hodnota výroku nabývá hodnot z intervalu $<0;1>$, kde hodnota $0$ odpovídá `False` a hodnota $1$ odpovídá hodnotě `True`.\n",
        "\n",
        "Jakým způsobem ale realizovat operace jako jsou `or` a `and`."
      ]
    },
    {
      "cell_type": "code",
      "metadata": {
        "id": "0qZqfA_EGyOv"
      },
      "source": [
        "def fuzzyOr(a, b):\n",
        "    return max(a, b)\n",
        "\n",
        "def fuzzyAnd(a, b):\n",
        "    return min(a, b)"
      ],
      "execution_count": 5,
      "outputs": []
    },
    {
      "cell_type": "code",
      "metadata": {
        "colab": {
          "base_uri": "https://localhost:8080/"
        },
        "id": "EVFFzPZJG_QC",
        "outputId": "e58854b8-0c6f-4a54-8ead-ec56851d9eee"
      },
      "source": [
        "pravdivostniTabulka(1, 0, fuzzyOr)\n",
        "pravdivostniTabulka(1, 0, fuzzyAnd)"
      ],
      "execution_count": 6,
      "outputs": [
        {
          "output_type": "stream",
          "text": [
            "- P tabulka ------------------------------\n",
            "<function fuzzyOr at 0x7fe4bc047950>\n",
            "------------------------------------------\n",
            "0\t0\t0\n",
            "1\t0\t1\n",
            "0\t1\t1\n",
            "1\t1\t1\n",
            "==========================================\n",
            "- P tabulka ------------------------------\n",
            "<function fuzzyAnd at 0x7fe4bc0479e0>\n",
            "------------------------------------------\n",
            "0\t0\t0\n",
            "1\t0\t0\n",
            "0\t1\t0\n",
            "1\t1\t1\n",
            "==========================================\n"
          ],
          "name": "stdout"
        }
      ]
    },
    {
      "cell_type": "markdown",
      "metadata": {
        "id": "4grmY1vTHGqx"
      },
      "source": [
        "Podívejme se, jak budou vypadat pravdivostní tabulky, pokud použijeme jiné hodnoty."
      ]
    },
    {
      "cell_type": "code",
      "metadata": {
        "colab": {
          "base_uri": "https://localhost:8080/"
        },
        "id": "ezSXQvIKHP7E",
        "outputId": "9dbf9a15-e594-44c8-fa81-b02ac5782e53"
      },
      "source": [
        "pravdivostniTabulka(0.6, 0.4, fuzzyOr)\n",
        "pravdivostniTabulka(0.6, 0.4, fuzzyAnd)"
      ],
      "execution_count": 7,
      "outputs": [
        {
          "output_type": "stream",
          "text": [
            "- P tabulka ------------------------------\n",
            "<function fuzzyOr at 0x7fe4bc047950>\n",
            "------------------------------------------\n",
            "0.4\t0.4\t0.4\n",
            "0.6\t0.4\t0.6\n",
            "0.4\t0.6\t0.6\n",
            "0.6\t0.6\t0.6\n",
            "==========================================\n",
            "- P tabulka ------------------------------\n",
            "<function fuzzyAnd at 0x7fe4bc0479e0>\n",
            "------------------------------------------\n",
            "0.4\t0.4\t0.4\n",
            "0.6\t0.4\t0.4\n",
            "0.4\t0.6\t0.4\n",
            "0.6\t0.6\t0.6\n",
            "==========================================\n"
          ],
          "name": "stdout"
        }
      ]
    },
    {
      "cell_type": "markdown",
      "metadata": {
        "id": "OFZU6_0tHzV3"
      },
      "source": [
        "### Fuzzyfikace"
      ]
    },
    {
      "cell_type": "markdown",
      "metadata": {
        "id": "pbLRzpCRIQlT"
      },
      "source": [
        "Pro fuzzyfikaci se používají funkce příslušnosti (membership function). Funkce příslušnosti umožňují vyjádřit například, co znamená pojem \"velmi špatný\" ve vztahu hodnocení v rozsahu 0-10 \"hvězdiček\".\n",
        "\n",
        "- 0 hvězdiček - určitě \"velmi špatný\"\n",
        "- 1 hvězdička - asi \"velmi špatný\"\n",
        "- 2 hvězdičky - neznamenají \"velmi špatný\""
      ]
    },
    {
      "cell_type": "code",
      "metadata": {
        "id": "sMTfy0mBuPu6"
      },
      "source": [
        "# import knihovny pro vizualizaci (velmi podobné funkcionality jako v Matlabu) \n",
        "import matplotlib.pyplot as plt"
      ],
      "execution_count": 8,
      "outputs": []
    },
    {
      "cell_type": "code",
      "metadata": {
        "id": "jTVISwituU0t"
      },
      "source": [
        "fuzzyUniversum = [0, 1, 2, 3, 4, 5, 6, 7, 8, 9, 10]\n",
        "\n",
        "def fuzzyVectorCreator(values=fuzzyUniversum):\n",
        "    'funkce pro vytvoření membership funkce nad definovaným universem'\n",
        "    def resultFunc(value, leftDelta=2, rightDelta=2):\n",
        "        leftValue = max(value - leftDelta, values[0])\n",
        "        rightValue = min(value + rightDelta, values[-1])\n",
        "        \n",
        "        result = []\n",
        "        for item in values:\n",
        "            if item < leftValue:\n",
        "                result.append(0)\n",
        "            elif item == value:\n",
        "                result.append(1)\n",
        "            elif item < value:\n",
        "                resultItem = (item - leftValue) / leftDelta\n",
        "                result.append(resultItem)\n",
        "            elif item <= rightValue:\n",
        "                resultItem = (rightValue - item) / rightDelta\n",
        "                result.append(resultItem)\n",
        "            else:\n",
        "                result.append(0)\n",
        "        return result\n",
        "    return resultFunc"
      ],
      "execution_count": 9,
      "outputs": []
    },
    {
      "cell_type": "code",
      "metadata": {
        "colab": {
          "base_uri": "https://localhost:8080/",
          "height": 283
        },
        "id": "2M_ywW10uZh0",
        "outputId": "ac32dc2e-e327-4a44-a9e8-76b78aa1bfb7"
      },
      "source": [
        "fuzzyMapper = fuzzyVectorCreator()\n",
        "fuzzyVectorA = fuzzyMapper(0.0)\n",
        "\n",
        "plt.plot(fuzzyUniversum, fuzzyVectorA)\n",
        "print(fuzzyVectorA)"
      ],
      "execution_count": 10,
      "outputs": [
        {
          "output_type": "stream",
          "text": [
            "[1, 0.5, 0.0, 0, 0, 0, 0, 0, 0, 0, 0]\n"
          ],
          "name": "stdout"
        },
        {
          "output_type": "display_data",
          "data": {
            "image/png": "[encoded data removed]",
            "text/plain": [
              "<Figure size 432x288 with 1 Axes>"
            ]
          },
          "metadata": {
            "tags": [],
            "needs_background": "light"
          }
        }
      ]
    },
    {
      "cell_type": "markdown",
      "metadata": {
        "id": "De_Z9snn6U9_"
      },
      "source": [
        "Při použití více \"kategorií\" lze tyto vizualizovat současně. Je to běžné vyjádření."
      ]
    },
    {
      "cell_type": "code",
      "metadata": {
        "colab": {
          "base_uri": "https://localhost:8080/",
          "height": 283
        },
        "id": "4HAdP70LuLoV",
        "outputId": "1d6efe84-cbe1-439c-c432-68d97b656fbe"
      },
      "source": [
        "fuzzyMapper = fuzzyVectorCreator()\n",
        "mfVelmiSpatne = fuzzyMapper(0.0)\n",
        "mfSpatne = fuzzyMapper(3.0)\n",
        "mfPrumerne = fuzzyMapper(5.0)\n",
        "mfDobre = fuzzyMapper(7.0)\n",
        "mfVelmiDobre = fuzzyMapper(10)\n",
        "\n",
        "plt.plot(fuzzyUniversum, mfVelmiSpatne)\n",
        "plt.plot(fuzzyUniversum, mfSpatne)\n",
        "plt.plot(fuzzyUniversum, mfPrumerne)\n",
        "plt.plot(fuzzyUniversum, mfDobre)\n",
        "plt.plot(fuzzyUniversum, mfVelmiDobre)\n",
        "print(mfPrumerne)"
      ],
      "execution_count": 11,
      "outputs": [
        {
          "output_type": "stream",
          "text": [
            "[0, 0, 0, 0.0, 0.5, 1, 0.5, 0.0, 0, 0, 0]\n"
          ],
          "name": "stdout"
        },
        {
          "output_type": "display_data",
          "data": {
            "image/png": "[encoded data removed]",
            "text/plain": [
              "<Figure size 432x288 with 1 Axes>"
            ]
          },
          "metadata": {
            "tags": [],
            "needs_background": "light"
          }
        }
      ]
    },
    {
      "cell_type": "markdown",
      "metadata": {
        "id": "AstFdOMMygO9"
      },
      "source": [
        "Pro práci s fuzzy systémy je možné použít existující knihovny. Zde použijeme `scikit`"
      ]
    },
    {
      "cell_type": "code",
      "metadata": {
        "colab": {
          "base_uri": "https://localhost:8080/"
        },
        "id": "9FqGOBb8yqjB",
        "outputId": "a9f4f013-73a0-4a64-96b8-0be4ed17472e"
      },
      "source": [
        "!pip install scikit-fuzzy"
      ],
      "execution_count": 12,
      "outputs": [
        {
          "output_type": "stream",
          "text": [
            "Collecting scikit-fuzzy\n",
            "\u001b[?25l  Downloading https://files.pythonhosted.org/packages/6c/f0/5eb5dbe0fd8dfe7d4651a8f4e591a196623a22b9e5339101e559695b4f6c/scikit-fuzzy-0.4.2.tar.gz (993kB)\n",
            "\r\u001b[K     |▎                               | 10kB 14.6MB/s eta 0:00:01\r\u001b[K     |▋                               | 20kB 18.8MB/s eta 0:00:01\r\u001b[K     |█                               | 30kB 22.9MB/s eta 0:00:01\r\u001b[K     |█▎                              | 40kB 22.3MB/s eta 0:00:01\r\u001b[K     |█▋                              | 51kB 19.1MB/s eta 0:00:01\r\u001b[K     |██                              | 61kB 13.4MB/s eta 0:00:01\r\u001b[K     |██▎                             | 71kB 12.6MB/s eta 0:00:01\r\u001b[K     |██▋                             | 81kB 13.1MB/s eta 0:00:01\r\u001b[K     |███                             | 92kB 14.1MB/s eta 0:00:01\r\u001b[K     |███▎                            | 102kB 14.2MB/s eta 0:00:01\r\u001b[K     |███▋                            | 112kB 14.2MB/s eta 0:00:01\r\u001b[K     |████                            | 122kB 14.2MB/s eta 0:00:01\r\u001b[K     |████▎                           | 133kB 14.2MB/s eta 0:00:01\r\u001b[K     |████▋                           | 143kB 14.2MB/s eta 0:00:01\r\u001b[K     |█████                           | 153kB 14.2MB/s eta 0:00:01\r\u001b[K     |█████▎                          | 163kB 14.2MB/s eta 0:00:01\r\u001b[K     |█████▋                          | 174kB 14.2MB/s eta 0:00:01\r\u001b[K     |██████                          | 184kB 14.2MB/s eta 0:00:01\r\u001b[K     |██████▎                         | 194kB 14.2MB/s eta 0:00:01\r\u001b[K     |██████▋                         | 204kB 14.2MB/s eta 0:00:01\r\u001b[K     |███████                         | 215kB 14.2MB/s eta 0:00:01\r\u001b[K     |███████▎                        | 225kB 14.2MB/s eta 0:00:01\r\u001b[K     |███████▋                        | 235kB 14.2MB/s eta 0:00:01\r\u001b[K     |████████                        | 245kB 14.2MB/s eta 0:00:01\r\u001b[K     |████████▎                       | 256kB 14.2MB/s eta 0:00:01\r\u001b[K     |████████▋                       | 266kB 14.2MB/s eta 0:00:01\r\u001b[K     |█████████                       | 276kB 14.2MB/s eta 0:00:01\r\u001b[K     |█████████▎                      | 286kB 14.2MB/s eta 0:00:01\r\u001b[K     |█████████▋                      | 296kB 14.2MB/s eta 0:00:01\r\u001b[K     |██████████                      | 307kB 14.2MB/s eta 0:00:01\r\u001b[K     |██████████▏                     | 317kB 14.2MB/s eta 0:00:01\r\u001b[K     |██████████▌                     | 327kB 14.2MB/s eta 0:00:01\r\u001b[K     |██████████▉                     | 337kB 14.2MB/s eta 0:00:01\r\u001b[K     |███████████▏                    | 348kB 14.2MB/s eta 0:00:01\r\u001b[K     |███████████▌                    | 358kB 14.2MB/s eta 0:00:01\r\u001b[K     |███████████▉                    | 368kB 14.2MB/s eta 0:00:01\r\u001b[K     |████████████▏                   | 378kB 14.2MB/s eta 0:00:01\r\u001b[K     |████████████▌                   | 389kB 14.2MB/s eta 0:00:01\r\u001b[K     |████████████▉                   | 399kB 14.2MB/s eta 0:00:01\r\u001b[K     |█████████████▏                  | 409kB 14.2MB/s eta 0:00:01\r\u001b[K     |█████████████▌                  | 419kB 14.2MB/s eta 0:00:01\r\u001b[K     |█████████████▉                  | 430kB 14.2MB/s eta 0:00:01\r\u001b[K     |██████████████▏                 | 440kB 14.2MB/s eta 0:00:01\r\u001b[K     |██████████████▌                 | 450kB 14.2MB/s eta 0:00:01\r\u001b[K     |██████████████▉                 | 460kB 14.2MB/s eta 0:00:01\r\u001b[K     |███████████████▏                | 471kB 14.2MB/s eta 0:00:01\r\u001b[K     |███████████████▌                | 481kB 14.2MB/s eta 0:00:01\r\u001b[K     |███████████████▉                | 491kB 14.2MB/s eta 0:00:01\r\u001b[K     |████████████████▏               | 501kB 14.2MB/s eta 0:00:01\r\u001b[K     |████████████████▌               | 512kB 14.2MB/s eta 0:00:01\r\u001b[K     |████████████████▉               | 522kB 14.2MB/s eta 0:00:01\r\u001b[K     |█████████████████▏              | 532kB 14.2MB/s eta 0:00:01\r\u001b[K     |█████████████████▌              | 542kB 14.2MB/s eta 0:00:01\r\u001b[K     |█████████████████▉              | 552kB 14.2MB/s eta 0:00:01\r\u001b[K     |██████████████████▏             | 563kB 14.2MB/s eta 0:00:01\r\u001b[K     |██████████████████▌             | 573kB 14.2MB/s eta 0:00:01\r\u001b[K     |██████████████████▉             | 583kB 14.2MB/s eta 0:00:01\r\u001b[K     |███████████████████▏            | 593kB 14.2MB/s eta 0:00:01\r\u001b[K     |███████████████████▌            | 604kB 14.2MB/s eta 0:00:01\r\u001b[K     |███████████████████▉            | 614kB 14.2MB/s eta 0:00:01\r\u001b[K     |████████████████████            | 624kB 14.2MB/s eta 0:00:01\r\u001b[K     |████████████████████▍           | 634kB 14.2MB/s eta 0:00:01\r\u001b[K     |████████████████████▊           | 645kB 14.2MB/s eta 0:00:01\r\u001b[K     |█████████████████████           | 655kB 14.2MB/s eta 0:00:01\r\u001b[K     |█████████████████████▍          | 665kB 14.2MB/s eta 0:00:01\r\u001b[K     |█████████████████████▊          | 675kB 14.2MB/s eta 0:00:01\r\u001b[K     |██████████████████████          | 686kB 14.2MB/s eta 0:00:01\r\u001b[K     |██████████████████████▍         | 696kB 14.2MB/s eta 0:00:01\r\u001b[K     |██████████████████████▊         | 706kB 14.2MB/s eta 0:00:01\r\u001b[K     |███████████████████████         | 716kB 14.2MB/s eta 0:00:01\r\u001b[K     |███████████████████████▍        | 727kB 14.2MB/s eta 0:00:01\r\u001b[K     |███████████████████████▊        | 737kB 14.2MB/s eta 0:00:01\r\u001b[K     |████████████████████████        | 747kB 14.2MB/s eta 0:00:01\r\u001b[K     |████████████████████████▍       | 757kB 14.2MB/s eta 0:00:01\r\u001b[K     |████████████████████████▊       | 768kB 14.2MB/s eta 0:00:01\r\u001b[K     |█████████████████████████       | 778kB 14.2MB/s eta 0:00:01\r\u001b[K     |█████████████████████████▍      | 788kB 14.2MB/s eta 0:00:01\r\u001b[K     |█████████████████████████▊      | 798kB 14.2MB/s eta 0:00:01\r\u001b[K     |██████████████████████████      | 808kB 14.2MB/s eta 0:00:01\r\u001b[K     |██████████████████████████▍     | 819kB 14.2MB/s eta 0:00:01\r\u001b[K     |██████████████████████████▊     | 829kB 14.2MB/s eta 0:00:01\r\u001b[K     |███████████████████████████     | 839kB 14.2MB/s eta 0:00:01\r\u001b[K     |███████████████████████████▍    | 849kB 14.2MB/s eta 0:00:01\r\u001b[K     |███████████████████████████▊    | 860kB 14.2MB/s eta 0:00:01\r\u001b[K     |████████████████████████████    | 870kB 14.2MB/s eta 0:00:01\r\u001b[K     |████████████████████████████▍   | 880kB 14.2MB/s eta 0:00:01\r\u001b[K     |████████████████████████████▊   | 890kB 14.2MB/s eta 0:00:01\r\u001b[K     |█████████████████████████████   | 901kB 14.2MB/s eta 0:00:01\r\u001b[K     |█████████████████████████████▍  | 911kB 14.2MB/s eta 0:00:01\r\u001b[K     |█████████████████████████████▊  | 921kB 14.2MB/s eta 0:00:01\r\u001b[K     |██████████████████████████████  | 931kB 14.2MB/s eta 0:00:01\r\u001b[K     |██████████████████████████████▎ | 942kB 14.2MB/s eta 0:00:01\r\u001b[K     |██████████████████████████████▋ | 952kB 14.2MB/s eta 0:00:01\r\u001b[K     |███████████████████████████████ | 962kB 14.2MB/s eta 0:00:01\r\u001b[K     |███████████████████████████████▎| 972kB 14.2MB/s eta 0:00:01\r\u001b[K     |███████████████████████████████▋| 983kB 14.2MB/s eta 0:00:01\r\u001b[K     |████████████████████████████████| 993kB 14.2MB/s eta 0:00:01\r\u001b[K     |████████████████████████████████| 1.0MB 14.2MB/s \n",
            "\u001b[?25hRequirement already satisfied: numpy>=1.6.0 in /usr/local/lib/python3.7/dist-packages (from scikit-fuzzy) (1.19.5)\n",
            "Requirement already satisfied: scipy>=0.9.0 in /usr/local/lib/python3.7/dist-packages (from scikit-fuzzy) (1.4.1)\n",
            "Requirement already satisfied: networkx>=1.9.0 in /usr/local/lib/python3.7/dist-packages (from scikit-fuzzy) (2.5.1)\n",
            "Requirement already satisfied: decorator<5,>=4.3 in /usr/local/lib/python3.7/dist-packages (from networkx>=1.9.0->scikit-fuzzy) (4.4.2)\n",
            "Building wheels for collected packages: scikit-fuzzy\n",
            "  Building wheel for scikit-fuzzy (setup.py) ... \u001b[?25l\u001b[?25hdone\n",
            "  Created wheel for scikit-fuzzy: filename=scikit_fuzzy-0.4.2-cp37-none-any.whl size=894088 sha256=f38a061d8417aeaf849cd384cfd28c9400047ba9fb45555a3c81325a00cd21e0\n",
            "  Stored in directory: /root/.cache/pip/wheels/b9/4e/77/da79b16f64ef1738d95486e2731eea09d73e90a72465096600\n",
            "Successfully built scikit-fuzzy\n",
            "Installing collected packages: scikit-fuzzy\n",
            "Successfully installed scikit-fuzzy-0.4.2\n"
          ],
          "name": "stdout"
        }
      ]
    },
    {
      "cell_type": "markdown",
      "metadata": {
        "id": "b1XdMYNqwqBK"
      },
      "source": [
        "#### Špatné a dobré jídlo, špatná a dobrá obsluha"
      ]
    },
    {
      "cell_type": "markdown",
      "metadata": {
        "id": "vPOOYhQd4S50"
      },
      "source": [
        "Následující příklad byl převzat a částečně upraven z https://pythonhosted.org/scikit-fuzzy/auto_examples/plot_tipping_problem.html"
      ]
    },
    {
      "cell_type": "markdown",
      "metadata": {
        "id": "ekzvSbgxxY3B"
      },
      "source": [
        "Jídlo (food) universum $<0;10>$:\n",
        "- špatné (low / lo): 0\n",
        "- průměrné (medium / md): 5\n",
        "- dobré (high / hi): 10"
      ]
    },
    {
      "cell_type": "code",
      "metadata": {
        "id": "aLkYItvjyRFN"
      },
      "source": [
        "import numpy as np\n",
        "import skfuzzy as fuzz\n",
        "import matplotlib.pyplot as plt"
      ],
      "execution_count": 13,
      "outputs": []
    },
    {
      "cell_type": "code",
      "metadata": {
        "id": "3HWhPpDY6n9l",
        "colab": {
          "base_uri": "https://localhost:8080/"
        },
        "outputId": "dc189075-f095-478e-ed05-eef7856727ce"
      },
      "source": [
        "x_qual = np.arange(0, 11, 1)\n",
        "qual_lo = fuzz.trimf(x_qual, [0, 0, 5])\n",
        "qual_md = fuzz.trimf(x_qual, [0, 5, 10])\n",
        "qual_hi = fuzz.trimf(x_qual, [5, 10, 10])\n",
        "print(x_qual)\n",
        "print(qual_lo)\n",
        "print(qual_md)\n",
        "print(qual_hi)"
      ],
      "execution_count": 14,
      "outputs": [
        {
          "output_type": "stream",
          "text": [
            "[ 0  1  2  3  4  5  6  7  8  9 10]\n",
            "[1.  0.8 0.6 0.4 0.2 0.  0.  0.  0.  0.  0. ]\n",
            "[0.  0.2 0.4 0.6 0.8 1.  0.8 0.6 0.4 0.2 0. ]\n",
            "[0.  0.  0.  0.  0.  0.  0.2 0.4 0.6 0.8 1. ]\n"
          ],
          "name": "stdout"
        }
      ]
    },
    {
      "cell_type": "code",
      "metadata": {
        "colab": {
          "base_uri": "https://localhost:8080/",
          "height": 299
        },
        "id": "rXbAJ6u6yTv0",
        "outputId": "345d8ca5-1aa4-4df1-da55-05eb7096d2fd"
      },
      "source": [
        "x_qual = np.arange(0, 11, 1)\n",
        "qual_lo = fuzz.trimf(x_qual, [0, 0, 5])\n",
        "qual_md = fuzz.trimf(x_qual, [0, 5, 10])\n",
        "qual_hi = fuzz.trimf(x_qual, [5, 10, 10])\n",
        "\n",
        "plt.plot(x_qual, qual_lo, 'b', linewidth=1.5, label='Low')\n",
        "plt.plot(x_qual, qual_md, 'g', linewidth=1.5, label='Medium')\n",
        "plt.plot(x_qual, qual_hi, 'r', linewidth=1.5, label='High')\n",
        "plt.title('Food quality')\n",
        "plt.legend()"
      ],
      "execution_count": 15,
      "outputs": [
        {
          "output_type": "execute_result",
          "data": {
            "text/plain": [
              "<matplotlib.legend.Legend at 0x7fe4b2581e90>"
            ]
          },
          "metadata": {
            "tags": []
          },
          "execution_count": 15
        },
        {
          "output_type": "display_data",
          "data": {
            "image/png": "[encoded data removed]",
            "text/plain": [
              "<Figure size 432x288 with 1 Axes>"
            ]
          },
          "metadata": {
            "tags": [],
            "needs_background": "light"
          }
        }
      ]
    },
    {
      "cell_type": "markdown",
      "metadata": {
        "id": "wflknJPxx_oU"
      },
      "source": [
        "Obsluha (service) universum $<0;10>$:\n",
        "- špatná (low / lo): 0\n",
        "- průměrná (medium / md): 5\n",
        "- dobrá (high / hi): 10"
      ]
    },
    {
      "cell_type": "code",
      "metadata": {
        "colab": {
          "base_uri": "https://localhost:8080/",
          "height": 299
        },
        "id": "XllCAcgRzEOm",
        "outputId": "b3c61e40-eff5-4f6b-eca9-945fdca1c4ad"
      },
      "source": [
        "x_serv = np.arange(0, 11, 1)\n",
        "\n",
        "serv_lo = fuzz.trimf(x_serv, [0, 0, 5])\n",
        "serv_md = fuzz.trimf(x_serv, [0, 5, 10])\n",
        "serv_hi = fuzz.trimf(x_serv, [5, 10, 10])\n",
        "\n",
        "plt.plot(x_serv, serv_lo, 'b', linewidth=1.5, label='Low')\n",
        "plt.plot(x_serv, serv_md, 'g', linewidth=1.5, label='Medium')\n",
        "plt.plot(x_serv, serv_hi, 'r', linewidth=1.5, label='Good')\n",
        "plt.title('Service quality')\n",
        "plt.legend()"
      ],
      "execution_count": 16,
      "outputs": [
        {
          "output_type": "execute_result",
          "data": {
            "text/plain": [
              "<matplotlib.legend.Legend at 0x7fe4b255e910>"
            ]
          },
          "metadata": {
            "tags": []
          },
          "execution_count": 16
        },
        {
          "output_type": "display_data",
          "data": {
            "image/png": "[encoded data removed]",
            "text/plain": [
              "<Figure size 432x288 with 1 Axes>"
            ]
          },
          "metadata": {
            "tags": [],
            "needs_background": "light"
          }
        }
      ]
    },
    {
      "cell_type": "markdown",
      "metadata": {
        "id": "a305yl2nzYOC"
      },
      "source": [
        "Spropitné (tip) universum $<0;25>$:\n",
        "- Malé (low / lo): 0\n",
        "- Střední (medium / md): 13\n",
        "- Vysoké (high / hi): 25"
      ]
    },
    {
      "cell_type": "code",
      "metadata": {
        "colab": {
          "base_uri": "https://localhost:8080/",
          "height": 299
        },
        "id": "mI4zm1jxzXcN",
        "outputId": "cd911797-e912-48ec-daf1-a07cf189daff"
      },
      "source": [
        "x_tip  = np.arange(0, 26, 1)\n",
        "\n",
        "tip_lo = fuzz.trimf(x_tip, [0, 0, 13])\n",
        "tip_md = fuzz.trimf(x_tip, [0, 13, 25])\n",
        "tip_hi = fuzz.trimf(x_tip, [13, 25, 25])\n",
        "\n",
        "plt.plot(x_tip, tip_lo, 'b', linewidth=1.5, label='Low')\n",
        "plt.plot(x_tip, tip_md, 'g', linewidth=1.5, label='Medium')\n",
        "plt.plot(x_tip, tip_hi, 'r', linewidth=1.5, label='High')\n",
        "plt.title('Tip amount')\n",
        "plt.legend()"
      ],
      "execution_count": 17,
      "outputs": [
        {
          "output_type": "execute_result",
          "data": {
            "text/plain": [
              "<matplotlib.legend.Legend at 0x7fe4b242b350>"
            ]
          },
          "metadata": {
            "tags": []
          },
          "execution_count": 17
        },
        {
          "output_type": "display_data",
          "data": {
            "image/png": "[encoded data removed]",
            "text/plain": [
              "<Figure size 432x288 with 1 Axes>"
            ]
          },
          "metadata": {
            "tags": [],
            "needs_background": "light"
          }
        }
      ]
    },
    {
      "cell_type": "markdown",
      "metadata": {
        "id": "SS3auyfI0AzT"
      },
      "source": [
        "Jídlo a obsluha nechť je ohodnocena  následujícím způsobem:\n",
        "\n",
        "- jídlo = 6.5 (stupnice 0 -10)\n",
        "- obsluha = 9.8 (stupnice 0 -10)"
      ]
    },
    {
      "cell_type": "code",
      "metadata": {
        "id": "iKgQqJy60MJR"
      },
      "source": [
        "foodQuality = 6.5\n",
        "serviceQuality = 9.8"
      ],
      "execution_count": 18,
      "outputs": []
    },
    {
      "cell_type": "markdown",
      "metadata": {
        "id": "gpxiSyGz2PDr"
      },
      "source": [
        "#### Kvalita jídla"
      ]
    },
    {
      "cell_type": "code",
      "metadata": {
        "colab": {
          "base_uri": "https://localhost:8080/",
          "height": 299
        },
        "id": "4HeylwZZ11Wj",
        "outputId": "c4e57011-4f83-497f-83e7-ed96b82159f3"
      },
      "source": [
        "plt.plot(x_qual, qual_lo, 'b', linewidth=1.5, label='Low')\n",
        "plt.plot(x_qual, qual_md, 'g', linewidth=1.5, label='Medium')\n",
        "plt.plot(x_qual, qual_hi, 'r', linewidth=1.5, label='High')\n",
        "plt.title('Food quality')\n",
        "plt.axvline(x=foodQuality)"
      ],
      "execution_count": 19,
      "outputs": [
        {
          "output_type": "execute_result",
          "data": {
            "text/plain": [
              "<matplotlib.lines.Line2D at 0x7fe4b23ad4d0>"
            ]
          },
          "metadata": {
            "tags": []
          },
          "execution_count": 19
        },
        {
          "output_type": "display_data",
          "data": {
            "image/png": "[encoded data removed]",
            "text/plain": [
              "<Figure size 432x288 with 1 Axes>"
            ]
          },
          "metadata": {
            "tags": [],
            "needs_background": "light"
          }
        }
      ]
    },
    {
      "cell_type": "code",
      "metadata": {
        "colab": {
          "base_uri": "https://localhost:8080/"
        },
        "id": "fNPizK8G0o8G",
        "outputId": "9e6429df-9e3f-48ea-ef39-5939e9b10f0b"
      },
      "source": [
        "qual_level_lo = fuzz.interp_membership(x_qual, qual_lo, foodQuality)\n",
        "qual_level_md = fuzz.interp_membership(x_qual, qual_md, foodQuality)\n",
        "qual_level_hi = fuzz.interp_membership(x_qual, qual_hi, foodQuality)\n",
        "\n",
        "print('Bylo jídlo špatné?', qual_level_lo)\n",
        "print('Bylo jídlo průměrné?', qual_level_md)\n",
        "print('Bylo jídlo dobré?', qual_level_hi)"
      ],
      "execution_count": 20,
      "outputs": [
        {
          "output_type": "stream",
          "text": [
            "Bylo jídlo špatné? 0.0\n",
            "Bylo jídlo průměrné? 0.7\n",
            "Bylo jídlo dobré? 0.30000000000000004\n"
          ],
          "name": "stdout"
        }
      ]
    },
    {
      "cell_type": "markdown",
      "metadata": {
        "id": "M8RiZNqx2WvU"
      },
      "source": [
        "#### Kvalita obsluhy"
      ]
    },
    {
      "cell_type": "code",
      "metadata": {
        "colab": {
          "base_uri": "https://localhost:8080/",
          "height": 299
        },
        "id": "C-0W43e116cG",
        "outputId": "c51ce6c7-9e3f-4ef8-8e2e-4838b2a11287"
      },
      "source": [
        "plt.plot(x_serv, serv_lo, 'b', linewidth=1.5, label='Low')\n",
        "plt.plot(x_serv, serv_md, 'g', linewidth=1.5, label='Medium')\n",
        "plt.plot(x_serv, serv_hi, 'r', linewidth=1.5, label='Good')\n",
        "plt.title('Service quality')\n",
        "plt.axvline(x=serviceQuality)"
      ],
      "execution_count": 21,
      "outputs": [
        {
          "output_type": "execute_result",
          "data": {
            "text/plain": [
              "<matplotlib.lines.Line2D at 0x7fe4aa38fed0>"
            ]
          },
          "metadata": {
            "tags": []
          },
          "execution_count": 21
        },
        {
          "output_type": "display_data",
          "data": {
            "image/png": "[encoded data removed]",
            "text/plain": [
              "<Figure size 432x288 with 1 Axes>"
            ]
          },
          "metadata": {
            "tags": [],
            "needs_background": "light"
          }
        }
      ]
    },
    {
      "cell_type": "code",
      "metadata": {
        "colab": {
          "base_uri": "https://localhost:8080/"
        },
        "id": "vb1qe0Co0pwm",
        "outputId": "11fb5b97-68c8-475c-b990-d158919921ef"
      },
      "source": [
        "serv_level_lo = fuzz.interp_membership(x_serv, serv_lo, 9.8)\n",
        "serv_level_md = fuzz.interp_membership(x_serv, serv_md, 9.8)\n",
        "serv_level_hi = fuzz.interp_membership(x_serv, serv_hi, 9.8)\n",
        "\n",
        "print('Byla obsluha špatná?', serv_level_lo)\n",
        "print('Byla obsluha průměrná?', serv_level_md)\n",
        "print('Byla obsluha dobrá?', serv_level_hi)"
      ],
      "execution_count": 22,
      "outputs": [
        {
          "output_type": "stream",
          "text": [
            "Byla obsluha špatná? 0.0\n",
            "Byla obsluha průměrná? 0.03999999999999987\n",
            "Byla obsluha dobrá? 0.9600000000000002\n"
          ],
          "name": "stdout"
        }
      ]
    },
    {
      "cell_type": "markdown",
      "metadata": {
        "id": "SveKOBPXH9lS"
      },
      "source": [
        "### Pravidlový systém"
      ]
    },
    {
      "cell_type": "markdown",
      "metadata": {
        "id": "rsbk-8bcIbzh"
      },
      "source": [
        "Pravidlový systém umožňuje definici if then pravidel nad fuzzy hodnotami.\n",
        "\n",
        "V našem příkladu pro výpočet spropitného definujeme tato pravidla:\n",
        "- **jestliže** jídlo bylo vynikající **nebo** obsluha byla skvělá **potom** je spropitné **vysoké**\n",
        "- **jestliže** obsluha byla dobrá **potom** je spropitné **střední**\n",
        "- **jestliže** jídlo bylo špatné **a** obsluha byla špatná **potom** je spropitné **nízké**"
      ]
    },
    {
      "cell_type": "code",
      "metadata": {
        "colab": {
          "base_uri": "https://localhost:8080/"
        },
        "id": "EI1ycg7k2_8O",
        "outputId": "19a02783-f0e1-4d37-817f-f2de717cbdf2"
      },
      "source": [
        "active_rule1 = np.fmax(qual_level_lo, serv_level_lo)\n",
        "print(active_rule1)\n",
        "\n",
        "# Now we apply this by clipping the top off the corresponding output\n",
        "# membership function with `np.fmin`\n",
        "tip_activation_lo = np.fmin(active_rule1, tip_lo)  # removed entirely to 0\n",
        "print(tip_activation_lo)"
      ],
      "execution_count": 23,
      "outputs": [
        {
          "output_type": "stream",
          "text": [
            "0.0\n",
            "[0. 0. 0. 0. 0. 0. 0. 0. 0. 0. 0. 0. 0. 0. 0. 0. 0. 0. 0. 0. 0. 0. 0. 0.\n",
            " 0. 0.]\n"
          ],
          "name": "stdout"
        }
      ]
    },
    {
      "cell_type": "code",
      "metadata": {
        "colab": {
          "base_uri": "https://localhost:8080/"
        },
        "id": "IYVMZx453QNf",
        "outputId": "bda173af-1ce1-4366-c8d6-834aa3cbc1bd"
      },
      "source": [
        "active_rule2 = serv_level_md\n",
        "print(active_rule2)\n",
        "tip_activation_md = np.fmin(active_rule2, tip_md)\n",
        "print(tip_activation_md)"
      ],
      "execution_count": 24,
      "outputs": [
        {
          "output_type": "stream",
          "text": [
            "0.03999999999999987\n",
            "[0.   0.04 0.04 0.04 0.04 0.04 0.04 0.04 0.04 0.04 0.04 0.04 0.04 0.04\n",
            " 0.04 0.04 0.04 0.04 0.04 0.04 0.04 0.04 0.04 0.04 0.04 0.  ]\n"
          ],
          "name": "stdout"
        }
      ]
    },
    {
      "cell_type": "code",
      "metadata": {
        "colab": {
          "base_uri": "https://localhost:8080/"
        },
        "id": "1eMtpi3H3W23",
        "outputId": "b521ca69-f0ca-488a-d8f3-5679b2a95e5b"
      },
      "source": [
        "active_rule3 = np.fmax(qual_level_hi, serv_level_hi)\n",
        "print(active_rule3)\n",
        "tip_activation_hi = np.fmin(active_rule3, tip_hi)\n",
        "print(tip_activation_hi)"
      ],
      "execution_count": 25,
      "outputs": [
        {
          "output_type": "stream",
          "text": [
            "0.9600000000000002\n",
            "[0.         0.         0.         0.         0.         0.\n",
            " 0.         0.         0.         0.         0.         0.\n",
            " 0.         0.         0.08333333 0.16666667 0.25       0.33333333\n",
            " 0.41666667 0.5        0.58333333 0.66666667 0.75       0.83333333\n",
            " 0.91666667 0.96      ]\n"
          ],
          "name": "stdout"
        }
      ]
    },
    {
      "cell_type": "code",
      "metadata": {
        "colab": {
          "base_uri": "https://localhost:8080/",
          "height": 299
        },
        "id": "CSADxuNt3ps2",
        "outputId": "cab9ff7f-e306-47dc-dc68-208fe4c96957"
      },
      "source": [
        "tip0 = np.zeros_like(x_tip)\n",
        "plt.fill_between(x_tip, tip0, tip_activation_lo, facecolor='b', alpha=0.7)\n",
        "plt.plot(x_tip, tip_lo, 'b', linewidth=0.5, linestyle='--', )\n",
        "plt.fill_between(x_tip, tip0, tip_activation_md, facecolor='g', alpha=0.7)\n",
        "plt.plot(x_tip, tip_md, 'g', linewidth=0.5, linestyle='--')\n",
        "plt.fill_between(x_tip, tip0, tip_activation_hi, facecolor='r', alpha=0.7)\n",
        "plt.plot(x_tip, tip_hi, 'r', linewidth=0.5, linestyle='--')\n",
        "plt.title('Output membership activity')"
      ],
      "execution_count": 26,
      "outputs": [
        {
          "output_type": "execute_result",
          "data": {
            "text/plain": [
              "Text(0.5, 1.0, 'Output membership activity')"
            ]
          },
          "metadata": {
            "tags": []
          },
          "execution_count": 26
        },
        {
          "output_type": "display_data",
          "data": {
            "image/png": "[encoded data removed]",
            "text/plain": [
              "<Figure size 432x288 with 1 Axes>"
            ]
          },
          "metadata": {
            "tags": [],
            "needs_background": "light"
          }
        }
      ]
    },
    {
      "cell_type": "markdown",
      "metadata": {
        "id": "llnYw8A8IAWB"
      },
      "source": [
        "### Defuzzyfikace"
      ]
    },
    {
      "cell_type": "code",
      "metadata": {
        "colab": {
          "base_uri": "https://localhost:8080/",
          "height": 318
        },
        "id": "8BZhzfOV4A7_",
        "outputId": "6494dafe-d726-4406-f445-d146247aa757"
      },
      "source": [
        "aggregated = np.fmax(tip_activation_lo,\n",
        "    np.fmax(tip_activation_md, tip_activation_hi))\n",
        "\n",
        "# Calculate defuzzified result\n",
        "tip = fuzz.defuzz(x_tip, aggregated, 'centroid')\n",
        "print(tip)\n",
        "tip_activation = fuzz.interp_membership(x_tip, aggregated, tip)  # for plot\n",
        "\n",
        "# Visualize this\n",
        "plt.plot(x_tip, tip_lo, 'b', linewidth=0.5, linestyle='--', )\n",
        "plt.plot(x_tip, tip_md, 'g', linewidth=0.5, linestyle='--')\n",
        "plt.plot(x_tip, tip_hi, 'r', linewidth=0.5, linestyle='--')\n",
        "plt.fill_between(x_tip, tip0, aggregated, facecolor='Orange', alpha=0.7)\n",
        "plt.plot([tip, tip], [0, tip_activation], 'k', linewidth=1.5, alpha=0.9)\n",
        "plt.title('Aggregated membership and result (line)')\n"
      ],
      "execution_count": 27,
      "outputs": [
        {
          "output_type": "stream",
          "text": [
            "19.86871794871795\n"
          ],
          "name": "stdout"
        },
        {
          "output_type": "execute_result",
          "data": {
            "text/plain": [
              "Text(0.5, 1.0, 'Aggregated membership and result (line)')"
            ]
          },
          "metadata": {
            "tags": []
          },
          "execution_count": 27
        },
        {
          "output_type": "display_data",
          "data": {
            "image/png": "[encoded data removed]",
            "text/plain": [
              "<Figure size 432x288 with 1 Axes>"
            ]
          },
          "metadata": {
            "tags": [],
            "needs_background": "light"
          }
        }
      ]
    },
    {
      "cell_type": "markdown",
      "metadata": {
        "id": "OKzHg6mv8B5U"
      },
      "source": [
        "## Využití fuzzy logiky pro hodnocení (HAP)\n",
        "\n",
        "![purple-divider](https://user-images.githubusercontent.com/7065401/52071927-c1cd7100-2562-11e9-908a-dde91ba14e59.png)"
      ]
    },
    {
      "cell_type": "markdown",
      "metadata": {
        "id": "9zxpta7D4eIZ"
      },
      "source": [
        "Pro implementaci systému Hodnocení akademických pracovníků byl využit obdobný mechanismus, jako v příkladu o spropitném.\n",
        "\n",
        "Každá fakulta na Univerzitě obrany má vlastní nastavené (kalibrované) stupnice. Základem je vytížení ve výuce a výsledky tvůrčí činnosti. Je zohledněna pozice hodnoceného (VK, proděkan, děkan, prorektor, ...) a jsou zahrnuty dílčí aktivity.\n",
        "\n",
        "**Konkrétní nastavení (MF ve FL) mi není známo**."
      ]
    },
    {
      "cell_type": "markdown",
      "metadata": {
        "id": "_oM-DpxK69Wg"
      },
      "source": [
        "Dá se očekávat, že pravidlový systém má následující charakter:\n",
        "\n",
        "- **jestliže** je AP výukou velmi vytížený **nebo** AP má vynikající výsledky **potom** je AP vynikající\n",
        "- **jestliže** je AP výukou nevytížený **a** AP má nulové výsledky **potom** je AP špatný"
      ]
    },
    {
      "cell_type": "markdown",
      "metadata": {
        "id": "wflu8jEQ8Jr2"
      },
      "source": [
        "## Závěr\n",
        "\n",
        "![purple-divider](https://user-images.githubusercontent.com/7065401/52071927-c1cd7100-2562-11e9-908a-dde91ba14e59.png)"
      ]
    },
    {
      "cell_type": "code",
      "metadata": {
        "id": "n8DGpflr4z6Q"
      },
      "source": [
        ""
      ],
      "execution_count": 27,
      "outputs": []
    },
    {
      "cell_type": "markdown",
      "metadata": {
        "id": "Z02ig1nz9dQb"
      },
      "source": [
        "# Institucionální podpora"
      ]
    },
    {
      "cell_type": "code",
      "metadata": {
        "colab": {
          "base_uri": "https://localhost:8080/"
        },
        "id": "7hoARCzZBjeO",
        "outputId": "9d67f5f7-4a9b-419d-9b3c-45821249b31c"
      },
      "source": [
        "!pip install scikit-fuzzy"
      ],
      "execution_count": 28,
      "outputs": [
        {
          "output_type": "stream",
          "text": [
            "Requirement already satisfied: scikit-fuzzy in /usr/local/lib/python3.7/dist-packages (0.4.2)\n",
            "Requirement already satisfied: networkx>=1.9.0 in /usr/local/lib/python3.7/dist-packages (from scikit-fuzzy) (2.5.1)\n",
            "Requirement already satisfied: numpy>=1.6.0 in /usr/local/lib/python3.7/dist-packages (from scikit-fuzzy) (1.19.5)\n",
            "Requirement already satisfied: scipy>=0.9.0 in /usr/local/lib/python3.7/dist-packages (from scikit-fuzzy) (1.4.1)\n",
            "Requirement already satisfied: decorator<5,>=4.3 in /usr/local/lib/python3.7/dist-packages (from networkx>=1.9.0->scikit-fuzzy) (4.4.2)\n"
          ],
          "name": "stdout"
        }
      ]
    },
    {
      "cell_type": "code",
      "metadata": {
        "id": "2zFoZCV7Aya2"
      },
      "source": [
        "import numpy as np\n",
        "import skfuzzy as fuzz\n",
        "import matplotlib.pyplot as plt"
      ],
      "execution_count": 29,
      "outputs": []
    },
    {
      "cell_type": "markdown",
      "metadata": {
        "id": "RRQGOx4s9pSg"
      },
      "source": [
        "## Kritéria\n",
        "\n",
        "![purple-divider](https://user-images.githubusercontent.com/7065401/52071927-c1cd7100-2562-11e9-908a-dde91ba14e59.png)"
      ]
    },
    {
      "cell_type": "markdown",
      "metadata": {
        "id": "dA2zLd9s9swt"
      },
      "source": [
        "Strategické dokumenty\n",
        "\n",
        "- vysoká korelace **VK** (10٭)\n",
        "- střední korelace **SK** (5٭)\n",
        "- nízká korelace **NK** (0٭)"
      ]
    },
    {
      "cell_type": "code",
      "metadata": {
        "colab": {
          "base_uri": "https://localhost:8080/"
        },
        "id": "a9H3EO4_A26k",
        "outputId": "2f55e5e1-ccdd-43cf-f9f4-fa10f69aef68"
      },
      "source": [
        "strategy_space = np.arange(0, 11, 1)\n",
        "strategy_lo = fuzz.trimf(strategy_space, [0, 0, 5])\n",
        "strategy_md = fuzz.trimf(strategy_space, [0, 5, 10])\n",
        "strategy_hi = fuzz.trimf(strategy_space, [5, 10, 10])\n",
        "print(strategy_space)\n",
        "print(strategy_lo)\n",
        "print(strategy_md)\n",
        "print(strategy_hi)"
      ],
      "execution_count": 30,
      "outputs": [
        {
          "output_type": "stream",
          "text": [
            "[ 0  1  2  3  4  5  6  7  8  9 10]\n",
            "[1.  0.8 0.6 0.4 0.2 0.  0.  0.  0.  0.  0. ]\n",
            "[0.  0.2 0.4 0.6 0.8 1.  0.8 0.6 0.4 0.2 0. ]\n",
            "[0.  0.  0.  0.  0.  0.  0.2 0.4 0.6 0.8 1. ]\n"
          ],
          "name": "stdout"
        }
      ]
    },
    {
      "cell_type": "code",
      "metadata": {
        "colab": {
          "base_uri": "https://localhost:8080/",
          "height": 299
        },
        "id": "C4hODw-sBMfj",
        "outputId": "fc3c1d30-2fc7-48dc-e99f-7d557215fe99"
      },
      "source": [
        "plt.plot(strategy_space, strategy_lo, 'b', linewidth=1.5, label='Nízká korelace')\n",
        "plt.plot(strategy_space, strategy_md, 'g', linewidth=1.5, label='Střední korelace')\n",
        "plt.plot(strategy_space, strategy_hi, 'r', linewidth=1.5, label='Vysoká korelace')\n",
        "plt.title('Strategické dokumenty')\n",
        "plt.legend()"
      ],
      "execution_count": 31,
      "outputs": [
        {
          "output_type": "execute_result",
          "data": {
            "text/plain": [
              "<matplotlib.legend.Legend at 0x7fe4aa1b1b90>"
            ]
          },
          "metadata": {
            "tags": []
          },
          "execution_count": 31
        },
        {
          "output_type": "display_data",
          "data": {
            "image/png": "[encoded data removed]",
            "text/plain": [
              "<Figure size 432x288 with 1 Axes>"
            ]
          },
          "metadata": {
            "tags": [],
            "needs_background": "light"
          }
        }
      ]
    },
    {
      "cell_type": "markdown",
      "metadata": {
        "id": "fT4e7Pia-OC4"
      },
      "source": [
        "Vědecký výkon\n",
        "\n",
        "- vysoký vědecký výkon **VV** (10٭)\n",
        "- střední vědecký výkon **SV** (5٭)\n",
        "- nízký vědecký výkon **NV** (0٭)\n"
      ]
    },
    {
      "cell_type": "code",
      "metadata": {
        "colab": {
          "base_uri": "https://localhost:8080/"
        },
        "id": "uPSp01X9By9i",
        "outputId": "10b572f6-e130-44ab-ea8c-dbc794c23d1e"
      },
      "source": [
        "science_space = np.arange(0, 11, 1)\n",
        "science_lo = fuzz.trimf(science_space, [0, 0, 5])\n",
        "science_md = fuzz.trimf(science_space, [0, 5, 10])\n",
        "science_hi = fuzz.trimf(science_space, [5, 10, 10])\n",
        "print(science_space)\n",
        "print(science_lo)\n",
        "print(science_md)\n",
        "print(science_hi)"
      ],
      "execution_count": 32,
      "outputs": [
        {
          "output_type": "stream",
          "text": [
            "[ 0  1  2  3  4  5  6  7  8  9 10]\n",
            "[1.  0.8 0.6 0.4 0.2 0.  0.  0.  0.  0.  0. ]\n",
            "[0.  0.2 0.4 0.6 0.8 1.  0.8 0.6 0.4 0.2 0. ]\n",
            "[0.  0.  0.  0.  0.  0.  0.2 0.4 0.6 0.8 1. ]\n"
          ],
          "name": "stdout"
        }
      ]
    },
    {
      "cell_type": "code",
      "metadata": {
        "colab": {
          "base_uri": "https://localhost:8080/",
          "height": 299
        },
        "id": "LLB6abVPB75_",
        "outputId": "e63f45ce-07c5-44c8-bd01-49a4be2506cf"
      },
      "source": [
        "plt.plot(science_space, science_lo, 'b', linewidth=1.5, label='Nízký výkon')\n",
        "plt.plot(science_space, science_md, 'g', linewidth=1.5, label='Střední výkon')\n",
        "plt.plot(science_space, science_hi, 'r', linewidth=1.5, label='Vysoký výkon')\n",
        "plt.title('Vědecký výkon')\n",
        "plt.legend()"
      ],
      "execution_count": 33,
      "outputs": [
        {
          "output_type": "execute_result",
          "data": {
            "text/plain": [
              "<matplotlib.legend.Legend at 0x7fe4b245fc90>"
            ]
          },
          "metadata": {
            "tags": []
          },
          "execution_count": 33
        },
        {
          "output_type": "display_data",
          "data": {
            "image/png": "[encoded data removed]",
            "text/plain": [
              "<Figure size 432x288 with 1 Axes>"
            ]
          },
          "metadata": {
            "tags": [],
            "needs_background": "light"
          }
        }
      ]
    },
    {
      "cell_type": "markdown",
      "metadata": {
        "id": "S6jSDnSs-tMC"
      },
      "source": [
        "Finanční prostředky\n",
        "\n",
        "- velký podíl **VP** (75%)\n",
        "- střední podíl **SP** (50%)\n",
        "- malý podíl **MP** (25%)"
      ]
    },
    {
      "cell_type": "code",
      "metadata": {
        "colab": {
          "base_uri": "https://localhost:8080/"
        },
        "id": "NhInqTgdCT43",
        "outputId": "70c29f85-df14-4781-d3a6-945a02f8b8f2"
      },
      "source": [
        "money_space = np.arange(0, 101, 5)\n",
        "money_lo = fuzz.trimf(money_space, [0, 0, 50])\n",
        "money_md = fuzz.trimf(money_space, [0, 50, 100])\n",
        "money_hi = fuzz.trimf(money_space, [50, 100, 100])\n",
        "print(science_space)\n",
        "print(money_lo)\n",
        "print(money_md)\n",
        "print(money_hi)"
      ],
      "execution_count": 44,
      "outputs": [
        {
          "output_type": "stream",
          "text": [
            "[ 0  1  2  3  4  5  6  7  8  9 10]\n",
            "[1.  0.9 0.8 0.7 0.6 0.5 0.4 0.3 0.2 0.1 0.  0.  0.  0.  0.  0.  0.  0.\n",
            " 0.  0.  0. ]\n",
            "[0.  0.1 0.2 0.3 0.4 0.5 0.6 0.7 0.8 0.9 1.  0.9 0.8 0.7 0.6 0.5 0.4 0.3\n",
            " 0.2 0.1 0. ]\n",
            "[0.  0.  0.  0.  0.  0.  0.  0.  0.  0.  0.  0.1 0.2 0.3 0.4 0.5 0.6 0.7\n",
            " 0.8 0.9 1. ]\n"
          ],
          "name": "stdout"
        }
      ]
    },
    {
      "cell_type": "code",
      "metadata": {
        "colab": {
          "base_uri": "https://localhost:8080/",
          "height": 299
        },
        "id": "JmyMan_2CV4p",
        "outputId": "4bd58ce7-a45d-4bc8-a168-4082d97704d9"
      },
      "source": [
        "plt.plot(money_space, money_lo, 'b', linewidth=1.5, label='Malý podíl')\n",
        "plt.plot(money_space, money_md, 'g', linewidth=1.5, label='Střední podíl')\n",
        "plt.plot(money_space, money_hi, 'r', linewidth=1.5, label='Velký podíl')\n",
        "plt.title('Finanční prostředky')\n",
        "plt.legend()"
      ],
      "execution_count": 46,
      "outputs": [
        {
          "output_type": "execute_result",
          "data": {
            "text/plain": [
              "<matplotlib.legend.Legend at 0x7fe4a9ebaf10>"
            ]
          },
          "metadata": {
            "tags": []
          },
          "execution_count": 46
        },
        {
          "output_type": "display_data",
          "data": {
            "image/png": "[encoded data removed]",
            "text/plain": [
              "<Figure size 432x288 with 1 Axes>"
            ]
          },
          "metadata": {
            "tags": [],
            "needs_background": "light"
          }
        }
      ]
    },
    {
      "cell_type": "markdown",
      "metadata": {
        "id": "EbrFrI7WeJJu"
      },
      "source": [
        "## Vstupní hodnoty\n",
        "\n",
        "![purple-divider](https://user-images.githubusercontent.com/7065401/52071927-c1cd7100-2562-11e9-908a-dde91ba14e59.png)"
      ]
    },
    {
      "cell_type": "markdown",
      "metadata": {
        "id": "chtyxtCPeQWZ"
      },
      "source": [
        "### Zadaný počet hvězdiček"
      ]
    },
    {
      "cell_type": "code",
      "metadata": {
        "id": "c0JzzXeAeOmp"
      },
      "source": [
        "FakultaX_Kriterium1 = 7 # 7 z 10 # strategicke dokumenty\n",
        "FakultaX_Kriterium2 = 5 # 7 z 10 # vedecky vykon\n",
        "\n",
        "FakultaY_Kriterium1 = 3 # 7 z 10 # strategicke dokumenty\n",
        "FakultaY_Kriterium2 = 6 # 7 z 10 # vedecky vykon\n",
        "\n",
        "FakultaZ_Kriterium1 = 7 # 7 z 10 # strategicke dokumenty\n",
        "FakultaZ_Kriterium2 = 3 # 7 z 10 # vedecky vykon"
      ],
      "execution_count": 47,
      "outputs": []
    },
    {
      "cell_type": "markdown",
      "metadata": {
        "id": "-5jTYL8igY68"
      },
      "source": [
        "### Kritérium 1"
      ]
    },
    {
      "cell_type": "code",
      "metadata": {
        "colab": {
          "base_uri": "https://localhost:8080/"
        },
        "id": "jOnXgRq8e7Ft",
        "outputId": "ffd1b34a-ade0-46d5-c9c5-7238ec7f4397"
      },
      "source": [
        "FakultaX_strategy_lo = fuzz.interp_membership(strategy_space, strategy_lo, FakultaX_Kriterium1)\n",
        "FakultaX_strategy_md = fuzz.interp_membership(strategy_space, strategy_md, FakultaX_Kriterium1)\n",
        "FakultaX_strategy_hi = fuzz.interp_membership(strategy_space, strategy_hi, FakultaX_Kriterium1)\n",
        "\n",
        "print('Fakulta X')\n",
        "print('Soulad se strategiemi nízký?', FakultaX_strategy_lo)\n",
        "print('Soulad se strategiemi průměrný?', FakultaX_strategy_md)\n",
        "print('Soulad se strategiemi vysoký?', FakultaX_strategy_hi)"
      ],
      "execution_count": 51,
      "outputs": [
        {
          "output_type": "stream",
          "text": [
            "Fakulta X\n",
            "Soulad se strategiemi nízký? 0.0\n",
            "Soulad se strategiemi průměrný? 0.6\n",
            "Soulad se strategiemi vysoký? 0.4\n"
          ],
          "name": "stdout"
        }
      ]
    },
    {
      "cell_type": "code",
      "metadata": {
        "colab": {
          "base_uri": "https://localhost:8080/"
        },
        "id": "_nMrWxBPf_8q",
        "outputId": "7774bbcc-5f95-4598-b4a4-4bb829470c9b"
      },
      "source": [
        "FakultaY_strategy_lo = fuzz.interp_membership(strategy_space, strategy_lo, FakultaY_Kriterium1)\n",
        "FakultaY_strategy_md = fuzz.interp_membership(strategy_space, strategy_md, FakultaY_Kriterium1)\n",
        "FakultaY_strategy_hi = fuzz.interp_membership(strategy_space, strategy_hi, FakultaY_Kriterium1)\n",
        "\n",
        "print('Fakulta Y')\n",
        "print('Soulad se strategiemi nízký?', FakultaY_strategy_lo)\n",
        "print('Soulad se strategiemi průměrný?', FakultaY_strategy_md)\n",
        "print('Soulad se strategiemi vysoký?', FakultaY_strategy_hi)"
      ],
      "execution_count": 52,
      "outputs": [
        {
          "output_type": "stream",
          "text": [
            "Fakulta Y\n",
            "Soulad se strategiemi nízký? 0.4\n",
            "Soulad se strategiemi průměrný? 0.6\n",
            "Soulad se strategiemi vysoký? 0.0\n"
          ],
          "name": "stdout"
        }
      ]
    },
    {
      "cell_type": "code",
      "metadata": {
        "colab": {
          "base_uri": "https://localhost:8080/"
        },
        "id": "fseCRqpdgIlj",
        "outputId": "d39a8349-08d6-4568-952a-08ff106db231"
      },
      "source": [
        "FakultaZ_strategy_lo = fuzz.interp_membership(strategy_space, strategy_lo, FakultaZ_Kriterium1)\n",
        "FakultaZ_strategy_md = fuzz.interp_membership(strategy_space, strategy_md, FakultaZ_Kriterium1)\n",
        "FakultaZ_strategy_hi = fuzz.interp_membership(strategy_space, strategy_hi, FakultaZ_Kriterium1)\n",
        "\n",
        "print('Fakulta Z')\n",
        "print('Soulad se strategiemi nízký?', FakultaZ_strategy_lo)\n",
        "print('Soulad se strategiemi průměrný?', FakultaZ_strategy_md)\n",
        "print('Soulad se strategiemi vysoký?', FakultaZ_strategy_hi)"
      ],
      "execution_count": 53,
      "outputs": [
        {
          "output_type": "stream",
          "text": [
            "Fakulta Z\n",
            "Soulad se strategiemi nízký? 0.0\n",
            "Soulad se strategiemi průměrný? 0.6\n",
            "Soulad se strategiemi vysoký? 0.4\n"
          ],
          "name": "stdout"
        }
      ]
    },
    {
      "cell_type": "markdown",
      "metadata": {
        "id": "dGdr8y09gcYg"
      },
      "source": [
        "### Kritérium 2"
      ]
    },
    {
      "cell_type": "code",
      "metadata": {
        "colab": {
          "base_uri": "https://localhost:8080/"
        },
        "id": "YHe8ZvbPgeFc",
        "outputId": "12514315-c537-4822-be7f-5dcacf0250a3"
      },
      "source": [
        "FakultaX_science_lo = fuzz.interp_membership(science_space, science_lo, FakultaX_Kriterium2)\n",
        "FakultaX_science_md = fuzz.interp_membership(science_space, science_md, FakultaX_Kriterium2)\n",
        "FakultaX_science_hi = fuzz.interp_membership(science_space, science_hi, FakultaX_Kriterium2)\n",
        "\n",
        "print('Fakulta X')\n",
        "print('Vědecký výkon nízký?', FakultaX_science_lo)\n",
        "print('Vědecký výkon průměrný?', FakultaX_science_md)\n",
        "print('Vědecký výkon vysoký?', FakultaX_science_hi)"
      ],
      "execution_count": 55,
      "outputs": [
        {
          "output_type": "stream",
          "text": [
            "Fakulta X\n",
            "Vědecký výkon nízký? 0.0\n",
            "Vědecký výkon průměrný? 1.0\n",
            "Vědecký výkon vysoký? 0.0\n"
          ],
          "name": "stdout"
        }
      ]
    },
    {
      "cell_type": "code",
      "metadata": {
        "colab": {
          "base_uri": "https://localhost:8080/"
        },
        "id": "15T4Wer8grQT",
        "outputId": "0fde2cbc-6495-4b32-f9b5-46695e010cd2"
      },
      "source": [
        "FakultaY_science_lo = fuzz.interp_membership(science_space, science_lo, FakultaY_Kriterium2)\n",
        "FakultaY_science_md = fuzz.interp_membership(science_space, science_md, FakultaY_Kriterium2)\n",
        "FakultaY_science_hi = fuzz.interp_membership(science_space, science_hi, FakultaY_Kriterium2)\n",
        "\n",
        "print('Fakulta Y')\n",
        "print('Vědecký výkon nízký?', FakultaY_science_lo)\n",
        "print('Vědecký výkon průměrný?', FakultaY_science_md)\n",
        "print('Vědecký výkon vysoký?', FakultaY_science_hi)"
      ],
      "execution_count": 56,
      "outputs": [
        {
          "output_type": "stream",
          "text": [
            "Fakulta Y\n",
            "Vědecký výkon nízký? 0.0\n",
            "Vědecký výkon průměrný? 0.8\n",
            "Vědecký výkon vysoký? 0.2\n"
          ],
          "name": "stdout"
        }
      ]
    },
    {
      "cell_type": "code",
      "metadata": {
        "colab": {
          "base_uri": "https://localhost:8080/"
        },
        "id": "U7q58dZQgrkY",
        "outputId": "3d51cebf-4cd8-40aa-c1ee-382a3d24d2fc"
      },
      "source": [
        "FakultaZ_science_lo = fuzz.interp_membership(science_space, science_lo, FakultaZ_Kriterium2)\n",
        "FakultaZ_science_md = fuzz.interp_membership(science_space, science_md, FakultaZ_Kriterium2)\n",
        "FakultaZ_science_hi = fuzz.interp_membership(science_space, science_hi, FakultaZ_Kriterium2)\n",
        "\n",
        "print('Fakulta Z')\n",
        "print('Vědecký výkon nízký?', FakultaZ_science_lo)\n",
        "print('Vědecký výkon průměrný?', FakultaZ_science_md)\n",
        "print('Vědecký výkon vysoký?', FakultaZ_science_hi)"
      ],
      "execution_count": 57,
      "outputs": [
        {
          "output_type": "stream",
          "text": [
            "Fakulta Z\n",
            "Vědecký výkon nízký? 0.4\n",
            "Vědecký výkon průměrný? 0.6\n",
            "Vědecký výkon vysoký? 0.0\n"
          ],
          "name": "stdout"
        }
      ]
    },
    {
      "cell_type": "markdown",
      "metadata": {
        "id": "E3HXTXtP_s0u"
      },
      "source": [
        "## Pravidla\n",
        "\n",
        "![purple-divider](https://user-images.githubusercontent.com/7065401/52071927-c1cd7100-2562-11e9-908a-dde91ba14e59.png)"
      ]
    },
    {
      "cell_type": "markdown",
      "metadata": {
        "id": "wkIYJcQ7_uhw"
      },
      "source": [
        "- if **VK** and **VV** then **VP**\n",
        "- if (**SK** and **VV**) or (**VK** and **SV**) then **SP**\n",
        "- if **NK** or **NV** then **MP**"
      ]
    },
    {
      "cell_type": "code",
      "metadata": {
        "colab": {
          "base_uri": "https://localhost:8080/"
        },
        "id": "KZfgVqd39hP9",
        "outputId": "7d05cd0d-5aef-4d4f-c6f9-0ad834ad2fbf"
      },
      "source": [
        "FakultaX_rule1 = np.fmin(FakultaX_strategy_hi, FakultaX_science_hi)\n",
        "FakultaY_rule1 = np.fmin(FakultaY_strategy_hi, FakultaY_science_hi)\n",
        "FakultaZ_rule1 = np.fmin(FakultaZ_strategy_hi, FakultaZ_science_hi)\n",
        "\n",
        "FakultaX_rule2 = np.fmax(np.fmin(FakultaX_strategy_hi, FakultaX_science_md), np.fmin(FakultaX_strategy_md, FakultaX_science_hi))\n",
        "FakultaY_rule2 = np.fmax(np.fmin(FakultaY_strategy_hi, FakultaY_science_md), np.fmin(FakultaY_strategy_md, FakultaY_science_hi))\n",
        "FakultaZ_rule2 = np.fmax(np.fmin(FakultaZ_strategy_hi, FakultaZ_science_md), np.fmin(FakultaZ_strategy_md, FakultaZ_science_hi))\n",
        "\n",
        "FakultaX_rule2 = np.fmax(FakultaX_science_md, FakultaX_strategy_md)\n",
        "FakultaY_rule2 = np.fmax(FakultaY_science_md, FakultaY_strategy_md)\n",
        "FakultaZ_rule2 = np.fmax(FakultaZ_science_md, FakultaZ_strategy_md)\n",
        "\n",
        "FakultaX_rule3 = np.fmin(FakultaX_strategy_lo, FakultaX_science_lo)\n",
        "FakultaY_rule3 = np.fmin(FakultaY_strategy_lo, FakultaY_science_lo)\n",
        "FakultaZ_rule3 = np.fmin(FakultaZ_strategy_lo, FakultaZ_science_lo)\n",
        "\n",
        "\n",
        "FakultaX_money_hi = np.fmin(FakultaX_rule1, money_hi)\n",
        "FakultaX_money_md = np.fmin(FakultaX_rule2, money_md)\n",
        "FakultaX_money_lo = np.fmin(FakultaX_rule3, money_lo)\n",
        "\n",
        "FakultaY_money_hi = np.fmin(FakultaY_rule1, money_hi)\n",
        "FakultaY_money_md = np.fmin(FakultaY_rule2, money_md)\n",
        "FakultaY_money_lo = np.fmin(FakultaY_rule3, money_lo)\n",
        "\n",
        "FakultaZ_money_hi = np.fmin(FakultaZ_rule1, money_hi)\n",
        "FakultaZ_money_md = np.fmin(FakultaZ_rule2, money_md)\n",
        "FakultaZ_money_lo = np.fmin(FakultaZ_rule3, money_lo)\n",
        "\n",
        "FakultaX_aggregated = np.fmax(FakultaX_money_hi,\n",
        "    np.fmax(FakultaX_money_md, FakultaX_money_lo))\n",
        "FakultaY_aggregated = np.fmax(FakultaY_money_hi,\n",
        "    np.fmax(FakultaY_money_md, FakultaY_money_lo))\n",
        "FakultaZ_aggregated = np.fmax(FakultaZ_money_hi,\n",
        "    np.fmax(FakultaZ_money_md, FakultaZ_money_lo))\n",
        "\n",
        "# Calculate defuzzified result\n",
        "FakultaX_money_level = fuzz.defuzz(money_space, FakultaX_aggregated, 'centroid')\n",
        "FakultaY_money_level = fuzz.defuzz(money_space, FakultaY_aggregated, 'centroid')\n",
        "FakultaZ_money_level = fuzz.defuzz(money_space, FakultaZ_aggregated, 'centroid')\n",
        "\n",
        "print(FakultaX_money_level)\n",
        "print(FakultaY_money_level)\n",
        "print(FakultaZ_money_level)"
      ],
      "execution_count": 67,
      "outputs": [
        {
          "output_type": "stream",
          "text": [
            "49.99999999999999\n",
            "49.99999999999999\n",
            "50.0\n"
          ],
          "name": "stdout"
        }
      ]
    },
    {
      "cell_type": "markdown",
      "metadata": {
        "id": "p6rCdtNwKrBI"
      },
      "source": [
        "## Vše v jednom"
      ]
    },
    {
      "cell_type": "code",
      "metadata": {
        "id": "yRh8JpDzKujL"
      },
      "source": [
        "def evaluateFa(kriterium1, kriterium2):\n",
        "    FakultaX_strategy_lo = fuzz.interp_membership(strategy_space, strategy_lo, kriterium1)\n",
        "    FakultaX_strategy_md = fuzz.interp_membership(strategy_space, strategy_md, kriterium1)\n",
        "    FakultaX_strategy_hi = fuzz.interp_membership(strategy_space, strategy_hi, kriterium1)\n",
        "\n",
        "    FakultaX_science_lo = fuzz.interp_membership(science_space, science_lo, kriterium2)\n",
        "    FakultaX_science_md = fuzz.interp_membership(science_space, science_md, kriterium2)\n",
        "    FakultaX_science_hi = fuzz.interp_membership(science_space, science_hi, kriterium2)\n",
        "\n",
        "    FakultaX_rule1 = np.fmin(FakultaX_strategy_hi, FakultaX_science_hi)\n",
        "    FakultaX_rule2 = np.fmax(np.fmin(FakultaX_strategy_hi, FakultaX_science_md), np.fmin(FakultaX_strategy_md, FakultaX_science_hi))\n",
        "    FakultaX_rule3 = np.fmin(FakultaX_strategy_lo, FakultaX_science_lo)\n",
        "\n",
        "    FakultaX_money_hi = np.fmin(FakultaX_rule1, money_hi)\n",
        "    FakultaX_money_md = np.fmin(FakultaX_rule2, money_md)\n",
        "    FakultaX_money_lo = np.fmin(FakultaX_rule3, money_lo)\n",
        "\n",
        "    FakultaX_aggregated = np.fmax(FakultaX_money_hi,\n",
        "        np.fmax(FakultaX_money_md, FakultaX_money_lo))\n",
        "\n",
        "    # Calculate defuzzified result\n",
        "    FakultaX_money_level = fuzz.defuzz(money_space, FakultaX_aggregated, 'centroid')\n",
        "\n",
        "    return FakultaX_money_level"
      ],
      "execution_count": 62,
      "outputs": []
    },
    {
      "cell_type": "code",
      "metadata": {
        "id": "eS1wLVmMD1dW",
        "outputId": "2b286148-1497-48cd-ef44-2bf03a322385",
        "colab": {
          "base_uri": "https://localhost:8080/"
        }
      },
      "source": [
        "print(evaluateFa(10, 10))\n",
        "print(evaluateFa(1, 1))"
      ],
      "execution_count": 66,
      "outputs": [
        {
          "output_type": "stream",
          "text": [
            "83.33333333333331\n",
            "17.222222222222225\n"
          ],
          "name": "stdout"
        }
      ]
    },
    {
      "cell_type": "code",
      "metadata": {
        "id": "x-Lrm9UMLs-Q"
      },
      "source": [
        ""
      ],
      "execution_count": null,
      "outputs": []
    }
  ]
}