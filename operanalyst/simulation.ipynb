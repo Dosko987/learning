{
  "nbformat": 4,
  "nbformat_minor": 0,
  "metadata": {
    "colab": {
      "name": "simulation.ipynb",
      "provenance": [],
      "toc_visible": true,
      "authorship_tag": "ABX9TyOnBXC34LNUVQxC4mTEBa4W",
      "include_colab_link": true
    },
    "kernelspec": {
      "name": "python3",
      "display_name": "Python 3"
    }
  },
  "cells": [
    {
      "cell_type": "markdown",
      "metadata": {
        "id": "view-in-github",
        "colab_type": "text"
      },
      "source": [
        "<a href=\"https://colab.research.google.com/github/hrbolek/learning/blob/master/operanalyst/simulation.ipynb\" target=\"_parent\"><img src=\"https://colab.research.google.com/assets/colab-badge.svg\" alt=\"Open In Colab\"/></a>"
      ]
    },
    {
      "cell_type": "markdown",
      "metadata": {
        "id": "HbN9OOi7NTiO",
        "colab_type": "text"
      },
      "source": [
        "# Quite Complex Simulation"
      ]
    },
    {
      "cell_type": "markdown",
      "metadata": {
        "id": "17YDAJpDNX0W",
        "colab_type": "text"
      },
      "source": [
        "### Inevitable Imports"
      ]
    },
    {
      "cell_type": "code",
      "metadata": {
        "id": "j-mvL6QHJXo4",
        "colab_type": "code",
        "colab": {}
      },
      "source": [
        "import scipy.integrate as integrate\n",
        "import matplotlib.pyplot as plt\n",
        "\n",
        "from math import sqrt\n",
        "import numpy as np\n",
        "\n",
        "simulatedObjects = []\n"
      ],
      "execution_count": 0,
      "outputs": []
    },
    {
      "cell_type": "markdown",
      "metadata": {
        "id": "SkTzAp1Teo3P",
        "colab_type": "text"
      },
      "source": [
        "### Display functions "
      ]
    },
    {
      "cell_type": "code",
      "metadata": {
        "id": "gz1N8dypVJLm",
        "colab_type": "code",
        "outputId": "1a101eec-67cd-4403-a032-b13676d101f9",
        "colab": {
          "base_uri": "https://localhost:8080/",
          "height": 562
        }
      },
      "source": [
        "import pandas as pd\n",
        "\n",
        "def displayData(data):\n",
        "  display(pd.DataFrame(data))\n",
        "\n",
        "def plotData(data, x = 0, y = 1, ax = None):\n",
        "  df = pd.DataFrame(data)\n",
        "  #display(df)\n",
        "  newax = None\n",
        "  if ax is None:\n",
        "    newax = df.plot.line(x = x, y = y)\n",
        "  else:\n",
        "    newax = df.plot.line(x = x, y = y, ax = ax)\n",
        "  return newax\n",
        "\n",
        "#=================#\n",
        "# example of use  #\n",
        "#=================#\n",
        "data = [(0, 0), (1, 1), (2, 4), (3, 9), (4, 16), (5, 25), (6, 36), (7, 49)]\n",
        "plotData(data)\n",
        "displayData(data)\n"
      ],
      "execution_count": 461,
      "outputs": [
        {
          "output_type": "display_data",
          "data": {
            "text/html": [
              "<div>\n",
              "<style scoped>\n",
              "    .dataframe tbody tr th:only-of-type {\n",
              "        vertical-align: middle;\n",
              "    }\n",
              "\n",
              "    .dataframe tbody tr th {\n",
              "        vertical-align: top;\n",
              "    }\n",
              "\n",
              "    .dataframe thead th {\n",
              "        text-align: right;\n",
              "    }\n",
              "</style>\n",
              "<table border=\"1\" class=\"dataframe\">\n",
              "  <thead>\n",
              "    <tr style=\"text-align: right;\">\n",
              "      <th></th>\n",
              "      <th>0</th>\n",
              "      <th>1</th>\n",
              "    </tr>\n",
              "  </thead>\n",
              "  <tbody>\n",
              "    <tr>\n",
              "      <th>0</th>\n",
              "      <td>0</td>\n",
              "      <td>0</td>\n",
              "    </tr>\n",
              "    <tr>\n",
              "      <th>1</th>\n",
              "      <td>1</td>\n",
              "      <td>1</td>\n",
              "    </tr>\n",
              "    <tr>\n",
              "      <th>2</th>\n",
              "      <td>2</td>\n",
              "      <td>4</td>\n",
              "    </tr>\n",
              "    <tr>\n",
              "      <th>3</th>\n",
              "      <td>3</td>\n",
              "      <td>9</td>\n",
              "    </tr>\n",
              "    <tr>\n",
              "      <th>4</th>\n",
              "      <td>4</td>\n",
              "      <td>16</td>\n",
              "    </tr>\n",
              "    <tr>\n",
              "      <th>5</th>\n",
              "      <td>5</td>\n",
              "      <td>25</td>\n",
              "    </tr>\n",
              "    <tr>\n",
              "      <th>6</th>\n",
              "      <td>6</td>\n",
              "      <td>36</td>\n",
              "    </tr>\n",
              "    <tr>\n",
              "      <th>7</th>\n",
              "      <td>7</td>\n",
              "      <td>49</td>\n",
              "    </tr>\n",
              "  </tbody>\n",
              "</table>\n",
              "</div>"
            ],
            "text/plain": [
              "   0   1\n",
              "0  0   0\n",
              "1  1   1\n",
              "2  2   4\n",
              "3  3   9\n",
              "4  4  16\n",
              "5  5  25\n",
              "6  6  36\n",
              "7  7  49"
            ]
          },
          "metadata": {
            "tags": []
          }
        },
        {
          "output_type": "display_data",
          "data": {
            "image/png": "[encoded data removed]",
            "text/plain": [
              "<Figure size 432x288 with 1 Axes>"
            ]
          },
          "metadata": {
            "tags": [],
            "needs_background": "light"
          }
        }
      ]
    },
    {
      "cell_type": "markdown",
      "metadata": {
        "id": "wU1rhL7KNeOC",
        "colab_type": "text"
      },
      "source": [
        "### Operators on Data Streams"
      ]
    },
    {
      "cell_type": "code",
      "metadata": {
        "id": "sFC0kuDLzUF5",
        "colab_type": "code",
        "outputId": "9e3569d5-b5a2-4a4a-8c4c-b4b2f4299c4f",
        "colab": {
          "base_uri": "https://localhost:8080/",
          "height": 553
        }
      },
      "source": [
        "def skip(generator, count):\n",
        "  innerGen = iter(generator)\n",
        "  for index in range(count):\n",
        "    next(innerGen)\n",
        "  return innerGen\n",
        "\n",
        "def take(generator, count):\n",
        "  innerGen = iter(generator)\n",
        "  for index in range(count):\n",
        "    yield next(innerGen)\n",
        "\n",
        "def dilute(generator, ratio):\n",
        "  innerGen = iter(generator)\n",
        "  while True:\n",
        "    skip(innerGen, ratio - 1)\n",
        "    yield next(innerGen)\n",
        "\n",
        "#=================#\n",
        "# example of use  #\n",
        "#=================#\n",
        "data = [(0, 0), (1, 1), (2, 4), (3, 9), (4, 16), (5, 25), (6, 36), (7, 49)]\n",
        "partOfData = take(skip(data, 5), 2) # skip five, take two next, rest blow up\n",
        "dilutedData = dilute(data, 2)\n",
        "displayData(data)\n",
        "displayData(partOfData)\n",
        "displayData(dilutedData)\n"
      ],
      "execution_count": 462,
      "outputs": [
        {
          "output_type": "display_data",
          "data": {
            "text/html": [
              "<div>\n",
              "<style scoped>\n",
              "    .dataframe tbody tr th:only-of-type {\n",
              "        vertical-align: middle;\n",
              "    }\n",
              "\n",
              "    .dataframe tbody tr th {\n",
              "        vertical-align: top;\n",
              "    }\n",
              "\n",
              "    .dataframe thead th {\n",
              "        text-align: right;\n",
              "    }\n",
              "</style>\n",
              "<table border=\"1\" class=\"dataframe\">\n",
              "  <thead>\n",
              "    <tr style=\"text-align: right;\">\n",
              "      <th></th>\n",
              "      <th>0</th>\n",
              "      <th>1</th>\n",
              "    </tr>\n",
              "  </thead>\n",
              "  <tbody>\n",
              "    <tr>\n",
              "      <th>0</th>\n",
              "      <td>0</td>\n",
              "      <td>0</td>\n",
              "    </tr>\n",
              "    <tr>\n",
              "      <th>1</th>\n",
              "      <td>1</td>\n",
              "      <td>1</td>\n",
              "    </tr>\n",
              "    <tr>\n",
              "      <th>2</th>\n",
              "      <td>2</td>\n",
              "      <td>4</td>\n",
              "    </tr>\n",
              "    <tr>\n",
              "      <th>3</th>\n",
              "      <td>3</td>\n",
              "      <td>9</td>\n",
              "    </tr>\n",
              "    <tr>\n",
              "      <th>4</th>\n",
              "      <td>4</td>\n",
              "      <td>16</td>\n",
              "    </tr>\n",
              "    <tr>\n",
              "      <th>5</th>\n",
              "      <td>5</td>\n",
              "      <td>25</td>\n",
              "    </tr>\n",
              "    <tr>\n",
              "      <th>6</th>\n",
              "      <td>6</td>\n",
              "      <td>36</td>\n",
              "    </tr>\n",
              "    <tr>\n",
              "      <th>7</th>\n",
              "      <td>7</td>\n",
              "      <td>49</td>\n",
              "    </tr>\n",
              "  </tbody>\n",
              "</table>\n",
              "</div>"
            ],
            "text/plain": [
              "   0   1\n",
              "0  0   0\n",
              "1  1   1\n",
              "2  2   4\n",
              "3  3   9\n",
              "4  4  16\n",
              "5  5  25\n",
              "6  6  36\n",
              "7  7  49"
            ]
          },
          "metadata": {
            "tags": []
          }
        },
        {
          "output_type": "display_data",
          "data": {
            "text/html": [
              "<div>\n",
              "<style scoped>\n",
              "    .dataframe tbody tr th:only-of-type {\n",
              "        vertical-align: middle;\n",
              "    }\n",
              "\n",
              "    .dataframe tbody tr th {\n",
              "        vertical-align: top;\n",
              "    }\n",
              "\n",
              "    .dataframe thead th {\n",
              "        text-align: right;\n",
              "    }\n",
              "</style>\n",
              "<table border=\"1\" class=\"dataframe\">\n",
              "  <thead>\n",
              "    <tr style=\"text-align: right;\">\n",
              "      <th></th>\n",
              "      <th>0</th>\n",
              "      <th>1</th>\n",
              "    </tr>\n",
              "  </thead>\n",
              "  <tbody>\n",
              "    <tr>\n",
              "      <th>0</th>\n",
              "      <td>5</td>\n",
              "      <td>25</td>\n",
              "    </tr>\n",
              "    <tr>\n",
              "      <th>1</th>\n",
              "      <td>6</td>\n",
              "      <td>36</td>\n",
              "    </tr>\n",
              "  </tbody>\n",
              "</table>\n",
              "</div>"
            ],
            "text/plain": [
              "   0   1\n",
              "0  5  25\n",
              "1  6  36"
            ]
          },
          "metadata": {
            "tags": []
          }
        },
        {
          "output_type": "display_data",
          "data": {
            "text/html": [
              "<div>\n",
              "<style scoped>\n",
              "    .dataframe tbody tr th:only-of-type {\n",
              "        vertical-align: middle;\n",
              "    }\n",
              "\n",
              "    .dataframe tbody tr th {\n",
              "        vertical-align: top;\n",
              "    }\n",
              "\n",
              "    .dataframe thead th {\n",
              "        text-align: right;\n",
              "    }\n",
              "</style>\n",
              "<table border=\"1\" class=\"dataframe\">\n",
              "  <thead>\n",
              "    <tr style=\"text-align: right;\">\n",
              "      <th></th>\n",
              "      <th>0</th>\n",
              "      <th>1</th>\n",
              "    </tr>\n",
              "  </thead>\n",
              "  <tbody>\n",
              "    <tr>\n",
              "      <th>0</th>\n",
              "      <td>1</td>\n",
              "      <td>1</td>\n",
              "    </tr>\n",
              "    <tr>\n",
              "      <th>1</th>\n",
              "      <td>3</td>\n",
              "      <td>9</td>\n",
              "    </tr>\n",
              "    <tr>\n",
              "      <th>2</th>\n",
              "      <td>5</td>\n",
              "      <td>25</td>\n",
              "    </tr>\n",
              "    <tr>\n",
              "      <th>3</th>\n",
              "      <td>7</td>\n",
              "      <td>49</td>\n",
              "    </tr>\n",
              "  </tbody>\n",
              "</table>\n",
              "</div>"
            ],
            "text/plain": [
              "   0   1\n",
              "0  1   1\n",
              "1  3   9\n",
              "2  5  25\n",
              "3  7  49"
            ]
          },
          "metadata": {
            "tags": []
          }
        }
      ]
    },
    {
      "cell_type": "markdown",
      "metadata": {
        "id": "9omyG5xULFnU",
        "colab_type": "text"
      },
      "source": [
        "$\\left(\\right)$"
      ]
    },
    {
      "cell_type": "markdown",
      "metadata": {
        "id": "SKvNto9TeuVk",
        "colab_type": "text"
      },
      "source": [
        "### Compute One Step function"
      ]
    },
    {
      "cell_type": "code",
      "metadata": {
        "id": "awTQITuNdigQ",
        "colab_type": "code",
        "outputId": "9889eedf-6bec-4069-f66a-6384aa353bec",
        "colab": {
          "base_uri": "https://localhost:8080/",
          "height": 279
        }
      },
      "source": [
        "def compute(model, state0, t0 = 0.0, t_bound = 10, max_step = 0.0625):\n",
        "  solver = integrate.RK45(fun = model, t0 = t0, y0 = state0, t_bound = t_bound, max_step = max_step)\n",
        "\n",
        "  while True:\n",
        "    message = solver.step()\n",
        "    currentItem = {'time': solver.t, 'state': [*solver.y], 'stateD': [*model(solver.t, solver.y)]}\n",
        "\n",
        "    yield currentItem\n",
        "    if (not(solver.status == 'running')):\n",
        "        break\n",
        "  return\n",
        "\n",
        "#=================#\n",
        "# example of use  #\n",
        "#=================#\n",
        "def model2D(time, state):\n",
        "  velocity = state[:2]\n",
        "  position = state[2:]\n",
        "  acceleration = [0, -9.81]\n",
        "  return [*acceleration, *velocity]\n",
        "\n",
        "sim = compute(model2D, [10, 10, 0, 0])\n",
        "result = []\n",
        "for index, state in enumerate(sim):\n",
        "  result.append(state)\n",
        "  if index == 34: #magic number\n",
        "    break\n",
        "\n",
        "xy = list(map(lambda item: tuple(item['state']), result))\n",
        "plotData(xy, x = 2, y = 3)\n",
        "plt.grid(which='both')"
      ],
      "execution_count": 463,
      "outputs": [
        {
          "output_type": "display_data",
          "data": {
            "image/png": "[encoded data removed]",
            "text/plain": [
              "<Figure size 432x288 with 1 Axes>"
            ]
          },
          "metadata": {
            "tags": [],
            "needs_background": "light"
          }
        }
      ]
    },
    {
      "cell_type": "markdown",
      "metadata": {
        "id": "bXb6IusjNnU9",
        "colab_type": "text"
      },
      "source": [
        "### Prepare and Simulate"
      ]
    },
    {
      "cell_type": "code",
      "metadata": {
        "id": "ZhNQnxPvR19M",
        "colab_type": "code",
        "colab": {}
      },
      "source": [
        "def prepareSimulation(systemList, t0 = 0.0, t_bound = 10, max_step = 0.0625):\n",
        "  for system in systemList:\n",
        "    system['solver'] = compute(system['model'], system['state0'], t0 = t0, t_bound = t_bound, max_step = max_step)\n",
        "    system['finished'] = False\n",
        "    system['state'] = next(system['solver'])#system['state0']\n",
        "\n",
        "def simulate(systemList):\n",
        "  for system in systemList:\n",
        "    if system['finished'] == False:\n",
        "      system['state'] = next(system['solver'])"
      ],
      "execution_count": 0,
      "outputs": []
    },
    {
      "cell_type": "markdown",
      "metadata": {
        "id": "4im95vdVNsFa",
        "colab_type": "text"
      },
      "source": [
        "### Nearly Infinite Simulation"
      ]
    },
    {
      "cell_type": "code",
      "metadata": {
        "id": "WPrlOYF6NxJw",
        "colab_type": "code",
        "colab": {}
      },
      "source": [
        "def simulateInf(systemList, count = -1):\n",
        "  cc = count\n",
        "  while True:\n",
        "    simulate(systemList)\n",
        "    partialResult = {}\n",
        "    for system in systemList:\n",
        "      partialResult[system['name']] = {**system}\n",
        "    yield partialResult\n",
        "    cc = cc - 1\n",
        "    if cc == 0:\n",
        "      break\n"
      ],
      "execution_count": 0,
      "outputs": []
    },
    {
      "cell_type": "markdown",
      "metadata": {
        "id": "xZn2gnrYN0cR",
        "colab_type": "text"
      },
      "source": [
        "### Example of Single System Simulation"
      ]
    },
    {
      "cell_type": "code",
      "metadata": {
        "id": "Tx6rdnj0Wy78",
        "colab_type": "code",
        "outputId": "0324cfbd-3404-4e1d-b62b-aa81fd328d42",
        "colab": {
          "base_uri": "https://localhost:8080/",
          "height": 715
        }
      },
      "source": [
        "def movingObj(time, state):\n",
        "  velocity = state[:3]\n",
        "  position = state[3:]\n",
        "  acceleration = [0, 0, 0]\n",
        "  return [*acceleration, *velocity]\n",
        "\n",
        "def justTwoFromResults(results, systemName, x = 0, y = 1):\n",
        "  for result in results:\n",
        "    systemResult = result[systemName]\n",
        "    yield (systemResult['state'][x], systemResult['state'][y])\n",
        "\n",
        "def rearangeResults(results, ids):\n",
        "  for result in results:\n",
        "    partialResult = {}\n",
        "    for cid in ids:\n",
        "      partialResult[cid['name']] = cid['selector'](result)\n",
        "    yield partialResult\n",
        "\n",
        "simulatedObjects = [{'state0': [1, 1, 0, 1, 1, 0], 'model': movingObj, 'name': 'obj1'}]\n",
        "prepareSimulation(simulatedObjects)\n",
        "simResults = list(simulateInf(simulatedObjects, 20))\n",
        "\n",
        "print(simResults)\n",
        "\n",
        "#simResults = list(justTwoFromResults(simResults, 'obj1', x = 3, y = 4))\n",
        "\n",
        "displayData(simResults)\n",
        "#plotData(simResults)"
      ],
      "execution_count": 473,
      "outputs": [
        {
          "output_type": "stream",
          "text": [
            "[{'obj1': {'state0': [1, 1, 0, 1, 1, 0], 'model': <function movingObj at 0x7f59d3af2bf8>, 'name': 'obj1', 'solver': <generator object compute at 0x7f59d3c6ad58>, 'finished': False, 'state': {'time': 0.125, 'state': [1.0, 1.0, 0.0, 1.125, 1.125, 0.0], 'stateD': [0, 0, 0, 1.0, 1.0, 0.0]}}}, {'obj1': {'state0': [1, 1, 0, 1, 1, 0], 'model': <function movingObj at 0x7f59d3af2bf8>, 'name': 'obj1', 'solver': <generator object compute at 0x7f59d3c6ad58>, 'finished': False, 'state': {'time': 0.1875, 'state': [1.0, 1.0, 0.0, 1.1875, 1.1875, 0.0], 'stateD': [0, 0, 0, 1.0, 1.0, 0.0]}}}, {'obj1': {'state0': [1, 1, 0, 1, 1, 0], 'model': <function movingObj at 0x7f59d3af2bf8>, 'name': 'obj1', 'solver': <generator object compute at 0x7f59d3c6ad58>, 'finished': False, 'state': {'time': 0.25, 'state': [1.0, 1.0, 0.0, 1.25, 1.25, 0.0], 'stateD': [0, 0, 0, 1.0, 1.0, 0.0]}}}, {'obj1': {'state0': [1, 1, 0, 1, 1, 0], 'model': <function movingObj at 0x7f59d3af2bf8>, 'name': 'obj1', 'solver': <generator object compute at 0x7f59d3c6ad58>, 'finished': False, 'state': {'time': 0.3125, 'state': [1.0, 1.0, 0.0, 1.3125, 1.3125, 0.0], 'stateD': [0, 0, 0, 1.0, 1.0, 0.0]}}}, {'obj1': {'state0': [1, 1, 0, 1, 1, 0], 'model': <function movingObj at 0x7f59d3af2bf8>, 'name': 'obj1', 'solver': <generator object compute at 0x7f59d3c6ad58>, 'finished': False, 'state': {'time': 0.375, 'state': [1.0, 1.0, 0.0, 1.375, 1.375, 0.0], 'stateD': [0, 0, 0, 1.0, 1.0, 0.0]}}}, {'obj1': {'state0': [1, 1, 0, 1, 1, 0], 'model': <function movingObj at 0x7f59d3af2bf8>, 'name': 'obj1', 'solver': <generator object compute at 0x7f59d3c6ad58>, 'finished': False, 'state': {'time': 0.4375, 'state': [1.0, 1.0, 0.0, 1.4375, 1.4375, 0.0], 'stateD': [0, 0, 0, 1.0, 1.0, 0.0]}}}, {'obj1': {'state0': [1, 1, 0, 1, 1, 0], 'model': <function movingObj at 0x7f59d3af2bf8>, 'name': 'obj1', 'solver': <generator object compute at 0x7f59d3c6ad58>, 'finished': False, 'state': {'time': 0.5, 'state': [1.0, 1.0, 0.0, 1.5, 1.5, 0.0], 'stateD': [0, 0, 0, 1.0, 1.0, 0.0]}}}, {'obj1': {'state0': [1, 1, 0, 1, 1, 0], 'model': <function movingObj at 0x7f59d3af2bf8>, 'name': 'obj1', 'solver': <generator object compute at 0x7f59d3c6ad58>, 'finished': False, 'state': {'time': 0.5625, 'state': [1.0, 1.0, 0.0, 1.5625, 1.5625, 0.0], 'stateD': [0, 0, 0, 1.0, 1.0, 0.0]}}}, {'obj1': {'state0': [1, 1, 0, 1, 1, 0], 'model': <function movingObj at 0x7f59d3af2bf8>, 'name': 'obj1', 'solver': <generator object compute at 0x7f59d3c6ad58>, 'finished': False, 'state': {'time': 0.625, 'state': [1.0, 1.0, 0.0, 1.625, 1.625, 0.0], 'stateD': [0, 0, 0, 1.0, 1.0, 0.0]}}}, {'obj1': {'state0': [1, 1, 0, 1, 1, 0], 'model': <function movingObj at 0x7f59d3af2bf8>, 'name': 'obj1', 'solver': <generator object compute at 0x7f59d3c6ad58>, 'finished': False, 'state': {'time': 0.6875, 'state': [1.0, 1.0, 0.0, 1.6875, 1.6875, 0.0], 'stateD': [0, 0, 0, 1.0, 1.0, 0.0]}}}, {'obj1': {'state0': [1, 1, 0, 1, 1, 0], 'model': <function movingObj at 0x7f59d3af2bf8>, 'name': 'obj1', 'solver': <generator object compute at 0x7f59d3c6ad58>, 'finished': False, 'state': {'time': 0.75, 'state': [1.0, 1.0, 0.0, 1.75, 1.75, 0.0], 'stateD': [0, 0, 0, 1.0, 1.0, 0.0]}}}, {'obj1': {'state0': [1, 1, 0, 1, 1, 0], 'model': <function movingObj at 0x7f59d3af2bf8>, 'name': 'obj1', 'solver': <generator object compute at 0x7f59d3c6ad58>, 'finished': False, 'state': {'time': 0.8125, 'state': [1.0, 1.0, 0.0, 1.8125, 1.8125, 0.0], 'stateD': [0, 0, 0, 1.0, 1.0, 0.0]}}}, {'obj1': {'state0': [1, 1, 0, 1, 1, 0], 'model': <function movingObj at 0x7f59d3af2bf8>, 'name': 'obj1', 'solver': <generator object compute at 0x7f59d3c6ad58>, 'finished': False, 'state': {'time': 0.875, 'state': [1.0, 1.0, 0.0, 1.875, 1.875, 0.0], 'stateD': [0, 0, 0, 1.0, 1.0, 0.0]}}}, {'obj1': {'state0': [1, 1, 0, 1, 1, 0], 'model': <function movingObj at 0x7f59d3af2bf8>, 'name': 'obj1', 'solver': <generator object compute at 0x7f59d3c6ad58>, 'finished': False, 'state': {'time': 0.9375, 'state': [1.0, 1.0, 0.0, 1.9375, 1.9375, 0.0], 'stateD': [0, 0, 0, 1.0, 1.0, 0.0]}}}, {'obj1': {'state0': [1, 1, 0, 1, 1, 0], 'model': <function movingObj at 0x7f59d3af2bf8>, 'name': 'obj1', 'solver': <generator object compute at 0x7f59d3c6ad58>, 'finished': False, 'state': {'time': 1.0, 'state': [1.0, 1.0, 0.0, 2.0, 2.0, 0.0], 'stateD': [0, 0, 0, 1.0, 1.0, 0.0]}}}, {'obj1': {'state0': [1, 1, 0, 1, 1, 0], 'model': <function movingObj at 0x7f59d3af2bf8>, 'name': 'obj1', 'solver': <generator object compute at 0x7f59d3c6ad58>, 'finished': False, 'state': {'time': 1.0625, 'state': [1.0, 1.0, 0.0, 2.0625, 2.0625, 0.0], 'stateD': [0, 0, 0, 1.0, 1.0, 0.0]}}}, {'obj1': {'state0': [1, 1, 0, 1, 1, 0], 'model': <function movingObj at 0x7f59d3af2bf8>, 'name': 'obj1', 'solver': <generator object compute at 0x7f59d3c6ad58>, 'finished': False, 'state': {'time': 1.125, 'state': [1.0, 1.0, 0.0, 2.125, 2.125, 0.0], 'stateD': [0, 0, 0, 1.0, 1.0, 0.0]}}}, {'obj1': {'state0': [1, 1, 0, 1, 1, 0], 'model': <function movingObj at 0x7f59d3af2bf8>, 'name': 'obj1', 'solver': <generator object compute at 0x7f59d3c6ad58>, 'finished': False, 'state': {'time': 1.1875, 'state': [1.0, 1.0, 0.0, 2.1875, 2.1875, 0.0], 'stateD': [0, 0, 0, 1.0, 1.0, 0.0]}}}, {'obj1': {'state0': [1, 1, 0, 1, 1, 0], 'model': <function movingObj at 0x7f59d3af2bf8>, 'name': 'obj1', 'solver': <generator object compute at 0x7f59d3c6ad58>, 'finished': False, 'state': {'time': 1.25, 'state': [1.0, 1.0, 0.0, 2.25, 2.25, 0.0], 'stateD': [0, 0, 0, 1.0, 1.0, 0.0]}}}, {'obj1': {'state0': [1, 1, 0, 1, 1, 0], 'model': <function movingObj at 0x7f59d3af2bf8>, 'name': 'obj1', 'solver': <generator object compute at 0x7f59d3c6ad58>, 'finished': False, 'state': {'time': 1.3125, 'state': [1.0, 1.0, 0.0, 2.3125, 2.3125, 0.0], 'stateD': [0, 0, 0, 1.0, 1.0, 0.0]}}}]\n"
          ],
          "name": "stdout"
        },
        {
          "output_type": "display_data",
          "data": {
            "text/html": [
              "<div>\n",
              "<style scoped>\n",
              "    .dataframe tbody tr th:only-of-type {\n",
              "        vertical-align: middle;\n",
              "    }\n",
              "\n",
              "    .dataframe tbody tr th {\n",
              "        vertical-align: top;\n",
              "    }\n",
              "\n",
              "    .dataframe thead th {\n",
              "        text-align: right;\n",
              "    }\n",
              "</style>\n",
              "<table border=\"1\" class=\"dataframe\">\n",
              "  <thead>\n",
              "    <tr style=\"text-align: right;\">\n",
              "      <th></th>\n",
              "      <th>obj1</th>\n",
              "    </tr>\n",
              "  </thead>\n",
              "  <tbody>\n",
              "    <tr>\n",
              "      <th>0</th>\n",
              "      <td>{'state0': [1, 1, 0, 1, 1, 0], 'model': &lt;funct...</td>\n",
              "    </tr>\n",
              "    <tr>\n",
              "      <th>1</th>\n",
              "      <td>{'state0': [1, 1, 0, 1, 1, 0], 'model': &lt;funct...</td>\n",
              "    </tr>\n",
              "    <tr>\n",
              "      <th>2</th>\n",
              "      <td>{'state0': [1, 1, 0, 1, 1, 0], 'model': &lt;funct...</td>\n",
              "    </tr>\n",
              "    <tr>\n",
              "      <th>3</th>\n",
              "      <td>{'state0': [1, 1, 0, 1, 1, 0], 'model': &lt;funct...</td>\n",
              "    </tr>\n",
              "    <tr>\n",
              "      <th>4</th>\n",
              "      <td>{'state0': [1, 1, 0, 1, 1, 0], 'model': &lt;funct...</td>\n",
              "    </tr>\n",
              "    <tr>\n",
              "      <th>5</th>\n",
              "      <td>{'state0': [1, 1, 0, 1, 1, 0], 'model': &lt;funct...</td>\n",
              "    </tr>\n",
              "    <tr>\n",
              "      <th>6</th>\n",
              "      <td>{'state0': [1, 1, 0, 1, 1, 0], 'model': &lt;funct...</td>\n",
              "    </tr>\n",
              "    <tr>\n",
              "      <th>7</th>\n",
              "      <td>{'state0': [1, 1, 0, 1, 1, 0], 'model': &lt;funct...</td>\n",
              "    </tr>\n",
              "    <tr>\n",
              "      <th>8</th>\n",
              "      <td>{'state0': [1, 1, 0, 1, 1, 0], 'model': &lt;funct...</td>\n",
              "    </tr>\n",
              "    <tr>\n",
              "      <th>9</th>\n",
              "      <td>{'state0': [1, 1, 0, 1, 1, 0], 'model': &lt;funct...</td>\n",
              "    </tr>\n",
              "    <tr>\n",
              "      <th>10</th>\n",
              "      <td>{'state0': [1, 1, 0, 1, 1, 0], 'model': &lt;funct...</td>\n",
              "    </tr>\n",
              "    <tr>\n",
              "      <th>11</th>\n",
              "      <td>{'state0': [1, 1, 0, 1, 1, 0], 'model': &lt;funct...</td>\n",
              "    </tr>\n",
              "    <tr>\n",
              "      <th>12</th>\n",
              "      <td>{'state0': [1, 1, 0, 1, 1, 0], 'model': &lt;funct...</td>\n",
              "    </tr>\n",
              "    <tr>\n",
              "      <th>13</th>\n",
              "      <td>{'state0': [1, 1, 0, 1, 1, 0], 'model': &lt;funct...</td>\n",
              "    </tr>\n",
              "    <tr>\n",
              "      <th>14</th>\n",
              "      <td>{'state0': [1, 1, 0, 1, 1, 0], 'model': &lt;funct...</td>\n",
              "    </tr>\n",
              "    <tr>\n",
              "      <th>15</th>\n",
              "      <td>{'state0': [1, 1, 0, 1, 1, 0], 'model': &lt;funct...</td>\n",
              "    </tr>\n",
              "    <tr>\n",
              "      <th>16</th>\n",
              "      <td>{'state0': [1, 1, 0, 1, 1, 0], 'model': &lt;funct...</td>\n",
              "    </tr>\n",
              "    <tr>\n",
              "      <th>17</th>\n",
              "      <td>{'state0': [1, 1, 0, 1, 1, 0], 'model': &lt;funct...</td>\n",
              "    </tr>\n",
              "    <tr>\n",
              "      <th>18</th>\n",
              "      <td>{'state0': [1, 1, 0, 1, 1, 0], 'model': &lt;funct...</td>\n",
              "    </tr>\n",
              "    <tr>\n",
              "      <th>19</th>\n",
              "      <td>{'state0': [1, 1, 0, 1, 1, 0], 'model': &lt;funct...</td>\n",
              "    </tr>\n",
              "  </tbody>\n",
              "</table>\n",
              "</div>"
            ],
            "text/plain": [
              "                                                 obj1\n",
              "0   {'state0': [1, 1, 0, 1, 1, 0], 'model': <funct...\n",
              "1   {'state0': [1, 1, 0, 1, 1, 0], 'model': <funct...\n",
              "2   {'state0': [1, 1, 0, 1, 1, 0], 'model': <funct...\n",
              "3   {'state0': [1, 1, 0, 1, 1, 0], 'model': <funct...\n",
              "4   {'state0': [1, 1, 0, 1, 1, 0], 'model': <funct...\n",
              "5   {'state0': [1, 1, 0, 1, 1, 0], 'model': <funct...\n",
              "6   {'state0': [1, 1, 0, 1, 1, 0], 'model': <funct...\n",
              "7   {'state0': [1, 1, 0, 1, 1, 0], 'model': <funct...\n",
              "8   {'state0': [1, 1, 0, 1, 1, 0], 'model': <funct...\n",
              "9   {'state0': [1, 1, 0, 1, 1, 0], 'model': <funct...\n",
              "10  {'state0': [1, 1, 0, 1, 1, 0], 'model': <funct...\n",
              "11  {'state0': [1, 1, 0, 1, 1, 0], 'model': <funct...\n",
              "12  {'state0': [1, 1, 0, 1, 1, 0], 'model': <funct...\n",
              "13  {'state0': [1, 1, 0, 1, 1, 0], 'model': <funct...\n",
              "14  {'state0': [1, 1, 0, 1, 1, 0], 'model': <funct...\n",
              "15  {'state0': [1, 1, 0, 1, 1, 0], 'model': <funct...\n",
              "16  {'state0': [1, 1, 0, 1, 1, 0], 'model': <funct...\n",
              "17  {'state0': [1, 1, 0, 1, 1, 0], 'model': <funct...\n",
              "18  {'state0': [1, 1, 0, 1, 1, 0], 'model': <funct...\n",
              "19  {'state0': [1, 1, 0, 1, 1, 0], 'model': <funct..."
            ]
          },
          "metadata": {
            "tags": []
          }
        }
      ]
    },
    {
      "cell_type": "markdown",
      "metadata": {
        "id": "Hs4yoQ0jqmhP",
        "colab_type": "text"
      },
      "source": [
        "### More Complex Simulation"
      ]
    },
    {
      "cell_type": "code",
      "metadata": {
        "id": "_f7PF8IeK55W",
        "colab_type": "code",
        "colab": {}
      },
      "source": [
        "def createPlaneModel(input):\n",
        "  def planeModel(time, state):\n",
        "    currentInput = input()\n",
        "    \n",
        "    currentVelocity = np.array([state[0], state[1], state[2]])\n",
        "    currentVelocityAbs = np.linalg.norm(currentVelocity) # abs of vector\n",
        "    \n",
        "    currentPosition = np.array([state[3], state[4], state[5]])\n",
        "    targetPosition = np.array([currentInput[0], currentInput[1], currentInput[2]])\n",
        "\n",
        "    wantedVelocity = targetPosition - currentPosition\n",
        "    wantedVelocityAbs = np.linalg.norm(wantedVelocity) # abs of vector\n",
        "    wantedVelocity = wantedVelocity * currentVelocityAbs / wantedVelocityAbs\n",
        "\n",
        "    neededAcceleration = wantedVelocity - currentVelocity\n",
        "\n",
        "    result = [*neededAcceleration, *currentVelocity]\n",
        "    return result\n",
        "  return planeModel\n",
        "\n",
        "def createRocketModel(rocketSystem, systemToDestroy):\n",
        "  localData = {'rocket': rocketSystem, 'target': systemToDestroy}\n",
        "  def rocketModel(time, state):\n",
        "    if localData['rocket']()['finished']:\n",
        "      return [0, 0, 0, 0, 0, 0]\n",
        "\n",
        "    currentInput = localData['target']()['state']['state']\n",
        "    #print('currentInput', currentInput)\n",
        "    currentVelocity = np.array([state[0], state[1], state[2]])\n",
        "    currentVelocityAbs = np.linalg.norm(currentVelocity) # abs of vector\n",
        "    \n",
        "    currentPosition = np.array([state[3], state[4], state[5]])\n",
        "    targetPosition = np.array([currentInput[0], currentInput[1], currentInput[2]])\n",
        "\n",
        "    wantedVelocity = targetPosition - currentPosition\n",
        "    wantedVelocityAbs = np.linalg.norm(wantedVelocity) # abs of vector\n",
        "\n",
        "    if wantedVelocityAbs < 1e0:\n",
        "      localData['rocket']()['finished'] = True\n",
        "      localData['target']()['finished'] = True\n",
        "\n",
        "    wantedVelocity = wantedVelocity * currentVelocityAbs / wantedVelocityAbs\n",
        "    neededAcceleration = wantedVelocity - currentVelocity\n",
        "\n",
        "    result = [*neededAcceleration, *currentVelocity]\n",
        "    return result\n",
        "  return rocketModel\n"
      ],
      "execution_count": 0,
      "outputs": []
    },
    {
      "cell_type": "code",
      "metadata": {
        "id": "UipaZs2yPry8",
        "colab_type": "code",
        "colab": {}
      },
      "source": [
        "def createFixedTarget(x, y, z):\n",
        "  def fixedPoint():\n",
        "    return [x, y, z]\n",
        "  return fixedPoint"
      ],
      "execution_count": 0,
      "outputs": []
    },
    {
      "cell_type": "code",
      "metadata": {
        "id": "kT0sQeoZqqIH",
        "colab_type": "code",
        "outputId": "6cacf257-b1a4-40e2-a432-3c1c7050f65f",
        "colab": {
          "base_uri": "https://localhost:8080/",
          "height": 699
        }
      },
      "source": [
        "simulatedObjects = []\n",
        "planeTarget = createFixedTarget(10000, 10000, 0)\n",
        "plane = createPlaneModel(planeTarget)\n",
        "rocket = createRocketModel(\n",
        "    rocketSystem = lambda : simulatedObjects[1],\n",
        "    systemToDestroy = lambda : simulatedObjects[0])\n",
        "\n",
        "simulatedObjects = [\n",
        "  {'state0': [-100, 0, 0, 0, 0, 1000], 'model': plane, 'name': 'plane'},\n",
        "  {'state0': [250, 0, 0, 500, -500, 0], 'model': rocket, 'name': 'rocket'},\n",
        "  ]\n",
        "\n",
        "prepareSimulation(simulatedObjects, t0 = 0.0, t_bound = 1000, max_step = 0.0625)\n",
        "simResults = list(dilute(simulateInf(simulatedObjects, 1000), 10))\n",
        "planeSimResults = list(justTwoFromResults(simResults, 'plane', x = 3, y = 4))\n",
        "rocketSimResults = list(justTwoFromResults(simResults, 'rocket', x = 3, y = 4))\n",
        "#displayData(simResults)\n",
        "ax = plotData(planeSimResults)\n",
        "ax = plotData(rocketSimResults, ax = ax)\n",
        "plt.grid(which='both')\n",
        "\n",
        "print(simResults[0])\n",
        "ids = [\n",
        "  {'name': 'time', 'selector': lambda item: item['plane']['time']},\n",
        "  {'name': 'plane_x', 'selector': lambda item: item['plane']['state'][3]},\n",
        "  {'name': 'plane_y', 'selector': lambda item: item['plane']['state'][4]},\n",
        "  {'name': 'plane_f', 'selector': lambda item: item['plane']['finished']},\n",
        "  {'name': 'rocket_x', 'selector': lambda item: item['rocket']['state'][3]},\n",
        "  {'name': 'rocket_y', 'selector': lambda item: item['rocket']['state'][4]},\n",
        "  {'name': 'rocket_f', 'selector': lambda item: item['rocket']['finished']},\n",
        "  ]\n",
        "\n",
        "reData = rearangeResults(simResults, ids)\n",
        "displayData(reData)"
      ],
      "execution_count": 469,
      "outputs": [
        {
          "output_type": "stream",
          "text": [
            "{'plane': {'time': 0.45031802827833756, 'state': [-46.060526303859774, 17.649007344872317, -1.764900734487232, -31.38969909265796, 4.861719584776878, 999.5138280415224], 'stateD': [80.93798204893187, 17.102408311184718, -1.7102408311184714, -46.060526303859774, 17.649007344872317, -1.764900734487232]}, 'rocket': {'time': 0.16998253721160983, 'state': [185.75164668160033, 22.476048138711818, -0.06437738877427082, 536.7645061217675, -497.93927999973783, -0.0051704152792531885], 'stateD': [-325.8919638524057, 101.497189279237, -0.35874988158771026, 185.75164668160033, 22.476048138711818, -0.06437738877427082]}}\n"
          ],
          "name": "stdout"
        },
        {
          "output_type": "stream",
          "text": [
            "/usr/local/lib/python3.6/dist-packages/ipykernel_launcher.py:14: DeprecationWarning: generator 'dilute' raised StopIteration\n",
            "  \n"
          ],
          "name": "stderr"
        },
        {
          "output_type": "error",
          "ename": "KeyError",
          "evalue": "ignored",
          "traceback": [
            "\u001b[0;31m---------------------------------------------------------------------------\u001b[0m",
            "\u001b[0;31mKeyError\u001b[0m                                  Traceback (most recent call last)",
            "\u001b[0;32m<ipython-input-469-2f2cfcbe3c03>\u001b[0m in \u001b[0;36m<module>\u001b[0;34m()\u001b[0m\n\u001b[1;32m     32\u001b[0m \u001b[0;34m\u001b[0m\u001b[0m\n\u001b[1;32m     33\u001b[0m \u001b[0mreData\u001b[0m \u001b[0;34m=\u001b[0m \u001b[0mrearangeResults\u001b[0m\u001b[0;34m(\u001b[0m\u001b[0msimResults\u001b[0m\u001b[0;34m,\u001b[0m \u001b[0mids\u001b[0m\u001b[0;34m)\u001b[0m\u001b[0;34m\u001b[0m\u001b[0;34m\u001b[0m\u001b[0m\n\u001b[0;32m---> 34\u001b[0;31m \u001b[0mdisplayData\u001b[0m\u001b[0;34m(\u001b[0m\u001b[0mreData\u001b[0m\u001b[0;34m)\u001b[0m\u001b[0;34m\u001b[0m\u001b[0;34m\u001b[0m\u001b[0m\n\u001b[0m",
            "\u001b[0;32m<ipython-input-461-6da3b832547d>\u001b[0m in \u001b[0;36mdisplayData\u001b[0;34m(data)\u001b[0m\n\u001b[1;32m      2\u001b[0m \u001b[0;34m\u001b[0m\u001b[0m\n\u001b[1;32m      3\u001b[0m \u001b[0;32mdef\u001b[0m \u001b[0mdisplayData\u001b[0m\u001b[0;34m(\u001b[0m\u001b[0mdata\u001b[0m\u001b[0;34m)\u001b[0m\u001b[0;34m:\u001b[0m\u001b[0;34m\u001b[0m\u001b[0;34m\u001b[0m\u001b[0m\n\u001b[0;32m----> 4\u001b[0;31m   \u001b[0mdisplay\u001b[0m\u001b[0;34m(\u001b[0m\u001b[0mpd\u001b[0m\u001b[0;34m.\u001b[0m\u001b[0mDataFrame\u001b[0m\u001b[0;34m(\u001b[0m\u001b[0mdata\u001b[0m\u001b[0;34m)\u001b[0m\u001b[0;34m)\u001b[0m\u001b[0;34m\u001b[0m\u001b[0;34m\u001b[0m\u001b[0m\n\u001b[0m\u001b[1;32m      5\u001b[0m \u001b[0;34m\u001b[0m\u001b[0m\n\u001b[1;32m      6\u001b[0m \u001b[0;32mdef\u001b[0m \u001b[0mplotData\u001b[0m\u001b[0;34m(\u001b[0m\u001b[0mdata\u001b[0m\u001b[0;34m,\u001b[0m \u001b[0mx\u001b[0m \u001b[0;34m=\u001b[0m \u001b[0;36m0\u001b[0m\u001b[0;34m,\u001b[0m \u001b[0my\u001b[0m \u001b[0;34m=\u001b[0m \u001b[0;36m1\u001b[0m\u001b[0;34m,\u001b[0m \u001b[0max\u001b[0m \u001b[0;34m=\u001b[0m \u001b[0;32mNone\u001b[0m\u001b[0;34m)\u001b[0m\u001b[0;34m:\u001b[0m\u001b[0;34m\u001b[0m\u001b[0;34m\u001b[0m\u001b[0m\n",
            "\u001b[0;32m/usr/local/lib/python3.6/dist-packages/pandas/core/frame.py\u001b[0m in \u001b[0;36m__init__\u001b[0;34m(self, data, index, columns, dtype, copy)\u001b[0m\n\u001b[1;32m    467\u001b[0m         \u001b[0;32melif\u001b[0m \u001b[0misinstance\u001b[0m\u001b[0;34m(\u001b[0m\u001b[0mdata\u001b[0m\u001b[0;34m,\u001b[0m \u001b[0mabc\u001b[0m\u001b[0;34m.\u001b[0m\u001b[0mIterable\u001b[0m\u001b[0;34m)\u001b[0m \u001b[0;32mand\u001b[0m \u001b[0;32mnot\u001b[0m \u001b[0misinstance\u001b[0m\u001b[0;34m(\u001b[0m\u001b[0mdata\u001b[0m\u001b[0;34m,\u001b[0m \u001b[0;34m(\u001b[0m\u001b[0mstr\u001b[0m\u001b[0;34m,\u001b[0m \u001b[0mbytes\u001b[0m\u001b[0;34m)\u001b[0m\u001b[0;34m)\u001b[0m\u001b[0;34m:\u001b[0m\u001b[0;34m\u001b[0m\u001b[0;34m\u001b[0m\u001b[0m\n\u001b[1;32m    468\u001b[0m             \u001b[0;32mif\u001b[0m \u001b[0;32mnot\u001b[0m \u001b[0misinstance\u001b[0m\u001b[0;34m(\u001b[0m\u001b[0mdata\u001b[0m\u001b[0;34m,\u001b[0m \u001b[0;34m(\u001b[0m\u001b[0mabc\u001b[0m\u001b[0;34m.\u001b[0m\u001b[0mSequence\u001b[0m\u001b[0;34m,\u001b[0m \u001b[0mExtensionArray\u001b[0m\u001b[0;34m)\u001b[0m\u001b[0;34m)\u001b[0m\u001b[0;34m:\u001b[0m\u001b[0;34m\u001b[0m\u001b[0;34m\u001b[0m\u001b[0m\n\u001b[0;32m--> 469\u001b[0;31m                 \u001b[0mdata\u001b[0m \u001b[0;34m=\u001b[0m \u001b[0mlist\u001b[0m\u001b[0;34m(\u001b[0m\u001b[0mdata\u001b[0m\u001b[0;34m)\u001b[0m\u001b[0;34m\u001b[0m\u001b[0;34m\u001b[0m\u001b[0m\n\u001b[0m\u001b[1;32m    470\u001b[0m             \u001b[0;32mif\u001b[0m \u001b[0mlen\u001b[0m\u001b[0;34m(\u001b[0m\u001b[0mdata\u001b[0m\u001b[0;34m)\u001b[0m \u001b[0;34m>\u001b[0m \u001b[0;36m0\u001b[0m\u001b[0;34m:\u001b[0m\u001b[0;34m\u001b[0m\u001b[0;34m\u001b[0m\u001b[0m\n\u001b[1;32m    471\u001b[0m                 \u001b[0;32mif\u001b[0m \u001b[0mis_list_like\u001b[0m\u001b[0;34m(\u001b[0m\u001b[0mdata\u001b[0m\u001b[0;34m[\u001b[0m\u001b[0;36m0\u001b[0m\u001b[0;34m]\u001b[0m\u001b[0;34m)\u001b[0m \u001b[0;32mand\u001b[0m \u001b[0mgetattr\u001b[0m\u001b[0;34m(\u001b[0m\u001b[0mdata\u001b[0m\u001b[0;34m[\u001b[0m\u001b[0;36m0\u001b[0m\u001b[0;34m]\u001b[0m\u001b[0;34m,\u001b[0m \u001b[0;34m\"ndim\"\u001b[0m\u001b[0;34m,\u001b[0m \u001b[0;36m1\u001b[0m\u001b[0;34m)\u001b[0m \u001b[0;34m==\u001b[0m \u001b[0;36m1\u001b[0m\u001b[0;34m:\u001b[0m\u001b[0;34m\u001b[0m\u001b[0;34m\u001b[0m\u001b[0m\n",
            "\u001b[0;32m<ipython-input-466-f7e20df77ae0>\u001b[0m in \u001b[0;36mrearangeResults\u001b[0;34m(results, ids)\u001b[0m\n\u001b[1;32m     14\u001b[0m     \u001b[0mpartialResult\u001b[0m \u001b[0;34m=\u001b[0m \u001b[0;34m{\u001b[0m\u001b[0;34m}\u001b[0m\u001b[0;34m\u001b[0m\u001b[0;34m\u001b[0m\u001b[0m\n\u001b[1;32m     15\u001b[0m     \u001b[0;32mfor\u001b[0m \u001b[0mcid\u001b[0m \u001b[0;32min\u001b[0m \u001b[0mids\u001b[0m\u001b[0;34m:\u001b[0m\u001b[0;34m\u001b[0m\u001b[0;34m\u001b[0m\u001b[0m\n\u001b[0;32m---> 16\u001b[0;31m       \u001b[0mpartialResult\u001b[0m\u001b[0;34m[\u001b[0m\u001b[0mcid\u001b[0m\u001b[0;34m[\u001b[0m\u001b[0;34m'name'\u001b[0m\u001b[0;34m]\u001b[0m\u001b[0;34m]\u001b[0m \u001b[0;34m=\u001b[0m \u001b[0mcid\u001b[0m\u001b[0;34m[\u001b[0m\u001b[0;34m'selector'\u001b[0m\u001b[0;34m]\u001b[0m\u001b[0;34m(\u001b[0m\u001b[0mresult\u001b[0m\u001b[0;34m)\u001b[0m\u001b[0;34m\u001b[0m\u001b[0;34m\u001b[0m\u001b[0m\n\u001b[0m\u001b[1;32m     17\u001b[0m     \u001b[0;32myield\u001b[0m \u001b[0mpartialResult\u001b[0m\u001b[0;34m\u001b[0m\u001b[0;34m\u001b[0m\u001b[0m\n\u001b[1;32m     18\u001b[0m \u001b[0;34m\u001b[0m\u001b[0m\n",
            "\u001b[0;32m<ipython-input-469-2f2cfcbe3c03>\u001b[0m in \u001b[0;36m<lambda>\u001b[0;34m(item)\u001b[0m\n\u001b[1;32m     25\u001b[0m   \u001b[0;34m{\u001b[0m\u001b[0;34m'name'\u001b[0m\u001b[0;34m:\u001b[0m \u001b[0;34m'plane_x'\u001b[0m\u001b[0;34m,\u001b[0m \u001b[0;34m'selector'\u001b[0m\u001b[0;34m:\u001b[0m \u001b[0;32mlambda\u001b[0m \u001b[0mitem\u001b[0m\u001b[0;34m:\u001b[0m \u001b[0mitem\u001b[0m\u001b[0;34m[\u001b[0m\u001b[0;34m'plane'\u001b[0m\u001b[0;34m]\u001b[0m\u001b[0;34m[\u001b[0m\u001b[0;34m'state'\u001b[0m\u001b[0;34m]\u001b[0m\u001b[0;34m[\u001b[0m\u001b[0;36m3\u001b[0m\u001b[0;34m]\u001b[0m\u001b[0;34m}\u001b[0m\u001b[0;34m,\u001b[0m\u001b[0;34m\u001b[0m\u001b[0;34m\u001b[0m\u001b[0m\n\u001b[1;32m     26\u001b[0m   \u001b[0;34m{\u001b[0m\u001b[0;34m'name'\u001b[0m\u001b[0;34m:\u001b[0m \u001b[0;34m'plane_y'\u001b[0m\u001b[0;34m,\u001b[0m \u001b[0;34m'selector'\u001b[0m\u001b[0;34m:\u001b[0m \u001b[0;32mlambda\u001b[0m \u001b[0mitem\u001b[0m\u001b[0;34m:\u001b[0m \u001b[0mitem\u001b[0m\u001b[0;34m[\u001b[0m\u001b[0;34m'plane'\u001b[0m\u001b[0;34m]\u001b[0m\u001b[0;34m[\u001b[0m\u001b[0;34m'state'\u001b[0m\u001b[0;34m]\u001b[0m\u001b[0;34m[\u001b[0m\u001b[0;36m4\u001b[0m\u001b[0;34m]\u001b[0m\u001b[0;34m}\u001b[0m\u001b[0;34m,\u001b[0m\u001b[0;34m\u001b[0m\u001b[0;34m\u001b[0m\u001b[0m\n\u001b[0;32m---> 27\u001b[0;31m   \u001b[0;34m{\u001b[0m\u001b[0;34m'name'\u001b[0m\u001b[0;34m:\u001b[0m \u001b[0;34m'plane_f'\u001b[0m\u001b[0;34m,\u001b[0m \u001b[0;34m'selector'\u001b[0m\u001b[0;34m:\u001b[0m \u001b[0;32mlambda\u001b[0m \u001b[0mitem\u001b[0m\u001b[0;34m:\u001b[0m \u001b[0mitem\u001b[0m\u001b[0;34m[\u001b[0m\u001b[0;34m'plane'\u001b[0m\u001b[0;34m]\u001b[0m\u001b[0;34m[\u001b[0m\u001b[0;34m'finished'\u001b[0m\u001b[0;34m]\u001b[0m\u001b[0;34m}\u001b[0m\u001b[0;34m,\u001b[0m\u001b[0;34m\u001b[0m\u001b[0;34m\u001b[0m\u001b[0m\n\u001b[0m\u001b[1;32m     28\u001b[0m   \u001b[0;34m{\u001b[0m\u001b[0;34m'name'\u001b[0m\u001b[0;34m:\u001b[0m \u001b[0;34m'rocket_x'\u001b[0m\u001b[0;34m,\u001b[0m \u001b[0;34m'selector'\u001b[0m\u001b[0;34m:\u001b[0m \u001b[0;32mlambda\u001b[0m \u001b[0mitem\u001b[0m\u001b[0;34m:\u001b[0m \u001b[0mitem\u001b[0m\u001b[0;34m[\u001b[0m\u001b[0;34m'rocket'\u001b[0m\u001b[0;34m]\u001b[0m\u001b[0;34m[\u001b[0m\u001b[0;34m'state'\u001b[0m\u001b[0;34m]\u001b[0m\u001b[0;34m[\u001b[0m\u001b[0;36m3\u001b[0m\u001b[0;34m]\u001b[0m\u001b[0;34m}\u001b[0m\u001b[0;34m,\u001b[0m\u001b[0;34m\u001b[0m\u001b[0;34m\u001b[0m\u001b[0m\n\u001b[1;32m     29\u001b[0m   \u001b[0;34m{\u001b[0m\u001b[0;34m'name'\u001b[0m\u001b[0;34m:\u001b[0m \u001b[0;34m'rocket_y'\u001b[0m\u001b[0;34m,\u001b[0m \u001b[0;34m'selector'\u001b[0m\u001b[0;34m:\u001b[0m \u001b[0;32mlambda\u001b[0m \u001b[0mitem\u001b[0m\u001b[0;34m:\u001b[0m \u001b[0mitem\u001b[0m\u001b[0;34m[\u001b[0m\u001b[0;34m'rocket'\u001b[0m\u001b[0;34m]\u001b[0m\u001b[0;34m[\u001b[0m\u001b[0;34m'state'\u001b[0m\u001b[0;34m]\u001b[0m\u001b[0;34m[\u001b[0m\u001b[0;36m4\u001b[0m\u001b[0;34m]\u001b[0m\u001b[0;34m}\u001b[0m\u001b[0;34m,\u001b[0m\u001b[0;34m\u001b[0m\u001b[0;34m\u001b[0m\u001b[0m\n",
            "\u001b[0;31mKeyError\u001b[0m: 'finished'"
          ]
        },
        {
          "output_type": "display_data",
          "data": {
            "image/png": "[encoded data removed]",
            "text/plain": [
              "<Figure size 432x288 with 1 Axes>"
            ]
          },
          "metadata": {
            "tags": [],
            "needs_background": "light"
          }
        }
      ]
    },
    {
      "cell_type": "markdown",
      "metadata": {
        "id": "wASalYFiOAtA",
        "colab_type": "text"
      },
      "source": [
        "### Three System Simulation"
      ]
    },
    {
      "cell_type": "code",
      "metadata": {
        "id": "yXtMV-9X-FW0",
        "colab_type": "code",
        "outputId": "55e2b277-9466-43cb-8793-43261b8685de",
        "colab": {
          "base_uri": "https://localhost:8080/",
          "height": 723
        }
      },
      "source": [
        "planeTarget = createFixedTarget(10000, 10000, 0)\n",
        "plane = createModelWithDestination(planeTarget, createPlaneModel())\n",
        "rocketTarget = lambda : simulatedObjects[0]['state']['state'][3:] \n",
        "rocket = createModelWithDestination(rocketTarget, createRocketModel())\n",
        "antiRocketTarget = lambda : simulatedObjects[1]['state']['state'][3:] \n",
        "antiRocket = createModelWithDestination(antiRocketTarget, createRocketModel())\n",
        "\n",
        "simulatedObjects = [\n",
        "  {'state0': [-100, 0, 0, 0, 0, 1000], 'model': plane, 'name': 'plane'},\n",
        "  {'state0': [250, 0, 0, 500, -500, 0], 'model': rocket, 'name': 'rocket'},\n",
        "  {'state0': [250, 0, 0, 0, 0, 0], 'model': antiRocket, 'name': 'antiRocket'},\n",
        "  ]\n",
        "\n",
        "prepareSimulation(simulatedObjects, t0 = 0.0, t_bound = 1000, max_step = 0.03125)\n",
        "simResults = list(dilute(simulateInf(simulatedObjects, 1000), 10))\n",
        "planeSimResults = list(justTwoFromResults(simResults, 'plane', x = 3, y = 4))\n",
        "rocketSimResults = list(justTwoFromResults(simResults, 'rocket', x = 3, y = 4))\n",
        "antiRocketSimResults = list(justTwoFromResults(simResults, 'antiRocket', x = 3, y = 4))\n",
        "#displayData(simResults)\n",
        "ax = plotData(planeSimResults)\n",
        "ax = plotData(rocketSimResults, ax = ax)\n",
        "ax = plotData(antiRocketSimResults, ax = ax)\n",
        "plt.grid(which='both')\n",
        "\n",
        "ids = [\n",
        "  {'name': 'time', 'selector': lambda item: item['plane']['time']},\n",
        "  {'name': 'plane_x', 'selector': lambda item: item['plane']['state'][3]},\n",
        "  {'name': 'plane_y', 'selector': lambda item: item['plane']['state'][4]},\n",
        "  {'name': 'rocket_x', 'selector': lambda item: item['rocket']['state'][3]},\n",
        "  {'name': 'rocket_y', 'selector': lambda item: item['rocket']['state'][4]},\n",
        "  {'name': 'antirocket_x', 'selector': lambda item: item['antiRocket']['state'][3]},\n",
        "  {'name': 'antirocket_y', 'selector': lambda item: item['antiRocket']['state'][4]},\n",
        "  ]\n",
        "\n",
        "reData = rearangeResults(simResults, ids)\n",
        "displayData(reData)"
      ],
      "execution_count": 0,
      "outputs": [
        {
          "output_type": "stream",
          "text": [
            "/usr/local/lib/python3.6/dist-packages/ipykernel_launcher.py:15: DeprecationWarning: generator 'dilute' raised StopIteration\n",
            "  from ipykernel import kernelapp as app\n"
          ],
          "name": "stderr"
        },
        {
          "output_type": "display_data",
          "data": {
            "text/html": [
              "<div>\n",
              "<style scoped>\n",
              "    .dataframe tbody tr th:only-of-type {\n",
              "        vertical-align: middle;\n",
              "    }\n",
              "\n",
              "    .dataframe tbody tr th {\n",
              "        vertical-align: top;\n",
              "    }\n",
              "\n",
              "    .dataframe thead th {\n",
              "        text-align: right;\n",
              "    }\n",
              "</style>\n",
              "<table border=\"1\" class=\"dataframe\">\n",
              "  <thead>\n",
              "    <tr style=\"text-align: right;\">\n",
              "      <th></th>\n",
              "      <th>time</th>\n",
              "      <th>plane_x</th>\n",
              "      <th>plane_y</th>\n",
              "      <th>rocket_x</th>\n",
              "      <th>rocket_y</th>\n",
              "      <th>antirocket_x</th>\n",
              "      <th>antirocket_y</th>\n",
              "    </tr>\n",
              "  </thead>\n",
              "  <tbody>\n",
              "    <tr>\n",
              "      <th>0</th>\n",
              "      <td>0.231568</td>\n",
              "      <td>-19.127368</td>\n",
              "      <td>1.542683</td>\n",
              "      <td>546.651526</td>\n",
              "      <td>-497.988955</td>\n",
              "      <td>29.781177</td>\n",
              "      <td>-1.212034</td>\n",
              "    </tr>\n",
              "    <tr>\n",
              "      <th>1</th>\n",
              "      <td>0.544068</td>\n",
              "      <td>-35.369312</td>\n",
              "      <td>6.582908</td>\n",
              "      <td>592.374972</td>\n",
              "      <td>-490.549611</td>\n",
              "      <td>102.204320</td>\n",
              "      <td>-13.691572</td>\n",
              "    </tr>\n",
              "    <tr>\n",
              "      <th>2</th>\n",
              "      <td>0.856568</td>\n",
              "      <td>-44.650011</td>\n",
              "      <td>12.862027</td>\n",
              "      <td>620.360838</td>\n",
              "      <td>-480.755950</td>\n",
              "      <td>169.029989</td>\n",
              "      <td>-36.239163</td>\n",
              "    </tr>\n",
              "    <tr>\n",
              "      <th>3</th>\n",
              "      <td>1.169068</td>\n",
              "      <td>-49.641599</td>\n",
              "      <td>19.244076</td>\n",
              "      <td>636.430408</td>\n",
              "      <td>-470.312102</td>\n",
              "      <td>231.223767</td>\n",
              "      <td>-65.805284</td>\n",
              "    </tr>\n",
              "    <tr>\n",
              "      <th>4</th>\n",
              "      <td>1.481568</td>\n",
              "      <td>-51.926075</td>\n",
              "      <td>25.271409</td>\n",
              "      <td>644.414084</td>\n",
              "      <td>-459.974750</td>\n",
              "      <td>289.653754</td>\n",
              "      <td>-100.320075</td>\n",
              "    </tr>\n",
              "    <tr>\n",
              "      <th>...</th>\n",
              "      <td>...</td>\n",
              "      <td>...</td>\n",
              "      <td>...</td>\n",
              "      <td>...</td>\n",
              "      <td>...</td>\n",
              "      <td>...</td>\n",
              "      <td>...</td>\n",
              "    </tr>\n",
              "    <tr>\n",
              "      <th>95</th>\n",
              "      <td>29.919068</td>\n",
              "      <td>230.341854</td>\n",
              "      <td>327.363330</td>\n",
              "      <td>174.198505</td>\n",
              "      <td>272.576452</td>\n",
              "      <td>174.159915</td>\n",
              "      <td>271.263350</td>\n",
              "    </tr>\n",
              "    <tr>\n",
              "      <th>96</th>\n",
              "      <td>30.231568</td>\n",
              "      <td>233.585923</td>\n",
              "      <td>330.575182</td>\n",
              "      <td>174.198505</td>\n",
              "      <td>272.576452</td>\n",
              "      <td>174.159915</td>\n",
              "      <td>271.263350</td>\n",
              "    </tr>\n",
              "    <tr>\n",
              "      <th>97</th>\n",
              "      <td>30.544068</td>\n",
              "      <td>236.829991</td>\n",
              "      <td>333.787034</td>\n",
              "      <td>174.198505</td>\n",
              "      <td>272.576452</td>\n",
              "      <td>174.159915</td>\n",
              "      <td>271.263350</td>\n",
              "    </tr>\n",
              "    <tr>\n",
              "      <th>98</th>\n",
              "      <td>30.856568</td>\n",
              "      <td>240.074060</td>\n",
              "      <td>336.998886</td>\n",
              "      <td>174.198505</td>\n",
              "      <td>272.576452</td>\n",
              "      <td>174.159915</td>\n",
              "      <td>271.263350</td>\n",
              "    </tr>\n",
              "    <tr>\n",
              "      <th>99</th>\n",
              "      <td>31.169068</td>\n",
              "      <td>243.318128</td>\n",
              "      <td>340.210738</td>\n",
              "      <td>174.198505</td>\n",
              "      <td>272.576452</td>\n",
              "      <td>174.159915</td>\n",
              "      <td>271.263350</td>\n",
              "    </tr>\n",
              "  </tbody>\n",
              "</table>\n",
              "<p>100 rows × 7 columns</p>\n",
              "</div>"
            ],
            "text/plain": [
              "         time     plane_x     plane_y  ...    rocket_y  antirocket_x  antirocket_y\n",
              "0    0.231568  -19.127368    1.542683  ... -497.988955     29.781177     -1.212034\n",
              "1    0.544068  -35.369312    6.582908  ... -490.549611    102.204320    -13.691572\n",
              "2    0.856568  -44.650011   12.862027  ... -480.755950    169.029989    -36.239163\n",
              "3    1.169068  -49.641599   19.244076  ... -470.312102    231.223767    -65.805284\n",
              "4    1.481568  -51.926075   25.271409  ... -459.974750    289.653754   -100.320075\n",
              "..        ...         ...         ...  ...         ...           ...           ...\n",
              "95  29.919068  230.341854  327.363330  ...  272.576452    174.159915    271.263350\n",
              "96  30.231568  233.585923  330.575182  ...  272.576452    174.159915    271.263350\n",
              "97  30.544068  236.829991  333.787034  ...  272.576452    174.159915    271.263350\n",
              "98  30.856568  240.074060  336.998886  ...  272.576452    174.159915    271.263350\n",
              "99  31.169068  243.318128  340.210738  ...  272.576452    174.159915    271.263350\n",
              "\n",
              "[100 rows x 7 columns]"
            ]
          },
          "metadata": {
            "tags": []
          }
        },
        {
          "output_type": "display_data",
          "data": {
            "image/png": "[encoded data removed]",
            "text/plain": [
              "<Figure size 432x288 with 1 Axes>"
            ]
          },
          "metadata": {
            "tags": [],
            "needs_background": "light"
          }
        }
      ]
    }
  ]
}