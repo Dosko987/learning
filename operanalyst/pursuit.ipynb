{
  "nbformat": 4,
  "nbformat_minor": 0,
  "metadata": {
    "colab": {
      "name": "pursuit.ipynb",
      "provenance": [],
      "authorship_tag": "ABX9TyP7n3Gtl2571ZQdzkh+3IZ1",
      "include_colab_link": true
    },
    "kernelspec": {
      "name": "python3",
      "display_name": "Python 3"
    }
  },
  "cells": [
    {
      "cell_type": "markdown",
      "metadata": {
        "id": "view-in-github",
        "colab_type": "text"
      },
      "source": [
        "<a href=\"https://colab.research.google.com/github/hrbolek/learning/blob/master/operanalyst/pursuit.ipynb\" target=\"_parent\"><img src=\"https://colab.research.google.com/assets/colab-badge.svg\" alt=\"Open In Colab\"/></a>"
      ]
    },
    {
      "cell_type": "code",
      "metadata": {
        "id": "CzcvcWu--jwl",
        "colab_type": "code",
        "colab": {}
      },
      "source": [
        "# Teorie pronásledování"
      ],
      "execution_count": 130,
      "outputs": []
    },
    {
      "cell_type": "markdown",
      "metadata": {
        "id": "0HSfyRMBYgXA",
        "colab_type": "text"
      },
      "source": [
        "# Teorie pronásledování"
      ]
    },
    {
      "cell_type": "markdown",
      "metadata": {
        "id": "jmic6EHBYksL",
        "colab_type": "text"
      },
      "source": [
        "## Nevyhnutelné importy"
      ]
    },
    {
      "cell_type": "code",
      "metadata": {
        "id": "x4TCogtp_PVB",
        "colab_type": "code",
        "colab": {}
      },
      "source": [
        "import numpy as np\n",
        "import pandas as pd\n",
        "import matplotlib.pyplot as plt \n",
        "\n",
        "#smallImages = False\n",
        "smallImages = True\n",
        "if smallImages:\n",
        "  plt.rcParams[\"font.size\"] = \"10\"\n",
        "  plt.rcParams[\"figure.figsize\"] = (15, 10)\n",
        "else:\n",
        "  plt.rcParams[\"font.size\"] = \"18\"\n",
        "  plt.rcParams[\"figure.figsize\"] = (25, 24)"
      ],
      "execution_count": 131,
      "outputs": []
    },
    {
      "cell_type": "markdown",
      "metadata": {
        "id": "hPnSghVgYn_0",
        "colab_type": "text"
      },
      "source": [
        "## Zobrazení datových výstupů"
      ]
    },
    {
      "cell_type": "code",
      "metadata": {
        "id": "YMqfvVYsCGCL",
        "colab_type": "code",
        "colab": {
          "base_uri": "https://localhost:8080/",
          "height": 921
        },
        "outputId": "70b11809-3038-481d-f48d-6b27bbd1cdb2"
      },
      "source": [
        "def displayData(data):\n",
        "  display(pd.DataFrame(data))\n",
        "\n",
        "def plotData(data, x = 0, y = 1, ax = None):\n",
        "  df = pd.DataFrame(data)\n",
        "  newax = None\n",
        "  if ax is None:\n",
        "    newax = df.plot.line(x = x, y = y)\n",
        "  else:\n",
        "    newax = df.plot.line(x = x, y = y, ax = ax)\n",
        "  return newax\n",
        "\n",
        "#=================#\n",
        "# example of use  #\n",
        "#=================#\n",
        "#data = [(0, 0), (1, 1), (2, 4), (3, 9), (4, 16), (5, 25), (6, 36), (7, 49)]\n",
        "data = [\n",
        "  {'x': 0, 'y': 0}, {'x': 1, 'y': 1}, {'x': 2, 'y': 4},\n",
        "  {'x': 3, 'y': 9}, {'x': 4, 'y': 16}, {'x': 5, 'y': 25},\n",
        "  {'x': 6, 'y': 36}, {'x': 7, 'y': 49}, {'x': 8, 'y': 64},\n",
        "]\n",
        "plotData(data)\n",
        "plt.grid(which='both')\n",
        "displayData(data)"
      ],
      "execution_count": 132,
      "outputs": [
        {
          "output_type": "display_data",
          "data": {
            "text/html": [
              "<div>\n",
              "<style scoped>\n",
              "    .dataframe tbody tr th:only-of-type {\n",
              "        vertical-align: middle;\n",
              "    }\n",
              "\n",
              "    .dataframe tbody tr th {\n",
              "        vertical-align: top;\n",
              "    }\n",
              "\n",
              "    .dataframe thead th {\n",
              "        text-align: right;\n",
              "    }\n",
              "</style>\n",
              "<table border=\"1\" class=\"dataframe\">\n",
              "  <thead>\n",
              "    <tr style=\"text-align: right;\">\n",
              "      <th></th>\n",
              "      <th>x</th>\n",
              "      <th>y</th>\n",
              "    </tr>\n",
              "  </thead>\n",
              "  <tbody>\n",
              "    <tr>\n",
              "      <th>0</th>\n",
              "      <td>0</td>\n",
              "      <td>0</td>\n",
              "    </tr>\n",
              "    <tr>\n",
              "      <th>1</th>\n",
              "      <td>1</td>\n",
              "      <td>1</td>\n",
              "    </tr>\n",
              "    <tr>\n",
              "      <th>2</th>\n",
              "      <td>2</td>\n",
              "      <td>4</td>\n",
              "    </tr>\n",
              "    <tr>\n",
              "      <th>3</th>\n",
              "      <td>3</td>\n",
              "      <td>9</td>\n",
              "    </tr>\n",
              "    <tr>\n",
              "      <th>4</th>\n",
              "      <td>4</td>\n",
              "      <td>16</td>\n",
              "    </tr>\n",
              "    <tr>\n",
              "      <th>5</th>\n",
              "      <td>5</td>\n",
              "      <td>25</td>\n",
              "    </tr>\n",
              "    <tr>\n",
              "      <th>6</th>\n",
              "      <td>6</td>\n",
              "      <td>36</td>\n",
              "    </tr>\n",
              "    <tr>\n",
              "      <th>7</th>\n",
              "      <td>7</td>\n",
              "      <td>49</td>\n",
              "    </tr>\n",
              "    <tr>\n",
              "      <th>8</th>\n",
              "      <td>8</td>\n",
              "      <td>64</td>\n",
              "    </tr>\n",
              "  </tbody>\n",
              "</table>\n",
              "</div>"
            ],
            "text/plain": [
              "   x   y\n",
              "0  0   0\n",
              "1  1   1\n",
              "2  2   4\n",
              "3  3   9\n",
              "4  4  16\n",
              "5  5  25\n",
              "6  6  36\n",
              "7  7  49\n",
              "8  8  64"
            ]
          },
          "metadata": {
            "tags": []
          }
        },
        {
          "output_type": "display_data",
          "data": {
            "image/png": "[encoded data removed]",
            "text/plain": [
              "<Figure size 1080x720 with 1 Axes>"
            ]
          },
          "metadata": {
            "tags": [],
            "needs_background": "light"
          }
        }
      ]
    },
    {
      "cell_type": "markdown",
      "metadata": {
        "id": "AcrHM4uGYsWc",
        "colab_type": "text"
      },
      "source": [
        "## Pomocné funkce"
      ]
    },
    {
      "cell_type": "code",
      "metadata": {
        "id": "9PaWmWMuClQE",
        "colab_type": "code",
        "colab": {}
      },
      "source": [
        "def Vector(*args):\n",
        "  return np.array(args)"
      ],
      "execution_count": 133,
      "outputs": []
    },
    {
      "cell_type": "code",
      "metadata": {
        "id": "tJBeR3_9E4II",
        "colab_type": "code",
        "colab": {}
      },
      "source": [
        "def multimap(generator, **maps):\n",
        "  for item in generator:\n",
        "    result = {}\n",
        "    for key, func in maps.items():\n",
        "      result[key] = func(item)\n",
        "    yield result"
      ],
      "execution_count": 134,
      "outputs": []
    },
    {
      "cell_type": "code",
      "metadata": {
        "id": "53PozLDNBM4h",
        "colab_type": "code",
        "colab": {}
      },
      "source": [
        "def take(generator, count = 100):\n",
        "  for index, item in enumerate(generator):\n",
        "    if index == count: \n",
        "      break\n",
        "    yield item"
      ],
      "execution_count": 135,
      "outputs": []
    },
    {
      "cell_type": "code",
      "metadata": {
        "id": "z-TKMXqnBjOe",
        "colab_type": "code",
        "colab": {}
      },
      "source": [
        "def select(generator, name):\n",
        "  for item in generator:\n",
        "    yield item[name]"
      ],
      "execution_count": 136,
      "outputs": []
    },
    {
      "cell_type": "code",
      "metadata": {
        "id": "Y52TdL_hLcyg",
        "colab_type": "code",
        "colab": {}
      },
      "source": [
        "def untilPlusOne(generator, f):\n",
        "  for item in generator:\n",
        "    yield item\n",
        "    if f(item):\n",
        "      break"
      ],
      "execution_count": 137,
      "outputs": []
    },
    {
      "cell_type": "markdown",
      "metadata": {
        "id": "HFoya4K5YznX",
        "colab_type": "text"
      },
      "source": [
        "## Pronásledovaný"
      ]
    },
    {
      "cell_type": "code",
      "metadata": {
        "id": "fD4ZrfQT_Pc7",
        "colab_type": "code",
        "colab": {}
      },
      "source": [
        "def createRunner(position, velocity, t0 = 0, dt = 1):\n",
        "  def runner():\n",
        "    currentTime = t0\n",
        "    currentPosition = position\n",
        "    while True:\n",
        "      yield {'t': currentTime, 'rpos': currentPosition}\n",
        "      currentPosition = currentPosition + dt * velocity\n",
        "      currentTime = currentTime + dt\n",
        "  return runner"
      ],
      "execution_count": 138,
      "outputs": []
    },
    {
      "cell_type": "code",
      "metadata": {
        "id": "szx6L8eFAnUY",
        "colab_type": "code",
        "colab": {
          "base_uri": "https://localhost:8080/",
          "height": 606
        },
        "outputId": "5734a02e-2626-4b49-a424-c976dcfa5b2f"
      },
      "source": [
        "myRunner = createRunner(Vector(100, 0), Vector(10, 10))\n",
        "results = take(select(myRunner(), 'rpos'), 100)\n",
        "plotData(results)\n",
        "plt.grid(which = 'both')  \n",
        "plt.gca().set_aspect('equal')"
      ],
      "execution_count": 139,
      "outputs": [
        {
          "output_type": "display_data",
          "data": {
            "image/png": "[encoded data removed]",
            "text/plain": [
              "<Figure size 1080x720 with 1 Axes>"
            ]
          },
          "metadata": {
            "tags": [],
            "needs_background": "light"
          }
        }
      ]
    },
    {
      "cell_type": "markdown",
      "metadata": {
        "id": "CfsaJuaxY41b",
        "colab_type": "text"
      },
      "source": [
        "## Pronásledující"
      ]
    },
    {
      "cell_type": "code",
      "metadata": {
        "id": "w_Zbai8eCci0",
        "colab_type": "code",
        "colab": {}
      },
      "source": [
        "def createFollower(position, v0, t0 = 0):\n",
        "  def follower(runner):\n",
        "    currentPosition = position\n",
        "    currentTime = t0\n",
        "    #currentVelocity = v0\n",
        "    for state in runner:\n",
        "      runnerPosition = state['rpos']\n",
        "      runnerTime = state['t']\n",
        "\n",
        "      deltaTime = runnerTime - currentTime\n",
        "      headToRunner = runnerPosition - currentPosition\n",
        "      headToRunnerAbs = np.linalg.norm(headToRunner)\n",
        "      \n",
        "      velocity = headToRunner / headToRunnerAbs * v0\n",
        "      currentPosition = currentPosition + deltaTime * velocity\n",
        "      yield {**state, 'fpos': currentPosition, 'fv': velocity}\n",
        "\n",
        "      currentTime = runnerTime\n",
        "\n",
        "  return follower"
      ],
      "execution_count": 140,
      "outputs": []
    },
    {
      "cell_type": "code",
      "metadata": {
        "id": "-BEzQsGJFb-c",
        "colab_type": "code",
        "colab": {
          "base_uri": "https://localhost:8080/",
          "height": 970
        },
        "outputId": "24d3b9e8-fc0b-4b4b-932f-34c4159d7890"
      },
      "source": [
        "myRunner = createRunner(Vector(100, 0), Vector(10, 10), dt = 0.1)\n",
        "myFollower = createFollower(Vector(0, 0), 20)\n",
        "\n",
        "maps = {\n",
        "    't': lambda item: item['t'],\n",
        "    'rx': lambda item: item['rpos'][0],\n",
        "    'ry': lambda item: item['rpos'][1],\n",
        "    'fx': lambda item: item['fpos'][0],\n",
        "    'fy': lambda item: item['fpos'][1],\n",
        "    'fvx': lambda item: item['fv'][0],\n",
        "    'fvy': lambda item: item['fv'][1],\n",
        "    }\n",
        "\n",
        "results = list(take(multimap(myFollower(myRunner()), **maps), 150))\n",
        "displayData(results)\n",
        "\n",
        "ax = plotData(results, 'rx', 'ry')\n",
        "ax = plotData(results, 'fx', 'fy', ax = ax)\n",
        "plt.grid(which = 'both')  \n",
        "plt.gca().set_aspect('equal')"
      ],
      "execution_count": 141,
      "outputs": [
        {
          "output_type": "display_data",
          "data": {
            "text/html": [
              "<div>\n",
              "<style scoped>\n",
              "    .dataframe tbody tr th:only-of-type {\n",
              "        vertical-align: middle;\n",
              "    }\n",
              "\n",
              "    .dataframe tbody tr th {\n",
              "        vertical-align: top;\n",
              "    }\n",
              "\n",
              "    .dataframe thead th {\n",
              "        text-align: right;\n",
              "    }\n",
              "</style>\n",
              "<table border=\"1\" class=\"dataframe\">\n",
              "  <thead>\n",
              "    <tr style=\"text-align: right;\">\n",
              "      <th></th>\n",
              "      <th>t</th>\n",
              "      <th>rx</th>\n",
              "      <th>ry</th>\n",
              "      <th>fx</th>\n",
              "      <th>fy</th>\n",
              "      <th>fvx</th>\n",
              "      <th>fvy</th>\n",
              "    </tr>\n",
              "  </thead>\n",
              "  <tbody>\n",
              "    <tr>\n",
              "      <th>0</th>\n",
              "      <td>0.0</td>\n",
              "      <td>100.0</td>\n",
              "      <td>0.0</td>\n",
              "      <td>0.000000</td>\n",
              "      <td>0.000000</td>\n",
              "      <td>20.000000</td>\n",
              "      <td>0.000000</td>\n",
              "    </tr>\n",
              "    <tr>\n",
              "      <th>1</th>\n",
              "      <td>0.1</td>\n",
              "      <td>101.0</td>\n",
              "      <td>1.0</td>\n",
              "      <td>1.999902</td>\n",
              "      <td>0.019801</td>\n",
              "      <td>19.999020</td>\n",
              "      <td>0.198010</td>\n",
              "    </tr>\n",
              "    <tr>\n",
              "      <th>2</th>\n",
              "      <td>0.2</td>\n",
              "      <td>102.0</td>\n",
              "      <td>2.0</td>\n",
              "      <td>3.999510</td>\n",
              "      <td>0.059397</td>\n",
              "      <td>19.996080</td>\n",
              "      <td>0.395962</td>\n",
              "    </tr>\n",
              "    <tr>\n",
              "      <th>3</th>\n",
              "      <td>0.3</td>\n",
              "      <td>103.0</td>\n",
              "      <td>3.0</td>\n",
              "      <td>5.998628</td>\n",
              "      <td>0.118777</td>\n",
              "      <td>19.991183</td>\n",
              "      <td>0.593796</td>\n",
              "    </tr>\n",
              "    <tr>\n",
              "      <th>4</th>\n",
              "      <td>0.4</td>\n",
              "      <td>104.0</td>\n",
              "      <td>4.0</td>\n",
              "      <td>7.997062</td>\n",
              "      <td>0.197922</td>\n",
              "      <td>19.984334</td>\n",
              "      <td>0.791455</td>\n",
              "    </tr>\n",
              "    <tr>\n",
              "      <th>...</th>\n",
              "      <td>...</td>\n",
              "      <td>...</td>\n",
              "      <td>...</td>\n",
              "      <td>...</td>\n",
              "      <td>...</td>\n",
              "      <td>...</td>\n",
              "      <td>...</td>\n",
              "    </tr>\n",
              "    <tr>\n",
              "      <th>145</th>\n",
              "      <td>14.5</td>\n",
              "      <td>245.0</td>\n",
              "      <td>145.0</td>\n",
              "      <td>243.013106</td>\n",
              "      <td>143.014850</td>\n",
              "      <td>14.148343</td>\n",
              "      <td>14.135925</td>\n",
              "    </tr>\n",
              "    <tr>\n",
              "      <th>146</th>\n",
              "      <td>14.6</td>\n",
              "      <td>246.0</td>\n",
              "      <td>146.0</td>\n",
              "      <td>244.427733</td>\n",
              "      <td>144.428651</td>\n",
              "      <td>14.146265</td>\n",
              "      <td>14.138005</td>\n",
              "    </tr>\n",
              "    <tr>\n",
              "      <th>147</th>\n",
              "      <td>14.7</td>\n",
              "      <td>247.0</td>\n",
              "      <td>147.0</td>\n",
              "      <td>245.842199</td>\n",
              "      <td>145.842612</td>\n",
              "      <td>14.144659</td>\n",
              "      <td>14.139611</td>\n",
              "    </tr>\n",
              "    <tr>\n",
              "      <th>148</th>\n",
              "      <td>14.8</td>\n",
              "      <td>248.0</td>\n",
              "      <td>148.0</td>\n",
              "      <td>247.256548</td>\n",
              "      <td>147.256690</td>\n",
              "      <td>14.143490</td>\n",
              "      <td>14.140781</td>\n",
              "    </tr>\n",
              "    <tr>\n",
              "      <th>149</th>\n",
              "      <td>14.9</td>\n",
              "      <td>249.0</td>\n",
              "      <td>149.0</td>\n",
              "      <td>248.670819</td>\n",
              "      <td>148.670846</td>\n",
              "      <td>14.142713</td>\n",
              "      <td>14.141558</td>\n",
              "    </tr>\n",
              "  </tbody>\n",
              "</table>\n",
              "<p>150 rows × 7 columns</p>\n",
              "</div>"
            ],
            "text/plain": [
              "        t     rx     ry          fx          fy        fvx        fvy\n",
              "0     0.0  100.0    0.0    0.000000    0.000000  20.000000   0.000000\n",
              "1     0.1  101.0    1.0    1.999902    0.019801  19.999020   0.198010\n",
              "2     0.2  102.0    2.0    3.999510    0.059397  19.996080   0.395962\n",
              "3     0.3  103.0    3.0    5.998628    0.118777  19.991183   0.593796\n",
              "4     0.4  104.0    4.0    7.997062    0.197922  19.984334   0.791455\n",
              "..    ...    ...    ...         ...         ...        ...        ...\n",
              "145  14.5  245.0  145.0  243.013106  143.014850  14.148343  14.135925\n",
              "146  14.6  246.0  146.0  244.427733  144.428651  14.146265  14.138005\n",
              "147  14.7  247.0  147.0  245.842199  145.842612  14.144659  14.139611\n",
              "148  14.8  248.0  148.0  247.256548  147.256690  14.143490  14.140781\n",
              "149  14.9  249.0  149.0  248.670819  148.670846  14.142713  14.141558\n",
              "\n",
              "[150 rows x 7 columns]"
            ]
          },
          "metadata": {
            "tags": []
          }
        },
        {
          "output_type": "display_data",
          "data": {
            "image/png": "[encoded data removed]",
            "text/plain": [
              "<Figure size 1080x720 with 1 Axes>"
            ]
          },
          "metadata": {
            "tags": [],
            "needs_background": "light"
          }
        }
      ]
    },
    {
      "cell_type": "markdown",
      "metadata": {
        "id": "Ny32iJkKZGtc",
        "colab_type": "text"
      },
      "source": [
        "## Rozhodčí (test střetu)"
      ]
    },
    {
      "cell_type": "code",
      "metadata": {
        "id": "fFzV0ibpKBE_",
        "colab_type": "code",
        "colab": {}
      },
      "source": [
        "def createJudge(distanceLimit = 10, runnerName = 'rpos', followerName = 'fpos', jName = 'judgement'):\n",
        "  def judge(dataSequence):\n",
        "    for item in dataSequence:\n",
        "      distance = np.linalg.norm(item[runnerName] - item[followerName])\n",
        "      result = distance <= distanceLimit\n",
        "      yield {**item, jName: result}\n",
        "  return judge"
      ],
      "execution_count": 142,
      "outputs": []
    },
    {
      "cell_type": "code",
      "metadata": {
        "id": "0mTkrMHcK0en",
        "colab_type": "code",
        "colab": {
          "base_uri": "https://localhost:8080/",
          "height": 35
        },
        "outputId": "a0d108ad-e48f-4b7b-97e6-9543b37c3401"
      },
      "source": [
        "def experiment(runnerPos, runnerVelocity, followerPos, followerVelocity):\n",
        "  myRunner = createRunner(runnerPos, runnerVelocity, dt = 0.1)\n",
        "  myFollower = createFollower(followerPos, followerVelocity)\n",
        "  myJudge = createJudge(distanceLimit = 5)\n",
        "\n",
        "  results = untilPlusOne(myJudge(myFollower(myRunner())), lambda item: item['judgement'])\n",
        "  #results = myJudge(myFollower(myRunner()))\n",
        "  litem = {}\n",
        "  for item in results:\n",
        "    litem = item\n",
        "  return litem\n",
        "\n",
        "print(experiment(Vector(100, 0), Vector(10, 10), Vector(0, 0), 20))"
      ],
      "execution_count": 143,
      "outputs": [
        {
          "output_type": "stream",
          "text": [
            "{'t': 14.199999999999966, 'rpos': array([242., 142.]), 'fpos': array([238.76777382, 138.77490287]), 'fv': array([14.15774028, 14.12651373]), 'judgement': True}\n"
          ],
          "name": "stdout"
        }
      ]
    },
    {
      "cell_type": "markdown",
      "metadata": {
        "id": "LWCP66E3ZNdl",
        "colab_type": "text"
      },
      "source": [
        "## Appoloniova křivka (jeden pronásledující)"
      ]
    },
    {
      "cell_type": "code",
      "metadata": {
        "id": "z7jAYl-fPBf5",
        "colab_type": "code",
        "colab": {
          "base_uri": "https://localhost:8080/",
          "height": 606
        },
        "outputId": "d35e1544-59f2-4db5-a93b-03084717f7e5"
      },
      "source": [
        "from math import sin, cos, pi\n",
        "\n",
        "def multiExperiment(runnerPos, runnerVelocity, followerPos, followerVelocity):\n",
        "  count = 48\n",
        "  deltaAngle = 2 * pi / count\n",
        "  deltaAngle2 = deltaAngle / 2\n",
        "  for index in range(count):\n",
        "    currentAngle = index * deltaAngle + deltaAngle2\n",
        "    currentVelocity = Vector(runnerVelocity * cos(currentAngle), runnerVelocity * sin(currentAngle))\n",
        "    meetingPoint = experiment(runnerPos, currentVelocity, followerPos, followerVelocity)\n",
        "    yield meetingPoint\n",
        "\n",
        "\n",
        "results = list(multimap(multiExperiment(Vector(100, 0), 14.2, Vector(0, 0), 20), **maps))\n",
        "ax = plotData(results, 'rx', 'ry')\n",
        "plt.grid(which = 'both')  \n",
        "plt.gca().set_aspect('equal')"
      ],
      "execution_count": 144,
      "outputs": [
        {
          "output_type": "display_data",
          "data": {
            "image/png": "[encoded data removed]",
            "text/plain": [
              "<Figure size 1080x720 with 1 Axes>"
            ]
          },
          "metadata": {
            "tags": [],
            "needs_background": "light"
          }
        }
      ]
    },
    {
      "cell_type": "code",
      "metadata": {
        "id": "AHxijezsaB4X",
        "colab_type": "code",
        "colab": {
          "base_uri": "https://localhost:8080/",
          "height": 135
        },
        "outputId": "7ceae4d6-6236-4397-fba6-0992d8b5477b"
      },
      "source": [
        "def experiment2(runnerPos, runnerVelocity, followerPosA, followerPosB, followerVelocity):\n",
        "  myRunner = createRunner(runnerPos, runnerVelocity, dt = 0.1)\n",
        "  myFollowerA = createFollower(followerPos, followerVelocity)\n",
        "  myFollowerB = createFollower(followerPos, followerVelocity)\n",
        "  myJudgeA = createJudge(distanceLimit = 5, jName = 'judgementA')\n",
        "  myJudgeB = createJudge(distanceLimit = 5, jName = 'judgementB')\n",
        "\n",
        "\n",
        "  followersWithRunner = myFollowerB(myFollowerA(myRunner()))\n",
        "  withJudges = myJudgeB(myJudgeA(followersWithRunner))\n",
        "\n",
        "  results = untilPlusOne(withJudges, lambda item: not(item['judgementA'] == False) &  not(item['judgementA'] == False))\n",
        "  #results = myJudge(myFollower(myRunner()))\n",
        "  litem = {}\n",
        "  for item in results:\n",
        "    litem = item\n",
        "  return litem\n",
        "\n",
        "def multiExperiment2(runnerPos, runnerVelocity, followerPosA, followerPosB, followerVelocity):\n",
        "  count = 48\n",
        "  deltaAngle = 2 * pi / count\n",
        "  deltaAngle2 = deltaAngle / 2\n",
        "  for index in range(count):\n",
        "    currentAngle = index * deltaAngle + deltaAngle2\n",
        "    currentVelocity = Vector(runnerVelocity * cos(currentAngle), runnerVelocity * sin(currentAngle))\n",
        "    meetingPoint = experiment2(runnerPos, currentVelocity, followerPosA, followerPosB, followerVelocity)\n",
        "    yield meetingPoint\n",
        "\n",
        "\n",
        "results = list(multimap(multiExperiment(Vector(100, 0), 14.2, Vector(50, 0), Vector(0, -50), 20), **maps))\n",
        "ax = plotData(results, 'rx', 'ry')\n",
        "plt.grid(which = 'both')  \n",
        "plt.gca().set_aspect('equal')"
      ],
      "execution_count": 146,
      "outputs": [
        {
          "output_type": "error",
          "ename": "SyntaxError",
          "evalue": "ignored",
          "traceback": [
            "\u001b[0;36m  File \u001b[0;32m\"<ipython-input-146-3289f65e37b8>\"\u001b[0;36m, line \u001b[0;32m12\u001b[0m\n\u001b[0;31m    results = untilPlusOne(withJudges, lambda item: not(item['judgementA'] == False) &  not(item['judgementA'] == False))\u001b[0m\n\u001b[0m                                                                                          ^\u001b[0m\n\u001b[0;31mSyntaxError\u001b[0m\u001b[0;31m:\u001b[0m invalid syntax\n"
          ]
        }
      ]
    }
  ]
}