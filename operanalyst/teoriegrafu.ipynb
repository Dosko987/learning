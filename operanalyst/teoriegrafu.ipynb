{
  "nbformat": 4,
  "nbformat_minor": 0,
  "metadata": {
    "colab": {
      "name": "TeorieGrafů.ipynb",
      "provenance": [],
      "toc_visible": true,
      "authorship_tag": "ABX9TyOTYAsxiERlWaZ8X+zUqIKR",
      "include_colab_link": true
    },
    "kernelspec": {
      "name": "python3",
      "display_name": "Python 3"
    }
  },
  "cells": [
    {
      "cell_type": "markdown",
      "metadata": {
        "id": "view-in-github",
        "colab_type": "text"
      },
      "source": [
        "<a href=\"https://colab.research.google.com/github/hrbolek/learning/blob/master/operanalyst/teoriegrafu.ipynb\" target=\"_parent\"><img src=\"https://colab.research.google.com/assets/colab-badge.svg\" alt=\"Open In Colab\"/></a>"
      ]
    },
    {
      "cell_type": "markdown",
      "metadata": {
        "id": "qpFKzzazBjuU"
      },
      "source": [
        "# Teorie grafů"
      ]
    },
    {
      "cell_type": "markdown",
      "metadata": {
        "id": "3gdDmS4GHtKj"
      },
      "source": [
        "## Matematický popis"
      ]
    },
    {
      "cell_type": "markdown",
      "metadata": {
        "id": "Lp3mwf85Bn27"
      },
      "source": [
        "$$G=(V,E)$$\n",
        "$V$ je množina vrcholů, $E\\subseteq\\{\\{x,y\\}|x,y \\in V, x \\ne y\\}$ je množina hran.\n",
        "\n",
        "Rozlišujeme neorientované a orientované grafy."
      ]
    },
    {
      "cell_type": "markdown",
      "metadata": {
        "id": "QVSrjg_RHwUE"
      },
      "source": [
        "## Grafické vyjádření"
      ]
    },
    {
      "cell_type": "markdown",
      "metadata": {
        "id": "jwzAlTV5JdPA"
      },
      "source": [
        "![obrazek.png](data:image/png;base64,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)"
      ]
    },
    {
      "cell_type": "markdown",
      "metadata": {
        "id": "X3qkykRFJeTK"
      },
      "source": [
        "## Vyjádření ve formě incidenční matice"
      ]
    },
    {
      "cell_type": "markdown",
      "metadata": {
        "id": "Kgjf32rkJneC"
      },
      "source": [
        "$$G_m=\n",
        "\\begin{pmatrix}\n",
        "\\times & 1 & 1 & 1 \\\\\n",
        "0 & \\times & 1 & 0 \\\\\n",
        "0 & 0 & \\times & 0 \\\\\n",
        "0 & 0 & 0 & \\times\n",
        "\\end{pmatrix}$$"
      ]
    },
    {
      "cell_type": "markdown",
      "metadata": {
        "id": "VygMYWUIKi6u"
      },
      "source": [
        "Symboly $\\times$ na diagonále matice představují nepřípustnost hrany, jejíž oba vrcholy jsou shodné (v některých grafech je toto možné). U existujících hran je uvedena hodnota 1, u neexistujících je uvedena hodnota 0. Řádky odpovídají vrcholům, ze kterých hrana vychází, sloupce odpovídají vrcholém, kde hrana končí."
      ]
    },
    {
      "cell_type": "markdown",
      "metadata": {
        "id": "F9MmJj32LnIr"
      },
      "source": [
        "### Vyjádření v programovacích jazycích"
      ]
    },
    {
      "cell_type": "markdown",
      "metadata": {
        "id": "JDHEepZ_LoWW"
      },
      "source": [
        "Vyjádření pomocí matice\n",
        "```\n",
        "G =[[0, 1, 1, 1], [0, 0, 1, 0], [0, 0, 0, 0], [0, 0, 0, 0]]\n",
        "```\n",
        "Vyjádření pomocí dictionary\n",
        "```\n",
        "G = {\n",
        "  'A': {'B': 1, 'C': 1, 'D': 1},\n",
        "  'B': {'C': 1}\n",
        "  }\n",
        "```\n"
      ]
    },
    {
      "cell_type": "markdown",
      "metadata": {
        "id": "9m410fbqMdB0"
      },
      "source": [
        "## Ohodnocení hran"
      ]
    },
    {
      "cell_type": "markdown",
      "metadata": {
        "id": "6LDGr_l1MgZU"
      },
      "source": [
        "Velmi častým případem je matematický graf, ve kterém je ke každé hraně přiřazena hodnota. Datový typ obecně není omezen, často se ovšem předpokládá, že touto hodnotou je číslo.\n",
        "\n",
        "Obdobně i k vrcholům muže být přiřazena hodnota."
      ]
    },
    {
      "cell_type": "markdown",
      "metadata": {
        "id": "V6CdK4fPMWUt"
      },
      "source": [
        "## Hledání nejkratší cesty v grafu"
      ]
    },
    {
      "cell_type": "markdown",
      "metadata": {
        "id": "Kb7E226INDid"
      },
      "source": [
        "Pro hledání nejkratší cesty v grafu je nutné mít jednotlivé hrany ohodnoceny číslem $f:V \\to \\mathbb{R}$ přičemž $f(v_i) \\ge 0$. Předpokládá se, že délka žádné hrany není záporná."
      ]
    },
    {
      "cell_type": "markdown",
      "metadata": {
        "id": "MlSXZe60OhXC"
      },
      "source": [
        "Dijkstrův algoritmus\n",
        "\n",
        "Mějme graf $G$, v němž hledáme nejkratší cestu. Řekněme, že $V$ je množina všech vrcholů grafu $G$ a&nbsp;množina $E$ obsahuje všechny hrany grafu $G$. Algoritmus pracuje tak, že si pro každý vrchol $v$ z&nbsp;$V$ pamatuje délku nejkratší cesty, kterou se k němu dá dostat. Označme tuto hodnotu jako $d[v]$. Na začátku mají všechny vrcholy $v$ hodnotu $d[v] = \\infty$, kromě počátečního vrcholu $s$, který má $d[s]=0$. Nekonečno symbolizuje, že neznáme cestu k&nbsp;vrcholu.\n",
        "\n",
        "Dále si algoritmus udržuje množiny $Z$ a&nbsp;$N$, kde $Z$ obsahuje už navštívené vrcholy a $N$ dosud nenavštívené. Algoritmus pracuje v&nbsp;cyklu tak dlouho, dokud $N$ není prázdná. V&nbsp;každém průchodu cyklu se přidá jeden vrchol $v_{min}$ z&nbsp;$N$ do&nbsp;$Z$, a&nbsp;to takový, který má nejmenší hodnotu $d[v]$ ze&nbsp;všech vrcholů $v$ z&nbsp;$N$.\n",
        "\n",
        "Pro každý vrchol $u$, do&nbsp;kterého vede hrana (označme její délku jako $l(v_{min},u)$) z $v_{min}$, se provede následující operace: pokud $(d[v_{min}] + l(v_{min},u)) < d[u]$, pak do&nbsp;$d[u]$ přiřaď hodnotu $d[v_{min}] + l(v_{min},u)$, jinak neprováděj nic.\n",
        "\n",
        "Když algoritmus skončí, pro každý vrchol $v$ z&nbsp;$V$ je délka jeho nejkratší cesty od počátečního vrcholu $s$ uložena v&nbsp;$d[v]$.\n",
        "\n",
        "Převzato z [Wiki](https://cs.wikipedia.org/wiki/Dijkstr%C5%AFv_algoritmus)."
      ]
    },
    {
      "cell_type": "markdown",
      "metadata": {
        "id": "vMfXumueQ4Su"
      },
      "source": [
        "### Výpočet s využitím Python"
      ]
    },
    {
      "cell_type": "code",
      "metadata": {
        "id": "vnrqKWhQBMK3"
      },
      "source": [
        "import networkx as nx"
      ],
      "execution_count": 31,
      "outputs": []
    },
    {
      "cell_type": "code",
      "metadata": {
        "id": "mDFwUFinPIFF",
        "outputId": "3dea966a-a17a-49b2-f41f-5493483924ff",
        "colab": {
          "base_uri": "https://localhost:8080/",
          "height": 35
        }
      },
      "source": [
        "G = nx.Graph()   # neorientovaný\n",
        "G = nx.DiGraph() # orientovaný\n",
        "G.add_edge('A', 'B', weight=4)\n",
        "G.add_edge('B', 'D', weight=2)\n",
        "G.add_edge('A', 'C', weight=3)\n",
        "G.add_edge('C', 'D', weight=4)\n",
        "path = nx.shortest_path(G, 'A', 'D', weight='weight')\n",
        "print(path)"
      ],
      "execution_count": 32,
      "outputs": [
        {
          "output_type": "stream",
          "text": [
            "['A', 'B', 'D']\n"
          ],
          "name": "stdout"
        }
      ]
    },
    {
      "cell_type": "markdown",
      "metadata": {
        "id": "GgbGiQM6Zr6S"
      },
      "source": [
        "### Základní operace nad grafem v Python"
      ]
    },
    {
      "cell_type": "markdown",
      "metadata": {
        "id": "UafVDYjJZz9K"
      },
      "source": [
        "#### Výpis grafu"
      ]
    },
    {
      "cell_type": "code",
      "metadata": {
        "id": "7f9lBge5WAdu",
        "outputId": "c4bf32cf-d42b-4502-b124-3f9acb64fbbd",
        "colab": {
          "base_uri": "https://localhost:8080/",
          "height": 164
        }
      },
      "source": [
        "def displayGraph(G):\n",
        "  for nodeid, params in G.nodes.data():\n",
        "    print(nodeid, params)\n",
        "  for nodeA, nodeB, params in G.edges.data():\n",
        "    print(nodeA, nodeB, params)\n",
        "\n",
        "displayGraph(G)"
      ],
      "execution_count": 33,
      "outputs": [
        {
          "output_type": "stream",
          "text": [
            "A {}\n",
            "B {}\n",
            "D {}\n",
            "C {}\n",
            "A B {'weight': 4}\n",
            "A C {'weight': 3}\n",
            "B D {'weight': 2}\n",
            "C D {'weight': 4}\n"
          ],
          "name": "stdout"
        }
      ]
    },
    {
      "cell_type": "markdown",
      "metadata": {
        "id": "LJobgoNRZ6Xk"
      },
      "source": [
        "#### Získání atributů vrcholu"
      ]
    },
    {
      "cell_type": "code",
      "metadata": {
        "id": "SKs2O_OCZ_Pg",
        "outputId": "36c28163-8f6d-41b1-d507-de6562295d64",
        "colab": {
          "base_uri": "https://localhost:8080/",
          "height": 35
        }
      },
      "source": [
        "print(G.nodes['A'])"
      ],
      "execution_count": 34,
      "outputs": [
        {
          "output_type": "stream",
          "text": [
            "{}\n"
          ],
          "name": "stdout"
        }
      ]
    },
    {
      "cell_type": "markdown",
      "metadata": {
        "id": "cCa2SZ9laiar"
      },
      "source": [
        "#### Nastavení atributu u vrcholu"
      ]
    },
    {
      "cell_type": "code",
      "metadata": {
        "id": "qm8F3PhWanpr",
        "outputId": "fd83c6d6-7f59-4ceb-b98d-b501f01250bf",
        "colab": {
          "base_uri": "https://localhost:8080/",
          "height": 35
        }
      },
      "source": [
        "G.nodes['A']['s'] = 1\n",
        "print(G.nodes['A'])"
      ],
      "execution_count": 35,
      "outputs": [
        {
          "output_type": "stream",
          "text": [
            "{'s': 1}\n"
          ],
          "name": "stdout"
        }
      ]
    },
    {
      "cell_type": "markdown",
      "metadata": {
        "id": "6uiGmnsqaBSK"
      },
      "source": [
        "#### Získání atributů hrany"
      ]
    },
    {
      "cell_type": "code",
      "metadata": {
        "id": "0jw6FQglaE91",
        "outputId": "8e290382-3afd-4715-b692-2062d2f6dbd3",
        "colab": {
          "base_uri": "https://localhost:8080/",
          "height": 35
        }
      },
      "source": [
        "print(G.edges['A', 'B'])"
      ],
      "execution_count": 36,
      "outputs": [
        {
          "output_type": "stream",
          "text": [
            "{'weight': 4}\n"
          ],
          "name": "stdout"
        }
      ]
    },
    {
      "cell_type": "markdown",
      "metadata": {
        "id": "tkR_RtXybnK_"
      },
      "source": [
        "#### Nastavení atributu u hrany"
      ]
    },
    {
      "cell_type": "code",
      "metadata": {
        "id": "XicILasCbulH",
        "outputId": "15ea7cab-c2a7-4579-afe4-b5fc28b1da89",
        "colab": {
          "base_uri": "https://localhost:8080/",
          "height": 35
        }
      },
      "source": [
        "G.edges['A', 'B']['visited'] = True\n",
        "print(G.edges['A', 'B'])"
      ],
      "execution_count": 37,
      "outputs": [
        {
          "output_type": "stream",
          "text": [
            "{'weight': 4, 'visited': True}\n"
          ],
          "name": "stdout"
        }
      ]
    },
    {
      "cell_type": "markdown",
      "metadata": {
        "id": "DRT3fpd7p1Vy"
      },
      "source": [
        "#### Následníci z vrcholu"
      ]
    },
    {
      "cell_type": "code",
      "metadata": {
        "id": "YO3i4h5Jp_gp",
        "outputId": "dc403f84-edf0-46e8-c349-857664211c37",
        "colab": {
          "base_uri": "https://localhost:8080/",
          "height": 54
        }
      },
      "source": [
        "def getAscendents(G, node): # Vrací následníky vrcholu v grafu\n",
        "  for item in nx.networkx.classes.function.neighbors(G, node):\n",
        "    yield item\n",
        "  pass\n",
        "\n",
        "for node in getAscendents(G, 'A'):\n",
        "  print(node)"
      ],
      "execution_count": 39,
      "outputs": [
        {
          "output_type": "stream",
          "text": [
            "B\n",
            "C\n"
          ],
          "name": "stdout"
        }
      ]
    },
    {
      "cell_type": "markdown",
      "metadata": {
        "id": "EtTWjkMNp7gB"
      },
      "source": [
        "#### Předchůdci z vrcholu"
      ]
    },
    {
      "cell_type": "code",
      "metadata": {
        "id": "6HBZ9h68qGdU",
        "outputId": "b8c51744-f3ea-4692-ce16-378b03277e5d",
        "colab": {
          "base_uri": "https://localhost:8080/",
          "height": 54
        }
      },
      "source": [
        "def getPrecedents(G, node): # Vrací předchůdce vrcholu v grafu\n",
        "  for startNode, endNode, attributes in G.edges.data():\n",
        "    if endNode == node:\n",
        "      yield startNode\n",
        "  pass\n",
        "\n",
        "for node in getPrecedents(G, 'D'):\n",
        "  print(node)"
      ],
      "execution_count": 40,
      "outputs": [
        {
          "output_type": "stream",
          "text": [
            "B\n",
            "C\n"
          ],
          "name": "stdout"
        }
      ]
    },
    {
      "cell_type": "markdown",
      "metadata": {
        "id": "oW6ZZ1Bs4SMG"
      },
      "source": [
        "#### Vykreslení grafu"
      ]
    },
    {
      "cell_type": "code",
      "metadata": {
        "id": "2d2144MwZwg6",
        "outputId": "3b18a461-a6ee-480d-bb94-9fa126d54e7b",
        "colab": {
          "base_uri": "https://localhost:8080/",
          "height": 319
        }
      },
      "source": [
        "nx.draw(G, with_labels=True, font_weight='bold')"
      ],
      "execution_count": 38,
      "outputs": [
        {
          "output_type": "display_data",
          "data": {
            "image/png": "[encoded data removed]",
            "text/plain": [
              "<Figure size 432x288 with 1 Axes>"
            ]
          },
          "metadata": {
            "tags": []
          }
        }
      ]
    },
    {
      "cell_type": "markdown",
      "metadata": {
        "id": "xNwQ3g3kRK1t"
      },
      "source": [
        "## Metoda kritické cesty (Critical path method CPM)"
      ]
    },
    {
      "cell_type": "markdown",
      "metadata": {
        "id": "fFRKAxHURQCd"
      },
      "source": [
        "V této úloze hrany představují činnosti a ohodnocení hrany určuje dobu trvání činností. Vrcholy reprezentují návaznosti činností."
      ]
    },
    {
      "cell_type": "markdown",
      "metadata": {
        "id": "-JiG4HE7rq_l"
      },
      "source": [
        "|ID |Předchůdci|Trvání|\n",
        "|:-:|:--------:|:----:|\n",
        "|A  |          |3     |\n",
        "|B  |          |5     |\n",
        "|C  |          |4     |\n",
        "|D  |A         |9     |\n",
        "|E  |C         |2     |\n",
        "|F  |B, D, E   |3     |\n",
        "|G  |C         |2     |\n",
        "|H  |A         |14    |\n",
        "|I  |H         |2     |\n",
        "|J  |F, G, H   |5     |\n",
        "|K  |F, G, H   |1     |\n",
        "|L  |K         |9     |\n",
        "|M  |I, J      |7     |\n",
        "|N  |L, M      |1     |"
      ]
    },
    {
      "cell_type": "markdown",
      "metadata": {
        "id": "vGYzmWp-opkV"
      },
      "source": [
        "#### Řešení v Python"
      ]
    },
    {
      "cell_type": "code",
      "metadata": {
        "id": "wEBlNOTLvPMl"
      },
      "source": [
        "gDict = {\n",
        "    'A': {'pre': [], 'duration': 3},\n",
        "    'B': {'pre': [], 'duration': 5},\n",
        "    'C': {'pre': [], 'duration': 4},\n",
        "    'D': {'pre': ['A'], 'duration': 9},\n",
        "    'E': {'pre': ['C'], 'duration': 2},\n",
        "    'F': {'pre': ['B', 'D', 'E'], 'duration': 3},\n",
        "    'G': {'pre': ['C'], 'duration': 2},\n",
        "    'H': {'pre': ['A'], 'duration': 14},\n",
        "    'I': {'pre': ['H'], 'duration': 2},\n",
        "    'J': {'pre': ['F', 'G', 'H'], 'duration': 5},\n",
        "    'K': {'pre': ['F', 'G', 'H'], 'duration': 1},\n",
        "    'L': {'pre': ['K'], 'duration': 9},\n",
        "    'M': {'pre': ['I', 'J'], 'duration': 7},\n",
        "    'N': {'pre': ['L', 'M'], 'duration': 1},\n",
        "    }"
      ],
      "execution_count": 41,
      "outputs": []
    },
    {
      "cell_type": "code",
      "metadata": {
        "id": "_gWW1NjiwU2s",
        "outputId": "fc8ce669-abd4-44e2-90a3-2ca16ff5848d",
        "colab": {
          "base_uri": "https://localhost:8080/",
          "height": 697
        }
      },
      "source": [
        "def fromDictToDiGraph(desc):\n",
        "  result = nx.DiGraph()\n",
        "  result.add_node('0')\n",
        "  for taskId, taskData in desc.items():\n",
        "    result.add_node(taskId)\n",
        "  for taskId, taskData in desc.items():\n",
        "    prevTasks = taskData['pre']\n",
        "    duration = taskData['duration']\n",
        "    for prevTask in prevTasks:\n",
        "      result.add_edge(prevTask, taskId, duration=duration)\n",
        "    if len(prevTasks) == 0:\n",
        "      result.add_edge('0', taskId, duration=duration)\n",
        "  return result\n",
        "\n",
        "G = fromDictToDiGraph(gDict)\n",
        "displayGraph(G)"
      ],
      "execution_count": 55,
      "outputs": [
        {
          "output_type": "stream",
          "text": [
            "0 {}\n",
            "A {}\n",
            "B {}\n",
            "C {}\n",
            "D {}\n",
            "E {}\n",
            "F {}\n",
            "G {}\n",
            "H {}\n",
            "I {}\n",
            "J {}\n",
            "K {}\n",
            "L {}\n",
            "M {}\n",
            "N {}\n",
            "0 A {'duration': 3}\n",
            "0 B {'duration': 5}\n",
            "0 C {'duration': 4}\n",
            "A D {'duration': 9}\n",
            "A H {'duration': 14}\n",
            "B F {'duration': 3}\n",
            "C E {'duration': 2}\n",
            "C G {'duration': 2}\n",
            "D F {'duration': 3}\n",
            "E F {'duration': 3}\n",
            "F J {'duration': 5}\n",
            "F K {'duration': 1}\n",
            "G J {'duration': 5}\n",
            "G K {'duration': 1}\n",
            "H I {'duration': 2}\n",
            "H J {'duration': 5}\n",
            "H K {'duration': 1}\n",
            "I M {'duration': 7}\n",
            "J M {'duration': 7}\n",
            "K L {'duration': 9}\n",
            "L N {'duration': 1}\n",
            "M N {'duration': 1}\n"
          ],
          "name": "stdout"
        }
      ]
    },
    {
      "cell_type": "code",
      "metadata": {
        "id": "SZ_aMzl3tBDd"
      },
      "source": [
        ""
      ],
      "execution_count": null,
      "outputs": []
    },
    {
      "cell_type": "markdown",
      "metadata": {
        "id": "C-YclzvE6Xk0"
      },
      "source": [
        "#### Datová incializace"
      ]
    },
    {
      "cell_type": "code",
      "metadata": {
        "id": "D068SqAbqfwC",
        "outputId": "4310b3d9-c9b3-45a9-f17e-70816548a190",
        "colab": {
          "base_uri": "https://localhost:8080/",
          "height": 697
        }
      },
      "source": [
        "def initStatistic(G): # Inicializuje úložiště výsledků pro jednotlivé hrany\n",
        "  for id, params in G.nodes.data():\n",
        "    params['deltaHistory'] = []\n",
        "\n",
        "def initNodesData(G): # Provádí inicializaci před výpočtem CPM\n",
        "  for id, params in G.nodes.data():\n",
        "    params['done'] = False #\n",
        "    params['lowRange'] = 0\n",
        "    params['highRange'] = 1000\n",
        "    params['delta'] = 1000\n",
        "\n",
        "initStatistic(G)\n",
        "initNodesData(G)\n",
        "displayGraph(G)"
      ],
      "execution_count": 56,
      "outputs": [
        {
          "output_type": "stream",
          "text": [
            "0 {'deltaHistory': [], 'done': False, 'lowRange': 0, 'highRange': 1000, 'delta': 1000}\n",
            "A {'deltaHistory': [], 'done': False, 'lowRange': 0, 'highRange': 1000, 'delta': 1000}\n",
            "B {'deltaHistory': [], 'done': False, 'lowRange': 0, 'highRange': 1000, 'delta': 1000}\n",
            "C {'deltaHistory': [], 'done': False, 'lowRange': 0, 'highRange': 1000, 'delta': 1000}\n",
            "D {'deltaHistory': [], 'done': False, 'lowRange': 0, 'highRange': 1000, 'delta': 1000}\n",
            "E {'deltaHistory': [], 'done': False, 'lowRange': 0, 'highRange': 1000, 'delta': 1000}\n",
            "F {'deltaHistory': [], 'done': False, 'lowRange': 0, 'highRange': 1000, 'delta': 1000}\n",
            "G {'deltaHistory': [], 'done': False, 'lowRange': 0, 'highRange': 1000, 'delta': 1000}\n",
            "H {'deltaHistory': [], 'done': False, 'lowRange': 0, 'highRange': 1000, 'delta': 1000}\n",
            "I {'deltaHistory': [], 'done': False, 'lowRange': 0, 'highRange': 1000, 'delta': 1000}\n",
            "J {'deltaHistory': [], 'done': False, 'lowRange': 0, 'highRange': 1000, 'delta': 1000}\n",
            "K {'deltaHistory': [], 'done': False, 'lowRange': 0, 'highRange': 1000, 'delta': 1000}\n",
            "L {'deltaHistory': [], 'done': False, 'lowRange': 0, 'highRange': 1000, 'delta': 1000}\n",
            "M {'deltaHistory': [], 'done': False, 'lowRange': 0, 'highRange': 1000, 'delta': 1000}\n",
            "N {'deltaHistory': [], 'done': False, 'lowRange': 0, 'highRange': 1000, 'delta': 1000}\n",
            "0 A {'duration': 3}\n",
            "0 B {'duration': 5}\n",
            "0 C {'duration': 4}\n",
            "A D {'duration': 9}\n",
            "A H {'duration': 14}\n",
            "B F {'duration': 3}\n",
            "C E {'duration': 2}\n",
            "C G {'duration': 2}\n",
            "D F {'duration': 3}\n",
            "E F {'duration': 3}\n",
            "F J {'duration': 5}\n",
            "F K {'duration': 1}\n",
            "G J {'duration': 5}\n",
            "G K {'duration': 1}\n",
            "H I {'duration': 2}\n",
            "H J {'duration': 5}\n",
            "H K {'duration': 1}\n",
            "I M {'duration': 7}\n",
            "J M {'duration': 7}\n",
            "K L {'duration': 9}\n",
            "L N {'duration': 1}\n",
            "M N {'duration': 1}\n"
          ],
          "name": "stdout"
        }
      ]
    },
    {
      "cell_type": "markdown",
      "metadata": {
        "id": "lGd_RXI36fvX"
      },
      "source": [
        "#### Dopředné vyhodnocení u jednoho vrcholu"
      ]
    },
    {
      "cell_type": "code",
      "metadata": {
        "id": "VDddXTYPqkFY"
      },
      "source": [
        "def forwardEvaluation(G, node): # První fáze CPM u daného uzlu\n",
        "  timeMax = 0\n",
        "  for id in getPrecedents(G, node):\n",
        "    #print('forwardEvaluation', id)\n",
        "    attributes = G.nodes[id] #getNodeAttributes(G, id)\n",
        "    edgeAttributes = G.get_edge_data(id, node)\n",
        "    currentTime = attributes['lowRange'] + edgeAttributes['duration']\n",
        "    if timeMax < currentTime:\n",
        "      timeMax = currentTime\n",
        "  nodeAttributes = getNodeAttributes(G, node)\n",
        "  nodeAttributes['lowRange'] = timeMax\n",
        "  nodeAttributes['done'] = True"
      ],
      "execution_count": 57,
      "outputs": []
    },
    {
      "cell_type": "markdown",
      "metadata": {
        "id": "_JP7Uvvo6laR"
      },
      "source": [
        "#### Dopředné vyhodnocení u všech vrcholů"
      ]
    },
    {
      "cell_type": "code",
      "metadata": {
        "id": "JqatqXvlotop"
      },
      "source": [
        "def forwardEvaluationAll(G, firstNode): # První fáze CPM u všech uzlů\n",
        "  forwardEvaluation(G, firstNode)\n",
        "\n",
        "  while True:\n",
        "    goDeeper = False\n",
        "    nodeToEvaluate = None\n",
        "    for node, attributes in G.nodes.data():\n",
        "      if attributes['done'] == False:\n",
        "        done = False\n",
        "        nodeToEvaluate = node\n",
        "        break\n",
        "\n",
        "    if nodeToEvaluate is None:\n",
        "      break\n",
        "\n",
        "    while True:\n",
        "      goDeeper = False\n",
        "      pre = list(getPrecedents(G, nodeToEvaluate))\n",
        "      if len(pre) == 0:\n",
        "        break\n",
        "      for nextNode in pre:\n",
        "        nextNodeAttributes = getNodeAttributes(G, nextNode)\n",
        "        if nextNodeAttributes['done'] == False:\n",
        "          nodeToEvaluate = nextNode\n",
        "          goDeeper = True\n",
        "          break\n",
        "      if goDeeper == False:\n",
        "        break\n",
        "\n",
        "    forwardEvaluation(G, nodeToEvaluate)    "
      ],
      "execution_count": 58,
      "outputs": []
    },
    {
      "cell_type": "markdown",
      "metadata": {
        "id": "IhfvPvXf6p0j"
      },
      "source": [
        "#### Zpětné vyhodnocení jednoho vrcholu"
      ]
    },
    {
      "cell_type": "code",
      "metadata": {
        "id": "TKyFllJrqoaW"
      },
      "source": [
        "def backwardEvaluation(G, node): # Druhá fáze CPM u daného uzlu\n",
        "  timeMin = 1000\n",
        "  for id in getAscendents(G, node):\n",
        "    attributes = getNodeAttributes(G, id)\n",
        "    edgeAttributes = G.get_edge_data(node, id)\n",
        "    currentTime = attributes['highRange'] - edgeAttributes['duration']\n",
        "    #print(node, id, currentTime)\n",
        "    if timeMin > currentTime:\n",
        "      timeMin = currentTime\n",
        "    #print(node, id, edgeAttributes)\n",
        "  nodeAttributes = getNodeAttributes(G, node)\n",
        "  nodeAttributes['highRange'] = timeMin\n",
        "  nodeAttributes['done'] = True\n",
        "  #print(nodeAttributes)"
      ],
      "execution_count": 59,
      "outputs": []
    },
    {
      "cell_type": "markdown",
      "metadata": {
        "id": "rIYPovpt6tnr"
      },
      "source": [
        "#### Zpětné vyhodnocení všech vrcholů"
      ]
    },
    {
      "cell_type": "code",
      "metadata": {
        "id": "28_T0yEfqtaG"
      },
      "source": [
        "def backwardEvaluationAll(G, firstNode): # Druhá fáze CPM pro všechny uzly\n",
        "  attributes = getNodeAttributes(G, firstNode)\n",
        "  attributes['highRange'] = attributes['lowRange']\n",
        "  attributes['done'] = True\n",
        "  attributes = getNodeAttributes(G, firstNode)\n",
        "\n",
        "  while True:\n",
        "    done = True\n",
        "    nodeToEvaluate = None\n",
        "    for node, attributes in G.nodes.data():\n",
        "      if attributes['done'] == False:\n",
        "        done = False\n",
        "        nodeToEvaluate = node\n",
        "        break\n",
        "\n",
        "    if nodeToEvaluate is None:\n",
        "      break\n",
        "\n",
        "    while True:\n",
        "      goDeeper = False\n",
        "      asc = list(getAscendents(G, nodeToEvaluate))\n",
        "      if len(asc) == 0:\n",
        "        break\n",
        "      for nextNode in asc:\n",
        "        nextNodeAttributes = getNodeAttributes(G, nextNode)\n",
        "        if nextNodeAttributes['done'] == False:\n",
        "          nodeToEvaluate = nextNode\n",
        "          goDeeper = True\n",
        "          break\n",
        "      if goDeeper == False:\n",
        "        break\n",
        "\n",
        "    backwardEvaluation(G, nodeToEvaluate)"
      ],
      "execution_count": 60,
      "outputs": []
    },
    {
      "cell_type": "markdown",
      "metadata": {
        "id": "zs2CHw5i6xap"
      },
      "source": [
        "#### Metoda CPM"
      ]
    },
    {
      "cell_type": "code",
      "metadata": {
        "id": "Q53lXjDXq7rU",
        "outputId": "49acd763-4541-4326-8f2b-a30d1e78921f",
        "colab": {
          "base_uri": "https://localhost:8080/",
          "height": 697
        }
      },
      "source": [
        "def cpm(G): # Kompletní metoda CPM\n",
        "  initNodesData(G) # inicializace uzlů\n",
        "  forwardEvaluationAll(G, '0') # První fáze u všech uzlů\n",
        "  for id, params in G.nodes.data(): # nastavení příznaku \"Hotovo\" pro druhou fázi\n",
        "    params['done'] = False #\n",
        "  backwardEvaluationAll(G, 'N') # Druhá fáze\n",
        "  for id, params in G.nodes.data(): # Vyhodnocení rezerv pro všechny uzly\n",
        "    params['delta'] = params['highRange'] - params['lowRange']\n",
        "\n",
        "cpm(G)    \n",
        "displayGraph(G)"
      ],
      "execution_count": 61,
      "outputs": [
        {
          "output_type": "stream",
          "text": [
            "0 {'deltaHistory': [], 'done': True, 'lowRange': 0, 'highRange': 0, 'delta': 0}\n",
            "A {'deltaHistory': [], 'done': True, 'lowRange': 3, 'highRange': 3, 'delta': 0}\n",
            "B {'deltaHistory': [], 'done': True, 'lowRange': 5, 'highRange': 14, 'delta': 9}\n",
            "C {'deltaHistory': [], 'done': True, 'lowRange': 4, 'highRange': 12, 'delta': 8}\n",
            "D {'deltaHistory': [], 'done': True, 'lowRange': 12, 'highRange': 14, 'delta': 2}\n",
            "E {'deltaHistory': [], 'done': True, 'lowRange': 6, 'highRange': 14, 'delta': 8}\n",
            "F {'deltaHistory': [], 'done': True, 'lowRange': 15, 'highRange': 17, 'delta': 2}\n",
            "G {'deltaHistory': [], 'done': True, 'lowRange': 6, 'highRange': 17, 'delta': 11}\n",
            "H {'deltaHistory': [], 'done': True, 'lowRange': 17, 'highRange': 17, 'delta': 0}\n",
            "I {'deltaHistory': [], 'done': True, 'lowRange': 19, 'highRange': 22, 'delta': 3}\n",
            "J {'deltaHistory': [], 'done': True, 'lowRange': 22, 'highRange': 22, 'delta': 0}\n",
            "K {'deltaHistory': [], 'done': True, 'lowRange': 18, 'highRange': 20, 'delta': 2}\n",
            "L {'deltaHistory': [], 'done': True, 'lowRange': 27, 'highRange': 29, 'delta': 2}\n",
            "M {'deltaHistory': [], 'done': True, 'lowRange': 29, 'highRange': 29, 'delta': 0}\n",
            "N {'deltaHistory': [], 'done': True, 'lowRange': 30, 'highRange': 30, 'delta': 0}\n",
            "0 A {'duration': 3}\n",
            "0 B {'duration': 5}\n",
            "0 C {'duration': 4}\n",
            "A D {'duration': 9}\n",
            "A H {'duration': 14}\n",
            "B F {'duration': 3}\n",
            "C E {'duration': 2}\n",
            "C G {'duration': 2}\n",
            "D F {'duration': 3}\n",
            "E F {'duration': 3}\n",
            "F J {'duration': 5}\n",
            "F K {'duration': 1}\n",
            "G J {'duration': 5}\n",
            "G K {'duration': 1}\n",
            "H I {'duration': 2}\n",
            "H J {'duration': 5}\n",
            "H K {'duration': 1}\n",
            "I M {'duration': 7}\n",
            "J M {'duration': 7}\n",
            "K L {'duration': 9}\n",
            "L N {'duration': 1}\n",
            "M N {'duration': 1}\n"
          ],
          "name": "stdout"
        }
      ]
    },
    {
      "cell_type": "markdown",
      "metadata": {
        "id": "D6OYT6ehooZO"
      },
      "source": [
        ""
      ]
    }
  ]
}