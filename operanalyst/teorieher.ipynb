{
  "nbformat": 4,
  "nbformat_minor": 0,
  "metadata": {
    "colab": {
      "name": "TeorieHer.ipynb",
      "provenance": [],
      "authorship_tag": "ABX9TyMEJO9I0Bn5Ao7p0DgeZPdC",
      "include_colab_link": true
    },
    "kernelspec": {
      "name": "python3",
      "display_name": "Python 3"
    }
  },
  "cells": [
    {
      "cell_type": "markdown",
      "metadata": {
        "id": "view-in-github",
        "colab_type": "text"
      },
      "source": [
        "<a href=\"https://colab.research.google.com/github/hrbolek/learning/blob/master/operanalyst/teorieher.ipynb\" target=\"_parent\"><img src=\"https://colab.research.google.com/assets/colab-badge.svg\" alt=\"Open In Colab\"/></a>"
      ]
    },
    {
      "cell_type": "markdown",
      "metadata": {
        "id": "8TNZCcYEGJnZ"
      },
      "source": [
        "# Teorie Her"
      ]
    },
    {
      "cell_type": "markdown",
      "metadata": {
        "id": "4AL8RghsGMej"
      },
      "source": [
        "## Rozdělení"
      ]
    },
    {
      "cell_type": "markdown",
      "metadata": {
        "id": "B5DEFjNLGWEP"
      },
      "source": [
        "Podle ceny\n",
        "- hry s nulovým součtem\n",
        "- hry s nenulovým součtem\n",
        "\n",
        "Podle vzahu hráčů\n",
        "- hry antagonistické\n",
        "- hry kooperativní\n",
        "- hry proti přírodě\n",
        "\n",
        "Podle počtu strategií\n",
        "- konečné hry\n",
        "- nekonečné hry"
      ]
    },
    {
      "cell_type": "markdown",
      "metadata": {
        "id": "6Qmk3tadGQOc"
      },
      "source": [
        "## Maticové hry"
      ]
    },
    {
      "cell_type": "markdown",
      "metadata": {
        "id": "4OykJaPwG9jg"
      },
      "source": [
        "Hra \"Kámen-nůžky-papír\"\n",
        "\n",
        "3 strategie obou hráčů \n",
        "- kámen\n",
        "- nůžky\n",
        "- papír\n",
        "\n",
        "Výsledek hry\n",
        "- kámen vs. kámen = 0\n",
        "- kámen vs. nůžky = 1\n",
        "- kámen vs. papír = -1\n",
        "- nůžky vs. kámen = -1\n",
        "- nůžky vs. nůžky = 0\n",
        "- nůžky vs. papír = 1\n",
        "- papír vs. kámen = 1\n",
        "- papír vs. nůžky = -1\n",
        "- papír vs. papír = 0\n",
        "\n",
        "Vyjádřeno v matici výher (odtud maticová hra)\n",
        "\n",
        "$$H=\\begin{pmatrix}\n",
        "0 & 1 & -1 \\\\\n",
        "-1 & 0 & 1 \\\\\n",
        "1 & -1 & 0 \n",
        "\\end{pmatrix}$$\n",
        "\n",
        "Strategie hráče A je představena řádky\n",
        "$$h_1=\\begin{pmatrix}\n",
        "0 & 1 & -1\n",
        "\\end{pmatrix}$$\n",
        "$$h_2=\\begin{pmatrix}\n",
        "-1 & 0 & 1\n",
        "\\end{pmatrix}$$\n",
        "$$h_3=\\begin{pmatrix}\n",
        "1 & -1 & 0\n",
        "\\end{pmatrix}$$\n",
        "\n",
        "Strategie hráče B je představena sloupci\n",
        "$$g_1=\\begin{pmatrix}\n",
        "0 \\\\\n",
        "-1 \\\\\n",
        "1\n",
        "\\end{pmatrix}$$\n",
        "$$g_2=\\begin{pmatrix}\n",
        "1 \\\\\n",
        "0 \\\\\n",
        "-1 \n",
        "\\end{pmatrix}$$\n",
        "$$g_3=\\begin{pmatrix}\n",
        "-1 \\\\\n",
        "1 \\\\\n",
        "0\n",
        "\\end{pmatrix}$$\n",
        "\n",
        "matice výher pro hráče B je transponovanou maticí matice výher pro hráče A\n",
        "$$G=H^T=\\begin{pmatrix}\n",
        "0 & -1 & 1 \\\\\n",
        "1 & 0 & -1 \\\\\n",
        "-1 & 1 & 0 \n",
        "\\end{pmatrix}$$\n",
        "\n",
        "Jestliže hráč A volí strategii $i$ a hráč B volí strategii $j$, potom výhra hráče A je dána prvkem $g_{ij}$ a výhra hráče B je dána prvkem $h_{ij}$. Protože $g_{ij} +h_{ij}=0$, klasifikujeme tuto hru jako hru s nulovým součtem.\n",
        "\n"
      ]
    },
    {
      "cell_type": "markdown",
      "metadata": {
        "id": "s8xx0IPnU9sV"
      },
      "source": [
        "## Čisté strategie"
      ]
    },
    {
      "cell_type": "markdown",
      "metadata": {
        "id": "Lu921qMCVA30"
      },
      "source": [
        "## Smíšené strategie"
      ]
    },
    {
      "cell_type": "markdown",
      "metadata": {
        "id": "zxx1Rmc4VDTB"
      },
      "source": [
        "### Optimální řešení ve smíšených strategiích"
      ]
    },
    {
      "cell_type": "markdown",
      "metadata": {
        "id": "0jDryUvVVILZ"
      },
      "source": [
        "Hráč A volí smíšenou strategii $S^A=(s_1^A, s_2^A, ..., s_n^A)$. Hráč B volí smíšenou strategii $S^B=(s_1^B, s_2^B, ..., s_n^B)$.\n",
        "\n",
        "$$\\begin{matrix}A\\end{matrix}$$"
      ]
    },
    {
      "cell_type": "code",
      "metadata": {
        "id": "-QKVllVCG3kL"
      },
      "source": [
        ""
      ],
      "execution_count": null,
      "outputs": []
    },
    {
      "cell_type": "code",
      "metadata": {
        "id": "hoJo52WMFnNp"
      },
      "source": [
        ""
      ],
      "execution_count": null,
      "outputs": []
    }
  ]
}