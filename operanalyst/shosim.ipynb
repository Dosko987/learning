{
  "nbformat": 4,
  "nbformat_minor": 0,
  "metadata": {
    "colab": {
      "name": "SHOSimulace.ipynb",
      "provenance": [],
      "toc_visible": true,
      "authorship_tag": "ABX9TyM44ZRdiz0e95B9eq3e0cgt",
      "include_colab_link": true
    },
    "kernelspec": {
      "name": "python3",
      "display_name": "Python 3"
    },
    "widgets": {
      "application/vnd.jupyter.widget-state+json": {
        "56c73e83b97a4bae950877913a895555": {
          "model_module": "@jupyter-widgets/controls",
          "model_name": "VBoxModel",
          "state": {
            "_view_name": "VBoxView",
            "_dom_classes": [
              "widget-interact"
            ],
            "_model_name": "VBoxModel",
            "_view_module": "@jupyter-widgets/controls",
            "_model_module_version": "1.5.0",
            "_view_count": null,
            "_view_module_version": "1.5.0",
            "box_style": "",
            "layout": "IPY_MODEL_315072473b524e9a9fa713ef4c58d536",
            "_model_module": "@jupyter-widgets/controls",
            "children": [
              "IPY_MODEL_dd560c1205924663a5d330bb130d7b6f",
              "IPY_MODEL_a67352bab7514bedbe9908611c71d062"
            ]
          }
        },
        "315072473b524e9a9fa713ef4c58d536": {
          "model_module": "@jupyter-widgets/base",
          "model_name": "LayoutModel",
          "state": {
            "_view_name": "LayoutView",
            "grid_template_rows": null,
            "right": null,
            "justify_content": null,
            "_view_module": "@jupyter-widgets/base",
            "overflow": null,
            "_model_module_version": "1.2.0",
            "_view_count": null,
            "flex_flow": null,
            "width": null,
            "min_width": null,
            "border": null,
            "align_items": null,
            "bottom": null,
            "_model_module": "@jupyter-widgets/base",
            "top": null,
            "grid_column": null,
            "overflow_y": null,
            "overflow_x": null,
            "grid_auto_flow": null,
            "grid_area": null,
            "grid_template_columns": null,
            "flex": null,
            "_model_name": "LayoutModel",
            "justify_items": null,
            "grid_row": null,
            "max_height": null,
            "align_content": null,
            "visibility": null,
            "align_self": null,
            "height": null,
            "min_height": null,
            "padding": null,
            "grid_auto_rows": null,
            "grid_gap": null,
            "max_width": null,
            "order": null,
            "_view_module_version": "1.2.0",
            "grid_template_areas": null,
            "object_position": null,
            "object_fit": null,
            "grid_auto_columns": null,
            "margin": null,
            "display": null,
            "left": null
          }
        },
        "dd560c1205924663a5d330bb130d7b6f": {
          "model_module": "@jupyter-widgets/controls",
          "model_name": "FloatSliderModel",
          "state": {
            "_view_name": "FloatSliderView",
            "style": "IPY_MODEL_c2e22c8d79994cb5b214bdc823912304",
            "_dom_classes": [],
            "description": "lam",
            "step": 0.1,
            "_model_name": "FloatSliderModel",
            "orientation": "horizontal",
            "max": 2,
            "_view_module": "@jupyter-widgets/controls",
            "_model_module_version": "1.5.0",
            "value": 1,
            "_view_count": null,
            "disabled": false,
            "_view_module_version": "1.5.0",
            "min": 0.01,
            "continuous_update": true,
            "readout_format": ".2f",
            "description_tooltip": null,
            "readout": true,
            "_model_module": "@jupyter-widgets/controls",
            "layout": "IPY_MODEL_a1dbe186022d44c0b2e4e024ad0424d1"
          }
        },
        "a67352bab7514bedbe9908611c71d062": {
          "model_module": "@jupyter-widgets/output",
          "model_name": "OutputModel",
          "state": {
            "_view_name": "OutputView",
            "msg_id": "",
            "_dom_classes": [],
            "_model_name": "OutputModel",
            "outputs": [
              {
                "output_type": "display_data",
                "metadata": {
                  "tags": [],
                  "needs_background": "light"
                },
                "image/png": "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\n",
                "text/plain": "<Figure size 1080x720 with 1 Axes>"
              }
            ],
            "_view_module": "@jupyter-widgets/output",
            "_model_module_version": "1.0.0",
            "_view_count": null,
            "_view_module_version": "1.0.0",
            "layout": "IPY_MODEL_f31aa9c4ecf04b51871f3ff031cd5411",
            "_model_module": "@jupyter-widgets/output"
          }
        },
        "c2e22c8d79994cb5b214bdc823912304": {
          "model_module": "@jupyter-widgets/controls",
          "model_name": "SliderStyleModel",
          "state": {
            "_view_name": "StyleView",
            "handle_color": null,
            "_model_name": "SliderStyleModel",
            "description_width": "",
            "_view_module": "@jupyter-widgets/base",
            "_model_module_version": "1.5.0",
            "_view_count": null,
            "_view_module_version": "1.2.0",
            "_model_module": "@jupyter-widgets/controls"
          }
        },
        "a1dbe186022d44c0b2e4e024ad0424d1": {
          "model_module": "@jupyter-widgets/base",
          "model_name": "LayoutModel",
          "state": {
            "_view_name": "LayoutView",
            "grid_template_rows": null,
            "right": null,
            "justify_content": null,
            "_view_module": "@jupyter-widgets/base",
            "overflow": null,
            "_model_module_version": "1.2.0",
            "_view_count": null,
            "flex_flow": null,
            "width": null,
            "min_width": null,
            "border": null,
            "align_items": null,
            "bottom": null,
            "_model_module": "@jupyter-widgets/base",
            "top": null,
            "grid_column": null,
            "overflow_y": null,
            "overflow_x": null,
            "grid_auto_flow": null,
            "grid_area": null,
            "grid_template_columns": null,
            "flex": null,
            "_model_name": "LayoutModel",
            "justify_items": null,
            "grid_row": null,
            "max_height": null,
            "align_content": null,
            "visibility": null,
            "align_self": null,
            "height": null,
            "min_height": null,
            "padding": null,
            "grid_auto_rows": null,
            "grid_gap": null,
            "max_width": null,
            "order": null,
            "_view_module_version": "1.2.0",
            "grid_template_areas": null,
            "object_position": null,
            "object_fit": null,
            "grid_auto_columns": null,
            "margin": null,
            "display": null,
            "left": null
          }
        },
        "f31aa9c4ecf04b51871f3ff031cd5411": {
          "model_module": "@jupyter-widgets/base",
          "model_name": "LayoutModel",
          "state": {
            "_view_name": "LayoutView",
            "grid_template_rows": null,
            "right": null,
            "justify_content": null,
            "_view_module": "@jupyter-widgets/base",
            "overflow": null,
            "_model_module_version": "1.2.0",
            "_view_count": null,
            "flex_flow": null,
            "width": null,
            "min_width": null,
            "border": null,
            "align_items": null,
            "bottom": null,
            "_model_module": "@jupyter-widgets/base",
            "top": null,
            "grid_column": null,
            "overflow_y": null,
            "overflow_x": null,
            "grid_auto_flow": null,
            "grid_area": null,
            "grid_template_columns": null,
            "flex": null,
            "_model_name": "LayoutModel",
            "justify_items": null,
            "grid_row": null,
            "max_height": null,
            "align_content": null,
            "visibility": null,
            "align_self": null,
            "height": null,
            "min_height": null,
            "padding": null,
            "grid_auto_rows": null,
            "grid_gap": null,
            "max_width": null,
            "order": null,
            "_view_module_version": "1.2.0",
            "grid_template_areas": null,
            "object_position": null,
            "object_fit": null,
            "grid_auto_columns": null,
            "margin": null,
            "display": null,
            "left": null
          }
        },
        "6874582e5a9245ebaf33ae7af9086ce2": {
          "model_module": "@jupyter-widgets/controls",
          "model_name": "VBoxModel",
          "state": {
            "_view_name": "VBoxView",
            "_dom_classes": [
              "widget-interact"
            ],
            "_model_name": "VBoxModel",
            "_view_module": "@jupyter-widgets/controls",
            "_model_module_version": "1.5.0",
            "_view_count": null,
            "_view_module_version": "1.5.0",
            "box_style": "",
            "layout": "IPY_MODEL_e2dc93b9d30a462a8953489d81f6100e",
            "_model_module": "@jupyter-widgets/controls",
            "children": [
              "IPY_MODEL_22eacaf339c541b0ad962a05536a9cde",
              "IPY_MODEL_2beb9f01dd17480cbda3ef33270de2d5",
              "IPY_MODEL_7a34bf2b2c7b46d4ac6712dbf5005553"
            ]
          }
        },
        "e2dc93b9d30a462a8953489d81f6100e": {
          "model_module": "@jupyter-widgets/base",
          "model_name": "LayoutModel",
          "state": {
            "_view_name": "LayoutView",
            "grid_template_rows": null,
            "right": null,
            "justify_content": null,
            "_view_module": "@jupyter-widgets/base",
            "overflow": null,
            "_model_module_version": "1.2.0",
            "_view_count": null,
            "flex_flow": null,
            "width": null,
            "min_width": null,
            "border": null,
            "align_items": null,
            "bottom": null,
            "_model_module": "@jupyter-widgets/base",
            "top": null,
            "grid_column": null,
            "overflow_y": null,
            "overflow_x": null,
            "grid_auto_flow": null,
            "grid_area": null,
            "grid_template_columns": null,
            "flex": null,
            "_model_name": "LayoutModel",
            "justify_items": null,
            "grid_row": null,
            "max_height": null,
            "align_content": null,
            "visibility": null,
            "align_self": null,
            "height": null,
            "min_height": null,
            "padding": null,
            "grid_auto_rows": null,
            "grid_gap": null,
            "max_width": null,
            "order": null,
            "_view_module_version": "1.2.0",
            "grid_template_areas": null,
            "object_position": null,
            "object_fit": null,
            "grid_auto_columns": null,
            "margin": null,
            "display": null,
            "left": null
          }
        },
        "22eacaf339c541b0ad962a05536a9cde": {
          "model_module": "@jupyter-widgets/controls",
          "model_name": "FloatSliderModel",
          "state": {
            "_view_name": "FloatSliderView",
            "style": "IPY_MODEL_6aa44dd616654c9892ee4fcc4d7dde11",
            "_dom_classes": [],
            "description": "intervalA",
            "step": 0.1,
            "_model_name": "FloatSliderModel",
            "orientation": "horizontal",
            "max": 2,
            "_view_module": "@jupyter-widgets/controls",
            "_model_module_version": "1.5.0",
            "value": 1,
            "_view_count": null,
            "disabled": false,
            "_view_module_version": "1.5.0",
            "min": 0.01,
            "continuous_update": true,
            "readout_format": ".2f",
            "description_tooltip": null,
            "readout": true,
            "_model_module": "@jupyter-widgets/controls",
            "layout": "IPY_MODEL_30aad62de1934ea98e99b5e727441651"
          }
        },
        "2beb9f01dd17480cbda3ef33270de2d5": {
          "model_module": "@jupyter-widgets/controls",
          "model_name": "FloatSliderModel",
          "state": {
            "_view_name": "FloatSliderView",
            "style": "IPY_MODEL_cf6b2b0b3fdc4193b1b28a7d27c46a1d",
            "_dom_classes": [],
            "description": "intervalB",
            "step": 0.1,
            "_model_name": "FloatSliderModel",
            "orientation": "horizontal",
            "max": 2,
            "_view_module": "@jupyter-widgets/controls",
            "_model_module_version": "1.5.0",
            "value": 1,
            "_view_count": null,
            "disabled": false,
            "_view_module_version": "1.5.0",
            "min": 0.01,
            "continuous_update": true,
            "readout_format": ".2f",
            "description_tooltip": null,
            "readout": true,
            "_model_module": "@jupyter-widgets/controls",
            "layout": "IPY_MODEL_7c51a7885c2a4daeb6c6903bf0297fb6"
          }
        },
        "7a34bf2b2c7b46d4ac6712dbf5005553": {
          "model_module": "@jupyter-widgets/output",
          "model_name": "OutputModel",
          "state": {
            "_view_name": "OutputView",
            "msg_id": "",
            "_dom_classes": [],
            "_model_name": "OutputModel",
            "outputs": [
              {
                "output_type": "display_data",
                "metadata": {
                  "tags": [],
                  "needs_background": "light"
                },
                "image/png": "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\n",
                "text/plain": "<Figure size 1080x720 with 1 Axes>"
              }
            ],
            "_view_module": "@jupyter-widgets/output",
            "_model_module_version": "1.0.0",
            "_view_count": null,
            "_view_module_version": "1.0.0",
            "layout": "IPY_MODEL_f0299cce882b4f69bd514ea0ab762d6e",
            "_model_module": "@jupyter-widgets/output"
          }
        },
        "6aa44dd616654c9892ee4fcc4d7dde11": {
          "model_module": "@jupyter-widgets/controls",
          "model_name": "SliderStyleModel",
          "state": {
            "_view_name": "StyleView",
            "handle_color": null,
            "_model_name": "SliderStyleModel",
            "description_width": "",
            "_view_module": "@jupyter-widgets/base",
            "_model_module_version": "1.5.0",
            "_view_count": null,
            "_view_module_version": "1.2.0",
            "_model_module": "@jupyter-widgets/controls"
          }
        },
        "30aad62de1934ea98e99b5e727441651": {
          "model_module": "@jupyter-widgets/base",
          "model_name": "LayoutModel",
          "state": {
            "_view_name": "LayoutView",
            "grid_template_rows": null,
            "right": null,
            "justify_content": null,
            "_view_module": "@jupyter-widgets/base",
            "overflow": null,
            "_model_module_version": "1.2.0",
            "_view_count": null,
            "flex_flow": null,
            "width": null,
            "min_width": null,
            "border": null,
            "align_items": null,
            "bottom": null,
            "_model_module": "@jupyter-widgets/base",
            "top": null,
            "grid_column": null,
            "overflow_y": null,
            "overflow_x": null,
            "grid_auto_flow": null,
            "grid_area": null,
            "grid_template_columns": null,
            "flex": null,
            "_model_name": "LayoutModel",
            "justify_items": null,
            "grid_row": null,
            "max_height": null,
            "align_content": null,
            "visibility": null,
            "align_self": null,
            "height": null,
            "min_height": null,
            "padding": null,
            "grid_auto_rows": null,
            "grid_gap": null,
            "max_width": null,
            "order": null,
            "_view_module_version": "1.2.0",
            "grid_template_areas": null,
            "object_position": null,
            "object_fit": null,
            "grid_auto_columns": null,
            "margin": null,
            "display": null,
            "left": null
          }
        },
        "cf6b2b0b3fdc4193b1b28a7d27c46a1d": {
          "model_module": "@jupyter-widgets/controls",
          "model_name": "SliderStyleModel",
          "state": {
            "_view_name": "StyleView",
            "handle_color": null,
            "_model_name": "SliderStyleModel",
            "description_width": "",
            "_view_module": "@jupyter-widgets/base",
            "_model_module_version": "1.5.0",
            "_view_count": null,
            "_view_module_version": "1.2.0",
            "_model_module": "@jupyter-widgets/controls"
          }
        },
        "7c51a7885c2a4daeb6c6903bf0297fb6": {
          "model_module": "@jupyter-widgets/base",
          "model_name": "LayoutModel",
          "state": {
            "_view_name": "LayoutView",
            "grid_template_rows": null,
            "right": null,
            "justify_content": null,
            "_view_module": "@jupyter-widgets/base",
            "overflow": null,
            "_model_module_version": "1.2.0",
            "_view_count": null,
            "flex_flow": null,
            "width": null,
            "min_width": null,
            "border": null,
            "align_items": null,
            "bottom": null,
            "_model_module": "@jupyter-widgets/base",
            "top": null,
            "grid_column": null,
            "overflow_y": null,
            "overflow_x": null,
            "grid_auto_flow": null,
            "grid_area": null,
            "grid_template_columns": null,
            "flex": null,
            "_model_name": "LayoutModel",
            "justify_items": null,
            "grid_row": null,
            "max_height": null,
            "align_content": null,
            "visibility": null,
            "align_self": null,
            "height": null,
            "min_height": null,
            "padding": null,
            "grid_auto_rows": null,
            "grid_gap": null,
            "max_width": null,
            "order": null,
            "_view_module_version": "1.2.0",
            "grid_template_areas": null,
            "object_position": null,
            "object_fit": null,
            "grid_auto_columns": null,
            "margin": null,
            "display": null,
            "left": null
          }
        },
        "f0299cce882b4f69bd514ea0ab762d6e": {
          "model_module": "@jupyter-widgets/base",
          "model_name": "LayoutModel",
          "state": {
            "_view_name": "LayoutView",
            "grid_template_rows": null,
            "right": null,
            "justify_content": null,
            "_view_module": "@jupyter-widgets/base",
            "overflow": null,
            "_model_module_version": "1.2.0",
            "_view_count": null,
            "flex_flow": null,
            "width": null,
            "min_width": null,
            "border": null,
            "align_items": null,
            "bottom": null,
            "_model_module": "@jupyter-widgets/base",
            "top": null,
            "grid_column": null,
            "overflow_y": null,
            "overflow_x": null,
            "grid_auto_flow": null,
            "grid_area": null,
            "grid_template_columns": null,
            "flex": null,
            "_model_name": "LayoutModel",
            "justify_items": null,
            "grid_row": null,
            "max_height": null,
            "align_content": null,
            "visibility": null,
            "align_self": null,
            "height": null,
            "min_height": null,
            "padding": null,
            "grid_auto_rows": null,
            "grid_gap": null,
            "max_width": null,
            "order": null,
            "_view_module_version": "1.2.0",
            "grid_template_areas": null,
            "object_position": null,
            "object_fit": null,
            "grid_auto_columns": null,
            "margin": null,
            "display": null,
            "left": null
          }
        },
        "4a14d664b21149e689d0b295f95df8b5": {
          "model_module": "@jupyter-widgets/controls",
          "model_name": "VBoxModel",
          "state": {
            "_view_name": "VBoxView",
            "_dom_classes": [
              "widget-interact"
            ],
            "_model_name": "VBoxModel",
            "_view_module": "@jupyter-widgets/controls",
            "_model_module_version": "1.5.0",
            "_view_count": null,
            "_view_module_version": "1.5.0",
            "box_style": "",
            "layout": "IPY_MODEL_c42445ab16e147f2826864ccf96fc795",
            "_model_module": "@jupyter-widgets/controls",
            "children": [
              "IPY_MODEL_994cfa2a4b5a40c7929e9900ccf06c2a",
              "IPY_MODEL_1b841c76d2a048c988ee8053e72fab5d",
              "IPY_MODEL_47cc6805f9a4476c87ccc72eb8955c24"
            ]
          }
        },
        "c42445ab16e147f2826864ccf96fc795": {
          "model_module": "@jupyter-widgets/base",
          "model_name": "LayoutModel",
          "state": {
            "_view_name": "LayoutView",
            "grid_template_rows": null,
            "right": null,
            "justify_content": null,
            "_view_module": "@jupyter-widgets/base",
            "overflow": null,
            "_model_module_version": "1.2.0",
            "_view_count": null,
            "flex_flow": null,
            "width": null,
            "min_width": null,
            "border": null,
            "align_items": null,
            "bottom": null,
            "_model_module": "@jupyter-widgets/base",
            "top": null,
            "grid_column": null,
            "overflow_y": null,
            "overflow_x": null,
            "grid_auto_flow": null,
            "grid_area": null,
            "grid_template_columns": null,
            "flex": null,
            "_model_name": "LayoutModel",
            "justify_items": null,
            "grid_row": null,
            "max_height": null,
            "align_content": null,
            "visibility": null,
            "align_self": null,
            "height": null,
            "min_height": null,
            "padding": null,
            "grid_auto_rows": null,
            "grid_gap": null,
            "max_width": null,
            "order": null,
            "_view_module_version": "1.2.0",
            "grid_template_areas": null,
            "object_position": null,
            "object_fit": null,
            "grid_auto_columns": null,
            "margin": null,
            "display": null,
            "left": null
          }
        },
        "994cfa2a4b5a40c7929e9900ccf06c2a": {
          "model_module": "@jupyter-widgets/controls",
          "model_name": "FloatSliderModel",
          "state": {
            "_view_name": "FloatSliderView",
            "style": "IPY_MODEL_b874a40076ed4d1daa14bd5e0cb50897",
            "_dom_classes": [],
            "description": "λ",
            "step": 0.1,
            "_model_name": "FloatSliderModel",
            "orientation": "horizontal",
            "max": 5,
            "_view_module": "@jupyter-widgets/controls",
            "_model_module_version": "1.5.0",
            "value": 1,
            "_view_count": null,
            "disabled": false,
            "_view_module_version": "1.5.0",
            "min": 0.1,
            "continuous_update": true,
            "readout_format": ".2f",
            "description_tooltip": null,
            "readout": true,
            "_model_module": "@jupyter-widgets/controls",
            "layout": "IPY_MODEL_99d9e8126d664055a06bd1e72bb5a23e"
          }
        },
        "1b841c76d2a048c988ee8053e72fab5d": {
          "model_module": "@jupyter-widgets/controls",
          "model_name": "FloatSliderModel",
          "state": {
            "_view_name": "FloatSliderView",
            "style": "IPY_MODEL_945767a01ec940ef90d159b5657ce485",
            "_dom_classes": [],
            "description": "μ",
            "step": 0.1,
            "_model_name": "FloatSliderModel",
            "orientation": "horizontal",
            "max": 5,
            "_view_module": "@jupyter-widgets/controls",
            "_model_module_version": "1.5.0",
            "value": 2,
            "_view_count": null,
            "disabled": false,
            "_view_module_version": "1.5.0",
            "min": 0.1,
            "continuous_update": true,
            "readout_format": ".2f",
            "description_tooltip": null,
            "readout": true,
            "_model_module": "@jupyter-widgets/controls",
            "layout": "IPY_MODEL_5037ea3d18cd470897180b065dfeb06d"
          }
        },
        "47cc6805f9a4476c87ccc72eb8955c24": {
          "model_module": "@jupyter-widgets/output",
          "model_name": "OutputModel",
          "state": {
            "_view_name": "OutputView",
            "msg_id": "",
            "_dom_classes": [],
            "_model_name": "OutputModel",
            "outputs": [
              {
                "output_type": "display_data",
                "metadata": {
                  "tags": [],
                  "needs_background": "light"
                },
                "image/png": "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\n",
                "text/plain": "<Figure size 1080x720 with 2 Axes>"
              }
            ],
            "_view_module": "@jupyter-widgets/output",
            "_model_module_version": "1.0.0",
            "_view_count": null,
            "_view_module_version": "1.0.0",
            "layout": "IPY_MODEL_9e9a2a96ee734f4ba91edf1f75179f5c",
            "_model_module": "@jupyter-widgets/output"
          }
        },
        "b874a40076ed4d1daa14bd5e0cb50897": {
          "model_module": "@jupyter-widgets/controls",
          "model_name": "SliderStyleModel",
          "state": {
            "_view_name": "StyleView",
            "handle_color": null,
            "_model_name": "SliderStyleModel",
            "description_width": "",
            "_view_module": "@jupyter-widgets/base",
            "_model_module_version": "1.5.0",
            "_view_count": null,
            "_view_module_version": "1.2.0",
            "_model_module": "@jupyter-widgets/controls"
          }
        },
        "99d9e8126d664055a06bd1e72bb5a23e": {
          "model_module": "@jupyter-widgets/base",
          "model_name": "LayoutModel",
          "state": {
            "_view_name": "LayoutView",
            "grid_template_rows": null,
            "right": null,
            "justify_content": null,
            "_view_module": "@jupyter-widgets/base",
            "overflow": null,
            "_model_module_version": "1.2.0",
            "_view_count": null,
            "flex_flow": null,
            "width": null,
            "min_width": null,
            "border": null,
            "align_items": null,
            "bottom": null,
            "_model_module": "@jupyter-widgets/base",
            "top": null,
            "grid_column": null,
            "overflow_y": null,
            "overflow_x": null,
            "grid_auto_flow": null,
            "grid_area": null,
            "grid_template_columns": null,
            "flex": null,
            "_model_name": "LayoutModel",
            "justify_items": null,
            "grid_row": null,
            "max_height": null,
            "align_content": null,
            "visibility": null,
            "align_self": null,
            "height": null,
            "min_height": null,
            "padding": null,
            "grid_auto_rows": null,
            "grid_gap": null,
            "max_width": null,
            "order": null,
            "_view_module_version": "1.2.0",
            "grid_template_areas": null,
            "object_position": null,
            "object_fit": null,
            "grid_auto_columns": null,
            "margin": null,
            "display": null,
            "left": null
          }
        },
        "945767a01ec940ef90d159b5657ce485": {
          "model_module": "@jupyter-widgets/controls",
          "model_name": "SliderStyleModel",
          "state": {
            "_view_name": "StyleView",
            "handle_color": null,
            "_model_name": "SliderStyleModel",
            "description_width": "",
            "_view_module": "@jupyter-widgets/base",
            "_model_module_version": "1.5.0",
            "_view_count": null,
            "_view_module_version": "1.2.0",
            "_model_module": "@jupyter-widgets/controls"
          }
        },
        "5037ea3d18cd470897180b065dfeb06d": {
          "model_module": "@jupyter-widgets/base",
          "model_name": "LayoutModel",
          "state": {
            "_view_name": "LayoutView",
            "grid_template_rows": null,
            "right": null,
            "justify_content": null,
            "_view_module": "@jupyter-widgets/base",
            "overflow": null,
            "_model_module_version": "1.2.0",
            "_view_count": null,
            "flex_flow": null,
            "width": null,
            "min_width": null,
            "border": null,
            "align_items": null,
            "bottom": null,
            "_model_module": "@jupyter-widgets/base",
            "top": null,
            "grid_column": null,
            "overflow_y": null,
            "overflow_x": null,
            "grid_auto_flow": null,
            "grid_area": null,
            "grid_template_columns": null,
            "flex": null,
            "_model_name": "LayoutModel",
            "justify_items": null,
            "grid_row": null,
            "max_height": null,
            "align_content": null,
            "visibility": null,
            "align_self": null,
            "height": null,
            "min_height": null,
            "padding": null,
            "grid_auto_rows": null,
            "grid_gap": null,
            "max_width": null,
            "order": null,
            "_view_module_version": "1.2.0",
            "grid_template_areas": null,
            "object_position": null,
            "object_fit": null,
            "grid_auto_columns": null,
            "margin": null,
            "display": null,
            "left": null
          }
        },
        "9e9a2a96ee734f4ba91edf1f75179f5c": {
          "model_module": "@jupyter-widgets/base",
          "model_name": "LayoutModel",
          "state": {
            "_view_name": "LayoutView",
            "grid_template_rows": null,
            "right": null,
            "justify_content": null,
            "_view_module": "@jupyter-widgets/base",
            "overflow": null,
            "_model_module_version": "1.2.0",
            "_view_count": null,
            "flex_flow": null,
            "width": null,
            "min_width": null,
            "border": null,
            "align_items": null,
            "bottom": null,
            "_model_module": "@jupyter-widgets/base",
            "top": null,
            "grid_column": null,
            "overflow_y": null,
            "overflow_x": null,
            "grid_auto_flow": null,
            "grid_area": null,
            "grid_template_columns": null,
            "flex": null,
            "_model_name": "LayoutModel",
            "justify_items": null,
            "grid_row": null,
            "max_height": null,
            "align_content": null,
            "visibility": null,
            "align_self": null,
            "height": null,
            "min_height": null,
            "padding": null,
            "grid_auto_rows": null,
            "grid_gap": null,
            "max_width": null,
            "order": null,
            "_view_module_version": "1.2.0",
            "grid_template_areas": null,
            "object_position": null,
            "object_fit": null,
            "grid_auto_columns": null,
            "margin": null,
            "display": null,
            "left": null
          }
        }
      }
    }
  },
  "cells": [
    {
      "cell_type": "markdown",
      "metadata": {
        "id": "view-in-github",
        "colab_type": "text"
      },
      "source": [
        "<a href=\"https://colab.research.google.com/github/hrbolek/learning/blob/master/operanalyst/shosim.ipynb\" target=\"_parent\"><img src=\"https://colab.research.google.com/assets/colab-badge.svg\" alt=\"Open In Colab\"/></a>"
      ]
    },
    {
      "cell_type": "markdown",
      "metadata": {
        "id": "s1ri0sOJPP1M"
      },
      "source": [
        "# Teorie hromadné obsluhy\n",
        "\n",
        "odkaz [Wiki](https://en.wikipedia.org/wiki/Queueing_theory)\n",
        "\n",
        "příbuzný problém [Markovovské procesy](https://cs.wikipedia.org/wiki/Markov%C5%AFv_%C5%99et%C4%9Bzec)\n",
        "\n",
        "Miroslav Horký, [Modely hromadné obsluhy](https://core.ac.uk/download/pdf/30309597.pdf), Diplomová práce, VUT Brno, 2015,  \n"
      ]
    },
    {
      "cell_type": "markdown",
      "metadata": {
        "id": "Xwvnm5uC2f5R"
      },
      "source": [
        "## Teorie"
      ]
    },
    {
      "cell_type": "markdown",
      "metadata": {
        "id": "_8XOIHPS3M8W"
      },
      "source": [
        "### Otázky k vyřešení"
      ]
    },
    {
      "cell_type": "markdown",
      "metadata": {
        "id": "bgDf3eSO3Sqi"
      },
      "source": [
        "- Jak dlouhá bude fronta?\n",
        "- Jak dlouho se ve frontě čeká?\n",
        "- Jaká je pravděpodobnost, že obsluha je volná / nepracuje?"
      ]
    },
    {
      "cell_type": "markdown",
      "metadata": {
        "id": "iS3Uqj4dHA4J"
      },
      "source": [
        "### Základní pojmy"
      ]
    },
    {
      "cell_type": "markdown",
      "metadata": {
        "id": "V3hAlsJPHDdm"
      },
      "source": [
        "- Požadavek, někdy také zákazník, je subjekt, který vyžaduje vyřízení \n",
        "- Obslužná linka je zařízení, případně osoba, či jejich množina, které zabezpečuje uspokojení požadavku.\n",
        "- Obsluha je činnost, která vede k uspokojení požadavku.\n",
        "- Vstupní proud je posloupnost přícházejících požadavků\n",
        "- Výstupní proud je posloupnost odccházejících požadavků\n",
        "- Neuspokojené požadavky jsou řazeny do fronty podle typu systému hromadné obsluhy\n",
        "  - FIFO - first in first out, \"klasická\" fronta, první přišel, první půjde\n",
        "  - LIFO - last in first out, \"zásobník\", poslední přišel, první půjde\n",
        "  - SIRO - service in random order, obsluha v náhodném pořadí\n",
        "  - PRI - priority, obsluha podle priorit"
      ]
    },
    {
      "cell_type": "markdown",
      "metadata": {
        "id": "n4pqlvA32h3E"
      },
      "source": [
        "### Rozdělení"
      ]
    },
    {
      "cell_type": "markdown",
      "metadata": {
        "id": "B5yaQW0b2kMd"
      },
      "source": [
        "Podle typu modelu\n",
        "- Markovovské modely, časové intervaly mají exponenciální rozdělení\n",
        "- Semimarkovovské modely, časové intervaly mají Erlangovo rozdělení\n",
        "- Ostatní, časové intervaly mají jiná rozdělení\n",
        "\n",
        "Podle počtu požadavků\n",
        "- systémy s omezeným množstvím požadavků\n",
        "- systémy s neomezeným množstvím požadavků\n",
        "\n",
        "Podle čekání na obsluhu\n",
        "- Systémy s čekáním. Požadavek, zákazník, letoun, apod. se zařadí do fronty a čeká na obsluhu.\n",
        "- Systémy s odmítnutím. Požadavek otestuje dostupnost obsluhy a jestliže není obsloužen, systém opouští (letoun).\n",
        "\n",
        "- Systémy s odchodem. Po určité době požadavek systém opouští, aniž by byl obsloužen."
      ]
    },
    {
      "cell_type": "markdown",
      "metadata": {
        "id": "GWFs2L7IPQQI"
      },
      "source": [
        "## Kendalova notace"
      ]
    },
    {
      "cell_type": "markdown",
      "metadata": {
        "id": "-kFQlrdzMSEj"
      },
      "source": [
        "Systém je popsán symboly $A/B/c$ nebo $A/B/c/d/e$"
      ]
    },
    {
      "cell_type": "markdown",
      "metadata": {
        "id": "xIZZ8NE1JkuR"
      },
      "source": [
        "### $A/B/c$"
      ]
    },
    {
      "cell_type": "markdown",
      "metadata": {
        "id": "ZkLu-J0IJ2Ub"
      },
      "source": [
        "$A$, $B$ představují hodnoty\n",
        "- $M$, pokud se jedná o exponenciální rozdělení dob\n",
        "- $E_k$, pokud se jedná o Erlangovo rozdělení dob, přičemž $k$ je parametrem\n",
        "- $D$, pokud doby jsou deterministické\n",
        "- $G$, pro ostatní rozdělení\n",
        "\n",
        "$c$ je počet linek obsluhy"
      ]
    },
    {
      "cell_type": "markdown",
      "metadata": {
        "id": "gLLnxjSCKbcF"
      },
      "source": [
        "### $A/B/c/d/e$\n",
        "\n",
        "$d$ je kapacita systému\n",
        "$e$ určuje frontový režim (FIFO, LIFO, ...)"
      ]
    },
    {
      "cell_type": "markdown",
      "metadata": {
        "id": "B9aW7cIEKuUf"
      },
      "source": [
        "### $M/M/1$"
      ]
    },
    {
      "cell_type": "markdown",
      "metadata": {
        "id": "zne3vCbpK-DK"
      },
      "source": [
        "Systémy M/M/1, M/M/n\n",
        "\n",
        "Pro systém M/M/1 platí rovnice o průměrné délce fronty\n",
        "\n",
        "$$L = \\frac{\\lambda}{n \\cdot \\mu}$$\n",
        "\n",
        "kde L je  průměrná délka fronty\n",
        "\n",
        "$\\lambda$ je intenzita toku požadavků\n",
        "\n",
        "$\\mu$ je intenzita obsluhy\n",
        "\n",
        "$\\sigma=\\frac{\\lambda}{\\mu}$ je intenzita provozu\n",
        "\n",
        "Pro stabilní systém je nutné, aby $\\sigma \\le 1$."
      ]
    },
    {
      "cell_type": "markdown",
      "metadata": {
        "id": "jKgaFMd2PdhU"
      },
      "source": [
        "## Simulace toku požadavků"
      ]
    },
    {
      "cell_type": "markdown",
      "metadata": {
        "id": "cT8rQFS6PiC-"
      },
      "source": [
        "### Poisonův tok"
      ]
    },
    {
      "cell_type": "markdown",
      "metadata": {
        "id": "c60mgWOsPokb"
      },
      "source": [
        "Poisonův tok je model např. příchodu zákazníků k přepážce, kde jsou obsluhováni. Pro modelování potřebujeme generovat posloupnost příchodů. Interval mezi jednotlivými příchody lze generovat podle následujícího vztahu\n",
        "\n",
        "$$r'=-\\frac{1}{\\lambda}ln(r)$$\n",
        "\n",
        "kde $r$ je náhodné číslo s rovnoměrným rozložením a $r'$ je náhodný interval mezi dvěma příchody.\n",
        "\n",
        "Stejným vztahem lze vypočítat náhodnou délku obsluhy (pro systémy M/M/1 nebo M/M/n)\n",
        "\n",
        "https://preshing.com/20111007/how-to-generate-random-timings-for-a-poisson-process/"
      ]
    },
    {
      "cell_type": "code",
      "metadata": {
        "id": "fSNsN8NVcx3I"
      },
      "source": [
        "import numpy as np\n",
        "from numpy.random import Generator, exponential\n",
        "\n",
        "import ipywidgets as widgets\n",
        "\n",
        "import matplotlib.pyplot as plt\n",
        "from pylab import rcParams\n",
        "rcParams['figure.figsize'] = 15, 10"
      ],
      "execution_count": 162,
      "outputs": []
    },
    {
      "cell_type": "code",
      "metadata": {
        "id": "yr5btoT4Pyni"
      },
      "source": [
        "from random import random\n",
        "from math import log as ln\n",
        "\n",
        "def rndEx(rnd, lam):\n",
        "  x = rnd()\n",
        "  result = (-1 / lam) * ln(x) #https://preshing.com/20111007/how-to-generate-random-timings-for-a-poisson-process/\n",
        "  return result"
      ],
      "execution_count": 163,
      "outputs": []
    },
    {
      "cell_type": "markdown",
      "metadata": {
        "id": "1e5k7NzNeMbW"
      },
      "source": [
        "### Graf četností"
      ]
    },
    {
      "cell_type": "markdown",
      "metadata": {
        "id": "bWb44NRfdwEu"
      },
      "source": [
        "Graf četností ukazuje rozložení generovaných náhodných veličin."
      ]
    },
    {
      "cell_type": "code",
      "metadata": {
        "id": "jk7yHHuCceEs",
        "outputId": "a5d72ed8-ed4b-491b-a03e-5def551c0e92",
        "colab": {
          "base_uri": "https://localhost:8080/",
          "height": 656,
          "referenced_widgets": [
            "56c73e83b97a4bae950877913a895555",
            "315072473b524e9a9fa713ef4c58d536",
            "dd560c1205924663a5d330bb130d7b6f",
            "a67352bab7514bedbe9908611c71d062",
            "c2e22c8d79994cb5b214bdc823912304",
            "a1dbe186022d44c0b2e4e024ad0424d1",
            "f31aa9c4ecf04b51871f3ff031cd5411"
          ]
        }
      },
      "source": [
        "def plotIt(lam = 0.5):\n",
        "  data = exponential(1 / lam, 1000)\n",
        "  plt.hist(data)\n",
        "  plt.grid('both')\n",
        "  plt.xlabel('Hodnota')\n",
        "  plt.ylabel('Četnost');\n",
        "  plt.xlim(0, 10)\n",
        "  plt.ylim(0, 550)\n",
        "\n",
        "widgets.interact(plotIt, lam=widgets.FloatSlider(1, min=0.01, max=2))"
      ],
      "execution_count": 164,
      "outputs": [
        {
          "output_type": "display_data",
          "data": {
            "application/vnd.jupyter.widget-view+json": {
              "model_id": "56c73e83b97a4bae950877913a895555",
              "version_minor": 0,
              "version_major": 2
            },
            "text/plain": [
              "interactive(children=(FloatSlider(value=1.0, description='lam', max=2.0, min=0.01), Output()), _dom_classes=('…"
            ]
          },
          "metadata": {
            "tags": []
          }
        },
        {
          "output_type": "execute_result",
          "data": {
            "text/plain": [
              "<function __main__.plotIt>"
            ]
          },
          "metadata": {
            "tags": []
          },
          "execution_count": 164
        }
      ]
    },
    {
      "cell_type": "markdown",
      "metadata": {
        "id": "5vCoNH48buFI"
      },
      "source": [
        "### Časová posloupnost / vznik požadavků"
      ]
    },
    {
      "cell_type": "markdown",
      "metadata": {
        "id": "m0ogmlfhd62N"
      },
      "source": [
        "Pokud kumulativně sčítáme generované hodnoty, dostáváme okamžiky příchodů. Níže je zobrazena časová synchronizace dvou různých zdrojů."
      ]
    },
    {
      "cell_type": "code",
      "metadata": {
        "id": "D_eG7uL0P5f4",
        "outputId": "eb404d09-02a3-4c88-ac4c-75f798cc8733",
        "colab": {
          "base_uri": "https://localhost:8080/",
          "height": 622
        }
      },
      "source": [
        "def plotFlow(maxTime, lam, color):\n",
        "  currentTime = 0\n",
        "  while currentTime < maxTime:\n",
        "    currentTime = currentTime + rndEx(random, lam)\n",
        "    plt.axvline(x = currentTime, color =color)\n",
        "\n",
        "plotFlow(30, 0.5, color='red')    \n",
        "plotFlow(30, 1, color='green')    \n",
        "plt.title('Dva toky s různou intenzitou')\n",
        "plt.xlabel('Čas');"
      ],
      "execution_count": 165,
      "outputs": [
        {
          "output_type": "display_data",
          "data": {
            "image/png": "[encoded data removed]",
            "text/plain": [
              "<Figure size 1080x720 with 1 Axes>"
            ]
          },
          "metadata": {
            "tags": [],
            "needs_background": "light"
          }
        }
      ]
    },
    {
      "cell_type": "code",
      "metadata": {
        "id": "GBB1n3xTSLYu",
        "outputId": "1f2151f0-fee5-4e05-ed07-357c7bafee4b",
        "colab": {
          "base_uri": "https://localhost:8080/",
          "height": 704,
          "referenced_widgets": [
            "6874582e5a9245ebaf33ae7af9086ce2",
            "e2dc93b9d30a462a8953489d81f6100e",
            "22eacaf339c541b0ad962a05536a9cde",
            "2beb9f01dd17480cbda3ef33270de2d5",
            "7a34bf2b2c7b46d4ac6712dbf5005553",
            "6aa44dd616654c9892ee4fcc4d7dde11",
            "30aad62de1934ea98e99b5e727441651",
            "cf6b2b0b3fdc4193b1b28a7d27c46a1d",
            "7c51a7885c2a4daeb6c6903bf0297fb6",
            "f0299cce882b4f69bd514ea0ab762d6e"
          ]
        }
      },
      "source": [
        "def twoSequences(intervalA, intervalB):\n",
        "  plotFlow(30, intervalA, color='red')    \n",
        "  plotFlow(30, intervalB, color='green')    \n",
        "  plt.title('Dva toky s různou intenzitou')\n",
        "  plt.xlabel('Čas');\n",
        "\n",
        "widgets.interact(twoSequences, intervalA=widgets.FloatSlider(1, min=0.01, max=2), intervalB=widgets.FloatSlider(1, min=0.01, max=2))"
      ],
      "execution_count": 166,
      "outputs": [
        {
          "output_type": "display_data",
          "data": {
            "application/vnd.jupyter.widget-view+json": {
              "model_id": "6874582e5a9245ebaf33ae7af9086ce2",
              "version_minor": 0,
              "version_major": 2
            },
            "text/plain": [
              "interactive(children=(FloatSlider(value=1.0, description='intervalA', max=2.0, min=0.01), FloatSlider(value=1.…"
            ]
          },
          "metadata": {
            "tags": []
          }
        },
        {
          "output_type": "execute_result",
          "data": {
            "text/plain": [
              "<function __main__.twoSequences>"
            ]
          },
          "metadata": {
            "tags": []
          },
          "execution_count": 166
        }
      ]
    },
    {
      "cell_type": "markdown",
      "metadata": {
        "id": "Vn4bBljWb_3I"
      },
      "source": [
        ""
      ]
    },
    {
      "cell_type": "code",
      "metadata": {
        "id": "NhyiZqoDcB79"
      },
      "source": [
        "def generateSequenceX(maxTime, lam):\n",
        "  result = []\n",
        "  currentTime = 0\n",
        "  while currentTime < maxTime:\n",
        "    currentTime = currentTime + rndEx(random, lam)\n",
        "    result.append(currentTime)\n",
        "  return result"
      ],
      "execution_count": 167,
      "outputs": []
    },
    {
      "cell_type": "markdown",
      "metadata": {
        "id": "TwSsPJ6y0Nb3"
      },
      "source": [
        "## Událostní kalendář pro událostní simulaci"
      ]
    },
    {
      "cell_type": "markdown",
      "metadata": {
        "id": "qnYy24QHesJM"
      },
      "source": [
        "Třída pro událostní simulaci. Událostní simulace umožňuje spouštění událostí - akcí v časové souslednosti bez ohledu na souslednost plánování. \n",
        "\n",
        "Akce jsou v tomto případě popsány funkcemi, které jsou v simulaci volány s předpřipravenými parametry. "
      ]
    },
    {
      "cell_type": "code",
      "metadata": {
        "id": "kNdFHrQuYr9P"
      },
      "source": [
        "class EventCalendar:\n",
        "  def __init__(self):\n",
        "    self._queue = []\n",
        "    pass\n",
        "\n",
        "  #Metoda pro vykonání jednoho kroku simulace\n",
        "  def Step(self):\n",
        "    #z fronty odstraň nejstarší událost\n",
        "    currentEvent = self._queue.pop(0)\n",
        "\n",
        "    #vyvolej funkci, která je spojena s danou událostí\n",
        "    func = currentEvent['executor']\n",
        "    time = currentEvent['time']\n",
        "    result = func(time, **currentEvent['kwargs'])\n",
        "    \n",
        "    currentEvent['result'] = result\n",
        "    #vrať událost, která byla zpracována\n",
        "    return currentEvent\n",
        "\n",
        "  #Metoda pro získání informace o času nejstarší události, \n",
        "  #tj. události, která bude zpracována jako první\n",
        "  def PrepareNext(self):\n",
        "    #vrať čas nejstarší události\n",
        "    return self._queue[0]['time']\n",
        "\n",
        "  #Vložení události do fronty událostí, \n",
        "  #futureTime - čas, kdy bude událost vyvolána\n",
        "  #f - funkce, která bude v čase události vykonána / volána\n",
        "  def AddEvent(self, futureTime, f, **kwargs):\n",
        "    self._queue.append({'time': futureTime, 'executor': f, 'kwargs': kwargs})\n",
        "    #setřídit frontu / list událostí podle položky time / čas\n",
        "    self._queue.sort(key = lambda item: item['time'])\n",
        "    return self\n",
        "\n",
        "  def __iter__(self):  # we can return self here, because __next__ is implemented\n",
        "      return self\n",
        "\n",
        "  def __next__(self):\n",
        "    return self.Step()\n"
      ],
      "execution_count": 168,
      "outputs": []
    },
    {
      "cell_type": "markdown",
      "metadata": {
        "id": "zoX54i_Bf3aX"
      },
      "source": [
        "### Použití událostní simulace"
      ]
    },
    {
      "cell_type": "markdown",
      "metadata": {
        "id": "A97_tVaFeupj"
      },
      "source": [
        "Níže je definována funkce ```eventPrinter```, která vytiskne informaci o stavu simulace a naplánuje další událost."
      ]
    },
    {
      "cell_type": "code",
      "metadata": {
        "id": "2adGO-SSf6hm"
      },
      "source": [
        "def eventPrinter(time, calendar, value):\n",
        "  print(f'At time\\t{time}\\tvalue is\\t{value}')\n",
        "  calendar.AddEvent(time + random(), eventPrinter, calendar = calendar, value = value + 1)"
      ],
      "execution_count": 169,
      "outputs": []
    },
    {
      "cell_type": "markdown",
      "metadata": {
        "id": "LtXk_CSlfRYx"
      },
      "source": [
        "Na základě třídy ```EventCalendar``` je v náhodných čase volána funkce ```eventPrinter```. Tato funkce vytiskne informaci o stavu simulace a naplánuje další událost."
      ]
    },
    {
      "cell_type": "code",
      "metadata": {
        "id": "_hHuJJqHfHOT",
        "outputId": "d09be977-64a4-46b8-bb97-4bb14ddc2b75",
        "colab": {
          "base_uri": "https://localhost:8080/"
        }
      },
      "source": [
        "calendar = EventCalendar()\n",
        "calendar.AddEvent(0, eventPrinter, calendar = calendar, value = 0)\n",
        "\n",
        "for event in calendar:\n",
        "  print(f\"> At {event['time']} I have served an event\")\n",
        "  if event['time'] > 3:\n",
        "    break"
      ],
      "execution_count": 170,
      "outputs": [
        {
          "output_type": "stream",
          "text": [
            "At time\t0\tvalue is\t0\n",
            "> At 0 I have served an event\n",
            "At time\t0.5108612936377932\tvalue is\t1\n",
            "> At 0.5108612936377932 I have served an event\n",
            "At time\t1.2558693180272016\tvalue is\t2\n",
            "> At 1.2558693180272016 I have served an event\n",
            "At time\t1.62267210081847\tvalue is\t3\n",
            "> At 1.62267210081847 I have served an event\n",
            "At time\t2.525109570058531\tvalue is\t4\n",
            "> At 2.525109570058531 I have served an event\n",
            "At time\t2.563497165109835\tvalue is\t5\n",
            "> At 2.563497165109835 I have served an event\n",
            "At time\t3.4675286382747994\tvalue is\t6\n",
            "> At 3.4675286382747994 I have served an event\n"
          ],
          "name": "stdout"
        }
      ]
    },
    {
      "cell_type": "markdown",
      "metadata": {
        "id": "SB-03vFkg_GY"
      },
      "source": [
        "## Simulace SHO M/M/1"
      ]
    },
    {
      "cell_type": "code",
      "metadata": {
        "id": "d91IS5KQha8m"
      },
      "source": [
        "λ = 1\n",
        "µ = 2"
      ],
      "execution_count": 171,
      "outputs": []
    },
    {
      "cell_type": "markdown",
      "metadata": {
        "id": "RTirtXE1hIcI"
      },
      "source": [
        "### Příchod požadavku"
      ]
    },
    {
      "cell_type": "markdown",
      "metadata": {
        "id": "F6ADNRCjgGPP"
      },
      "source": [
        "Ve chvíli, kdy požadavek vstupuje do systému, je tento zařazen do fronty, je naplánován příchod dalšího požadavku a je realizován pokus o zahájení obsluhy požadavku."
      ]
    },
    {
      "cell_type": "code",
      "metadata": {
        "id": "To6tYAD1hF9s"
      },
      "source": [
        "queue = []\n",
        "def customerArrived(time, calendar):\n",
        "\n",
        "  # zařazení požadavku do fronty\n",
        "  newCustomer = {'enterTime': time}\n",
        "  queue.append(newCustomer)\n",
        "\n",
        "  # naplánování dalšího příchodu\n",
        "  deltaTime = exponential(1 / λ, 1)[0] # čas \n",
        "  calendar.AddEvent(time + deltaTime, customerArrived, calendar=calendar)\n",
        "\n",
        "  # pokus o zahájení obsluhy\n",
        "  calendar.AddEvent(time, tryBeginService, calendar=calendar)"
      ],
      "execution_count": 172,
      "outputs": []
    },
    {
      "cell_type": "markdown",
      "metadata": {
        "id": "Khe5ZQvOh9ML"
      },
      "source": [
        "### Obsluha požadavku"
      ]
    },
    {
      "cell_type": "markdown",
      "metadata": {
        "id": "iufaxlJWg5UH"
      },
      "source": [
        "Pokus o zahájení obsluhy znamená, že pokud je systém obsluhy volný a fronta není prázdná, je zahájena obsluha. Součástí je také naplánování konce obsluhy."
      ]
    },
    {
      "cell_type": "code",
      "metadata": {
        "id": "NDHW9Zagh9Wc"
      },
      "source": [
        "servicePlace = {'inService': None}\n",
        "\n",
        "def tryBeginService(time, calendar):\n",
        "  if servicePlace['inService'] is None:\n",
        "    if len(queue) > 0:\n",
        "      customer = queue.pop()\n",
        "      timeOfEnd = exponential(1 / µ, 1)[0] #jeden čas\n",
        "      customer['beginService'] = time\n",
        "      customer['endService'] = time + timeOfEnd\n",
        "      servicePlace['inService'] = customer\n",
        "\n",
        "      # Naplánování konce obsluhy\n",
        "      calendar.AddEvent(time + timeOfEnd, endService, calendar=calendar)"
      ],
      "execution_count": 173,
      "outputs": []
    },
    {
      "cell_type": "markdown",
      "metadata": {
        "id": "FCD4f8XWhIZn"
      },
      "source": [
        "Konec obsluhy uvolní obsluhu a pokusí se o zahájení obsluhy."
      ]
    },
    {
      "cell_type": "code",
      "metadata": {
        "id": "RxGFHm8RhGLS"
      },
      "source": [
        "def endService(time, calendar):\n",
        "  finishedCustomer = servicePlace['inService']\n",
        "  servicePlace['inService'] = None\n",
        "  calendar.AddEvent(time, tryBeginService, calendar=calendar)\n",
        "  return finishedCustomer"
      ],
      "execution_count": 174,
      "outputs": []
    },
    {
      "cell_type": "markdown",
      "metadata": {
        "id": "wBUT5Edyk736"
      },
      "source": [
        "### Sběr statistických ukazatelů"
      ]
    },
    {
      "cell_type": "markdown",
      "metadata": {
        "id": "Vp-mHqUlhhfr"
      },
      "source": [
        "Nezbytnou součástí simulace je sběr statistických ukazatelů. Ty mohou být principiálně dvojího typu:\n",
        "- číslo (např. délka fronty)\n",
        "- logická hodnota (např. zda je obsluha volná)\n",
        "\n",
        "V případě logických hodnot se tyto převádí na hodnoty 0 a 1. Interpretace statistických ukazatelů je poté jako pravděpodobnost, že výrok spojený s logickou hodnotou je pravdivý. Např. pravděpodobnost, že obsluha je volná.\n",
        "\n",
        "Ke každému statistickému údaji potřebujeme dvě operace:\n",
        "- zápis (sběr ukazatele a kumulace hodnot)\n",
        "- čtení hodnoty ukazatele"
      ]
    },
    {
      "cell_type": "markdown",
      "metadata": {
        "id": "UUfbielxjugP"
      },
      "source": [
        "Pro výpočet hodnoty statistického ukazetele se využívá průměrné hodnoty funkce v daném časovém intervalu.\n",
        "\n",
        "$$\\overline f = \\frac{\\int_{t_a}^{t_b}f(t)dt}{t_b-t_a}$$\n",
        "\n",
        "diskrétní tvar této rovnice je\n",
        "\n",
        "$$\\overline f = \\frac{\\sum_{i=0}^n f(x) \\Delta t_i}{\\sum_{i=0}^n \\Delta t_i}$$\n",
        "\n",
        "dá se tedy tvrdit, že\n",
        "\n",
        "$$ f_i^* = f_{i-1}^* + f(t) \\Delta t_i$$\n",
        "\n",
        "spolu s \n",
        "\n",
        "$$t_i^* = t_{i-1}^* + \\Delta t_i$$\n",
        "\n",
        "umožňuje spočítat\n",
        "\n",
        "$$\\overline f = \\frac{f_i^*}{t_i^*}$$\n",
        "\n",
        "\n"
      ]
    },
    {
      "cell_type": "markdown",
      "metadata": {
        "id": "IMwIrnmOjvK8"
      },
      "source": [
        "Při simulaci je nezbytné si uvědomit:\n",
        "- libovolný ukazatel se může změnit v libovolném kroku simulace a tedy je nutné v každém kroku simulace sledovat všechny statistické ukazatele\n",
        "- je nutné si před následujícím krokem simulace (neboli na konci kroku simulace) uložit hodnotu parametru $f(t)$ a po realizaci kroku o délce $\\Delta t_i$ kumulovat součin do pomocné proměnné $f_i^* = f_{i-1}^* +f(t) \\Delta t_i$."
      ]
    },
    {
      "cell_type": "markdown",
      "metadata": {
        "id": "BTIsF2CklZaz"
      },
      "source": [
        "#### Délka fronty"
      ]
    },
    {
      "cell_type": "code",
      "metadata": {
        "id": "wvh4oHzSlh7M"
      },
      "source": [
        "queueStatistic = {'cumulativeValue': 0, 'value': 0, 'time': 0}\n",
        "def checkQueueLength(time):\n",
        "  deltaTime = time - queueStatistic['time']\n",
        "  queueStatistic['time'] = time\n",
        "  queueStatistic['cumulativeValue'] += deltaTime * queueStatistic['value']\n",
        "  queueStatistic['value'] = len(queue) \n",
        "\n",
        "def getAvgLength():\n",
        "  if queueStatistic['time'] > 0:\n",
        "    return queueStatistic['cumulativeValue'] / queueStatistic['time']\n",
        "  else:\n",
        "    return 0"
      ],
      "execution_count": 175,
      "outputs": []
    },
    {
      "cell_type": "markdown",
      "metadata": {
        "id": "phwmFfgKlbpf"
      },
      "source": [
        "#### Obsluha je volná"
      ]
    },
    {
      "cell_type": "code",
      "metadata": {
        "id": "_04n8kmGlJ4Z"
      },
      "source": [
        "serviceFull = {'cumulativeValue': 0, 'value': 0, 'time': 0}\n",
        "def checkServiceFull(time):\n",
        "  deltaTime = time - serviceFull['time']\n",
        "  serviceFull['time'] = time\n",
        "  serviceFull['cumulativeValue'] += deltaTime * serviceFull['value']\n",
        "  serviceFull['value'] = 0\n",
        "  if servicePlace['inService'] is None:\n",
        "    serviceFull['value'] = 1\n",
        "\n",
        "def getServiceAvailableProbability():\n",
        "  if serviceFull['time'] > 0:  \n",
        "    return serviceFull['cumulativeValue'] / serviceFull['time']    \n",
        "  else:\n",
        "    return 0"
      ],
      "execution_count": 176,
      "outputs": []
    },
    {
      "cell_type": "markdown",
      "metadata": {
        "id": "Ov8_4diQzptY"
      },
      "source": [
        "#### Obecný tvar pro libovolnou statistiku"
      ]
    },
    {
      "cell_type": "markdown",
      "metadata": {
        "id": "nYtFZmSyid8O"
      },
      "source": [
        "Jak bylo výše uvedeno, ke každému statistickému údaji potřebujeme dvě operace:\n",
        "- zápis (sběr ukazatele a kumulace hodnot)\n",
        "- čtení hodnoty ukazatele\n",
        "\n",
        "Níže je uvedena obecná implementace, která tuto potřebu uspokojí. Funkce ```createStatistic``` vrací dvě funkce, které slouží ke sběru údajů a k výpočtu průměrné hodnoty. Parametr ```valueGetter``` je funkce, která vrací aktuální hodnotu sledovaného ukazatele."
      ]
    },
    {
      "cell_type": "code",
      "metadata": {
        "id": "qKhTYDrwzp_Y"
      },
      "source": [
        "def createStatistic(valueGetter):\n",
        "  data = {'cumulativeValue': 0, 'value': 0, 'time': 0}\n",
        "  def collectData(time):\n",
        "    deltaTime = time - data['time']\n",
        "    data['time'] = time\n",
        "    data['cumulativeValue'] += deltaTime * data['value']\n",
        "    data['value'] = valueGetter()\n",
        "\n",
        "  def getValue():\n",
        "    if data['time'] > 0:  \n",
        "      return data['cumulativeValue'] / data['time']    \n",
        "    else:\n",
        "      return 0  \n",
        "  return collectData, getValue"
      ],
      "execution_count": 177,
      "outputs": []
    },
    {
      "cell_type": "markdown",
      "metadata": {
        "id": "oXDG8Z7XjldF"
      },
      "source": [
        "Jako příklad lze uvést statistiku, která sleduje, zda délka fronty je větší než 5."
      ]
    },
    {
      "cell_type": "code",
      "metadata": {
        "id": "2L79FRN11SSf"
      },
      "source": [
        "def decideIfLengthGT5():\n",
        "  if len(queue) > 5:\n",
        "    return 1\n",
        "  else:\n",
        "    return 0\n",
        "\n",
        "updateLengthGT5, getLengthGT5 = createStatistic(decideIfLengthGT5)"
      ],
      "execution_count": 178,
      "outputs": []
    },
    {
      "cell_type": "markdown",
      "metadata": {
        "id": "zYQH66G1kbjs"
      },
      "source": [
        "### Běh simulace"
      ]
    },
    {
      "cell_type": "code",
      "metadata": {
        "id": "EC88MN-4hqu3"
      },
      "source": [
        "calendar = EventCalendar()\n",
        "\n",
        "times = []\n",
        "lengths = []\n",
        "probability = []\n",
        "\n",
        "calendar.AddEvent(0, customerArrived, calendar=calendar)\n",
        "for event in calendar:\n",
        "  #print(event)\n",
        "  currentTime = event['time']\n",
        "  checkQueueLength(currentTime)\n",
        "  checkServiceFull(currentTime)\n",
        "\n",
        "  times.append(currentTime)\n",
        "  lengths.append(getAvgLength())\n",
        "  probability.append(getServiceAvailableProbability())\n",
        "\n",
        "  finishedCustomer = event['result']\n",
        "  if not finishedCustomer is None:\n",
        "    pass\n",
        "  if event['time'] > 10000:\n",
        "    break"
      ],
      "execution_count": 179,
      "outputs": []
    },
    {
      "cell_type": "markdown",
      "metadata": {
        "id": "Vm40leS6oVhC"
      },
      "source": [
        "### Výsledek simulace"
      ]
    },
    {
      "cell_type": "markdown",
      "metadata": {
        "id": "KkwfODg6y-Uo"
      },
      "source": [
        "#### Textový výstup"
      ]
    },
    {
      "cell_type": "code",
      "metadata": {
        "id": "vz8DMETFy-kN",
        "outputId": "af73a260-e2b2-40a2-92b2-da12299921df",
        "colab": {
          "base_uri": "https://localhost:8080/"
        }
      },
      "source": [
        "print(f'Průměrná délka fronty je {getAvgLength()}')\n",
        "print(f'Pravděpodobnost, že obsluha bude volná {getServiceAvailableProbability()}')"
      ],
      "execution_count": 180,
      "outputs": [
        {
          "output_type": "stream",
          "text": [
            "Průměrná délka fronty je 0.4250987809503456\n",
            "Pravděpodobnost, že obsluha bude volná 0.5040802685310215\n"
          ],
          "name": "stdout"
        }
      ]
    },
    {
      "cell_type": "markdown",
      "metadata": {
        "id": "zYlbDZisyeXc"
      },
      "source": [
        "#### Délka fronty"
      ]
    },
    {
      "cell_type": "code",
      "metadata": {
        "id": "6mRJpF60oZfR",
        "outputId": "e13ce657-3bd0-404f-fb7a-0a436046e052",
        "colab": {
          "base_uri": "https://localhost:8080/",
          "height": 592
        }
      },
      "source": [
        "plt.plot(times, lengths)\n",
        "plt.grid()"
      ],
      "execution_count": 181,
      "outputs": [
        {
          "output_type": "display_data",
          "data": {
            "image/png": "[encoded data removed]",
            "text/plain": [
              "<Figure size 1080x720 with 1 Axes>"
            ]
          },
          "metadata": {
            "tags": [],
            "needs_background": "light"
          }
        }
      ]
    },
    {
      "cell_type": "markdown",
      "metadata": {
        "id": "9xm_nEmkyfZw"
      },
      "source": [
        "#### Pravděpodobnost, že obsluha je volná"
      ]
    },
    {
      "cell_type": "code",
      "metadata": {
        "id": "949uS9j6yft9",
        "outputId": "abf1faa3-87c8-407c-e2de-0c3c5617a68f",
        "colab": {
          "base_uri": "https://localhost:8080/",
          "height": 592
        }
      },
      "source": [
        "plt.plot(times, probability)\n",
        "plt.grid()"
      ],
      "execution_count": 182,
      "outputs": [
        {
          "output_type": "display_data",
          "data": {
            "image/png": "[encoded data removed]",
            "text/plain": [
              "<Figure size 1080x720 with 1 Axes>"
            ]
          },
          "metadata": {
            "tags": [],
            "needs_background": "light"
          }
        }
      ]
    },
    {
      "cell_type": "markdown",
      "metadata": {
        "id": "HlM4zhqLVWsg"
      },
      "source": [
        "### Interaktivní simulace"
      ]
    },
    {
      "cell_type": "markdown",
      "metadata": {
        "id": "NpzOAYtFYVQf"
      },
      "source": [
        ""
      ]
    },
    {
      "cell_type": "code",
      "metadata": {
        "id": "LB8u_uq5YVqq"
      },
      "source": [
        ""
      ],
      "execution_count": 130,
      "outputs": []
    },
    {
      "cell_type": "code",
      "metadata": {
        "id": "vsuCsNgsVbvP",
        "outputId": "9b240cef-fac1-450c-abaf-504769a3ceba",
        "colab": {
          "base_uri": "https://localhost:8080/",
          "height": 793,
          "referenced_widgets": [
            "4a14d664b21149e689d0b295f95df8b5",
            "c42445ab16e147f2826864ccf96fc795",
            "994cfa2a4b5a40c7929e9900ccf06c2a",
            "1b841c76d2a048c988ee8053e72fab5d",
            "47cc6805f9a4476c87ccc72eb8955c24",
            "b874a40076ed4d1daa14bd5e0cb50897",
            "99d9e8126d664055a06bd1e72bb5a23e",
            "945767a01ec940ef90d159b5657ce485",
            "5037ea3d18cd470897180b065dfeb06d",
            "9e9a2a96ee734f4ba91edf1f75179f5c"
          ]
        }
      },
      "source": [
        "queue = []\n",
        "\n",
        "def simIt(λ = 1, µ = 2):\n",
        "  queue = []\n",
        "  def customerArrived(time, calendar):\n",
        "\n",
        "    # zařazení požadavku do fronty\n",
        "    newCustomer = {'enterTime': time}\n",
        "    queue.append(newCustomer)\n",
        "\n",
        "    # naplánování dalšího příchodu\n",
        "    deltaTime = exponential(1 / λ, 1)[0] # čas \n",
        "    calendar.AddEvent(time + deltaTime, customerArrived, calendar=calendar)\n",
        "\n",
        "    # pokus o zahájení obsluhy\n",
        "    calendar.AddEvent(time, tryBeginService, calendar=calendar)\n",
        "\n",
        "  servicePlace = {'inService': None}\n",
        "\n",
        "  def tryBeginService(time, calendar):\n",
        "    if servicePlace['inService'] is None:\n",
        "      if len(queue) > 0:\n",
        "        customer = queue.pop()\n",
        "        timeOfEnd = exponential(1 / µ, 1)[0] #jeden čas\n",
        "        customer['beginService'] = time\n",
        "        customer['endService'] = time + timeOfEnd\n",
        "        servicePlace['inService'] = customer\n",
        "\n",
        "        # Naplánování konce obsluhy\n",
        "        calendar.AddEvent(time + timeOfEnd, endService, calendar=calendar)\n",
        "\n",
        "  def endService(time, calendar):\n",
        "    finishedCustomer = servicePlace['inService']\n",
        "    servicePlace['inService'] = None\n",
        "    calendar.AddEvent(time, tryBeginService, calendar=calendar)\n",
        "    return finishedCustomer\n",
        "\n",
        "  times = []\n",
        "  lengths = []\n",
        "  probability = []\n",
        "\n",
        "  calendar = EventCalendar()\n",
        "  calendar.AddEvent(0, customerArrived, calendar=calendar)\n",
        "\n",
        "  for event in calendar:\n",
        "    #print(event)\n",
        "    currentTime = event['time']\n",
        "    checkQueueLength(currentTime)\n",
        "    checkServiceFull(currentTime)\n",
        "\n",
        "    times.append(currentTime)\n",
        "    lengths.append(getAvgLength())\n",
        "    probability.append(getServiceAvailableProbability())\n",
        "\n",
        "    finishedCustomer = event['result']\n",
        "    if not finishedCustomer is None:\n",
        "      pass\n",
        "    if event['time'] > 10000:\n",
        "      break\n",
        "\n",
        "  t = times\n",
        "  data1 = lengths\n",
        "  data2 = probability\n",
        "\n",
        "  fig, ax1 = plt.subplots()\n",
        "\n",
        "  color = 'tab:red'\n",
        "  ax1.set_xlabel('Čas')\n",
        "  ax1.set_ylabel('Délka', color=color)\n",
        "  ax1.plot(t, data1, color=color)\n",
        "  ax1.tick_params(axis='y', labelcolor=color)\n",
        "\n",
        "  ax2 = ax1.twinx()  # instantiate a second axes that shares the same x-axis\n",
        "\n",
        "  color = 'tab:blue'\n",
        "  ax2.set_ylabel('P', color=color)  # we already handled the x-label with ax1\n",
        "  ax2.plot(t, data2, color=color)\n",
        "  ax2.tick_params(axis='y', labelcolor=color)\n",
        "\n",
        "  fig.tight_layout()  # otherwise the right y-label is slightly clipped\n",
        "  plt.grid()\n",
        "  plt.show()\n",
        "\n",
        "widgets.interact(simIt, λ=widgets.FloatSlider(1, min=0.1, max=5), µ = widgets.FloatSlider(2, min=0.1, max=5));"
      ],
      "execution_count": 184,
      "outputs": [
        {
          "output_type": "display_data",
          "data": {
            "application/vnd.jupyter.widget-view+json": {
              "model_id": "4a14d664b21149e689d0b295f95df8b5",
              "version_minor": 0,
              "version_major": 2
            },
            "text/plain": [
              "interactive(children=(FloatSlider(value=1.0, description='λ', max=5.0, min=0.1), FloatSlider(value=2.0, descri…"
            ]
          },
          "metadata": {
            "tags": []
          }
        }
      ]
    },
    {
      "cell_type": "markdown",
      "metadata": {
        "id": "03JjdqhJ5PKH"
      },
      "source": [
        "## Simulace SHO M/M/n"
      ]
    },
    {
      "cell_type": "code",
      "metadata": {
        "id": "Rh9GvIge5R44"
      },
      "source": [
        "λ = 4\n",
        "µ = 2\n",
        "n = 3"
      ],
      "execution_count": 132,
      "outputs": []
    },
    {
      "cell_type": "markdown",
      "metadata": {
        "id": "yo7PuFNl5lxn"
      },
      "source": [
        "### Příchod požadavku"
      ]
    },
    {
      "cell_type": "code",
      "metadata": {
        "id": "AXwd8NoF5lxq"
      },
      "source": [
        "queue = []\n",
        "def customerArrived(time, calendar):\n",
        "  deltaTime = exponential(1 / λ, 1)[0] #jeden čas\n",
        "  calendar.AddEvent(time + deltaTime, customerArrived, calendar=calendar)\n",
        "  calendar.AddEvent(time, tryBeginService, calendar=calendar)\n",
        "  newCustomer = {'enterTime': time}\n",
        "  queue.append(newCustomer)"
      ],
      "execution_count": 133,
      "outputs": []
    },
    {
      "cell_type": "markdown",
      "metadata": {
        "id": "9Y99wKMP5lx9"
      },
      "source": [
        "### Obsluha požadavku"
      ]
    },
    {
      "cell_type": "code",
      "metadata": {
        "id": "iKF5DkY-5lx_"
      },
      "source": [
        "servedRequests = []\n",
        "\n",
        "def tryBeginService(time, calendar):\n",
        "  if len(servedRequests) < n:\n",
        "    if len(queue) > 0:\n",
        "      customer = queue.pop()\n",
        "      timeOfEnd = exponential(1 / µ, 1)[0] #jeden čas\n",
        "      calendar.AddEvent(time + timeOfEnd, endService, calendar=calendar, customer=customer)\n",
        "      customer['beginService'] = time\n",
        "      customer['endService'] = time + timeOfEnd\n",
        "      servedRequests.append(customer)\n",
        "\n",
        "def endService(time, calendar, customer):\n",
        "  servedRequests.remove(customer)\n",
        "  calendar.AddEvent(time, tryBeginService, calendar=calendar)\n",
        "  return customer"
      ],
      "execution_count": 134,
      "outputs": []
    },
    {
      "cell_type": "markdown",
      "metadata": {
        "id": "wrsLlvgR6wmF"
      },
      "source": [
        "### Sběr statistických ukazatelů"
      ]
    },
    {
      "cell_type": "markdown",
      "metadata": {
        "id": "54eo543h6wmT"
      },
      "source": [
        "#### Délka fronty"
      ]
    },
    {
      "cell_type": "code",
      "metadata": {
        "id": "KoQ8sEpo6wme"
      },
      "source": [
        "def statQueueLength():\n",
        "  return len(queue)\n",
        "\n",
        "updateStatQueueLength, getStatQueueLength = createStatistic(statQueueLength)"
      ],
      "execution_count": 135,
      "outputs": []
    },
    {
      "cell_type": "markdown",
      "metadata": {
        "id": "e7HdVOG86wnI"
      },
      "source": [
        "#### Obsluha volná"
      ]
    },
    {
      "cell_type": "code",
      "metadata": {
        "id": "ZsP23jaL6wnN"
      },
      "source": [
        "def statServiceFull():\n",
        "  if len(servedRequests) >= n:\n",
        "    return 1\n",
        "  else:\n",
        "    return 0\n",
        "\n",
        "updateStatServiceFull, getStatServiceFull = createStatistic(statServiceFull)"
      ],
      "execution_count": 136,
      "outputs": []
    },
    {
      "cell_type": "markdown",
      "metadata": {
        "id": "ACZ2XA_o6kzp"
      },
      "source": [
        "### Běh simulace"
      ]
    },
    {
      "cell_type": "code",
      "metadata": {
        "id": "zpXyEGxo6kz3"
      },
      "source": [
        "calendar = EventCalendar()\n",
        "\n",
        "times = []\n",
        "lengths = []\n",
        "probability = []\n",
        "\n",
        "calendar.AddEvent(0, customerArrived, calendar=calendar)\n",
        "for event in calendar:\n",
        "  currentTime = event['time']\n",
        "  updateStatQueueLength(currentTime)\n",
        "  updateStatServiceFull(currentTime)\n",
        "\n",
        "  times.append(currentTime)\n",
        "  lengths.append(getStatQueueLength())\n",
        "  probability.append(getStatServiceFull())\n",
        "\n",
        "  finishedCustomer = event['result']\n",
        "  if not finishedCustomer is None:\n",
        "    pass\n",
        "  if event['time'] > 10000:\n",
        "    break"
      ],
      "execution_count": 137,
      "outputs": []
    },
    {
      "cell_type": "markdown",
      "metadata": {
        "id": "JsZekoZg6k0Z"
      },
      "source": [
        "### Výsledek simulace"
      ]
    },
    {
      "cell_type": "markdown",
      "metadata": {
        "id": "386IzMJl6k0c"
      },
      "source": [
        "#### Textový výstup"
      ]
    },
    {
      "cell_type": "code",
      "metadata": {
        "id": "VrYSUYBK6k0g",
        "outputId": "b8d90403-bba2-4be3-ab86-8c4846a90d9e",
        "colab": {
          "base_uri": "https://localhost:8080/"
        }
      },
      "source": [
        "print(f'Průměrná délka fronty je {getStatQueueLength()}')\n",
        "print(f'Pravděpodobnost, že obsluha bude volná {getStatServiceFull()}')"
      ],
      "execution_count": 138,
      "outputs": [
        {
          "output_type": "stream",
          "text": [
            "Průměrná délka fronty je 0.9012376570657421\n",
            "Pravděpodobnost, že obsluha bude volná 0.4550394436646325\n"
          ],
          "name": "stdout"
        }
      ]
    },
    {
      "cell_type": "markdown",
      "metadata": {
        "id": "ER4yMP1g6k0x"
      },
      "source": [
        "#### Délka fronty"
      ]
    },
    {
      "cell_type": "code",
      "metadata": {
        "id": "QgAlXh-46k0y",
        "outputId": "9603025a-486a-4820-dc1a-4c9cd4f10aa1",
        "colab": {
          "base_uri": "https://localhost:8080/",
          "height": 592
        }
      },
      "source": [
        "plt.plot(times, lengths)\n",
        "plt.grid()"
      ],
      "execution_count": 139,
      "outputs": [
        {
          "output_type": "display_data",
          "data": {
            "image/png": "[encoded data removed]",
            "text/plain": [
              "<Figure size 1080x720 with 1 Axes>"
            ]
          },
          "metadata": {
            "tags": [],
            "needs_background": "light"
          }
        }
      ]
    },
    {
      "cell_type": "markdown",
      "metadata": {
        "id": "7aFFNV7H6k0_"
      },
      "source": [
        "#### Pravděpodobnost obsluha je volná"
      ]
    },
    {
      "cell_type": "code",
      "metadata": {
        "id": "-OEjg9Bk6k1A",
        "outputId": "5b1722d5-1e95-4973-c728-d24a922048e2",
        "colab": {
          "base_uri": "https://localhost:8080/",
          "height": 592
        }
      },
      "source": [
        "plt.plot(times, probability)\n",
        "plt.grid()"
      ],
      "execution_count": 140,
      "outputs": [
        {
          "output_type": "display_data",
          "data": {
            "image/png": "[encoded data removed]",
            "text/plain": [
              "<Figure size 1080x720 with 1 Axes>"
            ]
          },
          "metadata": {
            "tags": [],
            "needs_background": "light"
          }
        }
      ]
    }
  ]
}