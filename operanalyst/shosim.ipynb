{
  "nbformat": 4,
  "nbformat_minor": 0,
  "metadata": {
    "colab": {
      "name": "SHOSimulace.ipynb",
      "provenance": [],
      "authorship_tag": "ABX9TyPnHxFC6sUbGlMVzPxCP+O1",
      "include_colab_link": true
    },
    "kernelspec": {
      "name": "python3",
      "display_name": "Python 3"
    }
  },
  "cells": [
    {
      "cell_type": "markdown",
      "metadata": {
        "id": "view-in-github",
        "colab_type": "text"
      },
      "source": [
        "<a href=\"https://colab.research.google.com/github/hrbolek/learning/blob/master/operanalyst/shosim.ipynb\" target=\"_parent\"><img src=\"https://colab.research.google.com/assets/colab-badge.svg\" alt=\"Open In Colab\"/></a>"
      ]
    },
    {
      "cell_type": "markdown",
      "metadata": {
        "id": "s1ri0sOJPP1M"
      },
      "source": [
        "# Teorie hromadné obsluhy"
      ]
    },
    {
      "cell_type": "markdown",
      "metadata": {
        "id": "GWFs2L7IPQQI"
      },
      "source": [
        "## Krátké připomenutí\n",
        "Kandalova notace\n",
        "\n",
        "Systémy M/M/1, M/M/n\n",
        "\n",
        "Pro systém M/M/1 platí rovnice o průměrné délce fronty\n",
        "\n",
        "$L = \\frac{\\lambda}{\\mu}$\n",
        "\n",
        "kde L je  průměrná délka fronty\n",
        "\n",
        "$\\lambda$ je intenzita toku požadavků\n",
        "\n",
        "$\\mu$ je intenzita obsluhy\n",
        "\n",
        "odkaz https://en.wikipedia.org/wiki/Queueing_theory"
      ]
    },
    {
      "cell_type": "markdown",
      "metadata": {
        "id": "jKgaFMd2PdhU"
      },
      "source": [
        "## Simulace toku požadavků"
      ]
    },
    {
      "cell_type": "markdown",
      "metadata": {
        "id": "cT8rQFS6PiC-"
      },
      "source": [
        "### Poisonův tok"
      ]
    },
    {
      "cell_type": "markdown",
      "metadata": {
        "id": "c60mgWOsPokb"
      },
      "source": [
        "Poisonův tok je model např. příchodu zákazníků k přepážce, kde jsou obsluhováni. Pro modelování potřebujeme generovat posloupnost příchodů. Interval mezi jednotlivými příchody lze generovat podle následujícího vztahu\n",
        "\n",
        "$r'=-\\frac{1}{\\lambda}ln(r)$\n",
        "\n",
        "kde $r$ je náhodné číslo s rovnoměrným rozložením a $r'$ je náhodný interval mezi dvěma příchody.\n",
        "\n",
        "Stejným vztahem lze vypočítat náhodnou délku obsluhy (pro systémy M/M/1 nebo M/M/n)\n",
        "\n",
        "https://preshing.com/20111007/how-to-generate-random-timings-for-a-poisson-process/"
      ]
    },
    {
      "cell_type": "code",
      "metadata": {
        "id": "yr5btoT4Pyni"
      },
      "source": [
        "from random import random\n",
        "from math import log as ln\n",
        "\n",
        "def rndEx(rnd, lam):\n",
        "  x = rnd()\n",
        "  result = (-1 / lam) * ln(x) #https://preshing.com/20111007/how-to-generate-random-timings-for-a-poisson-process/\n",
        "  return result"
      ],
      "execution_count": 1,
      "outputs": []
    },
    {
      "cell_type": "code",
      "metadata": {
        "id": "Lu2e6Hx8Z_1z"
      },
      "source": [
        ""
      ],
      "execution_count": null,
      "outputs": []
    },
    {
      "cell_type": "code",
      "metadata": {
        "id": "D_eG7uL0P5f4",
        "outputId": "3c5db8a6-62ca-455f-d05f-1cb106984d6f",
        "colab": {
          "base_uri": "https://localhost:8080/",
          "height": 640
        }
      },
      "source": [
        "import matplotlib.pyplot as plt\n",
        "from pylab import rcParams\n",
        "rcParams['figure.figsize'] = 15, 10\n",
        "\n",
        "def plotFlow(maxTime, lam, color):\n",
        "  currentTime = 0\n",
        "  while currentTime < maxTime:\n",
        "    currentTime = currentTime + rndEx(random, lam)\n",
        "    plt.axvline(x = currentTime, color =color)\n",
        "\n",
        "plotFlow(30, 0.5, color='red')    \n",
        "plotFlow(30, 1, color='green')    \n",
        "plt.title('Dva toky s různou intenzitou')\n",
        "plt.xlabel('Čas');"
      ],
      "execution_count": 7,
      "outputs": [
        {
          "output_type": "execute_result",
          "data": {
            "text/plain": [
              "Text(0.5, 0, 'Čas')"
            ]
          },
          "metadata": {
            "tags": []
          },
          "execution_count": 7
        },
        {
          "output_type": "display_data",
          "data": {
            "image/png": "[encoded data removed]",
            "text/plain": [
              "<Figure size 1080x720 with 1 Axes>"
            ]
          },
          "metadata": {
            "tags": [],
            "needs_background": "light"
          }
        }
      ]
    }
  ]
}