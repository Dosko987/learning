{
  "nbformat": 4,
  "nbformat_minor": 0,
  "metadata": {
    "colab": {
      "name": "LinearProgContinues.ipynb",
      "provenance": [],
      "authorship_tag": "ABX9TyOfxpF1dipRzYaugV/vJGdr",
      "include_colab_link": true
    },
    "kernelspec": {
      "name": "python3",
      "display_name": "Python 3"
    }
  },
  "cells": [
    {
      "cell_type": "markdown",
      "metadata": {
        "id": "view-in-github",
        "colab_type": "text"
      },
      "source": [
        "<a href=\"https://colab.research.google.com/github/hrbolek/learning/blob/master/%20learning/operanalyst/linearprogcontinues.ipynb\" target=\"_parent\"><img src=\"https://colab.research.google.com/assets/colab-badge.svg\" alt=\"Open In Colab\"/></a>"
      ]
    },
    {
      "cell_type": "markdown",
      "metadata": {
        "id": "Vu-0OKRFONHl"
      },
      "source": [
        "# Speciální úlohy lineárního programování"
      ]
    },
    {
      "cell_type": "markdown",
      "metadata": {
        "id": "ZScOkcWJOPu0"
      },
      "source": [
        "## Dopravní problém"
      ]
    },
    {
      "cell_type": "markdown",
      "metadata": {
        "id": "EhFCp1-AOSOg"
      },
      "source": [
        "https://www.youtube.com/watch?v=kFd8WgNwokQ\n",
        "\n",
        "https://www.youtube.com/watch?v=Jr7LI-sUEmo\n",
        "\n",
        "Přednáška z konference ESRI v roce 2019:\n",
        "\n",
        "https://www.youtube.com/watch?v=DaB7J3rm_3M\n",
        "\n",
        "https://econweb.ucsd.edu/~jsobel/172aw02/notes8.pdf"
      ]
    },
    {
      "cell_type": "markdown",
      "metadata": {
        "id": "_5EIjsQROUSJ"
      },
      "source": [
        "$$min \\sum_{i=1}^{m} \\sum_{j=1}^{n} c_{ij}x_{ij}$$\n",
        "$$ \\forall_{i=1,...,m} : \\sum_{j=1}^{n} x_{ij} = S_i $$\n",
        "$$ \\forall_{j=1,...,n} : \\sum_{i=1}^{m} x_{ij} = D_j $$"
      ]
    },
    {
      "cell_type": "markdown",
      "metadata": {
        "id": "yNxCwEXXOhnY"
      },
      "source": [
        "### Příklad"
      ]
    },
    {
      "cell_type": "markdown",
      "metadata": {
        "id": "mfxlPIerOWhA"
      },
      "source": [
        "| $D_i \\setminus S_i$ | $S_1$ | $S_2$ | $S_3$ | $S_4$ | $d_i$ |\n",
        "|:--:|:--:|:--:|:--:|:--:|:--:|\n",
        "| $D_1$ | 5 | 6 | 10 | 15 | 10 |\n",
        "| $D_2$ | 7 | 6 | 3 | 10 | 10 |\n",
        "| $D_3$ | 8 | 5 | 15 | 20 | 10 |\n",
        "| $D_4$ | 10 | 20 | 30 | 30 | 10 |\n",
        "| $s_j$ | 3 | 8 | 4 | 25 | 40 |"
      ]
    },
    {
      "cell_type": "markdown",
      "metadata": {
        "id": "IQI30AKqObVK"
      },
      "source": [
        "$$C=\\begin{pmatrix} \n",
        "5 & 6 & 10 & 15\\\\\n",
        "7 & 6 & 3 & 10\\\\\n",
        "8 & 5 & 15 & 20\\\\\n",
        "10 & 20 & 30 & 30\n",
        "\\end{pmatrix}$$\n",
        "$$D=\\begin{pmatrix}\n",
        "10\\\\\n",
        "10\\\\\n",
        "10\\\\\n",
        "10\n",
        "\\end{pmatrix}$$\n",
        "$$S=\\begin{pmatrix}\n",
        "3\\\\\n",
        "8\\\\\n",
        "4\\\\\n",
        "28\n",
        "\\end{pmatrix}$$"
      ]
    },
    {
      "cell_type": "markdown",
      "metadata": {
        "id": "pOUgiFAeOddg"
      },
      "source": [
        "### Řešení v Python"
      ]
    },
    {
      "cell_type": "markdown",
      "metadata": {
        "id": "xBAzYtnaPn5a"
      },
      "source": [
        "#### Implementace Vogelovy aproximační metody"
      ]
    },
    {
      "cell_type": "markdown",
      "metadata": {
        "id": "XHgJwCZ1P2Jx"
      },
      "source": [
        "https://www.youtube.com/watch?v=HVHPBAKTZWw"
      ]
    },
    {
      "cell_type": "code",
      "metadata": {
        "id": "dpFao-DlPviL"
      },
      "source": [
        "from collections import defaultdict\n",
        " \n",
        "def Vogel(costs, demand, supply, debug=False):\n",
        "    cols = sorted(demand.keys())\n",
        "    res = dict((k, defaultdict(int)) for k in costs)\n",
        "    g = {}\n",
        "    for x in supply:\n",
        "        if debug:\n",
        "          print(x)\n",
        "        g[x] = sorted(costs[x].keys(), key=lambda g: costs[x][g])\n",
        "    if debug:\n",
        "      print(g)\n",
        "    for x in demand:\n",
        "        if debug:\n",
        "          print(x)\n",
        "        g[x] = sorted(costs.keys(), key=lambda g: costs[g][x])\n",
        "    if debug:\n",
        "      print(g)\n",
        "\n",
        "    while g:\n",
        "        d = {}\n",
        "        for x in demand:\n",
        "            d[x] = (costs[g[x][1]][x] - costs[g[x][0]][x]) if len(g[x]) > 1 else costs[g[x][0]][x]\n",
        "        s = {}\n",
        "        for x in supply:\n",
        "            s[x] = (costs[x][g[x][1]] - costs[x][g[x][0]]) if len(g[x]) > 1 else costs[x][g[x][0]]\n",
        "        f = max(d, key=lambda n: d[n])\n",
        "        t = max(s, key=lambda n: s[n])\n",
        "        t, f = (f, g[f][0]) if d[f] > s[t] else (g[t][0], t)\n",
        "        v = min(supply[f], demand[t])\n",
        "        res[f][t] += v\n",
        "        demand[t] -= v\n",
        "        if demand[t] == 0:\n",
        "            for k, n in supply.items():\n",
        "                if n != 0:\n",
        "                    g[k].remove(t)\n",
        "            del g[t]\n",
        "            del demand[t]\n",
        "        supply[f] -= v\n",
        "        if supply[f] == 0:\n",
        "            for k, n in demand.items():\n",
        "                if n != 0:\n",
        "                    g[k].remove(f)\n",
        "            del g[f]\n",
        "            del supply[f]\n",
        "    return res"
      ],
      "execution_count": 17,
      "outputs": []
    },
    {
      "cell_type": "code",
      "metadata": {
        "id": "aKZWdnonOoKU"
      },
      "source": [
        "import numpy as np\n",
        "\n",
        "C = {\n",
        "    's1':{'d1': 5, 'd2': 7, 'd3': 8, 'd4': 10},\n",
        "    's2':{'d1': 6, 'd2': 6, 'd3': 5, 'd4': 20},\n",
        "    's3':{'d1': 10, 'd2': 3, 'd3': 15, 'd4': 30},\n",
        "    's4':{'d1': 15, 'd2': 10, 'd3': 20, 'd4': 30},\n",
        "     }\n",
        "     \n",
        "C = {\n",
        "    'd1':{'s1': 5, 's2': 6, 's3': 10, 's4': 15},\n",
        "    'd2':{'s1': 7, 's2': 6, 's3': 3, 's4': 10},\n",
        "    'd3':{'s1': 8, 's2': 5, 's3': 15, 's4': 20},\n",
        "    'd4':{'s1': 10, 's2': 20, 's3': 30, 's4': 30},\n",
        "     }\n",
        "\n",
        "S = {'s1': 3, 's2': 8, 's3': 4, 's4': 25}\n",
        "D = {'d1': 10, 'd2': 10, 'd3': 10, 'd4': 10}"
      ],
      "execution_count": 19,
      "outputs": []
    },
    {
      "cell_type": "code",
      "metadata": {
        "id": "xIqJ_t_3P8gD",
        "outputId": "1f572791-5a32-4e1d-ada2-6f350aa63ae5",
        "colab": {
          "base_uri": "https://localhost:8080/",
          "height": 164
        }
      },
      "source": [
        "res = Vogel({**C}, {**S}, {**D})\n",
        "cols = sorted(S.keys())\n",
        "for n in cols:\n",
        "    print(\"\\t\", n, end='')\n",
        "print()\n",
        "cost = 0\n",
        "for g in sorted(C):\n",
        "    print(g, \"\\t\", end='')\n",
        "    for n in cols:\n",
        "        y = res[g][n]\n",
        "        if y != 0:\n",
        "            #print(y, ',', C[g][n], end='')\n",
        "            print(y, end='')\n",
        "        cost += y * C[g][n]\n",
        "        print(\"\\t\", end='')\n",
        "    print()\n",
        "print(\"\\n\\nTotal Cost = \", cost)"
      ],
      "execution_count": 22,
      "outputs": [
        {
          "output_type": "stream",
          "text": [
            "\t s1\t s2\t s3\t s4\n",
            "d1 \t\t\t\t10\t\n",
            "d2 \t\t\t4\t6\t\n",
            "d3 \t\t8\t\t2\t\n",
            "d4 \t3\t\t\t7\t\n",
            "\n",
            "\n",
            "Total Cost =  542\n"
          ],
          "name": "stdout"
        }
      ]
    },
    {
      "cell_type": "markdown",
      "metadata": {
        "id": "2RXt2wL5iQAA"
      },
      "source": [
        "### Příklad"
      ]
    },
    {
      "cell_type": "markdown",
      "metadata": {
        "id": "FHM3XTeOiT29"
      },
      "source": [
        "| $A_i \\setminus B_i$ | $B_1$ | $B_2$ | $B_3$ | $B_4$ | $B_5$ | $a_1$ |\n",
        "|:--:|:--:|:--:|:--:|:--:|:--:|:--:|\n",
        "| $A_1$ | 12 | 8 | 10 | 4 | 9 | 10 |\n",
        "| $A_2$ | 3 | 3 | 2 | 6 | 10 | 10 |\n",
        "| $A_3$ | 3 | 7 | 10 | 3 | 2 | 10 |\n",
        "| $A_4$ | 8 | 5 | 4 | 3 | 5 | 10 |\n",
        "| $b_j$ | 11 | 8 | 7 | 4 | 10 | 40 |"
      ]
    },
    {
      "cell_type": "markdown",
      "metadata": {
        "id": "OfpoSDpHiY1Y"
      },
      "source": [
        "$$C=\n",
        "\\begin{pmatrix}\n",
        "12 & 8 & 10 & 4 & 9 \\\\\n",
        "3 & 3 & 2 & 6 & 10 \\\\\n",
        "3 & 7 & 10 & 3 & 2 \\\\\n",
        "8 & 5 & 4 & 3 & 5\n",
        "\\end{pmatrix}$$\n",
        "$$D=\n",
        "\\begin{pmatrix}\n",
        "10 \\\\\n",
        "10 \\\\\n",
        "10 \\\\\n",
        "10\n",
        "\\end{pmatrix}$$\n",
        "$$S=\n",
        "\\begin{pmatrix}\n",
        "11 \\\\\n",
        "8 \\\\\n",
        "7 \\\\\n",
        "4 \\\\\n",
        "10\n",
        "\\end{pmatrix}$$"
      ]
    },
    {
      "cell_type": "code",
      "metadata": {
        "id": "uRThU_ikjGol",
        "outputId": "142cbbea-4696-4560-b718-62c9cc9a8bcd",
        "colab": {
          "base_uri": "https://localhost:8080/",
          "height": 55
        }
      },
      "source": [
        "def matrix2dict(matrix, dnames, snames):\n",
        "  result = {}\n",
        "  for i, dname in enumerate(dnames):\n",
        "    result[dname] = dict(zip(snames, matrix[i]))\n",
        "  return result\n",
        "      \n",
        "CM = [[12, 8, 10, 4, 9], [3, 3, 2, 6, 10], [3, 7, 10, 3, 2], [8, 5, 4, 3, 5]]      \n",
        "dnames = ['dod1', 'dod2', 'dod3', 'dod4']\n",
        "snames = ['spo1', 'spo2', 'spo3', 'spo4', 'spo5']\n",
        "C = matrix2dict(CM, dnames, snames)\n",
        "print(C)"
      ],
      "execution_count": 30,
      "outputs": [
        {
          "output_type": "stream",
          "text": [
            "{'dod1': {'spo1': 12, 'spo2': 8, 'spo3': 10, 'spo4': 4, 'spo5': 9}, 'dod2': {'spo1': 3, 'spo2': 3, 'spo3': 2, 'spo4': 6, 'spo5': 10}, 'dod3': {'spo1': 3, 'spo2': 7, 'spo3': 10, 'spo4': 3, 'spo5': 2}, 'dod4': {'spo1': 8, 'spo2': 5, 'spo3': 4, 'spo4': 3, 'spo5': 5}}\n"
          ],
          "name": "stdout"
        }
      ]
    },
    {
      "cell_type": "code",
      "metadata": {
        "id": "KbWcJeKPkNnZ",
        "outputId": "e3501118-60eb-41a8-e44d-42c73de924f3",
        "colab": {
          "base_uri": "https://localhost:8080/",
          "height": 54
        }
      },
      "source": [
        "DM = [10, 10, 10, 10]\n",
        "D = dict(zip(dnames, DM))\n",
        "print(D)\n",
        "SM = [11, 8, 7, 4, 10]\n",
        "S = dict(zip(snames, SM))\n",
        "print(S)"
      ],
      "execution_count": 31,
      "outputs": [
        {
          "output_type": "stream",
          "text": [
            "{'dod1': 10, 'dod2': 10, 'dod3': 10, 'dod4': 10}\n",
            "{'spo1': 11, 'spo2': 8, 'spo3': 7, 'spo4': 4, 'spo5': 10}\n"
          ],
          "name": "stdout"
        }
      ]
    },
    {
      "cell_type": "code",
      "metadata": {
        "id": "stAMhXlPlrwV",
        "outputId": "020f3304-26e9-4917-ed97-0a7de44d413e",
        "colab": {
          "base_uri": "https://localhost:8080/",
          "height": 164
        }
      },
      "source": [
        "res = Vogel({**C}, {**S}, {**D})\n",
        "cols = sorted(S.keys())\n",
        "for n in cols:\n",
        "    print(\"\\t\", n, end='')\n",
        "print()\n",
        "cost = 0\n",
        "for g in sorted(C):\n",
        "    print(g, \"\\t\", end='')\n",
        "    for n in cols:\n",
        "        y = res[g][n]\n",
        "        if y != 0:\n",
        "            #print(y, ',', C[g][n], end='')\n",
        "            print(y, end='')\n",
        "        cost += y * C[g][n]\n",
        "        print(\"\\t\", end='')\n",
        "    print()\n",
        "print(\"\\n\\nTotal Cost = \", cost)"
      ],
      "execution_count": 36,
      "outputs": [
        {
          "output_type": "stream",
          "text": [
            "\t spo1\t spo2\t spo3\t spo4\t spo5\n",
            "dod1 \t\t6 , 8\t\t4 , 4\t\t\n",
            "dod2 \t10 , 3\t\t\t\t\t\n",
            "dod3 \t\t\t\t\t10 , 2\t\n",
            "dod4 \t1 , 8\t2 , 5\t7 , 4\t\t\t\n",
            "\n",
            "\n",
            "Total Cost =  160\n"
          ],
          "name": "stdout"
        }
      ]
    }
  ]
}