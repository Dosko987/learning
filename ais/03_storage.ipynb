{
 "cells": [
  {
   "cell_type": "markdown",
   "metadata": {
    "id": "k-TIFPKtD4NT"
   },
   "source": [
    "# Ukládání dat"
   ]
  },
  {
   "cell_type": "markdown",
   "metadata": {
    "id": "WNp9gHrIDsUk"
   },
   "source": [
    "Úkládání dat\n",
    "\n",
    "- Homogenní datové struktury\n",
    "- Heterogenní datové struktury\n",
    "- Operace nad datovými strukturami\n",
    "  - Filter\n",
    "  - Map\n",
    "  - Reduce\n",
    "- SQL (SQLAlchemy Python)\n",
    "- GraphQL (Graphene Python)\n",
    "\n"
   ]
  },
  {
   "cell_type": "markdown",
   "metadata": {
    "id": "U2AJ0PmcD9Qq"
   },
   "source": [
    "## Homogenní datové struktury"
   ]
  },
  {
   "cell_type": "markdown",
   "metadata": {
    "id": "wUc70kIsYIPF"
   },
   "source": [
    "Homogenní datové struktury jsou charakterizované \"stejností\". Velmi často jsou spojovány s tabulkami v SQL databázích. Tyto tabulky mají definici, které je společná pro všechny záznamy.\n",
    "\n",
    "V jazyku Python je ekvivalentem seznam (list), jehož položky jsou slovníky (dictionary), případně instance specifické třídy (class). V případě dictionary se předpokládá, že všechny mají stejný seznam klíčů, což je důležité pro zpracování dat pomocí funkcí, které mohou předpokládat přítomnost hodnot.\n",
    "\n",
    "Velmi často se předpokládá, že hodnoty klíčů jsou elementární datové struktury (viz SQL databáze), ale může bát i jinak (NonSQL)."
   ]
  },
  {
   "cell_type": "markdown",
   "metadata": {},
   "source": [
    "### Příklad testu homogenity dat"
   ]
  },
  {
   "cell_type": "code",
   "execution_count": 1,
   "metadata": {},
   "outputs": [],
   "source": [
    "import json\n",
    "\n",
    "with open('rozvrh/data.json') as inputFile:\n",
    "    data = json.load(inputFile)"
   ]
  },
  {
   "cell_type": "code",
   "execution_count": 20,
   "metadata": {},
   "outputs": [
    {
     "name": "stdout",
     "output_type": "stream",
     "text": [
      "{'id': True, 'typeId': True, 'startTime': True, 'endTime': True, 'dateCode': True, 'date': True, 'categoryId': True, 'subjectId': False, 'subjectName': False, 'departmentId': False, 'departmentName': False, 'topic': False, 'topicId': False, 'masterId': False, 'timeslotsId': True, 'timeslotsName': True, 'lessonOrder': False, 'lessonFormId': False, 'lessonFormName': False, 'lessonUnit': True, 'lessonsCount': False, 'groupsIds': True, 'groupsNames': True, 'groupsEntryYearsIds': True, 'classroomsIds': True, 'classroomsNames': True, 'classroomsAreasIds': True, 'teachersIds': True, 'teachersNames': True, 'teachersDepartmentsIds': True, 'isLocked': False, 'subtopic': False, 'note': False, 'comment': False, 'supergroupId': False}\n",
      "------------------------------\n",
      "id typeId startTime endTime dateCode date categoryId timeslotsId timeslotsName lessonUnit groupsIds groupsNames groupsEntryYearsIds classroomsIds classroomsNames classroomsAreasIds teachersIds teachersNames teachersDepartmentsIds \n",
      "------------------------------\n",
      "subjectId subjectName departmentId departmentName topic topicId masterId lessonOrder lessonFormId lessonFormName lessonsCount isLocked subtopic note comment supergroupId \n"
     ]
    }
   ],
   "source": [
    "events = data['events']\n",
    "keys = {}\n",
    "for item in events:\n",
    "    for key in item.keys():\n",
    "        keys[key] = True\n",
    "\n",
    "for item in events:\n",
    "    for key in keys.keys():\n",
    "        if not key in item:\n",
    "            keys[key] = False\n",
    "\n",
    "print(keys)\n",
    "print('-'*30)\n",
    "for key, value in keys.items():\n",
    "    if value:\n",
    "        print(key, end=' ')\n",
    "print()\n",
    "print('-'*30)\n",
    "for key, value in keys.items():\n",
    "    if not value:\n",
    "        print(key, end=' ')\n",
    "print()\n"
   ]
  },
  {
   "cell_type": "code",
   "execution_count": 21,
   "metadata": {},
   "outputs": [
    {
     "name": "stdout",
     "output_type": "stream",
     "text": [
      "{'id': '2D2B1C90-F4FF-11EB-9B74-520D00000000', 'typeId': 'F00CB650-9768-11EB-87D2-030800000000', 'startTime': {'hours': 14, 'minutes': 30}, 'endTime': {'hours': 16, 'minutes': 0}, 'dateCode': '2021-11-15', 'date': {'day': 15, 'month': 11, 'year': 2021}, 'categoryId': 1, 'subjectId': 32269, 'subjectName': 'Letecké elektronické systémy II', 'departmentId': 441, 'departmentName': 'FVT-K206', 'topic': '3. Syntéza kmitočtu ', 'topicId': 62645, 'masterId': '62645/2', 'timeslotsId': 1, 'timeslotsName': 'BR', 'lessonOrder': 8, 'lessonFormId': 2, 'lessonFormName': 'CV', 'lessonUnit': 45, 'lessonsCount': 2, 'groupsIds': ['A8CFD4D0-8CA4-11EB-BA48-520D00000000'], 'groupsNames': ['23-3LT-AV-C'], 'groupsEntryYearsIds': [], 'classroomsIds': [331], 'classroomsNames': ['Č1/120'], 'classroomsAreasIds': [2], 'teachersIds': [540], 'teachersNames': ['Němeček, Jiří'], 'teachersDepartmentsIds': [441], 'isLocked': True} ? subtopic\n",
      "{'id': '2D2B1C90-F4FF-11EB-9B74-520D00000000', 'typeId': 'F00CB650-9768-11EB-87D2-030800000000', 'startTime': {'hours': 14, 'minutes': 30}, 'endTime': {'hours': 16, 'minutes': 0}, 'dateCode': '2021-11-15', 'date': {'day': 15, 'month': 11, 'year': 2021}, 'categoryId': 1, 'subjectId': 32269, 'subjectName': 'Letecké elektronické systémy II', 'departmentId': 441, 'departmentName': 'FVT-K206', 'topic': '3. Syntéza kmitočtu ', 'topicId': 62645, 'masterId': '62645/2', 'timeslotsId': 1, 'timeslotsName': 'BR', 'lessonOrder': 8, 'lessonFormId': 2, 'lessonFormName': 'CV', 'lessonUnit': 45, 'lessonsCount': 2, 'groupsIds': ['A8CFD4D0-8CA4-11EB-BA48-520D00000000'], 'groupsNames': ['23-3LT-AV-C'], 'groupsEntryYearsIds': [], 'classroomsIds': [331], 'classroomsNames': ['Č1/120'], 'classroomsAreasIds': [2], 'teachersIds': [540], 'teachersNames': ['Němeček, Jiří'], 'teachersDepartmentsIds': [441], 'isLocked': True} ? note\n"
     ]
    }
   ],
   "source": [
    "counter = 1\n",
    "for item in events:\n",
    "    for key in keys.keys():\n",
    "        if not key in item:\n",
    "            counter = counter + 1\n",
    "            if counter > 3:\n",
    "                break\n",
    "            print(item, '?', key)\n",
    "            "
   ]
  },
  {
   "cell_type": "markdown",
   "metadata": {},
   "source": [
    "> **Otázky**\n",
    ">\n",
    "> Jak můžeme naložit s hodnotami, které jsou vždy přítomné?\n",
    ">\n",
    "> Jak naložíme s hodnotami, které přítomné nejsou?"
   ]
  },
  {
   "cell_type": "code",
   "execution_count": 23,
   "metadata": {},
   "outputs": [
    {
     "name": "stdout",
     "output_type": "stream",
     "text": [
      "startTime is dict type / relation 1:1 expected?\n",
      "endTime is dict type / relation 1:1 expected?\n",
      "date is dict type / relation 1:1 expected?\n",
      "groupsIds is list type / relation 1:N expected\n",
      "groupsNames is list type / relation 1:N expected\n",
      "groupsEntryYearsIds is list type / relation 1:N expected\n",
      "classroomsIds is list type / relation 1:N expected\n",
      "classroomsNames is list type / relation 1:N expected\n",
      "classroomsAreasIds is list type / relation 1:N expected\n",
      "teachersIds is list type / relation 1:N expected\n",
      "teachersNames is list type / relation 1:N expected\n",
      "teachersDepartmentsIds is list type / relation 1:N expected\n"
     ]
    }
   ],
   "source": [
    "keys = {}\n",
    "for item in events:\n",
    "    for key in item.keys():\n",
    "        value = item[key]\n",
    "        if isinstance(value, dict):\n",
    "            print(f'{key} is dict type / relation 1:1 expected?')\n",
    "        if isinstance(value, list):\n",
    "            print(f'{key} is list type / relation 1:N expected')\n",
    "    break"
   ]
  },
  {
   "cell_type": "markdown",
   "metadata": {},
   "source": [
    "### Omezení dat na množinu vždy přítomných hodnot"
   ]
  },
  {
   "cell_type": "code",
   "execution_count": 25,
   "metadata": {},
   "outputs": [
    {
     "name": "stdout",
     "output_type": "stream",
     "text": [
      "{'id': '2D2B1C90-F4FF-11EB-9B74-520D00000000', 'typeId': 'F00CB650-9768-11EB-87D2-030800000000', 'startTime': {'hours': 14, 'minutes': 30}, 'endTime': {'hours': 16, 'minutes': 0}, 'dateCode': '2021-11-15', 'date': {'day': 15, 'month': 11, 'year': 2021}, 'categoryId': 1, 'timeslotsId': 1, 'timeslotsName': 'BR', 'lessonUnit': 45, 'groupsIds': ['A8CFD4D0-8CA4-11EB-BA48-520D00000000'], 'groupsNames': ['23-3LT-AV-C'], 'groupsEntryYearsIds': [], 'classroomsIds': [331], 'classroomsNames': ['Č1/120'], 'classroomsAreasIds': [2]}\n",
      "{'id': 'C65A0170-F4FE-11EB-9B74-520D00000000', 'typeId': 'EFAE42A0-9768-11EB-87D2-030800000000', 'startTime': {'hours': 9, 'minutes': 50}, 'endTime': {'hours': 11, 'minutes': 20}, 'dateCode': '2021-10-19', 'date': {'day': 19, 'month': 10, 'year': 2021}, 'categoryId': 1, 'timeslotsId': 1, 'timeslotsName': 'BR', 'lessonUnit': 45, 'groupsIds': ['A8CFD4D0-8CA4-11EB-BA48-520D00000000'], 'groupsNames': ['23-3LT-AV-C'], 'groupsEntryYearsIds': [], 'classroomsIds': [332], 'classroomsNames': ['Č1/121'], 'classroomsAreasIds': [2]}\n",
      "{'id': '396CC6C0-F4FF-11EB-9B74-520D00000000', 'typeId': 'F01EB7B0-9768-11EB-87D2-030800000000', 'startTime': {'hours': 11, 'minutes': 40}, 'endTime': {'hours': 13, 'minutes': 10}, 'dateCode': '2021-11-19', 'date': {'day': 19, 'month': 11, 'year': 2021}, 'categoryId': 1, 'timeslotsId': 1, 'timeslotsName': 'BR', 'lessonUnit': 45, 'groupsIds': ['A8CFD4D0-8CA4-11EB-BA48-520D00000000'], 'groupsNames': ['23-3LT-AV-C'], 'groupsEntryYearsIds': [], 'classroomsIds': [332], 'classroomsNames': ['Č1/121'], 'classroomsAreasIds': [2]}\n",
      "{'id': '7B7F24E0-F4FF-11EB-9B74-520D00000000', 'typeId': 'F06843D0-9768-11EB-87D2-030800000000', 'startTime': {'hours': 11, 'minutes': 40}, 'endTime': {'hours': 13, 'minutes': 10}, 'dateCode': '2021-12-14', 'date': {'day': 14, 'month': 12, 'year': 2021}, 'categoryId': 1, 'timeslotsId': 1, 'timeslotsName': 'BR', 'lessonUnit': 45, 'groupsIds': ['A8CFD4D0-8CA4-11EB-BA48-520D00000000'], 'groupsNames': ['23-3LT-AV-C'], 'groupsEntryYearsIds': [], 'classroomsIds': [21], 'classroomsNames': ['Č1/207'], 'classroomsAreasIds': [2]}\n",
      "{'id': '04E49860-F4FF-11EB-9B74-520D00000000', 'typeId': 'EFE6DED0-9768-11EB-87D2-030800000000', 'startTime': {'hours': 14, 'minutes': 30}, 'endTime': {'hours': 16, 'minutes': 0}, 'dateCode': '2021-11-04', 'date': {'day': 4, 'month': 11, 'year': 2021}, 'categoryId': 1, 'timeslotsId': 1, 'timeslotsName': 'BR', 'lessonUnit': 45, 'groupsIds': ['A8CFD4D0-8CA4-11EB-BA48-520D00000000'], 'groupsNames': ['23-3LT-AV-C'], 'groupsEntryYearsIds': [], 'classroomsIds': [332], 'classroomsNames': ['Č1/121'], 'classroomsAreasIds': [2]}\n",
      "{'id': '9A434300-1B6C-11EC-916D-030800000000', 'typeId': '97C15310-1B6C-11EC-916D-030800000000', 'startTime': {'hours': 14, 'minutes': 30}, 'endTime': {'hours': 16, 'minutes': 0}, 'dateCode': '2022-01-03', 'date': {'day': 3, 'month': 1, 'year': 2022}, 'categoryId': 4, 'timeslotsId': 1, 'timeslotsName': 'BR', 'lessonUnit': 45, 'groupsIds': [], 'groupsNames': [], 'groupsEntryYearsIds': [], 'classroomsIds': [], 'classroomsNames': [], 'classroomsAreasIds': []}\n",
      "{'id': '9A3BF000-1B6C-11EC-916D-030800000000', 'typeId': '97C15310-1B6C-11EC-916D-030800000000', 'startTime': {'hours': 14, 'minutes': 30}, 'endTime': {'hours': 16, 'minutes': 0}, 'dateCode': '2021-11-22', 'date': {'day': 22, 'month': 11, 'year': 2021}, 'categoryId': 4, 'timeslotsId': 1, 'timeslotsName': 'BR', 'lessonUnit': 45, 'groupsIds': [], 'groupsNames': [], 'groupsEntryYearsIds': [], 'classroomsIds': [], 'classroomsNames': [], 'classroomsAreasIds': []}\n"
     ]
    }
   ],
   "source": [
    "def createDictLimiter(keys):\n",
    "    def limiter(item):\n",
    "        result = {}\n",
    "        for key in keys:\n",
    "            result[key] = item[key]\n",
    "        return result\n",
    "    return limiter\n",
    "\n",
    "\n",
    "keyLimits = [\n",
    "    'id', 'typeId', 'startTime', 'endTime', 'dateCode', 'date', 'categoryId', \n",
    "    'timeslotsId', 'timeslotsName', 'lessonUnit', 'groupsIds', 'groupsNames', \n",
    "    'groupsEntryYearsIds', 'classroomsIds', 'classroomsNames', 'classroomsAreasIds',\n",
    "#    'teachersIds', 'teachersNames', 'teachersDepartmentsIds'\n",
    "]\n",
    "\n",
    "limiterFunc = createDictLimiter(keyLimits) \n",
    "for index, item in enumerate(map(limiterFunc, events)):\n",
    "    print(item)\n",
    "    if index > 5:\n",
    "        break"
   ]
  },
  {
   "cell_type": "markdown",
   "metadata": {
    "id": "-Kg8SGX0EAqj"
   },
   "source": [
    "## Heterogenní datové struktury"
   ]
  },
  {
   "cell_type": "markdown",
   "metadata": {},
   "source": [
    "Heterogenní = různorodé, tzn. data mají různou strukturu. Blíže realitě. \n",
    "\n",
    "> **Otázka**\n",
    ">\n",
    "> Který typ dat (homogenní vs. heterogenní) byl v historii prvotní. Obhajujte svůj názor!"
   ]
  },
  {
   "cell_type": "markdown",
   "metadata": {},
   "source": [
    "Data analyzována výše byla identifikována jako heterogenní. Pokud je budeme chtít uložit (persistence), máme různé možnosti, jedna z nich je homogenizace."
   ]
  },
  {
   "cell_type": "markdown",
   "metadata": {},
   "source": [
    "### Relace"
   ]
  },
  {
   "cell_type": "markdown",
   "metadata": {},
   "source": [
    "Relace vyjadřují vztah mezi dvěma strukturami. Může se stát (a stává se), že datová struktura má vnořenou datovou strukturu (viz data výše).\n",
    "\n",
    "V případě, kdy heterogenní data ukládáme v homogenních strukturách, je nutné provést homogenizaci / rozklad do relací:\n",
    "- 1:1 (to ani není problém)\n",
    "- 1:N (vnořená struktura je list)\n",
    "- N:M (prvek vnořené struktury / listu / se vyskutuje i jinde)"
   ]
  },
  {
   "cell_type": "markdown",
   "metadata": {
    "id": "zMMSonodEDwG"
   },
   "source": [
    "## Operace nad datovými strukturami"
   ]
  },
  {
   "cell_type": "markdown",
   "metadata": {},
   "source": [
    "### Filter"
   ]
  },
  {
   "cell_type": "markdown",
   "metadata": {},
   "source": [
    "`filter` ([doc](https://docs.python.org/3/library/functions.html#filter)) je funkce která testuje, zda prvek splňuje kritérium specifikované pomocí funkce "
   ]
  },
  {
   "cell_type": "code",
   "execution_count": 29,
   "metadata": {},
   "outputs": [
    {
     "name": "stdout",
     "output_type": "stream",
     "text": [
      "<filter object at 0x7fd26ee57a60>\n"
     ]
    }
   ],
   "source": [
    "filterFunc = lambda item: '23-5KB' in item['groupsNames']\n",
    "filteredEvents = filter(filterFunc, events)\n",
    "print(filteredEvents)"
   ]
  },
  {
   "cell_type": "markdown",
   "metadata": {},
   "source": [
    "> **Pozor**\n",
    ">\n",
    "> Výstup z funkce `filter` je generátor, takže iterace jej vyprázdní"
   ]
  },
  {
   "cell_type": "code",
   "execution_count": 28,
   "metadata": {},
   "outputs": [
    {
     "name": "stdout",
     "output_type": "stream",
     "text": [
      "{'id': '9FC2B630-070D-11EC-9D49-520D00000000', 'typeId': '56B77100-C398-11EB-9FF4-292400000000', 'startTime': {'hours': 18, 'minutes': 30}, 'endTime': {'hours': 20, 'minutes': 0}, 'dateCode': '2022-02-15', 'date': {'day': 15, 'month': 2, 'year': 2022}, 'categoryId': 1, 'subjectId': 625, 'subjectName': 'Aplikované vojenské technologie', 'departmentId': 380, 'departmentName': 'FVT-K201', 'topic': '6. Digitální geografická data', 'masterId': '3824/1', 'timeslotsId': 1, 'timeslotsName': 'BR', 'lessonOrder': 6, 'lessonFormId': 1, 'lessonFormName': 'P', 'lessonUnit': 45, 'lessonsCount': 2, 'groupsIds': ['67F34C60-7810-11EB-9A9C-520D00000000'], 'groupsNames': ['23-5KB'], 'groupsEntryYearsIds': [2019], 'classroomsIds': [193, 205], 'classroomsNames': ['Š5A/posl.', 'Š5B/posl.'], 'classroomsAreasIds': [5], 'teachersIds': [4340], 'teachersNames': ['Čapek, Jaromír'], 'teachersDepartmentsIds': [412], 'isLocked': True}\n",
      "------------------------------\n",
      "{'id': '31923F00-070D-11EC-9D49-520D00000000', 'typeId': '53D89400-C398-11EB-9FF4-292400000000', 'startTime': {'hours': 9, 'minutes': 50}, 'endTime': {'hours': 11, 'minutes': 20}, 'dateCode': '2022-02-21', 'date': {'day': 21, 'month': 2, 'year': 2022}, 'categoryId': 1, 'subjectId': 625, 'subjectName': 'Aplikované vojenské technologie', 'departmentId': 380, 'departmentName': 'FVT-K201', 'topic': '1. Nácvik střeleb ze zavedených ručních zbraní', 'topicId': 3818, 'masterId': '3818/5', 'timeslotsId': 1, 'timeslotsName': 'BR', 'lessonOrder': 1, 'lessonFormId': 5, 'lessonFormName': 'PV', 'lessonUnit': 45, 'lessonsCount': 6, 'groupsIds': ['67F34C60-7810-11EB-9A9C-520D00000000'], 'groupsNames': ['23-5KB'], 'groupsEntryYearsIds': [2019], 'classroomsIds': [459], 'classroomsNames': ['SBV B'], 'classroomsAreasIds': [27], 'teachersIds': [9257], 'teachersNames': ['Krejčí, Jaroslav'], 'teachersDepartmentsIds': [380], 'isLocked': True}\n",
      "------------------------------\n",
      "{'id': '31C90670-070D-11EC-9D49-520D00000000', 'typeId': '53D89400-C398-11EB-9FF4-292400000000', 'startTime': {'hours': 11, 'minutes': 40}, 'endTime': {'hours': 13, 'minutes': 10}, 'dateCode': '2022-02-21', 'date': {'day': 21, 'month': 2, 'year': 2022}, 'categoryId': 1, 'subjectId': 625, 'subjectName': 'Aplikované vojenské technologie', 'departmentId': 380, 'departmentName': 'FVT-K201', 'topic': '1. Nácvik střeleb ze zavedených ručních zbraní', 'topicId': 3818, 'masterId': '3818/5', 'timeslotsId': 1, 'timeslotsName': 'BR', 'lessonOrder': 1, 'lessonFormId': 5, 'lessonFormName': 'PV', 'lessonUnit': 45, 'lessonsCount': 6, 'groupsIds': ['67F34C60-7810-11EB-9A9C-520D00000000'], 'groupsNames': ['23-5KB'], 'groupsEntryYearsIds': [2019], 'classroomsIds': [459], 'classroomsNames': ['SBV B'], 'classroomsAreasIds': [27], 'teachersIds': [9257], 'teachersNames': ['Krejčí, Jaroslav'], 'teachersDepartmentsIds': [380], 'isLocked': True}\n",
      "------------------------------\n",
      "{'id': '31502CF0-070D-11EC-9D49-520D00000000', 'typeId': '53D89400-C398-11EB-9FF4-292400000000', 'startTime': {'hours': 8, 'minutes': 0}, 'endTime': {'hours': 9, 'minutes': 30}, 'dateCode': '2022-02-21', 'date': {'day': 21, 'month': 2, 'year': 2022}, 'categoryId': 1, 'subjectId': 625, 'subjectName': 'Aplikované vojenské technologie', 'departmentId': 380, 'departmentName': 'FVT-K201', 'topic': '1. Nácvik střeleb ze zavedených ručních zbraní', 'topicId': 3818, 'masterId': '3818/5', 'timeslotsId': 1, 'timeslotsName': 'BR', 'lessonOrder': 1, 'lessonFormId': 5, 'lessonFormName': 'PV', 'lessonUnit': 45, 'lessonsCount': 6, 'groupsIds': ['67F34C60-7810-11EB-9A9C-520D00000000'], 'groupsNames': ['23-5KB'], 'groupsEntryYearsIds': [2019], 'classroomsIds': [459], 'classroomsNames': ['SBV B'], 'classroomsAreasIds': [27], 'teachersIds': [9257], 'teachersNames': ['Krejčí, Jaroslav'], 'teachersDepartmentsIds': [380], 'isLocked': True}\n",
      "------------------------------\n",
      "{'id': '3443CA70-070D-11EC-9D49-520D00000000', 'typeId': '546E4450-C398-11EB-9FF4-292400000000', 'startTime': {'hours': 9, 'minutes': 50}, 'endTime': {'hours': 11, 'minutes': 20}, 'dateCode': '2022-02-22', 'date': {'day': 22, 'month': 2, 'year': 2022}, 'categoryId': 1, 'subjectId': 625, 'subjectName': 'Aplikované vojenské technologie', 'departmentId': 380, 'departmentName': 'FVT-K201', 'topic': '2. Střelby z ručních zbraní', 'topicId': 3819, 'masterId': '3819/5', 'timeslotsId': 1, 'timeslotsName': 'BR', 'lessonOrder': 2, 'lessonFormId': 5, 'lessonFormName': 'PV', 'lessonUnit': 45, 'lessonsCount': 6, 'groupsIds': ['67F34C60-7810-11EB-9A9C-520D00000000'], 'groupsNames': ['23-5KB'], 'groupsEntryYearsIds': [2019], 'classroomsIds': [459], 'classroomsNames': ['SBV B'], 'classroomsAreasIds': [27], 'teachersIds': [9257, 40125], 'teachersNames': ['Krejčí, Jaroslav', 'Skalický, Pavel'], 'teachersDepartmentsIds': [380], 'isLocked': True}\n",
      "------------------------------\n",
      "{'id': '347AE000-070D-11EC-9D49-520D00000000', 'typeId': '546E4450-C398-11EB-9FF4-292400000000', 'startTime': {'hours': 11, 'minutes': 40}, 'endTime': {'hours': 13, 'minutes': 10}, 'dateCode': '2022-02-22', 'date': {'day': 22, 'month': 2, 'year': 2022}, 'categoryId': 1, 'subjectId': 625, 'subjectName': 'Aplikované vojenské technologie', 'departmentId': 380, 'departmentName': 'FVT-K201', 'topic': '2. Střelby z ručních zbraní', 'topicId': 3819, 'masterId': '3819/5', 'timeslotsId': 1, 'timeslotsName': 'BR', 'lessonOrder': 2, 'lessonFormId': 5, 'lessonFormName': 'PV', 'lessonUnit': 45, 'lessonsCount': 6, 'groupsIds': ['67F34C60-7810-11EB-9A9C-520D00000000'], 'groupsNames': ['23-5KB'], 'groupsEntryYearsIds': [2019], 'classroomsIds': [459], 'classroomsNames': ['SBV B'], 'classroomsAreasIds': [27], 'teachersIds': [9257, 40125], 'teachersNames': ['Krejčí, Jaroslav', 'Skalický, Pavel'], 'teachersDepartmentsIds': [380], 'isLocked': True}\n",
      "------------------------------\n",
      "{'id': '34082100-070D-11EC-9D49-520D00000000', 'typeId': '546E4450-C398-11EB-9FF4-292400000000', 'startTime': {'hours': 8, 'minutes': 0}, 'endTime': {'hours': 9, 'minutes': 30}, 'dateCode': '2022-02-22', 'date': {'day': 22, 'month': 2, 'year': 2022}, 'categoryId': 1, 'subjectId': 625, 'subjectName': 'Aplikované vojenské technologie', 'departmentId': 380, 'departmentName': 'FVT-K201', 'topic': '2. Střelby z ručních zbraní', 'topicId': 3819, 'masterId': '3819/5', 'timeslotsId': 1, 'timeslotsName': 'BR', 'lessonOrder': 2, 'lessonFormId': 5, 'lessonFormName': 'PV', 'lessonUnit': 45, 'lessonsCount': 6, 'groupsIds': ['67F34C60-7810-11EB-9A9C-520D00000000'], 'groupsNames': ['23-5KB'], 'groupsEntryYearsIds': [2019], 'classroomsIds': [459], 'classroomsNames': ['SBV B'], 'classroomsAreasIds': [27], 'teachersIds': [9257, 40125], 'teachersNames': ['Krejčí, Jaroslav', 'Skalický, Pavel'], 'teachersDepartmentsIds': [380], 'isLocked': True}\n",
      "------------------------------\n"
     ]
    }
   ],
   "source": [
    "for index, item in enumerate(filteredEvents):\n",
    "    print(item)\n",
    "    print('-'*30)\n",
    "    if index > 5:\n",
    "        break"
   ]
  },
  {
   "cell_type": "markdown",
   "metadata": {},
   "source": [
    "### Map"
   ]
  },
  {
   "cell_type": "code",
   "execution_count": 31,
   "metadata": {},
   "outputs": [
    {
     "data": {
      "text/plain": [
       "{'id': 33750, 'name': 'Aerobic', 'departmentId': 661}"
      ]
     },
     "execution_count": 31,
     "metadata": {},
     "output_type": "execute_result"
    }
   ],
   "source": [
    "subjData = data['subjects']\n",
    "subjData[0]"
   ]
  },
  {
   "cell_type": "code",
   "execution_count": 34,
   "metadata": {},
   "outputs": [
    {
     "ename": "KeyError",
     "evalue": "'subjectId'",
     "output_type": "error",
     "traceback": [
      "\u001b[0;31m---------------------------------------------------------------------------\u001b[0m",
      "\u001b[0;31mKeyError\u001b[0m                                  Traceback (most recent call last)",
      "\u001b[0;32m<ipython-input-34-9335951e3c87>\u001b[0m in \u001b[0;36m<module>\u001b[0;34m\u001b[0m\n\u001b[1;32m     13\u001b[0m \u001b[0mchecker\u001b[0m \u001b[0;34m=\u001b[0m \u001b[0mcreateSubjChecker\u001b[0m\u001b[0;34m(\u001b[0m\u001b[0msubjData\u001b[0m\u001b[0;34m)\u001b[0m\u001b[0;34m\u001b[0m\u001b[0;34m\u001b[0m\u001b[0m\n\u001b[1;32m     14\u001b[0m \u001b[0;34m\u001b[0m\u001b[0m\n\u001b[0;32m---> 15\u001b[0;31m \u001b[0mcheckedEvents\u001b[0m \u001b[0;34m=\u001b[0m \u001b[0mlist\u001b[0m\u001b[0;34m(\u001b[0m\u001b[0mmap\u001b[0m\u001b[0;34m(\u001b[0m\u001b[0mchecker\u001b[0m\u001b[0;34m,\u001b[0m \u001b[0mevents\u001b[0m\u001b[0;34m)\u001b[0m\u001b[0;34m)\u001b[0m\u001b[0;34m\u001b[0m\u001b[0;34m\u001b[0m\u001b[0m\n\u001b[0m\u001b[1;32m     16\u001b[0m \u001b[0;32mfor\u001b[0m \u001b[0mitem\u001b[0m \u001b[0;32min\u001b[0m \u001b[0mcheckedEvents\u001b[0m\u001b[0;34m:\u001b[0m\u001b[0;34m\u001b[0m\u001b[0;34m\u001b[0m\u001b[0m\n\u001b[1;32m     17\u001b[0m     \u001b[0;32mif\u001b[0m \u001b[0;32mnot\u001b[0m \u001b[0mitem\u001b[0m\u001b[0;34m[\u001b[0m\u001b[0;34m'subjNameOk'\u001b[0m\u001b[0;34m]\u001b[0m\u001b[0;34m:\u001b[0m\u001b[0;34m\u001b[0m\u001b[0;34m\u001b[0m\u001b[0m\n",
      "\u001b[0;32m<ipython-input-34-9335951e3c87>\u001b[0m in \u001b[0;36mchecker\u001b[0;34m(item)\u001b[0m\n\u001b[1;32m      5\u001b[0m     \u001b[0mnames\u001b[0m \u001b[0;34m=\u001b[0m \u001b[0;34m[\u001b[0m\u001b[0mitem\u001b[0m\u001b[0;34m[\u001b[0m\u001b[0;34m'name'\u001b[0m\u001b[0;34m]\u001b[0m \u001b[0;32mfor\u001b[0m \u001b[0mitem\u001b[0m \u001b[0;32min\u001b[0m \u001b[0mdataCopy\u001b[0m\u001b[0;34m]\u001b[0m\u001b[0;34m\u001b[0m\u001b[0;34m\u001b[0m\u001b[0m\n\u001b[1;32m      6\u001b[0m     \u001b[0;32mdef\u001b[0m \u001b[0mchecker\u001b[0m\u001b[0;34m(\u001b[0m\u001b[0mitem\u001b[0m\u001b[0;34m)\u001b[0m\u001b[0;34m:\u001b[0m\u001b[0;34m\u001b[0m\u001b[0;34m\u001b[0m\u001b[0m\n\u001b[0;32m----> 7\u001b[0;31m         \u001b[0mid\u001b[0m \u001b[0;34m=\u001b[0m \u001b[0mitem\u001b[0m\u001b[0;34m[\u001b[0m\u001b[0;34m'subjectId'\u001b[0m\u001b[0;34m]\u001b[0m\u001b[0;34m\u001b[0m\u001b[0;34m\u001b[0m\u001b[0m\n\u001b[0m\u001b[1;32m      8\u001b[0m         \u001b[0mindex\u001b[0m \u001b[0;34m=\u001b[0m \u001b[0mids\u001b[0m\u001b[0;34m.\u001b[0m\u001b[0mindex\u001b[0m\u001b[0;34m(\u001b[0m\u001b[0mid\u001b[0m\u001b[0;34m)\u001b[0m\u001b[0;34m\u001b[0m\u001b[0;34m\u001b[0m\u001b[0m\n\u001b[1;32m      9\u001b[0m         \u001b[0mname\u001b[0m \u001b[0;34m=\u001b[0m \u001b[0mnames\u001b[0m\u001b[0;34m[\u001b[0m\u001b[0mindex\u001b[0m\u001b[0;34m]\u001b[0m\u001b[0;34m\u001b[0m\u001b[0;34m\u001b[0m\u001b[0m\n",
      "\u001b[0;31mKeyError\u001b[0m: 'subjectId'"
     ]
    }
   ],
   "source": [
    "def createSubjChecker(subjData):\n",
    "    dataCopy = [*subjData]\n",
    "    dataCopy.sort(key=lambda item: item['id'])\n",
    "    ids = [item['id'] for item in dataCopy]\n",
    "    names = [item['name'] for item in dataCopy]\n",
    "    def checker(item):\n",
    "        id = item['subjectId']\n",
    "        index = ids.index(id)\n",
    "        name = names[index]\n",
    "        return {**item, 'subjNameOk': item['subjectName'] == name}\n",
    "    return checker\n",
    "\n",
    "checker = createSubjChecker(subjData)\n",
    "\n",
    "checkedEvents = list(map(checker, events))\n",
    "for item in checkedEvents:\n",
    "    if not item['subjNameOk']:\n",
    "        print(item)\n",
    "        print('-'*30)"
   ]
  },
  {
   "cell_type": "code",
   "execution_count": 35,
   "metadata": {},
   "outputs": [],
   "source": [
    "filterFunc = lambda item: 'subjectId' in item\n",
    "checkedEvents = list(map(checker, filter(filterFunc, events)))\n",
    "for item in checkedEvents:\n",
    "    if not item['subjNameOk']:\n",
    "        print(item)\n",
    "        print('-'*30)"
   ]
  },
  {
   "cell_type": "markdown",
   "metadata": {},
   "source": [
    "### Reduce"
   ]
  },
  {
   "cell_type": "markdown",
   "metadata": {},
   "source": [
    "`reduce` je funkce pracující nad listem (vektorem) dat a vytvářející skalární proměnnou."
   ]
  },
  {
   "cell_type": "code",
   "execution_count": 36,
   "metadata": {},
   "outputs": [
    {
     "name": "stdout",
     "output_type": "stream",
     "text": [
      "6\n"
     ]
    }
   ],
   "source": [
    "from functools import reduce\n",
    "\n",
    "arr = [0, 1, 2, 3]\n",
    "reduceFunc = lambda acc, value: acc + value\n",
    "result = reduce(reduceFunc, arr)\n",
    "print(result)"
   ]
  },
  {
   "cell_type": "markdown",
   "metadata": {},
   "source": [
    "Lze použít i na pole funkcí."
   ]
  },
  {
   "cell_type": "code",
   "execution_count": 38,
   "metadata": {},
   "outputs": [
    {
     "name": "stdout",
     "output_type": "stream",
     "text": [
      "11\n"
     ]
    }
   ],
   "source": [
    "littlePartial = lambda func, firstParam: lambda secondParam: func(firstParam, secondParam)\n",
    "def add(a, b):\n",
    "    return a + b\n",
    "\n",
    "add1 = littlePartial(add, 1)\n",
    "result = add1(10)\n",
    "print(result)"
   ]
  },
  {
   "cell_type": "code",
   "execution_count": 39,
   "metadata": {},
   "outputs": [
    {
     "name": "stdout",
     "output_type": "stream",
     "text": [
      "[{'id': '2D2B1C90-F4FF-11EB-9B74-520D00000000', 'typeId': 'F00CB650-9768-11EB-87D2-030800000000', 'startTime': {'hours': 14, 'minutes': 30}, 'endTime': {'hours': 16, 'minutes': 0}, 'dateCode': '2021-11-15', 'date': {'day': 15, 'month': 11, 'year': 2021}, 'categoryId': 1, 'subjectId': 32269, 'subjectName': 'Letecké elektronické systémy II', 'departmentId': 441, 'departmentName': 'FVT-K206', 'topic': '3. Syntéza kmitočtu ', 'topicId': 62645, 'masterId': '62645/2', 'timeslotsId': 1, 'timeslotsName': 'BR', 'lessonOrder': 8, 'lessonFormId': 2, 'lessonFormName': 'CV', 'lessonUnit': 45, 'lessonsCount': 2, 'groupsIds': ['A8CFD4D0-8CA4-11EB-BA48-520D00000000'], 'groupsNames': ['23-3LT-AV-C'], 'groupsEntryYearsIds': [], 'classroomsIds': [331], 'classroomsNames': ['Č1/120'], 'classroomsAreasIds': [2], 'teachersIds': [540], 'teachersNames': ['Němeček, Jiří'], 'teachersDepartmentsIds': [441], 'isLocked': True, 'subjNameOk': True}]\n"
     ]
    }
   ],
   "source": [
    "def funcArrayReductor(acc, func):\n",
    "    return lambda param: func(acc(param))\n",
    "\n",
    "funcArray = [\n",
    "    littlePartial(filter, lambda item: 'subjectId' in item),\n",
    "    littlePartial(map, checker),\n",
    "    list\n",
    "]\n",
    "    \n",
    "mainFunc = reduce(funcArrayReductor, funcArray)\n",
    "checkedEvents = mainFunc(events)\n",
    "print(checkedEvents[:1])"
   ]
  },
  {
   "cell_type": "code",
   "execution_count": 40,
   "metadata": {},
   "outputs": [
    {
     "name": "stdout",
     "output_type": "stream",
     "text": [
      "[{'id': '2D2B1C90-F4FF-11EB-9B74-520D00000000', 'typeId': 'F00CB650-9768-11EB-87D2-030800000000', 'startTime': {'hours': 14, 'minutes': 30}, 'endTime': {'hours': 16, 'minutes': 0}, 'dateCode': '2021-11-15', 'date': {'day': 15, 'month': 11, 'year': 2021}, 'categoryId': 1, 'subjectId': 32269, 'subjectName': 'Letecké elektronické systémy II', 'departmentId': 441, 'departmentName': 'FVT-K206', 'topic': '3. Syntéza kmitočtu ', 'topicId': 62645, 'masterId': '62645/2', 'timeslotsId': 1, 'timeslotsName': 'BR', 'lessonOrder': 8, 'lessonFormId': 2, 'lessonFormName': 'CV', 'lessonUnit': 45, 'lessonsCount': 2, 'groupsIds': ['A8CFD4D0-8CA4-11EB-BA48-520D00000000'], 'groupsNames': ['23-3LT-AV-C'], 'groupsEntryYearsIds': [], 'classroomsIds': [331], 'classroomsNames': ['Č1/120'], 'classroomsAreasIds': [2], 'teachersIds': [540], 'teachersNames': ['Němeček, Jiří'], 'teachersDepartmentsIds': [441], 'isLocked': True, 'subjNameOk': True}]\n"
     ]
    }
   ],
   "source": [
    "def funcArrayReduce(funcArray):\n",
    "    def resultFunc(param):\n",
    "        result = param\n",
    "        for func in funcArray:\n",
    "            result = func(result)\n",
    "        return result\n",
    "    return resultFunc\n",
    "\n",
    "funcArray = [\n",
    "    littlePartial(filter, lambda item: 'subjectId' in item),\n",
    "    littlePartial(map, checker),\n",
    "    list\n",
    "]\n",
    "    \n",
    "mainFunc = funcArrayReduce(funcArray)\n",
    "checkedEvents = mainFunc(events)\n",
    "print(checkedEvents[:1])"
   ]
  },
  {
   "cell_type": "markdown",
   "metadata": {
    "id": "TqvjKJEPEMeH"
   },
   "source": [
    "## SQL / SQLAlchemy"
   ]
  },
  {
   "cell_type": "code",
   "execution_count": null,
   "metadata": {},
   "outputs": [],
   "source": [
    "!pip install sqlalchemy"
   ]
  },
  {
   "cell_type": "code",
   "execution_count": null,
   "metadata": {},
   "outputs": [],
   "source": [
    "from sqlalchemy import Column, String, Integer, ForeignKey\n",
    "from sqlalchemy.orm import relationship, backref\n",
    "from sqlalchemy.ext.declarative import declarative_base\n",
    "\n",
    "Base = declarative_base()\n",
    "\n",
    "class User(Base):\n",
    "    __tablename__ = 'users'\n",
    "\n",
    "    id = Column(Integer, primary_key=True)\n",
    "    name = Column(String(200), nullable=False)\n",
    "    surname = Column(String(200), nullable=False)"
   ]
  },
  {
   "cell_type": "markdown",
   "metadata": {
    "id": "BHG-EYFAENza"
   },
   "source": [
    "## GraphQL (Graphene)"
   ]
  },
  {
   "cell_type": "code",
   "execution_count": null,
   "metadata": {
    "id": "9MBOCjaeEG3F"
   },
   "outputs": [],
   "source": []
  },
  {
   "cell_type": "code",
   "execution_count": null,
   "metadata": {
    "id": "Py102TsCl55y"
   },
   "outputs": [],
   "source": []
  }
 ],
 "metadata": {
  "colab": {
   "name": "03_storage.ipynb",
   "provenance": [],
   "toc_visible": true
  },
  "kernelspec": {
   "display_name": "Python 3",
   "language": "python",
   "name": "python3"
  },
  "language_info": {
   "codemirror_mode": {
    "name": "ipython",
    "version": 3
   },
   "file_extension": ".py",
   "mimetype": "text/x-python",
   "name": "python",
   "nbconvert_exporter": "python",
   "pygments_lexer": "ipython3",
   "version": "3.8.6"
  }
 },
 "nbformat": 4,
 "nbformat_minor": 4
}
