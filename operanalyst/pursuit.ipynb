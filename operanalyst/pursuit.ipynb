{
  "nbformat": 4,
  "nbformat_minor": 0,
  "metadata": {
    "colab": {
      "name": "pursuit.ipynb",
      "provenance": [],
      "authorship_tag": "ABX9TyPMOlNQJxWey2j26hP/+xHj",
      "include_colab_link": true
    },
    "kernelspec": {
      "name": "python3",
      "display_name": "Python 3"
    }
  },
  "cells": [
    {
      "cell_type": "markdown",
      "metadata": {
        "id": "view-in-github",
        "colab_type": "text"
      },
      "source": [
        "<a href=\"https://colab.research.google.com/github/hrbolek/learning/blob/master/operanalyst/pursuit.ipynb\" target=\"_parent\"><img src=\"https://colab.research.google.com/assets/colab-badge.svg\" alt=\"Open In Colab\"/></a>"
      ]
    },
    {
      "cell_type": "code",
      "metadata": {
        "id": "CzcvcWu--jwl",
        "colab_type": "code",
        "colab": {}
      },
      "source": [
        "# Teorie pronásledování"
      ],
      "execution_count": 19,
      "outputs": []
    },
    {
      "cell_type": "code",
      "metadata": {
        "id": "x4TCogtp_PVB",
        "colab_type": "code",
        "colab": {}
      },
      "source": [
        "import numpy as np\n",
        "import pandas as pd\n",
        "import matplotlib.pyplot as plt "
      ],
      "execution_count": 20,
      "outputs": []
    },
    {
      "cell_type": "code",
      "metadata": {
        "id": "YMqfvVYsCGCL",
        "colab_type": "code",
        "colab": {
          "base_uri": "https://localhost:8080/",
          "height": 594
        },
        "outputId": "240c9440-f68b-43ef-cab4-005c1426ba4c"
      },
      "source": [
        "def displayData(data):\n",
        "  display(pd.DataFrame(data))\n",
        "\n",
        "def plotData(data, x = 0, y = 1, ax = None):\n",
        "  df = pd.DataFrame(data)\n",
        "  newax = None\n",
        "  if ax is None:\n",
        "    newax = df.plot.line(x = x, y = y)\n",
        "  else:\n",
        "    newax = df.plot.line(x = x, y = y, ax = ax)\n",
        "  return newax\n",
        "\n",
        "#=================#\n",
        "# example of use  #\n",
        "#=================#\n",
        "#data = [(0, 0), (1, 1), (2, 4), (3, 9), (4, 16), (5, 25), (6, 36), (7, 49)]\n",
        "data = [\n",
        "  {'x': 0, 'y': 0}, {'x': 1, 'y': 1}, {'x': 2, 'y': 4},\n",
        "  {'x': 3, 'y': 9}, {'x': 4, 'y': 16}, {'x': 5, 'y': 25},\n",
        "  {'x': 6, 'y': 36}, {'x': 7, 'y': 49}, {'x': 8, 'y': 64},\n",
        "]\n",
        "plotData(data)\n",
        "plt.grid(which='both')\n",
        "displayData(data)"
      ],
      "execution_count": 21,
      "outputs": [
        {
          "output_type": "display_data",
          "data": {
            "text/html": [
              "<div>\n",
              "<style scoped>\n",
              "    .dataframe tbody tr th:only-of-type {\n",
              "        vertical-align: middle;\n",
              "    }\n",
              "\n",
              "    .dataframe tbody tr th {\n",
              "        vertical-align: top;\n",
              "    }\n",
              "\n",
              "    .dataframe thead th {\n",
              "        text-align: right;\n",
              "    }\n",
              "</style>\n",
              "<table border=\"1\" class=\"dataframe\">\n",
              "  <thead>\n",
              "    <tr style=\"text-align: right;\">\n",
              "      <th></th>\n",
              "      <th>x</th>\n",
              "      <th>y</th>\n",
              "    </tr>\n",
              "  </thead>\n",
              "  <tbody>\n",
              "    <tr>\n",
              "      <th>0</th>\n",
              "      <td>0</td>\n",
              "      <td>0</td>\n",
              "    </tr>\n",
              "    <tr>\n",
              "      <th>1</th>\n",
              "      <td>1</td>\n",
              "      <td>1</td>\n",
              "    </tr>\n",
              "    <tr>\n",
              "      <th>2</th>\n",
              "      <td>2</td>\n",
              "      <td>4</td>\n",
              "    </tr>\n",
              "    <tr>\n",
              "      <th>3</th>\n",
              "      <td>3</td>\n",
              "      <td>9</td>\n",
              "    </tr>\n",
              "    <tr>\n",
              "      <th>4</th>\n",
              "      <td>4</td>\n",
              "      <td>16</td>\n",
              "    </tr>\n",
              "    <tr>\n",
              "      <th>5</th>\n",
              "      <td>5</td>\n",
              "      <td>25</td>\n",
              "    </tr>\n",
              "    <tr>\n",
              "      <th>6</th>\n",
              "      <td>6</td>\n",
              "      <td>36</td>\n",
              "    </tr>\n",
              "    <tr>\n",
              "      <th>7</th>\n",
              "      <td>7</td>\n",
              "      <td>49</td>\n",
              "    </tr>\n",
              "    <tr>\n",
              "      <th>8</th>\n",
              "      <td>8</td>\n",
              "      <td>64</td>\n",
              "    </tr>\n",
              "  </tbody>\n",
              "</table>\n",
              "</div>"
            ],
            "text/plain": [
              "   x   y\n",
              "0  0   0\n",
              "1  1   1\n",
              "2  2   4\n",
              "3  3   9\n",
              "4  4  16\n",
              "5  5  25\n",
              "6  6  36\n",
              "7  7  49\n",
              "8  8  64"
            ]
          },
          "metadata": {
            "tags": []
          }
        },
        {
          "output_type": "display_data",
          "data": {
            "image/png": "[encoded data removed]",
            "text/plain": [
              "<Figure size 432x288 with 1 Axes>"
            ]
          },
          "metadata": {
            "tags": [],
            "needs_background": "light"
          }
        }
      ]
    },
    {
      "cell_type": "code",
      "metadata": {
        "id": "9PaWmWMuClQE",
        "colab_type": "code",
        "colab": {}
      },
      "source": [
        "def Vector(*args):\n",
        "  return np.array(args)"
      ],
      "execution_count": 22,
      "outputs": []
    },
    {
      "cell_type": "code",
      "metadata": {
        "id": "tJBeR3_9E4II",
        "colab_type": "code",
        "colab": {}
      },
      "source": [
        "def multimap(generator, **maps):\n",
        "  for item in generator:\n",
        "    result = {}\n",
        "    for key, func in maps.items():\n",
        "      result[key] = func(item)\n",
        "    yield result"
      ],
      "execution_count": 23,
      "outputs": []
    },
    {
      "cell_type": "code",
      "metadata": {
        "id": "53PozLDNBM4h",
        "colab_type": "code",
        "colab": {}
      },
      "source": [
        "def take(generator, count = 100):\n",
        "  for index, item in enumerate(generator):\n",
        "    if index == count: \n",
        "      break\n",
        "    yield item"
      ],
      "execution_count": 24,
      "outputs": []
    },
    {
      "cell_type": "code",
      "metadata": {
        "id": "z-TKMXqnBjOe",
        "colab_type": "code",
        "colab": {}
      },
      "source": [
        "def select(generator, name):\n",
        "  for item in generator:\n",
        "    yield item[name]"
      ],
      "execution_count": 25,
      "outputs": []
    },
    {
      "cell_type": "code",
      "metadata": {
        "id": "fD4ZrfQT_Pc7",
        "colab_type": "code",
        "colab": {}
      },
      "source": [
        "def createRunner(position, velocity, t0 = 0, dt = 1):\n",
        "  def runner():\n",
        "    currentTime = t0\n",
        "    currentPosition = position\n",
        "    while True:\n",
        "      yield {'t': currentTime, 'rpos': currentPosition}\n",
        "      currentPosition = currentPosition + dt * velocity\n",
        "      currentTime = currentTime + dt\n",
        "  return runner"
      ],
      "execution_count": 26,
      "outputs": []
    },
    {
      "cell_type": "code",
      "metadata": {
        "id": "szx6L8eFAnUY",
        "colab_type": "code",
        "colab": {
          "base_uri": "https://localhost:8080/",
          "height": 297
        },
        "outputId": "d524e832-dd15-4611-ce1e-c106be18c0a5"
      },
      "source": [
        "myRunner = createRunner(Vector(100, 0), Vector(10, 10))\n",
        "results = take(select(myRunner(), 'rpos'), 100)\n",
        "plotData(results)"
      ],
      "execution_count": 27,
      "outputs": [
        {
          "output_type": "execute_result",
          "data": {
            "text/plain": [
              "<matplotlib.axes._subplots.AxesSubplot at 0x7f9e5b221b38>"
            ]
          },
          "metadata": {
            "tags": []
          },
          "execution_count": 27
        },
        {
          "output_type": "display_data",
          "data": {
            "image/png": "[encoded data removed]",
            "text/plain": [
              "<Figure size 432x288 with 1 Axes>"
            ]
          },
          "metadata": {
            "tags": [],
            "needs_background": "light"
          }
        }
      ]
    },
    {
      "cell_type": "code",
      "metadata": {
        "id": "w_Zbai8eCci0",
        "colab_type": "code",
        "colab": {}
      },
      "source": [
        "def createFollower(position, v0, t0 = 0):\n",
        "  def follower(runner):\n",
        "    currentPosition = position\n",
        "    currentTime = t0\n",
        "    #currentVelocity = v0\n",
        "    for state in runner:\n",
        "      runnerPosition = state['rpos']\n",
        "      runnerTime = state['t']\n",
        "\n",
        "      deltaTime = runnerTime - currentTime\n",
        "      headToRunner = runnerPosition - currentPosition\n",
        "      headToRunnerAbs = np.linalg.norm(headToRunner)\n",
        "      \n",
        "      velocity = headToRunner / headToRunnerAbs\n",
        "      print(velocity, v0)\n",
        "      velocity = velocity * v0\n",
        "      currentPosition = currentPosition + deltaTime * velocity\n",
        "\n",
        "      yield {**state, 'fpos': currentPosition, 'fv': velocity}\n",
        "\n",
        "      currentTime = runnerTime\n",
        "\n",
        "  return follower"
      ],
      "execution_count": 49,
      "outputs": []
    },
    {
      "cell_type": "code",
      "metadata": {
        "id": "-BEzQsGJFb-c",
        "colab_type": "code",
        "colab": {
          "base_uri": "https://localhost:8080/",
          "height": 1000
        },
        "outputId": "c3bd27e6-63a8-41a6-80a1-c25037c4b115"
      },
      "source": [
        "myRunner = createRunner(Vector(100, 0), Vector(10, 10), dt = 0.1)\n",
        "myFollower = createFollower(Vector(0, 0), 20)\n",
        "result = myFollower(myRunner)\n",
        "\n",
        "maps = {\n",
        "    't': lambda item: item['t'],\n",
        "    'rx': lambda item: item['rpos'][0],\n",
        "    'ry': lambda item: item['rpos'][1],\n",
        "    'fx': lambda item: item['fpos'][0],\n",
        "    'fy': lambda item: item['fpos'][1],\n",
        "    'fvx': lambda item: item['fv'][0],\n",
        "    'fvy': lambda item: item['fv'][1],\n",
        "    }\n",
        "\n",
        "results = list(take(multimap(myFollower(myRunner()), **maps), 150))\n",
        "displayData(results)\n",
        "#ax = plotData(results, 'rx', 'ry')\n",
        "#ax = plotData(results, 1, 2, ax = ax)\n",
        "ax = plotData(results, 'rx', 'ry')\n",
        "ax = plotData(results, 'fx', 'fy', ax = ax)"
      ],
      "execution_count": 52,
      "outputs": [
        {
          "output_type": "stream",
          "text": [
            "[1. 0.] 20\n",
            "[0.99995099 0.0099005 ] 20\n",
            "[0.999804   0.01979809] 20\n",
            "[0.99955916 0.02968982] 20\n",
            "[0.99921669 0.03957274] 20\n",
            "[0.9987769  0.04944391] 20\n",
            "[0.99824019 0.05930035] 20\n",
            "[0.99760703 0.06913912] 20\n",
            "[0.996878   0.07895726] 20\n",
            "[0.99605377 0.08875182] 20\n",
            "[0.99513508 0.09851986] 20\n",
            "[0.99412278 0.10825848] 20\n",
            "[0.99301778 0.11796476] 20\n",
            "[0.9918211  0.12763583] 20\n",
            "[0.99053383 0.13726885] 20\n",
            "[0.98915714 0.14686099] 20\n",
            "[0.9876923  0.15640949] 20\n",
            "[0.98614063 0.16591159] 20\n",
            "[0.98450356 0.1753646 ] 20\n",
            "[0.98278257 0.18476585] 20\n",
            "[0.98097922 0.19411276] 20\n",
            "[0.97909515 0.20340276] 20\n",
            "[0.97713206 0.21263335] 20\n",
            "[0.9750917 0.2218021] 20\n",
            "[0.97297592 0.23090662] 20\n",
            "[0.97078658 0.2399446 ] 20\n",
            "[0.96852564 0.24891379] 20\n",
            "[0.9661951  0.25781201] 20\n",
            "[0.96379699 0.26663714] 20\n",
            "[0.96133341 0.27538714] 20\n",
            "[0.95880649 0.28406004] 20\n",
            "[0.95621842 0.29265396] 20\n",
            "[0.95357139 0.30116706] 20\n",
            "[0.95086766 0.30959763] 20\n",
            "[0.9481095  0.31794398] 20\n",
            "[0.94529921 0.32620456] 20\n",
            "[0.9424391  0.33437784] 20\n",
            "[0.93953153 0.34246241] 20\n",
            "[0.93657885 0.35045692] 20\n",
            "[0.93358343 0.35836012] 20\n",
            "[0.93054765 0.36617083] 20\n",
            "[0.92747389 0.37388794] 20\n",
            "[0.92436454 0.38151042] 20\n",
            "[0.92122198 0.38903735] 20\n",
            "[0.9180486  0.39646786] 20\n",
            "[0.91484678 0.40380115] 20\n",
            "[0.91161888 0.41103651] 20\n",
            "[0.90836726 0.41817332] 20\n",
            "[0.90509425 0.42521101] 20\n",
            "[0.90180217 0.43214909] 20\n",
            "[0.89849334 0.43898715] 20\n",
            "[0.89517002 0.44572483] 20\n",
            "[0.89183448 0.45236187] 20\n",
            "[0.88848894 0.45889804] 20\n",
            "[0.88513559 0.46533319] 20\n",
            "[0.88177662 0.47166725] 20\n",
            "[0.87841414 0.47790019] 20\n",
            "[0.87505027 0.48403204] 20\n",
            "[0.87168707 0.4900629 ] 20\n",
            "[0.86832657 0.49599292] 20\n",
            "[0.86497075 0.50182229] 20\n",
            "[0.86162156 0.50755127] 20\n",
            "[0.85828092 0.51318015] 20\n",
            "[0.85495068 0.51870929] 20\n",
            "[0.85163268 0.52413909] 20\n",
            "[0.84832868 0.52946996] 20\n",
            "[0.84504044 0.5347024 ] 20\n",
            "[0.84176962 0.53983692] 20\n",
            "[0.83851788 0.54487408] 20\n",
            "[0.83528682 0.54981445] 20\n",
            "[0.83207798 0.55465866] 20\n",
            "[0.82889288 0.55940736] 20\n",
            "[0.82573296 0.56406124] 20\n",
            "[0.82259963 0.568621  ] 20\n",
            "[0.81949427 0.57308737] 20\n",
            "[0.81641818 0.57746112] 20\n",
            "[0.81337264 0.58174303] 20\n",
            "[0.81035886 0.58593388] 20\n",
            "[0.80737803 0.59003451] 20\n",
            "[0.80443126 0.59404575] 20\n",
            "[0.80151964 0.59796845] 20\n",
            "[0.79864421 0.60180347] 20\n",
            "[0.79580596 0.60555171] 20\n",
            "[0.79300584 0.60921403] 20\n",
            "[0.79024474 0.61279136] 20\n",
            "[0.78752352 0.61628459] 20\n",
            "[0.784843   0.61969465] 20\n",
            "[0.78220395 0.62302246] 20\n",
            "[0.77960709 0.62626894] 20\n",
            "[0.77705311 0.62943504] 20\n",
            "[0.77454265 0.63252169] 20\n",
            "[0.77207632 0.63552983] 20\n",
            "[0.76965467 0.6384604 ] 20\n",
            "[0.76727824 0.64131435] 20\n",
            "[0.76494751 0.64409263] 20\n",
            "[0.76266292 0.64679616] 20\n",
            "[0.76042487 0.64942591] 20\n",
            "[0.75823375 0.65198281] 20\n",
            "[0.75608988 0.65446779] 20\n",
            "[0.75399357 0.6568818 ] 20\n",
            "[0.75194506 0.65922577] 20\n",
            "[0.74994461 0.66150063] 20\n",
            "[0.74799238 0.66370731] 20\n",
            "[0.74608855 0.66584673] 20\n",
            "[0.74423325 0.66791981] 20\n",
            "[0.74242655 0.66992747] 20\n",
            "[0.74066854 0.67187061] 20\n",
            "[0.73895924 0.67375014] 20\n",
            "[0.73729864 0.67556696] 20\n",
            "[0.73568671 0.67732198] 20\n",
            "[0.7341234  0.67901608] 20\n",
            "[0.73260861 0.68065015] 20\n",
            "[0.73114222 0.68222508] 20\n",
            "[0.72972408 0.68374174] 20\n",
            "[0.72835401 0.68520102] 20\n",
            "[0.7270318  0.68660379] 20\n",
            "[0.72575722 0.68795091] 20\n",
            "[0.72453    0.68924326] 20\n",
            "[0.72334985 0.69048171] 20\n",
            "[0.72221646 0.69166711] 20\n",
            "[0.72112946 0.69280033] 20\n",
            "[0.7200885  0.69388224] 20\n",
            "[0.71909316 0.69491369] 20\n",
            "[0.71814301 0.69589555] 20\n",
            "[0.71723761 0.69682869] 20\n",
            "[0.71637645 0.69771397] 20\n",
            "[0.71555903 0.69855227] 20\n",
            "[0.7147848  0.69934447] 20\n",
            "[0.71405319 0.70009145] 20\n",
            "[0.7133636 0.7007941] 20\n",
            "[0.7127154  0.70145332] 20\n",
            "[0.71210791 0.70207003] 20\n",
            "[0.71154044 0.70264514] 20\n",
            "[0.71101227 0.7031796 ] 20\n",
            "[0.71052262 0.70367436] 20\n",
            "[0.71007069 0.70413039] 20\n",
            "[0.70965564 0.7045487 ] 20\n",
            "[0.70927659 0.70493029] 20\n",
            "[0.70893261 0.70527622] 20\n",
            "[0.70862272 0.70558758] 20\n",
            "[0.7083459  0.70586549] 20\n",
            "[0.70810104 0.70611112] 20\n",
            "[0.70788701 0.70632569] 20\n",
            "[0.70770258 0.70651048] 20\n",
            "[0.70754643 0.70666685] 20\n",
            "[0.70741716 0.70679626] 20\n",
            "[0.70731323 0.70690027] 20\n",
            "[0.70723296 0.70698057] 20\n",
            "[0.70717448 0.70703907] 20\n",
            "[0.70713565 0.70707791] 20\n",
            "[0.70711393 0.70709963] 20\n"
          ],
          "name": "stdout"
        },
        {
          "output_type": "display_data",
          "data": {
            "text/html": [
              "<div>\n",
              "<style scoped>\n",
              "    .dataframe tbody tr th:only-of-type {\n",
              "        vertical-align: middle;\n",
              "    }\n",
              "\n",
              "    .dataframe tbody tr th {\n",
              "        vertical-align: top;\n",
              "    }\n",
              "\n",
              "    .dataframe thead th {\n",
              "        text-align: right;\n",
              "    }\n",
              "</style>\n",
              "<table border=\"1\" class=\"dataframe\">\n",
              "  <thead>\n",
              "    <tr style=\"text-align: right;\">\n",
              "      <th></th>\n",
              "      <th>t</th>\n",
              "      <th>rx</th>\n",
              "      <th>ry</th>\n",
              "      <th>fx</th>\n",
              "      <th>fy</th>\n",
              "      <th>fvx</th>\n",
              "      <th>fvy</th>\n",
              "    </tr>\n",
              "  </thead>\n",
              "  <tbody>\n",
              "    <tr>\n",
              "      <th>0</th>\n",
              "      <td>0.0</td>\n",
              "      <td>100.0</td>\n",
              "      <td>0.0</td>\n",
              "      <td>0.000000</td>\n",
              "      <td>0.000000</td>\n",
              "      <td>20.000000</td>\n",
              "      <td>0.000000</td>\n",
              "    </tr>\n",
              "    <tr>\n",
              "      <th>1</th>\n",
              "      <td>0.1</td>\n",
              "      <td>101.0</td>\n",
              "      <td>1.0</td>\n",
              "      <td>1.999902</td>\n",
              "      <td>0.019801</td>\n",
              "      <td>19.999020</td>\n",
              "      <td>0.198010</td>\n",
              "    </tr>\n",
              "    <tr>\n",
              "      <th>2</th>\n",
              "      <td>0.2</td>\n",
              "      <td>102.0</td>\n",
              "      <td>2.0</td>\n",
              "      <td>3.999510</td>\n",
              "      <td>0.059397</td>\n",
              "      <td>19.996080</td>\n",
              "      <td>0.395962</td>\n",
              "    </tr>\n",
              "    <tr>\n",
              "      <th>3</th>\n",
              "      <td>0.3</td>\n",
              "      <td>103.0</td>\n",
              "      <td>3.0</td>\n",
              "      <td>5.998628</td>\n",
              "      <td>0.118777</td>\n",
              "      <td>19.991183</td>\n",
              "      <td>0.593796</td>\n",
              "    </tr>\n",
              "    <tr>\n",
              "      <th>4</th>\n",
              "      <td>0.4</td>\n",
              "      <td>104.0</td>\n",
              "      <td>4.0</td>\n",
              "      <td>7.997062</td>\n",
              "      <td>0.197922</td>\n",
              "      <td>19.984334</td>\n",
              "      <td>0.791455</td>\n",
              "    </tr>\n",
              "    <tr>\n",
              "      <th>...</th>\n",
              "      <td>...</td>\n",
              "      <td>...</td>\n",
              "      <td>...</td>\n",
              "      <td>...</td>\n",
              "      <td>...</td>\n",
              "      <td>...</td>\n",
              "      <td>...</td>\n",
              "    </tr>\n",
              "    <tr>\n",
              "      <th>145</th>\n",
              "      <td>14.5</td>\n",
              "      <td>245.0</td>\n",
              "      <td>145.0</td>\n",
              "      <td>243.013106</td>\n",
              "      <td>143.014850</td>\n",
              "      <td>14.148343</td>\n",
              "      <td>14.135925</td>\n",
              "    </tr>\n",
              "    <tr>\n",
              "      <th>146</th>\n",
              "      <td>14.6</td>\n",
              "      <td>246.0</td>\n",
              "      <td>146.0</td>\n",
              "      <td>244.427733</td>\n",
              "      <td>144.428651</td>\n",
              "      <td>14.146265</td>\n",
              "      <td>14.138005</td>\n",
              "    </tr>\n",
              "    <tr>\n",
              "      <th>147</th>\n",
              "      <td>14.7</td>\n",
              "      <td>247.0</td>\n",
              "      <td>147.0</td>\n",
              "      <td>245.842199</td>\n",
              "      <td>145.842612</td>\n",
              "      <td>14.144659</td>\n",
              "      <td>14.139611</td>\n",
              "    </tr>\n",
              "    <tr>\n",
              "      <th>148</th>\n",
              "      <td>14.8</td>\n",
              "      <td>248.0</td>\n",
              "      <td>148.0</td>\n",
              "      <td>247.256548</td>\n",
              "      <td>147.256690</td>\n",
              "      <td>14.143490</td>\n",
              "      <td>14.140781</td>\n",
              "    </tr>\n",
              "    <tr>\n",
              "      <th>149</th>\n",
              "      <td>14.9</td>\n",
              "      <td>249.0</td>\n",
              "      <td>149.0</td>\n",
              "      <td>248.670819</td>\n",
              "      <td>148.670846</td>\n",
              "      <td>14.142713</td>\n",
              "      <td>14.141558</td>\n",
              "    </tr>\n",
              "  </tbody>\n",
              "</table>\n",
              "<p>150 rows × 7 columns</p>\n",
              "</div>"
            ],
            "text/plain": [
              "        t     rx     ry          fx          fy        fvx        fvy\n",
              "0     0.0  100.0    0.0    0.000000    0.000000  20.000000   0.000000\n",
              "1     0.1  101.0    1.0    1.999902    0.019801  19.999020   0.198010\n",
              "2     0.2  102.0    2.0    3.999510    0.059397  19.996080   0.395962\n",
              "3     0.3  103.0    3.0    5.998628    0.118777  19.991183   0.593796\n",
              "4     0.4  104.0    4.0    7.997062    0.197922  19.984334   0.791455\n",
              "..    ...    ...    ...         ...         ...        ...        ...\n",
              "145  14.5  245.0  145.0  243.013106  143.014850  14.148343  14.135925\n",
              "146  14.6  246.0  146.0  244.427733  144.428651  14.146265  14.138005\n",
              "147  14.7  247.0  147.0  245.842199  145.842612  14.144659  14.139611\n",
              "148  14.8  248.0  148.0  247.256548  147.256690  14.143490  14.140781\n",
              "149  14.9  249.0  149.0  248.670819  148.670846  14.142713  14.141558\n",
              "\n",
              "[150 rows x 7 columns]"
            ]
          },
          "metadata": {
            "tags": []
          }
        },
        {
          "output_type": "display_data",
          "data": {
            "image/png": "[encoded data removed]",
            "text/plain": [
              "<Figure size 432x288 with 1 Axes>"
            ]
          },
          "metadata": {
            "tags": [],
            "needs_background": "light"
          }
        }
      ]
    }
  ]
}