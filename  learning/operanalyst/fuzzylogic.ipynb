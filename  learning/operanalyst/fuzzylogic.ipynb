{
  "nbformat": 4,
  "nbformat_minor": 0,
  "metadata": {
    "colab": {
      "name": "FuzzyLogic.ipynb",
      "provenance": [],
      "authorship_tag": "ABX9TyOgi1oy2WL3HMsejpzeeiSF",
      "include_colab_link": true
    },
    "kernelspec": {
      "name": "python3",
      "display_name": "Python 3"
    },
    "language_info": {
      "name": "python"
    }
  },
  "cells": [
    {
      "cell_type": "markdown",
      "metadata": {
        "id": "view-in-github",
        "colab_type": "text"
      },
      "source": [
        "<a href=\"https://colab.research.google.com/github/hrbolek/learning/blob/master/%20learning/operanalyst/fuzzylogic.ipynb\" target=\"_parent\"><img src=\"https://colab.research.google.com/assets/colab-badge.svg\" alt=\"Open In Colab\"/></a>"
      ]
    },
    {
      "cell_type": "markdown",
      "metadata": {
        "id": "u94MT4BsoDrs"
      },
      "source": [
        "# Fuzzy logické systémy"
      ]
    },
    {
      "cell_type": "markdown",
      "metadata": {
        "id": "iSV4v3-GoIMV"
      },
      "source": [
        "## Booleova algebra"
      ]
    },
    {
      "cell_type": "markdown",
      "metadata": {
        "id": "u0zo4esKpFA4"
      },
      "source": [
        "Booleova algebra předpokládá, že každý výrok je buď pravdivý nebo nepravdivý.\n",
        "Číslo X je buď rovno 0 nebo není. Žádné \"mezihodnoty\" neexistují.\n",
        "\n",
        "Možné logické proměnné jsou tedy `True` a `False`"
      ]
    },
    {
      "cell_type": "markdown",
      "metadata": {
        "id": "X9FbRYBzoMik"
      },
      "source": [
        "Pravdivostní tabulka pro operátor AND\n",
        "\n",
        "| X | Y | (X and Y)|\n",
        "|:-:|:-:|:----:|\n",
        "| 0 | 0 |   0  |\n",
        "| 0 | 1 |   0  |\n",
        "| 1 | 0 |   0  |\n",
        "| 1 | 1 |   1  |\n",
        "\n",
        "Pravdivostní tabulka pro operátor OR\n",
        "\n",
        "| X | Y | (X or Y)|\n",
        "|:-:|:-:|:----:|\n",
        "| 0 | 0 |   0  |\n",
        "| 0 | 1 |   1  |\n",
        "| 1 | 0 |   1  |\n",
        "| 1 | 1 |   1  |\n"
      ]
    },
    {
      "cell_type": "code",
      "metadata": {
        "id": "5Yt80g5cqbpL"
      },
      "source": [
        "def createBoolTest(trueValue, falseValue):\n",
        "    def test(func):\n",
        "        print(func)\n",
        "        print('True\\tTrue\\t', func(trueValue)(trueValue) == trueValue)\n",
        "        print('False\\tTrue\\t', func(falseValue)(trueValue) == trueValue)\n",
        "        print('True\\tFalse\\t', func(trueValue)(falseValue) == trueValue)\n",
        "        print('False\\tFalse\\t', func(falseValue)(falseValue) == trueValue)\n",
        "    return test"
      ],
      "execution_count": 1,
      "outputs": []
    },
    {
      "cell_type": "code",
      "metadata": {
        "colab": {
          "base_uri": "https://localhost:8080/"
        },
        "id": "YmzPJILDqrTm",
        "outputId": "0b23d567-d08a-4bed-8be2-1c1e0d7d3df5"
      },
      "source": [
        "boolTest = createBoolTest(True, False)\n",
        "def And(a):\n",
        "    def AndAnd(b):\n",
        "        return a & b\n",
        "    return AndAnd\n",
        "\n",
        "def Or(a):\n",
        "    def OrOr(b):\n",
        "        return a | b\n",
        "    return OrOr\n",
        "\n",
        "boolTest(Or)\n",
        "print('-'*10)\n",
        "boolTest(And)"
      ],
      "execution_count": 2,
      "outputs": [
        {
          "output_type": "stream",
          "text": [
            "<function Or at 0x7f7609ce5050>\n",
            "True\tTrue\t True\n",
            "False\tTrue\t True\n",
            "True\tFalse\t True\n",
            "False\tFalse\t False\n",
            "----------\n",
            "<function And at 0x7f760e72bcb0>\n",
            "True\tTrue\t True\n",
            "False\tTrue\t False\n",
            "True\tFalse\t False\n",
            "False\tFalse\t False\n"
          ],
          "name": "stdout"
        }
      ]
    },
    {
      "cell_type": "markdown",
      "metadata": {
        "id": "eQJhK1__qQTN"
      },
      "source": [
        "## Fuzzy algebra"
      ]
    },
    {
      "cell_type": "markdown",
      "metadata": {
        "id": "yN7H0jIprIcQ"
      },
      "source": [
        "Fuzzy algebra předpokládá, že každá hodnota na intervalu $<0;1>$ je možnou / přípustnou hodnotou."
      ]
    },
    {
      "cell_type": "code",
      "metadata": {
        "colab": {
          "base_uri": "https://localhost:8080/",
          "height": 761
        },
        "id": "ZeDapos_rZLG",
        "outputId": "365989af-06f1-47d7-8b50-9e8237277193"
      },
      "source": [
        "import matplotlib.pyplot as plt\n",
        "\n",
        "def plotFuzzyVariable(value):\n",
        "    plt.plot([0, 0, 1, 1], [0, 1, 0, 0])\n",
        "    plt.plot([0, 0, 1, 1], [0, 0, 1, 0])\n",
        "    plt.plot([value, value], [0, 1])\n",
        "    plt.show()\n",
        "\n",
        "plotFuzzyVariable(0)\n",
        "plotFuzzyVariable(0.5)\n",
        "plotFuzzyVariable(1)"
      ],
      "execution_count": 7,
      "outputs": [
        {
          "output_type": "display_data",
          "data": {
            "image/png": "[encoded data removed]",
            "text/plain": [
              "<Figure size 432x288 with 1 Axes>"
            ]
          },
          "metadata": {
            "tags": [],
            "needs_background": "light"
          }
        },
        {
          "output_type": "display_data",
          "data": {
            "image/png": "[encoded data removed]",
            "text/plain": [
              "<Figure size 432x288 with 1 Axes>"
            ]
          },
          "metadata": {
            "tags": [],
            "needs_background": "light"
          }
        },
        {
          "output_type": "display_data",
          "data": {
            "image/png": "[encoded data removed]",
            "text/plain": [
              "<Figure size 432x288 with 1 Axes>"
            ]
          },
          "metadata": {
            "tags": [],
            "needs_background": "light"
          }
        }
      ]
    },
    {
      "cell_type": "code",
      "metadata": {
        "id": "4SdljFgidCQB",
        "colab": {
          "base_uri": "https://localhost:8080/"
        },
        "outputId": "94adf917-bef3-424e-c189-f07caf139a52"
      },
      "source": [
        "def fuzzyAnd(a):\n",
        "    def fuzzyAndAnd(b):\n",
        "        return min(a, b)\n",
        "    return fuzzyAndAnd\n",
        "\n",
        "def fuzzyOr(a):\n",
        "    def fuzzyOrOr(b):\n",
        "        return max(a, b)\n",
        "    return fuzzyOrOr\n",
        "\n",
        "boolTest = createBoolTest(1, 0)\n",
        "\n",
        "boolTest(fuzzyOr)\n",
        "print('-'*10)\n",
        "boolTest(fuzzyAnd)\n"
      ],
      "execution_count": 10,
      "outputs": [
        {
          "output_type": "stream",
          "text": [
            "<function fuzzyOr at 0x7f760517a290>\n",
            "True\tTrue\t True\n",
            "False\tTrue\t True\n",
            "True\tFalse\t True\n",
            "False\tFalse\t False\n",
            "----------\n",
            "<function fuzzyAnd at 0x7f760517ac20>\n",
            "True\tTrue\t True\n",
            "False\tTrue\t False\n",
            "True\tFalse\t False\n",
            "False\tFalse\t False\n"
          ],
          "name": "stdout"
        }
      ]
    },
    {
      "cell_type": "code",
      "metadata": {
        "colab": {
          "base_uri": "https://localhost:8080/"
        },
        "id": "pwoFUkhjuNm-",
        "outputId": "4d9940a8-e7f2-4e32-8820-f7746b64fa61"
      },
      "source": [
        "boolTest = createBoolTest(0.3, 0.7)\n",
        "\n",
        "boolTest(fuzzyOr)\n",
        "print('-'*10)\n",
        "boolTest(fuzzyAnd)"
      ],
      "execution_count": 11,
      "outputs": [
        {
          "output_type": "stream",
          "text": [
            "<function fuzzyOr at 0x7f760517a290>\n",
            "True\tTrue\t True\n",
            "False\tTrue\t False\n",
            "True\tFalse\t False\n",
            "False\tFalse\t False\n",
            "----------\n",
            "<function fuzzyAnd at 0x7f760517ac20>\n",
            "True\tTrue\t True\n",
            "False\tTrue\t True\n",
            "True\tFalse\t True\n",
            "False\tFalse\t False\n"
          ],
          "name": "stdout"
        }
      ]
    },
    {
      "cell_type": "code",
      "metadata": {
        "colab": {
          "base_uri": "https://localhost:8080/"
        },
        "id": "QIUaOz34ulQf",
        "outputId": "5207da99-4792-4788-bae7-50d51962895d"
      },
      "source": [
        "boolTest = createBoolTest(0.49, 0.51)\n",
        "\n",
        "boolTest(fuzzyOr)\n",
        "print('-'*10)\n",
        "boolTest(fuzzyAnd)"
      ],
      "execution_count": 12,
      "outputs": [
        {
          "output_type": "stream",
          "text": [
            "<function fuzzyOr at 0x7f760517a290>\n",
            "True\tTrue\t True\n",
            "False\tTrue\t False\n",
            "True\tFalse\t False\n",
            "False\tFalse\t False\n",
            "----------\n",
            "<function fuzzyAnd at 0x7f760517ac20>\n",
            "True\tTrue\t True\n",
            "False\tTrue\t True\n",
            "True\tFalse\t True\n",
            "False\tFalse\t False\n"
          ],
          "name": "stdout"
        }
      ]
    }
  ]
}