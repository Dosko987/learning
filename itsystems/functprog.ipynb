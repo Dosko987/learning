{
  "nbformat": 4,
  "nbformat_minor": 0,
  "metadata": {
    "colab": {
      "name": "FunctionalProgramming.ipynb",
      "provenance": [],
      "authorship_tag": "ABX9TyOl3OI7l8S+kG/d+8Zox7HA",
      "include_colab_link": true
    },
    "kernelspec": {
      "name": "python3",
      "display_name": "Python 3"
    }
  },
  "cells": [
    {
      "cell_type": "markdown",
      "metadata": {
        "id": "view-in-github",
        "colab_type": "text"
      },
      "source": [
        "<a href=\"https://colab.research.google.com/github/hrbolek/learning/blob/master/itsystems/functprog.ipynb\" target=\"_parent\"><img src=\"https://colab.research.google.com/assets/colab-badge.svg\" alt=\"Open In Colab\"/></a>"
      ]
    },
    {
      "cell_type": "markdown",
      "metadata": {
        "id": "-zuJwZM1Ipyr",
        "colab_type": "text"
      },
      "source": [
        "# Functional Programming"
      ]
    },
    {
      "cell_type": "markdown",
      "metadata": {
        "id": "vXgdE3GnIuFY",
        "colab_type": "text"
      },
      "source": [
        "Heavily inspired by https://weblogs.asp.net/dixin/lambda-calculus-via-c-2-boolean-and-logic"
      ]
    },
    {
      "cell_type": "code",
      "metadata": {
        "id": "upmzYekKLzcR",
        "colab_type": "code",
        "colab": {}
      },
      "source": [
        "def true(t, f):\n",
        "  return t\n",
        "def false(t, f):\n",
        "  return f"
      ],
      "execution_count": 12,
      "outputs": []
    },
    {
      "cell_type": "code",
      "metadata": {
        "id": "LKTqpJmNH4cD",
        "colab_type": "code",
        "colab": {}
      },
      "source": [
        "true = lambda t: lambda f: t\n",
        "false = lambda t: lambda f: f"
      ],
      "execution_count": 13,
      "outputs": []
    },
    {
      "cell_type": "code",
      "metadata": {
        "id": "8oJXib85Jhou",
        "colab_type": "code",
        "colab": {}
      },
      "source": [
        "def testDualOperator(operator):\n",
        "  print(\"op\", \"op\", \"result\", sep=\"\\t\")\n",
        "  print(\"-\"*30)\n",
        "  print(True, True, operator(true)(true) == true, sep=\"\\t\")\n",
        "  print(False, True, operator(false)(true) == true, sep=\"\\t\")\n",
        "  print(True, False, operator(true)(false) == true, sep=\"\\t\")\n",
        "  print(False, False, operator(false)(false) == true, sep=\"\\t\")"
      ],
      "execution_count": 14,
      "outputs": []
    },
    {
      "cell_type": "code",
      "metadata": {
        "id": "A0buYcPPI4nc",
        "colab_type": "code",
        "colab": {
          "base_uri": "https://localhost:8080/",
          "height": 127
        },
        "outputId": "bb64a983-154d-4f76-fd3f-cf15c587bc35"
      },
      "source": [
        "And = lambda a: lambda b: a(b)(false)\n",
        "testDualOperator(And)"
      ],
      "execution_count": 15,
      "outputs": [
        {
          "output_type": "stream",
          "text": [
            "op\top\tresult\n",
            "------------------------------\n",
            "True\tTrue\tTrue\n",
            "False\tTrue\tFalse\n",
            "True\tFalse\tFalse\n",
            "False\tFalse\tFalse\n"
          ],
          "name": "stdout"
        }
      ]
    },
    {
      "cell_type": "code",
      "metadata": {
        "id": "0XdX4UHaMSUG",
        "colab_type": "code",
        "colab": {
          "base_uri": "https://localhost:8080/",
          "height": 127
        },
        "outputId": "2d554a1e-a355-488f-f39c-4642411ac8e1"
      },
      "source": [
        "Or = lambda a: lambda b: a(true)(b)\n",
        "testDualOperator(Or)"
      ],
      "execution_count": 17,
      "outputs": [
        {
          "output_type": "stream",
          "text": [
            "op\top\tresult\n",
            "------------------------------\n",
            "True\tTrue\tTrue\n",
            "False\tTrue\tTrue\n",
            "True\tFalse\tTrue\n",
            "False\tFalse\tFalse\n"
          ],
          "name": "stdout"
        }
      ]
    },
    {
      "cell_type": "code",
      "metadata": {
        "id": "xz3d4WK3MtFS",
        "colab_type": "code",
        "colab": {
          "base_uri": "https://localhost:8080/",
          "height": 127
        },
        "outputId": "e1da41df-3b90-41c9-e4c0-517b404178c5"
      },
      "source": [
        "Not = lambda a: a(false)(true)\n",
        "NotDual = lambda a: lambda b: Not(a)\n",
        "testDualOperator(NotDual)"
      ],
      "execution_count": 19,
      "outputs": [
        {
          "output_type": "stream",
          "text": [
            "op\top\tresult\n",
            "------------------------------\n",
            "True\tTrue\tFalse\n",
            "False\tTrue\tTrue\n",
            "True\tFalse\tFalse\n",
            "False\tFalse\tTrue\n"
          ],
          "name": "stdout"
        }
      ]
    },
    {
      "cell_type": "code",
      "metadata": {
        "id": "_ibegs-mNsKU",
        "colab_type": "code",
        "colab": {}
      },
      "source": [
        "If = lambda Condition: lambda Then: lambda Else: Condition(Then)(Else)"
      ],
      "execution_count": null,
      "outputs": []
    }
  ]
}