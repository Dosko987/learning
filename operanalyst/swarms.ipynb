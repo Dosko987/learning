{
  "nbformat": 4,
  "nbformat_minor": 0,
  "metadata": {
    "colab": {
      "name": "Untitled0.ipynb",
      "provenance": [],
      "collapsed_sections": [],
      "authorship_tag": "ABX9TyN71RwNS8p58oePxb16QjQO",
      "include_colab_link": true
    },
    "kernelspec": {
      "name": "python3",
      "display_name": "Python 3"
    }
  },
  "cells": [
    {
      "cell_type": "markdown",
      "metadata": {
        "id": "view-in-github",
        "colab_type": "text"
      },
      "source": [
        "<a href=\"https://colab.research.google.com/github/hrbolek/learning/blob/master/operanalyst/swarms.ipynb\" target=\"_parent\"><img src=\"https://colab.research.google.com/assets/colab-badge.svg\" alt=\"Open In Colab\"/></a>"
      ]
    },
    {
      "cell_type": "markdown",
      "metadata": {
        "id": "msMgK4DIU30b",
        "colab_type": "text"
      },
      "source": [
        "# Optimalizace s využítím swarmů\n",
        "Swarm - hejno se skládá s jedinců. Tito se pohybují prostorem a snaží se najít \"nejlepší místo\" o svém úspěchu dávají vědět dalším členům hejna - jedincům, kteří se rozhodují, zda a jak tuto informaci akceptují, speciálně s ohledem na skutečnost, že sami dosahují dílčích úspěchů v hledání.\n",
        "\n",
        "[Wikipedie](https://cs.wikipedia.org/wiki/Optimalizace_hejnem_%C4%8D%C3%A1stic)\n",
        "\n",
        "Pohyb členů hejna lze popsat rovnicemi\n",
        "\n",
        "$x_{i}(t+1) = x_{i}(t) + v_{i}(t+1)$\n",
        "\n",
        "a\n",
        "\n",
        "$v_{i}(t + 1) = w * v_{i}(t) + c_{1}[y_{i}(t) − x_{i}(t)]\n",
        "                   + c_{2}[\\hat{y}(t) − x_{i}(t)]$\n",
        "\n",
        "První rovnice popisuje změnu polohy, zatímco druhá změnu rychlosti pohybu jedince. Rovnice mají tři volitelné parametry\n",
        "\n",
        "$w$ určuje míru odporu prostředí, snižuje rychlost pohybujícího se jedince obecně a zajišťuje tak stabilitu systému při řešení.\n",
        "\n",
        "$c_{1}$ a $c_{2}$ jsou parametry určující kognitivní a společenské chování, tedy do jaké míry upřednostňuje jedinec své lokální optimum $y_{i}(t)$ před optimem $\\hat{y}(t)$ , kterého dosáhlo celé hejno.\n",
        "\n",
        "Kriteriální funkce\n",
        "\n",
        "$z=f(x)$\n",
        "\n",
        "je aplikovaná při každé iteraci na jedince s polohou $x_{i}(t)$, získané hodnoty jsou porovnávány s osobním optimem $f(y_{i}(t))$. Pokud nová hodnota je \n",
        "lepší, je $y_{i}(t)$ nastavena na $x_{i}(t)$, v opačném případě je ponechána původní hodnota. Poloha optima celého hejna $\\hat{y}(t)$ je v každé iteraci počítána obdobně, tzn. vybere se poloha nejlepšího z osobních poloh.\n",
        "\n",
        "$ X_{ij}(t+1) = \\left\\{\\begin{array}{lr}\n",
        "        0, & \\text{if } \\text{rand() } \\geq S(v_{ij}(t+1))\\\\\n",
        "        1, & \\text{if } \\text{rand() } < S(v_{ij}(t+1))\n",
        "        \\end{array}\\right\\}$"
      ]
    },
    {
      "cell_type": "code",
      "metadata": {
        "id": "8tcd3yJSVMGg",
        "colab_type": "code",
        "outputId": "08b104f5-2c2b-4b95-f446-3d4f901c2a2e",
        "colab": {
          "base_uri": "https://localhost:8080/",
          "height": 329
        }
      },
      "source": [
        "!pip install pyswarms"
      ],
      "execution_count": 0,
      "outputs": [
        {
          "output_type": "stream",
          "text": [
            "Collecting pyswarms\n",
            "\u001b[?25l  Downloading https://files.pythonhosted.org/packages/0b/6f/42605c4e111a08a8fbaba953d0783c56ad2913ffa5959bdac53f649502a2/pyswarms-1.1.0-py2.py3-none-any.whl (96kB)\n",
            "\r\u001b[K     |███▍                            | 10kB 20.5MB/s eta 0:00:01\r\u001b[K     |██████▉                         | 20kB 1.8MB/s eta 0:00:01\r\u001b[K     |██████████▎                     | 30kB 2.6MB/s eta 0:00:01\r\u001b[K     |█████████████▋                  | 40kB 1.7MB/s eta 0:00:01\r\u001b[K     |█████████████████               | 51kB 2.1MB/s eta 0:00:01\r\u001b[K     |████████████████████▌           | 61kB 2.6MB/s eta 0:00:01\r\u001b[K     |███████████████████████▉        | 71kB 3.0MB/s eta 0:00:01\r\u001b[K     |███████████████████████████▎    | 81kB 3.4MB/s eta 0:00:01\r\u001b[K     |██████████████████████████████▊ | 92kB 3.8MB/s eta 0:00:01\r\u001b[K     |████████████████████████████████| 102kB 3.3MB/s \n",
            "\u001b[?25hRequirement already satisfied: scipy in /usr/local/lib/python3.6/dist-packages (from pyswarms) (1.4.1)\n",
            "Requirement already satisfied: tqdm in /usr/local/lib/python3.6/dist-packages (from pyswarms) (4.38.0)\n",
            "Requirement already satisfied: matplotlib>=1.3.1 in /usr/local/lib/python3.6/dist-packages (from pyswarms) (3.2.1)\n",
            "Requirement already satisfied: attrs in /usr/local/lib/python3.6/dist-packages (from pyswarms) (19.3.0)\n",
            "Requirement already satisfied: numpy in /usr/local/lib/python3.6/dist-packages (from pyswarms) (1.18.2)\n",
            "Requirement already satisfied: future in /usr/local/lib/python3.6/dist-packages (from pyswarms) (0.16.0)\n",
            "Requirement already satisfied: cycler>=0.10 in /usr/local/lib/python3.6/dist-packages (from matplotlib>=1.3.1->pyswarms) (0.10.0)\n",
            "Requirement already satisfied: kiwisolver>=1.0.1 in /usr/local/lib/python3.6/dist-packages (from matplotlib>=1.3.1->pyswarms) (1.1.0)\n",
            "Requirement already satisfied: pyparsing!=2.0.4,!=2.1.2,!=2.1.6,>=2.0.1 in /usr/local/lib/python3.6/dist-packages (from matplotlib>=1.3.1->pyswarms) (2.4.6)\n",
            "Requirement already satisfied: python-dateutil>=2.1 in /usr/local/lib/python3.6/dist-packages (from matplotlib>=1.3.1->pyswarms) (2.8.1)\n",
            "Requirement already satisfied: six in /usr/local/lib/python3.6/dist-packages (from cycler>=0.10->matplotlib>=1.3.1->pyswarms) (1.12.0)\n",
            "Requirement already satisfied: setuptools in /usr/local/lib/python3.6/dist-packages (from kiwisolver>=1.0.1->matplotlib>=1.3.1->pyswarms) (46.0.0)\n",
            "Installing collected packages: pyswarms\n",
            "Successfully installed pyswarms-1.1.0\n"
          ],
          "name": "stdout"
        }
      ]
    },
    {
      "cell_type": "code",
      "metadata": {
        "id": "1RVbGC2WjIFA",
        "colab_type": "code",
        "outputId": "b4010884-011e-4ddb-e5fd-b4b24e710bf9",
        "colab": {
          "base_uri": "https://localhost:8080/",
          "height": 568
        }
      },
      "source": [
        "import matplotlib.pyplot as plt\n",
        "import pyswarms as ps\n",
        "from pyswarms.utils.functions.single_obj import sphere\n",
        "from pyswarms.utils.plotters import plot_cost_history\n",
        "from pyswarms.utils.functions import single_obj as fx\n",
        "\n",
        "# Set up optimizer\n",
        "options = {'c1':0.5, 'c2':0.3, 'w':0.9}\n",
        "optimizer = ps.single.GlobalBestPSO(n_particles = 10, \n",
        "  dimensions = 2, options = options)\n",
        "\n",
        "# Perform optimization\n",
        "stats = optimizer.optimize(fx.sphere, iters = 100)\n",
        "\n",
        "# Obtain cost history from optimizer instance\n",
        "cost_history = optimizer.cost_history\n",
        "\n",
        "# Plot!\n",
        "plot_cost_history(cost_history)\n",
        "plt.grid(which = 'both')\n",
        "plt.show()\n"
      ],
      "execution_count": 0,
      "outputs": [
        {
          "output_type": "stream",
          "text": [
            "2020-03-26 10:17:21,282 - pyswarms.single.global_best - INFO - Optimize for 100 iters with {'c1': 0.5, 'c2': 0.3, 'w': 0.9}\n",
            "pyswarms.single.global_best: 100%|██████████|100/100, best_cost=3.63e-7\n",
            "2020-03-26 10:17:21,480 - pyswarms.single.global_best - INFO - Optimization finished | best cost: 3.627645792100015e-07, best pos: [0.00055751 0.00022791]\n"
          ],
          "name": "stderr"
        },
        {
          "output_type": "display_data",
          "data": {
            "image/png": "[encoded data removed]",
            "text/plain": [
              "<Figure size 720x576 with 1 Axes>"
            ]
          },
          "metadata": {
            "tags": []
          }
        }
      ]
    },
    {
      "cell_type": "code",
      "metadata": {
        "id": "20YX64yFU3et",
        "colab_type": "code",
        "colab": {}
      },
      "source": [
        ""
      ],
      "execution_count": 0,
      "outputs": []
    }
  ]
}