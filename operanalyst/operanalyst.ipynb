{
  "nbformat": 4,
  "nbformat_minor": 0,
  "metadata": {
    "colab": {
      "name": "operanalyst.ipynb",
      "provenance": [],
      "authorship_tag": "ABX9TyPjwPOXJcRpt/d1BWAAztj0",
      "include_colab_link": true
    },
    "kernelspec": {
      "name": "python3",
      "display_name": "Python 3"
    }
  },
  "cells": [
    {
      "cell_type": "markdown",
      "metadata": {
        "id": "view-in-github",
        "colab_type": "text"
      },
      "source": [
        "<a href=\"https://colab.research.google.com/github/hrbolek/learning/blob/master/operanalyst/operanalyst.ipynb\" target=\"_parent\"><img src=\"https://colab.research.google.com/assets/colab-badge.svg\" alt=\"Open In Colab\"/></a>"
      ]
    },
    {
      "cell_type": "markdown",
      "metadata": {
        "id": "jefckE5kfF4F",
        "colab_type": "text"
      },
      "source": [
        "# Operační analýza"
      ]
    },
    {
      "cell_type": "markdown",
      "metadata": {
        "id": "r8hR4KhCfL9R",
        "colab_type": "text"
      },
      "source": [
        "## Úvod"
      ]
    },
    {
      "cell_type": "markdown",
      "metadata": {
        "id": "n82Hg5tWfQqA",
        "colab_type": "text"
      },
      "source": [
        "Celá řada více méně ekvivalentních pojmů vymezující potřebu najít nejlepší řešení z mnoha dostupných. \n",
        "\n",
        "- Operační výzkum\n",
        "- Ekonomicko-matematické modelování\n",
        "\n",
        "Anglické pojmy\n",
        "- [Operational / Operations Research](https://en.wikipedia.org/wiki/Operations_research)\n",
        "- Management Science\n",
        "\n",
        "Cílem úlohy z oblasti operačního výzkumu je nalézt řešení, které je nejlepší (optimální řešení), případně lepší než většina ostatních řešení (suboptimální řešení). Pro řešení takové úlohy jsou stanoveny metody, algoritmy (metodiky) založené na matematických modelech umožňující definici vzorových úloh a dávající tak návod na řešení."
      ]
    },
    {
      "cell_type": "markdown",
      "metadata": {
        "id": "J_y-Uf0tgaSh",
        "colab_type": "text"
      },
      "source": [
        "### Struktura\n"
      ]
    },
    {
      "cell_type": "markdown",
      "metadata": {
        "id": "Et-iEPkbheKs",
        "colab_type": "text"
      },
      "source": [
        "- Matematické programování\n",
        "  - Lineární programování\n",
        "  - Nelineární programování\n",
        "  - Celočíselné programování\n",
        "  - Dynamické programování\n",
        "\n",
        "- Síťová analýza (Teorie grafů)\n",
        "\n",
        "- Systémy hromadné obsluhy\n",
        "\n",
        "- Teorie her\n",
        "\n",
        "- Vícekriteriální rozhodování\n",
        "\n",
        "- Metody statistického modelování (Metoda Monte Carlo)"
      ]
    },
    {
      "cell_type": "code",
      "metadata": {
        "id": "zNNl8uxIewdh",
        "colab_type": "code",
        "colab": {}
      },
      "source": [
        ""
      ],
      "execution_count": null,
      "outputs": []
    }
  ]
}