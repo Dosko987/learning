{
  "nbformat": 4,
  "nbformat_minor": 0,
  "metadata": {
    "colab": {
      "name": "TeorieHer.ipynb",
      "provenance": [],
      "toc_visible": true,
      "authorship_tag": "ABX9TyNuj90rRlpoCXsf4ZSgNPs6",
      "include_colab_link": true
    },
    "kernelspec": {
      "name": "python3",
      "display_name": "Python 3"
    }
  },
  "cells": [
    {
      "cell_type": "markdown",
      "metadata": {
        "id": "view-in-github",
        "colab_type": "text"
      },
      "source": [
        "<a href=\"https://colab.research.google.com/github/hrbolek/learning/blob/master/operanalyst/teorieher.ipynb\" target=\"_parent\"><img src=\"https://colab.research.google.com/assets/colab-badge.svg\" alt=\"Open In Colab\"/></a>"
      ]
    },
    {
      "cell_type": "markdown",
      "metadata": {
        "id": "8TNZCcYEGJnZ"
      },
      "source": [
        "# Teorie Her"
      ]
    },
    {
      "cell_type": "markdown",
      "metadata": {
        "id": "4AL8RghsGMej"
      },
      "source": [
        "## Rozdělení\n",
        "\n",
        "\n",
        "http://euler.fd.cvut.cz/predmety/game_theory/\n",
        "\n",
        "http://euler.fd.cvut.cz/predmety/teorie_her/\n"
      ]
    },
    {
      "cell_type": "markdown",
      "metadata": {
        "id": "B5DEFjNLGWEP"
      },
      "source": [
        "Podle ceny\n",
        "- hry s nulovým součtem\n",
        "- hry s nenulovým součtem\n",
        "\n",
        "Podle vzahu hráčů\n",
        "- hry antagonistické\n",
        "- hry kooperativní\n",
        "- hry proti přírodě\n",
        "\n",
        "Podle počtu strategií\n",
        "- konečné hry\n",
        "- nekonečné hry"
      ]
    },
    {
      "cell_type": "markdown",
      "metadata": {
        "id": "6Qmk3tadGQOc"
      },
      "source": [
        "## Maticové hry"
      ]
    },
    {
      "cell_type": "markdown",
      "metadata": {
        "id": "4OykJaPwG9jg"
      },
      "source": [
        "Hra \"Kámen-nůžky-papír\"\n",
        "\n",
        "3 strategie obou hráčů \n",
        "- kámen\n",
        "- nůžky\n",
        "- papír\n",
        "\n",
        "Výsledek hry\n",
        "- kámen vs. kámen = 0\n",
        "- kámen vs. nůžky = 1\n",
        "- kámen vs. papír = -1\n",
        "- nůžky vs. kámen = -1\n",
        "- nůžky vs. nůžky = 0\n",
        "- nůžky vs. papír = 1\n",
        "- papír vs. kámen = 1\n",
        "- papír vs. nůžky = -1\n",
        "- papír vs. papír = 0\n",
        "\n",
        "Vyjádřeno v matici výher (odtud maticová hra)\n",
        "\n",
        "$$H=\\begin{pmatrix}\n",
        "0 & 1 & -1 \\\\\n",
        "-1 & 0 & 1 \\\\\n",
        "1 & -1 & 0 \n",
        "\\end{pmatrix}$$\n",
        "\n",
        "Strategie hráče A je představena řádky\n",
        "$$h_1=\\begin{pmatrix}\n",
        "0 & 1 & -1\n",
        "\\end{pmatrix}$$\n",
        "$$h_2=\\begin{pmatrix}\n",
        "-1 & 0 & 1\n",
        "\\end{pmatrix}$$\n",
        "$$h_3=\\begin{pmatrix}\n",
        "1 & -1 & 0\n",
        "\\end{pmatrix}$$\n",
        "\n",
        "Strategie hráče B je představena sloupci\n",
        "$$g_1=\\begin{pmatrix}\n",
        "0 \\\\\n",
        "-1 \\\\\n",
        "1\n",
        "\\end{pmatrix}$$\n",
        "$$g_2=\\begin{pmatrix}\n",
        "1 \\\\\n",
        "0 \\\\\n",
        "-1 \n",
        "\\end{pmatrix}$$\n",
        "$$g_3=\\begin{pmatrix}\n",
        "-1 \\\\\n",
        "1 \\\\\n",
        "0\n",
        "\\end{pmatrix}$$\n",
        "\n",
        "matice výher pro hráče B je transponovanou maticí matice výher pro hráče A\n",
        "$$G=H^T=\\begin{pmatrix}\n",
        "0 & -1 & 1 \\\\\n",
        "1 & 0 & -1 \\\\\n",
        "-1 & 1 & 0 \n",
        "\\end{pmatrix}$$\n",
        "\n",
        "Jestliže hráč A volí strategii $i$ a hráč B volí strategii $j$, potom výhra hráče A je dána prvkem $g_{ij}$ a výhra hráče B je dána prvkem $h_{ij}$. Protože $g_{ij} +h_{ij}=0$, klasifikujeme tuto hru jako hru s nulovým součtem.\n",
        "\n"
      ]
    },
    {
      "cell_type": "markdown",
      "metadata": {
        "id": "s8xx0IPnU9sV"
      },
      "source": [
        "## Čisté strategie"
      ]
    },
    {
      "cell_type": "markdown",
      "metadata": {
        "id": "wU9qd_TtppVK"
      },
      "source": [
        "$$A=\\begin{pmatrix}\n",
        "4 & 3 & 2 & 5 \\\\\n",
        "-10 & 2 & 0 & -1 \\\\\n",
        "7 & 5 & 2 & 3 \\\\\n",
        "0 & 8  & -4 & -5\n",
        "\\end{pmatrix}$$\n",
        "V jednotlivých řádcích hledáme maximum a z takto získaných maxim vybereme minimum.\n",
        "$$\\overline v =\\min_i \\max_j a_{ij}=2$$\n",
        "V jednotlivých sloupcích hledáme minimum a z takto získaných minim vybereme maximum.\n",
        "$$\\underline v = \\max_i \\min_j a_{ij}=2$$\n",
        "Protože\n",
        "$$\\underline v = \\overline v$$\n",
        "má hra sedlový bod, cena hry je \n",
        "$$v=\\underline v = \\overline v$$\n",
        "a optimální strategie pro prvního hráče je strategie č. 1, alternativně č. 3 \n",
        "$$\\begin{pmatrix}\n",
        "4 & 3 & 2 & 6\n",
        "\\end{pmatrix}$$\n",
        "pro druhého hráče je optimální strategií strategie č. 3\n",
        "$$\\begin{pmatrix}\n",
        "2 \\\\\n",
        "0 \\\\\n",
        "2 \\\\\n",
        "-4\n",
        "\\end{pmatrix}$$\n",
        "\n"
      ]
    },
    {
      "cell_type": "markdown",
      "metadata": {
        "id": "tDnhyew4oqcp"
      },
      "source": [
        "$$A=\\begin{pmatrix}\n",
        "5 & 1 \\\\\n",
        "3 & 4\n",
        "\\end{pmatrix}$$\n",
        "\n",
        "$$\\overline v=\\min_i \\max_j a_{ij}=4$$\n",
        "$$\\underline v = \\max_i \\min_j a_{ij}=3$$\n",
        "\n",
        "Hra nemá sedlový bod a nemá řešení v čistých strategiích."
      ]
    },
    {
      "cell_type": "markdown",
      "metadata": {
        "id": "Lu921qMCVA30"
      },
      "source": [
        "## Smíšené strategie"
      ]
    },
    {
      "cell_type": "markdown",
      "metadata": {
        "id": "zxx1Rmc4VDTB"
      },
      "source": [
        "### Optimální řešení ve smíšených strategiích"
      ]
    },
    {
      "cell_type": "markdown",
      "metadata": {
        "id": "0jDryUvVVILZ"
      },
      "source": [
        "Hráč A volí smíšenou strategii $s^A=(s_1^A, s_2^A, ..., s_n^A)$. Hráč B volí smíšenou strategii $s^B=(s_1^B, s_2^B, ..., s_n^B)$.\n",
        "\n",
        "\n",
        "$$max\\{v:A^Ts^A- \\begin{pmatrix}v \\\\\n",
        "v \\\\\n",
        "\\vdots \\\\\n",
        "v\n",
        "\\end{pmatrix} \\ge 0, \\sum_{i=1}^ns_i^A=1,s^A \\ge 0, v \\in R\\}$$\n",
        "\n",
        "$$min\\{w:As^B- \\begin{pmatrix}w \\\\\n",
        "w \\\\\n",
        "\\vdots \\\\\n",
        "w\n",
        "\\end{pmatrix} \\le 0, \\sum_{i=1}^ns_i^B=1,s^B \\ge 0, w \\in R\\}$$\n",
        "\n",
        "\n",
        "\n"
      ]
    },
    {
      "cell_type": "markdown",
      "metadata": {
        "id": "kZMHCPuX9BR7"
      },
      "source": [
        "### Příklad"
      ]
    },
    {
      "cell_type": "markdown",
      "metadata": {
        "id": "RIb2gsZ5lIz6"
      },
      "source": [
        "Vyřešte hru kámen-nůžky-papír\n",
        "\n",
        "$$H=\\begin{pmatrix}\n",
        "0 & 1 & -1 \\\\\n",
        "-1 & 0 & 1 \\\\\n",
        "1 & -1 & 0 \n",
        "\\end{pmatrix}$$\n",
        "\n",
        "$$f(s^A)=v \\to max$$\n",
        "\n",
        "$$\\begin{matrix}\n",
        " & -s_2^A & +s_3^A & -v & \\ge & 0 \\\\\n",
        " s_1^A & & -s_3^A & -v & \\ge & 0 \\\\\n",
        " -s_1^A & +s_2^A & & -v & \\ge & 0 \\\\\n",
        " s_1^A & +s_2^A & +s_3^A & &=& 1\n",
        "\\end{matrix}\n",
        "$$\n",
        "\n",
        "\n",
        "$$g(s^B)=w \\to min$$\n",
        "\n",
        "$$\\begin{matrix}\n",
        " & s_2^B & -s_3^B & -w & \\le & 0 \\\\\n",
        " -s_1^B & & +s_3^B & -w & \\le & 0 \\\\\n",
        " s_1^B & -s_2^B & & -w & \\le & 0 \\\\\n",
        " s_1^B & +s_2^B & +s_3^B & &=& 1\n",
        "\\end{matrix}\n",
        "$$\n"
      ]
    },
    {
      "cell_type": "markdown",
      "metadata": {
        "id": "xhAGkVQU_Qj-"
      },
      "source": [
        "### Řešení"
      ]
    },
    {
      "cell_type": "code",
      "metadata": {
        "id": "11jX_sSQ_StK",
        "outputId": "e9c7863b-805c-4cc0-97e5-44bcc30f48e5",
        "colab": {
          "base_uri": "https://localhost:8080/"
        }
      },
      "source": [
        "!pip install pulp"
      ],
      "execution_count": 36,
      "outputs": [
        {
          "output_type": "stream",
          "text": [
            "Collecting pulp\n",
            "\u001b[?25l  Downloading https://files.pythonhosted.org/packages/89/0c/6d80f5f81a92d1733cc5ca180491b8a3cd5839e335627a0046c81b7d3d3d/PuLP-2.3.1-py3-none-any.whl (40.6MB)\n",
            "\u001b[K     |████████████████████████████████| 40.6MB 104kB/s \n",
            "\u001b[?25hCollecting amply>=0.1.2\n",
            "  Downloading https://files.pythonhosted.org/packages/f3/c5/dfa09dd2595a2ab2ab4e6fa7bebef9565812722e1980d04b0edce5032066/amply-0.1.4-py3-none-any.whl\n",
            "Requirement already satisfied: docutils>=0.3 in /usr/local/lib/python3.6/dist-packages (from amply>=0.1.2->pulp) (0.16)\n",
            "Requirement already satisfied: pyparsing in /usr/local/lib/python3.6/dist-packages (from amply>=0.1.2->pulp) (2.4.7)\n",
            "Installing collected packages: amply, pulp\n",
            "Successfully installed amply-0.1.4 pulp-2.3.1\n"
          ],
          "name": "stdout"
        }
      ]
    },
    {
      "cell_type": "code",
      "metadata": {
        "id": "F-8YL9M9Hii8",
        "outputId": "92f37e7e-f50a-4213-f5b0-5e80e3ad3dcb",
        "colab": {
          "base_uri": "https://localhost:8080/"
        }
      },
      "source": [
        "from pulp import *\n",
        "probA = LpProblem(\"Game\", LpMaximize)\n",
        "sA1 = LpVariable(\"sA1\", 0, 1000)\n",
        "sA2 = LpVariable(\"sA2\", 0, 1000)\n",
        "sA3 = LpVariable(\"sA3\", 0, 1000)\n",
        "v = LpVariable(\"v\", 0, 1000)\n",
        "probA += (-sA2+sA3-v >= 0)\n",
        "probA += (sA1-sA3-v >= 0)\n",
        "probA += (-sA1+sA2-v >= 0)\n",
        "probA += (sA1+sA2+sA3 == 1)\n",
        "probA += (v)\n",
        "status = probA.solve()\n",
        "\n",
        "print(f'sA1={value(sA1)}, sA2={value(sA2)}, sA3={value(sA3)}, v={value(v)}')\n",
        "print(LpStatus[status])"
      ],
      "execution_count": 37,
      "outputs": [
        {
          "output_type": "stream",
          "text": [
            "sA1=0.33333333, sA2=0.33333333, sA3=0.33333333, v=0.0\n",
            "Optimal\n"
          ],
          "name": "stdout"
        }
      ]
    },
    {
      "cell_type": "code",
      "metadata": {
        "id": "-QKVllVCG3kL",
        "outputId": "55fa4b38-6ec6-4e0e-a2cf-c12599a6f116",
        "colab": {
          "base_uri": "https://localhost:8080/"
        }
      },
      "source": [
        "from pulp import *\n",
        "prob = LpProblem(\"Game\", LpMaximize)\n",
        "x1 = LpVariable(\"x1\", 0, 1000)\n",
        "x2 = LpVariable(\"x2\", 0, 1000)\n",
        "x3 = LpVariable(\"x3\", 0, 1000)\n",
        "prob += (x2 -x3 <= 1)\n",
        "prob += (-x1+x3 <= 1)\n",
        "prob += (x1-x2 <= 1)\n",
        "prob += (x1 + x2 + x3)\n",
        "status = prob.solve()\n",
        "\n",
        "print(f'x1={value(x1)}, x2={value(x2)} , x3={value(x3)}')\n",
        "print(LpStatus[status])"
      ],
      "execution_count": 38,
      "outputs": [
        {
          "output_type": "stream",
          "text": [
            "x1=1000.0, x2=1000.0 , x3=1000.0\n",
            "Optimal\n"
          ],
          "name": "stdout"
        }
      ]
    },
    {
      "cell_type": "code",
      "metadata": {
        "id": "hX3StlqhCOPk",
        "outputId": "c936ac44-a2b7-4978-e6ab-2cd89c11da54",
        "colab": {
          "base_uri": "https://localhost:8080/"
        }
      },
      "source": [
        "from pulp import *\n",
        "prob = LpProblem(\"Game\", LpMaximize)\n",
        "x1 = LpVariable(\"x1\", 0, 1000)\n",
        "x2 = LpVariable(\"x2\", 0, 1000)\n",
        "x3 = LpVariable(\"x3\", 0, 1000)\n",
        "prob += (3*x2 +x3 <= 1)\n",
        "prob += (x1+3*x3 <= 1)\n",
        "prob += (3*x1+x2 <= 1)\n",
        "prob += (x1 + x2 + x3)\n",
        "status = prob.solve()\n",
        "\n",
        "print(f'x1={value(x1)}, x2={value(x2)} , x3={value(x3)}')\n",
        "print(LpStatus[status])"
      ],
      "execution_count": 39,
      "outputs": [
        {
          "output_type": "stream",
          "text": [
            "x1=0.25, x2=0.25 , x3=0.25\n",
            "Optimal\n"
          ],
          "name": "stdout"
        }
      ]
    },
    {
      "cell_type": "code",
      "metadata": {
        "id": "ZERKtCN0FtAD",
        "outputId": "d004b6a3-f4e9-4278-8960-16d6f927b2e3",
        "colab": {
          "base_uri": "https://localhost:8080/"
        }
      },
      "source": [
        "from pulp import *\n",
        "prob = LpProblem(\"Game\", LpMinimize)\n",
        "x1 = LpVariable(\"x1\", 0, 1000)\n",
        "x2 = LpVariable(\"x2\", 0, 1000)\n",
        "x3 = LpVariable(\"x3\", 0, 1000)\n",
        "prob += (x2 -x3 >= 1)\n",
        "prob += (-x1+x3 >= 1)\n",
        "prob += (x1-x2 >= 1)\n",
        "prob += (x1 + x2 + x3)\n",
        "status = prob.solve()\n",
        "\n",
        "print(f'x1={value(x1)}, x2={value(x2)} , x3={value(x3)}')\n",
        "print(LpStatus[status])"
      ],
      "execution_count": 40,
      "outputs": [
        {
          "output_type": "stream",
          "text": [
            "x1=1.0, x2=0.0 , x3=2.0\n",
            "Infeasible\n"
          ],
          "name": "stdout"
        }
      ]
    },
    {
      "cell_type": "code",
      "metadata": {
        "id": "xuZkAAuvGxVT",
        "outputId": "6d6208b3-c711-4427-827a-54a756780bfa",
        "colab": {
          "base_uri": "https://localhost:8080/"
        }
      },
      "source": [
        "from pulp import *\n",
        "prob = LpProblem(\"Game\", LpMinimize)\n",
        "x1 = LpVariable(\"x1\", 0, 1000)\n",
        "x2 = LpVariable(\"x2\", 0, 1000)\n",
        "x3 = LpVariable(\"x3\", 0, 1000)\n",
        "v = LpVariable(\"v\", 0, 1000)\n",
        "prob += (x2 -x3-v <= 0)\n",
        "prob += (-x1+x3-v <= 0)\n",
        "prob += (x1-x2-v <= 0)\n",
        "prob += (x1+x2+x3 == 1)\n",
        "prob += (v)\n",
        "status = prob.solve()\n",
        "\n",
        "print(f'x1={value(x1)}, x2={value(x2)}, x3={value(x3)}, v={value(v)}')\n",
        "print(LpStatus[status])"
      ],
      "execution_count": 41,
      "outputs": [
        {
          "output_type": "stream",
          "text": [
            "x1=0.33333333, x2=0.33333333, x3=0.33333333, v=0.0\n",
            "Optimal\n"
          ],
          "name": "stdout"
        }
      ]
    },
    {
      "cell_type": "markdown",
      "metadata": {
        "id": "4TqozlXSFxQz"
      },
      "source": [
        "## Algoritmus řešení hry s pomocí iterací"
      ]
    },
    {
      "cell_type": "markdown",
      "metadata": {
        "id": "FzFrqHcUJSVq"
      },
      "source": [
        "### Pomocné funkce na hledání min a max"
      ]
    },
    {
      "cell_type": "code",
      "metadata": {
        "id": "hc3XXWEPJRtT"
      },
      "source": [
        "def findMax(data):\n",
        "  maxValue = None\n",
        "  maxIndex = 0\n",
        "  for index, item in enumerate(data):\n",
        "    if (maxValue is None):\n",
        "      maxValue = item\n",
        "      maxIndex = index\n",
        "    elif (maxValue < item):\n",
        "      maxValue = item\n",
        "      maxIndex = index\n",
        "  return maxValue, maxIndex\n",
        "\n",
        "def findMin(data):\n",
        "  minValue = None\n",
        "  minIndex = 0\n",
        "  for index, item in enumerate(data):\n",
        "    if (minValue is None):\n",
        "      minValue = item\n",
        "      minIndex = index\n",
        "    elif (minValue > item):\n",
        "      minValue = item\n",
        "      minIndex = index\n",
        "  return minValue, minIndex"
      ],
      "execution_count": 42,
      "outputs": []
    },
    {
      "cell_type": "markdown",
      "metadata": {
        "id": "vceM7jhv954-"
      },
      "source": [
        "### Normalizace strategie"
      ]
    },
    {
      "cell_type": "markdown",
      "metadata": {
        "id": "4Lybba_Z98Rz"
      },
      "source": [
        "Postup, při kterém z četností vypočítáme pravděpodobnosti."
      ]
    },
    {
      "cell_type": "code",
      "metadata": {
        "id": "X2wu5nym92Jo"
      },
      "source": [
        "def normalizeStrategy(strategy):\n",
        "  s = sum(strategy)\n",
        "  result = []\n",
        "  for p in strategy:\n",
        "    result.append(p / s)\n",
        "  return result\n",
        "\n",
        "def normalizeStrategy(strategy):\n",
        "  s = sum(strategy)\n",
        "  result = [p / s for p in strategy]\n",
        "  return result"
      ],
      "execution_count": 43,
      "outputs": []
    },
    {
      "cell_type": "markdown",
      "metadata": {
        "id": "nDu50Z9BBgqu"
      },
      "source": [
        "### Výstup informace o hře, včetně smíšených strategií"
      ]
    },
    {
      "cell_type": "code",
      "metadata": {
        "id": "qE0JXoJa-OvO"
      },
      "source": [
        "def printGame(strategies, gameMatrices):\n",
        "  strategyA = normalizeStrategy(strategies[0])\n",
        "  strategyB = normalizeStrategy(strategies[1])\n",
        "  gameA = gameMatrices[0]\n",
        "  gameB = gameMatrices[1]\n",
        "\n",
        "  print('\\t', end='')\n",
        "  for item in strategyB:\n",
        "    print(f'{item:.2f}\\t', end='')\n",
        "  print()\n",
        "  for index, value in enumerate(strategyA):\n",
        "    print(f'{value:.2f}\\t', end='')\n",
        "    for mItem in gameA[index]:\n",
        "      print(f'{mItem}\\t', end='')\n",
        "    print()"
      ],
      "execution_count": 44,
      "outputs": []
    },
    {
      "cell_type": "markdown",
      "metadata": {
        "id": "ScpOOBmrBvcp"
      },
      "source": [
        "### Krok hráče"
      ]
    },
    {
      "cell_type": "markdown",
      "metadata": {
        "id": "1Gf7kh8QC1nD"
      },
      "source": [
        "Hráč na základě předchozích tahů protihráče volí čistou strategii, která mu maximalizuje zisk"
      ]
    },
    {
      "cell_type": "code",
      "metadata": {
        "id": "OhSj8NK3B040"
      },
      "source": [
        "def playerStep(mixedStrategy, gameMatrix):\n",
        "  costs = [0] * len(gameMatrix[0])\n",
        "  for pureStrategy, row in zip(mixedStrategy, gameMatrix):\n",
        "    for index, hItem in enumerate(row):\n",
        "      costs[index] += pureStrategy * hItem\n",
        "  \n",
        "  maxValue, maxIndex = findMax(costs)\n",
        "  return maxIndex"
      ],
      "execution_count": 45,
      "outputs": []
    },
    {
      "cell_type": "markdown",
      "metadata": {
        "id": "puctxswfDNYJ"
      },
      "source": [
        "### Jeden krok v iteraci hry"
      ]
    },
    {
      "cell_type": "markdown",
      "metadata": {
        "id": "rSIMdNHMDQjB"
      },
      "source": [
        "Jeden krok se skládá z tahů obou hráčů."
      ]
    },
    {
      "cell_type": "code",
      "metadata": {
        "id": "tvbkJtQnB4ER"
      },
      "source": [
        "def gameStep(strategies, gameMatrices):\n",
        "  strategyA = [*strategies[0]]\n",
        "  strategyB = [*strategies[1]]\n",
        "  gameA = gameMatrices[0]\n",
        "  gameB = gameMatrices[1]\n",
        "\n",
        "  pureStrategyA = playerStep(strategyB, gameB)\n",
        "  strategyA[pureStrategyA] += 1\n",
        "\n",
        "  pureStrategyB = playerStep(strategyB, gameB)\n",
        "  strategyB[pureStrategyB] += 1\n",
        "\n",
        "  return strategyA, strategyB"
      ],
      "execution_count": 56,
      "outputs": []
    },
    {
      "cell_type": "markdown",
      "metadata": {
        "id": "4EmYZm0-CCS-"
      },
      "source": [
        "### Řešení hry"
      ]
    },
    {
      "cell_type": "markdown",
      "metadata": {
        "id": "uvpvZK_TL2VA"
      },
      "source": [
        "$$A=\\begin{pmatrix}\n",
        "0 & 1 & -1 \\\\\n",
        "-1 & 0 & 1 \\\\\n",
        "1 & -1 & 0\n",
        "\\end{pmatrix}$$"
      ]
    },
    {
      "cell_type": "code",
      "metadata": {
        "id": "4AHrQAOm1Kfn",
        "outputId": "f31247ed-02e5-4666-eb05-b05305865a12",
        "colab": {
          "base_uri": "https://localhost:8080/"
        }
      },
      "source": [
        "H = [[0, 1, -1], [-1, 0, 1], [1, -1, 0]]\n",
        "G = [[0, 1, -1], [-1, 0, 1], [1, -1, 0]]\n",
        "\n",
        "strategyA = [1, 0, 0]\n",
        "strategyB = [1, 0, 0]\n",
        "for index in range(10000):\n",
        "  strategyA, strategyB = gameStep((strategyA, strategyB), (H, G))\n",
        "  if index % 1000 == 0:\n",
        "    printGame((strategyA, strategyB), (H, G))\n",
        "    print('-'*30)\n",
        "    #print(normalizeStrategy(strategyA), normalizeStrategy(strategyB))\n"
      ],
      "execution_count": 57,
      "outputs": [
        {
          "output_type": "stream",
          "text": [
            "\t0.50\t0.50\t0.00\t\n",
            "0.50\t0\t1\t-1\t\n",
            "0.50\t-1\t0\t1\t\n",
            "0.00\t1\t-1\t0\t\n",
            "------------------------------\n",
            "\t0.34\t0.34\t0.32\t\n",
            "0.34\t0\t1\t-1\t\n",
            "0.34\t-1\t0\t1\t\n",
            "0.32\t1\t-1\t0\t\n",
            "------------------------------\n",
            "\t0.32\t0.34\t0.34\t\n",
            "0.32\t0\t1\t-1\t\n",
            "0.34\t-1\t0\t1\t\n",
            "0.34\t1\t-1\t0\t\n",
            "------------------------------\n",
            "\t0.34\t0.32\t0.34\t\n",
            "0.34\t0\t1\t-1\t\n",
            "0.32\t-1\t0\t1\t\n",
            "0.34\t1\t-1\t0\t\n",
            "------------------------------\n",
            "\t0.33\t0.33\t0.34\t\n",
            "0.33\t0\t1\t-1\t\n",
            "0.33\t-1\t0\t1\t\n",
            "0.34\t1\t-1\t0\t\n",
            "------------------------------\n",
            "\t0.34\t0.34\t0.33\t\n",
            "0.34\t0\t1\t-1\t\n",
            "0.34\t-1\t0\t1\t\n",
            "0.33\t1\t-1\t0\t\n",
            "------------------------------\n",
            "\t0.33\t0.34\t0.33\t\n",
            "0.33\t0\t1\t-1\t\n",
            "0.34\t-1\t0\t1\t\n",
            "0.33\t1\t-1\t0\t\n",
            "------------------------------\n",
            "\t0.33\t0.34\t0.34\t\n",
            "0.33\t0\t1\t-1\t\n",
            "0.34\t-1\t0\t1\t\n",
            "0.34\t1\t-1\t0\t\n",
            "------------------------------\n",
            "\t0.33\t0.34\t0.33\t\n",
            "0.33\t0\t1\t-1\t\n",
            "0.34\t-1\t0\t1\t\n",
            "0.33\t1\t-1\t0\t\n",
            "------------------------------\n",
            "\t0.33\t0.34\t0.33\t\n",
            "0.33\t0\t1\t-1\t\n",
            "0.34\t-1\t0\t1\t\n",
            "0.33\t1\t-1\t0\t\n",
            "------------------------------\n"
          ],
          "name": "stdout"
        }
      ]
    },
    {
      "cell_type": "code",
      "metadata": {
        "id": "GDNrdxHcJ0sx"
      },
      "source": [
        "def solveMatrixGame(gameMatrices, iterations = 10000):\n",
        "  gameA = gameMatrices[0]\n",
        "  gameB = gameMatrices[1]  \n",
        "  strategyA = [0] * len(gameA)\n",
        "  strategyB = [0] * len(gameB)\n",
        "  for index in range(iterations):\n",
        "    strategyA, strategyB = gameStep((strategyA, strategyB), (gameA, gameB))\n",
        "  return strategyA, strategyB"
      ],
      "execution_count": 52,
      "outputs": []
    },
    {
      "cell_type": "code",
      "metadata": {
        "id": "LQlhPRmwI5qh",
        "outputId": "86b4882a-e3eb-4db1-9f4e-7ce0ecd75ae6",
        "colab": {
          "base_uri": "https://localhost:8080/"
        }
      },
      "source": [
        "strategyA, strategyB = solveMatrixGame((H, G))\n",
        "printGame((strategyA, strategyB), (H, G))"
      ],
      "execution_count": 58,
      "outputs": [
        {
          "output_type": "stream",
          "text": [
            "\t0.34\t0.33\t0.33\t\n",
            "0.34\t0\t1\t-1\t\n",
            "0.33\t-1\t0\t1\t\n",
            "0.33\t1\t-1\t0\t\n"
          ],
          "name": "stdout"
        }
      ]
    },
    {
      "cell_type": "markdown",
      "metadata": {
        "id": "8exdATiaK0HX"
      },
      "source": [
        "## Řešení maticové hry se sedlovým bodem"
      ]
    },
    {
      "cell_type": "markdown",
      "metadata": {
        "id": "OwUKE8XdLCQC"
      },
      "source": [
        "$$A=\\begin{pmatrix}\n",
        "4 & 3 & 2 & 5 \\\\\n",
        "-10 & 2 & 0 & -1 \\\\\n",
        "7 & 5 & 2 & 3 \\\\\n",
        "0 & 8  & -4 & -5\n",
        "\\end{pmatrix}$$"
      ]
    },
    {
      "cell_type": "code",
      "metadata": {
        "id": "EHxnJ9_QK7dl",
        "outputId": "031df886-bdcd-41f7-b366-9ca0de73026c",
        "colab": {
          "base_uri": "https://localhost:8080/"
        }
      },
      "source": [
        "H = [[4, 3, 2, 5], [-10, 2, 0, -1], [7, 5, 2, 3], [0, 8, -4, -5]]\n",
        "#G = [[-4, 10, -2, 0], [-3, -2, -5, -8], [-2, 0, -2, 4], [-5, 1, -3, 5]]\n",
        "G = [[4, -10, 2, 0], [3, 2, 5, 8], [2, 0, 2, -4], [5, -1, 3, -5]]\n",
        "strategyA, strategyB = solveMatrixGame((H, G))\n",
        "printGame((strategyA, strategyB), (H, G))"
      ],
      "execution_count": 55,
      "outputs": [
        {
          "output_type": "stream",
          "text": [
            "\t0.00\t0.00\t1.00\t0.00\t\n",
            "1.00\t4\t3\t2\t5\t\n",
            "0.00\t-10\t2\t0\t-1\t\n",
            "0.00\t7\t5\t2\t3\t\n",
            "0.00\t0\t8\t-4\t-5\t\n"
          ],
          "name": "stdout"
        }
      ]
    }
  ]
}