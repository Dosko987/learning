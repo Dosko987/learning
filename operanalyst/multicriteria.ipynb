{
  "nbformat": 4,
  "nbformat_minor": 0,
  "metadata": {
    "colab": {
      "name": "Vícekriteriální rozhodování.ipynb",
      "provenance": [],
      "toc_visible": true,
      "authorship_tag": "ABX9TyPboR5vTXSEf4YL41ZUmh48",
      "include_colab_link": true
    },
    "kernelspec": {
      "name": "python3",
      "display_name": "Python 3"
    }
  },
  "cells": [
    {
      "cell_type": "markdown",
      "metadata": {
        "id": "view-in-github",
        "colab_type": "text"
      },
      "source": [
        "<a href=\"https://colab.research.google.com/github/hrbolek/learning/blob/master/operanalyst/multicriteria.ipynb\" target=\"_parent\"><img src=\"https://colab.research.google.com/assets/colab-badge.svg\" alt=\"Open In Colab\"/></a>"
      ]
    },
    {
      "cell_type": "markdown",
      "metadata": {
        "id": "sHUFLJVKlcSi"
      },
      "source": [
        "# Vícekriteriální optimalizace"
      ]
    },
    {
      "cell_type": "markdown",
      "metadata": {
        "id": "om12U2w4lg5R"
      },
      "source": [
        "Vícekriteriální optimalizací rozumíme problém, jehož každé řešení je ohodnoceno vektorovou kriteriální funkcí. Tím se tato optimalizace liší od optimalizace, kde každé přípustné řešení je ohodnoceno skalární kriteriální funkcí a jednotlivá řešení lze tedy jednoduše porovnávat.\r\n",
        "\r\n",
        "Formálně lze problém popsat jako\r\n",
        "\r\n",
        "$$\r\n",
        "f(x) \\to \\min, x \\in M \\\\\r\n",
        "f(x)=(f_1(x),\\dots , f_n(x))\r\n",
        "$$\r\n",
        "\r\n",
        "Ideálním řešením nazýváme takové řešení, které je optimální pro jednotlivé složky vektorové funkce.\r\n",
        "\r\n",
        "$$x^*$$\r\n",
        "\r\n",
        "$$f_i(x^*) \\le f_i(x) $$\r\n",
        "\r\n",
        "Ideální řešení je obecně nedosažitelné, definují se tedy "
      ]
    },
    {
      "cell_type": "code",
      "metadata": {
        "id": "1pqwRfFelBZB"
      },
      "source": [
        ""
      ],
      "execution_count": null,
      "outputs": []
    }
  ]
}