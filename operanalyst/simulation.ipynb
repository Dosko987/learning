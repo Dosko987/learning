{
  "nbformat": 4,
  "nbformat_minor": 0,
  "metadata": {
    "colab": {
      "name": "simulation.ipynb",
      "provenance": [],
      "authorship_tag": "ABX9TyN9hy6fOnYJuhS4OrVcIubA",
      "include_colab_link": true
    },
    "kernelspec": {
      "name": "python3",
      "display_name": "Python 3"
    }
  },
  "cells": [
    {
      "cell_type": "markdown",
      "metadata": {
        "id": "view-in-github",
        "colab_type": "text"
      },
      "source": [
        "<a href=\"https://colab.research.google.com/github/hrbolek/learning/blob/master/operanalyst/simulation.ipynb\" target=\"_parent\"><img src=\"https://colab.research.google.com/assets/colab-badge.svg\" alt=\"Open In Colab\"/></a>"
      ]
    },
    {
      "cell_type": "code",
      "metadata": {
        "id": "j-mvL6QHJXo4",
        "colab_type": "code",
        "colab": {}
      },
      "source": [
        "import scipy.integrate as integrate\n",
        "\n",
        "simulatedObjects = []\n"
      ],
      "execution_count": 0,
      "outputs": []
    },
    {
      "cell_type": "code",
      "metadata": {
        "id": "gz1N8dypVJLm",
        "colab_type": "code",
        "colab": {
          "base_uri": "https://localhost:8080/",
          "height": 437
        },
        "outputId": "eb5f91e4-bf04-494d-c80e-cc7dd01259bf"
      },
      "source": [
        "import pandas as pd\n",
        "\n",
        "def displayData(data):\n",
        "  display(pd.DataFrame(data))\n",
        "\n",
        "def plotData(data, x = 0, y = 1, ax = None):\n",
        "  df = pd.DataFrame(data)\n",
        "  #display(df)\n",
        "  newax = None\n",
        "  if ax is None:\n",
        "    newax = df.plot.line(x = 0, y = y)\n",
        "  else:\n",
        "    newax = df.plot.line(x = 0, y = y, ax = ax)\n",
        "  return newax\n",
        "\n",
        "#example of use\n",
        "data = [(0, 0), (1, 1), (2, 4), (3, 9)]\n",
        "plotData(data)\n",
        "displayData(data)\n"
      ],
      "execution_count": 4,
      "outputs": [
        {
          "output_type": "display_data",
          "data": {
            "text/html": [
              "<div>\n",
              "<style scoped>\n",
              "    .dataframe tbody tr th:only-of-type {\n",
              "        vertical-align: middle;\n",
              "    }\n",
              "\n",
              "    .dataframe tbody tr th {\n",
              "        vertical-align: top;\n",
              "    }\n",
              "\n",
              "    .dataframe thead th {\n",
              "        text-align: right;\n",
              "    }\n",
              "</style>\n",
              "<table border=\"1\" class=\"dataframe\">\n",
              "  <thead>\n",
              "    <tr style=\"text-align: right;\">\n",
              "      <th></th>\n",
              "      <th>0</th>\n",
              "      <th>1</th>\n",
              "    </tr>\n",
              "  </thead>\n",
              "  <tbody>\n",
              "    <tr>\n",
              "      <th>0</th>\n",
              "      <td>0</td>\n",
              "      <td>0</td>\n",
              "    </tr>\n",
              "    <tr>\n",
              "      <th>1</th>\n",
              "      <td>1</td>\n",
              "      <td>1</td>\n",
              "    </tr>\n",
              "    <tr>\n",
              "      <th>2</th>\n",
              "      <td>2</td>\n",
              "      <td>4</td>\n",
              "    </tr>\n",
              "    <tr>\n",
              "      <th>3</th>\n",
              "      <td>3</td>\n",
              "      <td>9</td>\n",
              "    </tr>\n",
              "  </tbody>\n",
              "</table>\n",
              "</div>"
            ],
            "text/plain": [
              "   0  1\n",
              "0  0  0\n",
              "1  1  1\n",
              "2  2  4\n",
              "3  3  9"
            ]
          },
          "metadata": {
            "tags": []
          }
        },
        {
          "output_type": "display_data",
          "data": {
            "image/png": "[encoded data removed]",
            "text/plain": [
              "<Figure size 432x288 with 1 Axes>"
            ]
          },
          "metadata": {
            "tags": [],
            "needs_background": "light"
          }
        }
      ]
    },
    {
      "cell_type": "markdown",
      "metadata": {
        "id": "9omyG5xULFnU",
        "colab_type": "text"
      },
      "source": [
        "$\\left(\\right)$"
      ]
    },
    {
      "cell_type": "code",
      "metadata": {
        "id": "_f7PF8IeK55W",
        "colab_type": "code",
        "colab": {}
      },
      "source": [
        "from math import sqrt\n",
        "import numpy as np\n",
        "\n",
        "def to3D(x, y, z):\n",
        "  return [x, y, z]\n",
        "\n",
        "def sub3D(x, y):\n",
        "  result = [x[0] - y[0], x[1] - y[1], x[2] - y[2]]\n",
        "  return result\n",
        "\n",
        "def abs3D(x):\n",
        "  return sqrt(x[0] * x[0] + x[1] * x[1] + x[2] * x[2])\n",
        "\n",
        "def normalize3D(x):\n",
        "  xAbs = Abs3D(x)\n",
        "  result = To3D(x[0] / xAbs, x[1] / xAbs, x[2] / xAbs)\n",
        "  return result\n",
        "\n",
        "def flying(time, state, input):\n",
        "  currentInput = input()\n",
        "  \n",
        "  currentVelocity = np.array([state[0], state[1], state[2]])\n",
        "  currentVelocityAbs = abs3D(currentVelocity)\n",
        "  \n",
        "  currentPosition = np.array([state[3], state[4], state[5]])\n",
        "  targetPosition = np.array([currentInput[0], currentInput[1], currentInput[2]])\n",
        "\n",
        "  wantedVelocity = targetPosition - currentPosition\n",
        "  wantedVelocityAbs = 1\n",
        "  wantedVelocity = wantedVelocity * currentVelocityAbs / wantedVelocityAbs\n",
        "\n",
        "  neededAcceleration = wantedVelocity - currentVelocity\n",
        "\n",
        "  result = [*neededAcceleration, *currentVelocity]\n",
        "  return result\n"
      ],
      "execution_count": 0,
      "outputs": []
    },
    {
      "cell_type": "code",
      "metadata": {
        "id": "UipaZs2yPry8",
        "colab_type": "code",
        "colab": {}
      },
      "source": [
        "def createFixedTarget(x, y, z):\n",
        "  def fixedPoint():\n",
        "    return [x, y, z]\n",
        "  return fixedPoint\n",
        "\n",
        "def createPlane(destination, stateFunctionEx = flying):\n",
        "  def stateFunction(time, state):\n",
        "    return stateFunctionEx(time, state, destination)\n"
      ],
      "execution_count": 0,
      "outputs": []
    },
    {
      "cell_type": "code",
      "metadata": {
        "id": "ZhNQnxPvR19M",
        "colab_type": "code",
        "colab": {}
      },
      "source": [
        "def compute(model, state0, t0 = 0.0, t_bound = 10, max_step = 0.05):\n",
        "  solver = integrate.RK45(fun = model, t0 = t0, y0 = state0, t_bound = t_bound, max_step = max_step)\n",
        "\n",
        "  while True:\n",
        "    message = solver.step()\n",
        "    currentItem = {'time': solver.t, 'state': [*solver.y], 'stateD': [*model(solver.t, solver.y)]}\n",
        "\n",
        "    yield currentItem\n",
        "    if (not(solver.status == 'running')):\n",
        "        break\n",
        "\n",
        "  return\n",
        "\n",
        "def prepareSimulation(systemList, t0 = 0.0, t_bound = 10, max_step = 0.05):\n",
        "  for system in systemList:\n",
        "    system['solver'] = compute(system['model'], system['state0'], t0 = t0, t_bound = t_bound, max_step = max_step)\n",
        "    system['state'] = system['state0']\n",
        "\n",
        "def simulate(systemList):\n",
        "  for system in systemList:\n",
        "    system['state'] = next(system['solver'])\n"
      ],
      "execution_count": 0,
      "outputs": []
    },
    {
      "cell_type": "code",
      "metadata": {
        "id": "Tx6rdnj0Wy78",
        "colab_type": "code",
        "colab": {
          "base_uri": "https://localhost:8080/",
          "height": 35
        },
        "outputId": "bd6b2454-8892-4123-9ed0-f5faf282304b"
      },
      "source": [
        "def movingObj(time, state):\n",
        "  veloctity = state[:3]\n",
        "  position = state[3:]\n",
        "  acceleration = [0, 0, 0]\n",
        "  return [*acceleration, *position]\n",
        "\n"
      ],
      "execution_count": 9,
      "outputs": [
        {
          "output_type": "stream",
          "text": [
            "[4, 5]\n"
          ],
          "name": "stdout"
        }
      ]
    }
  ]
}