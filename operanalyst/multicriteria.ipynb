{
  "nbformat": 4,
  "nbformat_minor": 0,
  "metadata": {
    "colab": {
      "name": "Vícekriteriální rozhodování.ipynb",
      "provenance": [],
      "toc_visible": true,
      "authorship_tag": "ABX9TyOfEfxbHp72Z4PC4I5ZsseX",
      "include_colab_link": true
    },
    "kernelspec": {
      "name": "python3",
      "display_name": "Python 3"
    }
  },
  "cells": [
    {
      "cell_type": "markdown",
      "metadata": {
        "id": "view-in-github",
        "colab_type": "text"
      },
      "source": [
        "<a href=\"https://colab.research.google.com/github/hrbolek/learning/blob/master/operanalyst/multicriteria.ipynb\" target=\"_parent\"><img src=\"https://colab.research.google.com/assets/colab-badge.svg\" alt=\"Open In Colab\"/></a>"
      ]
    },
    {
      "cell_type": "markdown",
      "metadata": {
        "id": "sHUFLJVKlcSi"
      },
      "source": [
        "# Vícekriteriální optimalizace"
      ]
    },
    {
      "cell_type": "markdown",
      "metadata": {
        "id": "om12U2w4lg5R"
      },
      "source": [
        "Vícekriteriální optimalizací rozumíme problém, jehož každé řešení je ohodnoceno vektorovou kriteriální funkcí. Tím se tato optimalizace liší od optimalizace, kde každé přípustné řešení je ohodnoceno skalární kriteriální funkcí a jednotlivá řešení lze tedy jednoduše porovnávat.\r\n",
        "\r\n",
        "Formálně lze problém popsat jako\r\n",
        "\r\n",
        "$$\r\n",
        "f(x) \\to \\min, x \\in M \\\\\r\n",
        "f(x)=(f_1(x),\\dots , f_n(x))\r\n",
        "$$\r\n",
        "\r\n",
        "Ideálním řešením nazýváme takové řešení, které je optimální pro jednotlivé složky vektorové funkce.\r\n",
        "\r\n",
        "$$x^*$$\r\n",
        "\r\n",
        "$$f_i(x^*) \\le f_i(x) $$\r\n",
        "\r\n",
        "Ideální řešení je obecně nedosažitelné, definují se tedy jiné přístupy"
      ]
    },
    {
      "cell_type": "markdown",
      "metadata": {
        "id": "pwUUG9oOeycO"
      },
      "source": [
        "## Nedominované řešení"
      ]
    },
    {
      "cell_type": "markdown",
      "metadata": {
        "id": "ZvHm0bwPfwT4"
      },
      "source": [
        "Nedominované řešení (řešení, které nedominuje, není optimální pro všechny kriteriální funkce) lze popsat jako\r\n",
        "\r\n",
        "$$\r\n",
        "\\exists k, f_k(x^*) \\le f_k(x)\r\n",
        "$$\r\n",
        "\r\n",
        "tedy řešení je optimální alespoň podle jedné kriteriální funkce.\r\n",
        "\r\n",
        "Takové řešení nazýváme též eficientní řešení. Množina všech eficientních řešení se nazývá též množinou [Pareto-optimálních řešení](https://en.wikipedia.org/wiki/Pareto_efficiency).\r\n"
      ]
    },
    {
      "cell_type": "markdown",
      "metadata": {
        "id": "bcqjIAmF2F_9"
      },
      "source": [
        "## Definice vah"
      ]
    },
    {
      "cell_type": "markdown",
      "metadata": {
        "id": "bfvGt2jX2qSB"
      },
      "source": [
        "Jedním z možných přístupů při řešení úlohy vícekriteriální optimalizace je stanovení vah pro jednotlivé kriteriální funkce.\r\n",
        "\r\n",
        "$$\r\n",
        "g(x) = \\sum_{i=1}^n \\lambda_i f_i(x)\r\n",
        "$$\r\n",
        "\r\n",
        "Tímto stanovením vah úlohu vícekriteriální optimalizace převádíme na úlohu optimalizace s jednou (skalární) kriteriální funkcí. \r\n"
      ]
    },
    {
      "cell_type": "markdown",
      "metadata": {
        "id": "22DhOq135nxl"
      },
      "source": [
        "## Lexikografická metoda"
      ]
    },
    {
      "cell_type": "markdown",
      "metadata": {
        "id": "MMFLUd-u5sAa"
      },
      "source": [
        "Vícekriteální problém by byl řešitelný v případě, kdybychom byli schopni na množině přípustných řešení, která je množinou vektorů, definovat operátory $\\le$ a $\\lt$.\r\n",
        "\r\n",
        "Při aplikaci lexikografické metody seřadíme kritéria podle důležitosti a postupně je v iteračním procesu aplikujeme.\r\n",
        "\r\n",
        "Množinu přípustných řešení $M$ pomocí kritéria $f_1$ redukujeme na množinu optimálních řešení $O_1$. Následnou aplikací kritéria $f_2$ na množinu $O_1$ dostáváme množinu $O_2$. Postup opakujeme, až dostaneme pomocí posledního kritéria $f_n$ množinu $O_n$. V případě, kdy je tato množina jednoprvková, považujeme tento prvek za optimální řešení úlohy. V opačném případě můžeme vybra jakýkoliv prvek množiny. [Zdroj](http://jana.kalcev.cz/vyuka/kestazeni/EKO422-Ordinalni.pdf)."
      ]
    },
    {
      "cell_type": "code",
      "metadata": {
        "id": "1pqwRfFelBZB"
      },
      "source": [
        ""
      ],
      "execution_count": null,
      "outputs": []
    }
  ]
}