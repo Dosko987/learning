{
  "nbformat": 4,
  "nbformat_minor": 0,
  "metadata": {
    "colab": {
      "name": "hap.ipynb",
      "provenance": [],
      "authorship_tag": "ABX9TyN/aCMBOHTVwnMUlWvpH7+Y",
      "include_colab_link": true
    },
    "kernelspec": {
      "name": "python3",
      "display_name": "Python 3"
    },
    "language_info": {
      "name": "python"
    }
  },
  "cells": [
    {
      "cell_type": "markdown",
      "metadata": {
        "id": "view-in-github",
        "colab_type": "text"
      },
      "source": [
        "<a href=\"https://colab.research.google.com/github/hrbolek/learning/blob/master/hap.ipynb\" target=\"_parent\"><img src=\"https://colab.research.google.com/assets/colab-badge.svg\" alt=\"Open In Colab\"/></a>"
      ]
    },
    {
      "cell_type": "markdown",
      "metadata": {
        "id": "GQEVd1l26LRY"
      },
      "source": [
        "# Hodnocení akademických pracovníků na Univerzitě obrany"
      ]
    },
    {
      "cell_type": "markdown",
      "metadata": {
        "id": "sT9zCKfN6WzM"
      },
      "source": [
        "## Pomocný kód"
      ]
    },
    {
      "cell_type": "code",
      "metadata": {
        "id": "1yMeN-AL2xfY",
        "cellView": "form"
      },
      "source": [
        "#@title\n",
        "from IPython.display import display, SVG"
      ],
      "execution_count": 2,
      "outputs": []
    },
    {
      "cell_type": "code",
      "metadata": {
        "cellView": "form",
        "id": "iOi9GrH54aLk"
      },
      "source": [
        "#@title\n",
        "svgIm = '''<svg width=\"1024\" height=\"20\" xmlns=\"http://www.w3.org/2000/svg\" xmlns:xlink=\"http://www.w3.org/1999/xlink\" overflow=\"hidden\">\n",
        "<defs>\n",
        "<clipPath id=\"clip0\"><rect x=\"0\" y=\"0\" width=\"960\" height=\"200\"/></clipPath>\n",
        "<linearGradient id=\"grad1\" x1=\"0%\" y1=\"0%\" x2=\"0%\" y2=\"100%\">\n",
        "  <stop offset=\"0%\" style=\"stop-color:rgb(0, 136, 204);stop-opacity:1\" />\n",
        "  <stop offset=\"100%\" style=\"stop-color:rgb(0, 136, 204);stop-opacity:0\" />\n",
        "</linearGradient>\n",
        "</defs>\n",
        "<rect x=\"0\" y=\"0\" width=\"1024\" height=\"20\" fill=\"url(#grad1)\" />\n",
        "</svg>'''\n",
        "podtrhnout = SVG(svgIm)"
      ],
      "execution_count": 14,
      "outputs": []
    },
    {
      "cell_type": "code",
      "metadata": {
        "cellView": "form",
        "id": "caTemXot7xgu",
        "outputId": "66b1d785-bf4f-4c69-9195-5eb8fb031d60",
        "colab": {
          "base_uri": "https://localhost:8080/",
          "height": 41
        }
      },
      "source": [
        "#@title\n",
        "podtrhnout"
      ],
      "execution_count": 15,
      "outputs": [
        {
          "output_type": "execute_result",
          "data": {
            "text/plain": [
              "<IPython.core.display.SVG object>"
            ],
            "image/svg+xml": "<svg height=\"20\" overflow=\"hidden\" width=\"1024\" xmlns=\"http://www.w3.org/2000/svg\" xmlns:xlink=\"http://www.w3.org/1999/xlink\">\n<defs>\n<clipPath id=\"clip0\"><rect height=\"200\" width=\"960\" x=\"0\" y=\"0\"/></clipPath>\n<linearGradient id=\"grad1\" x1=\"0%\" x2=\"0%\" y1=\"0%\" y2=\"100%\">\n  <stop offset=\"0%\" style=\"stop-color:rgb(0, 136, 204);stop-opacity:1\"/>\n  <stop offset=\"100%\" style=\"stop-color:rgb(0, 136, 204);stop-opacity:0\"/>\n</linearGradient>\n</defs>\n<rect fill=\"url(#grad1)\" height=\"20\" width=\"1024\" x=\"0\" y=\"0\"/>\n</svg>"
          },
          "metadata": {
            "tags": []
          },
          "execution_count": 15
        }
      ]
    },
    {
      "cell_type": "markdown",
      "metadata": {
        "id": "KwRr_rpN6Sxn"
      },
      "source": [
        "## Platforma pro tuto prezentaci"
      ]
    },
    {
      "cell_type": "markdown",
      "metadata": {
        "id": "Xe3CpKiF78Ho"
      },
      "source": [
        "## Vícekriteriální hodnocení"
      ]
    },
    {
      "cell_type": "markdown",
      "metadata": {
        "id": "dzWd-zHf7_kx"
      },
      "source": [
        "## Fuzzy logika"
      ]
    },
    {
      "cell_type": "markdown",
      "metadata": {
        "id": "OKzHg6mv8B5U"
      },
      "source": [
        "## Využití fuzzy logiky pro hodnocení (HAP)"
      ]
    },
    {
      "cell_type": "markdown",
      "metadata": {
        "id": "wflu8jEQ8Jr2"
      },
      "source": [
        "## Závěr"
      ]
    },
    {
      "cell_type": "code",
      "metadata": {
        "id": "n8DGpflr4z6Q"
      },
      "source": [
        ""
      ],
      "execution_count": null,
      "outputs": []
    }
  ]
}