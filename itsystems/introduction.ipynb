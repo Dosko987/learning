{
  "nbformat": 4,
  "nbformat_minor": 0,
  "metadata": {
    "colab": {
      "name": "Uvod.ipynb",
      "provenance": [],
      "collapsed_sections": [],
      "authorship_tag": "ABX9TyPzi47iFPgTcale30cZG8aJ",
      "include_colab_link": true
    },
    "kernelspec": {
      "name": "python3",
      "display_name": "Python 3"
    }
  },
  "cells": [
    {
      "cell_type": "markdown",
      "metadata": {
        "id": "view-in-github",
        "colab_type": "text"
      },
      "source": [
        "<a href=\"https://colab.research.google.com/github/hrbolek/learning/blob/master/itsystems/introduction.ipynb\" target=\"_parent\"><img src=\"https://colab.research.google.com/assets/colab-badge.svg\" alt=\"Open In Colab\"/></a>"
      ]
    },
    {
      "cell_type": "code",
      "metadata": {
        "id": "edNdvpyPKmdX",
        "colab_type": "code",
        "colab": {}
      },
      "source": [
        ""
      ],
      "execution_count": 0,
      "outputs": []
    },
    {
      "cell_type": "markdown",
      "metadata": {
        "id": "dAy6VpvuUJfu",
        "colab_type": "text"
      },
      "source": [
        "# Úvodní instalace\n",
        "Každý máte připravený virtuální počítač, na kterém si nainstalujete docker, spustíte Portainer a začnete vytvářet kontejnery."
      ]
    },
    {
      "cell_type": "markdown",
      "metadata": {
        "id": "3Ptxmf8fUNzv",
        "colab_type": "text"
      },
      "source": [
        "# Putty\n",
        "Program pro komunikaci přes ssh\n",
        "https://www.puttygen.com/download-putty\n",
        "s jeho pomocí se připojíte na server. Všechny následující příkazy jsou realizovatelné přes něj."
      ]
    },
    {
      "cell_type": "markdown",
      "metadata": {
        "id": "efZ1SixWK0-k",
        "colab_type": "text"
      },
      "source": [
        "## Docker příprava\n",
        "https://docs.docker.com/install/linux/docker-ce/ubuntu/\n",
        "```console\n",
        "$ sudo apt-get update\n",
        "```\n",
        "\n",
        "```console\n",
        "$ sudo apt-get install \\\n",
        "    apt-transport-https \\\n",
        "    ca-certificates \\\n",
        "    curl \\\n",
        "    gnupg-agent \\\n",
        "    software-properties-common\n",
        "```\n",
        "\n",
        "```console\n",
        "$ curl -fsSL https://download.docker.com/linux/ubuntu/gpg | sudo apt-key add -\n",
        "```\n",
        "Ověření otisku\n",
        "```console\n",
        "$ sudo apt-key fingerprint 0EBFCD88\n",
        "```\n",
        "Očekávaný výstup:\n",
        "```console\n",
        "pub   rsa4096 2017-02-22 [SCEA]\n",
        "      9DC8 5822 9FC7 DD38 854A  E2D8 8D81 803C 0EBF CD88\n",
        "uid           [ unknown] Docker Release (CE deb) <docker@docker.com>\n",
        "sub   rsa4096 2017-02-22 [S]\n",
        "```\n",
        "\n",
        "```console\n",
        "$ sudo add-apt-repository \\\n",
        "   \"deb [arch=amd64] https://download.docker.com/linux/ubuntu \\\n",
        "   $(lsb_release -cs) \\\n",
        "   stable\"\n",
        "```"
      ]
    },
    {
      "cell_type": "markdown",
      "metadata": {
        "id": "Ud2WUNZiTQZW",
        "colab_type": "text"
      },
      "source": [
        "# Identifikace v síti\n",
        "\n",
        "```console\n",
        "$ ifconfig\n",
        "```\n",
        "Najděte IPv4 adresu 160.216.108.???\n",
        "Zjistěte si jméno serveru.\n",
        "Při standardní konfiguraci můžete dostat DNS name přes\n",
        "```console\n",
        "$ dig -x 160.216.108.??? +noall +answer\n",
        "```\n",
        "\n"
      ]
    },
    {
      "cell_type": "markdown",
      "metadata": {
        "id": "bb71qTy6MwGl",
        "colab_type": "text"
      },
      "source": [
        "## Install Docker Comunity\n",
        "\n",
        "```console\n",
        "$ sudo apt-get update\n",
        "```\n",
        "```console\n",
        "$ sudo apt-get install docker-ce docker-ce-cli containerd.io\n",
        "```\n",
        "Ověření úspěšné instalace\n",
        "```console\n",
        "$ sudo docker run hello-world\n",
        "```\n"
      ]
    },
    {
      "cell_type": "markdown",
      "metadata": {
        "id": "ks9TonjCIeI6",
        "colab_type": "text"
      },
      "source": [
        "## Upozornění\n",
        "Předpokládá se, že svůj počítač máte za firewallem! Tímto firewallem není myšlen softwarový, ale firewall integrovaný typicky do routeru."
      ]
    },
    {
      "cell_type": "markdown",
      "metadata": {
        "id": "sp9HX48hNWuN",
        "colab_type": "text"
      },
      "source": [
        "# Install Portainer\n",
        "https://portainer.readthedocs.io/en/stable/deployment.html\n",
        "\n",
        "Vytvoření trvalého úložiště\n",
        "```console\n",
        "sudo docker volume create portainer_data\n",
        "```\n",
        "```console\n",
        "$ sudo docker run -d -p 9000:9000 --name portainer --restart always -v /var/run/docker.sock:/var/run/docker.sock -v portainer_data:/data portainer/portainer\n",
        "```"
      ]
    },
    {
      "cell_type": "markdown",
      "metadata": {
        "id": "t3QLGE_xORe0",
        "colab_type": "text"
      },
      "source": [
        "# Run Portainer\n",
        "V adresním řádku prohlížeče zadáte adresu:\n",
        "```console\n",
        "http://localhost:9000\n",
        "```\n",
        "\n",
        "Zvolte si jméno a heslo, obojí si zapamatujte, budete je potřebovat při dalších přihlášeních.\n",
        "\n"
      ]
    }
  ]
}