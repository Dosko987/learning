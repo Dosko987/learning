{
  "nbformat": 4,
  "nbformat_minor": 0,
  "metadata": {
    "colab": {
      "name": "Vícekriteriální rozhodování.ipynb",
      "provenance": [],
      "toc_visible": true,
      "authorship_tag": "ABX9TyOyVxKZzDEwT5+5ZF1aJyi4",
      "include_colab_link": true
    },
    "kernelspec": {
      "name": "python3",
      "display_name": "Python 3"
    }
  },
  "cells": [
    {
      "cell_type": "markdown",
      "metadata": {
        "id": "view-in-github",
        "colab_type": "text"
      },
      "source": [
        "<a href=\"https://colab.research.google.com/github/hrbolek/learning/blob/master/operanalyst/multicriteria.ipynb\" target=\"_parent\"><img src=\"https://colab.research.google.com/assets/colab-badge.svg\" alt=\"Open In Colab\"/></a>"
      ]
    },
    {
      "cell_type": "markdown",
      "metadata": {
        "id": "sHUFLJVKlcSi"
      },
      "source": [
        "# Vícekriteriální optimalizace"
      ]
    },
    {
      "cell_type": "markdown",
      "metadata": {
        "id": "om12U2w4lg5R"
      },
      "source": [
        "Vícekriteriální optimalizací rozumíme problém, jehož každé řešení je ohodnoceno vektorovou kriteriální funkcí. Tím se tato optimalizace liší od optimalizace, kde každé přípustné řešení je ohodnoceno skalární kriteriální funkcí a jednotlivá řešení lze tedy jednoduše porovnávat.\n",
        "\n",
        "Formálně lze problém popsat jako\n",
        "\n",
        "$$\n",
        "f(x) \\to \\min, x \\in M \\\\\n",
        "f(x)=(f_1(x),\\dots , f_n(x))\n",
        "$$\n",
        "\n",
        "Ideálním řešením nazýváme takové řešení, které je optimální pro jednotlivé složky vektorové funkce.\n",
        "\n",
        "$$x^*$$\n",
        "\n",
        "$$f_i(x^*) \\le f_i(x) $$\n",
        "\n",
        "Ideální řešení je obecně nedosažitelné, definují se tedy jiné přístupy"
      ]
    },
    {
      "cell_type": "markdown",
      "metadata": {
        "id": "pwUUG9oOeycO"
      },
      "source": [
        "## Nedominované řešení"
      ]
    },
    {
      "cell_type": "markdown",
      "metadata": {
        "id": "ZvHm0bwPfwT4"
      },
      "source": [
        "Nedominované řešení (řešení, které nedominuje, není optimální pro všechny kriteriální funkce) lze popsat jako\n",
        "\n",
        "$$\n",
        "\\exists k, f_k(x^*) \\le f_k(x)\n",
        "$$\n",
        "\n",
        "tedy řešení je optimální alespoň podle jedné kriteriální funkce.\n",
        "\n",
        "Takové řešení nazýváme též eficientní řešení. Množina všech eficientních řešení se nazývá též množinou [Pareto-optimálních řešení](https://en.wikipedia.org/wiki/Pareto_efficiency).\n"
      ]
    },
    {
      "cell_type": "markdown",
      "metadata": {
        "id": "bcqjIAmF2F_9"
      },
      "source": [
        "## Definice vah"
      ]
    },
    {
      "cell_type": "markdown",
      "metadata": {
        "id": "bfvGt2jX2qSB"
      },
      "source": [
        "Jedním z možných přístupů při řešení úlohy vícekriteriální optimalizace je stanovení vah pro jednotlivé kriteriální funkce.\n",
        "\n",
        "$$\n",
        "g(x) = \\sum_{i=1}^n \\lambda_i f_i(x)\n",
        "$$\n",
        "\n",
        "Tímto stanovením vah úlohu vícekriteriální optimalizace převádíme na úlohu optimalizace s jednou (skalární) kriteriální funkcí. \n"
      ]
    },
    {
      "cell_type": "markdown",
      "metadata": {
        "id": "22DhOq135nxl"
      },
      "source": [
        "## Lexikografická metoda"
      ]
    },
    {
      "cell_type": "markdown",
      "metadata": {
        "id": "MMFLUd-u5sAa"
      },
      "source": [
        "Vícekriteální problém by byl řešitelný v případě, kdybychom byli schopni na množině přípustných řešení, která je množinou vektorů, definovat operátory $\\le$ a $\\lt$.\n",
        "\n",
        "Při aplikaci lexikografické metody seřadíme kritéria podle důležitosti a postupně je v iteračním procesu aplikujeme.\n",
        "\n",
        "Množinu přípustných řešení $M$ pomocí kritéria $f_1$ redukujeme na množinu optimálních řešení $O_1$. Následnou aplikací kritéria $f_2$ na množinu $O_1$ dostáváme množinu $O_2$. Postup opakujeme, až dostaneme pomocí posledního kritéria $f_n$ množinu $O_n$. V případě, kdy je tato množina jednoprvková, považujeme tento prvek za optimální řešení úlohy. V opačném případě můžeme vybrat jakýkoliv prvek množiny. [Zdroj](http://jana.kalcev.cz/vyuka/kestazeni/EKO422-Ordinalni.pdf)."
      ]
    },
    {
      "cell_type": "markdown",
      "metadata": {
        "id": "t4DUP-meVQif"
      },
      "source": [
        "# Hodnotová analýza"
      ]
    },
    {
      "cell_type": "markdown",
      "metadata": {
        "id": "2S-AOMlQvFCq"
      },
      "source": [
        "## Úvod"
      ]
    },
    {
      "cell_type": "markdown",
      "metadata": {
        "id": "_G0ii5W8vKDI"
      },
      "source": [
        "Definice hodnotové analýzy (podle **ČSN 010120** neplatné): Hodnotová analýza je účelově sestavený soubor systémově zaměřených metod analýzy a tvůrčího řešení problémů, který je charakterizován vyhodnocováním funkcí řešeného objektu a zjišťováním nákladů nutných k jejich zajištění, čímž vede k navrhování efektivnějších variant řešení.\n",
        "\n",
        "**Hodnotová analýza** je účelně sestavený **soubor vícekriteriálních metod** a pracovních postupů, vedoucích k  výběru rozhodnutí, optimálního podle zadaných kriterií.\n"
      ]
    },
    {
      "cell_type": "markdown",
      "metadata": {
        "id": "4j-YvNpiry6c"
      },
      "source": [
        "> **Povinné video**\n",
        "> \n",
        "> [Value analysis in a nutshell 3min](https://www.youtube.com/watch?v=dvdfxr0fMzs)\n",
        "\n",
        "> **Doporučené video**\n",
        ">\n",
        "> [Value Engineering 57min](https://www.youtube.com/watch?v=klsJN6wSbiY)"
      ]
    },
    {
      "cell_type": "markdown",
      "metadata": {
        "id": "itTs3GZMyJTN"
      },
      "source": [
        "## Matematický model"
      ]
    },
    {
      "cell_type": "markdown",
      "metadata": {
        "id": "BM5P_cMfiKrC"
      },
      "source": [
        "Zdroj https://www.youtube.com/watch?v=TT6tVH6cDMM\n",
        "\n",
        "Hodnotová analýza je metodou systematického přístupu ke zvyšování hodnoty produktů, procesů nebo projektů.\n",
        "\n",
        "Hodnotová analýza provádí:\n",
        "- analýzu funkcionality produktu\n",
        "- odhaduje cenu za jednotlivou funkcionalitu\n",
        "- porovnává vybranou funkcionalitu s konkurencí\n",
        "\n",
        "Hodnotová analýza odvozuje hodnotu produktu na základě jeho přínosu a ceny na pořízení. Nejjednodušší \"vzorec\" může být\n",
        "$$Hodnota=\\frac{Prinos}{Cena}$$"
      ]
    },
    {
      "cell_type": "markdown",
      "metadata": {
        "id": "HD_odedDwQ8E"
      },
      "source": [
        "[Lawrence D. Miles](https://en.wikipedia.org/wiki/Lawrence_D._Miles), autor hodnotové analýzy uvádí vzorec\n",
        "\n",
        "$$H_j=\\frac{\\sum_{i=1}^NF_{ij}}{\\sum_{i=1}^NN_{ij}}$$\n",
        "\n",
        "kde\n",
        "- $F_ij$ je stupeň plnění funkce ve variantě $j$\n",
        "- $N_ij$ jsou náklady na zabezpečení funkce \n",
        "- $H_j$ je varianta řešení\n",
        "\n",
        "Cílem hodnotové analýzy je nalézt \n",
        "$$H=\\max_{\\forall j}H_j$$\n"
      ]
    },
    {
      "cell_type": "markdown",
      "metadata": {
        "id": "TSP_-DeBjynD"
      },
      "source": [
        "Hodnotovou analýzu lze využít v případech:\n",
        "- potřeba identifikace možných zlepšení\n",
        "- snížení ceny / nákladů\n",
        "- určení pořadí možných vylepšení \n",
        "- určení reálné ceny jednotlivých subsystémů / prvků"
      ]
    },
    {
      "cell_type": "markdown",
      "metadata": {
        "id": "gLkiqOPkkcOn"
      },
      "source": [
        "Zdroj https://www.kip.zcu.cz/kursy/svt/svt_www/6_soubory/6_6_1.html\n",
        "\n",
        "Při posuzování systému jako celku a jeho prvků se popisuje, jakou funkcionalitu má (sloveso s podstatným jménem). Hledají se alternativy k zabezpečení stejné funkcionality. Vzájemným porovnáním **Přínosu** a **Ceny** se určí, u které varianty je dosaženo lepší **Hodnoty**.\n",
        "\n",
        "Pro vzájemné srovnání **Přínosu**, **Ceny** a **Hodnoty** (viz vzorec výše) je možné využít dalších metod (Fuzzy logické systémy).\n",
        "\n"
      ]
    },
    {
      "cell_type": "markdown",
      "metadata": {
        "id": "pPHYKXFayR2t"
      },
      "source": [
        "## Fuzzy hodnocení"
      ]
    },
    {
      "cell_type": "markdown",
      "metadata": {
        "id": "Kt-ynHyMoJ9I"
      },
      "source": [
        "Cena\n",
        "- <> **Velmi Nízká** (C_VN)\n",
        "- <> **Nízká** (C_N)\n",
        "- <> **Střední** (C_S)\n",
        "- <> **Vysoká** (C_V)\n",
        "- <> **Velmi vysoká** (C_VV)\n",
        "\n",
        "Přínos\n",
        "- <> **Zanedbatelný** (P_Z)\n",
        "- <> **Významný** (P_V)\n",
        "- <> **Velmi významný** (P_VV)\n",
        "\n",
        "Hodnota\n",
        "- <> **Velmi nízká** (H_VN)\n",
        "- <> **Nízká** (H_N)\n",
        "- <> **Střední** (H_S)\n",
        "- <> **Vysoká** (H_V)\n",
        "- <> **Velmi vysoká** (H_VV)"
      ]
    },
    {
      "cell_type": "markdown",
      "metadata": {
        "id": "GQMq1lv8oLhx"
      },
      "source": [
        "\n",
        "Pravidla\n",
        "- **if** (C_VV or C_V) **and** (P_Z) **then** H_VN\n",
        "- **if** (C_VV or C_V) **and** (P_V) **then** H_N\n",
        "- ...(doplňte)"
      ]
    },
    {
      "cell_type": "markdown",
      "metadata": {
        "id": "1kLAsPD2mza6"
      },
      "source": [
        "Zdroj http://www.unium.cz/materialy/vut/fast/zpracovane-otazky-m28953-p1.html\n",
        "\n"
      ]
    },
    {
      "cell_type": "markdown",
      "metadata": {
        "id": "gPIepaurVTEH"
      },
      "source": [
        "## Etapy metodického postupu"
      ]
    },
    {
      "cell_type": "markdown",
      "metadata": {
        "id": "qkEe1PAwya14"
      },
      "source": [
        "I. etapa: Výběr objektu HA\n",
        "\n",
        "II. etapa: Analýza funkcí objektu\n",
        "\n",
        "III. etapa: Analýza nákladů\n",
        "\n",
        "IV. etapa: Tvorba návrhů\n",
        "\n",
        "V. etapa: Hodnocení návrhů\n",
        "\n",
        "VI. etapa: Rozhodnutí o optimální variantě\n",
        "\n",
        "VII. etapa: Projekt optimální varianty a jeho schválení\n",
        "\n",
        "VIII. etapa: Realizační opatření\n"
      ]
    },
    {
      "cell_type": "markdown",
      "metadata": {
        "id": "OlMBHyFrzS4s"
      },
      "source": [
        "### I. etapa: Výběr objektu HA\n"
      ]
    },
    {
      "cell_type": "markdown",
      "metadata": {
        "id": "EGktZPFYz70b"
      },
      "source": [
        "Úvodní etapa má strategický a koncepční charakter, neboť výběr objektu rozhoduje o celkovém konečném efektu vynaloženého úsilí. \n",
        "        \n",
        "K tomu lze využít metody hodnotové analýzy:\n",
        "- Dotazníková metoda;\n",
        "- Strom významnosti;\n",
        "- Metoda ABC.\n"
      ]
    },
    {
      "cell_type": "markdown",
      "metadata": {
        "id": "bPp_llYVzTbl"
      },
      "source": [
        "### II. etapa: Analýza funkcí objektu\n"
      ]
    },
    {
      "cell_type": "markdown",
      "metadata": {
        "id": "0tSDMIYY0EJi"
      },
      "source": [
        "1) Inventarizace funkcí, \n",
        "\n",
        "2) Členění funkcí podle následujících hledisek:\n",
        "  - METODICKÝCH na \n",
        "      - uživatelské funkce,\n",
        "      - vnitřní funkce, \n",
        "  - HIERARCHICKÝCH na \n",
        "      - hlavní funkce, \n",
        "      - vedlejší funkce (pozitivní, negativní, neužitečné), \n",
        "  - VĚCNÝCH na \n",
        "      - primární funkce, \n",
        "      - sekundární funkce,\n",
        "  - ÚČELOVÝCH na \n",
        "      - dosavadní funkce, \n",
        "      - potřebné funkce, \n",
        "      - chybějící funkce,\n",
        "      - zbytečné funkce, \n",
        "\n",
        "3) Hodnocení funkcí \n",
        "\n",
        "Hodnocení funkcí má úkoly:\n",
        "\n",
        "a) Určit významnost každé funkce, tj. její „váhu“ v celkovém hodnocení;\n",
        "\n",
        "b) Stanovit úroveň plnění funkcí objektu metodami analýzy funkcí, kterými jsou:\n",
        "  - Metody zjišťování funkcí;\n",
        "  - Hierarchické členění funkcí;\n",
        "  - Metody vyhodnocování funkcí.\n",
        "\n"
      ]
    },
    {
      "cell_type": "markdown",
      "metadata": {
        "id": "bM3y934GzTwD"
      },
      "source": [
        "### III. etapa: Analýza nákladů\n"
      ]
    },
    {
      "cell_type": "markdown",
      "metadata": {
        "id": "SHsZYzdG1aCG"
      },
      "source": [
        "Cílem této etapy je odhalit takové funkce, na jejichž plnění se vynakládají neúměrně vysoké náklady. \n"
      ]
    },
    {
      "cell_type": "markdown",
      "metadata": {
        "id": "ctdBfGhnzUAM"
      },
      "source": [
        "### IV. etapa: Tvorba návrhů"
      ]
    },
    {
      "cell_type": "markdown",
      "metadata": {
        "id": "inP61Sb42pb9"
      },
      "source": [
        "Metody tvorby návrhů se používají:\n",
        "- Metody intuitivního tvůrčího myšlení;\n",
        "- Brainstorming;\n",
        "- Metody systematického tvůrčího myšlení;\n",
        "- Překonávání myšlenkových bariér.\n"
      ]
    },
    {
      "cell_type": "markdown",
      "metadata": {
        "id": "0k9rpk_szUSO"
      },
      "source": [
        "### V. etapa: Hodnocení návrhů\n"
      ]
    },
    {
      "cell_type": "markdown",
      "metadata": {
        "id": "Pwuy5OIUziNN"
      },
      "source": [
        "Metody hodnocení návrhů jsou především:\n",
        "- Bodovací metoda;\n",
        "- Metoda pořadí;\n",
        "- Metoda PATTERN.\n",
        "\n",
        "\n",
        "\n",
        "\n",
        "\n",
        "\n"
      ]
    },
    {
      "cell_type": "markdown",
      "metadata": {
        "id": "v6dG1ybpzifr"
      },
      "source": [
        "### VI. etapa: Rozhodnutí o optimální variantě"
      ]
    },
    {
      "cell_type": "markdown",
      "metadata": {
        "id": "eTO0n05j22XR"
      },
      "source": [
        "Zvolená optimální (nejvýhodnější) varianta nemusí být vždy technicky nebo ekonomicky nejefektivnější, neboť je třeba brát v úvahu výrobní možnosti, požadavky odběratelů, možnosti dodavatelů a další ovlivňující faktory.\n"
      ]
    },
    {
      "cell_type": "markdown",
      "metadata": {
        "id": "zWvxZJtjziyT"
      },
      "source": [
        "### VII. etapa: Projekt optimální varianty a jeho schválení"
      ]
    },
    {
      "cell_type": "markdown",
      "metadata": {
        "id": "ER7jNREa2-Ua"
      },
      "source": [
        "Nyní se detailně propracuje optimální návrh a technická dokumentace (konstrukční a technologická dokumentace) se zpřesněným hodnocením efektivnosti projektu se předloží k posouzení.\n"
      ]
    },
    {
      "cell_type": "markdown",
      "metadata": {
        "id": "QkVXgqKAz0FP"
      },
      "source": [
        "### VIII. etapa: Realizační opatření"
      ]
    },
    {
      "cell_type": "markdown",
      "metadata": {
        "id": "qrZYlkHL3HBo"
      },
      "source": [
        "Řešitelská fáze hodnotové analýzy se uzavírá plánem realizace vypracovaného projektu. "
      ]
    },
    {
      "cell_type": "markdown",
      "metadata": {
        "id": "ggfwj-zx6A3T"
      },
      "source": [
        "## TASCFORM"
      ]
    },
    {
      "cell_type": "markdown",
      "metadata": {
        "id": "vd3g0pit6DcF"
      },
      "source": [
        "**T**echnique for **As**sessing **C**omparative **F**orce **M**odernization\n",
        "\n",
        "General Accouting Office, Measuring Military Capability, 1986, https://www.gao.gov/assets/nsiad-86-72.pdf\n",
        "\n",
        "Výpočet v TASCFORM MODELU -ADA je prováděn v 5 krocích:\n",
        "\n",
        "1) ZBRAŇOVÝ POTENCIÁL (potenciál zbraně) WPr vyjadřuje na základě stanovených normovaných takticko-technických parametrů zbraňového systému a s použitím vhodných koeficientů charakterizujících význam jednotlivých parametrů v typických bojových situacích základní systém měřítek efektivnosti zbraně. \n",
        "\n",
        "Těmi jsou:\t\n",
        "  - hmotnost bojové nálože;\n",
        "  - dosah zbraně (dostřel);\n",
        "  - manévrovací schopnost střely;\n",
        "  - mobilnost systému.\n",
        "\n",
        "2) POTENCIÁL ZBRAŇOVÉHO SYSTÉMU WSPr  zohledňuje mimo vlastní základní TTCH ( WPr ) také vliv protivníka a prostředí na schopnost zbraně plnit úkol.\n",
        "\n",
        "3) SDRUŽENÝ POTENCIÁL ZBRAŇOVĚHO SYSTÉMU AWSPrt je třetím a posledním krokem  v hodnocení jednotlivého zbraňového systému, který mimo předešlé zahrnuje v hodnocení vliv relativního zastarávání a způsob taktického uspořádání odpalovacích zařízení a doplňování municí.\n",
        "\n",
        "4) POTENCIÁL SIL DFPrt je základní kritérium efektivnosti úrovně sil jednotek až uskupení.\n",
        "\n",
        "5) EKVIVALENTNÍ POTENCIÁL SIL EFPrt je kritérium efektivnosti, které sdružuje výše uvedené technologické faktory na úrovni jednotlivého systému a současně působení těžko postižitelných jevů na potenciál sil, kterými jsou směry rozvoje prostředků, logistika a lidský faktor.\n"
      ]
    },
    {
      "cell_type": "code",
      "metadata": {
        "id": "1pqwRfFelBZB"
      },
      "source": [
        ""
      ],
      "execution_count": null,
      "outputs": []
    }
  ]
}