{
  "nbformat": 4,
  "nbformat_minor": 0,
  "metadata": {
    "colab": {
      "name": "eventsimulator.ipynb",
      "provenance": [],
      "toc_visible": true,
      "authorship_tag": "ABX9TyM9xmWaDzQbbMCDii3P3KBC",
      "include_colab_link": true
    },
    "kernelspec": {
      "name": "python3",
      "display_name": "Python 3"
    }
  },
  "cells": [
    {
      "cell_type": "markdown",
      "metadata": {
        "id": "view-in-github",
        "colab_type": "text"
      },
      "source": [
        "<a href=\"https://colab.research.google.com/github/hrbolek/learning/blob/master/operanalyst/eventsimulator.ipynb\" target=\"_parent\"><img src=\"https://colab.research.google.com/assets/colab-badge.svg\" alt=\"Open In Colab\"/></a>"
      ]
    },
    {
      "cell_type": "markdown",
      "metadata": {
        "id": "OQKfjkvDvNL2",
        "colab_type": "text"
      },
      "source": [
        "## Událostní kalendář\n",
        "Třída pro událostní simulaci. Událostní simulace umožňuje spouštění událostí - akcí v časové souslednosti bez ohledu na souslednost plánování."
      ]
    },
    {
      "cell_type": "code",
      "metadata": {
        "id": "y9r9w88W25EG",
        "colab_type": "code",
        "colab": {}
      },
      "source": [
        "import scipy.integrate as integrate # for numerical solution od differential equations\n",
        "import matplotlib.pyplot as plt     # for plots\n",
        "import pandas as pd                 # for tables\n",
        "import numpy as np                  # for matrices\n",
        "\n",
        "plt.rcParams[\"figure.figsize\"] = (15,10)"
      ],
      "execution_count": 0,
      "outputs": []
    },
    {
      "cell_type": "code",
      "metadata": {
        "id": "AsjaCGvE3Uw8",
        "colab_type": "code",
        "colab": {}
      },
      "source": [
        "def displayData(data):\n",
        "  display(pd.DataFrame(data))\n",
        "\n",
        "def plotData(data, x = 0, y = 1, ax = None):\n",
        "  df = pd.DataFrame(data)\n",
        "  newax = None\n",
        "  if ax is None:\n",
        "    newax = df.plot.line(x = x, y = y)\n",
        "  else:\n",
        "    newax = df.plot.line(x = x, y = y, ax = ax)\n",
        "  return newax\n",
        "\n",
        "#=================#\n",
        "# example of use  #\n",
        "#=================#\n",
        "#data = [(0, 0), (1, 1), (2, 4), (3, 9), (4, 16), (5, 25), (6, 36), (7, 49)]\n",
        "data = [\n",
        "  {'x': 0, 'y': 0}, {'x': 1, 'y': 1}, {'x': 2, 'y': 4},\n",
        "  {'x': 3, 'y': 9}, {'x': 4, 'y': 16}, {'x': 5, 'y': 25},\n",
        "  {'x': 6, 'y': 36}, {'x': 7, 'y': 49}, {'x': 8, 'y': 64},\n",
        "]\n",
        "plotData(data)\n",
        "plt.grid(which='both')\n",
        "displayData(data)"
      ],
      "execution_count": 0,
      "outputs": []
    },
    {
      "cell_type": "code",
      "metadata": {
        "id": "9s7aZIIFvMmm",
        "colab_type": "code",
        "colab": {}
      },
      "source": [
        "class EventCalendar:\n",
        "  _queue = []\n",
        "  def __init__(self):\n",
        "    pass\n",
        "\n",
        "  #Metoda pro vykonání jednoho kroku simulace\n",
        "  def Step(self):\n",
        "    #setřídit frontu / list událostí podle položky time / čas\n",
        "    self._queue.sort(key = lambda item: item['time'])\n",
        "    \n",
        "    #z fronty odstraň nejstarší událost\n",
        "    currentEvent = self._queue.pop(0)\n",
        "\n",
        "    #vyvolej funkci, která je spojena s danou událostí\n",
        "    currentEvent['executor'](currentEvent, self, **currentEvent['kwargs'])\n",
        "    #vrať událost, která byla zpracována\n",
        "    return currentEvent\n",
        "\n",
        "  #Metoda pro získání informace o času nejstarší události, \n",
        "  #tj. události, která bude zpracována jako první\n",
        "  def PrepareNext(self):\n",
        "    #setřídit frontu / list událostí podle položky time / čas\n",
        "    self._queue.sort(key = lambda item: item['time'])\n",
        "    #vrať čas nejstarší události\n",
        "    return self._queue[0]['time']\n",
        "\n",
        "  #Vložení události do fronty událostí, \n",
        "  #futureTime - čas, kdy bude událost vyvolána\n",
        "  #f - funkce, která bude v čase události vykonána / volána\n",
        "  def AddEvent(self, futureTime, f, **kwargs):\n",
        "    self._queue.append({'time': futureTime, 'executor': f, 'kwargs': kwargs})\n",
        "    return self\n",
        "\n",
        "  def asIterator(self):\n",
        "    while len(self._queue) > 0:\n",
        "      yield self.Step()"
      ],
      "execution_count": 0,
      "outputs": []
    },
    {
      "cell_type": "code",
      "metadata": {
        "id": "gbPxeGOPvrFF",
        "colab_type": "code",
        "colab": {}
      },
      "source": [
        "def compute(model, state0, t0 = 0.0, t_bound = 10, max_step = 0.0625):\n",
        "  solver = integrate.RK45(fun = model, t0 = t0, y0 = state0, t_bound = t_bound, max_step = max_step)\n",
        "\n",
        "  while True:\n",
        "    message = solver.step()\n",
        "    currentItem = {'time': solver.t, 'y': [*solver.y], 'yd': [*model(solver.t, solver.y)]}\n",
        "\n",
        "    yield currentItem # send signal, inform about current result\n",
        "    if (not(solver.status == 'running')):\n",
        "        break\n",
        "  return\n",
        "\n",
        "#=================#\n",
        "# example of use  #\n",
        "#=================#\n",
        "def model2D(time, state):\n",
        "  velocity = state[:2]\n",
        "  position = state[2:]\n",
        "  acceleration = [0, -9.81]\n",
        "  return [*acceleration, *velocity]\n",
        "\n",
        "sim = compute(model2D, [10, 10, 0, 0])\n",
        "result = []\n",
        "for index, state in enumerate(sim):\n",
        "  result.append(state)\n",
        "  if index == 34: #magic number\n",
        "    break\n",
        "\n",
        "xy = list(map(lambda item: {'x': item['y'][2], 'y': item['y'][3]}, result))\n",
        "plotData(xy)\n",
        "plt.grid(which='both')"
      ],
      "execution_count": 0,
      "outputs": []
    },
    {
      "cell_type": "code",
      "metadata": {
        "id": "W9J6tkMJv57E",
        "colab_type": "code",
        "colab": {}
      },
      "source": [
        "fronta = []\n",
        "def doFronty(event, calendar):\n",
        "  fronta.append(len(fronta))\n",
        "  calendar.AddEvent(event['time'] + 1, doFronty)\n",
        "\n",
        "def zFronty(event, calendar):\n",
        "  if len(fronta) > 0:\n",
        "    fronta.pop()\n",
        "  calendar.AddEvent(event['time'] + 1, zFronty)\n",
        "\n",
        "def startSimulation(bindedCompute, calendar, hook):\n",
        "  solver = bindedCompute()\n",
        "  solution = next(solver)\n",
        "  hook(solution)\n",
        "  calendar.AddEvent(solution['time'], stepSimulation, solver = solver, solution = solution, hook = hook)\n",
        "\n",
        "def stepSimulation(event, calendar, solver, solution, hook):\n",
        "  solution = next(solver)\n",
        "  hook(solution)\n",
        "  calendar.AddEvent(solution['time'], stepSimulation, solver = solver, solution = solution, hook = hook)\n"
      ],
      "execution_count": 0,
      "outputs": []
    },
    {
      "cell_type": "code",
      "metadata": {
        "id": "m7oRwDer2M7W",
        "colab_type": "code",
        "colab": {}
      },
      "source": [
        "calendar = EventCalendar()\n",
        "bindedCompute = lambda : compute(model2D, [10, 10, 0, 0])\n",
        "results = []\n",
        "def hook(solution):\n",
        "  results.append({**solution, 'queueL': len(queue)})\n",
        "\n",
        "startSimulation(bindedCompute, calendar, hook)\n",
        "for index, event in enumerate(calendar.asIterator()):\n",
        "  print(index, event)\n",
        "  if index > 20:\n",
        "    break\n",
        "\n",
        "displayData(results)"
      ],
      "execution_count": 0,
      "outputs": []
    }
  ]
}