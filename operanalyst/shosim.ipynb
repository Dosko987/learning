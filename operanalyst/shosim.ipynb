{
  "nbformat": 4,
  "nbformat_minor": 0,
  "metadata": {
    "colab": {
      "name": "SHOSimulace.ipynb",
      "provenance": [],
      "toc_visible": true,
      "authorship_tag": "ABX9TyM22RzANXASfktgn5VdGSF0",
      "include_colab_link": true
    },
    "kernelspec": {
      "name": "python3",
      "display_name": "Python 3"
    },
    "widgets": {
      "application/vnd.jupyter.widget-state+json": {
        "44b1c3e0c9c64e23bde23d3399ebeb6b": {
          "model_module": "@jupyter-widgets/controls",
          "model_name": "VBoxModel",
          "state": {
            "_view_name": "VBoxView",
            "_dom_classes": [
              "widget-interact"
            ],
            "_model_name": "VBoxModel",
            "_view_module": "@jupyter-widgets/controls",
            "_model_module_version": "1.5.0",
            "_view_count": null,
            "_view_module_version": "1.5.0",
            "box_style": "",
            "layout": "IPY_MODEL_c074e3cf29ca4f95aa0ca3f27628d25e",
            "_model_module": "@jupyter-widgets/controls",
            "children": [
              "IPY_MODEL_54e34bae2d5b4c52a8309db57ba7c8f3",
              "IPY_MODEL_ea9bdf46a34842f7a7ef3968068b7365"
            ]
          }
        },
        "c074e3cf29ca4f95aa0ca3f27628d25e": {
          "model_module": "@jupyter-widgets/base",
          "model_name": "LayoutModel",
          "state": {
            "_view_name": "LayoutView",
            "grid_template_rows": null,
            "right": null,
            "justify_content": null,
            "_view_module": "@jupyter-widgets/base",
            "overflow": null,
            "_model_module_version": "1.2.0",
            "_view_count": null,
            "flex_flow": null,
            "width": null,
            "min_width": null,
            "border": null,
            "align_items": null,
            "bottom": null,
            "_model_module": "@jupyter-widgets/base",
            "top": null,
            "grid_column": null,
            "overflow_y": null,
            "overflow_x": null,
            "grid_auto_flow": null,
            "grid_area": null,
            "grid_template_columns": null,
            "flex": null,
            "_model_name": "LayoutModel",
            "justify_items": null,
            "grid_row": null,
            "max_height": null,
            "align_content": null,
            "visibility": null,
            "align_self": null,
            "height": null,
            "min_height": null,
            "padding": null,
            "grid_auto_rows": null,
            "grid_gap": null,
            "max_width": null,
            "order": null,
            "_view_module_version": "1.2.0",
            "grid_template_areas": null,
            "object_position": null,
            "object_fit": null,
            "grid_auto_columns": null,
            "margin": null,
            "display": null,
            "left": null
          }
        },
        "54e34bae2d5b4c52a8309db57ba7c8f3": {
          "model_module": "@jupyter-widgets/controls",
          "model_name": "FloatSliderModel",
          "state": {
            "_view_name": "FloatSliderView",
            "style": "IPY_MODEL_a4823c3207354dc69d806d43d705da31",
            "_dom_classes": [],
            "description": "lam",
            "step": 0.1,
            "_model_name": "FloatSliderModel",
            "orientation": "horizontal",
            "max": 2,
            "_view_module": "@jupyter-widgets/controls",
            "_model_module_version": "1.5.0",
            "value": 1,
            "_view_count": null,
            "disabled": false,
            "_view_module_version": "1.5.0",
            "min": 0.01,
            "continuous_update": true,
            "readout_format": ".2f",
            "description_tooltip": null,
            "readout": true,
            "_model_module": "@jupyter-widgets/controls",
            "layout": "IPY_MODEL_b7ebb5c895d248d4870973cdf4068043"
          }
        },
        "ea9bdf46a34842f7a7ef3968068b7365": {
          "model_module": "@jupyter-widgets/output",
          "model_name": "OutputModel",
          "state": {
            "_view_name": "OutputView",
            "msg_id": "",
            "_dom_classes": [],
            "_model_name": "OutputModel",
            "outputs": [
              {
                "output_type": "display_data",
                "metadata": {
                  "tags": [],
                  "needs_background": "light"
                },
                "image/png": "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\n",
                "text/plain": "<Figure size 1080x720 with 1 Axes>"
              }
            ],
            "_view_module": "@jupyter-widgets/output",
            "_model_module_version": "1.0.0",
            "_view_count": null,
            "_view_module_version": "1.0.0",
            "layout": "IPY_MODEL_32e9b4c0e82b41e38e09e56dd4d0a155",
            "_model_module": "@jupyter-widgets/output"
          }
        },
        "a4823c3207354dc69d806d43d705da31": {
          "model_module": "@jupyter-widgets/controls",
          "model_name": "SliderStyleModel",
          "state": {
            "_view_name": "StyleView",
            "handle_color": null,
            "_model_name": "SliderStyleModel",
            "description_width": "",
            "_view_module": "@jupyter-widgets/base",
            "_model_module_version": "1.5.0",
            "_view_count": null,
            "_view_module_version": "1.2.0",
            "_model_module": "@jupyter-widgets/controls"
          }
        },
        "b7ebb5c895d248d4870973cdf4068043": {
          "model_module": "@jupyter-widgets/base",
          "model_name": "LayoutModel",
          "state": {
            "_view_name": "LayoutView",
            "grid_template_rows": null,
            "right": null,
            "justify_content": null,
            "_view_module": "@jupyter-widgets/base",
            "overflow": null,
            "_model_module_version": "1.2.0",
            "_view_count": null,
            "flex_flow": null,
            "width": null,
            "min_width": null,
            "border": null,
            "align_items": null,
            "bottom": null,
            "_model_module": "@jupyter-widgets/base",
            "top": null,
            "grid_column": null,
            "overflow_y": null,
            "overflow_x": null,
            "grid_auto_flow": null,
            "grid_area": null,
            "grid_template_columns": null,
            "flex": null,
            "_model_name": "LayoutModel",
            "justify_items": null,
            "grid_row": null,
            "max_height": null,
            "align_content": null,
            "visibility": null,
            "align_self": null,
            "height": null,
            "min_height": null,
            "padding": null,
            "grid_auto_rows": null,
            "grid_gap": null,
            "max_width": null,
            "order": null,
            "_view_module_version": "1.2.0",
            "grid_template_areas": null,
            "object_position": null,
            "object_fit": null,
            "grid_auto_columns": null,
            "margin": null,
            "display": null,
            "left": null
          }
        },
        "32e9b4c0e82b41e38e09e56dd4d0a155": {
          "model_module": "@jupyter-widgets/base",
          "model_name": "LayoutModel",
          "state": {
            "_view_name": "LayoutView",
            "grid_template_rows": null,
            "right": null,
            "justify_content": null,
            "_view_module": "@jupyter-widgets/base",
            "overflow": null,
            "_model_module_version": "1.2.0",
            "_view_count": null,
            "flex_flow": null,
            "width": null,
            "min_width": null,
            "border": null,
            "align_items": null,
            "bottom": null,
            "_model_module": "@jupyter-widgets/base",
            "top": null,
            "grid_column": null,
            "overflow_y": null,
            "overflow_x": null,
            "grid_auto_flow": null,
            "grid_area": null,
            "grid_template_columns": null,
            "flex": null,
            "_model_name": "LayoutModel",
            "justify_items": null,
            "grid_row": null,
            "max_height": null,
            "align_content": null,
            "visibility": null,
            "align_self": null,
            "height": null,
            "min_height": null,
            "padding": null,
            "grid_auto_rows": null,
            "grid_gap": null,
            "max_width": null,
            "order": null,
            "_view_module_version": "1.2.0",
            "grid_template_areas": null,
            "object_position": null,
            "object_fit": null,
            "grid_auto_columns": null,
            "margin": null,
            "display": null,
            "left": null
          }
        },
        "dbd02ed220324aea95ba2f74eae2516a": {
          "model_module": "@jupyter-widgets/controls",
          "model_name": "VBoxModel",
          "state": {
            "_view_name": "VBoxView",
            "_dom_classes": [
              "widget-interact"
            ],
            "_model_name": "VBoxModel",
            "_view_module": "@jupyter-widgets/controls",
            "_model_module_version": "1.5.0",
            "_view_count": null,
            "_view_module_version": "1.5.0",
            "box_style": "",
            "layout": "IPY_MODEL_309c52f78fc249988a234c229abc0b00",
            "_model_module": "@jupyter-widgets/controls",
            "children": [
              "IPY_MODEL_eda5a8930a0445a2a908130bfb1fa417",
              "IPY_MODEL_75b18cd0611244e6acf50224cc0791d2",
              "IPY_MODEL_e0cc3408b73c4422b682ede9ff315886"
            ]
          }
        },
        "309c52f78fc249988a234c229abc0b00": {
          "model_module": "@jupyter-widgets/base",
          "model_name": "LayoutModel",
          "state": {
            "_view_name": "LayoutView",
            "grid_template_rows": null,
            "right": null,
            "justify_content": null,
            "_view_module": "@jupyter-widgets/base",
            "overflow": null,
            "_model_module_version": "1.2.0",
            "_view_count": null,
            "flex_flow": null,
            "width": null,
            "min_width": null,
            "border": null,
            "align_items": null,
            "bottom": null,
            "_model_module": "@jupyter-widgets/base",
            "top": null,
            "grid_column": null,
            "overflow_y": null,
            "overflow_x": null,
            "grid_auto_flow": null,
            "grid_area": null,
            "grid_template_columns": null,
            "flex": null,
            "_model_name": "LayoutModel",
            "justify_items": null,
            "grid_row": null,
            "max_height": null,
            "align_content": null,
            "visibility": null,
            "align_self": null,
            "height": null,
            "min_height": null,
            "padding": null,
            "grid_auto_rows": null,
            "grid_gap": null,
            "max_width": null,
            "order": null,
            "_view_module_version": "1.2.0",
            "grid_template_areas": null,
            "object_position": null,
            "object_fit": null,
            "grid_auto_columns": null,
            "margin": null,
            "display": null,
            "left": null
          }
        },
        "eda5a8930a0445a2a908130bfb1fa417": {
          "model_module": "@jupyter-widgets/controls",
          "model_name": "FloatSliderModel",
          "state": {
            "_view_name": "FloatSliderView",
            "style": "IPY_MODEL_490a6ba6a5954cd58d7fc96643dd79bc",
            "_dom_classes": [],
            "description": "intervalA",
            "step": 0.1,
            "_model_name": "FloatSliderModel",
            "orientation": "horizontal",
            "max": 2,
            "_view_module": "@jupyter-widgets/controls",
            "_model_module_version": "1.5.0",
            "value": 1,
            "_view_count": null,
            "disabled": false,
            "_view_module_version": "1.5.0",
            "min": 0.01,
            "continuous_update": true,
            "readout_format": ".2f",
            "description_tooltip": null,
            "readout": true,
            "_model_module": "@jupyter-widgets/controls",
            "layout": "IPY_MODEL_4edc3e5d49e8419fbf872cf7b18db136"
          }
        },
        "75b18cd0611244e6acf50224cc0791d2": {
          "model_module": "@jupyter-widgets/controls",
          "model_name": "FloatSliderModel",
          "state": {
            "_view_name": "FloatSliderView",
            "style": "IPY_MODEL_29bf1a776a2f4832b9cfb545881f89b1",
            "_dom_classes": [],
            "description": "intervalB",
            "step": 0.1,
            "_model_name": "FloatSliderModel",
            "orientation": "horizontal",
            "max": 2,
            "_view_module": "@jupyter-widgets/controls",
            "_model_module_version": "1.5.0",
            "value": 1,
            "_view_count": null,
            "disabled": false,
            "_view_module_version": "1.5.0",
            "min": 0.01,
            "continuous_update": true,
            "readout_format": ".2f",
            "description_tooltip": null,
            "readout": true,
            "_model_module": "@jupyter-widgets/controls",
            "layout": "IPY_MODEL_0ea90715679944bd9362c9f54c825d3f"
          }
        },
        "e0cc3408b73c4422b682ede9ff315886": {
          "model_module": "@jupyter-widgets/output",
          "model_name": "OutputModel",
          "state": {
            "_view_name": "OutputView",
            "msg_id": "",
            "_dom_classes": [],
            "_model_name": "OutputModel",
            "outputs": [
              {
                "output_type": "display_data",
                "metadata": {
                  "tags": [],
                  "needs_background": "light"
                },
                "image/png": "iVBORw0KGgoAAAANSUhEUgAAA2oAAAJdCAYAAABDI4SqAAAABHNCSVQICAgIfAhkiAAAAAlwSFlzAAALEgAACxIB0t1+/AAAADh0RVh0U29mdHdhcmUAbWF0cGxvdGxpYiB2ZXJzaW9uMy4yLjIsIGh0dHA6Ly9tYXRwbG90bGliLm9yZy+WH4yJAAAgAElEQVR4nO3dfZRkd13n8c/XBAQSIGJGHpIAUUMwy8GAI+BRcXzAk6AQH1hMFpC4SNQVD/gIKgdZVlxAF8VjfABhCSiEiKKDZg+ikOOiEhlgAgQcGGPYJBASHgLEACHw3T/qjlTanumamZr0r7tfr3PmdNWt2/f+bt2uTr9zb92q7g4AAADj+LL1HgAAAAC3JtQAAAAGI9QAAAAGI9QAAAAGI9QAAAAGI9QAAAAGI9QA2DSq6kVV9aGqesJ6jwUADodQA+CwVNV9q6qr6uh1HscpSU5IcmqSn1rPsaymqm6sqq9e73HMG3FMAMwINYANoKqurKrPVNWnq+qGqvqHqvrxqlr67/FRwusw1XoPYKXuPra7r1hk3un5/9rbckxV9fKq+tUjvU4AFiPUADaOR3X3nZPcJ8nzkjw9yUvXd0jrb19QdvcHknw4yfuT/M66DgoADpNQA9hguvuT3b0zyQ8leWJVPaCqHlpV11bVUfvmq6rvr6p3TbcfUlX/OB2N+3BV/U5V3X4/q/i76esN06lx31RVX1ZVz6yqD1bVdVX1iqq662rfXFU/OB0B/JaquqmqvnLusQdX1fVVdbtVvu8hVbWrqj5VVR+pqhfuZ/k7qurqqnp6VV2b5H9X1blV9Zbu/qnuvmd3X7DvqFRV3Wvajn3/bqqqnpZ1blW9pap+o6o+UVX/WlVnzq3rXlW1s6o+XlV7q+rJc4/d6gjUvnHt5zm91VGy6XvPr6q/mo6SXlpVXzM9tu/5v2wa7w9N07+3qnbPHVF94Nyyr6yqn6uqd1XVJ6vqNVV1h+mx16/Y/i9W1bnzY6qq85I8LskvTPO8fnr866rqkmmdl1fVo+fWeUlV/ejc/XOr6i37234ADo5QA9iguvufklyd5Fu7+9Ik/5bkO+Zm+S9JXjXd/kKSn05yfJJvSvKdSf7bfhb98OnrcdOpcf+Y5Nzp37cn+eokx2aVo1ZV9SNJnp/ku7r7LUkuSfLYuVmekOTC7v78Kut9UZIXdfddknxNkov2M74kuUeSu2V2dPG8A8yX7v7QtB3HdvexSV6X5MK5WR6aZE9mz80Lkry0qvadOnlhZs/xvZI8JsmvVdX8c3w4zk7y35N8RZK9SZ47jXff8//105hfU1UPSvKyJD+W5CuT/EGSnVX15XPLe2ySM5KcnOSBme2vdPej5rb9Pye5Nsnfzg+ku1+c5I+TvGCa91FTTL8+yV8n+arM3vf3x1V16pK2H4ADEGoAG9uHMguWJHl1knOSpKrunOSR07R099u7+63dfUt3X5nZH/rfdhDreVySF3b3Fd19Y5JfTHL2ivexPS3JzyfZ0d17p2kXJHn8NKajpvG9cj/r+HySr62q47v7xu5+6wHG88Ukv9Ldn+vuzyy6EVX19CT3T/Jf5yZ/sLtf0t1fmMZ7zyR3r6qTknxzkqd392e7e3eSP0zyw4uubw2v6+5/6u5bMouk0w8w73lJ/qC7L+3uL3T3BUk+l+Rhc/P89hSlH88ssG61vKq637R9j+3uqxYY38MyC/LndffN3f2mJH+Z6WcMgCNLqAFsbCck+fh0+1VJfmA6yvIDSd7R3R9MZn+kV9VfTqdHfirJr2V2BGlR90rywbn7H0xydJK7z037+STnd/f86X9/keS0qjo5ySOSfHI6EriaJyW5X5J/rqq3VdX3HmA813f3Zw9i/JlOaXxqku9bEXfX7rvR3TdNN4/NbJs/3t2fnpv3g5k958tw7dztm6Z17s99kvzsdAriDVV1Q5KTpjGuubzpNNW/SPLM6UjnIu6V5Kru/uLctGVuPwAHINQANqiq+sbM/mh+S5J093sz+0P6zNz6tMck+b0k/5zklOnUwl/K/q+M2KtM+1BmsbDPvZPckuQjc9O+O8kzq+oH/31Bs5i6KLOjak/I/o+mpbs/0N3nZHaa3fOTvLaqjllwjP+W5E777lTVPeYfnE7XO5ijScl0tHI6OrnPvZNcs9o6Mzsd80i5Kslzu/u4uX936u5Xr/WNNbsy6KuSvHk6xXF/Vj6nH0pyUt36yqLrtf0AW45QA9hgquou09GmC5P8UXe/e+7hV2V21OjhSf5kbvqdk3wqyY1Vdf8kP3GAVVyf2amF85+v9eokP11VJ1fVsZkdkXvNdNrePpdn9h6p8+cvOpHkFZm9X+rROUCoVdXjq2rbdATnhmnyF/c3/wqXJflPVXX6dBGNZ88t9y6ZHU365YM4mpQp6P4hyf+sqjtMF+94UpI/mmbZneSRVXW3KQyftuiyF/CR3Pr5f0mSH6/ZRWOqqo6pqu9ZEZH789wkx2T2c3Ew67w0syNzv1BVt6uqHUkelS+9v293Zkdw7zRdJOVJC4wFgAUJNYCN4/VV9enMjq78cpIXJvmRFfO8OrP3nr2puz86N/3nMjvK9unM/uh/zf5WMp3+99wkfz+dZvewzC5k8crMrgj5r0k+m1U+VLq7L0vyvUlesu/qid3995kF17+firkfZyS5vKpuzOzCImcv+v6z7n5/kuck+ZskH8h0lHHy4Mw+BPs3569+uMhyM3s/1n0zO7r0uszeF/c302OvzCwQr8zsghv7fU4PwbOTXDA9/4/t7l1JnpzZBVw+kdnFR85dcFnnZPZ+s0/Mbf/jVpnvpZmdpnpDVf15d9+cWZidmeSjSX43yQ939z9P8/9mkpszC7wLMnufHQBLUt2rneECAMtTVW9K8qru/sP1HgsAbARCDYAjanov3RuTnLTiwhwAwH6seepjVb2sZh9u+p79PF5V9ds1+yDQd1XVg5c/TAA2oqq6ILPTEZ8m0gBgcWseUauqhye5MckruvsBqzz+yMzep/DIzD409EXd/dAjMFYAAIAtYc0jat39d/nSZ/Ss5qzMIq6nDyc9rqruuawBAgAAbDVHL2EZJ2R2BbJ9rp6mfXjljFV1XpLzkuSYY475hvvf//5LWH2y52N7kiSnfuWph/f9+66PduqhLedg17fPmuPeM81/hMe1qMN9vo/0+g/m+V1zW/bsyZ47fSa50x0X3t6VyzySz9d+l32An5lbfc+h/mzdFj+Tq61j9+7Z19NPX/vb57bzUJ6nhYa4Yrm7r52N7/R7rD2+w13Xno/tSW76TE696Y5L3w97rpptx6knLX87brWej+3JZz7/mdzxdou/vr70zYe+71au90hu70Kv/yW/nhb5vbbM9R30+m+jcRyOQ/m9fdi/61d7PhZ4jhZd78GO75C2Z268S/85XDH/uvy39SC+d5+lvvZX/jdw+v49xy+wrkNZ3zo5Ivt24G1/+9vf/tHu3rbaY8sItYVNH7T54iTZvn1779q1aynL3fHyHUmSS8695PC+/+XThEsObTkHu7591hz3jmn+IzyuRR3u832k138wz++a27JjR3acvjs5/fSFt3flMo/k87XfZR/gZ+ZW33OoP1u3xc/kaus47rjZ1wV+d8xv56E8TwsNccVyj3vebHy7nrGc320HWteOl+9Idu/OJbtPX/p+2PG02XZc8lvL345breflO7L72t05/R6Lv76+9M07Zl8PYdtXrvdIbu9Cr/8lv54W+b22zPUd9Ppvo3EcjkP5vX3Yv+tXez4WeI4WXe/Bju+QtmduvEv/OVwx/7r8t/Ugvnefpb72V/43cPr+HecusK5DWd86OSL7duBtr6r9fmzNMj5H7ZokJ83dP3GaBgAAwCFYRqjtTPLD09UfH5bkk939H057BAAAYDFrnvpYVa9OsiPJ8VV1dZJfSXK7JOnu309ycWZXfNyb5KYkP3KkBgsAALAVrBlq3X3OGo93kp9c2ogAAAC2uGWc+ggAAMASCTUAAIDBCDUAAIDBCDUAAIDBCDUAAIDBCDUAAIDBCDUAAIDBCDUAAIDBCDUAAIDBCDUAAIDBCDUAAIDBCDUAAIDBCDUAAIDBCDUAAIDBCDUAAIDBCDUAAIDBCDUAAIDBCDUAAIDBCDUAAIDBCDUAAIDBCDUAAIDBCDUAAIDBCDUAAIDBCDUAAIDBCDUAAIDBCDUAAIDBCDUAAIDBCDUAAIDBCDUAAIDBCDUAAIDBCDUAAIDBCDUAAIDBCDUAAIDBCDUAAIDBCDUAAIDBCDUAAIDBCDUAAIDBCDUAAIDBCDUAAIDBCDUAAIDBCDUAAIDBCDUAAIDBCDUAAIDBCDUAAIDBCDUAAIDBCDUAAIDBCDUAAIDBCDUAAIDBCDUAAIDBCDUAAIDBCDUAAIDBCDUAAIDBCDUAAIDBCDUAAIDBCDUAAIDBCDUAAIDBCDUAAIDBCDUAAIDBCDUAAIDBCDUAAIDBCDUAAIDBCDUAAIDBCDUAAIDBCDUAAIDBCDUAAIDBCDUAAIDBCDUAAIDBCDUAAIDBCDUAAIDBCDUAAIDBCDUAAIDBCDUAAIDBCDUAAIDBCDUAAIDBCDUAAIDBCDUAAIDBCDUAAIDBCDUAAIDBCDUAAIDBCDUAAIDBCDUAAIDBCDUAAIDBCDUAAIDBCDUAAIDBCDUAAIDBCDUAAIDBCDUAAIDBCDUAAIDBCDUAAIDBCDUAAIDBCDUAAIDBCDUAAIDBCDUAAIDBCDUAAIDBCDUAAIDBCDUAAIDBCDUAAIDBCDUAAIDBCDUAAIDBCDUAAIDBLBRqVXVGVe2pqr1V9YxVHr93Vb25qt5ZVe+qqkcuf6gAAABbw5qhVlVHJTk/yZlJTktyTlWdtmK2Zya5qLsflOTsJL+77IECAABsFYscUXtIkr3dfUV335zkwiRnrZink9xlun3XJB9a3hABAAC2lkVC7YQkV83dv3qaNu/ZSR5fVVcnuTjJT622oKo6r6p2VdWu66+//hCGCwAAsPkt62Ii5yR5eXefmOSRSV5ZVf9h2d394u7e3t3bt23btqRVAwAAbC6LhNo1SU6au3/iNG3ek5JclCTd/Y9J7pDk+GUMEAAAYKtZJNTeluSUqjq5qm6f2cVCdq6Y5/8l+c4kqaqvyyzUnNsIAABwCNYMte6+JclTkrwhyfsyu7rj5VX1nKp69DTbzyZ5clVdluTVSc7t7j5SgwYAANjMjl5kpu6+OLOLhMxPe9bc7fcm+eblDg0AAGBrWtbFRAAAAFgSoQYAADAYoQYAADAYoQYAADAYoQYAADAYoQYAADAYoQYAADAYoQYAADAYoQYAADAYoQYAADAYoQYAADAYoQYAADAYoQYAADAYoQYAADAYoQYAADAYoQYAADAYoQYAADAYoQYAADAYoQYAADAYoQYAADAYoQYAADAYoQYAADAYoQYAADAYoQYAADAYoQYAADAYoQYAADAYoQYAADAYoQYAADAYoQYAADAYoQYAADAYoQYAADAYoQYAADAYoQYAADAYoQYAADAYoQYAADAYoQYAADAYoQYAADAYoQYAADAYoQYAADAYoQYAADAYoQYAADAYoQYAADAYoQYAADAYoQYAADAYoQYAADAYoQYAADAYoQYAADAYoQYAADAYoQYAADAYoQYAADAYoQYAADAYoQYAADAYoQYAADAYoQYAADAYoQYAADAYoQYAADAYoQYAADAYoQYAADAYoQYAADAYoQYAADAYoQYAADAYoQYAADAYoQYAADAYoQYAADAYoQYAADAYoQYAADAYoQYAADAYoQYAADAYoQYAADAYoQYAADAYoQYAADAYoQYAADAYoQYAADAYoQYAADAYoQYAADAYoQYAADAYoQYAADAYoQYAADAYoQYAADAYoQYAADAYoQYAADAYoQYAADAYoQYAADAYoQYAADAYoQYAADAYoQYAADAYoQYAADAYoQYAADAYoQYAADAYoQYAADAYoQYAADAYoQYAADAYoQYAADAYoQYAADAYoQYAADAYoQYAADAYoQYAADAYoQYAADAYoQYAADAYoQYAADCYhUKtqs6oqj1VtbeqnrGfeR5bVe+tqsur6lXLHSYAAMDWcfRaM1TVUUnOT/KIJFcneVtV7ezu987Nc0qSX0zyzd39iar6qiM1YAAAgM1ukSNqD0myt7uv6O6bk1yY5KwV8zw5yfnd/Ykk6e7rljtMAACArWORUDshyVVz96+eps27X5L7VdXfV9Vbq+qM1RZUVedV1a6q2nX99dcf2ogBAAA2uWVdTOToJKck2ZHknCQvqarjVs7U3S/u7u3dvX3btm1LWjUAAMDmskioXZPkpLn7J07T5l2dZGd3f767/zXJ+zMLNwAAAA7SIqH2tiSnVNXJVXX7JGcn2blinj/P7Ghaqur4zE6FvGKJ4wQAANgy1gy17r4lyVOSvCHJ+5Jc1N2XV9VzqurR02xvSPKxqnpvkjcn+fnu/tiRGjQAAMBmtubl+ZOkuy9OcvGKac+au91Jfmb6BwAAwGFY1sVEAAAAWBKhBgAAMBihBgAAMBihBgAAMBihBgAAMBihBgAAMBihBgAAMBihBgAAMBihBgAAMBihBgAAMBihBgAAMBihBgAAMBihBgAAMBihBgAAMBihBgAAMBihBgAAMBihBgAAMBihBgAAMBihBgAAMBihBgAAMBihBgAAMBihBgAAMBihBgAAMBihBgAAMBihBgAAMBihBgAAMBihBgAAMBihBgAAMBihBgAAMBihBgAAMBihBgAAMBihBgAAMBihBgAAMBihBgAAMBihBgAAMBihBgAAMBihBgAAMBihBgAAMBihBgAAMBihBgAAMBihBgAAMBihBgAAMBihBgAAMBihBgAAMBihBgAAMBihBgAAMBihBgAAMBihBgAAMBihBgAAMBihBgAAMBihBgAAMBihBgAAMBihBgAAMBihBgAAMBihBgAAMBihBgAAMBihBgAAMBihBgAAMBihBgAAMBihBgAAMBihBgAAMBihBgAAMBihBgAAMBihBgAAMBihBgAAMBihBgAAMBihBgAAMBihBgAAMBihBgAAMBihBgAAMBihBgAAMBihBgAAMBihBgAAMBihBgAAMBihBgAAMBihBgAAMBihBgAAMBihBgAAMBihBgAAMBihBgAAMBihBgAAMBihBgAAMBihBgAAMBihBgAAMBihBgAAMBihBgAAMBihBgAAMBihBgAAMBihBgAAMBihBgAAMBihBgAAMBihBgAAMBihBgAAMBihBgAAMBihBgAAMBihBgAAMBihBgAAMBihBgAAMBihBgAAMJiFQq2qzqiqPVW1t6qecYD5frCquqq2L2+IAAAAW8uaoVZVRyU5P8mZSU5Lck5VnbbKfHdO8tQkly57kAAAAFvJIkfUHpJkb3df0d03J7kwyVmrzPc/kjw/yWeXOD4AAIAtZ5FQOyHJVXP3r56m/buqenCSk7r7rw60oKo6r6p2VdWu66+//qAHCwAAsBUc9sVEqurLkrwwyc+uNW93v7i7t3f39m3bth3uqgEAADalRULtmiQnzd0/cZq2z52TPCDJJVV1ZZKHJdnpgiIAAACHZpFQe1uSU6rq5Kq6fZKzk+zc92B3f7K7j+/u+3b3fZO8Ncmju3vXERkxAADAJrdmqHX3LUmekuQNSd6X5KLuvryqnlNVjz7SAwQAANhqjl5kpu6+OMnFK6Y9az/z7jj8YQEAAGxdh30xEQAAAJZLqAEAAAxGqAEAAAxGqAEAAAxGqAEAAAxGqAEAAAxGqAEAAAxGqAEAAAxGqAEAAAxGqAEAAAxGqAEAAAxGqAEAAAxGqAEAAAxGqAEAAAxGqAEAAAxGqAEAAAxGqAEAAAxGqAEAAAxGqAEAAAxGqAEAAAxGqAEAAAxGqAEAAAxGqAEAAAxGqAEAAAxGqAEAAAxGqAEAAAxGqAEAAAxGqAEAAAxGqAEAAAxGqAEAAAxGqAEAAAxGqAEAAAxGqAEAAAxGqAEAAAxGqAEAAAxGqAEAAAxGqAEAAAxGqAEAAAxGqAEAAAxGqAEAAAxGqAEAAAxGqAEAAAxGqAEAAAxGqAEAAAxGqAEAAAxGqAEAAAxGqAEAAAxGqAEAAAxGqAEAAAxGqAEAAAxGqAEAAAxGqAEAAAxGqAEAAAxGqAEAAAxGqAEAAAxGqAEAAAxGqAEAAAxGqAEAAAxGqAEAAAxGqAEAAAxGqAEAAAxGqAEAAAxGqAEAAAxGqAEAAAxGqAEAAAxGqAEAAAxGqAEAAAxGqAEAAAxGqAEAAAxGqAEAAAxGqAEAAAxGqAEAAAxGqAEAAAxGqAEAAAxGqAEAAAxGqAEAAAxGqAEAAAxGqAEAAAxGqAEAAAxGqAEAAAxGqAEAAAxGqAEAAAxGqAEAAAxGqAEAAAxGqAEAAAxGqAEAAAxGqAEAAAxGqAEAAAxGqAEAAAxGqAEAAAxGqAEAAAxGqAEAAAxGqAEAAAxGqAEAAAxGqAEAAAxGqAEAAAxGqAEAAAxGqAEAAAxGqAEAAAxGqAEAAAxmoVCrqjOqak9V7a2qZ6zy+M9U1Xur6l1V9bdVdZ/lDxUAAGBrWDPUquqoJOcnOTPJaUnOqarTVsz2ziTbu/uBSV6b5AXLHigAAMBWscgRtYck2dvdV3T3zUkuTHLW/Azd/ebuvmm6+9YkJy53mAAAAFvHIqF2QpKr5u5fPU3bnycl+T+rPVBV51XVrqradf311y8+SgAAgC1kqRcTqarHJ9me5NdXe7y7X9zd27t7+7Zt25a5agAAgE3j6AXmuSbJSXP3T5ym3UpVfVeSX07ybd39ueUMDwAAYOtZ5Ija25KcUlUnV9Xtk5ydZOf8DFX1oCR/kOTR3X3d8ocJAACwdawZat19S5KnJHlDkvcluai7L6+q51TVo6fZfj3JsUn+pKp2V9XO/SwOAACANSxy6mO6++IkF6+Y9qy529+15HEBAABsWUu9mAgAAACHT6gBAAAMRqgBAAAMRqgBAAAMRqgBAAAMRqgBAAAMRqgBAAAMRqgBAAAMRqgBAAAMRqgBAAAMRqgBAAAMRqgBAAAMRqgBAAAMRqgBAAAMRqgBAAAMRqgBAAAMRqgBAAAMRqgBAAAMRqgBAAAMRqgBAAAMRqgBAAAMRqgBAAAMRqgBAAAMRqgBAAAMRqgBAAAMRqgBAAAMRqgBAAAMRqgBAAAMRqgBAAAMRqgBAAAMRqgBAAAMRqgBAAAMRqgBAAAMRqgBAAAMRqgBAAAMRqgBAAAMRqgBAAAMRqgBAAAMRqgBAAAMRqgBAAAMRqgBAAAMRqgBAAAMRqgBAAAMRqgBAAAMRqgBAAAMRqgBAAAMRqgBAAAMRqgBAAAMRqgBAAAMRqgBAAAMRqgBAAAMRqgBAAAMRqgBAAAMRqgBAAAMRqgBAAAMRqgBAAAMRqgBAAAMRqgBAAAMRqgBAAAMRqgBAAAMRqgBAAAMRqgBAAAMRqgBAAAMRqgBAAAMRqgBAAAMRqgBAAAMRqgBAAAMRqgBAAAMRqgBAAAMRqgBAAAMRqgBAAAMRqgBAAAMRqgBAAAMRqgBAAAMRqgBAAAMRqgBAAAMRqgBAAAMRqgBAAAMRqgBAAAMRqgBAAAMRqgBAAAMRqgBAAAMRqgBAAAMRqgBAAAMRqgBAAAMRqgBAAAMRqgBAAAMRqgBAAAMRqgBAAAMRqgBAAAMRqgBAAAMRqgBAAAMRqgBAAAMRqgBAAAMRqgBAAAMRqgBAAAMRqgBAAAMRqgBAAAMRqgBAAAMRqgBAAAMZqFQq6ozqmpPVe2tqmes8viXV9Vrpscvrar7LnugAAAAW8WaoVZVRyU5P8mZSU5Lck5VnbZiticl+UR3f22S30zy/GUPFAAAYKtY5IjaQ5Ls7e4ruvvmJBcmOWvFPGcluWC6/dok31lVtbxhAgAAbB3V3QeeoeoxSc7o7h+d7j8hyUO7+ylz87xnmufq6f6/TPN8dMWyzkty3nT31CR7lrQdxyf56JpzsZHZx5uffbw12M+bn328+dnHm599fNu5T3dvW+2Bo2/LUXT3i5O8eNnLrapd3b192ctlHPbx5mcfbw328+ZnH29+9vHmZx+PYZFTH69JctLc/ROnaavOU1VHJ7lrko8tY4AAAABbzSKh9rYkp1TVyVV1+yRnJ9m5Yp6dSZ443X5Mkjf1WudUAgAAsKo1T33s7luq6ilJ3pDkqCQv6+7Lq+o5SXZ1984kL03yyqram+TjmcXcbWnpp1MyHPt487OPtwb7efOzjzc/+3jzs48HsObFRAAAALhtLfSB1wAAANx2hBoAAMBgNnSoVdUZVbWnqvZW1TPWezwcGVV1ZVW9u6p2V9Wu9R4Ph6+qXlZV102fwbhv2t2q6o1V9YHp61es5xg5PPvZx8+uqmum1/Luqnrkeo6Rw1NVJ1XVm6vqvVV1eVU9dZrutbxJHGAfey1vIlV1h6r6p6q6bNrP/32afnJVXTr9nf2a6aKC3IY27HvUquqoJO9P8ogkV2d2dcpzuvu96zowlq6qrkyyfeUHqLNxVdXDk9yY5BXd/YBp2guSfLy7nzf9j5ev6O6nr+c4OXT72cfPTnJjd//Geo6N5aiqeya5Z3e/o6runOTtSb4vybnxWt4UDrCPHxuv5U2jqirJMd19Y1XdLslbkjw1yc8k+bPuvrCqfj/JZd39e+s51q1mIx9Re0iSvd19RXffnOTCJGet85iABXT332V2hdh5ZyW5YLp9QWZ/DLBB7Wcfs4l094e7+x3T7U8neV+SE+K1vGkcYB+zifTMjdPd203/Osl3JHntNN1reR1s5FA7IclVc/evjl8em1Un+euqentVnbfeg+GIuXt3f3i6fW2Su6/nYDhinlJV75pOjXRK3CZRVfdN8qAkl8ZreVNasY8Tr+VNpaqOqqrdSa5L8sYk/5Lkhu6+ZZrF39nrYCOHGlvHt3T3g5OcmeQnp1Oq2MR6dk72xjwvmwP5vSRfk+T0JB9O8r/WdzgsQ1Udm+RPkzytuz81/5jX8uawyj72Wt5kuvsL3X16khMzO2vt/us8JLKxQ+2aJCfN3T9xmsYm093XTF+vS/K6zH6BsPl8ZHo/xL73RVy3zuNhybr7I9MfA19M8pJ4LW940wFmtRcAAAL2SURBVPtZ/jTJH3f3n02TvZY3kdX2sdfy5tXdNyR5c5JvSnJcVR09PeTv7HWwkUPtbUlOma5Ic/skZyfZuc5jYsmq6pjpDcypqmOSfHeS9xz4u9igdiZ54nT7iUn+Yh3HwhGw74/3yffHa3lDmy5A8NIk7+vuF8495LW8SexvH3stby5Vta2qjptu3zGzC/W9L7Nge8w0m9fyOtiwV31MkulysL+V5KgkL+vu567zkFiyqvrqzI6iJcnRSV5lP298VfXqJDuSHJ/kI0l+JcmfJ7koyb2TfDDJY7vbxSg2qP3s4x2ZnSrVSa5M8mNz72Vig6mqb0nyf5O8O8kXp8m/lNl7mLyWN4ED7ONz4rW8aVTVAzO7WMhRmR3Euai7nzP9DXZhkrsleWeSx3f359ZvpFvPhg41AACAzWgjn/oIAACwKQk1AACAwQg1AACAwRy99iwAsHFV1SOSfGOS+yV5Zndfvc5DAoA1CTUANrXufmNVnZDkrSINgI3CVR8B2LSq6h6ZfYzLNya5IbOPCnhad79/XQcGAGtwRA2ATWn6sN7XJbmgu8+epn19krsnEWoADM3FRADYrL49yee7+/f3Tejuy5K8s6r+tqreUVXvrqqzkqSqjqmqv6qqy6rqPVX1Q+s1cABwRA2AzeoBSd6+yvTPJvn+7v5UVR2f5K1VtTPJGUk+1N3fkyRVddfbbqgAcGuOqAGw1VSSX6uqdyX5myQnZHY65LuTPKKqnl9V39rdn1zPQQKwtQk1ADary5N8wyrTH5dkW5Jv6O7TM7vAyB2mC4w8OLNg+9WqetZtNlIAWEGoAbBZvSnJl1fVefsmVNUDk9wnyXXd/fmq+vbpfqrqXklu6u4/SvLrmUUbAKwLl+cHYNOa4uu3Mjuy9tkkVyZ5dpLfTnJskl1JHpbkzCSnZhZoX0zy+SQ/0d27bvNBA0CEGgAAwHCc+ggAADAYoQYAADAYoQYAADAYoQYAADAYoQYAADAYoQYAADAYoQYAADCY/w8Wrvgo0rgoDAAAAABJRU5ErkJggg==\n",
                "text/plain": "<Figure size 1080x720 with 1 Axes>"
              }
            ],
            "_view_module": "@jupyter-widgets/output",
            "_model_module_version": "1.0.0",
            "_view_count": null,
            "_view_module_version": "1.0.0",
            "layout": "IPY_MODEL_54af1761f1544de7a3768d041b8e2304",
            "_model_module": "@jupyter-widgets/output"
          }
        },
        "490a6ba6a5954cd58d7fc96643dd79bc": {
          "model_module": "@jupyter-widgets/controls",
          "model_name": "SliderStyleModel",
          "state": {
            "_view_name": "StyleView",
            "handle_color": null,
            "_model_name": "SliderStyleModel",
            "description_width": "",
            "_view_module": "@jupyter-widgets/base",
            "_model_module_version": "1.5.0",
            "_view_count": null,
            "_view_module_version": "1.2.0",
            "_model_module": "@jupyter-widgets/controls"
          }
        },
        "4edc3e5d49e8419fbf872cf7b18db136": {
          "model_module": "@jupyter-widgets/base",
          "model_name": "LayoutModel",
          "state": {
            "_view_name": "LayoutView",
            "grid_template_rows": null,
            "right": null,
            "justify_content": null,
            "_view_module": "@jupyter-widgets/base",
            "overflow": null,
            "_model_module_version": "1.2.0",
            "_view_count": null,
            "flex_flow": null,
            "width": null,
            "min_width": null,
            "border": null,
            "align_items": null,
            "bottom": null,
            "_model_module": "@jupyter-widgets/base",
            "top": null,
            "grid_column": null,
            "overflow_y": null,
            "overflow_x": null,
            "grid_auto_flow": null,
            "grid_area": null,
            "grid_template_columns": null,
            "flex": null,
            "_model_name": "LayoutModel",
            "justify_items": null,
            "grid_row": null,
            "max_height": null,
            "align_content": null,
            "visibility": null,
            "align_self": null,
            "height": null,
            "min_height": null,
            "padding": null,
            "grid_auto_rows": null,
            "grid_gap": null,
            "max_width": null,
            "order": null,
            "_view_module_version": "1.2.0",
            "grid_template_areas": null,
            "object_position": null,
            "object_fit": null,
            "grid_auto_columns": null,
            "margin": null,
            "display": null,
            "left": null
          }
        },
        "29bf1a776a2f4832b9cfb545881f89b1": {
          "model_module": "@jupyter-widgets/controls",
          "model_name": "SliderStyleModel",
          "state": {
            "_view_name": "StyleView",
            "handle_color": null,
            "_model_name": "SliderStyleModel",
            "description_width": "",
            "_view_module": "@jupyter-widgets/base",
            "_model_module_version": "1.5.0",
            "_view_count": null,
            "_view_module_version": "1.2.0",
            "_model_module": "@jupyter-widgets/controls"
          }
        },
        "0ea90715679944bd9362c9f54c825d3f": {
          "model_module": "@jupyter-widgets/base",
          "model_name": "LayoutModel",
          "state": {
            "_view_name": "LayoutView",
            "grid_template_rows": null,
            "right": null,
            "justify_content": null,
            "_view_module": "@jupyter-widgets/base",
            "overflow": null,
            "_model_module_version": "1.2.0",
            "_view_count": null,
            "flex_flow": null,
            "width": null,
            "min_width": null,
            "border": null,
            "align_items": null,
            "bottom": null,
            "_model_module": "@jupyter-widgets/base",
            "top": null,
            "grid_column": null,
            "overflow_y": null,
            "overflow_x": null,
            "grid_auto_flow": null,
            "grid_area": null,
            "grid_template_columns": null,
            "flex": null,
            "_model_name": "LayoutModel",
            "justify_items": null,
            "grid_row": null,
            "max_height": null,
            "align_content": null,
            "visibility": null,
            "align_self": null,
            "height": null,
            "min_height": null,
            "padding": null,
            "grid_auto_rows": null,
            "grid_gap": null,
            "max_width": null,
            "order": null,
            "_view_module_version": "1.2.0",
            "grid_template_areas": null,
            "object_position": null,
            "object_fit": null,
            "grid_auto_columns": null,
            "margin": null,
            "display": null,
            "left": null
          }
        },
        "54af1761f1544de7a3768d041b8e2304": {
          "model_module": "@jupyter-widgets/base",
          "model_name": "LayoutModel",
          "state": {
            "_view_name": "LayoutView",
            "grid_template_rows": null,
            "right": null,
            "justify_content": null,
            "_view_module": "@jupyter-widgets/base",
            "overflow": null,
            "_model_module_version": "1.2.0",
            "_view_count": null,
            "flex_flow": null,
            "width": null,
            "min_width": null,
            "border": null,
            "align_items": null,
            "bottom": null,
            "_model_module": "@jupyter-widgets/base",
            "top": null,
            "grid_column": null,
            "overflow_y": null,
            "overflow_x": null,
            "grid_auto_flow": null,
            "grid_area": null,
            "grid_template_columns": null,
            "flex": null,
            "_model_name": "LayoutModel",
            "justify_items": null,
            "grid_row": null,
            "max_height": null,
            "align_content": null,
            "visibility": null,
            "align_self": null,
            "height": null,
            "min_height": null,
            "padding": null,
            "grid_auto_rows": null,
            "grid_gap": null,
            "max_width": null,
            "order": null,
            "_view_module_version": "1.2.0",
            "grid_template_areas": null,
            "object_position": null,
            "object_fit": null,
            "grid_auto_columns": null,
            "margin": null,
            "display": null,
            "left": null
          }
        },
        "0e7d94be145a4ba1bf3230de85674cb8": {
          "model_module": "@jupyter-widgets/controls",
          "model_name": "VBoxModel",
          "state": {
            "_view_name": "VBoxView",
            "_dom_classes": [
              "widget-interact"
            ],
            "_model_name": "VBoxModel",
            "_view_module": "@jupyter-widgets/controls",
            "_model_module_version": "1.5.0",
            "_view_count": null,
            "_view_module_version": "1.5.0",
            "box_style": "",
            "layout": "IPY_MODEL_db861806be8541a6afbcbc903a6945f3",
            "_model_module": "@jupyter-widgets/controls",
            "children": [
              "IPY_MODEL_cb2b163b435f4435bf5fa157c764be16",
              "IPY_MODEL_ce5ea87aa0d64c8a8bd86129c5236c76",
              "IPY_MODEL_ab2ddfc0e7174f6fae11192b8738ebb2"
            ]
          }
        },
        "db861806be8541a6afbcbc903a6945f3": {
          "model_module": "@jupyter-widgets/base",
          "model_name": "LayoutModel",
          "state": {
            "_view_name": "LayoutView",
            "grid_template_rows": null,
            "right": null,
            "justify_content": null,
            "_view_module": "@jupyter-widgets/base",
            "overflow": null,
            "_model_module_version": "1.2.0",
            "_view_count": null,
            "flex_flow": null,
            "width": null,
            "min_width": null,
            "border": null,
            "align_items": null,
            "bottom": null,
            "_model_module": "@jupyter-widgets/base",
            "top": null,
            "grid_column": null,
            "overflow_y": null,
            "overflow_x": null,
            "grid_auto_flow": null,
            "grid_area": null,
            "grid_template_columns": null,
            "flex": null,
            "_model_name": "LayoutModel",
            "justify_items": null,
            "grid_row": null,
            "max_height": null,
            "align_content": null,
            "visibility": null,
            "align_self": null,
            "height": null,
            "min_height": null,
            "padding": null,
            "grid_auto_rows": null,
            "grid_gap": null,
            "max_width": null,
            "order": null,
            "_view_module_version": "1.2.0",
            "grid_template_areas": null,
            "object_position": null,
            "object_fit": null,
            "grid_auto_columns": null,
            "margin": null,
            "display": null,
            "left": null
          }
        },
        "cb2b163b435f4435bf5fa157c764be16": {
          "model_module": "@jupyter-widgets/controls",
          "model_name": "FloatSliderModel",
          "state": {
            "_view_name": "FloatSliderView",
            "style": "IPY_MODEL_d87f1499d6a6457680a8f0df9fad42ae",
            "_dom_classes": [],
            "description": "λ",
            "step": 0.1,
            "_model_name": "FloatSliderModel",
            "orientation": "horizontal",
            "max": 5,
            "_view_module": "@jupyter-widgets/controls",
            "_model_module_version": "1.5.0",
            "value": 2,
            "_view_count": null,
            "disabled": false,
            "_view_module_version": "1.5.0",
            "min": 0.1,
            "continuous_update": true,
            "readout_format": ".2f",
            "description_tooltip": null,
            "readout": true,
            "_model_module": "@jupyter-widgets/controls",
            "layout": "IPY_MODEL_802dc068f3e84de48d28875fb8d85078"
          }
        },
        "ce5ea87aa0d64c8a8bd86129c5236c76": {
          "model_module": "@jupyter-widgets/controls",
          "model_name": "FloatSliderModel",
          "state": {
            "_view_name": "FloatSliderView",
            "style": "IPY_MODEL_a65d870e998c48bf995fe8fe5848cab4",
            "_dom_classes": [],
            "description": "μ",
            "step": 0.1,
            "_model_name": "FloatSliderModel",
            "orientation": "horizontal",
            "max": 5,
            "_view_module": "@jupyter-widgets/controls",
            "_model_module_version": "1.5.0",
            "value": 3.6,
            "_view_count": null,
            "disabled": false,
            "_view_module_version": "1.5.0",
            "min": 0.1,
            "continuous_update": true,
            "readout_format": ".2f",
            "description_tooltip": null,
            "readout": true,
            "_model_module": "@jupyter-widgets/controls",
            "layout": "IPY_MODEL_8c55af1d692e426eacaecd4faaa93025"
          }
        },
        "ab2ddfc0e7174f6fae11192b8738ebb2": {
          "model_module": "@jupyter-widgets/output",
          "model_name": "OutputModel",
          "state": {
            "_view_name": "OutputView",
            "msg_id": "",
            "_dom_classes": [],
            "_model_name": "OutputModel",
            "outputs": [
              {
                "output_type": "display_data",
                "metadata": {
                  "tags": [],
                  "needs_background": "light"
                },
                "image/png": "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\n",
                "text/plain": "<Figure size 1080x720 with 2 Axes>"
              }
            ],
            "_view_module": "@jupyter-widgets/output",
            "_model_module_version": "1.0.0",
            "_view_count": null,
            "_view_module_version": "1.0.0",
            "layout": "IPY_MODEL_cd707e47e1144fc181cfd9c6aba2e886",
            "_model_module": "@jupyter-widgets/output"
          }
        },
        "d87f1499d6a6457680a8f0df9fad42ae": {
          "model_module": "@jupyter-widgets/controls",
          "model_name": "SliderStyleModel",
          "state": {
            "_view_name": "StyleView",
            "handle_color": null,
            "_model_name": "SliderStyleModel",
            "description_width": "",
            "_view_module": "@jupyter-widgets/base",
            "_model_module_version": "1.5.0",
            "_view_count": null,
            "_view_module_version": "1.2.0",
            "_model_module": "@jupyter-widgets/controls"
          }
        },
        "802dc068f3e84de48d28875fb8d85078": {
          "model_module": "@jupyter-widgets/base",
          "model_name": "LayoutModel",
          "state": {
            "_view_name": "LayoutView",
            "grid_template_rows": null,
            "right": null,
            "justify_content": null,
            "_view_module": "@jupyter-widgets/base",
            "overflow": null,
            "_model_module_version": "1.2.0",
            "_view_count": null,
            "flex_flow": null,
            "width": null,
            "min_width": null,
            "border": null,
            "align_items": null,
            "bottom": null,
            "_model_module": "@jupyter-widgets/base",
            "top": null,
            "grid_column": null,
            "overflow_y": null,
            "overflow_x": null,
            "grid_auto_flow": null,
            "grid_area": null,
            "grid_template_columns": null,
            "flex": null,
            "_model_name": "LayoutModel",
            "justify_items": null,
            "grid_row": null,
            "max_height": null,
            "align_content": null,
            "visibility": null,
            "align_self": null,
            "height": null,
            "min_height": null,
            "padding": null,
            "grid_auto_rows": null,
            "grid_gap": null,
            "max_width": null,
            "order": null,
            "_view_module_version": "1.2.0",
            "grid_template_areas": null,
            "object_position": null,
            "object_fit": null,
            "grid_auto_columns": null,
            "margin": null,
            "display": null,
            "left": null
          }
        },
        "a65d870e998c48bf995fe8fe5848cab4": {
          "model_module": "@jupyter-widgets/controls",
          "model_name": "SliderStyleModel",
          "state": {
            "_view_name": "StyleView",
            "handle_color": null,
            "_model_name": "SliderStyleModel",
            "description_width": "",
            "_view_module": "@jupyter-widgets/base",
            "_model_module_version": "1.5.0",
            "_view_count": null,
            "_view_module_version": "1.2.0",
            "_model_module": "@jupyter-widgets/controls"
          }
        },
        "8c55af1d692e426eacaecd4faaa93025": {
          "model_module": "@jupyter-widgets/base",
          "model_name": "LayoutModel",
          "state": {
            "_view_name": "LayoutView",
            "grid_template_rows": null,
            "right": null,
            "justify_content": null,
            "_view_module": "@jupyter-widgets/base",
            "overflow": null,
            "_model_module_version": "1.2.0",
            "_view_count": null,
            "flex_flow": null,
            "width": null,
            "min_width": null,
            "border": null,
            "align_items": null,
            "bottom": null,
            "_model_module": "@jupyter-widgets/base",
            "top": null,
            "grid_column": null,
            "overflow_y": null,
            "overflow_x": null,
            "grid_auto_flow": null,
            "grid_area": null,
            "grid_template_columns": null,
            "flex": null,
            "_model_name": "LayoutModel",
            "justify_items": null,
            "grid_row": null,
            "max_height": null,
            "align_content": null,
            "visibility": null,
            "align_self": null,
            "height": null,
            "min_height": null,
            "padding": null,
            "grid_auto_rows": null,
            "grid_gap": null,
            "max_width": null,
            "order": null,
            "_view_module_version": "1.2.0",
            "grid_template_areas": null,
            "object_position": null,
            "object_fit": null,
            "grid_auto_columns": null,
            "margin": null,
            "display": null,
            "left": null
          }
        },
        "cd707e47e1144fc181cfd9c6aba2e886": {
          "model_module": "@jupyter-widgets/base",
          "model_name": "LayoutModel",
          "state": {
            "_view_name": "LayoutView",
            "grid_template_rows": null,
            "right": null,
            "justify_content": null,
            "_view_module": "@jupyter-widgets/base",
            "overflow": null,
            "_model_module_version": "1.2.0",
            "_view_count": null,
            "flex_flow": null,
            "width": null,
            "min_width": null,
            "border": null,
            "align_items": null,
            "bottom": null,
            "_model_module": "@jupyter-widgets/base",
            "top": null,
            "grid_column": null,
            "overflow_y": null,
            "overflow_x": null,
            "grid_auto_flow": null,
            "grid_area": null,
            "grid_template_columns": null,
            "flex": null,
            "_model_name": "LayoutModel",
            "justify_items": null,
            "grid_row": null,
            "max_height": null,
            "align_content": null,
            "visibility": null,
            "align_self": null,
            "height": null,
            "min_height": null,
            "padding": null,
            "grid_auto_rows": null,
            "grid_gap": null,
            "max_width": null,
            "order": null,
            "_view_module_version": "1.2.0",
            "grid_template_areas": null,
            "object_position": null,
            "object_fit": null,
            "grid_auto_columns": null,
            "margin": null,
            "display": null,
            "left": null
          }
        }
      }
    }
  },
  "cells": [
    {
      "cell_type": "markdown",
      "metadata": {
        "id": "view-in-github",
        "colab_type": "text"
      },
      "source": [
        "<a href=\"https://colab.research.google.com/github/hrbolek/learning/blob/master/operanalyst/shosim.ipynb\" target=\"_parent\"><img src=\"https://colab.research.google.com/assets/colab-badge.svg\" alt=\"Open In Colab\"/></a>"
      ]
    },
    {
      "cell_type": "markdown",
      "metadata": {
        "id": "s1ri0sOJPP1M"
      },
      "source": [
        "# Teorie hromadné obsluhy\n",
        "\n",
        "odkaz [Wiki](https://en.wikipedia.org/wiki/Queueing_theory)\n",
        "\n",
        "příbuzný problém [Markovovské procesy](https://cs.wikipedia.org/wiki/Markov%C5%AFv_%C5%99et%C4%9Bzec)\n",
        "\n",
        "Miroslav Horký, [Modely hromadné obsluhy](https://core.ac.uk/download/pdf/30309597.pdf), Diplomová práce, VUT Brno, 2015,  \n"
      ]
    },
    {
      "cell_type": "markdown",
      "metadata": {
        "id": "Xwvnm5uC2f5R"
      },
      "source": [
        "## Teorie"
      ]
    },
    {
      "cell_type": "markdown",
      "metadata": {
        "id": "_8XOIHPS3M8W"
      },
      "source": [
        "### Otázky k vyřešení"
      ]
    },
    {
      "cell_type": "markdown",
      "metadata": {
        "id": "bgDf3eSO3Sqi"
      },
      "source": [
        "- Jak dlouhá bude fronta?\n",
        "- Jak dlouho se ve frontě čeká?\n",
        "- Jaká je pravděpodobnost, že obsluha je volná / nepracuje?"
      ]
    },
    {
      "cell_type": "markdown",
      "metadata": {
        "id": "iS3Uqj4dHA4J"
      },
      "source": [
        "### Základní pojmy"
      ]
    },
    {
      "cell_type": "markdown",
      "metadata": {
        "id": "V3hAlsJPHDdm"
      },
      "source": [
        "- Požadavek, někdy také zákazník, je subjekt, který vyžaduje vyřízení \n",
        "- Obslužná linka je zařízení, případně osoba, či jejich množina, které zabezpečuje uspokojení požadavku.\n",
        "- Obsluha je činnost, která vede k uspokojení požadavku.\n",
        "- Vstupní proud je posloupnost přícházejících požadavků\n",
        "- Výstupní proud je posloupnost odccházejících požadavků\n",
        "- Neuspokojené požadavky jsou řazeny do fronty podle typu systému hromadné obsluhy\n",
        "  - FIFO - first in first out, \"klasická\" fronta, první přišel, první půjde\n",
        "  - LIFO - last in first out, \"zásobník\", poslední přišel, první půjde\n",
        "  - SIRO - service in random order, obsluha v náhodném pořadí\n",
        "  - PRI - priority, obsluha podle priorit"
      ]
    },
    {
      "cell_type": "markdown",
      "metadata": {
        "id": "n4pqlvA32h3E"
      },
      "source": [
        "### Rozdělení"
      ]
    },
    {
      "cell_type": "markdown",
      "metadata": {
        "id": "B5yaQW0b2kMd"
      },
      "source": [
        "Podle typu modelu\n",
        "- Markovovské modely, časové intervaly mají exponenciální rozdělení\n",
        "- Semimarkovovské modely, časové intervaly mají Erlangovo rozdělení\n",
        "- Ostatní, časové intervaly mají jiná rozdělení\n",
        "\n",
        "Podle počtu požadavků\n",
        "- systémy s omezeným množstvím požadavků\n",
        "- systémy s neomezeným množstvím požadavků\n",
        "\n",
        "Podle čekání na obsluhu\n",
        "- Systémy s čekáním. Požadavek, zákazník, letoun, apod. se zařadí do fronty a čeká na obsluhu.\n",
        "- Systémy s odmítnutím. Požadavek otestuje dostupnost obsluhy a jestliže není obsloužen, systém opouští (letoun).\n",
        "\n",
        "- Systémy s odchodem. Po určité době požadavek systém opouští, aniž by byl obsloužen."
      ]
    },
    {
      "cell_type": "markdown",
      "metadata": {
        "id": "GWFs2L7IPQQI"
      },
      "source": [
        "## Kendalova notace"
      ]
    },
    {
      "cell_type": "markdown",
      "metadata": {
        "id": "-kFQlrdzMSEj"
      },
      "source": [
        "Systém je popsán symboly $A/B/c$ nebo $A/B/c/d/e$"
      ]
    },
    {
      "cell_type": "markdown",
      "metadata": {
        "id": "xIZZ8NE1JkuR"
      },
      "source": [
        "### $A/B/c$"
      ]
    },
    {
      "cell_type": "markdown",
      "metadata": {
        "id": "ZkLu-J0IJ2Ub"
      },
      "source": [
        "$A$, $B$ představují hodnoty\n",
        "- $M$, pokud se jedná o exponenciální rozdělení dob\n",
        "- $E_k$, pokud se jedná o Erlangovo rozdělení dob, přičemž $k$ je parametrem\n",
        "- $D$, pokud doby jsou deterministické\n",
        "- $G$, pro ostatní rozdělení\n",
        "\n",
        "$c$ je počet linek obsluhy"
      ]
    },
    {
      "cell_type": "markdown",
      "metadata": {
        "id": "gLLnxjSCKbcF"
      },
      "source": [
        "### $A/B/c/d/e$\n",
        "\n",
        "$d$ je kapacita systému\n",
        "$e$ určuje frontový režim (FIFO, LIFO, ...)"
      ]
    },
    {
      "cell_type": "markdown",
      "metadata": {
        "id": "B9aW7cIEKuUf"
      },
      "source": [
        "### $M/M/1$"
      ]
    },
    {
      "cell_type": "markdown",
      "metadata": {
        "id": "zne3vCbpK-DK"
      },
      "source": [
        "Systémy M/M/1, M/M/n\n",
        "\n",
        "Pro systém M/M/1 platí rovnice o průměrné délce fronty\n",
        "\n",
        "$$L = \\frac{\\lambda}{n \\cdot \\mu}$$\n",
        "\n",
        "kde L je  průměrná délka fronty\n",
        "\n",
        "$\\lambda$ je intenzita toku požadavků\n",
        "\n",
        "$\\mu$ je intenzita obsluhy\n",
        "\n",
        "$\\sigma=\\frac{\\lambda}{\\mu}$ je intenzita provozu\n",
        "\n",
        "Pro stabilní systém je nutné, aby $\\sigma \\le 1$."
      ]
    },
    {
      "cell_type": "markdown",
      "metadata": {
        "id": "jKgaFMd2PdhU"
      },
      "source": [
        "## Simulace toku požadavků"
      ]
    },
    {
      "cell_type": "markdown",
      "metadata": {
        "id": "cT8rQFS6PiC-"
      },
      "source": [
        "### Poisonův tok"
      ]
    },
    {
      "cell_type": "markdown",
      "metadata": {
        "id": "c60mgWOsPokb"
      },
      "source": [
        "Poisonův tok je model např. příchodu zákazníků k přepážce, kde jsou obsluhováni. Pro modelování potřebujeme generovat posloupnost příchodů. Interval mezi jednotlivými příchody lze generovat podle následujícího vztahu\n",
        "\n",
        "$$r'=-\\frac{1}{\\lambda}ln(r)$$\n",
        "\n",
        "kde $r$ je náhodné číslo s rovnoměrným rozložením a $r'$ je náhodný interval mezi dvěma příchody.\n",
        "\n",
        "Stejným vztahem lze vypočítat náhodnou délku obsluhy (pro systémy M/M/1 nebo M/M/n)\n",
        "\n",
        "https://preshing.com/20111007/how-to-generate-random-timings-for-a-poisson-process/"
      ]
    },
    {
      "cell_type": "code",
      "metadata": {
        "id": "fSNsN8NVcx3I"
      },
      "source": [
        "import numpy as np\n",
        "from numpy.random import Generator, exponential\n",
        "\n",
        "import ipywidgets as widgets\n",
        "\n",
        "import matplotlib.pyplot as plt\n",
        "from pylab import rcParams\n",
        "rcParams['figure.figsize'] = 15, 10"
      ],
      "execution_count": 110,
      "outputs": []
    },
    {
      "cell_type": "code",
      "metadata": {
        "id": "yr5btoT4Pyni"
      },
      "source": [
        "from random import random\n",
        "from math import log as ln\n",
        "\n",
        "def rndEx(rnd, lam):\n",
        "  x = rnd()\n",
        "  result = (-1 / lam) * ln(x) #https://preshing.com/20111007/how-to-generate-random-timings-for-a-poisson-process/\n",
        "  return result"
      ],
      "execution_count": 111,
      "outputs": []
    },
    {
      "cell_type": "markdown",
      "metadata": {
        "id": "1e5k7NzNeMbW"
      },
      "source": [
        "### Graf četností"
      ]
    },
    {
      "cell_type": "markdown",
      "metadata": {
        "id": "bWb44NRfdwEu"
      },
      "source": [
        "Graf četností ukazuje rozložení generovaných náhodných veličin."
      ]
    },
    {
      "cell_type": "code",
      "metadata": {
        "id": "jk7yHHuCceEs",
        "outputId": "0a3bbdbc-deb6-417d-ef37-89e0ffae2026",
        "colab": {
          "base_uri": "https://localhost:8080/",
          "height": 656,
          "referenced_widgets": [
            "44b1c3e0c9c64e23bde23d3399ebeb6b",
            "c074e3cf29ca4f95aa0ca3f27628d25e",
            "54e34bae2d5b4c52a8309db57ba7c8f3",
            "ea9bdf46a34842f7a7ef3968068b7365",
            "a4823c3207354dc69d806d43d705da31",
            "b7ebb5c895d248d4870973cdf4068043",
            "32e9b4c0e82b41e38e09e56dd4d0a155"
          ]
        }
      },
      "source": [
        "def plotIt(lam = 0.5):\n",
        "  data = exponential(1 / lam, 1000)\n",
        "  plt.hist(data)\n",
        "  plt.grid('both')\n",
        "  plt.xlabel('Hodnota')\n",
        "  plt.ylabel('Četnost');\n",
        "  plt.xlim(0, 10)\n",
        "  plt.ylim(0, 550)\n",
        "\n",
        "widgets.interact(plotIt, lam=widgets.FloatSlider(1, min=0.01, max=2))"
      ],
      "execution_count": 112,
      "outputs": [
        {
          "output_type": "display_data",
          "data": {
            "application/vnd.jupyter.widget-view+json": {
              "model_id": "44b1c3e0c9c64e23bde23d3399ebeb6b",
              "version_minor": 0,
              "version_major": 2
            },
            "text/plain": [
              "interactive(children=(FloatSlider(value=1.0, description='lam', max=2.0, min=0.01), Output()), _dom_classes=('…"
            ]
          },
          "metadata": {
            "tags": []
          }
        },
        {
          "output_type": "execute_result",
          "data": {
            "text/plain": [
              "<function __main__.plotIt>"
            ]
          },
          "metadata": {
            "tags": []
          },
          "execution_count": 112
        }
      ]
    },
    {
      "cell_type": "markdown",
      "metadata": {
        "id": "5vCoNH48buFI"
      },
      "source": [
        "### Časová posloupnost / vznik požadavků"
      ]
    },
    {
      "cell_type": "markdown",
      "metadata": {
        "id": "m0ogmlfhd62N"
      },
      "source": [
        "Pokud kumulativně sčítáme generované hodnoty, dostáváme okamžiky příchodů. Níže je zobrazena časová synchronizace dvou různých zdrojů."
      ]
    },
    {
      "cell_type": "code",
      "metadata": {
        "id": "D_eG7uL0P5f4",
        "outputId": "f1914a36-4eb6-4482-d4f5-17f3e8458d56",
        "colab": {
          "base_uri": "https://localhost:8080/",
          "height": 622
        }
      },
      "source": [
        "def plotFlow(maxTime, lam, color):\n",
        "  currentTime = 0\n",
        "  while currentTime < maxTime:\n",
        "    currentTime = currentTime + rndEx(random, lam)\n",
        "    plt.axvline(x = currentTime, color =color)\n",
        "\n",
        "plotFlow(30, 0.5, color='red')    \n",
        "plotFlow(30, 1, color='green')    \n",
        "plt.title('Dva toky s různou intenzitou')\n",
        "plt.xlabel('Čas');"
      ],
      "execution_count": 113,
      "outputs": [
        {
          "output_type": "display_data",
          "data": {
            "image/png": "[encoded data removed]",
            "text/plain": [
              "<Figure size 1080x720 with 1 Axes>"
            ]
          },
          "metadata": {
            "tags": [],
            "needs_background": "light"
          }
        }
      ]
    },
    {
      "cell_type": "code",
      "metadata": {
        "id": "GBB1n3xTSLYu",
        "outputId": "1837694e-bca4-4865-b2fe-10fb1280a8a9",
        "colab": {
          "base_uri": "https://localhost:8080/",
          "height": 704,
          "referenced_widgets": [
            "dbd02ed220324aea95ba2f74eae2516a",
            "309c52f78fc249988a234c229abc0b00",
            "eda5a8930a0445a2a908130bfb1fa417",
            "75b18cd0611244e6acf50224cc0791d2",
            "e0cc3408b73c4422b682ede9ff315886",
            "490a6ba6a5954cd58d7fc96643dd79bc",
            "4edc3e5d49e8419fbf872cf7b18db136",
            "29bf1a776a2f4832b9cfb545881f89b1",
            "0ea90715679944bd9362c9f54c825d3f",
            "54af1761f1544de7a3768d041b8e2304"
          ]
        }
      },
      "source": [
        "def twoSequences(intervalA, intervalB):\n",
        "  plotFlow(30, intervalA, color='red')    \n",
        "  plotFlow(30, intervalB, color='green')    \n",
        "  plt.title('Dva toky s různou intenzitou')\n",
        "  plt.xlabel('Čas');\n",
        "\n",
        "widgets.interact(twoSequences, intervalA=widgets.FloatSlider(1, min=0.01, max=2), intervalB=widgets.FloatSlider(1, min=0.01, max=2))"
      ],
      "execution_count": 114,
      "outputs": [
        {
          "output_type": "display_data",
          "data": {
            "application/vnd.jupyter.widget-view+json": {
              "model_id": "dbd02ed220324aea95ba2f74eae2516a",
              "version_minor": 0,
              "version_major": 2
            },
            "text/plain": [
              "interactive(children=(FloatSlider(value=1.0, description='intervalA', max=2.0, min=0.01), FloatSlider(value=1.…"
            ]
          },
          "metadata": {
            "tags": []
          }
        },
        {
          "output_type": "execute_result",
          "data": {
            "text/plain": [
              "<function __main__.twoSequences>"
            ]
          },
          "metadata": {
            "tags": []
          },
          "execution_count": 114
        }
      ]
    },
    {
      "cell_type": "markdown",
      "metadata": {
        "id": "Vn4bBljWb_3I"
      },
      "source": [
        ""
      ]
    },
    {
      "cell_type": "code",
      "metadata": {
        "id": "NhyiZqoDcB79"
      },
      "source": [
        "def generateSequenceX(maxTime, lam):\n",
        "  result = []\n",
        "  currentTime = 0\n",
        "  while currentTime < maxTime:\n",
        "    currentTime = currentTime + rndEx(random, lam)\n",
        "    result.append(currentTime)\n",
        "  return result"
      ],
      "execution_count": 115,
      "outputs": []
    },
    {
      "cell_type": "markdown",
      "metadata": {
        "id": "TwSsPJ6y0Nb3"
      },
      "source": [
        "## Událostní kalendář pro událostní simulaci"
      ]
    },
    {
      "cell_type": "markdown",
      "metadata": {
        "id": "qnYy24QHesJM"
      },
      "source": [
        "Třída pro událostní simulaci. Událostní simulace umožňuje spouštění událostí - akcí v časové souslednosti bez ohledu na souslednost plánování. \n",
        "\n",
        "Akce jsou v tomto případě popsány funkcemi, které jsou v simulaci volány s předpřipravenými parametry. "
      ]
    },
    {
      "cell_type": "code",
      "metadata": {
        "id": "kNdFHrQuYr9P"
      },
      "source": [
        "class EventCalendar:\n",
        "  def __init__(self):\n",
        "    self._queue = []\n",
        "    pass\n",
        "\n",
        "  #Metoda pro vykonání jednoho kroku simulace\n",
        "  def Step(self):\n",
        "    #z fronty odstraň nejstarší událost\n",
        "    currentEvent = self._queue.pop(0)\n",
        "\n",
        "    #vyvolej funkci, která je spojena s danou událostí\n",
        "    func = currentEvent['executor']\n",
        "    time = currentEvent['time']\n",
        "    result = func(time, **currentEvent['kwargs'])\n",
        "    \n",
        "    currentEvent['result'] = result\n",
        "    #vrať událost, která byla zpracována\n",
        "    return currentEvent\n",
        "\n",
        "  #Metoda pro získání informace o času nejstarší události, \n",
        "  #tj. události, která bude zpracována jako první\n",
        "  def PrepareNext(self):\n",
        "    #vrať čas nejstarší události\n",
        "    return self._queue[0]['time']\n",
        "\n",
        "  #Vložení události do fronty událostí, \n",
        "  #futureTime - čas, kdy bude událost vyvolána\n",
        "  #f - funkce, která bude v čase události vykonána / volána\n",
        "  def AddEvent(self, futureTime, f, **kwargs):\n",
        "    self._queue.append({'time': futureTime, 'executor': f, 'kwargs': kwargs})\n",
        "    #setřídit frontu / list událostí podle položky time / čas\n",
        "    self._queue.sort(key = lambda item: item['time'])\n",
        "    return self\n",
        "\n",
        "  def __iter__(self):  # we can return self here, because __next__ is implemented\n",
        "      return self\n",
        "\n",
        "  def __next__(self):\n",
        "    return self.Step()\n"
      ],
      "execution_count": 116,
      "outputs": []
    },
    {
      "cell_type": "markdown",
      "metadata": {
        "id": "zoX54i_Bf3aX"
      },
      "source": [
        "### Použití událostní simulace"
      ]
    },
    {
      "cell_type": "markdown",
      "metadata": {
        "id": "A97_tVaFeupj"
      },
      "source": [
        "Níže je definována funkce ```eventPrinter```, která vytiskne informaci o stavu simulace a naplánuje další událost."
      ]
    },
    {
      "cell_type": "code",
      "metadata": {
        "id": "2adGO-SSf6hm"
      },
      "source": [
        "def eventPrinter(time, calendar, value):\n",
        "  print(f'At time\\t{time}\\tvalue is\\t{value}')\n",
        "  calendar.AddEvent(time + random(), eventPrinter, calendar = calendar, value = value + 1)"
      ],
      "execution_count": 117,
      "outputs": []
    },
    {
      "cell_type": "markdown",
      "metadata": {
        "id": "LtXk_CSlfRYx"
      },
      "source": [
        "Na základě třídy ```EventCalendar``` je v náhodných čase volána funkce ```eventPrinter```. Tato funkce vytiskne informaci o stavu simulace a naplánuje další událost."
      ]
    },
    {
      "cell_type": "code",
      "metadata": {
        "id": "_hHuJJqHfHOT",
        "outputId": "0181d97d-f3ad-44af-af56-da009efe8300",
        "colab": {
          "base_uri": "https://localhost:8080/"
        }
      },
      "source": [
        "calendar = EventCalendar()\n",
        "calendar.AddEvent(0, eventPrinter, calendar = calendar, value = 0)\n",
        "\n",
        "for event in calendar:\n",
        "  print(f\"> At {event['time']} I have served an event\")\n",
        "  if event['time'] > 3:\n",
        "    break"
      ],
      "execution_count": 118,
      "outputs": [
        {
          "output_type": "stream",
          "text": [
            "At time\t0\tvalue is\t0\n",
            "> At 0 I have served an event\n",
            "At time\t0.18556487626140827\tvalue is\t1\n",
            "> At 0.18556487626140827 I have served an event\n",
            "At time\t0.7330697483049031\tvalue is\t2\n",
            "> At 0.7330697483049031 I have served an event\n",
            "At time\t1.4386021865388947\tvalue is\t3\n",
            "> At 1.4386021865388947 I have served an event\n",
            "At time\t1.6744830445030088\tvalue is\t4\n",
            "> At 1.6744830445030088 I have served an event\n",
            "At time\t1.8560177932559148\tvalue is\t5\n",
            "> At 1.8560177932559148 I have served an event\n",
            "At time\t2.6514363058239048\tvalue is\t6\n",
            "> At 2.6514363058239048 I have served an event\n",
            "At time\t2.6771358632647444\tvalue is\t7\n",
            "> At 2.6771358632647444 I have served an event\n",
            "At time\t3.4942383133163863\tvalue is\t8\n",
            "> At 3.4942383133163863 I have served an event\n"
          ],
          "name": "stdout"
        }
      ]
    },
    {
      "cell_type": "markdown",
      "metadata": {
        "id": "SB-03vFkg_GY"
      },
      "source": [
        "## Simulace SHO M/M/1"
      ]
    },
    {
      "cell_type": "code",
      "metadata": {
        "id": "d91IS5KQha8m"
      },
      "source": [
        "λ = 1\n",
        "µ = 2"
      ],
      "execution_count": 119,
      "outputs": []
    },
    {
      "cell_type": "markdown",
      "metadata": {
        "id": "RTirtXE1hIcI"
      },
      "source": [
        "### Příchod požadavku"
      ]
    },
    {
      "cell_type": "markdown",
      "metadata": {
        "id": "F6ADNRCjgGPP"
      },
      "source": [
        "Ve chvíli, kdy požadavek vstupuje do systému, je tento zařazen do fronty, je naplánován příchod dalšího požadavku a je realizován pokus o zahájení obsluhy požadavku."
      ]
    },
    {
      "cell_type": "code",
      "metadata": {
        "id": "To6tYAD1hF9s"
      },
      "source": [
        "queue = []\n",
        "def customerArrived(time, calendar):\n",
        "\n",
        "  # zařazení požadavku do fronty\n",
        "  newCustomer = {'enterTime': time}\n",
        "  queue.append(newCustomer)\n",
        "\n",
        "  # naplánování dalšího příchodu\n",
        "  deltaTime = exponential(1 / λ, 1)[0] # čas \n",
        "  calendar.AddEvent(time + deltaTime, customerArrived, calendar=calendar)\n",
        "\n",
        "  # pokus o zahájení obsluhy\n",
        "  calendar.AddEvent(time, tryBeginService, calendar=calendar)"
      ],
      "execution_count": 120,
      "outputs": []
    },
    {
      "cell_type": "markdown",
      "metadata": {
        "id": "Khe5ZQvOh9ML"
      },
      "source": [
        "### Obsluha požadavku"
      ]
    },
    {
      "cell_type": "markdown",
      "metadata": {
        "id": "iufaxlJWg5UH"
      },
      "source": [
        "Pokus o zahájení obsluhy znamená, že pokud je systém obsluhy volný a fronta není prázdná, je zahájena obsluha. Součástí je také naplánování konce obsluhy."
      ]
    },
    {
      "cell_type": "code",
      "metadata": {
        "id": "NDHW9Zagh9Wc"
      },
      "source": [
        "servicePlace = {'inService': None}\n",
        "\n",
        "def tryBeginService(time, calendar):\n",
        "  if servicePlace['inService'] is None:\n",
        "    if len(queue) > 0:\n",
        "      customer = queue.pop()\n",
        "      timeOfEnd = exponential(1 / µ, 1)[0] #jeden čas\n",
        "      customer['beginService'] = time\n",
        "      customer['endService'] = time + timeOfEnd\n",
        "      servicePlace['inService'] = customer\n",
        "\n",
        "      # Naplánování konce obsluhy\n",
        "      calendar.AddEvent(time + timeOfEnd, endService, calendar=calendar)"
      ],
      "execution_count": 121,
      "outputs": []
    },
    {
      "cell_type": "markdown",
      "metadata": {
        "id": "FCD4f8XWhIZn"
      },
      "source": [
        "Konec obsluhy uvolní obsluhu a pokusí se o zahájení obsluhy."
      ]
    },
    {
      "cell_type": "code",
      "metadata": {
        "id": "RxGFHm8RhGLS"
      },
      "source": [
        "def endService(time, calendar):\n",
        "  finishedCustomer = servicePlace['inService']\n",
        "  servicePlace['inService'] = None\n",
        "  calendar.AddEvent(time, tryBeginService, calendar=calendar)\n",
        "  return finishedCustomer"
      ],
      "execution_count": 122,
      "outputs": []
    },
    {
      "cell_type": "markdown",
      "metadata": {
        "id": "wBUT5Edyk736"
      },
      "source": [
        "### Sběr statistických ukazatelů"
      ]
    },
    {
      "cell_type": "markdown",
      "metadata": {
        "id": "Vp-mHqUlhhfr"
      },
      "source": [
        "Nezbytnou součástí simulace je sběr statistických ukazatelů. Ty mohou být principiálně dvojího typu:\n",
        "- číslo (např. délka fronty)\n",
        "- logická hodnota (např. zda je obsluha volná)\n",
        "\n",
        "V případě logických hodnot se tyto převádí na hodnoty 0 a 1. Interpretace statistických ukazatelů je poté jako pravděpodobnost, že výrok spojený s logickou hodnotou je pravdivý. Např. pravděpodobnost, že obsluha je volná.\n",
        "\n",
        "Ke každému statistickému údaji potřebujeme dvě operace:\n",
        "- zápis (sběr ukazatele a kumulace hodnot)\n",
        "- čtení hodnoty ukazatele"
      ]
    },
    {
      "cell_type": "markdown",
      "metadata": {
        "id": "UUfbielxjugP"
      },
      "source": [
        "Pro výpočet hodnoty statistického ukazetele se využívá průměrné hodnoty funkce v daném časovém intervalu.\n",
        "\n",
        "$$\\overline f = \\frac{\\int_{t_a}^{t_b}f(t)dt}{t_b-t_a}$$\n",
        "\n",
        "diskrétní tvar této rovnice je\n",
        "\n",
        "$$\\overline f = \\frac{\\sum_{i=0}^n f(x) \\Delta t_i}{\\sum_{i=0}^n \\Delta t_i}$$\n",
        "\n",
        "dá se tedy tvrdit, že\n",
        "\n",
        "$$ f_i^* = f_{i-1}^* + f(t) \\Delta t_i$$\n",
        "\n",
        "spolu s \n",
        "\n",
        "$$t_i^* = t_{i-1}^* + \\Delta t_i$$\n",
        "\n",
        "umožňuje spočítat\n",
        "\n",
        "$$\\overline f = \\frac{f_i^*}{t_i^*}$$\n",
        "\n",
        "\n"
      ]
    },
    {
      "cell_type": "markdown",
      "metadata": {
        "id": "IMwIrnmOjvK8"
      },
      "source": [
        "Při simulaci je nezbytné si uvědomit:\n",
        "- libovolný ukazatel se může změnit v libovolném kroku simulace a tedy je nutné v každém kroku simulace sledovat všechny statistické ukazatele\n",
        "- je nutné si před následujícím krokem simulace (neboli na konci kroku simulace) uložit hodnotu parametru $f(t)$ a po realizaci kroku o délce $\\Delta t_i$ kumulovat součin do pomocné proměnné $f_i^* = f_{i-1}^* +f(t) \\Delta t_i$."
      ]
    },
    {
      "cell_type": "markdown",
      "metadata": {
        "id": "BTIsF2CklZaz"
      },
      "source": [
        "#### Délka fronty"
      ]
    },
    {
      "cell_type": "code",
      "metadata": {
        "id": "wvh4oHzSlh7M"
      },
      "source": [
        "queueStatistic = {'cumulativeValue': 0, 'value': 0, 'time': 0}\n",
        "def checkQueueLength(time):\n",
        "  deltaTime = time - queueStatistic['time']\n",
        "  queueStatistic['time'] = time\n",
        "  queueStatistic['cumulativeValue'] += deltaTime * queueStatistic['value']\n",
        "  queueStatistic['value'] = len(queue) \n",
        "\n",
        "def getAvgLength():\n",
        "  if queueStatistic['time'] > 0:\n",
        "    return queueStatistic['cumulativeValue'] / queueStatistic['time']\n",
        "  else:\n",
        "    return 0"
      ],
      "execution_count": 123,
      "outputs": []
    },
    {
      "cell_type": "markdown",
      "metadata": {
        "id": "phwmFfgKlbpf"
      },
      "source": [
        "#### Obsluha je volná"
      ]
    },
    {
      "cell_type": "code",
      "metadata": {
        "id": "_04n8kmGlJ4Z"
      },
      "source": [
        "serviceFull = {'cumulativeValue': 0, 'value': 0, 'time': 0}\n",
        "def checkServiceFull(time):\n",
        "  deltaTime = time - serviceFull['time']\n",
        "  serviceFull['time'] = time\n",
        "  serviceFull['cumulativeValue'] += deltaTime * serviceFull['value']\n",
        "  serviceFull['value'] = 0\n",
        "  if servicePlace['inService'] is None:\n",
        "    serviceFull['value'] = 1\n",
        "\n",
        "def getServiceAvailableProbability():\n",
        "  if serviceFull['time'] > 0:  \n",
        "    return serviceFull['cumulativeValue'] / serviceFull['time']    \n",
        "  else:\n",
        "    return 0"
      ],
      "execution_count": 124,
      "outputs": []
    },
    {
      "cell_type": "markdown",
      "metadata": {
        "id": "Ov8_4diQzptY"
      },
      "source": [
        "#### Obecný tvar pro libovolnou statistiku"
      ]
    },
    {
      "cell_type": "markdown",
      "metadata": {
        "id": "nYtFZmSyid8O"
      },
      "source": [
        "Jak bylo výše uvedeno, ke každému statistickému údaji potřebujeme dvě operace:\n",
        "- zápis (sběr ukazatele a kumulace hodnot)\n",
        "- čtení hodnoty ukazatele\n",
        "\n",
        "Níže je uvedena obecná implementace, která tuto potřebu uspokojí. Funkce ```createStatistic``` vrací dvě funkce, které slouží ke sběru údajů a k výpočtu průměrné hodnoty. Parametr ```valueGetter``` je funkce, která vrací aktuální hodnotu sledovaného ukazatele."
      ]
    },
    {
      "cell_type": "code",
      "metadata": {
        "id": "qKhTYDrwzp_Y"
      },
      "source": [
        "def createStatistic(valueGetter):\n",
        "  data = {'cumulativeValue': 0, 'value': 0, 'time': 0}\n",
        "  def collectData(time):\n",
        "    deltaTime = time - data['time']\n",
        "    data['time'] = time\n",
        "    data['cumulativeValue'] += deltaTime * data['value']\n",
        "    data['value'] = valueGetter()\n",
        "\n",
        "  def getValue():\n",
        "    if data['time'] > 0:  \n",
        "      return data['cumulativeValue'] / data['time']    \n",
        "    else:\n",
        "      return 0  \n",
        "  return collectData, getValue"
      ],
      "execution_count": 125,
      "outputs": []
    },
    {
      "cell_type": "markdown",
      "metadata": {
        "id": "oXDG8Z7XjldF"
      },
      "source": [
        "Jako příklad lze uvést statistiku, která sleduje, zda délka fronty je větší než 5."
      ]
    },
    {
      "cell_type": "code",
      "metadata": {
        "id": "2L79FRN11SSf"
      },
      "source": [
        "def decideIfLengthGT5():\n",
        "  if len(queue) > 5:\n",
        "    return 1\n",
        "  else:\n",
        "    return 0\n",
        "\n",
        "updateLengthGT5, getLengthGT5 = createStatistic(decideIfLengthGT5)"
      ],
      "execution_count": 126,
      "outputs": []
    },
    {
      "cell_type": "markdown",
      "metadata": {
        "id": "zYQH66G1kbjs"
      },
      "source": [
        "### Běh simulace"
      ]
    },
    {
      "cell_type": "code",
      "metadata": {
        "id": "EC88MN-4hqu3"
      },
      "source": [
        "calendar = EventCalendar()\n",
        "\n",
        "times = []\n",
        "lengths = []\n",
        "probability = []\n",
        "\n",
        "calendar.AddEvent(0, customerArrived, calendar=calendar)\n",
        "for event in calendar:\n",
        "  #print(event)\n",
        "  currentTime = event['time']\n",
        "  checkQueueLength(currentTime)\n",
        "  checkServiceFull(currentTime)\n",
        "\n",
        "  times.append(currentTime)\n",
        "  lengths.append(getAvgLength())\n",
        "  probability.append(getServiceAvailableProbability())\n",
        "\n",
        "  finishedCustomer = event['result']\n",
        "  if not finishedCustomer is None:\n",
        "    pass\n",
        "  if event['time'] > 10000:\n",
        "    break"
      ],
      "execution_count": 127,
      "outputs": []
    },
    {
      "cell_type": "markdown",
      "metadata": {
        "id": "Vm40leS6oVhC"
      },
      "source": [
        "### Výsledek simulace"
      ]
    },
    {
      "cell_type": "markdown",
      "metadata": {
        "id": "KkwfODg6y-Uo"
      },
      "source": [
        "#### Textový výstup"
      ]
    },
    {
      "cell_type": "code",
      "metadata": {
        "id": "vz8DMETFy-kN",
        "outputId": "fcfee2b9-da58-4130-db04-6d814070db40",
        "colab": {
          "base_uri": "https://localhost:8080/"
        }
      },
      "source": [
        "print(f'Průměrná délka fronty je {getAvgLength()}')\n",
        "print(f'Pravděpodobnost, že obsluha bude volná {getServiceAvailableProbability()}')"
      ],
      "execution_count": 128,
      "outputs": [
        {
          "output_type": "stream",
          "text": [
            "Průměrná délka fronty je 0.4741722924802652\n",
            "Pravděpodobnost, že obsluha bude volná 0.5030610794942854\n"
          ],
          "name": "stdout"
        }
      ]
    },
    {
      "cell_type": "markdown",
      "metadata": {
        "id": "zYlbDZisyeXc"
      },
      "source": [
        "#### Délka fronty"
      ]
    },
    {
      "cell_type": "code",
      "metadata": {
        "id": "6mRJpF60oZfR",
        "outputId": "bc8d17d2-282c-4af1-eeb8-0f8d5e62c755",
        "colab": {
          "base_uri": "https://localhost:8080/",
          "height": 592
        }
      },
      "source": [
        "plt.plot(times, lengths)\n",
        "plt.grid()"
      ],
      "execution_count": 129,
      "outputs": [
        {
          "output_type": "display_data",
          "data": {
            "image/png": "[encoded data removed]",
            "text/plain": [
              "<Figure size 1080x720 with 1 Axes>"
            ]
          },
          "metadata": {
            "tags": [],
            "needs_background": "light"
          }
        }
      ]
    },
    {
      "cell_type": "markdown",
      "metadata": {
        "id": "9xm_nEmkyfZw"
      },
      "source": [
        "#### Pravděpodobnost, že obsluha je volná"
      ]
    },
    {
      "cell_type": "code",
      "metadata": {
        "id": "949uS9j6yft9",
        "outputId": "fdc02f73-756b-4aa0-fdeb-6ea2d29480a3",
        "colab": {
          "base_uri": "https://localhost:8080/",
          "height": 592
        }
      },
      "source": [
        "plt.plot(times, probability)\n",
        "plt.grid()"
      ],
      "execution_count": 130,
      "outputs": [
        {
          "output_type": "display_data",
          "data": {
            "image/png": "[encoded data removed]",
            "text/plain": [
              "<Figure size 1080x720 with 1 Axes>"
            ]
          },
          "metadata": {
            "tags": [],
            "needs_background": "light"
          }
        }
      ]
    },
    {
      "cell_type": "markdown",
      "metadata": {
        "id": "HlM4zhqLVWsg"
      },
      "source": [
        "### Interaktivní simulace"
      ]
    },
    {
      "cell_type": "markdown",
      "metadata": {
        "id": "NpzOAYtFYVQf"
      },
      "source": [
        ""
      ]
    },
    {
      "cell_type": "code",
      "metadata": {
        "id": "LB8u_uq5YVqq"
      },
      "source": [
        ""
      ],
      "execution_count": 130,
      "outputs": []
    },
    {
      "cell_type": "code",
      "metadata": {
        "id": "vsuCsNgsVbvP",
        "outputId": "7547f499-d2d1-4e26-a4cd-40fb1b8d628f",
        "colab": {
          "base_uri": "https://localhost:8080/",
          "height": 793,
          "referenced_widgets": [
            "0e7d94be145a4ba1bf3230de85674cb8",
            "db861806be8541a6afbcbc903a6945f3",
            "cb2b163b435f4435bf5fa157c764be16",
            "ce5ea87aa0d64c8a8bd86129c5236c76",
            "ab2ddfc0e7174f6fae11192b8738ebb2",
            "d87f1499d6a6457680a8f0df9fad42ae",
            "802dc068f3e84de48d28875fb8d85078",
            "a65d870e998c48bf995fe8fe5848cab4",
            "8c55af1d692e426eacaecd4faaa93025",
            "cd707e47e1144fc181cfd9c6aba2e886"
          ]
        }
      },
      "source": [
        "def simIt(λ = 1, µ = 2):\n",
        "  def customerArrived(time, calendar):\n",
        "\n",
        "    # zařazení požadavku do fronty\n",
        "    newCustomer = {'enterTime': time}\n",
        "    queue.append(newCustomer)\n",
        "\n",
        "    # naplánování dalšího příchodu\n",
        "    deltaTime = exponential(1 / λ, 1)[0] # čas \n",
        "    calendar.AddEvent(time + deltaTime, customerArrived, calendar=calendar)\n",
        "\n",
        "    # pokus o zahájení obsluhy\n",
        "    calendar.AddEvent(time, tryBeginService, calendar=calendar)\n",
        "\n",
        "  servicePlace = {'inService': None}\n",
        "\n",
        "  def tryBeginService(time, calendar):\n",
        "    if servicePlace['inService'] is None:\n",
        "      if len(queue) > 0:\n",
        "        customer = queue.pop()\n",
        "        timeOfEnd = exponential(1 / µ, 1)[0] #jeden čas\n",
        "        customer['beginService'] = time\n",
        "        customer['endService'] = time + timeOfEnd\n",
        "        servicePlace['inService'] = customer\n",
        "\n",
        "        # Naplánování konce obsluhy\n",
        "        calendar.AddEvent(time + timeOfEnd, endService, calendar=calendar)\n",
        "\n",
        "  def endService(time, calendar):\n",
        "    finishedCustomer = servicePlace['inService']\n",
        "    servicePlace['inService'] = None\n",
        "    calendar.AddEvent(time, tryBeginService, calendar=calendar)\n",
        "    return finishedCustomer\n",
        "    \n",
        "\n",
        "  calendar = EventCalendar()\n",
        "\n",
        "  times = []\n",
        "  lengths = []\n",
        "  probability = []\n",
        "\n",
        "  calendar.AddEvent(0, customerArrived, calendar=calendar)\n",
        "  for event in calendar:\n",
        "    #print(event)\n",
        "    currentTime = event['time']\n",
        "    checkQueueLength(currentTime)\n",
        "    checkServiceFull(currentTime)\n",
        "\n",
        "    times.append(currentTime)\n",
        "    lengths.append(getAvgLength())\n",
        "    probability.append(getServiceAvailableProbability())\n",
        "\n",
        "    finishedCustomer = event['result']\n",
        "    if not finishedCustomer is None:\n",
        "      pass\n",
        "    if event['time'] > 10000:\n",
        "      break\n",
        "\n",
        "  t = times\n",
        "  data1 = lengths\n",
        "  data2 = probability\n",
        "\n",
        "  fig, ax1 = plt.subplots()\n",
        "\n",
        "  color = 'tab:red'\n",
        "  ax1.set_xlabel('Čas')\n",
        "  ax1.set_ylabel('Délka', color=color)\n",
        "  ax1.plot(t, data1, color=color)\n",
        "  ax1.tick_params(axis='y', labelcolor=color)\n",
        "\n",
        "  ax2 = ax1.twinx()  # instantiate a second axes that shares the same x-axis\n",
        "\n",
        "  color = 'tab:blue'\n",
        "  ax2.set_ylabel('P', color=color)  # we already handled the x-label with ax1\n",
        "  ax2.plot(t, data2, color=color)\n",
        "  ax2.tick_params(axis='y', labelcolor=color)\n",
        "\n",
        "  fig.tight_layout()  # otherwise the right y-label is slightly clipped\n",
        "  plt.grid()\n",
        "  plt.show()\n",
        "\n",
        "widgets.interact(simIt, λ=widgets.FloatSlider(1, min=0.1, max=5), µ = widgets.FloatSlider(2, min=0.1, max=5));"
      ],
      "execution_count": 131,
      "outputs": [
        {
          "output_type": "display_data",
          "data": {
            "application/vnd.jupyter.widget-view+json": {
              "model_id": "0e7d94be145a4ba1bf3230de85674cb8",
              "version_minor": 0,
              "version_major": 2
            },
            "text/plain": [
              "interactive(children=(FloatSlider(value=1.0, description='λ', max=5.0, min=0.1), FloatSlider(value=2.0, descri…"
            ]
          },
          "metadata": {
            "tags": []
          }
        }
      ]
    },
    {
      "cell_type": "markdown",
      "metadata": {
        "id": "03JjdqhJ5PKH"
      },
      "source": [
        "## Simulace SHO M/M/n"
      ]
    },
    {
      "cell_type": "code",
      "metadata": {
        "id": "Rh9GvIge5R44"
      },
      "source": [
        "λ = 4\n",
        "µ = 2\n",
        "n = 3"
      ],
      "execution_count": 132,
      "outputs": []
    },
    {
      "cell_type": "markdown",
      "metadata": {
        "id": "yo7PuFNl5lxn"
      },
      "source": [
        "### Příchod požadavku"
      ]
    },
    {
      "cell_type": "code",
      "metadata": {
        "id": "AXwd8NoF5lxq"
      },
      "source": [
        "queue = []\n",
        "def customerArrived(time, calendar):\n",
        "  deltaTime = exponential(1 / λ, 1)[0] #jeden čas\n",
        "  calendar.AddEvent(time + deltaTime, customerArrived, calendar=calendar)\n",
        "  calendar.AddEvent(time, tryBeginService, calendar=calendar)\n",
        "  newCustomer = {'enterTime': time}\n",
        "  queue.append(newCustomer)"
      ],
      "execution_count": 133,
      "outputs": []
    },
    {
      "cell_type": "markdown",
      "metadata": {
        "id": "9Y99wKMP5lx9"
      },
      "source": [
        "### Obsluha požadavku"
      ]
    },
    {
      "cell_type": "code",
      "metadata": {
        "id": "iKF5DkY-5lx_"
      },
      "source": [
        "servedRequests = []\n",
        "\n",
        "def tryBeginService(time, calendar):\n",
        "  if len(servedRequests) < n:\n",
        "    if len(queue) > 0:\n",
        "      customer = queue.pop()\n",
        "      timeOfEnd = exponential(1 / µ, 1)[0] #jeden čas\n",
        "      calendar.AddEvent(time + timeOfEnd, endService, calendar=calendar, customer=customer)\n",
        "      customer['beginService'] = time\n",
        "      customer['endService'] = time + timeOfEnd\n",
        "      servedRequests.append(customer)\n",
        "\n",
        "def endService(time, calendar, customer):\n",
        "  servedRequests.remove(customer)\n",
        "  calendar.AddEvent(time, tryBeginService, calendar=calendar)\n",
        "  return customer"
      ],
      "execution_count": 134,
      "outputs": []
    },
    {
      "cell_type": "markdown",
      "metadata": {
        "id": "wrsLlvgR6wmF"
      },
      "source": [
        "### Sběr statistických ukazatelů"
      ]
    },
    {
      "cell_type": "markdown",
      "metadata": {
        "id": "54eo543h6wmT"
      },
      "source": [
        "#### Délka fronty"
      ]
    },
    {
      "cell_type": "code",
      "metadata": {
        "id": "KoQ8sEpo6wme"
      },
      "source": [
        "def statQueueLength():\n",
        "  return len(queue)\n",
        "\n",
        "updateStatQueueLength, getStatQueueLength = createStatistic(statQueueLength)"
      ],
      "execution_count": 135,
      "outputs": []
    },
    {
      "cell_type": "markdown",
      "metadata": {
        "id": "e7HdVOG86wnI"
      },
      "source": [
        "#### Obsluha volná"
      ]
    },
    {
      "cell_type": "code",
      "metadata": {
        "id": "ZsP23jaL6wnN"
      },
      "source": [
        "def statServiceFull():\n",
        "  if len(servedRequests) >= n:\n",
        "    return 1\n",
        "  else:\n",
        "    return 0\n",
        "\n",
        "updateStatServiceFull, getStatServiceFull = createStatistic(statServiceFull)"
      ],
      "execution_count": 136,
      "outputs": []
    },
    {
      "cell_type": "markdown",
      "metadata": {
        "id": "ACZ2XA_o6kzp"
      },
      "source": [
        "### Běh simulace"
      ]
    },
    {
      "cell_type": "code",
      "metadata": {
        "id": "zpXyEGxo6kz3"
      },
      "source": [
        "calendar = EventCalendar()\n",
        "\n",
        "times = []\n",
        "lengths = []\n",
        "probability = []\n",
        "\n",
        "calendar.AddEvent(0, customerArrived, calendar=calendar)\n",
        "for event in calendar:\n",
        "  currentTime = event['time']\n",
        "  updateStatQueueLength(currentTime)\n",
        "  updateStatServiceFull(currentTime)\n",
        "\n",
        "  times.append(currentTime)\n",
        "  lengths.append(getStatQueueLength())\n",
        "  probability.append(getStatServiceFull())\n",
        "\n",
        "  finishedCustomer = event['result']\n",
        "  if not finishedCustomer is None:\n",
        "    pass\n",
        "  if event['time'] > 10000:\n",
        "    break"
      ],
      "execution_count": 137,
      "outputs": []
    },
    {
      "cell_type": "markdown",
      "metadata": {
        "id": "JsZekoZg6k0Z"
      },
      "source": [
        "### Výsledek simulace"
      ]
    },
    {
      "cell_type": "markdown",
      "metadata": {
        "id": "386IzMJl6k0c"
      },
      "source": [
        "#### Textový výstup"
      ]
    },
    {
      "cell_type": "code",
      "metadata": {
        "id": "VrYSUYBK6k0g",
        "outputId": "b8d90403-bba2-4be3-ab86-8c4846a90d9e",
        "colab": {
          "base_uri": "https://localhost:8080/"
        }
      },
      "source": [
        "print(f'Průměrná délka fronty je {getStatQueueLength()}')\n",
        "print(f'Pravděpodobnost, že obsluha bude volná {getStatServiceFull()}')"
      ],
      "execution_count": 138,
      "outputs": [
        {
          "output_type": "stream",
          "text": [
            "Průměrná délka fronty je 0.9012376570657421\n",
            "Pravděpodobnost, že obsluha bude volná 0.4550394436646325\n"
          ],
          "name": "stdout"
        }
      ]
    },
    {
      "cell_type": "markdown",
      "metadata": {
        "id": "ER4yMP1g6k0x"
      },
      "source": [
        "#### Délka fronty"
      ]
    },
    {
      "cell_type": "code",
      "metadata": {
        "id": "QgAlXh-46k0y",
        "outputId": "9603025a-486a-4820-dc1a-4c9cd4f10aa1",
        "colab": {
          "base_uri": "https://localhost:8080/",
          "height": 592
        }
      },
      "source": [
        "plt.plot(times, lengths)\n",
        "plt.grid()"
      ],
      "execution_count": 139,
      "outputs": [
        {
          "output_type": "display_data",
          "data": {
            "image/png": "[encoded data removed]",
            "text/plain": [
              "<Figure size 1080x720 with 1 Axes>"
            ]
          },
          "metadata": {
            "tags": [],
            "needs_background": "light"
          }
        }
      ]
    },
    {
      "cell_type": "markdown",
      "metadata": {
        "id": "7aFFNV7H6k0_"
      },
      "source": [
        "#### Pravděpodobnost obsluha je volná"
      ]
    },
    {
      "cell_type": "code",
      "metadata": {
        "id": "-OEjg9Bk6k1A",
        "outputId": "5b1722d5-1e95-4973-c728-d24a922048e2",
        "colab": {
          "base_uri": "https://localhost:8080/",
          "height": 592
        }
      },
      "source": [
        "plt.plot(times, probability)\n",
        "plt.grid()"
      ],
      "execution_count": 140,
      "outputs": [
        {
          "output_type": "display_data",
          "data": {
            "image/png": "[encoded data removed]",
            "text/plain": [
              "<Figure size 1080x720 with 1 Axes>"
            ]
          },
          "metadata": {
            "tags": [],
            "needs_background": "light"
          }
        }
      ]
    }
  ]
}