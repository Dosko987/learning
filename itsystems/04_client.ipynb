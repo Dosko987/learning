{
  "nbformat": 4,
  "nbformat_minor": 0,
  "metadata": {
    "kernelspec": {
      "display_name": "JavaScript",
      "language": "javascript",
      "name": "jslab"
    },
    "language_info": {
      "file_extension": ".js",
      "mimetype": "text/javascript",
      "name": "javascript",
      "version": ""
    },
    "colab": {
      "name": "04_client.ipynb",
      "provenance": [],
      "toc_visible": true,
      "include_colab_link": true
    }
  },
  "cells": [
    {
      "cell_type": "markdown",
      "metadata": {
        "id": "view-in-github",
        "colab_type": "text"
      },
      "source": [
        "<a href=\"https://colab.research.google.com/github/hrbolek/learning/blob/master/itsystems/04_client.ipynb\" target=\"_parent\"><img src=\"https://colab.research.google.com/assets/colab-badge.svg\" alt=\"Open In Colab\"/></a>"
      ]
    },
    {
      "cell_type": "markdown",
      "metadata": {
        "id": "23jiWXcjtayn"
      },
      "source": [
        "# Klient webové aplikace"
      ]
    },
    {
      "cell_type": "markdown",
      "metadata": {
        "id": "xzOAhWMCtayr"
      },
      "source": [
        "## Značkovací jazyky"
      ]
    },
    {
      "cell_type": "markdown",
      "metadata": {
        "id": "ZEx_nCrUtayt"
      },
      "source": [
        "Značkovací jazyky představují (https://cs.wikipedia.org/wiki/Zna%C4%8Dkovac%C3%AD_jazyk) textovou informaci doplněnou o značky - řízení zobrazování informace. Z hlediska vývoje webu jsou důležité HTML, CSS, SVG, XML. K značkovacím jazykům ovšem řadíme i další jako např. Markdown (https://www.markdownguide.org/), ReStructuredText RST (https://github.com/qtproject/learning-guides/blob/master/handbook/getting-to-know-the-markup-language.rst). S Markdown a RST se můžete často setkat při tvorbě dokumentace k software. Dosti často používaným formátem je i RichTextFormat RTF (https://cs.wikipedia.org/wiki/Rich_Text_Format), který pochází z Microsoftu a dodnes se používá pro uložení dokumentů. Ještě zmíníme LaTEX (https://www.latex-project.org/)."
      ]
    },
    {
      "cell_type": "markdown",
      "metadata": {
        "id": "fcYTD6eytayv"
      },
      "source": [
        "### HTML"
      ]
    },
    {
      "cell_type": "markdown",
      "metadata": {
        "id": "lNyRkoxjtayw"
      },
      "source": [
        "HTML 5\n",
        "\n",
        "https://www.w3schools.com/html/\n",
        "\n",
        "https://www.w3schools.com/tags/\n",
        "\n",
        "XHTML\n",
        "\n",
        "https://www.w3schools.com/html/html_xhtml.asp\n",
        "\n",
        "> **Doporučené video**\n",
        "> \n",
        "> [Learn HTML5 - full course with code samples 53 min](https://www.youtube.com/watch?v=DPnqb74Smug)"
      ]
    },
    {
      "cell_type": "markdown",
      "metadata": {
        "id": "uxHVwQVvtayw"
      },
      "source": [
        "### SVG"
      ]
    },
    {
      "cell_type": "markdown",
      "metadata": {
        "id": "8YDhooNhtayy"
      },
      "source": [
        "https://developer.mozilla.org/en-US/docs/Web/SVG\n",
        "\n",
        "https://www.w3schools.com/graphics/svg_intro.asp\n",
        "\n",
        "> **Doporučené video**\n",
        "> \n",
        "> [SVG playlist, 13 lekcí po cca 5 min ](https://www.youtube.com/watch?v=PQxtlY19kto&list=PLL8woMHwr36F2tCFnWTbVBQAGQ6nTcXOO)"
      ]
    },
    {
      "cell_type": "markdown",
      "metadata": {
        "id": "JzrwpPyutayy"
      },
      "source": [
        "### XML"
      ]
    },
    {
      "cell_type": "markdown",
      "metadata": {
        "id": "hoyAZCtstayz"
      },
      "source": [
        "XML je značkovací jazyk, který do jisté míry pokrývá potřeby standardizovaného datového přenosu. Přestože setkání s ním nelze v prostředí webu vyloučit, častější je užití JSON.\n",
        "XML je využíváno např. we WSDL službách. V ČR je to např. v [EET](https://www.etrzby.cz/assets/cs/prilohy/EET_popis_rozhrani_v3.1.pdf).\n",
        "\n",
        "https://www.w3.org/XML/\n",
        "\n",
        "https://www.w3schools.com/xml/xml_whatis.asp\n",
        "\n"
      ]
    },
    {
      "cell_type": "markdown",
      "metadata": {
        "id": "vqWEow7utay1"
      },
      "source": [
        "## Prvky webové stránky"
      ]
    },
    {
      "cell_type": "markdown",
      "metadata": {
        "id": "6EPg19Ortay3"
      },
      "source": [
        "## UI vs. Data"
      ]
    },
    {
      "cell_type": "markdown",
      "metadata": {
        "id": "xZVYZRDNtay6"
      },
      "source": [
        "Je důležité oddělit správu dat od uživatelského rozhraní. Tvorba rozhraní pro stroj (API) umožňuje budoucí napojení na další systémy. Současně jsou splněny podmínky pro možné úpravy UI bez ohledu na funkcionalitu."
      ]
    },
    {
      "cell_type": "markdown",
      "metadata": {
        "id": "88rACD6-tay6"
      },
      "source": [
        "### CSS"
      ]
    },
    {
      "cell_type": "markdown",
      "metadata": {
        "id": "FCBrGXGOtay6"
      },
      "source": [
        "https://www.w3schools.com/css/\n",
        "\n",
        "CSS je nedílnou součástí návrhu UI. Slouží k definici stylů jednotlivých prvků.\n",
        "\n",
        "> **Doporučené video**\n",
        ">\n",
        "> [HTML Full Course - Build a Website Tutorial 2h](https://www.youtube.com/watch?v=pQN-pnXPaVg)"
      ]
    },
    {
      "cell_type": "markdown",
      "metadata": {
        "id": "fqJzDGrZtay6"
      },
      "source": [
        "### Responzivní web"
      ]
    },
    {
      "cell_type": "markdown",
      "metadata": {
        "id": "OIW9YQKstay7"
      },
      "source": [
        "Problém mnoha zařízení s různým rozlišením. Cílem je proper user experience.\n",
        "https://www.youtube.com/watch?v=SRec90j6lTY\n",
        "\n",
        "https://www.interaction-design.org/literature/topics/ux-design\n",
        "\n",
        "Mobile first\n",
        "Vývoj primárně pro mobilní zařízení\n",
        "\n",
        "> **Doporučené video**\n",
        "> \n",
        "> [Introduction To Responsive Web Design - HTML & CSS Tutorial 4h 15min](https://www.youtube.com/watch?v=srvUrASNj0s)"
      ]
    },
    {
      "cell_type": "markdown",
      "metadata": {
        "id": "NdqGevDZtay7"
      },
      "source": [
        "### Bootstrap"
      ]
    },
    {
      "cell_type": "markdown",
      "metadata": {
        "id": "skjl3pXTtay8"
      },
      "source": [
        "Boostrap je frondend knihovna, která řeší problém responzivního webu. Místo jednoduchých prvků ```div```, ```table``` apod. definuje ```Card```, ```Carousel```, ```Dialog```. Tím usnadňuje a zrychluje vývoj UI. Přitom zůstává možnost změn (templates). Celý projekt a dokumentace jsou dostupné na https://getbootstrap.com/. Lze využít tutorialu https://www.w3schools.com/bootstrap4/bootstrap_get_started.asp.\n",
        "\n",
        "Aktuálně je k dispozici [Bootstrap](https://getbootstrap.com/docs/5.0/getting-started/introduction/) v.5 (beta), na webových stránkách a v aplikacích se stále setkáte i s Bootstrap v.3. Bootstrap je také základní knihovnou, kterou má ve svých boilerplates pro .NET Visual Studio.\n",
        "\n",
        "> **Doporučené video**\n",
        "> \n",
        "> [Bootstrap 5 tutorial - crash course for beginners in 1.5H (February 2021)](https://www.youtube.com/watch?v=c9B4TPnak1A)"
      ]
    },
    {
      "cell_type": "markdown",
      "metadata": {
        "id": "K4kiA0SQtay9"
      },
      "source": [
        "### Bootstrap alternativy"
      ]
    },
    {
      "cell_type": "markdown",
      "metadata": {
        "id": "sl1hClVotay9"
      },
      "source": [
        "Foundation (https://get.foundation/)\n",
        "\n",
        "Bulma (https://bulma.io/)\n",
        "\n",
        "Materialize (https://materializecss.com/)"
      ]
    },
    {
      "cell_type": "markdown",
      "metadata": {
        "id": "rigYrYbKtay9"
      },
      "source": [
        "## Jazyky třídy Javascript"
      ]
    },
    {
      "cell_type": "markdown",
      "metadata": {
        "id": "3Cm4nSTetay9"
      },
      "source": [
        "[**Javascript**](https://developer.mozilla.org/en-US/docs/Web/JavaScript) vznikl jako jazyk pro obsluhu UI v rámci webové stránky. Jeho vývoj je relativně rychlý a podléha standardizaci ECMA. První standard pochází z roku 1998 pod názvem ECMAScript. Problém je akceptace standardů ve webových prohlížečích. Nelze se zcela spolehnout na to, že standard jazyka, který byl zvolen pro vývoj aplikace bude na cílových platformách dostupný, přitom práve toto je základní podmínkou úspěšnosti projektu. Řešením je využití ECMA verze, která je podporována významnou většinou prohlížečů (90%), předepsání potřebného prohlížeče odběrateli apod. Naštěstí je k dispozici Javascript to Javascript compiler, který umožňuje překlad z nejnovějších verzí do starších verzí. Tento compilerem je založen na projektu [**Babel**](https://babeljs.io/). Javascript se tak stává assemblerem 21. století. Toho využívají další firmy či uskupení a přicházejí s jazyky, u kterých je překlad do Javascriptu. Sem patří [**TypeScript**](https://www.typescriptlang.org/) od Microsoftu. Typescript je volitelně typovým jazykem. Zavedení typů do jazyka umožňuje odhalit část chyb již ve fázi překladu. Tuto tezi podporuje i citát f. Slack:\n",
        "> First, we were surprised by the number of small bugs we found when converting our code. Second, we underestimated how powerful editor integration is. Typescript was such a boon to our stability and sanity that we started using it for all new code within days of starting the conversion\"\n",
        "\n",
        "[**CoffeeScript**](https://coffeescript.org/) je dalším jazykem , jehož cílovou platformou je Javascript. Někomu může CoffeeScript připomínat Python. Mimochodem existuje [Transcript](https://www.transcrypt.org/), což je compiler z Pythonu do Javascriptu.\n",
        "\n",
        "https://www.w3schools.com/js/DEFAULT.asp\n",
        "\n",
        "> **Doporučené video**\n",
        "> \n",
        "> [Learn JavaScript - Full Course for Beginners 3h 26min](https://www.youtube.com/watch?v=PkZNo7MFNFg)"
      ]
    },
    {
      "cell_type": "markdown",
      "metadata": {
        "id": "dMRjiIdltay-"
      },
      "source": [
        "### Základní prvky jazyka Javascript"
      ]
    },
    {
      "cell_type": "markdown",
      "metadata": {
        "id": "SRre-OYmtay-"
      },
      "source": [
        "Javascript rozlišuje pouze datové typy ```number```, ```string```, ```boolean``` a vše ostatní je ```object```.\n",
        "Proměnné, pole, dictionary,\n",
        "cykly (for in, for of) a podmínky\n",
        "funkce\n",
        "třídy"
      ]
    },
    {
      "cell_type": "markdown",
      "metadata": {
        "id": "p8w8PETFtay_"
      },
      "source": [
        "#### Proměnné"
      ]
    },
    {
      "cell_type": "markdown",
      "metadata": {
        "id": "GIKk7YCutay_"
      },
      "source": [
        "Proměnnou zavádíte pomocí klíčových slov ```let``` nebo ```const```. Ve starších kódech se lze setkat s ```var```, případně jsou proměnné použity k uložení výsledků výrazů, aniž by byly uvozeny klíčovým slovem. Takové proměnné mohou mít v některých verzích jazyka specifický význam a silně se nedoporučuje je používat. Proto jiné verze jazyka mohou považovat za chybu je-li proměnná použita pro uložení hodnoty aniž by předtím byla uvozena pomocí klíčového slova ```let```.\n",
        "\n",
        "Klíčové slovo ```const``` se používá pro uložení výsledků výrazů, které již nesmí být přepsány (koncept immutable)."
      ]
    },
    {
      "cell_type": "markdown",
      "metadata": {
        "id": "-oGls1lCtay_"
      },
      "source": [
        "Základní datové typy"
      ]
    },
    {
      "cell_type": "code",
      "metadata": {
        "id": "AQvu2xaFtazA",
        "outputId": "e524cb28-af05-4a3c-c662-b3189d36b63c"
      },
      "source": [
        "const cislo = 10; //proměnná typu number\n",
        "console.log(cislo);"
      ],
      "execution_count": null,
      "outputs": [
        {
          "output_type": "stream",
          "text": [
            "\u001b[33m10\u001b[39m\n"
          ],
          "name": "stdout"
        }
      ]
    },
    {
      "cell_type": "code",
      "metadata": {
        "id": "FZAFFukFtazC",
        "outputId": "6d8f451b-0c6d-4483-fb3d-f2eb5962750b"
      },
      "source": [
        "const retezec = 'text'; //proměnná typu string\n",
        "console.log(retezec);\n",
        "const retezec2 = \"text v uvozovkach\";\n",
        "console.log(retezec2);"
      ],
      "execution_count": null,
      "outputs": [
        {
          "output_type": "stream",
          "text": [
            "text\n",
            "text v uvozovkach\n"
          ],
          "name": "stdout"
        }
      ]
    },
    {
      "cell_type": "code",
      "metadata": {
        "id": "5VxZtZWLtazC",
        "outputId": "1a00ac69-0e1a-4ee3-f1c0-17fa0b5d041f"
      },
      "source": [
        "const pravda = true; //proměnná typu boolean\n",
        "console.log(pravda);"
      ],
      "execution_count": null,
      "outputs": [
        {
          "output_type": "stream",
          "text": [
            "\u001b[33mtrue\u001b[39m\n"
          ],
          "name": "stdout"
        }
      ]
    },
    {
      "cell_type": "markdown",
      "metadata": {
        "id": "8Pf_JCvZtazD"
      },
      "source": [
        "Operátory"
      ]
    },
    {
      "cell_type": "code",
      "metadata": {
        "id": "mdI150PItazD",
        "outputId": "dad66545-5242-4af3-f118-cd9aab32010d"
      },
      "source": [
        "const a = 5;\n",
        "const b = 2;\n",
        "let c = a + b;\n",
        "c = c + 1;\n",
        "console.log(c);"
      ],
      "execution_count": null,
      "outputs": [
        {
          "output_type": "stream",
          "text": [
            "\u001b[33m8\u001b[39m\n"
          ],
          "name": "stdout"
        }
      ]
    },
    {
      "cell_type": "code",
      "metadata": {
        "id": "wmyB3CBotazF",
        "outputId": "db1ecc47-fee9-47fd-8eec-a7bd734e85ad"
      },
      "source": [
        "const a = 5e+1; //50\n",
        "const b = 2;\n",
        "let c = a - b;\n",
        "c = c + 1;\n",
        "console.log(c);"
      ],
      "execution_count": null,
      "outputs": [
        {
          "output_type": "stream",
          "text": [
            "\u001b[33m49\u001b[39m\n"
          ],
          "name": "stdout"
        }
      ]
    },
    {
      "cell_type": "code",
      "metadata": {
        "id": "oMeBomTutazG",
        "outputId": "ba1908e2-f049-494f-8070-490e540a9de1"
      },
      "source": [
        "const a = 5.12584564789;\n",
        "const b = 2.45697897987;\n",
        "let c = a * b;\n",
        "console.log(c);\n",
        "c = (c - 12.59409) * 1000000;\n",
        "console.log(c);"
      ],
      "execution_count": null,
      "outputs": [
        {
          "output_type": "stream",
          "text": [
            "\u001b[33m12.594095010923853\u001b[39m\n",
            "\u001b[33m5.010923853632221\u001b[39m\n"
          ],
          "name": "stdout"
        }
      ]
    },
    {
      "cell_type": "code",
      "metadata": {
        "id": "PMYW-p0JtazI",
        "outputId": "4012af09-f591-4069-ca03-7b33d898784c"
      },
      "source": [
        "const a = 'a';\n",
        "const b = 2;\n",
        "let c = a + b; //automaticka konverze\n",
        "console.log(c);"
      ],
      "execution_count": null,
      "outputs": [
        {
          "output_type": "stream",
          "text": [
            "a2\n"
          ],
          "name": "stdout"
        }
      ]
    },
    {
      "cell_type": "markdown",
      "metadata": {
        "id": "_xzFcz7EtazI"
      },
      "source": [
        "Další datové typy"
      ]
    },
    {
      "cell_type": "code",
      "metadata": {
        "id": "0zTjiQiBtazJ",
        "outputId": "73cd03ba-c988-4d37-916f-45e01513bb7e"
      },
      "source": [
        "let c; //undefined\n",
        "console.log(c);\n",
        "if (typeof c === 'undefined') {\n",
        "    console.log('UNDEFINED');\n",
        "}"
      ],
      "execution_count": null,
      "outputs": [
        {
          "output_type": "stream",
          "text": [
            "\u001b[90mundefined\u001b[39m\n",
            "UNDEFINED\n"
          ],
          "name": "stdout"
        }
      ]
    },
    {
      "cell_type": "code",
      "metadata": {
        "id": "DQeaVbv3tazK",
        "outputId": "cc5a7ae3-bc1c-4eee-c929-5dc8f12e0d75"
      },
      "source": [
        "let c = null; //definovaně prázdný\n",
        "console.log(c);\n",
        "//*\n",
        "if (c == null) {\n",
        "    console.log('NULL');\n",
        "}\n",
        "//*/"
      ],
      "execution_count": null,
      "outputs": [
        {
          "output_type": "stream",
          "text": [
            "\u001b[1mnull\u001b[22m\n",
            "NULL\n"
          ],
          "name": "stdout"
        }
      ]
    },
    {
      "cell_type": "code",
      "metadata": {
        "id": "cCJVWVIstazK",
        "outputId": "f90a376c-0f34-4dcc-8b89-089e6d65fa94"
      },
      "source": [
        "const pole = [1, 2, 3];\n",
        "console.log(pole);"
      ],
      "execution_count": null,
      "outputs": [
        {
          "output_type": "stream",
          "text": [
            "[ \u001b[33m1\u001b[39m, \u001b[33m2\u001b[39m, \u001b[33m3\u001b[39m ]\n"
          ],
          "name": "stdout"
        }
      ]
    },
    {
      "cell_type": "code",
      "metadata": {
        "id": "sxe9G1PatazL",
        "outputId": "816832bb-0c3f-4168-d405-0667b6d5f06b"
      },
      "source": [
        "const poleStr = ['mrkev', 'brukev', 'cibule'];\n",
        "console.log(poleStr);"
      ],
      "execution_count": null,
      "outputs": [
        {
          "output_type": "stream",
          "text": [
            "[ \u001b[32m'mrkev'\u001b[39m, \u001b[32m'brukev'\u001b[39m, \u001b[32m'cibule'\u001b[39m ]\n"
          ],
          "name": "stdout"
        }
      ]
    },
    {
      "cell_type": "code",
      "metadata": {
        "id": "xrXTwh8VtazM"
      },
      "source": [
        ""
      ],
      "execution_count": null,
      "outputs": []
    },
    {
      "cell_type": "code",
      "metadata": {
        "id": "hvALZbBetazM",
        "outputId": "980de1b3-7775-4687-a451-2ebce3edb905"
      },
      "source": [
        "const data = {name: 'jmeno', value: 'hodnota'};\n",
        "console.log(data);"
      ],
      "execution_count": null,
      "outputs": [
        {
          "output_type": "stream",
          "text": [
            "{ name: \u001b[32m'jmeno'\u001b[39m, value: \u001b[32m'hodnota'\u001b[39m }\n"
          ],
          "name": "stdout"
        }
      ]
    },
    {
      "cell_type": "markdown",
      "metadata": {
        "id": "MALU9ViotazN"
      },
      "source": [
        "Operace a funkce nad řetězci"
      ]
    },
    {
      "cell_type": "code",
      "metadata": {
        "id": "KGFAghVxtazN",
        "outputId": "7440bfb2-5f92-4d38-f8fb-12ef0f8b83b3"
      },
      "source": [
        "const pozdrav = \"Ahoj\";\n",
        "console.log(pozdrav[1]);\n",
        "console.log(pozdrav.length);"
      ],
      "execution_count": null,
      "outputs": [
        {
          "output_type": "stream",
          "text": [
            "h\n",
            "\u001b[33m4\u001b[39m\n"
          ],
          "name": "stdout"
        }
      ]
    },
    {
      "cell_type": "code",
      "metadata": {
        "id": "f_6oTPk-tazO",
        "outputId": "1ac40337-b783-411e-84d2-19809b3b88c3"
      },
      "source": [
        "let pozdrav = \"Ahoj\";\n",
        "pozdrav = pozdrav.replace('A', 'a')\n",
        "console.log(pozdrav);"
      ],
      "execution_count": null,
      "outputs": [
        {
          "output_type": "stream",
          "text": [
            "ahoj\n"
          ],
          "name": "stdout"
        }
      ]
    },
    {
      "cell_type": "code",
      "metadata": {
        "id": "uaFDI69xtazO",
        "outputId": "e9c6b559-4382-4fab-f5bd-5fd7c9f71fe2"
      },
      "source": [
        "let pozdrav = \"Ahoj\";\n",
        "pozdrav = pozdrav.toUpperCase()\n",
        "console.log(pozdrav);"
      ],
      "execution_count": null,
      "outputs": [
        {
          "output_type": "stream",
          "text": [
            "AHOJ\n"
          ],
          "name": "stdout"
        }
      ]
    },
    {
      "cell_type": "code",
      "metadata": {
        "id": "Fmq17nEMtazP",
        "outputId": "0900f04c-7992-44e9-f00a-6ebcb77571fc"
      },
      "source": [
        "let pozdrav = \"Ahoj\";\n",
        "pozdrav = pozdrav.toLowerCase()\n",
        "console.log(pozdrav);"
      ],
      "execution_count": null,
      "outputs": [
        {
          "output_type": "stream",
          "text": [
            "ahoj\n"
          ],
          "name": "stdout"
        }
      ]
    },
    {
      "cell_type": "code",
      "metadata": {
        "id": "f_nFSztltazP",
        "outputId": "98f5e671-1c75-45e3-82c7-3b80602880df"
      },
      "source": [
        "let jmeno = 'Hrbolek';\n",
        "let pozdrav = \"Ahoj\";\n",
        "pozdrav = pozdrav + ' ' + jmeno;\n",
        "console.log(pozdrav);\n",
        "\n",
        "pozdrav = \"Ahoj\";\n",
        "pozdrav = pozdrav.concat(' ', jmeno);\n",
        "console.log(pozdrav);"
      ],
      "execution_count": null,
      "outputs": [
        {
          "output_type": "stream",
          "text": [
            "Ahoj Hrbolek\n",
            "Ahoj Hrbolek\n"
          ],
          "name": "stdout"
        }
      ]
    },
    {
      "cell_type": "code",
      "metadata": {
        "id": "l-_V1Z5vtazR",
        "outputId": "39f2edb6-f4cf-4d35-d7c7-f3cd91f3a3fc"
      },
      "source": [
        "let pozdrav = \"Nazdar světe\";\n",
        "console.log(pozdrav.substr(2, 4)); //od 2. znaku 4 znaky\n",
        "console.log(pozdrav.substring(2, 4)); //od 2. znaku do 4. znaku"
      ],
      "execution_count": null,
      "outputs": [
        {
          "output_type": "stream",
          "text": [
            "zdar\n",
            "zd\n"
          ],
          "name": "stdout"
        }
      ]
    },
    {
      "cell_type": "code",
      "metadata": {
        "id": "LSdu-CwQtazR",
        "outputId": "f57afe6d-8f54-4f5a-c0df-a94835be92ee"
      },
      "source": [
        "let pozdrav = \"Nazdar světe\";\n",
        "console.log(pozdrav.split(' ')); //použít mezery jako oddělovací znak"
      ],
      "execution_count": null,
      "outputs": [
        {
          "output_type": "stream",
          "text": [
            "[ \u001b[32m'Nazdar'\u001b[39m, \u001b[32m'světe'\u001b[39m ]\n"
          ],
          "name": "stdout"
        }
      ]
    },
    {
      "cell_type": "code",
      "metadata": {
        "id": "lbd-_meBtazS",
        "outputId": "4191f270-f208-4964-c131-d6d70e60ff48"
      },
      "source": [
        "let pozdrav = \"Nazdar světe\";\n",
        "console.log(pozdrav.indexOf('sv')); //nalézt index výskytu řetězce 'sv'"
      ],
      "execution_count": null,
      "outputs": [
        {
          "output_type": "stream",
          "text": [
            "\u001b[33m7\u001b[39m\n"
          ],
          "name": "stdout"
        }
      ]
    },
    {
      "cell_type": "code",
      "metadata": {
        "id": "gX1flmXvtazT",
        "outputId": "e491600c-35b4-4b99-8bf1-3ddb698e02d8"
      },
      "source": [
        "let pozdrav = \"Nazdar světe\";\n",
        "console.log(pozdrav.indexOf('a')); //index prvního výskytu\n",
        "console.log(pozdrav.lastIndexOf('a')); //index posledního výskytu"
      ],
      "execution_count": null,
      "outputs": [
        {
          "output_type": "stream",
          "text": [
            "\u001b[33m1\u001b[39m\n",
            "\u001b[33m4\u001b[39m\n"
          ],
          "name": "stdout"
        }
      ]
    },
    {
      "cell_type": "code",
      "metadata": {
        "id": "yR6d8aq1tazT",
        "outputId": "7bfe6b3b-af56-4447-fc27-de9b4de27cda"
      },
      "source": [
        "let pozdrav = \"Nazdar světe\";\n",
        "console.log(escape(pozdrav)); "
      ],
      "execution_count": null,
      "outputs": [
        {
          "output_type": "stream",
          "text": [
            "Nazdar%20sv%u011Bte\n"
          ],
          "name": "stdout"
        }
      ]
    },
    {
      "cell_type": "code",
      "metadata": {
        "id": "vTtPt2lztazT",
        "outputId": "4ed7299d-a038-46d4-d94a-aaf116aedae2"
      },
      "source": [
        "let pozdravEsc = \"Nazdar%20sv%u011Bte\";\n",
        "console.log(unescape(pozdravEsc)); "
      ],
      "execution_count": null,
      "outputs": [
        {
          "output_type": "stream",
          "text": [
            "Nazdar světe\n"
          ],
          "name": "stdout"
        }
      ]
    },
    {
      "cell_type": "code",
      "metadata": {
        "id": "oq4gexVRtazV",
        "outputId": "7a857b09-0d6b-479e-906a-1162eb3e42ee"
      },
      "source": [
        "let text = '1.25';\n",
        "let value = parseFloat(text);\n",
        "console.log(value);\n",
        "let value2 = Number(text);\n",
        "console.log(value2);"
      ],
      "execution_count": null,
      "outputs": [
        {
          "output_type": "stream",
          "text": [
            "\u001b[33m1.25\u001b[39m\n",
            "\u001b[33m1.25\u001b[39m\n"
          ],
          "name": "stdout"
        }
      ]
    },
    {
      "cell_type": "code",
      "metadata": {
        "id": "52AAdz9mtazW",
        "outputId": "9fdd72b5-0a80-4301-dd74-e5b83a8be7b9"
      },
      "source": [
        "let text = '1.25';\n",
        "let value = parseInt(text);\n",
        "console.log(value);"
      ],
      "execution_count": null,
      "outputs": [
        {
          "output_type": "stream",
          "text": [
            "\u001b[33m1\u001b[39m\n"
          ],
          "name": "stdout"
        }
      ]
    },
    {
      "cell_type": "markdown",
      "metadata": {
        "id": "ZNrQNU4ptazW"
      },
      "source": [
        "Funkce nad čísly"
      ]
    },
    {
      "cell_type": "code",
      "metadata": {
        "id": "jbpspOMctazX",
        "outputId": "71142f00-1241-45e6-dc4a-1d67e1a1316f"
      },
      "source": [
        "let a = 5;\n",
        "let b = 0;\n",
        "let c = a / b;\n",
        "console.log(c);\n",
        "console.log(isFinite(c));"
      ],
      "execution_count": null,
      "outputs": [
        {
          "output_type": "stream",
          "text": [
            "\u001b[33mInfinity\u001b[39m\n",
            "\u001b[33mfalse\u001b[39m\n"
          ],
          "name": "stdout"
        }
      ]
    },
    {
      "cell_type": "code",
      "metadata": {
        "id": "KCS54fG4tazY",
        "outputId": "070602da-a192-4cb4-bff9-6483e027b9ff"
      },
      "source": [
        "let a = 0;\n",
        "let b = 0;\n",
        "let c = a / b;\n",
        "console.log(c);\n",
        "console.log(isNaN(c));"
      ],
      "execution_count": null,
      "outputs": [
        {
          "output_type": "stream",
          "text": [
            "\u001b[33mNaN\u001b[39m\n",
            "\u001b[33mtrue\u001b[39m\n"
          ],
          "name": "stdout"
        }
      ]
    },
    {
      "cell_type": "code",
      "metadata": {
        "id": "SZYYEyMNtazZ",
        "outputId": "d066a621-b803-4cd0-ad2d-1ff6bd980fe5"
      },
      "source": [
        "let a = 8 % 7;\n",
        "let b = 8 / 7;\n",
        "console.log(a);\n",
        "console.log(b);"
      ],
      "execution_count": null,
      "outputs": [
        {
          "output_type": "stream",
          "text": [
            "\u001b[33m1\u001b[39m\n",
            "\u001b[33m1.1428571428571428\u001b[39m\n"
          ],
          "name": "stdout"
        }
      ]
    },
    {
      "cell_type": "code",
      "metadata": {
        "id": "ioyZbuFctaza",
        "outputId": "84876edd-1496-402f-d086-77f777423f9c"
      },
      "source": [
        "let a = 8 >> 2;\n",
        "let b = 8 << 2;\n",
        "console.log(a);\n",
        "console.log(b);"
      ],
      "execution_count": null,
      "outputs": [
        {
          "output_type": "stream",
          "text": [
            "\u001b[33m2\u001b[39m\n",
            "\u001b[33m32\u001b[39m\n"
          ],
          "name": "stdout"
        }
      ]
    },
    {
      "cell_type": "code",
      "metadata": {
        "id": "83sfJ_bmtaza",
        "outputId": "ad6cf26b-b846-40c3-de8d-b5183db92565"
      },
      "source": [
        "console.log(Number.MAX_VALUE);\n",
        "console.log(Number.MIN_VALUE);"
      ],
      "execution_count": null,
      "outputs": [
        {
          "output_type": "stream",
          "text": [
            "\u001b[33m1.7976931348623157e+308\u001b[39m\n",
            "\u001b[33m5e-324\u001b[39m\n"
          ],
          "name": "stdout"
        }
      ]
    },
    {
      "cell_type": "markdown",
      "metadata": {
        "id": "trV3dIk6tazb"
      },
      "source": [
        "#### Cyklus for in"
      ]
    },
    {
      "cell_type": "code",
      "metadata": {
        "id": "LYTXE-wktazb",
        "outputId": "99c142d5-05b9-46a7-bccb-13f5e328304e"
      },
      "source": [
        "const poleStr = ['mrkev', 'brukev', 'cibule'];\n",
        "for(let s in poleStr) {\n",
        "    console.log(s);\n",
        "}"
      ],
      "execution_count": null,
      "outputs": [
        {
          "output_type": "stream",
          "text": [
            "0\n",
            "1\n",
            "2\n"
          ],
          "name": "stdout"
        }
      ]
    },
    {
      "cell_type": "code",
      "metadata": {
        "id": "Wz5H4Uwktazc",
        "outputId": "18bb7c6d-3512-468e-a844-dfb01fab34aa"
      },
      "source": [
        "const data = {name: 'jmeno', value: 'hodnota'};\n",
        "for(let s in data) {\n",
        "    console.log(s);\n",
        "}"
      ],
      "execution_count": null,
      "outputs": [
        {
          "output_type": "stream",
          "text": [
            "name\n",
            "value\n"
          ],
          "name": "stdout"
        }
      ]
    },
    {
      "cell_type": "markdown",
      "metadata": {
        "id": "CWZDYbBZtazc"
      },
      "source": [
        "#### Cyklus for of"
      ]
    },
    {
      "cell_type": "markdown",
      "metadata": {
        "id": "HsDhjsO4tazc"
      },
      "source": [
        "```of``` volá iterator, takže prvek jej musí mít."
      ]
    },
    {
      "cell_type": "code",
      "metadata": {
        "id": "typF65Yhtazc",
        "outputId": "3c5a97bd-84aa-4cbb-c888-479f7e789972"
      },
      "source": [
        "const poleStr = ['mrkev', 'brukev', 'cibule'];\n",
        "for(let s of poleStr) {\n",
        "    console.log(s);\n",
        "}"
      ],
      "execution_count": null,
      "outputs": [
        {
          "output_type": "stream",
          "text": [
            "mrkev\n",
            "brukev\n",
            "cibule\n"
          ],
          "name": "stdout"
        }
      ]
    },
    {
      "cell_type": "markdown",
      "metadata": {
        "id": "YqwylBxotazc"
      },
      "source": [
        "#### Podmínky"
      ]
    },
    {
      "cell_type": "code",
      "metadata": {
        "id": "IQOiw7iBtazd",
        "outputId": "c6a4b467-5dcd-41ea-bf14-7e8cbf3a4763"
      },
      "source": [
        "const cond = true;\n",
        "if (cond) {\n",
        "    console.log('Pravda');\n",
        "} else {\n",
        "    console.log('Nepravda');\n",
        "}"
      ],
      "execution_count": null,
      "outputs": [
        {
          "output_type": "stream",
          "text": [
            "Pravda\n"
          ],
          "name": "stdout"
        }
      ]
    },
    {
      "cell_type": "code",
      "metadata": {
        "id": "4010vWv6taze",
        "outputId": "6af9a081-d132-4758-c738-255b87649d67"
      },
      "source": [
        "const cas = 18;\n",
        "if (cas < 12) {\n",
        "    console.log('Dobré ráno');\n",
        "} else if (cas < 20) {\n",
        "    console.log('Dobrý večer');\n",
        "} else {\n",
        "    console.log('Dobrou noc');\n",
        "}"
      ],
      "execution_count": null,
      "outputs": [
        {
          "output_type": "stream",
          "text": [
            "Dobrý večer\n"
          ],
          "name": "stdout"
        }
      ]
    },
    {
      "cell_type": "code",
      "metadata": {
        "id": "jNvjQccntaze",
        "outputId": "ca3e4f1d-d1cd-4059-c73e-c83727156d79"
      },
      "source": [
        "const denVTydnu = \"5\";\n",
        "switch(denVTydnu) {\n",
        "  case \"5\":\n",
        "    console.log('Five');\n",
        "    break;\n",
        "  case \"6\":\n",
        "    console.log('Six');\n",
        "    break;\n",
        "  default:\n",
        "    console.log('Not five nor six');\n",
        "} "
      ],
      "execution_count": null,
      "outputs": [
        {
          "output_type": "stream",
          "text": [
            "6:8 - Type '\"6\"' is not comparable to type '\"5\"'.\n"
          ],
          "name": "stderr"
        }
      ]
    },
    {
      "cell_type": "markdown",
      "metadata": {
        "id": "RgxzDfOStazf"
      },
      "source": [
        "#### Funkce"
      ]
    },
    {
      "cell_type": "code",
      "metadata": {
        "id": "GRkDbkvRtazf",
        "outputId": "6f8431ee-bf04-4293-cee0-b76a62272866"
      },
      "source": [
        "function secti(a, b) {\n",
        "    return a + b;\n",
        "}\n",
        "\n",
        "const c = secti(1, 20);\n",
        "console.log(c);"
      ],
      "execution_count": null,
      "outputs": [
        {
          "output_type": "stream",
          "text": [
            "\u001b[33m21\u001b[39m\n"
          ],
          "name": "stdout"
        }
      ]
    },
    {
      "cell_type": "markdown",
      "metadata": {
        "id": "Se5O09Bvtazg"
      },
      "source": [
        "#### Anonymní Funkce"
      ]
    },
    {
      "cell_type": "code",
      "metadata": {
        "id": "wYOzTxZPtazg",
        "outputId": "dea8efd7-3668-4b8f-d033-6707859c5524"
      },
      "source": [
        "const add = (a, b) => a + b;\n",
        "\n",
        "const c = add(1, 100);\n",
        "console.log(c);"
      ],
      "execution_count": null,
      "outputs": [
        {
          "output_type": "stream",
          "text": [
            "\u001b[33m101\u001b[39m\n"
          ],
          "name": "stdout"
        }
      ]
    },
    {
      "cell_type": "markdown",
      "metadata": {
        "id": "VctMsWmztazg"
      },
      "source": [
        "#### Třídy"
      ]
    },
    {
      "cell_type": "code",
      "metadata": {
        "id": "iUHKCesbtazh",
        "outputId": "3ddc5160-4fd9-4f14-e635-08f1d65edd71"
      },
      "source": [
        "function Rect(height, width) {\n",
        "    this.height = height;\n",
        "    this.width = width;\n",
        "}\n",
        "\n",
        "const r = new Rect(10, 20);\n",
        "console.log(r.height);"
      ],
      "execution_count": null,
      "outputs": [
        {
          "output_type": "stream",
          "text": [
            "\u001b[33m10\u001b[39m\n"
          ],
          "name": "stdout"
        }
      ]
    },
    {
      "cell_type": "code",
      "metadata": {
        "id": "p0MY2X3Atazh",
        "outputId": "3a4eccff-c893-42d5-83e8-7b526860a0f0"
      },
      "source": [
        "class Rectangle {\n",
        "  constructor(height, width) {\n",
        "    this.height = height;\n",
        "    this.width = width;\n",
        "  }\n",
        "}\n",
        "\n",
        "const r = new Rectangle(10, 20);\n",
        "console.log(r.height);"
      ],
      "execution_count": null,
      "outputs": [
        {
          "output_type": "stream",
          "text": [
            "\u001b[33m10\u001b[39m\n"
          ],
          "name": "stdout"
        }
      ]
    },
    {
      "cell_type": "markdown",
      "metadata": {
        "id": "bqKts0Mitazi"
      },
      "source": [
        "### Pokročilé prvky jazyka Javascript"
      ]
    },
    {
      "cell_type": "markdown",
      "metadata": {
        "id": "Woy2urRCtazj"
      },
      "source": [
        "#### Ternary operator"
      ]
    },
    {
      "cell_type": "code",
      "metadata": {
        "id": "sTAYP3QYtazj",
        "outputId": "e548d75e-ce1d-4f5b-bac1-a4f3c3c82edc"
      },
      "source": [
        "let a = true;\n",
        "let result = a ? 'Ano' : 'Ne';\n",
        "console.log(result);"
      ],
      "execution_count": null,
      "outputs": [
        {
          "output_type": "stream",
          "text": [
            "Ano\n"
          ],
          "name": "stdout"
        }
      ]
    },
    {
      "cell_type": "markdown",
      "metadata": {
        "id": "uSPugpFgtazj"
      },
      "source": [
        "Ternary operator v Javascriptu\n",
        "https://developer.mozilla.org/en-US/docs/Web/JavaScript/Reference/Operators/Conditional_Operator\n",
        "\n",
        "---\n",
        "```javascript\n",
        "condition ? valueIfTrue : valueIfFalse\n",
        "```\n",
        "---"
      ]
    },
    {
      "cell_type": "markdown",
      "metadata": {
        "id": "zL_rvfCktazj"
      },
      "source": [
        "#### Three Dots"
      ]
    },
    {
      "cell_type": "code",
      "metadata": {
        "id": "2I2KxBxktazk",
        "outputId": "1880a973-4b6e-4439-8ca3-2f6153ebace3"
      },
      "source": [
        "const data = {name: 'jmeno', value: 'hodnota'};\n",
        "const data2 = {...data, name: 'prijmeni'};\n",
        "console.log(data2);\n",
        "const data3 = {name: 'prijmeni', ...data};\n",
        "console.log(data3);"
      ],
      "execution_count": null,
      "outputs": [
        {
          "output_type": "stream",
          "text": [
            "{ name: \u001b[32m'prijmeni'\u001b[39m, value: \u001b[32m'hodnota'\u001b[39m }\n",
            "{ name: \u001b[32m'jmeno'\u001b[39m, value: \u001b[32m'hodnota'\u001b[39m }\n"
          ],
          "name": "stdout"
        }
      ]
    },
    {
      "cell_type": "code",
      "metadata": {
        "id": "Sfoaf8h8tazk",
        "outputId": "7145bacf-8cf9-43f4-f484-274201d5c016"
      },
      "source": [
        "const pole = ['mrkev', 'brukev', 'cibule'];\n",
        "const pole2 = [...pole, 'jablko'];\n",
        "console.log(pole2);"
      ],
      "execution_count": null,
      "outputs": [
        {
          "output_type": "stream",
          "text": [
            "[ \u001b[32m'mrkev'\u001b[39m, \u001b[32m'brukev'\u001b[39m, \u001b[32m'cibule'\u001b[39m, \u001b[32m'jablko'\u001b[39m ]\n"
          ],
          "name": "stdout"
        }
      ]
    },
    {
      "cell_type": "markdown",
      "metadata": {
        "id": "kM4g2E54tazk"
      },
      "source": [
        "#### Destrukturalizace"
      ]
    },
    {
      "cell_type": "markdown",
      "metadata": {
        "id": "iQtDBLPitazl"
      },
      "source": [
        "Destrukturalizace\n",
        "\n",
        "```javascript\n",
        "{value, name} = props\n",
        "[value, name] = array\n",
        "```\n"
      ]
    },
    {
      "cell_type": "code",
      "metadata": {
        "id": "9bXAZAghtazl",
        "outputId": "ff96a6f4-7acf-4211-974f-67c135c52fb8"
      },
      "source": [
        "const data = {name: 'jmeno', value: 'hodnota', description: 'description'};\n",
        "const {name, value} = data;\n",
        "console.log(name);\n",
        "console.log(value);"
      ],
      "execution_count": null,
      "outputs": [
        {
          "output_type": "stream",
          "text": [
            "jmeno\n",
            "hodnota\n"
          ],
          "name": "stdout"
        }
      ]
    },
    {
      "cell_type": "code",
      "metadata": {
        "id": "BcEBDplBtazm",
        "outputId": "0b801b9a-dad7-405b-c9a7-d07c4b9154f2"
      },
      "source": [
        "const data = {name: 'jmeno', value: 'hodnota', description: 'description'};\n",
        "const {name, value} = data;\n",
        "console.log(name);\n",
        "console.log(value);"
      ],
      "execution_count": null,
      "outputs": [
        {
          "output_type": "stream",
          "text": [
            "jmeno\n",
            "hodnota\n"
          ],
          "name": "stdout"
        }
      ]
    },
    {
      "cell_type": "code",
      "metadata": {
        "id": "smpnQp2Qtazm",
        "outputId": "28575b9a-0866-4767-8c1f-5d7628387588"
      },
      "source": [
        "const a = ['Praha', 'Brno', 'Ostrava'];\n",
        "const [x, y] = a\n",
        "console.log(x);\n",
        "console.log(y);"
      ],
      "execution_count": null,
      "outputs": [
        {
          "output_type": "stream",
          "text": [
            "Praha\n",
            "Brno\n"
          ],
          "name": "stdout"
        }
      ]
    },
    {
      "cell_type": "code",
      "metadata": {
        "id": "VXK4cB54tazn",
        "outputId": "6e198180-ad31-4818-d66e-060ac5c0c8bc"
      },
      "source": [
        "const a = ['Praha', 'Brno', 'Ostrava', 'Bratislava'];\n",
        "const [x, y, ...z] = a\n",
        "console.log(x);\n",
        "console.log(y);\n",
        "console.log(z);"
      ],
      "execution_count": null,
      "outputs": [
        {
          "output_type": "stream",
          "text": [
            "Praha\n",
            "Brno\n",
            "[ \u001b[32m'Ostrava'\u001b[39m, \u001b[32m'Bratislava'\u001b[39m ]\n"
          ],
          "name": "stdout"
        }
      ]
    },
    {
      "cell_type": "markdown",
      "metadata": {
        "id": "PcLaezaBtazo"
      },
      "source": [
        "#### Asynchronnous Code"
      ]
    },
    {
      "cell_type": "markdown",
      "metadata": {
        "id": "rbnLe1vutazp"
      },
      "source": [
        "Asynchonní funkce vrací tzv. [Promise](https://developer.mozilla.org/en-US/docs/Web/JavaScript/Reference/Global_Objects/Promise). Návratová hodnota je tedy zabalena a pro její vyčíslení je  nutné udělat některé operace navíc. Můžete využít tzv. [Callbacku](https://developer.mozilla.org/en-US/docs/Glossary/Callback_function) pomocí metody `then` nebo s pomocí klíčového slova `await` vykonávání kódu pozastavíte do doby, dokud není Promise ve stavu [Resolved](https://developer.mozilla.org/en-US/docs/Web/JavaScript/Reference/Global_Objects/Promise/resolve)."
      ]
    },
    {
      "cell_type": "code",
      "metadata": {
        "id": "1OsCDFC_tazp",
        "outputId": "bbbb1e04-ff61-4a62-f42a-4246ccf29caa"
      },
      "source": [
        "async function f() {\n",
        "  return 1;\n",
        "}\n",
        "\n",
        "const print = console.log\n",
        "\n",
        "f().then(print);\n",
        "const result = await f()\n",
        "print(result)\n",
        "print(f())"
      ],
      "execution_count": null,
      "outputs": [
        {
          "output_type": "stream",
          "text": [
            "\u001b[33m1\u001b[39m\n",
            "\u001b[33m1\u001b[39m\n",
            "Promise { \u001b[33m1\u001b[39m }\n"
          ],
          "name": "stdout"
        }
      ]
    },
    {
      "cell_type": "markdown",
      "metadata": {
        "id": "YXCyTBS1tazq"
      },
      "source": [
        "#### Generators"
      ]
    },
    {
      "cell_type": "markdown",
      "metadata": {
        "id": "aQrctVMAtazq"
      },
      "source": [
        "[Generator](https://developer.mozilla.org/en-US/docs/Web/JavaScript/Reference/Global_Objects/Generator) je funkce, která ve svém těle využívá klířového slova `yield`. Javascript vyžaduje současně, aby funkce s `yield` byla explicitně označena (znak \\*). Taková funkce vrací speciální objekt, který řídí vykonávání částí kódu uvnitř těla funkce. Běh je vždy po `yield` pozastaven až do doby, kdy je vyžádána další hodnota.\n",
        "\n",
        "Výsledky z generátoru lze získat např. v cyklu `for` pomocí klíčového slova `of`."
      ]
    },
    {
      "cell_type": "code",
      "metadata": {
        "id": "q2H2KmtBtazs",
        "outputId": "660ced03-f1f4-498c-f0dd-07c849039409"
      },
      "source": [
        "const print = console.log\n",
        "\n",
        "function* genFunc() {\n",
        "    print('working on result 1');\n",
        "    yield 1;\n",
        "    print('working on result 2');\n",
        "    yield 2;\n",
        "    print('working on result 3');\n",
        "    yield 3;\n",
        "}\n",
        "\n",
        "print('lets do it')\n",
        "for(const item of genFunc()) {\n",
        "    print(item)\n",
        "}"
      ],
      "execution_count": null,
      "outputs": [
        {
          "output_type": "stream",
          "text": [
            "lets do it\n",
            "working on result 1\n",
            "\u001b[33m1\u001b[39m\n",
            "working on result 2\n",
            "\u001b[33m2\u001b[39m\n",
            "working on result 2\n",
            "\u001b[33m3\u001b[39m\n"
          ],
          "name": "stdout"
        }
      ]
    },
    {
      "cell_type": "markdown",
      "metadata": {
        "id": "GX-cR8q-taz4"
      },
      "source": [
        "#### JSX"
      ]
    },
    {
      "cell_type": "markdown",
      "metadata": {
        "id": "eQQlgFNOtaz5"
      },
      "source": [
        "JSX je extension, který do jazyka přinesl React. JSX umožňuje psát částo kódu jako by se jednalo o HTML kód. Mezi tagy HTML je možné do složených závorek vložit Javascriptový kód.\n",
        "JSX vyžaduje, aby tagy byly uzavřeny. Javascript překládá JSX do objektu, jehož prvkem může být funkce."
      ]
    },
    {
      "cell_type": "code",
      "metadata": {
        "id": "i90eNnZutaz7",
        "outputId": "13b39018-be61-442c-ce4d-9b16cc400a98"
      },
      "source": [
        "import React from 'react'; //const React = () => null; // Hack\n",
        "import * as tslab from 'tslab';\n",
        "\n",
        "const NameElement = (props) =>\n",
        "    <div>Hello {props.name ? props.name : ''}</div>;\n",
        "\n",
        "console.log(NameElement({name: 'Hrbolek'}));\n",
        "\n",
        "const htmlElement = <NameElement name='Hrbolek'/>;       \n",
        "console.log(htmlElement);\n",
        "console.log(typeof(htmlElement));"
      ],
      "execution_count": null,
      "outputs": [
        {
          "output_type": "stream",
          "text": [
            "{\n",
            "  \u001b[32m'$$typeof'\u001b[39m: \u001b[32mSymbol(react.element)\u001b[39m,\n",
            "  type: \u001b[32m'div'\u001b[39m,\n",
            "  key: \u001b[1mnull\u001b[22m,\n",
            "  ref: \u001b[1mnull\u001b[22m,\n",
            "  props: { children: [ \u001b[32m'Hello '\u001b[39m, \u001b[32m'Hrbolek'\u001b[39m ] },\n",
            "  _owner: \u001b[1mnull\u001b[22m,\n",
            "  _store: {}\n",
            "}\n",
            "{\n",
            "  \u001b[32m'$$typeof'\u001b[39m: \u001b[32mSymbol(react.element)\u001b[39m,\n",
            "  type: \u001b[36m[Function: NameElement]\u001b[39m,\n",
            "  key: \u001b[1mnull\u001b[22m,\n",
            "  ref: \u001b[1mnull\u001b[22m,\n",
            "  props: { name: \u001b[32m'Hrbolek'\u001b[39m },\n",
            "  _owner: \u001b[1mnull\u001b[22m,\n",
            "  _store: {}\n",
            "}\n",
            "object\n"
          ],
          "name": "stdout"
        }
      ]
    },
    {
      "cell_type": "code",
      "metadata": {
        "id": "e8vf6Yg2taz8",
        "outputId": "92e284d7-9d44-451b-da13-ae313a19d7a2"
      },
      "source": [
        "import React from 'react'; \n",
        "import ReactDOMServer from 'react-dom/server';\n",
        "import * as tslab from 'tslab';\n",
        "\n",
        "const NameElement = (props) =>\n",
        "    <div>Hello <b>{props.name ? props.name : ''}</b></div>;\n",
        "\n",
        "const htmlElement = <NameElement name='Hrbolek'/>;       \n",
        "const html = ReactDOMServer.renderToString(htmlElement);\n",
        "tslab.display.html(html);"
      ],
      "execution_count": null,
      "outputs": [
        {
          "output_type": "display_data",
          "data": {
            "text/html": [
              "<div data-reactroot=\"\">Hello <b>Hrbolek</b></div>"
            ]
          },
          "metadata": {
            "tags": []
          }
        }
      ]
    },
    {
      "cell_type": "code",
      "metadata": {
        "id": "d5zsJzlLtaz9"
      },
      "source": [
        "import ReactDOMServer from 'react-dom/server';\n",
        "import * as tslab from 'tslab';\n",
        "\n",
        "function DisplayReact(element) {\n",
        "    const html = ReactDOMServer.renderToString(element);\n",
        "    tslab.display.html(html);\n",
        "}"
      ],
      "execution_count": null,
      "outputs": []
    },
    {
      "cell_type": "code",
      "metadata": {
        "id": "xvk9NUN1taz9",
        "outputId": "15af729b-23e8-40c6-f62a-ef5c6e42148f"
      },
      "source": [
        "import React from 'react'; \n",
        "const PersonElement = (props) =>\n",
        "    <div>Hello <b>{props.name ? props.name : ''}</b></div>;\n",
        "\n",
        "const htmlElement = <PersonElement name='Hrbolek'/>;       \n",
        "DisplayReact(htmlElement);"
      ],
      "execution_count": null,
      "outputs": [
        {
          "output_type": "display_data",
          "data": {
            "text/html": [
              "<div data-reactroot=\"\">Hello <b>Hrbolek</b></div>"
            ]
          },
          "metadata": {
            "tags": []
          }
        }
      ]
    },
    {
      "cell_type": "code",
      "metadata": {
        "id": "RT_bCj2Ztaz9",
        "outputId": "a0301a84-cdbc-46d2-b8cd-9d132a035dec"
      },
      "source": [
        "import React from 'react'; \n",
        "\n",
        "const htmlElement = <PersonElement name='Hrbolek'/>;       \n",
        "DisplayReact(htmlElement);"
      ],
      "execution_count": null,
      "outputs": [
        {
          "output_type": "display_data",
          "data": {
            "text/html": [
              "<div data-reactroot=\"\">Hello <b>Hrbolek</b></div>"
            ]
          },
          "metadata": {
            "tags": []
          }
        }
      ]
    },
    {
      "cell_type": "markdown",
      "metadata": {
        "id": "METto5Ostaz9"
      },
      "source": [
        "## Web Assembly"
      ]
    },
    {
      "cell_type": "markdown",
      "metadata": {
        "id": "vwep5o7Btaz-"
      },
      "source": [
        "Web assembly je relativně nové technologie, definující standard pro spouštění programů a tudíž umožňující vytváření kódů v různých jazycích. Srovnejte s .Net.\n",
        "(https://webassembly.org/)\n",
        "(https://developer.mozilla.org/en-US/docs/WebAssembly)"
      ]
    },
    {
      "cell_type": "markdown",
      "metadata": {
        "id": "BMZd1b7ctaz-"
      },
      "source": [
        "## Knihovny a nástroje"
      ]
    },
    {
      "cell_type": "markdown",
      "metadata": {
        "id": "2iO9Q-KWtaz-"
      },
      "source": [
        "### nvm"
      ]
    },
    {
      "cell_type": "markdown",
      "metadata": {
        "id": "znLTAFrMtaz_"
      },
      "source": [
        "### npm"
      ]
    },
    {
      "cell_type": "markdown",
      "metadata": {
        "id": "tQ-6Q2L6taz_"
      },
      "source": [
        "npm je ekosystém balíčků (knihoven) a jejich verzí, umožňující definici jejich závislosti na konkrétní verzi jiného balíčku. Není až tak neobvyklé instalovat si v projektu balíček jen pro jednu funkci v něm obsaženou.\n",
        "https://www.npmjs.com/"
      ]
    },
    {
      "cell_type": "markdown",
      "metadata": {
        "id": "ZcyXtzF1taz_"
      },
      "source": [
        "### Gulp"
      ]
    },
    {
      "cell_type": "markdown",
      "metadata": {
        "id": "SdB4OnTQtaz_"
      },
      "source": [
        "Gulp je systém pro automatizaci dílčích úkonů při správě projektu.\n",
        "https://gulpjs.com/"
      ]
    },
    {
      "cell_type": "markdown",
      "metadata": {
        "id": "u3RhMDo3taz_"
      },
      "source": [
        "### Uglyfi & Closure Compiler"
      ]
    },
    {
      "cell_type": "markdown",
      "metadata": {
        "id": "axfvJy9Otaz_"
      },
      "source": [
        "Uglyfi (https://github.com/mishoo/UglifyJS) je nástroj pro zmenšení výsledného - distribuovaného kódu. \n",
        "\n",
        "Closure Compiler (https://developers.google.com/closure/compiler) je produkt Google, který je plnohodnotnou variantou Uglyfi\n",
        "\n",
        "Vedlejším efektem použití těchto knihoven je zvýšení obtížnosti případného reverse engineeringu."
      ]
    },
    {
      "cell_type": "markdown",
      "metadata": {
        "id": "p3w4XceLta0A"
      },
      "source": [
        "### jQuery"
      ]
    },
    {
      "cell_type": "markdown",
      "metadata": {
        "id": "zPkjAdQKta0A"
      },
      "source": [
        "**[jQuery](https://jquery.com/)** je snad nejstarší a dosud používanou knihovnou v Javascriptu. Její cílem je usnadnit manipulaci s DOM v prohlížeči. Je součástí mnoha dalšéch knihoven, např. Bootstrap. "
      ]
    },
    {
      "cell_type": "markdown",
      "metadata": {
        "id": "vOK0jwlYta0B"
      },
      "source": [
        "### React"
      ]
    },
    {
      "cell_type": "markdown",
      "metadata": {
        "id": "y-4yxg-9ta0B"
      },
      "source": [
        "**[React](https://reactjs.org/)** je \"cutting-edge\" knihovna od Facebooku, která přináší díky funkcionálnímu programování zcela jiné paradigma pro tvorbu webových aplikací. Základním prvkem UI je komponenta, jejichž různé typy jsou do sebe vnořeny a vytvářejí tak funkční celek. Narozdíl od Vue (níže), je komponenta definována jen jako funkce (ano, lze použít třídu...).\n",
        "\n",
        "Srovnání React, Vue a Angluar lze nalézt např. [zde](https://www.codeinwp.com/blog/angular-vs-vue-vs-react/https://www.codeinwp.com/blog/angular-vs-vue-vs-react/)."
      ]
    },
    {
      "cell_type": "markdown",
      "metadata": {
        "id": "l7exbv2qta0B"
      },
      "source": [
        "Následující část definuje pomocnou funkci. Díky ní je možné demonstrovat funkcionální paradigma využité u knihovny React."
      ]
    },
    {
      "cell_type": "code",
      "metadata": {
        "id": "QdOQefyfta0B"
      },
      "source": [
        "import ReactDOMServer from 'react-dom/server';\n",
        "import * as tslab from 'tslab';\n",
        "\n",
        "function DisplayReact(element) {\n",
        "    const html = ReactDOMServer.renderToString(element);\n",
        "    tslab.display.html(html);\n",
        "}"
      ],
      "execution_count": null,
      "outputs": []
    },
    {
      "cell_type": "markdown",
      "metadata": {
        "id": "232sSvgJta0C"
      },
      "source": [
        "Kód níže má čtyři prvky:\n",
        "\n",
        "- import knihovny React\n",
        "- definici komponenty ```PersonElement```\n",
        "- využití komponenty ```PersonElement``` - vytvoření její instance v proměnné ```htmlItem```\n",
        "- zobrazení ```htmlItem```\n",
        "\n",
        "```PersonElement``` je funkce s parametrem ```props```, která vrací expression vyjádřené jako JSX. Můžeme tuto funkci chápat jako mapování parametru ```props``` na html kód. Každá taková funkce je z hlediska knihovny React komponentou. Knihovna React zapouzdřuje parametry komponenty do parametru ```props```. Jeho členy představují parametry komponenty definované při použití. V příkladu níže to je parametr ```name```."
      ]
    },
    {
      "cell_type": "code",
      "metadata": {
        "id": "aG1szvtuta0C",
        "outputId": "c8c3fe81-f96e-43c7-ebbd-48837b5849b7"
      },
      "source": [
        "import React from 'react'; \n",
        "\n",
        "const PersonElement = (props) =>\n",
        "    <div>Hello <b>{props.name ? props.name : ''}</b></div>;\n",
        "\n",
        "const htmlItem = <PersonElement name='Hrbolek'/>;       \n",
        "\n",
        "DisplayReact(htmlItem);"
      ],
      "execution_count": null,
      "outputs": [
        {
          "output_type": "display_data",
          "data": {
            "text/html": [
              "<div data-reactroot=\"\">Hello <b>Hrbolek</b></div>"
            ]
          },
          "metadata": {
            "tags": []
          }
        }
      ]
    },
    {
      "cell_type": "markdown",
      "metadata": {
        "id": "ZjzmqbuOta0C"
      },
      "source": [
        "```DepartmentElement``` níže je funkce - komponenta, která využívá komponentu ```PersonElement``` definovanou dříve."
      ]
    },
    {
      "cell_type": "code",
      "metadata": {
        "id": "v5e9wjxeta0D",
        "outputId": "20f5b87b-bea1-4f51-b0ac-59a06aa144f1"
      },
      "source": [
        "import React from 'react';\n",
        "\n",
        "const DepartmentElement = (props) => {\n",
        "    const {names} = props;\n",
        "    const people = names.map((item, idx) => <PersonElement key={idx} name={item}/>);\n",
        "    return <div>{people}</div>\n",
        "};\n",
        "\n",
        "const arrayNames = ['Hrbolek', 'Vrcholek'];\n",
        "const htmlItem = <DepartmentElement names={arrayNames}/>;       \n",
        "\n",
        "DisplayReact(htmlItem);"
      ],
      "execution_count": null,
      "outputs": [
        {
          "output_type": "display_data",
          "data": {
            "text/html": [
              "<div data-reactroot=\"\"><div>Hello <b>Hrbolek</b></div><div>Hello <b>Kopec</b></div><div>Hello <b>Vrcholek</b></div></div>"
            ]
          },
          "metadata": {
            "tags": []
          }
        }
      ]
    },
    {
      "cell_type": "markdown",
      "metadata": {
        "id": "xTDk5Hogta0E"
      },
      "source": [
        "### Vue"
      ]
    },
    {
      "cell_type": "markdown",
      "metadata": {
        "id": "urURuqs2ta0E"
      },
      "source": [
        "**[Vue](https://vuejs.org/)** je knihovna, která podle slov tvůrců, navazuje na to nejlepší z ReactJS a AngularJS. Využívá komponentního přístupu. Komponenta je uložena ve speciálním souboru .vue a skládá se z předlohy (template) a kódu.\n",
        "\n",
        "Popojení Vue jako frontendu a Pythonu jako backendu je diskutováno např. [zde](https://medium.com/@andrelbaldo/register-login-and-logout-boilerplate-written-in-vue-js-and-python-as-api-5ce57e33774b)."
      ]
    },
    {
      "cell_type": "markdown",
      "metadata": {
        "id": "Ux-Plq1ota0E"
      },
      "source": [
        "### Angular"
      ]
    },
    {
      "cell_type": "markdown",
      "metadata": {
        "id": "5YTZKkxeta0F"
      },
      "source": [
        "**[Angluar](https://angular.io/)** je knihovna od Google. Pokud je možno volit si knihovnu pro frontend, tuto knihovnu bych volil až jako třetí v pořadí. Některé aktuální trendy naznačují že React a Vue jsou ve frontendu preferovanější a jejich budoucnou \"je silnější\". "
      ]
    },
    {
      "cell_type": "markdown",
      "metadata": {
        "id": "rLqBWK9Pta0F"
      },
      "source": [
        "### Redux"
      ]
    },
    {
      "cell_type": "markdown",
      "metadata": {
        "id": "bG09hI2bta0F"
      },
      "source": [
        "Redux je knihovnou (https://redux.js.org/). Dříve tvůrci Redux prezentovali jako myšlenkový koncept. Nejdůležitějším prvkem je centralizace datového úložiště a standardizace přístupu j němu. Obsah tohoto datového úložiště je následně v rámci UI zpřístupněn uživateli. "
      ]
    },
    {
      "cell_type": "markdown",
      "metadata": {
        "id": "iGfiMIjfta0G"
      },
      "source": [
        "### StoryBook"
      ]
    },
    {
      "cell_type": "markdown",
      "metadata": {
        "id": "iQqPoVsBta0H"
      },
      "source": [
        "(https://storybook.js.org/)"
      ]
    },
    {
      "cell_type": "code",
      "metadata": {
        "id": "RBHiw4-fta0H"
      },
      "source": [
        ""
      ],
      "execution_count": null,
      "outputs": []
    }
  ]
}