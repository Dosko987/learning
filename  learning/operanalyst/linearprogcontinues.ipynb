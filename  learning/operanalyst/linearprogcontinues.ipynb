{
  "nbformat": 4,
  "nbformat_minor": 0,
  "metadata": {
    "colab": {
      "name": "LinearProgContinues.ipynb",
      "provenance": [],
      "authorship_tag": "ABX9TyMahp8bX6Mpv39pBSTfRcDA",
      "include_colab_link": true
    },
    "kernelspec": {
      "name": "python3",
      "display_name": "Python 3"
    }
  },
  "cells": [
    {
      "cell_type": "markdown",
      "metadata": {
        "id": "view-in-github",
        "colab_type": "text"
      },
      "source": [
        "<a href=\"https://colab.research.google.com/github/hrbolek/learning/blob/master/%20learning/operanalyst/linearprogcontinues.ipynb\" target=\"_parent\"><img src=\"https://colab.research.google.com/assets/colab-badge.svg\" alt=\"Open In Colab\"/></a>"
      ]
    },
    {
      "cell_type": "markdown",
      "metadata": {
        "id": "Vu-0OKRFONHl"
      },
      "source": [
        "# Speciální úlohy lineárního programování"
      ]
    },
    {
      "cell_type": "markdown",
      "metadata": {
        "id": "ZScOkcWJOPu0"
      },
      "source": [
        "## Dopravní problém"
      ]
    },
    {
      "cell_type": "markdown",
      "metadata": {
        "id": "EhFCp1-AOSOg"
      },
      "source": [
        "https://www.youtube.com/watch?v=kFd8WgNwokQ\n",
        "\n",
        "https://www.youtube.com/watch?v=Jr7LI-sUEmo\n",
        "\n",
        "Přednáška z konference ESRI v roce 2019:\n",
        "\n",
        "https://www.youtube.com/watch?v=DaB7J3rm_3M\n",
        "\n",
        "https://econweb.ucsd.edu/~jsobel/172aw02/notes8.pdf"
      ]
    },
    {
      "cell_type": "markdown",
      "metadata": {
        "id": "_5EIjsQROUSJ"
      },
      "source": [
        "$$min \\sum_{i=1}^{m} \\sum_{j=1}^{n} c_{ij}x_{ij}$$\n",
        "$$ \\sum_{j=1}^{n} x_{ij} = S_i,  i=1,...,m$$\n",
        "$$ \\sum_{i=1}^{m} x_{ij} = D_j, j=1,...,n$$"
      ]
    },
    {
      "cell_type": "markdown",
      "metadata": {
        "id": "3l6y_BjZn1H4"
      },
      "source": [
        "Je důležité ověřit si, že $\\sum_{i=1}^{m} S_i = \\sum_{j=1}^{n} D_j$. Pokud tato podmínka neplatí (požadavky nejsou v rovnováze s možnostmi), je potřeba formulovat úplnou úlohu lineárního programování."
      ]
    },
    {
      "cell_type": "markdown",
      "metadata": {
        "id": "yNxCwEXXOhnY"
      },
      "source": [
        "### Příklad"
      ]
    },
    {
      "cell_type": "markdown",
      "metadata": {
        "id": "mfxlPIerOWhA"
      },
      "source": [
        "| $D_i \\setminus S_i$ | $S_1$ | $S_2$ | $S_3$ | $S_4$ | $d_i$ |\n",
        "|:--:|:--:|:--:|:--:|:--:|:--:|\n",
        "| $D_1$ | 5 | 6 | 10 | 15 | 10 |\n",
        "| $D_2$ | 7 | 6 | 3 | 10 | 10 |\n",
        "| $D_3$ | 8 | 5 | 15 | 20 | 10 |\n",
        "| $D_4$ | 10 | 20 | 30 | 30 | 10 |\n",
        "| $s_j$ | 3 | 8 | 4 | 25 | 40 |"
      ]
    },
    {
      "cell_type": "markdown",
      "metadata": {
        "id": "IQI30AKqObVK"
      },
      "source": [
        "$$C=\\begin{pmatrix} \n",
        "5 & 6 & 10 & 15\\\\\n",
        "7 & 6 & 3 & 10\\\\\n",
        "8 & 5 & 15 & 20\\\\\n",
        "10 & 20 & 30 & 30\n",
        "\\end{pmatrix}$$\n",
        "$$D=\\begin{pmatrix}\n",
        "10\\\\\n",
        "10\\\\\n",
        "10\\\\\n",
        "10\n",
        "\\end{pmatrix}$$\n",
        "$$S=\\begin{pmatrix}\n",
        "3\\\\\n",
        "8\\\\\n",
        "4\\\\\n",
        "28\n",
        "\\end{pmatrix}$$"
      ]
    },
    {
      "cell_type": "markdown",
      "metadata": {
        "id": "pOUgiFAeOddg"
      },
      "source": [
        "### Řešení v Python"
      ]
    },
    {
      "cell_type": "markdown",
      "metadata": {
        "id": "xBAzYtnaPn5a"
      },
      "source": [
        "#### Implementace Vogelovy aproximační metody"
      ]
    },
    {
      "cell_type": "markdown",
      "metadata": {
        "id": "XHgJwCZ1P2Jx"
      },
      "source": [
        "https://www.youtube.com/watch?v=HVHPBAKTZWw"
      ]
    },
    {
      "cell_type": "code",
      "metadata": {
        "id": "dpFao-DlPviL"
      },
      "source": [
        "from collections import defaultdict\n",
        " \n",
        "def Vogel(costs, demand, supply, debug=False):\n",
        "    cols = sorted(demand.keys())\n",
        "    res = dict((k, defaultdict(int)) for k in costs)\n",
        "    g = {}\n",
        "    for x in supply:\n",
        "        if debug:\n",
        "          print(x)\n",
        "        g[x] = sorted(costs[x].keys(), key=lambda g: costs[x][g])\n",
        "    if debug:\n",
        "      print(g)\n",
        "    for x in demand:\n",
        "        if debug:\n",
        "          print(x)\n",
        "        g[x] = sorted(costs.keys(), key=lambda g: costs[g][x])\n",
        "    if debug:\n",
        "      print(g)\n",
        "\n",
        "    while g:\n",
        "        d = {}\n",
        "        for x in demand:\n",
        "            d[x] = (costs[g[x][1]][x] - costs[g[x][0]][x]) if len(g[x]) > 1 else costs[g[x][0]][x]\n",
        "        s = {}\n",
        "        for x in supply:\n",
        "            s[x] = (costs[x][g[x][1]] - costs[x][g[x][0]]) if len(g[x]) > 1 else costs[x][g[x][0]]\n",
        "        f = max(d, key=lambda n: d[n])\n",
        "        t = max(s, key=lambda n: s[n])\n",
        "        t, f = (f, g[f][0]) if d[f] > s[t] else (g[t][0], t)\n",
        "        v = min(supply[f], demand[t])\n",
        "        res[f][t] += v\n",
        "        demand[t] -= v\n",
        "        if demand[t] == 0:\n",
        "            for k, n in supply.items():\n",
        "                if n != 0:\n",
        "                    g[k].remove(t)\n",
        "            del g[t]\n",
        "            del demand[t]\n",
        "        supply[f] -= v\n",
        "        if supply[f] == 0:\n",
        "            for k, n in demand.items():\n",
        "                if n != 0:\n",
        "                    g[k].remove(f)\n",
        "            del g[f]\n",
        "            del supply[f]\n",
        "    return res"
      ],
      "execution_count": 17,
      "outputs": []
    },
    {
      "cell_type": "code",
      "metadata": {
        "id": "aKZWdnonOoKU"
      },
      "source": [
        "import numpy as np\n",
        "\n",
        "C = {\n",
        "    'd1':{'s1': 5, 's2': 6, 's3': 10, 's4': 15},\n",
        "    'd2':{'s1': 7, 's2': 6, 's3': 3, 's4': 10},\n",
        "    'd3':{'s1': 8, 's2': 5, 's3': 15, 's4': 20},\n",
        "    'd4':{'s1': 10, 's2': 20, 's3': 30, 's4': 30},\n",
        "     }\n",
        "\n",
        "S = {'s1': 3, 's2': 8, 's3': 4, 's4': 25}\n",
        "D = {'d1': 10, 'd2': 10, 'd3': 10, 'd4': 10}"
      ],
      "execution_count": 19,
      "outputs": []
    },
    {
      "cell_type": "code",
      "metadata": {
        "id": "xIqJ_t_3P8gD",
        "outputId": "1f572791-5a32-4e1d-ada2-6f350aa63ae5",
        "colab": {
          "base_uri": "https://localhost:8080/",
          "height": 164
        }
      },
      "source": [
        "res = Vogel({**C}, {**S}, {**D})\n",
        "cols = sorted(S.keys())\n",
        "for n in cols:\n",
        "    print(\"\\t\", n, end='')\n",
        "print()\n",
        "cost = 0\n",
        "for g in sorted(C):\n",
        "    print(g, \"\\t\", end='')\n",
        "    for n in cols:\n",
        "        y = res[g][n]\n",
        "        if y != 0:\n",
        "            #print(y, ',', C[g][n], end='')\n",
        "            print(y, end='')\n",
        "        cost += y * C[g][n]\n",
        "        print(\"\\t\", end='')\n",
        "    print()\n",
        "print(\"\\n\\nTotal Cost = \", cost)"
      ],
      "execution_count": 22,
      "outputs": [
        {
          "output_type": "stream",
          "text": [
            "\t s1\t s2\t s3\t s4\n",
            "d1 \t\t\t\t10\t\n",
            "d2 \t\t\t4\t6\t\n",
            "d3 \t\t8\t\t2\t\n",
            "d4 \t3\t\t\t7\t\n",
            "\n",
            "\n",
            "Total Cost =  542\n"
          ],
          "name": "stdout"
        }
      ]
    },
    {
      "cell_type": "markdown",
      "metadata": {
        "id": "2RXt2wL5iQAA"
      },
      "source": [
        "### Příklad"
      ]
    },
    {
      "cell_type": "markdown",
      "metadata": {
        "id": "FHM3XTeOiT29"
      },
      "source": [
        "| $A_i \\setminus B_i$ | $B_1$ | $B_2$ | $B_3$ | $B_4$ | $B_5$ | $a_1$ |\n",
        "|:--:|:--:|:--:|:--:|:--:|:--:|:--:|\n",
        "| $A_1$ | 12 | 8 | 10 | 4 | 9 | 10 |\n",
        "| $A_2$ | 3 | 3 | 2 | 6 | 10 | 10 |\n",
        "| $A_3$ | 3 | 7 | 10 | 3 | 2 | 10 |\n",
        "| $A_4$ | 8 | 5 | 4 | 3 | 5 | 10 |\n",
        "| $b_j$ | 11 | 8 | 7 | 4 | 10 | 40 |"
      ]
    },
    {
      "cell_type": "markdown",
      "metadata": {
        "id": "OfpoSDpHiY1Y"
      },
      "source": [
        "$$C=\n",
        "\\begin{pmatrix}\n",
        "12 & 8 & 10 & 4 & 9 \\\\\n",
        "3 & 3 & 2 & 6 & 10 \\\\\n",
        "3 & 7 & 10 & 3 & 2 \\\\\n",
        "8 & 5 & 4 & 3 & 5\n",
        "\\end{pmatrix}$$\n",
        "$$D=\n",
        "\\begin{pmatrix}\n",
        "10 \\\\\n",
        "10 \\\\\n",
        "10 \\\\\n",
        "10\n",
        "\\end{pmatrix}$$\n",
        "$$S=\n",
        "\\begin{pmatrix}\n",
        "11 \\\\\n",
        "8 \\\\\n",
        "7 \\\\\n",
        "4 \\\\\n",
        "10\n",
        "\\end{pmatrix}$$"
      ]
    },
    {
      "cell_type": "code",
      "metadata": {
        "id": "uRThU_ikjGol",
        "outputId": "142cbbea-4696-4560-b718-62c9cc9a8bcd",
        "colab": {
          "base_uri": "https://localhost:8080/",
          "height": 55
        }
      },
      "source": [
        "def matrix2dict(matrix, dnames, snames):\n",
        "  result = {}\n",
        "  for i, dname in enumerate(dnames):\n",
        "    result[dname] = dict(zip(snames, matrix[i]))\n",
        "  return result\n",
        "      \n",
        "CM = [[12, 8, 10, 4, 9], [3, 3, 2, 6, 10], [3, 7, 10, 3, 2], [8, 5, 4, 3, 5]]      \n",
        "dnames = ['dod1', 'dod2', 'dod3', 'dod4']\n",
        "snames = ['spo1', 'spo2', 'spo3', 'spo4', 'spo5']\n",
        "C = matrix2dict(CM, dnames, snames)\n",
        "print(C)"
      ],
      "execution_count": 30,
      "outputs": [
        {
          "output_type": "stream",
          "text": [
            "{'dod1': {'spo1': 12, 'spo2': 8, 'spo3': 10, 'spo4': 4, 'spo5': 9}, 'dod2': {'spo1': 3, 'spo2': 3, 'spo3': 2, 'spo4': 6, 'spo5': 10}, 'dod3': {'spo1': 3, 'spo2': 7, 'spo3': 10, 'spo4': 3, 'spo5': 2}, 'dod4': {'spo1': 8, 'spo2': 5, 'spo3': 4, 'spo4': 3, 'spo5': 5}}\n"
          ],
          "name": "stdout"
        }
      ]
    },
    {
      "cell_type": "code",
      "metadata": {
        "id": "KbWcJeKPkNnZ",
        "outputId": "e3501118-60eb-41a8-e44d-42c73de924f3",
        "colab": {
          "base_uri": "https://localhost:8080/",
          "height": 54
        }
      },
      "source": [
        "DM = [10, 10, 10, 10]\n",
        "D = dict(zip(dnames, DM))\n",
        "print(D)\n",
        "SM = [11, 8, 7, 4, 10]\n",
        "S = dict(zip(snames, SM))\n",
        "print(S)"
      ],
      "execution_count": 31,
      "outputs": [
        {
          "output_type": "stream",
          "text": [
            "{'dod1': 10, 'dod2': 10, 'dod3': 10, 'dod4': 10}\n",
            "{'spo1': 11, 'spo2': 8, 'spo3': 7, 'spo4': 4, 'spo5': 10}\n"
          ],
          "name": "stdout"
        }
      ]
    },
    {
      "cell_type": "code",
      "metadata": {
        "id": "stAMhXlPlrwV",
        "outputId": "020f3304-26e9-4917-ed97-0a7de44d413e",
        "colab": {
          "base_uri": "https://localhost:8080/",
          "height": 164
        }
      },
      "source": [
        "res = Vogel({**C}, {**S}, {**D})\n",
        "cols = sorted(S.keys())\n",
        "for n in cols:\n",
        "    print(\"\\t\", n, end='')\n",
        "print()\n",
        "cost = 0\n",
        "for g in sorted(C):\n",
        "    print(g, \"\\t\", end='')\n",
        "    for n in cols:\n",
        "        y = res[g][n]\n",
        "        if y != 0:\n",
        "            #print(y, ',', C[g][n], end='')\n",
        "            print(y, end='')\n",
        "        cost += y * C[g][n]\n",
        "        print(\"\\t\", end='')\n",
        "    print()\n",
        "print(\"\\n\\nTotal Cost = \", cost)"
      ],
      "execution_count": 36,
      "outputs": [
        {
          "output_type": "stream",
          "text": [
            "\t spo1\t spo2\t spo3\t spo4\t spo5\n",
            "dod1 \t\t6 , 8\t\t4 , 4\t\t\n",
            "dod2 \t10 , 3\t\t\t\t\t\n",
            "dod3 \t\t\t\t\t10 , 2\t\n",
            "dod4 \t1 , 8\t2 , 5\t7 , 4\t\t\t\n",
            "\n",
            "\n",
            "Total Cost =  160\n"
          ],
          "name": "stdout"
        }
      ]
    },
    {
      "cell_type": "markdown",
      "metadata": {
        "id": "NLWz37fvHlqb"
      },
      "source": [
        "## Přiřazovací problém"
      ]
    },
    {
      "cell_type": "markdown",
      "metadata": {
        "id": "nM6oyjhMHqpx"
      },
      "source": [
        "$$f(x)=min \\sum_{i=1}^{n} \\sum_{j=1}^{n} c_{ij}x_{ij}$$\n",
        "$$ \\sum_{j=1}^{n} x_{ij} = 1, i=1,...,n $$\n",
        "$$ \\sum_{i=1}^{n} x_{ij} = 1, j=1,...,n $$"
      ]
    },
    {
      "cell_type": "markdown",
      "metadata": {
        "id": "jbH4vjYoH0Ns"
      },
      "source": [
        "### Příklad"
      ]
    },
    {
      "cell_type": "markdown",
      "metadata": {
        "id": "zRgua_wdH1q3"
      },
      "source": [
        "$$\n",
        "C=\\begin{pmatrix}\n",
        "5 & 6 & 10 & 15 \\\\\n",
        "7 & 6 & 3 & 10 \\\\\n",
        "8 & 5 & 15 & 20 \\\\\n",
        "10 & 20 & 30 & 30\n",
        "\\end{pmatrix}\n",
        "$$"
      ]
    },
    {
      "cell_type": "markdown",
      "metadata": {
        "id": "Mwo3pLP5HvyN"
      },
      "source": [
        "### Řešení v Python"
      ]
    },
    {
      "cell_type": "code",
      "metadata": {
        "id": "bIoBJg7uHzHK"
      },
      "source": [
        "import numpy as np\n",
        "from scipy.optimize import linear_sum_assignment"
      ],
      "execution_count": 9,
      "outputs": []
    },
    {
      "cell_type": "code",
      "metadata": {
        "id": "9MMb1o--IcH_",
        "outputId": "cbc8318c-9bec-419b-a99b-0d25dc35db2e",
        "colab": {
          "base_uri": "https://localhost:8080/",
          "height": 54
        }
      },
      "source": [
        "costs = np.array([[5, 6, 10, 15], [7, 6, 3, 10], [8, 5, 15, 20], [10, 20, 30, 30]])\n",
        "row_ind, col_ind = linear_sum_assignment(costs)\n",
        "print(row_ind, col_ind)\n",
        "print(costs[row_ind, col_ind].sum())"
      ],
      "execution_count": 12,
      "outputs": [
        {
          "output_type": "stream",
          "text": [
            "[0 1 2 3] [3 2 1 0]\n",
            "33\n"
          ],
          "name": "stdout"
        }
      ]
    },
    {
      "cell_type": "markdown",
      "metadata": {
        "id": "3FO3QerRUAHQ"
      },
      "source": [
        "Interpretace řešení\n",
        "$$\n",
        "\\begin{pmatrix}\n",
        "0 & 0 & 0 & 15 \\\\\n",
        "0 & 0 & 3 & 0 \\\\\n",
        "0 & 5 & 0 & 0 \\\\\n",
        "10 & 0 & 0 & 0 \n",
        "\\end{pmatrix}\n",
        "$$"
      ]
    },
    {
      "cell_type": "markdown",
      "metadata": {
        "id": "d1jcKRPbImIT"
      },
      "source": [
        "### Příklad"
      ]
    },
    {
      "cell_type": "markdown",
      "metadata": {
        "id": "UDXSlhlMIoaW"
      },
      "source": [
        "### Řešení v Python"
      ]
    },
    {
      "cell_type": "code",
      "metadata": {
        "id": "t7iicd5JItYV",
        "outputId": "a11b55dc-e5ef-44da-d443-28d78e04eefb",
        "colab": {
          "base_uri": "https://localhost:8080/",
          "height": 90
        }
      },
      "source": [
        "!pip install hungarian-algorithm"
      ],
      "execution_count": 5,
      "outputs": [
        {
          "output_type": "stream",
          "text": [
            "Collecting hungarian-algorithm\n",
            "  Downloading https://files.pythonhosted.org/packages/08/e0/117a3f5b9469fa1f74adb7810c465776e2d6145189fbb7bcaa02b5f7c95f/hungarian_algorithm-0.1.11-py3-none-any.whl\n",
            "Installing collected packages: hungarian-algorithm\n",
            "Successfully installed hungarian-algorithm-0.1.11\n"
          ],
          "name": "stdout"
        }
      ]
    },
    {
      "cell_type": "code",
      "metadata": {
        "id": "VBWeYJejIvNb",
        "outputId": "9af24583-717b-4484-9d2b-4fa1573a6eb8",
        "colab": {
          "base_uri": "https://localhost:8080/",
          "height": 55
        }
      },
      "source": [
        "from hungarian_algorithm import algorithm\n",
        "G = {\n",
        "\t'Ann': {'RB': 3, 'CAM': 2, 'GK': 1},\n",
        "\t'Ben': {'LW': 3, 'S': 2, 'CM': 1},\n",
        "\t'Cal': {'CAM': 3, 'RW': 2, 'SWP': 1},\n",
        "\t'Dan': {'S': 3, 'LW': 2, 'GK': 1},\n",
        "\t'Ela': {'GK': 3, 'LW': 2, 'F': 1},\n",
        "\t'Fae': {'CM': 3, 'GK': 2, 'CAM': 1},\n",
        "\t'Gio': {'GK': 3, 'CM': 2, 'S': 1},\n",
        "\t'Hol': {'CAM': 3, 'F': 2, 'SWP': 1},\n",
        "\t'Ian': {'S': 3, 'RW': 2, 'RB': 1},\n",
        "\t'Jon': {'F': 3, 'LW': 2, 'CB': 1},\n",
        "\t'Kay': {'GK': 3, 'RW': 2, 'LW': 1, 'LB': 0}\n",
        "}\n",
        "result = algorithm.find_matching(G, matching_type = 'max', return_type = 'list' )\n",
        "print(result)"
      ],
      "execution_count": 6,
      "outputs": [
        {
          "output_type": "stream",
          "text": [
            "[(('Kay', 'RW'), 2), (('Ela', 'GK'), 3), (('Ian', 'LB'), 0), (('Hol', 'SWP'), 1), (('Ben', 'LW'), 3), (('Fae', 'CM'), 3), (('Cal', 'CAM'), 3), (('Gio', 'CB'), 0), (('Dan', 'S'), 3), (('Ann', 'RB'), 3), (('Jon', 'F'), 3)]\n"
          ],
          "name": "stdout"
        }
      ]
    },
    {
      "cell_type": "markdown",
      "metadata": {
        "id": "OPaENPdRIy8H"
      },
      "source": [
        "### Příklad"
      ]
    },
    {
      "cell_type": "markdown",
      "metadata": {
        "id": "One7kKZdUaqb"
      },
      "source": [
        "\n",
        "('#191', '#122', '#173', '#121', '#128', '#104')  \n",
        "('A', 'B', 'C', 'D', 'E', 'F')\n",
        "$$C = \\begin{pmatrix} \n",
        "22 & 14 & 120 & 21 & 4 & 51 \\\\\n",
        "19 & 12 & 172 & 21 & 28 & 43 \\\\\n",
        "161 & 122 & 2 & 50 &128 & 39 \\\\\n",
        "1 & 30 & 113 & 14 & 28 & 86 \\\\\n",
        "60 & 70 & 170 & 28 & 68 & 104\n",
        "\\end{pmatrix}$$"
      ]
    },
    {
      "cell_type": "markdown",
      "metadata": {
        "id": "7jJgiSjbI0dw"
      },
      "source": [
        "### Řešení v Python"
      ]
    },
    {
      "cell_type": "code",
      "metadata": {
        "id": "DQ_ZapTRI2xN",
        "outputId": "a56be8f3-8424-4bbd-c530-bf0baff1119b",
        "colab": {
          "base_uri": "https://localhost:8080/",
          "height": 35
        }
      },
      "source": [
        "H = {\n",
        "\t'A': { '#191': 22, '#122': 14, '#173': 120, '#121': 21, '#128': 4, '#104': 51 },\n",
        "\t'B': { '#191': 19, '#122': 12, '#173': 172, '#121': 21, '#128': 28, '#104': 43 },\n",
        "\t'C': { '#191': 161, '#122': 122, '#173': 2, '#121': 50, '#128': 128, '#104': 39 },\n",
        "\t'D': { '#191': 19, '#122': 22, '#173': 90, '#121': 11, '#128': 28, '#104': 4 },\n",
        "\t'E': { '#191': 1, '#122': 30, '#173': 113, '#121': 14, '#128': 28, '#104': 86 },\n",
        "\t'F': { '#191': 60, '#122': 70, '#173': 170, '#121': 28, '#128': 68, '#104': 104 },\n",
        "}\n",
        "result = algorithm.find_matching(H, matching_type = 'min', return_type = 'list' )\n",
        "print(result)"
      ],
      "execution_count": 7,
      "outputs": [
        {
          "output_type": "stream",
          "text": [
            "[(('D', '#104'), 4), (('B', '#122'), 12), (('E', '#191'), 1), (('F', '#121'), 28), (('A', '#128'), 4), (('C', '#173'), 2)]\n"
          ],
          "name": "stdout"
        }
      ]
    }
  ]
}