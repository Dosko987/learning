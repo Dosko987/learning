{
  "nbformat": 4,
  "nbformat_minor": 0,
  "metadata": {
    "colab": {
      "name": "database.ipynb",
      "provenance": [],
      "toc_visible": true,
      "authorship_tag": "ABX9TyOgeacnZQJzhImI/Co/LqIP",
      "include_colab_link": true
    },
    "kernelspec": {
      "name": "python3",
      "display_name": "Python 3"
    }
  },
  "cells": [
    {
      "cell_type": "markdown",
      "metadata": {
        "id": "view-in-github",
        "colab_type": "text"
      },
      "source": [
        "<a href=\"https://colab.research.google.com/github/hrbolek/learning/blob/master/itsystems/database.ipynb\" target=\"_parent\"><img src=\"https://colab.research.google.com/assets/colab-badge.svg\" alt=\"Open In Colab\"/></a>"
      ]
    },
    {
      "cell_type": "markdown",
      "metadata": {
        "id": "O0wenB8ALtF3",
        "colab_type": "text"
      },
      "source": [
        "# Databázové systémy\n",
        "\n",
        "##  Úvod\n",
        "\n",
        "Databázové systémy slouží k ukládání dat. \n",
        "\n",
        "Data lze podle charakteru rozdělit do dvou základních kategorií:\n",
        "- Homogenní data\n",
        "- Heterogenní data\n",
        "\n",
        "Homogeními daty rozumíme data, která mají stejnou strukturu narozdíl od heterogenních dat, kde je struktura odlišná.\n",
        "\n",
        "Homogenní data lze přirovnat k tabulce v Excelu, která má definovaný počet sloupců a těchnto sloupcích jsou uloženy hodnoty.\n"
      ]
    },
    {
      "cell_type": "markdown",
      "metadata": {
        "id": "Ut8cjCqANU12",
        "colab_type": "text"
      },
      "source": [
        "## Pár úvah nad datovými toky\n",
        "V případě velkých datových objemů není žádoucí a mnohdy ani možné zpracovávat datové celky. Pole (```list```, ```array``` apod.) je zpracováváno po prvcích."
      ]
    },
    {
      "cell_type": "code",
      "metadata": {
        "id": "7SkeJNg9OwSs",
        "colab_type": "code",
        "colab": {
          "base_uri": "https://localhost:8080/",
          "height": 35
        },
        "outputId": "7f1de321-0b15-4a69-e207-7c30497dcbff"
      },
      "source": [
        "data = [0, 1, 2, 3]\n",
        "def oldFashioned(data, cislo):\n",
        "  result = []\n",
        "  for item in data:\n",
        "    result.append(item + cislo)\n",
        "  return result\n",
        "\n",
        "prictenoOld = oldFashioned(data, 2)\n",
        "print(data, '-->', prictenoOld)"
      ],
      "execution_count": 10,
      "outputs": [
        {
          "output_type": "stream",
          "text": [
            "[0, 1, 2, 3] --> [2, 3, 4, 5]\n"
          ],
          "name": "stdout"
        }
      ]
    },
    {
      "cell_type": "code",
      "metadata": {
        "id": "UnR33j1sQpvh",
        "colab_type": "code",
        "colab": {
          "base_uri": "https://localhost:8080/",
          "height": 35
        },
        "outputId": "82541998-5b2c-4416-9651-ca3426901092"
      },
      "source": [
        "def newWay(data, cislo):\n",
        "  for item in data:\n",
        "    yield item + cislo\n",
        "\n",
        "prictenoNew = list(newWay(data, 2))\n",
        "print(data, '-->', prictenoNew)    "
      ],
      "execution_count": 12,
      "outputs": [
        {
          "output_type": "stream",
          "text": [
            "[0, 1, 2, 3] --> [2, 3, 4, 5]\n"
          ],
          "name": "stdout"
        }
      ]
    },
    {
      "cell_type": "markdown",
      "metadata": {
        "id": "0g0G68sbRORb",
        "colab_type": "text"
      },
      "source": [
        "### Proč ```list()```"
      ]
    },
    {
      "cell_type": "code",
      "metadata": {
        "id": "8-01EYQFRV3z",
        "colab_type": "code",
        "colab": {
          "base_uri": "https://localhost:8080/",
          "height": 72
        },
        "outputId": "cdc5633c-12e6-49cb-f07b-250d8c51aaee"
      },
      "source": [
        "prictenoWOList = (newWay(data, 2))\n",
        "print(data, '-->', prictenoWOList)    \n",
        "print('Spustime vypocet')\n",
        "pricteno2List = list(newWay(data, 2))\n",
        "print(data, '-->', pricteno2List)    \n"
      ],
      "execution_count": 13,
      "outputs": [
        {
          "output_type": "stream",
          "text": [
            "[0, 1, 2, 3] --> <generator object newWay at 0x7f4b13b62f68>\n",
            "Spustime vypocet\n",
            "[0, 1, 2, 3] --> [2, 3, 4, 5]\n"
          ],
          "name": "stdout"
        }
      ]
    },
    {
      "cell_type": "markdown",
      "metadata": {
        "id": "hn8g7jSqRtLM",
        "colab_type": "text"
      },
      "source": [
        "### Generators\n",
        "funkce s výrazem ```yield``` jsou generátory. Používají se v mnoha programovacích jazycích, příkladem budiž Python, Javascript, C# a další. Výsledkem takové funkce není návratový hodnota ale generátor, což je objekt s definovanými vlastnosti a metodami. Jedna z jeho metod (typicky ```next```) jejímž opakovaným voláním lze získat hodnoty tvořící zpracovávanou sekvenci.\n",
        "\n",
        "V příkladu je funkce ```list``` použita na převod generátoru na seznam. Teprve v tuto chvíli dojde k výpočtu. Pečlivě si prostudujte následující řádky kódu. "
      ]
    },
    {
      "cell_type": "code",
      "metadata": {
        "id": "3G2UR6uyS2rr",
        "colab_type": "code",
        "colab": {
          "base_uri": "https://localhost:8080/",
          "height": 146
        },
        "outputId": "98d95bfb-f14a-49ad-d521-b20fa03e9dd5"
      },
      "source": [
        "def demo(data, cislo):\n",
        "  for item in data:\n",
        "    print('pricitam', item, '+', cislo, '=', item + cislo)\n",
        "    yield item + cislo\n",
        "\n",
        "generator = demo(data, 2)\n",
        "print('generator:', data, '-->', generator)    \n",
        "print('Teprve ted spustime vypocet')\n",
        "vysledek = list(generator)\n",
        "print('výsledek', data, '-->', vysledek)        "
      ],
      "execution_count": 16,
      "outputs": [
        {
          "output_type": "stream",
          "text": [
            "generator: [0, 1, 2, 3] --> <generator object demo at 0x7f4b13a6d150>\n",
            "Teprve ted spustime vypocet\n",
            "pricitam 0 + 2 = 2\n",
            "pricitam 1 + 2 = 3\n",
            "pricitam 2 + 2 = 4\n",
            "pricitam 3 + 2 = 5\n",
            "výsledek [0, 1, 2, 3] --> [2, 3, 4, 5]\n"
          ],
          "name": "stdout"
        }
      ]
    },
    {
      "cell_type": "markdown",
      "metadata": {
        "id": "haNZVo9oTypm",
        "colab_type": "text"
      },
      "source": [
        "### Generators II\n",
        "Generátory jsou fakticky stavové automaty. S výhodou je lze používat při definování posloupnosti akcí nad datovým tokem. Fakticky jsou základem operačních systémů. "
      ]
    },
    {
      "cell_type": "markdown",
      "metadata": {
        "id": "Ma-lKgD7UaXC",
        "colab_type": "text"
      },
      "source": [
        "Budiž funkce\n",
        "\n",
        "$g_1(x)=x + 1$\n",
        "\n",
        "$g_2(x)=x+2$\n",
        "\n",
        "Obě funkce lze zobecnit pomocí funkce\n",
        "\n",
        "$f(x, y)= x+ y$\n",
        "\n",
        "neboť \n",
        "\n",
        "$g_1(x) = f(x, 1)$\n",
        "\n",
        "$g_2(x)=f(x,2)$\n",
        "\n",
        "Lze definovat funkcionál\n",
        "$F$, pro který platí\n",
        "\n",
        "$F(f, 2)=g_1$\n",
        "\n",
        "$F(f, 2)=g_2$\n",
        "\n",
        "Funkcionály jsou základem funkcionálního programování. Pro funkcionální programování je možné využít např. jazyka F#. Prvky funcionálního programování jsou ale dostupné (a mnohdy i využívané) v jazycích Python, Javascript, C#."
      ]
    },
    {
      "cell_type": "code",
      "metadata": {
        "id": "VL6MuwumRIAW",
        "colab_type": "code",
        "colab": {
          "base_uri": "https://localhost:8080/",
          "height": 72
        },
        "outputId": "a7da75b3-2b82-4747-83c3-a6fcd0479c52"
      },
      "source": [
        "def f(x, y):\n",
        "  return x + y\n",
        "\n",
        "def F(f, x):\n",
        "  def g(y):\n",
        "    return f(x, y)\n",
        "  return g\n",
        "\n",
        "g1 = F(f, 1)\n",
        "g2 = F(f, 2)\n",
        "\n",
        "print('f(5, 10) =', f(5, 10))\n",
        "print('g1(3) =', g1(3))\n",
        "print('g2(3) =', g2(3))"
      ],
      "execution_count": 17,
      "outputs": [
        {
          "output_type": "stream",
          "text": [
            "f(5, 10) = 15\n",
            "g1(3) = 4\n",
            "g2(3) = 5\n"
          ],
          "name": "stdout"
        }
      ]
    },
    {
      "cell_type": "code",
      "metadata": {
        "id": "ZHw60YTKI1ju",
        "colab_type": "code",
        "colab": {}
      },
      "source": [
        "import pandas as pd\n",
        "def displayData(data):\n",
        "  df = pd.DataFrame(data)\n",
        "  display(df)"
      ],
      "execution_count": 0,
      "outputs": []
    },
    {
      "cell_type": "markdown",
      "metadata": {
        "id": "hieohvWAH8Py",
        "colab_type": "text"
      },
      "source": [
        "### Příklad homogenních dat\n"
      ]
    },
    {
      "cell_type": "code",
      "metadata": {
        "id": "gZDLRQ_0IAJW",
        "colab_type": "code",
        "colab": {}
      },
      "source": [
        "dataStudents = [\n",
        "  (1,'Monique Davis',400,'Literature','Monique@someOtherSchool.edu','2017-08-16 15:34:50','2017-09-02 19:33:56'),\n",
        "\t(2,'Teri Gutierrez',800,'Programming','Teri@someOtherSchool.edu','2017-08-16 15:34:50','2017-09-02 19:33:56'),\n",
        "  (3,'Spencer Pautier',1000,'Programming','Spencer@someOtherSchool.edu','2017-08-16 15:34:50','2017-09-02 19:33:56'),\n",
        "  (4,'Louis Ramsey',1200,'Programming','Louis@someOtherSchool.edu','2017-08-16 15:34:50','2017-09-02 19:33:56'),\n",
        "  (5,'Alvin Greene',1200,'Programming','Alvin@someOtherSchool.edu','2017-08-16 15:34:50','2017-09-02 19:33:56'),\n",
        "  (6,'Sophie Freeman',1200,'Programming','Sophie@someOtherSchool.edu','2017-08-16 15:34:50','2017-09-02 19:33:56'),\n",
        "  (7,'Edgar Frank \\\"Ted\\\" \\\"Codd\\\"',2400,'Computer Science','Edgar@someOtherSchool.edu','2017-08-16 15:35:33','2017-09-02 19:33:56'),\n",
        "  (8,'Donald D. Chamberlin',2400,'Computer Science','Donald@someOtherSchool.edu','2017-08-16 15:35:33','2017-09-02 19:33:56'),\n",
        "  (9,'Raymond F. Boyce',2400,'Computer Science','Raymond@someOtherSchool.edu','2017-08-16 15:35:33','2017-09-02 19:33:56')]"
      ],
      "execution_count": 0,
      "outputs": []
    },
    {
      "cell_type": "code",
      "metadata": {
        "id": "qQVBSni0Xh9W",
        "colab_type": "code",
        "colab": {}
      },
      "source": [
        "dataContactInfo = [\n",
        "  (1,'Monique.Davis@freeCodeCamp.org','555-555-5551',97111),\n",
        "  (2,'Teri.Gutierrez@freeCodeCamp.org','555-555-5552',97112),\n",
        "  (3,'Spencer.Pautier@freeCodeCamp.org','555-555-5553',97113),\n",
        "  (4,'Louis.Ramsey@freeCodeCamp.org','555-555-5554',0),\n",
        "  (5,'Alvin.Green@freeCodeCamp.org','555-555-5555',97115),\n",
        "  (6,'Sophie.Freeman@freeCodeCamp.org','555-555-5556',97116),\n",
        "  (7,'Maximo.Smith@freeCodeCamp.org','555-555-5557',97117),\n",
        "  (8,'Michael.Roach@freeCodeCamp.ort','555-555-5558',97118)\n",
        "]"
      ],
      "execution_count": 0,
      "outputs": []
    },
    {
      "cell_type": "code",
      "metadata": {
        "id": "xM90-9qXIZme",
        "colab_type": "code",
        "colab": {
          "base_uri": "https://localhost:8080/",
          "height": 646
        },
        "outputId": "381503bd-f767-4ef3-8019-1d459671e33f"
      },
      "source": [
        "def tuple2dictionary(names, item):\n",
        "  result = {}\n",
        "  for name, value in zip(names, item):\n",
        "    result[name] = value\n",
        "  return result\n",
        "\n",
        "def tuple2dictionarySeq(names, sequence):\n",
        "  for item in sequence:\n",
        "    yield tuple2dictionary(names, item)\n",
        "\n",
        "namesStudents = ['studentID', 'FullName', 'sat_score', 'programOfStudy', 'schoolEmailAdr', 'rcd_Created', 'rcd_Updated']\n",
        "namesContacts = ['studentID', 'studentEmailAddr',  'student-phone-cell', 'student-US-zipcode']\n",
        "\n",
        "namedStudents = tuple2dictionarySeq(namesStudents, dataStudents)\n",
        "namedContacts = tuple2dictionarySeq(namesContacts, dataContactInfo)\n",
        "\n",
        "displayData(dataSource())\n",
        "displayData(tuple2dictionarySeq(names=names, sequence=dataSource()))"
      ],
      "execution_count": 21,
      "outputs": [
        {
          "output_type": "display_data",
          "data": {
            "text/html": [
              "<div>\n",
              "<style scoped>\n",
              "    .dataframe tbody tr th:only-of-type {\n",
              "        vertical-align: middle;\n",
              "    }\n",
              "\n",
              "    .dataframe tbody tr th {\n",
              "        vertical-align: top;\n",
              "    }\n",
              "\n",
              "    .dataframe thead th {\n",
              "        text-align: right;\n",
              "    }\n",
              "</style>\n",
              "<table border=\"1\" class=\"dataframe\">\n",
              "  <thead>\n",
              "    <tr style=\"text-align: right;\">\n",
              "      <th></th>\n",
              "      <th>0</th>\n",
              "      <th>1</th>\n",
              "      <th>2</th>\n",
              "      <th>3</th>\n",
              "      <th>4</th>\n",
              "      <th>5</th>\n",
              "      <th>6</th>\n",
              "    </tr>\n",
              "  </thead>\n",
              "  <tbody>\n",
              "    <tr>\n",
              "      <th>0</th>\n",
              "      <td>1</td>\n",
              "      <td>Monique Davis</td>\n",
              "      <td>400</td>\n",
              "      <td>Literature</td>\n",
              "      <td>Monique@someOtherSchool.edu</td>\n",
              "      <td>2017-08-16 15:34:50</td>\n",
              "      <td>2017-09-02 19:33:56</td>\n",
              "    </tr>\n",
              "    <tr>\n",
              "      <th>1</th>\n",
              "      <td>2</td>\n",
              "      <td>Teri Gutierrez</td>\n",
              "      <td>800</td>\n",
              "      <td>Programming</td>\n",
              "      <td>Teri@someOtherSchool.edu</td>\n",
              "      <td>2017-08-16 15:34:50</td>\n",
              "      <td>2017-09-02 19:33:56</td>\n",
              "    </tr>\n",
              "    <tr>\n",
              "      <th>2</th>\n",
              "      <td>3</td>\n",
              "      <td>Spencer Pautier</td>\n",
              "      <td>1000</td>\n",
              "      <td>Programming</td>\n",
              "      <td>Spencer@someOtherSchool.edu</td>\n",
              "      <td>2017-08-16 15:34:50</td>\n",
              "      <td>2017-09-02 19:33:56</td>\n",
              "    </tr>\n",
              "    <tr>\n",
              "      <th>3</th>\n",
              "      <td>4</td>\n",
              "      <td>Louis Ramsey</td>\n",
              "      <td>1200</td>\n",
              "      <td>Programming</td>\n",
              "      <td>Louis@someOtherSchool.edu</td>\n",
              "      <td>2017-08-16 15:34:50</td>\n",
              "      <td>2017-09-02 19:33:56</td>\n",
              "    </tr>\n",
              "    <tr>\n",
              "      <th>4</th>\n",
              "      <td>5</td>\n",
              "      <td>Alvin Greene</td>\n",
              "      <td>1200</td>\n",
              "      <td>Programming</td>\n",
              "      <td>Alvin@someOtherSchool.edu</td>\n",
              "      <td>2017-08-16 15:34:50</td>\n",
              "      <td>2017-09-02 19:33:56</td>\n",
              "    </tr>\n",
              "    <tr>\n",
              "      <th>5</th>\n",
              "      <td>6</td>\n",
              "      <td>Sophie Freeman</td>\n",
              "      <td>1200</td>\n",
              "      <td>Programming</td>\n",
              "      <td>Sophie@someOtherSchool.edu</td>\n",
              "      <td>2017-08-16 15:34:50</td>\n",
              "      <td>2017-09-02 19:33:56</td>\n",
              "    </tr>\n",
              "    <tr>\n",
              "      <th>6</th>\n",
              "      <td>7</td>\n",
              "      <td>Edgar Frank \"Ted\"\" Codd\"</td>\n",
              "      <td>2400</td>\n",
              "      <td>Computer Science</td>\n",
              "      <td>Edgar@someOtherSchool.edu</td>\n",
              "      <td>2017-08-16 15:35:33</td>\n",
              "      <td>2017-09-02 19:33:56</td>\n",
              "    </tr>\n",
              "    <tr>\n",
              "      <th>7</th>\n",
              "      <td>8</td>\n",
              "      <td>Donald D. Chamberlin</td>\n",
              "      <td>2400</td>\n",
              "      <td>Computer Science</td>\n",
              "      <td>Donald@someOtherSchool.edu</td>\n",
              "      <td>2017-08-16 15:35:33</td>\n",
              "      <td>2017-09-02 19:33:56</td>\n",
              "    </tr>\n",
              "    <tr>\n",
              "      <th>8</th>\n",
              "      <td>9</td>\n",
              "      <td>Raymond F. Boyce</td>\n",
              "      <td>2400</td>\n",
              "      <td>Computer Science</td>\n",
              "      <td>Raymond@someOtherSchool.edu</td>\n",
              "      <td>2017-08-16 15:35:33</td>\n",
              "      <td>2017-09-02 19:33:56</td>\n",
              "    </tr>\n",
              "  </tbody>\n",
              "</table>\n",
              "</div>"
            ],
            "text/plain": [
              "   0                         1  ...                    5                    6\n",
              "0  1             Monique Davis  ...  2017-08-16 15:34:50  2017-09-02 19:33:56\n",
              "1  2            Teri Gutierrez  ...  2017-08-16 15:34:50  2017-09-02 19:33:56\n",
              "2  3           Spencer Pautier  ...  2017-08-16 15:34:50  2017-09-02 19:33:56\n",
              "3  4              Louis Ramsey  ...  2017-08-16 15:34:50  2017-09-02 19:33:56\n",
              "4  5              Alvin Greene  ...  2017-08-16 15:34:50  2017-09-02 19:33:56\n",
              "5  6            Sophie Freeman  ...  2017-08-16 15:34:50  2017-09-02 19:33:56\n",
              "6  7  Edgar Frank \"Ted\"\" Codd\"  ...  2017-08-16 15:35:33  2017-09-02 19:33:56\n",
              "7  8      Donald D. Chamberlin  ...  2017-08-16 15:35:33  2017-09-02 19:33:56\n",
              "8  9          Raymond F. Boyce  ...  2017-08-16 15:35:33  2017-09-02 19:33:56\n",
              "\n",
              "[9 rows x 7 columns]"
            ]
          },
          "metadata": {
            "tags": []
          }
        },
        {
          "output_type": "display_data",
          "data": {
            "text/html": [
              "<div>\n",
              "<style scoped>\n",
              "    .dataframe tbody tr th:only-of-type {\n",
              "        vertical-align: middle;\n",
              "    }\n",
              "\n",
              "    .dataframe tbody tr th {\n",
              "        vertical-align: top;\n",
              "    }\n",
              "\n",
              "    .dataframe thead th {\n",
              "        text-align: right;\n",
              "    }\n",
              "</style>\n",
              "<table border=\"1\" class=\"dataframe\">\n",
              "  <thead>\n",
              "    <tr style=\"text-align: right;\">\n",
              "      <th></th>\n",
              "      <th>studentID</th>\n",
              "      <th>FullName</th>\n",
              "      <th>sat_score</th>\n",
              "      <th>programOfStudy</th>\n",
              "      <th>schoolEmailAdr</th>\n",
              "      <th>rcd_Created</th>\n",
              "      <th>rcd_Updated</th>\n",
              "    </tr>\n",
              "  </thead>\n",
              "  <tbody>\n",
              "    <tr>\n",
              "      <th>0</th>\n",
              "      <td>1</td>\n",
              "      <td>Monique Davis</td>\n",
              "      <td>400</td>\n",
              "      <td>Literature</td>\n",
              "      <td>Monique@someOtherSchool.edu</td>\n",
              "      <td>2017-08-16 15:34:50</td>\n",
              "      <td>2017-09-02 19:33:56</td>\n",
              "    </tr>\n",
              "    <tr>\n",
              "      <th>1</th>\n",
              "      <td>2</td>\n",
              "      <td>Teri Gutierrez</td>\n",
              "      <td>800</td>\n",
              "      <td>Programming</td>\n",
              "      <td>Teri@someOtherSchool.edu</td>\n",
              "      <td>2017-08-16 15:34:50</td>\n",
              "      <td>2017-09-02 19:33:56</td>\n",
              "    </tr>\n",
              "    <tr>\n",
              "      <th>2</th>\n",
              "      <td>3</td>\n",
              "      <td>Spencer Pautier</td>\n",
              "      <td>1000</td>\n",
              "      <td>Programming</td>\n",
              "      <td>Spencer@someOtherSchool.edu</td>\n",
              "      <td>2017-08-16 15:34:50</td>\n",
              "      <td>2017-09-02 19:33:56</td>\n",
              "    </tr>\n",
              "    <tr>\n",
              "      <th>3</th>\n",
              "      <td>4</td>\n",
              "      <td>Louis Ramsey</td>\n",
              "      <td>1200</td>\n",
              "      <td>Programming</td>\n",
              "      <td>Louis@someOtherSchool.edu</td>\n",
              "      <td>2017-08-16 15:34:50</td>\n",
              "      <td>2017-09-02 19:33:56</td>\n",
              "    </tr>\n",
              "    <tr>\n",
              "      <th>4</th>\n",
              "      <td>5</td>\n",
              "      <td>Alvin Greene</td>\n",
              "      <td>1200</td>\n",
              "      <td>Programming</td>\n",
              "      <td>Alvin@someOtherSchool.edu</td>\n",
              "      <td>2017-08-16 15:34:50</td>\n",
              "      <td>2017-09-02 19:33:56</td>\n",
              "    </tr>\n",
              "    <tr>\n",
              "      <th>5</th>\n",
              "      <td>6</td>\n",
              "      <td>Sophie Freeman</td>\n",
              "      <td>1200</td>\n",
              "      <td>Programming</td>\n",
              "      <td>Sophie@someOtherSchool.edu</td>\n",
              "      <td>2017-08-16 15:34:50</td>\n",
              "      <td>2017-09-02 19:33:56</td>\n",
              "    </tr>\n",
              "    <tr>\n",
              "      <th>6</th>\n",
              "      <td>7</td>\n",
              "      <td>Edgar Frank \"Ted\"\" Codd\"</td>\n",
              "      <td>2400</td>\n",
              "      <td>Computer Science</td>\n",
              "      <td>Edgar@someOtherSchool.edu</td>\n",
              "      <td>2017-08-16 15:35:33</td>\n",
              "      <td>2017-09-02 19:33:56</td>\n",
              "    </tr>\n",
              "    <tr>\n",
              "      <th>7</th>\n",
              "      <td>8</td>\n",
              "      <td>Donald D. Chamberlin</td>\n",
              "      <td>2400</td>\n",
              "      <td>Computer Science</td>\n",
              "      <td>Donald@someOtherSchool.edu</td>\n",
              "      <td>2017-08-16 15:35:33</td>\n",
              "      <td>2017-09-02 19:33:56</td>\n",
              "    </tr>\n",
              "    <tr>\n",
              "      <th>8</th>\n",
              "      <td>9</td>\n",
              "      <td>Raymond F. Boyce</td>\n",
              "      <td>2400</td>\n",
              "      <td>Computer Science</td>\n",
              "      <td>Raymond@someOtherSchool.edu</td>\n",
              "      <td>2017-08-16 15:35:33</td>\n",
              "      <td>2017-09-02 19:33:56</td>\n",
              "    </tr>\n",
              "  </tbody>\n",
              "</table>\n",
              "</div>"
            ],
            "text/plain": [
              "   studentID  ...          rcd_Updated\n",
              "0          1  ...  2017-09-02 19:33:56\n",
              "1          2  ...  2017-09-02 19:33:56\n",
              "2          3  ...  2017-09-02 19:33:56\n",
              "3          4  ...  2017-09-02 19:33:56\n",
              "4          5  ...  2017-09-02 19:33:56\n",
              "5          6  ...  2017-09-02 19:33:56\n",
              "6          7  ...  2017-09-02 19:33:56\n",
              "7          8  ...  2017-09-02 19:33:56\n",
              "8          9  ...  2017-09-02 19:33:56\n",
              "\n",
              "[9 rows x 7 columns]"
            ]
          },
          "metadata": {
            "tags": []
          }
        }
      ]
    },
    {
      "cell_type": "markdown",
      "metadata": {
        "id": "cnE_vGr32l4P",
        "colab_type": "text"
      },
      "source": [
        "## Doplňkové studijní zdroje\n",
        "\n",
        "https://www.w3schools.com/sql/\n",
        "\n"
      ]
    },
    {
      "cell_type": "markdown",
      "metadata": {
        "id": "A_xDQNd234Yk",
        "colab_type": "text"
      },
      "source": [
        "## Relační algebra\n",
        "\n",
        "Operátory \n",
        "- Sjednocení, \n",
        "- Průnik, \n",
        "- Rozdíl (podobnost s operacemi nad množinami není náhodná)\n",
        "---\n",
        "- Selekce, (SQL ```where```)\n",
        "- Projekce, (SQL ```select```)\n",
        "- Kartézký součin, (SQL ```join```)\n",
        "- Přejmenování, (SQL ```as```)\n"
      ]
    },
    {
      "cell_type": "markdown",
      "metadata": {
        "id": "FUJzGWvGm9kp",
        "colab_type": "text"
      },
      "source": [
        "### Selekce s použitím Pythonu"
      ]
    },
    {
      "cell_type": "code",
      "metadata": {
        "id": "XOHOOCg2Xein",
        "colab_type": "code",
        "colab": {
          "base_uri": "https://localhost:8080/",
          "height": 269
        },
        "outputId": "9b0fe35e-7920-4165-eff4-08b33d813400"
      },
      "source": [
        "def createSelect(queryF):\n",
        "  def selectF(generator):\n",
        "    return filter(queryF, generator)\n",
        "  return selectF\n",
        "\n",
        "def createSelectEx(queryF): # stejne jako createSelect\n",
        "  def selectF(generator):\n",
        "    return (item for item in generator if queryF(item)) # viz https://docs.python.org/3/howto/functional.html\n",
        "  return selectF\n",
        "\n",
        "studentsWithHighScoreSelection = createSelect(lambda item: item['sat_score'] >= 1000)\n",
        "namedStudents = tuple2dictionarySeq(namesStudents, dataStudents)\n",
        "\n",
        "subsetResult = studentsWithHighScoreSelection(namedStudents)\n",
        "displayData(subsetResult)"
      ],
      "execution_count": 30,
      "outputs": [
        {
          "output_type": "display_data",
          "data": {
            "text/html": [
              "<div>\n",
              "<style scoped>\n",
              "    .dataframe tbody tr th:only-of-type {\n",
              "        vertical-align: middle;\n",
              "    }\n",
              "\n",
              "    .dataframe tbody tr th {\n",
              "        vertical-align: top;\n",
              "    }\n",
              "\n",
              "    .dataframe thead th {\n",
              "        text-align: right;\n",
              "    }\n",
              "</style>\n",
              "<table border=\"1\" class=\"dataframe\">\n",
              "  <thead>\n",
              "    <tr style=\"text-align: right;\">\n",
              "      <th></th>\n",
              "      <th>studentID</th>\n",
              "      <th>FullName</th>\n",
              "      <th>sat_score</th>\n",
              "      <th>programOfStudy</th>\n",
              "      <th>schoolEmailAdr</th>\n",
              "      <th>rcd_Created</th>\n",
              "      <th>rcd_Updated</th>\n",
              "    </tr>\n",
              "  </thead>\n",
              "  <tbody>\n",
              "    <tr>\n",
              "      <th>0</th>\n",
              "      <td>3</td>\n",
              "      <td>Spencer Pautier</td>\n",
              "      <td>1000</td>\n",
              "      <td>Programming</td>\n",
              "      <td>Spencer@someOtherSchool.edu</td>\n",
              "      <td>2017-08-16 15:34:50</td>\n",
              "      <td>2017-09-02 19:33:56</td>\n",
              "    </tr>\n",
              "    <tr>\n",
              "      <th>1</th>\n",
              "      <td>4</td>\n",
              "      <td>Louis Ramsey</td>\n",
              "      <td>1200</td>\n",
              "      <td>Programming</td>\n",
              "      <td>Louis@someOtherSchool.edu</td>\n",
              "      <td>2017-08-16 15:34:50</td>\n",
              "      <td>2017-09-02 19:33:56</td>\n",
              "    </tr>\n",
              "    <tr>\n",
              "      <th>2</th>\n",
              "      <td>5</td>\n",
              "      <td>Alvin Greene</td>\n",
              "      <td>1200</td>\n",
              "      <td>Programming</td>\n",
              "      <td>Alvin@someOtherSchool.edu</td>\n",
              "      <td>2017-08-16 15:34:50</td>\n",
              "      <td>2017-09-02 19:33:56</td>\n",
              "    </tr>\n",
              "    <tr>\n",
              "      <th>3</th>\n",
              "      <td>6</td>\n",
              "      <td>Sophie Freeman</td>\n",
              "      <td>1200</td>\n",
              "      <td>Programming</td>\n",
              "      <td>Sophie@someOtherSchool.edu</td>\n",
              "      <td>2017-08-16 15:34:50</td>\n",
              "      <td>2017-09-02 19:33:56</td>\n",
              "    </tr>\n",
              "    <tr>\n",
              "      <th>4</th>\n",
              "      <td>7</td>\n",
              "      <td>Edgar Frank \"Ted\"\" Codd\"</td>\n",
              "      <td>2400</td>\n",
              "      <td>Computer Science</td>\n",
              "      <td>Edgar@someOtherSchool.edu</td>\n",
              "      <td>2017-08-16 15:35:33</td>\n",
              "      <td>2017-09-02 19:33:56</td>\n",
              "    </tr>\n",
              "    <tr>\n",
              "      <th>5</th>\n",
              "      <td>8</td>\n",
              "      <td>Donald D. Chamberlin</td>\n",
              "      <td>2400</td>\n",
              "      <td>Computer Science</td>\n",
              "      <td>Donald@someOtherSchool.edu</td>\n",
              "      <td>2017-08-16 15:35:33</td>\n",
              "      <td>2017-09-02 19:33:56</td>\n",
              "    </tr>\n",
              "    <tr>\n",
              "      <th>6</th>\n",
              "      <td>9</td>\n",
              "      <td>Raymond F. Boyce</td>\n",
              "      <td>2400</td>\n",
              "      <td>Computer Science</td>\n",
              "      <td>Raymond@someOtherSchool.edu</td>\n",
              "      <td>2017-08-16 15:35:33</td>\n",
              "      <td>2017-09-02 19:33:56</td>\n",
              "    </tr>\n",
              "  </tbody>\n",
              "</table>\n",
              "</div>"
            ],
            "text/plain": [
              "   studentID  ...          rcd_Updated\n",
              "0          3  ...  2017-09-02 19:33:56\n",
              "1          4  ...  2017-09-02 19:33:56\n",
              "2          5  ...  2017-09-02 19:33:56\n",
              "3          6  ...  2017-09-02 19:33:56\n",
              "4          7  ...  2017-09-02 19:33:56\n",
              "5          8  ...  2017-09-02 19:33:56\n",
              "6          9  ...  2017-09-02 19:33:56\n",
              "\n",
              "[7 rows x 7 columns]"
            ]
          },
          "metadata": {
            "tags": []
          }
        }
      ]
    },
    {
      "cell_type": "markdown",
      "metadata": {
        "id": "CmChT_1OnFJJ",
        "colab_type": "text"
      },
      "source": [
        "### Projekce s využitím Pythonu"
      ]
    },
    {
      "cell_type": "code",
      "metadata": {
        "id": "HK-aByy0jc5C",
        "colab_type": "code",
        "colab": {
          "base_uri": "https://localhost:8080/",
          "height": 646
        },
        "outputId": "bb4511e4-8155-48fc-9862-415821320a63"
      },
      "source": [
        "def createProjection(mapF):\n",
        "  def projectionF(generator):\n",
        "    for item in generator:\n",
        "      yield mapF(item)\n",
        "  return projectionF\n",
        "\n",
        "def createProjectionEx(mapF): #stejne jako createProjection\n",
        "  def projectionF(generator):\n",
        "    return (mapF(item) for item in generator) #viz https://docs.python.org/3/howto/functional.html / Generator expressions and list comprehensions\n",
        "  return projectionF\n",
        "\n",
        "def createProjection2(names):\n",
        "  def projectionF(generator):\n",
        "    for item in generator:\n",
        "      result = {}\n",
        "      for name in names:\n",
        "        result[name] = item[name]\n",
        "      yield result\n",
        "  return projectionF\n",
        "\n",
        "namedStudents = tuple2dictionarySeq(namesStudents, dataStudents)\n",
        "someStudentsColumns = createProjection(lambda item: {'studentID': item['studentID'], 'FullName': item['FullName']})\n",
        "someColumnsResult = someStudentsColumns(namedStudents)\n",
        "displayData(someColumnsResult)\n",
        "\n",
        "namedStudents = tuple2dictionarySeq(namesStudents, dataStudents)\n",
        "someStudentsColumns2 = createProjection2(['studentID', 'FullName', 'programOfStudy'])\n",
        "someColumnsResult2 = someStudentsColumns2(namedStudents)\n",
        "displayData(someColumnsResult2)"
      ],
      "execution_count": 24,
      "outputs": [
        {
          "output_type": "display_data",
          "data": {
            "text/html": [
              "<div>\n",
              "<style scoped>\n",
              "    .dataframe tbody tr th:only-of-type {\n",
              "        vertical-align: middle;\n",
              "    }\n",
              "\n",
              "    .dataframe tbody tr th {\n",
              "        vertical-align: top;\n",
              "    }\n",
              "\n",
              "    .dataframe thead th {\n",
              "        text-align: right;\n",
              "    }\n",
              "</style>\n",
              "<table border=\"1\" class=\"dataframe\">\n",
              "  <thead>\n",
              "    <tr style=\"text-align: right;\">\n",
              "      <th></th>\n",
              "      <th>studentID</th>\n",
              "      <th>FullName</th>\n",
              "    </tr>\n",
              "  </thead>\n",
              "  <tbody>\n",
              "    <tr>\n",
              "      <th>0</th>\n",
              "      <td>1</td>\n",
              "      <td>Monique Davis</td>\n",
              "    </tr>\n",
              "    <tr>\n",
              "      <th>1</th>\n",
              "      <td>2</td>\n",
              "      <td>Teri Gutierrez</td>\n",
              "    </tr>\n",
              "    <tr>\n",
              "      <th>2</th>\n",
              "      <td>3</td>\n",
              "      <td>Spencer Pautier</td>\n",
              "    </tr>\n",
              "    <tr>\n",
              "      <th>3</th>\n",
              "      <td>4</td>\n",
              "      <td>Louis Ramsey</td>\n",
              "    </tr>\n",
              "    <tr>\n",
              "      <th>4</th>\n",
              "      <td>5</td>\n",
              "      <td>Alvin Greene</td>\n",
              "    </tr>\n",
              "    <tr>\n",
              "      <th>5</th>\n",
              "      <td>6</td>\n",
              "      <td>Sophie Freeman</td>\n",
              "    </tr>\n",
              "    <tr>\n",
              "      <th>6</th>\n",
              "      <td>7</td>\n",
              "      <td>Edgar Frank \"Ted\"\" Codd\"</td>\n",
              "    </tr>\n",
              "    <tr>\n",
              "      <th>7</th>\n",
              "      <td>8</td>\n",
              "      <td>Donald D. Chamberlin</td>\n",
              "    </tr>\n",
              "    <tr>\n",
              "      <th>8</th>\n",
              "      <td>9</td>\n",
              "      <td>Raymond F. Boyce</td>\n",
              "    </tr>\n",
              "  </tbody>\n",
              "</table>\n",
              "</div>"
            ],
            "text/plain": [
              "   studentID                  FullName\n",
              "0          1             Monique Davis\n",
              "1          2            Teri Gutierrez\n",
              "2          3           Spencer Pautier\n",
              "3          4              Louis Ramsey\n",
              "4          5              Alvin Greene\n",
              "5          6            Sophie Freeman\n",
              "6          7  Edgar Frank \"Ted\"\" Codd\"\n",
              "7          8      Donald D. Chamberlin\n",
              "8          9          Raymond F. Boyce"
            ]
          },
          "metadata": {
            "tags": []
          }
        },
        {
          "output_type": "display_data",
          "data": {
            "text/html": [
              "<div>\n",
              "<style scoped>\n",
              "    .dataframe tbody tr th:only-of-type {\n",
              "        vertical-align: middle;\n",
              "    }\n",
              "\n",
              "    .dataframe tbody tr th {\n",
              "        vertical-align: top;\n",
              "    }\n",
              "\n",
              "    .dataframe thead th {\n",
              "        text-align: right;\n",
              "    }\n",
              "</style>\n",
              "<table border=\"1\" class=\"dataframe\">\n",
              "  <thead>\n",
              "    <tr style=\"text-align: right;\">\n",
              "      <th></th>\n",
              "      <th>studentID</th>\n",
              "      <th>FullName</th>\n",
              "      <th>programOfStudy</th>\n",
              "    </tr>\n",
              "  </thead>\n",
              "  <tbody>\n",
              "    <tr>\n",
              "      <th>0</th>\n",
              "      <td>1</td>\n",
              "      <td>Monique Davis</td>\n",
              "      <td>Literature</td>\n",
              "    </tr>\n",
              "    <tr>\n",
              "      <th>1</th>\n",
              "      <td>2</td>\n",
              "      <td>Teri Gutierrez</td>\n",
              "      <td>Programming</td>\n",
              "    </tr>\n",
              "    <tr>\n",
              "      <th>2</th>\n",
              "      <td>3</td>\n",
              "      <td>Spencer Pautier</td>\n",
              "      <td>Programming</td>\n",
              "    </tr>\n",
              "    <tr>\n",
              "      <th>3</th>\n",
              "      <td>4</td>\n",
              "      <td>Louis Ramsey</td>\n",
              "      <td>Programming</td>\n",
              "    </tr>\n",
              "    <tr>\n",
              "      <th>4</th>\n",
              "      <td>5</td>\n",
              "      <td>Alvin Greene</td>\n",
              "      <td>Programming</td>\n",
              "    </tr>\n",
              "    <tr>\n",
              "      <th>5</th>\n",
              "      <td>6</td>\n",
              "      <td>Sophie Freeman</td>\n",
              "      <td>Programming</td>\n",
              "    </tr>\n",
              "    <tr>\n",
              "      <th>6</th>\n",
              "      <td>7</td>\n",
              "      <td>Edgar Frank \"Ted\"\" Codd\"</td>\n",
              "      <td>Computer Science</td>\n",
              "    </tr>\n",
              "    <tr>\n",
              "      <th>7</th>\n",
              "      <td>8</td>\n",
              "      <td>Donald D. Chamberlin</td>\n",
              "      <td>Computer Science</td>\n",
              "    </tr>\n",
              "    <tr>\n",
              "      <th>8</th>\n",
              "      <td>9</td>\n",
              "      <td>Raymond F. Boyce</td>\n",
              "      <td>Computer Science</td>\n",
              "    </tr>\n",
              "  </tbody>\n",
              "</table>\n",
              "</div>"
            ],
            "text/plain": [
              "   studentID                  FullName    programOfStudy\n",
              "0          1             Monique Davis        Literature\n",
              "1          2            Teri Gutierrez       Programming\n",
              "2          3           Spencer Pautier       Programming\n",
              "3          4              Louis Ramsey       Programming\n",
              "4          5              Alvin Greene       Programming\n",
              "5          6            Sophie Freeman       Programming\n",
              "6          7  Edgar Frank \"Ted\"\" Codd\"  Computer Science\n",
              "7          8      Donald D. Chamberlin  Computer Science\n",
              "8          9          Raymond F. Boyce  Computer Science"
            ]
          },
          "metadata": {
            "tags": []
          }
        }
      ]
    },
    {
      "cell_type": "markdown",
      "metadata": {
        "id": "7214kI4xocOl",
        "colab_type": "text"
      },
      "source": [
        "### Přejmenování s využitím Pythonu"
      ]
    },
    {
      "cell_type": "code",
      "metadata": {
        "id": "CqJGR81qnNWz",
        "colab_type": "code",
        "colab": {
          "base_uri": "https://localhost:8080/",
          "height": 332
        },
        "outputId": "508027ff-eb13-47e5-9b01-e592cf0ed49c"
      },
      "source": [
        "def createRename(names):\n",
        "  def renameF(generator):\n",
        "    for item in generator:\n",
        "      result = {**item}\n",
        "      for old, new in names:\n",
        "        del result[old]\n",
        "        result[new] = item[old]\n",
        "      yield result\n",
        "  return renameF\n",
        "\n",
        "namedStudents = tuple2dictionarySeq(namesStudents, dataStudents)\n",
        "renamedColumnsStudents = createRename([('studentID', 'id'), ('FullName', 'name')])\n",
        "renamedColumnsResults = renamedColumnsStudents(namedStudents)\n",
        "displayData(renamedColumnsResults)\n",
        "\n"
      ],
      "execution_count": 27,
      "outputs": [
        {
          "output_type": "display_data",
          "data": {
            "text/html": [
              "<div>\n",
              "<style scoped>\n",
              "    .dataframe tbody tr th:only-of-type {\n",
              "        vertical-align: middle;\n",
              "    }\n",
              "\n",
              "    .dataframe tbody tr th {\n",
              "        vertical-align: top;\n",
              "    }\n",
              "\n",
              "    .dataframe thead th {\n",
              "        text-align: right;\n",
              "    }\n",
              "</style>\n",
              "<table border=\"1\" class=\"dataframe\">\n",
              "  <thead>\n",
              "    <tr style=\"text-align: right;\">\n",
              "      <th></th>\n",
              "      <th>sat_score</th>\n",
              "      <th>programOfStudy</th>\n",
              "      <th>schoolEmailAdr</th>\n",
              "      <th>rcd_Created</th>\n",
              "      <th>rcd_Updated</th>\n",
              "      <th>id</th>\n",
              "      <th>name</th>\n",
              "    </tr>\n",
              "  </thead>\n",
              "  <tbody>\n",
              "    <tr>\n",
              "      <th>0</th>\n",
              "      <td>400</td>\n",
              "      <td>Literature</td>\n",
              "      <td>Monique@someOtherSchool.edu</td>\n",
              "      <td>2017-08-16 15:34:50</td>\n",
              "      <td>2017-09-02 19:33:56</td>\n",
              "      <td>1</td>\n",
              "      <td>Monique Davis</td>\n",
              "    </tr>\n",
              "    <tr>\n",
              "      <th>1</th>\n",
              "      <td>800</td>\n",
              "      <td>Programming</td>\n",
              "      <td>Teri@someOtherSchool.edu</td>\n",
              "      <td>2017-08-16 15:34:50</td>\n",
              "      <td>2017-09-02 19:33:56</td>\n",
              "      <td>2</td>\n",
              "      <td>Teri Gutierrez</td>\n",
              "    </tr>\n",
              "    <tr>\n",
              "      <th>2</th>\n",
              "      <td>1000</td>\n",
              "      <td>Programming</td>\n",
              "      <td>Spencer@someOtherSchool.edu</td>\n",
              "      <td>2017-08-16 15:34:50</td>\n",
              "      <td>2017-09-02 19:33:56</td>\n",
              "      <td>3</td>\n",
              "      <td>Spencer Pautier</td>\n",
              "    </tr>\n",
              "    <tr>\n",
              "      <th>3</th>\n",
              "      <td>1200</td>\n",
              "      <td>Programming</td>\n",
              "      <td>Louis@someOtherSchool.edu</td>\n",
              "      <td>2017-08-16 15:34:50</td>\n",
              "      <td>2017-09-02 19:33:56</td>\n",
              "      <td>4</td>\n",
              "      <td>Louis Ramsey</td>\n",
              "    </tr>\n",
              "    <tr>\n",
              "      <th>4</th>\n",
              "      <td>1200</td>\n",
              "      <td>Programming</td>\n",
              "      <td>Alvin@someOtherSchool.edu</td>\n",
              "      <td>2017-08-16 15:34:50</td>\n",
              "      <td>2017-09-02 19:33:56</td>\n",
              "      <td>5</td>\n",
              "      <td>Alvin Greene</td>\n",
              "    </tr>\n",
              "    <tr>\n",
              "      <th>5</th>\n",
              "      <td>1200</td>\n",
              "      <td>Programming</td>\n",
              "      <td>Sophie@someOtherSchool.edu</td>\n",
              "      <td>2017-08-16 15:34:50</td>\n",
              "      <td>2017-09-02 19:33:56</td>\n",
              "      <td>6</td>\n",
              "      <td>Sophie Freeman</td>\n",
              "    </tr>\n",
              "    <tr>\n",
              "      <th>6</th>\n",
              "      <td>2400</td>\n",
              "      <td>Computer Science</td>\n",
              "      <td>Edgar@someOtherSchool.edu</td>\n",
              "      <td>2017-08-16 15:35:33</td>\n",
              "      <td>2017-09-02 19:33:56</td>\n",
              "      <td>7</td>\n",
              "      <td>Edgar Frank \"Ted\"\" Codd\"</td>\n",
              "    </tr>\n",
              "    <tr>\n",
              "      <th>7</th>\n",
              "      <td>2400</td>\n",
              "      <td>Computer Science</td>\n",
              "      <td>Donald@someOtherSchool.edu</td>\n",
              "      <td>2017-08-16 15:35:33</td>\n",
              "      <td>2017-09-02 19:33:56</td>\n",
              "      <td>8</td>\n",
              "      <td>Donald D. Chamberlin</td>\n",
              "    </tr>\n",
              "    <tr>\n",
              "      <th>8</th>\n",
              "      <td>2400</td>\n",
              "      <td>Computer Science</td>\n",
              "      <td>Raymond@someOtherSchool.edu</td>\n",
              "      <td>2017-08-16 15:35:33</td>\n",
              "      <td>2017-09-02 19:33:56</td>\n",
              "      <td>9</td>\n",
              "      <td>Raymond F. Boyce</td>\n",
              "    </tr>\n",
              "  </tbody>\n",
              "</table>\n",
              "</div>"
            ],
            "text/plain": [
              "   sat_score    programOfStudy  ... id                      name\n",
              "0        400        Literature  ...  1             Monique Davis\n",
              "1        800       Programming  ...  2            Teri Gutierrez\n",
              "2       1000       Programming  ...  3           Spencer Pautier\n",
              "3       1200       Programming  ...  4              Louis Ramsey\n",
              "4       1200       Programming  ...  5              Alvin Greene\n",
              "5       1200       Programming  ...  6            Sophie Freeman\n",
              "6       2400  Computer Science  ...  7  Edgar Frank \"Ted\"\" Codd\"\n",
              "7       2400  Computer Science  ...  8      Donald D. Chamberlin\n",
              "8       2400  Computer Science  ...  9          Raymond F. Boyce\n",
              "\n",
              "[9 rows x 7 columns]"
            ]
          },
          "metadata": {
            "tags": []
          }
        }
      ]
    },
    {
      "cell_type": "code",
      "metadata": {
        "id": "E42Uwp6poj0o",
        "colab_type": "code",
        "colab": {
          "base_uri": "https://localhost:8080/",
          "height": 374
        },
        "outputId": "358a6932-c4c8-4183-9739-55aedcf230bb"
      },
      "source": [
        "from itertools import product\n",
        "#https://docs.python.org/3/library/itertools.html#itertools.product\n",
        "def createCartesian(joinF):\n",
        "  def cartesian(firstG, secondG):\n",
        "    return filter(product(firstG, secondG), joinF)\n",
        "  return cartesian\n",
        "\n",
        "namedStudents = tuple2dictionarySeq(namesStudents, dataStudents)\n",
        "namedContacts = tuple2dictionarySeq(namesContacts, dataContactInfo)\n",
        "\n",
        "joinF = lambda left, right: left['studentID'] == right['studentID']\n",
        "cartesian = createCartesian(joinF)\n",
        "cartesianResult = cartesian(namedStudents, namedContacts)\n",
        "\n",
        "displayData(product(namedStudents, namedContacts))\n",
        "displayData(cartesianResult)\n",
        "#displayData(namedContacts)"
      ],
      "execution_count": 33,
      "outputs": [
        {
          "output_type": "error",
          "ename": "TypeError",
          "evalue": "ignored",
          "traceback": [
            "\u001b[0;31m---------------------------------------------------------------------------\u001b[0m",
            "\u001b[0;31mTypeError\u001b[0m                                 Traceback (most recent call last)",
            "\u001b[0;32m<ipython-input-33-418cb1f0a7bf>\u001b[0m in \u001b[0;36m<module>\u001b[0;34m()\u001b[0m\n\u001b[1;32m     11\u001b[0m \u001b[0mjoinF\u001b[0m \u001b[0;34m=\u001b[0m \u001b[0;32mlambda\u001b[0m \u001b[0mleft\u001b[0m\u001b[0;34m,\u001b[0m \u001b[0mright\u001b[0m\u001b[0;34m:\u001b[0m \u001b[0mleft\u001b[0m\u001b[0;34m[\u001b[0m\u001b[0;34m'studentID'\u001b[0m\u001b[0;34m]\u001b[0m \u001b[0;34m==\u001b[0m \u001b[0mright\u001b[0m\u001b[0;34m[\u001b[0m\u001b[0;34m'studentID'\u001b[0m\u001b[0;34m]\u001b[0m\u001b[0;34m\u001b[0m\u001b[0;34m\u001b[0m\u001b[0m\n\u001b[1;32m     12\u001b[0m \u001b[0mcartesian\u001b[0m \u001b[0;34m=\u001b[0m \u001b[0mcreateCartesian\u001b[0m\u001b[0;34m(\u001b[0m\u001b[0mjoinF\u001b[0m\u001b[0;34m)\u001b[0m\u001b[0;34m\u001b[0m\u001b[0;34m\u001b[0m\u001b[0m\n\u001b[0;32m---> 13\u001b[0;31m \u001b[0mcartesianResult\u001b[0m \u001b[0;34m=\u001b[0m \u001b[0mcartesian\u001b[0m\u001b[0;34m(\u001b[0m\u001b[0mnamedStudents\u001b[0m\u001b[0;34m,\u001b[0m \u001b[0mnamedContacts\u001b[0m\u001b[0;34m)\u001b[0m\u001b[0;34m\u001b[0m\u001b[0;34m\u001b[0m\u001b[0m\n\u001b[0m\u001b[1;32m     14\u001b[0m \u001b[0;34m\u001b[0m\u001b[0m\n\u001b[1;32m     15\u001b[0m \u001b[0mdisplayData\u001b[0m\u001b[0;34m(\u001b[0m\u001b[0mproduct\u001b[0m\u001b[0;34m(\u001b[0m\u001b[0mnamedStudents\u001b[0m\u001b[0;34m,\u001b[0m \u001b[0mnamedContacts\u001b[0m\u001b[0;34m)\u001b[0m\u001b[0;34m)\u001b[0m\u001b[0;34m\u001b[0m\u001b[0;34m\u001b[0m\u001b[0m\n",
            "\u001b[0;32m<ipython-input-33-418cb1f0a7bf>\u001b[0m in \u001b[0;36mcartesian\u001b[0;34m(firstG, secondG)\u001b[0m\n\u001b[1;32m      3\u001b[0m \u001b[0;32mdef\u001b[0m \u001b[0mcreateCartesian\u001b[0m\u001b[0;34m(\u001b[0m\u001b[0mjoinF\u001b[0m\u001b[0;34m)\u001b[0m\u001b[0;34m:\u001b[0m\u001b[0;34m\u001b[0m\u001b[0;34m\u001b[0m\u001b[0m\n\u001b[1;32m      4\u001b[0m   \u001b[0;32mdef\u001b[0m \u001b[0mcartesian\u001b[0m\u001b[0;34m(\u001b[0m\u001b[0mfirstG\u001b[0m\u001b[0;34m,\u001b[0m \u001b[0msecondG\u001b[0m\u001b[0;34m)\u001b[0m\u001b[0;34m:\u001b[0m\u001b[0;34m\u001b[0m\u001b[0;34m\u001b[0m\u001b[0m\n\u001b[0;32m----> 5\u001b[0;31m     \u001b[0;32mreturn\u001b[0m \u001b[0mfilter\u001b[0m\u001b[0;34m(\u001b[0m\u001b[0mproduct\u001b[0m\u001b[0;34m(\u001b[0m\u001b[0mfirstG\u001b[0m\u001b[0;34m,\u001b[0m \u001b[0msecondG\u001b[0m\u001b[0;34m)\u001b[0m\u001b[0;34m,\u001b[0m \u001b[0mjoinF\u001b[0m\u001b[0;34m)\u001b[0m\u001b[0;34m\u001b[0m\u001b[0;34m\u001b[0m\u001b[0m\n\u001b[0m\u001b[1;32m      6\u001b[0m   \u001b[0;32mreturn\u001b[0m \u001b[0mcartesian\u001b[0m\u001b[0;34m\u001b[0m\u001b[0;34m\u001b[0m\u001b[0m\n\u001b[1;32m      7\u001b[0m \u001b[0;34m\u001b[0m\u001b[0m\n",
            "\u001b[0;31mTypeError\u001b[0m: 'function' object is not iterable"
          ]
        }
      ]
    },
    {
      "cell_type": "markdown",
      "metadata": {
        "id": "rQIgrN141zD6",
        "colab_type": "text"
      },
      "source": [
        " ## MySQL\n",
        "\n",
        " V prostředí MySQL (viz první stack) s pomocí phpMyAdmin spusťte následující SQL příkaz převzato [odtud](https://github.com/SteveChevalier/Distilling-Data/blob/master/schema_data_01_Student%20Schema%20and%20Data.sql)\n",
        "```sql\n",
        "-- ---------------------------------------------------\n",
        "-- Part I - Create and Load Student Schema\n",
        "-- ---------------------------------------------------\n",
        "-- Create Schema (database) and set as default\n",
        "CREATE DATABASE IF NOT EXISTS `student_examples`;\n",
        "USE `student_examples`;\n",
        "\n",
        "-- create student and student contact tables\n",
        "DROP TABLE IF EXISTS `student`; \n",
        "CREATE TABLE `student` (\n",
        "  `studentID` int(11) NOT NULL AUTO_INCREMENT,\n",
        "  `FullName` text,\n",
        "  `sat_score` int(11) DEFAULT NULL,\n",
        "  `programOfStudy` text,\n",
        "  `schoolEmailAdr` text,\n",
        "  `rcd_Created` datetime DEFAULT CURRENT_TIMESTAMP,\n",
        "  `rcd_Updated` timestamp NOT NULL DEFAULT CURRENT_TIMESTAMP ON UPDATE CURRENT_TIMESTAMP,\n",
        "  PRIMARY KEY (`studentID`));\n",
        "  \n",
        "DROP TABLE IF EXISTS `student-contact-info`;\n",
        "CREATE TABLE `student-contact-info` (\n",
        "  `studentID` int(11) DEFAULT NULL,\n",
        "  `studentEmailAddr` text,\n",
        "  `student-phone-cell` text,\n",
        "  `student-US-zipcode` int(11) DEFAULT NULL);\n",
        "\n",
        "-- Load data\n",
        "INSERT INTO `student` \n",
        "\tVALUES (1,'Monique Davis',400,'Literature','Monique@someOtherSchool.edu','2017-08-16 15:34:50','2017-09-02 19:33:56'),\n",
        "\t\t(2,'Teri Gutierrez',800,'Programming','Teri@someOtherSchool.edu','2017-08-16 15:34:50','2017-09-02 19:33:56'),\n",
        "        (3,'Spencer Pautier',1000,'Programming','Spencer@someOtherSchool.edu','2017-08-16 15:34:50','2017-09-02 19:33:56'),\n",
        "        (4,'Louis Ramsey',1200,'Programming','Louis@someOtherSchool.edu','2017-08-16 15:34:50','2017-09-02 19:33:56'),\n",
        "        (5,'Alvin Greene',1200,'Programming','Alvin@someOtherSchool.edu','2017-08-16 15:34:50','2017-09-02 19:33:56'),\n",
        "        (6,'Sophie Freeman',1200,'Programming','Sophie@someOtherSchool.edu','2017-08-16 15:34:50','2017-09-02 19:33:56'),\n",
        "        (7,'Edgar Frank \\\"Ted\\\"\\\" Codd\\\"',2400,'Computer Science','Edgar@someOtherSchool.edu','2017-08-16 15:35:33','2017-09-02 19:33:56'),\n",
        "        (8,'Donald D. Chamberlin',2400,'Computer Science','Donald@someOtherSchool.edu','2017-08-16 15:35:33','2017-09-02 19:33:56'),\n",
        "        (9,'Raymond F. Boyce',2400,'Computer Science','Raymond@someOtherSchool.edu','2017-08-16 15:35:33','2017-09-02 19:33:56');\n",
        "\n",
        "INSERT INTO `student-contact-info` \n",
        "\tVALUES (1,'Monique.Davis@freeCodeCamp.org','555-555-5551',97111),\n",
        "    (2,'Teri.Gutierrez@freeCodeCamp.org','555-555-5552',97112),\n",
        "    (3,'Spencer.Pautier@freeCodeCamp.org','555-555-5553',97113),\n",
        "    (4,'Louis.Ramsey@freeCodeCamp.org','555-555-5554',0),\n",
        "    (5,'Alvin.Green@freeCodeCamp.org','555-555-5555',97115),\n",
        "    (6,'Sophie.Freeman@freeCodeCamp.org','555-555-5556',97116),\n",
        "    (7,'Maximo.Smith@freeCodeCamp.org','555-555-5557',97117),\n",
        "    (8,'Michael.Roach@freeCodeCamp.ort','555-555-5558',97118);\n",
        "\n",
        "\n",
        "-- end Part I schema create and data import\n",
        "```"
      ]
    },
    {
      "cell_type": "code",
      "metadata": {
        "id": "_FyStCMwLdmM",
        "colab_type": "code",
        "colab": {}
      },
      "source": [
        ""
      ],
      "execution_count": 0,
      "outputs": []
    }
  ]
}