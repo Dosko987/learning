{
  "nbformat": 4,
  "nbformat_minor": 0,
  "metadata": {
    "colab": {
      "name": "TeorieGrafů.ipynb",
      "provenance": [],
      "toc_visible": true,
      "authorship_tag": "ABX9TyN7ITgKpivSA0oAAAHr4wVE",
      "include_colab_link": true
    },
    "kernelspec": {
      "name": "python3",
      "display_name": "Python 3"
    }
  },
  "cells": [
    {
      "cell_type": "markdown",
      "metadata": {
        "id": "view-in-github",
        "colab_type": "text"
      },
      "source": [
        "<a href=\"https://colab.research.google.com/github/hrbolek/learning/blob/master/operanalyst/teoriegrafu.ipynb\" target=\"_parent\"><img src=\"https://colab.research.google.com/assets/colab-badge.svg\" alt=\"Open In Colab\"/></a>"
      ]
    },
    {
      "cell_type": "markdown",
      "metadata": {
        "id": "qpFKzzazBjuU"
      },
      "source": [
        "# Teorie grafů"
      ]
    },
    {
      "cell_type": "markdown",
      "metadata": {
        "id": "3gdDmS4GHtKj"
      },
      "source": [
        "## Matematický popis"
      ]
    },
    {
      "cell_type": "markdown",
      "metadata": {
        "id": "Lp3mwf85Bn27"
      },
      "source": [
        "$$G=(V,E)$$\n",
        "$V$ je množina vrcholů, $E\\subseteq\\{\\{x,y\\}|x,y \\in V, x \\ne y\\}$ je množina hran.\n",
        "\n",
        "Rozlišujeme neorientované a orientované grafy."
      ]
    },
    {
      "cell_type": "markdown",
      "metadata": {
        "id": "QVSrjg_RHwUE"
      },
      "source": [
        "## Grafické vyjádření"
      ]
    },
    {
      "cell_type": "markdown",
      "metadata": {
        "id": "jwzAlTV5JdPA"
      },
      "source": [
        "![obrazek.png](data:image/png;base64,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)"
      ]
    },
    {
      "cell_type": "markdown",
      "metadata": {
        "id": "X3qkykRFJeTK"
      },
      "source": [
        "## Vyjádření ve formě incidenční matice"
      ]
    },
    {
      "cell_type": "markdown",
      "metadata": {
        "id": "Kgjf32rkJneC"
      },
      "source": [
        "$$G_m=\n",
        "\\begin{pmatrix}\n",
        "\\times & 1 & 1 & 1 \\\\\n",
        "0 & \\times & 1 & 0 \\\\\n",
        "0 & 0 & \\times & 0 \\\\\n",
        "0 & 0 & 0 & \\times\n",
        "\\end{pmatrix}$$"
      ]
    },
    {
      "cell_type": "markdown",
      "metadata": {
        "id": "VygMYWUIKi6u"
      },
      "source": [
        "Symboly $\\times$ na diagonále matice představují nepřípustnost hrany, jejíž oba vrcholy jsou shodné (v některých grafech je toto možné). U existujících hran je uvedena hodnota 1, u neexistujících je uvedena hodnota 0. Řádky odpovídají vrcholům, ze kterých hrana vychází, sloupce odpovídají vrcholém, kde hrana končí."
      ]
    },
    {
      "cell_type": "markdown",
      "metadata": {
        "id": "F9MmJj32LnIr"
      },
      "source": [
        "### Vyjádření v programovacích jazycích"
      ]
    },
    {
      "cell_type": "markdown",
      "metadata": {
        "id": "JDHEepZ_LoWW"
      },
      "source": [
        "Vyjádření pomocí matice\n",
        "```\n",
        "G =[[0, 1, 1, 1], [0, 0, 1, 0], [0, 0, 0, 0], [0, 0, 0, 0]]\n",
        "```\n",
        "Vyjádření pomocí dictionary\n",
        "```\n",
        "G = {\n",
        "  'A': {'B': 1, 'C': 1, 'D': 1},\n",
        "  'B': {'C': 1}\n",
        "  }\n",
        "```\n"
      ]
    },
    {
      "cell_type": "markdown",
      "metadata": {
        "id": "9m410fbqMdB0"
      },
      "source": [
        "## Ohodnocení hran"
      ]
    },
    {
      "cell_type": "markdown",
      "metadata": {
        "id": "6LDGr_l1MgZU"
      },
      "source": [
        "Velmi častým případem je matematický graf, ve kterém je ke každé hraně přiřazena hodnota. Datový typ obecně není omezen, často se ovšem předpokládá, že touto hodnotou je číslo.\n",
        "\n",
        "Obdobně i k vrcholům muže být přiřazena hodnota."
      ]
    },
    {
      "cell_type": "markdown",
      "metadata": {
        "id": "V6CdK4fPMWUt"
      },
      "source": [
        "## Hledání nejkratší cesty v grafu"
      ]
    },
    {
      "cell_type": "markdown",
      "metadata": {
        "id": "Kb7E226INDid"
      },
      "source": [
        "Pro hledání nejkratší cesty v grafu je nutné mít jednotlivé hrany ohodnoceny číslem $f:V \\to \\mathbb{R}$ přičemž $f(v_i) \\ge 0$. Předpokládá se, že délka žádné hrany není záporná."
      ]
    },
    {
      "cell_type": "markdown",
      "metadata": {
        "id": "MlSXZe60OhXC"
      },
      "source": [
        "Dijkstrův algoritmus\n",
        "\n",
        "Mějme graf $G$, v němž hledáme nejkratší cestu. Řekněme, že $V$ je množina všech vrcholů grafu $G$ a&nbsp;množina $E$ obsahuje všechny hrany grafu $G$. Algoritmus pracuje tak, že si pro každý vrchol $v$ z&nbsp;$V$ pamatuje délku nejkratší cesty, kterou se k němu dá dostat. Označme tuto hodnotu jako $d[v]$. Na začátku mají všechny vrcholy $v$ hodnotu $d[v] = \\infty$, kromě počátečního vrcholu $s$, který má $d[s]=0$. Nekonečno symbolizuje, že neznáme cestu k&nbsp;vrcholu.\n",
        "\n",
        "Dále si algoritmus udržuje množiny $Z$ a&nbsp;$N$, kde $Z$ obsahuje už navštívené vrcholy a $N$ dosud nenavštívené. Algoritmus pracuje v&nbsp;cyklu tak dlouho, dokud $N$ není prázdná. V&nbsp;každém průchodu cyklu se přidá jeden vrchol $v_{min}$ z&nbsp;$N$ do&nbsp;$Z$, a&nbsp;to takový, který má nejmenší hodnotu $d[v]$ ze&nbsp;všech vrcholů $v$ z&nbsp;$N$.\n",
        "\n",
        "Pro každý vrchol $u$, do&nbsp;kterého vede hrana (označme její délku jako $l(v_{min},u)$) z $v_{min}$, se provede následující operace: pokud $(d[v_{min}] + l(v_{min},u)) < d[u]$, pak do&nbsp;$d[u]$ přiřaď hodnotu $d[v_{min}] + l(v_{min},u)$, jinak neprováděj nic.\n",
        "\n",
        "Když algoritmus skončí, pro každý vrchol $v$ z&nbsp;$V$ je délka jeho nejkratší cesty od počátečního vrcholu $s$ uložena v&nbsp;$d[v]$.\n",
        "\n",
        "Převzato z [Wiki](https://cs.wikipedia.org/wiki/Dijkstr%C5%AFv_algoritmus)."
      ]
    },
    {
      "cell_type": "markdown",
      "metadata": {
        "id": "vMfXumueQ4Su"
      },
      "source": [
        "### Výpočet s využitím Python"
      ]
    },
    {
      "cell_type": "code",
      "metadata": {
        "id": "vnrqKWhQBMK3"
      },
      "source": [
        "import networkx as nx"
      ],
      "execution_count": null,
      "outputs": []
    },
    {
      "cell_type": "code",
      "metadata": {
        "id": "mDFwUFinPIFF",
        "outputId": "944f1b6f-33b4-4a89-ab63-96b2996ee776",
        "colab": {
          "base_uri": "https://localhost:8080/"
        }
      },
      "source": [
        "G = nx.Graph()   # neorientovaný\n",
        "G = nx.DiGraph() # orientovaný\n",
        "G.add_edge('A', 'B', weight=4, delka=4, doba=2.8)\n",
        "G.add_edge('B', 'D', weight=2, delka=2, doba=2.5)\n",
        "G.add_edge('A', 'C', weight=3, delka=3, doba=3.5)\n",
        "G.add_edge('C', 'D', weight=4, delka=4, doba=4.5)\n",
        "path = nx.shortest_path(G, 'A', 'D', weight='doba')\n",
        "print(path)"
      ],
      "execution_count": null,
      "outputs": [
        {
          "output_type": "stream",
          "text": [
            "['A', 'B', 'D']\n"
          ],
          "name": "stdout"
        }
      ]
    },
    {
      "cell_type": "markdown",
      "metadata": {
        "id": "GgbGiQM6Zr6S"
      },
      "source": [
        "### Základní operace nad grafem v Python"
      ]
    },
    {
      "cell_type": "markdown",
      "metadata": {
        "id": "UafVDYjJZz9K"
      },
      "source": [
        "#### Výpis grafu"
      ]
    },
    {
      "cell_type": "code",
      "metadata": {
        "id": "7f9lBge5WAdu",
        "outputId": "981ef952-1d59-4543-cdb3-7285f0d1544f",
        "colab": {
          "base_uri": "https://localhost:8080/"
        }
      },
      "source": [
        "def displayGraph(G):\n",
        "  for nodeid, params in G.nodes.data():\n",
        "    print(nodeid, params)\n",
        "  for nodeA, nodeB, params in G.edges.data():\n",
        "    print(nodeA, nodeB, params)\n",
        "\n",
        "displayGraph(G)"
      ],
      "execution_count": null,
      "outputs": [
        {
          "output_type": "stream",
          "text": [
            "A {}\n",
            "B {}\n",
            "D {}\n",
            "C {}\n",
            "A B {'weight': 4, 'delka': 4, 'doba': 2.8}\n",
            "A C {'weight': 3, 'delka': 3, 'doba': 3.5}\n",
            "B D {'weight': 2, 'delka': 2, 'doba': 2.5}\n",
            "C D {'weight': 4, 'delka': 4, 'doba': 4.5}\n"
          ],
          "name": "stdout"
        }
      ]
    },
    {
      "cell_type": "markdown",
      "metadata": {
        "id": "LJobgoNRZ6Xk"
      },
      "source": [
        "#### Získání atributů vrcholu"
      ]
    },
    {
      "cell_type": "code",
      "metadata": {
        "id": "SKs2O_OCZ_Pg",
        "outputId": "d7611978-6142-44c1-b9d3-07423db895ea",
        "colab": {
          "base_uri": "https://localhost:8080/"
        }
      },
      "source": [
        "print(G.nodes['A'])"
      ],
      "execution_count": null,
      "outputs": [
        {
          "output_type": "stream",
          "text": [
            "{}\n"
          ],
          "name": "stdout"
        }
      ]
    },
    {
      "cell_type": "markdown",
      "metadata": {
        "id": "cCa2SZ9laiar"
      },
      "source": [
        "#### Nastavení atributu u vrcholu"
      ]
    },
    {
      "cell_type": "code",
      "metadata": {
        "id": "qm8F3PhWanpr",
        "outputId": "3ec354a8-05b3-4daf-8f54-8569a2b23815",
        "colab": {
          "base_uri": "https://localhost:8080/"
        }
      },
      "source": [
        "G.nodes['A']['s'] = 1\n",
        "print(G.nodes['A'])"
      ],
      "execution_count": null,
      "outputs": [
        {
          "output_type": "stream",
          "text": [
            "{'s': 1}\n"
          ],
          "name": "stdout"
        }
      ]
    },
    {
      "cell_type": "markdown",
      "metadata": {
        "id": "6uiGmnsqaBSK"
      },
      "source": [
        "#### Získání atributů hrany"
      ]
    },
    {
      "cell_type": "code",
      "metadata": {
        "id": "0jw6FQglaE91",
        "outputId": "6efdbc05-049c-4893-9351-7e0e86263ba7",
        "colab": {
          "base_uri": "https://localhost:8080/"
        }
      },
      "source": [
        "print(G.edges['A', 'B'])"
      ],
      "execution_count": null,
      "outputs": [
        {
          "output_type": "stream",
          "text": [
            "{'weight': 4, 'delka': 4, 'doba': 2.8}\n"
          ],
          "name": "stdout"
        }
      ]
    },
    {
      "cell_type": "markdown",
      "metadata": {
        "id": "tkR_RtXybnK_"
      },
      "source": [
        "#### Nastavení atributu u hrany"
      ]
    },
    {
      "cell_type": "code",
      "metadata": {
        "id": "XicILasCbulH",
        "outputId": "a7fe5e6c-3dac-4174-e790-b89a5667583d",
        "colab": {
          "base_uri": "https://localhost:8080/"
        }
      },
      "source": [
        "G.edges['A', 'B']['visited'] = True\n",
        "print(G.edges['A', 'B'])"
      ],
      "execution_count": null,
      "outputs": [
        {
          "output_type": "stream",
          "text": [
            "{'weight': 4, 'delka': 4, 'doba': 2.8, 'visited': True}\n"
          ],
          "name": "stdout"
        }
      ]
    },
    {
      "cell_type": "markdown",
      "metadata": {
        "id": "DRT3fpd7p1Vy"
      },
      "source": [
        "#### Následníci z vrcholu"
      ]
    },
    {
      "cell_type": "code",
      "metadata": {
        "id": "YO3i4h5Jp_gp",
        "outputId": "e7b9f44f-87cd-4318-e859-7fab8199e8ee",
        "colab": {
          "base_uri": "https://localhost:8080/"
        }
      },
      "source": [
        "def getAscendents(G, node): # Vrací následníky vrcholu v grafu\n",
        "  for item in nx.networkx.classes.function.neighbors(G, node):\n",
        "    yield item\n",
        "  pass\n",
        "\n",
        "for node in getAscendents(G, 'A'):\n",
        "  print(node)"
      ],
      "execution_count": null,
      "outputs": [
        {
          "output_type": "stream",
          "text": [
            "B\n",
            "C\n"
          ],
          "name": "stdout"
        }
      ]
    },
    {
      "cell_type": "markdown",
      "metadata": {
        "id": "EtTWjkMNp7gB"
      },
      "source": [
        "#### Předchůdci z vrcholu"
      ]
    },
    {
      "cell_type": "code",
      "metadata": {
        "id": "6HBZ9h68qGdU",
        "outputId": "01864df8-1d10-4263-f932-e594821f58cd",
        "colab": {
          "base_uri": "https://localhost:8080/"
        }
      },
      "source": [
        "def getPrecedents(G, node): # Vrací předchůdce vrcholu v grafu\n",
        "  for startNode, endNode, attributes in G.edges.data():\n",
        "    if endNode == node:\n",
        "      yield startNode\n",
        "  pass\n",
        "\n",
        "for node in getPrecedents(G, 'D'):\n",
        "  print(node)"
      ],
      "execution_count": null,
      "outputs": [
        {
          "output_type": "stream",
          "text": [
            "B\n",
            "C\n"
          ],
          "name": "stdout"
        }
      ]
    },
    {
      "cell_type": "markdown",
      "metadata": {
        "id": "oW6ZZ1Bs4SMG"
      },
      "source": [
        "#### Vykreslení grafu"
      ]
    },
    {
      "cell_type": "code",
      "metadata": {
        "id": "2d2144MwZwg6",
        "outputId": "07f376d9-7214-4c87-86b3-c1774d10a543",
        "colab": {
          "base_uri": "https://localhost:8080/",
          "height": 319
        }
      },
      "source": [
        "nx.draw(G, with_labels=True, font_weight='bold')"
      ],
      "execution_count": null,
      "outputs": [
        {
          "output_type": "display_data",
          "data": {
            "image/png": "[encoded data removed]",
            "text/plain": [
              "<Figure size 432x288 with 1 Axes>"
            ]
          },
          "metadata": {
            "tags": []
          }
        }
      ]
    },
    {
      "cell_type": "markdown",
      "metadata": {
        "id": "E6cUPgDWNUdv"
      },
      "source": [
        "#### Vykreslení grafu II"
      ]
    },
    {
      "cell_type": "code",
      "metadata": {
        "id": "CfOHcJ-2NZrs"
      },
      "source": [
        "G = nx.DiGraph()\n",
        "G.add_node('A')\n",
        "G.add_node('B')\n",
        "G.add_node('C')\n",
        "G.add_node('D')\n",
        "G.add_node('E')\n",
        "G.add_node('F')\n",
        "G.add_node('G')\n",
        "G.add_node('H')\n",
        "c = 0.01\n",
        "pos = {\n",
        "    'A': (c * 0, c * 50),\n",
        "    'B': (c * 50, c * 25),\n",
        "    'C': (c * 50, c * 75),\n",
        "    'E': (c * 150, c * 25),\n",
        "    'D': (c * 100, c * 50),\n",
        "    'F': (c * 100, c * 100),\n",
        "    'G': (c * 150, c * 75),\n",
        "    'H': (c * 200, c * 50)\n",
        "       }\n",
        "G.add_edge('A', 'B', sigma = 1, mean = 30, current = 30)\n",
        "G.add_edge('A', 'C', sigma = 3, mean = 20, current = 20)\n",
        "G.add_edge('B', 'E', sigma = 2, mean = 10, current = 10)\n",
        "G.add_edge('B', 'D', sigma = 4, mean = 40, current = 40)\n",
        "G.add_edge('C', 'D', sigma = 1, mean = 20, current = 20)\n",
        "G.add_edge('C', 'F', sigma = 2, mean = 20, current = 20)\n",
        "G.add_edge('D', 'H', sigma = 3, mean = 30, current = 30)\n",
        "G.add_edge('D', 'G', sigma = 1, mean = 20, current = 20)\n",
        "G.add_edge('E', 'H', sigma = 4, mean = 10, current = 10)\n",
        "G.add_edge('F', 'G', sigma = 2, mean = 30, current = 30)\n",
        "G.add_edge('G', 'H', sigma = 2, mean = 40, current = 40)"
      ],
      "execution_count": null,
      "outputs": []
    },
    {
      "cell_type": "code",
      "metadata": {
        "id": "1HEQc1zSNi0W",
        "outputId": "e703f6c2-b4c6-49d1-a0d3-ec0f0b37c17e",
        "colab": {
          "base_uri": "https://localhost:8080/",
          "height": 248
        }
      },
      "source": [
        "def printGraph(G, pos, edgeAttributeName):\n",
        "  edge_labels = nx.get_edge_attributes(G, edgeAttributeName)\n",
        "\n",
        "  _ = nx.networkx.draw_networkx_nodes(G, pos, node_color='y', node_size=1200)\n",
        "  _ = nx.networkx.draw_networkx_edges(G, pos, arrowsize=40)\n",
        "\n",
        "  _ = nx.networkx.draw_networkx_labels(G, pos)\n",
        "  _ = nx.networkx.draw_networkx_edge_labels(G, pos, edge_labels = edge_labels)\n",
        "\n",
        "printGraph(G, pos, 'current')"
      ],
      "execution_count": null,
      "outputs": [
        {
          "output_type": "display_data",
          "data": {
            "image/png": "[encoded data removed]",
            "text/plain": [
              "<Figure size 432x288 with 1 Axes>"
            ]
          },
          "metadata": {
            "tags": []
          }
        }
      ]
    },
    {
      "cell_type": "markdown",
      "metadata": {
        "id": "i3VuazGzNXmj"
      },
      "source": [
        ""
      ]
    },
    {
      "cell_type": "markdown",
      "metadata": {
        "id": "pVf78GPzHHSp"
      },
      "source": [
        "### Příklady"
      ]
    },
    {
      "cell_type": "markdown",
      "metadata": {
        "id": "UITEzxbhHLNh"
      },
      "source": [
        "#### Příklad podle WM"
      ]
    },
    {
      "cell_type": "code",
      "metadata": {
        "id": "JuO_qWCTHXA6"
      },
      "source": [
        ""
      ],
      "execution_count": null,
      "outputs": []
    },
    {
      "cell_type": "markdown",
      "metadata": {
        "id": "8eD7ADWAHQQ5"
      },
      "source": [
        "#### Příklad podle NP"
      ]
    },
    {
      "cell_type": "code",
      "metadata": {
        "id": "DU4-InkBHXog"
      },
      "source": [
        ""
      ],
      "execution_count": null,
      "outputs": []
    },
    {
      "cell_type": "markdown",
      "metadata": {
        "id": "CBp-wEp8HSoX"
      },
      "source": [
        "#### Příklad podle SL"
      ]
    },
    {
      "cell_type": "code",
      "metadata": {
        "id": "71j4AXp0HYWE"
      },
      "source": [
        ""
      ],
      "execution_count": null,
      "outputs": []
    },
    {
      "cell_type": "markdown",
      "metadata": {
        "id": "xNwQ3g3kRK1t"
      },
      "source": [
        "## Metoda kritické cesty (Critical path method CPM)"
      ]
    },
    {
      "cell_type": "markdown",
      "metadata": {
        "id": "fFRKAxHURQCd"
      },
      "source": [
        "V této úloze hrany představují činnosti a ohodnocení hrany určuje dobu trvání činností. Vrcholy reprezentují návaznosti činností."
      ]
    },
    {
      "cell_type": "markdown",
      "metadata": {
        "id": "-JiG4HE7rq_l"
      },
      "source": [
        "|ID |Předchůdci|Trvání|\n",
        "|:-:|:--------:|:----:|\n",
        "|A  |          |3     |\n",
        "|B  |          |5     |\n",
        "|C  |          |4     |\n",
        "|D  |A         |9     |\n",
        "|E  |C         |2     |\n",
        "|F  |B, D, E   |3     |\n",
        "|G  |C         |2     |\n",
        "|H  |A         |14    |\n",
        "|I  |H         |2     |\n",
        "|J  |F, G, H   |5     |\n",
        "|K  |F, G, H   |1     |\n",
        "|L  |K         |9     |\n",
        "|M  |I, J      |7     |\n",
        "|N  |L, M      |1     |"
      ]
    },
    {
      "cell_type": "markdown",
      "metadata": {
        "id": "vGYzmWp-opkV"
      },
      "source": [
        "#### Řešení v Python"
      ]
    },
    {
      "cell_type": "code",
      "metadata": {
        "id": "wEBlNOTLvPMl"
      },
      "source": [
        "gDict = {\n",
        "    'A': {'pre': [], 'duration': 3},\n",
        "    'B': {'pre': [], 'duration': 5},\n",
        "    'C': {'pre': [], 'duration': 4},\n",
        "    'D': {'pre': ['A'], 'duration': 9},\n",
        "    'E': {'pre': ['C'], 'duration': 2},\n",
        "    'F': {'pre': ['B', 'D', 'E'], 'duration': 3},\n",
        "    'G': {'pre': ['C'], 'duration': 2},\n",
        "    'H': {'pre': ['A'], 'duration': 14},\n",
        "    'I': {'pre': ['H'], 'duration': 2},\n",
        "    'J': {'pre': ['F', 'G', 'H'], 'duration': 5},\n",
        "    'K': {'pre': ['F', 'G', 'H'], 'duration': 1},\n",
        "    'L': {'pre': ['K'], 'duration': 9},\n",
        "    'M': {'pre': ['I', 'J'], 'duration': 7},\n",
        "    'N': {'pre': ['L', 'M'], 'duration': 1},\n",
        "    }\n",
        "c = 0.01\n",
        "pos = {\n",
        "    '0': (c * 0, c * 75),\n",
        "    'A': (c * 50, c * 25),\n",
        "    'B': (c * 50, c * 75),\n",
        "    'C': (c * 50, c * 125),\n",
        "    'D': (c * 100, c * 50),\n",
        "    'E': (c * 100, c * 100),\n",
        "    'F': (c * 125, c * 75),\n",
        "    'G': (c * 150, c * 125),\n",
        "    'H': (c * 150, c * 25),\n",
        "    'I': (c * 200, c * 25),\n",
        "    'J': (c * 200, c * 125),\n",
        "    'K': (c * 200, c * 75),\n",
        "    'L': (c * 250, c * 75),\n",
        "    'M': (c * 250, c * 50),\n",
        "    'N': (c * 300, c * 75)\n",
        "       }    "
      ],
      "execution_count": null,
      "outputs": []
    },
    {
      "cell_type": "code",
      "metadata": {
        "id": "_gWW1NjiwU2s",
        "outputId": "62a24643-66de-4acb-a531-313ad2b0da6d",
        "colab": {
          "base_uri": "https://localhost:8080/",
          "height": 1000
        }
      },
      "source": [
        "from pylab import rcParams\n",
        "rcParams['figure.figsize'] = 15, 10\n",
        "\n",
        "\n",
        "def fromDictToDiGraph(desc):\n",
        "  result = nx.DiGraph()\n",
        "  result.add_node('0')\n",
        "  for taskId, taskData in desc.items():\n",
        "    result.add_node(taskId)\n",
        "  for taskId, taskData in desc.items():\n",
        "    prevTasks = taskData['pre']\n",
        "    duration = taskData['duration']\n",
        "    for prevTask in prevTasks:\n",
        "      result.add_edge(prevTask, taskId, duration=duration)\n",
        "    if len(prevTasks) == 0:\n",
        "      result.add_edge('0', taskId, duration=duration)\n",
        "  return result\n",
        "\n",
        "\n",
        "G = fromDictToDiGraph(gDict)\n",
        "displayGraph(G)\n",
        "printGraph(G, pos, 'duration')"
      ],
      "execution_count": null,
      "outputs": [
        {
          "output_type": "stream",
          "text": [
            "0 {}\n",
            "A {}\n",
            "B {}\n",
            "C {}\n",
            "D {}\n",
            "E {}\n",
            "F {}\n",
            "G {}\n",
            "H {}\n",
            "I {}\n",
            "J {}\n",
            "K {}\n",
            "L {}\n",
            "M {}\n",
            "N {}\n",
            "0 A {'duration': 3}\n",
            "0 B {'duration': 5}\n",
            "0 C {'duration': 4}\n",
            "A D {'duration': 9}\n",
            "A H {'duration': 14}\n",
            "B F {'duration': 3}\n",
            "C E {'duration': 2}\n",
            "C G {'duration': 2}\n",
            "D F {'duration': 3}\n",
            "E F {'duration': 3}\n",
            "F J {'duration': 5}\n",
            "F K {'duration': 1}\n",
            "G J {'duration': 5}\n",
            "G K {'duration': 1}\n",
            "H I {'duration': 2}\n",
            "H J {'duration': 5}\n",
            "H K {'duration': 1}\n",
            "I M {'duration': 7}\n",
            "J M {'duration': 7}\n",
            "K L {'duration': 9}\n",
            "L N {'duration': 1}\n",
            "M N {'duration': 1}\n"
          ],
          "name": "stdout"
        },
        {
          "output_type": "display_data",
          "data": {
            "image/png": "[encoded data removed]",
            "text/plain": [
              "<Figure size 1080x720 with 1 Axes>"
            ]
          },
          "metadata": {
            "tags": []
          }
        }
      ]
    },
    {
      "cell_type": "code",
      "metadata": {
        "id": "SZ_aMzl3tBDd"
      },
      "source": [
        ""
      ],
      "execution_count": null,
      "outputs": []
    },
    {
      "cell_type": "markdown",
      "metadata": {
        "id": "C-YclzvE6Xk0"
      },
      "source": [
        "#### Datová incializace"
      ]
    },
    {
      "cell_type": "code",
      "metadata": {
        "id": "D068SqAbqfwC",
        "outputId": "3622c843-7e3f-43bb-9ab8-01e4c92d78c8",
        "colab": {
          "base_uri": "https://localhost:8080/"
        }
      },
      "source": [
        "def initStatistic(G): # Inicializuje úložiště výsledků pro jednotlivé hrany\n",
        "  for id, params in G.nodes.data():\n",
        "    params['deltaHistory'] = []\n",
        "\n",
        "def initNodesData(G): # Provádí inicializaci před výpočtem CPM\n",
        "  for id, params in G.nodes.data():\n",
        "    params['done'] = False #\n",
        "    params['lowRange'] = 0\n",
        "    params['highRange'] = 1000\n",
        "    params['delta'] = 1000\n",
        "\n",
        "initStatistic(G)\n",
        "initNodesData(G)\n",
        "displayGraph(G)"
      ],
      "execution_count": null,
      "outputs": [
        {
          "output_type": "stream",
          "text": [
            "0 {'deltaHistory': [], 'done': False, 'lowRange': 0, 'highRange': 1000, 'delta': 1000}\n",
            "A {'deltaHistory': [], 'done': False, 'lowRange': 0, 'highRange': 1000, 'delta': 1000}\n",
            "B {'deltaHistory': [], 'done': False, 'lowRange': 0, 'highRange': 1000, 'delta': 1000}\n",
            "C {'deltaHistory': [], 'done': False, 'lowRange': 0, 'highRange': 1000, 'delta': 1000}\n",
            "D {'deltaHistory': [], 'done': False, 'lowRange': 0, 'highRange': 1000, 'delta': 1000}\n",
            "E {'deltaHistory': [], 'done': False, 'lowRange': 0, 'highRange': 1000, 'delta': 1000}\n",
            "F {'deltaHistory': [], 'done': False, 'lowRange': 0, 'highRange': 1000, 'delta': 1000}\n",
            "G {'deltaHistory': [], 'done': False, 'lowRange': 0, 'highRange': 1000, 'delta': 1000}\n",
            "H {'deltaHistory': [], 'done': False, 'lowRange': 0, 'highRange': 1000, 'delta': 1000}\n",
            "I {'deltaHistory': [], 'done': False, 'lowRange': 0, 'highRange': 1000, 'delta': 1000}\n",
            "J {'deltaHistory': [], 'done': False, 'lowRange': 0, 'highRange': 1000, 'delta': 1000}\n",
            "K {'deltaHistory': [], 'done': False, 'lowRange': 0, 'highRange': 1000, 'delta': 1000}\n",
            "L {'deltaHistory': [], 'done': False, 'lowRange': 0, 'highRange': 1000, 'delta': 1000}\n",
            "M {'deltaHistory': [], 'done': False, 'lowRange': 0, 'highRange': 1000, 'delta': 1000}\n",
            "N {'deltaHistory': [], 'done': False, 'lowRange': 0, 'highRange': 1000, 'delta': 1000}\n",
            "0 A {'duration': 3}\n",
            "0 B {'duration': 5}\n",
            "0 C {'duration': 4}\n",
            "A D {'duration': 9}\n",
            "A H {'duration': 14}\n",
            "B F {'duration': 3}\n",
            "C E {'duration': 2}\n",
            "C G {'duration': 2}\n",
            "D F {'duration': 3}\n",
            "E F {'duration': 3}\n",
            "F J {'duration': 5}\n",
            "F K {'duration': 1}\n",
            "G J {'duration': 5}\n",
            "G K {'duration': 1}\n",
            "H I {'duration': 2}\n",
            "H J {'duration': 5}\n",
            "H K {'duration': 1}\n",
            "I M {'duration': 7}\n",
            "J M {'duration': 7}\n",
            "K L {'duration': 9}\n",
            "L N {'duration': 1}\n",
            "M N {'duration': 1}\n"
          ],
          "name": "stdout"
        }
      ]
    },
    {
      "cell_type": "markdown",
      "metadata": {
        "id": "lGd_RXI36fvX"
      },
      "source": [
        "#### Dopředné vyhodnocení u jednoho vrcholu"
      ]
    },
    {
      "cell_type": "code",
      "metadata": {
        "id": "VDddXTYPqkFY"
      },
      "source": [
        "def forwardEvaluation(G, node): # První fáze CPM u daného uzlu\n",
        "  timeMax = 0\n",
        "  for id in getPrecedents(G, node):\n",
        "    #print('forwardEvaluation', id)\n",
        "    attributes = G.nodes[id] #getNodeAttributes(G, id)\n",
        "    edgeAttributes = G.get_edge_data(id, node)\n",
        "    currentTime = attributes['lowRange'] + edgeAttributes['duration']\n",
        "    if timeMax < currentTime:\n",
        "      timeMax = currentTime\n",
        "  nodeAttributes = G.nodes[node]\n",
        "  nodeAttributes['lowRange'] = timeMax\n",
        "  nodeAttributes['done'] = True"
      ],
      "execution_count": null,
      "outputs": []
    },
    {
      "cell_type": "markdown",
      "metadata": {
        "id": "_JP7Uvvo6laR"
      },
      "source": [
        "#### Dopředné vyhodnocení u všech vrcholů"
      ]
    },
    {
      "cell_type": "code",
      "metadata": {
        "id": "JqatqXvlotop"
      },
      "source": [
        "def forwardEvaluationAll(G, firstNode): # První fáze CPM u všech uzlů\n",
        "  forwardEvaluation(G, firstNode)\n",
        "\n",
        "  while True:\n",
        "    goDeeper = False\n",
        "    nodeToEvaluate = None\n",
        "    for node, attributes in G.nodes.data():\n",
        "      if attributes['done'] == False:\n",
        "        done = False\n",
        "        nodeToEvaluate = node\n",
        "        break\n",
        "\n",
        "    if nodeToEvaluate is None:\n",
        "      break\n",
        "\n",
        "    while True:\n",
        "      goDeeper = False\n",
        "      pre = list(getPrecedents(G, nodeToEvaluate))\n",
        "      if len(pre) == 0:\n",
        "        break\n",
        "      for nextNode in pre:\n",
        "        nextNodeAttributes = G.nodes[nextNode]\n",
        "        if nextNodeAttributes['done'] == False:\n",
        "          nodeToEvaluate = nextNode\n",
        "          goDeeper = True\n",
        "          break\n",
        "      if goDeeper == False:\n",
        "        break\n",
        "\n",
        "    forwardEvaluation(G, nodeToEvaluate)    "
      ],
      "execution_count": null,
      "outputs": []
    },
    {
      "cell_type": "markdown",
      "metadata": {
        "id": "IhfvPvXf6p0j"
      },
      "source": [
        "#### Zpětné vyhodnocení jednoho vrcholu"
      ]
    },
    {
      "cell_type": "code",
      "metadata": {
        "id": "TKyFllJrqoaW"
      },
      "source": [
        "def backwardEvaluation(G, node): # Druhá fáze CPM u daného uzlu\n",
        "  timeMin = 1000\n",
        "  for id in getAscendents(G, node):\n",
        "    attributes = G.nodes[id]\n",
        "    edgeAttributes = G.get_edge_data(node, id)\n",
        "    currentTime = attributes['highRange'] - edgeAttributes['duration']\n",
        "    #print(node, id, currentTime)\n",
        "    if timeMin > currentTime:\n",
        "      timeMin = currentTime\n",
        "    #print(node, id, edgeAttributes)\n",
        "  nodeAttributes = G.nodes[node]\n",
        "  nodeAttributes['highRange'] = timeMin\n",
        "  nodeAttributes['done'] = True\n",
        "  #print(nodeAttributes)"
      ],
      "execution_count": null,
      "outputs": []
    },
    {
      "cell_type": "markdown",
      "metadata": {
        "id": "rIYPovpt6tnr"
      },
      "source": [
        "#### Zpětné vyhodnocení všech vrcholů"
      ]
    },
    {
      "cell_type": "code",
      "metadata": {
        "id": "28_T0yEfqtaG"
      },
      "source": [
        "def backwardEvaluationAll(G, firstNode): # Druhá fáze CPM pro všechny uzly\n",
        "  attributes = G.nodes[firstNode]\n",
        "  attributes['highRange'] = attributes['lowRange']\n",
        "  attributes['done'] = True\n",
        "  attributes = G.nodes[firstNode]\n",
        "\n",
        "  while True:\n",
        "    done = True\n",
        "    nodeToEvaluate = None\n",
        "    for node, attributes in G.nodes.data():\n",
        "      if attributes['done'] == False:\n",
        "        done = False\n",
        "        nodeToEvaluate = node\n",
        "        break\n",
        "\n",
        "    if nodeToEvaluate is None:\n",
        "      break\n",
        "\n",
        "    while True:\n",
        "      goDeeper = False\n",
        "      asc = list(getAscendents(G, nodeToEvaluate))\n",
        "      if len(asc) == 0:\n",
        "        break\n",
        "      for nextNode in asc:\n",
        "        nextNodeAttributes = G.nodes[nextNode]\n",
        "        if nextNodeAttributes['done'] == False:\n",
        "          nodeToEvaluate = nextNode\n",
        "          goDeeper = True\n",
        "          break\n",
        "      if goDeeper == False:\n",
        "        break\n",
        "\n",
        "    backwardEvaluation(G, nodeToEvaluate)"
      ],
      "execution_count": null,
      "outputs": []
    },
    {
      "cell_type": "markdown",
      "metadata": {
        "id": "zs2CHw5i6xap"
      },
      "source": [
        "#### Metoda CPM"
      ]
    },
    {
      "cell_type": "code",
      "metadata": {
        "id": "Q53lXjDXq7rU",
        "outputId": "b877bc03-4f10-4edd-f7e5-e74c462e809c",
        "colab": {
          "base_uri": "https://localhost:8080/"
        }
      },
      "source": [
        "def cpm(G): # Kompletní metoda CPM\n",
        "  initNodesData(G) # inicializace uzlů\n",
        "  forwardEvaluationAll(G, '0') # První fáze u všech uzlů\n",
        "  for id, params in G.nodes.data(): # nastavení příznaku \"Hotovo\" pro druhou fázi\n",
        "    params['done'] = False #\n",
        "  backwardEvaluationAll(G, 'N') # Druhá fáze\n",
        "  for id, params in G.nodes.data(): # Vyhodnocení rezerv pro všechny uzly\n",
        "    params['delta'] = params['highRange'] - params['lowRange']\n",
        "\n",
        "cpm(G)    \n",
        "displayGraph(G)"
      ],
      "execution_count": null,
      "outputs": [
        {
          "output_type": "stream",
          "text": [
            "0 {'deltaHistory': [], 'done': True, 'lowRange': 0, 'highRange': 0, 'delta': 0}\n",
            "A {'deltaHistory': [], 'done': True, 'lowRange': 3, 'highRange': 3, 'delta': 0}\n",
            "B {'deltaHistory': [], 'done': True, 'lowRange': 5, 'highRange': 14, 'delta': 9}\n",
            "C {'deltaHistory': [], 'done': True, 'lowRange': 4, 'highRange': 12, 'delta': 8}\n",
            "D {'deltaHistory': [], 'done': True, 'lowRange': 12, 'highRange': 14, 'delta': 2}\n",
            "E {'deltaHistory': [], 'done': True, 'lowRange': 6, 'highRange': 14, 'delta': 8}\n",
            "F {'deltaHistory': [], 'done': True, 'lowRange': 15, 'highRange': 17, 'delta': 2}\n",
            "G {'deltaHistory': [], 'done': True, 'lowRange': 6, 'highRange': 17, 'delta': 11}\n",
            "H {'deltaHistory': [], 'done': True, 'lowRange': 17, 'highRange': 17, 'delta': 0}\n",
            "I {'deltaHistory': [], 'done': True, 'lowRange': 19, 'highRange': 22, 'delta': 3}\n",
            "J {'deltaHistory': [], 'done': True, 'lowRange': 22, 'highRange': 22, 'delta': 0}\n",
            "K {'deltaHistory': [], 'done': True, 'lowRange': 18, 'highRange': 20, 'delta': 2}\n",
            "L {'deltaHistory': [], 'done': True, 'lowRange': 27, 'highRange': 29, 'delta': 2}\n",
            "M {'deltaHistory': [], 'done': True, 'lowRange': 29, 'highRange': 29, 'delta': 0}\n",
            "N {'deltaHistory': [], 'done': True, 'lowRange': 30, 'highRange': 30, 'delta': 0}\n",
            "0 A {'duration': 3}\n",
            "0 B {'duration': 5}\n",
            "0 C {'duration': 4}\n",
            "A D {'duration': 9}\n",
            "A H {'duration': 14}\n",
            "B F {'duration': 3}\n",
            "C E {'duration': 2}\n",
            "C G {'duration': 2}\n",
            "D F {'duration': 3}\n",
            "E F {'duration': 3}\n",
            "F J {'duration': 5}\n",
            "F K {'duration': 1}\n",
            "G J {'duration': 5}\n",
            "G K {'duration': 1}\n",
            "H I {'duration': 2}\n",
            "H J {'duration': 5}\n",
            "H K {'duration': 1}\n",
            "I M {'duration': 7}\n",
            "J M {'duration': 7}\n",
            "K L {'duration': 9}\n",
            "L N {'duration': 1}\n",
            "M N {'duration': 1}\n"
          ],
          "name": "stdout"
        }
      ]
    },
    {
      "cell_type": "markdown",
      "metadata": {
        "id": "D6OYT6ehooZO"
      },
      "source": [
        ""
      ]
    },
    {
      "cell_type": "code",
      "metadata": {
        "id": "nQZ9Kbdd4jSm",
        "outputId": "192f28e0-f5ff-4ba9-8a5e-e48fb29fa6dc",
        "colab": {
          "base_uri": "https://localhost:8080/"
        }
      },
      "source": [
        "comprehension = (((e[0], e[1]), e[2]['duration']) for e in G.edges.data())\n",
        "print(dict(comprehension))\n",
        "print(nx.get_edge_attributes(G, 'duration'))"
      ],
      "execution_count": null,
      "outputs": [
        {
          "output_type": "stream",
          "text": [
            "{('0', 'A'): 3, ('0', 'B'): 5, ('0', 'C'): 4, ('A', 'D'): 9, ('A', 'H'): 14, ('B', 'F'): 3, ('C', 'E'): 2, ('C', 'G'): 2, ('D', 'F'): 3, ('E', 'F'): 3, ('F', 'J'): 5, ('F', 'K'): 1, ('G', 'J'): 5, ('G', 'K'): 1, ('H', 'I'): 2, ('H', 'J'): 5, ('H', 'K'): 1, ('I', 'M'): 7, ('J', 'M'): 7, ('K', 'L'): 9, ('L', 'N'): 1, ('M', 'N'): 1}\n",
            "{('0', 'A'): 3, ('0', 'B'): 5, ('0', 'C'): 4, ('A', 'D'): 9, ('A', 'H'): 14, ('B', 'F'): 3, ('C', 'E'): 2, ('C', 'G'): 2, ('D', 'F'): 3, ('E', 'F'): 3, ('F', 'J'): 5, ('F', 'K'): 1, ('G', 'J'): 5, ('G', 'K'): 1, ('H', 'I'): 2, ('H', 'J'): 5, ('H', 'K'): 1, ('I', 'M'): 7, ('J', 'M'): 7, ('K', 'L'): 9, ('L', 'N'): 1, ('M', 'N'): 1}\n"
          ],
          "name": "stdout"
        }
      ]
    },
    {
      "cell_type": "code",
      "metadata": {
        "id": "Ilw-JNhW2WAa",
        "outputId": "e5d5b6de-e7a2-4a75-fc19-dd9b94fa71e7",
        "colab": {
          "base_uri": "https://localhost:8080/",
          "height": 575
        }
      },
      "source": [
        "nx.drawing.nx_pylab.draw_networkx(G, pos)\n",
        "edge_labels = nx.get_edge_attributes(G, 'duration')\n",
        "\n",
        "labelFromNodeData = lambda nd: str(nd['lowRange']) + '    ' + str(nd['highRange'])\n",
        "\n",
        "node_labels = {n[0]: labelFromNodeData(n[1]) for n in G.nodes.data()}\n",
        "#print(node_labels)\n",
        "\n",
        "nx.drawing.nx_pylab.draw_networkx_edge_labels(G, pos, edge_labels=edge_labels)\n",
        "nx.drawing.nx_pylab.draw_networkx_labels(G, pos, labels=node_labels, verticalalignment='top', font_size=16);"
      ],
      "execution_count": null,
      "outputs": [
        {
          "output_type": "display_data",
          "data": {
            "image/png": "[encoded data removed]",
            "text/plain": [
              "<Figure size 1080x720 with 1 Axes>"
            ]
          },
          "metadata": {
            "tags": []
          }
        }
      ]
    },
    {
      "cell_type": "code",
      "metadata": {
        "id": "a0hjdYWdHftK",
        "outputId": "b451945b-b200-459c-d8cc-960e65b02270",
        "colab": {
          "base_uri": "https://localhost:8080/"
        }
      },
      "source": [
        "for edge in G.edges.data():\n",
        "  startNode = G.nodes[edge[0]]\n",
        "  endNode = G.nodes[edge[1]]\n",
        "  edge[2]['earlyStart'] = startNode['lowRange']\n",
        "  edge[2]['lateStart'] = startNode['highRange']\n",
        "  edge[2]['earlyEnd'] = endNode['lowRange']\n",
        "  edge[2]['lateEnd'] = endNode['highRange']\n",
        "  edge[2]['spareTime'] = startNode['highRange'] - startNode['lowRange']\n",
        "  #print(startNode, endNode)\n",
        "  print(edge)"
      ],
      "execution_count": null,
      "outputs": [
        {
          "output_type": "stream",
          "text": [
            "('0', 'A', {'duration': 3, 'earlyStart': 0, 'lateStart': 0, 'earlyEnd': 3, 'lateEnd': 3, 'spareTime': 0})\n",
            "('0', 'B', {'duration': 5, 'earlyStart': 0, 'lateStart': 0, 'earlyEnd': 5, 'lateEnd': 14, 'spareTime': 0})\n",
            "('0', 'C', {'duration': 4, 'earlyStart': 0, 'lateStart': 0, 'earlyEnd': 4, 'lateEnd': 12, 'spareTime': 0})\n",
            "('A', 'D', {'duration': 9, 'earlyStart': 3, 'lateStart': 3, 'earlyEnd': 12, 'lateEnd': 14, 'spareTime': 0})\n",
            "('A', 'H', {'duration': 14, 'earlyStart': 3, 'lateStart': 3, 'earlyEnd': 17, 'lateEnd': 17, 'spareTime': 0})\n",
            "('B', 'F', {'duration': 3, 'earlyStart': 5, 'lateStart': 14, 'earlyEnd': 15, 'lateEnd': 17, 'spareTime': 9})\n",
            "('C', 'E', {'duration': 2, 'earlyStart': 4, 'lateStart': 12, 'earlyEnd': 6, 'lateEnd': 14, 'spareTime': 8})\n",
            "('C', 'G', {'duration': 2, 'earlyStart': 4, 'lateStart': 12, 'earlyEnd': 6, 'lateEnd': 17, 'spareTime': 8})\n",
            "('D', 'F', {'duration': 3, 'earlyStart': 12, 'lateStart': 14, 'earlyEnd': 15, 'lateEnd': 17, 'spareTime': 2})\n",
            "('E', 'F', {'duration': 3, 'earlyStart': 6, 'lateStart': 14, 'earlyEnd': 15, 'lateEnd': 17, 'spareTime': 8})\n",
            "('F', 'J', {'duration': 5, 'earlyStart': 15, 'lateStart': 17, 'earlyEnd': 22, 'lateEnd': 22, 'spareTime': 2})\n",
            "('F', 'K', {'duration': 1, 'earlyStart': 15, 'lateStart': 17, 'earlyEnd': 18, 'lateEnd': 20, 'spareTime': 2})\n",
            "('G', 'J', {'duration': 5, 'earlyStart': 6, 'lateStart': 17, 'earlyEnd': 22, 'lateEnd': 22, 'spareTime': 11})\n",
            "('G', 'K', {'duration': 1, 'earlyStart': 6, 'lateStart': 17, 'earlyEnd': 18, 'lateEnd': 20, 'spareTime': 11})\n",
            "('H', 'I', {'duration': 2, 'earlyStart': 17, 'lateStart': 17, 'earlyEnd': 19, 'lateEnd': 22, 'spareTime': 0})\n",
            "('H', 'J', {'duration': 5, 'earlyStart': 17, 'lateStart': 17, 'earlyEnd': 22, 'lateEnd': 22, 'spareTime': 0})\n",
            "('H', 'K', {'duration': 1, 'earlyStart': 17, 'lateStart': 17, 'earlyEnd': 18, 'lateEnd': 20, 'spareTime': 0})\n",
            "('I', 'M', {'duration': 7, 'earlyStart': 19, 'lateStart': 22, 'earlyEnd': 29, 'lateEnd': 29, 'spareTime': 3})\n",
            "('J', 'M', {'duration': 7, 'earlyStart': 22, 'lateStart': 22, 'earlyEnd': 29, 'lateEnd': 29, 'spareTime': 0})\n",
            "('K', 'L', {'duration': 9, 'earlyStart': 18, 'lateStart': 20, 'earlyEnd': 27, 'lateEnd': 29, 'spareTime': 2})\n",
            "('L', 'N', {'duration': 1, 'earlyStart': 27, 'lateStart': 29, 'earlyEnd': 30, 'lateEnd': 30, 'spareTime': 2})\n",
            "('M', 'N', {'duration': 1, 'earlyStart': 29, 'lateStart': 29, 'earlyEnd': 30, 'lateEnd': 30, 'spareTime': 0})\n"
          ],
          "name": "stdout"
        }
      ]
    },
    {
      "cell_type": "code",
      "metadata": {
        "id": "i4RZGXDBBWxG",
        "outputId": "814eefca-24ce-4006-c14b-829917bec07d",
        "colab": {
          "base_uri": "https://localhost:8080/"
        }
      },
      "source": [
        "from matplotlib import pyplot as plt\n",
        "from matplotlib.patches import Rectangle\n",
        "from matplotlib.collections import PatchCollection\n",
        "\n",
        "\n",
        "nodesData = ({'x': index, 'yl': node[1]['lowRange'], 'width': node[1]['highRange']} for index, node in enumerate(G.nodes.data()))\n",
        "print(nodesData)\n",
        "#rectangles = [Rectangle((node[1]['lowRange'], index), node[1]['highRange'] - node[1]['lowRange'], 1) for node in nodesData]\n",
        "#pc = PatchCollection(rectangles, facecolor='r', edgecolor='None')\n",
        "\n",
        "#fig, ax = plt.subplots(1)\n",
        "#ax.plot([1, 2, 3], [1, 4, 6])\n",
        "#ax.add_collection(pc)"
      ],
      "execution_count": null,
      "outputs": [
        {
          "output_type": "stream",
          "text": [
            "<generator object <genexpr> at 0x7fea87bc1518>\n"
          ],
          "name": "stdout"
        }
      ]
    },
    {
      "cell_type": "markdown",
      "metadata": {
        "id": "W-l8TKGUz_OK"
      },
      "source": [
        "### Příklad"
      ]
    },
    {
      "cell_type": "markdown",
      "metadata": {
        "id": "_ZSblt900BmK"
      },
      "source": [
        "|Id| Název| Předchůdci| Trvání|\n",
        "|:-:|:-:|:-:|:-:|\n",
        "|A| Výkopy| —| 2 týdny|\n",
        "|B| Základní deska |A| 4 týdny|\n",
        "|C| Hrubé zdění| B| 10 týdnů|\n",
        "|D| Střechy| C| 6 týdnů|\n",
        "|E| Vnější výplně otvorů| C| 4 týdny|\n",
        "|F| Vnitřní výplně otvorů| E| 5 týdnů|\n",
        "|G| Fasáda| D| 7 týdnů|\n",
        "|H| Detailní vnější úpravy| E, G| 9 týdnů|\n",
        "|I| Elektrické rozvody| C| 7 týdnů|\n",
        "|J| Vnitřní omítky| F, I| 8 týdnů|\n",
        "|K| Podlahy| J| 4 týdny|\n",
        "|L| Detailní vnitřní úpravy| J| 5 týdnů|\n",
        "|M| Instalace vnějšího osvětlení| H| 2 týdny|\n",
        "|N| Instalace cnitřního osvětlení| K, L| 6 týdnů|"
      ]
    },
    {
      "cell_type": "markdown",
      "metadata": {
        "id": "0uz__REA_QEl"
      },
      "source": [
        "### Příklad"
      ]
    },
    {
      "cell_type": "markdown",
      "metadata": {
        "id": "Wn0lT_Qv_SL3"
      },
      "source": [
        "|Id| Název| Předchůdci| Trvání|\n",
        "|:-:|:-:|:-:|:-:|\n",
        "|A| Potvrdit hlavního speakera a téma| —| 5 dnů|\n",
        "|B| Připravit leták | -| 1 den|\n",
        "|C| Poslat dopis ostatním vystupujícím| B| 1 den|\n",
        "|D| Získat potvrzení od vystupujících| C| 5 dnů|\n",
        "|E| Poslat dopis účastníkům| C, D| 2 dny|\n",
        "|F| Získat plán cesty od vystupujících| D| 2 dny|\n",
        "|G| Zajistit ubytování pro vystupující| F| 1 den|\n",
        "|H| Získat od vystupujících prezentace| F| 4 dny|\n",
        "|I| Ukončit registrace| G,H| 10 dnů|\n",
        "|J| Připravit místnost a AV techniku| I| 1 den|\n",
        "|K| Realizovat program| J| 1 den|\n"
      ]
    },
    {
      "cell_type": "markdown",
      "metadata": {
        "id": "zr8RZz_k_4mN"
      },
      "source": [
        "### Příklad"
      ]
    },
    {
      "cell_type": "markdown",
      "metadata": {
        "id": "_8nF8ye0_7Tl"
      },
      "source": [
        ""
      ]
    },
    {
      "cell_type": "markdown",
      "metadata": {
        "id": "CE4mB95Z1snd"
      },
      "source": [
        "## Metoda PERT"
      ]
    },
    {
      "cell_type": "markdown",
      "metadata": {
        "id": "coM5LKRlQ_-7"
      },
      "source": [
        "https://www.nasa.gov/pdf/741989main_Analytic%20Method%20for%20Risk%20Analysis%20-%20Final%20Report.pdf\n"
      ]
    },
    {
      "cell_type": "markdown",
      "metadata": {
        "id": "AatlgHMY1vzK"
      },
      "source": [
        "**P**roject **E**valuation and **R**eview **T**echnique\n",
        "Při použití metody PERT se u každého úkolu stanovují tři ukazatele\n",
        "- střední odhad trvání ($b$)\n",
        "- optimistický odhad trvání ($a$)\n",
        "- pesimistický odhad trvání ($c$)\n",
        "\n",
        "K modelování pravděpodobnostního rozložení doby trvání činnosti se používá Beta rozdělení.\n",
        "https://en.wikipedia.org/wiki/PERT_distribution\n",
        "\n",
        "Očekávaný čas počítáme jako\n",
        "$$t=\\frac{a+4b+c}{6}$$\n",
        "\n",
        "Standardní odchylku\n",
        "\n",
        "$$\\sigma=\\frac{c-a}{6}$$\n",
        "\n",
        "Pro součet se používají následující vztahy\n",
        "$$T=\\sum_{i=0}^n t_i$$\n",
        "$$\\Sigma=\\sqrt{\\sum_{i=0}^n \\sigma_i^2} $$\n",
        "\n",
        "Celý výpočet je shodný s metodou CPM s tím, že součástí výpočtu jsou i ukazatele $t_i$ a $\\sigma_i$, které umožňují pracovat s pravděpodobnostmi trvání činností.\n"
      ]
    },
    {
      "cell_type": "markdown",
      "metadata": {
        "id": "ouqgT56G5vzP"
      },
      "source": [
        "![o](https://wikimedia.org/api/rest_v1/media/math/render/svg/7a94b51abd577174de8d05ff8cad24fcb01c916e)\n",
        "\n",
        "![p](https://wikimedia.org/api/rest_v1/media/math/render/svg/113eb11600ecf459b72c79d56b3377f4c608ac39)\n",
        "\n",
        "![q](https://wikimedia.org/api/rest_v1/media/math/render/svg/3c236587c6c920b883cee9e71b233cb97e150df7)"
      ]
    },
    {
      "cell_type": "markdown",
      "metadata": {
        "id": "jHi23kcaax76"
      },
      "source": [
        "### Křivka rozložení pravděpodobnosti"
      ]
    },
    {
      "cell_type": "code",
      "metadata": {
        "id": "87LlY8ae20NL",
        "outputId": "9662d4c4-d969-47b4-808b-da401fe5cce9",
        "colab": {
          "base_uri": "https://localhost:8080/",
          "height": 592
        }
      },
      "source": [
        "import numpy as np\n",
        "from math import sqrt\n",
        "from scipy.stats import beta as beta_disc\n",
        "import matplotlib.pyplot as plt\n",
        "\n",
        "def createPertCdf(optimistic, mostlikely, pesimistic, lam = 4, cdf=True):\n",
        "  alpha = 1 + lam * (mostlikely - optimistic) / (pesimistic - optimistic)\n",
        "  beta = 1 + lam * (pesimistic - mostlikely) / (pesimistic - optimistic)\n",
        "  \n",
        "  mean = (optimistic + lam * mostlikely + pesimistic) / (2 + lam)\n",
        "  var = (mean - optimistic) * (pesimistic - mean) / (3 + lam)\n",
        "\n",
        "  #skew = 2 * (beta - alpha) * sqrt(alpha + beta + 1) / ((alpha + beta + 2) * sqrt(alpha * beta))\n",
        "  #kurt = (lamb + 2) * (\n",
        "  #    ((alpha - beta)**2) * (alpha + beta + 1) + alpha * beta * (alpha + beta + 2)\n",
        "  #    ) / (alpha * beta * (alpha + beta + 2) * (alpha + beta + 3))\n",
        "\n",
        "  range = pesimistic - optimistic\n",
        "  def pdff(value):\n",
        "    x = (value - optimistic) / range\n",
        "    result = beta_disc.pdf(x, alpha, beta) / range\n",
        "    return result\n",
        "\n",
        "  def cdff(value):\n",
        "    x = (value - optimistic) / range\n",
        "    result = beta_disc.cdf(x, alpha, beta)\n",
        "    return result\n",
        "  if cdf:\n",
        "    return cdff\n",
        "  else:\n",
        "    return pdff\n",
        "\n",
        "def plotPertA(optimistic=2, mostlikely=3.5, pesimistic=5, cdf=False):\n",
        "  #optimistic = 2\n",
        "  #mostlikely = 3.5\n",
        "  #pesimistic = 5\n",
        "  cdfF = createPertCdf(optimistic, mostlikely, pesimistic)\n",
        "  pdfF = createPertCdf(optimistic, mostlikely, pesimistic, cdf=False)\n",
        "  x = np.linspace(optimistic, pesimistic)\n",
        "  y = [cdfF(value) for value in x]\n",
        "  y2 = [pdfF(value) for value in x]\n",
        "\n",
        "  plt.plot(x, y2)\n",
        "  if cdf:\n",
        "    plt.plot(x, y)\n",
        "  plt.grid('both')\n",
        "\n",
        "#plotPertA(optimistic=2, mostlikely=3.5, pesimistic=5)  \n",
        "plotPertA(optimistic=2, mostlikely=3.5, pesimistic=5, cdf=True)  "
      ],
      "execution_count": null,
      "outputs": [
        {
          "output_type": "display_data",
          "data": {
            "image/png": "[encoded data removed]",
            "text/plain": [
              "<Figure size 1080x720 with 1 Axes>"
            ]
          },
          "metadata": {
            "tags": [],
            "needs_background": "light"
          }
        }
      ]
    },
    {
      "cell_type": "markdown",
      "metadata": {
        "id": "CBbnv9l1a84N"
      },
      "source": [
        "### Odvození parametrů pro symetrickou hustotu pravděpodobnosti"
      ]
    },
    {
      "cell_type": "markdown",
      "metadata": {
        "id": "MLroakNUIIrv"
      },
      "source": [
        "Jestliže předpokládáme, že $b-a=c-b$, potom $\\alpha=\\beta$.\n",
        "\n",
        "$$t=\\frac{a+4b+c}{6}$$\n",
        "$$b-a=c-b$$\n",
        "$$c+a=2b$$\n",
        "$$t=\\frac{a+c+4b}{6}$$\n",
        "$$t=\\frac{2b+4b}{6}$$\n",
        "$$t=b$$\n",
        "\n",
        "Standardní odchylka\n",
        "$$\\sigma=\\frac{c-a}{6}$$\n",
        "můžeme vyjádřit jako\n",
        "$$\\sigma=\\frac{(c-b)+(b-a)}{6}$$\n",
        "s využitím podmínky\n",
        "$$b-a=c-b$$\n",
        "dostáváme\n",
        "$$\\sigma=\\frac{(c-b)}{3}$$\n",
        "$$3\\sigma=(c-b)$$\n",
        "a tedy horní hranice\n",
        "$$c=b+3\\sigma$$\n",
        "ze stejné rovnice\n",
        "$$3\\sigma=(c-b)$$\n",
        "spolu s\n",
        "$$b-a=c-b$$\n",
        "dostáváme\n",
        "$$3\\sigma=(b-a)$$\n",
        "a tedy dolní hranice\n",
        "$$a=b-3\\sigma$$\n",
        "\n"
      ]
    },
    {
      "cell_type": "markdown",
      "metadata": {
        "id": "M_ndyY5CbE8Q"
      },
      "source": [
        "### Hustota pravděpodobnosti pro různá $\\sigma$"
      ]
    },
    {
      "cell_type": "code",
      "metadata": {
        "id": "fVIvwaUvXsY_",
        "outputId": "a8a3e9fd-bc38-4c35-980c-dd6155b52053",
        "colab": {
          "base_uri": "https://localhost:8080/",
          "height": 592
        }
      },
      "source": [
        "def plotPertB(t, sigma, cdf=False):\n",
        "  plotPertA(optimistic=t-3*sigma, mostlikely=t, pesimistic=t+3*sigma, cdf=cdf)  \n",
        "\n",
        "plotPertB(10, 1)\n",
        "plotPertB(10, 2)\n",
        "plotPertB(10, 3)"
      ],
      "execution_count": null,
      "outputs": [
        {
          "output_type": "display_data",
          "data": {
            "image/png": "[encoded data removed]",
            "text/plain": [
              "<Figure size 1080x720 with 1 Axes>"
            ]
          },
          "metadata": {
            "tags": [],
            "needs_background": "light"
          }
        }
      ]
    },
    {
      "cell_type": "markdown",
      "metadata": {
        "id": "2jN2pJCybPjj"
      },
      "source": [
        "### Pravděpodobnosti pro násobky $\\sigma$"
      ]
    },
    {
      "cell_type": "code",
      "metadata": {
        "id": "Lvyh0XQpZmtm",
        "outputId": "e31f57b1-0b7b-4c05-cada-555f291a0672",
        "colab": {
          "base_uri": "https://localhost:8080/",
          "height": 610
        }
      },
      "source": [
        "t = 10\n",
        "sigma = 1\n",
        "plotPertB(t, sigma, cdf=True)\n",
        "plt.plot([t-sigma, t-sigma], [0, 1], label='$-\\sigma$')\n",
        "plt.plot([t-2*sigma, t-2*sigma], [0, 1], label='$-2\\sigma$')\n",
        "plt.plot([t+sigma, t+sigma], [0, 1], label='$\\sigma$')\n",
        "plt.plot([t+2*sigma, t+2*sigma], [0, 1], label='$2\\sigma$')\n",
        "plt.legend()"
      ],
      "execution_count": null,
      "outputs": [
        {
          "output_type": "execute_result",
          "data": {
            "text/plain": [
              "<matplotlib.legend.Legend at 0x7fea861793c8>"
            ]
          },
          "metadata": {
            "tags": []
          },
          "execution_count": 47
        },
        {
          "output_type": "display_data",
          "data": {
            "image/png": "[encoded data removed]",
            "text/plain": [
              "<Figure size 1080x720 with 1 Axes>"
            ]
          },
          "metadata": {
            "tags": [],
            "needs_background": "light"
          }
        }
      ]
    },
    {
      "cell_type": "markdown",
      "metadata": {
        "id": "gYT0lU3TbbDi"
      },
      "source": [
        "Z grafu lze vyčísti, že dokončení projektu v čase:\n",
        "- $t-2\\sigma$ je cca 5%,\n",
        "- $t-\\sigma$ je cca 20%,\n",
        "- $t$ je 50%,\n",
        "- $t+\\sigma$ je cca 80%,\n",
        "- $t+2\\sigma$ je cca 95%,"
      ]
    },
    {
      "cell_type": "markdown",
      "metadata": {
        "id": "YKSBNNpCCM-f"
      },
      "source": [
        "### Příklad"
      ]
    },
    {
      "cell_type": "markdown",
      "metadata": {
        "id": "NApTxJYq8Qtw"
      },
      "source": [
        "|Id| Název| Předchůdci| Trvání|\n",
        "|:-:|:-:|:-:|:-:|\n",
        "|A| Výkopy| —| 2 týdny|\n",
        "|B| Základní deska |A| 4 týdny|\n",
        "|C| Hrubé zdění| B| 10 týdnů|\n",
        "|D| Střechy| C| 6 týdnů|\n",
        "|E| Vnější výplně otvorů| C| 4 týdny|\n",
        "|F| Vnitřní výplně otvorů| E| 5 týdnů|\n",
        "|G| Fasáda| D| 7 týdnů|\n",
        "|H| Detailní vnější úpravy| E, G| 9 týdnů|\n",
        "|I| Elektrické rozvody| C| 7 týdnů|\n",
        "|J| Vnitřní omítky| F, I| 8 týdnů|\n",
        "|K| Podlahy| J| 4 týdny|\n",
        "|L| Detailní vnitřní úpravy| J| 5 týdnů|\n",
        "|M| Instalace vnějšího osvětlení| H| 2 týdny|\n",
        "|N| Instalace cnitřního osvětlení| K, L| 6 týdnů|\n",
        "\n",
        "|Id | $a_i$| $b_i$ | $c_i$ | $t_i$ | $\\sigma_i$  |\n",
        "|:-:|:-:|---:|---:|:-:|:-:|\n",
        "|A  | 1 | 2.0| 3 |   |   |\n",
        "|B  | 2 | 3.5| 8 |   |   |\n",
        "|C  | 6 | 9.0| 18|   |   |\n",
        "|D  | 4 | 5.5| 10|   |   |\n",
        "|E  | 1 | 4.5| 5 |   |   |\n",
        "|F  | 4 | 4.0| 10|   |   |\n",
        "|G  | 5 | 6.5| 11|   |   |\n",
        "|H  | 5 | 8.0| 17|   |   |\n",
        "|I  | 3 | 7.5| 9 |   |   |\n",
        "|J  | 3 | 9.0| 9 |   |   |\n",
        "|K  | 4 | 4.0| 4 |   |   |\n",
        "|L  | 1 | 2.0| 3 |   |   |\n",
        "|M  | 1 | 2.0| 3 |   |   |\n",
        "|N  | 5 | 5.5| 9 |   |   |"
      ]
    },
    {
      "cell_type": "markdown",
      "metadata": {
        "id": "EU98unH-CPT6"
      },
      "source": [
        "### Příklad"
      ]
    },
    {
      "cell_type": "markdown",
      "metadata": {
        "id": "AC9r9DJZCRhf"
      },
      "source": [
        "\n",
        "|Id |   | $a_i$| $b_i$ | $c_i$ | $t_i$ | $\\sigma_i$  |\n",
        "|:-:|:-:|:-:|---:|---:|:-:|:-:|\n",
        "|A  | -  | 2 | 5 | 14 |   |   |\n",
        "|B  | -  | 1 | 10| 12 |   |   |\n",
        "|C  | A  | 0 | 0 | 6  |   |   |\n",
        "|D  | A  | 1 | 4 | 7  |   |   |\n",
        "|E  | C  | 3 | 10| 15 |   |   |\n",
        "|F  | D  | 3 | 5 | 7  |   |   |\n",
        "|G  | B  | 1 | 2 | 3  |   |   |\n",
        "|H  |E, F| 5 | 10| 15 |   |   |\n",
        "|I  | G  | 3 | 6 | 9  |   |   |\n"
      ]
    },
    {
      "cell_type": "markdown",
      "metadata": {
        "id": "idOrMc3MDrfr"
      },
      "source": [
        "### Příklad"
      ]
    },
    {
      "cell_type": "markdown",
      "metadata": {
        "id": "64aVvquyDto0"
      },
      "source": [
        "|ID |Description|Predecesor|$a_i$|$b_i$|$c_i$|$t_i$|$\\sigma_i$|\n",
        "|:-:|:---------:|:--------:|:---:|:---:|:---:|:---:|:-:|\n",
        "|1|Start|NA|0|0|0|0|\n",
        "|2|Producers\tasociation\torganization|1|59|70|93|72|\n",
        "|3|Historical\tfeatures\tdevelopment|1|22|33|56|35|\n",
        "|4|To\thire\texpeditor|1|22|30|50|32|\n",
        "|5|Twenty\tbeneficiaries\tidentification\t|1|31|40|61|42|\n",
        "|6|Producers\tasociation\tformalization|2|30|51|90|54|\n",
        "|7|Cultural\tfeatures\tdevelopment|3|22|33|56|35|\n",
        "|8|Technical\tnorm\tproposal\tdevelopment|6,7|25|38|51|38|\n",
        "|9|Technical\tnorm\tproposal\tapproval|8|36|54|102|59|\n",
        "|10|Ten\tbeneficiaries\tdiagnosis|4,5|25|40|55|40|\n",
        "|11|Techinical\tassistance\tto\tfive\tbeneficiaries|10|59|70|93|72|\n",
        "|12|Joining\tof\tfive\tentrepreneurs\twith\texporters|11|25|35|45|35|\n",
        "|13|Ten\tbeneficiaries\tdiagnosis|10|25|40|55|40|\n",
        "|14|Techinical\tassistance\tto\tfive\tbeneficiaries|13|59|70|93|72|\n",
        "15|Joining\tof\tfive\tentrepreneurs\twith\texporters|14|25|35|45|35|"
      ]
    },
    {
      "cell_type": "markdown",
      "metadata": {
        "id": "rhs8G2PqDQvZ"
      },
      "source": [
        "## Řešitel"
      ]
    },
    {
      "cell_type": "code",
      "metadata": {
        "id": "5cItuxpfUPPr"
      },
      "source": [
        "table = [\n",
        "  {'id': '1', 'label': 'Start', 'predecessors': [], 'optimistic': 0, 'mostlikely': 0, 'pesimistic': 0} , \n",
        "  {'id': '2', 'label': 'Producers asociatopn organization', 'predecessors': ['1'], 'optimistic': 59, 'mostlikely': 70, 'pesimistic': 93} , \n",
        "  {'id': '3', 'label': 'Historical features development', 'predecessors': ['1'], 'optimistic': 22, 'mostlikely': 33, 'pesimistic': 56} , \n",
        "  {'id': '4', 'label': 'To hire expeditor', 'predecessors': ['1'], 'optimistic': 22, 'mostlikely': 30, 'pesimistic': 50} , \n",
        "  {'id': '5', 'label': 'Twenty beneficiaries identification', 'predecessors': ['1'], 'optimistic': 31, 'mostlikely': 40, 'pesimistic': 61} , \n",
        "  {'id': '6', 'label': 'Producers asociation formalization', 'predecessors': ['2'], 'optimistic': 30, 'mostlikely': 51, 'pesimistic': 90} , \n",
        "  {'id': '7', 'label': 'Cultural features development', 'predecessors': ['3'], 'optimistic': 22, 'mostlikely': 33, 'pesimistic': 56} , \n",
        "  {'id': '8', 'label': 'Technical norm proposal development', 'predecessors': ['6', '7'], 'optimistic': 25, 'mostlikely': 38, 'pesimistic': 51} , \n",
        "  {'id': '9', 'label': 'Technical norm proposal approval', 'predecessors': ['8'], 'optimistic': 36, 'mostlikely': 54, 'pesimistic': 102} , \n",
        "  {'id': '10', 'label': 'Ten beneficiaries diagnosis', 'predecessors': ['4', '5'], 'optimistic': 25, 'mostlikely': 40, 'pesimistic': 55} , \n",
        "  {'id': '11', 'label': 'Techinical assistance to five beneficiaries', 'predecessors': ['10'], 'optimistic': 59, 'mostlikely': 70, 'pesimistic': 93} , \n",
        "  {'id': '12', 'label': 'Joining of five entrepreneurs with exporters', 'predecessors': ['11'], 'optimistic': 25, 'mostlikely': 35, 'pesimistic': 45} , \n",
        "  {'id': '13', 'label': 'Ten beneficiaries diagnosis', 'predecessors': ['10'], 'optimistic': 25, 'mostlikely': 40, 'pesimistic': 55} , \n",
        "  {'id': '14', 'label': 'Techinical assistance to five beneficiaries', 'predecessors': ['13'], 'optimistic': 59, 'mostlikely': 70, 'pesimistic': 93} , \n",
        "  {'id': '15', 'label': 'Joining of five entrepreneurs with exporters', 'predecessors': ['14'], 'optimistic': 25, 'mostlikely': 35, 'pesimistic': 45} , \n",
        "]"
      ],
      "execution_count": 15,
      "outputs": []
    },
    {
      "cell_type": "markdown",
      "metadata": {
        "id": "GAxZ2fXQcTwb"
      },
      "source": [
        "Tisk výsledků"
      ]
    },
    {
      "cell_type": "code",
      "metadata": {
        "id": "iI-cGM5HcV66",
        "outputId": "6b4839d9-e964-4bbf-ea00-472f86a6ef26",
        "colab": {
          "base_uri": "https://localhost:8080/",
          "height": 520
        }
      },
      "source": [
        "import pandas as pd\n",
        "def printTable(table):\n",
        "  df = pd.DataFrame(table)\n",
        "  display(df)\n",
        "\n",
        "printTable(table)  "
      ],
      "execution_count": 16,
      "outputs": [
        {
          "output_type": "display_data",
          "data": {
            "text/html": [
              "<div>\n",
              "<style scoped>\n",
              "    .dataframe tbody tr th:only-of-type {\n",
              "        vertical-align: middle;\n",
              "    }\n",
              "\n",
              "    .dataframe tbody tr th {\n",
              "        vertical-align: top;\n",
              "    }\n",
              "\n",
              "    .dataframe thead th {\n",
              "        text-align: right;\n",
              "    }\n",
              "</style>\n",
              "<table border=\"1\" class=\"dataframe\">\n",
              "  <thead>\n",
              "    <tr style=\"text-align: right;\">\n",
              "      <th></th>\n",
              "      <th>id</th>\n",
              "      <th>label</th>\n",
              "      <th>predecessors</th>\n",
              "      <th>optimistic</th>\n",
              "      <th>mostlikely</th>\n",
              "      <th>pesimistic</th>\n",
              "    </tr>\n",
              "  </thead>\n",
              "  <tbody>\n",
              "    <tr>\n",
              "      <th>0</th>\n",
              "      <td>1</td>\n",
              "      <td>Start</td>\n",
              "      <td>[]</td>\n",
              "      <td>0</td>\n",
              "      <td>0</td>\n",
              "      <td>0</td>\n",
              "    </tr>\n",
              "    <tr>\n",
              "      <th>1</th>\n",
              "      <td>2</td>\n",
              "      <td>Producers asociatopn organization</td>\n",
              "      <td>[1]</td>\n",
              "      <td>59</td>\n",
              "      <td>70</td>\n",
              "      <td>93</td>\n",
              "    </tr>\n",
              "    <tr>\n",
              "      <th>2</th>\n",
              "      <td>3</td>\n",
              "      <td>Historical features development</td>\n",
              "      <td>[1]</td>\n",
              "      <td>22</td>\n",
              "      <td>33</td>\n",
              "      <td>56</td>\n",
              "    </tr>\n",
              "    <tr>\n",
              "      <th>3</th>\n",
              "      <td>4</td>\n",
              "      <td>To hire expeditor</td>\n",
              "      <td>[1]</td>\n",
              "      <td>22</td>\n",
              "      <td>30</td>\n",
              "      <td>50</td>\n",
              "    </tr>\n",
              "    <tr>\n",
              "      <th>4</th>\n",
              "      <td>5</td>\n",
              "      <td>Twenty beneficiaries identification</td>\n",
              "      <td>[1]</td>\n",
              "      <td>31</td>\n",
              "      <td>40</td>\n",
              "      <td>61</td>\n",
              "    </tr>\n",
              "    <tr>\n",
              "      <th>5</th>\n",
              "      <td>6</td>\n",
              "      <td>Producers asociation formalization</td>\n",
              "      <td>[2]</td>\n",
              "      <td>30</td>\n",
              "      <td>51</td>\n",
              "      <td>90</td>\n",
              "    </tr>\n",
              "    <tr>\n",
              "      <th>6</th>\n",
              "      <td>7</td>\n",
              "      <td>Cultural features development</td>\n",
              "      <td>[3]</td>\n",
              "      <td>22</td>\n",
              "      <td>33</td>\n",
              "      <td>56</td>\n",
              "    </tr>\n",
              "    <tr>\n",
              "      <th>7</th>\n",
              "      <td>8</td>\n",
              "      <td>Technical norm proposal development</td>\n",
              "      <td>[6, 7]</td>\n",
              "      <td>25</td>\n",
              "      <td>38</td>\n",
              "      <td>51</td>\n",
              "    </tr>\n",
              "    <tr>\n",
              "      <th>8</th>\n",
              "      <td>9</td>\n",
              "      <td>Technical norm proposal approval</td>\n",
              "      <td>[8]</td>\n",
              "      <td>36</td>\n",
              "      <td>54</td>\n",
              "      <td>102</td>\n",
              "    </tr>\n",
              "    <tr>\n",
              "      <th>9</th>\n",
              "      <td>10</td>\n",
              "      <td>Ten beneficiaries diagnosis</td>\n",
              "      <td>[4, 5]</td>\n",
              "      <td>25</td>\n",
              "      <td>40</td>\n",
              "      <td>55</td>\n",
              "    </tr>\n",
              "    <tr>\n",
              "      <th>10</th>\n",
              "      <td>11</td>\n",
              "      <td>Techinical assistance to five beneficiaries</td>\n",
              "      <td>[10]</td>\n",
              "      <td>59</td>\n",
              "      <td>70</td>\n",
              "      <td>93</td>\n",
              "    </tr>\n",
              "    <tr>\n",
              "      <th>11</th>\n",
              "      <td>12</td>\n",
              "      <td>Joining of five entrepreneurs with exporters</td>\n",
              "      <td>[11]</td>\n",
              "      <td>25</td>\n",
              "      <td>35</td>\n",
              "      <td>45</td>\n",
              "    </tr>\n",
              "    <tr>\n",
              "      <th>12</th>\n",
              "      <td>13</td>\n",
              "      <td>Ten beneficiaries diagnosis</td>\n",
              "      <td>[10]</td>\n",
              "      <td>25</td>\n",
              "      <td>40</td>\n",
              "      <td>55</td>\n",
              "    </tr>\n",
              "    <tr>\n",
              "      <th>13</th>\n",
              "      <td>14</td>\n",
              "      <td>Techinical assistance to five beneficiaries</td>\n",
              "      <td>[13]</td>\n",
              "      <td>59</td>\n",
              "      <td>70</td>\n",
              "      <td>93</td>\n",
              "    </tr>\n",
              "    <tr>\n",
              "      <th>14</th>\n",
              "      <td>15</td>\n",
              "      <td>Joining of five entrepreneurs with exporters</td>\n",
              "      <td>[14]</td>\n",
              "      <td>25</td>\n",
              "      <td>35</td>\n",
              "      <td>45</td>\n",
              "    </tr>\n",
              "  </tbody>\n",
              "</table>\n",
              "</div>"
            ],
            "text/plain": [
              "    id                                         label  ... mostlikely  pesimistic\n",
              "0    1                                         Start  ...          0           0\n",
              "1    2             Producers asociatopn organization  ...         70          93\n",
              "2    3               Historical features development  ...         33          56\n",
              "3    4                             To hire expeditor  ...         30          50\n",
              "4    5           Twenty beneficiaries identification  ...         40          61\n",
              "5    6            Producers asociation formalization  ...         51          90\n",
              "6    7                 Cultural features development  ...         33          56\n",
              "7    8           Technical norm proposal development  ...         38          51\n",
              "8    9              Technical norm proposal approval  ...         54         102\n",
              "9   10                   Ten beneficiaries diagnosis  ...         40          55\n",
              "10  11   Techinical assistance to five beneficiaries  ...         70          93\n",
              "11  12  Joining of five entrepreneurs with exporters  ...         35          45\n",
              "12  13                   Ten beneficiaries diagnosis  ...         40          55\n",
              "13  14   Techinical assistance to five beneficiaries  ...         70          93\n",
              "14  15  Joining of five entrepreneurs with exporters  ...         35          45\n",
              "\n",
              "[15 rows x 6 columns]"
            ]
          },
          "metadata": {
            "tags": []
          }
        }
      ]
    },
    {
      "cell_type": "markdown",
      "metadata": {
        "id": "frEEutjXcdA1"
      },
      "source": [
        "Inicializace $t$ a $\\sigma$"
      ]
    },
    {
      "cell_type": "code",
      "metadata": {
        "id": "BEJbbGkuch7K",
        "outputId": "863f6c24-b545-4de4-a372-da752e499a32",
        "colab": {
          "base_uri": "https://localhost:8080/",
          "height": 520
        }
      },
      "source": [
        "def calculateTAndSigma(table):\n",
        "  result = []\n",
        "  for item in table:\n",
        "    a = item['optimistic']\n",
        "    b = item['mostlikely']\n",
        "    c = item['pesimistic']\n",
        "    t = (a + 4 * b + c) / 6\n",
        "    sigma = (c - a) / 6\n",
        "    newItem = {**item, 't': t, 'sigma': sigma, 'successors': []}\n",
        "    result.append(newItem)\n",
        "  return result\n",
        "\n",
        "table = calculateTAndSigma(table)  \n",
        "printTable(table)"
      ],
      "execution_count": 17,
      "outputs": [
        {
          "output_type": "display_data",
          "data": {
            "text/html": [
              "<div>\n",
              "<style scoped>\n",
              "    .dataframe tbody tr th:only-of-type {\n",
              "        vertical-align: middle;\n",
              "    }\n",
              "\n",
              "    .dataframe tbody tr th {\n",
              "        vertical-align: top;\n",
              "    }\n",
              "\n",
              "    .dataframe thead th {\n",
              "        text-align: right;\n",
              "    }\n",
              "</style>\n",
              "<table border=\"1\" class=\"dataframe\">\n",
              "  <thead>\n",
              "    <tr style=\"text-align: right;\">\n",
              "      <th></th>\n",
              "      <th>id</th>\n",
              "      <th>label</th>\n",
              "      <th>predecessors</th>\n",
              "      <th>optimistic</th>\n",
              "      <th>mostlikely</th>\n",
              "      <th>pesimistic</th>\n",
              "      <th>t</th>\n",
              "      <th>sigma</th>\n",
              "      <th>successors</th>\n",
              "    </tr>\n",
              "  </thead>\n",
              "  <tbody>\n",
              "    <tr>\n",
              "      <th>0</th>\n",
              "      <td>1</td>\n",
              "      <td>Start</td>\n",
              "      <td>[]</td>\n",
              "      <td>0</td>\n",
              "      <td>0</td>\n",
              "      <td>0</td>\n",
              "      <td>0.0</td>\n",
              "      <td>0.000000</td>\n",
              "      <td>[]</td>\n",
              "    </tr>\n",
              "    <tr>\n",
              "      <th>1</th>\n",
              "      <td>2</td>\n",
              "      <td>Producers asociatopn organization</td>\n",
              "      <td>[1]</td>\n",
              "      <td>59</td>\n",
              "      <td>70</td>\n",
              "      <td>93</td>\n",
              "      <td>72.0</td>\n",
              "      <td>5.666667</td>\n",
              "      <td>[]</td>\n",
              "    </tr>\n",
              "    <tr>\n",
              "      <th>2</th>\n",
              "      <td>3</td>\n",
              "      <td>Historical features development</td>\n",
              "      <td>[1]</td>\n",
              "      <td>22</td>\n",
              "      <td>33</td>\n",
              "      <td>56</td>\n",
              "      <td>35.0</td>\n",
              "      <td>5.666667</td>\n",
              "      <td>[]</td>\n",
              "    </tr>\n",
              "    <tr>\n",
              "      <th>3</th>\n",
              "      <td>4</td>\n",
              "      <td>To hire expeditor</td>\n",
              "      <td>[1]</td>\n",
              "      <td>22</td>\n",
              "      <td>30</td>\n",
              "      <td>50</td>\n",
              "      <td>32.0</td>\n",
              "      <td>4.666667</td>\n",
              "      <td>[]</td>\n",
              "    </tr>\n",
              "    <tr>\n",
              "      <th>4</th>\n",
              "      <td>5</td>\n",
              "      <td>Twenty beneficiaries identification</td>\n",
              "      <td>[1]</td>\n",
              "      <td>31</td>\n",
              "      <td>40</td>\n",
              "      <td>61</td>\n",
              "      <td>42.0</td>\n",
              "      <td>5.000000</td>\n",
              "      <td>[]</td>\n",
              "    </tr>\n",
              "    <tr>\n",
              "      <th>5</th>\n",
              "      <td>6</td>\n",
              "      <td>Producers asociation formalization</td>\n",
              "      <td>[2]</td>\n",
              "      <td>30</td>\n",
              "      <td>51</td>\n",
              "      <td>90</td>\n",
              "      <td>54.0</td>\n",
              "      <td>10.000000</td>\n",
              "      <td>[]</td>\n",
              "    </tr>\n",
              "    <tr>\n",
              "      <th>6</th>\n",
              "      <td>7</td>\n",
              "      <td>Cultural features development</td>\n",
              "      <td>[3]</td>\n",
              "      <td>22</td>\n",
              "      <td>33</td>\n",
              "      <td>56</td>\n",
              "      <td>35.0</td>\n",
              "      <td>5.666667</td>\n",
              "      <td>[]</td>\n",
              "    </tr>\n",
              "    <tr>\n",
              "      <th>7</th>\n",
              "      <td>8</td>\n",
              "      <td>Technical norm proposal development</td>\n",
              "      <td>[6, 7]</td>\n",
              "      <td>25</td>\n",
              "      <td>38</td>\n",
              "      <td>51</td>\n",
              "      <td>38.0</td>\n",
              "      <td>4.333333</td>\n",
              "      <td>[]</td>\n",
              "    </tr>\n",
              "    <tr>\n",
              "      <th>8</th>\n",
              "      <td>9</td>\n",
              "      <td>Technical norm proposal approval</td>\n",
              "      <td>[8]</td>\n",
              "      <td>36</td>\n",
              "      <td>54</td>\n",
              "      <td>102</td>\n",
              "      <td>59.0</td>\n",
              "      <td>11.000000</td>\n",
              "      <td>[]</td>\n",
              "    </tr>\n",
              "    <tr>\n",
              "      <th>9</th>\n",
              "      <td>10</td>\n",
              "      <td>Ten beneficiaries diagnosis</td>\n",
              "      <td>[4, 5]</td>\n",
              "      <td>25</td>\n",
              "      <td>40</td>\n",
              "      <td>55</td>\n",
              "      <td>40.0</td>\n",
              "      <td>5.000000</td>\n",
              "      <td>[]</td>\n",
              "    </tr>\n",
              "    <tr>\n",
              "      <th>10</th>\n",
              "      <td>11</td>\n",
              "      <td>Techinical assistance to five beneficiaries</td>\n",
              "      <td>[10]</td>\n",
              "      <td>59</td>\n",
              "      <td>70</td>\n",
              "      <td>93</td>\n",
              "      <td>72.0</td>\n",
              "      <td>5.666667</td>\n",
              "      <td>[]</td>\n",
              "    </tr>\n",
              "    <tr>\n",
              "      <th>11</th>\n",
              "      <td>12</td>\n",
              "      <td>Joining of five entrepreneurs with exporters</td>\n",
              "      <td>[11]</td>\n",
              "      <td>25</td>\n",
              "      <td>35</td>\n",
              "      <td>45</td>\n",
              "      <td>35.0</td>\n",
              "      <td>3.333333</td>\n",
              "      <td>[]</td>\n",
              "    </tr>\n",
              "    <tr>\n",
              "      <th>12</th>\n",
              "      <td>13</td>\n",
              "      <td>Ten beneficiaries diagnosis</td>\n",
              "      <td>[10]</td>\n",
              "      <td>25</td>\n",
              "      <td>40</td>\n",
              "      <td>55</td>\n",
              "      <td>40.0</td>\n",
              "      <td>5.000000</td>\n",
              "      <td>[]</td>\n",
              "    </tr>\n",
              "    <tr>\n",
              "      <th>13</th>\n",
              "      <td>14</td>\n",
              "      <td>Techinical assistance to five beneficiaries</td>\n",
              "      <td>[13]</td>\n",
              "      <td>59</td>\n",
              "      <td>70</td>\n",
              "      <td>93</td>\n",
              "      <td>72.0</td>\n",
              "      <td>5.666667</td>\n",
              "      <td>[]</td>\n",
              "    </tr>\n",
              "    <tr>\n",
              "      <th>14</th>\n",
              "      <td>15</td>\n",
              "      <td>Joining of five entrepreneurs with exporters</td>\n",
              "      <td>[14]</td>\n",
              "      <td>25</td>\n",
              "      <td>35</td>\n",
              "      <td>45</td>\n",
              "      <td>35.0</td>\n",
              "      <td>3.333333</td>\n",
              "      <td>[]</td>\n",
              "    </tr>\n",
              "  </tbody>\n",
              "</table>\n",
              "</div>"
            ],
            "text/plain": [
              "    id                                         label  ...      sigma  successors\n",
              "0    1                                         Start  ...   0.000000          []\n",
              "1    2             Producers asociatopn organization  ...   5.666667          []\n",
              "2    3               Historical features development  ...   5.666667          []\n",
              "3    4                             To hire expeditor  ...   4.666667          []\n",
              "4    5           Twenty beneficiaries identification  ...   5.000000          []\n",
              "5    6            Producers asociation formalization  ...  10.000000          []\n",
              "6    7                 Cultural features development  ...   5.666667          []\n",
              "7    8           Technical norm proposal development  ...   4.333333          []\n",
              "8    9              Technical norm proposal approval  ...  11.000000          []\n",
              "9   10                   Ten beneficiaries diagnosis  ...   5.000000          []\n",
              "10  11   Techinical assistance to five beneficiaries  ...   5.666667          []\n",
              "11  12  Joining of five entrepreneurs with exporters  ...   3.333333          []\n",
              "12  13                   Ten beneficiaries diagnosis  ...   5.000000          []\n",
              "13  14   Techinical assistance to five beneficiaries  ...   5.666667          []\n",
              "14  15  Joining of five entrepreneurs with exporters  ...   3.333333          []\n",
              "\n",
              "[15 rows x 9 columns]"
            ]
          },
          "metadata": {
            "tags": []
          }
        }
      ]
    },
    {
      "cell_type": "markdown",
      "metadata": {
        "id": "NHxIYxKXc3M0"
      },
      "source": [
        "Jeden krok výpočtu"
      ]
    },
    {
      "cell_type": "code",
      "metadata": {
        "id": "VDZD_5emc561",
        "outputId": "df80c779-180c-4f70-f4cc-6ccc6400d33f",
        "colab": {
          "base_uri": "https://localhost:8080/",
          "height": 520
        }
      },
      "source": [
        "def calculateTimeForward(table, id):\n",
        "  result = []\n",
        "  for row in table:\n",
        "    if row['id'] == id:\n",
        "\n",
        "      predecessors = row['predecessors']\n",
        "      earlyStart = 0\n",
        "      for predecessorId in predecessors:\n",
        "        predecestor = retrieveRecord(table, predecessorId)\n",
        "        if not 'earlyEnd' in predecestor:\n",
        "          return table, predecessorId\n",
        "        if earlyStart is None:\n",
        "          earlyStart = predecestor['earlyEnd']\n",
        "        elif earlyStart < predecestor['earlyEnd']:\n",
        "          earlyStart = predecestor['earlyEnd']\n",
        "      newRow = {**row, 'earlyStart': earlyStart, 'earlyEnd': earlyStart + row['t']}\n",
        "      result.append(newRow)\n",
        "    else:\n",
        "      result.append({**row})\n",
        "  return result, id\n",
        "\n",
        "table, id = calculateTimeForward(table, table[0]['id'])  \n",
        "printTable(table)  "
      ],
      "execution_count": 19,
      "outputs": [
        {
          "output_type": "display_data",
          "data": {
            "text/html": [
              "<div>\n",
              "<style scoped>\n",
              "    .dataframe tbody tr th:only-of-type {\n",
              "        vertical-align: middle;\n",
              "    }\n",
              "\n",
              "    .dataframe tbody tr th {\n",
              "        vertical-align: top;\n",
              "    }\n",
              "\n",
              "    .dataframe thead th {\n",
              "        text-align: right;\n",
              "    }\n",
              "</style>\n",
              "<table border=\"1\" class=\"dataframe\">\n",
              "  <thead>\n",
              "    <tr style=\"text-align: right;\">\n",
              "      <th></th>\n",
              "      <th>id</th>\n",
              "      <th>label</th>\n",
              "      <th>predecessors</th>\n",
              "      <th>optimistic</th>\n",
              "      <th>mostlikely</th>\n",
              "      <th>pesimistic</th>\n",
              "      <th>t</th>\n",
              "      <th>sigma</th>\n",
              "      <th>successors</th>\n",
              "      <th>earlyStart</th>\n",
              "      <th>earlyEnd</th>\n",
              "    </tr>\n",
              "  </thead>\n",
              "  <tbody>\n",
              "    <tr>\n",
              "      <th>0</th>\n",
              "      <td>1</td>\n",
              "      <td>Start</td>\n",
              "      <td>[]</td>\n",
              "      <td>0</td>\n",
              "      <td>0</td>\n",
              "      <td>0</td>\n",
              "      <td>0.0</td>\n",
              "      <td>0.000000</td>\n",
              "      <td>[]</td>\n",
              "      <td>0.0</td>\n",
              "      <td>0.0</td>\n",
              "    </tr>\n",
              "    <tr>\n",
              "      <th>1</th>\n",
              "      <td>2</td>\n",
              "      <td>Producers asociatopn organization</td>\n",
              "      <td>[1]</td>\n",
              "      <td>59</td>\n",
              "      <td>70</td>\n",
              "      <td>93</td>\n",
              "      <td>72.0</td>\n",
              "      <td>5.666667</td>\n",
              "      <td>[]</td>\n",
              "      <td>NaN</td>\n",
              "      <td>NaN</td>\n",
              "    </tr>\n",
              "    <tr>\n",
              "      <th>2</th>\n",
              "      <td>3</td>\n",
              "      <td>Historical features development</td>\n",
              "      <td>[1]</td>\n",
              "      <td>22</td>\n",
              "      <td>33</td>\n",
              "      <td>56</td>\n",
              "      <td>35.0</td>\n",
              "      <td>5.666667</td>\n",
              "      <td>[]</td>\n",
              "      <td>NaN</td>\n",
              "      <td>NaN</td>\n",
              "    </tr>\n",
              "    <tr>\n",
              "      <th>3</th>\n",
              "      <td>4</td>\n",
              "      <td>To hire expeditor</td>\n",
              "      <td>[1]</td>\n",
              "      <td>22</td>\n",
              "      <td>30</td>\n",
              "      <td>50</td>\n",
              "      <td>32.0</td>\n",
              "      <td>4.666667</td>\n",
              "      <td>[]</td>\n",
              "      <td>NaN</td>\n",
              "      <td>NaN</td>\n",
              "    </tr>\n",
              "    <tr>\n",
              "      <th>4</th>\n",
              "      <td>5</td>\n",
              "      <td>Twenty beneficiaries identification</td>\n",
              "      <td>[1]</td>\n",
              "      <td>31</td>\n",
              "      <td>40</td>\n",
              "      <td>61</td>\n",
              "      <td>42.0</td>\n",
              "      <td>5.000000</td>\n",
              "      <td>[]</td>\n",
              "      <td>NaN</td>\n",
              "      <td>NaN</td>\n",
              "    </tr>\n",
              "    <tr>\n",
              "      <th>5</th>\n",
              "      <td>6</td>\n",
              "      <td>Producers asociation formalization</td>\n",
              "      <td>[2]</td>\n",
              "      <td>30</td>\n",
              "      <td>51</td>\n",
              "      <td>90</td>\n",
              "      <td>54.0</td>\n",
              "      <td>10.000000</td>\n",
              "      <td>[]</td>\n",
              "      <td>NaN</td>\n",
              "      <td>NaN</td>\n",
              "    </tr>\n",
              "    <tr>\n",
              "      <th>6</th>\n",
              "      <td>7</td>\n",
              "      <td>Cultural features development</td>\n",
              "      <td>[3]</td>\n",
              "      <td>22</td>\n",
              "      <td>33</td>\n",
              "      <td>56</td>\n",
              "      <td>35.0</td>\n",
              "      <td>5.666667</td>\n",
              "      <td>[]</td>\n",
              "      <td>NaN</td>\n",
              "      <td>NaN</td>\n",
              "    </tr>\n",
              "    <tr>\n",
              "      <th>7</th>\n",
              "      <td>8</td>\n",
              "      <td>Technical norm proposal development</td>\n",
              "      <td>[6, 7]</td>\n",
              "      <td>25</td>\n",
              "      <td>38</td>\n",
              "      <td>51</td>\n",
              "      <td>38.0</td>\n",
              "      <td>4.333333</td>\n",
              "      <td>[]</td>\n",
              "      <td>NaN</td>\n",
              "      <td>NaN</td>\n",
              "    </tr>\n",
              "    <tr>\n",
              "      <th>8</th>\n",
              "      <td>9</td>\n",
              "      <td>Technical norm proposal approval</td>\n",
              "      <td>[8]</td>\n",
              "      <td>36</td>\n",
              "      <td>54</td>\n",
              "      <td>102</td>\n",
              "      <td>59.0</td>\n",
              "      <td>11.000000</td>\n",
              "      <td>[]</td>\n",
              "      <td>NaN</td>\n",
              "      <td>NaN</td>\n",
              "    </tr>\n",
              "    <tr>\n",
              "      <th>9</th>\n",
              "      <td>10</td>\n",
              "      <td>Ten beneficiaries diagnosis</td>\n",
              "      <td>[4, 5]</td>\n",
              "      <td>25</td>\n",
              "      <td>40</td>\n",
              "      <td>55</td>\n",
              "      <td>40.0</td>\n",
              "      <td>5.000000</td>\n",
              "      <td>[]</td>\n",
              "      <td>NaN</td>\n",
              "      <td>NaN</td>\n",
              "    </tr>\n",
              "    <tr>\n",
              "      <th>10</th>\n",
              "      <td>11</td>\n",
              "      <td>Techinical assistance to five beneficiaries</td>\n",
              "      <td>[10]</td>\n",
              "      <td>59</td>\n",
              "      <td>70</td>\n",
              "      <td>93</td>\n",
              "      <td>72.0</td>\n",
              "      <td>5.666667</td>\n",
              "      <td>[]</td>\n",
              "      <td>NaN</td>\n",
              "      <td>NaN</td>\n",
              "    </tr>\n",
              "    <tr>\n",
              "      <th>11</th>\n",
              "      <td>12</td>\n",
              "      <td>Joining of five entrepreneurs with exporters</td>\n",
              "      <td>[11]</td>\n",
              "      <td>25</td>\n",
              "      <td>35</td>\n",
              "      <td>45</td>\n",
              "      <td>35.0</td>\n",
              "      <td>3.333333</td>\n",
              "      <td>[]</td>\n",
              "      <td>NaN</td>\n",
              "      <td>NaN</td>\n",
              "    </tr>\n",
              "    <tr>\n",
              "      <th>12</th>\n",
              "      <td>13</td>\n",
              "      <td>Ten beneficiaries diagnosis</td>\n",
              "      <td>[10]</td>\n",
              "      <td>25</td>\n",
              "      <td>40</td>\n",
              "      <td>55</td>\n",
              "      <td>40.0</td>\n",
              "      <td>5.000000</td>\n",
              "      <td>[]</td>\n",
              "      <td>NaN</td>\n",
              "      <td>NaN</td>\n",
              "    </tr>\n",
              "    <tr>\n",
              "      <th>13</th>\n",
              "      <td>14</td>\n",
              "      <td>Techinical assistance to five beneficiaries</td>\n",
              "      <td>[13]</td>\n",
              "      <td>59</td>\n",
              "      <td>70</td>\n",
              "      <td>93</td>\n",
              "      <td>72.0</td>\n",
              "      <td>5.666667</td>\n",
              "      <td>[]</td>\n",
              "      <td>NaN</td>\n",
              "      <td>NaN</td>\n",
              "    </tr>\n",
              "    <tr>\n",
              "      <th>14</th>\n",
              "      <td>15</td>\n",
              "      <td>Joining of five entrepreneurs with exporters</td>\n",
              "      <td>[14]</td>\n",
              "      <td>25</td>\n",
              "      <td>35</td>\n",
              "      <td>45</td>\n",
              "      <td>35.0</td>\n",
              "      <td>3.333333</td>\n",
              "      <td>[]</td>\n",
              "      <td>NaN</td>\n",
              "      <td>NaN</td>\n",
              "    </tr>\n",
              "  </tbody>\n",
              "</table>\n",
              "</div>"
            ],
            "text/plain": [
              "    id                                         label  ... earlyStart  earlyEnd\n",
              "0    1                                         Start  ...        0.0       0.0\n",
              "1    2             Producers asociatopn organization  ...        NaN       NaN\n",
              "2    3               Historical features development  ...        NaN       NaN\n",
              "3    4                             To hire expeditor  ...        NaN       NaN\n",
              "4    5           Twenty beneficiaries identification  ...        NaN       NaN\n",
              "5    6            Producers asociation formalization  ...        NaN       NaN\n",
              "6    7                 Cultural features development  ...        NaN       NaN\n",
              "7    8           Technical norm proposal development  ...        NaN       NaN\n",
              "8    9              Technical norm proposal approval  ...        NaN       NaN\n",
              "9   10                   Ten beneficiaries diagnosis  ...        NaN       NaN\n",
              "10  11   Techinical assistance to five beneficiaries  ...        NaN       NaN\n",
              "11  12  Joining of five entrepreneurs with exporters  ...        NaN       NaN\n",
              "12  13                   Ten beneficiaries diagnosis  ...        NaN       NaN\n",
              "13  14   Techinical assistance to five beneficiaries  ...        NaN       NaN\n",
              "14  15  Joining of five entrepreneurs with exporters  ...        NaN       NaN\n",
              "\n",
              "[15 rows x 11 columns]"
            ]
          },
          "metadata": {
            "tags": []
          }
        }
      ]
    },
    {
      "cell_type": "code",
      "metadata": {
        "id": "wkpZDMT8dmV8",
        "outputId": "719387ec-d5d2-4bd3-cfba-550dfb749523",
        "colab": {
          "base_uri": "https://localhost:8080/",
          "height": 520
        }
      },
      "source": [
        "table, id = calculateTimeForward(table, table[1]['id'])  \n",
        "printTable(table)"
      ],
      "execution_count": 20,
      "outputs": [
        {
          "output_type": "display_data",
          "data": {
            "text/html": [
              "<div>\n",
              "<style scoped>\n",
              "    .dataframe tbody tr th:only-of-type {\n",
              "        vertical-align: middle;\n",
              "    }\n",
              "\n",
              "    .dataframe tbody tr th {\n",
              "        vertical-align: top;\n",
              "    }\n",
              "\n",
              "    .dataframe thead th {\n",
              "        text-align: right;\n",
              "    }\n",
              "</style>\n",
              "<table border=\"1\" class=\"dataframe\">\n",
              "  <thead>\n",
              "    <tr style=\"text-align: right;\">\n",
              "      <th></th>\n",
              "      <th>id</th>\n",
              "      <th>label</th>\n",
              "      <th>predecessors</th>\n",
              "      <th>optimistic</th>\n",
              "      <th>mostlikely</th>\n",
              "      <th>pesimistic</th>\n",
              "      <th>t</th>\n",
              "      <th>sigma</th>\n",
              "      <th>successors</th>\n",
              "      <th>earlyStart</th>\n",
              "      <th>earlyEnd</th>\n",
              "    </tr>\n",
              "  </thead>\n",
              "  <tbody>\n",
              "    <tr>\n",
              "      <th>0</th>\n",
              "      <td>1</td>\n",
              "      <td>Start</td>\n",
              "      <td>[]</td>\n",
              "      <td>0</td>\n",
              "      <td>0</td>\n",
              "      <td>0</td>\n",
              "      <td>0.0</td>\n",
              "      <td>0.000000</td>\n",
              "      <td>[]</td>\n",
              "      <td>0.0</td>\n",
              "      <td>0.0</td>\n",
              "    </tr>\n",
              "    <tr>\n",
              "      <th>1</th>\n",
              "      <td>2</td>\n",
              "      <td>Producers asociatopn organization</td>\n",
              "      <td>[1]</td>\n",
              "      <td>59</td>\n",
              "      <td>70</td>\n",
              "      <td>93</td>\n",
              "      <td>72.0</td>\n",
              "      <td>5.666667</td>\n",
              "      <td>[]</td>\n",
              "      <td>0.0</td>\n",
              "      <td>72.0</td>\n",
              "    </tr>\n",
              "    <tr>\n",
              "      <th>2</th>\n",
              "      <td>3</td>\n",
              "      <td>Historical features development</td>\n",
              "      <td>[1]</td>\n",
              "      <td>22</td>\n",
              "      <td>33</td>\n",
              "      <td>56</td>\n",
              "      <td>35.0</td>\n",
              "      <td>5.666667</td>\n",
              "      <td>[]</td>\n",
              "      <td>NaN</td>\n",
              "      <td>NaN</td>\n",
              "    </tr>\n",
              "    <tr>\n",
              "      <th>3</th>\n",
              "      <td>4</td>\n",
              "      <td>To hire expeditor</td>\n",
              "      <td>[1]</td>\n",
              "      <td>22</td>\n",
              "      <td>30</td>\n",
              "      <td>50</td>\n",
              "      <td>32.0</td>\n",
              "      <td>4.666667</td>\n",
              "      <td>[]</td>\n",
              "      <td>NaN</td>\n",
              "      <td>NaN</td>\n",
              "    </tr>\n",
              "    <tr>\n",
              "      <th>4</th>\n",
              "      <td>5</td>\n",
              "      <td>Twenty beneficiaries identification</td>\n",
              "      <td>[1]</td>\n",
              "      <td>31</td>\n",
              "      <td>40</td>\n",
              "      <td>61</td>\n",
              "      <td>42.0</td>\n",
              "      <td>5.000000</td>\n",
              "      <td>[]</td>\n",
              "      <td>NaN</td>\n",
              "      <td>NaN</td>\n",
              "    </tr>\n",
              "    <tr>\n",
              "      <th>5</th>\n",
              "      <td>6</td>\n",
              "      <td>Producers asociation formalization</td>\n",
              "      <td>[2]</td>\n",
              "      <td>30</td>\n",
              "      <td>51</td>\n",
              "      <td>90</td>\n",
              "      <td>54.0</td>\n",
              "      <td>10.000000</td>\n",
              "      <td>[]</td>\n",
              "      <td>NaN</td>\n",
              "      <td>NaN</td>\n",
              "    </tr>\n",
              "    <tr>\n",
              "      <th>6</th>\n",
              "      <td>7</td>\n",
              "      <td>Cultural features development</td>\n",
              "      <td>[3]</td>\n",
              "      <td>22</td>\n",
              "      <td>33</td>\n",
              "      <td>56</td>\n",
              "      <td>35.0</td>\n",
              "      <td>5.666667</td>\n",
              "      <td>[]</td>\n",
              "      <td>NaN</td>\n",
              "      <td>NaN</td>\n",
              "    </tr>\n",
              "    <tr>\n",
              "      <th>7</th>\n",
              "      <td>8</td>\n",
              "      <td>Technical norm proposal development</td>\n",
              "      <td>[6, 7]</td>\n",
              "      <td>25</td>\n",
              "      <td>38</td>\n",
              "      <td>51</td>\n",
              "      <td>38.0</td>\n",
              "      <td>4.333333</td>\n",
              "      <td>[]</td>\n",
              "      <td>NaN</td>\n",
              "      <td>NaN</td>\n",
              "    </tr>\n",
              "    <tr>\n",
              "      <th>8</th>\n",
              "      <td>9</td>\n",
              "      <td>Technical norm proposal approval</td>\n",
              "      <td>[8]</td>\n",
              "      <td>36</td>\n",
              "      <td>54</td>\n",
              "      <td>102</td>\n",
              "      <td>59.0</td>\n",
              "      <td>11.000000</td>\n",
              "      <td>[]</td>\n",
              "      <td>NaN</td>\n",
              "      <td>NaN</td>\n",
              "    </tr>\n",
              "    <tr>\n",
              "      <th>9</th>\n",
              "      <td>10</td>\n",
              "      <td>Ten beneficiaries diagnosis</td>\n",
              "      <td>[4, 5]</td>\n",
              "      <td>25</td>\n",
              "      <td>40</td>\n",
              "      <td>55</td>\n",
              "      <td>40.0</td>\n",
              "      <td>5.000000</td>\n",
              "      <td>[]</td>\n",
              "      <td>NaN</td>\n",
              "      <td>NaN</td>\n",
              "    </tr>\n",
              "    <tr>\n",
              "      <th>10</th>\n",
              "      <td>11</td>\n",
              "      <td>Techinical assistance to five beneficiaries</td>\n",
              "      <td>[10]</td>\n",
              "      <td>59</td>\n",
              "      <td>70</td>\n",
              "      <td>93</td>\n",
              "      <td>72.0</td>\n",
              "      <td>5.666667</td>\n",
              "      <td>[]</td>\n",
              "      <td>NaN</td>\n",
              "      <td>NaN</td>\n",
              "    </tr>\n",
              "    <tr>\n",
              "      <th>11</th>\n",
              "      <td>12</td>\n",
              "      <td>Joining of five entrepreneurs with exporters</td>\n",
              "      <td>[11]</td>\n",
              "      <td>25</td>\n",
              "      <td>35</td>\n",
              "      <td>45</td>\n",
              "      <td>35.0</td>\n",
              "      <td>3.333333</td>\n",
              "      <td>[]</td>\n",
              "      <td>NaN</td>\n",
              "      <td>NaN</td>\n",
              "    </tr>\n",
              "    <tr>\n",
              "      <th>12</th>\n",
              "      <td>13</td>\n",
              "      <td>Ten beneficiaries diagnosis</td>\n",
              "      <td>[10]</td>\n",
              "      <td>25</td>\n",
              "      <td>40</td>\n",
              "      <td>55</td>\n",
              "      <td>40.0</td>\n",
              "      <td>5.000000</td>\n",
              "      <td>[]</td>\n",
              "      <td>NaN</td>\n",
              "      <td>NaN</td>\n",
              "    </tr>\n",
              "    <tr>\n",
              "      <th>13</th>\n",
              "      <td>14</td>\n",
              "      <td>Techinical assistance to five beneficiaries</td>\n",
              "      <td>[13]</td>\n",
              "      <td>59</td>\n",
              "      <td>70</td>\n",
              "      <td>93</td>\n",
              "      <td>72.0</td>\n",
              "      <td>5.666667</td>\n",
              "      <td>[]</td>\n",
              "      <td>NaN</td>\n",
              "      <td>NaN</td>\n",
              "    </tr>\n",
              "    <tr>\n",
              "      <th>14</th>\n",
              "      <td>15</td>\n",
              "      <td>Joining of five entrepreneurs with exporters</td>\n",
              "      <td>[14]</td>\n",
              "      <td>25</td>\n",
              "      <td>35</td>\n",
              "      <td>45</td>\n",
              "      <td>35.0</td>\n",
              "      <td>3.333333</td>\n",
              "      <td>[]</td>\n",
              "      <td>NaN</td>\n",
              "      <td>NaN</td>\n",
              "    </tr>\n",
              "  </tbody>\n",
              "</table>\n",
              "</div>"
            ],
            "text/plain": [
              "    id                                         label  ... earlyStart  earlyEnd\n",
              "0    1                                         Start  ...        0.0       0.0\n",
              "1    2             Producers asociatopn organization  ...        0.0      72.0\n",
              "2    3               Historical features development  ...        NaN       NaN\n",
              "3    4                             To hire expeditor  ...        NaN       NaN\n",
              "4    5           Twenty beneficiaries identification  ...        NaN       NaN\n",
              "5    6            Producers asociation formalization  ...        NaN       NaN\n",
              "6    7                 Cultural features development  ...        NaN       NaN\n",
              "7    8           Technical norm proposal development  ...        NaN       NaN\n",
              "8    9              Technical norm proposal approval  ...        NaN       NaN\n",
              "9   10                   Ten beneficiaries diagnosis  ...        NaN       NaN\n",
              "10  11   Techinical assistance to five beneficiaries  ...        NaN       NaN\n",
              "11  12  Joining of five entrepreneurs with exporters  ...        NaN       NaN\n",
              "12  13                   Ten beneficiaries diagnosis  ...        NaN       NaN\n",
              "13  14   Techinical assistance to five beneficiaries  ...        NaN       NaN\n",
              "14  15  Joining of five entrepreneurs with exporters  ...        NaN       NaN\n",
              "\n",
              "[15 rows x 11 columns]"
            ]
          },
          "metadata": {
            "tags": []
          }
        }
      ]
    },
    {
      "cell_type": "code",
      "metadata": {
        "id": "DIcBoUpUdrbv",
        "outputId": "fc2891a7-ea39-4c80-ce2c-270eff702280",
        "colab": {
          "base_uri": "https://localhost:8080/",
          "height": 380
        }
      },
      "source": [
        "def calculateForwardAll(table):\n",
        "  currentTable = table\n",
        "  lastId = currentTable[-1]['id']\n",
        "  while True:\n",
        "    somethingChanged = False\n",
        "    for row in currentTable:\n",
        "      id = row['id']\n",
        "      newTable, newId = calculateTimeForward(currentTable, id)\n",
        "      if newId == id:\n",
        "        currentTable = newTable\n",
        "        somethingChanged = True\n",
        "        break\n",
        "    if not somethingChanged:\n",
        "      break;\n",
        "  return currentTable\n",
        "\n",
        "table = calculateForwardAll(table)\n",
        "print(table)"
      ],
      "execution_count": 21,
      "outputs": [
        {
          "output_type": "error",
          "ename": "KeyboardInterrupt",
          "evalue": "ignored",
          "traceback": [
            "\u001b[0;31m---------------------------------------------------------------------------\u001b[0m",
            "\u001b[0;31mKeyboardInterrupt\u001b[0m                         Traceback (most recent call last)",
            "\u001b[0;32m<ipython-input-21-326edec72cd5>\u001b[0m in \u001b[0;36m<module>\u001b[0;34m()\u001b[0m\n\u001b[1;32m     15\u001b[0m   \u001b[0;32mreturn\u001b[0m \u001b[0mcurrentTable\u001b[0m\u001b[0;34m\u001b[0m\u001b[0;34m\u001b[0m\u001b[0m\n\u001b[1;32m     16\u001b[0m \u001b[0;34m\u001b[0m\u001b[0m\n\u001b[0;32m---> 17\u001b[0;31m \u001b[0mtable\u001b[0m \u001b[0;34m=\u001b[0m \u001b[0mcalculateForwardAll\u001b[0m\u001b[0;34m(\u001b[0m\u001b[0mtable\u001b[0m\u001b[0;34m)\u001b[0m\u001b[0;34m\u001b[0m\u001b[0;34m\u001b[0m\u001b[0m\n\u001b[0m\u001b[1;32m     18\u001b[0m \u001b[0mprint\u001b[0m\u001b[0;34m(\u001b[0m\u001b[0mtable\u001b[0m\u001b[0;34m)\u001b[0m\u001b[0;34m\u001b[0m\u001b[0;34m\u001b[0m\u001b[0m\n",
            "\u001b[0;32m<ipython-input-21-326edec72cd5>\u001b[0m in \u001b[0;36mcalculateForwardAll\u001b[0;34m(table)\u001b[0m\n\u001b[1;32m      6\u001b[0m     \u001b[0;32mfor\u001b[0m \u001b[0mrow\u001b[0m \u001b[0;32min\u001b[0m \u001b[0mcurrentTable\u001b[0m\u001b[0;34m:\u001b[0m\u001b[0;34m\u001b[0m\u001b[0;34m\u001b[0m\u001b[0m\n\u001b[1;32m      7\u001b[0m       \u001b[0mid\u001b[0m \u001b[0;34m=\u001b[0m \u001b[0mrow\u001b[0m\u001b[0;34m[\u001b[0m\u001b[0;34m'id'\u001b[0m\u001b[0;34m]\u001b[0m\u001b[0;34m\u001b[0m\u001b[0;34m\u001b[0m\u001b[0m\n\u001b[0;32m----> 8\u001b[0;31m       \u001b[0mnewTable\u001b[0m\u001b[0;34m,\u001b[0m \u001b[0mnewId\u001b[0m \u001b[0;34m=\u001b[0m \u001b[0mcalculateTimeForward\u001b[0m\u001b[0;34m(\u001b[0m\u001b[0mcurrentTable\u001b[0m\u001b[0;34m,\u001b[0m \u001b[0mid\u001b[0m\u001b[0;34m)\u001b[0m\u001b[0;34m\u001b[0m\u001b[0;34m\u001b[0m\u001b[0m\n\u001b[0m\u001b[1;32m      9\u001b[0m       \u001b[0;32mif\u001b[0m \u001b[0mnewId\u001b[0m \u001b[0;34m==\u001b[0m \u001b[0mid\u001b[0m\u001b[0;34m:\u001b[0m\u001b[0;34m\u001b[0m\u001b[0;34m\u001b[0m\u001b[0m\n\u001b[1;32m     10\u001b[0m         \u001b[0mcurrentTable\u001b[0m \u001b[0;34m=\u001b[0m \u001b[0mnewTable\u001b[0m\u001b[0;34m\u001b[0m\u001b[0;34m\u001b[0m\u001b[0m\n",
            "\u001b[0;32m<ipython-input-19-a77ef8aee031>\u001b[0m in \u001b[0;36mcalculateTimeForward\u001b[0;34m(table, id)\u001b[0m\n\u001b[1;32m     17\u001b[0m       \u001b[0mresult\u001b[0m\u001b[0;34m.\u001b[0m\u001b[0mappend\u001b[0m\u001b[0;34m(\u001b[0m\u001b[0mnewRow\u001b[0m\u001b[0;34m)\u001b[0m\u001b[0;34m\u001b[0m\u001b[0;34m\u001b[0m\u001b[0m\n\u001b[1;32m     18\u001b[0m     \u001b[0;32melse\u001b[0m\u001b[0;34m:\u001b[0m\u001b[0;34m\u001b[0m\u001b[0;34m\u001b[0m\u001b[0m\n\u001b[0;32m---> 19\u001b[0;31m       \u001b[0mresult\u001b[0m\u001b[0;34m.\u001b[0m\u001b[0mappend\u001b[0m\u001b[0;34m(\u001b[0m\u001b[0;34m{\u001b[0m\u001b[0;34m**\u001b[0m\u001b[0mrow\u001b[0m\u001b[0;34m}\u001b[0m\u001b[0;34m)\u001b[0m\u001b[0;34m\u001b[0m\u001b[0;34m\u001b[0m\u001b[0m\n\u001b[0m\u001b[1;32m     20\u001b[0m   \u001b[0;32mreturn\u001b[0m \u001b[0mresult\u001b[0m\u001b[0;34m,\u001b[0m \u001b[0mid\u001b[0m\u001b[0;34m\u001b[0m\u001b[0;34m\u001b[0m\u001b[0m\n\u001b[1;32m     21\u001b[0m \u001b[0;34m\u001b[0m\u001b[0m\n",
            "\u001b[0;31mKeyboardInterrupt\u001b[0m: "
          ]
        }
      ]
    },
    {
      "cell_type": "code",
      "metadata": {
        "id": "pNGQumqcWmyf",
        "outputId": "d0c929fd-19b3-4b60-fe29-47db3786335b",
        "colab": {
          "base_uri": "https://localhost:8080/"
        }
      },
      "source": [
        "for item in table:\n",
        "  item['optimistic'] = int(str(item['optimistic']))\n",
        "  item['mostlikely'] = int(str(item['mostlikely']))\n",
        "  item['pesimistic'] = int(str(item['pesimistic']))\n",
        "  item['label'] = item['label'].replace('\\t', ' ')\n",
        "  print(item, ', ')"
      ],
      "execution_count": 8,
      "outputs": [
        {
          "output_type": "stream",
          "text": [
            "{'id': '1', 'label': 'Start', 'predecessors': [], 'optimistic': 0, 'mostlikely': 0, 'pesimistic': 0, 't': 0, 'sigma': 0} , \n",
            "{'id': '2', 'label': 'Producers asociatopn organization', 'predecessors': ['1'], 'optimistic': 59, 'mostlikely': 70, 'pesimistic': 93, 't': 0, 'sigma': 0} , \n",
            "{'id': '3', 'label': 'Historical features development', 'predecessors': ['1'], 'optimistic': 22, 'mostlikely': 33, 'pesimistic': 56} , \n",
            "{'id': '4', 'label': 'To hire expeditor', 'predecessors': ['1'], 'optimistic': 22, 'mostlikely': 30, 'pesimistic': 50} , \n",
            "{'id': '5', 'label': 'Twenty beneficiaries identification', 'predecessors': ['1'], 'optimistic': 31, 'mostlikely': 40, 'pesimistic': 61} , \n",
            "{'id': '6', 'label': 'Producers asociation formalization', 'predecessors': ['2'], 'optimistic': 30, 'mostlikely': 51, 'pesimistic': 90} , \n",
            "{'id': '7', 'label': 'Cultural features development', 'predecessors': ['3'], 'optimistic': 22, 'mostlikely': 33, 'pesimistic': 56} , \n",
            "{'id': '8', 'label': 'Technical norm proposal development', 'predecessors': ['6', '7'], 'optimistic': 25, 'mostlikely': 38, 'pesimistic': 51} , \n",
            "{'id': '9', 'label': 'Technical norm proposal approval', 'predecessors': ['8'], 'optimistic': 36, 'mostlikely': 54, 'pesimistic': 102} , \n",
            "{'id': '10', 'label': 'Ten beneficiaries diagnosis', 'predecessors': ['4', '5'], 'optimistic': 25, 'mostlikely': 40, 'pesimistic': 55} , \n",
            "{'id': '11', 'label': 'Techinical assistance to five beneficiaries', 'predecessors': ['10'], 'optimistic': 59, 'mostlikely': 70, 'pesimistic': 93} , \n",
            "{'id': '12', 'label': 'Joining of five entrepreneurs with exporters', 'predecessors': ['11'], 'optimistic': 25, 'mostlikely': 35, 'pesimistic': 45} , \n",
            "{'id': '13', 'label': 'Ten beneficiaries diagnosis', 'predecessors': ['10'], 'optimistic': 25, 'mostlikely': 40, 'pesimistic': 55} , \n",
            "{'id': '14', 'label': 'Techinical assistance to five beneficiaries', 'predecessors': ['13'], 'optimistic': 59, 'mostlikely': 70, 'pesimistic': 93} , \n",
            "{'id': '15', 'label': 'Joining of five entrepreneurs with exporters', 'predecessors': ['14'], 'optimistic': 25, 'mostlikely': 35, 'pesimistic': 45} , \n"
          ],
          "name": "stdout"
        }
      ]
    },
    {
      "cell_type": "code",
      "metadata": {
        "id": "7rr9qjQiXfE2",
        "outputId": "fd919e6f-7de6-41ac-8cd6-f9376e649b70",
        "colab": {
          "base_uri": "https://localhost:8080/",
          "height": 520
        }
      },
      "source": [
        "def calculateTAndSigma(table):\n",
        "  result = []\n",
        "  for item in table:\n",
        "    a = item['optimistic']\n",
        "    b = item['mostlikely']\n",
        "    c = item['pesimistic']\n",
        "    t = (a + 4 * b + c) / 6\n",
        "    sigma = (c - a) / 6\n",
        "    newItem = {**item, 't': t, 'sigma': sigma, 'successors': []}\n",
        "    result.append(newItem)\n",
        "  return result\n",
        "\n",
        "def retrieveRecord(table, id):\n",
        "  for row in table:\n",
        "    if row['id'] == id:\n",
        "      return row\n",
        "  return None\n",
        "\n",
        "def calculateTimeForward(table, id):\n",
        "  result = []\n",
        "  for row in table:\n",
        "    if row['id'] == id:\n",
        "\n",
        "      predecessors = row['predecessors']\n",
        "      earlyStart = 0\n",
        "      for predecessorId in predecessors:\n",
        "        predecestor = retrieveRecord(table, predecessorId)\n",
        "        if not 'earlyEnd' in predecestor:\n",
        "          return table, predecessorId\n",
        "        if earlyStart is None:\n",
        "          earlyStart = predecestor['earlyEnd']\n",
        "        elif earlyStart < predecestor['earlyEnd']:\n",
        "          earlyStart = predecestor['earlyEnd']\n",
        "      newRow = {**row, 'earlyStart': earlyStart, 'earlyEnd': earlyStart + row['t']}\n",
        "      result.append(newRow)\n",
        "    else:\n",
        "      result.append({**row})\n",
        "  return table, id\n",
        "\n",
        "import pandas as pd\n",
        "def printTable(table):\n",
        "  df = pd.DataFrame(table)\n",
        "  display(df)\n",
        "\n",
        "table = calculateTAndSigma(table)\n",
        "printTable(table)"
      ],
      "execution_count": 10,
      "outputs": [
        {
          "output_type": "display_data",
          "data": {
            "text/html": [
              "<div>\n",
              "<style scoped>\n",
              "    .dataframe tbody tr th:only-of-type {\n",
              "        vertical-align: middle;\n",
              "    }\n",
              "\n",
              "    .dataframe tbody tr th {\n",
              "        vertical-align: top;\n",
              "    }\n",
              "\n",
              "    .dataframe thead th {\n",
              "        text-align: right;\n",
              "    }\n",
              "</style>\n",
              "<table border=\"1\" class=\"dataframe\">\n",
              "  <thead>\n",
              "    <tr style=\"text-align: right;\">\n",
              "      <th></th>\n",
              "      <th>id</th>\n",
              "      <th>label</th>\n",
              "      <th>predecessors</th>\n",
              "      <th>optimistic</th>\n",
              "      <th>mostlikely</th>\n",
              "      <th>pesimistic</th>\n",
              "      <th>t</th>\n",
              "      <th>sigma</th>\n",
              "      <th>successors</th>\n",
              "    </tr>\n",
              "  </thead>\n",
              "  <tbody>\n",
              "    <tr>\n",
              "      <th>0</th>\n",
              "      <td>1</td>\n",
              "      <td>Start</td>\n",
              "      <td>[]</td>\n",
              "      <td>0</td>\n",
              "      <td>0</td>\n",
              "      <td>0</td>\n",
              "      <td>0.0</td>\n",
              "      <td>0.000000</td>\n",
              "      <td>[]</td>\n",
              "    </tr>\n",
              "    <tr>\n",
              "      <th>1</th>\n",
              "      <td>2</td>\n",
              "      <td>Producers asociatopn organization</td>\n",
              "      <td>[1]</td>\n",
              "      <td>59</td>\n",
              "      <td>70</td>\n",
              "      <td>93</td>\n",
              "      <td>72.0</td>\n",
              "      <td>5.666667</td>\n",
              "      <td>[]</td>\n",
              "    </tr>\n",
              "    <tr>\n",
              "      <th>2</th>\n",
              "      <td>3</td>\n",
              "      <td>Historical features development</td>\n",
              "      <td>[1]</td>\n",
              "      <td>22</td>\n",
              "      <td>33</td>\n",
              "      <td>56</td>\n",
              "      <td>35.0</td>\n",
              "      <td>5.666667</td>\n",
              "      <td>[]</td>\n",
              "    </tr>\n",
              "    <tr>\n",
              "      <th>3</th>\n",
              "      <td>4</td>\n",
              "      <td>To hire expeditor</td>\n",
              "      <td>[1]</td>\n",
              "      <td>22</td>\n",
              "      <td>30</td>\n",
              "      <td>50</td>\n",
              "      <td>32.0</td>\n",
              "      <td>4.666667</td>\n",
              "      <td>[]</td>\n",
              "    </tr>\n",
              "    <tr>\n",
              "      <th>4</th>\n",
              "      <td>5</td>\n",
              "      <td>Twenty beneficiaries identification</td>\n",
              "      <td>[1]</td>\n",
              "      <td>31</td>\n",
              "      <td>40</td>\n",
              "      <td>61</td>\n",
              "      <td>42.0</td>\n",
              "      <td>5.000000</td>\n",
              "      <td>[]</td>\n",
              "    </tr>\n",
              "    <tr>\n",
              "      <th>5</th>\n",
              "      <td>6</td>\n",
              "      <td>Producers asociation formalization</td>\n",
              "      <td>[2]</td>\n",
              "      <td>30</td>\n",
              "      <td>51</td>\n",
              "      <td>90</td>\n",
              "      <td>54.0</td>\n",
              "      <td>10.000000</td>\n",
              "      <td>[]</td>\n",
              "    </tr>\n",
              "    <tr>\n",
              "      <th>6</th>\n",
              "      <td>7</td>\n",
              "      <td>Cultural features development</td>\n",
              "      <td>[3]</td>\n",
              "      <td>22</td>\n",
              "      <td>33</td>\n",
              "      <td>56</td>\n",
              "      <td>35.0</td>\n",
              "      <td>5.666667</td>\n",
              "      <td>[]</td>\n",
              "    </tr>\n",
              "    <tr>\n",
              "      <th>7</th>\n",
              "      <td>8</td>\n",
              "      <td>Technical norm proposal development</td>\n",
              "      <td>[6, 7]</td>\n",
              "      <td>25</td>\n",
              "      <td>38</td>\n",
              "      <td>51</td>\n",
              "      <td>38.0</td>\n",
              "      <td>4.333333</td>\n",
              "      <td>[]</td>\n",
              "    </tr>\n",
              "    <tr>\n",
              "      <th>8</th>\n",
              "      <td>9</td>\n",
              "      <td>Technical norm proposal approval</td>\n",
              "      <td>[8]</td>\n",
              "      <td>36</td>\n",
              "      <td>54</td>\n",
              "      <td>102</td>\n",
              "      <td>59.0</td>\n",
              "      <td>11.000000</td>\n",
              "      <td>[]</td>\n",
              "    </tr>\n",
              "    <tr>\n",
              "      <th>9</th>\n",
              "      <td>10</td>\n",
              "      <td>Ten beneficiaries diagnosis</td>\n",
              "      <td>[4, 5]</td>\n",
              "      <td>25</td>\n",
              "      <td>40</td>\n",
              "      <td>55</td>\n",
              "      <td>40.0</td>\n",
              "      <td>5.000000</td>\n",
              "      <td>[]</td>\n",
              "    </tr>\n",
              "    <tr>\n",
              "      <th>10</th>\n",
              "      <td>11</td>\n",
              "      <td>Techinical assistance to five beneficiaries</td>\n",
              "      <td>[10]</td>\n",
              "      <td>59</td>\n",
              "      <td>70</td>\n",
              "      <td>93</td>\n",
              "      <td>72.0</td>\n",
              "      <td>5.666667</td>\n",
              "      <td>[]</td>\n",
              "    </tr>\n",
              "    <tr>\n",
              "      <th>11</th>\n",
              "      <td>12</td>\n",
              "      <td>Joining of five entrepreneurs with exporters</td>\n",
              "      <td>[11]</td>\n",
              "      <td>25</td>\n",
              "      <td>35</td>\n",
              "      <td>45</td>\n",
              "      <td>35.0</td>\n",
              "      <td>3.333333</td>\n",
              "      <td>[]</td>\n",
              "    </tr>\n",
              "    <tr>\n",
              "      <th>12</th>\n",
              "      <td>13</td>\n",
              "      <td>Ten beneficiaries diagnosis</td>\n",
              "      <td>[10]</td>\n",
              "      <td>25</td>\n",
              "      <td>40</td>\n",
              "      <td>55</td>\n",
              "      <td>40.0</td>\n",
              "      <td>5.000000</td>\n",
              "      <td>[]</td>\n",
              "    </tr>\n",
              "    <tr>\n",
              "      <th>13</th>\n",
              "      <td>14</td>\n",
              "      <td>Techinical assistance to five beneficiaries</td>\n",
              "      <td>[13]</td>\n",
              "      <td>59</td>\n",
              "      <td>70</td>\n",
              "      <td>93</td>\n",
              "      <td>72.0</td>\n",
              "      <td>5.666667</td>\n",
              "      <td>[]</td>\n",
              "    </tr>\n",
              "    <tr>\n",
              "      <th>14</th>\n",
              "      <td>15</td>\n",
              "      <td>Joining of five entrepreneurs with exporters</td>\n",
              "      <td>[14]</td>\n",
              "      <td>25</td>\n",
              "      <td>35</td>\n",
              "      <td>45</td>\n",
              "      <td>35.0</td>\n",
              "      <td>3.333333</td>\n",
              "      <td>[]</td>\n",
              "    </tr>\n",
              "  </tbody>\n",
              "</table>\n",
              "</div>"
            ],
            "text/plain": [
              "    id                                         label  ...      sigma  successors\n",
              "0    1                                         Start  ...   0.000000          []\n",
              "1    2             Producers asociatopn organization  ...   5.666667          []\n",
              "2    3               Historical features development  ...   5.666667          []\n",
              "3    4                             To hire expeditor  ...   4.666667          []\n",
              "4    5           Twenty beneficiaries identification  ...   5.000000          []\n",
              "5    6            Producers asociation formalization  ...  10.000000          []\n",
              "6    7                 Cultural features development  ...   5.666667          []\n",
              "7    8           Technical norm proposal development  ...   4.333333          []\n",
              "8    9              Technical norm proposal approval  ...  11.000000          []\n",
              "9   10                   Ten beneficiaries diagnosis  ...   5.000000          []\n",
              "10  11   Techinical assistance to five beneficiaries  ...   5.666667          []\n",
              "11  12  Joining of five entrepreneurs with exporters  ...   3.333333          []\n",
              "12  13                   Ten beneficiaries diagnosis  ...   5.000000          []\n",
              "13  14   Techinical assistance to five beneficiaries  ...   5.666667          []\n",
              "14  15  Joining of five entrepreneurs with exporters  ...   3.333333          []\n",
              "\n",
              "[15 rows x 9 columns]"
            ]
          },
          "metadata": {
            "tags": []
          }
        }
      ]
    }
  ]
}