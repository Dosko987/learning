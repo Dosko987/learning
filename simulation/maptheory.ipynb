{
  "nbformat": 4,
  "nbformat_minor": 0,
  "metadata": {
    "colab": {
      "name": "maptheory.ipynb",
      "provenance": [],
      "toc_visible": true,
      "authorship_tag": "ABX9TyMAJtZvO/MWD6j0MCzyAX7m",
      "include_colab_link": true
    },
    "kernelspec": {
      "name": "python3",
      "display_name": "Python 3"
    }
  },
  "cells": [
    {
      "cell_type": "markdown",
      "metadata": {
        "id": "view-in-github",
        "colab_type": "text"
      },
      "source": [
        "<a href=\"https://colab.research.google.com/github/hrbolek/learning/blob/master/simulation/maptheory.ipynb\" target=\"_parent\"><img src=\"https://colab.research.google.com/assets/colab-badge.svg\" alt=\"Open In Colab\"/></a>"
      ]
    },
    {
      "cell_type": "markdown",
      "metadata": {
        "id": "wH-I8RfqcN2G",
        "colab_type": "text"
      },
      "source": [
        "# Teorie pro práci s mapami"
      ]
    },
    {
      "cell_type": "markdown",
      "metadata": {
        "id": "PZUxxhE_cTjL",
        "colab_type": "text"
      },
      "source": [
        "## Matematické základy"
      ]
    },
    {
      "cell_type": "markdown",
      "metadata": {
        "id": "QbFgY671cXaa",
        "colab_type": "text"
      },
      "source": [
        "### Lineární transformace"
      ]
    },
    {
      "cell_type": "markdown",
      "metadata": {
        "id": "EAArmTJGcb5l",
        "colab_type": "text"
      },
      "source": [
        "Chceme-li na určitém intervalu zobrazit jiný interval, můžeme toto provést s pomocí tzv. lineární transformace.\n",
        "\n",
        "Nechť zobrazovaný interval má rozsah $<a_0;a_1>$ a má být zobrazen na interval $<b_0;b_1>$. Hledáme funkci $f$, pro kterou platí $f(a_0)=b_0$ a $f(a_1)=b_1$. Vzhledem k povaze úlohy je dostatečné konstatovat, že tato funkce je ve tvaru $f(x) = k \\cdot x + c$. Odtud lze napsat soustavu rovnic\n",
        "$$b_0=k \\cdot a_0 + c$$\n",
        "$$b_1=k \\cdot a_1 + c$$\n",
        "Jedná se o systém dvou lineráních rovnic o dvou neznámých, jehož řešení je triviální.\n",
        "$$b_0-b_1=k \\cdot(a_0 - a_1)$$\n",
        "odtud\n",
        "$$k = \\frac{b_0-b_1}{a_0 - a_1}$$\n",
        "$$c = b_0 - a_0 \\cdot \\frac{b_0-b_1}{a_0 - a_1}$$\n"
      ]
    },
    {
      "cell_type": "code",
      "metadata": {
        "id": "0JeKM_EMb8FM",
        "colab_type": "code",
        "colab": {
          "base_uri": "https://localhost:8080/",
          "height": 54
        },
        "outputId": "9ad78bab-44d0-415e-88e5-707c1ca2838e"
      },
      "source": [
        "b0 = 0\n",
        "b1 = 5\n",
        "a0 = 45000\n",
        "a1 = 50000\n",
        "\n",
        "k = (b0 - b1) / (a0 - a1)\n",
        "c = b0 - a0 * k\n",
        "def transform(x):\n",
        "  result = k * x + c\n",
        "  return result\n",
        "\n",
        "print(a0, '=>', transform(a0), '\\t', b0)\n",
        "print(a1, '=>', transform(a1), '\\t', b1)"
      ],
      "execution_count": 3,
      "outputs": [
        {
          "output_type": "stream",
          "text": [
            "45000 => 0.0 \t 0\n",
            "50000 => 5.0 \t 5\n"
          ],
          "name": "stdout"
        }
      ]
    }
  ]
}