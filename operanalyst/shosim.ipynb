{
  "nbformat": 4,
  "nbformat_minor": 0,
  "metadata": {
    "colab": {
      "name": "SHOSimulace.ipynb",
      "provenance": [],
      "toc_visible": true,
      "authorship_tag": "ABX9TyNrus0LUaCwHEt0fqKu/7UH",
      "include_colab_link": true
    },
    "kernelspec": {
      "name": "python3",
      "display_name": "Python 3"
    },
    "widgets": {
      "application/vnd.jupyter.widget-state+json": {
        "8387f4ff1a9045e89ab190cc3390919c": {
          "model_module": "@jupyter-widgets/controls",
          "model_name": "VBoxModel",
          "state": {
            "_view_name": "VBoxView",
            "_dom_classes": [
              "widget-interact"
            ],
            "_model_name": "VBoxModel",
            "_view_module": "@jupyter-widgets/controls",
            "_model_module_version": "1.5.0",
            "_view_count": null,
            "_view_module_version": "1.5.0",
            "box_style": "",
            "layout": "IPY_MODEL_2f7ccf1eaca049b9a603dc7c4a39c399",
            "_model_module": "@jupyter-widgets/controls",
            "children": [
              "IPY_MODEL_f538ac3d54f14ae1bf377759bba38393",
              "IPY_MODEL_4ee2b2f4faf84414b91fc808db1a2f46"
            ]
          }
        },
        "2f7ccf1eaca049b9a603dc7c4a39c399": {
          "model_module": "@jupyter-widgets/base",
          "model_name": "LayoutModel",
          "state": {
            "_view_name": "LayoutView",
            "grid_template_rows": null,
            "right": null,
            "justify_content": null,
            "_view_module": "@jupyter-widgets/base",
            "overflow": null,
            "_model_module_version": "1.2.0",
            "_view_count": null,
            "flex_flow": null,
            "width": null,
            "min_width": null,
            "border": null,
            "align_items": null,
            "bottom": null,
            "_model_module": "@jupyter-widgets/base",
            "top": null,
            "grid_column": null,
            "overflow_y": null,
            "overflow_x": null,
            "grid_auto_flow": null,
            "grid_area": null,
            "grid_template_columns": null,
            "flex": null,
            "_model_name": "LayoutModel",
            "justify_items": null,
            "grid_row": null,
            "max_height": null,
            "align_content": null,
            "visibility": null,
            "align_self": null,
            "height": null,
            "min_height": null,
            "padding": null,
            "grid_auto_rows": null,
            "grid_gap": null,
            "max_width": null,
            "order": null,
            "_view_module_version": "1.2.0",
            "grid_template_areas": null,
            "object_position": null,
            "object_fit": null,
            "grid_auto_columns": null,
            "margin": null,
            "display": null,
            "left": null
          }
        },
        "f538ac3d54f14ae1bf377759bba38393": {
          "model_module": "@jupyter-widgets/controls",
          "model_name": "FloatSliderModel",
          "state": {
            "_view_name": "FloatSliderView",
            "style": "IPY_MODEL_66833d3b4fb84300861d857e783956c1",
            "_dom_classes": [],
            "description": "lam",
            "step": 0.1,
            "_model_name": "FloatSliderModel",
            "orientation": "horizontal",
            "max": 2,
            "_view_module": "@jupyter-widgets/controls",
            "_model_module_version": "1.5.0",
            "value": 1,
            "_view_count": null,
            "disabled": false,
            "_view_module_version": "1.5.0",
            "min": 0.01,
            "continuous_update": true,
            "readout_format": ".2f",
            "description_tooltip": null,
            "readout": true,
            "_model_module": "@jupyter-widgets/controls",
            "layout": "IPY_MODEL_d603494d5e004a1d9bf881b97118789e"
          }
        },
        "4ee2b2f4faf84414b91fc808db1a2f46": {
          "model_module": "@jupyter-widgets/output",
          "model_name": "OutputModel",
          "state": {
            "_view_name": "OutputView",
            "msg_id": "",
            "_dom_classes": [],
            "_model_name": "OutputModel",
            "outputs": [
              {
                "output_type": "display_data",
                "metadata": {
                  "tags": [],
                  "needs_background": "light"
                },
                "image/png": "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\n",
                "text/plain": "<Figure size 1080x720 with 1 Axes>"
              }
            ],
            "_view_module": "@jupyter-widgets/output",
            "_model_module_version": "1.0.0",
            "_view_count": null,
            "_view_module_version": "1.0.0",
            "layout": "IPY_MODEL_9416d11b94ed430bb84303c1a3961581",
            "_model_module": "@jupyter-widgets/output"
          }
        },
        "66833d3b4fb84300861d857e783956c1": {
          "model_module": "@jupyter-widgets/controls",
          "model_name": "SliderStyleModel",
          "state": {
            "_view_name": "StyleView",
            "handle_color": null,
            "_model_name": "SliderStyleModel",
            "description_width": "",
            "_view_module": "@jupyter-widgets/base",
            "_model_module_version": "1.5.0",
            "_view_count": null,
            "_view_module_version": "1.2.0",
            "_model_module": "@jupyter-widgets/controls"
          }
        },
        "d603494d5e004a1d9bf881b97118789e": {
          "model_module": "@jupyter-widgets/base",
          "model_name": "LayoutModel",
          "state": {
            "_view_name": "LayoutView",
            "grid_template_rows": null,
            "right": null,
            "justify_content": null,
            "_view_module": "@jupyter-widgets/base",
            "overflow": null,
            "_model_module_version": "1.2.0",
            "_view_count": null,
            "flex_flow": null,
            "width": null,
            "min_width": null,
            "border": null,
            "align_items": null,
            "bottom": null,
            "_model_module": "@jupyter-widgets/base",
            "top": null,
            "grid_column": null,
            "overflow_y": null,
            "overflow_x": null,
            "grid_auto_flow": null,
            "grid_area": null,
            "grid_template_columns": null,
            "flex": null,
            "_model_name": "LayoutModel",
            "justify_items": null,
            "grid_row": null,
            "max_height": null,
            "align_content": null,
            "visibility": null,
            "align_self": null,
            "height": null,
            "min_height": null,
            "padding": null,
            "grid_auto_rows": null,
            "grid_gap": null,
            "max_width": null,
            "order": null,
            "_view_module_version": "1.2.0",
            "grid_template_areas": null,
            "object_position": null,
            "object_fit": null,
            "grid_auto_columns": null,
            "margin": null,
            "display": null,
            "left": null
          }
        },
        "9416d11b94ed430bb84303c1a3961581": {
          "model_module": "@jupyter-widgets/base",
          "model_name": "LayoutModel",
          "state": {
            "_view_name": "LayoutView",
            "grid_template_rows": null,
            "right": null,
            "justify_content": null,
            "_view_module": "@jupyter-widgets/base",
            "overflow": null,
            "_model_module_version": "1.2.0",
            "_view_count": null,
            "flex_flow": null,
            "width": null,
            "min_width": null,
            "border": null,
            "align_items": null,
            "bottom": null,
            "_model_module": "@jupyter-widgets/base",
            "top": null,
            "grid_column": null,
            "overflow_y": null,
            "overflow_x": null,
            "grid_auto_flow": null,
            "grid_area": null,
            "grid_template_columns": null,
            "flex": null,
            "_model_name": "LayoutModel",
            "justify_items": null,
            "grid_row": null,
            "max_height": null,
            "align_content": null,
            "visibility": null,
            "align_self": null,
            "height": null,
            "min_height": null,
            "padding": null,
            "grid_auto_rows": null,
            "grid_gap": null,
            "max_width": null,
            "order": null,
            "_view_module_version": "1.2.0",
            "grid_template_areas": null,
            "object_position": null,
            "object_fit": null,
            "grid_auto_columns": null,
            "margin": null,
            "display": null,
            "left": null
          }
        },
        "682d87ddf7454b79a900ad48cfd86d75": {
          "model_module": "@jupyter-widgets/controls",
          "model_name": "VBoxModel",
          "state": {
            "_view_name": "VBoxView",
            "_dom_classes": [
              "widget-interact"
            ],
            "_model_name": "VBoxModel",
            "_view_module": "@jupyter-widgets/controls",
            "_model_module_version": "1.5.0",
            "_view_count": null,
            "_view_module_version": "1.5.0",
            "box_style": "",
            "layout": "IPY_MODEL_6e26ea0ad4f1475a89b942e3e6c204c4",
            "_model_module": "@jupyter-widgets/controls",
            "children": [
              "IPY_MODEL_ab80775a07934961bad183d8478bf456",
              "IPY_MODEL_4f6399d123824492b7a067c3f8bdc9c5",
              "IPY_MODEL_a7d05409c06e4f378fb9e92640f22e4a"
            ]
          }
        },
        "6e26ea0ad4f1475a89b942e3e6c204c4": {
          "model_module": "@jupyter-widgets/base",
          "model_name": "LayoutModel",
          "state": {
            "_view_name": "LayoutView",
            "grid_template_rows": null,
            "right": null,
            "justify_content": null,
            "_view_module": "@jupyter-widgets/base",
            "overflow": null,
            "_model_module_version": "1.2.0",
            "_view_count": null,
            "flex_flow": null,
            "width": null,
            "min_width": null,
            "border": null,
            "align_items": null,
            "bottom": null,
            "_model_module": "@jupyter-widgets/base",
            "top": null,
            "grid_column": null,
            "overflow_y": null,
            "overflow_x": null,
            "grid_auto_flow": null,
            "grid_area": null,
            "grid_template_columns": null,
            "flex": null,
            "_model_name": "LayoutModel",
            "justify_items": null,
            "grid_row": null,
            "max_height": null,
            "align_content": null,
            "visibility": null,
            "align_self": null,
            "height": null,
            "min_height": null,
            "padding": null,
            "grid_auto_rows": null,
            "grid_gap": null,
            "max_width": null,
            "order": null,
            "_view_module_version": "1.2.0",
            "grid_template_areas": null,
            "object_position": null,
            "object_fit": null,
            "grid_auto_columns": null,
            "margin": null,
            "display": null,
            "left": null
          }
        },
        "ab80775a07934961bad183d8478bf456": {
          "model_module": "@jupyter-widgets/controls",
          "model_name": "FloatSliderModel",
          "state": {
            "_view_name": "FloatSliderView",
            "style": "IPY_MODEL_07b0025ffcbf45e99db810876f4a37a4",
            "_dom_classes": [],
            "description": "intervalA",
            "step": 0.1,
            "_model_name": "FloatSliderModel",
            "orientation": "horizontal",
            "max": 2,
            "_view_module": "@jupyter-widgets/controls",
            "_model_module_version": "1.5.0",
            "value": 1,
            "_view_count": null,
            "disabled": false,
            "_view_module_version": "1.5.0",
            "min": 0.01,
            "continuous_update": true,
            "readout_format": ".2f",
            "description_tooltip": null,
            "readout": true,
            "_model_module": "@jupyter-widgets/controls",
            "layout": "IPY_MODEL_769bb8ad19c34706a66d85b1f274a731"
          }
        },
        "4f6399d123824492b7a067c3f8bdc9c5": {
          "model_module": "@jupyter-widgets/controls",
          "model_name": "FloatSliderModel",
          "state": {
            "_view_name": "FloatSliderView",
            "style": "IPY_MODEL_665468ccb0ed4b289c3afa3908bf2bb8",
            "_dom_classes": [],
            "description": "intervalB",
            "step": 0.1,
            "_model_name": "FloatSliderModel",
            "orientation": "horizontal",
            "max": 2,
            "_view_module": "@jupyter-widgets/controls",
            "_model_module_version": "1.5.0",
            "value": 1,
            "_view_count": null,
            "disabled": false,
            "_view_module_version": "1.5.0",
            "min": 0.01,
            "continuous_update": true,
            "readout_format": ".2f",
            "description_tooltip": null,
            "readout": true,
            "_model_module": "@jupyter-widgets/controls",
            "layout": "IPY_MODEL_484b392f06d144d1a535ec4d632fde25"
          }
        },
        "a7d05409c06e4f378fb9e92640f22e4a": {
          "model_module": "@jupyter-widgets/output",
          "model_name": "OutputModel",
          "state": {
            "_view_name": "OutputView",
            "msg_id": "",
            "_dom_classes": [],
            "_model_name": "OutputModel",
            "outputs": [
              {
                "output_type": "display_data",
                "metadata": {
                  "tags": [],
                  "needs_background": "light"
                },
                "image/png": "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\n",
                "text/plain": "<Figure size 1080x720 with 1 Axes>"
              }
            ],
            "_view_module": "@jupyter-widgets/output",
            "_model_module_version": "1.0.0",
            "_view_count": null,
            "_view_module_version": "1.0.0",
            "layout": "IPY_MODEL_38cea72065e04e3aa561d21c22b5f3f5",
            "_model_module": "@jupyter-widgets/output"
          }
        },
        "07b0025ffcbf45e99db810876f4a37a4": {
          "model_module": "@jupyter-widgets/controls",
          "model_name": "SliderStyleModel",
          "state": {
            "_view_name": "StyleView",
            "handle_color": null,
            "_model_name": "SliderStyleModel",
            "description_width": "",
            "_view_module": "@jupyter-widgets/base",
            "_model_module_version": "1.5.0",
            "_view_count": null,
            "_view_module_version": "1.2.0",
            "_model_module": "@jupyter-widgets/controls"
          }
        },
        "769bb8ad19c34706a66d85b1f274a731": {
          "model_module": "@jupyter-widgets/base",
          "model_name": "LayoutModel",
          "state": {
            "_view_name": "LayoutView",
            "grid_template_rows": null,
            "right": null,
            "justify_content": null,
            "_view_module": "@jupyter-widgets/base",
            "overflow": null,
            "_model_module_version": "1.2.0",
            "_view_count": null,
            "flex_flow": null,
            "width": null,
            "min_width": null,
            "border": null,
            "align_items": null,
            "bottom": null,
            "_model_module": "@jupyter-widgets/base",
            "top": null,
            "grid_column": null,
            "overflow_y": null,
            "overflow_x": null,
            "grid_auto_flow": null,
            "grid_area": null,
            "grid_template_columns": null,
            "flex": null,
            "_model_name": "LayoutModel",
            "justify_items": null,
            "grid_row": null,
            "max_height": null,
            "align_content": null,
            "visibility": null,
            "align_self": null,
            "height": null,
            "min_height": null,
            "padding": null,
            "grid_auto_rows": null,
            "grid_gap": null,
            "max_width": null,
            "order": null,
            "_view_module_version": "1.2.0",
            "grid_template_areas": null,
            "object_position": null,
            "object_fit": null,
            "grid_auto_columns": null,
            "margin": null,
            "display": null,
            "left": null
          }
        },
        "665468ccb0ed4b289c3afa3908bf2bb8": {
          "model_module": "@jupyter-widgets/controls",
          "model_name": "SliderStyleModel",
          "state": {
            "_view_name": "StyleView",
            "handle_color": null,
            "_model_name": "SliderStyleModel",
            "description_width": "",
            "_view_module": "@jupyter-widgets/base",
            "_model_module_version": "1.5.0",
            "_view_count": null,
            "_view_module_version": "1.2.0",
            "_model_module": "@jupyter-widgets/controls"
          }
        },
        "484b392f06d144d1a535ec4d632fde25": {
          "model_module": "@jupyter-widgets/base",
          "model_name": "LayoutModel",
          "state": {
            "_view_name": "LayoutView",
            "grid_template_rows": null,
            "right": null,
            "justify_content": null,
            "_view_module": "@jupyter-widgets/base",
            "overflow": null,
            "_model_module_version": "1.2.0",
            "_view_count": null,
            "flex_flow": null,
            "width": null,
            "min_width": null,
            "border": null,
            "align_items": null,
            "bottom": null,
            "_model_module": "@jupyter-widgets/base",
            "top": null,
            "grid_column": null,
            "overflow_y": null,
            "overflow_x": null,
            "grid_auto_flow": null,
            "grid_area": null,
            "grid_template_columns": null,
            "flex": null,
            "_model_name": "LayoutModel",
            "justify_items": null,
            "grid_row": null,
            "max_height": null,
            "align_content": null,
            "visibility": null,
            "align_self": null,
            "height": null,
            "min_height": null,
            "padding": null,
            "grid_auto_rows": null,
            "grid_gap": null,
            "max_width": null,
            "order": null,
            "_view_module_version": "1.2.0",
            "grid_template_areas": null,
            "object_position": null,
            "object_fit": null,
            "grid_auto_columns": null,
            "margin": null,
            "display": null,
            "left": null
          }
        },
        "38cea72065e04e3aa561d21c22b5f3f5": {
          "model_module": "@jupyter-widgets/base",
          "model_name": "LayoutModel",
          "state": {
            "_view_name": "LayoutView",
            "grid_template_rows": null,
            "right": null,
            "justify_content": null,
            "_view_module": "@jupyter-widgets/base",
            "overflow": null,
            "_model_module_version": "1.2.0",
            "_view_count": null,
            "flex_flow": null,
            "width": null,
            "min_width": null,
            "border": null,
            "align_items": null,
            "bottom": null,
            "_model_module": "@jupyter-widgets/base",
            "top": null,
            "grid_column": null,
            "overflow_y": null,
            "overflow_x": null,
            "grid_auto_flow": null,
            "grid_area": null,
            "grid_template_columns": null,
            "flex": null,
            "_model_name": "LayoutModel",
            "justify_items": null,
            "grid_row": null,
            "max_height": null,
            "align_content": null,
            "visibility": null,
            "align_self": null,
            "height": null,
            "min_height": null,
            "padding": null,
            "grid_auto_rows": null,
            "grid_gap": null,
            "max_width": null,
            "order": null,
            "_view_module_version": "1.2.0",
            "grid_template_areas": null,
            "object_position": null,
            "object_fit": null,
            "grid_auto_columns": null,
            "margin": null,
            "display": null,
            "left": null
          }
        },
        "a8346bb692a84a76ace43d116bab5f13": {
          "model_module": "@jupyter-widgets/controls",
          "model_name": "VBoxModel",
          "state": {
            "_view_name": "VBoxView",
            "_dom_classes": [
              "widget-interact"
            ],
            "_model_name": "VBoxModel",
            "_view_module": "@jupyter-widgets/controls",
            "_model_module_version": "1.5.0",
            "_view_count": null,
            "_view_module_version": "1.5.0",
            "box_style": "",
            "layout": "IPY_MODEL_f61b6fafc8a94b7b99f8c71df023154b",
            "_model_module": "@jupyter-widgets/controls",
            "children": [
              "IPY_MODEL_1ae443bad0eb44e093b44452b0228a66",
              "IPY_MODEL_de50566ae8ac4edca8147a83d0466914",
              "IPY_MODEL_722fbbf3c20a4c2b8b9094d2929e8a94"
            ]
          }
        },
        "f61b6fafc8a94b7b99f8c71df023154b": {
          "model_module": "@jupyter-widgets/base",
          "model_name": "LayoutModel",
          "state": {
            "_view_name": "LayoutView",
            "grid_template_rows": null,
            "right": null,
            "justify_content": null,
            "_view_module": "@jupyter-widgets/base",
            "overflow": null,
            "_model_module_version": "1.2.0",
            "_view_count": null,
            "flex_flow": null,
            "width": null,
            "min_width": null,
            "border": null,
            "align_items": null,
            "bottom": null,
            "_model_module": "@jupyter-widgets/base",
            "top": null,
            "grid_column": null,
            "overflow_y": null,
            "overflow_x": null,
            "grid_auto_flow": null,
            "grid_area": null,
            "grid_template_columns": null,
            "flex": null,
            "_model_name": "LayoutModel",
            "justify_items": null,
            "grid_row": null,
            "max_height": null,
            "align_content": null,
            "visibility": null,
            "align_self": null,
            "height": null,
            "min_height": null,
            "padding": null,
            "grid_auto_rows": null,
            "grid_gap": null,
            "max_width": null,
            "order": null,
            "_view_module_version": "1.2.0",
            "grid_template_areas": null,
            "object_position": null,
            "object_fit": null,
            "grid_auto_columns": null,
            "margin": null,
            "display": null,
            "left": null
          }
        },
        "1ae443bad0eb44e093b44452b0228a66": {
          "model_module": "@jupyter-widgets/controls",
          "model_name": "FloatSliderModel",
          "state": {
            "_view_name": "FloatSliderView",
            "style": "IPY_MODEL_0ecb6e9e024740d8a6b7e739854ae928",
            "_dom_classes": [],
            "description": "pλ",
            "step": 0.1,
            "_model_name": "FloatSliderModel",
            "orientation": "horizontal",
            "max": 5,
            "_view_module": "@jupyter-widgets/controls",
            "_model_module_version": "1.5.0",
            "value": 1.7,
            "_view_count": null,
            "disabled": false,
            "_view_module_version": "1.5.0",
            "min": 0.1,
            "continuous_update": true,
            "readout_format": ".2f",
            "description_tooltip": null,
            "readout": true,
            "_model_module": "@jupyter-widgets/controls",
            "layout": "IPY_MODEL_7713071950f34e559bc6310d7ccd7fc5"
          }
        },
        "de50566ae8ac4edca8147a83d0466914": {
          "model_module": "@jupyter-widgets/controls",
          "model_name": "FloatSliderModel",
          "state": {
            "_view_name": "FloatSliderView",
            "style": "IPY_MODEL_230fb77bf00a48088af2204b08ceccd0",
            "_dom_classes": [],
            "description": "pμ",
            "step": 0.1,
            "_model_name": "FloatSliderModel",
            "orientation": "horizontal",
            "max": 5,
            "_view_module": "@jupyter-widgets/controls",
            "_model_module_version": "1.5.0",
            "value": 3.2,
            "_view_count": null,
            "disabled": false,
            "_view_module_version": "1.5.0",
            "min": 0.1,
            "continuous_update": true,
            "readout_format": ".2f",
            "description_tooltip": null,
            "readout": true,
            "_model_module": "@jupyter-widgets/controls",
            "layout": "IPY_MODEL_3ca964c550714d84a5776697630ddf7e"
          }
        },
        "722fbbf3c20a4c2b8b9094d2929e8a94": {
          "model_module": "@jupyter-widgets/output",
          "model_name": "OutputModel",
          "state": {
            "_view_name": "OutputView",
            "msg_id": "",
            "_dom_classes": [],
            "_model_name": "OutputModel",
            "outputs": [
              {
                "output_type": "display_data",
                "metadata": {
                  "tags": [],
                  "needs_background": "light"
                },
                "image/png": "iVBORw0KGgoAAAANSUhEUgAABDAAAALICAYAAACJhQBYAAAABHNCSVQICAgIfAhkiAAAAAlwSFlzAAALEgAACxIB0t1+/AAAADh0RVh0U29mdHdhcmUAbWF0cGxvdGxpYiB2ZXJzaW9uMy4yLjIsIGh0dHA6Ly9tYXRwbG90bGliLm9yZy+WH4yJAAAgAElEQVR4nOzdf7Ccd2Hf+88jHf/iADZywo9anlmniO5jSNKpweY2TSuwQ+RsWpE7FExSEAmD701w4YbeC0vMXNqEdpaGqcdNgYwuZiLnNjWObyZ2ZgHFBtS0SQ02tJlgni1RzKaWCyG2ZHOvVJAlPfeP84isjXR0LOtovzp6vYYz59nv893d784xjPfN86Nq2zYAAAAAJVs37wUAAAAAnIiAAQAAABRPwAAAAACKJ2AAAAAAxRMwAAAAgOItzHsBZ4p169a1F1xwwbyXAQAAwBpz4MCBtm1bBxicgICxQhdccEH2798/72UAAACwxlRV9T/mvYYzgcIDAAAAFE/AAAAAAIonYAAAAADFEzAAAACA4gkYAAAAQPEEDAAAAKB4AgYAAABQPAEDAAAAKJ6AAQAAABRPwAAAAACKJ2AAAAAAxRMwAAAAgOIJGAAAAEDxBAwAAACgeAIGAAAAUDwBAwAAACiegAEAAAAUT8AAAAAAiidgAAAAAMUTMAAAAIDiCRgAAABA8QQMAAAAoHgCBgAAAFA8AQMAAAAonoABAAAAFE/AAAAAAIq3MO8FzFPTr7ckuTnJ+iQfqyfNaM5LAgAAgO/RG46f9P11Ohqcdd9fq7Zt572GuWj69fokX03yY0n2JLkvyRvrSfOVY81fXFxs9+/ffxpX+PQdPnQ4bdtm4ZyzuksBBTpy5Mi8l8BxtEfOzn8PKN3Z+u9nAKth3fp1Wbeu7JMPqqo60Lbt4vH294bjY35/nY4Gx/z+uladzd90r0yyu540DyZJ069vS7I1yRn7D8D7P/B/57f3Pzf/9Vd/Kru/vDv/8Q8fyNe+8Xj2fftQHn8i2X8kOdRWeaKt8kSqPJF1eSJVjlRV2lRpk7RJjqRKkm483b7up8p35x6pqmOuo031lMcnnpMkxxpayWsd64ntyb7WMT7TMddflf0/gAAAwJJPvOb5uerVr5j3Mp6pK5Psno4GDyZJbzg+47+/noyzOWBckuShmcd7klw1O6GqquuTXJ8kl1xySXbt2nXaFncy/vK5z80T3z4nP/3B38kf7TsvyULWZ0Oes/5InvWsIzl/XZuFKllYl5xfJc+ukvXrkipt1qVK959UVZsqVbedLl1U3XZmxvPd55zIseYcp388xTFTx/fOWVkPWdEaVrSspzGP081fplRV5f9RLpX/1hTKHwbglHj4wGPFf5dLslBV1f0zj7e3bbt95vEJv7+eDc7mgHFC3T8w25OlU0g2b9483wWdwD27duRIvi9/tO+8/Mz5j+Rn/sGVecnLXpyFc8+Z99IAAAA4vkNt27583oso3dkcMB5OcunM443d2BnvJd9+JP98tG3eywAAAODUWLPfX5+Oszlg3JdkU9OvL8vSH/66JD893yU9M0cPzn7poovlAQAArCH3JdnUG47XzPfXk3HWXomwnjSHktyQZGeSJsnt9aR5YL6remYe+R+HkySbnv/sOa8EAACAU2U6GnzP99fpaHBGf389GWfzERipJ80nk3xy3us4Vb71RJJzk++78FnzXgoAAACn0HQ0WFPfX0/GWXsExlq0v7t36HOefcGcVwIAAACnloCxhhxo1ydJnv0cAQMAAIC1RcBYQ57obhh/7jln9ZlBAAAArEECxhpypAsY69evn/NKAAAA4NQSMNaQ7waMBX9WAAAA1hbfdNeQw9XRgOEIDAAAANYWAWMNOdwdgbHgFBIAAADWGAFjDTl6Csm69f6sAAAArC2+6a4hh6ulP+eCu5AAAACwxggYa8iRyikkAAAArE0Cxhry3VNIXMQTAACANUbAWEOOHoFxzjkCBgAAAGuLgLGGHL0GxroF18AAAABgbREw1pAj3Z9zwV1IAAAAWGN8011D2qUzSLLORTwBAABYYwQMAAAAoHgCBgAAAFA8AQMAAAAonoABAAAAFE/AAAAAAIonYAAAAADFEzAAAACA4gkYAAAAQPEEDAAAAKB4AgYAAABQPAEDAAAAKJ6AAQAAABRPwAAAAACKJ2AAAAAAxRMwAAAAgOIJGAAAAEDxBAwAAACgeAIGAAAAUDwBAwAAACiegAEAAAAUT8AAAAAAiidgrCFtqnkvAQAAAFaFgLEGVZWQAQAAwNoiYAAAAADFEzAAAACA4gkYAAAAQPEEDAAAAKB4AgYAAABQPAEDAAAAKJ6AAQAAABRPwAAAAACKJ2AAAAAAxRMwAAAAgOIJGAAAAEDxBAwAAACgeAIGAAAAUDwBAwAAACiegAEAAAAUT8AAAAAAiidgAAAAAMUTMAAAAIDiCRgAAABA8QQMAAAAoHgCxhrSznsBAAAAsEoEjLVoXTXvFQAAAMApJWAAAAAAxRMwAAAAgOIJGAAAAEDxBAwAAACgeAIGAAAAUDwBAwAAACiegAEAAAAUT8AAAAAAiidgAAAAAMUTMAAAAIDiCRgAAABA8QQMAAAAoHgCBgAAAFA8AQMAAAAonoABAAAAFE/AAAAAAIonYAAAAADFEzAAAACA4gkYAAAAQPEEDAAAAKB4AgYAAABQPAFjLamqea8AAAAAVoWAsQZVETIAAABYWwQMAAAAoHgCBgAAAFA8AQMAAAAonoABAAAAFE/AAAAAAIonYAAAAADFEzAAAACA4i3MewEAAADAyesNx7+a5O8nOZjkz5L87HQ0eKzb994kb01yOMk7pqPBzm58S5Kbk6xP8rHpaDDqxi9LcluSi5N8McmbpqPBwd5wfF6SW5NckeTRJG+YjgbT0/Yh4wgMAAAAONPdneRl09Hgh5J8Ncl7k6Q3HF+e5LokL02yJclHesPx+t5wvD7Jh5Ncm+TyJG/s5ibJB5PcNB0NXpxkX5biR7rf+7rxm7p5p5WAAQAAAGew6Wjw+9PR4FD38N4kG7vtrUlum44G35mOBl9LsjvJld3P7ulo8OB0NDiYpSMutvaG4yrJq5Pc0T1/R5LXzrzWjm77jiRXd/NPG6eQrNCGDRuya9eueS9jWW219M/OH33x/lxw7vo5rwYAAIAVWqiq6v6Zx9vbtt1+kq/1c0k+0W1fkqWgcdSebixJHnrK+FVZOm3ksZkYMjv/kqPPmY4Gh3rD8ePd/EdOcp1Pm4CxQnv37s3mzZvnvYxlVZ/6vbRVlb99xctz4cUXzns5AAAArMyhtm1fvtyE3nB8T5IXHmPXjdPR4M5uzo1JDiX5t6d+ifMnYAAAAEDhpqPBNcvt7w3Hb0nyk0muno4GbTf8cJJLZ6Zt7MZynPFHk1zUG44XuqMwZucffa09veF4IcmF3fzTRsAAAACAM1h3R5F3J/l709HgwMyuu5L8Vm84/ldJ/lqSTUm+kKRKsqm748jDWbrQ509PR4O2Nxx/LsnrsnRdjG1J7px5rW1J/lO3/7MzoeS0cBFPAAAAOLP9myTPSXJ3bzj+L73h+NeTZDoaPJDk9iRfSfLpJG+fjgaHu6MrbkiyM0mT5PZubpK8J8m7esPx7ixd4+KWbvyWJBd34+9KMjw9H+2vVG17WoPJGWtxcbHdv3//vJexrB94z+/lSLUuf/x//B3XwAAAADhDVFV1oG3bxXmvo3SOwAAAAACKJ2AAAAAAxRMwAAAAgOIJGAAAAEDxBIw1xOVYAQAAWKsEDAAAAKB4AsYatM5fFQAAgDXGV10AAACgeAIGAAAAUDwBAwAAACiegAEAAAAUT8AAAAAAiidgAAAAAMUTMAAAAIDiCRgAAABA8QQMAAAAoHgCBgAAAFA8AQMAAAAonoABAAAAFE/AAAAAAIonYAAAAADFEzAAAACA4gkYAAAAQPEEDAAAAKB4AgYAAABQPAEDAAAAKJ6AAQAAABRPwFhD2sqfEwAAgLXJN941qBIyAAAAWGN80wUAAACKJ2AAAAAAxRMwAAAAgOIJGAAAAEDxFubxpk2//tUkfz/JwSR/luRn60nzWLfvvUnemuRwknfUk2ZnN74lyc1J1if5WD1pRt34ZUluS3Jxki8meVM9aQ42/fq8JLcmuSLJo0neUE+a6XLvAQAAAJRpXkdg3J3kZfWk+aEkX03y3iRp+vXlSa5L8tIkW5J8pOnX65t+vT7Jh5Ncm+TyJG/s5ibJB5PcVE+aFyfZl6Uwke73vm78pm7ecd9jlT8vAAAA8AzMJWDUk+b360lzqHt4b5KN3fbWJLfVk+Y79aT5WpLdSa7sfnbXk+bBetIczNIRF1ubfl0leXWSO7rn70jy2pnX2tFt35Hk6m7+8d4DAAAAKFQJ18D4uSSf6rYvSfLQzL493djxxi9O8thMDDk6/qTX6vY/3s0/3mt9j6qqrq+q6v6qqu4/dOjQsaYAAAAAp8GqXQOj6df3JHnhMXbdWE+aO7s5NyY5lOTfrtY6nom2bbcn2Z4ki4uL7ZyXAwAAAGetVQsY9aS5Zrn9Tb9+S5KfTHJ1PWmOxoGHk1w6M21jN5bjjD+a5KKmXy90R1nMzj/6Wnuafr2Q5MJu/nLvAQAAABRoLqeQdHcUeXeSf1BPmgMzu+5Kcl3Tr8/r7i6yKckXktyXZFPTry9r+vW5WboI511d+Phcktd1z9+W5M6Z19rWbb8uyWe7+cd7DwAAAKBQ87oGxr9J8pwkdzf9+r80/frXk6SeNA8kuT3JV5J8Osnb60lzuDu64oYkO5M0SW7v5ibJe5K8q+nXu7N0jYtbuvFbklzcjb8ryXC591jtDwwAAACcvKptXdphJRYXF9v9+/fPexnL6g3HSZIvD/9unn3Rc+a8GgAAAFaiqqoDbdsuznsdpSvhLiQAAAAAyxIwAAAAgOIJGAAAAEDxBAwAAACgeAIGAAAAUDwBAwAAACiegAEAAAAUT8AAAAAAiidgAAAAAMUTMNagal017yUAAADAKSVgAAAAAMUTMAAAAIDiCRgAAABA8QQMAAAAoHgCBgAAAFA8AQMAAAAonoABAAAAFE/AAAAAAIonYAAAAADFEzAAAACA4gkYAAAAQPEEDAAAAKB4AgYAAABQPAEDAAAAKJ6AAQAAABRPwAAAAACKJ2AAAAAAxRMwAAAAgOIJGAAAAEDxBAwAAACgeAIGAAAAUDwBYw2qqmreSwAAAIBTSsAAAAAAiidgAAAAAMUTMAAAAIDiCRgAAABA8QQMAAAAoHgCBgAAAFA8AQMAAAAonoABAAAAFE/AAAAAAIonYAAAAADFEzAAAACA4gkYAAAAQPEEDAAAAKB4AgYAAABQPAEDAAAAKJ6AAQAAABRvYd4LAAAAAJ653nD8T5J8KMn3T0eDR3rDcZXk5iQ/keRAkrdMR4MvdXO3JXlf99QPTEeDHd34FUl+I8kFST6Z5J3T0aDtDccbknwiSS/JNMnrp6PBvtP00ZI4AgMAAADOeL3h+NIkr0ny32aGr02yqfu5PslHu7kbkrw/yVVJrkzy/t5w/LzuOR9N8raZ523pxodJPjMdDTYl+Uz3+LQSMAAAAODMd1OSdydpZ8a2Jrl1Ohq009Hg3iQX9YbjFyX58SR3T0eDvd1RFHcn2dLte+50NLh3Ohq0SW5N8tqZ19rRbe+YGT9tnEKyQhs2bMiuXbvmvYwV+Y+f/3zOXdCmAAAAzhALVVXdP/N4e9u221f65N5wvDXJw9PR4I97w/HsrkuSPDTzeE83ttz4nmOMJ8kLpqPB17vtbyR5wUrXd6oIGCu0d+/ebN68ed7LWN6nl/5B/TtXXZVnPWdxzosBAABghQ61bfvy5Sb0huN7krzwGLtuTPJLWTp95LToronRnnjmqSVgAAAAQOGmo8E1xxrvDcc/mOSyJEePvtiY5Eu94fjKJA8nuXRm+sZu7OEkm58yvqsb33iM+UnyF73h+EXT0eDr3akm33yGH+lpEzDWoKqq5r0EAAAAToPpaPAnSZ5/9HFvOJ4meXl3F5K7ktzQG45vy9IFOx/vAsTOJP9i5sKdr0ny3ulosLc3HH+rNxy/Msnnk7w5ya91c+5Ksi3JqPt952n4eE/iQgkAAACwNn0yyYNJdif5v5L8QpJMR4O9SX4lyX3dzy93Y+nmfKx7zp8l+VQ3PkryY73h+E+TXNM9Pq2qtj3tp62ckRYXF9v9+/fPexnLOnqxluZ9r8oFz37WnFcDAADASlRVdaBtWxcyPAFHYAAAAADFEzAAAACA4gkYAAAAQPEEDAAAAKB4AgYAAABQPAEDAAAAKJ6AAQAAABRPwAAAAACKJ2AAAAAAxRMwAAAAgOIJGAAAAEDxBAwAAACgeAIGAAAAUDwBAwAAACiegAEAAAAUT8AAAAAAiidgAAAAAMUTMAAAAIDiCRgAAABA8QSMtWidPysAAABri2+6AAAAQPEEDAAAAKB4AgYAAABQPAEDAAAAKJ6AAQAAABRPwAAAAACKJ2AAAAAAxRMwAAAAgOIJGAAAAEDxBAwAAACgeAIGAAAAUDwBAwAAACiegAEAAAAUT8AAAAAAiidgAAAAAMUTMAAAAIDiCRgAAABA8QQMAAAAoHgCBgAAAFA8AQMAAAAonoABAAAAFE/AAAAAAIonYKxB/qgAAACsNb7rAgAAAMUTMAAAAIDiCRgAAABA8QQMAAAAoHgCBgAAAFA8AQMAAAAonoABAAAAFE/AAAAAAIonYAAAAADFEzAAAACA4gkYAAAAQPEEDAAAAKB4AgYAAABQPAEDAAAAKJ6AAQAAABRPwAAAAACKJ2AAAAAAxRMwAAAAgOIJGAAAAEDxBAwAAACgeAIGAAAAUDwBYw2q1lXzXgIAAACcUgIGAAAAUDwBAwAAACiegAEAAAAUT8AAAAAAiidgAAAAAMUTMAAAAIDiCRgAAABA8QQMAAAAoHgCBgAAAFA8AQMAAAAo3sI837zp1/8kyYeSfH89aR5p+nWV5OYkP5HkQJK31JPmS93cbUne1z31A/Wk2dGNX5HkN5JckOSTSd5ZT5q26dcbknwiSS/JNMnr60mzb7n3AAAAAMo0tyMwmn59aZLXJPlvM8PXJtnU/Vyf5KPd3A1J3p/kqiRXJnl/06+f1z3no0neNvO8Ld34MMln6kmzKclnusfHfQ8AAACgXPM8heSmJO9O0s6MbU1yaz1p2nrS3JvkoqZfvyjJjye5u540e+tJsy/J3Um2dPueW0+ae+tJ0ya5NclrZ15rR7e94ynjx3oPAAAAoFBzCRhNv96a5OF60vzxU3ZdkuShmcd7urHlxvccYzxJXlBPmq93299I8oITvMf3qKrq+qqq7q+q6v5Dhw6t5KMBAAAAq2DVroHR9Ot7krzwGLtuTPJLWTp95LToronRnnjmk7Vtuz3J9iRZXFx82s8HAAAATo1VCxj1pLnmWONNv/7BJJcl+eOmXyfJxiRfavr1lUkeTnLpzPSN3djDSTY/ZXxXN77xGPOT5C+afv2ietJ8vTtF5Jvd+PHeAwAAACjUaT+FpJ40f1JPmufXk6ZXT5pelk7h+Fv1pPlGkruSvLnp11XTr1+Z5PHuNJCdSV7T9OvndRfvfE2Snd2+bzX9+pXd3UXenOTO7q3uSrKt2972lPFjvQcAAABQqLneRvUYPpml25vuztItTn82SepJs7fp17+S5L5u3i/Xk2Zvt/0L+avbqH6q+0mSUZLbm3791iR/nuT1y70HAAAAUK6qbV3aYSUWFxfb/fv3z3sZy+oNx0mSr/7Ta3Lu+efNeTUAAACsRFVVB9q2XZz3Oko3z9uoAgAAAKyIgAEAAAAUT8AAAAAAiidgrEFVVc17CQAAAHBKreguJE2/Pj/JW5O8NMn5R8frSfNzq7QuAAAAgO9a6REYv5nkhUl+PMm/T7Ixyf+7WosCAAAAmLWiIzCSvLieNP+w6ddb60mzo+nXv5XkP6zmwgAAAICV6Q3H/zjJ25McTjKejgbv7sbfm6UzKg4necd0NNjZjW9JcnOS9Uk+Nh0NRt34ZUluS3Jxki8medN0NDjYG47PS3JrkiuSPJrkDdPRYHr6PuHKj8B4ovv9WNOvX5bkwiTPX50lAQAAACvVG45flWRrkh+ejgYvTfKhbvzyJNdl6XIQW5J8pDccr+8Nx+uTfDjJtUkuT/LGbm6SfDDJTdPR4MVJ9mUpfqT7va8bv6mbd1qtNGBsb/r185K8L8ldSb6SOSwWAAAA+B4/n2Q0HQ2+kyTT0eCb3fjWJLdNR4PvTEeDryXZneTK7mf3dDR4cDoaHMzSERdbe8NxleTVSe7onr8jyWtnXmtHt31Hkqu7+afNSk8h+Z160uxL8gdJfiBJmn592aqtqkAbNmzIrl275r2MFfmDP/zDrF/nTiQAAABniIWqqu6feby9bdvtT+P5L0nyo73h+J8n+XaS/306GtyX5JIk987M29ONJclDTxm/KkunjTw2HQ0OHWP+JUefMx0NDvWG48e7+Y88jXU+IysNGL/X9Otr60nzrSRp+nWd5LeTvGzVVlaYvXv3ZvPmzfNexvI+PU6S/N0f+ZGcc965c14MAAAAK3SobduXLzehNxzfk6WbazzVjVn6br8hySuTvCLJ7b3h+AdO+SrnbKUB419kKWIMkvyNLF2442dWbVUAAADAd01Hg2uOt683HP98kt+ZjgZtki/0huMjSb4vycNJLp2ZurEby3HGH01yUW84XuiOwpidf/S19vSG44UsXRvz0Wf8wZ6GFQWMetKMm359TpLfT/KcJD9VT5qvrurKAAAAgJX43SSvSvK53nD8kiTnZunUjruS/FZvOP5XSf5akk1JvpCkSrKpu+PIw1m60OdPT0eDtjccfy7J67J0XYxtSe7s3uOu7vF/6vZ/tgsmp82yAaPp17+WZHZBFyb5syQ3NP069aR5x2ouDgAAADihjyf5eG84/nKSg0m2dXHhgd5wfHuWbsRxKMnbp6PB4STpDcc3JNmZpduofnw6GjzQvdZ7ktzWG44/kOQ/J7mlG78lyW/2huPdSfZmKXqcVlXbHj+YNP1623JPrifNjuX2ryWLi4vt/v37572MZfWGS9fA+NN/9mOugQEAAHCGqKrqQNu2i/NeR+mWPQLjbAoUAAAAwOrpDcfnJ/lfk7w4yZ8kuWXmjicndKJTSP4kTz6F5EnqSfNDK30jAAAA4Ky2I8kTSf5DkmuTXJ7knSt98oku4vmTJ78uAAAAgO+6fDoa/GCS9IbjW7J0QdEVW7fcznrS/PnRn25oU7f9zSxdtAMAAABgJZ44uvF0Th056rhHYDT9emM9afZ0229Lcn2SDUn+epbuBfvrSa5+um8IAAAAnJV+uDccf6vbrpJc0D2ukrTT0eC5yz15uVNIfrTp199fT5p/neTtSa5M8vkkqSfNnzb9+vnPfO0AAADA2WA6Gqx/Js8/7ikk9aT5d0n+v+7hwXrSHDy6r+nXC1nm4p4AAAAAp9KJroHx8W5zV9OvfynJBU2//rEkv53k91Z7cQAAAADJCQLGjGGSv8zSfVr/lySfTPK+1VoUAAAAwKwT3UY1SVJPmiNNv/7dJL9bT5q/XOU1AQAAADzJsgGj6ddVkvcnuSHd0RpNvz6c5NfqSfPLq788AAAAgBOfQvKLSX4kySvqSbOhnjQbklyV5Eeafv2Lq746Tkq1bqVnBgEAAMCZ4UTfdN+U5I31pPna0YF60jyY5B8lefNqLgwAAADgqBMFjHPqSfPIUwe762CcszpLAgAAAHiyEwWMgye5DwAAAOCUOdFdSH646dffOsZ4leT8VVgPAAAAwPdYNmDUk2b96VoIAAAAwPG4XQUAAABQPAEDAAAAKJ6AAQAAABRPwAAAAACKJ2AAAAAAxRMwAAAAgOIJGAAAAEDxBAwAAACgeAIGAAAAUDwBAwAAACiegAEAAAAUT8AAAAAAiidgAAAAAMUTMAAAAIDiCRgAAABA8QQMAAAAoHgCxhpUVdW8lwAAAACnlIABAAAAFE/AAAAAAIonYAAAAADFEzAAAACA4gkYAAAAQPEEDAAAAKB4AgYAAABQPAEDAAAAKJ6AAQAAABRPwAAAAACKJ2AAAAAAxRMwAAAAgOIJGAAAAEDxBAwAAACgeAIGAAAAUDwBAwAAACiegAEAAAAUT8AAAAAAiidgAAAAAMUTMAAAAIDiCRgAAABA8QQMAAAAoHgCxhpUravmvQQAAAA4pQQMAAAAoHgCBgAAAFA8AQMAAAAonoABAAAAFE/AAAAAAIonYAAAAADFEzAAAACA4gkYAAAAQPEEDAAAAKB4AgYAAABQPAEDAAAAKJ6AAQAAABRPwAAAAACKJ2AAAAAAxRMwAAAAgOIJGAAAAEDxBAwAAACgeAIGAAAAUDwBAwAAACiegAEAAAAUT8AAAAAAiidgrEHr1vmzAgAAsLb4pgsAAAAUT8AAAAAAiidgAAAAAMUTMAAAAIDiCRgAAABA8QQMAAAAoHgCBgAAAFA8AQMAAAAonoABAAAAFE/AAAAAAIonYAAAAADFEzAAAACA4i3MewEAAADAyesNx38zya8nOT/JoSS/MB0NvtAbjqskNyf5iSQHkrxlOhp8qXvOtiTv617iA9PRYEc3fkWS30hyQZJPJnnndDRoe8PxhiSfSNJLMk3y+ulosO+0fMCOIzAAAADgzPYvk/yz6WjwN5P8n93jJLk2yabu5/okH02SLka8P8lVSa5M8v7ecPy87jkfTfK2medt6caHST4zHQ02JflM9/i0EjAAAADgzNYmeW63fWGS/95tb01y63Q0aKejwb1JLuoNxy9K8uNJ7p6OBnu7oyjuTrKl2/fc6Whw73Q0aJPcmuS1M6+1o9veMTN+2jiFZIU2bNiQXbt2zXsZK3KmrBMAAIAkyUJVVffPPN7etu32p/H8/y3Jzt5w/KEsHajwt7vxS5I8NDNvTze23PieY4wnyQumo8HXu+1vJHnB01jfKSFgrNDevXuzefPmeS9jeZ8eJ0n56wQAAGDWobZtX77chN5wfE+SFx5j141Jrk7yi9PR4P/pDcevT3JLkmtO/TKXdNfEaFfr9Y9HwAAAAIDCTUeD4waJ3nB8a5J3dmQCIPoAABicSURBVA9/O8nHuu2Hk1w6M3VjN/Zwks1PGd/VjW88xvwk+YvecPyi6Wjw9e5Uk2+e1Ad5BlwDAwAAAM5s/z3J3+u2X53kT7vtu5K8uTccV73h+JVJHu9OA9mZ5DW94fh53cU7X5NkZ7fvW73h+JXdHUzenOTOmdfa1m1vmxk/bRyBAQAAAGe2tyW5uTccLyT5dpbuOJIs3Qb1J5LsztJtVH82Saajwd7ecPwrSe7r5v3ydDTY223/Qv7qNqqf6n6SZJTk9t5w/NYkf57k9av5gY6latvTftrKGWlxcbHdv3//vJexrN5w6RoY09FgzisBAABgpaqqOtC27eK811E6p5AAAAAAxRMwAAAAgOIJGAAAAEDxBAwAAACgeAIGAAAAUDwBAwAAACiegAEAAAAUT8AAAAAAiidgAAAAAMUTMAAAAIDiCRgAAABA8QQMAAAAoHgCBgAAAFA8AQMAAAAonoABAAAAFE/AAAAAAIonYAAAAADFW5jXGzf9+h8neXuSw0nG9aR5dzf+3iRv7cbfUU+and34liQ3J1mf5GP1pBl145cluS3JxUm+mORN9aQ52PTr85LcmuSKJI8meUM9aabLvQcAAABQprkcgdH061cl2Zrkh+tJ89IkH+rGL09yXZKXJtmS5CNNv17f9Ov1ST6c5Noklyd5Yzc3ST6Y5KZ60rw4yb4shYl0v/d14zd18477Hqv8kQEAAIBnYF6nkPx8klE9ab6TJPWk+WY3vjXJbfWk+U49ab6WZHeSK7uf3fWkebCeNAezdMTF1qZfV0leneSO7vk7krx25rV2dNt3JLm6m3+89wAAAAAKNa+A8ZIkP9r06883/frfN/36Fd34JUkempm3pxs73vjFSR6rJ82hp4w/6bW6/Y9384/3WgAAAEChVu0aGE2/vifJC4+x68bufTckeWWSVyS5venXP7BaazlZVVVdn+T6JDn33HPnvBoAAAA4e61awKgnzTXH29f0659P8jv1pGmTfKHp10eSfF+Sh5NcOjN1YzeW44w/muSipl8vdEdZzM4/+lp7mn69kOTCbv5y7/EkbdtuT7I9SRYXF9sTfWYAAABgdczrFJLfTfKqJGn69UuSnJvkkSR3Jbmu6dfndXcX2ZTkC0nuS7Kp6deXNf363CxdhPOuLoB8LsnrutfdluTObvuu7nG6/Z/t5h/vPQAAAIBCzes2qh9P8vGmX385ycEk27q48EDTr29P8pUkh5K8vZ40h5Ok6dc3JNmZpduofryeNA90r/WeJLc1/foDSf5zklu68VuS/GbTr3cn2Zul6JF60hz3PQAAAIAyVW3rzIiVWFxcbPfv3z/vZSyrNxwnSaajwZxXAgAAwEpVVXWgbdvFea+jdPM6hQQAAABgxQQMAAAAoHgCBgAAAFA8AQMAAAAonoABAAAAFE/AAAAAAIonYAAAAADFEzAAAACA4gkYAAAAQPEEDAAAAKB4AgYAAABQPAEDAAAAKJ6AAQAAABRPwAAAAACKJ2AAAAAAxRMwAAAAgOIJGAAAAEDxBAwAAACgeAIGAAAAUDwBAwAAACiegAEAAAAUT8AAAAAAiidgAAAAAMUTMAAAAIDiCRgAAABA8QQMAAAAoHgCBgAAAFA8AQMAAAAonoABAAAAFE/AAAAAAIonYAAAAADFEzAAAACA4gkYAAAAQPEEDAAAAKB4AgYAAABQPAEDAAAAKJ6AAQAAABRPwAAAAACKJ2AAAAAAxRMwAAAAgOIJGAAAAEDxBAwAAACgeAIGAAAAUDwBAwAAACiegAEAAAAUT8AAAAAAiidgAAAAAMUTMAAAAIDiCRgAAABA8QQMAAAAoHgCBgAAAFA8AQMAAAAonoABAAAAFE/AAAAAAIonYAAAAADFEzAAAACA4gkYAAAAQPEEDAAAAKB4AgYAAABQPAEDAAAAKJ6AAQAAABRPwAAAAACKJ2AAAAAAxRMwAAAAgOItzHsBAAAAwMnrDcf/MMk/TVInuXI6Gtw/s++9Sd6a5HCSd0xHg53d+JYkNydZn+Rj09Fg1I1fluS2JBcn+WKSN01Hg4O94fi8JLcmuSLJo0neMB0Npsu9x6nmCAwAAAA4s305yf+c5A9mB3vD8eVJrkvy0iRbknykNxyv7w3H65N8OMm1SS5P8sZubpJ8MMlN09HgxUn2ZSlMpPu9rxu/qZt33PdYjQ8pYAAAAMAZbDoaNNPR4L8eY9fWJLdNR4PvTEeDryXZneTK7mf3dDR4cDoaHMzSERdbe8NxleTVSe7onr8jyWtnXmtHt31Hkqu7+cd7j1POKSQrtGHDhuzatWvey1iRM2WdAAAAJEkWqqq6f+bx9rZtt5+C170kyb0zj/d0Y0ny0FPGr8rSaSOPTUeDQ8eYf8nR50xHg0O94fjxbv5y73FKCRgrtHfv3mzevHney1jep8dJUv46AQAAmHWobduXLzehNxzfk+SFx9h143Q0uHN1llUWAQMAAAAKNx0NrjmJpz2c5NKZxxu7sRxn/NEkF/WG44XuKIzZ+Udfa09vOF5IcmE3f7n3OKVcAwMAAADWpruSXNcbjs/r7i6yKckXktyXZFNvOL6sNxyfm6WLcN41HQ3aJJ9L8rru+duS3DnzWtu67dcl+Ww3/3jvccoJGAAAAHAG6w3HP9Ubjvck+Z+SjHvD8c4kmY4GDyS5PclXknw6yduno8Hh7uiKG5LsTNIkub2bmyTvSfKu3nC8O0vXuLilG78lycXd+LuSDJd7j9X4nFXbtqvxumvO4uJiu3///nkvY1m94dI1MKajwZxXAgAAwEpVVXWgbdvFea+jdI7AAAAAAIonYAAAAADFEzAAAACA4gkYAAAAQPEEDAAAAKB4AgYAAABQPAEDAAAAKJ6AAQAAABRPwAAAAACKJ2AAAAAAxRMwAAAAgOIJGAAAAEDxBAwAAACgeAIGAAAAUDwBAwAAACiegAEAAAAUT8AAAAAAiidgAAAAAMUTMAAAAIDiCRgAAABA8QQMAAAAoHgCBgAAAFA8AQMAAAAonoABAAAAFE/AAAAAAIonYAAAAADFEzAAAACA4gkYAAAAQPEEDAAAAKB4AgYAAABQPAEDAAAAKJ6AAQAAABRPwAAAAACKJ2AAAAAAxRMwAAAAgOIJGAAAAEDxBAwAAACgeAIGAAAAUDwBAwAAACiegAEAAAAUT8AAAAAAiidgAAAAAMUTMAAAAIDiCRgAAABA8QQMAAAAoHgCBgAAAFA8AQMAAAAonoABAAAAFE/AAAAAAIonYAAAAADFEzAAAACA4gkYAAAAQPEEDAAAAKB4AgYAAABQPAEDAAAAKJ6AAQAAwP/f3t3HyFWddxz/PsXlbSPAbogBG3WQ4maHpA0BCqZRW8KLMWxbkzalVFHtRAikkrQQVW0mDYIUULW0UQNIKRGFFDuNeClJBOpAkDFBkSqZACYJkNkUh0yCjYG0NnZllxeXp3/M2TBd+WXZ7HqON9+PNNp7n/t2Rjo+u/r53nOl6hlgSJIkSZKk6hlgSJIkSZKk6hlgSJIkSZKk6hlgSJIkSZKk6s0ZxEU7w80TgC8ABwM7gUubY51vdYabAdwAnAfsAD7SHOusK8esAK4op7i2OdZZWeonAbcBhwD3AZc1xzrZGW7OA+4EGkAXuKA51tmyp2tIkiRJkqQ6DeoOjL8D/qY51jkBuLKsA5wLLCqfS4CbAEoYcRVwKnAKcFVnuDm3HHMTcHHfcUtLvQWsaY51FgFryvpuryFJkiRJkuo1qAAjgcPK8uHA82V5GbCqOdbJ5lhnLXBEZ7h5NHAOsLo51tncHOtsAVYDS8u2w5pjnbXNsU4Cq4Dz+861siyvnFDf1TUkSZIkSVKlBvIICXA58EBnuPlZeiHKb5T6AuC5vv02lNqe6ht2UQeY3xzrbCrLLwDz93KNTUwQEZfQu0uDAw88cPLfTpIkSZIkTasZCzA6w80HgaN2senTwJnAJ5pjna90hpsXALcCZ81UW8qcGPlWj8vMm4GbAYaGht7y8ZIkSZIkaXrMWIDRHOvsNpDoDDdXAZeV1X8FbinLG4Fj+3ZdWGobgdMn1B8u9YW72B/gxc5w8+jmWGdTeUTkpb1cQ5IkSZIkVWpQc2A8D/x2WT4DeKYs3wss7ww3ozPcXAxsLY+BPAAs6Qw355bJO5cAD5Rt2zrDzcXl7SLLgXv6zrWiLK+YUN/VNSRJkiRJUqUGNQfGxcANneHmHOAVyjwT9F6Deh6wnt4rTj8K0BzrbO4MN68BHi37Xd0c62wuy5fy5mtU7y8fgFHgrs5w8yLgR8AFe7qGJEmSJEmqV2Q6tcNkDA0N5fbt2wfdjD1qtNoAdEdHBtwSSZIkSdJkRcSOzBwadDtqN6hHSCRJkiRJkibNAEOSJEmSJFXPAEOSJEmSJFXPAEOSJEmSJFXPAEOSJEmSJFXPAEOSJEmSJFXPAEOSJEmSJFXPAEOSJEmSJFXPAEOSJEmSJFXPAEOSJEmSJFXPAEOSJEmSJFXPAEOSJEmSJFXPAEOSJEmSJFXPAEOSJEmSJFXPAEOSJEmSJFXPAEOSJEmSJFXPAEOSJEmSJFXPAEOSJEmSJFXPAEOSJEmSJFXPAEOSJEmSJFXPAEOSJEmSJFVvzqAbIEmSJEmSpq7Rav8h8BmgCZzSHR15rNTPBkaBA4HXgL/sjo48VLadBNwGHALcB1zWHR3JRqs9D7gTaABd4ILu6MiWRqsdwA3AecAO4CPd0ZF15VwrgCtKc67tjo6snInv6R0YkiRJkiTt354Cfh/45oT6fwK/2x0d+VVgBfClvm03ARcDi8pnaam3gDXd0ZFFwJqyDnBu376XlOMpgcdVwKnAKcBVjVZ77nR+uXHegSFJkiRJ0n6sOzrSAWi02hPrT/StPg0c0mi1DwLmAYd1R0fWluNWAecD9wPLgNPLMSuBh4FPlvqq7uhIAmsbrfYRjVb76LLv6u7oyOZyrtX0wpDbp/t7GmBM0rx583j44YcH3YxJ2V/aKUmSJEkCYE5EPNa3fnNm3jzN1/gDYF13dOTVRqu9ANjQt20DsKAsz++Ojmwqyy8A88vyAuC5XRyzu/q0M8CYpM2bN3P66acPuhl79vVe2lZ9OyVJkiRJ/XZm5sl72qHRaj8IHLWLTZ/ujo7cs5dj3w1cByx5K40qc2LkWzlmJhlgSJIkSZJUue7oyFlTOa7Rai8EvgYs746O/KCUNwIL+3ZbWGoALzZa7aO7oyObyiMiL/Udc+wujtnIm4+cjNcfnkpb98ZJPCVJkiRJmoUarfYRQBtodUdH/n28Xh4R2dZotReXt4ssB8bv4riX3oSflJ/99eWNVjsarfZiYGs5zwPAkkarPbdM3rmk1KadAYYkSZIkSfuxRqv9wUarvQE4DWg3Wu3xAOHjwDuBKxut9rfL5x1l26XALcB64Af0JvCE3mtXz2602s8AZ5V16L1q9dmy/z+V4ymTd14DPFo+V49P6DndIrOax1mqNjQ0lNu3bx90M/ZofMbZ7ujIgFsiSZIkSZqsiNiRmUODbkftvANDkiRJkiRVzwBDkiRJkiRVzwBDkiRJkiRVzwBDkiRJkiRVzwBDkiRJkiRVzwBjFjnttRcH3QRJkiRJkmaEr1GdpP3hNaqv7niFbS9v48hj3rH3nSVJkiRJVfA1qpMzZ9AN0PQ56NCDOfLQgwfdDEmSJEmSpp2PkEiSJEmSpOoZYEiSJEmSpOoZYEiSJEmSpOoZYEiSJEmSpOoZYEiSJEmSpOoZYEiSJEmSpOoZYEiSJEmSpOoZYEiSJEmSpOoZYEiSJEmSpOoZYEiSJEmSpOoZYEiSJEmSpOoZYEiSJEmSpOoZYEiSJEmSpOoZYEiSJEmSpOoZYEiSJEmSpOoZYEiSJEmSpOoZYEiSJEmSpOoZYEiSJEmSpOoZYEiSJEmSpOoZYEiSJEmSpOoZYEiSJEmSpOoZYEiSJEmSpOoZYEiSJEmSpOoZYEiSJEmSpOoZYEiSJEmSpOoZYEiSJEmSpOoZYEiSJEmSpOoZYEiSJEmSpOpFZg66DfuFiHgD+J9Bt2MS5gA7B90IaTfsn6qZ/VM1s3+qZvZP1Wx/6Z+HZKY3GOyFAcYsExGPZebJg26HtCv2T9XM/qma2T9VM/unamb/nF1MeCRJkiRJUvUMMCRJkiRJUvUMMGafmwfdAGkP7J+qmf1TNbN/qmb2T9XM/jmLOAeGJEmSJEmqnndgSJIkSZKk6hlgSJIkSZKk6hlgzCIRsTQivh8R6yOiNej2aPaLiGMj4hsR8b2IeDoiLiv1eRGxOiKeKT/nlnpExI2lj343Ik7sO9eKsv8zEbFiUN9Js09EHBART0TEv5X14yLikdIP74yIA0v9oLK+vmxv9J3jU6X+/Yg4ZzDfRLNRRBwREXdHxFhEdCLiNMdQ1SIiPlF+vz8VEbdHxMGOoRqUiPhiRLwUEU/11aZtvIyIkyLiyXLMjRER+/YbajIMMGaJiDgA+DxwLnA88McRcfxgW6WfAzuBv8jM44HFwMdKv2sBazJzEbCmrEOvfy4qn0uAm6D3ywe4CjgVOAW4avwXkDQNLgM6fevXAZ/LzHcCW4CLSv0iYEupf67sR+nTFwLvBpYC/1jGXGk63AB8PTOHgffS66uOoRq4iFgA/Dlwcma+BziA3ljoGKpBuY1eH+o3nePlTcDFfcdNvJYqYIAxe5wCrM/MZzPzNeAOYNmA26RZLjM3Zea6svzf9P7wXkCv760su60Ezi/Ly4BV2bMWOCIijgbOAVZn5ubM3AKsxl8amgYRsRAYAW4p6wGcAdxddpnYP8f77d3AmWX/ZcAdmflqZv4QWE9vzJV+JhFxOPBbwK0AmflaZr6MY6jqMQc4JCLmAIcCm3AM1YBk5jeBzRPK0zJelm2HZeba7L3lYlXfuVQRA4zZYwHwXN/6hlKT9olyq+j7gEeA+Zm5qWx6AZhflnfXT+2/minXA38FvFHWfwl4OTN3lvX+vvbTfli2by372z81U44DfgL8c3nM6ZaIGMIxVBXIzI3AZ4Ef0wsutgKP4xiqukzXeLmgLE+sqzIGGJJ+ZhHxNuArwOWZua1/W0mxfV+z9rmI+B3gpcx8fNBtkXZjDnAicFNmvg/Yzpu3PwOOoRqcclv9MnpB2zHAEN7Zo4o5Xv58MMCYPTYCx/atLyw1aUZFxC/SCy++nJlfLeUXy614lJ8vlfru+qn9VzPh/cDvRUSX3mN1Z9Cbb+CIcjs0/P++9tN+WLYfDvwX9k/NnA3Ahsx8pKzfTS/QcAxVDc4CfpiZP8nM14Gv0htXHUNVk+kaLzeW5Yl1VcYAY/Z4FFhUZoY+kN5kSfcOuE2a5cqzrbcCncz8h75N9wLjszqvAO7pqy8vM0MvBraW2/4eAJZExNzyPz5LSk2assz8VGYuzMwGvTHxocz8MPAN4ENlt4n9c7zffqjsn6V+YZlh/zh6E3t9ax99Dc1imfkC8FxEvKuUzgS+h2Oo6vBjYHFEHFp+34/3T8dQ1WRaxsuybVtELC79fXnfuVSROXvfRfuDzNwZER+n94/yAOCLmfn0gJul2e/9wJ8AT0bEt0vtr4FR4K6IuAj4EXBB2XYfcB69Cbx2AB8FyMzNEXENvSAO4OrMnDhJkzRdPgncERHXAk9QJlAsP78UEevpTRJ2IUBmPh0Rd9H7w30n8LHM/N9932zNUn8GfLn858Oz9MbFX8AxVAOWmY9ExN3AOnpj3xPAzUAbx1ANQETcDpwOvD0iNtB7m8h0/s15Kb03nRwC3F8+qkz0glFJkiRJkqR6+QiJJEmSJEmqngGGJEmSJEmqngGGJEmSJEmqnpN4SpKkKYuIs4FfB34FuCIzNwy4SZIkaZYywJAkSVOWmasjYgGw1vBCkiTNJN9CIkmSpiQijgKup3cHxsvAi8DlmfkfA22YJEmalbwDQ5IkvWUREcDXgJWZeWGpvReYDxhgSJKkaecknpIkaSo+ALyemV8YL2Tmd4AnImJNRKyLiCcjYhlARAxFRDsivhMRT0XEHw2q4ZIkaf/kHRiSJGkq3gM8vov6K8AHM3NbRLwdWBsR9wJLgeczcwQgIg7fd02VJEmzgXdgSJKk6RTA30bEd4EHgQX0Hit5Ejg7Iq6LiN/MzK2DbKQkSdr/GGBIkqSpeBo4aRf1DwNHAidl5gn0JvY8uEzseSK9IOPaiLhyn7VUkiTNCgYYkiRpKh4CDoqIS8YLEfFrwC8DL2Xm6xHxgbJORBwD7MjMfwH+nl6YIUmSNGm+RlWSJE1JCSWup3cnxitAF/gMcCPwNuAxYDFwLvAuesHFG8DrwJ9m5mP7vNGSJGm/ZYAhSZIkSZKq5yMkkiRJkiSpegYYkiRJkiSpegYYkiRJkiSpegYYkiRJkiSpegYYkiRJkiSpegYYkiRJkiSpegYYkiRJkiSpev8HFsBF/FmFFgIAAAAASUVORK5CYII=\n",
                "text/plain": "<Figure size 1080x720 with 2 Axes>"
              }
            ],
            "_view_module": "@jupyter-widgets/output",
            "_model_module_version": "1.0.0",
            "_view_count": null,
            "_view_module_version": "1.0.0",
            "layout": "IPY_MODEL_701e4f76084a46b183fd1138b58e7d57",
            "_model_module": "@jupyter-widgets/output"
          }
        },
        "0ecb6e9e024740d8a6b7e739854ae928": {
          "model_module": "@jupyter-widgets/controls",
          "model_name": "SliderStyleModel",
          "state": {
            "_view_name": "StyleView",
            "handle_color": null,
            "_model_name": "SliderStyleModel",
            "description_width": "",
            "_view_module": "@jupyter-widgets/base",
            "_model_module_version": "1.5.0",
            "_view_count": null,
            "_view_module_version": "1.2.0",
            "_model_module": "@jupyter-widgets/controls"
          }
        },
        "7713071950f34e559bc6310d7ccd7fc5": {
          "model_module": "@jupyter-widgets/base",
          "model_name": "LayoutModel",
          "state": {
            "_view_name": "LayoutView",
            "grid_template_rows": null,
            "right": null,
            "justify_content": null,
            "_view_module": "@jupyter-widgets/base",
            "overflow": null,
            "_model_module_version": "1.2.0",
            "_view_count": null,
            "flex_flow": null,
            "width": null,
            "min_width": null,
            "border": null,
            "align_items": null,
            "bottom": null,
            "_model_module": "@jupyter-widgets/base",
            "top": null,
            "grid_column": null,
            "overflow_y": null,
            "overflow_x": null,
            "grid_auto_flow": null,
            "grid_area": null,
            "grid_template_columns": null,
            "flex": null,
            "_model_name": "LayoutModel",
            "justify_items": null,
            "grid_row": null,
            "max_height": null,
            "align_content": null,
            "visibility": null,
            "align_self": null,
            "height": null,
            "min_height": null,
            "padding": null,
            "grid_auto_rows": null,
            "grid_gap": null,
            "max_width": null,
            "order": null,
            "_view_module_version": "1.2.0",
            "grid_template_areas": null,
            "object_position": null,
            "object_fit": null,
            "grid_auto_columns": null,
            "margin": null,
            "display": null,
            "left": null
          }
        },
        "230fb77bf00a48088af2204b08ceccd0": {
          "model_module": "@jupyter-widgets/controls",
          "model_name": "SliderStyleModel",
          "state": {
            "_view_name": "StyleView",
            "handle_color": null,
            "_model_name": "SliderStyleModel",
            "description_width": "",
            "_view_module": "@jupyter-widgets/base",
            "_model_module_version": "1.5.0",
            "_view_count": null,
            "_view_module_version": "1.2.0",
            "_model_module": "@jupyter-widgets/controls"
          }
        },
        "3ca964c550714d84a5776697630ddf7e": {
          "model_module": "@jupyter-widgets/base",
          "model_name": "LayoutModel",
          "state": {
            "_view_name": "LayoutView",
            "grid_template_rows": null,
            "right": null,
            "justify_content": null,
            "_view_module": "@jupyter-widgets/base",
            "overflow": null,
            "_model_module_version": "1.2.0",
            "_view_count": null,
            "flex_flow": null,
            "width": null,
            "min_width": null,
            "border": null,
            "align_items": null,
            "bottom": null,
            "_model_module": "@jupyter-widgets/base",
            "top": null,
            "grid_column": null,
            "overflow_y": null,
            "overflow_x": null,
            "grid_auto_flow": null,
            "grid_area": null,
            "grid_template_columns": null,
            "flex": null,
            "_model_name": "LayoutModel",
            "justify_items": null,
            "grid_row": null,
            "max_height": null,
            "align_content": null,
            "visibility": null,
            "align_self": null,
            "height": null,
            "min_height": null,
            "padding": null,
            "grid_auto_rows": null,
            "grid_gap": null,
            "max_width": null,
            "order": null,
            "_view_module_version": "1.2.0",
            "grid_template_areas": null,
            "object_position": null,
            "object_fit": null,
            "grid_auto_columns": null,
            "margin": null,
            "display": null,
            "left": null
          }
        },
        "701e4f76084a46b183fd1138b58e7d57": {
          "model_module": "@jupyter-widgets/base",
          "model_name": "LayoutModel",
          "state": {
            "_view_name": "LayoutView",
            "grid_template_rows": null,
            "right": null,
            "justify_content": null,
            "_view_module": "@jupyter-widgets/base",
            "overflow": null,
            "_model_module_version": "1.2.0",
            "_view_count": null,
            "flex_flow": null,
            "width": null,
            "min_width": null,
            "border": null,
            "align_items": null,
            "bottom": null,
            "_model_module": "@jupyter-widgets/base",
            "top": null,
            "grid_column": null,
            "overflow_y": null,
            "overflow_x": null,
            "grid_auto_flow": null,
            "grid_area": null,
            "grid_template_columns": null,
            "flex": null,
            "_model_name": "LayoutModel",
            "justify_items": null,
            "grid_row": null,
            "max_height": null,
            "align_content": null,
            "visibility": null,
            "align_self": null,
            "height": null,
            "min_height": null,
            "padding": null,
            "grid_auto_rows": null,
            "grid_gap": null,
            "max_width": null,
            "order": null,
            "_view_module_version": "1.2.0",
            "grid_template_areas": null,
            "object_position": null,
            "object_fit": null,
            "grid_auto_columns": null,
            "margin": null,
            "display": null,
            "left": null
          }
        }
      }
    }
  },
  "cells": [
    {
      "cell_type": "markdown",
      "metadata": {
        "id": "view-in-github",
        "colab_type": "text"
      },
      "source": [
        "<a href=\"https://colab.research.google.com/github/hrbolek/learning/blob/master/operanalyst/shosim.ipynb\" target=\"_parent\"><img src=\"https://colab.research.google.com/assets/colab-badge.svg\" alt=\"Open In Colab\"/></a>"
      ]
    },
    {
      "cell_type": "markdown",
      "metadata": {
        "id": "s1ri0sOJPP1M"
      },
      "source": [
        "# Teorie hromadné obsluhy\n",
        "\n",
        "odkaz [Wiki](https://en.wikipedia.org/wiki/Queueing_theory)\n",
        "\n",
        "příbuzný problém [Markovovské procesy](https://cs.wikipedia.org/wiki/Markov%C5%AFv_%C5%99et%C4%9Bzec)\n",
        "\n",
        "Miroslav Horký, [Modely hromadné obsluhy](https://core.ac.uk/download/pdf/30309597.pdf), Diplomová práce, VUT Brno, 2015,  \n"
      ]
    },
    {
      "cell_type": "markdown",
      "metadata": {
        "id": "Xwvnm5uC2f5R"
      },
      "source": [
        "## Teorie"
      ]
    },
    {
      "cell_type": "markdown",
      "metadata": {
        "id": "_8XOIHPS3M8W"
      },
      "source": [
        "### Otázky k vyřešení"
      ]
    },
    {
      "cell_type": "markdown",
      "metadata": {
        "id": "bgDf3eSO3Sqi"
      },
      "source": [
        "- Jak dlouhá bude fronta?\n",
        "- Jak dlouho se ve frontě čeká?\n",
        "- Jaká je pravděpodobnost, že obsluha je volná / nepracuje?"
      ]
    },
    {
      "cell_type": "markdown",
      "metadata": {
        "id": "iS3Uqj4dHA4J"
      },
      "source": [
        "### Základní pojmy"
      ]
    },
    {
      "cell_type": "markdown",
      "metadata": {
        "id": "V3hAlsJPHDdm"
      },
      "source": [
        "- Požadavek, někdy také zákazník, je subjekt, který vyžaduje vyřízení \n",
        "- Obslužná linka je zařízení, případně osoba, či jejich množina, které zabezpečuje uspokojení požadavku.\n",
        "- Obsluha je činnost, která vede k uspokojení požadavku.\n",
        "- Vstupní proud je posloupnost přícházejících požadavků\n",
        "- Výstupní proud je posloupnost odccházejících požadavků\n",
        "- Neuspokojené požadavky jsou řazeny do fronty podle typu systému hromadné obsluhy\n",
        "  - FIFO - first in first out, \"klasická\" fronta, první přišel, první půjde\n",
        "  - LIFO - last in first out, \"zásobník\", poslední přišel, první půjde\n",
        "  - SIRO - service in random order, obsluha v náhodném pořadí\n",
        "  - PRI - priority, obsluha podle priorit"
      ]
    },
    {
      "cell_type": "markdown",
      "metadata": {
        "id": "n4pqlvA32h3E"
      },
      "source": [
        "### Rozdělení"
      ]
    },
    {
      "cell_type": "markdown",
      "metadata": {
        "id": "B5yaQW0b2kMd"
      },
      "source": [
        "Podle typu modelu\n",
        "- Markovovské modely, časové intervaly mají exponenciální rozdělení\n",
        "- Semimarkovovské modely, časové intervaly mají Erlangovo rozdělení\n",
        "- Ostatní, časové intervaly mají jiná rozdělení\n",
        "\n",
        "Podle počtu požadavků\n",
        "- systémy s omezeným množstvím požadavků\n",
        "- systémy s neomezeným množstvím požadavků\n",
        "\n",
        "Podle čekání na obsluhu\n",
        "- Systémy s čekáním. Požadavek, zákazník, letoun, apod. se zařadí do fronty a čeká na obsluhu.\n",
        "- Systémy s odmítnutím. Požadavek otestuje dostupnost obsluhy a jestliže není obsloužen, systém opouští (letoun).\n",
        "\n",
        "- Systémy s odchodem. Po určité době požadavek systém opouští, aniž by byl obsloužen."
      ]
    },
    {
      "cell_type": "markdown",
      "metadata": {
        "id": "GWFs2L7IPQQI"
      },
      "source": [
        "## Kendalova notace"
      ]
    },
    {
      "cell_type": "markdown",
      "metadata": {
        "id": "-kFQlrdzMSEj"
      },
      "source": [
        "Systém je popsán symboly $A/B/c$ nebo $A/B/c/d/e$"
      ]
    },
    {
      "cell_type": "markdown",
      "metadata": {
        "id": "xIZZ8NE1JkuR"
      },
      "source": [
        "### $A/B/c$"
      ]
    },
    {
      "cell_type": "markdown",
      "metadata": {
        "id": "ZkLu-J0IJ2Ub"
      },
      "source": [
        "$A$, $B$ představují hodnoty\n",
        "- $M$, pokud se jedná o exponenciální rozdělení dob\n",
        "- $E_k$, pokud se jedná o Erlangovo rozdělení dob, přičemž $k$ je parametrem\n",
        "- $D$, pokud doby jsou deterministické\n",
        "- $G$, pro ostatní rozdělení\n",
        "\n",
        "$c$ je počet linek obsluhy"
      ]
    },
    {
      "cell_type": "markdown",
      "metadata": {
        "id": "gLLnxjSCKbcF"
      },
      "source": [
        "### $A/B/c/d/e$\n",
        "\n",
        "$d$ je kapacita systému\n",
        "$e$ určuje frontový režim (FIFO, LIFO, ...)"
      ]
    },
    {
      "cell_type": "markdown",
      "metadata": {
        "id": "B9aW7cIEKuUf"
      },
      "source": [
        "### $M/M/1$"
      ]
    },
    {
      "cell_type": "markdown",
      "metadata": {
        "id": "zne3vCbpK-DK"
      },
      "source": [
        "Systémy M/M/1, M/M/n\n",
        "\n",
        "Pro systém M/M/1 platí rovnice o průměrné délce fronty\n",
        "\n",
        "$$L = \\frac{\\lambda}{n \\cdot \\mu}$$\n",
        "\n",
        "kde L je  průměrná délka fronty\n",
        "\n",
        "$\\lambda$ je intenzita toku požadavků\n",
        "\n",
        "$\\mu$ je intenzita obsluhy\n",
        "\n",
        "$\\sigma=\\frac{\\lambda}{\\mu}$ je intenzita provozu\n",
        "\n",
        "Pro stabilní systém je nutné, aby $\\sigma \\le 1$."
      ]
    },
    {
      "cell_type": "markdown",
      "metadata": {
        "id": "jKgaFMd2PdhU"
      },
      "source": [
        "## Simulace toku požadavků"
      ]
    },
    {
      "cell_type": "markdown",
      "metadata": {
        "id": "cT8rQFS6PiC-"
      },
      "source": [
        "### Poisonův tok"
      ]
    },
    {
      "cell_type": "markdown",
      "metadata": {
        "id": "c60mgWOsPokb"
      },
      "source": [
        "Poisonův tok je model např. příchodu zákazníků k přepážce, kde jsou obsluhováni. Pro modelování potřebujeme generovat posloupnost příchodů. Interval mezi jednotlivými příchody lze generovat podle následujícího vztahu\n",
        "\n",
        "$$r'=-\\frac{1}{\\lambda}ln(r)$$\n",
        "\n",
        "kde $r$ je náhodné číslo s rovnoměrným rozložením a $r'$ je náhodný interval mezi dvěma příchody.\n",
        "\n",
        "Stejným vztahem lze vypočítat náhodnou délku obsluhy (pro systémy M/M/1 nebo M/M/n)\n",
        "\n",
        "https://preshing.com/20111007/how-to-generate-random-timings-for-a-poisson-process/"
      ]
    },
    {
      "cell_type": "code",
      "metadata": {
        "id": "fSNsN8NVcx3I"
      },
      "source": [
        "import numpy as np\n",
        "from numpy.random import Generator, exponential\n",
        "\n",
        "import ipywidgets as widgets\n",
        "\n",
        "import matplotlib.pyplot as plt\n",
        "from pylab import rcParams\n",
        "rcParams['figure.figsize'] = 15, 10"
      ],
      "execution_count": 14,
      "outputs": []
    },
    {
      "cell_type": "code",
      "metadata": {
        "id": "yr5btoT4Pyni"
      },
      "source": [
        "from random import random\n",
        "from math import log as ln\n",
        "\n",
        "def rndEx(rnd, lam):\n",
        "  x = rnd()\n",
        "  result = (-1 / lam) * ln(x) #https://preshing.com/20111007/how-to-generate-random-timings-for-a-poisson-process/\n",
        "  return result"
      ],
      "execution_count": 15,
      "outputs": []
    },
    {
      "cell_type": "markdown",
      "metadata": {
        "id": "1e5k7NzNeMbW"
      },
      "source": [
        "### Graf četností"
      ]
    },
    {
      "cell_type": "markdown",
      "metadata": {
        "id": "bWb44NRfdwEu"
      },
      "source": [
        "Graf četností ukazuje rozložení generovaných náhodných veličin."
      ]
    },
    {
      "cell_type": "code",
      "metadata": {
        "id": "jk7yHHuCceEs",
        "outputId": "0297dcb7-3642-44fd-abad-9f82bc8101a5",
        "colab": {
          "base_uri": "https://localhost:8080/",
          "height": 656,
          "referenced_widgets": [
            "8387f4ff1a9045e89ab190cc3390919c",
            "2f7ccf1eaca049b9a603dc7c4a39c399",
            "f538ac3d54f14ae1bf377759bba38393",
            "4ee2b2f4faf84414b91fc808db1a2f46",
            "66833d3b4fb84300861d857e783956c1",
            "d603494d5e004a1d9bf881b97118789e",
            "9416d11b94ed430bb84303c1a3961581"
          ]
        }
      },
      "source": [
        "def plotIt(lam = 0.5):\n",
        "  data = exponential(1 / lam, 1000)\n",
        "  plt.hist(data)\n",
        "  plt.grid('both')\n",
        "  plt.xlabel('Hodnota')\n",
        "  plt.ylabel('Četnost');\n",
        "  plt.xlim(0, 10)\n",
        "  plt.ylim(0, 550)\n",
        "\n",
        "widgets.interact(plotIt, lam=widgets.FloatSlider(1, min=0.01, max=2))"
      ],
      "execution_count": 16,
      "outputs": [
        {
          "output_type": "display_data",
          "data": {
            "application/vnd.jupyter.widget-view+json": {
              "model_id": "8387f4ff1a9045e89ab190cc3390919c",
              "version_minor": 0,
              "version_major": 2
            },
            "text/plain": [
              "interactive(children=(FloatSlider(value=1.0, description='lam', max=2.0, min=0.01), Output()), _dom_classes=('…"
            ]
          },
          "metadata": {
            "tags": []
          }
        },
        {
          "output_type": "execute_result",
          "data": {
            "text/plain": [
              "<function __main__.plotIt>"
            ]
          },
          "metadata": {
            "tags": []
          },
          "execution_count": 16
        }
      ]
    },
    {
      "cell_type": "markdown",
      "metadata": {
        "id": "5vCoNH48buFI"
      },
      "source": [
        "### Časová posloupnost / vznik požadavků"
      ]
    },
    {
      "cell_type": "markdown",
      "metadata": {
        "id": "m0ogmlfhd62N"
      },
      "source": [
        "Pokud kumulativně sčítáme generované hodnoty, dostáváme okamžiky příchodů. Níže je zobrazena časová synchronizace dvou různých zdrojů."
      ]
    },
    {
      "cell_type": "code",
      "metadata": {
        "id": "D_eG7uL0P5f4",
        "outputId": "a35cbba5-e1e1-482c-8d56-31f69ceeba71",
        "colab": {
          "base_uri": "https://localhost:8080/",
          "height": 622
        }
      },
      "source": [
        "def plotFlow(maxTime, lam, color):\n",
        "  currentTime = 0\n",
        "  while currentTime < maxTime:\n",
        "    currentTime = currentTime + rndEx(random, lam)\n",
        "    plt.axvline(x = currentTime, color =color)\n",
        "\n",
        "plotFlow(30, 0.5, color='red')    \n",
        "plotFlow(30, 1, color='green')    \n",
        "plt.title('Dva toky s různou intenzitou')\n",
        "plt.xlabel('Čas');"
      ],
      "execution_count": 17,
      "outputs": [
        {
          "output_type": "display_data",
          "data": {
            "image/png": "[encoded data removed]",
            "text/plain": [
              "<Figure size 1080x720 with 1 Axes>"
            ]
          },
          "metadata": {
            "tags": [],
            "needs_background": "light"
          }
        }
      ]
    },
    {
      "cell_type": "code",
      "metadata": {
        "id": "GBB1n3xTSLYu",
        "outputId": "9d7d838a-81b6-4de8-8ebb-a89f9f9f8ebc",
        "colab": {
          "base_uri": "https://localhost:8080/",
          "height": 704,
          "referenced_widgets": [
            "682d87ddf7454b79a900ad48cfd86d75",
            "6e26ea0ad4f1475a89b942e3e6c204c4",
            "ab80775a07934961bad183d8478bf456",
            "4f6399d123824492b7a067c3f8bdc9c5",
            "a7d05409c06e4f378fb9e92640f22e4a",
            "07b0025ffcbf45e99db810876f4a37a4",
            "769bb8ad19c34706a66d85b1f274a731",
            "665468ccb0ed4b289c3afa3908bf2bb8",
            "484b392f06d144d1a535ec4d632fde25",
            "38cea72065e04e3aa561d21c22b5f3f5"
          ]
        }
      },
      "source": [
        "def twoSequences(intervalA, intervalB):\n",
        "  plotFlow(30, intervalA, color='red')    \n",
        "  plotFlow(30, intervalB, color='green')    \n",
        "  plt.title('Dva toky s různou intenzitou')\n",
        "  plt.xlabel('Čas');\n",
        "\n",
        "widgets.interact(twoSequences, intervalA=widgets.FloatSlider(1, min=0.01, max=2), intervalB=widgets.FloatSlider(1, min=0.01, max=2))"
      ],
      "execution_count": 18,
      "outputs": [
        {
          "output_type": "display_data",
          "data": {
            "application/vnd.jupyter.widget-view+json": {
              "model_id": "682d87ddf7454b79a900ad48cfd86d75",
              "version_minor": 0,
              "version_major": 2
            },
            "text/plain": [
              "interactive(children=(FloatSlider(value=1.0, description='intervalA', max=2.0, min=0.01), FloatSlider(value=1.…"
            ]
          },
          "metadata": {
            "tags": []
          }
        },
        {
          "output_type": "execute_result",
          "data": {
            "text/plain": [
              "<function __main__.twoSequences>"
            ]
          },
          "metadata": {
            "tags": []
          },
          "execution_count": 18
        }
      ]
    },
    {
      "cell_type": "markdown",
      "metadata": {
        "id": "Vn4bBljWb_3I"
      },
      "source": [
        ""
      ]
    },
    {
      "cell_type": "code",
      "metadata": {
        "id": "NhyiZqoDcB79"
      },
      "source": [
        "def generateSequenceX(maxTime, lam):\n",
        "  result = []\n",
        "  currentTime = 0\n",
        "  while currentTime < maxTime:\n",
        "    currentTime = currentTime + rndEx(random, lam)\n",
        "    result.append(currentTime)\n",
        "  return result"
      ],
      "execution_count": 19,
      "outputs": []
    },
    {
      "cell_type": "markdown",
      "metadata": {
        "id": "TwSsPJ6y0Nb3"
      },
      "source": [
        "## Událostní kalendář pro událostní simulaci"
      ]
    },
    {
      "cell_type": "markdown",
      "metadata": {
        "id": "qnYy24QHesJM"
      },
      "source": [
        "Třída pro událostní simulaci. Událostní simulace umožňuje spouštění událostí - akcí v časové souslednosti bez ohledu na souslednost plánování. \n",
        "\n",
        "Akce jsou v tomto případě popsány funkcemi, které jsou v simulaci volány s předpřipravenými parametry. "
      ]
    },
    {
      "cell_type": "code",
      "metadata": {
        "id": "kNdFHrQuYr9P"
      },
      "source": [
        "class EventCalendar:\n",
        "  def __init__(self):\n",
        "    self._queue = []\n",
        "    pass\n",
        "\n",
        "  #Metoda pro vykonání jednoho kroku simulace\n",
        "  def Step(self):\n",
        "    #z fronty odstraň nejstarší událost\n",
        "    currentEvent = self._queue.pop(0)\n",
        "\n",
        "    #vyvolej funkci, která je spojena s danou událostí\n",
        "    func = currentEvent['executor']\n",
        "    time = currentEvent['time']\n",
        "    result = func(time, **currentEvent['kwargs'])\n",
        "    \n",
        "    currentEvent['result'] = result\n",
        "    #vrať událost, která byla zpracována\n",
        "    return currentEvent\n",
        "\n",
        "  #Metoda pro získání informace o času nejstarší události, \n",
        "  #tj. události, která bude zpracována jako první\n",
        "  def PrepareNext(self):\n",
        "    #vrať čas nejstarší události\n",
        "    return self._queue[0]['time']\n",
        "\n",
        "  #Vložení události do fronty událostí, \n",
        "  #futureTime - čas, kdy bude událost vyvolána\n",
        "  #f - funkce, která bude v čase události vykonána / volána\n",
        "  def AddEvent(self, futureTime, f, **kwargs):\n",
        "    self._queue.append({'time': futureTime, 'executor': f, 'kwargs': kwargs})\n",
        "    #setřídit frontu / list událostí podle položky time / čas\n",
        "    self._queue.sort(key = lambda item: item['time'])\n",
        "    return self\n",
        "\n",
        "  def __iter__(self):  # we can return self here, because __next__ is implemented\n",
        "      return self\n",
        "\n",
        "  def __next__(self):\n",
        "    return self.Step()\n"
      ],
      "execution_count": 20,
      "outputs": []
    },
    {
      "cell_type": "markdown",
      "metadata": {
        "id": "zoX54i_Bf3aX"
      },
      "source": [
        "### Použití událostní simulace"
      ]
    },
    {
      "cell_type": "markdown",
      "metadata": {
        "id": "A97_tVaFeupj"
      },
      "source": [
        "Níže je definována funkce ```eventPrinter```, která vytiskne informaci o stavu simulace a naplánuje další událost."
      ]
    },
    {
      "cell_type": "code",
      "metadata": {
        "id": "2adGO-SSf6hm"
      },
      "source": [
        "def eventPrinter(time, calendar, value):\n",
        "  print(f'At time\\t{time}\\tvalue is\\t{value}')\n",
        "  calendar.AddEvent(time + random(), eventPrinter, calendar = calendar, value = value + 1)"
      ],
      "execution_count": 21,
      "outputs": []
    },
    {
      "cell_type": "markdown",
      "metadata": {
        "id": "LtXk_CSlfRYx"
      },
      "source": [
        "Na základě třídy ```EventCalendar``` je v náhodných čase volána funkce ```eventPrinter```. Tato funkce vytiskne informaci o stavu simulace a naplánuje další událost."
      ]
    },
    {
      "cell_type": "code",
      "metadata": {
        "id": "_hHuJJqHfHOT",
        "outputId": "73ddf838-7135-4d98-acfd-0e10ddadde21",
        "colab": {
          "base_uri": "https://localhost:8080/"
        }
      },
      "source": [
        "calendar = EventCalendar()\n",
        "calendar.AddEvent(0, eventPrinter, calendar = calendar, value = 0)\n",
        "\n",
        "for event in calendar:\n",
        "  print(f\"> At {event['time']} I have served an event\")\n",
        "  if event['time'] > 3:\n",
        "    break"
      ],
      "execution_count": 22,
      "outputs": [
        {
          "output_type": "stream",
          "text": [
            "At time\t0\tvalue is\t0\n",
            "> At 0 I have served an event\n",
            "At time\t0.598571536601212\tvalue is\t1\n",
            "> At 0.598571536601212 I have served an event\n",
            "At time\t1.573352833239995\tvalue is\t2\n",
            "> At 1.573352833239995 I have served an event\n",
            "At time\t1.6881900266439398\tvalue is\t3\n",
            "> At 1.6881900266439398 I have served an event\n",
            "At time\t2.2198101081818953\tvalue is\t4\n",
            "> At 2.2198101081818953 I have served an event\n",
            "At time\t3.1235996875211454\tvalue is\t5\n",
            "> At 3.1235996875211454 I have served an event\n"
          ],
          "name": "stdout"
        }
      ]
    },
    {
      "cell_type": "markdown",
      "metadata": {
        "id": "SB-03vFkg_GY"
      },
      "source": [
        "## Simulace SHO M/M/1"
      ]
    },
    {
      "cell_type": "code",
      "metadata": {
        "id": "d91IS5KQha8m"
      },
      "source": [
        "λ = 1\n",
        "µ = 2"
      ],
      "execution_count": 23,
      "outputs": []
    },
    {
      "cell_type": "markdown",
      "metadata": {
        "id": "RTirtXE1hIcI"
      },
      "source": [
        "### Příchod požadavku"
      ]
    },
    {
      "cell_type": "markdown",
      "metadata": {
        "id": "F6ADNRCjgGPP"
      },
      "source": [
        "Ve chvíli, kdy požadavek vstupuje do systému, je tento zařazen do fronty, je naplánován příchod dalšího požadavku a je realizován pokus o zahájení obsluhy požadavku."
      ]
    },
    {
      "cell_type": "code",
      "metadata": {
        "id": "To6tYAD1hF9s"
      },
      "source": [
        "queue = []\n",
        "def customerArrived(time, calendar):\n",
        "\n",
        "  # zařazení požadavku do fronty\n",
        "  newCustomer = {'enterTime': time}\n",
        "  queue.append(newCustomer)\n",
        "\n",
        "  # naplánování dalšího příchodu\n",
        "  deltaTime = exponential(1 / λ, 1)[0] # čas \n",
        "  calendar.AddEvent(time + deltaTime, customerArrived, calendar=calendar)\n",
        "\n",
        "  # pokus o zahájení obsluhy\n",
        "  calendar.AddEvent(time, tryBeginService, calendar=calendar)"
      ],
      "execution_count": 24,
      "outputs": []
    },
    {
      "cell_type": "markdown",
      "metadata": {
        "id": "Khe5ZQvOh9ML"
      },
      "source": [
        "### Obsluha požadavku"
      ]
    },
    {
      "cell_type": "markdown",
      "metadata": {
        "id": "iufaxlJWg5UH"
      },
      "source": [
        "Pokus o zahájení obsluhy znamená, že pokud je systém obsluhy volný a fronta není prázdná, je zahájena obsluha. Součástí je také naplánování konce obsluhy."
      ]
    },
    {
      "cell_type": "code",
      "metadata": {
        "id": "NDHW9Zagh9Wc"
      },
      "source": [
        "servicePlace = {'inService': None}\n",
        "\n",
        "def tryBeginService(time, calendar):\n",
        "  if servicePlace['inService'] is None:\n",
        "    if len(queue) > 0:\n",
        "      customer = queue.pop()\n",
        "      timeOfEnd = exponential(1 / µ, 1)[0] #jeden čas\n",
        "      customer['beginService'] = time\n",
        "      customer['endService'] = time + timeOfEnd\n",
        "      servicePlace['inService'] = customer\n",
        "\n",
        "      # Naplánování konce obsluhy\n",
        "      calendar.AddEvent(time + timeOfEnd, endService, calendar=calendar)"
      ],
      "execution_count": 25,
      "outputs": []
    },
    {
      "cell_type": "markdown",
      "metadata": {
        "id": "FCD4f8XWhIZn"
      },
      "source": [
        "Konec obsluhy uvolní obsluhu a pokusí se o zahájení obsluhy."
      ]
    },
    {
      "cell_type": "code",
      "metadata": {
        "id": "RxGFHm8RhGLS"
      },
      "source": [
        "def endService(time, calendar):\n",
        "  finishedCustomer = servicePlace['inService']\n",
        "  servicePlace['inService'] = None\n",
        "  calendar.AddEvent(time, tryBeginService, calendar=calendar)\n",
        "  return finishedCustomer"
      ],
      "execution_count": 26,
      "outputs": []
    },
    {
      "cell_type": "markdown",
      "metadata": {
        "id": "wBUT5Edyk736"
      },
      "source": [
        "### Sběr statistických ukazatelů"
      ]
    },
    {
      "cell_type": "markdown",
      "metadata": {
        "id": "Vp-mHqUlhhfr"
      },
      "source": [
        "Nezbytnou součástí simulace je sběr statistických ukazatelů. Ty mohou být principiálně dvojího typu:\n",
        "- číslo (např. délka fronty)\n",
        "- logická hodnota (např. zda je obsluha volná)\n",
        "\n",
        "V případě logických hodnot se tyto převádí na hodnoty 0 a 1. Interpretace statistických ukazatelů je poté jako pravděpodobnost, že výrok spojený s logickou hodnotou je pravdivý. Např. pravděpodobnost, že obsluha je volná.\n",
        "\n",
        "Ke každému statistickému údaji potřebujeme dvě operace:\n",
        "- zápis (sběr ukazatele a kumulace hodnot)\n",
        "- čtení hodnoty ukazatele"
      ]
    },
    {
      "cell_type": "markdown",
      "metadata": {
        "id": "UUfbielxjugP"
      },
      "source": [
        "Pro výpočet hodnoty statistického ukazetele se využívá průměrné hodnoty funkce v daném časovém intervalu.\n",
        "\n",
        "$$\\overline f = \\frac{\\int_{t_a}^{t_b}f(t)dt}{t_b-t_a}$$\n",
        "\n",
        "diskrétní tvar této rovnice je\n",
        "\n",
        "$$\\overline f = \\frac{\\sum_{i=0}^n f(x) \\Delta t_i}{\\sum_{i=0}^n \\Delta t_i}$$\n",
        "\n",
        "dá se tedy tvrdit, že\n",
        "\n",
        "$$ f_i^* = f_{i-1}^* + f(t) \\Delta t_i$$\n",
        "\n",
        "spolu s \n",
        "\n",
        "$$t_i^* = t_{i-1}^* + \\Delta t_i$$\n",
        "\n",
        "umožňuje spočítat\n",
        "\n",
        "$$\\overline f = \\frac{f_i^*}{t_i^*}$$\n",
        "\n",
        "\n"
      ]
    },
    {
      "cell_type": "markdown",
      "metadata": {
        "id": "IMwIrnmOjvK8"
      },
      "source": [
        "Při simulaci je nezbytné si uvědomit:\n",
        "- libovolný ukazatel se může změnit v libovolném kroku simulace a tedy je nutné v každém kroku simulace sledovat všechny statistické ukazatele\n",
        "- je nutné si před následujícím krokem simulace (neboli na konci kroku simulace) uložit hodnotu parametru $f(t)$ a po realizaci kroku o délce $\\Delta t_i$ kumulovat součin do pomocné proměnné $f_i^* = f_{i-1}^* +f(t) \\Delta t_i$."
      ]
    },
    {
      "cell_type": "markdown",
      "metadata": {
        "id": "BTIsF2CklZaz"
      },
      "source": [
        "#### Délka fronty"
      ]
    },
    {
      "cell_type": "code",
      "metadata": {
        "id": "wvh4oHzSlh7M"
      },
      "source": [
        "queueStatistic = {'cumulativeValue': 0, 'value': 0, 'time': 0}\n",
        "def checkQueueLength(time):\n",
        "  deltaTime = time - queueStatistic['time']\n",
        "  queueStatistic['time'] = time\n",
        "  queueStatistic['cumulativeValue'] += deltaTime * queueStatistic['value']\n",
        "  queueStatistic['value'] = len(queue) \n",
        "\n",
        "def getAvgLength():\n",
        "  if queueStatistic['time'] > 0:\n",
        "    return queueStatistic['cumulativeValue'] / queueStatistic['time']\n",
        "  else:\n",
        "    return 0"
      ],
      "execution_count": 27,
      "outputs": []
    },
    {
      "cell_type": "markdown",
      "metadata": {
        "id": "phwmFfgKlbpf"
      },
      "source": [
        "#### Obsluha je volná"
      ]
    },
    {
      "cell_type": "code",
      "metadata": {
        "id": "_04n8kmGlJ4Z"
      },
      "source": [
        "serviceFull = {'cumulativeValue': 0, 'value': 0, 'time': 0}\n",
        "def checkServiceFull(time):\n",
        "  deltaTime = time - serviceFull['time']\n",
        "  serviceFull['time'] = time\n",
        "  serviceFull['cumulativeValue'] += deltaTime * serviceFull['value']\n",
        "  serviceFull['value'] = 0\n",
        "  if servicePlace['inService'] is None:\n",
        "    serviceFull['value'] = 1\n",
        "\n",
        "def getServiceAvailableProbability():\n",
        "  if serviceFull['time'] > 0:  \n",
        "    return serviceFull['cumulativeValue'] / serviceFull['time']    \n",
        "  else:\n",
        "    return 0"
      ],
      "execution_count": 28,
      "outputs": []
    },
    {
      "cell_type": "markdown",
      "metadata": {
        "id": "Ov8_4diQzptY"
      },
      "source": [
        "#### Obecný tvar pro libovolnou statistiku"
      ]
    },
    {
      "cell_type": "markdown",
      "metadata": {
        "id": "nYtFZmSyid8O"
      },
      "source": [
        "Jak bylo výše uvedeno, ke každému statistickému údaji potřebujeme dvě operace:\n",
        "- zápis (sběr ukazatele a kumulace hodnot)\n",
        "- čtení hodnoty ukazatele\n",
        "\n",
        "Níže je uvedena obecná implementace, která tuto potřebu uspokojí. Funkce ```createStatistic``` vrací dvě funkce, které slouží ke sběru údajů a k výpočtu průměrné hodnoty. Parametr ```valueGetter``` je funkce, která vrací aktuální hodnotu sledovaného ukazatele."
      ]
    },
    {
      "cell_type": "code",
      "metadata": {
        "id": "qKhTYDrwzp_Y"
      },
      "source": [
        "def createStatistic(valueGetter):\n",
        "  data = {'cumulativeValue': 0, 'value': 0, 'time': 0}\n",
        "  def collectData(time):\n",
        "    deltaTime = time - data['time']\n",
        "    data['time'] = time\n",
        "    data['cumulativeValue'] += deltaTime * data['value']\n",
        "    data['value'] = valueGetter()\n",
        "\n",
        "  def getValue():\n",
        "    if data['time'] > 0:  \n",
        "      return data['cumulativeValue'] / data['time']    \n",
        "    else:\n",
        "      return 0  \n",
        "  return collectData, getValue"
      ],
      "execution_count": 29,
      "outputs": []
    },
    {
      "cell_type": "markdown",
      "metadata": {
        "id": "oXDG8Z7XjldF"
      },
      "source": [
        "Jako příklad lze uvést statistiku, která sleduje, zda délka fronty je větší než 5."
      ]
    },
    {
      "cell_type": "code",
      "metadata": {
        "id": "2L79FRN11SSf"
      },
      "source": [
        "def decideIfLengthGT5():\n",
        "  if len(queue) > 5:\n",
        "    return 1\n",
        "  else:\n",
        "    return 0\n",
        "\n",
        "updateLengthGT5, getLengthGT5 = createStatistic(decideIfLengthGT5)"
      ],
      "execution_count": 30,
      "outputs": []
    },
    {
      "cell_type": "markdown",
      "metadata": {
        "id": "zYQH66G1kbjs"
      },
      "source": [
        "### Běh simulace"
      ]
    },
    {
      "cell_type": "code",
      "metadata": {
        "id": "EC88MN-4hqu3"
      },
      "source": [
        "calendar = EventCalendar()\n",
        "\n",
        "times = []\n",
        "lengths = []\n",
        "probability = []\n",
        "\n",
        "calendar.AddEvent(0, customerArrived, calendar=calendar)\n",
        "for event in calendar:\n",
        "  #print(event)\n",
        "  currentTime = event['time']\n",
        "  checkQueueLength(currentTime)\n",
        "  checkServiceFull(currentTime)\n",
        "\n",
        "  times.append(currentTime)\n",
        "  lengths.append(getAvgLength())\n",
        "  probability.append(getServiceAvailableProbability())\n",
        "\n",
        "  finishedCustomer = event['result']\n",
        "  if not finishedCustomer is None:\n",
        "    pass\n",
        "  if event['time'] > 10000:\n",
        "    break"
      ],
      "execution_count": 31,
      "outputs": []
    },
    {
      "cell_type": "markdown",
      "metadata": {
        "id": "Vm40leS6oVhC"
      },
      "source": [
        "### Výsledek simulace"
      ]
    },
    {
      "cell_type": "markdown",
      "metadata": {
        "id": "KkwfODg6y-Uo"
      },
      "source": [
        "#### Textový výstup"
      ]
    },
    {
      "cell_type": "code",
      "metadata": {
        "id": "vz8DMETFy-kN",
        "outputId": "a193353f-2704-4bbb-b540-77aa5f1bc749",
        "colab": {
          "base_uri": "https://localhost:8080/"
        }
      },
      "source": [
        "print(f'Průměrná délka fronty je {getAvgLength()}')\n",
        "print(f'Pravděpodobnost, že obsluha bude volná {getServiceAvailableProbability()}')"
      ],
      "execution_count": 32,
      "outputs": [
        {
          "output_type": "stream",
          "text": [
            "Průměrná délka fronty je 0.46531405844552587\n",
            "Pravděpodobnost, že obsluha bude volná 0.5039758601293561\n"
          ],
          "name": "stdout"
        }
      ]
    },
    {
      "cell_type": "markdown",
      "metadata": {
        "id": "zYlbDZisyeXc"
      },
      "source": [
        "#### Délka fronty"
      ]
    },
    {
      "cell_type": "code",
      "metadata": {
        "id": "6mRJpF60oZfR",
        "outputId": "e6f37151-51e4-470f-f8bf-ad35b2ffe292",
        "colab": {
          "base_uri": "https://localhost:8080/",
          "height": 592
        }
      },
      "source": [
        "plt.plot(times, lengths)\n",
        "plt.grid()"
      ],
      "execution_count": 33,
      "outputs": [
        {
          "output_type": "display_data",
          "data": {
            "image/png": "[encoded data removed]",
            "text/plain": [
              "<Figure size 1080x720 with 1 Axes>"
            ]
          },
          "metadata": {
            "tags": [],
            "needs_background": "light"
          }
        }
      ]
    },
    {
      "cell_type": "markdown",
      "metadata": {
        "id": "9xm_nEmkyfZw"
      },
      "source": [
        "#### Pravděpodobnost, že obsluha je volná"
      ]
    },
    {
      "cell_type": "code",
      "metadata": {
        "id": "949uS9j6yft9",
        "outputId": "23f5574d-89ea-4b29-a96b-287935c21522",
        "colab": {
          "base_uri": "https://localhost:8080/",
          "height": 592
        }
      },
      "source": [
        "plt.plot(times, probability)\n",
        "plt.grid()"
      ],
      "execution_count": 34,
      "outputs": [
        {
          "output_type": "display_data",
          "data": {
            "image/png": "[encoded data removed]",
            "text/plain": [
              "<Figure size 1080x720 with 1 Axes>"
            ]
          },
          "metadata": {
            "tags": [],
            "needs_background": "light"
          }
        }
      ]
    },
    {
      "cell_type": "markdown",
      "metadata": {
        "id": "HlM4zhqLVWsg"
      },
      "source": [
        "### Interaktivní simulace"
      ]
    },
    {
      "cell_type": "code",
      "metadata": {
        "id": "vsuCsNgsVbvP",
        "outputId": "eadd6131-5b94-468a-f4ae-a8be4fc1467a",
        "colab": {
          "base_uri": "https://localhost:8080/",
          "height": 811,
          "referenced_widgets": [
            "a8346bb692a84a76ace43d116bab5f13",
            "f61b6fafc8a94b7b99f8c71df023154b",
            "1ae443bad0eb44e093b44452b0228a66",
            "de50566ae8ac4edca8147a83d0466914",
            "722fbbf3c20a4c2b8b9094d2929e8a94",
            "0ecb6e9e024740d8a6b7e739854ae928",
            "7713071950f34e559bc6310d7ccd7fc5",
            "230fb77bf00a48088af2204b08ceccd0",
            "3ca964c550714d84a5776697630ddf7e",
            "701e4f76084a46b183fd1138b58e7d57"
          ]
        }
      },
      "source": [
        "def simIt(pλ = 1, pµ = 2):\n",
        "  global λ\n",
        "  global µ\n",
        "  λ = pλ\n",
        "  µ = pµ\n",
        "\n",
        "  calendar = EventCalendar()\n",
        "\n",
        "  times = []\n",
        "  lengths = []\n",
        "  probability = []\n",
        "\n",
        "  calendar.AddEvent(0, customerArrived, calendar=calendar)\n",
        "  for event in calendar:\n",
        "    #print(event)\n",
        "    currentTime = event['time']\n",
        "    checkQueueLength(currentTime)\n",
        "    checkServiceFull(currentTime)\n",
        "\n",
        "    times.append(currentTime)\n",
        "    lengths.append(getAvgLength())\n",
        "    probability.append(getServiceAvailableProbability())\n",
        "\n",
        "    finishedCustomer = event['result']\n",
        "    if not finishedCustomer is None:\n",
        "      pass\n",
        "    if event['time'] > 10000:\n",
        "      break\n",
        "\n",
        "  t = times\n",
        "  data1 = lengths\n",
        "  data2 = probability\n",
        "\n",
        "  fig, ax1 = plt.subplots()\n",
        "\n",
        "  color = 'tab:red'\n",
        "  ax1.set_xlabel('Čas')\n",
        "  ax1.set_ylabel('Délka', color=color)\n",
        "  ax1.plot(t, data1, color=color)\n",
        "  ax1.tick_params(axis='y', labelcolor=color)\n",
        "\n",
        "  ax2 = ax1.twinx()  # instantiate a second axes that shares the same x-axis\n",
        "\n",
        "  color = 'tab:blue'\n",
        "  ax2.set_ylabel('P', color=color)  # we already handled the x-label with ax1\n",
        "  ax2.plot(t, data2, color=color)\n",
        "  ax2.tick_params(axis='y', labelcolor=color)\n",
        "\n",
        "  fig.tight_layout()  # otherwise the right y-label is slightly clipped\n",
        "  plt.grid()\n",
        "  plt.show()\n",
        "\n",
        "widgets.interact(simIt, pλ=widgets.FloatSlider(1, min=0.1, max=5), pµ = widgets.FloatSlider(2, min=0.1, max=5))"
      ],
      "execution_count": 44,
      "outputs": [
        {
          "output_type": "display_data",
          "data": {
            "application/vnd.jupyter.widget-view+json": {
              "model_id": "a8346bb692a84a76ace43d116bab5f13",
              "version_minor": 0,
              "version_major": 2
            },
            "text/plain": [
              "interactive(children=(FloatSlider(value=1.0, description='pλ', max=5.0, min=0.1), FloatSlider(value=2.0, descr…"
            ]
          },
          "metadata": {
            "tags": []
          }
        },
        {
          "output_type": "execute_result",
          "data": {
            "text/plain": [
              "<function __main__.simIt>"
            ]
          },
          "metadata": {
            "tags": []
          },
          "execution_count": 44
        }
      ]
    },
    {
      "cell_type": "markdown",
      "metadata": {
        "id": "03JjdqhJ5PKH"
      },
      "source": [
        "## Simulace SHO M/M/n"
      ]
    },
    {
      "cell_type": "code",
      "metadata": {
        "id": "Rh9GvIge5R44"
      },
      "source": [
        "λ = 4\n",
        "µ = 2\n",
        "n = 3"
      ],
      "execution_count": 35,
      "outputs": []
    },
    {
      "cell_type": "markdown",
      "metadata": {
        "id": "yo7PuFNl5lxn"
      },
      "source": [
        "### Příchod požadavku"
      ]
    },
    {
      "cell_type": "code",
      "metadata": {
        "id": "AXwd8NoF5lxq"
      },
      "source": [
        "queue = []\n",
        "def customerArrived(time, calendar):\n",
        "  deltaTime = exponential(1 / λ, 1)[0] #jeden čas\n",
        "  calendar.AddEvent(time + deltaTime, customerArrived, calendar=calendar)\n",
        "  calendar.AddEvent(time, tryBeginService, calendar=calendar)\n",
        "  newCustomer = {'enterTime': time}\n",
        "  queue.append(newCustomer)"
      ],
      "execution_count": 36,
      "outputs": []
    },
    {
      "cell_type": "markdown",
      "metadata": {
        "id": "9Y99wKMP5lx9"
      },
      "source": [
        "### Obsluha požadavku"
      ]
    },
    {
      "cell_type": "code",
      "metadata": {
        "id": "iKF5DkY-5lx_"
      },
      "source": [
        "servedRequests = []\n",
        "\n",
        "def tryBeginService(time, calendar):\n",
        "  if len(servedRequests) < n:\n",
        "    if len(queue) > 0:\n",
        "      customer = queue.pop()\n",
        "      timeOfEnd = exponential(1 / µ, 1)[0] #jeden čas\n",
        "      calendar.AddEvent(time + timeOfEnd, endService, calendar=calendar, customer=customer)\n",
        "      customer['beginService'] = time\n",
        "      customer['endService'] = time + timeOfEnd\n",
        "      servedRequests.append(customer)\n",
        "\n",
        "def endService(time, calendar, customer):\n",
        "  servedRequests.remove(customer)\n",
        "  calendar.AddEvent(time, tryBeginService, calendar=calendar)\n",
        "  return customer"
      ],
      "execution_count": 37,
      "outputs": []
    },
    {
      "cell_type": "markdown",
      "metadata": {
        "id": "wrsLlvgR6wmF"
      },
      "source": [
        "### Sběr statistických ukazatelů"
      ]
    },
    {
      "cell_type": "markdown",
      "metadata": {
        "id": "54eo543h6wmT"
      },
      "source": [
        "#### Délka fronty"
      ]
    },
    {
      "cell_type": "code",
      "metadata": {
        "id": "KoQ8sEpo6wme"
      },
      "source": [
        "def statQueueLength():\n",
        "  return len(queue)\n",
        "\n",
        "updateStatQueueLength, getStatQueueLength = createStatistic(statQueueLength)"
      ],
      "execution_count": 38,
      "outputs": []
    },
    {
      "cell_type": "markdown",
      "metadata": {
        "id": "e7HdVOG86wnI"
      },
      "source": [
        "#### Obsluha volná"
      ]
    },
    {
      "cell_type": "code",
      "metadata": {
        "id": "ZsP23jaL6wnN"
      },
      "source": [
        "def statServiceFull():\n",
        "  if len(servedRequests) >= n:\n",
        "    return 1\n",
        "  else:\n",
        "    return 0\n",
        "\n",
        "updateStatServiceFull, getStatServiceFull = createStatistic(statServiceFull)"
      ],
      "execution_count": 39,
      "outputs": []
    },
    {
      "cell_type": "markdown",
      "metadata": {
        "id": "ACZ2XA_o6kzp"
      },
      "source": [
        "### Běh simulace"
      ]
    },
    {
      "cell_type": "code",
      "metadata": {
        "id": "zpXyEGxo6kz3"
      },
      "source": [
        "calendar = EventCalendar()\n",
        "\n",
        "times = []\n",
        "lengths = []\n",
        "probability = []\n",
        "\n",
        "calendar.AddEvent(0, customerArrived, calendar=calendar)\n",
        "for event in calendar:\n",
        "  currentTime = event['time']\n",
        "  updateStatQueueLength(currentTime)\n",
        "  updateStatServiceFull(currentTime)\n",
        "\n",
        "  times.append(currentTime)\n",
        "  lengths.append(getStatQueueLength())\n",
        "  probability.append(getStatServiceFull())\n",
        "\n",
        "  finishedCustomer = event['result']\n",
        "  if not finishedCustomer is None:\n",
        "    pass\n",
        "  if event['time'] > 10000:\n",
        "    break"
      ],
      "execution_count": 40,
      "outputs": []
    },
    {
      "cell_type": "markdown",
      "metadata": {
        "id": "JsZekoZg6k0Z"
      },
      "source": [
        "### Výsledek simulace"
      ]
    },
    {
      "cell_type": "markdown",
      "metadata": {
        "id": "386IzMJl6k0c"
      },
      "source": [
        "#### Textový výstup"
      ]
    },
    {
      "cell_type": "code",
      "metadata": {
        "id": "VrYSUYBK6k0g",
        "outputId": "7dff4931-7c18-47d2-e646-1b398134e4cd",
        "colab": {
          "base_uri": "https://localhost:8080/"
        }
      },
      "source": [
        "print(f'Průměrná délka fronty je {getStatQueueLength()}')\n",
        "print(f'Pravděpodobnost, že obsluha bude volná {getStatServiceFull()}')"
      ],
      "execution_count": 41,
      "outputs": [
        {
          "output_type": "stream",
          "text": [
            "Průměrná délka fronty je 0.917230184400547\n",
            "Pravděpodobnost, že obsluha bude volná 0.45072213032873154\n"
          ],
          "name": "stdout"
        }
      ]
    },
    {
      "cell_type": "markdown",
      "metadata": {
        "id": "ER4yMP1g6k0x"
      },
      "source": [
        "#### Délka fronty"
      ]
    },
    {
      "cell_type": "code",
      "metadata": {
        "id": "QgAlXh-46k0y",
        "outputId": "3b595da3-6ab4-4e63-e6e7-e81054b09d17",
        "colab": {
          "base_uri": "https://localhost:8080/",
          "height": 592
        }
      },
      "source": [
        "plt.plot(times, lengths)\n",
        "plt.grid()"
      ],
      "execution_count": 42,
      "outputs": [
        {
          "output_type": "display_data",
          "data": {
            "image/png": "[encoded data removed]",
            "text/plain": [
              "<Figure size 1080x720 with 1 Axes>"
            ]
          },
          "metadata": {
            "tags": [],
            "needs_background": "light"
          }
        }
      ]
    },
    {
      "cell_type": "markdown",
      "metadata": {
        "id": "7aFFNV7H6k0_"
      },
      "source": [
        "#### Pravděpodobnost obsluha je volná"
      ]
    },
    {
      "cell_type": "code",
      "metadata": {
        "id": "-OEjg9Bk6k1A",
        "outputId": "a9c96383-ed04-4cd0-fe96-e078710b084f",
        "colab": {
          "base_uri": "https://localhost:8080/",
          "height": 592
        }
      },
      "source": [
        "plt.plot(times, probability)\n",
        "plt.grid()"
      ],
      "execution_count": 43,
      "outputs": [
        {
          "output_type": "display_data",
          "data": {
            "image/png": "[encoded data removed]",
            "text/plain": [
              "<Figure size 1080x720 with 1 Axes>"
            ]
          },
          "metadata": {
            "tags": [],
            "needs_background": "light"
          }
        }
      ]
    }
  ]
}