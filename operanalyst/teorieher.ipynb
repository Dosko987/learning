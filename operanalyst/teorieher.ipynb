{
  "nbformat": 4,
  "nbformat_minor": 0,
  "metadata": {
    "colab": {
      "name": "TeorieHer.ipynb",
      "provenance": [],
      "authorship_tag": "ABX9TyOiYSEK6WhsI2fRt7QGsd8Y",
      "include_colab_link": true
    },
    "kernelspec": {
      "name": "python3",
      "display_name": "Python 3"
    }
  },
  "cells": [
    {
      "cell_type": "markdown",
      "metadata": {
        "id": "view-in-github",
        "colab_type": "text"
      },
      "source": [
        "<a href=\"https://colab.research.google.com/github/hrbolek/learning/blob/master/operanalyst/teorieher.ipynb\" target=\"_parent\"><img src=\"https://colab.research.google.com/assets/colab-badge.svg\" alt=\"Open In Colab\"/></a>"
      ]
    },
    {
      "cell_type": "markdown",
      "metadata": {
        "id": "8TNZCcYEGJnZ"
      },
      "source": [
        "# Teorie Her"
      ]
    },
    {
      "cell_type": "markdown",
      "metadata": {
        "id": "4AL8RghsGMej"
      },
      "source": [
        "## Rozdělení"
      ]
    },
    {
      "cell_type": "markdown",
      "metadata": {
        "id": "B5DEFjNLGWEP"
      },
      "source": [
        "Podle ceny\n",
        "- hry s nulovým součtem\n",
        "- hry s nenulovým součtem\n",
        "\n",
        "Podle vzahu hráčů\n",
        "- hry antagonistické\n",
        "- hry kooperativní\n",
        "- hry proti přírodě\n",
        "\n",
        "Podle počtu strategií\n",
        "- konečné hry\n",
        "- nekonečné hry"
      ]
    },
    {
      "cell_type": "markdown",
      "metadata": {
        "id": "6Qmk3tadGQOc"
      },
      "source": [
        "## Maticové hry"
      ]
    },
    {
      "cell_type": "markdown",
      "metadata": {
        "id": "4OykJaPwG9jg"
      },
      "source": [
        "Hra \"Kámen-nůžky-papír\"\n",
        "\n",
        "3 strategie obou hráčů \n",
        "- kámen\n",
        "- nůžky\n",
        "- papír\n",
        "\n",
        "Výsledek hry\n",
        "- kámen vs. kámen = 0\n",
        "- kámen vs. nůžky = 1\n",
        "- kámen vs. papír = -1\n",
        "- nůžky vs. kámen = -1\n",
        "- nůžky vs. nůžky = 0\n",
        "- nůžky vs. papír = 1\n",
        "- papír vs. kámen = 1\n",
        "- papír vs. nůžky = -1\n",
        "- papír vs. papír = 0\n",
        "\n",
        "Vyjádřeno v matici výher (odtud maticová hra)\n",
        "\n",
        "$$H=\\begin{pmatrix}\n",
        "0 & 1 & -1 \\\\\n",
        "-1 & 0 & 1 \\\\\n",
        "1 & -1 & 0 \n",
        "\\end{pmatrix}$$\n",
        "\n",
        "Strategie hráče A je představena řádky\n",
        "$$h_1=\\begin{pmatrix}\n",
        "0 & 1 & -1\n",
        "\\end{pmatrix}$$\n",
        "$$h_2=\\begin{pmatrix}\n",
        "-1 & 0 & 1\n",
        "\\end{pmatrix}$$\n",
        "$$h_3=\\begin{pmatrix}\n",
        "1 & -1 & 0\n",
        "\\end{pmatrix}$$\n",
        "\n",
        "Strategie hráče B je představena sloupci\n",
        "$$g_1=\\begin{pmatrix}\n",
        "0 \\\\\n",
        "-1 \\\\\n",
        "1\n",
        "\\end{pmatrix}$$\n",
        "$$g_2=\\begin{pmatrix}\n",
        "1 \\\\\n",
        "0 \\\\\n",
        "-1 \n",
        "\\end{pmatrix}$$\n",
        "$$g_3=\\begin{pmatrix}\n",
        "-1 \\\\\n",
        "1 \\\\\n",
        "0\n",
        "\\end{pmatrix}$$\n",
        "\n",
        "matice výher pro hráče B je transponovanou maticí matice výher pro hráče A\n",
        "$$G=H^T=\\begin{pmatrix}\n",
        "0 & -1 & 1 \\\\\n",
        "1 & 0 & -1 \\\\\n",
        "-1 & 1 & 0 \n",
        "\\end{pmatrix}$$\n",
        "\n",
        "Jestliže hráč A volí strategii $i$ a hráč B volí strategii $j$, potom výhra hráče A je dána prvkem $g_{ij}$ a výhra hráče B je dána prvkem $h_{ij}$. Protože $g_{ij} +h_{ij}=0$, klasifikujeme tuto hru jako hru s nulovým součtem.\n",
        "\n"
      ]
    },
    {
      "cell_type": "markdown",
      "metadata": {
        "id": "s8xx0IPnU9sV"
      },
      "source": [
        "## Čisté strategie"
      ]
    },
    {
      "cell_type": "markdown",
      "metadata": {
        "id": "Lu921qMCVA30"
      },
      "source": [
        "## Smíšené strategie"
      ]
    },
    {
      "cell_type": "markdown",
      "metadata": {
        "id": "zxx1Rmc4VDTB"
      },
      "source": [
        "### Optimální řešení ve smíšených strategiích"
      ]
    },
    {
      "cell_type": "markdown",
      "metadata": {
        "id": "0jDryUvVVILZ"
      },
      "source": [
        "Hráč A volí smíšenou strategii $s^A=(s_1^A, s_2^A, ..., s_n^A)$. Hráč B volí smíšenou strategii $s^B=(s_1^B, s_2^B, ..., s_n^B)$.\n",
        "\n",
        "\n",
        "$$max\\{v:A^Ts^A- \\begin{pmatrix}v \\\\\n",
        "v \\\\\n",
        "\\vdots \\\\\n",
        "v\n",
        "\\end{pmatrix} \\ge 0, \\sum_{i=1}^ns_i^A=1,s^A \\ge 0, v \\in R\\}$$\n",
        "\n",
        "$$min\\{w:As^B- \\begin{pmatrix}w \\\\\n",
        "w \\\\\n",
        "\\vdots \\\\\n",
        "w\n",
        "\\end{pmatrix} \\le 0, \\sum_{i=1}^ns_i^B=1,s^B \\ge 0, w \\in R\\}$$\n",
        "\n",
        "\n",
        "\n"
      ]
    },
    {
      "cell_type": "markdown",
      "metadata": {
        "id": "kZMHCPuX9BR7"
      },
      "source": [
        "### Příklad"
      ]
    },
    {
      "cell_type": "markdown",
      "metadata": {
        "id": "RIb2gsZ5lIz6"
      },
      "source": [
        "Vyřešte hru kámen-nůžky-papír\n",
        "\n",
        "$$H=\\begin{pmatrix}\n",
        "0 & 1 & -1 \\\\\n",
        "-1 & 0 & 1 \\\\\n",
        "1 & -1 & 0 \n",
        "\\end{pmatrix}$$\n",
        "\n",
        "$$f(s^A)=v \\to max$$\n",
        "\n",
        "$$\\begin{matrix}\n",
        " & -s_2^A & +s_3^A & -v & \\ge & 0 \\\\\n",
        " s_1^A & & -s_3^A & -v & \\ge & 0 \\\\\n",
        " -s_1^A & +s_2^A & & -v & \\ge & 0 \\\\\n",
        " s_1^A & +s_2^A & +s_3^A & &=& 1\n",
        "\\end{matrix}\n",
        "$$\n",
        "\n",
        "\n",
        "$$g(s^B)=w \\to min$$\n",
        "\n",
        "$$\\begin{matrix}\n",
        " & s_2^B & -s_3^B & -w & \\le & 0 \\\\\n",
        " -s_1^B & & +s_3^B & -w & \\le & 0 \\\\\n",
        " s_1^B & -s_2^B & & -w & \\le & 0 \\\\\n",
        " s_1^B & +s_2^B & +s_3^B & &=& 1\n",
        "\\end{matrix}\n",
        "$$\n"
      ]
    },
    {
      "cell_type": "markdown",
      "metadata": {
        "id": "xhAGkVQU_Qj-"
      },
      "source": [
        "### Řešení"
      ]
    },
    {
      "cell_type": "code",
      "metadata": {
        "id": "11jX_sSQ_StK",
        "outputId": "1f49408a-951a-4e52-af2b-5c4811f21a4e",
        "colab": {
          "base_uri": "https://localhost:8080/",
          "height": 90
        }
      },
      "source": [
        "!pip install pulp"
      ],
      "execution_count": 4,
      "outputs": [
        {
          "output_type": "stream",
          "text": [
            "Requirement already satisfied: pulp in /usr/local/lib/python3.6/dist-packages (2.3.1)\n",
            "Requirement already satisfied: amply>=0.1.2 in /usr/local/lib/python3.6/dist-packages (from pulp) (0.1.4)\n",
            "Requirement already satisfied: docutils>=0.3 in /usr/local/lib/python3.6/dist-packages (from amply>=0.1.2->pulp) (0.16)\n",
            "Requirement already satisfied: pyparsing in /usr/local/lib/python3.6/dist-packages (from amply>=0.1.2->pulp) (2.4.7)\n"
          ],
          "name": "stdout"
        }
      ]
    },
    {
      "cell_type": "code",
      "metadata": {
        "id": "F-8YL9M9Hii8",
        "outputId": "2aae637c-bce8-477a-eaf0-f3b27f930624",
        "colab": {
          "base_uri": "https://localhost:8080/",
          "height": 54
        }
      },
      "source": [
        "from pulp import *\n",
        "probA = LpProblem(\"Game\", LpMaximize)\n",
        "sA1 = LpVariable(\"sA1\", 0, 1000)\n",
        "sA2 = LpVariable(\"sA2\", 0, 1000)\n",
        "sA3 = LpVariable(\"sA3\", 0, 1000)\n",
        "v = LpVariable(\"v\", 0, 1000)\n",
        "probA += (-sA2+sA3-v >= 0)\n",
        "probA += (sA1-sA3-v >= 0)\n",
        "probA += (-sA1+sA2-v >= 0)\n",
        "probA += (sA1+sA2+sA3 == 1)\n",
        "probA += (v)\n",
        "status = probA.solve()\n",
        "\n",
        "print(f'sA1={value(sA1)}, sA2={value(sA2)}, sA3={value(sA3)}, v={value(v)}')\n",
        "print(LpStatus[status])"
      ],
      "execution_count": 21,
      "outputs": [
        {
          "output_type": "stream",
          "text": [
            "sA1=0.33333333, sA2=0.33333333, sA3=0.33333333, v=0.0\n",
            "Optimal\n"
          ],
          "name": "stdout"
        }
      ]
    },
    {
      "cell_type": "code",
      "metadata": {
        "id": "-QKVllVCG3kL",
        "outputId": "5baec7c6-7baa-47f8-afd4-71361b1e1989",
        "colab": {
          "base_uri": "https://localhost:8080/",
          "height": 54
        }
      },
      "source": [
        "from pulp import *\n",
        "prob = LpProblem(\"Game\", LpMaximize)\n",
        "x1 = LpVariable(\"x1\", 0, 1000)\n",
        "x2 = LpVariable(\"x2\", 0, 1000)\n",
        "x3 = LpVariable(\"x3\", 0, 1000)\n",
        "prob += (x2 -x3 <= 1)\n",
        "prob += (-x1+x3 <= 1)\n",
        "prob += (x1-x2 <= 1)\n",
        "prob += (x1 + x2 + x3)\n",
        "status = prob.solve()\n",
        "\n",
        "print(f'x1={value(x1)}, x2={value(x2)} , x3={value(x3)}')\n",
        "print(LpStatus[status])"
      ],
      "execution_count": 7,
      "outputs": [
        {
          "output_type": "stream",
          "text": [
            "x1=1000.0, x2=1000.0 , x3=1000.0\n",
            "Optimal\n"
          ],
          "name": "stdout"
        }
      ]
    },
    {
      "cell_type": "code",
      "metadata": {
        "id": "hX3StlqhCOPk",
        "outputId": "b8c970fd-c43f-4496-9162-95868aa92979",
        "colab": {
          "base_uri": "https://localhost:8080/",
          "height": 54
        }
      },
      "source": [
        "from pulp import *\n",
        "prob = LpProblem(\"Game\", LpMaximize)\n",
        "x1 = LpVariable(\"x1\", 0, 1000)\n",
        "x2 = LpVariable(\"x2\", 0, 1000)\n",
        "x3 = LpVariable(\"x3\", 0, 1000)\n",
        "prob += (3*x2 +x3 <= 1)\n",
        "prob += (x1+3*x3 <= 1)\n",
        "prob += (3*x1+x2 <= 1)\n",
        "prob += (x1 + x2 + x3)\n",
        "status = prob.solve()\n",
        "\n",
        "print(f'x1={value(x1)}, x2={value(x2)} , x3={value(x3)}')\n",
        "print(LpStatus[status])"
      ],
      "execution_count": 8,
      "outputs": [
        {
          "output_type": "stream",
          "text": [
            "x1=0.25, x2=0.25 , x3=0.25\n",
            "Optimal\n"
          ],
          "name": "stdout"
        }
      ]
    },
    {
      "cell_type": "code",
      "metadata": {
        "id": "ZERKtCN0FtAD",
        "outputId": "ec4ef455-2a75-4808-d596-bf4d569aef81",
        "colab": {
          "base_uri": "https://localhost:8080/",
          "height": 54
        }
      },
      "source": [
        "from pulp import *\n",
        "prob = LpProblem(\"Game\", LpMinimize)\n",
        "x1 = LpVariable(\"x1\", 0, 1000)\n",
        "x2 = LpVariable(\"x2\", 0, 1000)\n",
        "x3 = LpVariable(\"x3\", 0, 1000)\n",
        "prob += (x2 -x3 >= 1)\n",
        "prob += (-x1+x3 >= 1)\n",
        "prob += (x1-x2 >= 1)\n",
        "prob += (x1 + x2 + x3)\n",
        "status = prob.solve()\n",
        "\n",
        "print(f'x1={value(x1)}, x2={value(x2)} , x3={value(x3)}')\n",
        "print(LpStatus[status])"
      ],
      "execution_count": 11,
      "outputs": [
        {
          "output_type": "stream",
          "text": [
            "x1=1.0, x2=0.0 , x3=2.0\n",
            "Infeasible\n"
          ],
          "name": "stdout"
        }
      ]
    },
    {
      "cell_type": "code",
      "metadata": {
        "id": "xuZkAAuvGxVT",
        "outputId": "5133a962-85f4-42a7-bc05-4fe1105c9082",
        "colab": {
          "base_uri": "https://localhost:8080/",
          "height": 54
        }
      },
      "source": [
        "from pulp import *\n",
        "prob = LpProblem(\"Game\", LpMinimize)\n",
        "x1 = LpVariable(\"x1\", 0, 1000)\n",
        "x2 = LpVariable(\"x2\", 0, 1000)\n",
        "x3 = LpVariable(\"x3\", 0, 1000)\n",
        "v = LpVariable(\"v\", 0, 1000)\n",
        "prob += (x2 -x3-v <= 0)\n",
        "prob += (-x1+x3-v <= 0)\n",
        "prob += (x1-x2-v <= 0)\n",
        "prob += (x1+x2+x3 == 1)\n",
        "prob += (v)\n",
        "status = prob.solve()\n",
        "\n",
        "print(f'x1={value(x1)}, x2={value(x2)}, x3={value(x3)}, v={value(v)}')\n",
        "print(LpStatus[status])"
      ],
      "execution_count": 16,
      "outputs": [
        {
          "output_type": "stream",
          "text": [
            "x1=0.33333333, x2=0.33333333, x3=0.33333333, v=0.0\n",
            "Optimal\n"
          ],
          "name": "stdout"
        }
      ]
    },
    {
      "cell_type": "code",
      "metadata": {
        "id": "hoJo52WMFnNp"
      },
      "source": [
        ""
      ],
      "execution_count": null,
      "outputs": []
    }
  ]
}