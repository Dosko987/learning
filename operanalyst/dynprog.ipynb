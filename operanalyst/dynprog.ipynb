{
  "nbformat": 4,
  "nbformat_minor": 0,
  "metadata": {
    "colab": {
      "name": "dynprog.ipynb",
      "provenance": [],
      "toc_visible": true,
      "authorship_tag": "ABX9TyOSQRjTIrBTv5CjS7fmi3pq",
      "include_colab_link": true
    },
    "kernelspec": {
      "name": "python3",
      "display_name": "Python 3"
    }
  },
  "cells": [
    {
      "cell_type": "markdown",
      "metadata": {
        "id": "view-in-github",
        "colab_type": "text"
      },
      "source": [
        "<a href=\"https://colab.research.google.com/github/hrbolek/learning/blob/master/operanalyst/dynprog.ipynb\" target=\"_parent\"><img src=\"https://colab.research.google.com/assets/colab-badge.svg\" alt=\"Open In Colab\"/></a>"
      ]
    },
    {
      "cell_type": "code",
      "metadata": {
        "id": "t2IkBJMfjV2P"
      },
      "source": [
        ""
      ],
      "execution_count": null,
      "outputs": []
    },
    {
      "cell_type": "markdown",
      "metadata": {
        "id": "XM_-1LXXkcVW"
      },
      "source": [
        "# Dynamické programování"
      ]
    },
    {
      "cell_type": "markdown",
      "metadata": {
        "id": "i7UMJQJokf23"
      },
      "source": [
        "## Princip optimality"
      ]
    },
    {
      "cell_type": "markdown",
      "metadata": {
        "id": "0Hvx5HNykjnA"
      },
      "source": [
        "Dynamické programování je motoda operační analýzy, která je určena pro optimalizaci problému, který lze rozdělit do etap. Předpokládejme, že těchto etap je $n$. Potom při řízení můžeme v každé etapě použít řízení $u_i$, čímž ovlivňujeme vývoj stavu řízeného systému. Tento systém nabývá postupně stavů $x_i$. Z matematického hlediska jak řízení $u_i$, tak stavy $x_i$ mohou být vektory.\n",
        "\n",
        "Cílem je optimalizovat účelovou funkci \n",
        "\n",
        "$$J=\\sum_{i=0}^{n-1}I_i$$\n",
        "\n",
        "kde $J$ a $I_i$ jsou např. spotřeba, náklady, apod.\n",
        "\n",
        "Optimálním řešením je posloupnost vektorů $u=(u_0^*, u_1^*, \\dots, u_n^*)$."
      ]
    },
    {
      "cell_type": "markdown",
      "metadata": {
        "id": "uo-t9RSrone3"
      },
      "source": [
        "R. Bellman formuloval princip optimality: \n",
        "> \"Optimální strategie hledá optimální pokračování operace vzhledem ke stavu, který nastal v důsledku přijetí předchozího rozhodnutí.\"\n",
        "\n",
        "Z tohoto výroku lze odvodit, že rozhodnutí přijaté v každé etapě má vliv na následující etapy. Pouze poslední etapa (řízení $u_{n-1}$) má vliv jen na danou etapu. Víme tedy, že $J_{n-1}=I_{n-1}$.\n",
        "\n",
        "Pro předposlední etapu (řízení $u_{n-2}$) hledáme\n",
        "\n",
        "$$J_{n-2}=\\max_{u_{n-2}} \\{I_{n-2}+J_{n-1} \\}$$\n",
        "\n",
        "Obdobné můžeme vyjádřit pro všechny etapy, včetně etapy první\n",
        "\n",
        "$$J_{1}=\\max_{u_{1}} \\{I_{1}+J_{2} \\}$$\n",
        "\n",
        "současně platí, že \n",
        "\n",
        "$$J_{1}=J$$\n",
        "\n",
        "Při použití této metody se v podstatě posloupnost prochází dvakrát. Poprvé od konce k počátku, kdy se hledá podmíněně optimální řízení. Podruhé se prochází od počátku do konce, kdy se furmuluje optimální posloupnost řídící kroků.\n"
      ]
    },
    {
      "cell_type": "markdown",
      "metadata": {
        "id": "wWEUlOHiwJ7_"
      },
      "source": [
        "## Příklad"
      ]
    },
    {
      "cell_type": "markdown",
      "metadata": {
        "id": "gqbwgW4RTnxo"
      },
      "source": [
        "### Zadání"
      ]
    },
    {
      "cell_type": "markdown",
      "metadata": {
        "id": "_cPlCRGzKJzo"
      },
      "source": [
        "Předpokládejme, že letoun se nachází ve výšce $h_A$ a pohybuje se rychlostí $v_A$. Má být dosaženo výšky $h_B \\gt h_A$ a rychlosti $v_B \\gt v_A$ a to tak, aby spotřeba paliva byla minimální. Spotřeba paliva pro změnu rychlosti, případně pro změnu výšky v daném stavu letounu jsou dány tabulkou."
      ]
    },
    {
      "cell_type": "code",
      "metadata": {
        "id": "0wOrQl0jLUmz",
        "outputId": "d6fbe9bc-a64f-4bae-b898-b00b412f545e",
        "colab": {
          "base_uri": "https://localhost:8080/",
          "height": 301
        }
      },
      "source": [
        "from matplotlib import pyplot as plt\n",
        "\n",
        "I = {\n",
        "    0:{0: (10, 9), 1: (12, 10), 2: (13, 11), 3: (15, 8), 4: (None, 7)},\n",
        "    1:{0: (11, 8), 1: (13, 10), 2: (15, 11), 3: (20, 10), 4: (None, 9)},\n",
        "    2:{0: (9, 11), 1: (8, 12),  2: (11, 13), 3: (15, 12), 4: (None, 12)},\n",
        "    3:{0: (11, 14), 1: (13, 15), 2: (14, 14), 3: (17, 13), 4: (None, 14)},\n",
        "    4:{0: (14, None), 1: (12, None), 2: (15, None), 3: (17, None), 4: (None, None)} \n",
        "     }\n",
        "\n",
        "for x in range(5):\n",
        "  for y in range(5):\n",
        "    labelA, labelB = I[y][x]\n",
        "    if not labelA is None:\n",
        "      plt.plot([x, x + 1], [y, y], '-bo')\n",
        "      plt.text(x + 0.5, y, labelA)\n",
        "    if not labelB is None:\n",
        "      plt.plot([x, x], [y, y  + 1], '-bo')\n",
        "      plt.text(x, y + 0.5, labelB)\n",
        "\n",
        "plt.text(0, 0, 'A', backgroundcolor='red')\n",
        "plt.text(4, 4, 'B', backgroundcolor='red')\n",
        "plt.xlabel('$v [ms^{-1}]$')\n",
        "plt.ylabel('$h [m]$');\n",
        "plt.title('Posloupnost změn výšky a rychlosti');\n"
      ],
      "execution_count": 14,
      "outputs": [
        {
          "output_type": "display_data",
          "data": {
            "image/png": "[encoded data removed]",
            "text/plain": [
              "<Figure size 432x288 with 1 Axes>"
            ]
          },
          "metadata": {
            "tags": [],
            "needs_background": "light"
          }
        }
      ]
    },
    {
      "cell_type": "markdown",
      "metadata": {
        "id": "Zypr1LHOLCqD"
      },
      "source": [
        "### Řešení"
      ]
    },
    {
      "cell_type": "markdown",
      "metadata": {
        "id": "9L2M5qZKTwur"
      },
      "source": [
        "Celý proces je rozdělen na 8 kroků. Hledáme tedy hodnoty \n",
        "\n",
        "$u_0,\\dots, u_7$,\n",
        "\n",
        "$v_0=v_A,\\dots, v_7=v_B$,\n",
        "\n",
        "$h_0=h_A,\\dots, h_7=h_B$,\n",
        "\n",
        "$J_0,\\dots, J_7$,"
      ]
    },
    {
      "cell_type": "markdown",
      "metadata": {
        "id": "Ve2a7Ct6WR_y"
      },
      "source": [
        "#### Krok 7"
      ]
    },
    {
      "cell_type": "markdown",
      "metadata": {
        "id": "L3ucjnrVU7oA"
      },
      "source": [
        "Do bodu B se můžeme dostat dvěma způsoby \n",
        "- z $[3,4]$ změnou rychlosti, což znamená, že $J_7=17$,\n",
        "- nebo z $[4,3]$ změnou výšky, což znamená, že $J_7=14$,"
      ]
    },
    {
      "cell_type": "markdown",
      "metadata": {
        "id": "fuCR25k6WXOz"
      },
      "source": [
        "#### Krok 6"
      ]
    },
    {
      "cell_type": "markdown",
      "metadata": {
        "id": "dP74dgB2WYZk"
      },
      "source": [
        "V kroku 6 řešíme předchůdce stavů $[3,4]$ a $[4,3]$. Do těchto stavů se můžeme dostat ze stavů:\n",
        "- $[2,4]$ změnou rychlosti do $[3,4]$\n",
        "- $[3,3]$ změnou rychlosti do $[4,3]$ nebo změnou výšky do $[3,4]$\n",
        "- $[4,2]$ změnou výšky do $[4,3]$\n",
        "\n",
        "odpovídající J jsou"
      ]
    }
  ]
}