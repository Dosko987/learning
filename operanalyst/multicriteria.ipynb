{
  "nbformat": 4,
  "nbformat_minor": 0,
  "metadata": {
    "colab": {
      "name": "Vícekriteriální rozhodování.ipynb",
      "provenance": [],
      "toc_visible": true,
      "authorship_tag": "ABX9TyNm9W+mFl+x4abCcFinrAFb",
      "include_colab_link": true
    },
    "kernelspec": {
      "name": "python3",
      "display_name": "Python 3"
    }
  },
  "cells": [
    {
      "cell_type": "markdown",
      "metadata": {
        "id": "view-in-github",
        "colab_type": "text"
      },
      "source": [
        "<a href=\"https://colab.research.google.com/github/hrbolek/learning/blob/master/operanalyst/multicriteria.ipynb\" target=\"_parent\"><img src=\"https://colab.research.google.com/assets/colab-badge.svg\" alt=\"Open In Colab\"/></a>"
      ]
    },
    {
      "cell_type": "markdown",
      "metadata": {
        "id": "sHUFLJVKlcSi"
      },
      "source": [
        "# Vícekriteriální optimalizace"
      ]
    },
    {
      "cell_type": "markdown",
      "metadata": {
        "id": "om12U2w4lg5R"
      },
      "source": [
        "Vícekriteriální optimalizací rozumíme problém, jehož každé řešení je ohodnoceno vektorovou kriteriální funkcí. Tím se tato optimalizace liší od optimalizace, kde každé přípustné řešení je ohodnoceno skalární kriteriální funkcí a jednotlivá řešení lze tedy jednoduše porovnávat.\n",
        "\n",
        "Formálně lze problém popsat jako\n",
        "\n",
        "$$\n",
        "f(x) \\to \\min, x \\in M \\\\\n",
        "f(x)=(f_1(x),\\dots , f_n(x))\n",
        "$$\n",
        "\n",
        "Ideálním řešením nazýváme takové řešení, které je optimální pro jednotlivé složky vektorové funkce.\n",
        "\n",
        "$$x^*$$\n",
        "\n",
        "$$f_i(x^*) \\le f_i(x) $$\n",
        "\n",
        "Ideální řešení je obecně nedosažitelné, definují se tedy jiné přístupy"
      ]
    },
    {
      "cell_type": "markdown",
      "metadata": {
        "id": "pwUUG9oOeycO"
      },
      "source": [
        "## Nedominované řešení"
      ]
    },
    {
      "cell_type": "markdown",
      "metadata": {
        "id": "ZvHm0bwPfwT4"
      },
      "source": [
        "Nedominované řešení (řešení, které nedominuje, není optimální pro všechny kriteriální funkce) lze popsat jako\n",
        "\n",
        "$$\n",
        "\\exists k, f_k(x^*) \\le f_k(x)\n",
        "$$\n",
        "\n",
        "tedy řešení je optimální alespoň podle jedné kriteriální funkce.\n",
        "\n",
        "Takové řešení nazýváme též eficientní řešení. Množina všech eficientních řešení se nazývá též množinou [Pareto-optimálních řešení](https://en.wikipedia.org/wiki/Pareto_efficiency).\n"
      ]
    },
    {
      "cell_type": "markdown",
      "metadata": {
        "id": "bcqjIAmF2F_9"
      },
      "source": [
        "## Definice vah"
      ]
    },
    {
      "cell_type": "markdown",
      "metadata": {
        "id": "bfvGt2jX2qSB"
      },
      "source": [
        "Jedním z možných přístupů při řešení úlohy vícekriteriální optimalizace je stanovení vah pro jednotlivé kriteriální funkce.\n",
        "\n",
        "$$\n",
        "g(x) = \\sum_{i=1}^n \\lambda_i f_i(x)\n",
        "$$\n",
        "\n",
        "Tímto stanovením vah úlohu vícekriteriální optimalizace převádíme na úlohu optimalizace s jednou (skalární) kriteriální funkcí. \n"
      ]
    },
    {
      "cell_type": "markdown",
      "metadata": {
        "id": "22DhOq135nxl"
      },
      "source": [
        "## Lexikografická metoda"
      ]
    },
    {
      "cell_type": "markdown",
      "metadata": {
        "id": "MMFLUd-u5sAa"
      },
      "source": [
        "Vícekriteální problém by byl řešitelný v případě, kdybychom byli schopni na množině přípustných řešení, která je množinou vektorů, definovat operátory $\\le$ a $\\lt$.\n",
        "\n",
        "Při aplikaci lexikografické metody seřadíme kritéria podle důležitosti a postupně je v iteračním procesu aplikujeme.\n",
        "\n",
        "Množinu přípustných řešení $M$ pomocí kritéria $f_1$ redukujeme na množinu optimálních řešení $O_1$. Následnou aplikací kritéria $f_2$ na množinu $O_1$ dostáváme množinu $O_2$. Postup opakujeme, až dostaneme pomocí posledního kritéria $f_n$ množinu $O_n$. V případě, kdy je tato množina jednoprvková, považujeme tento prvek za optimální řešení úlohy. V opačném případě můžeme vybrat jakýkoliv prvek množiny. [Zdroj](http://jana.kalcev.cz/vyuka/kestazeni/EKO422-Ordinalni.pdf)."
      ]
    },
    {
      "cell_type": "markdown",
      "metadata": {
        "id": "t4DUP-meVQif"
      },
      "source": [
        "# Hodnotová analýza"
      ]
    },
    {
      "cell_type": "markdown",
      "metadata": {
        "id": "2S-AOMlQvFCq"
      },
      "source": [
        "## Úvod"
      ]
    },
    {
      "cell_type": "markdown",
      "metadata": {
        "id": "_G0ii5W8vKDI"
      },
      "source": [
        "Definice hodnotové analýzy (podle **ČSN 010120** neplatné): Hodnotová analýza je účelově sestavený soubor systémově zaměřených metod analýzy a tvůrčího řešení problémů, který je charakterizován vyhodnocováním funkcí řešeného objektu a zjišťováním nákladů nutných k jejich zajištění, čímž vede k navrhování efektivnějších variant řešení.\n",
        "\n",
        "**Hodnotová analýza** je účelně sestavený **soubor vícekriteriálních metod** a pracovních postupů, vedoucích k  výběru rozhodnutí, optimálního podle zadaných kriterií.\n"
      ]
    },
    {
      "cell_type": "markdown",
      "metadata": {
        "id": "4j-YvNpiry6c"
      },
      "source": [
        "> **Povinné video**\n",
        "> \n",
        "> [Value analysis in a nutshell 3min](https://www.youtube.com/watch?v=dvdfxr0fMzs)\n",
        "\n",
        "> **Doporučené video**\n",
        ">\n",
        "> [Value Engineering 57min](https://www.youtube.com/watch?v=klsJN6wSbiY)"
      ]
    },
    {
      "cell_type": "markdown",
      "metadata": {
        "id": "BM5P_cMfiKrC"
      },
      "source": [
        "Zdroj https://www.youtube.com/watch?v=TT6tVH6cDMM\n",
        "\n",
        "Hodnotová analýza je metodou systematického přístupu ke zvyšování hodnoty produktů, procesů nebo projektů.\n",
        "\n",
        "Hodnotová analýza provádí:\n",
        "- analýzu funkcionality produktu\n",
        "- odhaduje cenu za jednotlivou funkcionalitu\n",
        "- porovnává vybranou funkcionalitu s konkurencí\n",
        "\n",
        "Hodnotová analýza odvozuje hodnotu produktu na základě jeho přínosu a ceny na pořízení. Nejjednodušší \"vzorec\" může být\n",
        "$$Hodnota=\\frac{Prinos}{Cena}$$"
      ]
    },
    {
      "cell_type": "markdown",
      "metadata": {
        "id": "TSP_-DeBjynD"
      },
      "source": [
        "Hodnotovou analýzu lze využít v případech:\n",
        "- potřeba identifikace možných zlepšení\n",
        "- snížení ceny / nákladů\n",
        "- určení pořadí možných vylepšení \n",
        "- určení reálné ceny jednotlivých subsystémů / prvků"
      ]
    },
    {
      "cell_type": "markdown",
      "metadata": {
        "id": "gLkiqOPkkcOn"
      },
      "source": [
        "Zdroj https://www.kip.zcu.cz/kursy/svt/svt_www/6_soubory/6_6_1.html\n",
        "\n",
        "Při posuzování systému jako celku a jeho prvků se popisuje, jakou funkcionalitu má (sloveso s podstatným jménem). Hledají se alternativy k zabezpečení stejné funkcionality. Vzájemným porovnáním **Přínosu** a **Ceny** se určí, u které varianty je dosaženo lepší **Hodnoty**.\n",
        "\n",
        "Pro vzájemné srovnání **Přínosu**, **Ceny** a **Hodnoty** (viz vzorec výše) je možné využít dalších metod (Fuzzy logické systémy).\n",
        "\n"
      ]
    },
    {
      "cell_type": "markdown",
      "metadata": {
        "id": "Kt-ynHyMoJ9I"
      },
      "source": [
        "Cena\n",
        "- <> **Velmi Nízká** (C_VN)\n",
        "- <> **Nízká** (C_N)\n",
        "- <> **Střední** (C_S)\n",
        "- <> **Vysoká** (C_V)\n",
        "- <> **Velmi vysoká** (C_VV)\n",
        "\n",
        "Přínos\n",
        "- <> **Zanedbatelný** (P_Z)\n",
        "- <> **Významný** (P_V)\n",
        "- <> **Velmi významný** (P_VV)\n",
        "\n",
        "Hodnota\n",
        "- <> **Velmi nízká** (H_VN)\n",
        "- <> **Nízká** (H_N)\n",
        "- <> **Střední** (H_S)\n",
        "- <> **Vysoká** (H_V)\n",
        "- <> **Velmi vysoká** (H_VV)"
      ]
    },
    {
      "cell_type": "markdown",
      "metadata": {
        "id": "GQMq1lv8oLhx"
      },
      "source": [
        "\n",
        "Pravidla\n",
        "- **if** (C_VV or C_V) **and** (P_Z) **then** H_VN\n",
        "- **if** (C_VV or C_V) **and** (P_V) **then** H_N\n",
        "- ...(doplňte)"
      ]
    },
    {
      "cell_type": "markdown",
      "metadata": {
        "id": "1kLAsPD2mza6"
      },
      "source": [
        "Zdroj http://www.unium.cz/materialy/vut/fast/zpracovane-otazky-m28953-p1.html\n",
        "\n"
      ]
    },
    {
      "cell_type": "markdown",
      "metadata": {
        "id": "gPIepaurVTEH"
      },
      "source": [
        "https://www.youtube.com/watch"
      ]
    },
    {
      "cell_type": "code",
      "metadata": {
        "id": "1pqwRfFelBZB"
      },
      "source": [
        ""
      ],
      "execution_count": null,
      "outputs": []
    }
  ]
}