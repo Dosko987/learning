{
  "nbformat": 4,
  "nbformat_minor": 0,
  "metadata": {
    "colab": {
      "name": "TeorieHer.ipynb",
      "provenance": [],
      "toc_visible": true,
      "authorship_tag": "ABX9TyM7w+bd1JbWirlHG2Li7Wbl",
      "include_colab_link": true
    },
    "kernelspec": {
      "name": "python3",
      "display_name": "Python 3"
    }
  },
  "cells": [
    {
      "cell_type": "markdown",
      "metadata": {
        "id": "view-in-github",
        "colab_type": "text"
      },
      "source": [
        "<a href=\"https://colab.research.google.com/github/hrbolek/learning/blob/master/operanalyst/teorieher.ipynb\" target=\"_parent\"><img src=\"https://colab.research.google.com/assets/colab-badge.svg\" alt=\"Open In Colab\"/></a>"
      ]
    },
    {
      "cell_type": "markdown",
      "metadata": {
        "id": "8TNZCcYEGJnZ"
      },
      "source": [
        "# Teorie Her"
      ]
    },
    {
      "cell_type": "markdown",
      "metadata": {
        "id": "4AL8RghsGMej"
      },
      "source": [
        "## Rozdělení\n",
        "\n",
        "\n",
        "http://euler.fd.cvut.cz/predmety/game_theory/\n",
        "\n",
        "http://euler.fd.cvut.cz/predmety/teorie_her/\n"
      ]
    },
    {
      "cell_type": "markdown",
      "metadata": {
        "id": "B5DEFjNLGWEP"
      },
      "source": [
        "Podle ceny\n",
        "- hry s nulovým součtem\n",
        "- hry s nenulovým součtem\n",
        "\n",
        "Podle vzahu hráčů\n",
        "- hry antagonistické\n",
        "- hry kooperativní\n",
        "- hry proti přírodě\n",
        "\n",
        "Podle počtu strategií\n",
        "- konečné hry\n",
        "- nekonečné hry"
      ]
    },
    {
      "cell_type": "markdown",
      "metadata": {
        "id": "6Qmk3tadGQOc"
      },
      "source": [
        "## Maticové hry"
      ]
    },
    {
      "cell_type": "markdown",
      "metadata": {
        "id": "4OykJaPwG9jg"
      },
      "source": [
        "Hra \"Kámen-nůžky-papír\"\n",
        "\n",
        "3 strategie obou hráčů \n",
        "- kámen\n",
        "- nůžky\n",
        "- papír\n",
        "\n",
        "Výsledek hry\n",
        "- kámen vs. kámen = 0\n",
        "- kámen vs. nůžky = 1\n",
        "- kámen vs. papír = -1\n",
        "- nůžky vs. kámen = -1\n",
        "- nůžky vs. nůžky = 0\n",
        "- nůžky vs. papír = 1\n",
        "- papír vs. kámen = 1\n",
        "- papír vs. nůžky = -1\n",
        "- papír vs. papír = 0\n",
        "\n",
        "Vyjádřeno v matici výher (odtud maticová hra)\n",
        "\n",
        "$$H=\\begin{pmatrix}\n",
        "0 & 1 & -1 \\\\\n",
        "-1 & 0 & 1 \\\\\n",
        "1 & -1 & 0 \n",
        "\\end{pmatrix}$$\n",
        "\n",
        "Strategie hráče A je představena řádky\n",
        "$$h_1=\\begin{pmatrix}\n",
        "0 & 1 & -1\n",
        "\\end{pmatrix}$$\n",
        "$$h_2=\\begin{pmatrix}\n",
        "-1 & 0 & 1\n",
        "\\end{pmatrix}$$\n",
        "$$h_3=\\begin{pmatrix}\n",
        "1 & -1 & 0\n",
        "\\end{pmatrix}$$\n",
        "\n",
        "Strategie hráče B je představena sloupci\n",
        "$$g_1=\\begin{pmatrix}\n",
        "0 \\\\\n",
        "-1 \\\\\n",
        "1\n",
        "\\end{pmatrix}$$\n",
        "$$g_2=\\begin{pmatrix}\n",
        "1 \\\\\n",
        "0 \\\\\n",
        "-1 \n",
        "\\end{pmatrix}$$\n",
        "$$g_3=\\begin{pmatrix}\n",
        "-1 \\\\\n",
        "1 \\\\\n",
        "0\n",
        "\\end{pmatrix}$$\n",
        "\n",
        "matice výher pro hráče B je zápornou transponovanou maticí matice výher pro hráče A\n",
        "$$G=-H^T=\\begin{pmatrix}\n",
        "0 & 1 & -1 \\\\\n",
        "-1 & 0 & 1 \\\\\n",
        "1 & -1 & 0 \n",
        "\\end{pmatrix}$$\n",
        "\n",
        "Všimněte si, že $H=G$.\n",
        "\n",
        "Jestliže hráč A volí strategii $i$ a hráč B volí strategii $j$, potom výhra hráče A je dána prvkem $h_{ij}$ a výhra hráče B je dána prvkem $g_{ij}$. Protože $g_{ij} +h_{ij}=0$, klasifikujeme tuto hru jako hru s nulovým součtem.\n",
        "\n"
      ]
    },
    {
      "cell_type": "markdown",
      "metadata": {
        "id": "s8xx0IPnU9sV"
      },
      "source": [
        "## Čisté strategie"
      ]
    },
    {
      "cell_type": "markdown",
      "metadata": {
        "id": "wU9qd_TtppVK"
      },
      "source": [
        "$$A=\\begin{pmatrix}\n",
        "4 & 3 & 2 & 5 \\\\\n",
        "-10 & 2 & 0 & -1 \\\\\n",
        "7 & 5 & 2 & 3 \\\\\n",
        "0 & 8  & -4 & -5\n",
        "\\end{pmatrix}$$\n",
        "V jednotlivých řádcích hledáme maximum a z takto získaných maxim vybereme minimum.\n",
        "$$\\overline v =\\min_i \\max_j a_{ij}=2$$\n",
        "V jednotlivých sloupcích hledáme minimum a z takto získaných minim vybereme maximum.\n",
        "$$\\underline v = \\max_i \\min_j a_{ij}=2$$\n",
        "Protože\n",
        "$$\\underline v = \\overline v$$\n",
        "má hra sedlový bod, cena hry je \n",
        "$$v=\\underline v = \\overline v$$\n",
        "a optimální strategie pro prvního hráče je strategie č. 1, alternativně č. 3 \n",
        "$$\\begin{pmatrix}\n",
        "4 & 3 & 2 & 6\n",
        "\\end{pmatrix}$$\n",
        "pro druhého hráče je optimální strategií strategie č. 3\n",
        "$$\\begin{pmatrix}\n",
        "2 \\\\\n",
        "0 \\\\\n",
        "2 \\\\\n",
        "-4\n",
        "\\end{pmatrix}$$\n",
        "\n",
        "Existence sedlového bodu znamená, že změnou strategie si žádný z hráčů nepolepší.\n"
      ]
    },
    {
      "cell_type": "markdown",
      "metadata": {
        "id": "tDnhyew4oqcp"
      },
      "source": [
        "$$A=\\begin{pmatrix}\n",
        "5 & 1 \\\\\n",
        "3 & 4\n",
        "\\end{pmatrix}$$\n",
        "\n",
        "$$\\overline v=\\min_i \\max_j a_{ij}=4$$\n",
        "$$\\underline v = \\max_i \\min_j a_{ij}=3$$\n",
        "\n",
        "Hra nemá sedlový bod a nemá řešení v čistých strategiích."
      ]
    },
    {
      "cell_type": "markdown",
      "metadata": {
        "id": "Lu921qMCVA30"
      },
      "source": [
        "## Smíšené strategie"
      ]
    },
    {
      "cell_type": "markdown",
      "metadata": {
        "id": "zxx1Rmc4VDTB"
      },
      "source": [
        "### Optimální řešení ve smíšených strategiích"
      ]
    },
    {
      "cell_type": "markdown",
      "metadata": {
        "id": "0jDryUvVVILZ"
      },
      "source": [
        "Hráč A volí smíšenou strategii $s^A=(s_1^A, s_2^A, ..., s_n^A)$. Hráč B volí smíšenou strategii $s^B=(s_1^B, s_2^B, ..., s_n^B)$.\n",
        "\n",
        "\n",
        "$$max\\{v:A^Ts^A- \\begin{pmatrix}v \\\\\n",
        "v \\\\\n",
        "\\vdots \\\\\n",
        "v\n",
        "\\end{pmatrix} \\ge 0, \\sum_{i=1}^ns_i^A=1,s^A \\ge 0, v \\in R\\}$$\n",
        "\n",
        "$$min\\{w:As^B- \\begin{pmatrix}w \\\\\n",
        "w \\\\\n",
        "\\vdots \\\\\n",
        "w\n",
        "\\end{pmatrix} \\le 0, \\sum_{i=1}^ns_i^B=1,s^B \\ge 0, w \\in R\\}$$\n",
        "\n",
        "\n",
        "\n"
      ]
    },
    {
      "cell_type": "markdown",
      "metadata": {
        "id": "kZMHCPuX9BR7"
      },
      "source": [
        "### Příklad"
      ]
    },
    {
      "cell_type": "markdown",
      "metadata": {
        "id": "RIb2gsZ5lIz6"
      },
      "source": [
        "Vyřešte hru kámen-nůžky-papír\n",
        "\n",
        "$$H=\\begin{pmatrix}\n",
        "0 & 1 & -1 \\\\\n",
        "-1 & 0 & 1 \\\\\n",
        "1 & -1 & 0 \n",
        "\\end{pmatrix}$$\n",
        "\n",
        "$$f(s^A)=v \\to max$$\n",
        "\n",
        "$$\\begin{matrix}\n",
        " & -s_2^A & +s_3^A & -v & \\ge & 0 \\\\\n",
        " s_1^A & & -s_3^A & -v & \\ge & 0 \\\\\n",
        " -s_1^A & +s_2^A & & -v & \\ge & 0 \\\\\n",
        " s_1^A & +s_2^A & +s_3^A & &=& 1\n",
        "\\end{matrix}\n",
        "$$\n",
        "\n",
        "\n",
        "$$g(s^B)=w \\to min$$\n",
        "\n",
        "$$\\begin{matrix}\n",
        " & s_2^B & -s_3^B & -w & \\le & 0 \\\\\n",
        " -s_1^B & & +s_3^B & -w & \\le & 0 \\\\\n",
        " s_1^B & -s_2^B & & -w & \\le & 0 \\\\\n",
        " s_1^B & +s_2^B & +s_3^B & &=& 1\n",
        "\\end{matrix}\n",
        "$$\n"
      ]
    },
    {
      "cell_type": "markdown",
      "metadata": {
        "id": "xhAGkVQU_Qj-"
      },
      "source": [
        "### Řešení"
      ]
    },
    {
      "cell_type": "code",
      "metadata": {
        "id": "11jX_sSQ_StK",
        "outputId": "712cf680-f880-48fd-dbbd-25e5caed64d8",
        "colab": {
          "base_uri": "https://localhost:8080/"
        }
      },
      "source": [
        "!pip install pulp"
      ],
      "execution_count": 4,
      "outputs": [
        {
          "output_type": "stream",
          "text": [
            "Requirement already satisfied: pulp in /usr/local/lib/python3.6/dist-packages (2.3.1)\n",
            "Requirement already satisfied: amply>=0.1.2 in /usr/local/lib/python3.6/dist-packages (from pulp) (0.1.4)\n",
            "Requirement already satisfied: pyparsing in /usr/local/lib/python3.6/dist-packages (from amply>=0.1.2->pulp) (2.4.7)\n",
            "Requirement already satisfied: docutils>=0.3 in /usr/local/lib/python3.6/dist-packages (from amply>=0.1.2->pulp) (0.16)\n"
          ],
          "name": "stdout"
        }
      ]
    },
    {
      "cell_type": "code",
      "metadata": {
        "id": "F-8YL9M9Hii8",
        "outputId": "d7c01164-83ac-486f-9052-3c75d889dd40",
        "colab": {
          "base_uri": "https://localhost:8080/"
        }
      },
      "source": [
        "from pulp import *\n",
        "probA = LpProblem(\"Game\", LpMaximize)\n",
        "sA1 = LpVariable(\"sA1\", 0, 1)\n",
        "sA2 = LpVariable(\"sA2\", 0, 1)\n",
        "sA3 = LpVariable(\"sA3\", 0, 1)\n",
        "v = LpVariable(\"v\", -1000, 1000)\n",
        "probA += (-sA2+sA3-v >= 0)\n",
        "probA += (sA1-sA3-v >= 0)\n",
        "probA += (-sA1+sA2-v >= 0)\n",
        "probA += (sA1+sA2+sA3 == 1)\n",
        "probA += (v)\n",
        "status = probA.solve()\n",
        "\n",
        "print(f'sA1={value(sA1)}, sA2={value(sA2)}, sA3={value(sA3)}, v={value(v)}')\n",
        "print(LpStatus[status])"
      ],
      "execution_count": 5,
      "outputs": [
        {
          "output_type": "stream",
          "text": [
            "sA1=0.33333333, sA2=0.33333333, sA3=0.33333333, v=0.0\n",
            "Optimal\n"
          ],
          "name": "stdout"
        }
      ]
    },
    {
      "cell_type": "markdown",
      "metadata": {
        "id": "YtXEzFS1ZtIN"
      },
      "source": [
        "$$A=\\begin{pmatrix}\n",
        "4 & 3 & 2 & 5 \\\\\n",
        "-10 & 2 & 0 & -1 \\\\\n",
        "7 & 5 & 2 & 3 \\\\\n",
        "0 & 8  & -4 & -5\n",
        "\\end{pmatrix}$$"
      ]
    },
    {
      "cell_type": "code",
      "metadata": {
        "id": "cFv42BmyZtmD",
        "outputId": "0ef78b7a-e7a6-4c28-f843-269cb5d75e02",
        "colab": {
          "base_uri": "https://localhost:8080/"
        }
      },
      "source": [
        "from pulp import *\n",
        "probA = LpProblem(\"Game\", LpMaximize)\n",
        "sA1 = LpVariable(\"sA1\", 0, 1)\n",
        "sA2 = LpVariable(\"sA2\", 0, 1)\n",
        "sA3 = LpVariable(\"sA3\", 0, 1)\n",
        "sA4 = LpVariable(\"sA4\", 0, 1)\n",
        "v = LpVariable(\"v\", -10, 10)\n",
        "probA += (4*sA1-10*sA2+7*sA3-v >= 0)\n",
        "probA += (3*sA1+2*sA3+5*sA3+8*sA4-v >= 0)\n",
        "probA += (2*sA1+0*sA2+2*sA3-4*sA4-v >= 0)\n",
        "probA += (5*sA1-1*sA2+3*sA3-5*sA4-v >= 0)\n",
        "probA += (sA1+sA2+sA3+sA4 == 1)\n",
        "probA += (v)\n",
        "status = probA.solve()\n",
        "\n",
        "print(f'sA1={value(sA1)}, sA2={value(sA2)}, sA3={value(sA3)}, sA4={value(sA4)}, v={value(v)}')\n",
        "print(LpStatus[status])"
      ],
      "execution_count": 6,
      "outputs": [
        {
          "output_type": "stream",
          "text": [
            "sA1=1.0, sA2=0.0, sA3=0.0, sA4=0.0, v=2.0\n",
            "Optimal\n"
          ],
          "name": "stdout"
        }
      ]
    },
    {
      "cell_type": "markdown",
      "metadata": {
        "id": "QX8TA1-_bmKG"
      },
      "source": [
        "## Hra plukovníka Blotta"
      ]
    },
    {
      "cell_type": "markdown",
      "metadata": {
        "id": "8a8DjO6qbpsl"
      },
      "source": [
        "Plukovník Blotto a jeho protivník chtějí zaujmout dvě pozice a za tím účelem mají možnost provést rozložení svých sil určitým způsobem.\n",
        "\n",
        "Jedná se o \"starou\" hru. Její řešení v obecné podobě dlouho nebylo známo. V roce 2016 se podařilo vyřešit [článek](https://sciencemag.cz/problem-plukovnika-blotta-vyresen/).\n",
        "\n",
        "Předpokládejme, že plukovník Blotto má 4 pluky a jeho protivník 3 pluky. Oba mohou své pluky rozdělit mezi dvě pozice, které chtějí zaujmout. Výplata (odměna, či výhra) je určena následujícím způsobem. Jestliže počet pluků $x$ plukovníka Blotta je na dané pozici větší než počet pluků protivníka $y$, pak výplata je $y+1$. Jestliže počet pluků $x$ plukovníka Blotta je na dané pozici menší než počet pluků protivníka $y$, pak výplata je $-x-1$. Celková výplata je dána součtem výplat pro jednotlivé pozice.\n",
        "\n",
        "Plukovník Blotto má možnost rozmístit své pluky 5 způsoby, zatímco protivník 4 způsoby. Výplaty pro plukovníka Blotta lze uspořádat do matice (tabulky)"
      ]
    },
    {
      "cell_type": "markdown",
      "metadata": {
        "id": "GNBR2S5Cbt_P"
      },
      "source": [
        "$$\\begin{matrix}\n",
        "      & (3,0) & (0,3) & (2,1) & (1,2) \\\\\n",
        "(4,0) & 4     & 0     & 2     & 1 \\\\\n",
        "(0,4) & 0     & 4     & 1     & 2 \\\\\n",
        "(3,1) & 1     & -1    & 3     & 0 \\\\\n",
        "(1,3) & -1    & 1     & 0     & 3 \\\\\n",
        "(2,2) & -2    & -2    & 2     & 2 \n",
        "\\end{matrix}$$"
      ]
    },
    {
      "cell_type": "markdown",
      "metadata": {
        "id": "0dV3oLvNbukH"
      },
      "source": [
        "Předpokládejte, že plukovník Blotto bude své strategie volit náhodně s pravděpodobnostmi $x^B=(x_1^B,x_2^B,x_3^B,x_4^B,x_5^B)$ a protivník bude volit své strategie také náhodně s pravděpodobnostmi $x^P=(x_1^P,x_2^P,x_3^P,x_4^P)$.\n",
        "\n",
        "Najděte strategii $x^B$, která maximalizuje výplatu $v$.\n",
        "\n",
        "Najděte strategii $x^P$, která minimalizuje výplatu $w$."
      ]
    },
    {
      "cell_type": "code",
      "metadata": {
        "id": "lsw9W7IFbzae",
        "outputId": "0023cd5e-6e54-4d94-f4be-844480cc107b",
        "colab": {
          "base_uri": "https://localhost:8080/"
        }
      },
      "source": [
        "from pulp import *\n",
        "probA = LpProblem(\"Game\", LpMaximize)\n",
        "sA1 = LpVariable(\"sA1\", 0, 1000)\n",
        "sA2 = LpVariable(\"sA2\", 0, 1000)\n",
        "sA3 = LpVariable(\"sA3\", 0, 1000)\n",
        "sA4 = LpVariable(\"sA4\", 0, 1000)\n",
        "sA5 = LpVariable(\"sA5\", 0, 1000)\n",
        "v = LpVariable(\"v\", -10, 10)\n",
        "probA += (4*sA1+0*sA2+1*sA3-1*sA4-2*sA5-v >= 0)\n",
        "probA += (0*sA1+4*sA2-1*sA3+1*sA4-2*sA5-v >= 0)\n",
        "probA += (2*sA1+1*sA2+3*sA3+0*sA4+2*sA5-v >= 0)\n",
        "probA += (1*sA1+2*sA2+0*sA3+3*sA4+2*sA5-v >= 0)\n",
        "probA += (sA1+sA2+sA3+sA4+sA5 == 1)\n",
        "probA += (v)\n",
        "status = probA.solve()\n",
        "\n",
        "print(f'sA1={value(sA1)}, sA2={value(sA2)}, sA3={value(sA3)}, sA4={value(sA4)}, sA5={value(sA5)}, v={value(v)}')\n",
        "print(LpStatus[status])"
      ],
      "execution_count": 7,
      "outputs": [
        {
          "output_type": "stream",
          "text": [
            "sA1=0.44444444, sA2=0.44444444, sA3=0.0, sA4=0.0, sA5=0.11111111, v=1.5555556\n",
            "Optimal\n"
          ],
          "name": "stdout"
        }
      ]
    },
    {
      "cell_type": "markdown",
      "metadata": {
        "id": "4TqozlXSFxQz"
      },
      "source": [
        "## Algoritmus řešení hry s pomocí iterací"
      ]
    },
    {
      "cell_type": "markdown",
      "metadata": {
        "id": "FzFrqHcUJSVq"
      },
      "source": [
        "### Pomocné funkce na hledání min a max"
      ]
    },
    {
      "cell_type": "code",
      "metadata": {
        "id": "hc3XXWEPJRtT"
      },
      "source": [
        "def findMax(data):\n",
        "  maxValue = None\n",
        "  maxIndex = 0\n",
        "  for index, item in enumerate(data):\n",
        "    if (maxValue is None):\n",
        "      maxValue = item\n",
        "      maxIndex = index\n",
        "    elif (maxValue < item):\n",
        "      maxValue = item\n",
        "      maxIndex = index\n",
        "  return maxValue, maxIndex\n",
        "\n",
        "def findMin(data):\n",
        "  minValue = None\n",
        "  minIndex = 0\n",
        "  for index, item in enumerate(data):\n",
        "    if (minValue is None):\n",
        "      minValue = item\n",
        "      minIndex = index\n",
        "    elif (minValue > item):\n",
        "      minValue = item\n",
        "      minIndex = index\n",
        "  return minValue, minIndex"
      ],
      "execution_count": 8,
      "outputs": []
    },
    {
      "cell_type": "markdown",
      "metadata": {
        "id": "QWt2B4frQVqB"
      },
      "source": [
        "### Výpočet matice výher protihráče"
      ]
    },
    {
      "cell_type": "code",
      "metadata": {
        "id": "2LlqNsvBQYj_",
        "outputId": "b31d0828-7296-4808-bbba-ed58f4d0daca",
        "colab": {
          "base_uri": "https://localhost:8080/"
        }
      },
      "source": [
        "def deriveMatrix(H):\n",
        "  result = [[] for item in H[0]]\n",
        "  for i, row in enumerate(H):\n",
        "    for j, item in enumerate(row):\n",
        "      result[j].append(-item)\n",
        "  return result\n",
        "\n",
        "H = [[0, 1, -1], [-1, 0, 1], [1, -1, 0]]\n",
        "G = [[0, 1, -1], [-1, 0, 1], [1, -1, 0]]\n",
        "\n",
        "G2 = deriveMatrix(H)\n",
        "print(H)\n",
        "print(G)\n",
        "print(G2)"
      ],
      "execution_count": 9,
      "outputs": [
        {
          "output_type": "stream",
          "text": [
            "[[0, 1, -1], [-1, 0, 1], [1, -1, 0]]\n",
            "[[0, 1, -1], [-1, 0, 1], [1, -1, 0]]\n",
            "[[0, 1, -1], [-1, 0, 1], [1, -1, 0]]\n"
          ],
          "name": "stdout"
        }
      ]
    },
    {
      "cell_type": "markdown",
      "metadata": {
        "id": "vceM7jhv954-"
      },
      "source": [
        "### Normalizace strategie"
      ]
    },
    {
      "cell_type": "markdown",
      "metadata": {
        "id": "4Lybba_Z98Rz"
      },
      "source": [
        "Postup, při kterém z četností vypočítáme pravděpodobnosti."
      ]
    },
    {
      "cell_type": "code",
      "metadata": {
        "id": "X2wu5nym92Jo"
      },
      "source": [
        "def normalizeStrategy(strategy):\n",
        "  s = sum(strategy)\n",
        "  result = []\n",
        "  for p in strategy:\n",
        "    result.append(p / s)\n",
        "  return result\n",
        "\n",
        "def normalizeStrategy(strategy):\n",
        "  s = sum(strategy)\n",
        "  result = [p / s for p in strategy]\n",
        "  return result"
      ],
      "execution_count": 10,
      "outputs": []
    },
    {
      "cell_type": "markdown",
      "metadata": {
        "id": "I0-6WF_7XpFu"
      },
      "source": [
        "### Cena hry"
      ]
    },
    {
      "cell_type": "code",
      "metadata": {
        "id": "YCogTwNYXpQe"
      },
      "source": [
        "def gameValue(strategies, gameMatrices):\n",
        "  strategyA = normalizeStrategy(strategies[0])\n",
        "  strategyB = normalizeStrategy(strategies[1])\n",
        "  gameA = gameMatrices[0]\n",
        "  gameB = gameMatrices[1]\n",
        "  result = 0\n",
        "  for x, row in enumerate(gameA):\n",
        "    for y, item in enumerate(row):\n",
        "      result = result + strategyA[x] * strategyB[y] * item\n",
        "  return result\n"
      ],
      "execution_count": 11,
      "outputs": []
    },
    {
      "cell_type": "markdown",
      "metadata": {
        "id": "nDu50Z9BBgqu"
      },
      "source": [
        "### Výstup informace o hře, včetně smíšených strategií"
      ]
    },
    {
      "cell_type": "code",
      "metadata": {
        "id": "qE0JXoJa-OvO"
      },
      "source": [
        "def printGame(strategies, gameMatrices):\n",
        "  strategyA = normalizeStrategy(strategies[0])\n",
        "  strategyB = normalizeStrategy(strategies[1])\n",
        "  gameA = gameMatrices[0]\n",
        "  gameB = gameMatrices[1]\n",
        "\n",
        "  print('\\t', end='')\n",
        "  for item in strategyB:\n",
        "    print(f'{item:.2f}\\t', end='')\n",
        "  print()\n",
        "  for index, value in enumerate(strategyA):\n",
        "    print(f'{value:.2f}\\t', end='')\n",
        "    for mItem in gameA[index]:\n",
        "      print(f'{mItem}\\t', end='')\n",
        "    print()"
      ],
      "execution_count": 12,
      "outputs": []
    },
    {
      "cell_type": "markdown",
      "metadata": {
        "id": "ScpOOBmrBvcp"
      },
      "source": [
        "### Krok hráče"
      ]
    },
    {
      "cell_type": "markdown",
      "metadata": {
        "id": "1Gf7kh8QC1nD"
      },
      "source": [
        "Hráč na základě předchozích tahů protihráče volí čistou strategii, která mu maximalizuje zisk"
      ]
    },
    {
      "cell_type": "code",
      "metadata": {
        "id": "OhSj8NK3B040"
      },
      "source": [
        "def playerStep(mixedStrategy, gameMatrix):\n",
        "  costs = [0] * len(gameMatrix[0])\n",
        "  for pureStrategy, row in zip(mixedStrategy, gameMatrix):\n",
        "    for index, hItem in enumerate(row):\n",
        "      costs[index] += pureStrategy * hItem\n",
        "  \n",
        "  maxValue, maxIndex = findMax(costs)\n",
        "  return maxIndex"
      ],
      "execution_count": 13,
      "outputs": []
    },
    {
      "cell_type": "markdown",
      "metadata": {
        "id": "puctxswfDNYJ"
      },
      "source": [
        "### Jeden krok v iteraci hry"
      ]
    },
    {
      "cell_type": "markdown",
      "metadata": {
        "id": "rSIMdNHMDQjB"
      },
      "source": [
        "Jeden krok se skládá z tahů obou hráčů."
      ]
    },
    {
      "cell_type": "code",
      "metadata": {
        "id": "tvbkJtQnB4ER"
      },
      "source": [
        "def gameStep(strategies, gameMatrices):\n",
        "  strategyA = [*strategies[0]]\n",
        "  strategyB = [*strategies[1]]\n",
        "  gameA = gameMatrices[0]\n",
        "  gameB = gameMatrices[1]\n",
        "\n",
        "  pureStrategyA = playerStep(strategyB, gameB)\n",
        "  strategyA[pureStrategyA] += 1\n",
        "\n",
        "  pureStrategyB = playerStep(strategyB, gameB)\n",
        "  strategyB[pureStrategyB] += 1\n",
        "\n",
        "  return strategyA, strategyB"
      ],
      "execution_count": 14,
      "outputs": []
    },
    {
      "cell_type": "markdown",
      "metadata": {
        "id": "4EmYZm0-CCS-"
      },
      "source": [
        "### Řešení hry"
      ]
    },
    {
      "cell_type": "markdown",
      "metadata": {
        "id": "uvpvZK_TL2VA"
      },
      "source": [
        "$$A=\\begin{pmatrix}\n",
        "0 & 1 & -1 \\\\\n",
        "-1 & 0 & 1 \\\\\n",
        "1 & -1 & 0\n",
        "\\end{pmatrix}$$"
      ]
    },
    {
      "cell_type": "code",
      "metadata": {
        "id": "4AHrQAOm1Kfn",
        "outputId": "43eb2c85-d9a2-4067-cc10-450e79311550",
        "colab": {
          "base_uri": "https://localhost:8080/"
        }
      },
      "source": [
        "H = [[0, 1, -1], [-1, 0, 1], [1, -1, 0]]\n",
        "G = [[0, 1, -1], [-1, 0, 1], [1, -1, 0]]\n",
        "\n",
        "strategyA = [1, 0, 0]\n",
        "strategyB = [1, 0, 0]\n",
        "for index in range(10000):\n",
        "  strategyA, strategyB = gameStep((strategyA, strategyB), (H, G))\n",
        "  if index % 1000 == 0:\n",
        "    printGame((strategyA, strategyB), (H, G))\n",
        "    print('-'*30)\n",
        "    #print(normalizeStrategy(strategyA), normalizeStrategy(strategyB))\n"
      ],
      "execution_count": 15,
      "outputs": [
        {
          "output_type": "stream",
          "text": [
            "\t0.50\t0.50\t0.00\t\n",
            "0.50\t0\t1\t-1\t\n",
            "0.50\t-1\t0\t1\t\n",
            "0.00\t1\t-1\t0\t\n",
            "------------------------------\n",
            "\t0.34\t0.34\t0.32\t\n",
            "0.34\t0\t1\t-1\t\n",
            "0.34\t-1\t0\t1\t\n",
            "0.32\t1\t-1\t0\t\n",
            "------------------------------\n",
            "\t0.32\t0.34\t0.34\t\n",
            "0.32\t0\t1\t-1\t\n",
            "0.34\t-1\t0\t1\t\n",
            "0.34\t1\t-1\t0\t\n",
            "------------------------------\n",
            "\t0.34\t0.32\t0.34\t\n",
            "0.34\t0\t1\t-1\t\n",
            "0.32\t-1\t0\t1\t\n",
            "0.34\t1\t-1\t0\t\n",
            "------------------------------\n",
            "\t0.33\t0.33\t0.34\t\n",
            "0.33\t0\t1\t-1\t\n",
            "0.33\t-1\t0\t1\t\n",
            "0.34\t1\t-1\t0\t\n",
            "------------------------------\n",
            "\t0.34\t0.34\t0.33\t\n",
            "0.34\t0\t1\t-1\t\n",
            "0.34\t-1\t0\t1\t\n",
            "0.33\t1\t-1\t0\t\n",
            "------------------------------\n",
            "\t0.33\t0.34\t0.33\t\n",
            "0.33\t0\t1\t-1\t\n",
            "0.34\t-1\t0\t1\t\n",
            "0.33\t1\t-1\t0\t\n",
            "------------------------------\n",
            "\t0.33\t0.34\t0.34\t\n",
            "0.33\t0\t1\t-1\t\n",
            "0.34\t-1\t0\t1\t\n",
            "0.34\t1\t-1\t0\t\n",
            "------------------------------\n",
            "\t0.33\t0.34\t0.33\t\n",
            "0.33\t0\t1\t-1\t\n",
            "0.34\t-1\t0\t1\t\n",
            "0.33\t1\t-1\t0\t\n",
            "------------------------------\n",
            "\t0.33\t0.34\t0.33\t\n",
            "0.33\t0\t1\t-1\t\n",
            "0.34\t-1\t0\t1\t\n",
            "0.33\t1\t-1\t0\t\n",
            "------------------------------\n"
          ],
          "name": "stdout"
        }
      ]
    },
    {
      "cell_type": "code",
      "metadata": {
        "id": "GDNrdxHcJ0sx"
      },
      "source": [
        "def solveMatrixGame(gameMatrices, iterations = 10000):\n",
        "  gameA = gameMatrices[0]\n",
        "  gameB = gameMatrices[1]  \n",
        "  strategyA = [0] * len(gameA)\n",
        "  strategyB = [0] * len(gameB)\n",
        "  for index in range(iterations):\n",
        "    strategyA, strategyB = gameStep((strategyA, strategyB), (gameA, gameB))\n",
        "  return strategyA, strategyB"
      ],
      "execution_count": null,
      "outputs": []
    },
    {
      "cell_type": "code",
      "metadata": {
        "id": "LQlhPRmwI5qh",
        "outputId": "585230ab-7d52-42b7-f5d9-d99d07c91886",
        "colab": {
          "base_uri": "https://localhost:8080/"
        }
      },
      "source": [
        "H = [[0, 1, -1], [-1, 0, 1], [1, -1, 0]]\n",
        "G = [[0, 1, -1], [-1, 0, 1], [1, -1, 0]]\n",
        "\n",
        "strategyA, strategyB = solveMatrixGame((H, G))\n",
        "printGame((strategyA, strategyB), (H, G))\n",
        "v = gameValue((strategyA, strategyB), (H, G))\n",
        "print(v)"
      ],
      "execution_count": null,
      "outputs": [
        {
          "output_type": "stream",
          "text": [
            "\t0.34\t0.33\t0.33\t\n",
            "0.34\t0\t1\t-1\t\n",
            "0.33\t-1\t0\t1\t\n",
            "0.33\t1\t-1\t0\t\n",
            "-1.0000000022492017e-08\n"
          ],
          "name": "stdout"
        }
      ]
    },
    {
      "cell_type": "markdown",
      "metadata": {
        "id": "8exdATiaK0HX"
      },
      "source": [
        "## Řešení maticové hry se sedlovým bodem"
      ]
    },
    {
      "cell_type": "markdown",
      "metadata": {
        "id": "OwUKE8XdLCQC"
      },
      "source": [
        "$$A=\\begin{pmatrix}\n",
        "4 & 3 & 2 & 5 \\\\\n",
        "-10 & 2 & 0 & -1 \\\\\n",
        "7 & 5 & 2 & 3 \\\\\n",
        "0 & 8  & -4 & -5\n",
        "\\end{pmatrix}$$"
      ]
    },
    {
      "cell_type": "code",
      "metadata": {
        "id": "EHxnJ9_QK7dl",
        "outputId": "0bd2cd5a-29fc-48e9-a053-883be8793865",
        "colab": {
          "base_uri": "https://localhost:8080/"
        }
      },
      "source": [
        "H = [[4, 3, 2, 5], [-10, 2, 0, -1], [7, 5, 2, 3], [0, 8, -4, -5]]\n",
        "G = [[-4, 10, -7, 0], [-3, -2, -5, -8], [-2, 0, -2, 4], [-5, 1, -3, 5]]\n",
        "G2 = deriveMatrix(H)\n",
        "print(G)\n",
        "print(G2)\n",
        "strategyA, strategyB = solveMatrixGame((H, G))\n",
        "printGame((strategyA, strategyB), (H, G))\n",
        "v = gameValue((strategyA, strategyB), (H, G))\n",
        "print(v)"
      ],
      "execution_count": null,
      "outputs": [
        {
          "output_type": "stream",
          "text": [
            "[[-4, 10, -7, 0], [-3, -2, -5, -8], [-2, 0, -2, 4], [-5, 1, -3, 5]]\n",
            "[[-4, 10, -7, 0], [-3, -2, -5, -8], [-2, 0, -2, 4], [-5, 1, -3, 5]]\n",
            "\t0.00\t1.00\t0.00\t0.00\t\n",
            "0.00\t4\t3\t2\t5\t\n",
            "1.00\t-10\t2\t0\t-1\t\n",
            "0.00\t7\t5\t2\t3\t\n",
            "0.00\t0\t8\t-4\t-5\t\n",
            "1.9988000000000001\n"
          ],
          "name": "stdout"
        }
      ]
    },
    {
      "cell_type": "markdown",
      "metadata": {
        "id": "PHGFnTH0O-tC"
      },
      "source": [
        "$$A=\\begin{pmatrix}\n",
        "-10 & 2 & 0 & -1 \\\\\n",
        "7 & 5 & 2 & 3 \\\\\n",
        "4 & 3 & 2 & 5 \\\\\n",
        "0 & 8  & -4 & -5\n",
        "\\end{pmatrix}$$"
      ]
    },
    {
      "cell_type": "code",
      "metadata": {
        "id": "2UtxaR-uPCQ3",
        "outputId": "24585d5b-20af-4dfb-d596-627a754cec55",
        "colab": {
          "base_uri": "https://localhost:8080/"
        }
      },
      "source": [
        "H = [[0, 8, -4, -5], [7, 5, 2, 3], [-10, 2, 0, -1], [4, 3, 2, 5]]\n",
        "G = deriveMatrix(H)\n",
        "\n",
        "strategyA, strategyB = solveMatrixGame((H, G))\n",
        "printGame((strategyA, strategyB), (H, G))\n",
        "v = gameValue((strategyA, strategyB), (H, G))\n",
        "print(v)"
      ],
      "execution_count": null,
      "outputs": [
        {
          "output_type": "stream",
          "text": [
            "\t0.29\t0.00\t0.71\t0.00\t\n",
            "0.29\t0\t8\t-4\t-5\t\n",
            "0.00\t7\t5\t2\t3\t\n",
            "0.71\t-10\t2\t0\t-1\t\n",
            "0.00\t4\t3\t2\t5\t\n",
            "-2.85705714\n"
          ],
          "name": "stdout"
        }
      ]
    }
  ]
}